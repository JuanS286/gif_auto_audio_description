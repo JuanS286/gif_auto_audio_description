{
  "cells": [
    {
      "cell_type": "code",
      "execution_count": null,
      "metadata": {
        "colab": {
          "background_save": true,
          "base_uri": "https://localhost:8080/"
        },
        "id": "67Lx8z_WO_HE",
        "outputId": "42004dcd-dcd8-4193-8b4b-d5308f87bffa"
      },
      "outputs": [
        {
          "name": "stdout",
          "output_type": "stream",
          "text": [
            "root\n",
            " |-- gif_path: string (nullable = true)\n",
            " |-- description: string (nullable = true)\n",
            "\n",
            "Preprocessing complete. Processed frames are saved to the output directory.\n"
          ]
        }
      ],
      "source": [
        "import os\n",
        "import cv2\n",
        "import numpy as np\n",
        "from pyspark.sql import SparkSession\n",
        "from pyspark.sql.functions import udf\n",
        "from pyspark.sql.types import ArrayType, BinaryType, IntegerType\n",
        "\n",
        "def create_spark_session():\n",
        "    \"\"\"Initialize and return a Spark session.\"\"\"\n",
        "    return SparkSession.builder \\\n",
        "        .appName(\"GIF Preprocessing Pipeline\") \\\n",
        "        .config(\"spark.executor.memory\", \"4g\") \\\n",
        "        .config(\"spark.driver.memory\", \"4g\") \\\n",
        "        .getOrCreate()\n",
        "\n",
        "def extract_frames(gif_path):\n",
        "    \"\"\"Extract frames from a GIF file and resize them.\"\"\"\n",
        "    cap = cv2.VideoCapture(gif_path)\n",
        "    frames = []\n",
        "    while True:\n",
        "        ret, frame = cap.read()\n",
        "        if not ret:\n",
        "            break\n",
        "        # Resize the frame to a standard size (e.g., 224x224)\n",
        "        frame_resized = cv2.resize(frame, (224, 224))\n",
        "        # Encode the frame as binary\n",
        "        _, buffer = cv2.imencode(\".jpg\", frame_resized)\n",
        "        frames.append(buffer.tobytes())\n",
        "    cap.release()\n",
        "    return frames\n",
        "\n",
        "def save_frames_to_disk(frames, gif_id):\n",
        "    \"\"\"Save frames to disk as individual image files.\"\"\"\n",
        "    output_dir = f\"output/frames/{gif_id}\"\n",
        "    os.makedirs(output_dir, exist_ok=True)\n",
        "    for i, frame in enumerate(frames):\n",
        "        with open(f\"{output_dir}/frame_{i}.jpg\", \"wb\") as f:\n",
        "            f.write(frame)\n",
        "\n",
        "def main():\n",
        "    # Step 1: Create a Spark session\n",
        "    spark = create_spark_session()\n",
        "\n",
        "    # Step 2: Load the GIF metadata from the TSV file\n",
        "    gif_df = spark.read.csv(\"tgif.tsv\", sep=\"\\t\", header=False)\n",
        "\n",
        "    # Step 3: Assign proper column names\n",
        "    gif_df = gif_df.toDF(\"gif_path\", \"description\")\n",
        "\n",
        "    # Step 4: Display the schema for debugging\n",
        "    gif_df.printSchema()\n",
        "\n",
        "    # Step 5: Register a UDF for frame extraction\n",
        "    extract_frames_udf = udf(lambda gif: extract_frames(gif), ArrayType(BinaryType()))\n",
        "    gif_df = gif_df.withColumn(\"frames\", extract_frames_udf(gif_df[\"gif_path\"]))\n",
        "\n",
        "    # Step 6: Add a column for the number of frames\n",
        "    count_frames_udf = udf(lambda frames: len(frames), IntegerType())\n",
        "    gif_df = gif_df.withColumn(\"frame_count\", count_frames_udf(gif_df[\"frames\"]))\n",
        "\n",
        "    # Step 7: Save the frames to disk (optional)\n",
        "    save_udf = udf(lambda frames, gif_id: save_frames_to_disk(frames, gif_id))\n",
        "    gif_df = gif_df.withColumn(\"saved_frames\", save_udf(gif_df[\"frames\"], gif_df[\"gif_path\"]))\n",
        "\n",
        "    # Step 8: Save the processed data as Parquet files\n",
        "    gif_df.write.mode(\"overwrite\").format(\"parquet\").save(\"output/processed_frames\")\n",
        "\n",
        "\n",
        "    print(\"Preprocessing complete. Processed frames are saved to the output directory.\")\n",
        "\n",
        "if __name__ == \"__main__\":\n",
        "    main()\n"
      ]
    }
  ],
  "metadata": {
    "colab": {
      "provenance": []
    },
    "kernelspec": {
      "display_name": "Python 3",
      "name": "python3"
    },
    "language_info": {
      "name": "python"
    }
  },
  "nbformat": 4,
  "nbformat_minor": 0
}