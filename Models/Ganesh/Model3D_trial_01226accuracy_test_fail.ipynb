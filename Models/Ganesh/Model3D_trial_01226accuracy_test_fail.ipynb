{
 "cells": [
  {
   "cell_type": "code",
   "execution_count": 1,
   "id": "94b75941-3940-4507-a658-1f722308df25",
   "metadata": {
    "tags": []
   },
   "outputs": [
    {
     "name": "stdout",
     "output_type": "stream",
     "text": [
      "Requirement already satisfied: tensorflow in /opt/conda/lib/python3.10/site-packages (2.12.0)\n",
      "Collecting torch\n",
      "  Using cached torch-2.4.1-cp310-cp310-manylinux1_x86_64.whl.metadata (26 kB)\n",
      "Collecting transformers\n",
      "  Using cached transformers-4.45.2-py3-none-any.whl.metadata (44 kB)\n",
      "Requirement already satisfied: pandas in /opt/conda/lib/python3.10/site-packages (2.0.3)\n",
      "Collecting opencv-python-headless\n",
      "  Using cached opencv_python_headless-4.10.0.84-cp37-abi3-manylinux_2_17_x86_64.manylinux2014_x86_64.whl.metadata (20 kB)\n",
      "Requirement already satisfied: google-cloud-storage in /opt/conda/lib/python3.10/site-packages (2.14.0)\n",
      "Requirement already satisfied: matplotlib in /opt/conda/lib/python3.10/site-packages (3.7.3)\n",
      "Requirement already satisfied: absl-py>=1.0.0 in /opt/conda/lib/python3.10/site-packages (from tensorflow) (1.4.0)\n",
      "Requirement already satisfied: astunparse>=1.6.0 in /opt/conda/lib/python3.10/site-packages (from tensorflow) (1.6.3)\n",
      "Requirement already satisfied: flatbuffers>=2.0 in /opt/conda/lib/python3.10/site-packages (from tensorflow) (24.3.25)\n",
      "Requirement already satisfied: gast<=0.4.0,>=0.2.1 in /opt/conda/lib/python3.10/site-packages (from tensorflow) (0.4.0)\n",
      "Requirement already satisfied: google-pasta>=0.1.1 in /opt/conda/lib/python3.10/site-packages (from tensorflow) (0.2.0)\n",
      "Requirement already satisfied: grpcio<2.0,>=1.24.3 in /opt/conda/lib/python3.10/site-packages (from tensorflow) (1.48.0)\n",
      "Requirement already satisfied: h5py>=2.9.0 in /opt/conda/lib/python3.10/site-packages (from tensorflow) (3.11.0)\n",
      "Requirement already satisfied: jax>=0.3.15 in /opt/conda/lib/python3.10/site-packages (from tensorflow) (0.4.30)\n",
      "Requirement already satisfied: keras<2.13,>=2.12.0 in /opt/conda/lib/python3.10/site-packages (from tensorflow) (2.12.0)\n",
      "Requirement already satisfied: libclang>=13.0.0 in /opt/conda/lib/python3.10/site-packages (from tensorflow) (18.1.1)\n",
      "Requirement already satisfied: numpy<1.24,>=1.22 in /opt/conda/lib/python3.10/site-packages (from tensorflow) (1.23.5)\n",
      "Requirement already satisfied: opt-einsum>=2.3.2 in /opt/conda/lib/python3.10/site-packages (from tensorflow) (3.3.0)\n",
      "Requirement already satisfied: packaging in /opt/conda/lib/python3.10/site-packages (from tensorflow) (24.1)\n",
      "Requirement already satisfied: protobuf!=4.21.0,!=4.21.1,!=4.21.2,!=4.21.3,!=4.21.4,!=4.21.5,<5.0.0dev,>=3.20.3 in /opt/conda/lib/python3.10/site-packages (from tensorflow) (3.20.3)\n",
      "Requirement already satisfied: setuptools in /opt/conda/lib/python3.10/site-packages (from tensorflow) (74.1.2)\n",
      "Requirement already satisfied: six>=1.12.0 in /opt/conda/lib/python3.10/site-packages (from tensorflow) (1.16.0)\n",
      "Requirement already satisfied: tensorboard<2.13,>=2.12 in /opt/conda/lib/python3.10/site-packages (from tensorflow) (2.12.3)\n",
      "Requirement already satisfied: tensorflow-estimator<2.13,>=2.12.0 in /opt/conda/lib/python3.10/site-packages (from tensorflow) (2.12.0)\n",
      "Requirement already satisfied: termcolor>=1.1.0 in /opt/conda/lib/python3.10/site-packages (from tensorflow) (2.4.0)\n",
      "Requirement already satisfied: typing-extensions>=3.6.6 in /opt/conda/lib/python3.10/site-packages (from tensorflow) (4.12.2)\n",
      "Requirement already satisfied: wrapt<1.15,>=1.11.0 in /opt/conda/lib/python3.10/site-packages (from tensorflow) (1.14.1)\n",
      "Requirement already satisfied: tensorflow-io-gcs-filesystem>=0.23.1 in /opt/conda/lib/python3.10/site-packages (from tensorflow) (0.32.0)\n",
      "Requirement already satisfied: filelock in /opt/conda/lib/python3.10/site-packages (from torch) (3.16.1)\n",
      "Collecting sympy (from torch)\n",
      "  Using cached sympy-1.13.3-py3-none-any.whl.metadata (12 kB)\n",
      "Requirement already satisfied: networkx in /opt/conda/lib/python3.10/site-packages (from torch) (3.3)\n",
      "Requirement already satisfied: jinja2 in /opt/conda/lib/python3.10/site-packages (from torch) (3.1.4)\n",
      "Requirement already satisfied: fsspec in /opt/conda/lib/python3.10/site-packages (from torch) (2024.9.0)\n",
      "Collecting nvidia-cuda-nvrtc-cu12==12.1.105 (from torch)\n",
      "  Using cached nvidia_cuda_nvrtc_cu12-12.1.105-py3-none-manylinux1_x86_64.whl.metadata (1.5 kB)\n",
      "Collecting nvidia-cuda-runtime-cu12==12.1.105 (from torch)\n",
      "  Using cached nvidia_cuda_runtime_cu12-12.1.105-py3-none-manylinux1_x86_64.whl.metadata (1.5 kB)\n",
      "Collecting nvidia-cuda-cupti-cu12==12.1.105 (from torch)\n",
      "  Using cached nvidia_cuda_cupti_cu12-12.1.105-py3-none-manylinux1_x86_64.whl.metadata (1.6 kB)\n",
      "Collecting nvidia-cudnn-cu12==9.1.0.70 (from torch)\n",
      "  Using cached nvidia_cudnn_cu12-9.1.0.70-py3-none-manylinux2014_x86_64.whl.metadata (1.6 kB)\n",
      "Collecting nvidia-cublas-cu12==12.1.3.1 (from torch)\n",
      "  Using cached nvidia_cublas_cu12-12.1.3.1-py3-none-manylinux1_x86_64.whl.metadata (1.5 kB)\n",
      "Collecting nvidia-cufft-cu12==11.0.2.54 (from torch)\n",
      "  Using cached nvidia_cufft_cu12-11.0.2.54-py3-none-manylinux1_x86_64.whl.metadata (1.5 kB)\n",
      "Collecting nvidia-curand-cu12==10.3.2.106 (from torch)\n",
      "  Using cached nvidia_curand_cu12-10.3.2.106-py3-none-manylinux1_x86_64.whl.metadata (1.5 kB)\n",
      "Collecting nvidia-cusolver-cu12==11.4.5.107 (from torch)\n",
      "  Using cached nvidia_cusolver_cu12-11.4.5.107-py3-none-manylinux1_x86_64.whl.metadata (1.6 kB)\n",
      "Collecting nvidia-cusparse-cu12==12.1.0.106 (from torch)\n",
      "  Using cached nvidia_cusparse_cu12-12.1.0.106-py3-none-manylinux1_x86_64.whl.metadata (1.6 kB)\n",
      "Collecting nvidia-nccl-cu12==2.20.5 (from torch)\n",
      "  Using cached nvidia_nccl_cu12-2.20.5-py3-none-manylinux2014_x86_64.whl.metadata (1.8 kB)\n",
      "Collecting nvidia-nvtx-cu12==12.1.105 (from torch)\n",
      "  Using cached nvidia_nvtx_cu12-12.1.105-py3-none-manylinux1_x86_64.whl.metadata (1.7 kB)\n",
      "Collecting triton==3.0.0 (from torch)\n",
      "  Using cached triton-3.0.0-1-cp310-cp310-manylinux2014_x86_64.manylinux_2_17_x86_64.whl.metadata (1.3 kB)\n",
      "Collecting nvidia-nvjitlink-cu12 (from nvidia-cusolver-cu12==11.4.5.107->torch)\n",
      "  Using cached nvidia_nvjitlink_cu12-12.6.77-py3-none-manylinux2014_x86_64.whl.metadata (1.5 kB)\n",
      "Collecting huggingface-hub<1.0,>=0.23.2 (from transformers)\n",
      "  Using cached huggingface_hub-0.25.2-py3-none-any.whl.metadata (13 kB)\n",
      "Requirement already satisfied: pyyaml>=5.1 in /opt/conda/lib/python3.10/site-packages (from transformers) (6.0.2)\n",
      "Requirement already satisfied: regex!=2019.12.17 in /opt/conda/lib/python3.10/site-packages (from transformers) (2024.9.11)\n",
      "Requirement already satisfied: requests in /opt/conda/lib/python3.10/site-packages (from transformers) (2.32.3)\n",
      "Collecting safetensors>=0.4.1 (from transformers)\n",
      "  Using cached safetensors-0.4.5-cp310-cp310-manylinux_2_17_x86_64.manylinux2014_x86_64.whl.metadata (3.8 kB)\n",
      "Collecting tokenizers<0.21,>=0.20 (from transformers)\n",
      "  Using cached tokenizers-0.20.1-cp310-cp310-manylinux_2_17_x86_64.manylinux2014_x86_64.whl.metadata (6.7 kB)\n",
      "Requirement already satisfied: tqdm>=4.27 in /opt/conda/lib/python3.10/site-packages (from transformers) (4.66.5)\n",
      "Requirement already satisfied: python-dateutil>=2.8.2 in /opt/conda/lib/python3.10/site-packages (from pandas) (2.9.0)\n",
      "Requirement already satisfied: pytz>=2020.1 in /opt/conda/lib/python3.10/site-packages (from pandas) (2024.2)\n",
      "Requirement already satisfied: tzdata>=2022.1 in /opt/conda/lib/python3.10/site-packages (from pandas) (2024.1)\n",
      "Requirement already satisfied: google-auth<3.0dev,>=2.23.3 in /opt/conda/lib/python3.10/site-packages (from google-cloud-storage) (2.35.0)\n",
      "Requirement already satisfied: google-api-core!=2.0.*,!=2.1.*,!=2.2.*,!=2.3.0,<3.0.0dev,>=1.31.5 in /opt/conda/lib/python3.10/site-packages (from google-cloud-storage) (1.34.1)\n",
      "Requirement already satisfied: google-cloud-core<3.0dev,>=2.3.0 in /opt/conda/lib/python3.10/site-packages (from google-cloud-storage) (2.4.1)\n",
      "Requirement already satisfied: google-resumable-media>=2.6.0 in /opt/conda/lib/python3.10/site-packages (from google-cloud-storage) (2.7.2)\n",
      "Requirement already satisfied: google-crc32c<2.0dev,>=1.0 in /opt/conda/lib/python3.10/site-packages (from google-cloud-storage) (1.6.0)\n",
      "Requirement already satisfied: contourpy>=1.0.1 in /opt/conda/lib/python3.10/site-packages (from matplotlib) (1.3.0)\n",
      "Requirement already satisfied: cycler>=0.10 in /opt/conda/lib/python3.10/site-packages (from matplotlib) (0.12.1)\n",
      "Requirement already satisfied: fonttools>=4.22.0 in /opt/conda/lib/python3.10/site-packages (from matplotlib) (4.53.1)\n",
      "Requirement already satisfied: kiwisolver>=1.0.1 in /opt/conda/lib/python3.10/site-packages (from matplotlib) (1.4.7)\n",
      "Requirement already satisfied: pillow>=6.2.0 in /opt/conda/lib/python3.10/site-packages (from matplotlib) (10.4.0)\n",
      "Requirement already satisfied: pyparsing>=2.3.1 in /opt/conda/lib/python3.10/site-packages (from matplotlib) (3.1.4)\n",
      "Requirement already satisfied: wheel<1.0,>=0.23.0 in /opt/conda/lib/python3.10/site-packages (from astunparse>=1.6.0->tensorflow) (0.44.0)\n",
      "Requirement already satisfied: googleapis-common-protos<2.0dev,>=1.56.2 in /opt/conda/lib/python3.10/site-packages (from google-api-core!=2.0.*,!=2.1.*,!=2.2.*,!=2.3.0,<3.0.0dev,>=1.31.5->google-cloud-storage) (1.65.0)\n",
      "Requirement already satisfied: cachetools<6.0,>=2.0.0 in /opt/conda/lib/python3.10/site-packages (from google-auth<3.0dev,>=2.23.3->google-cloud-storage) (4.2.4)\n",
      "Requirement already satisfied: pyasn1-modules>=0.2.1 in /opt/conda/lib/python3.10/site-packages (from google-auth<3.0dev,>=2.23.3->google-cloud-storage) (0.4.1)\n",
      "Requirement already satisfied: rsa<5,>=3.1.4 in /opt/conda/lib/python3.10/site-packages (from google-auth<3.0dev,>=2.23.3->google-cloud-storage) (4.9)\n",
      "Requirement already satisfied: jaxlib<=0.4.30,>=0.4.27 in /opt/conda/lib/python3.10/site-packages (from jax>=0.3.15->tensorflow) (0.4.30)\n",
      "Requirement already satisfied: ml-dtypes>=0.2.0 in /opt/conda/lib/python3.10/site-packages (from jax>=0.3.15->tensorflow) (0.5.0)\n",
      "Requirement already satisfied: scipy>=1.9 in /opt/conda/lib/python3.10/site-packages (from jax>=0.3.15->tensorflow) (1.11.4)\n",
      "Requirement already satisfied: charset-normalizer<4,>=2 in /opt/conda/lib/python3.10/site-packages (from requests->transformers) (3.3.2)\n",
      "Requirement already satisfied: idna<4,>=2.5 in /opt/conda/lib/python3.10/site-packages (from requests->transformers) (3.10)\n",
      "Requirement already satisfied: urllib3<3,>=1.21.1 in /opt/conda/lib/python3.10/site-packages (from requests->transformers) (1.26.20)\n",
      "Requirement already satisfied: certifi>=2017.4.17 in /opt/conda/lib/python3.10/site-packages (from requests->transformers) (2024.8.30)\n",
      "Collecting grpcio<2.0,>=1.24.3 (from tensorflow)\n",
      "  Using cached grpcio-1.66.2-cp310-cp310-manylinux_2_17_x86_64.manylinux2014_x86_64.whl.metadata (3.9 kB)\n",
      "Requirement already satisfied: google-auth-oauthlib<1.1,>=0.5 in /opt/conda/lib/python3.10/site-packages (from tensorboard<2.13,>=2.12->tensorflow) (1.0.0)\n",
      "Requirement already satisfied: markdown>=2.6.8 in /opt/conda/lib/python3.10/site-packages (from tensorboard<2.13,>=2.12->tensorflow) (3.7)\n",
      "Requirement already satisfied: tensorboard-data-server<0.8.0,>=0.7.0 in /opt/conda/lib/python3.10/site-packages (from tensorboard<2.13,>=2.12->tensorflow) (0.7.2)\n",
      "Requirement already satisfied: werkzeug>=1.0.1 in /opt/conda/lib/python3.10/site-packages (from tensorboard<2.13,>=2.12->tensorflow) (2.1.2)\n",
      "Requirement already satisfied: MarkupSafe>=2.0 in /opt/conda/lib/python3.10/site-packages (from jinja2->torch) (2.0.1)\n",
      "Collecting mpmath<1.4,>=1.1.0 (from sympy->torch)\n",
      "  Using cached mpmath-1.3.0-py3-none-any.whl.metadata (8.6 kB)\n",
      "Requirement already satisfied: requests-oauthlib>=0.7.0 in /opt/conda/lib/python3.10/site-packages (from google-auth-oauthlib<1.1,>=0.5->tensorboard<2.13,>=2.12->tensorflow) (2.0.0)\n",
      "Requirement already satisfied: pyasn1<0.7.0,>=0.4.6 in /opt/conda/lib/python3.10/site-packages (from pyasn1-modules>=0.2.1->google-auth<3.0dev,>=2.23.3->google-cloud-storage) (0.6.1)\n",
      "Requirement already satisfied: oauthlib>=3.0.0 in /opt/conda/lib/python3.10/site-packages (from requests-oauthlib>=0.7.0->google-auth-oauthlib<1.1,>=0.5->tensorboard<2.13,>=2.12->tensorflow) (3.2.2)\n",
      "Using cached torch-2.4.1-cp310-cp310-manylinux1_x86_64.whl (797.1 MB)\n",
      "Using cached nvidia_cublas_cu12-12.1.3.1-py3-none-manylinux1_x86_64.whl (410.6 MB)\n",
      "Using cached nvidia_cuda_cupti_cu12-12.1.105-py3-none-manylinux1_x86_64.whl (14.1 MB)\n",
      "Using cached nvidia_cuda_nvrtc_cu12-12.1.105-py3-none-manylinux1_x86_64.whl (23.7 MB)\n",
      "Using cached nvidia_cuda_runtime_cu12-12.1.105-py3-none-manylinux1_x86_64.whl (823 kB)\n",
      "Using cached nvidia_cudnn_cu12-9.1.0.70-py3-none-manylinux2014_x86_64.whl (664.8 MB)\n",
      "Using cached nvidia_cufft_cu12-11.0.2.54-py3-none-manylinux1_x86_64.whl (121.6 MB)\n",
      "Using cached nvidia_curand_cu12-10.3.2.106-py3-none-manylinux1_x86_64.whl (56.5 MB)\n",
      "Using cached nvidia_cusolver_cu12-11.4.5.107-py3-none-manylinux1_x86_64.whl (124.2 MB)\n",
      "Using cached nvidia_cusparse_cu12-12.1.0.106-py3-none-manylinux1_x86_64.whl (196.0 MB)\n",
      "Using cached nvidia_nccl_cu12-2.20.5-py3-none-manylinux2014_x86_64.whl (176.2 MB)\n",
      "Using cached nvidia_nvtx_cu12-12.1.105-py3-none-manylinux1_x86_64.whl (99 kB)\n",
      "Using cached triton-3.0.0-1-cp310-cp310-manylinux2014_x86_64.manylinux_2_17_x86_64.whl (209.4 MB)\n",
      "Using cached transformers-4.45.2-py3-none-any.whl (9.9 MB)\n",
      "Using cached opencv_python_headless-4.10.0.84-cp37-abi3-manylinux_2_17_x86_64.manylinux2014_x86_64.whl (49.9 MB)\n",
      "Using cached huggingface_hub-0.25.2-py3-none-any.whl (436 kB)\n",
      "Using cached safetensors-0.4.5-cp310-cp310-manylinux_2_17_x86_64.manylinux2014_x86_64.whl (435 kB)\n",
      "Using cached grpcio-1.66.2-cp310-cp310-manylinux_2_17_x86_64.manylinux2014_x86_64.whl (5.8 MB)\n",
      "Using cached tokenizers-0.20.1-cp310-cp310-manylinux_2_17_x86_64.manylinux2014_x86_64.whl (3.0 MB)\n",
      "Using cached sympy-1.13.3-py3-none-any.whl (6.2 MB)\n",
      "Using cached mpmath-1.3.0-py3-none-any.whl (536 kB)\n",
      "Using cached nvidia_nvjitlink_cu12-12.6.77-py3-none-manylinux2014_x86_64.whl (19.7 MB)\n",
      "Installing collected packages: mpmath, triton, sympy, safetensors, opencv-python-headless, nvidia-nvtx-cu12, nvidia-nvjitlink-cu12, nvidia-nccl-cu12, nvidia-curand-cu12, nvidia-cufft-cu12, nvidia-cuda-runtime-cu12, nvidia-cuda-nvrtc-cu12, nvidia-cuda-cupti-cu12, nvidia-cublas-cu12, grpcio, nvidia-cusparse-cu12, nvidia-cudnn-cu12, huggingface-hub, tokenizers, nvidia-cusolver-cu12, transformers, torch\n",
      "  Attempting uninstall: grpcio\n",
      "    Found existing installation: grpcio 1.48.0\n",
      "    Uninstalling grpcio-1.48.0:\n",
      "      Successfully uninstalled grpcio-1.48.0\n",
      "Successfully installed grpcio-1.66.1 huggingface-hub-0.25.2 mpmath-1.3.0 nvidia-cublas-cu12-12.1.3.1 nvidia-cuda-cupti-cu12-12.1.105 nvidia-cuda-nvrtc-cu12-12.1.105 nvidia-cuda-runtime-cu12-12.1.105 nvidia-cudnn-cu12-9.1.0.70 nvidia-cufft-cu12-11.0.2.54 nvidia-curand-cu12-10.3.2.106 nvidia-cusolver-cu12-11.4.5.107 nvidia-cusparse-cu12-12.1.0.106 nvidia-nccl-cu12-2.20.5 nvidia-nvjitlink-cu12-12.6.77 nvidia-nvtx-cu12-12.1.105 opencv-python-headless-4.10.0.84 safetensors-0.4.5 sympy-1.13.3 tokenizers-0.20.1 torch-2.4.1 transformers-4.45.2 triton-3.0.0\n",
      "Note: you may need to restart the kernel to use updated packages.\n"
     ]
    }
   ],
   "source": [
    "pip install tensorflow torch transformers pandas opencv-python-headless google-cloud-storage matplotlib\n"
   ]
  },
  {
   "cell_type": "code",
   "execution_count": 2,
   "id": "b547ba02-8b13-41b8-996c-3d6bfe2f0909",
   "metadata": {
    "tags": []
   },
   "outputs": [
    {
     "name": "stderr",
     "output_type": "stream",
     "text": [
      "2024-10-14 02:01:50.540660: I tensorflow/core/platform/cpu_feature_guard.cc:182] This TensorFlow binary is optimized to use available CPU instructions in performance-critical operations.\n",
      "To enable the following instructions: AVX2 FMA, in other operations, rebuild TensorFlow with the appropriate compiler flags.\n"
     ]
    },
    {
     "name": "stdout",
     "output_type": "stream",
     "text": [
      "GPUs Available: 1 - ['/physical_device:GPU:0']\n"
     ]
    },
    {
     "name": "stderr",
     "output_type": "stream",
     "text": [
      "2024-10-14 02:02:39.956966: I tensorflow/compiler/xla/stream_executor/cuda/cuda_gpu_executor.cc:996] successful NUMA node read from SysFS had negative value (-1), but there must be at least one NUMA node, so returning NUMA node zero. See more at https://github.com/torvalds/linux/blob/v6.0/Documentation/ABI/testing/sysfs-bus-pci#L344-L355\n",
      "2024-10-14 02:02:45.467838: I tensorflow/compiler/xla/stream_executor/cuda/cuda_gpu_executor.cc:996] successful NUMA node read from SysFS had negative value (-1), but there must be at least one NUMA node, so returning NUMA node zero. See more at https://github.com/torvalds/linux/blob/v6.0/Documentation/ABI/testing/sysfs-bus-pci#L344-L355\n",
      "2024-10-14 02:02:45.473300: I tensorflow/compiler/xla/stream_executor/cuda/cuda_gpu_executor.cc:996] successful NUMA node read from SysFS had negative value (-1), but there must be at least one NUMA node, so returning NUMA node zero. See more at https://github.com/torvalds/linux/blob/v6.0/Documentation/ABI/testing/sysfs-bus-pci#L344-L355\n"
     ]
    }
   ],
   "source": [
    "import tensorflow as tf\n",
    "\n",
    "gpus = tf.config.list_physical_devices('GPU')\n",
    "if gpus:\n",
    "    print(\"GPUs Available:\", len(gpus), \"-\", [gpu.name for gpu in gpus])\n",
    "else:\n",
    "    print(\"No GPU detected.\")\n"
   ]
  },
  {
   "cell_type": "code",
   "execution_count": 3,
   "id": "6da569e5-2a7b-4d21-9496-72a2c0047bd9",
   "metadata": {
    "tags": []
   },
   "outputs": [],
   "source": [
    "import tensorflow as tf\n",
    "import torch\n",
    "from transformers import T5Tokenizer\n",
    "import pandas as pd\n",
    "import cv2\n",
    "from google.cloud import storage\n",
    "import matplotlib\n"
   ]
  },
  {
   "cell_type": "code",
   "execution_count": 4,
   "id": "7fd8490f-f7d0-4b9d-9373-587fcc45c91a",
   "metadata": {
    "tags": []
   },
   "outputs": [
    {
     "name": "stdout",
     "output_type": "stream",
     "text": [
      "   Unnamed: 0                                              links  \\\n",
      "0           1  https://38.media.tumblr.com/9f6c25cc350f12aa74...   \n",
      "1           2  https://38.media.tumblr.com/9ead028ef62004ef6a...   \n",
      "2           3  https://38.media.tumblr.com/9f43dc410be85b1159...   \n",
      "3           4  https://38.media.tumblr.com/9f659499c8754e40cf...   \n",
      "4           5  https://38.media.tumblr.com/9ed1c99afa7d714118...   \n",
      "\n",
      "                                         description  \n",
      "0  a man is glaring, and someone with sunglasses ...  \n",
      "1           a cat tries to catch a mouse on a tablet  \n",
      "2                   a man dressed in red is dancing.  \n",
      "3     an animal comes close to another in the jungle  \n",
      "4  a man in a hat adjusts his tie and makes a wei...  \n"
     ]
    }
   ],
   "source": [
    "import pandas as pd\n",
    "from google.cloud import storage\n",
    "\n",
    "# Set up the Google Cloud Storage client\n",
    "client = storage.Client()\n",
    "bucket = client.bucket('whathegifbucket')\n",
    "blob = bucket.blob('tgif-v2.0.tsv')\n",
    "blob.download_to_filename('tgif-v2.0.tsv')\n",
    "\n",
    "# Load the dataset\n",
    "df = pd.read_csv('tgif-v2.0.tsv', sep='\\t')\n",
    "\n",
    "# Show the first few rows of the dataset for verification\n",
    "print(df.head())\n"
   ]
  },
  {
   "cell_type": "code",
   "execution_count": 5,
   "id": "6ed6d728-2b2b-4eb8-90dc-72b6a2f5770c",
   "metadata": {
    "tags": []
   },
   "outputs": [],
   "source": [
    "# Select the first 100 GIFs for initial processing\n",
    "sample_df = df.head(100)\n"
   ]
  },
  {
   "cell_type": "code",
   "execution_count": 6,
   "id": "8903a5be-d3a5-4849-920f-94fa33c17fd1",
   "metadata": {
    "tags": []
   },
   "outputs": [
    {
     "name": "stdout",
     "output_type": "stream",
     "text": [
      "Tensor shape: (32, 224, 224, 3)\n"
     ]
    }
   ],
   "source": [
    "import cv2\n",
    "import numpy as np\n",
    "\n",
    "# Example function to extract frames from a GIF URL and convert to a tensor\n",
    "def url_to_tensor(url, num_frames=32, frame_size=(224, 224)):\n",
    "    cap = cv2.VideoCapture(url)\n",
    "    frames = []\n",
    "\n",
    "    while True:\n",
    "        ret, frame = cap.read()\n",
    "        if not ret or len(frames) >= num_frames:\n",
    "            break\n",
    "        frame_resized = cv2.resize(frame, frame_size)\n",
    "        frames.append(frame_resized)\n",
    "\n",
    "    cap.release()\n",
    "    \n",
    "    # Pad with empty frames if fewer than num_frames extracted\n",
    "    while len(frames) < num_frames:\n",
    "        frames.append(np.zeros((frame_size[0], frame_size[1], 3), dtype=np.uint8))\n",
    "\n",
    "    return np.array(frames, dtype=np.float32)\n",
    "\n",
    "# Testing with one URL from the subset\n",
    "url_example = sample_df['links'].iloc[0]\n",
    "tensor_example = url_to_tensor(url_example)\n",
    "\n",
    "# Print tensor shape to verify\n",
    "print(\"Tensor shape:\", tensor_example.shape)\n"
   ]
  },
  {
   "cell_type": "code",
   "execution_count": 7,
   "id": "c169a6a7-fd38-47d3-9269-27ec17f8efa3",
   "metadata": {
    "tags": []
   },
   "outputs": [
    {
     "name": "stdout",
     "output_type": "stream",
     "text": [
      "Processed and uploaded tensor for GIF ID: 1\n",
      "Processed and uploaded tensor for GIF ID: 2\n",
      "Processed and uploaded tensor for GIF ID: 3\n",
      "Processed and uploaded tensor for GIF ID: 4\n",
      "Processed and uploaded tensor for GIF ID: 5\n",
      "Processed and uploaded tensor for GIF ID: 6\n",
      "Processed and uploaded tensor for GIF ID: 7\n",
      "Processed and uploaded tensor for GIF ID: 8\n",
      "Processed and uploaded tensor for GIF ID: 9\n",
      "Processed and uploaded tensor for GIF ID: 10\n",
      "Processed and uploaded tensor for GIF ID: 11\n",
      "Processed and uploaded tensor for GIF ID: 12\n",
      "Processed and uploaded tensor for GIF ID: 13\n",
      "Processed and uploaded tensor for GIF ID: 14\n",
      "Processed and uploaded tensor for GIF ID: 15\n",
      "Processed and uploaded tensor for GIF ID: 16\n",
      "Processed and uploaded tensor for GIF ID: 17\n",
      "Processed and uploaded tensor for GIF ID: 18\n",
      "Processed and uploaded tensor for GIF ID: 19\n",
      "Processed and uploaded tensor for GIF ID: 20\n",
      "Processed and uploaded tensor for GIF ID: 21\n",
      "Processed and uploaded tensor for GIF ID: 22\n",
      "Processed and uploaded tensor for GIF ID: 23\n",
      "Processed and uploaded tensor for GIF ID: 24\n",
      "Processed and uploaded tensor for GIF ID: 25\n",
      "Processed and uploaded tensor for GIF ID: 26\n",
      "Processed and uploaded tensor for GIF ID: 27\n",
      "Processed and uploaded tensor for GIF ID: 28\n",
      "Processed and uploaded tensor for GIF ID: 29\n",
      "Processed and uploaded tensor for GIF ID: 30\n",
      "Processed and uploaded tensor for GIF ID: 31\n",
      "Processed and uploaded tensor for GIF ID: 32\n",
      "Processed and uploaded tensor for GIF ID: 33\n",
      "Processed and uploaded tensor for GIF ID: 34\n",
      "Processed and uploaded tensor for GIF ID: 35\n",
      "Processed and uploaded tensor for GIF ID: 36\n",
      "Processed and uploaded tensor for GIF ID: 37\n",
      "Processed and uploaded tensor for GIF ID: 38\n",
      "Processed and uploaded tensor for GIF ID: 39\n",
      "Processed and uploaded tensor for GIF ID: 40\n",
      "Processed and uploaded tensor for GIF ID: 41\n",
      "Processed and uploaded tensor for GIF ID: 42\n",
      "Processed and uploaded tensor for GIF ID: 43\n",
      "Processed and uploaded tensor for GIF ID: 44\n",
      "Processed and uploaded tensor for GIF ID: 45\n",
      "Processed and uploaded tensor for GIF ID: 46\n",
      "Processed and uploaded tensor for GIF ID: 47\n",
      "Processed and uploaded tensor for GIF ID: 48\n",
      "Processed and uploaded tensor for GIF ID: 49\n",
      "Processed and uploaded tensor for GIF ID: 50\n",
      "Processed and uploaded tensor for GIF ID: 51\n",
      "Processed and uploaded tensor for GIF ID: 52\n",
      "Processed and uploaded tensor for GIF ID: 53\n",
      "Processed and uploaded tensor for GIF ID: 54\n",
      "Processed and uploaded tensor for GIF ID: 55\n",
      "Processed and uploaded tensor for GIF ID: 56\n",
      "Processed and uploaded tensor for GIF ID: 57\n",
      "Processed and uploaded tensor for GIF ID: 58\n",
      "Processed and uploaded tensor for GIF ID: 59\n",
      "Processed and uploaded tensor for GIF ID: 60\n",
      "Processed and uploaded tensor for GIF ID: 61\n",
      "Processed and uploaded tensor for GIF ID: 62\n",
      "Processed and uploaded tensor for GIF ID: 63\n",
      "Processed and uploaded tensor for GIF ID: 64\n",
      "Processed and uploaded tensor for GIF ID: 65\n",
      "Processed and uploaded tensor for GIF ID: 66\n",
      "Processed and uploaded tensor for GIF ID: 67\n",
      "Processed and uploaded tensor for GIF ID: 68\n",
      "Processed and uploaded tensor for GIF ID: 69\n",
      "Processed and uploaded tensor for GIF ID: 70\n",
      "Processed and uploaded tensor for GIF ID: 71\n",
      "Processed and uploaded tensor for GIF ID: 72\n",
      "Processed and uploaded tensor for GIF ID: 73\n",
      "Processed and uploaded tensor for GIF ID: 74\n",
      "Processed and uploaded tensor for GIF ID: 75\n",
      "Processed and uploaded tensor for GIF ID: 76\n",
      "Processed and uploaded tensor for GIF ID: 77\n",
      "Processed and uploaded tensor for GIF ID: 78\n",
      "Processed and uploaded tensor for GIF ID: 79\n",
      "Processed and uploaded tensor for GIF ID: 80\n",
      "Processed and uploaded tensor for GIF ID: 81\n",
      "Processed and uploaded tensor for GIF ID: 82\n",
      "Processed and uploaded tensor for GIF ID: 83\n",
      "Processed and uploaded tensor for GIF ID: 84\n",
      "Processed and uploaded tensor for GIF ID: 85\n",
      "Processed and uploaded tensor for GIF ID: 86\n",
      "Processed and uploaded tensor for GIF ID: 87\n",
      "Processed and uploaded tensor for GIF ID: 88\n",
      "Processed and uploaded tensor for GIF ID: 89\n",
      "Processed and uploaded tensor for GIF ID: 90\n",
      "Processed and uploaded tensor for GIF ID: 91\n",
      "Processed and uploaded tensor for GIF ID: 92\n",
      "Processed and uploaded tensor for GIF ID: 93\n",
      "Processed and uploaded tensor for GIF ID: 94\n",
      "Processed and uploaded tensor for GIF ID: 95\n",
      "Processed and uploaded tensor for GIF ID: 96\n",
      "Processed and uploaded tensor for GIF ID: 97\n",
      "Processed and uploaded tensor for GIF ID: 98\n",
      "Processed and uploaded tensor for GIF ID: 99\n",
      "Processed and uploaded tensor for GIF ID: 100\n",
      "All tensors processed and metadata saved.\n"
     ]
    }
   ],
   "source": [
    "import json\n",
    "import os\n",
    "\n",
    "# Create local directory to store temporary tensor files\n",
    "os.makedirs('processed_data', exist_ok=True)\n",
    "\n",
    "# Create a dictionary to store metadata\n",
    "metadata = {}\n",
    "\n",
    "# Process each GIF and save tensor\n",
    "for idx, row in sample_df.iterrows():\n",
    "    gif_id = row['Unnamed: 0']\n",
    "    url = row['links']\n",
    "    description = row['description']\n",
    "\n",
    "    # Extract frames and convert to tensor\n",
    "    tensor = url_to_tensor(url)\n",
    "\n",
    "    # Save the tensor locally\n",
    "    tensor_filename = f'processed_data/gif_{gif_id}_tensor.npy'\n",
    "    np.save(tensor_filename, tensor)\n",
    "\n",
    "    # Upload the tensor to GCS\n",
    "    blob = bucket.blob(f'processed_data/gif_{gif_id}_tensor.npy')\n",
    "    blob.upload_from_filename(tensor_filename)\n",
    "\n",
    "    # Save metadata\n",
    "    metadata[gif_id] = {\n",
    "        'tensor_path': f'gs://whathegifbucket/processed_data/gif_{gif_id}_tensor.npy',\n",
    "        'description': description,\n",
    "        'url': url\n",
    "    }\n",
    "\n",
    "    # Print progress\n",
    "    print(f'Processed and uploaded tensor for GIF ID: {gif_id}')\n",
    "\n",
    "# Save metadata to JSON file\n",
    "metadata_filename = 'processed_data/metadata.json'\n",
    "with open(metadata_filename, 'w') as f:\n",
    "    json.dump(metadata, f)\n",
    "\n",
    "# Upload metadata JSON to GCS\n",
    "blob = bucket.blob('processed_data/metadata.json')\n",
    "blob.upload_from_filename(metadata_filename)\n",
    "\n",
    "print(\"All tensors processed and metadata saved.\")\n"
   ]
  },
  {
   "cell_type": "code",
   "execution_count": 8,
   "id": "b0f25f09-5b68-49b1-a2d6-9ff496209449",
   "metadata": {
    "tags": []
   },
   "outputs": [
    {
     "name": "stdout",
     "output_type": "stream",
     "text": [
      "Files in 'processed_data/' folder:\n",
      "processed_data/gif_100_tensor.npy\n",
      "processed_data/gif_10_tensor.npy\n",
      "processed_data/gif_11_tensor.npy\n",
      "processed_data/gif_12_tensor.npy\n",
      "processed_data/gif_13_tensor.npy\n",
      "processed_data/gif_14_tensor.npy\n",
      "processed_data/gif_15_tensor.npy\n",
      "processed_data/gif_16_tensor.npy\n",
      "processed_data/gif_17_tensor.npy\n",
      "processed_data/gif_18_tensor.npy\n",
      "processed_data/gif_19_tensor.npy\n",
      "processed_data/gif_1_tensor.npy\n",
      "processed_data/gif_20_tensor.npy\n",
      "processed_data/gif_21_tensor.npy\n",
      "processed_data/gif_22_tensor.npy\n",
      "processed_data/gif_23_tensor.npy\n",
      "processed_data/gif_24_tensor.npy\n",
      "processed_data/gif_25_tensor.npy\n",
      "processed_data/gif_26_tensor.npy\n",
      "processed_data/gif_27_tensor.npy\n",
      "processed_data/gif_28_tensor.npy\n",
      "processed_data/gif_29_tensor.npy\n",
      "processed_data/gif_2_tensor.npy\n",
      "processed_data/gif_30_tensor.npy\n",
      "processed_data/gif_31_tensor.npy\n",
      "processed_data/gif_32_tensor.npy\n",
      "processed_data/gif_33_tensor.npy\n",
      "processed_data/gif_34_tensor.npy\n",
      "processed_data/gif_35_tensor.npy\n",
      "processed_data/gif_36_tensor.npy\n",
      "processed_data/gif_37_tensor.npy\n",
      "processed_data/gif_38_tensor.npy\n",
      "processed_data/gif_39_tensor.npy\n",
      "processed_data/gif_3_tensor.npy\n",
      "processed_data/gif_40_tensor.npy\n",
      "processed_data/gif_41_tensor.npy\n",
      "processed_data/gif_42_tensor.npy\n",
      "processed_data/gif_43_tensor.npy\n",
      "processed_data/gif_44_tensor.npy\n",
      "processed_data/gif_45_tensor.npy\n",
      "processed_data/gif_46_tensor.npy\n",
      "processed_data/gif_47_tensor.npy\n",
      "processed_data/gif_48_tensor.npy\n",
      "processed_data/gif_49_tensor.npy\n",
      "processed_data/gif_4_tensor.npy\n",
      "processed_data/gif_50_tensor.npy\n",
      "processed_data/gif_51_tensor.npy\n",
      "processed_data/gif_52_tensor.npy\n",
      "processed_data/gif_53_tensor.npy\n",
      "processed_data/gif_54_tensor.npy\n",
      "processed_data/gif_55_tensor.npy\n",
      "processed_data/gif_56_tensor.npy\n",
      "processed_data/gif_57_tensor.npy\n",
      "processed_data/gif_58_tensor.npy\n",
      "processed_data/gif_59_tensor.npy\n",
      "processed_data/gif_5_tensor.npy\n",
      "processed_data/gif_60_tensor.npy\n",
      "processed_data/gif_61_tensor.npy\n",
      "processed_data/gif_62_tensor.npy\n",
      "processed_data/gif_63_tensor.npy\n",
      "processed_data/gif_64_tensor.npy\n",
      "processed_data/gif_65_tensor.npy\n",
      "processed_data/gif_66_tensor.npy\n",
      "processed_data/gif_67_tensor.npy\n",
      "processed_data/gif_68_tensor.npy\n",
      "processed_data/gif_69_tensor.npy\n",
      "processed_data/gif_6_tensor.npy\n",
      "processed_data/gif_70_tensor.npy\n",
      "processed_data/gif_71_tensor.npy\n",
      "processed_data/gif_72_tensor.npy\n",
      "processed_data/gif_73_tensor.npy\n",
      "processed_data/gif_74_tensor.npy\n",
      "processed_data/gif_75_tensor.npy\n",
      "processed_data/gif_76_tensor.npy\n",
      "processed_data/gif_77_tensor.npy\n",
      "processed_data/gif_78_tensor.npy\n",
      "processed_data/gif_79_tensor.npy\n",
      "processed_data/gif_7_tensor.npy\n",
      "processed_data/gif_80_tensor.npy\n",
      "processed_data/gif_81_tensor.npy\n",
      "processed_data/gif_82_tensor.npy\n",
      "processed_data/gif_83_tensor.npy\n",
      "processed_data/gif_84_tensor.npy\n",
      "processed_data/gif_85_tensor.npy\n",
      "processed_data/gif_86_tensor.npy\n",
      "processed_data/gif_87_tensor.npy\n",
      "processed_data/gif_88_tensor.npy\n",
      "processed_data/gif_89_tensor.npy\n",
      "processed_data/gif_8_tensor.npy\n",
      "processed_data/gif_90_tensor.npy\n",
      "processed_data/gif_91_tensor.npy\n",
      "processed_data/gif_92_tensor.npy\n",
      "processed_data/gif_93_tensor.npy\n",
      "processed_data/gif_94_tensor.npy\n",
      "processed_data/gif_95_tensor.npy\n",
      "processed_data/gif_96_tensor.npy\n",
      "processed_data/gif_97_tensor.npy\n",
      "processed_data/gif_98_tensor.npy\n",
      "processed_data/gif_99_tensor.npy\n",
      "processed_data/gif_9_tensor.npy\n",
      "processed_data/metadata.json\n",
      "processed_data/test/gif_tensors_test.npy\n",
      "processed_data/train/gif_tensors_train.npy\n",
      "processed_data/validation/gif_tensors_val.npy\n"
     ]
    }
   ],
   "source": [
    "# List files in the 'processed_data/' folder of the GCS bucket\n",
    "blobs = bucket.list_blobs(prefix='processed_data/')\n",
    "print(\"Files in 'processed_data/' folder:\")\n",
    "for blob in blobs:\n",
    "    print(blob.name)\n"
   ]
  },
  {
   "cell_type": "code",
   "execution_count": 12,
   "id": "0899e388-9b8b-49e7-8324-36fe97f12112",
   "metadata": {
    "tags": []
   },
   "outputs": [
    {
     "name": "stdout",
     "output_type": "stream",
     "text": [
      "Metadata for the first 5 GIFs:\n",
      "GIF ID: 1, Data: {'tensor_path': 'gs://whathegifbucket/processed_data/gif_1_tensor.npy', 'description': 'a man is glaring, and someone with sunglasses appears.', 'url': 'https://38.media.tumblr.com/9f6c25cc350f12aa74a7dc386a5c4985/tumblr_mevmyaKtDf1rgvhr8o1_500.gif'}\n",
      "GIF ID: 2, Data: {'tensor_path': 'gs://whathegifbucket/processed_data/gif_2_tensor.npy', 'description': 'a cat tries to catch a mouse on a tablet', 'url': 'https://38.media.tumblr.com/9ead028ef62004ef6ac2b92e52edd210/tumblr_nok4eeONTv1s2yegdo1_400.gif'}\n",
      "GIF ID: 3, Data: {'tensor_path': 'gs://whathegifbucket/processed_data/gif_3_tensor.npy', 'description': 'a man dressed in red is dancing.', 'url': 'https://38.media.tumblr.com/9f43dc410be85b1159d1f42663d811d7/tumblr_mllh01J96X1s9npefo1_250.gif'}\n",
      "GIF ID: 4, Data: {'tensor_path': 'gs://whathegifbucket/processed_data/gif_4_tensor.npy', 'description': 'an animal comes close to another in the jungle', 'url': 'https://38.media.tumblr.com/9f659499c8754e40cf3f7ac21d08dae6/tumblr_nqlr0rn8ox1r2r0koo1_400.gif'}\n",
      "GIF ID: 5, Data: {'tensor_path': 'gs://whathegifbucket/processed_data/gif_5_tensor.npy', 'description': 'a man in a hat adjusts his tie and makes a weird face.', 'url': 'https://38.media.tumblr.com/9ed1c99afa7d71411884101cb054f35f/tumblr_mvtuwlhSkE1qbnleeo1_500.gif'}\n"
     ]
    }
   ],
   "source": [
    "# Load metadata from the local JSON file we just downloaded\n",
    "with open('processed_data/metadata.json', 'r') as f:\n",
    "    metadata = json.load(f)\n",
    "\n",
    "# Display part of the metadata for verification\n",
    "print(\"Metadata for the first 5 GIFs:\")\n",
    "for gif_id, gif_data in list(metadata.items())[:5]:\n",
    "    print(f\"GIF ID: {gif_id}, Data: {gif_data}\")\n"
   ]
  },
  {
   "cell_type": "code",
   "execution_count": 29,
   "id": "b73bd835-9024-4fcb-9a10-c1a9066ff3d5",
   "metadata": {
    "tags": []
   },
   "outputs": [
    {
     "data": {
      "text/plain": [
       "{'1': {'tensor_path': 'gs://whathegifbucket/processed_data/gif_1_tensor.npy',\n",
       "  'description': 'a man is glaring, and someone with sunglasses appears.',\n",
       "  'url': 'https://38.media.tumblr.com/9f6c25cc350f12aa74a7dc386a5c4985/tumblr_mevmyaKtDf1rgvhr8o1_500.gif'},\n",
       " '2': {'tensor_path': 'gs://whathegifbucket/processed_data/gif_2_tensor.npy',\n",
       "  'description': 'a cat tries to catch a mouse on a tablet',\n",
       "  'url': 'https://38.media.tumblr.com/9ead028ef62004ef6ac2b92e52edd210/tumblr_nok4eeONTv1s2yegdo1_400.gif'},\n",
       " '3': {'tensor_path': 'gs://whathegifbucket/processed_data/gif_3_tensor.npy',\n",
       "  'description': 'a man dressed in red is dancing.',\n",
       "  'url': 'https://38.media.tumblr.com/9f43dc410be85b1159d1f42663d811d7/tumblr_mllh01J96X1s9npefo1_250.gif'},\n",
       " '4': {'tensor_path': 'gs://whathegifbucket/processed_data/gif_4_tensor.npy',\n",
       "  'description': 'an animal comes close to another in the jungle',\n",
       "  'url': 'https://38.media.tumblr.com/9f659499c8754e40cf3f7ac21d08dae6/tumblr_nqlr0rn8ox1r2r0koo1_400.gif'},\n",
       " '5': {'tensor_path': 'gs://whathegifbucket/processed_data/gif_5_tensor.npy',\n",
       "  'description': 'a man in a hat adjusts his tie and makes a weird face.',\n",
       "  'url': 'https://38.media.tumblr.com/9ed1c99afa7d71411884101cb054f35f/tumblr_mvtuwlhSkE1qbnleeo1_500.gif'},\n",
       " '6': {'tensor_path': 'gs://whathegifbucket/processed_data/gif_6_tensor.npy',\n",
       "  'description': 'someone puts a cat on wrapping paper then wraps it up and puts on a bow',\n",
       "  'url': 'https://38.media.tumblr.com/9e437d26769cb2ac4217df14dbb20034/tumblr_npw7v7W07C1tmj047o1_250.gif'},\n",
       " '7': {'tensor_path': 'gs://whathegifbucket/processed_data/gif_7_tensor.npy',\n",
       "  'description': 'a brunette woman is looking at the man',\n",
       "  'url': 'https://38.media.tumblr.com/9e4ab65c0e7d4bb8aa6b5be854b83794/tumblr_mdlv9v6hE91qanrf2o1_r11_500.gif'},\n",
       " '8': {'tensor_path': 'gs://whathegifbucket/processed_data/gif_8_tensor.npy',\n",
       "  'description': 'a man on a bicycle is jumping over a fence.',\n",
       "  'url': 'https://38.media.tumblr.com/9ecd3483028290171dcb5e920ff4e3bb/tumblr_nkcmeflaVj1u26rdio1_500.gif'},\n",
       " '9': {'tensor_path': 'gs://whathegifbucket/processed_data/gif_9_tensor.npy',\n",
       "  'description': 'a group of men are standing and staring in the same direction.',\n",
       "  'url': 'https://38.media.tumblr.com/9f83754d20ce882224ae3392a8372ee8/tumblr_mkwd0y8Poo1qlnbq8o1_400.gif'},\n",
       " '10': {'tensor_path': 'gs://whathegifbucket/processed_data/gif_10_tensor.npy',\n",
       "  'description': 'a man with black clothes is dancing sexy',\n",
       "  'url': 'https://38.media.tumblr.com/9f4cb2977d5cd905f57293ac506b9db8/tumblr_msij5q4Run1qd76t9o1_500.gif'},\n",
       " '11': {'tensor_path': 'gs://whathegifbucket/processed_data/gif_11_tensor.npy',\n",
       "  'description': 'a boy is happy parking and see another boy',\n",
       "  'url': 'https://38.media.tumblr.com/9e6fcb37722bf01996209bdf76708559/tumblr_np9xo74UgD1ux4g5vo1_250.gif'},\n",
       " '12': {'tensor_path': 'gs://whathegifbucket/processed_data/gif_12_tensor.npy',\n",
       "  'description': 'a man winks, and a man with a fork motions him to be quiet.',\n",
       "  'url': 'https://38.media.tumblr.com/881302bfd0245614cb165636887cfed6/tumblr_noncfelojf1uqmy01o1_500.gif'},\n",
       " '13': {'tensor_path': 'gs://whathegifbucket/processed_data/gif_13_tensor.npy',\n",
       "  'description': 'a man walks into a room and sees a girl floating above the bed',\n",
       "  'url': 'https://38.media.tumblr.com/886236e83a1a1b6ae9f4dc43509f2fe6/tumblr_nov5tja4g91rkmzrjo1_400.gif'},\n",
       " '14': {'tensor_path': 'gs://whathegifbucket/processed_data/gif_14_tensor.npy',\n",
       "  'description': 'the vehicle is moving fast into the tunnel',\n",
       "  'url': 'https://38.media.tumblr.com/88817768f0c3b54c7a1b58908037ca1f/tumblr_nq7f66LEk41tzifluo1_400.gif'},\n",
       " '15': {'tensor_path': 'gs://whathegifbucket/processed_data/gif_15_tensor.npy',\n",
       "  'description': 'a beatles show, paul is on the front singing very enthusiastically',\n",
       "  'url': 'https://38.media.tumblr.com/88de8efed91578715420f8a93c5e3da6/tumblr_nq3ofebQo51s4vpwjo1_500.gif'},\n",
       " '16': {'tensor_path': 'gs://whathegifbucket/processed_data/gif_16_tensor.npy',\n",
       "  'description': 'a sport car is swinging on the race playground',\n",
       "  'url': 'https://38.media.tumblr.com/8952c98f05a5f01377ac98c041cfe63e/tumblr_nqofwqgS8d1siem3jo1_r1_400.gif'},\n",
       " '17': {'tensor_path': 'gs://whathegifbucket/processed_data/gif_17_tensor.npy',\n",
       "  'description': 'a woman is laughing and holding a man, the man is not laughing',\n",
       "  'url': 'https://38.media.tumblr.com/881416379772a539d5bb311c5bab9cd9/tumblr_nmzcu205yo1qdj2qoo1_500.gif'},\n",
       " '18': {'tensor_path': 'gs://whathegifbucket/processed_data/gif_18_tensor.npy',\n",
       "  'description': 'a man with lights on his jacket watching a large screen tv',\n",
       "  'url': 'https://38.media.tumblr.com/88bd6013c943b41c93f685e0577b451c/tumblr_noxbsuCyAg1tjhed2o1_500.gif'},\n",
       " '19': {'tensor_path': 'gs://whathegifbucket/processed_data/gif_19_tensor.npy',\n",
       "  'description': 'a gloved hand opens to reveal a golden ring.',\n",
       "  'url': 'https://38.media.tumblr.com/8911141195ce21e492761edba81ef309/tumblr_n4hv5jJDcS1t96jpzo1_500.gif'},\n",
       " '20': {'tensor_path': 'gs://whathegifbucket/processed_data/gif_20_tensor.npy',\n",
       "  'description': 'a skate boarder is doing trick on his skate board.',\n",
       "  'url': 'https://38.media.tumblr.com/88091baac04b18ef73d93e56883dccfe/tumblr_npzfsr13I51uyqfd5o1_500.gif'},\n",
       " '21': {'tensor_path': 'gs://whathegifbucket/processed_data/gif_21_tensor.npy',\n",
       "  'description': 'young man is clapping with his hand and dancing',\n",
       "  'url': 'https://38.media.tumblr.com/89160d6633d04d4a9c8e7c8085f1c74d/tumblr_nqmgdj8STn1rn1g1jo1_250.gif'},\n",
       " '22': {'tensor_path': 'gs://whathegifbucket/processed_data/gif_22_tensor.npy',\n",
       "  'description': 'a guy are kissing a girl slowly in a swimming pool.',\n",
       "  'url': 'https://38.media.tumblr.com/8852d21ad80d138416453eb968ee97bc/tumblr_npntschfQp1qf69tyo1_500.gif'},\n",
       " '23': {'tensor_path': 'gs://whathegifbucket/processed_data/gif_23_tensor.npy',\n",
       "  'description': 'the clouds are moving next to the full moon',\n",
       "  'url': 'https://38.media.tumblr.com/88976e0d8b0e068ebdb114ad9226b66a/tumblr_nmp0m0o3Iv1r44r7zo1_500.gif'},\n",
       " '24': {'tensor_path': 'gs://whathegifbucket/processed_data/gif_24_tensor.npy',\n",
       "  'description': 'a man and woman is making out in the shower',\n",
       "  'url': 'https://38.media.tumblr.com/8f5d9f86ebefa35baeadaba5337d09fc/tumblr_nox28g9fv41tfkobto1_500.gif'},\n",
       " '25': {'tensor_path': 'gs://whathegifbucket/processed_data/gif_25_tensor.npy',\n",
       "  'description': 'a wet cat in the bathtub tries to get out.',\n",
       "  'url': 'https://38.media.tumblr.com/90a1a65d2e1608451e84e2fe4bd16d04/tumblr_npse2pIimv1tyncywo1_400.gif'},\n",
       " '26': {'tensor_path': 'gs://whathegifbucket/processed_data/gif_26_tensor.npy',\n",
       "  'description': 'four people dressed as squirrels are dancing in the woods',\n",
       "  'url': 'https://38.media.tumblr.com/902d6ba5bec4cf7a593cdc111fa88f6a/tumblr_n0lv33BBrb1rc0kvpo1_r1_250.gif'},\n",
       " '27': {'tensor_path': 'gs://whathegifbucket/processed_data/gif_27_tensor.npy',\n",
       "  'description': 'a drummer is beating the drum with lightening fast speed.',\n",
       "  'url': 'https://38.media.tumblr.com/8f8d0f7a02f4ade5527ffd63ee9883fd/tumblr_np2k4xqcDt1s9b6vho1_500.gif'},\n",
       " '28': {'tensor_path': 'gs://whathegifbucket/processed_data/gif_28_tensor.npy',\n",
       "  'description': 'a sugar glider jumps off a belt on the wall',\n",
       "  'url': 'https://38.media.tumblr.com/909c68e83bf7299c07c53753b7f57366/tumblr_nntpx3AxcV1tyncywo1_500.gif'},\n",
       " '29': {'tensor_path': 'gs://whathegifbucket/processed_data/gif_29_tensor.npy',\n",
       "  'description': 'some zombie are attacking a read head woman,',\n",
       "  'url': 'https://38.media.tumblr.com/8f7fabf26213fb6a683419f5a48d326d/tumblr_no5kyk0Mgs1urjsaqo1_400.gif'},\n",
       " '30': {'tensor_path': 'gs://whathegifbucket/processed_data/gif_30_tensor.npy',\n",
       "  'description': \"a cat magically moves away from a man's food.\",\n",
       "  'url': 'https://38.media.tumblr.com/8fd8930ec4e3458c1e616d6002e6a53f/tumblr_nqq3ibcw841rvg72ao1_400.gif'},\n",
       " '31': {'tensor_path': 'gs://whathegifbucket/processed_data/gif_31_tensor.npy',\n",
       "  'description': 'a man smiles and laughs into the microphone.',\n",
       "  'url': 'https://38.media.tumblr.com/8f976a0c90d91d940223d3a76de5006e/tumblr_mudwwxBWdn1qm26qzo1_500.gif'},\n",
       " '32': {'tensor_path': 'gs://whathegifbucket/processed_data/gif_32_tensor.npy',\n",
       "  'description': 'a bald man drop one bomb and explode the local',\n",
       "  'url': 'https://38.media.tumblr.com/8f6110a0ec6a7409579b878ba09ae62f/tumblr_nq07jm1AQ51sja1kdo1_500.gif'},\n",
       " '33': {'tensor_path': 'gs://whathegifbucket/processed_data/gif_33_tensor.npy',\n",
       "  'description': 'a man are holding a bottle taps it on his head.',\n",
       "  'url': 'https://38.media.tumblr.com/902f71ae45f50dc0a35c04323de6495a/tumblr_nj4iqcVaFQ1s26nzro1_500.gif'},\n",
       " '34': {'tensor_path': 'gs://whathegifbucket/processed_data/gif_34_tensor.npy',\n",
       "  'description': 'a boy are talking to another boy with an open door.',\n",
       "  'url': 'https://38.media.tumblr.com/900fe9102f650f3277c7c3d57ea095bb/tumblr_npo3mtQ87f1uxcyego1_400.gif'},\n",
       " '35': {'tensor_path': 'gs://whathegifbucket/processed_data/gif_35_tensor.npy',\n",
       "  'description': 'a woman trying to control her dragon.',\n",
       "  'url': 'https://38.media.tumblr.com/901288b4a1c66c58571245623bca46f9/tumblr_nqexpu1pOL1sqicm1o1_500.gif'},\n",
       " '36': {'tensor_path': 'gs://whathegifbucket/processed_data/gif_36_tensor.npy',\n",
       "  'description': 'the singer and artist are taking a look forward.',\n",
       "  'url': 'https://38.media.tumblr.com/8f53c46d4e2a40bc8dfc458fbd145cf1/tumblr_nq541zHa5n1uy63pco1_r1_250.gif'},\n",
       " '37': {'tensor_path': 'gs://whathegifbucket/processed_data/gif_37_tensor.npy',\n",
       "  'description': 'a man is wearing a cap and headphones making hand gestures in front of a microphone.',\n",
       "  'url': 'https://38.media.tumblr.com/8fb23a0c630d559029d1ed77a9a5959e/tumblr_nnxshbEKOc1rqd7uco1_500.gif'},\n",
       " '38': {'tensor_path': 'gs://whathegifbucket/processed_data/gif_38_tensor.npy',\n",
       "  'description': 'a couple standing in the sea embrace each other.',\n",
       "  'url': 'https://38.media.tumblr.com/8f5884647e1aaa0bda5677fbefec7ed4/tumblr_nq8ajiaBT71usj03ho1_500.gif'},\n",
       " '39': {'tensor_path': 'gs://whathegifbucket/processed_data/gif_39_tensor.npy',\n",
       "  'description': \"a couple plays with each other's hair.\",\n",
       "  'url': 'https://38.media.tumblr.com/8bf7c993adf5ba5ecea8ed946f8eb10e/tumblr_np5x4gNc1L1ux4ymjo1_500.gif'},\n",
       " '40': {'tensor_path': 'gs://whathegifbucket/processed_data/gif_40_tensor.npy',\n",
       "  'description': 'a man looking down looks up and speaks to his reflection',\n",
       "  'url': 'https://38.media.tumblr.com/8c4ee5c0338ad534042e85605b70c927/tumblr_npqraj6f5R1uuxd1yo1_500.gif'},\n",
       " '41': {'tensor_path': 'gs://whathegifbucket/processed_data/gif_41_tensor.npy',\n",
       "  'description': 'a man swing with his knife and destroy everything',\n",
       "  'url': 'https://38.media.tumblr.com/8b67dd69640e5b12d55fdd8257319782/tumblr_no2up3t1Bv1usegjto1_250.gif'},\n",
       " '42': {'tensor_path': 'gs://whathegifbucket/processed_data/gif_42_tensor.npy',\n",
       "  'description': 'a woman is talking and holding a tea towel.',\n",
       "  'url': 'https://38.media.tumblr.com/8c90113076757a48a25a53942d829b02/tumblr_nl77cuGZWn1sm50zqo1_400.gif'},\n",
       " '43': {'tensor_path': 'gs://whathegifbucket/processed_data/gif_43_tensor.npy',\n",
       "  'description': 'a girl is smoking with his friend in the house',\n",
       "  'url': 'https://38.media.tumblr.com/8beac80e7df8b66fc5d50d9f0679c527/tumblr_nnn5873T0c1uqclqmo1_500.gif'},\n",
       " '44': {'tensor_path': 'gs://whathegifbucket/processed_data/gif_44_tensor.npy',\n",
       "  'description': 'a woman in a blue shirt moved forwards.',\n",
       "  'url': 'https://38.media.tumblr.com/8bf3197a0c9d0218d2fef5b428d2c143/tumblr_nowg4sfk6D1qzefc2o1_400.gif'},\n",
       " '45': {'tensor_path': 'gs://whathegifbucket/processed_data/gif_45_tensor.npy',\n",
       "  'description': 'a good looking guy in black is pouting.',\n",
       "  'url': 'https://38.media.tumblr.com/8b7e9aa41d080e9141a6f32fa4e7bbdc/tumblr_nohp6gAaLv1si7d5lo1_400.gif'},\n",
       " '46': {'tensor_path': 'gs://whathegifbucket/processed_data/gif_46_tensor.npy',\n",
       "  'description': 'a cute little bulldog puppy is taking his tongue out.',\n",
       "  'url': 'https://38.media.tumblr.com/8cd34a2a68232f097b85f1839a2fd7a3/tumblr_npgxznNRd31uv0y2ro1_250.gif'},\n",
       " '47': {'tensor_path': 'gs://whathegifbucket/processed_data/gif_47_tensor.npy',\n",
       "  'description': 'a man smells coffee in a brown bag.',\n",
       "  'url': 'https://38.media.tumblr.com/8cd949e726a9ec15950a4f4cda4eb330/tumblr_nq789eiheZ1r3kmkso1_1280.gif'},\n",
       " '48': {'tensor_path': 'gs://whathegifbucket/processed_data/gif_48_tensor.npy',\n",
       "  'description': 'a person is kissing another person with heavy makeup.',\n",
       "  'url': 'https://38.media.tumblr.com/8c572ffffaad8065e52d3235bd0146b5/tumblr_nqrlhsLD931uzihc0o1_500.gif'},\n",
       " '49': {'tensor_path': 'gs://whathegifbucket/processed_data/gif_49_tensor.npy',\n",
       "  'description': 'a shirtless man with tattoos turns around.',\n",
       "  'url': 'https://38.media.tumblr.com/8bb63b757c40c499d2eccb9a2910d57b/tumblr_mgq9bwHRA51rhzq0oo1_500.gif'},\n",
       " '50': {'tensor_path': 'gs://whathegifbucket/processed_data/gif_50_tensor.npy',\n",
       "  'description': 'smoke is coming out of some log burning near some building.',\n",
       "  'url': 'https://38.media.tumblr.com/8b8c94e0279cc6d2775ae08e0853f823/tumblr_nq5nstjatI1u1lytfo1_250.gif'},\n",
       " '51': {'tensor_path': 'gs://whathegifbucket/processed_data/gif_51_tensor.npy',\n",
       "  'description': 'the tiger is running really fast in the garden',\n",
       "  'url': 'https://38.media.tumblr.com/8c14aa571911985d6d774762f8159452/tumblr_n4gk7efcMw1spy7ono1_400.gif'},\n",
       " '52': {'tensor_path': 'gs://whathegifbucket/processed_data/gif_52_tensor.npy',\n",
       "  'description': 'a man are sticking out his tongue and shaking his head',\n",
       "  'url': 'https://38.media.tumblr.com/8cd3ac9b6db79b6fb1f52961bb173276/tumblr_nogx44forU1swlz57o1_500.gif'},\n",
       " '53': {'tensor_path': 'gs://whathegifbucket/processed_data/gif_53_tensor.npy',\n",
       "  'description': 'a girl in a football uniform is dancing and singing',\n",
       "  'url': 'https://38.media.tumblr.com/70f4c1fc63e69bafb2c0aafcc293d6ff/tumblr_npc3iyfpDC1ux3xido1_400.gif'},\n",
       " '54': {'tensor_path': 'gs://whathegifbucket/processed_data/gif_54_tensor.npy',\n",
       "  'description': \"the roof down and cut the boy's body\",\n",
       "  'url': 'https://38.media.tumblr.com/70f2b88e7ef089a5d8d3722dfceb1e55/tumblr_n8tb4xoSOr1sxfqdyo1_1280.gif'},\n",
       " '55': {'tensor_path': 'gs://whathegifbucket/processed_data/gif_55_tensor.npy',\n",
       "  'description': 'a young person are wearing a bikini and helmet running down a corridor',\n",
       "  'url': 'https://38.media.tumblr.com/6f8901961aa2ff3f85a105e844ced445/tumblr_nq2px77Scz1uycuzco1_500.gif'},\n",
       " '56': {'tensor_path': 'gs://whathegifbucket/processed_data/gif_56_tensor.npy',\n",
       "  'description': 'a man and woman are hugging in a shower.',\n",
       "  'url': 'https://38.media.tumblr.com/70af581598a20a1af31773cdab4b0321/tumblr_mxp686hce71sqec3to1_500.gif'},\n",
       " '57': {'tensor_path': 'gs://whathegifbucket/processed_data/gif_57_tensor.npy',\n",
       "  'description': 'two guys are laughing and one falls down to the floor.',\n",
       "  'url': 'https://38.media.tumblr.com/6ff9ef1e816fed43fcf7e2f2498e1349/tumblr_nl33vmyhNi1u9vl8lo1_400.gif'},\n",
       " '58': {'tensor_path': 'gs://whathegifbucket/processed_data/gif_58_tensor.npy',\n",
       "  'description': 'a woman dances are holding a large pink ball.',\n",
       "  'url': 'https://38.media.tumblr.com/709628e0cae3704db3eae23d10695d67/tumblr_nntf25N0Fx1uu6kufo1_250.gif'},\n",
       " '59': {'tensor_path': 'gs://whathegifbucket/processed_data/gif_59_tensor.npy',\n",
       "  'description': 'a young, shirtless man is giving the rock and roll symbol with his hands.',\n",
       "  'url': 'https://38.media.tumblr.com/708a8a33362c8b2548c5b9a09463da49/tumblr_mtbdvn6y1D1rjj5sho1_400.gif'},\n",
       " '60': {'tensor_path': 'gs://whathegifbucket/processed_data/gif_60_tensor.npy',\n",
       "  'description': 'a man with longish hair laughs then puts his head down.',\n",
       "  'url': 'https://38.media.tumblr.com/6fb91b85be51fd128be592d4618b6cf7/tumblr_noco9fFCqL1rpe4qfo1_500.gif'},\n",
       " '61': {'tensor_path': 'gs://whathegifbucket/processed_data/gif_61_tensor.npy',\n",
       "  'description': 'a woman has a conversation with a girl',\n",
       "  'url': 'https://38.media.tumblr.com/646593e337829d1ec07c41f628fbf431/tumblr_nju2re8NaP1ssgr2ko1_500.gif'},\n",
       " '62': {'tensor_path': 'gs://whathegifbucket/processed_data/gif_62_tensor.npy',\n",
       "  'description': 'a person with white hair is opening his mouth, there is smoke coming from bellow',\n",
       "  'url': 'https://38.media.tumblr.com/64d21677dbcd80a0b1c83082817d9bb3/tumblr_noish93cHw1u4k0zeo1_500.gif'},\n",
       " '63': {'tensor_path': 'gs://whathegifbucket/processed_data/gif_63_tensor.npy',\n",
       "  'description': 'a woman blinks and jerks forward looking surprised.',\n",
       "  'url': 'https://38.media.tumblr.com/643522422670f705610510e57907fbec/tumblr_nqqpgscLkK1urwkppo1_400.gif'},\n",
       " '64': {'tensor_path': 'gs://whathegifbucket/processed_data/gif_64_tensor.npy',\n",
       "  'description': 'a woman is posing to what appears to be a modeling photo shoot',\n",
       "  'url': 'https://38.media.tumblr.com/63bb0d748426c9cfb111917d2b8836d6/tumblr_mxtfcmpXuH1qgzzafo1_500.gif'},\n",
       " '65': {'tensor_path': 'gs://whathegifbucket/processed_data/gif_65_tensor.npy',\n",
       "  'description': 'two boys walk down a hallway and look angry',\n",
       "  'url': 'https://38.media.tumblr.com/6421efefaae5fd090d75fd2b98d1382e/tumblr_ne86njGv9l1trq9l0o1_500.gif'},\n",
       " '66': {'tensor_path': 'gs://whathegifbucket/processed_data/gif_66_tensor.npy',\n",
       "  'description': 'a man is walking in a crowd in the dark.',\n",
       "  'url': 'https://38.media.tumblr.com/6453cb7a476ce87f7abcfb7149b171bd/tumblr_nqgz75OOEB1snj1pfo1_500.gif'},\n",
       " '67': {'tensor_path': 'gs://whathegifbucket/processed_data/gif_67_tensor.npy',\n",
       "  'description': \"A man and a woman stare into each other's eyes and talk\",\n",
       "  'url': 'https://38.media.tumblr.com/64ccc75d23cf6a8a3a43f32988991bb6/tumblr_nonwd4NsEu1qhyoyno1_250.gif'},\n",
       " '68': {'tensor_path': 'gs://whathegifbucket/processed_data/gif_68_tensor.npy',\n",
       "  'description': 'a man with glasses are staring at something.',\n",
       "  'url': 'https://38.media.tumblr.com/6483c631effcc53025204ae6b66ffd3e/tumblr_noyw22UY4p1qax7m1o1_400.gif'},\n",
       " '69': {'tensor_path': 'gs://whathegifbucket/processed_data/gif_69_tensor.npy',\n",
       "  'description': 'a car drives through a puddle and drenches people at a bus stop.',\n",
       "  'url': 'https://38.media.tumblr.com/64a238fc39c8ee1d313e40ffa48cda10/tumblr_npwndlNfA31unrb56o1_400.gif'},\n",
       " '70': {'tensor_path': 'gs://whathegifbucket/processed_data/gif_70_tensor.npy',\n",
       "  'description': 'a person makes a figure with his hand in a mirror',\n",
       "  'url': 'https://38.media.tumblr.com/813707bd10cda80f211f178dd254f234/tumblr_nlbv8s8oKn1rkvwppo1_500.gif'},\n",
       " '71': {'tensor_path': 'gs://whathegifbucket/processed_data/gif_71_tensor.npy',\n",
       "  'description': 'the girl with the glasses and jacket is jumping',\n",
       "  'url': 'https://38.media.tumblr.com/81fb51d8e89a8af3bc0cd8396711281d/tumblr_nl2atgmJOt1tam15wo1_500.gif'},\n",
       " '72': {'tensor_path': 'gs://whathegifbucket/processed_data/gif_72_tensor.npy',\n",
       "  'description': 'a man is sitting on a sofa beside three others and is throwing a drumstick on the floor.',\n",
       "  'url': 'https://38.media.tumblr.com/80f4f7bcf1ccf55b56a790f358da0a5f/tumblr_nkymseZ2UC1u4gszco1_400.gif'},\n",
       " '73': {'tensor_path': 'gs://whathegifbucket/processed_data/gif_73_tensor.npy',\n",
       "  'description': 'a man with microphone falls back into crowd.',\n",
       "  'url': 'https://38.media.tumblr.com/81ee9eb0f2fe73e68153c8aa0e9e0c61/tumblr_n0aovd6keZ1sgtd4uo1_500.gif'},\n",
       " '74': {'tensor_path': 'gs://whathegifbucket/processed_data/gif_74_tensor.npy',\n",
       "  'description': 'a man riding on some drum and beating it and singing.',\n",
       "  'url': 'https://38.media.tumblr.com/81c408ac0a101d90c548284655f22c41/tumblr_notdrxYMLZ1uwsm9to1_400.gif'},\n",
       " '75': {'tensor_path': 'gs://whathegifbucket/processed_data/gif_75_tensor.npy',\n",
       "  'description': 'a man with is shaking his hands up and down.',\n",
       "  'url': 'https://38.media.tumblr.com/8178f0c2ddf9d898b697e1f9738b3ec2/tumblr_npuokpnu8f1szd8auo1_400.gif'},\n",
       " '76': {'tensor_path': 'gs://whathegifbucket/processed_data/gif_76_tensor.npy',\n",
       "  'description': 'a girl who has a pink hat and clothes are smiling.',\n",
       "  'url': 'https://38.media.tumblr.com/8280fface19efac034d699ce72d8cbfe/tumblr_nq3arkKkE41utbf1ao1_500.gif'},\n",
       " '77': {'tensor_path': 'gs://whathegifbucket/processed_data/gif_77_tensor.npy',\n",
       "  'description': 'two feet with painted nails is wearing high-heeled sandals.',\n",
       "  'url': 'https://38.media.tumblr.com/813610370f0da5aff754a73d3cf4d973/tumblr_nq0ki6PRbw1tqvovno1_400.gif'},\n",
       " '78': {'tensor_path': 'gs://whathegifbucket/processed_data/gif_78_tensor.npy',\n",
       "  'description': 'a man are doing acrobatic stunts on the wing of a plane.',\n",
       "  'url': 'https://38.media.tumblr.com/819a74539497ae1899be30977054ea8e/tumblr_np541orFHz1uwafnqo1_400.gif'},\n",
       " '79': {'tensor_path': 'gs://whathegifbucket/processed_data/gif_79_tensor.npy',\n",
       "  'description': 'a man in a suit is talking on a cell phone.',\n",
       "  'url': 'https://38.media.tumblr.com/81976ab164f44c6d4a5df1e567a7a41f/tumblr_npx4q3yGPC1thfk1ho1_250.gif'},\n",
       " '80': {'tensor_path': 'gs://whathegifbucket/processed_data/gif_80_tensor.npy',\n",
       "  'description': 'a girl are taking the laundry down on a windy day.',\n",
       "  'url': 'https://38.media.tumblr.com/a8202ac881bda3a893dc06329d797230/tumblr_nqc68gfjSw1uxae7wo1_400.gif'},\n",
       " '81': {'tensor_path': 'gs://whathegifbucket/processed_data/gif_81_tensor.npy',\n",
       "  'description': 'two boys are walking, the one in the front licks his finger.',\n",
       "  'url': 'https://38.media.tumblr.com/a750d8b2acaa32e6112665a939e886c2/tumblr_nqjagbJPI91sygccjo1_540.gif'},\n",
       " '82': {'tensor_path': 'gs://whathegifbucket/processed_data/gif_82_tensor.npy',\n",
       "  'description': 'a skateboarder doing a trick inside a drained pool',\n",
       "  'url': 'https://38.media.tumblr.com/a6a2f2c7bb44565ddd093676807ac8d9/tumblr_no5j5oD1q21ri61l0o1_400.gif'},\n",
       " '83': {'tensor_path': 'gs://whathegifbucket/processed_data/gif_83_tensor.npy',\n",
       "  'description': 'a boy and a girl are walking down hand in hand.',\n",
       "  'url': 'https://38.media.tumblr.com/a73a6a3c2667bb7a0bbbe9854c4f5d86/tumblr_ni2l89yZ7r1u4o6i5o1_500.gif'},\n",
       " '84': {'tensor_path': 'gs://whathegifbucket/processed_data/gif_84_tensor.npy',\n",
       "  'description': 'a lot of pines are crossing along a side of a road.',\n",
       "  'url': 'https://38.media.tumblr.com/a72891929bfbf6683c4b6f81b6bd4b3c/tumblr_mvuy2hVOOD1rngmtco1_500.gif'},\n",
       " '85': {'tensor_path': 'gs://whathegifbucket/processed_data/gif_85_tensor.npy',\n",
       "  'description': 'a skateboarder jumps onto and off a stone platform.',\n",
       "  'url': 'https://38.media.tumblr.com/a7fe1e1d1525d13775042c4f4d480f6a/tumblr_npybchwzUr1ri61l0o1_400.gif'},\n",
       " '86': {'tensor_path': 'gs://whathegifbucket/processed_data/gif_86_tensor.npy',\n",
       "  'description': 'an asian man is talking in front of a microphone.',\n",
       "  'url': 'https://38.media.tumblr.com/a4f761492781f2985c9b470f3764ee87/tumblr_mppeopxznZ1rku4s3o1_500.gif'},\n",
       " '87': {'tensor_path': 'gs://whathegifbucket/processed_data/gif_87_tensor.npy',\n",
       "  'description': 'a guy makes a funny face and raises his eyebrows while putting on sunglasses',\n",
       "  'url': 'https://38.media.tumblr.com/a5f27adf06dac45af78b4976707a2f55/tumblr_mrmmwo38f01qc03ipo1_250.gif'},\n",
       " '88': {'tensor_path': 'gs://whathegifbucket/processed_data/gif_88_tensor.npy',\n",
       "  'description': 'a guy are talking and touching his hair.',\n",
       "  'url': 'https://38.media.tumblr.com/a54f528e0dc20af6982a459d788cd477/tumblr_not9zcAaHu1uvzbfuo1_400.gif'},\n",
       " '89': {'tensor_path': 'gs://whathegifbucket/processed_data/gif_89_tensor.npy',\n",
       "  'description': 'a red dinosaur costume tripped on the gym floor.',\n",
       "  'url': 'https://38.media.tumblr.com/a614a76688228eb82c5879850d8fffe5/tumblr_nohs96BXF91u9mqd6o1_400.gif'},\n",
       " '90': {'tensor_path': 'gs://whathegifbucket/processed_data/gif_90_tensor.npy',\n",
       "  'description': 'a boy are running and jumping over a ball.',\n",
       "  'url': 'https://38.media.tumblr.com/a529f7267f796ebd64a579a303194858/tumblr_nq77k6nh6H1tn6vtbo1_500.gif'},\n",
       " '91': {'tensor_path': 'gs://whathegifbucket/processed_data/gif_91_tensor.npy',\n",
       "  'description': 'a girl is doing hanging push ups in a gym.',\n",
       "  'url': 'https://38.media.tumblr.com/a52888989b59a45aba7ba81e2c22bb9c/tumblr_npx2d96ZLV1uuyoqfo1_500.gif'},\n",
       " '92': {'tensor_path': 'gs://whathegifbucket/processed_data/gif_92_tensor.npy',\n",
       "  'description': 'a young white boy in white shirt is brushing his hair',\n",
       "  'url': 'https://38.media.tumblr.com/a5bbe3fbabae73d54d80364c2dc845f6/tumblr_npm622Izam1rx8qjfo1_400.gif'},\n",
       " '93': {'tensor_path': 'gs://whathegifbucket/processed_data/gif_93_tensor.npy',\n",
       "  'description': 'a man stares blankly while another man moves in double exposure.',\n",
       "  'url': 'https://38.media.tumblr.com/a56359972856860dae178804cf85e363/tumblr_no22jv00hd1th31wno2_400.gif'},\n",
       " '94': {'tensor_path': 'gs://whathegifbucket/processed_data/gif_94_tensor.npy',\n",
       "  'description': 'a man dives from a cliff into the sea',\n",
       "  'url': 'https://38.media.tumblr.com/a545ea6bd45afcf422e28070ff26db59/tumblr_nnxz08i1sa1uoynh5o1_500.gif'},\n",
       " '95': {'tensor_path': 'gs://whathegifbucket/processed_data/gif_95_tensor.npy',\n",
       "  'description': 'a man is speaking with someone and smiling.',\n",
       "  'url': 'https://38.media.tumblr.com/a6418c7e149962c6330c425866a22a44/tumblr_mpehmq9Xmk1s6our6o1_500.gif'},\n",
       " '96': {'tensor_path': 'gs://whathegifbucket/processed_data/gif_96_tensor.npy',\n",
       "  'description': 'a dark figure is appearing and disappearing on some kind of visual recording.',\n",
       "  'url': 'https://38.media.tumblr.com/b1fdd23b1bb5f47b597b1b4ebb15b137/tumblr_nqaoo8yMNY1uxae7wo1_500.gif'},\n",
       " '97': {'tensor_path': 'gs://whathegifbucket/processed_data/gif_97_tensor.npy',\n",
       "  'description': 'a man are holding a sparkly ornament on his arm.',\n",
       "  'url': 'https://38.media.tumblr.com/b2ce5f54a11e8aec0c32a4cbb691ebd0/tumblr_no3inlKHGv1smv1p3o1_400.gif'},\n",
       " '98': {'tensor_path': 'gs://whathegifbucket/processed_data/gif_98_tensor.npy',\n",
       "  'description': 'a woman is eating while looking angry.',\n",
       "  'url': 'https://38.media.tumblr.com/b1bcf68a98567753a9ddfe5b20600d9a/tumblr_npbyvpJ3V31us4t6to1_500.gif'},\n",
       " '99': {'tensor_path': 'gs://whathegifbucket/processed_data/gif_99_tensor.npy',\n",
       "  'description': 'a performer slides his hand up his thigh at a concert while gritting his teeth.',\n",
       "  'url': 'https://38.media.tumblr.com/b312c5dc018fde65132e221003c9b842/tumblr_npjdz5Rgcs1u8gd00o1_500.gif'},\n",
       " '100': {'tensor_path': 'gs://whathegifbucket/processed_data/gif_100_tensor.npy',\n",
       "  'description': 'the boy in the brown shirt is jumping behind',\n",
       "  'url': 'https://38.media.tumblr.com/b324f389754052c872ba05970687e144/tumblr_nprx63hci41tlpnk6o1_400.gif'}}"
      ]
     },
     "execution_count": 29,
     "metadata": {},
     "output_type": "execute_result"
    }
   ],
   "source": [
    "metadata"
   ]
  },
  {
   "cell_type": "code",
   "execution_count": 13,
   "id": "a988511e-bcee-4335-b7aa-bb272da21c57",
   "metadata": {
    "tags": []
   },
   "outputs": [
    {
     "name": "stderr",
     "output_type": "stream",
     "text": [
      "2024-10-14 02:20:06.862742: I tensorflow/compiler/xla/stream_executor/cuda/cuda_gpu_executor.cc:996] successful NUMA node read from SysFS had negative value (-1), but there must be at least one NUMA node, so returning NUMA node zero. See more at https://github.com/torvalds/linux/blob/v6.0/Documentation/ABI/testing/sysfs-bus-pci#L344-L355\n",
      "2024-10-14 02:20:06.867710: I tensorflow/compiler/xla/stream_executor/cuda/cuda_gpu_executor.cc:996] successful NUMA node read from SysFS had negative value (-1), but there must be at least one NUMA node, so returning NUMA node zero. See more at https://github.com/torvalds/linux/blob/v6.0/Documentation/ABI/testing/sysfs-bus-pci#L344-L355\n",
      "2024-10-14 02:20:06.870747: I tensorflow/compiler/xla/stream_executor/cuda/cuda_gpu_executor.cc:996] successful NUMA node read from SysFS had negative value (-1), but there must be at least one NUMA node, so returning NUMA node zero. See more at https://github.com/torvalds/linux/blob/v6.0/Documentation/ABI/testing/sysfs-bus-pci#L344-L355\n",
      "2024-10-14 02:20:08.286621: I tensorflow/compiler/xla/stream_executor/cuda/cuda_gpu_executor.cc:996] successful NUMA node read from SysFS had negative value (-1), but there must be at least one NUMA node, so returning NUMA node zero. See more at https://github.com/torvalds/linux/blob/v6.0/Documentation/ABI/testing/sysfs-bus-pci#L344-L355\n",
      "2024-10-14 02:20:08.289343: I tensorflow/compiler/xla/stream_executor/cuda/cuda_gpu_executor.cc:996] successful NUMA node read from SysFS had negative value (-1), but there must be at least one NUMA node, so returning NUMA node zero. See more at https://github.com/torvalds/linux/blob/v6.0/Documentation/ABI/testing/sysfs-bus-pci#L344-L355\n",
      "2024-10-14 02:20:08.291298: I tensorflow/compiler/xla/stream_executor/cuda/cuda_gpu_executor.cc:996] successful NUMA node read from SysFS had negative value (-1), but there must be at least one NUMA node, so returning NUMA node zero. See more at https://github.com/torvalds/linux/blob/v6.0/Documentation/ABI/testing/sysfs-bus-pci#L344-L355\n",
      "2024-10-14 02:20:08.293199: I tensorflow/core/common_runtime/gpu/gpu_device.cc:1635] Created device /job:localhost/replica:0/task:0/device:GPU:0 with 13764 MB memory:  -> device: 0, name: Tesla T4, pci bus id: 0000:00:04.0, compute capability: 7.5\n"
     ]
    },
    {
     "name": "stdout",
     "output_type": "stream",
     "text": [
      "INFO:tensorflow:Using MirroredStrategy with devices ('/job:localhost/replica:0/task:0/device:GPU:0',)\n",
      "Number of devices: 1\n"
     ]
    }
   ],
   "source": [
    "import tensorflow as tf\n",
    "\n",
    "# Set up multi-GPU training strategy\n",
    "strategy = tf.distribute.MirroredStrategy()\n",
    "\n",
    "# Print the number of GPUs being used\n",
    "print('Number of devices: {}'.format(strategy.num_replicas_in_sync))\n"
   ]
  },
  {
   "cell_type": "markdown",
   "id": "8a540eab-314d-497d-ab15-f2322a9d758f",
   "metadata": {},
   "source": [
    "# 3D CNN"
   ]
  },
  {
   "cell_type": "code",
   "execution_count": 14,
   "id": "4ad20386-2c19-4524-a316-32fd15c63044",
   "metadata": {
    "tags": []
   },
   "outputs": [
    {
     "name": "stdout",
     "output_type": "stream",
     "text": [
      "INFO:tensorflow:Reduce to /job:localhost/replica:0/task:0/device:CPU:0 then broadcast to ('/job:localhost/replica:0/task:0/device:CPU:0',).\n",
      "INFO:tensorflow:Reduce to /job:localhost/replica:0/task:0/device:CPU:0 then broadcast to ('/job:localhost/replica:0/task:0/device:CPU:0',).\n",
      "INFO:tensorflow:Reduce to /job:localhost/replica:0/task:0/device:CPU:0 then broadcast to ('/job:localhost/replica:0/task:0/device:CPU:0',).\n",
      "INFO:tensorflow:Reduce to /job:localhost/replica:0/task:0/device:CPU:0 then broadcast to ('/job:localhost/replica:0/task:0/device:CPU:0',).\n",
      "INFO:tensorflow:Reduce to /job:localhost/replica:0/task:0/device:CPU:0 then broadcast to ('/job:localhost/replica:0/task:0/device:CPU:0',).\n",
      "INFO:tensorflow:Reduce to /job:localhost/replica:0/task:0/device:CPU:0 then broadcast to ('/job:localhost/replica:0/task:0/device:CPU:0',).\n",
      "INFO:tensorflow:Reduce to /job:localhost/replica:0/task:0/device:CPU:0 then broadcast to ('/job:localhost/replica:0/task:0/device:CPU:0',).\n",
      "INFO:tensorflow:Reduce to /job:localhost/replica:0/task:0/device:CPU:0 then broadcast to ('/job:localhost/replica:0/task:0/device:CPU:0',).\n",
      "INFO:tensorflow:Reduce to /job:localhost/replica:0/task:0/device:CPU:0 then broadcast to ('/job:localhost/replica:0/task:0/device:CPU:0',).\n",
      "INFO:tensorflow:Reduce to /job:localhost/replica:0/task:0/device:CPU:0 then broadcast to ('/job:localhost/replica:0/task:0/device:CPU:0',).\n",
      "Downloading data from https://storage.googleapis.com/tensorflow/keras-applications/inception_v3/inception_v3_weights_tf_dim_ordering_tf_kernels_notop.h5\n",
      "87910968/87910968 [==============================] - 0s 0us/step\n",
      "Model: \"model\"\n",
      "_________________________________________________________________\n",
      " Layer (type)                Output Shape              Param #   \n",
      "=================================================================\n",
      " input_1 (InputLayer)        [(None, 32, 224, 224, 3)  0         \n",
      "                             ]                                   \n",
      "                                                                 \n",
      " time_distributed (TimeDistr  (None, 32, 5, 5, 2048)   21802784  \n",
      " ibuted)                                                         \n",
      "                                                                 \n",
      " global_average_pooling3d (G  (None, 2048)             0         \n",
      " lobalAveragePooling3D)                                          \n",
      "                                                                 \n",
      "=================================================================\n",
      "Total params: 21,802,784\n",
      "Trainable params: 21,768,352\n",
      "Non-trainable params: 34,432\n",
      "_________________________________________________________________\n"
     ]
    }
   ],
   "source": [
    "from tensorflow.keras.layers import Input, TimeDistributed, GlobalAveragePooling3D\n",
    "from tensorflow.keras.models import Model\n",
    "from tensorflow.keras.applications import InceptionV3\n",
    "\n",
    "with strategy.scope():\n",
    "    # Input layer for video tensors\n",
    "    video_input = Input(shape=(32, 224, 224, 3))  # (num_frames, height, width, channels)\n",
    "\n",
    "    # Load the base pretrained model (InceptionV3 is used as a stand-in for I3D)\n",
    "    base_model = InceptionV3(weights='imagenet', include_top=False, input_shape=(224, 224, 3))\n",
    "\n",
    "    # Wrap the base model in TimeDistributed to apply it across frames\n",
    "    x = TimeDistributed(base_model)(video_input)\n",
    "\n",
    "    # Use Global Average Pooling to reduce the feature dimensions\n",
    "    x = GlobalAveragePooling3D()(x)\n",
    "\n",
    "    # Create the model\n",
    "    model_3d_cnn = Model(inputs=video_input, outputs=x)\n",
    "\n",
    "    # Print model summary to verify the structure\n",
    "    model_3d_cnn.summary()\n"
   ]
  },
  {
   "cell_type": "code",
   "execution_count": 25,
   "id": "bc43634d-fb0e-4dcc-8d76-76955675e47c",
   "metadata": {
    "tags": []
   },
   "outputs": [],
   "source": [
    "from transformers import GPT2Tokenizer, GPT2LMHeadModel\n",
    "\n",
    "# Load the GPT-2 model and tokenizer\n",
    "gpt2_tokenizer = GPT2Tokenizer.from_pretrained(\"gpt2\")\n",
    "gpt2_model = GPT2LMHeadModel.from_pretrained(\"gpt2\")\n",
    "\n",
    "# Example function to generate a description from features\n",
    "def generate_description_gpt2(features):\n",
    "    input_prompt = \"GIF description: \"\n",
    "    inputs = gpt2_tokenizer(input_prompt, return_tensors=\"pt\")\n",
    "    outputs = gpt2_model.generate(inputs.input_ids, max_length=50, num_beams=4, early_stopping=True)\n",
    "\n",
    "    description = gpt2_tokenizer.decode(outputs[0], skip_special_tokens=True)\n",
    "    return description\n",
    "\n",
    "\n"
   ]
  },
  {
   "cell_type": "code",
   "execution_count": 26,
   "id": "06c631b5-df4d-48f7-871d-9ab04f043dde",
   "metadata": {
    "tags": []
   },
   "outputs": [
    {
     "name": "stdout",
     "output_type": "stream",
     "text": [
      "1/1 [==============================] - 0s 107ms/step\n"
     ]
    },
    {
     "name": "stderr",
     "output_type": "stream",
     "text": [
      "2024-10-14 02:29:08.341867: I tensorflow/core/common_runtime/executor.cc:1197] [/device:CPU:0] (DEBUG INFO) Executor start aborting (this does not indicate an error and you can ignore this message): INVALID_ARGUMENT: You must feed a value for placeholder tensor 'Placeholder/_10' with dtype float and shape [1,32,224,224,3]\n",
      "\t [[{{node Placeholder/_10}}]]\n",
      "2024-10-14 02:29:08.342283: I tensorflow/core/common_runtime/executor.cc:1197] [/device:CPU:0] (DEBUG INFO) Executor start aborting (this does not indicate an error and you can ignore this message): INVALID_ARGUMENT: You must feed a value for placeholder tensor 'Placeholder/_10' with dtype float and shape [1,32,224,224,3]\n",
      "\t [[{{node Placeholder/_10}}]]\n",
      "The attention mask and the pad token id were not set. As a consequence, you may observe unexpected behavior. Please pass your input's `attention_mask` to obtain reliable results.\n",
      "Setting `pad_token_id` to `eos_token_id`:None for open-end generation.\n"
     ]
    },
    {
     "name": "stdout",
     "output_type": "stream",
     "text": [
      "Generated Description (GPT-2): GIF description: __________________\n",
      "\n",
      "I'm not sure if it's because I don't like it, or if it's because I don't like it at all. I'm not sure if it's because I don't like it,\n"
     ]
    }
   ],
   "source": [
    "# Redefine the tensor for the example GIF\n",
    "tensor_example = np.load('processed_data/gif_1_tensor.npy')  # Load tensor for GIF ID 1\n",
    "\n",
    "# Predict features using the 3D CNN model\n",
    "example_features = model_3d_cnn.predict(tf.convert_to_tensor([tensor_example]))\n",
    "\n",
    "# Test GPT-2 for generating description based on the extracted features\n",
    "example_description_gpt2 = generate_description_gpt2(example_features[0])\n",
    "print(\"Generated Description (GPT-2):\", example_description_gpt2)\n"
   ]
  },
  {
   "cell_type": "code",
   "execution_count": null,
   "id": "aeb6e92a-0cdf-4dc5-bd7e-76a23a88aee9",
   "metadata": {},
   "outputs": [],
   "source": []
  },
  {
   "cell_type": "code",
   "execution_count": 30,
   "id": "a10ab796-a792-4ec1-80b5-7b7096167ec6",
   "metadata": {
    "tags": []
   },
   "outputs": [
    {
     "name": "stdout",
     "output_type": "stream",
     "text": [
      "Updated metadata has been saved to 'processed_data/metadata_class.json' with extended class labels.\n",
      "File processed_data/metadata_class.json uploaded to processed_data/metadata_class.json.\n"
     ]
    }
   ],
   "source": [
    "import json\n",
    "from google.cloud import storage\n",
    "\n",
    "# Define the metadata dictionary (assuming it's already available)\n",
    "metadata_file_path = 'processed_data/metadata.json'\n",
    "\n",
    "# Load existing metadata\n",
    "with open(metadata_file_path, 'r') as f:\n",
    "    metadata = json.load(f)\n",
    "\n",
    "# Extend the function to assign even more detailed classes based on the description\n",
    "def assign_extended_class(description):\n",
    "    description = description.lower()\n",
    "    if 'cat' in description or 'dog' in description or 'tiger' in description or 'animal' in description or 'pet' in description:\n",
    "        return 'animal_interaction'\n",
    "    elif 'dancing' in description or 'dancer' in description or 'performing' in description or 'singing' in description or 'cheering' in description:\n",
    "        return 'performance'\n",
    "    elif 'hugging' in description or 'kissing' in description or 'love' in description or 'couple' in description or 'embrace' in description or 'affectionate' in description:\n",
    "        return 'affection'\n",
    "    elif 'fighting' in description or 'attacking' in description or 'destroy' in description or 'exploding' in description or 'violence' in description or 'shooting' in description or 'punching' in description:\n",
    "        return 'violence'\n",
    "    elif 'jumping' in description or 'acrobat' in description or 'biking' in description or 'skateboard' in description or 'running' in description or 'exercise' in description or 'sports' in description or 'gymnastics' in description:\n",
    "        return 'sport'\n",
    "    elif 'laughing' in description or 'smiling' in description or 'talking' in description or 'conversation' in description or 'winks' in description or 'speaking' in description or 'discussion' in description:\n",
    "        return 'conversation'\n",
    "    elif 'mirror' in description or 'reflection' in description or 'looking at self' in description:\n",
    "        return 'reflection'\n",
    "    elif 'vehicle' in description or 'car' in description or 'driving' in description or 'racing' in description or 'bike' in description or 'skateboard' in description or 'truck' in description or 'bus' in description:\n",
    "        return 'vehicle_related'\n",
    "    elif 'magic' in description or 'supernatural' in description or 'ghost' in description or 'floating' in description or 'wizard' in description or 'witch' in description or 'spells' in description:\n",
    "        return 'supernatural'\n",
    "    elif 'food' in description or 'eating' in description or 'drink' in description or 'coffee' in description or 'kitchen' in description or 'restaurant' in description:\n",
    "        return 'food_related'\n",
    "    elif 'performer' in description or 'stage' in description or 'concert' in description or 'band' in description or 'orchestra' in description or 'musician' in description:\n",
    "        return 'stage_performance'\n",
    "    elif 'water' in description or 'swimming' in description or 'pool' in description or 'sea' in description or 'ocean' in description or 'lake' in description or 'diving' in description:\n",
    "        return 'water_related'\n",
    "    elif 'baby' in description or 'child' in description or 'kid' in description or 'young boy' in description or 'young girl' in description or 'infant' in description or 'toddler' in description:\n",
    "        return 'children_related'\n",
    "    elif 'drunk' in description or 'intoxicated' in description or 'beer' in description or 'alcohol' in description or 'bar' in description:\n",
    "        return 'intoxication'\n",
    "    elif 'fire' in description or 'burning' in description or 'smoke' in description or 'flames' in description or 'explosion' in description:\n",
    "        return 'fire_related'\n",
    "    elif 'computer' in description or 'laptop' in description or 'tablet' in description or 'phone' in description or 'technology' in description or 'device' in description:\n",
    "        return 'technology_related'\n",
    "    elif 'crying' in description or 'sad' in description or 'tears' in description or 'emotional' in description or 'upset' in description:\n",
    "        return 'emotional'\n",
    "    elif 'celebration' in description or 'party' in description or 'birthday' in description or 'wedding' in description or 'festival' in description or 'cheering' in description:\n",
    "        return 'celebration'\n",
    "    elif 'snow' in description or 'ice' in description or 'skiing' in description or 'snowboarding' in description or 'winter' in description:\n",
    "        return 'winter_related'\n",
    "    elif 'sunset' in description or 'sunrise' in description or 'nature' in description or 'landscape' in description or 'forest' in description or 'mountain' in description or 'scenery' in description:\n",
    "        return 'nature_related'\n",
    "    else:\n",
    "        return 'miscellaneous'\n",
    "\n",
    "# Add the extended class labels to the metadata\n",
    "for gif_id, gif_data in metadata.items():\n",
    "    description = gif_data['description']\n",
    "    gif_data['class'] = assign_extended_class(description)\n",
    "\n",
    "# Save the updated metadata back to JSON\n",
    "updated_metadata_file_path = 'processed_data/metadata_class.json'\n",
    "with open(updated_metadata_file_path, 'w') as f:\n",
    "    json.dump(metadata, f, indent=4)\n",
    "\n",
    "print(f\"Updated metadata has been saved to '{updated_metadata_file_path}' with extended class labels.\")\n",
    "\n",
    "# Upload the updated metadata to Google Cloud Storage\n",
    "def upload_to_gcs(bucket_name, source_file_name, destination_blob_name):\n",
    "    \"\"\"Uploads a file to the bucket.\"\"\"\n",
    "    storage_client = storage.Client()\n",
    "    bucket = storage_client.bucket(bucket_name)\n",
    "    blob = bucket.blob(destination_blob_name)\n",
    "\n",
    "    blob.upload_from_filename(source_file_name)\n",
    "    print(f\"File {source_file_name} uploaded to {destination_blob_name}.\")\n",
    "\n",
    "# Set bucket details\n",
    "bucket_name = 'whathegifbucket'\n",
    "destination_blob_name = 'processed_data/metadata_class.json'\n",
    "\n",
    "# Upload the updated metadata file to GCS\n",
    "upload_to_gcs(bucket_name, updated_metadata_file_path, destination_blob_name)"
   ]
  },
  {
   "cell_type": "code",
   "execution_count": 31,
   "id": "2592f8c9-51d0-43e3-b1c6-c22328a04087",
   "metadata": {
    "tags": []
   },
   "outputs": [
    {
     "name": "stdout",
     "output_type": "stream",
     "text": [
      "Metadata Class for the first 5 GIFs:\n",
      "GIF ID: 1, Data: {'tensor_path': 'gs://whathegifbucket/processed_data/gif_1_tensor.npy', 'description': 'a man is glaring, and someone with sunglasses appears.', 'url': 'https://38.media.tumblr.com/9f6c25cc350f12aa74a7dc386a5c4985/tumblr_mevmyaKtDf1rgvhr8o1_500.gif', 'class': 'miscellaneous'}\n",
      "GIF ID: 2, Data: {'tensor_path': 'gs://whathegifbucket/processed_data/gif_2_tensor.npy', 'description': 'a cat tries to catch a mouse on a tablet', 'url': 'https://38.media.tumblr.com/9ead028ef62004ef6ac2b92e52edd210/tumblr_nok4eeONTv1s2yegdo1_400.gif', 'class': 'animal_interaction'}\n",
      "GIF ID: 3, Data: {'tensor_path': 'gs://whathegifbucket/processed_data/gif_3_tensor.npy', 'description': 'a man dressed in red is dancing.', 'url': 'https://38.media.tumblr.com/9f43dc410be85b1159d1f42663d811d7/tumblr_mllh01J96X1s9npefo1_250.gif', 'class': 'performance'}\n",
      "GIF ID: 4, Data: {'tensor_path': 'gs://whathegifbucket/processed_data/gif_4_tensor.npy', 'description': 'an animal comes close to another in the jungle', 'url': 'https://38.media.tumblr.com/9f659499c8754e40cf3f7ac21d08dae6/tumblr_nqlr0rn8ox1r2r0koo1_400.gif', 'class': 'animal_interaction'}\n",
      "GIF ID: 5, Data: {'tensor_path': 'gs://whathegifbucket/processed_data/gif_5_tensor.npy', 'description': 'a man in a hat adjusts his tie and makes a weird face.', 'url': 'https://38.media.tumblr.com/9ed1c99afa7d71411884101cb054f35f/tumblr_mvtuwlhSkE1qbnleeo1_500.gif', 'class': 'miscellaneous'}\n"
     ]
    }
   ],
   "source": [
    "# Load metadata from the local JSON file we just downloaded\n",
    "with open('processed_data/metadata_class.json', 'r') as f:\n",
    "    metadata = json.load(f)\n",
    "\n",
    "# Display part of the metadata for verification\n",
    "print(\"Metadata Class for the first 5 GIFs:\")\n",
    "for gif_id, gif_data in list(metadata.items())[:5]:\n",
    "    print(f\"GIF ID: {gif_id}, Data: {gif_data}\")"
   ]
  },
  {
   "cell_type": "code",
   "execution_count": 36,
   "id": "0555b930-b6a6-4824-b270-38d301ef54b9",
   "metadata": {
    "tags": []
   },
   "outputs": [
    {
     "data": {
      "text/plain": [
       "{'1': {'tensor_path': 'gs://whathegifbucket/processed_data/gif_1_tensor.npy',\n",
       "  'description': 'a man is glaring, and someone with sunglasses appears.',\n",
       "  'url': 'https://38.media.tumblr.com/9f6c25cc350f12aa74a7dc386a5c4985/tumblr_mevmyaKtDf1rgvhr8o1_500.gif',\n",
       "  'class': 'miscellaneous'},\n",
       " '2': {'tensor_path': 'gs://whathegifbucket/processed_data/gif_2_tensor.npy',\n",
       "  'description': 'a cat tries to catch a mouse on a tablet',\n",
       "  'url': 'https://38.media.tumblr.com/9ead028ef62004ef6ac2b92e52edd210/tumblr_nok4eeONTv1s2yegdo1_400.gif',\n",
       "  'class': 'animal_interaction'},\n",
       " '3': {'tensor_path': 'gs://whathegifbucket/processed_data/gif_3_tensor.npy',\n",
       "  'description': 'a man dressed in red is dancing.',\n",
       "  'url': 'https://38.media.tumblr.com/9f43dc410be85b1159d1f42663d811d7/tumblr_mllh01J96X1s9npefo1_250.gif',\n",
       "  'class': 'performance'},\n",
       " '4': {'tensor_path': 'gs://whathegifbucket/processed_data/gif_4_tensor.npy',\n",
       "  'description': 'an animal comes close to another in the jungle',\n",
       "  'url': 'https://38.media.tumblr.com/9f659499c8754e40cf3f7ac21d08dae6/tumblr_nqlr0rn8ox1r2r0koo1_400.gif',\n",
       "  'class': 'animal_interaction'},\n",
       " '5': {'tensor_path': 'gs://whathegifbucket/processed_data/gif_5_tensor.npy',\n",
       "  'description': 'a man in a hat adjusts his tie and makes a weird face.',\n",
       "  'url': 'https://38.media.tumblr.com/9ed1c99afa7d71411884101cb054f35f/tumblr_mvtuwlhSkE1qbnleeo1_500.gif',\n",
       "  'class': 'miscellaneous'},\n",
       " '6': {'tensor_path': 'gs://whathegifbucket/processed_data/gif_6_tensor.npy',\n",
       "  'description': 'someone puts a cat on wrapping paper then wraps it up and puts on a bow',\n",
       "  'url': 'https://38.media.tumblr.com/9e437d26769cb2ac4217df14dbb20034/tumblr_npw7v7W07C1tmj047o1_250.gif',\n",
       "  'class': 'animal_interaction'},\n",
       " '7': {'tensor_path': 'gs://whathegifbucket/processed_data/gif_7_tensor.npy',\n",
       "  'description': 'a brunette woman is looking at the man',\n",
       "  'url': 'https://38.media.tumblr.com/9e4ab65c0e7d4bb8aa6b5be854b83794/tumblr_mdlv9v6hE91qanrf2o1_r11_500.gif',\n",
       "  'class': 'miscellaneous'},\n",
       " '8': {'tensor_path': 'gs://whathegifbucket/processed_data/gif_8_tensor.npy',\n",
       "  'description': 'a man on a bicycle is jumping over a fence.',\n",
       "  'url': 'https://38.media.tumblr.com/9ecd3483028290171dcb5e920ff4e3bb/tumblr_nkcmeflaVj1u26rdio1_500.gif',\n",
       "  'class': 'sport'},\n",
       " '9': {'tensor_path': 'gs://whathegifbucket/processed_data/gif_9_tensor.npy',\n",
       "  'description': 'a group of men are standing and staring in the same direction.',\n",
       "  'url': 'https://38.media.tumblr.com/9f83754d20ce882224ae3392a8372ee8/tumblr_mkwd0y8Poo1qlnbq8o1_400.gif',\n",
       "  'class': 'miscellaneous'},\n",
       " '10': {'tensor_path': 'gs://whathegifbucket/processed_data/gif_10_tensor.npy',\n",
       "  'description': 'a man with black clothes is dancing sexy',\n",
       "  'url': 'https://38.media.tumblr.com/9f4cb2977d5cd905f57293ac506b9db8/tumblr_msij5q4Run1qd76t9o1_500.gif',\n",
       "  'class': 'performance'},\n",
       " '11': {'tensor_path': 'gs://whathegifbucket/processed_data/gif_11_tensor.npy',\n",
       "  'description': 'a boy is happy parking and see another boy',\n",
       "  'url': 'https://38.media.tumblr.com/9e6fcb37722bf01996209bdf76708559/tumblr_np9xo74UgD1ux4g5vo1_250.gif',\n",
       "  'class': 'miscellaneous'},\n",
       " '12': {'tensor_path': 'gs://whathegifbucket/processed_data/gif_12_tensor.npy',\n",
       "  'description': 'a man winks, and a man with a fork motions him to be quiet.',\n",
       "  'url': 'https://38.media.tumblr.com/881302bfd0245614cb165636887cfed6/tumblr_noncfelojf1uqmy01o1_500.gif',\n",
       "  'class': 'conversation'},\n",
       " '13': {'tensor_path': 'gs://whathegifbucket/processed_data/gif_13_tensor.npy',\n",
       "  'description': 'a man walks into a room and sees a girl floating above the bed',\n",
       "  'url': 'https://38.media.tumblr.com/886236e83a1a1b6ae9f4dc43509f2fe6/tumblr_nov5tja4g91rkmzrjo1_400.gif',\n",
       "  'class': 'supernatural'},\n",
       " '14': {'tensor_path': 'gs://whathegifbucket/processed_data/gif_14_tensor.npy',\n",
       "  'description': 'the vehicle is moving fast into the tunnel',\n",
       "  'url': 'https://38.media.tumblr.com/88817768f0c3b54c7a1b58908037ca1f/tumblr_nq7f66LEk41tzifluo1_400.gif',\n",
       "  'class': 'vehicle_related'},\n",
       " '15': {'tensor_path': 'gs://whathegifbucket/processed_data/gif_15_tensor.npy',\n",
       "  'description': 'a beatles show, paul is on the front singing very enthusiastically',\n",
       "  'url': 'https://38.media.tumblr.com/88de8efed91578715420f8a93c5e3da6/tumblr_nq3ofebQo51s4vpwjo1_500.gif',\n",
       "  'class': 'performance'},\n",
       " '16': {'tensor_path': 'gs://whathegifbucket/processed_data/gif_16_tensor.npy',\n",
       "  'description': 'a sport car is swinging on the race playground',\n",
       "  'url': 'https://38.media.tumblr.com/8952c98f05a5f01377ac98c041cfe63e/tumblr_nqofwqgS8d1siem3jo1_r1_400.gif',\n",
       "  'class': 'vehicle_related'},\n",
       " '17': {'tensor_path': 'gs://whathegifbucket/processed_data/gif_17_tensor.npy',\n",
       "  'description': 'a woman is laughing and holding a man, the man is not laughing',\n",
       "  'url': 'https://38.media.tumblr.com/881416379772a539d5bb311c5bab9cd9/tumblr_nmzcu205yo1qdj2qoo1_500.gif',\n",
       "  'class': 'conversation'},\n",
       " '18': {'tensor_path': 'gs://whathegifbucket/processed_data/gif_18_tensor.npy',\n",
       "  'description': 'a man with lights on his jacket watching a large screen tv',\n",
       "  'url': 'https://38.media.tumblr.com/88bd6013c943b41c93f685e0577b451c/tumblr_noxbsuCyAg1tjhed2o1_500.gif',\n",
       "  'class': 'miscellaneous'},\n",
       " '19': {'tensor_path': 'gs://whathegifbucket/processed_data/gif_19_tensor.npy',\n",
       "  'description': 'a gloved hand opens to reveal a golden ring.',\n",
       "  'url': 'https://38.media.tumblr.com/8911141195ce21e492761edba81ef309/tumblr_n4hv5jJDcS1t96jpzo1_500.gif',\n",
       "  'class': 'affection'},\n",
       " '20': {'tensor_path': 'gs://whathegifbucket/processed_data/gif_20_tensor.npy',\n",
       "  'description': 'a skate boarder is doing trick on his skate board.',\n",
       "  'url': 'https://38.media.tumblr.com/88091baac04b18ef73d93e56883dccfe/tumblr_npzfsr13I51uyqfd5o1_500.gif',\n",
       "  'class': 'miscellaneous'},\n",
       " '21': {'tensor_path': 'gs://whathegifbucket/processed_data/gif_21_tensor.npy',\n",
       "  'description': 'young man is clapping with his hand and dancing',\n",
       "  'url': 'https://38.media.tumblr.com/89160d6633d04d4a9c8e7c8085f1c74d/tumblr_nqmgdj8STn1rn1g1jo1_250.gif',\n",
       "  'class': 'performance'},\n",
       " '22': {'tensor_path': 'gs://whathegifbucket/processed_data/gif_22_tensor.npy',\n",
       "  'description': 'a guy are kissing a girl slowly in a swimming pool.',\n",
       "  'url': 'https://38.media.tumblr.com/8852d21ad80d138416453eb968ee97bc/tumblr_npntschfQp1qf69tyo1_500.gif',\n",
       "  'class': 'affection'},\n",
       " '23': {'tensor_path': 'gs://whathegifbucket/processed_data/gif_23_tensor.npy',\n",
       "  'description': 'the clouds are moving next to the full moon',\n",
       "  'url': 'https://38.media.tumblr.com/88976e0d8b0e068ebdb114ad9226b66a/tumblr_nmp0m0o3Iv1r44r7zo1_500.gif',\n",
       "  'class': 'miscellaneous'},\n",
       " '24': {'tensor_path': 'gs://whathegifbucket/processed_data/gif_24_tensor.npy',\n",
       "  'description': 'a man and woman is making out in the shower',\n",
       "  'url': 'https://38.media.tumblr.com/8f5d9f86ebefa35baeadaba5337d09fc/tumblr_nox28g9fv41tfkobto1_500.gif',\n",
       "  'class': 'miscellaneous'},\n",
       " '25': {'tensor_path': 'gs://whathegifbucket/processed_data/gif_25_tensor.npy',\n",
       "  'description': 'a wet cat in the bathtub tries to get out.',\n",
       "  'url': 'https://38.media.tumblr.com/90a1a65d2e1608451e84e2fe4bd16d04/tumblr_npse2pIimv1tyncywo1_400.gif',\n",
       "  'class': 'animal_interaction'},\n",
       " '26': {'tensor_path': 'gs://whathegifbucket/processed_data/gif_26_tensor.npy',\n",
       "  'description': 'four people dressed as squirrels are dancing in the woods',\n",
       "  'url': 'https://38.media.tumblr.com/902d6ba5bec4cf7a593cdc111fa88f6a/tumblr_n0lv33BBrb1rc0kvpo1_r1_250.gif',\n",
       "  'class': 'performance'},\n",
       " '27': {'tensor_path': 'gs://whathegifbucket/processed_data/gif_27_tensor.npy',\n",
       "  'description': 'a drummer is beating the drum with lightening fast speed.',\n",
       "  'url': 'https://38.media.tumblr.com/8f8d0f7a02f4ade5527ffd63ee9883fd/tumblr_np2k4xqcDt1s9b6vho1_500.gif',\n",
       "  'class': 'food_related'},\n",
       " '28': {'tensor_path': 'gs://whathegifbucket/processed_data/gif_28_tensor.npy',\n",
       "  'description': 'a sugar glider jumps off a belt on the wall',\n",
       "  'url': 'https://38.media.tumblr.com/909c68e83bf7299c07c53753b7f57366/tumblr_nntpx3AxcV1tyncywo1_500.gif',\n",
       "  'class': 'miscellaneous'},\n",
       " '29': {'tensor_path': 'gs://whathegifbucket/processed_data/gif_29_tensor.npy',\n",
       "  'description': 'some zombie are attacking a read head woman,',\n",
       "  'url': 'https://38.media.tumblr.com/8f7fabf26213fb6a683419f5a48d326d/tumblr_no5kyk0Mgs1urjsaqo1_400.gif',\n",
       "  'class': 'violence'},\n",
       " '30': {'tensor_path': 'gs://whathegifbucket/processed_data/gif_30_tensor.npy',\n",
       "  'description': \"a cat magically moves away from a man's food.\",\n",
       "  'url': 'https://38.media.tumblr.com/8fd8930ec4e3458c1e616d6002e6a53f/tumblr_nqq3ibcw841rvg72ao1_400.gif',\n",
       "  'class': 'animal_interaction'},\n",
       " '31': {'tensor_path': 'gs://whathegifbucket/processed_data/gif_31_tensor.npy',\n",
       "  'description': 'a man smiles and laughs into the microphone.',\n",
       "  'url': 'https://38.media.tumblr.com/8f976a0c90d91d940223d3a76de5006e/tumblr_mudwwxBWdn1qm26qzo1_500.gif',\n",
       "  'class': 'technology_related'},\n",
       " '32': {'tensor_path': 'gs://whathegifbucket/processed_data/gif_32_tensor.npy',\n",
       "  'description': 'a bald man drop one bomb and explode the local',\n",
       "  'url': 'https://38.media.tumblr.com/8f6110a0ec6a7409579b878ba09ae62f/tumblr_nq07jm1AQ51sja1kdo1_500.gif',\n",
       "  'class': 'miscellaneous'},\n",
       " '33': {'tensor_path': 'gs://whathegifbucket/processed_data/gif_33_tensor.npy',\n",
       "  'description': 'a man are holding a bottle taps it on his head.',\n",
       "  'url': 'https://38.media.tumblr.com/902f71ae45f50dc0a35c04323de6495a/tumblr_nj4iqcVaFQ1s26nzro1_500.gif',\n",
       "  'class': 'miscellaneous'},\n",
       " '34': {'tensor_path': 'gs://whathegifbucket/processed_data/gif_34_tensor.npy',\n",
       "  'description': 'a boy are talking to another boy with an open door.',\n",
       "  'url': 'https://38.media.tumblr.com/900fe9102f650f3277c7c3d57ea095bb/tumblr_npo3mtQ87f1uxcyego1_400.gif',\n",
       "  'class': 'conversation'},\n",
       " '35': {'tensor_path': 'gs://whathegifbucket/processed_data/gif_35_tensor.npy',\n",
       "  'description': 'a woman trying to control her dragon.',\n",
       "  'url': 'https://38.media.tumblr.com/901288b4a1c66c58571245623bca46f9/tumblr_nqexpu1pOL1sqicm1o1_500.gif',\n",
       "  'class': 'miscellaneous'},\n",
       " '36': {'tensor_path': 'gs://whathegifbucket/processed_data/gif_36_tensor.npy',\n",
       "  'description': 'the singer and artist are taking a look forward.',\n",
       "  'url': 'https://38.media.tumblr.com/8f53c46d4e2a40bc8dfc458fbd145cf1/tumblr_nq541zHa5n1uy63pco1_r1_250.gif',\n",
       "  'class': 'miscellaneous'},\n",
       " '37': {'tensor_path': 'gs://whathegifbucket/processed_data/gif_37_tensor.npy',\n",
       "  'description': 'a man is wearing a cap and headphones making hand gestures in front of a microphone.',\n",
       "  'url': 'https://38.media.tumblr.com/8fb23a0c630d559029d1ed77a9a5959e/tumblr_nnxshbEKOc1rqd7uco1_500.gif',\n",
       "  'class': 'technology_related'},\n",
       " '38': {'tensor_path': 'gs://whathegifbucket/processed_data/gif_38_tensor.npy',\n",
       "  'description': 'a couple standing in the sea embrace each other.',\n",
       "  'url': 'https://38.media.tumblr.com/8f5884647e1aaa0bda5677fbefec7ed4/tumblr_nq8ajiaBT71usj03ho1_500.gif',\n",
       "  'class': 'affection'},\n",
       " '39': {'tensor_path': 'gs://whathegifbucket/processed_data/gif_39_tensor.npy',\n",
       "  'description': \"a couple plays with each other's hair.\",\n",
       "  'url': 'https://38.media.tumblr.com/8bf7c993adf5ba5ecea8ed946f8eb10e/tumblr_np5x4gNc1L1ux4ymjo1_500.gif',\n",
       "  'class': 'affection'},\n",
       " '40': {'tensor_path': 'gs://whathegifbucket/processed_data/gif_40_tensor.npy',\n",
       "  'description': 'a man looking down looks up and speaks to his reflection',\n",
       "  'url': 'https://38.media.tumblr.com/8c4ee5c0338ad534042e85605b70c927/tumblr_npqraj6f5R1uuxd1yo1_500.gif',\n",
       "  'class': 'reflection'},\n",
       " '41': {'tensor_path': 'gs://whathegifbucket/processed_data/gif_41_tensor.npy',\n",
       "  'description': 'a man swing with his knife and destroy everything',\n",
       "  'url': 'https://38.media.tumblr.com/8b67dd69640e5b12d55fdd8257319782/tumblr_no2up3t1Bv1usegjto1_250.gif',\n",
       "  'class': 'violence'},\n",
       " '42': {'tensor_path': 'gs://whathegifbucket/processed_data/gif_42_tensor.npy',\n",
       "  'description': 'a woman is talking and holding a tea towel.',\n",
       "  'url': 'https://38.media.tumblr.com/8c90113076757a48a25a53942d829b02/tumblr_nl77cuGZWn1sm50zqo1_400.gif',\n",
       "  'class': 'conversation'},\n",
       " '43': {'tensor_path': 'gs://whathegifbucket/processed_data/gif_43_tensor.npy',\n",
       "  'description': 'a girl is smoking with his friend in the house',\n",
       "  'url': 'https://38.media.tumblr.com/8beac80e7df8b66fc5d50d9f0679c527/tumblr_nnn5873T0c1uqclqmo1_500.gif',\n",
       "  'class': 'miscellaneous'},\n",
       " '44': {'tensor_path': 'gs://whathegifbucket/processed_data/gif_44_tensor.npy',\n",
       "  'description': 'a woman in a blue shirt moved forwards.',\n",
       "  'url': 'https://38.media.tumblr.com/8bf3197a0c9d0218d2fef5b428d2c143/tumblr_nowg4sfk6D1qzefc2o1_400.gif',\n",
       "  'class': 'miscellaneous'},\n",
       " '45': {'tensor_path': 'gs://whathegifbucket/processed_data/gif_45_tensor.npy',\n",
       "  'description': 'a good looking guy in black is pouting.',\n",
       "  'url': 'https://38.media.tumblr.com/8b7e9aa41d080e9141a6f32fa4e7bbdc/tumblr_nohp6gAaLv1si7d5lo1_400.gif',\n",
       "  'class': 'miscellaneous'},\n",
       " '46': {'tensor_path': 'gs://whathegifbucket/processed_data/gif_46_tensor.npy',\n",
       "  'description': 'a cute little bulldog puppy is taking his tongue out.',\n",
       "  'url': 'https://38.media.tumblr.com/8cd34a2a68232f097b85f1839a2fd7a3/tumblr_npgxznNRd31uv0y2ro1_250.gif',\n",
       "  'class': 'animal_interaction'},\n",
       " '47': {'tensor_path': 'gs://whathegifbucket/processed_data/gif_47_tensor.npy',\n",
       "  'description': 'a man smells coffee in a brown bag.',\n",
       "  'url': 'https://38.media.tumblr.com/8cd949e726a9ec15950a4f4cda4eb330/tumblr_nq789eiheZ1r3kmkso1_1280.gif',\n",
       "  'class': 'food_related'},\n",
       " '48': {'tensor_path': 'gs://whathegifbucket/processed_data/gif_48_tensor.npy',\n",
       "  'description': 'a person is kissing another person with heavy makeup.',\n",
       "  'url': 'https://38.media.tumblr.com/8c572ffffaad8065e52d3235bd0146b5/tumblr_nqrlhsLD931uzihc0o1_500.gif',\n",
       "  'class': 'affection'},\n",
       " '49': {'tensor_path': 'gs://whathegifbucket/processed_data/gif_49_tensor.npy',\n",
       "  'description': 'a shirtless man with tattoos turns around.',\n",
       "  'url': 'https://38.media.tumblr.com/8bb63b757c40c499d2eccb9a2910d57b/tumblr_mgq9bwHRA51rhzq0oo1_500.gif',\n",
       "  'class': 'miscellaneous'},\n",
       " '50': {'tensor_path': 'gs://whathegifbucket/processed_data/gif_50_tensor.npy',\n",
       "  'description': 'smoke is coming out of some log burning near some building.',\n",
       "  'url': 'https://38.media.tumblr.com/8b8c94e0279cc6d2775ae08e0853f823/tumblr_nq5nstjatI1u1lytfo1_250.gif',\n",
       "  'class': 'fire_related'},\n",
       " '51': {'tensor_path': 'gs://whathegifbucket/processed_data/gif_51_tensor.npy',\n",
       "  'description': 'the tiger is running really fast in the garden',\n",
       "  'url': 'https://38.media.tumblr.com/8c14aa571911985d6d774762f8159452/tumblr_n4gk7efcMw1spy7ono1_400.gif',\n",
       "  'class': 'animal_interaction'},\n",
       " '52': {'tensor_path': 'gs://whathegifbucket/processed_data/gif_52_tensor.npy',\n",
       "  'description': 'a man are sticking out his tongue and shaking his head',\n",
       "  'url': 'https://38.media.tumblr.com/8cd3ac9b6db79b6fb1f52961bb173276/tumblr_nogx44forU1swlz57o1_500.gif',\n",
       "  'class': 'miscellaneous'},\n",
       " '53': {'tensor_path': 'gs://whathegifbucket/processed_data/gif_53_tensor.npy',\n",
       "  'description': 'a girl in a football uniform is dancing and singing',\n",
       "  'url': 'https://38.media.tumblr.com/70f4c1fc63e69bafb2c0aafcc293d6ff/tumblr_npc3iyfpDC1ux3xido1_400.gif',\n",
       "  'class': 'performance'},\n",
       " '54': {'tensor_path': 'gs://whathegifbucket/processed_data/gif_54_tensor.npy',\n",
       "  'description': \"the roof down and cut the boy's body\",\n",
       "  'url': 'https://38.media.tumblr.com/70f2b88e7ef089a5d8d3722dfceb1e55/tumblr_n8tb4xoSOr1sxfqdyo1_1280.gif',\n",
       "  'class': 'miscellaneous'},\n",
       " '55': {'tensor_path': 'gs://whathegifbucket/processed_data/gif_55_tensor.npy',\n",
       "  'description': 'a young person are wearing a bikini and helmet running down a corridor',\n",
       "  'url': 'https://38.media.tumblr.com/6f8901961aa2ff3f85a105e844ced445/tumblr_nq2px77Scz1uycuzco1_500.gif',\n",
       "  'class': 'sport'},\n",
       " '56': {'tensor_path': 'gs://whathegifbucket/processed_data/gif_56_tensor.npy',\n",
       "  'description': 'a man and woman are hugging in a shower.',\n",
       "  'url': 'https://38.media.tumblr.com/70af581598a20a1af31773cdab4b0321/tumblr_mxp686hce71sqec3to1_500.gif',\n",
       "  'class': 'affection'},\n",
       " '57': {'tensor_path': 'gs://whathegifbucket/processed_data/gif_57_tensor.npy',\n",
       "  'description': 'two guys are laughing and one falls down to the floor.',\n",
       "  'url': 'https://38.media.tumblr.com/6ff9ef1e816fed43fcf7e2f2498e1349/tumblr_nl33vmyhNi1u9vl8lo1_400.gif',\n",
       "  'class': 'conversation'},\n",
       " '58': {'tensor_path': 'gs://whathegifbucket/processed_data/gif_58_tensor.npy',\n",
       "  'description': 'a woman dances are holding a large pink ball.',\n",
       "  'url': 'https://38.media.tumblr.com/709628e0cae3704db3eae23d10695d67/tumblr_nntf25N0Fx1uu6kufo1_250.gif',\n",
       "  'class': 'miscellaneous'},\n",
       " '59': {'tensor_path': 'gs://whathegifbucket/processed_data/gif_59_tensor.npy',\n",
       "  'description': 'a young, shirtless man is giving the rock and roll symbol with his hands.',\n",
       "  'url': 'https://38.media.tumblr.com/708a8a33362c8b2548c5b9a09463da49/tumblr_mtbdvn6y1D1rjj5sho1_400.gif',\n",
       "  'class': 'miscellaneous'},\n",
       " '60': {'tensor_path': 'gs://whathegifbucket/processed_data/gif_60_tensor.npy',\n",
       "  'description': 'a man with longish hair laughs then puts his head down.',\n",
       "  'url': 'https://38.media.tumblr.com/6fb91b85be51fd128be592d4618b6cf7/tumblr_noco9fFCqL1rpe4qfo1_500.gif',\n",
       "  'class': 'miscellaneous'},\n",
       " '61': {'tensor_path': 'gs://whathegifbucket/processed_data/gif_61_tensor.npy',\n",
       "  'description': 'a woman has a conversation with a girl',\n",
       "  'url': 'https://38.media.tumblr.com/646593e337829d1ec07c41f628fbf431/tumblr_nju2re8NaP1ssgr2ko1_500.gif',\n",
       "  'class': 'conversation'},\n",
       " '62': {'tensor_path': 'gs://whathegifbucket/processed_data/gif_62_tensor.npy',\n",
       "  'description': 'a person with white hair is opening his mouth, there is smoke coming from bellow',\n",
       "  'url': 'https://38.media.tumblr.com/64d21677dbcd80a0b1c83082817d9bb3/tumblr_noish93cHw1u4k0zeo1_500.gif',\n",
       "  'class': 'fire_related'},\n",
       " '63': {'tensor_path': 'gs://whathegifbucket/processed_data/gif_63_tensor.npy',\n",
       "  'description': 'a woman blinks and jerks forward looking surprised.',\n",
       "  'url': 'https://38.media.tumblr.com/643522422670f705610510e57907fbec/tumblr_nqqpgscLkK1urwkppo1_400.gif',\n",
       "  'class': 'miscellaneous'},\n",
       " '64': {'tensor_path': 'gs://whathegifbucket/processed_data/gif_64_tensor.npy',\n",
       "  'description': 'a woman is posing to what appears to be a modeling photo shoot',\n",
       "  'url': 'https://38.media.tumblr.com/63bb0d748426c9cfb111917d2b8836d6/tumblr_mxtfcmpXuH1qgzzafo1_500.gif',\n",
       "  'class': 'miscellaneous'},\n",
       " '65': {'tensor_path': 'gs://whathegifbucket/processed_data/gif_65_tensor.npy',\n",
       "  'description': 'two boys walk down a hallway and look angry',\n",
       "  'url': 'https://38.media.tumblr.com/6421efefaae5fd090d75fd2b98d1382e/tumblr_ne86njGv9l1trq9l0o1_500.gif',\n",
       "  'class': 'miscellaneous'},\n",
       " '66': {'tensor_path': 'gs://whathegifbucket/processed_data/gif_66_tensor.npy',\n",
       "  'description': 'a man is walking in a crowd in the dark.',\n",
       "  'url': 'https://38.media.tumblr.com/6453cb7a476ce87f7abcfb7149b171bd/tumblr_nqgz75OOEB1snj1pfo1_500.gif',\n",
       "  'class': 'miscellaneous'},\n",
       " '67': {'tensor_path': 'gs://whathegifbucket/processed_data/gif_67_tensor.npy',\n",
       "  'description': \"A man and a woman stare into each other's eyes and talk\",\n",
       "  'url': 'https://38.media.tumblr.com/64ccc75d23cf6a8a3a43f32988991bb6/tumblr_nonwd4NsEu1qhyoyno1_250.gif',\n",
       "  'class': 'miscellaneous'},\n",
       " '68': {'tensor_path': 'gs://whathegifbucket/processed_data/gif_68_tensor.npy',\n",
       "  'description': 'a man with glasses are staring at something.',\n",
       "  'url': 'https://38.media.tumblr.com/6483c631effcc53025204ae6b66ffd3e/tumblr_noyw22UY4p1qax7m1o1_400.gif',\n",
       "  'class': 'miscellaneous'},\n",
       " '69': {'tensor_path': 'gs://whathegifbucket/processed_data/gif_69_tensor.npy',\n",
       "  'description': 'a car drives through a puddle and drenches people at a bus stop.',\n",
       "  'url': 'https://38.media.tumblr.com/64a238fc39c8ee1d313e40ffa48cda10/tumblr_npwndlNfA31unrb56o1_400.gif',\n",
       "  'class': 'vehicle_related'},\n",
       " '70': {'tensor_path': 'gs://whathegifbucket/processed_data/gif_70_tensor.npy',\n",
       "  'description': 'a person makes a figure with his hand in a mirror',\n",
       "  'url': 'https://38.media.tumblr.com/813707bd10cda80f211f178dd254f234/tumblr_nlbv8s8oKn1rkvwppo1_500.gif',\n",
       "  'class': 'reflection'},\n",
       " '71': {'tensor_path': 'gs://whathegifbucket/processed_data/gif_71_tensor.npy',\n",
       "  'description': 'the girl with the glasses and jacket is jumping',\n",
       "  'url': 'https://38.media.tumblr.com/81fb51d8e89a8af3bc0cd8396711281d/tumblr_nl2atgmJOt1tam15wo1_500.gif',\n",
       "  'class': 'sport'},\n",
       " '72': {'tensor_path': 'gs://whathegifbucket/processed_data/gif_72_tensor.npy',\n",
       "  'description': 'a man is sitting on a sofa beside three others and is throwing a drumstick on the floor.',\n",
       "  'url': 'https://38.media.tumblr.com/80f4f7bcf1ccf55b56a790f358da0a5f/tumblr_nkymseZ2UC1u4gszco1_400.gif',\n",
       "  'class': 'miscellaneous'},\n",
       " '73': {'tensor_path': 'gs://whathegifbucket/processed_data/gif_73_tensor.npy',\n",
       "  'description': 'a man with microphone falls back into crowd.',\n",
       "  'url': 'https://38.media.tumblr.com/81ee9eb0f2fe73e68153c8aa0e9e0c61/tumblr_n0aovd6keZ1sgtd4uo1_500.gif',\n",
       "  'class': 'technology_related'},\n",
       " '74': {'tensor_path': 'gs://whathegifbucket/processed_data/gif_74_tensor.npy',\n",
       "  'description': 'a man riding on some drum and beating it and singing.',\n",
       "  'url': 'https://38.media.tumblr.com/81c408ac0a101d90c548284655f22c41/tumblr_notdrxYMLZ1uwsm9to1_400.gif',\n",
       "  'class': 'performance'},\n",
       " '75': {'tensor_path': 'gs://whathegifbucket/processed_data/gif_75_tensor.npy',\n",
       "  'description': 'a man with is shaking his hands up and down.',\n",
       "  'url': 'https://38.media.tumblr.com/8178f0c2ddf9d898b697e1f9738b3ec2/tumblr_npuokpnu8f1szd8auo1_400.gif',\n",
       "  'class': 'miscellaneous'},\n",
       " '76': {'tensor_path': 'gs://whathegifbucket/processed_data/gif_76_tensor.npy',\n",
       "  'description': 'a girl who has a pink hat and clothes are smiling.',\n",
       "  'url': 'https://38.media.tumblr.com/8280fface19efac034d699ce72d8cbfe/tumblr_nq3arkKkE41utbf1ao1_500.gif',\n",
       "  'class': 'conversation'},\n",
       " '77': {'tensor_path': 'gs://whathegifbucket/processed_data/gif_77_tensor.npy',\n",
       "  'description': 'two feet with painted nails is wearing high-heeled sandals.',\n",
       "  'url': 'https://38.media.tumblr.com/813610370f0da5aff754a73d3cf4d973/tumblr_nq0ki6PRbw1tqvovno1_400.gif',\n",
       "  'class': 'miscellaneous'},\n",
       " '78': {'tensor_path': 'gs://whathegifbucket/processed_data/gif_78_tensor.npy',\n",
       "  'description': 'a man are doing acrobatic stunts on the wing of a plane.',\n",
       "  'url': 'https://38.media.tumblr.com/819a74539497ae1899be30977054ea8e/tumblr_np541orFHz1uwafnqo1_400.gif',\n",
       "  'class': 'sport'},\n",
       " '79': {'tensor_path': 'gs://whathegifbucket/processed_data/gif_79_tensor.npy',\n",
       "  'description': 'a man in a suit is talking on a cell phone.',\n",
       "  'url': 'https://38.media.tumblr.com/81976ab164f44c6d4a5df1e567a7a41f/tumblr_npx4q3yGPC1thfk1ho1_250.gif',\n",
       "  'class': 'conversation'},\n",
       " '80': {'tensor_path': 'gs://whathegifbucket/processed_data/gif_80_tensor.npy',\n",
       "  'description': 'a girl are taking the laundry down on a windy day.',\n",
       "  'url': 'https://38.media.tumblr.com/a8202ac881bda3a893dc06329d797230/tumblr_nqc68gfjSw1uxae7wo1_400.gif',\n",
       "  'class': 'miscellaneous'},\n",
       " '81': {'tensor_path': 'gs://whathegifbucket/processed_data/gif_81_tensor.npy',\n",
       "  'description': 'two boys are walking, the one in the front licks his finger.',\n",
       "  'url': 'https://38.media.tumblr.com/a750d8b2acaa32e6112665a939e886c2/tumblr_nqjagbJPI91sygccjo1_540.gif',\n",
       "  'class': 'miscellaneous'},\n",
       " '82': {'tensor_path': 'gs://whathegifbucket/processed_data/gif_82_tensor.npy',\n",
       "  'description': 'a skateboarder doing a trick inside a drained pool',\n",
       "  'url': 'https://38.media.tumblr.com/a6a2f2c7bb44565ddd093676807ac8d9/tumblr_no5j5oD1q21ri61l0o1_400.gif',\n",
       "  'class': 'sport'},\n",
       " '83': {'tensor_path': 'gs://whathegifbucket/processed_data/gif_83_tensor.npy',\n",
       "  'description': 'a boy and a girl are walking down hand in hand.',\n",
       "  'url': 'https://38.media.tumblr.com/a73a6a3c2667bb7a0bbbe9854c4f5d86/tumblr_ni2l89yZ7r1u4o6i5o1_500.gif',\n",
       "  'class': 'miscellaneous'},\n",
       " '84': {'tensor_path': 'gs://whathegifbucket/processed_data/gif_84_tensor.npy',\n",
       "  'description': 'a lot of pines are crossing along a side of a road.',\n",
       "  'url': 'https://38.media.tumblr.com/a72891929bfbf6683c4b6f81b6bd4b3c/tumblr_mvuy2hVOOD1rngmtco1_500.gif',\n",
       "  'class': 'miscellaneous'},\n",
       " '85': {'tensor_path': 'gs://whathegifbucket/processed_data/gif_85_tensor.npy',\n",
       "  'description': 'a skateboarder jumps onto and off a stone platform.',\n",
       "  'url': 'https://38.media.tumblr.com/a7fe1e1d1525d13775042c4f4d480f6a/tumblr_npybchwzUr1ri61l0o1_400.gif',\n",
       "  'class': 'sport'},\n",
       " '86': {'tensor_path': 'gs://whathegifbucket/processed_data/gif_86_tensor.npy',\n",
       "  'description': 'an asian man is talking in front of a microphone.',\n",
       "  'url': 'https://38.media.tumblr.com/a4f761492781f2985c9b470f3764ee87/tumblr_mppeopxznZ1rku4s3o1_500.gif',\n",
       "  'class': 'conversation'},\n",
       " '87': {'tensor_path': 'gs://whathegifbucket/processed_data/gif_87_tensor.npy',\n",
       "  'description': 'a guy makes a funny face and raises his eyebrows while putting on sunglasses',\n",
       "  'url': 'https://38.media.tumblr.com/a5f27adf06dac45af78b4976707a2f55/tumblr_mrmmwo38f01qc03ipo1_250.gif',\n",
       "  'class': 'miscellaneous'},\n",
       " '88': {'tensor_path': 'gs://whathegifbucket/processed_data/gif_88_tensor.npy',\n",
       "  'description': 'a guy are talking and touching his hair.',\n",
       "  'url': 'https://38.media.tumblr.com/a54f528e0dc20af6982a459d788cd477/tumblr_not9zcAaHu1uvzbfuo1_400.gif',\n",
       "  'class': 'conversation'},\n",
       " '89': {'tensor_path': 'gs://whathegifbucket/processed_data/gif_89_tensor.npy',\n",
       "  'description': 'a red dinosaur costume tripped on the gym floor.',\n",
       "  'url': 'https://38.media.tumblr.com/a614a76688228eb82c5879850d8fffe5/tumblr_nohs96BXF91u9mqd6o1_400.gif',\n",
       "  'class': 'miscellaneous'},\n",
       " '90': {'tensor_path': 'gs://whathegifbucket/processed_data/gif_90_tensor.npy',\n",
       "  'description': 'a boy are running and jumping over a ball.',\n",
       "  'url': 'https://38.media.tumblr.com/a529f7267f796ebd64a579a303194858/tumblr_nq77k6nh6H1tn6vtbo1_500.gif',\n",
       "  'class': 'sport'},\n",
       " '91': {'tensor_path': 'gs://whathegifbucket/processed_data/gif_91_tensor.npy',\n",
       "  'description': 'a girl is doing hanging push ups in a gym.',\n",
       "  'url': 'https://38.media.tumblr.com/a52888989b59a45aba7ba81e2c22bb9c/tumblr_npx2d96ZLV1uuyoqfo1_500.gif',\n",
       "  'class': 'miscellaneous'},\n",
       " '92': {'tensor_path': 'gs://whathegifbucket/processed_data/gif_92_tensor.npy',\n",
       "  'description': 'a young white boy in white shirt is brushing his hair',\n",
       "  'url': 'https://38.media.tumblr.com/a5bbe3fbabae73d54d80364c2dc845f6/tumblr_npm622Izam1rx8qjfo1_400.gif',\n",
       "  'class': 'miscellaneous'},\n",
       " '93': {'tensor_path': 'gs://whathegifbucket/processed_data/gif_93_tensor.npy',\n",
       "  'description': 'a man stares blankly while another man moves in double exposure.',\n",
       "  'url': 'https://38.media.tumblr.com/a56359972856860dae178804cf85e363/tumblr_no22jv00hd1th31wno2_400.gif',\n",
       "  'class': 'miscellaneous'},\n",
       " '94': {'tensor_path': 'gs://whathegifbucket/processed_data/gif_94_tensor.npy',\n",
       "  'description': 'a man dives from a cliff into the sea',\n",
       "  'url': 'https://38.media.tumblr.com/a545ea6bd45afcf422e28070ff26db59/tumblr_nnxz08i1sa1uoynh5o1_500.gif',\n",
       "  'class': 'water_related'},\n",
       " '95': {'tensor_path': 'gs://whathegifbucket/processed_data/gif_95_tensor.npy',\n",
       "  'description': 'a man is speaking with someone and smiling.',\n",
       "  'url': 'https://38.media.tumblr.com/a6418c7e149962c6330c425866a22a44/tumblr_mpehmq9Xmk1s6our6o1_500.gif',\n",
       "  'class': 'conversation'},\n",
       " '96': {'tensor_path': 'gs://whathegifbucket/processed_data/gif_96_tensor.npy',\n",
       "  'description': 'a dark figure is appearing and disappearing on some kind of visual recording.',\n",
       "  'url': 'https://38.media.tumblr.com/b1fdd23b1bb5f47b597b1b4ebb15b137/tumblr_nqaoo8yMNY1uxae7wo1_500.gif',\n",
       "  'class': 'miscellaneous'},\n",
       " '97': {'tensor_path': 'gs://whathegifbucket/processed_data/gif_97_tensor.npy',\n",
       "  'description': 'a man are holding a sparkly ornament on his arm.',\n",
       "  'url': 'https://38.media.tumblr.com/b2ce5f54a11e8aec0c32a4cbb691ebd0/tumblr_no3inlKHGv1smv1p3o1_400.gif',\n",
       "  'class': 'miscellaneous'},\n",
       " '98': {'tensor_path': 'gs://whathegifbucket/processed_data/gif_98_tensor.npy',\n",
       "  'description': 'a woman is eating while looking angry.',\n",
       "  'url': 'https://38.media.tumblr.com/b1bcf68a98567753a9ddfe5b20600d9a/tumblr_npbyvpJ3V31us4t6to1_500.gif',\n",
       "  'class': 'food_related'},\n",
       " '99': {'tensor_path': 'gs://whathegifbucket/processed_data/gif_99_tensor.npy',\n",
       "  'description': 'a performer slides his hand up his thigh at a concert while gritting his teeth.',\n",
       "  'url': 'https://38.media.tumblr.com/b312c5dc018fde65132e221003c9b842/tumblr_npjdz5Rgcs1u8gd00o1_500.gif',\n",
       "  'class': 'stage_performance'},\n",
       " '100': {'tensor_path': 'gs://whathegifbucket/processed_data/gif_100_tensor.npy',\n",
       "  'description': 'the boy in the brown shirt is jumping behind',\n",
       "  'url': 'https://38.media.tumblr.com/b324f389754052c872ba05970687e144/tumblr_nprx63hci41tlpnk6o1_400.gif',\n",
       "  'class': 'sport'}}"
      ]
     },
     "execution_count": 36,
     "metadata": {},
     "output_type": "execute_result"
    }
   ],
   "source": [
    "metadata"
   ]
  },
  {
   "cell_type": "code",
   "execution_count": 41,
   "id": "d26abd0d-1dd4-47c6-848f-f8aa0a5036f3",
   "metadata": {
    "tags": []
   },
   "outputs": [],
   "source": [
    "blob = bucket.blob('processed_data/gif_1_tensor.npy')\n"
   ]
  },
  {
   "cell_type": "code",
   "execution_count": 44,
   "id": "c20cf726-67dd-4bbc-9ff1-59ac80d60105",
   "metadata": {
    "tags": []
   },
   "outputs": [
    {
     "name": "stdout",
     "output_type": "stream",
     "text": [
      "Requirement already satisfied: google-cloud-storage in /opt/conda/lib/python3.10/site-packages (2.14.0)\n",
      "Requirement already satisfied: google-auth<3.0dev,>=2.23.3 in /opt/conda/lib/python3.10/site-packages (from google-cloud-storage) (2.35.0)\n",
      "Requirement already satisfied: google-api-core!=2.0.*,!=2.1.*,!=2.2.*,!=2.3.0,<3.0.0dev,>=1.31.5 in /opt/conda/lib/python3.10/site-packages (from google-cloud-storage) (1.34.1)\n",
      "Requirement already satisfied: google-cloud-core<3.0dev,>=2.3.0 in /opt/conda/lib/python3.10/site-packages (from google-cloud-storage) (2.4.1)\n",
      "Requirement already satisfied: google-resumable-media>=2.6.0 in /opt/conda/lib/python3.10/site-packages (from google-cloud-storage) (2.7.2)\n",
      "Requirement already satisfied: requests<3.0.0dev,>=2.18.0 in /opt/conda/lib/python3.10/site-packages (from google-cloud-storage) (2.32.3)\n",
      "Requirement already satisfied: google-crc32c<2.0dev,>=1.0 in /opt/conda/lib/python3.10/site-packages (from google-cloud-storage) (1.6.0)\n",
      "Requirement already satisfied: googleapis-common-protos<2.0dev,>=1.56.2 in /opt/conda/lib/python3.10/site-packages (from google-api-core!=2.0.*,!=2.1.*,!=2.2.*,!=2.3.0,<3.0.0dev,>=1.31.5->google-cloud-storage) (1.65.0)\n",
      "Requirement already satisfied: protobuf!=3.20.0,!=3.20.1,!=4.21.0,!=4.21.1,!=4.21.2,!=4.21.3,!=4.21.4,!=4.21.5,<4.0.0dev,>=3.19.5 in /opt/conda/lib/python3.10/site-packages (from google-api-core!=2.0.*,!=2.1.*,!=2.2.*,!=2.3.0,<3.0.0dev,>=1.31.5->google-cloud-storage) (3.20.3)\n",
      "Requirement already satisfied: cachetools<6.0,>=2.0.0 in /opt/conda/lib/python3.10/site-packages (from google-auth<3.0dev,>=2.23.3->google-cloud-storage) (4.2.4)\n",
      "Requirement already satisfied: pyasn1-modules>=0.2.1 in /opt/conda/lib/python3.10/site-packages (from google-auth<3.0dev,>=2.23.3->google-cloud-storage) (0.4.1)\n",
      "Requirement already satisfied: rsa<5,>=3.1.4 in /opt/conda/lib/python3.10/site-packages (from google-auth<3.0dev,>=2.23.3->google-cloud-storage) (4.9)\n",
      "Requirement already satisfied: charset-normalizer<4,>=2 in /opt/conda/lib/python3.10/site-packages (from requests<3.0.0dev,>=2.18.0->google-cloud-storage) (3.3.2)\n",
      "Requirement already satisfied: idna<4,>=2.5 in /opt/conda/lib/python3.10/site-packages (from requests<3.0.0dev,>=2.18.0->google-cloud-storage) (3.10)\n",
      "Requirement already satisfied: urllib3<3,>=1.21.1 in /opt/conda/lib/python3.10/site-packages (from requests<3.0.0dev,>=2.18.0->google-cloud-storage) (1.26.20)\n",
      "Requirement already satisfied: certifi>=2017.4.17 in /opt/conda/lib/python3.10/site-packages (from requests<3.0.0dev,>=2.18.0->google-cloud-storage) (2024.8.30)\n",
      "Requirement already satisfied: pyasn1<0.7.0,>=0.4.6 in /opt/conda/lib/python3.10/site-packages (from pyasn1-modules>=0.2.1->google-auth<3.0dev,>=2.23.3->google-cloud-storage) (0.6.1)\n"
     ]
    }
   ],
   "source": [
    "!pip install google-cloud-storage\n"
   ]
  },
  {
   "cell_type": "code",
   "execution_count": 45,
   "id": "28813022-bf36-45cb-88b6-5ff9028d63d1",
   "metadata": {
    "tags": []
   },
   "outputs": [],
   "source": [
    "from google.cloud import storage\n",
    "import numpy as np\n",
    "import io\n"
   ]
  },
  {
   "cell_type": "code",
   "execution_count": 46,
   "id": "2834de1d-e051-420b-bdeb-b8583f5639ed",
   "metadata": {
    "tags": []
   },
   "outputs": [],
   "source": [
    "# Initialize the client\n",
    "client = storage.Client()\n"
   ]
  },
  {
   "cell_type": "code",
   "execution_count": 47,
   "id": "8254fd25-2849-4fcd-84e4-a7763b364bd1",
   "metadata": {
    "tags": []
   },
   "outputs": [],
   "source": [
    "# Your GCS bucket name\n",
    "bucket_name = 'whathegifbucket'  # Replace with your actual bucket name if different\n",
    "\n",
    "# Path to your tensor file inside the bucket\n",
    "blob_name = 'processed_data/gif_1_tensor.npy'"
   ]
  },
  {
   "cell_type": "code",
   "execution_count": 48,
   "id": "2f5d721c-a59b-4bdb-92dd-99367e8fd86a",
   "metadata": {
    "tags": []
   },
   "outputs": [
    {
     "name": "stdout",
     "output_type": "stream",
     "text": [
      "Sample tensor shape: (32, 224, 224, 3)\n"
     ]
    }
   ],
   "source": [
    "# Get the bucket\n",
    "bucket = client.bucket(bucket_name)\n",
    "\n",
    "# Get the blob (your tensor file)\n",
    "blob = bucket.blob(blob_name)\n",
    "\n",
    "# Download the blob's content as bytes\n",
    "data = blob.download_as_bytes()\n",
    "\n",
    "# Load the numpy array from bytes\n",
    "sample_tensor = np.load(io.BytesIO(data))\n",
    "\n",
    "# Print the shape of the sample tensor\n",
    "print(\"Sample tensor shape:\", sample_tensor.shape)\n"
   ]
  },
  {
   "cell_type": "code",
   "execution_count": 49,
   "id": "08878ce8-e57f-4abb-85f3-0eeaf1af19d5",
   "metadata": {
    "tags": []
   },
   "outputs": [
    {
     "name": "stdout",
     "output_type": "stream",
     "text": [
      "Unique classes: ['miscellaneous', 'sport', 'vehicle_related', 'technology_related', 'reflection', 'fire_related', 'supernatural', 'violence', 'affection', 'food_related', 'stage_performance', 'water_related', 'animal_interaction', 'conversation', 'performance']\n",
      "Number of classes: 15\n"
     ]
    }
   ],
   "source": [
    "# Assuming 'metadata' is your dictionary containing all GIF data\n",
    "classes = []\n",
    "\n",
    "for gif_id, gif_data in metadata.items():\n",
    "    classes.append(gif_data['class'])\n",
    "\n",
    "# Get the unique classes\n",
    "unique_classes = list(set(classes))\n",
    "num_classes = len(unique_classes)\n",
    "\n",
    "print(\"Unique classes:\", unique_classes)\n",
    "print(\"Number of classes:\", num_classes)\n"
   ]
  },
  {
   "cell_type": "code",
   "execution_count": 50,
   "id": "4c68c969-371f-4989-bcdd-cdafbdbbfda5",
   "metadata": {
    "tags": []
   },
   "outputs": [],
   "source": [
    "num_classes = 15\n"
   ]
  },
  {
   "cell_type": "code",
   "execution_count": 54,
   "id": "92721d98-e060-4ebd-a78c-2b821aa2163a",
   "metadata": {
    "tags": []
   },
   "outputs": [],
   "source": [
    "tensors = []\n",
    "labels = []\n"
   ]
  },
  {
   "cell_type": "code",
   "execution_count": 55,
   "id": "7df875c9-a70e-49ef-9e24-8e11f9c1186f",
   "metadata": {
    "tags": []
   },
   "outputs": [],
   "source": [
    "import tensorflow as tf\n",
    "import numpy as np\n",
    "import cv2\n",
    "\n",
    "def load_tensor_from_gcs(gcs_path, target_frames=32, target_size=(224, 224)):\n",
    "    # Load the tensor from GCS\n",
    "    with tf.io.gfile.GFile(gcs_path, 'rb') as f:\n",
    "        tensor = np.load(f)\n",
    "    \n",
    "    # Ensure tensor has shape (frames, height, width, channels)\n",
    "    if tensor.ndim == 4:\n",
    "        # Check if channels are in the last dimension\n",
    "        if tensor.shape[-1] != 3:\n",
    "            # Adjust if channels are not in the last dimension\n",
    "            tensor = np.transpose(tensor, (0, 2, 3, 1))\n",
    "    else:\n",
    "        print(f\"Unexpected tensor shape: {tensor.shape}\")\n",
    "        return None\n",
    "\n",
    "    # Adjust the number of frames\n",
    "    total_frames = tensor.shape[0]\n",
    "    if total_frames > target_frames:\n",
    "        # Sample frames uniformly\n",
    "        indices = np.linspace(0, total_frames - 1, target_frames).astype(int)\n",
    "        tensor = tensor[indices]\n",
    "    elif total_frames < target_frames:\n",
    "        # Repeat last frame to reach the target number of frames\n",
    "        last_frame = tensor[-1]\n",
    "        padding = np.repeat(last_frame[np.newaxis, ...], target_frames - total_frames, axis=0)\n",
    "        tensor = np.concatenate((tensor, padding), axis=0)\n",
    "\n",
    "    # Resize frames to the target size\n",
    "    resized_frames = []\n",
    "    for frame in tensor:\n",
    "        resized_frame = cv2.resize(frame, target_size)\n",
    "        resized_frames.append(resized_frame)\n",
    "    tensor = np.array(resized_frames)\n",
    "\n",
    "    # Normalize pixel values to [0, 1]\n",
    "    tensor = tensor.astype(np.float32) / 255.0\n",
    "\n",
    "    return tensor\n"
   ]
  },
  {
   "cell_type": "code",
   "execution_count": 56,
   "id": "7400145f-c2ed-4462-900e-7c8f6d69aa87",
   "metadata": {
    "tags": []
   },
   "outputs": [
    {
     "name": "stdout",
     "output_type": "stream",
     "text": [
      "Loading tensors and labels...\n",
      "Finished loading tensors and labels.\n"
     ]
    }
   ],
   "source": [
    "print(\"Loading tensors and labels...\")\n",
    "for gif_id, gif_data in metadata.items():\n",
    "    tensor_gcs_path = gif_data['tensor_path']\n",
    "    label = gif_data['class']\n",
    "    \n",
    "    # Load the tensor\n",
    "    try:\n",
    "        tensor = load_tensor_from_gcs(tensor_gcs_path)\n",
    "        if tensor is not None:\n",
    "            tensors.append(tensor)\n",
    "            labels.append(label)\n",
    "        else:\n",
    "            print(f\"Skipping GIF ID {gif_id} due to unexpected tensor shape.\")\n",
    "    except Exception as e:\n",
    "        print(f\"Error loading tensor for GIF ID {gif_id}: {e}\")\n",
    "        continue\n",
    "print(\"Finished loading tensors and labels.\")\n"
   ]
  },
  {
   "cell_type": "code",
   "execution_count": 57,
   "id": "86226d2c-ec72-4152-958a-0604565516ea",
   "metadata": {
    "tags": []
   },
   "outputs": [],
   "source": [
    "X = np.array(tensors)\n",
    "y = np.array(labels)\n"
   ]
  },
  {
   "cell_type": "code",
   "execution_count": 58,
   "id": "c885b290-4fc6-481e-aa9a-8480b191f4b4",
   "metadata": {
    "tags": []
   },
   "outputs": [
    {
     "name": "stdout",
     "output_type": "stream",
     "text": [
      "Shape of X: (100, 32, 224, 224, 3)\n",
      "Shape of y: (100,)\n"
     ]
    }
   ],
   "source": [
    "print(\"Shape of X:\", X.shape)\n",
    "print(\"Shape of y:\", y.shape)\n"
   ]
  },
  {
   "cell_type": "markdown",
   "id": "407f25a0-ea5b-4609-bdf7-bfe9bb5b4249",
   "metadata": {},
   "source": [
    "The shapes of the data look correct.\n",
    "\n",
    "Shape of X: (100, 32, 224, 224, 3)\n",
    "100 samples.\n",
    "Each sample has 32 frames.\n",
    "Each frame is of size 224x224 pixels with 3 color channels (RGB).\n",
    "Shape of y: (100,)\n",
    "100 labels corresponding to the samples."
   ]
  },
  {
   "cell_type": "code",
   "execution_count": 61,
   "id": "05586bdc-2e1e-4aab-a794-0b2ebbc6c35d",
   "metadata": {
    "tags": []
   },
   "outputs": [
    {
     "name": "stdout",
     "output_type": "stream",
     "text": [
      "Number of classes: 15\n",
      "Classes: ['affection' 'animal_interaction' 'conversation' 'fire_related'\n",
      " 'food_related' 'miscellaneous' 'performance' 'reflection' 'sport'\n",
      " 'stage_performance' 'supernatural' 'technology_related' 'vehicle_related'\n",
      " 'violence' 'water_related']\n"
     ]
    }
   ],
   "source": [
    "from sklearn.preprocessing import LabelEncoder\n",
    "from tensorflow.keras.utils import to_categorical\n",
    "\n",
    "# Encode labels\n",
    "label_encoder = LabelEncoder()\n",
    "integer_encoded = label_encoder.fit_transform(y)\n",
    "num_classes = len(label_encoder.classes_)\n",
    "print(\"Number of classes:\", num_classes)\n",
    "print(\"Classes:\", label_encoder.classes_)\n",
    "\n",
    "# Convert labels to one-hot encoding\n",
    "y_encoded = to_categorical(integer_encoded, num_classes=num_classes)\n"
   ]
  },
  {
   "cell_type": "markdown",
   "id": "6f723bc6-9ba0-415b-ae1b-545618024879",
   "metadata": {},
   "source": [
    "# Data Split"
   ]
  },
  {
   "cell_type": "code",
   "execution_count": 62,
   "id": "119879dc-231e-4f75-b635-6b4ac73c36c4",
   "metadata": {
    "tags": []
   },
   "outputs": [
    {
     "ename": "ValueError",
     "evalue": "The least populated class in y has only 1 member, which is too few. The minimum number of groups for any class cannot be less than 2.",
     "output_type": "error",
     "traceback": [
      "\u001b[0;31m---------------------------------------------------------------------------\u001b[0m",
      "\u001b[0;31mValueError\u001b[0m                                Traceback (most recent call last)",
      "Cell \u001b[0;32mIn[62], line 4\u001b[0m\n\u001b[1;32m      1\u001b[0m \u001b[38;5;28;01mfrom\u001b[39;00m \u001b[38;5;21;01msklearn\u001b[39;00m\u001b[38;5;21;01m.\u001b[39;00m\u001b[38;5;21;01mmodel_selection\u001b[39;00m \u001b[38;5;28;01mimport\u001b[39;00m train_test_split\n\u001b[1;32m      3\u001b[0m \u001b[38;5;66;03m# Split the data\u001b[39;00m\n\u001b[0;32m----> 4\u001b[0m X_train, X_val, y_train, y_val \u001b[38;5;241m=\u001b[39m \u001b[43mtrain_test_split\u001b[49m\u001b[43m(\u001b[49m\n\u001b[1;32m      5\u001b[0m \u001b[43m    \u001b[49m\u001b[43mX\u001b[49m\u001b[43m,\u001b[49m\u001b[43m \u001b[49m\u001b[43my_encoded\u001b[49m\u001b[43m,\u001b[49m\u001b[43m \u001b[49m\u001b[43mtest_size\u001b[49m\u001b[38;5;241;43m=\u001b[39;49m\u001b[38;5;241;43m0.2\u001b[39;49m\u001b[43m,\u001b[49m\u001b[43m \u001b[49m\u001b[43mrandom_state\u001b[49m\u001b[38;5;241;43m=\u001b[39;49m\u001b[38;5;241;43m42\u001b[39;49m\u001b[43m,\u001b[49m\u001b[43m \u001b[49m\u001b[43mstratify\u001b[49m\u001b[38;5;241;43m=\u001b[39;49m\u001b[43minteger_encoded\u001b[49m\n\u001b[1;32m      6\u001b[0m \u001b[43m)\u001b[49m\n",
      "File \u001b[0;32m/opt/conda/lib/python3.10/site-packages/sklearn/utils/_param_validation.py:213\u001b[0m, in \u001b[0;36mvalidate_params.<locals>.decorator.<locals>.wrapper\u001b[0;34m(*args, **kwargs)\u001b[0m\n\u001b[1;32m    207\u001b[0m \u001b[38;5;28;01mtry\u001b[39;00m:\n\u001b[1;32m    208\u001b[0m     \u001b[38;5;28;01mwith\u001b[39;00m config_context(\n\u001b[1;32m    209\u001b[0m         skip_parameter_validation\u001b[38;5;241m=\u001b[39m(\n\u001b[1;32m    210\u001b[0m             prefer_skip_nested_validation \u001b[38;5;129;01mor\u001b[39;00m global_skip_validation\n\u001b[1;32m    211\u001b[0m         )\n\u001b[1;32m    212\u001b[0m     ):\n\u001b[0;32m--> 213\u001b[0m         \u001b[38;5;28;01mreturn\u001b[39;00m \u001b[43mfunc\u001b[49m\u001b[43m(\u001b[49m\u001b[38;5;241;43m*\u001b[39;49m\u001b[43margs\u001b[49m\u001b[43m,\u001b[49m\u001b[43m \u001b[49m\u001b[38;5;241;43m*\u001b[39;49m\u001b[38;5;241;43m*\u001b[39;49m\u001b[43mkwargs\u001b[49m\u001b[43m)\u001b[49m\n\u001b[1;32m    214\u001b[0m \u001b[38;5;28;01mexcept\u001b[39;00m InvalidParameterError \u001b[38;5;28;01mas\u001b[39;00m e:\n\u001b[1;32m    215\u001b[0m     \u001b[38;5;66;03m# When the function is just a wrapper around an estimator, we allow\u001b[39;00m\n\u001b[1;32m    216\u001b[0m     \u001b[38;5;66;03m# the function to delegate validation to the estimator, but we replace\u001b[39;00m\n\u001b[1;32m    217\u001b[0m     \u001b[38;5;66;03m# the name of the estimator by the name of the function in the error\u001b[39;00m\n\u001b[1;32m    218\u001b[0m     \u001b[38;5;66;03m# message to avoid confusion.\u001b[39;00m\n\u001b[1;32m    219\u001b[0m     msg \u001b[38;5;241m=\u001b[39m re\u001b[38;5;241m.\u001b[39msub(\n\u001b[1;32m    220\u001b[0m         \u001b[38;5;124mr\u001b[39m\u001b[38;5;124m\"\u001b[39m\u001b[38;5;124mparameter of \u001b[39m\u001b[38;5;124m\\\u001b[39m\u001b[38;5;124mw+ must be\u001b[39m\u001b[38;5;124m\"\u001b[39m,\n\u001b[1;32m    221\u001b[0m         \u001b[38;5;124mf\u001b[39m\u001b[38;5;124m\"\u001b[39m\u001b[38;5;124mparameter of \u001b[39m\u001b[38;5;132;01m{\u001b[39;00mfunc\u001b[38;5;241m.\u001b[39m\u001b[38;5;18m__qualname__\u001b[39m\u001b[38;5;132;01m}\u001b[39;00m\u001b[38;5;124m must be\u001b[39m\u001b[38;5;124m\"\u001b[39m,\n\u001b[1;32m    222\u001b[0m         \u001b[38;5;28mstr\u001b[39m(e),\n\u001b[1;32m    223\u001b[0m     )\n",
      "File \u001b[0;32m/opt/conda/lib/python3.10/site-packages/sklearn/model_selection/_split.py:2806\u001b[0m, in \u001b[0;36mtrain_test_split\u001b[0;34m(test_size, train_size, random_state, shuffle, stratify, *arrays)\u001b[0m\n\u001b[1;32m   2802\u001b[0m         CVClass \u001b[38;5;241m=\u001b[39m ShuffleSplit\n\u001b[1;32m   2804\u001b[0m     cv \u001b[38;5;241m=\u001b[39m CVClass(test_size\u001b[38;5;241m=\u001b[39mn_test, train_size\u001b[38;5;241m=\u001b[39mn_train, random_state\u001b[38;5;241m=\u001b[39mrandom_state)\n\u001b[0;32m-> 2806\u001b[0m     train, test \u001b[38;5;241m=\u001b[39m \u001b[38;5;28;43mnext\u001b[39;49m\u001b[43m(\u001b[49m\u001b[43mcv\u001b[49m\u001b[38;5;241;43m.\u001b[39;49m\u001b[43msplit\u001b[49m\u001b[43m(\u001b[49m\u001b[43mX\u001b[49m\u001b[38;5;241;43m=\u001b[39;49m\u001b[43marrays\u001b[49m\u001b[43m[\u001b[49m\u001b[38;5;241;43m0\u001b[39;49m\u001b[43m]\u001b[49m\u001b[43m,\u001b[49m\u001b[43m \u001b[49m\u001b[43my\u001b[49m\u001b[38;5;241;43m=\u001b[39;49m\u001b[43mstratify\u001b[49m\u001b[43m)\u001b[49m\u001b[43m)\u001b[49m\n\u001b[1;32m   2808\u001b[0m train, test \u001b[38;5;241m=\u001b[39m ensure_common_namespace_device(arrays[\u001b[38;5;241m0\u001b[39m], train, test)\n\u001b[1;32m   2810\u001b[0m \u001b[38;5;28;01mreturn\u001b[39;00m \u001b[38;5;28mlist\u001b[39m(\n\u001b[1;32m   2811\u001b[0m     chain\u001b[38;5;241m.\u001b[39mfrom_iterable(\n\u001b[1;32m   2812\u001b[0m         (_safe_indexing(a, train), _safe_indexing(a, test)) \u001b[38;5;28;01mfor\u001b[39;00m a \u001b[38;5;129;01min\u001b[39;00m arrays\n\u001b[1;32m   2813\u001b[0m     )\n\u001b[1;32m   2814\u001b[0m )\n",
      "File \u001b[0;32m/opt/conda/lib/python3.10/site-packages/sklearn/model_selection/_split.py:1843\u001b[0m, in \u001b[0;36mBaseShuffleSplit.split\u001b[0;34m(self, X, y, groups)\u001b[0m\n\u001b[1;32m   1813\u001b[0m \u001b[38;5;250m\u001b[39m\u001b[38;5;124;03m\"\"\"Generate indices to split data into training and test set.\u001b[39;00m\n\u001b[1;32m   1814\u001b[0m \n\u001b[1;32m   1815\u001b[0m \u001b[38;5;124;03mParameters\u001b[39;00m\n\u001b[0;32m   (...)\u001b[0m\n\u001b[1;32m   1840\u001b[0m \u001b[38;5;124;03mto an integer.\u001b[39;00m\n\u001b[1;32m   1841\u001b[0m \u001b[38;5;124;03m\"\"\"\u001b[39;00m\n\u001b[1;32m   1842\u001b[0m X, y, groups \u001b[38;5;241m=\u001b[39m indexable(X, y, groups)\n\u001b[0;32m-> 1843\u001b[0m \u001b[38;5;28;01mfor\u001b[39;00m train, test \u001b[38;5;129;01min\u001b[39;00m \u001b[38;5;28mself\u001b[39m\u001b[38;5;241m.\u001b[39m_iter_indices(X, y, groups):\n\u001b[1;32m   1844\u001b[0m     \u001b[38;5;28;01myield\u001b[39;00m train, test\n",
      "File \u001b[0;32m/opt/conda/lib/python3.10/site-packages/sklearn/model_selection/_split.py:2252\u001b[0m, in \u001b[0;36mStratifiedShuffleSplit._iter_indices\u001b[0;34m(self, X, y, groups)\u001b[0m\n\u001b[1;32m   2250\u001b[0m class_counts \u001b[38;5;241m=\u001b[39m np\u001b[38;5;241m.\u001b[39mbincount(y_indices)\n\u001b[1;32m   2251\u001b[0m \u001b[38;5;28;01mif\u001b[39;00m np\u001b[38;5;241m.\u001b[39mmin(class_counts) \u001b[38;5;241m<\u001b[39m \u001b[38;5;241m2\u001b[39m:\n\u001b[0;32m-> 2252\u001b[0m     \u001b[38;5;28;01mraise\u001b[39;00m \u001b[38;5;167;01mValueError\u001b[39;00m(\n\u001b[1;32m   2253\u001b[0m         \u001b[38;5;124m\"\u001b[39m\u001b[38;5;124mThe least populated class in y has only 1\u001b[39m\u001b[38;5;124m\"\u001b[39m\n\u001b[1;32m   2254\u001b[0m         \u001b[38;5;124m\"\u001b[39m\u001b[38;5;124m member, which is too few. The minimum\u001b[39m\u001b[38;5;124m\"\u001b[39m\n\u001b[1;32m   2255\u001b[0m         \u001b[38;5;124m\"\u001b[39m\u001b[38;5;124m number of groups for any class cannot\u001b[39m\u001b[38;5;124m\"\u001b[39m\n\u001b[1;32m   2256\u001b[0m         \u001b[38;5;124m\"\u001b[39m\u001b[38;5;124m be less than 2.\u001b[39m\u001b[38;5;124m\"\u001b[39m\n\u001b[1;32m   2257\u001b[0m     )\n\u001b[1;32m   2259\u001b[0m \u001b[38;5;28;01mif\u001b[39;00m n_train \u001b[38;5;241m<\u001b[39m n_classes:\n\u001b[1;32m   2260\u001b[0m     \u001b[38;5;28;01mraise\u001b[39;00m \u001b[38;5;167;01mValueError\u001b[39;00m(\n\u001b[1;32m   2261\u001b[0m         \u001b[38;5;124m\"\u001b[39m\u001b[38;5;124mThe train_size = \u001b[39m\u001b[38;5;132;01m%d\u001b[39;00m\u001b[38;5;124m should be greater or \u001b[39m\u001b[38;5;124m\"\u001b[39m\n\u001b[1;32m   2262\u001b[0m         \u001b[38;5;124m\"\u001b[39m\u001b[38;5;124mequal to the number of classes = \u001b[39m\u001b[38;5;132;01m%d\u001b[39;00m\u001b[38;5;124m\"\u001b[39m \u001b[38;5;241m%\u001b[39m (n_train, n_classes)\n\u001b[1;32m   2263\u001b[0m     )\n",
      "\u001b[0;31mValueError\u001b[0m: The least populated class in y has only 1 member, which is too few. The minimum number of groups for any class cannot be less than 2."
     ]
    }
   ],
   "source": [
    "from sklearn.model_selection import train_test_split\n",
    "\n",
    "# Split the data\n",
    "X_train, X_val, y_train, y_val = train_test_split(\n",
    "    X, y_encoded, test_size=0.2, random_state=42, stratify=integer_encoded\n",
    ")\n"
   ]
  },
  {
   "cell_type": "code",
   "execution_count": 63,
   "id": "8c11aa25-22cf-4452-bbe3-c643596392a6",
   "metadata": {
    "tags": []
   },
   "outputs": [
    {
     "name": "stdout",
     "output_type": "stream",
     "text": [
      "Class distribution:\n",
      "label\n",
      "miscellaneous         43\n",
      "conversation          11\n",
      "sport                  8\n",
      "animal_interaction     7\n",
      "performance            7\n",
      "affection              6\n",
      "vehicle_related        3\n",
      "food_related           3\n",
      "technology_related     3\n",
      "violence               2\n",
      "reflection             2\n",
      "fire_related           2\n",
      "supernatural           1\n",
      "water_related          1\n",
      "stage_performance      1\n",
      "Name: count, dtype: int64\n"
     ]
    }
   ],
   "source": [
    "import numpy as np\n",
    "import pandas as pd\n",
    "\n",
    "# Get the integer-encoded labels\n",
    "integer_encoded = label_encoder.transform(y)\n",
    "\n",
    "# Create a DataFrame for easier analysis\n",
    "label_df = pd.DataFrame({'label': y, 'encoded_label': integer_encoded})\n",
    "\n",
    "# Count the number of samples per class\n",
    "class_counts = label_df['label'].value_counts()\n",
    "\n",
    "print(\"Class distribution:\")\n",
    "print(class_counts)\n"
   ]
  },
  {
   "cell_type": "code",
   "execution_count": 64,
   "id": "7d89e166-f765-46eb-99c5-15a13ac529f0",
   "metadata": {
    "tags": []
   },
   "outputs": [],
   "source": [
    "from sklearn.model_selection import train_test_split\n",
    "\n",
    "X_train, X_val, y_train, y_val = train_test_split(\n",
    "    X, y_encoded, test_size=0.2, random_state=42\n",
    ")\n"
   ]
  },
  {
   "cell_type": "code",
   "execution_count": 65,
   "id": "9ee2b95d-545f-4244-b867-f7abee0177d7",
   "metadata": {
    "tags": []
   },
   "outputs": [
    {
     "name": "stdout",
     "output_type": "stream",
     "text": [
      "Training set class distribution: {0: 5, 1: 6, 2: 10, 3: 2, 4: 3, 5: 32, 6: 6, 7: 1, 8: 6, 9: 1, 11: 2, 12: 3, 13: 2, 14: 1}\n",
      "Validation set class distribution: {0: 1, 1: 1, 2: 1, 5: 11, 6: 1, 7: 1, 8: 2, 10: 1, 11: 1}\n"
     ]
    }
   ],
   "source": [
    "# For training set\n",
    "train_classes = np.argmax(y_train, axis=1)\n",
    "unique, counts = np.unique(train_classes, return_counts=True)\n",
    "print(\"Training set class distribution:\", dict(zip(unique, counts)))\n",
    "\n",
    "# For validation set\n",
    "val_classes = np.argmax(y_val, axis=1)\n",
    "unique, counts = np.unique(val_classes, return_counts=True)\n",
    "print(\"Validation set class distribution:\", dict(zip(unique, counts)))\n"
   ]
  },
  {
   "cell_type": "code",
   "execution_count": 66,
   "id": "e6565645-ba96-4a87-a65a-52b6f4502668",
   "metadata": {
    "tags": []
   },
   "outputs": [
    {
     "name": "stdout",
     "output_type": "stream",
     "text": [
      "Input shape: (32, 224, 224, 3)\n"
     ]
    }
   ],
   "source": [
    "input_shape = X_train.shape[1:]  # Exclude batch size\n",
    "print(\"Input shape:\", input_shape)\n"
   ]
  },
  {
   "cell_type": "markdown",
   "id": "4ea4b44b-fbb6-4c4d-a526-f98083521c2f",
   "metadata": {},
   "source": [
    "# Build Custom 3D CNN"
   ]
  },
  {
   "cell_type": "code",
   "execution_count": 67,
   "id": "be7d99c3-cadf-47cc-9c6b-2dd4cbad0822",
   "metadata": {
    "tags": []
   },
   "outputs": [],
   "source": [
    "num_classes = 15  # Update this if the actual number of classes is different\n"
   ]
  },
  {
   "cell_type": "code",
   "execution_count": 68,
   "id": "ad714e45-e166-4d2e-9811-3ececa902224",
   "metadata": {
    "tags": []
   },
   "outputs": [],
   "source": [
    "from tensorflow.keras.models import Sequential\n",
    "from tensorflow.keras.layers import Conv3D, MaxPooling3D, Flatten, Dense, Dropout, BatchNormalization\n",
    "\n",
    "def build_3d_cnn_model(input_shape, num_classes):\n",
    "    model = Sequential()\n",
    "    \n",
    "    # First Conv3D layer\n",
    "    model.add(Conv3D(filters=32, kernel_size=(3, 3, 3), activation='relu', input_shape=input_shape))\n",
    "    model.add(BatchNormalization())\n",
    "    model.add(MaxPooling3D(pool_size=(1, 2, 2)))  # Reduces height and width, keeps time dimension\n",
    "\n",
    "    # Second Conv3D layer\n",
    "    model.add(Conv3D(filters=64, kernel_size=(3, 3, 3), activation='relu'))\n",
    "    model.add(BatchNormalization())\n",
    "    model.add(MaxPooling3D(pool_size=(2, 2, 2)))  # Reduces time, height, and width\n",
    "\n",
    "    # Third Conv3D layer\n",
    "    model.add(Conv3D(filters=128, kernel_size=(3, 3, 3), activation='relu'))\n",
    "    model.add(BatchNormalization())\n",
    "    model.add(MaxPooling3D(pool_size=(2, 2, 2)))\n",
    "\n",
    "    # Flatten and Dense layers\n",
    "    model.add(Flatten())\n",
    "    model.add(Dense(units=256, activation='relu'))\n",
    "    model.add(Dropout(rate=0.5))\n",
    "    model.add(Dense(units=num_classes, activation='softmax'))\n",
    "\n",
    "    return model\n",
    "\n",
    "# Build the model\n",
    "model = build_3d_cnn_model(input_shape, num_classes)\n"
   ]
  },
  {
   "cell_type": "code",
   "execution_count": 69,
   "id": "934dc118-ac8f-4b3a-a2a9-5123bf924d96",
   "metadata": {
    "tags": []
   },
   "outputs": [
    {
     "data": {
      "text/plain": [
       "<keras.engine.sequential.Sequential at 0x7ff5eb5a4460>"
      ]
     },
     "execution_count": 69,
     "metadata": {},
     "output_type": "execute_result"
    }
   ],
   "source": [
    "model"
   ]
  },
  {
   "cell_type": "code",
   "execution_count": 70,
   "id": "ab82ec78-f545-42c6-b0d5-d56c7a0ab28c",
   "metadata": {
    "tags": []
   },
   "outputs": [
    {
     "name": "stdout",
     "output_type": "stream",
     "text": [
      "Model: \"sequential\"\n",
      "_________________________________________________________________\n",
      " Layer (type)                Output Shape              Param #   \n",
      "=================================================================\n",
      " conv3d (Conv3D)             (None, 30, 222, 222, 32)  2624      \n",
      "                                                                 \n",
      " batch_normalization_94 (Bat  (None, 30, 222, 222, 32)  128      \n",
      " chNormalization)                                                \n",
      "                                                                 \n",
      " max_pooling3d (MaxPooling3D  (None, 30, 111, 111, 32)  0        \n",
      " )                                                               \n",
      "                                                                 \n",
      " conv3d_1 (Conv3D)           (None, 28, 109, 109, 64)  55360     \n",
      "                                                                 \n",
      " batch_normalization_95 (Bat  (None, 28, 109, 109, 64)  256      \n",
      " chNormalization)                                                \n",
      "                                                                 \n",
      " max_pooling3d_1 (MaxPooling  (None, 14, 54, 54, 64)   0         \n",
      " 3D)                                                             \n",
      "                                                                 \n",
      " conv3d_2 (Conv3D)           (None, 12, 52, 52, 128)   221312    \n",
      "                                                                 \n",
      " batch_normalization_96 (Bat  (None, 12, 52, 52, 128)  512       \n",
      " chNormalization)                                                \n",
      "                                                                 \n",
      " max_pooling3d_2 (MaxPooling  (None, 6, 26, 26, 128)   0         \n",
      " 3D)                                                             \n",
      "                                                                 \n",
      " flatten (Flatten)           (None, 519168)            0         \n",
      "                                                                 \n",
      " dense (Dense)               (None, 256)               132907264 \n",
      "                                                                 \n",
      " dropout (Dropout)           (None, 256)               0         \n",
      "                                                                 \n",
      " dense_1 (Dense)             (None, 15)                3855      \n",
      "                                                                 \n",
      "=================================================================\n",
      "Total params: 133,191,311\n",
      "Trainable params: 133,190,863\n",
      "Non-trainable params: 448\n",
      "_________________________________________________________________\n"
     ]
    }
   ],
   "source": [
    "model.compile(optimizer='adam', loss='categorical_crossentropy', metrics=['accuracy'])\n",
    "\n",
    "# Display the model's architecture\n",
    "model.summary()\n"
   ]
  },
  {
   "cell_type": "markdown",
   "id": "02466963-097f-4b53-8ccc-ca015519b4a3",
   "metadata": {},
   "source": [
    "# Train Model"
   ]
  },
  {
   "cell_type": "code",
   "execution_count": 71,
   "id": "eb0bd8bb-1138-4be3-9fb8-cac824f4544c",
   "metadata": {
    "tags": []
   },
   "outputs": [
    {
     "name": "stdout",
     "output_type": "stream",
     "text": [
      "Class weights: {0: 1.1428571428571428, 1: 0.9523809523809523, 2: 0.5714285714285714, 3: 2.857142857142857, 4: 1.9047619047619047, 5: 0.17857142857142858, 6: 0.9523809523809523, 7: 5.714285714285714, 8: 0.9523809523809523, 9: 5.714285714285714, 10: 2.857142857142857, 11: 1.9047619047619047, 12: 2.857142857142857, 13: 5.714285714285714}\n"
     ]
    }
   ],
   "source": [
    "from sklearn.utils import class_weight\n",
    "import numpy as np\n",
    "\n",
    "# Get the integer labels for the training data\n",
    "train_classes = np.argmax(y_train, axis=1)\n",
    "\n",
    "# Compute class weights\n",
    "class_weights = class_weight.compute_class_weight(\n",
    "    class_weight='balanced',\n",
    "    classes=np.unique(train_classes),\n",
    "    y=train_classes\n",
    ")\n",
    "\n",
    "# Create a dictionary mapping class indices to weights\n",
    "class_weights_dict = dict(enumerate(class_weights))\n",
    "\n",
    "print(\"Class weights:\", class_weights_dict)\n"
   ]
  },
  {
   "cell_type": "code",
   "execution_count": null,
   "id": "7c721a47-7978-40b4-88e9-e01611234b00",
   "metadata": {},
   "outputs": [],
   "source": []
  },
  {
   "cell_type": "code",
   "execution_count": 73,
   "id": "38a8f52e-63a7-49c1-a1b9-45fccb852db9",
   "metadata": {
    "tags": []
   },
   "outputs": [
    {
     "name": "stdout",
     "output_type": "stream",
     "text": [
      "Number of classes: 15\n"
     ]
    }
   ],
   "source": [
    "num_classes = 15  # Since labels range from 0 to 14\n",
    "print(\"Number of classes:\", num_classes)\n"
   ]
  },
  {
   "cell_type": "code",
   "execution_count": 78,
   "id": "90ad8e18-2d5a-48f3-bfae-575b1da5798e",
   "metadata": {
    "tags": []
   },
   "outputs": [],
   "source": [
    "from sklearn.model_selection import train_test_split\n",
    "\n",
    "# Split the data without stratification\n",
    "X_train, X_val, y_train, y_val = train_test_split(\n",
    "    X, y_encoded, test_size=0.2, random_state=42\n",
    ")\n"
   ]
  },
  {
   "cell_type": "code",
   "execution_count": 79,
   "id": "c9f51679-115f-46c3-8805-7c7cc1d48e46",
   "metadata": {
    "tags": []
   },
   "outputs": [
    {
     "name": "stdout",
     "output_type": "stream",
     "text": [
      "Training set class distribution: {0: 5, 1: 6, 2: 10, 3: 2, 4: 3, 5: 32, 6: 6, 7: 1, 8: 6, 9: 1, 11: 2, 12: 3, 13: 2, 14: 1}\n",
      "Validation set class distribution: {0: 1, 1: 1, 2: 1, 5: 11, 6: 1, 7: 1, 8: 2, 10: 1, 11: 1}\n"
     ]
    }
   ],
   "source": [
    "import numpy as np\n",
    "\n",
    "# For training set\n",
    "train_classes = np.argmax(y_train, axis=1)\n",
    "unique_train_classes, train_counts = np.unique(train_classes, return_counts=True)\n",
    "print(\"Training set class distribution:\", dict(zip(unique_train_classes, train_counts)))\n",
    "\n",
    "# For validation set\n",
    "val_classes = np.argmax(y_val, axis=1)\n",
    "unique_val_classes, val_counts = np.unique(val_classes, return_counts=True)\n",
    "print(\"Validation set class distribution:\", dict(zip(unique_val_classes, val_counts)))\n"
   ]
  },
  {
   "cell_type": "code",
   "execution_count": 80,
   "id": "387c0c3a-eeee-4d4a-8c93-c36660563ee9",
   "metadata": {
    "tags": []
   },
   "outputs": [
    {
     "name": "stdout",
     "output_type": "stream",
     "text": [
      "Classes present in training but missing in validation: {3, 4, 9, 12, 13, 14}\n"
     ]
    }
   ],
   "source": [
    "missing_classes_in_val = set(np.unique(train_classes)) - set(np.unique(val_classes))\n",
    "print(\"Classes present in training but missing in validation:\", missing_classes_in_val)\n"
   ]
  },
  {
   "cell_type": "code",
   "execution_count": 81,
   "id": "43820ebb-533b-4ae6-a40b-f36bf1a92fc9",
   "metadata": {
    "tags": []
   },
   "outputs": [
    {
     "name": "stdout",
     "output_type": "stream",
     "text": [
      "Class 5: 43 samples\n",
      "Class 1: 7 samples\n",
      "Class 6: 7 samples\n",
      "Class 8: 8 samples\n",
      "Class 2: 11 samples\n",
      "Class 10: 1 samples\n",
      "Class 12: 3 samples\n",
      "Class 0: 6 samples\n",
      "Class 4: 3 samples\n",
      "Class 13: 2 samples\n",
      "Class 11: 3 samples\n",
      "Class 7: 2 samples\n",
      "Class 3: 2 samples\n",
      "Class 14: 1 samples\n",
      "Class 9: 1 samples\n"
     ]
    }
   ],
   "source": [
    "import numpy as np\n",
    "\n",
    "# Convert one-hot encoded labels back to integer labels\n",
    "integer_encoded = np.argmax(y_encoded, axis=1)\n",
    "\n",
    "# Create a dictionary mapping class labels to indices\n",
    "class_indices = {}\n",
    "for idx, label in enumerate(integer_encoded):\n",
    "    if label in class_indices:\n",
    "        class_indices[label].append(idx)\n",
    "    else:\n",
    "        class_indices[label] = [idx]\n",
    "\n",
    "# Print the number of samples per class\n",
    "for label, indices in class_indices.items():\n",
    "    print(f\"Class {label}: {len(indices)} samples\")\n",
    "\n"
   ]
  },
  {
   "cell_type": "markdown",
   "id": "75b240e4-93c7-4e6f-8eba-bc0ed099a9e9",
   "metadata": {},
   "source": [
    "Step 2: Split Each Class Individually\n",
    "We'll split the indices of each class into training and validation sets, ensuring at least one sample per class in each set."
   ]
  },
  {
   "cell_type": "code",
   "execution_count": 72,
   "id": "9f905eb4-d6d6-40b0-9e68-e93abd8faf2e",
   "metadata": {
    "tags": []
   },
   "outputs": [
    {
     "name": "stderr",
     "output_type": "stream",
     "text": [
      "2024-10-14 03:28:51.753544: W tensorflow/tsl/framework/cpu_allocator_impl.cc:83] Allocation of 1541406720 exceeds 10% of free system memory.\n",
      "2024-10-14 03:28:52.758128: W tensorflow/tsl/framework/cpu_allocator_impl.cc:83] Allocation of 1541406720 exceeds 10% of free system memory.\n"
     ]
    },
    {
     "name": "stdout",
     "output_type": "stream",
     "text": [
      "Epoch 1/10\n"
     ]
    },
    {
     "name": "stderr",
     "output_type": "stream",
     "text": [
      "2024-10-14 03:29:01.147096: I tensorflow/compiler/xla/service/service.cc:169] XLA service 0x7ff5e7bbdc40 initialized for platform CUDA (this does not guarantee that XLA will be used). Devices:\n",
      "2024-10-14 03:29:01.147159: I tensorflow/compiler/xla/service/service.cc:177]   StreamExecutor device (0): Tesla T4, Compute Capability 7.5\n",
      "2024-10-14 03:29:03.057041: I tensorflow/compiler/mlir/tensorflow/utils/dump_mlir_util.cc:269] disabling MLIR crash reproducer, set env var `MLIR_CRASH_REPRODUCER_DIRECTORY` to enable.\n",
      "2024-10-14 03:29:09.515290: I ./tensorflow/compiler/jit/device_compiler.h:180] Compiled cluster using XLA!  This line is logged at most once for the lifetime of the process.\n"
     ]
    },
    {
     "name": "stdout",
     "output_type": "stream",
     "text": [
      " 6/20 [========>.....................] - ETA: 6s - loss: 225.3894 - accuracy: 0.1667"
     ]
    },
    {
     "name": "stderr",
     "output_type": "stream",
     "text": [
      "2024-10-14 03:29:20.258465: I tensorflow/core/common_runtime/executor.cc:1197] [/job:localhost/replica:0/task:0/device:CPU:0] (DEBUG INFO) Executor start aborting (this does not indicate an error and you can ignore this message): INVALID_ARGUMENT: indices[1] = 14 is not in [0, 14)\n",
      "\t [[{{node GatherV2}}]]\n",
      "2024-10-14 03:29:20.259672: I tensorflow/core/common_runtime/executor.cc:1197] [/job:localhost/replica:0/task:0/device:CPU:0] (DEBUG INFO) Executor start aborting (this does not indicate an error and you can ignore this message): INVALID_ARGUMENT: indices[1] = 14 is not in [0, 14)\n",
      "\t [[{{node GatherV2}}]]\n",
      "\t [[IteratorGetNext]]\n",
      "2024-10-14 03:29:20.259777: I tensorflow/core/common_runtime/executor.cc:1197] [/job:localhost/replica:0/task:0/device:GPU:0] (DEBUG INFO) Executor start aborting (this does not indicate an error and you can ignore this message): INVALID_ARGUMENT: indices[1] = 14 is not in [0, 14)\n",
      "\t [[{{node GatherV2}}]]\n",
      "\t [[IteratorGetNext]]\n",
      "\t [[IteratorGetNext/_6]]\n"
     ]
    },
    {
     "ename": "InvalidArgumentError",
     "evalue": "Graph execution error:\n\n2 root error(s) found.\n  (0) INVALID_ARGUMENT:  indices[1] = 14 is not in [0, 14)\n\t [[{{node GatherV2}}]]\n\t [[IteratorGetNext]]\n\t [[IteratorGetNext/_6]]\n  (1) INVALID_ARGUMENT:  indices[1] = 14 is not in [0, 14)\n\t [[{{node GatherV2}}]]\n\t [[IteratorGetNext]]\n0 successful operations.\n0 derived errors ignored. [Op:__inference_train_function_19137]",
     "output_type": "error",
     "traceback": [
      "\u001b[0;31m---------------------------------------------------------------------------\u001b[0m",
      "\u001b[0;31mInvalidArgumentError\u001b[0m                      Traceback (most recent call last)",
      "Cell \u001b[0;32mIn[72], line 1\u001b[0m\n\u001b[0;32m----> 1\u001b[0m \u001b[43mmodel\u001b[49m\u001b[38;5;241;43m.\u001b[39;49m\u001b[43mfit\u001b[49m\u001b[43m(\u001b[49m\n\u001b[1;32m      2\u001b[0m \u001b[43m    \u001b[49m\u001b[43mX_train\u001b[49m\u001b[43m,\u001b[49m\u001b[43m \u001b[49m\u001b[43my_train\u001b[49m\u001b[43m,\u001b[49m\n\u001b[1;32m      3\u001b[0m \u001b[43m    \u001b[49m\u001b[43mvalidation_data\u001b[49m\u001b[38;5;241;43m=\u001b[39;49m\u001b[43m(\u001b[49m\u001b[43mX_val\u001b[49m\u001b[43m,\u001b[49m\u001b[43m \u001b[49m\u001b[43my_val\u001b[49m\u001b[43m)\u001b[49m\u001b[43m,\u001b[49m\n\u001b[1;32m      4\u001b[0m \u001b[43m    \u001b[49m\u001b[43mepochs\u001b[49m\u001b[38;5;241;43m=\u001b[39;49m\u001b[38;5;241;43m10\u001b[39;49m\u001b[43m,\u001b[49m\u001b[43m        \u001b[49m\u001b[38;5;66;43;03m# Adjust as needed\u001b[39;49;00m\n\u001b[1;32m      5\u001b[0m \u001b[43m    \u001b[49m\u001b[43mbatch_size\u001b[49m\u001b[38;5;241;43m=\u001b[39;49m\u001b[38;5;241;43m4\u001b[39;49m\u001b[43m,\u001b[49m\u001b[43m     \u001b[49m\u001b[38;5;66;43;03m# Adjust based on your system's memory\u001b[39;49;00m\n\u001b[1;32m      6\u001b[0m \u001b[43m    \u001b[49m\u001b[43mclass_weight\u001b[49m\u001b[38;5;241;43m=\u001b[39;49m\u001b[43mclass_weights_dict\u001b[49m\u001b[43m,\u001b[49m\n\u001b[1;32m      7\u001b[0m \u001b[43m    \u001b[49m\u001b[43mverbose\u001b[49m\u001b[38;5;241;43m=\u001b[39;49m\u001b[38;5;241;43m1\u001b[39;49m\n\u001b[1;32m      8\u001b[0m \u001b[43m)\u001b[49m\n",
      "File \u001b[0;32m/opt/conda/lib/python3.10/site-packages/keras/utils/traceback_utils.py:70\u001b[0m, in \u001b[0;36mfilter_traceback.<locals>.error_handler\u001b[0;34m(*args, **kwargs)\u001b[0m\n\u001b[1;32m     67\u001b[0m     filtered_tb \u001b[38;5;241m=\u001b[39m _process_traceback_frames(e\u001b[38;5;241m.\u001b[39m__traceback__)\n\u001b[1;32m     68\u001b[0m     \u001b[38;5;66;03m# To get the full stack trace, call:\u001b[39;00m\n\u001b[1;32m     69\u001b[0m     \u001b[38;5;66;03m# `tf.debugging.disable_traceback_filtering()`\u001b[39;00m\n\u001b[0;32m---> 70\u001b[0m     \u001b[38;5;28;01mraise\u001b[39;00m e\u001b[38;5;241m.\u001b[39mwith_traceback(filtered_tb) \u001b[38;5;28;01mfrom\u001b[39;00m \u001b[38;5;28;01mNone\u001b[39;00m\n\u001b[1;32m     71\u001b[0m \u001b[38;5;28;01mfinally\u001b[39;00m:\n\u001b[1;32m     72\u001b[0m     \u001b[38;5;28;01mdel\u001b[39;00m filtered_tb\n",
      "File \u001b[0;32m/opt/conda/lib/python3.10/site-packages/tensorflow/python/eager/execute.py:52\u001b[0m, in \u001b[0;36mquick_execute\u001b[0;34m(op_name, num_outputs, inputs, attrs, ctx, name)\u001b[0m\n\u001b[1;32m     50\u001b[0m \u001b[38;5;28;01mtry\u001b[39;00m:\n\u001b[1;32m     51\u001b[0m   ctx\u001b[38;5;241m.\u001b[39mensure_initialized()\n\u001b[0;32m---> 52\u001b[0m   tensors \u001b[38;5;241m=\u001b[39m pywrap_tfe\u001b[38;5;241m.\u001b[39mTFE_Py_Execute(ctx\u001b[38;5;241m.\u001b[39m_handle, device_name, op_name,\n\u001b[1;32m     53\u001b[0m                                       inputs, attrs, num_outputs)\n\u001b[1;32m     54\u001b[0m \u001b[38;5;28;01mexcept\u001b[39;00m core\u001b[38;5;241m.\u001b[39m_NotOkStatusException \u001b[38;5;28;01mas\u001b[39;00m e:\n\u001b[1;32m     55\u001b[0m   \u001b[38;5;28;01mif\u001b[39;00m name \u001b[38;5;129;01mis\u001b[39;00m \u001b[38;5;129;01mnot\u001b[39;00m \u001b[38;5;28;01mNone\u001b[39;00m:\n",
      "\u001b[0;31mInvalidArgumentError\u001b[0m: Graph execution error:\n\n2 root error(s) found.\n  (0) INVALID_ARGUMENT:  indices[1] = 14 is not in [0, 14)\n\t [[{{node GatherV2}}]]\n\t [[IteratorGetNext]]\n\t [[IteratorGetNext/_6]]\n  (1) INVALID_ARGUMENT:  indices[1] = 14 is not in [0, 14)\n\t [[{{node GatherV2}}]]\n\t [[IteratorGetNext]]\n0 successful operations.\n0 derived errors ignored. [Op:__inference_train_function_19137]"
     ]
    }
   ],
   "source": [
    "model.fit(\n",
    "    X_train, y_train,\n",
    "    validation_data=(X_val, y_val),\n",
    "    epochs=10,        # Adjust as needed\n",
    "    batch_size=4,     # Adjust based on your system's memory\n",
    "    class_weight=class_weights_dict,\n",
    "    verbose=1\n",
    ")\n"
   ]
  },
  {
   "cell_type": "code",
   "execution_count": null,
   "id": "93263839-96ec-4c4d-a72f-d304f3ce432d",
   "metadata": {},
   "outputs": [],
   "source": []
  }
 ],
 "metadata": {
  "kernelspec": {
   "display_name": "TensorFlow 2.12 (Local)",
   "language": "python",
   "name": "tf2-2-12"
  },
  "language_info": {
   "codemirror_mode": {
    "name": "ipython",
    "version": 3
   },
   "file_extension": ".py",
   "mimetype": "text/x-python",
   "name": "python",
   "nbconvert_exporter": "python",
   "pygments_lexer": "ipython3",
   "version": "3.10.15"
  }
 },
 "nbformat": 4,
 "nbformat_minor": 5
}
