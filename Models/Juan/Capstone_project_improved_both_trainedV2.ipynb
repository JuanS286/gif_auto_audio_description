{
  "cells": [
    {
      "cell_type": "code",
      "execution_count": null,
      "metadata": {
        "colab": {
          "base_uri": "https://localhost:8080/"
        },
        "id": "ZaWf_Y_5DhWb",
        "outputId": "c4cd7d90-9996-43c5-e381-b7c1313a7895"
      },
      "outputs": [
        {
          "output_type": "stream",
          "name": "stdout",
          "text": [
            "Requirement already satisfied: transformers in /usr/local/lib/python3.10/dist-packages (4.44.2)\n",
            "Requirement already satisfied: filelock in /usr/local/lib/python3.10/dist-packages (from transformers) (3.16.1)\n",
            "Requirement already satisfied: huggingface-hub<1.0,>=0.23.2 in /usr/local/lib/python3.10/dist-packages (from transformers) (0.24.7)\n",
            "Requirement already satisfied: numpy>=1.17 in /usr/local/lib/python3.10/dist-packages (from transformers) (1.26.4)\n",
            "Requirement already satisfied: packaging>=20.0 in /usr/local/lib/python3.10/dist-packages (from transformers) (24.1)\n",
            "Requirement already satisfied: pyyaml>=5.1 in /usr/local/lib/python3.10/dist-packages (from transformers) (6.0.2)\n",
            "Requirement already satisfied: regex!=2019.12.17 in /usr/local/lib/python3.10/dist-packages (from transformers) (2024.9.11)\n",
            "Requirement already satisfied: requests in /usr/local/lib/python3.10/dist-packages (from transformers) (2.32.3)\n",
            "Requirement already satisfied: safetensors>=0.4.1 in /usr/local/lib/python3.10/dist-packages (from transformers) (0.4.5)\n",
            "Requirement already satisfied: tokenizers<0.20,>=0.19 in /usr/local/lib/python3.10/dist-packages (from transformers) (0.19.1)\n",
            "Requirement already satisfied: tqdm>=4.27 in /usr/local/lib/python3.10/dist-packages (from transformers) (4.66.6)\n",
            "Requirement already satisfied: fsspec>=2023.5.0 in /usr/local/lib/python3.10/dist-packages (from huggingface-hub<1.0,>=0.23.2->transformers) (2024.10.0)\n",
            "Requirement already satisfied: typing-extensions>=3.7.4.3 in /usr/local/lib/python3.10/dist-packages (from huggingface-hub<1.0,>=0.23.2->transformers) (4.12.2)\n",
            "Requirement already satisfied: charset-normalizer<4,>=2 in /usr/local/lib/python3.10/dist-packages (from requests->transformers) (3.4.0)\n",
            "Requirement already satisfied: idna<4,>=2.5 in /usr/local/lib/python3.10/dist-packages (from requests->transformers) (3.10)\n",
            "Requirement already satisfied: urllib3<3,>=1.21.1 in /usr/local/lib/python3.10/dist-packages (from requests->transformers) (2.2.3)\n",
            "Requirement already satisfied: certifi>=2017.4.17 in /usr/local/lib/python3.10/dist-packages (from requests->transformers) (2024.8.30)\n",
            "Requirement already satisfied: imageio in /usr/local/lib/python3.10/dist-packages (2.36.0)\n",
            "Requirement already satisfied: numpy in /usr/local/lib/python3.10/dist-packages (from imageio) (1.26.4)\n",
            "Requirement already satisfied: pillow>=8.3.2 in /usr/local/lib/python3.10/dist-packages (from imageio) (10.4.0)\n",
            "Collecting gtts\n",
            "  Downloading gTTS-2.5.3-py3-none-any.whl.metadata (4.1 kB)\n",
            "Requirement already satisfied: requests<3,>=2.27 in /usr/local/lib/python3.10/dist-packages (from gtts) (2.32.3)\n",
            "Requirement already satisfied: click<8.2,>=7.1 in /usr/local/lib/python3.10/dist-packages (from gtts) (8.1.7)\n",
            "Requirement already satisfied: charset-normalizer<4,>=2 in /usr/local/lib/python3.10/dist-packages (from requests<3,>=2.27->gtts) (3.4.0)\n",
            "Requirement already satisfied: idna<4,>=2.5 in /usr/local/lib/python3.10/dist-packages (from requests<3,>=2.27->gtts) (3.10)\n",
            "Requirement already satisfied: urllib3<3,>=1.21.1 in /usr/local/lib/python3.10/dist-packages (from requests<3,>=2.27->gtts) (2.2.3)\n",
            "Requirement already satisfied: certifi>=2017.4.17 in /usr/local/lib/python3.10/dist-packages (from requests<3,>=2.27->gtts) (2024.8.30)\n",
            "Downloading gTTS-2.5.3-py3-none-any.whl (29 kB)\n",
            "Installing collected packages: gtts\n",
            "Successfully installed gtts-2.5.3\n",
            "Collecting bert-score\n",
            "  Downloading bert_score-0.3.13-py3-none-any.whl.metadata (15 kB)\n",
            "Requirement already satisfied: torch>=1.0.0 in /usr/local/lib/python3.10/dist-packages (from bert-score) (2.5.0+cu121)\n",
            "Requirement already satisfied: pandas>=1.0.1 in /usr/local/lib/python3.10/dist-packages (from bert-score) (2.2.2)\n",
            "Requirement already satisfied: transformers>=3.0.0 in /usr/local/lib/python3.10/dist-packages (from bert-score) (4.44.2)\n",
            "Requirement already satisfied: numpy in /usr/local/lib/python3.10/dist-packages (from bert-score) (1.26.4)\n",
            "Requirement already satisfied: requests in /usr/local/lib/python3.10/dist-packages (from bert-score) (2.32.3)\n",
            "Requirement already satisfied: tqdm>=4.31.1 in /usr/local/lib/python3.10/dist-packages (from bert-score) (4.66.6)\n",
            "Requirement already satisfied: matplotlib in /usr/local/lib/python3.10/dist-packages (from bert-score) (3.8.0)\n",
            "Requirement already satisfied: packaging>=20.9 in /usr/local/lib/python3.10/dist-packages (from bert-score) (24.1)\n",
            "Requirement already satisfied: python-dateutil>=2.8.2 in /usr/local/lib/python3.10/dist-packages (from pandas>=1.0.1->bert-score) (2.8.2)\n",
            "Requirement already satisfied: pytz>=2020.1 in /usr/local/lib/python3.10/dist-packages (from pandas>=1.0.1->bert-score) (2024.2)\n",
            "Requirement already satisfied: tzdata>=2022.7 in /usr/local/lib/python3.10/dist-packages (from pandas>=1.0.1->bert-score) (2024.2)\n",
            "Requirement already satisfied: filelock in /usr/local/lib/python3.10/dist-packages (from torch>=1.0.0->bert-score) (3.16.1)\n",
            "Requirement already satisfied: typing-extensions>=4.8.0 in /usr/local/lib/python3.10/dist-packages (from torch>=1.0.0->bert-score) (4.12.2)\n",
            "Requirement already satisfied: networkx in /usr/local/lib/python3.10/dist-packages (from torch>=1.0.0->bert-score) (3.4.2)\n",
            "Requirement already satisfied: jinja2 in /usr/local/lib/python3.10/dist-packages (from torch>=1.0.0->bert-score) (3.1.4)\n",
            "Requirement already satisfied: fsspec in /usr/local/lib/python3.10/dist-packages (from torch>=1.0.0->bert-score) (2024.10.0)\n",
            "Requirement already satisfied: sympy==1.13.1 in /usr/local/lib/python3.10/dist-packages (from torch>=1.0.0->bert-score) (1.13.1)\n",
            "Requirement already satisfied: mpmath<1.4,>=1.1.0 in /usr/local/lib/python3.10/dist-packages (from sympy==1.13.1->torch>=1.0.0->bert-score) (1.3.0)\n",
            "Requirement already satisfied: huggingface-hub<1.0,>=0.23.2 in /usr/local/lib/python3.10/dist-packages (from transformers>=3.0.0->bert-score) (0.24.7)\n",
            "Requirement already satisfied: pyyaml>=5.1 in /usr/local/lib/python3.10/dist-packages (from transformers>=3.0.0->bert-score) (6.0.2)\n",
            "Requirement already satisfied: regex!=2019.12.17 in /usr/local/lib/python3.10/dist-packages (from transformers>=3.0.0->bert-score) (2024.9.11)\n",
            "Requirement already satisfied: safetensors>=0.4.1 in /usr/local/lib/python3.10/dist-packages (from transformers>=3.0.0->bert-score) (0.4.5)\n",
            "Requirement already satisfied: tokenizers<0.20,>=0.19 in /usr/local/lib/python3.10/dist-packages (from transformers>=3.0.0->bert-score) (0.19.1)\n",
            "Requirement already satisfied: contourpy>=1.0.1 in /usr/local/lib/python3.10/dist-packages (from matplotlib->bert-score) (1.3.0)\n",
            "Requirement already satisfied: cycler>=0.10 in /usr/local/lib/python3.10/dist-packages (from matplotlib->bert-score) (0.12.1)\n",
            "Requirement already satisfied: fonttools>=4.22.0 in /usr/local/lib/python3.10/dist-packages (from matplotlib->bert-score) (4.54.1)\n",
            "Requirement already satisfied: kiwisolver>=1.0.1 in /usr/local/lib/python3.10/dist-packages (from matplotlib->bert-score) (1.4.7)\n",
            "Requirement already satisfied: pillow>=6.2.0 in /usr/local/lib/python3.10/dist-packages (from matplotlib->bert-score) (10.4.0)\n",
            "Requirement already satisfied: pyparsing>=2.3.1 in /usr/local/lib/python3.10/dist-packages (from matplotlib->bert-score) (3.2.0)\n",
            "Requirement already satisfied: charset-normalizer<4,>=2 in /usr/local/lib/python3.10/dist-packages (from requests->bert-score) (3.4.0)\n",
            "Requirement already satisfied: idna<4,>=2.5 in /usr/local/lib/python3.10/dist-packages (from requests->bert-score) (3.10)\n",
            "Requirement already satisfied: urllib3<3,>=1.21.1 in /usr/local/lib/python3.10/dist-packages (from requests->bert-score) (2.2.3)\n",
            "Requirement already satisfied: certifi>=2017.4.17 in /usr/local/lib/python3.10/dist-packages (from requests->bert-score) (2024.8.30)\n",
            "Requirement already satisfied: six>=1.5 in /usr/local/lib/python3.10/dist-packages (from python-dateutil>=2.8.2->pandas>=1.0.1->bert-score) (1.16.0)\n",
            "Requirement already satisfied: MarkupSafe>=2.0 in /usr/local/lib/python3.10/dist-packages (from jinja2->torch>=1.0.0->bert-score) (3.0.2)\n",
            "Downloading bert_score-0.3.13-py3-none-any.whl (61 kB)\n",
            "\u001b[2K   \u001b[90m━━━━━━━━━━━━━━━━━━━━━━━━━━━━━━━━━━━━━━━━\u001b[0m \u001b[32m61.1/61.1 kB\u001b[0m \u001b[31m3.8 MB/s\u001b[0m eta \u001b[36m0:00:00\u001b[0m\n",
            "\u001b[?25hInstalling collected packages: bert-score\n",
            "Successfully installed bert-score-0.3.13\n",
            "Requirement already satisfied: nltk in /usr/local/lib/python3.10/dist-packages (3.8.1)\n",
            "Requirement already satisfied: click in /usr/local/lib/python3.10/dist-packages (from nltk) (8.1.7)\n",
            "Requirement already satisfied: joblib in /usr/local/lib/python3.10/dist-packages (from nltk) (1.4.2)\n",
            "Requirement already satisfied: regex>=2021.8.3 in /usr/local/lib/python3.10/dist-packages (from nltk) (2024.9.11)\n",
            "Requirement already satisfied: tqdm in /usr/local/lib/python3.10/dist-packages (from nltk) (4.66.6)\n",
            "Collecting rouge-score\n",
            "  Downloading rouge_score-0.1.2.tar.gz (17 kB)\n",
            "  Preparing metadata (setup.py) ... \u001b[?25l\u001b[?25hdone\n",
            "Requirement already satisfied: absl-py in /usr/local/lib/python3.10/dist-packages (from rouge-score) (1.4.0)\n",
            "Requirement already satisfied: nltk in /usr/local/lib/python3.10/dist-packages (from rouge-score) (3.8.1)\n",
            "Requirement already satisfied: numpy in /usr/local/lib/python3.10/dist-packages (from rouge-score) (1.26.4)\n",
            "Requirement already satisfied: six>=1.14.0 in /usr/local/lib/python3.10/dist-packages (from rouge-score) (1.16.0)\n",
            "Requirement already satisfied: click in /usr/local/lib/python3.10/dist-packages (from nltk->rouge-score) (8.1.7)\n",
            "Requirement already satisfied: joblib in /usr/local/lib/python3.10/dist-packages (from nltk->rouge-score) (1.4.2)\n",
            "Requirement already satisfied: regex>=2021.8.3 in /usr/local/lib/python3.10/dist-packages (from nltk->rouge-score) (2024.9.11)\n",
            "Requirement already satisfied: tqdm in /usr/local/lib/python3.10/dist-packages (from nltk->rouge-score) (4.66.6)\n",
            "Building wheels for collected packages: rouge-score\n",
            "  Building wheel for rouge-score (setup.py) ... \u001b[?25l\u001b[?25hdone\n",
            "  Created wheel for rouge-score: filename=rouge_score-0.1.2-py3-none-any.whl size=24935 sha256=ce2cae1699a1c47b66d8fb98550d1e22f03388c4fead779181387257902380e5\n",
            "  Stored in directory: /root/.cache/pip/wheels/5f/dd/89/461065a73be61a532ff8599a28e9beef17985c9e9c31e541b4\n",
            "Successfully built rouge-score\n",
            "Installing collected packages: rouge-score\n",
            "Successfully installed rouge-score-0.1.2\n"
          ]
        },
        {
          "output_type": "stream",
          "name": "stderr",
          "text": [
            "[nltk_data] Downloading package wordnet to /root/nltk_data...\n"
          ]
        },
        {
          "output_type": "execute_result",
          "data": {
            "text/plain": [
              "True"
            ]
          },
          "metadata": {},
          "execution_count": 1
        }
      ],
      "source": [
        "# Install required libraries\n",
        "!pip install transformers  # Installs the transformers library for NLP models\n",
        "!pip install imageio       # Installs imageio to handle image files (e.g., GIFs)\n",
        "!pip install gtts          # Installs Google Text-to-Speech API for text-to-speech\n",
        "!pip install bert-score    # Installs the BERTScore metric library for evaluation\n",
        "!pip install nltk          # Installs the NLTK library for natural language processing tasks\n",
        "!pip install rouge-score   # Installs the Rouge score package for evaluation metrics\n",
        "\n",
        "import os\n",
        "import json\n",
        "import random\n",
        "import requests\n",
        "import imageio\n",
        "from PIL import Image\n",
        "from io import BytesIO\n",
        "import torch\n",
        "from transformers import (\n",
        "    BlipProcessor,\n",
        "    BlipForConditionalGeneration,\n",
        "    T5Tokenizer,\n",
        "    T5ForConditionalGeneration,\n",
        "    AdamW\n",
        ")\n",
        "from torch.utils.data import Dataset, DataLoader, random_split\n",
        "from tqdm import tqdm\n",
        "import nltk\n",
        "from nltk.translate.bleu_score import sentence_bleu, corpus_bleu\n",
        "# from nltk.translate.meteor_score import meteor_score\n",
        "from rouge_score import rouge_scorer\n",
        "from bert_score import score as bert_score_fn\n",
        "import numpy as np\n",
        "\n",
        "# Download NLTK data\n",
        "nltk.download('wordnet')\n"
      ]
    },
    {
      "cell_type": "code",
      "execution_count": null,
      "metadata": {
        "colab": {
          "base_uri": "https://localhost:8080/"
        },
        "id": "DHyLSW22Dixv",
        "outputId": "be5c5d6a-dc68-4b8a-b1ad-9bada3c444e3"
      },
      "outputs": [
        {
          "output_type": "stream",
          "name": "stdout",
          "text": [
            "Selected 1000 random GIFs for processing.\n"
          ]
        }
      ],
      "source": [
        "import os\n",
        "import json\n",
        "import random\n",
        "\n",
        "# Define paths\n",
        "metadata_file = 'datafile.json'  # Path to your metadata file that contains GIF information\n",
        "gifs_dir = 'gifs_temp'           # Directory to temporarily store GIFs\n",
        "\n",
        "# Create temporary GIFs directory if it doesn't exist\n",
        "os.makedirs(gifs_dir, exist_ok=True)\n",
        "\n",
        "# Load metadata from the metadata file\n",
        "with open(metadata_file, 'r') as f:\n",
        "    metadata = json.load(f)\n",
        "\n",
        "# Check if the dataset contains at least 100 GIFs, if not raise an error\n",
        "if len(metadata) < 1000:\n",
        "    raise ValueError(\"The metadata file contains fewer than 100 GIFs.\")\n",
        "\n",
        "# Randomly select 100 GIFs from the metadata for processing\n",
        "selected_gifs = random.sample(metadata, 1000)\n",
        "\n",
        "# Output the number of selected GIFs\n",
        "print(f\"Selected {len(selected_gifs)} random GIFs for processing.\")\n"
      ]
    },
    {
      "cell_type": "code",
      "execution_count": null,
      "metadata": {
        "id": "gFSFltAvDxwM"
      },
      "outputs": [],
      "source": [
        "import time\n",
        "\n",
        "# Enhanced download function with retries\n",
        "def download_gif(url, save_path, max_retries=3, backoff_factor=2):\n",
        "    for attempt in range(1, max_retries + 1):\n",
        "        try:\n",
        "            headers = {\n",
        "                \"User-Agent\": \"Mozilla/5.0 (Windows NT 10.0; Win64; x64)\"\n",
        "            }\n",
        "            response = requests.get(url, headers=headers, timeout=10)\n",
        "            response.raise_for_status()\n",
        "            with open(save_path, 'wb') as f:\n",
        "                f.write(response.content)\n",
        "            print(f\"Downloaded: {save_path}\")\n",
        "            return True\n",
        "        except requests.exceptions.HTTPError as http_err:\n",
        "            print(f\"HTTP error: {http_err} - Attempt {attempt}\")\n",
        "            if response.status_code == 404:\n",
        "                break\n",
        "        except requests.exceptions.RequestException as req_err:\n",
        "            print(f\"Request error: {req_err} - Attempt {attempt}\")\n",
        "        except Exception as e:\n",
        "            print(f\"Unexpected error: {e} - Attempt {attempt}\")\n",
        "        # Exponential backoff\n",
        "        time.sleep(backoff_factor ** attempt)\n",
        "    print(f\"Failed to download {url}\")\n",
        "    return False\n",
        "\n",
        "# Function to extract and preprocess frames from GIF\n",
        "def extract_frames(gif_path, num_frames=5, frame_size=(256, 256)):\n",
        "    try:\n",
        "        gif = imageio.mimread(gif_path)\n",
        "        total_frames = len(gif)\n",
        "\n",
        "        if total_frames == 0:\n",
        "            raise ValueError(\"No frames found in GIF.\")\n",
        "\n",
        "        interval = max(total_frames // num_frames, 1)\n",
        "        selected_frames = [gif[i] for i in range(0, total_frames, interval)][:num_frames]\n",
        "\n",
        "        processed_frames = []\n",
        "        for frame in selected_frames:\n",
        "            img = Image.fromarray(frame)\n",
        "            if img.mode != 'RGB':\n",
        "                img = img.convert('RGB')\n",
        "            img_resized = img.resize(frame_size)\n",
        "            processed_frames.append(np.array(img_resized))\n",
        "\n",
        "        # Pad with the last frame or zeros\n",
        "        while len(processed_frames) < num_frames:\n",
        "            processed_frames.append(processed_frames[-1] if processed_frames else np.zeros((frame_size[0], frame_size[1], 3), dtype=np.uint8))\n",
        "\n",
        "        return processed_frames\n",
        "\n",
        "    except Exception as e:\n",
        "        print(f\"Failed to extract frames from {gif_path}: {e}\")\n",
        "        return []\n",
        "\n",
        "# Function to delete GIF after processing\n",
        "def delete_gif(gif_path):\n",
        "    try:\n",
        "        os.remove(gif_path)\n",
        "        print(f\"Deleted: {gif_path}\")\n",
        "    except Exception as e:\n",
        "        print(f\"Failed to delete {gif_path}: {e}\")\n"
      ]
    },
    {
      "cell_type": "code",
      "execution_count": null,
      "metadata": {
        "colab": {
          "base_uri": "https://localhost:8080/"
        },
        "id": "wDjqcja1ZJdA",
        "outputId": "14997784-e9ed-4190-b020-7ea2836508d5"
      },
      "outputs": [
        {
          "output_type": "stream",
          "name": "stderr",
          "text": [
            "\rProcessing GIFs:   0%|          | 0/1000 [00:00<?, ?it/s]"
          ]
        },
        {
          "output_type": "stream",
          "name": "stdout",
          "text": [
            "Downloaded: gifs_temp/gif_125697.gif\n"
          ]
        },
        {
          "output_type": "stream",
          "name": "stderr",
          "text": [
            "\rProcessing GIFs:   0%|          | 1/1000 [00:00<10:24,  1.60it/s]"
          ]
        },
        {
          "output_type": "stream",
          "name": "stdout",
          "text": [
            "Deleted: gifs_temp/gif_125697.gif\n"
          ]
        },
        {
          "output_type": "stream",
          "name": "stderr",
          "text": [
            "\rProcessing GIFs:   0%|          | 2/1000 [00:01<09:58,  1.67it/s]"
          ]
        },
        {
          "output_type": "stream",
          "name": "stdout",
          "text": [
            "Downloaded: gifs_temp/gif_110376.gif\n",
            "Deleted: gifs_temp/gif_110376.gif\n"
          ]
        },
        {
          "output_type": "stream",
          "name": "stderr",
          "text": [
            "\rProcessing GIFs:   0%|          | 3/1000 [00:01<08:17,  2.01it/s]"
          ]
        },
        {
          "output_type": "stream",
          "name": "stdout",
          "text": [
            "Downloaded: gifs_temp/gif_42989.gif\n",
            "Deleted: gifs_temp/gif_42989.gif\n"
          ]
        },
        {
          "output_type": "stream",
          "name": "stderr",
          "text": [
            "\rProcessing GIFs:   0%|          | 4/1000 [00:02<07:44,  2.14it/s]"
          ]
        },
        {
          "output_type": "stream",
          "name": "stdout",
          "text": [
            "Downloaded: gifs_temp/gif_7125.gif\n",
            "Deleted: gifs_temp/gif_7125.gif\n",
            "Downloaded: gifs_temp/gif_114338.gif\n"
          ]
        },
        {
          "output_type": "stream",
          "name": "stderr",
          "text": [
            "\rProcessing GIFs:   0%|          | 5/1000 [00:02<08:25,  1.97it/s]"
          ]
        },
        {
          "output_type": "stream",
          "name": "stdout",
          "text": [
            "Deleted: gifs_temp/gif_114338.gif\n"
          ]
        },
        {
          "output_type": "stream",
          "name": "stderr",
          "text": [
            "\rProcessing GIFs:   1%|          | 6/1000 [00:03<08:42,  1.90it/s]"
          ]
        },
        {
          "output_type": "stream",
          "name": "stdout",
          "text": [
            "Downloaded: gifs_temp/gif_54888.gif\n",
            "Deleted: gifs_temp/gif_54888.gif\n"
          ]
        },
        {
          "output_type": "stream",
          "name": "stderr",
          "text": [
            "\rProcessing GIFs:   1%|          | 7/1000 [00:03<08:17,  2.00it/s]"
          ]
        },
        {
          "output_type": "stream",
          "name": "stdout",
          "text": [
            "Downloaded: gifs_temp/gif_81888.gif\n",
            "Deleted: gifs_temp/gif_81888.gif\n"
          ]
        },
        {
          "output_type": "stream",
          "name": "stderr",
          "text": [
            "\rProcessing GIFs:   1%|          | 8/1000 [00:04<07:58,  2.07it/s]"
          ]
        },
        {
          "output_type": "stream",
          "name": "stdout",
          "text": [
            "Downloaded: gifs_temp/gif_19207.gif\n",
            "Deleted: gifs_temp/gif_19207.gif\n",
            "Downloaded: gifs_temp/gif_41564.gif\n"
          ]
        },
        {
          "output_type": "stream",
          "name": "stderr",
          "text": [
            "\rProcessing GIFs:   1%|          | 9/1000 [00:04<08:27,  1.95it/s]"
          ]
        },
        {
          "output_type": "stream",
          "name": "stdout",
          "text": [
            "Deleted: gifs_temp/gif_41564.gif\n",
            "Downloaded: gifs_temp/gif_60139.gif\n"
          ]
        },
        {
          "output_type": "stream",
          "name": "stderr",
          "text": [
            "\rProcessing GIFs:   1%|          | 10/1000 [00:05<08:42,  1.89it/s]"
          ]
        },
        {
          "output_type": "stream",
          "name": "stdout",
          "text": [
            "Deleted: gifs_temp/gif_60139.gif\n"
          ]
        },
        {
          "output_type": "stream",
          "name": "stderr",
          "text": [
            "\rProcessing GIFs:   1%|          | 11/1000 [00:05<08:16,  1.99it/s]"
          ]
        },
        {
          "output_type": "stream",
          "name": "stdout",
          "text": [
            "Downloaded: gifs_temp/gif_113943.gif\n",
            "Deleted: gifs_temp/gif_113943.gif\n",
            "Downloaded: gifs_temp/gif_67364.gif\n"
          ]
        },
        {
          "output_type": "stream",
          "name": "stderr",
          "text": [
            "\rProcessing GIFs:   1%|          | 12/1000 [00:06<08:57,  1.84it/s]"
          ]
        },
        {
          "output_type": "stream",
          "name": "stdout",
          "text": [
            "Deleted: gifs_temp/gif_67364.gif\n"
          ]
        },
        {
          "output_type": "stream",
          "name": "stderr",
          "text": [
            "\rProcessing GIFs:   1%|▏         | 13/1000 [00:06<08:59,  1.83it/s]"
          ]
        },
        {
          "output_type": "stream",
          "name": "stdout",
          "text": [
            "Downloaded: gifs_temp/gif_79488.gif\n",
            "Deleted: gifs_temp/gif_79488.gif\n",
            "Downloaded: gifs_temp/gif_86809.gif\n"
          ]
        },
        {
          "output_type": "stream",
          "name": "stderr",
          "text": [
            "\rProcessing GIFs:   1%|▏         | 14/1000 [00:08<12:39,  1.30it/s]"
          ]
        },
        {
          "output_type": "stream",
          "name": "stdout",
          "text": [
            "Deleted: gifs_temp/gif_86809.gif\n",
            "Downloaded: gifs_temp/gif_80143.gif\n"
          ]
        },
        {
          "output_type": "stream",
          "name": "stderr",
          "text": [
            "\rProcessing GIFs:   2%|▏         | 15/1000 [00:08<11:40,  1.41it/s]"
          ]
        },
        {
          "output_type": "stream",
          "name": "stdout",
          "text": [
            "Deleted: gifs_temp/gif_80143.gif\n",
            "Downloaded: gifs_temp/gif_97882.gif\n"
          ]
        },
        {
          "output_type": "stream",
          "name": "stderr",
          "text": [
            "\rProcessing GIFs:   2%|▏         | 16/1000 [00:09<10:59,  1.49it/s]"
          ]
        },
        {
          "output_type": "stream",
          "name": "stdout",
          "text": [
            "Deleted: gifs_temp/gif_97882.gif\n",
            "Downloaded: gifs_temp/gif_74834.gif\n"
          ]
        },
        {
          "output_type": "stream",
          "name": "stderr",
          "text": [
            "\rProcessing GIFs:   2%|▏         | 17/1000 [00:09<10:34,  1.55it/s]"
          ]
        },
        {
          "output_type": "stream",
          "name": "stdout",
          "text": [
            "Deleted: gifs_temp/gif_74834.gif\n",
            "Downloaded: gifs_temp/gif_4954.gif\n"
          ]
        },
        {
          "output_type": "stream",
          "name": "stderr",
          "text": [
            "\rProcessing GIFs:   2%|▏         | 18/1000 [00:10<10:33,  1.55it/s]"
          ]
        },
        {
          "output_type": "stream",
          "name": "stdout",
          "text": [
            "Deleted: gifs_temp/gif_4954.gif\n",
            "Downloaded: gifs_temp/gif_53660.gif\n"
          ]
        },
        {
          "output_type": "stream",
          "name": "stderr",
          "text": [
            "\rProcessing GIFs:   2%|▏         | 19/1000 [00:11<10:27,  1.56it/s]"
          ]
        },
        {
          "output_type": "stream",
          "name": "stdout",
          "text": [
            "Deleted: gifs_temp/gif_53660.gif\n",
            "Downloaded: gifs_temp/gif_16507.gif\n"
          ]
        },
        {
          "output_type": "stream",
          "name": "stderr",
          "text": [
            "\rProcessing GIFs:   2%|▏         | 20/1000 [00:11<10:50,  1.51it/s]"
          ]
        },
        {
          "output_type": "stream",
          "name": "stdout",
          "text": [
            "Deleted: gifs_temp/gif_16507.gif\n"
          ]
        },
        {
          "output_type": "stream",
          "name": "stderr",
          "text": [
            "\rProcessing GIFs:   2%|▏         | 21/1000 [00:12<10:11,  1.60it/s]"
          ]
        },
        {
          "output_type": "stream",
          "name": "stdout",
          "text": [
            "Downloaded: gifs_temp/gif_89272.gif\n",
            "Deleted: gifs_temp/gif_89272.gif\n",
            "Downloaded: gifs_temp/gif_91686.gif\n"
          ]
        },
        {
          "output_type": "stream",
          "name": "stderr",
          "text": [
            "\rProcessing GIFs:   2%|▏         | 22/1000 [00:13<10:44,  1.52it/s]"
          ]
        },
        {
          "output_type": "stream",
          "name": "stdout",
          "text": [
            "Deleted: gifs_temp/gif_91686.gif\n"
          ]
        },
        {
          "output_type": "stream",
          "name": "stderr",
          "text": [
            "\rProcessing GIFs:   2%|▏         | 23/1000 [00:13<09:48,  1.66it/s]"
          ]
        },
        {
          "output_type": "stream",
          "name": "stdout",
          "text": [
            "Downloaded: gifs_temp/gif_108863.gif\n",
            "Deleted: gifs_temp/gif_108863.gif\n"
          ]
        },
        {
          "output_type": "stream",
          "name": "stderr",
          "text": [
            "\rProcessing GIFs:   2%|▏         | 24/1000 [00:14<11:00,  1.48it/s]"
          ]
        },
        {
          "output_type": "stream",
          "name": "stdout",
          "text": [
            "Downloaded: gifs_temp/gif_110368.gif\n",
            "Deleted: gifs_temp/gif_110368.gif\n"
          ]
        },
        {
          "output_type": "stream",
          "name": "stderr",
          "text": [
            "\rProcessing GIFs:   2%|▎         | 25/1000 [00:14<09:45,  1.67it/s]"
          ]
        },
        {
          "output_type": "stream",
          "name": "stdout",
          "text": [
            "Downloaded: gifs_temp/gif_33212.gif\n",
            "Deleted: gifs_temp/gif_33212.gif\n"
          ]
        },
        {
          "output_type": "stream",
          "name": "stderr",
          "text": [
            "\rProcessing GIFs:   3%|▎         | 26/1000 [00:15<09:31,  1.70it/s]"
          ]
        },
        {
          "output_type": "stream",
          "name": "stdout",
          "text": [
            "Downloaded: gifs_temp/gif_105228.gif\n",
            "Deleted: gifs_temp/gif_105228.gif\n"
          ]
        },
        {
          "output_type": "stream",
          "name": "stderr",
          "text": [
            "\rProcessing GIFs:   3%|▎         | 27/1000 [00:15<08:51,  1.83it/s]"
          ]
        },
        {
          "output_type": "stream",
          "name": "stdout",
          "text": [
            "Downloaded: gifs_temp/gif_63707.gif\n",
            "Deleted: gifs_temp/gif_63707.gif\n"
          ]
        },
        {
          "output_type": "stream",
          "name": "stderr",
          "text": [
            "\rProcessing GIFs:   3%|▎         | 28/1000 [00:16<08:09,  1.99it/s]"
          ]
        },
        {
          "output_type": "stream",
          "name": "stdout",
          "text": [
            "Downloaded: gifs_temp/gif_44911.gif\n",
            "Deleted: gifs_temp/gif_44911.gif\n"
          ]
        },
        {
          "output_type": "stream",
          "name": "stderr",
          "text": [
            "\rProcessing GIFs:   3%|▎         | 29/1000 [00:16<08:11,  1.98it/s]"
          ]
        },
        {
          "output_type": "stream",
          "name": "stdout",
          "text": [
            "Downloaded: gifs_temp/gif_116650.gif\n",
            "Deleted: gifs_temp/gif_116650.gif\n"
          ]
        },
        {
          "output_type": "stream",
          "name": "stderr",
          "text": [
            "\rProcessing GIFs:   3%|▎         | 30/1000 [00:17<09:05,  1.78it/s]"
          ]
        },
        {
          "output_type": "stream",
          "name": "stdout",
          "text": [
            "Downloaded: gifs_temp/gif_7115.gif\n",
            "Deleted: gifs_temp/gif_7115.gif\n"
          ]
        },
        {
          "output_type": "stream",
          "name": "stderr",
          "text": [
            "\rProcessing GIFs:   3%|▎         | 31/1000 [00:18<09:12,  1.76it/s]"
          ]
        },
        {
          "output_type": "stream",
          "name": "stdout",
          "text": [
            "Downloaded: gifs_temp/gif_44727.gif\n",
            "Deleted: gifs_temp/gif_44727.gif\n",
            "Downloaded: gifs_temp/gif_63994.gif\n"
          ]
        },
        {
          "output_type": "stream",
          "name": "stderr",
          "text": [
            "\rProcessing GIFs:   3%|▎         | 32/1000 [00:18<09:08,  1.76it/s]"
          ]
        },
        {
          "output_type": "stream",
          "name": "stdout",
          "text": [
            "Deleted: gifs_temp/gif_63994.gif\n"
          ]
        },
        {
          "output_type": "stream",
          "name": "stderr",
          "text": [
            "\rProcessing GIFs:   3%|▎         | 33/1000 [00:19<08:30,  1.89it/s]"
          ]
        },
        {
          "output_type": "stream",
          "name": "stdout",
          "text": [
            "Downloaded: gifs_temp/gif_89063.gif\n",
            "Deleted: gifs_temp/gif_89063.gif\n",
            "Downloaded: gifs_temp/gif_17138.gif\n"
          ]
        },
        {
          "output_type": "stream",
          "name": "stderr",
          "text": [
            "\rProcessing GIFs:   3%|▎         | 34/1000 [00:20<10:54,  1.48it/s]"
          ]
        },
        {
          "output_type": "stream",
          "name": "stdout",
          "text": [
            "Deleted: gifs_temp/gif_17138.gif\n",
            "Downloaded: gifs_temp/gif_37697.gif\n"
          ]
        },
        {
          "output_type": "stream",
          "name": "stderr",
          "text": [
            "\rProcessing GIFs:   4%|▎         | 35/1000 [00:20<10:37,  1.51it/s]"
          ]
        },
        {
          "output_type": "stream",
          "name": "stdout",
          "text": [
            "Deleted: gifs_temp/gif_37697.gif\n",
            "Downloaded: gifs_temp/gif_80140.gif\n"
          ]
        },
        {
          "output_type": "stream",
          "name": "stderr",
          "text": [
            "\rProcessing GIFs:   4%|▎         | 36/1000 [00:21<11:05,  1.45it/s]"
          ]
        },
        {
          "output_type": "stream",
          "name": "stdout",
          "text": [
            "Deleted: gifs_temp/gif_80140.gif\n",
            "Downloaded: gifs_temp/gif_35987.gif\n"
          ]
        },
        {
          "output_type": "stream",
          "name": "stderr",
          "text": [
            "\rProcessing GIFs:   4%|▎         | 37/1000 [00:22<11:52,  1.35it/s]"
          ]
        },
        {
          "output_type": "stream",
          "name": "stdout",
          "text": [
            "Deleted: gifs_temp/gif_35987.gif\n"
          ]
        },
        {
          "output_type": "stream",
          "name": "stderr",
          "text": [
            "\rProcessing GIFs:   4%|▍         | 38/1000 [00:22<10:52,  1.47it/s]"
          ]
        },
        {
          "output_type": "stream",
          "name": "stdout",
          "text": [
            "Downloaded: gifs_temp/gif_90318.gif\n",
            "Deleted: gifs_temp/gif_90318.gif\n"
          ]
        },
        {
          "output_type": "stream",
          "name": "stderr",
          "text": [
            "\rProcessing GIFs:   4%|▍         | 39/1000 [00:23<10:15,  1.56it/s]"
          ]
        },
        {
          "output_type": "stream",
          "name": "stdout",
          "text": [
            "Downloaded: gifs_temp/gif_22964.gif\n",
            "Deleted: gifs_temp/gif_22964.gif\n"
          ]
        },
        {
          "output_type": "stream",
          "name": "stderr",
          "text": [
            "\rProcessing GIFs:   4%|▍         | 40/1000 [00:23<09:36,  1.66it/s]"
          ]
        },
        {
          "output_type": "stream",
          "name": "stdout",
          "text": [
            "Downloaded: gifs_temp/gif_16856.gif\n",
            "Deleted: gifs_temp/gif_16856.gif\n"
          ]
        },
        {
          "output_type": "stream",
          "name": "stderr",
          "text": [
            "\rProcessing GIFs:   4%|▍         | 41/1000 [00:24<10:19,  1.55it/s]"
          ]
        },
        {
          "output_type": "stream",
          "name": "stdout",
          "text": [
            "Downloaded: gifs_temp/gif_109091.gif\n",
            "Deleted: gifs_temp/gif_109091.gif\n"
          ]
        },
        {
          "output_type": "stream",
          "name": "stderr",
          "text": [
            "\rProcessing GIFs:   4%|▍         | 42/1000 [00:25<08:57,  1.78it/s]"
          ]
        },
        {
          "output_type": "stream",
          "name": "stdout",
          "text": [
            "Downloaded: gifs_temp/gif_88758.gif\n",
            "Deleted: gifs_temp/gif_88758.gif\n"
          ]
        },
        {
          "output_type": "stream",
          "name": "stderr",
          "text": [
            "\rProcessing GIFs:   4%|▍         | 43/1000 [00:25<08:33,  1.86it/s]"
          ]
        },
        {
          "output_type": "stream",
          "name": "stdout",
          "text": [
            "Downloaded: gifs_temp/gif_51048.gif\n",
            "Deleted: gifs_temp/gif_51048.gif\n"
          ]
        },
        {
          "output_type": "stream",
          "name": "stderr",
          "text": [
            "\rProcessing GIFs:   4%|▍         | 44/1000 [00:25<08:08,  1.96it/s]"
          ]
        },
        {
          "output_type": "stream",
          "name": "stdout",
          "text": [
            "Downloaded: gifs_temp/gif_16897.gif\n",
            "Deleted: gifs_temp/gif_16897.gif\n"
          ]
        },
        {
          "output_type": "stream",
          "name": "stderr",
          "text": [
            "\rProcessing GIFs:   4%|▍         | 45/1000 [00:26<07:41,  2.07it/s]"
          ]
        },
        {
          "output_type": "stream",
          "name": "stdout",
          "text": [
            "Downloaded: gifs_temp/gif_109027.gif\n",
            "Deleted: gifs_temp/gif_109027.gif\n"
          ]
        },
        {
          "output_type": "stream",
          "name": "stderr",
          "text": [
            "\rProcessing GIFs:   5%|▍         | 46/1000 [00:26<07:19,  2.17it/s]"
          ]
        },
        {
          "output_type": "stream",
          "name": "stdout",
          "text": [
            "Downloaded: gifs_temp/gif_11311.gif\n",
            "Deleted: gifs_temp/gif_11311.gif\n"
          ]
        },
        {
          "output_type": "stream",
          "name": "stderr",
          "text": [
            "\rProcessing GIFs:   5%|▍         | 47/1000 [00:27<07:27,  2.13it/s]"
          ]
        },
        {
          "output_type": "stream",
          "name": "stdout",
          "text": [
            "Downloaded: gifs_temp/gif_632.gif\n",
            "Deleted: gifs_temp/gif_632.gif\n"
          ]
        },
        {
          "output_type": "stream",
          "name": "stderr",
          "text": [
            "\rProcessing GIFs:   5%|▍         | 48/1000 [00:27<07:07,  2.23it/s]"
          ]
        },
        {
          "output_type": "stream",
          "name": "stdout",
          "text": [
            "Downloaded: gifs_temp/gif_55189.gif\n",
            "Deleted: gifs_temp/gif_55189.gif\n"
          ]
        },
        {
          "output_type": "stream",
          "name": "stderr",
          "text": [
            "\rProcessing GIFs:   5%|▍         | 49/1000 [00:28<06:57,  2.28it/s]"
          ]
        },
        {
          "output_type": "stream",
          "name": "stdout",
          "text": [
            "Downloaded: gifs_temp/gif_71929.gif\n",
            "Deleted: gifs_temp/gif_71929.gif\n"
          ]
        },
        {
          "output_type": "stream",
          "name": "stderr",
          "text": [
            "\rProcessing GIFs:   5%|▌         | 50/1000 [00:28<08:25,  1.88it/s]"
          ]
        },
        {
          "output_type": "stream",
          "name": "stdout",
          "text": [
            "Downloaded: gifs_temp/gif_22822.gif\n",
            "Deleted: gifs_temp/gif_22822.gif\n"
          ]
        },
        {
          "output_type": "stream",
          "name": "stderr",
          "text": [
            "\rProcessing GIFs:   5%|▌         | 51/1000 [00:29<09:10,  1.72it/s]"
          ]
        },
        {
          "output_type": "stream",
          "name": "stdout",
          "text": [
            "Downloaded: gifs_temp/gif_91088.gif\n",
            "Deleted: gifs_temp/gif_91088.gif\n"
          ]
        },
        {
          "output_type": "stream",
          "name": "stderr",
          "text": [
            "\rProcessing GIFs:   5%|▌         | 52/1000 [00:29<08:40,  1.82it/s]"
          ]
        },
        {
          "output_type": "stream",
          "name": "stdout",
          "text": [
            "Downloaded: gifs_temp/gif_7083.gif\n",
            "Deleted: gifs_temp/gif_7083.gif\n"
          ]
        },
        {
          "output_type": "stream",
          "name": "stderr",
          "text": [
            "\rProcessing GIFs:   5%|▌         | 53/1000 [00:30<07:47,  2.03it/s]"
          ]
        },
        {
          "output_type": "stream",
          "name": "stdout",
          "text": [
            "Downloaded: gifs_temp/gif_30106.gif\n",
            "Deleted: gifs_temp/gif_30106.gif\n"
          ]
        },
        {
          "output_type": "stream",
          "name": "stderr",
          "text": [
            "\rProcessing GIFs:   5%|▌         | 54/1000 [00:30<07:13,  2.18it/s]"
          ]
        },
        {
          "output_type": "stream",
          "name": "stdout",
          "text": [
            "Downloaded: gifs_temp/gif_117178.gif\n",
            "Deleted: gifs_temp/gif_117178.gif\n"
          ]
        },
        {
          "output_type": "stream",
          "name": "stderr",
          "text": [
            "\rProcessing GIFs:   6%|▌         | 55/1000 [00:31<06:50,  2.30it/s]"
          ]
        },
        {
          "output_type": "stream",
          "name": "stdout",
          "text": [
            "Downloaded: gifs_temp/gif_43799.gif\n",
            "Deleted: gifs_temp/gif_43799.gif\n"
          ]
        },
        {
          "output_type": "stream",
          "name": "stderr",
          "text": [
            "\rProcessing GIFs:   6%|▌         | 56/1000 [00:31<06:31,  2.41it/s]"
          ]
        },
        {
          "output_type": "stream",
          "name": "stdout",
          "text": [
            "Downloaded: gifs_temp/gif_106825.gif\n",
            "Deleted: gifs_temp/gif_106825.gif\n"
          ]
        },
        {
          "output_type": "stream",
          "name": "stderr",
          "text": [
            "\rProcessing GIFs:   6%|▌         | 57/1000 [00:31<06:08,  2.56it/s]"
          ]
        },
        {
          "output_type": "stream",
          "name": "stdout",
          "text": [
            "Downloaded: gifs_temp/gif_73857.gif\n",
            "Deleted: gifs_temp/gif_73857.gif\n"
          ]
        },
        {
          "output_type": "stream",
          "name": "stderr",
          "text": [
            "\rProcessing GIFs:   6%|▌         | 58/1000 [00:32<06:11,  2.54it/s]"
          ]
        },
        {
          "output_type": "stream",
          "name": "stdout",
          "text": [
            "Downloaded: gifs_temp/gif_55708.gif\n",
            "Deleted: gifs_temp/gif_55708.gif\n"
          ]
        },
        {
          "output_type": "stream",
          "name": "stderr",
          "text": [
            "\rProcessing GIFs:   6%|▌         | 59/1000 [00:32<06:12,  2.53it/s]"
          ]
        },
        {
          "output_type": "stream",
          "name": "stdout",
          "text": [
            "Downloaded: gifs_temp/gif_84826.gif\n",
            "Deleted: gifs_temp/gif_84826.gif\n"
          ]
        },
        {
          "output_type": "stream",
          "name": "stderr",
          "text": [
            "\rProcessing GIFs:   6%|▌         | 60/1000 [00:33<06:08,  2.55it/s]"
          ]
        },
        {
          "output_type": "stream",
          "name": "stdout",
          "text": [
            "Downloaded: gifs_temp/gif_56561.gif\n",
            "Deleted: gifs_temp/gif_56561.gif\n"
          ]
        },
        {
          "output_type": "stream",
          "name": "stderr",
          "text": [
            "\rProcessing GIFs:   6%|▌         | 61/1000 [00:33<06:01,  2.60it/s]"
          ]
        },
        {
          "output_type": "stream",
          "name": "stdout",
          "text": [
            "Downloaded: gifs_temp/gif_102459.gif\n",
            "Deleted: gifs_temp/gif_102459.gif\n"
          ]
        },
        {
          "output_type": "stream",
          "name": "stderr",
          "text": [
            "\rProcessing GIFs:   6%|▌         | 62/1000 [00:33<06:06,  2.56it/s]"
          ]
        },
        {
          "output_type": "stream",
          "name": "stdout",
          "text": [
            "Downloaded: gifs_temp/gif_65112.gif\n",
            "Deleted: gifs_temp/gif_65112.gif\n"
          ]
        },
        {
          "output_type": "stream",
          "name": "stderr",
          "text": [
            "\rProcessing GIFs:   6%|▋         | 63/1000 [00:34<05:59,  2.60it/s]"
          ]
        },
        {
          "output_type": "stream",
          "name": "stdout",
          "text": [
            "Downloaded: gifs_temp/gif_57878.gif\n",
            "Deleted: gifs_temp/gif_57878.gif\n"
          ]
        },
        {
          "output_type": "stream",
          "name": "stderr",
          "text": [
            "\rProcessing GIFs:   6%|▋         | 64/1000 [00:34<06:04,  2.57it/s]"
          ]
        },
        {
          "output_type": "stream",
          "name": "stdout",
          "text": [
            "Downloaded: gifs_temp/gif_26579.gif\n",
            "Deleted: gifs_temp/gif_26579.gif\n"
          ]
        },
        {
          "output_type": "stream",
          "name": "stderr",
          "text": [
            "\rProcessing GIFs:   6%|▋         | 65/1000 [00:34<06:05,  2.56it/s]"
          ]
        },
        {
          "output_type": "stream",
          "name": "stdout",
          "text": [
            "Downloaded: gifs_temp/gif_123554.gif\n",
            "Deleted: gifs_temp/gif_123554.gif\n"
          ]
        },
        {
          "output_type": "stream",
          "name": "stderr",
          "text": [
            "\rProcessing GIFs:   7%|▋         | 66/1000 [00:35<06:05,  2.56it/s]"
          ]
        },
        {
          "output_type": "stream",
          "name": "stdout",
          "text": [
            "Downloaded: gifs_temp/gif_52966.gif\n",
            "Deleted: gifs_temp/gif_52966.gif\n"
          ]
        },
        {
          "output_type": "stream",
          "name": "stderr",
          "text": [
            "\rProcessing GIFs:   7%|▋         | 67/1000 [00:35<05:50,  2.66it/s]"
          ]
        },
        {
          "output_type": "stream",
          "name": "stdout",
          "text": [
            "Downloaded: gifs_temp/gif_4820.gif\n",
            "Deleted: gifs_temp/gif_4820.gif\n"
          ]
        },
        {
          "output_type": "stream",
          "name": "stderr",
          "text": [
            "\rProcessing GIFs:   7%|▋         | 68/1000 [00:36<05:59,  2.59it/s]"
          ]
        },
        {
          "output_type": "stream",
          "name": "stdout",
          "text": [
            "Downloaded: gifs_temp/gif_55848.gif\n",
            "Deleted: gifs_temp/gif_55848.gif\n"
          ]
        },
        {
          "output_type": "stream",
          "name": "stderr",
          "text": [
            "\rProcessing GIFs:   7%|▋         | 69/1000 [00:36<07:19,  2.12it/s]"
          ]
        },
        {
          "output_type": "stream",
          "name": "stdout",
          "text": [
            "Downloaded: gifs_temp/gif_64867.gif\n",
            "Deleted: gifs_temp/gif_64867.gif\n"
          ]
        },
        {
          "output_type": "stream",
          "name": "stderr",
          "text": [
            "\rProcessing GIFs:   7%|▋         | 70/1000 [00:37<06:41,  2.32it/s]"
          ]
        },
        {
          "output_type": "stream",
          "name": "stdout",
          "text": [
            "Downloaded: gifs_temp/gif_39871.gif\n",
            "Deleted: gifs_temp/gif_39871.gif\n"
          ]
        },
        {
          "output_type": "stream",
          "name": "stderr",
          "text": [
            "\rProcessing GIFs:   7%|▋         | 71/1000 [00:37<07:02,  2.20it/s]"
          ]
        },
        {
          "output_type": "stream",
          "name": "stdout",
          "text": [
            "Downloaded: gifs_temp/gif_79237.gif\n",
            "Deleted: gifs_temp/gif_79237.gif\n"
          ]
        },
        {
          "output_type": "stream",
          "name": "stderr",
          "text": [
            "\rProcessing GIFs:   7%|▋         | 72/1000 [00:37<06:30,  2.37it/s]"
          ]
        },
        {
          "output_type": "stream",
          "name": "stdout",
          "text": [
            "Downloaded: gifs_temp/gif_36709.gif\n",
            "Deleted: gifs_temp/gif_36709.gif\n"
          ]
        },
        {
          "output_type": "stream",
          "name": "stderr",
          "text": [
            "\rProcessing GIFs:   7%|▋         | 73/1000 [00:38<06:24,  2.41it/s]"
          ]
        },
        {
          "output_type": "stream",
          "name": "stdout",
          "text": [
            "Downloaded: gifs_temp/gif_75098.gif\n",
            "Deleted: gifs_temp/gif_75098.gif\n"
          ]
        },
        {
          "output_type": "stream",
          "name": "stderr",
          "text": [
            "\rProcessing GIFs:   7%|▋         | 74/1000 [00:38<06:41,  2.31it/s]"
          ]
        },
        {
          "output_type": "stream",
          "name": "stdout",
          "text": [
            "Downloaded: gifs_temp/gif_39251.gif\n",
            "Deleted: gifs_temp/gif_39251.gif\n"
          ]
        },
        {
          "output_type": "stream",
          "name": "stderr",
          "text": [
            "\rProcessing GIFs:   8%|▊         | 75/1000 [00:39<06:46,  2.28it/s]"
          ]
        },
        {
          "output_type": "stream",
          "name": "stdout",
          "text": [
            "Downloaded: gifs_temp/gif_57009.gif\n",
            "Deleted: gifs_temp/gif_57009.gif\n"
          ]
        },
        {
          "output_type": "stream",
          "name": "stderr",
          "text": [
            "\rProcessing GIFs:   8%|▊         | 76/1000 [00:39<06:43,  2.29it/s]"
          ]
        },
        {
          "output_type": "stream",
          "name": "stdout",
          "text": [
            "Downloaded: gifs_temp/gif_4486.gif\n",
            "Deleted: gifs_temp/gif_4486.gif\n"
          ]
        },
        {
          "output_type": "stream",
          "name": "stderr",
          "text": [
            "\rProcessing GIFs:   8%|▊         | 77/1000 [00:40<06:24,  2.40it/s]"
          ]
        },
        {
          "output_type": "stream",
          "name": "stdout",
          "text": [
            "Downloaded: gifs_temp/gif_51669.gif\n",
            "Deleted: gifs_temp/gif_51669.gif\n"
          ]
        },
        {
          "output_type": "stream",
          "name": "stderr",
          "text": [
            "\rProcessing GIFs:   8%|▊         | 78/1000 [00:40<05:56,  2.59it/s]"
          ]
        },
        {
          "output_type": "stream",
          "name": "stdout",
          "text": [
            "Downloaded: gifs_temp/gif_40200.gif\n",
            "Deleted: gifs_temp/gif_40200.gif\n"
          ]
        },
        {
          "output_type": "stream",
          "name": "stderr",
          "text": [
            "\rProcessing GIFs:   8%|▊         | 79/1000 [00:41<07:29,  2.05it/s]"
          ]
        },
        {
          "output_type": "stream",
          "name": "stdout",
          "text": [
            "Downloaded: gifs_temp/gif_122881.gif\n",
            "Deleted: gifs_temp/gif_122881.gif\n"
          ]
        },
        {
          "output_type": "stream",
          "name": "stderr",
          "text": [
            "\rProcessing GIFs:   8%|▊         | 80/1000 [00:41<06:54,  2.22it/s]"
          ]
        },
        {
          "output_type": "stream",
          "name": "stdout",
          "text": [
            "Downloaded: gifs_temp/gif_113913.gif\n",
            "Deleted: gifs_temp/gif_113913.gif\n"
          ]
        },
        {
          "output_type": "stream",
          "name": "stderr",
          "text": [
            "\rProcessing GIFs:   8%|▊         | 81/1000 [00:41<06:14,  2.46it/s]"
          ]
        },
        {
          "output_type": "stream",
          "name": "stdout",
          "text": [
            "Downloaded: gifs_temp/gif_29798.gif\n",
            "Deleted: gifs_temp/gif_29798.gif\n"
          ]
        },
        {
          "output_type": "stream",
          "name": "stderr",
          "text": [
            "\rProcessing GIFs:   8%|▊         | 82/1000 [00:42<06:51,  2.23it/s]"
          ]
        },
        {
          "output_type": "stream",
          "name": "stdout",
          "text": [
            "Downloaded: gifs_temp/gif_8129.gif\n",
            "Deleted: gifs_temp/gif_8129.gif\n"
          ]
        },
        {
          "output_type": "stream",
          "name": "stderr",
          "text": [
            "\rProcessing GIFs:   8%|▊         | 83/1000 [00:42<06:46,  2.26it/s]"
          ]
        },
        {
          "output_type": "stream",
          "name": "stdout",
          "text": [
            "Downloaded: gifs_temp/gif_48726.gif\n",
            "Deleted: gifs_temp/gif_48726.gif\n"
          ]
        },
        {
          "output_type": "stream",
          "name": "stderr",
          "text": [
            "\rProcessing GIFs:   8%|▊         | 84/1000 [00:43<06:44,  2.27it/s]"
          ]
        },
        {
          "output_type": "stream",
          "name": "stdout",
          "text": [
            "Downloaded: gifs_temp/gif_94552.gif\n",
            "Deleted: gifs_temp/gif_94552.gif\n"
          ]
        },
        {
          "output_type": "stream",
          "name": "stderr",
          "text": [
            "\rProcessing GIFs:   8%|▊         | 85/1000 [00:43<07:15,  2.10it/s]"
          ]
        },
        {
          "output_type": "stream",
          "name": "stdout",
          "text": [
            "Downloaded: gifs_temp/gif_122260.gif\n",
            "Deleted: gifs_temp/gif_122260.gif\n"
          ]
        },
        {
          "output_type": "stream",
          "name": "stderr",
          "text": [
            "\rProcessing GIFs:   9%|▊         | 86/1000 [00:44<07:17,  2.09it/s]"
          ]
        },
        {
          "output_type": "stream",
          "name": "stdout",
          "text": [
            "Downloaded: gifs_temp/gif_122076.gif\n",
            "Deleted: gifs_temp/gif_122076.gif\n"
          ]
        },
        {
          "output_type": "stream",
          "name": "stderr",
          "text": [
            "\rProcessing GIFs:   9%|▊         | 87/1000 [00:45<08:47,  1.73it/s]"
          ]
        },
        {
          "output_type": "stream",
          "name": "stdout",
          "text": [
            "Downloaded: gifs_temp/gif_20157.gif\n",
            "Deleted: gifs_temp/gif_20157.gif\n",
            "Downloaded: gifs_temp/gif_87168.gif\n"
          ]
        },
        {
          "output_type": "stream",
          "name": "stderr",
          "text": [
            "\rProcessing GIFs:   9%|▉         | 88/1000 [00:45<08:54,  1.71it/s]"
          ]
        },
        {
          "output_type": "stream",
          "name": "stdout",
          "text": [
            "Deleted: gifs_temp/gif_87168.gif\n"
          ]
        },
        {
          "output_type": "stream",
          "name": "stderr",
          "text": [
            "\rProcessing GIFs:   9%|▉         | 89/1000 [00:46<08:32,  1.78it/s]"
          ]
        },
        {
          "output_type": "stream",
          "name": "stdout",
          "text": [
            "Downloaded: gifs_temp/gif_112339.gif\n",
            "Deleted: gifs_temp/gif_112339.gif\n"
          ]
        },
        {
          "output_type": "stream",
          "name": "stderr",
          "text": [
            "\rProcessing GIFs:   9%|▉         | 90/1000 [00:46<07:28,  2.03it/s]"
          ]
        },
        {
          "output_type": "stream",
          "name": "stdout",
          "text": [
            "Downloaded: gifs_temp/gif_16296.gif\n",
            "Deleted: gifs_temp/gif_16296.gif\n"
          ]
        },
        {
          "output_type": "stream",
          "name": "stderr",
          "text": [
            "\rProcessing GIFs:   9%|▉         | 91/1000 [00:47<09:19,  1.62it/s]"
          ]
        },
        {
          "output_type": "stream",
          "name": "stdout",
          "text": [
            "Downloaded: gifs_temp/gif_81587.gif\n",
            "Deleted: gifs_temp/gif_81587.gif\n"
          ]
        },
        {
          "output_type": "stream",
          "name": "stderr",
          "text": [
            "\rProcessing GIFs:   9%|▉         | 92/1000 [00:48<11:09,  1.36it/s]"
          ]
        },
        {
          "output_type": "stream",
          "name": "stdout",
          "text": [
            "Downloaded: gifs_temp/gif_111285.gif\n",
            "Deleted: gifs_temp/gif_111285.gif\n",
            "Downloaded: gifs_temp/gif_68028.gif\n"
          ]
        },
        {
          "output_type": "stream",
          "name": "stderr",
          "text": [
            "\rProcessing GIFs:   9%|▉         | 93/1000 [00:49<10:54,  1.39it/s]"
          ]
        },
        {
          "output_type": "stream",
          "name": "stdout",
          "text": [
            "Deleted: gifs_temp/gif_68028.gif\n"
          ]
        },
        {
          "output_type": "stream",
          "name": "stderr",
          "text": [
            "\rProcessing GIFs:   9%|▉         | 94/1000 [00:49<10:11,  1.48it/s]"
          ]
        },
        {
          "output_type": "stream",
          "name": "stdout",
          "text": [
            "Downloaded: gifs_temp/gif_28390.gif\n",
            "Deleted: gifs_temp/gif_28390.gif\n",
            "Downloaded: gifs_temp/gif_90888.gif\n"
          ]
        },
        {
          "output_type": "stream",
          "name": "stderr",
          "text": [
            "\rProcessing GIFs:  10%|▉         | 95/1000 [00:50<09:51,  1.53it/s]"
          ]
        },
        {
          "output_type": "stream",
          "name": "stdout",
          "text": [
            "Deleted: gifs_temp/gif_90888.gif\n"
          ]
        },
        {
          "output_type": "stream",
          "name": "stderr",
          "text": [
            "\rProcessing GIFs:  10%|▉         | 96/1000 [00:50<10:05,  1.49it/s]"
          ]
        },
        {
          "output_type": "stream",
          "name": "stdout",
          "text": [
            "Downloaded: gifs_temp/gif_113373.gif\n",
            "Deleted: gifs_temp/gif_113373.gif\n"
          ]
        },
        {
          "output_type": "stream",
          "name": "stderr",
          "text": [
            "\rProcessing GIFs:  10%|▉         | 97/1000 [00:51<08:53,  1.69it/s]"
          ]
        },
        {
          "output_type": "stream",
          "name": "stdout",
          "text": [
            "Downloaded: gifs_temp/gif_2073.gif\n",
            "Deleted: gifs_temp/gif_2073.gif\n"
          ]
        },
        {
          "output_type": "stream",
          "name": "stderr",
          "text": [
            "\rProcessing GIFs:  10%|▉         | 98/1000 [00:51<07:35,  1.98it/s]"
          ]
        },
        {
          "output_type": "stream",
          "name": "stdout",
          "text": [
            "Downloaded: gifs_temp/gif_60605.gif\n",
            "Deleted: gifs_temp/gif_60605.gif\n"
          ]
        },
        {
          "output_type": "stream",
          "name": "stderr",
          "text": [
            "\rProcessing GIFs:  10%|▉         | 99/1000 [00:52<06:53,  2.18it/s]"
          ]
        },
        {
          "output_type": "stream",
          "name": "stdout",
          "text": [
            "Downloaded: gifs_temp/gif_1735.gif\n",
            "Deleted: gifs_temp/gif_1735.gif\n"
          ]
        },
        {
          "output_type": "stream",
          "name": "stderr",
          "text": [
            "\rProcessing GIFs:  10%|█         | 100/1000 [00:52<06:29,  2.31it/s]"
          ]
        },
        {
          "output_type": "stream",
          "name": "stdout",
          "text": [
            "Downloaded: gifs_temp/gif_5885.gif\n",
            "Deleted: gifs_temp/gif_5885.gif\n"
          ]
        },
        {
          "output_type": "stream",
          "name": "stderr",
          "text": [
            "\rProcessing GIFs:  10%|█         | 101/1000 [00:52<06:11,  2.42it/s]"
          ]
        },
        {
          "output_type": "stream",
          "name": "stdout",
          "text": [
            "Downloaded: gifs_temp/gif_44822.gif\n",
            "Deleted: gifs_temp/gif_44822.gif\n"
          ]
        },
        {
          "output_type": "stream",
          "name": "stderr",
          "text": [
            "\rProcessing GIFs:  10%|█         | 102/1000 [00:53<06:21,  2.35it/s]"
          ]
        },
        {
          "output_type": "stream",
          "name": "stdout",
          "text": [
            "Downloaded: gifs_temp/gif_44050.gif\n",
            "Deleted: gifs_temp/gif_44050.gif\n"
          ]
        },
        {
          "output_type": "stream",
          "name": "stderr",
          "text": [
            "\rProcessing GIFs:  10%|█         | 103/1000 [00:54<07:58,  1.88it/s]"
          ]
        },
        {
          "output_type": "stream",
          "name": "stdout",
          "text": [
            "Downloaded: gifs_temp/gif_51061.gif\n",
            "Deleted: gifs_temp/gif_51061.gif\n"
          ]
        },
        {
          "output_type": "stream",
          "name": "stderr",
          "text": [
            "\rProcessing GIFs:  10%|█         | 104/1000 [00:54<06:51,  2.18it/s]"
          ]
        },
        {
          "output_type": "stream",
          "name": "stdout",
          "text": [
            "Downloaded: gifs_temp/gif_6044.gif\n",
            "Deleted: gifs_temp/gif_6044.gif\n"
          ]
        },
        {
          "output_type": "stream",
          "name": "stderr",
          "text": [
            "\rProcessing GIFs:  10%|█         | 105/1000 [00:54<06:27,  2.31it/s]"
          ]
        },
        {
          "output_type": "stream",
          "name": "stdout",
          "text": [
            "Downloaded: gifs_temp/gif_35080.gif\n",
            "Deleted: gifs_temp/gif_35080.gif\n"
          ]
        },
        {
          "output_type": "stream",
          "name": "stderr",
          "text": [
            "\rProcessing GIFs:  11%|█         | 106/1000 [00:55<06:18,  2.36it/s]"
          ]
        },
        {
          "output_type": "stream",
          "name": "stdout",
          "text": [
            "Downloaded: gifs_temp/gif_94127.gif\n",
            "Deleted: gifs_temp/gif_94127.gif\n"
          ]
        },
        {
          "output_type": "stream",
          "name": "stderr",
          "text": [
            "\rProcessing GIFs:  11%|█         | 107/1000 [00:55<06:09,  2.42it/s]"
          ]
        },
        {
          "output_type": "stream",
          "name": "stdout",
          "text": [
            "Downloaded: gifs_temp/gif_74756.gif\n",
            "Deleted: gifs_temp/gif_74756.gif\n"
          ]
        },
        {
          "output_type": "stream",
          "name": "stderr",
          "text": [
            "\rProcessing GIFs:  11%|█         | 108/1000 [00:55<05:51,  2.54it/s]"
          ]
        },
        {
          "output_type": "stream",
          "name": "stdout",
          "text": [
            "Downloaded: gifs_temp/gif_83612.gif\n",
            "Deleted: gifs_temp/gif_83612.gif\n"
          ]
        },
        {
          "output_type": "stream",
          "name": "stderr",
          "text": [
            "\rProcessing GIFs:  11%|█         | 109/1000 [00:56<05:49,  2.55it/s]"
          ]
        },
        {
          "output_type": "stream",
          "name": "stdout",
          "text": [
            "Downloaded: gifs_temp/gif_105034.gif\n",
            "Deleted: gifs_temp/gif_105034.gif\n"
          ]
        },
        {
          "output_type": "stream",
          "name": "stderr",
          "text": [
            "\rProcessing GIFs:  11%|█         | 110/1000 [00:56<05:41,  2.60it/s]"
          ]
        },
        {
          "output_type": "stream",
          "name": "stdout",
          "text": [
            "Downloaded: gifs_temp/gif_51079.gif\n",
            "Deleted: gifs_temp/gif_51079.gif\n"
          ]
        },
        {
          "output_type": "stream",
          "name": "stderr",
          "text": [
            "\rProcessing GIFs:  11%|█         | 111/1000 [00:57<06:24,  2.31it/s]"
          ]
        },
        {
          "output_type": "stream",
          "name": "stdout",
          "text": [
            "Downloaded: gifs_temp/gif_93001.gif\n",
            "Deleted: gifs_temp/gif_93001.gif\n"
          ]
        },
        {
          "output_type": "stream",
          "name": "stderr",
          "text": [
            "\rProcessing GIFs:  11%|█         | 112/1000 [00:57<06:08,  2.41it/s]"
          ]
        },
        {
          "output_type": "stream",
          "name": "stdout",
          "text": [
            "Downloaded: gifs_temp/gif_30501.gif\n",
            "Deleted: gifs_temp/gif_30501.gif\n"
          ]
        },
        {
          "output_type": "stream",
          "name": "stderr",
          "text": [
            "\rProcessing GIFs:  11%|█▏        | 113/1000 [00:58<07:48,  1.89it/s]"
          ]
        },
        {
          "output_type": "stream",
          "name": "stdout",
          "text": [
            "Downloaded: gifs_temp/gif_30315.gif\n",
            "Deleted: gifs_temp/gif_30315.gif\n"
          ]
        },
        {
          "output_type": "stream",
          "name": "stderr",
          "text": [
            "\rProcessing GIFs:  11%|█▏        | 114/1000 [00:58<06:52,  2.15it/s]"
          ]
        },
        {
          "output_type": "stream",
          "name": "stdout",
          "text": [
            "Downloaded: gifs_temp/gif_50095.gif\n",
            "Deleted: gifs_temp/gif_50095.gif\n"
          ]
        },
        {
          "output_type": "stream",
          "name": "stderr",
          "text": [
            "\rProcessing GIFs:  12%|█▏        | 115/1000 [00:59<07:39,  1.92it/s]"
          ]
        },
        {
          "output_type": "stream",
          "name": "stdout",
          "text": [
            "Downloaded: gifs_temp/gif_50489.gif\n",
            "Deleted: gifs_temp/gif_50489.gif\n"
          ]
        },
        {
          "output_type": "stream",
          "name": "stderr",
          "text": [
            "\rProcessing GIFs:  12%|█▏        | 116/1000 [00:59<06:52,  2.14it/s]"
          ]
        },
        {
          "output_type": "stream",
          "name": "stdout",
          "text": [
            "Downloaded: gifs_temp/gif_67703.gif\n",
            "Deleted: gifs_temp/gif_67703.gif\n"
          ]
        },
        {
          "output_type": "stream",
          "name": "stderr",
          "text": [
            "\rProcessing GIFs:  12%|█▏        | 117/1000 [01:00<07:57,  1.85it/s]"
          ]
        },
        {
          "output_type": "stream",
          "name": "stdout",
          "text": [
            "Downloaded: gifs_temp/gif_46808.gif\n",
            "Deleted: gifs_temp/gif_46808.gif\n"
          ]
        },
        {
          "output_type": "stream",
          "name": "stderr",
          "text": [
            "\rProcessing GIFs:  12%|█▏        | 118/1000 [01:00<06:59,  2.10it/s]"
          ]
        },
        {
          "output_type": "stream",
          "name": "stdout",
          "text": [
            "Downloaded: gifs_temp/gif_5249.gif\n",
            "Deleted: gifs_temp/gif_5249.gif\n"
          ]
        },
        {
          "output_type": "stream",
          "name": "stderr",
          "text": [
            "\rProcessing GIFs:  12%|█▏        | 119/1000 [01:01<07:13,  2.03it/s]"
          ]
        },
        {
          "output_type": "stream",
          "name": "stdout",
          "text": [
            "Downloaded: gifs_temp/gif_71984.gif\n",
            "Deleted: gifs_temp/gif_71984.gif\n"
          ]
        },
        {
          "output_type": "stream",
          "name": "stderr",
          "text": [
            "\rProcessing GIFs:  12%|█▏        | 120/1000 [01:01<07:03,  2.08it/s]"
          ]
        },
        {
          "output_type": "stream",
          "name": "stdout",
          "text": [
            "Downloaded: gifs_temp/gif_849.gif\n",
            "Deleted: gifs_temp/gif_849.gif\n"
          ]
        },
        {
          "output_type": "stream",
          "name": "stderr",
          "text": [
            "\rProcessing GIFs:  12%|█▏        | 121/1000 [01:02<06:52,  2.13it/s]"
          ]
        },
        {
          "output_type": "stream",
          "name": "stdout",
          "text": [
            "Downloaded: gifs_temp/gif_106756.gif\n",
            "Deleted: gifs_temp/gif_106756.gif\n"
          ]
        },
        {
          "output_type": "stream",
          "name": "stderr",
          "text": [
            "\rProcessing GIFs:  12%|█▏        | 122/1000 [01:02<08:25,  1.74it/s]"
          ]
        },
        {
          "output_type": "stream",
          "name": "stdout",
          "text": [
            "Downloaded: gifs_temp/gif_19301.gif\n",
            "Deleted: gifs_temp/gif_19301.gif\n"
          ]
        },
        {
          "output_type": "stream",
          "name": "stderr",
          "text": [
            "\rProcessing GIFs:  12%|█▏        | 123/1000 [01:03<07:46,  1.88it/s]"
          ]
        },
        {
          "output_type": "stream",
          "name": "stdout",
          "text": [
            "Downloaded: gifs_temp/gif_69925.gif\n",
            "Deleted: gifs_temp/gif_69925.gif\n"
          ]
        },
        {
          "output_type": "stream",
          "name": "stderr",
          "text": [
            "\rProcessing GIFs:  12%|█▏        | 124/1000 [01:03<07:40,  1.90it/s]"
          ]
        },
        {
          "output_type": "stream",
          "name": "stdout",
          "text": [
            "Downloaded: gifs_temp/gif_63447.gif\n",
            "Deleted: gifs_temp/gif_63447.gif\n"
          ]
        },
        {
          "output_type": "stream",
          "name": "stderr",
          "text": [
            "\rProcessing GIFs:  12%|█▎        | 125/1000 [01:04<07:11,  2.03it/s]"
          ]
        },
        {
          "output_type": "stream",
          "name": "stdout",
          "text": [
            "Downloaded: gifs_temp/gif_21624.gif\n",
            "Deleted: gifs_temp/gif_21624.gif\n"
          ]
        },
        {
          "output_type": "stream",
          "name": "stderr",
          "text": [
            "\rProcessing GIFs:  13%|█▎        | 126/1000 [01:04<07:19,  1.99it/s]"
          ]
        },
        {
          "output_type": "stream",
          "name": "stdout",
          "text": [
            "Downloaded: gifs_temp/gif_34808.gif\n",
            "Deleted: gifs_temp/gif_34808.gif\n"
          ]
        },
        {
          "output_type": "stream",
          "name": "stderr",
          "text": [
            "\rProcessing GIFs:  13%|█▎        | 127/1000 [01:05<06:56,  2.09it/s]"
          ]
        },
        {
          "output_type": "stream",
          "name": "stdout",
          "text": [
            "Downloaded: gifs_temp/gif_120939.gif\n",
            "Deleted: gifs_temp/gif_120939.gif\n"
          ]
        },
        {
          "output_type": "stream",
          "name": "stderr",
          "text": [
            "\rProcessing GIFs:  13%|█▎        | 128/1000 [01:05<06:56,  2.09it/s]"
          ]
        },
        {
          "output_type": "stream",
          "name": "stdout",
          "text": [
            "Downloaded: gifs_temp/gif_96165.gif\n",
            "Deleted: gifs_temp/gif_96165.gif\n"
          ]
        },
        {
          "output_type": "stream",
          "name": "stderr",
          "text": [
            "\rProcessing GIFs:  13%|█▎        | 129/1000 [01:06<06:35,  2.20it/s]"
          ]
        },
        {
          "output_type": "stream",
          "name": "stdout",
          "text": [
            "Downloaded: gifs_temp/gif_33768.gif\n",
            "Deleted: gifs_temp/gif_33768.gif\n"
          ]
        },
        {
          "output_type": "stream",
          "name": "stderr",
          "text": [
            "\rProcessing GIFs:  13%|█▎        | 130/1000 [01:06<06:23,  2.27it/s]"
          ]
        },
        {
          "output_type": "stream",
          "name": "stdout",
          "text": [
            "Downloaded: gifs_temp/gif_49701.gif\n",
            "Deleted: gifs_temp/gif_49701.gif\n"
          ]
        },
        {
          "output_type": "stream",
          "name": "stderr",
          "text": [
            "\rProcessing GIFs:  13%|█▎        | 131/1000 [01:07<08:41,  1.67it/s]"
          ]
        },
        {
          "output_type": "stream",
          "name": "stdout",
          "text": [
            "Downloaded: gifs_temp/gif_103944.gif\n",
            "Deleted: gifs_temp/gif_103944.gif\n"
          ]
        },
        {
          "output_type": "stream",
          "name": "stderr",
          "text": [
            "\rProcessing GIFs:  13%|█▎        | 132/1000 [01:08<09:03,  1.60it/s]"
          ]
        },
        {
          "output_type": "stream",
          "name": "stdout",
          "text": [
            "Downloaded: gifs_temp/gif_11000.gif\n",
            "Deleted: gifs_temp/gif_11000.gif\n"
          ]
        },
        {
          "output_type": "stream",
          "name": "stderr",
          "text": [
            "\rProcessing GIFs:  13%|█▎        | 133/1000 [01:08<07:51,  1.84it/s]"
          ]
        },
        {
          "output_type": "stream",
          "name": "stdout",
          "text": [
            "Downloaded: gifs_temp/gif_35936.gif\n",
            "Deleted: gifs_temp/gif_35936.gif\n"
          ]
        },
        {
          "output_type": "stream",
          "name": "stderr",
          "text": [
            "\rProcessing GIFs:  13%|█▎        | 134/1000 [01:08<07:04,  2.04it/s]"
          ]
        },
        {
          "output_type": "stream",
          "name": "stdout",
          "text": [
            "Downloaded: gifs_temp/gif_55829.gif\n",
            "Deleted: gifs_temp/gif_55829.gif\n"
          ]
        },
        {
          "output_type": "stream",
          "name": "stderr",
          "text": [
            "\rProcessing GIFs:  14%|█▎        | 135/1000 [01:09<06:49,  2.11it/s]"
          ]
        },
        {
          "output_type": "stream",
          "name": "stdout",
          "text": [
            "Downloaded: gifs_temp/gif_44485.gif\n",
            "Deleted: gifs_temp/gif_44485.gif\n"
          ]
        },
        {
          "output_type": "stream",
          "name": "stderr",
          "text": [
            "\rProcessing GIFs:  14%|█▎        | 136/1000 [01:09<06:25,  2.24it/s]"
          ]
        },
        {
          "output_type": "stream",
          "name": "stdout",
          "text": [
            "Downloaded: gifs_temp/gif_24770.gif\n",
            "Deleted: gifs_temp/gif_24770.gif\n"
          ]
        },
        {
          "output_type": "stream",
          "name": "stderr",
          "text": [
            "\rProcessing GIFs:  14%|█▎        | 137/1000 [01:10<07:12,  1.99it/s]"
          ]
        },
        {
          "output_type": "stream",
          "name": "stdout",
          "text": [
            "Downloaded: gifs_temp/gif_114192.gif\n",
            "Deleted: gifs_temp/gif_114192.gif\n"
          ]
        },
        {
          "output_type": "stream",
          "name": "stderr",
          "text": [
            "\rProcessing GIFs:  14%|█▍        | 138/1000 [01:10<06:20,  2.27it/s]"
          ]
        },
        {
          "output_type": "stream",
          "name": "stdout",
          "text": [
            "Downloaded: gifs_temp/gif_34400.gif\n",
            "Deleted: gifs_temp/gif_34400.gif\n"
          ]
        },
        {
          "output_type": "stream",
          "name": "stderr",
          "text": [
            "\rProcessing GIFs:  14%|█▍        | 139/1000 [01:11<07:23,  1.94it/s]"
          ]
        },
        {
          "output_type": "stream",
          "name": "stdout",
          "text": [
            "Downloaded: gifs_temp/gif_46831.gif\n",
            "Deleted: gifs_temp/gif_46831.gif\n"
          ]
        },
        {
          "output_type": "stream",
          "name": "stderr",
          "text": [
            "\rProcessing GIFs:  14%|█▍        | 140/1000 [01:11<06:53,  2.08it/s]"
          ]
        },
        {
          "output_type": "stream",
          "name": "stdout",
          "text": [
            "Downloaded: gifs_temp/gif_56890.gif\n",
            "Deleted: gifs_temp/gif_56890.gif\n"
          ]
        },
        {
          "output_type": "stream",
          "name": "stderr",
          "text": [
            "\rProcessing GIFs:  14%|█▍        | 141/1000 [01:12<06:31,  2.20it/s]"
          ]
        },
        {
          "output_type": "stream",
          "name": "stdout",
          "text": [
            "Downloaded: gifs_temp/gif_31796.gif\n",
            "Deleted: gifs_temp/gif_31796.gif\n"
          ]
        },
        {
          "output_type": "stream",
          "name": "stderr",
          "text": [
            "\rProcessing GIFs:  14%|█▍        | 142/1000 [01:12<06:04,  2.35it/s]"
          ]
        },
        {
          "output_type": "stream",
          "name": "stdout",
          "text": [
            "Downloaded: gifs_temp/gif_11856.gif\n",
            "Deleted: gifs_temp/gif_11856.gif\n"
          ]
        },
        {
          "output_type": "stream",
          "name": "stderr",
          "text": [
            "\rProcessing GIFs:  14%|█▍        | 143/1000 [01:12<05:44,  2.49it/s]"
          ]
        },
        {
          "output_type": "stream",
          "name": "stdout",
          "text": [
            "Downloaded: gifs_temp/gif_856.gif\n",
            "Deleted: gifs_temp/gif_856.gif\n"
          ]
        },
        {
          "output_type": "stream",
          "name": "stderr",
          "text": [
            "\rProcessing GIFs:  14%|█▍        | 144/1000 [01:13<05:30,  2.59it/s]"
          ]
        },
        {
          "output_type": "stream",
          "name": "stdout",
          "text": [
            "Downloaded: gifs_temp/gif_20890.gif\n",
            "Deleted: gifs_temp/gif_20890.gif\n"
          ]
        },
        {
          "output_type": "stream",
          "name": "stderr",
          "text": [
            "\rProcessing GIFs:  14%|█▍        | 145/1000 [01:13<05:42,  2.50it/s]"
          ]
        },
        {
          "output_type": "stream",
          "name": "stdout",
          "text": [
            "Downloaded: gifs_temp/gif_39030.gif\n",
            "Deleted: gifs_temp/gif_39030.gif\n"
          ]
        },
        {
          "output_type": "stream",
          "name": "stderr",
          "text": [
            "\rProcessing GIFs:  15%|█▍        | 146/1000 [01:14<05:52,  2.42it/s]"
          ]
        },
        {
          "output_type": "stream",
          "name": "stdout",
          "text": [
            "Downloaded: gifs_temp/gif_120726.gif\n",
            "Deleted: gifs_temp/gif_120726.gif\n",
            "Downloaded: gifs_temp/gif_38299.gif\n"
          ]
        },
        {
          "output_type": "stream",
          "name": "stderr",
          "text": [
            "\rProcessing GIFs:  15%|█▍        | 147/1000 [01:14<06:33,  2.17it/s]"
          ]
        },
        {
          "output_type": "stream",
          "name": "stdout",
          "text": [
            "Deleted: gifs_temp/gif_38299.gif\n",
            "Downloaded: gifs_temp/gif_57481.gif\n"
          ]
        },
        {
          "output_type": "stream",
          "name": "stderr",
          "text": [
            "\rProcessing GIFs:  15%|█▍        | 148/1000 [01:15<06:46,  2.10it/s]"
          ]
        },
        {
          "output_type": "stream",
          "name": "stdout",
          "text": [
            "Deleted: gifs_temp/gif_57481.gif\n"
          ]
        },
        {
          "output_type": "stream",
          "name": "stderr",
          "text": [
            "\rProcessing GIFs:  15%|█▍        | 149/1000 [01:15<06:35,  2.15it/s]"
          ]
        },
        {
          "output_type": "stream",
          "name": "stdout",
          "text": [
            "Downloaded: gifs_temp/gif_6862.gif\n",
            "Deleted: gifs_temp/gif_6862.gif\n",
            "Downloaded: gifs_temp/gif_90338.gif\n"
          ]
        },
        {
          "output_type": "stream",
          "name": "stderr",
          "text": [
            "\rProcessing GIFs:  15%|█▌        | 150/1000 [01:16<07:01,  2.02it/s]"
          ]
        },
        {
          "output_type": "stream",
          "name": "stdout",
          "text": [
            "Deleted: gifs_temp/gif_90338.gif\n",
            "Downloaded: gifs_temp/gif_55300.gif\n"
          ]
        },
        {
          "output_type": "stream",
          "name": "stderr",
          "text": [
            "\rProcessing GIFs:  15%|█▌        | 151/1000 [01:17<08:52,  1.59it/s]"
          ]
        },
        {
          "output_type": "stream",
          "name": "stdout",
          "text": [
            "Deleted: gifs_temp/gif_55300.gif\n",
            "Downloaded: gifs_temp/gif_67140.gif\n"
          ]
        },
        {
          "output_type": "stream",
          "name": "stderr",
          "text": [
            "\rProcessing GIFs:  15%|█▌        | 152/1000 [01:17<09:25,  1.50it/s]"
          ]
        },
        {
          "output_type": "stream",
          "name": "stdout",
          "text": [
            "Deleted: gifs_temp/gif_67140.gif\n"
          ]
        },
        {
          "output_type": "stream",
          "name": "stderr",
          "text": [
            "\rProcessing GIFs:  15%|█▌        | 153/1000 [01:18<08:23,  1.68it/s]"
          ]
        },
        {
          "output_type": "stream",
          "name": "stdout",
          "text": [
            "Downloaded: gifs_temp/gif_90490.gif\n",
            "Deleted: gifs_temp/gif_90490.gif\n"
          ]
        },
        {
          "output_type": "stream",
          "name": "stderr",
          "text": [
            "\rProcessing GIFs:  15%|█▌        | 154/1000 [01:18<07:40,  1.84it/s]"
          ]
        },
        {
          "output_type": "stream",
          "name": "stdout",
          "text": [
            "Downloaded: gifs_temp/gif_77221.gif\n",
            "Deleted: gifs_temp/gif_77221.gif\n"
          ]
        },
        {
          "output_type": "stream",
          "name": "stderr",
          "text": [
            "\rProcessing GIFs:  16%|█▌        | 155/1000 [01:19<08:17,  1.70it/s]"
          ]
        },
        {
          "output_type": "stream",
          "name": "stdout",
          "text": [
            "Downloaded: gifs_temp/gif_10085.gif\n",
            "Deleted: gifs_temp/gif_10085.gif\n"
          ]
        },
        {
          "output_type": "stream",
          "name": "stderr",
          "text": [
            "\rProcessing GIFs:  16%|█▌        | 156/1000 [01:19<07:20,  1.92it/s]"
          ]
        },
        {
          "output_type": "stream",
          "name": "stdout",
          "text": [
            "Downloaded: gifs_temp/gif_20647.gif\n",
            "Deleted: gifs_temp/gif_20647.gif\n"
          ]
        },
        {
          "output_type": "stream",
          "name": "stderr",
          "text": [
            "\rProcessing GIFs:  16%|█▌        | 157/1000 [01:20<06:35,  2.13it/s]"
          ]
        },
        {
          "output_type": "stream",
          "name": "stdout",
          "text": [
            "Downloaded: gifs_temp/gif_33225.gif\n",
            "Deleted: gifs_temp/gif_33225.gif\n"
          ]
        },
        {
          "output_type": "stream",
          "name": "stderr",
          "text": [
            "\rProcessing GIFs:  16%|█▌        | 158/1000 [01:20<06:09,  2.28it/s]"
          ]
        },
        {
          "output_type": "stream",
          "name": "stdout",
          "text": [
            "Downloaded: gifs_temp/gif_4465.gif\n",
            "Deleted: gifs_temp/gif_4465.gif\n"
          ]
        },
        {
          "output_type": "stream",
          "name": "stderr",
          "text": [
            "\rProcessing GIFs:  16%|█▌        | 159/1000 [01:20<06:03,  2.31it/s]"
          ]
        },
        {
          "output_type": "stream",
          "name": "stdout",
          "text": [
            "Downloaded: gifs_temp/gif_109722.gif\n",
            "Deleted: gifs_temp/gif_109722.gif\n"
          ]
        },
        {
          "output_type": "stream",
          "name": "stderr",
          "text": [
            "\rProcessing GIFs:  16%|█▌        | 160/1000 [01:21<06:03,  2.31it/s]"
          ]
        },
        {
          "output_type": "stream",
          "name": "stdout",
          "text": [
            "Downloaded: gifs_temp/gif_81328.gif\n",
            "Deleted: gifs_temp/gif_81328.gif\n"
          ]
        },
        {
          "output_type": "stream",
          "name": "stderr",
          "text": [
            "\rProcessing GIFs:  16%|█▌        | 161/1000 [01:22<08:14,  1.70it/s]"
          ]
        },
        {
          "output_type": "stream",
          "name": "stdout",
          "text": [
            "Downloaded: gifs_temp/gif_82146.gif\n",
            "Deleted: gifs_temp/gif_82146.gif\n"
          ]
        },
        {
          "output_type": "stream",
          "name": "stderr",
          "text": [
            "\rProcessing GIFs:  16%|█▌        | 162/1000 [01:22<07:21,  1.90it/s]"
          ]
        },
        {
          "output_type": "stream",
          "name": "stdout",
          "text": [
            "Downloaded: gifs_temp/gif_59988.gif\n",
            "Deleted: gifs_temp/gif_59988.gif\n"
          ]
        },
        {
          "output_type": "stream",
          "name": "stderr",
          "text": [
            "\rProcessing GIFs:  16%|█▋        | 163/1000 [01:22<06:27,  2.16it/s]"
          ]
        },
        {
          "output_type": "stream",
          "name": "stdout",
          "text": [
            "Downloaded: gifs_temp/gif_635.gif\n",
            "Deleted: gifs_temp/gif_635.gif\n"
          ]
        },
        {
          "output_type": "stream",
          "name": "stderr",
          "text": [
            "\rProcessing GIFs:  16%|█▋        | 164/1000 [01:23<06:13,  2.24it/s]"
          ]
        },
        {
          "output_type": "stream",
          "name": "stdout",
          "text": [
            "Downloaded: gifs_temp/gif_3917.gif\n",
            "Deleted: gifs_temp/gif_3917.gif\n"
          ]
        },
        {
          "output_type": "stream",
          "name": "stderr",
          "text": [
            "\rProcessing GIFs:  16%|█▋        | 165/1000 [01:23<05:54,  2.36it/s]"
          ]
        },
        {
          "output_type": "stream",
          "name": "stdout",
          "text": [
            "Downloaded: gifs_temp/gif_64500.gif\n",
            "Deleted: gifs_temp/gif_64500.gif\n"
          ]
        },
        {
          "output_type": "stream",
          "name": "stderr",
          "text": [
            "\rProcessing GIFs:  17%|█▋        | 166/1000 [01:24<05:41,  2.44it/s]"
          ]
        },
        {
          "output_type": "stream",
          "name": "stdout",
          "text": [
            "Downloaded: gifs_temp/gif_7870.gif\n",
            "Deleted: gifs_temp/gif_7870.gif\n",
            "Downloaded: gifs_temp/gif_15467.gif\n"
          ]
        },
        {
          "output_type": "stream",
          "name": "stderr",
          "text": [
            "\rProcessing GIFs:  17%|█▋        | 167/1000 [01:24<06:34,  2.11it/s]"
          ]
        },
        {
          "output_type": "stream",
          "name": "stdout",
          "text": [
            "Deleted: gifs_temp/gif_15467.gif\n"
          ]
        },
        {
          "output_type": "stream",
          "name": "stderr",
          "text": [
            "\rProcessing GIFs:  17%|█▋        | 168/1000 [01:25<07:06,  1.95it/s]"
          ]
        },
        {
          "output_type": "stream",
          "name": "stdout",
          "text": [
            "Downloaded: gifs_temp/gif_98416.gif\n",
            "Deleted: gifs_temp/gif_98416.gif\n"
          ]
        },
        {
          "output_type": "stream",
          "name": "stderr",
          "text": [
            "\rProcessing GIFs:  17%|█▋        | 169/1000 [01:25<06:44,  2.06it/s]"
          ]
        },
        {
          "output_type": "stream",
          "name": "stdout",
          "text": [
            "Downloaded: gifs_temp/gif_59573.gif\n",
            "Deleted: gifs_temp/gif_59573.gif\n"
          ]
        },
        {
          "output_type": "stream",
          "name": "stderr",
          "text": [
            "\rProcessing GIFs:  17%|█▋        | 170/1000 [01:26<06:16,  2.20it/s]"
          ]
        },
        {
          "output_type": "stream",
          "name": "stdout",
          "text": [
            "Downloaded: gifs_temp/gif_7467.gif\n",
            "Deleted: gifs_temp/gif_7467.gif\n"
          ]
        },
        {
          "output_type": "stream",
          "name": "stderr",
          "text": [
            "\rProcessing GIFs:  17%|█▋        | 171/1000 [01:26<05:39,  2.44it/s]"
          ]
        },
        {
          "output_type": "stream",
          "name": "stdout",
          "text": [
            "Downloaded: gifs_temp/gif_35586.gif\n",
            "Deleted: gifs_temp/gif_35586.gif\n"
          ]
        },
        {
          "output_type": "stream",
          "name": "stderr",
          "text": [
            "\rProcessing GIFs:  17%|█▋        | 172/1000 [01:26<05:45,  2.40it/s]"
          ]
        },
        {
          "output_type": "stream",
          "name": "stdout",
          "text": [
            "Downloaded: gifs_temp/gif_117170.gif\n",
            "Deleted: gifs_temp/gif_117170.gif\n"
          ]
        },
        {
          "output_type": "stream",
          "name": "stderr",
          "text": [
            "\rProcessing GIFs:  17%|█▋        | 173/1000 [01:27<05:35,  2.46it/s]"
          ]
        },
        {
          "output_type": "stream",
          "name": "stdout",
          "text": [
            "Downloaded: gifs_temp/gif_79478.gif\n",
            "Deleted: gifs_temp/gif_79478.gif\n"
          ]
        },
        {
          "output_type": "stream",
          "name": "stderr",
          "text": [
            "\rProcessing GIFs:  17%|█▋        | 174/1000 [01:27<05:43,  2.41it/s]"
          ]
        },
        {
          "output_type": "stream",
          "name": "stdout",
          "text": [
            "Downloaded: gifs_temp/gif_69581.gif\n",
            "Deleted: gifs_temp/gif_69581.gif\n"
          ]
        },
        {
          "output_type": "stream",
          "name": "stderr",
          "text": [
            "\rProcessing GIFs:  18%|█▊        | 175/1000 [01:28<06:02,  2.28it/s]"
          ]
        },
        {
          "output_type": "stream",
          "name": "stdout",
          "text": [
            "Downloaded: gifs_temp/gif_60052.gif\n",
            "Deleted: gifs_temp/gif_60052.gif\n"
          ]
        },
        {
          "output_type": "stream",
          "name": "stderr",
          "text": [
            "\rProcessing GIFs:  18%|█▊        | 176/1000 [01:28<05:41,  2.41it/s]"
          ]
        },
        {
          "output_type": "stream",
          "name": "stdout",
          "text": [
            "Downloaded: gifs_temp/gif_190.gif\n",
            "Deleted: gifs_temp/gif_190.gif\n"
          ]
        },
        {
          "output_type": "stream",
          "name": "stderr",
          "text": [
            "\rProcessing GIFs:  18%|█▊        | 177/1000 [01:28<05:31,  2.48it/s]"
          ]
        },
        {
          "output_type": "stream",
          "name": "stdout",
          "text": [
            "Downloaded: gifs_temp/gif_1458.gif\n",
            "Deleted: gifs_temp/gif_1458.gif\n"
          ]
        },
        {
          "output_type": "stream",
          "name": "stderr",
          "text": [
            "\rProcessing GIFs:  18%|█▊        | 178/1000 [01:29<05:33,  2.46it/s]"
          ]
        },
        {
          "output_type": "stream",
          "name": "stdout",
          "text": [
            "Downloaded: gifs_temp/gif_25644.gif\n",
            "Deleted: gifs_temp/gif_25644.gif\n"
          ]
        },
        {
          "output_type": "stream",
          "name": "stderr",
          "text": [
            "\rProcessing GIFs:  18%|█▊        | 179/1000 [01:29<05:54,  2.32it/s]"
          ]
        },
        {
          "output_type": "stream",
          "name": "stdout",
          "text": [
            "Downloaded: gifs_temp/gif_64014.gif\n",
            "Deleted: gifs_temp/gif_64014.gif\n"
          ]
        },
        {
          "output_type": "stream",
          "name": "stderr",
          "text": [
            "\rProcessing GIFs:  18%|█▊        | 180/1000 [01:30<05:58,  2.28it/s]"
          ]
        },
        {
          "output_type": "stream",
          "name": "stdout",
          "text": [
            "Downloaded: gifs_temp/gif_495.gif\n",
            "Deleted: gifs_temp/gif_495.gif\n"
          ]
        },
        {
          "output_type": "stream",
          "name": "stderr",
          "text": [
            "\rProcessing GIFs:  18%|█▊        | 181/1000 [01:30<06:22,  2.14it/s]"
          ]
        },
        {
          "output_type": "stream",
          "name": "stdout",
          "text": [
            "Downloaded: gifs_temp/gif_52329.gif\n",
            "Deleted: gifs_temp/gif_52329.gif\n"
          ]
        },
        {
          "output_type": "stream",
          "name": "stderr",
          "text": [
            "\rProcessing GIFs:  18%|█▊        | 182/1000 [01:31<06:09,  2.22it/s]"
          ]
        },
        {
          "output_type": "stream",
          "name": "stdout",
          "text": [
            "Downloaded: gifs_temp/gif_7732.gif\n",
            "Deleted: gifs_temp/gif_7732.gif\n"
          ]
        },
        {
          "output_type": "stream",
          "name": "stderr",
          "text": [
            "\rProcessing GIFs:  18%|█▊        | 183/1000 [01:31<06:02,  2.26it/s]"
          ]
        },
        {
          "output_type": "stream",
          "name": "stdout",
          "text": [
            "Downloaded: gifs_temp/gif_24749.gif\n",
            "Deleted: gifs_temp/gif_24749.gif\n"
          ]
        },
        {
          "output_type": "stream",
          "name": "stderr",
          "text": [
            "\rProcessing GIFs:  18%|█▊        | 184/1000 [01:32<07:27,  1.82it/s]"
          ]
        },
        {
          "output_type": "stream",
          "name": "stdout",
          "text": [
            "Downloaded: gifs_temp/gif_83904.gif\n",
            "Deleted: gifs_temp/gif_83904.gif\n"
          ]
        },
        {
          "output_type": "stream",
          "name": "stderr",
          "text": [
            "\rProcessing GIFs:  18%|█▊        | 185/1000 [01:32<06:55,  1.96it/s]"
          ]
        },
        {
          "output_type": "stream",
          "name": "stdout",
          "text": [
            "Downloaded: gifs_temp/gif_31032.gif\n",
            "Deleted: gifs_temp/gif_31032.gif\n"
          ]
        },
        {
          "output_type": "stream",
          "name": "stderr",
          "text": [
            "\rProcessing GIFs:  19%|█▊        | 186/1000 [01:33<06:46,  2.00it/s]"
          ]
        },
        {
          "output_type": "stream",
          "name": "stdout",
          "text": [
            "Downloaded: gifs_temp/gif_118320.gif\n",
            "Deleted: gifs_temp/gif_118320.gif\n"
          ]
        },
        {
          "output_type": "stream",
          "name": "stderr",
          "text": [
            "\rProcessing GIFs:  19%|█▊        | 187/1000 [01:33<06:27,  2.10it/s]"
          ]
        },
        {
          "output_type": "stream",
          "name": "stdout",
          "text": [
            "Downloaded: gifs_temp/gif_97173.gif\n",
            "Deleted: gifs_temp/gif_97173.gif\n"
          ]
        },
        {
          "output_type": "stream",
          "name": "stderr",
          "text": [
            "\rProcessing GIFs:  19%|█▉        | 188/1000 [01:34<06:19,  2.14it/s]"
          ]
        },
        {
          "output_type": "stream",
          "name": "stdout",
          "text": [
            "Downloaded: gifs_temp/gif_53337.gif\n",
            "Deleted: gifs_temp/gif_53337.gif\n"
          ]
        },
        {
          "output_type": "stream",
          "name": "stderr",
          "text": [
            "\rProcessing GIFs:  19%|█▉        | 189/1000 [01:34<05:57,  2.27it/s]"
          ]
        },
        {
          "output_type": "stream",
          "name": "stdout",
          "text": [
            "Downloaded: gifs_temp/gif_113738.gif\n",
            "Deleted: gifs_temp/gif_113738.gif\n"
          ]
        },
        {
          "output_type": "stream",
          "name": "stderr",
          "text": [
            "\rProcessing GIFs:  19%|█▉        | 190/1000 [01:34<05:48,  2.33it/s]"
          ]
        },
        {
          "output_type": "stream",
          "name": "stdout",
          "text": [
            "Downloaded: gifs_temp/gif_13588.gif\n",
            "Deleted: gifs_temp/gif_13588.gif\n"
          ]
        },
        {
          "output_type": "stream",
          "name": "stderr",
          "text": [
            "\rProcessing GIFs:  19%|█▉        | 191/1000 [01:35<05:28,  2.47it/s]"
          ]
        },
        {
          "output_type": "stream",
          "name": "stdout",
          "text": [
            "Downloaded: gifs_temp/gif_123844.gif\n",
            "Deleted: gifs_temp/gif_123844.gif\n"
          ]
        },
        {
          "output_type": "stream",
          "name": "stderr",
          "text": [
            "\rProcessing GIFs:  19%|█▉        | 192/1000 [01:35<05:22,  2.50it/s]"
          ]
        },
        {
          "output_type": "stream",
          "name": "stdout",
          "text": [
            "Downloaded: gifs_temp/gif_10895.gif\n",
            "Deleted: gifs_temp/gif_10895.gif\n"
          ]
        },
        {
          "output_type": "stream",
          "name": "stderr",
          "text": [
            "\rProcessing GIFs:  19%|█▉        | 193/1000 [01:36<05:26,  2.47it/s]"
          ]
        },
        {
          "output_type": "stream",
          "name": "stdout",
          "text": [
            "Downloaded: gifs_temp/gif_95973.gif\n",
            "Deleted: gifs_temp/gif_95973.gif\n"
          ]
        },
        {
          "output_type": "stream",
          "name": "stderr",
          "text": [
            "\rProcessing GIFs:  19%|█▉        | 194/1000 [01:36<06:15,  2.15it/s]"
          ]
        },
        {
          "output_type": "stream",
          "name": "stdout",
          "text": [
            "Downloaded: gifs_temp/gif_56696.gif\n",
            "Deleted: gifs_temp/gif_56696.gif\n"
          ]
        },
        {
          "output_type": "stream",
          "name": "stderr",
          "text": [
            "\rProcessing GIFs:  20%|█▉        | 195/1000 [01:37<05:53,  2.28it/s]"
          ]
        },
        {
          "output_type": "stream",
          "name": "stdout",
          "text": [
            "Downloaded: gifs_temp/gif_63479.gif\n",
            "Deleted: gifs_temp/gif_63479.gif\n"
          ]
        },
        {
          "output_type": "stream",
          "name": "stderr",
          "text": [
            "\rProcessing GIFs:  20%|█▉        | 196/1000 [01:37<07:37,  1.76it/s]"
          ]
        },
        {
          "output_type": "stream",
          "name": "stdout",
          "text": [
            "Downloaded: gifs_temp/gif_29697.gif\n",
            "Deleted: gifs_temp/gif_29697.gif\n"
          ]
        },
        {
          "output_type": "stream",
          "name": "stderr",
          "text": [
            "\rProcessing GIFs:  20%|█▉        | 197/1000 [01:38<06:54,  1.94it/s]"
          ]
        },
        {
          "output_type": "stream",
          "name": "stdout",
          "text": [
            "Downloaded: gifs_temp/gif_88368.gif\n",
            "Deleted: gifs_temp/gif_88368.gif\n"
          ]
        },
        {
          "output_type": "stream",
          "name": "stderr",
          "text": [
            "\rProcessing GIFs:  20%|█▉        | 198/1000 [01:38<06:04,  2.20it/s]"
          ]
        },
        {
          "output_type": "stream",
          "name": "stdout",
          "text": [
            "Downloaded: gifs_temp/gif_73511.gif\n",
            "Deleted: gifs_temp/gif_73511.gif\n"
          ]
        },
        {
          "output_type": "stream",
          "name": "stderr",
          "text": [
            "\rProcessing GIFs:  20%|█▉        | 199/1000 [01:39<07:07,  1.87it/s]"
          ]
        },
        {
          "output_type": "stream",
          "name": "stdout",
          "text": [
            "Downloaded: gifs_temp/gif_124490.gif\n",
            "Deleted: gifs_temp/gif_124490.gif\n"
          ]
        },
        {
          "output_type": "stream",
          "name": "stderr",
          "text": [
            "\rProcessing GIFs:  20%|██        | 200/1000 [01:39<06:29,  2.06it/s]"
          ]
        },
        {
          "output_type": "stream",
          "name": "stdout",
          "text": [
            "Downloaded: gifs_temp/gif_90596.gif\n",
            "Deleted: gifs_temp/gif_90596.gif\n"
          ]
        },
        {
          "output_type": "stream",
          "name": "stderr",
          "text": [
            "\rProcessing GIFs:  20%|██        | 201/1000 [01:40<05:46,  2.31it/s]"
          ]
        },
        {
          "output_type": "stream",
          "name": "stdout",
          "text": [
            "Downloaded: gifs_temp/gif_37090.gif\n",
            "Deleted: gifs_temp/gif_37090.gif\n"
          ]
        },
        {
          "output_type": "stream",
          "name": "stderr",
          "text": [
            "\rProcessing GIFs:  20%|██        | 202/1000 [01:40<05:34,  2.38it/s]"
          ]
        },
        {
          "output_type": "stream",
          "name": "stdout",
          "text": [
            "Downloaded: gifs_temp/gif_97993.gif\n",
            "Deleted: gifs_temp/gif_97993.gif\n"
          ]
        },
        {
          "output_type": "stream",
          "name": "stderr",
          "text": [
            "\rProcessing GIFs:  20%|██        | 203/1000 [01:40<05:25,  2.45it/s]"
          ]
        },
        {
          "output_type": "stream",
          "name": "stdout",
          "text": [
            "Downloaded: gifs_temp/gif_35650.gif\n",
            "Deleted: gifs_temp/gif_35650.gif\n"
          ]
        },
        {
          "output_type": "stream",
          "name": "stderr",
          "text": [
            "\rProcessing GIFs:  20%|██        | 204/1000 [01:41<06:23,  2.08it/s]"
          ]
        },
        {
          "output_type": "stream",
          "name": "stdout",
          "text": [
            "Downloaded: gifs_temp/gif_18177.gif\n",
            "Deleted: gifs_temp/gif_18177.gif\n"
          ]
        },
        {
          "output_type": "stream",
          "name": "stderr",
          "text": [
            "\rProcessing GIFs:  20%|██        | 205/1000 [01:41<06:15,  2.12it/s]"
          ]
        },
        {
          "output_type": "stream",
          "name": "stdout",
          "text": [
            "Downloaded: gifs_temp/gif_19810.gif\n",
            "Deleted: gifs_temp/gif_19810.gif\n"
          ]
        },
        {
          "output_type": "stream",
          "name": "stderr",
          "text": [
            "\rProcessing GIFs:  21%|██        | 206/1000 [01:42<06:10,  2.14it/s]"
          ]
        },
        {
          "output_type": "stream",
          "name": "stdout",
          "text": [
            "Downloaded: gifs_temp/gif_70162.gif\n",
            "Deleted: gifs_temp/gif_70162.gif\n",
            "Downloaded: gifs_temp/gif_18936.gif\n"
          ]
        },
        {
          "output_type": "stream",
          "name": "stderr",
          "text": [
            "\rProcessing GIFs:  21%|██        | 207/1000 [01:43<09:54,  1.33it/s]"
          ]
        },
        {
          "output_type": "stream",
          "name": "stdout",
          "text": [
            "Deleted: gifs_temp/gif_18936.gif\n"
          ]
        },
        {
          "output_type": "stream",
          "name": "stderr",
          "text": [
            "\rProcessing GIFs:  21%|██        | 208/1000 [01:44<08:54,  1.48it/s]"
          ]
        },
        {
          "output_type": "stream",
          "name": "stdout",
          "text": [
            "Downloaded: gifs_temp/gif_100868.gif\n",
            "Deleted: gifs_temp/gif_100868.gif\n"
          ]
        },
        {
          "output_type": "stream",
          "name": "stderr",
          "text": [
            "\rProcessing GIFs:  21%|██        | 209/1000 [01:44<08:26,  1.56it/s]"
          ]
        },
        {
          "output_type": "stream",
          "name": "stdout",
          "text": [
            "Downloaded: gifs_temp/gif_69312.gif\n",
            "Deleted: gifs_temp/gif_69312.gif\n"
          ]
        },
        {
          "output_type": "stream",
          "name": "stderr",
          "text": [
            "\rProcessing GIFs:  21%|██        | 210/1000 [01:45<07:34,  1.74it/s]"
          ]
        },
        {
          "output_type": "stream",
          "name": "stdout",
          "text": [
            "Downloaded: gifs_temp/gif_76066.gif\n",
            "Deleted: gifs_temp/gif_76066.gif\n",
            "Downloaded: gifs_temp/gif_112973.gif\n"
          ]
        },
        {
          "output_type": "stream",
          "name": "stderr",
          "text": [
            "\rProcessing GIFs:  21%|██        | 211/1000 [01:46<09:48,  1.34it/s]"
          ]
        },
        {
          "output_type": "stream",
          "name": "stdout",
          "text": [
            "Deleted: gifs_temp/gif_112973.gif\n"
          ]
        },
        {
          "output_type": "stream",
          "name": "stderr",
          "text": [
            "\rProcessing GIFs:  21%|██        | 212/1000 [01:46<08:52,  1.48it/s]"
          ]
        },
        {
          "output_type": "stream",
          "name": "stdout",
          "text": [
            "Downloaded: gifs_temp/gif_1707.gif\n",
            "Deleted: gifs_temp/gif_1707.gif\n"
          ]
        },
        {
          "output_type": "stream",
          "name": "stderr",
          "text": [
            "\rProcessing GIFs:  21%|██▏       | 213/1000 [01:47<07:26,  1.76it/s]"
          ]
        },
        {
          "output_type": "stream",
          "name": "stdout",
          "text": [
            "Downloaded: gifs_temp/gif_106628.gif\n",
            "Deleted: gifs_temp/gif_106628.gif\n"
          ]
        },
        {
          "output_type": "stream",
          "name": "stderr",
          "text": [
            "\rProcessing GIFs:  21%|██▏       | 214/1000 [01:48<08:45,  1.50it/s]"
          ]
        },
        {
          "output_type": "stream",
          "name": "stdout",
          "text": [
            "Downloaded: gifs_temp/gif_118057.gif\n",
            "Deleted: gifs_temp/gif_118057.gif\n"
          ]
        },
        {
          "output_type": "stream",
          "name": "stderr",
          "text": [
            "\rProcessing GIFs:  22%|██▏       | 215/1000 [01:48<07:40,  1.70it/s]"
          ]
        },
        {
          "output_type": "stream",
          "name": "stdout",
          "text": [
            "Downloaded: gifs_temp/gif_33967.gif\n",
            "Deleted: gifs_temp/gif_33967.gif\n"
          ]
        },
        {
          "output_type": "stream",
          "name": "stderr",
          "text": [
            "\rProcessing GIFs:  22%|██▏       | 216/1000 [01:48<06:47,  1.92it/s]"
          ]
        },
        {
          "output_type": "stream",
          "name": "stdout",
          "text": [
            "Downloaded: gifs_temp/gif_29507.gif\n",
            "Deleted: gifs_temp/gif_29507.gif\n"
          ]
        },
        {
          "output_type": "stream",
          "name": "stderr",
          "text": [
            "\rProcessing GIFs:  22%|██▏       | 217/1000 [01:49<06:30,  2.00it/s]"
          ]
        },
        {
          "output_type": "stream",
          "name": "stdout",
          "text": [
            "Downloaded: gifs_temp/gif_59878.gif\n",
            "Deleted: gifs_temp/gif_59878.gif\n"
          ]
        },
        {
          "output_type": "stream",
          "name": "stderr",
          "text": [
            "\rProcessing GIFs:  22%|██▏       | 218/1000 [01:50<08:19,  1.57it/s]"
          ]
        },
        {
          "output_type": "stream",
          "name": "stdout",
          "text": [
            "Downloaded: gifs_temp/gif_90215.gif\n",
            "Deleted: gifs_temp/gif_90215.gif\n"
          ]
        },
        {
          "output_type": "stream",
          "name": "stderr",
          "text": [
            "\rProcessing GIFs:  22%|██▏       | 219/1000 [01:50<07:00,  1.86it/s]"
          ]
        },
        {
          "output_type": "stream",
          "name": "stdout",
          "text": [
            "Downloaded: gifs_temp/gif_52854.gif\n",
            "Deleted: gifs_temp/gif_52854.gif\n"
          ]
        },
        {
          "output_type": "stream",
          "name": "stderr",
          "text": [
            "\rProcessing GIFs:  22%|██▏       | 220/1000 [01:51<06:57,  1.87it/s]"
          ]
        },
        {
          "output_type": "stream",
          "name": "stdout",
          "text": [
            "Downloaded: gifs_temp/gif_112770.gif\n",
            "Deleted: gifs_temp/gif_112770.gif\n"
          ]
        },
        {
          "output_type": "stream",
          "name": "stderr",
          "text": [
            "\rProcessing GIFs:  22%|██▏       | 221/1000 [01:51<06:13,  2.08it/s]"
          ]
        },
        {
          "output_type": "stream",
          "name": "stdout",
          "text": [
            "Downloaded: gifs_temp/gif_76574.gif\n",
            "Deleted: gifs_temp/gif_76574.gif\n"
          ]
        },
        {
          "output_type": "stream",
          "name": "stderr",
          "text": [
            "\rProcessing GIFs:  22%|██▏       | 222/1000 [01:51<06:01,  2.15it/s]"
          ]
        },
        {
          "output_type": "stream",
          "name": "stdout",
          "text": [
            "Downloaded: gifs_temp/gif_98359.gif\n",
            "Deleted: gifs_temp/gif_98359.gif\n"
          ]
        },
        {
          "output_type": "stream",
          "name": "stderr",
          "text": [
            "\rProcessing GIFs:  22%|██▏       | 223/1000 [01:52<05:45,  2.25it/s]"
          ]
        },
        {
          "output_type": "stream",
          "name": "stdout",
          "text": [
            "Downloaded: gifs_temp/gif_22056.gif\n",
            "Deleted: gifs_temp/gif_22056.gif\n"
          ]
        },
        {
          "output_type": "stream",
          "name": "stderr",
          "text": [
            "\rProcessing GIFs:  22%|██▏       | 224/1000 [01:52<05:34,  2.32it/s]"
          ]
        },
        {
          "output_type": "stream",
          "name": "stdout",
          "text": [
            "Downloaded: gifs_temp/gif_108007.gif\n",
            "Deleted: gifs_temp/gif_108007.gif\n"
          ]
        },
        {
          "output_type": "stream",
          "name": "stderr",
          "text": [
            "\rProcessing GIFs:  22%|██▎       | 225/1000 [01:53<05:22,  2.40it/s]"
          ]
        },
        {
          "output_type": "stream",
          "name": "stdout",
          "text": [
            "Downloaded: gifs_temp/gif_38222.gif\n",
            "Deleted: gifs_temp/gif_38222.gif\n"
          ]
        },
        {
          "output_type": "stream",
          "name": "stderr",
          "text": [
            "\rProcessing GIFs:  23%|██▎       | 226/1000 [01:53<05:21,  2.41it/s]"
          ]
        },
        {
          "output_type": "stream",
          "name": "stdout",
          "text": [
            "Downloaded: gifs_temp/gif_117898.gif\n",
            "Deleted: gifs_temp/gif_117898.gif\n"
          ]
        },
        {
          "output_type": "stream",
          "name": "stderr",
          "text": [
            "\rProcessing GIFs:  23%|██▎       | 227/1000 [01:53<05:19,  2.42it/s]"
          ]
        },
        {
          "output_type": "stream",
          "name": "stdout",
          "text": [
            "Downloaded: gifs_temp/gif_50358.gif\n",
            "Deleted: gifs_temp/gif_50358.gif\n"
          ]
        },
        {
          "output_type": "stream",
          "name": "stderr",
          "text": [
            "\rProcessing GIFs:  23%|██▎       | 228/1000 [01:54<05:11,  2.48it/s]"
          ]
        },
        {
          "output_type": "stream",
          "name": "stdout",
          "text": [
            "Downloaded: gifs_temp/gif_94883.gif\n",
            "Deleted: gifs_temp/gif_94883.gif\n"
          ]
        },
        {
          "output_type": "stream",
          "name": "stderr",
          "text": [
            "\rProcessing GIFs:  23%|██▎       | 229/1000 [01:54<04:52,  2.63it/s]"
          ]
        },
        {
          "output_type": "stream",
          "name": "stdout",
          "text": [
            "Downloaded: gifs_temp/gif_78751.gif\n",
            "Deleted: gifs_temp/gif_78751.gif\n"
          ]
        },
        {
          "output_type": "stream",
          "name": "stderr",
          "text": [
            "\rProcessing GIFs:  23%|██▎       | 230/1000 [01:55<04:48,  2.67it/s]"
          ]
        },
        {
          "output_type": "stream",
          "name": "stdout",
          "text": [
            "Downloaded: gifs_temp/gif_29182.gif\n",
            "Deleted: gifs_temp/gif_29182.gif\n"
          ]
        },
        {
          "output_type": "stream",
          "name": "stderr",
          "text": [
            "\rProcessing GIFs:  23%|██▎       | 231/1000 [01:55<05:11,  2.47it/s]"
          ]
        },
        {
          "output_type": "stream",
          "name": "stdout",
          "text": [
            "Downloaded: gifs_temp/gif_54249.gif\n",
            "Deleted: gifs_temp/gif_54249.gif\n"
          ]
        },
        {
          "output_type": "stream",
          "name": "stderr",
          "text": [
            "\rProcessing GIFs:  23%|██▎       | 232/1000 [01:56<06:16,  2.04it/s]"
          ]
        },
        {
          "output_type": "stream",
          "name": "stdout",
          "text": [
            "Downloaded: gifs_temp/gif_20044.gif\n",
            "Deleted: gifs_temp/gif_20044.gif\n"
          ]
        },
        {
          "output_type": "stream",
          "name": "stderr",
          "text": [
            "\rProcessing GIFs:  23%|██▎       | 233/1000 [01:56<06:12,  2.06it/s]"
          ]
        },
        {
          "output_type": "stream",
          "name": "stdout",
          "text": [
            "Downloaded: gifs_temp/gif_15716.gif\n",
            "Deleted: gifs_temp/gif_15716.gif\n"
          ]
        },
        {
          "output_type": "stream",
          "name": "stderr",
          "text": [
            "\rProcessing GIFs:  23%|██▎       | 234/1000 [01:57<05:55,  2.16it/s]"
          ]
        },
        {
          "output_type": "stream",
          "name": "stdout",
          "text": [
            "Downloaded: gifs_temp/gif_36836.gif\n",
            "Deleted: gifs_temp/gif_36836.gif\n",
            "Downloaded: gifs_temp/gif_9484.gif\n"
          ]
        },
        {
          "output_type": "stream",
          "name": "stderr",
          "text": [
            "\rProcessing GIFs:  24%|██▎       | 235/1000 [01:57<06:36,  1.93it/s]"
          ]
        },
        {
          "output_type": "stream",
          "name": "stdout",
          "text": [
            "Deleted: gifs_temp/gif_9484.gif\n"
          ]
        },
        {
          "output_type": "stream",
          "name": "stderr",
          "text": [
            "\rProcessing GIFs:  24%|██▎       | 236/1000 [01:58<06:17,  2.02it/s]"
          ]
        },
        {
          "output_type": "stream",
          "name": "stdout",
          "text": [
            "Downloaded: gifs_temp/gif_77095.gif\n",
            "Deleted: gifs_temp/gif_77095.gif\n"
          ]
        },
        {
          "output_type": "stream",
          "name": "stderr",
          "text": [
            "\rProcessing GIFs:  24%|██▎       | 237/1000 [01:58<06:13,  2.05it/s]"
          ]
        },
        {
          "output_type": "stream",
          "name": "stdout",
          "text": [
            "Downloaded: gifs_temp/gif_40237.gif\n",
            "Deleted: gifs_temp/gif_40237.gif\n"
          ]
        },
        {
          "output_type": "stream",
          "name": "stderr",
          "text": [
            "\rProcessing GIFs:  24%|██▍       | 238/1000 [01:59<05:47,  2.20it/s]"
          ]
        },
        {
          "output_type": "stream",
          "name": "stdout",
          "text": [
            "Downloaded: gifs_temp/gif_112965.gif\n",
            "Deleted: gifs_temp/gif_112965.gif\n"
          ]
        },
        {
          "output_type": "stream",
          "name": "stderr",
          "text": [
            "\rProcessing GIFs:  24%|██▍       | 239/1000 [01:59<05:28,  2.32it/s]"
          ]
        },
        {
          "output_type": "stream",
          "name": "stdout",
          "text": [
            "Downloaded: gifs_temp/gif_85616.gif\n",
            "Deleted: gifs_temp/gif_85616.gif\n"
          ]
        },
        {
          "output_type": "stream",
          "name": "stderr",
          "text": [
            "\rProcessing GIFs:  24%|██▍       | 240/1000 [01:59<05:46,  2.19it/s]"
          ]
        },
        {
          "output_type": "stream",
          "name": "stdout",
          "text": [
            "Downloaded: gifs_temp/gif_29338.gif\n",
            "Deleted: gifs_temp/gif_29338.gif\n"
          ]
        },
        {
          "output_type": "stream",
          "name": "stderr",
          "text": [
            "\rProcessing GIFs:  24%|██▍       | 241/1000 [02:00<07:10,  1.76it/s]"
          ]
        },
        {
          "output_type": "stream",
          "name": "stdout",
          "text": [
            "Downloaded: gifs_temp/gif_72117.gif\n",
            "Deleted: gifs_temp/gif_72117.gif\n"
          ]
        },
        {
          "output_type": "stream",
          "name": "stderr",
          "text": [
            "\rProcessing GIFs:  24%|██▍       | 242/1000 [02:01<06:31,  1.94it/s]"
          ]
        },
        {
          "output_type": "stream",
          "name": "stdout",
          "text": [
            "Downloaded: gifs_temp/gif_8357.gif\n",
            "Deleted: gifs_temp/gif_8357.gif\n"
          ]
        },
        {
          "output_type": "stream",
          "name": "stderr",
          "text": [
            "\rProcessing GIFs:  24%|██▍       | 243/1000 [02:01<06:12,  2.03it/s]"
          ]
        },
        {
          "output_type": "stream",
          "name": "stdout",
          "text": [
            "Downloaded: gifs_temp/gif_76041.gif\n",
            "Deleted: gifs_temp/gif_76041.gif\n"
          ]
        },
        {
          "output_type": "stream",
          "name": "stderr",
          "text": [
            "\rProcessing GIFs:  24%|██▍       | 244/1000 [02:01<05:54,  2.13it/s]"
          ]
        },
        {
          "output_type": "stream",
          "name": "stdout",
          "text": [
            "Downloaded: gifs_temp/gif_84668.gif\n",
            "Deleted: gifs_temp/gif_84668.gif\n"
          ]
        },
        {
          "output_type": "stream",
          "name": "stderr",
          "text": [
            "\rProcessing GIFs:  24%|██▍       | 245/1000 [02:02<05:25,  2.32it/s]"
          ]
        },
        {
          "output_type": "stream",
          "name": "stdout",
          "text": [
            "Downloaded: gifs_temp/gif_92602.gif\n",
            "Deleted: gifs_temp/gif_92602.gif\n"
          ]
        },
        {
          "output_type": "stream",
          "name": "stderr",
          "text": [
            "\rProcessing GIFs:  25%|██▍       | 246/1000 [02:02<04:56,  2.55it/s]"
          ]
        },
        {
          "output_type": "stream",
          "name": "stdout",
          "text": [
            "Downloaded: gifs_temp/gif_95988.gif\n",
            "Deleted: gifs_temp/gif_95988.gif\n"
          ]
        },
        {
          "output_type": "stream",
          "name": "stderr",
          "text": [
            "\rProcessing GIFs:  25%|██▍       | 247/1000 [02:02<04:42,  2.66it/s]"
          ]
        },
        {
          "output_type": "stream",
          "name": "stdout",
          "text": [
            "Downloaded: gifs_temp/gif_13772.gif\n",
            "Deleted: gifs_temp/gif_13772.gif\n"
          ]
        },
        {
          "output_type": "stream",
          "name": "stderr",
          "text": [
            "\rProcessing GIFs:  25%|██▍       | 248/1000 [02:03<04:41,  2.67it/s]"
          ]
        },
        {
          "output_type": "stream",
          "name": "stdout",
          "text": [
            "Downloaded: gifs_temp/gif_74307.gif\n",
            "Deleted: gifs_temp/gif_74307.gif\n"
          ]
        },
        {
          "output_type": "stream",
          "name": "stderr",
          "text": [
            "\rProcessing GIFs:  25%|██▍       | 249/1000 [02:03<04:50,  2.58it/s]"
          ]
        },
        {
          "output_type": "stream",
          "name": "stdout",
          "text": [
            "Downloaded: gifs_temp/gif_30796.gif\n",
            "Deleted: gifs_temp/gif_30796.gif\n"
          ]
        },
        {
          "output_type": "stream",
          "name": "stderr",
          "text": [
            "\rProcessing GIFs:  25%|██▌       | 250/1000 [02:04<05:09,  2.42it/s]"
          ]
        },
        {
          "output_type": "stream",
          "name": "stdout",
          "text": [
            "Downloaded: gifs_temp/gif_36495.gif\n",
            "Deleted: gifs_temp/gif_36495.gif\n"
          ]
        },
        {
          "output_type": "stream",
          "name": "stderr",
          "text": [
            "\rProcessing GIFs:  25%|██▌       | 251/1000 [02:04<05:09,  2.42it/s]"
          ]
        },
        {
          "output_type": "stream",
          "name": "stdout",
          "text": [
            "Downloaded: gifs_temp/gif_72649.gif\n",
            "Deleted: gifs_temp/gif_72649.gif\n"
          ]
        },
        {
          "output_type": "stream",
          "name": "stderr",
          "text": [
            "\rProcessing GIFs:  25%|██▌       | 252/1000 [02:05<05:09,  2.42it/s]"
          ]
        },
        {
          "output_type": "stream",
          "name": "stdout",
          "text": [
            "Downloaded: gifs_temp/gif_21094.gif\n",
            "Deleted: gifs_temp/gif_21094.gif\n"
          ]
        },
        {
          "output_type": "stream",
          "name": "stderr",
          "text": [
            "\rProcessing GIFs:  25%|██▌       | 253/1000 [02:05<05:02,  2.47it/s]"
          ]
        },
        {
          "output_type": "stream",
          "name": "stdout",
          "text": [
            "Downloaded: gifs_temp/gif_10289.gif\n",
            "Deleted: gifs_temp/gif_10289.gif\n"
          ]
        },
        {
          "output_type": "stream",
          "name": "stderr",
          "text": [
            "\rProcessing GIFs:  25%|██▌       | 254/1000 [02:05<04:55,  2.52it/s]"
          ]
        },
        {
          "output_type": "stream",
          "name": "stdout",
          "text": [
            "Downloaded: gifs_temp/gif_109071.gif\n",
            "Deleted: gifs_temp/gif_109071.gif\n"
          ]
        },
        {
          "output_type": "stream",
          "name": "stderr",
          "text": [
            "\rProcessing GIFs:  26%|██▌       | 255/1000 [02:06<04:42,  2.64it/s]"
          ]
        },
        {
          "output_type": "stream",
          "name": "stdout",
          "text": [
            "Downloaded: gifs_temp/gif_41344.gif\n",
            "Deleted: gifs_temp/gif_41344.gif\n"
          ]
        },
        {
          "output_type": "stream",
          "name": "stderr",
          "text": [
            "\rProcessing GIFs:  26%|██▌       | 256/1000 [02:06<04:29,  2.76it/s]"
          ]
        },
        {
          "output_type": "stream",
          "name": "stdout",
          "text": [
            "Downloaded: gifs_temp/gif_6116.gif\n",
            "Deleted: gifs_temp/gif_6116.gif\n"
          ]
        },
        {
          "output_type": "stream",
          "name": "stderr",
          "text": [
            "\rProcessing GIFs:  26%|██▌       | 257/1000 [02:06<04:30,  2.74it/s]"
          ]
        },
        {
          "output_type": "stream",
          "name": "stdout",
          "text": [
            "Downloaded: gifs_temp/gif_369.gif\n",
            "Deleted: gifs_temp/gif_369.gif\n"
          ]
        },
        {
          "output_type": "stream",
          "name": "stderr",
          "text": [
            "\rProcessing GIFs:  26%|██▌       | 258/1000 [02:07<04:39,  2.66it/s]"
          ]
        },
        {
          "output_type": "stream",
          "name": "stdout",
          "text": [
            "Downloaded: gifs_temp/gif_7815.gif\n",
            "Deleted: gifs_temp/gif_7815.gif\n"
          ]
        },
        {
          "output_type": "stream",
          "name": "stderr",
          "text": [
            "\rProcessing GIFs:  26%|██▌       | 259/1000 [02:07<04:56,  2.50it/s]"
          ]
        },
        {
          "output_type": "stream",
          "name": "stdout",
          "text": [
            "Downloaded: gifs_temp/gif_93948.gif\n",
            "Deleted: gifs_temp/gif_93948.gif\n"
          ]
        },
        {
          "output_type": "stream",
          "name": "stderr",
          "text": [
            "\rProcessing GIFs:  26%|██▌       | 260/1000 [02:08<05:30,  2.24it/s]"
          ]
        },
        {
          "output_type": "stream",
          "name": "stdout",
          "text": [
            "Downloaded: gifs_temp/gif_71878.gif\n",
            "Deleted: gifs_temp/gif_71878.gif\n"
          ]
        },
        {
          "output_type": "stream",
          "name": "stderr",
          "text": [
            "\rProcessing GIFs:  26%|██▌       | 261/1000 [02:08<05:51,  2.10it/s]"
          ]
        },
        {
          "output_type": "stream",
          "name": "stdout",
          "text": [
            "Downloaded: gifs_temp/gif_109668.gif\n",
            "Deleted: gifs_temp/gif_109668.gif\n"
          ]
        },
        {
          "output_type": "stream",
          "name": "stderr",
          "text": [
            "\rProcessing GIFs:  26%|██▌       | 262/1000 [02:09<05:25,  2.27it/s]"
          ]
        },
        {
          "output_type": "stream",
          "name": "stdout",
          "text": [
            "Downloaded: gifs_temp/gif_21398.gif\n",
            "Deleted: gifs_temp/gif_21398.gif\n"
          ]
        },
        {
          "output_type": "stream",
          "name": "stderr",
          "text": [
            "\rProcessing GIFs:  26%|██▋       | 263/1000 [02:09<05:32,  2.22it/s]"
          ]
        },
        {
          "output_type": "stream",
          "name": "stdout",
          "text": [
            "Downloaded: gifs_temp/gif_43688.gif\n",
            "Deleted: gifs_temp/gif_43688.gif\n"
          ]
        },
        {
          "output_type": "stream",
          "name": "stderr",
          "text": [
            "\rProcessing GIFs:  26%|██▋       | 264/1000 [02:10<05:22,  2.28it/s]"
          ]
        },
        {
          "output_type": "stream",
          "name": "stdout",
          "text": [
            "Downloaded: gifs_temp/gif_104905.gif\n",
            "Deleted: gifs_temp/gif_104905.gif\n",
            "Downloaded: gifs_temp/gif_40799.gif\n"
          ]
        },
        {
          "output_type": "stream",
          "name": "stderr",
          "text": [
            "\rProcessing GIFs:  26%|██▋       | 265/1000 [02:10<06:19,  1.94it/s]"
          ]
        },
        {
          "output_type": "stream",
          "name": "stdout",
          "text": [
            "Deleted: gifs_temp/gif_40799.gif\n"
          ]
        },
        {
          "output_type": "stream",
          "name": "stderr",
          "text": [
            "\rProcessing GIFs:  27%|██▋       | 266/1000 [02:11<05:58,  2.05it/s]"
          ]
        },
        {
          "output_type": "stream",
          "name": "stdout",
          "text": [
            "Downloaded: gifs_temp/gif_38451.gif\n",
            "Deleted: gifs_temp/gif_38451.gif\n"
          ]
        },
        {
          "output_type": "stream",
          "name": "stderr",
          "text": [
            "\rProcessing GIFs:  27%|██▋       | 267/1000 [02:11<05:38,  2.17it/s]"
          ]
        },
        {
          "output_type": "stream",
          "name": "stdout",
          "text": [
            "Downloaded: gifs_temp/gif_13001.gif\n",
            "Deleted: gifs_temp/gif_13001.gif\n"
          ]
        },
        {
          "output_type": "stream",
          "name": "stderr",
          "text": [
            "\rProcessing GIFs:  27%|██▋       | 268/1000 [02:11<05:23,  2.26it/s]"
          ]
        },
        {
          "output_type": "stream",
          "name": "stdout",
          "text": [
            "Downloaded: gifs_temp/gif_76265.gif\n",
            "Deleted: gifs_temp/gif_76265.gif\n"
          ]
        },
        {
          "output_type": "stream",
          "name": "stderr",
          "text": [
            "\rProcessing GIFs:  27%|██▋       | 269/1000 [02:12<05:04,  2.40it/s]"
          ]
        },
        {
          "output_type": "stream",
          "name": "stdout",
          "text": [
            "Downloaded: gifs_temp/gif_113477.gif\n",
            "Deleted: gifs_temp/gif_113477.gif\n"
          ]
        },
        {
          "output_type": "stream",
          "name": "stderr",
          "text": [
            "\rProcessing GIFs:  27%|██▋       | 270/1000 [02:12<05:40,  2.14it/s]"
          ]
        },
        {
          "output_type": "stream",
          "name": "stdout",
          "text": [
            "Downloaded: gifs_temp/gif_122737.gif\n",
            "Deleted: gifs_temp/gif_122737.gif\n"
          ]
        },
        {
          "output_type": "stream",
          "name": "stderr",
          "text": [
            "\rProcessing GIFs:  27%|██▋       | 271/1000 [02:13<05:37,  2.16it/s]"
          ]
        },
        {
          "output_type": "stream",
          "name": "stdout",
          "text": [
            "Downloaded: gifs_temp/gif_93519.gif\n",
            "Deleted: gifs_temp/gif_93519.gif\n"
          ]
        },
        {
          "output_type": "stream",
          "name": "stderr",
          "text": [
            "\rProcessing GIFs:  27%|██▋       | 272/1000 [02:13<05:29,  2.21it/s]"
          ]
        },
        {
          "output_type": "stream",
          "name": "stdout",
          "text": [
            "Downloaded: gifs_temp/gif_74253.gif\n",
            "Deleted: gifs_temp/gif_74253.gif\n"
          ]
        },
        {
          "output_type": "stream",
          "name": "stderr",
          "text": [
            "\rProcessing GIFs:  27%|██▋       | 273/1000 [02:14<05:39,  2.14it/s]"
          ]
        },
        {
          "output_type": "stream",
          "name": "stdout",
          "text": [
            "Downloaded: gifs_temp/gif_22755.gif\n",
            "Deleted: gifs_temp/gif_22755.gif\n"
          ]
        },
        {
          "output_type": "stream",
          "name": "stderr",
          "text": [
            "\rProcessing GIFs:  27%|██▋       | 274/1000 [02:14<05:23,  2.25it/s]"
          ]
        },
        {
          "output_type": "stream",
          "name": "stdout",
          "text": [
            "Downloaded: gifs_temp/gif_101623.gif\n",
            "Deleted: gifs_temp/gif_101623.gif\n"
          ]
        },
        {
          "output_type": "stream",
          "name": "stderr",
          "text": [
            "\rProcessing GIFs:  28%|██▊       | 275/1000 [02:14<04:46,  2.53it/s]"
          ]
        },
        {
          "output_type": "stream",
          "name": "stdout",
          "text": [
            "Downloaded: gifs_temp/gif_2640.gif\n",
            "Deleted: gifs_temp/gif_2640.gif\n"
          ]
        },
        {
          "output_type": "stream",
          "name": "stderr",
          "text": [
            "\rProcessing GIFs:  28%|██▊       | 276/1000 [02:15<05:27,  2.21it/s]"
          ]
        },
        {
          "output_type": "stream",
          "name": "stdout",
          "text": [
            "Downloaded: gifs_temp/gif_109311.gif\n",
            "Deleted: gifs_temp/gif_109311.gif\n"
          ]
        },
        {
          "output_type": "stream",
          "name": "stderr",
          "text": [
            "\rProcessing GIFs:  28%|██▊       | 277/1000 [02:16<05:24,  2.23it/s]"
          ]
        },
        {
          "output_type": "stream",
          "name": "stdout",
          "text": [
            "Downloaded: gifs_temp/gif_100193.gif\n",
            "Deleted: gifs_temp/gif_100193.gif\n"
          ]
        },
        {
          "output_type": "stream",
          "name": "stderr",
          "text": [
            "\rProcessing GIFs:  28%|██▊       | 278/1000 [02:16<05:12,  2.31it/s]"
          ]
        },
        {
          "output_type": "stream",
          "name": "stdout",
          "text": [
            "Downloaded: gifs_temp/gif_15243.gif\n",
            "Deleted: gifs_temp/gif_15243.gif\n"
          ]
        },
        {
          "output_type": "stream",
          "name": "stderr",
          "text": [
            "\rProcessing GIFs:  28%|██▊       | 279/1000 [02:16<05:22,  2.24it/s]"
          ]
        },
        {
          "output_type": "stream",
          "name": "stdout",
          "text": [
            "Downloaded: gifs_temp/gif_12843.gif\n",
            "Deleted: gifs_temp/gif_12843.gif\n"
          ]
        },
        {
          "output_type": "stream",
          "name": "stderr",
          "text": [
            "\rProcessing GIFs:  28%|██▊       | 280/1000 [02:17<05:05,  2.36it/s]"
          ]
        },
        {
          "output_type": "stream",
          "name": "stdout",
          "text": [
            "Downloaded: gifs_temp/gif_79556.gif\n",
            "Deleted: gifs_temp/gif_79556.gif\n"
          ]
        },
        {
          "output_type": "stream",
          "name": "stderr",
          "text": [
            "\rProcessing GIFs:  28%|██▊       | 281/1000 [02:17<05:21,  2.24it/s]"
          ]
        },
        {
          "output_type": "stream",
          "name": "stdout",
          "text": [
            "Downloaded: gifs_temp/gif_28738.gif\n",
            "Deleted: gifs_temp/gif_28738.gif\n"
          ]
        },
        {
          "output_type": "stream",
          "name": "stderr",
          "text": [
            "\rProcessing GIFs:  28%|██▊       | 282/1000 [02:18<04:57,  2.41it/s]"
          ]
        },
        {
          "output_type": "stream",
          "name": "stdout",
          "text": [
            "Downloaded: gifs_temp/gif_113901.gif\n",
            "Deleted: gifs_temp/gif_113901.gif\n"
          ]
        },
        {
          "output_type": "stream",
          "name": "stderr",
          "text": [
            "\rProcessing GIFs:  28%|██▊       | 283/1000 [02:18<04:53,  2.44it/s]"
          ]
        },
        {
          "output_type": "stream",
          "name": "stdout",
          "text": [
            "Downloaded: gifs_temp/gif_45148.gif\n",
            "Deleted: gifs_temp/gif_45148.gif\n"
          ]
        },
        {
          "output_type": "stream",
          "name": "stderr",
          "text": [
            "\rProcessing GIFs:  28%|██▊       | 284/1000 [02:18<04:46,  2.50it/s]"
          ]
        },
        {
          "output_type": "stream",
          "name": "stdout",
          "text": [
            "Downloaded: gifs_temp/gif_43328.gif\n",
            "Deleted: gifs_temp/gif_43328.gif\n"
          ]
        },
        {
          "output_type": "stream",
          "name": "stderr",
          "text": [
            "\rProcessing GIFs:  28%|██▊       | 285/1000 [02:19<04:49,  2.47it/s]"
          ]
        },
        {
          "output_type": "stream",
          "name": "stdout",
          "text": [
            "Downloaded: gifs_temp/gif_49366.gif\n",
            "Deleted: gifs_temp/gif_49366.gif\n"
          ]
        },
        {
          "output_type": "stream",
          "name": "stderr",
          "text": [
            "\rProcessing GIFs:  29%|██▊       | 286/1000 [02:19<04:42,  2.53it/s]"
          ]
        },
        {
          "output_type": "stream",
          "name": "stdout",
          "text": [
            "Downloaded: gifs_temp/gif_92636.gif\n",
            "Deleted: gifs_temp/gif_92636.gif\n"
          ]
        },
        {
          "output_type": "stream",
          "name": "stderr",
          "text": [
            "\rProcessing GIFs:  29%|██▊       | 287/1000 [02:20<04:35,  2.59it/s]"
          ]
        },
        {
          "output_type": "stream",
          "name": "stdout",
          "text": [
            "Downloaded: gifs_temp/gif_20313.gif\n",
            "Deleted: gifs_temp/gif_20313.gif\n"
          ]
        },
        {
          "output_type": "stream",
          "name": "stderr",
          "text": [
            "\rProcessing GIFs:  29%|██▉       | 288/1000 [02:20<04:35,  2.58it/s]"
          ]
        },
        {
          "output_type": "stream",
          "name": "stdout",
          "text": [
            "Downloaded: gifs_temp/gif_122825.gif\n",
            "Deleted: gifs_temp/gif_122825.gif\n"
          ]
        },
        {
          "output_type": "stream",
          "name": "stderr",
          "text": [
            "\rProcessing GIFs:  29%|██▉       | 289/1000 [02:20<04:41,  2.53it/s]"
          ]
        },
        {
          "output_type": "stream",
          "name": "stdout",
          "text": [
            "Downloaded: gifs_temp/gif_93961.gif\n",
            "Deleted: gifs_temp/gif_93961.gif\n"
          ]
        },
        {
          "output_type": "stream",
          "name": "stderr",
          "text": [
            "\rProcessing GIFs:  29%|██▉       | 290/1000 [02:21<06:08,  1.93it/s]"
          ]
        },
        {
          "output_type": "stream",
          "name": "stdout",
          "text": [
            "Downloaded: gifs_temp/gif_117762.gif\n",
            "Deleted: gifs_temp/gif_117762.gif\n"
          ]
        },
        {
          "output_type": "stream",
          "name": "stderr",
          "text": [
            "\rProcessing GIFs:  29%|██▉       | 291/1000 [02:22<05:52,  2.01it/s]"
          ]
        },
        {
          "output_type": "stream",
          "name": "stdout",
          "text": [
            "Downloaded: gifs_temp/gif_108664.gif\n",
            "Deleted: gifs_temp/gif_108664.gif\n"
          ]
        },
        {
          "output_type": "stream",
          "name": "stderr",
          "text": [
            "\rProcessing GIFs:  29%|██▉       | 292/1000 [02:22<05:24,  2.18it/s]"
          ]
        },
        {
          "output_type": "stream",
          "name": "stdout",
          "text": [
            "Downloaded: gifs_temp/gif_105444.gif\n",
            "Deleted: gifs_temp/gif_105444.gif\n",
            "Downloaded: gifs_temp/gif_124941.gif\n"
          ]
        },
        {
          "output_type": "stream",
          "name": "stderr",
          "text": [
            "\rProcessing GIFs:  29%|██▉       | 293/1000 [02:23<06:38,  1.78it/s]"
          ]
        },
        {
          "output_type": "stream",
          "name": "stdout",
          "text": [
            "Deleted: gifs_temp/gif_124941.gif\n"
          ]
        },
        {
          "output_type": "stream",
          "name": "stderr",
          "text": [
            "\rProcessing GIFs:  29%|██▉       | 294/1000 [02:23<06:04,  1.94it/s]"
          ]
        },
        {
          "output_type": "stream",
          "name": "stdout",
          "text": [
            "Downloaded: gifs_temp/gif_62496.gif\n",
            "Deleted: gifs_temp/gif_62496.gif\n"
          ]
        },
        {
          "output_type": "stream",
          "name": "stderr",
          "text": [
            "\rProcessing GIFs:  30%|██▉       | 295/1000 [02:24<05:43,  2.05it/s]"
          ]
        },
        {
          "output_type": "stream",
          "name": "stdout",
          "text": [
            "Downloaded: gifs_temp/gif_124325.gif\n",
            "Deleted: gifs_temp/gif_124325.gif\n"
          ]
        },
        {
          "output_type": "stream",
          "name": "stderr",
          "text": [
            "\rProcessing GIFs:  30%|██▉       | 296/1000 [02:24<05:29,  2.14it/s]"
          ]
        },
        {
          "output_type": "stream",
          "name": "stdout",
          "text": [
            "Downloaded: gifs_temp/gif_21498.gif\n",
            "Deleted: gifs_temp/gif_21498.gif\n"
          ]
        },
        {
          "output_type": "stream",
          "name": "stderr",
          "text": [
            "\rProcessing GIFs:  30%|██▉       | 297/1000 [02:25<06:02,  1.94it/s]"
          ]
        },
        {
          "output_type": "stream",
          "name": "stdout",
          "text": [
            "Downloaded: gifs_temp/gif_42392.gif\n",
            "Deleted: gifs_temp/gif_42392.gif\n"
          ]
        },
        {
          "output_type": "stream",
          "name": "stderr",
          "text": [
            "\rProcessing GIFs:  30%|██▉       | 298/1000 [02:25<05:41,  2.06it/s]"
          ]
        },
        {
          "output_type": "stream",
          "name": "stdout",
          "text": [
            "Downloaded: gifs_temp/gif_61098.gif\n",
            "Deleted: gifs_temp/gif_61098.gif\n"
          ]
        },
        {
          "output_type": "stream",
          "name": "stderr",
          "text": [
            "\rProcessing GIFs:  30%|██▉       | 299/1000 [02:25<05:29,  2.13it/s]"
          ]
        },
        {
          "output_type": "stream",
          "name": "stdout",
          "text": [
            "Downloaded: gifs_temp/gif_23957.gif\n",
            "Deleted: gifs_temp/gif_23957.gif\n"
          ]
        },
        {
          "output_type": "stream",
          "name": "stderr",
          "text": [
            "\rProcessing GIFs:  30%|███       | 300/1000 [02:26<05:08,  2.27it/s]"
          ]
        },
        {
          "output_type": "stream",
          "name": "stdout",
          "text": [
            "Downloaded: gifs_temp/gif_28486.gif\n",
            "Deleted: gifs_temp/gif_28486.gif\n"
          ]
        },
        {
          "output_type": "stream",
          "name": "stderr",
          "text": [
            "\rProcessing GIFs:  30%|███       | 301/1000 [02:26<05:05,  2.29it/s]"
          ]
        },
        {
          "output_type": "stream",
          "name": "stdout",
          "text": [
            "Downloaded: gifs_temp/gif_108867.gif\n",
            "Deleted: gifs_temp/gif_108867.gif\n"
          ]
        },
        {
          "output_type": "stream",
          "name": "stderr",
          "text": [
            "\rProcessing GIFs:  30%|███       | 302/1000 [02:27<05:06,  2.28it/s]"
          ]
        },
        {
          "output_type": "stream",
          "name": "stdout",
          "text": [
            "Downloaded: gifs_temp/gif_39734.gif\n",
            "Deleted: gifs_temp/gif_39734.gif\n"
          ]
        },
        {
          "output_type": "stream",
          "name": "stderr",
          "text": [
            "\rProcessing GIFs:  30%|███       | 303/1000 [02:27<05:16,  2.20it/s]"
          ]
        },
        {
          "output_type": "stream",
          "name": "stdout",
          "text": [
            "Downloaded: gifs_temp/gif_82008.gif\n",
            "Deleted: gifs_temp/gif_82008.gif\n"
          ]
        },
        {
          "output_type": "stream",
          "name": "stderr",
          "text": [
            "\rProcessing GIFs:  30%|███       | 304/1000 [02:28<05:07,  2.26it/s]"
          ]
        },
        {
          "output_type": "stream",
          "name": "stdout",
          "text": [
            "Downloaded: gifs_temp/gif_55199.gif\n",
            "Deleted: gifs_temp/gif_55199.gif\n"
          ]
        },
        {
          "output_type": "stream",
          "name": "stderr",
          "text": [
            "\rProcessing GIFs:  30%|███       | 305/1000 [02:28<04:55,  2.35it/s]"
          ]
        },
        {
          "output_type": "stream",
          "name": "stdout",
          "text": [
            "Downloaded: gifs_temp/gif_75434.gif\n",
            "Deleted: gifs_temp/gif_75434.gif\n"
          ]
        },
        {
          "output_type": "stream",
          "name": "stderr",
          "text": [
            "\rProcessing GIFs:  31%|███       | 306/1000 [02:28<05:00,  2.31it/s]"
          ]
        },
        {
          "output_type": "stream",
          "name": "stdout",
          "text": [
            "Downloaded: gifs_temp/gif_50806.gif\n",
            "Deleted: gifs_temp/gif_50806.gif\n"
          ]
        },
        {
          "output_type": "stream",
          "name": "stderr",
          "text": [
            "\rProcessing GIFs:  31%|███       | 307/1000 [02:29<04:51,  2.38it/s]"
          ]
        },
        {
          "output_type": "stream",
          "name": "stdout",
          "text": [
            "Downloaded: gifs_temp/gif_47010.gif\n",
            "Deleted: gifs_temp/gif_47010.gif\n"
          ]
        },
        {
          "output_type": "stream",
          "name": "stderr",
          "text": [
            "\rProcessing GIFs:  31%|███       | 308/1000 [02:30<06:57,  1.66it/s]"
          ]
        },
        {
          "output_type": "stream",
          "name": "stdout",
          "text": [
            "Downloaded: gifs_temp/gif_55559.gif\n",
            "Deleted: gifs_temp/gif_55559.gif\n"
          ]
        },
        {
          "output_type": "stream",
          "name": "stderr",
          "text": [
            "\rProcessing GIFs:  31%|███       | 309/1000 [02:30<06:19,  1.82it/s]"
          ]
        },
        {
          "output_type": "stream",
          "name": "stdout",
          "text": [
            "Downloaded: gifs_temp/gif_112075.gif\n",
            "Deleted: gifs_temp/gif_112075.gif\n"
          ]
        },
        {
          "output_type": "stream",
          "name": "stderr",
          "text": [
            "\rProcessing GIFs:  31%|███       | 310/1000 [02:31<05:49,  1.98it/s]"
          ]
        },
        {
          "output_type": "stream",
          "name": "stdout",
          "text": [
            "Downloaded: gifs_temp/gif_102786.gif\n",
            "Deleted: gifs_temp/gif_102786.gif\n"
          ]
        },
        {
          "output_type": "stream",
          "name": "stderr",
          "text": [
            "\rProcessing GIFs:  31%|███       | 311/1000 [02:31<05:25,  2.12it/s]"
          ]
        },
        {
          "output_type": "stream",
          "name": "stdout",
          "text": [
            "Downloaded: gifs_temp/gif_35514.gif\n",
            "Deleted: gifs_temp/gif_35514.gif\n"
          ]
        },
        {
          "output_type": "stream",
          "name": "stderr",
          "text": [
            "\rProcessing GIFs:  31%|███       | 312/1000 [02:31<04:55,  2.33it/s]"
          ]
        },
        {
          "output_type": "stream",
          "name": "stdout",
          "text": [
            "Downloaded: gifs_temp/gif_67495.gif\n",
            "Deleted: gifs_temp/gif_67495.gif\n"
          ]
        },
        {
          "output_type": "stream",
          "name": "stderr",
          "text": [
            "\rProcessing GIFs:  31%|███▏      | 313/1000 [02:32<04:58,  2.30it/s]"
          ]
        },
        {
          "output_type": "stream",
          "name": "stdout",
          "text": [
            "Downloaded: gifs_temp/gif_70361.gif\n",
            "Deleted: gifs_temp/gif_70361.gif\n"
          ]
        },
        {
          "output_type": "stream",
          "name": "stderr",
          "text": [
            "\rProcessing GIFs:  31%|███▏      | 314/1000 [02:32<04:57,  2.30it/s]"
          ]
        },
        {
          "output_type": "stream",
          "name": "stdout",
          "text": [
            "Downloaded: gifs_temp/gif_111186.gif\n",
            "Deleted: gifs_temp/gif_111186.gif\n"
          ]
        },
        {
          "output_type": "stream",
          "name": "stderr",
          "text": [
            "\rProcessing GIFs:  32%|███▏      | 315/1000 [02:33<04:57,  2.30it/s]"
          ]
        },
        {
          "output_type": "stream",
          "name": "stdout",
          "text": [
            "Downloaded: gifs_temp/gif_123551.gif\n",
            "Deleted: gifs_temp/gif_123551.gif\n"
          ]
        },
        {
          "output_type": "stream",
          "name": "stderr",
          "text": [
            "\rProcessing GIFs:  32%|███▏      | 316/1000 [02:33<04:50,  2.35it/s]"
          ]
        },
        {
          "output_type": "stream",
          "name": "stdout",
          "text": [
            "Downloaded: gifs_temp/gif_110831.gif\n",
            "Deleted: gifs_temp/gif_110831.gif\n"
          ]
        },
        {
          "output_type": "stream",
          "name": "stderr",
          "text": [
            "\rProcessing GIFs:  32%|███▏      | 317/1000 [02:34<05:50,  1.95it/s]"
          ]
        },
        {
          "output_type": "stream",
          "name": "stdout",
          "text": [
            "Downloaded: gifs_temp/gif_60671.gif\n",
            "Deleted: gifs_temp/gif_60671.gif\n"
          ]
        },
        {
          "output_type": "stream",
          "name": "stderr",
          "text": [
            "\rProcessing GIFs:  32%|███▏      | 318/1000 [02:34<05:38,  2.02it/s]"
          ]
        },
        {
          "output_type": "stream",
          "name": "stdout",
          "text": [
            "Downloaded: gifs_temp/gif_83152.gif\n",
            "Deleted: gifs_temp/gif_83152.gif\n"
          ]
        },
        {
          "output_type": "stream",
          "name": "stderr",
          "text": [
            "\rProcessing GIFs:  32%|███▏      | 319/1000 [02:35<05:19,  2.13it/s]"
          ]
        },
        {
          "output_type": "stream",
          "name": "stdout",
          "text": [
            "Downloaded: gifs_temp/gif_39539.gif\n",
            "Deleted: gifs_temp/gif_39539.gif\n"
          ]
        },
        {
          "output_type": "stream",
          "name": "stderr",
          "text": [
            "\rProcessing GIFs:  32%|███▏      | 320/1000 [02:35<05:20,  2.12it/s]"
          ]
        },
        {
          "output_type": "stream",
          "name": "stdout",
          "text": [
            "Downloaded: gifs_temp/gif_41721.gif\n",
            "Deleted: gifs_temp/gif_41721.gif\n"
          ]
        },
        {
          "output_type": "stream",
          "name": "stderr",
          "text": [
            "\rProcessing GIFs:  32%|███▏      | 321/1000 [02:36<05:21,  2.11it/s]"
          ]
        },
        {
          "output_type": "stream",
          "name": "stdout",
          "text": [
            "Downloaded: gifs_temp/gif_88624.gif\n",
            "Deleted: gifs_temp/gif_88624.gif\n"
          ]
        },
        {
          "output_type": "stream",
          "name": "stderr",
          "text": [
            "\rProcessing GIFs:  32%|███▏      | 322/1000 [02:36<05:17,  2.13it/s]"
          ]
        },
        {
          "output_type": "stream",
          "name": "stdout",
          "text": [
            "Downloaded: gifs_temp/gif_122404.gif\n",
            "Deleted: gifs_temp/gif_122404.gif\n"
          ]
        },
        {
          "output_type": "stream",
          "name": "stderr",
          "text": [
            "\rProcessing GIFs:  32%|███▏      | 323/1000 [02:37<05:07,  2.20it/s]"
          ]
        },
        {
          "output_type": "stream",
          "name": "stdout",
          "text": [
            "Downloaded: gifs_temp/gif_51024.gif\n",
            "Deleted: gifs_temp/gif_51024.gif\n"
          ]
        },
        {
          "output_type": "stream",
          "name": "stderr",
          "text": [
            "\rProcessing GIFs:  32%|███▏      | 324/1000 [02:37<04:44,  2.38it/s]"
          ]
        },
        {
          "output_type": "stream",
          "name": "stdout",
          "text": [
            "Downloaded: gifs_temp/gif_16614.gif\n",
            "Deleted: gifs_temp/gif_16614.gif\n"
          ]
        },
        {
          "output_type": "stream",
          "name": "stderr",
          "text": [
            "\rProcessing GIFs:  32%|███▎      | 325/1000 [02:37<04:40,  2.41it/s]"
          ]
        },
        {
          "output_type": "stream",
          "name": "stdout",
          "text": [
            "Downloaded: gifs_temp/gif_93904.gif\n",
            "Deleted: gifs_temp/gif_93904.gif\n"
          ]
        },
        {
          "output_type": "stream",
          "name": "stderr",
          "text": [
            "\rProcessing GIFs:  33%|███▎      | 326/1000 [02:38<04:31,  2.48it/s]"
          ]
        },
        {
          "output_type": "stream",
          "name": "stdout",
          "text": [
            "Downloaded: gifs_temp/gif_67169.gif\n",
            "Deleted: gifs_temp/gif_67169.gif\n"
          ]
        },
        {
          "output_type": "stream",
          "name": "stderr",
          "text": [
            "\rProcessing GIFs:  33%|███▎      | 327/1000 [02:38<04:31,  2.48it/s]"
          ]
        },
        {
          "output_type": "stream",
          "name": "stdout",
          "text": [
            "Downloaded: gifs_temp/gif_85068.gif\n",
            "Deleted: gifs_temp/gif_85068.gif\n"
          ]
        },
        {
          "output_type": "stream",
          "name": "stderr",
          "text": [
            "\rProcessing GIFs:  33%|███▎      | 328/1000 [02:39<06:00,  1.87it/s]"
          ]
        },
        {
          "output_type": "stream",
          "name": "stdout",
          "text": [
            "Downloaded: gifs_temp/gif_45573.gif\n",
            "Deleted: gifs_temp/gif_45573.gif\n"
          ]
        },
        {
          "output_type": "stream",
          "name": "stderr",
          "text": [
            "\rProcessing GIFs:  33%|███▎      | 329/1000 [02:39<05:30,  2.03it/s]"
          ]
        },
        {
          "output_type": "stream",
          "name": "stdout",
          "text": [
            "Downloaded: gifs_temp/gif_35121.gif\n",
            "Deleted: gifs_temp/gif_35121.gif\n"
          ]
        },
        {
          "output_type": "stream",
          "name": "stderr",
          "text": [
            "\rProcessing GIFs:  33%|███▎      | 330/1000 [02:40<05:06,  2.19it/s]"
          ]
        },
        {
          "output_type": "stream",
          "name": "stdout",
          "text": [
            "Downloaded: gifs_temp/gif_21656.gif\n",
            "Deleted: gifs_temp/gif_21656.gif\n"
          ]
        },
        {
          "output_type": "stream",
          "name": "stderr",
          "text": [
            "\rProcessing GIFs:  33%|███▎      | 331/1000 [02:40<04:53,  2.28it/s]"
          ]
        },
        {
          "output_type": "stream",
          "name": "stdout",
          "text": [
            "Downloaded: gifs_temp/gif_20470.gif\n",
            "Deleted: gifs_temp/gif_20470.gif\n"
          ]
        },
        {
          "output_type": "stream",
          "name": "stderr",
          "text": [
            "\rProcessing GIFs:  33%|███▎      | 332/1000 [02:40<04:41,  2.37it/s]"
          ]
        },
        {
          "output_type": "stream",
          "name": "stdout",
          "text": [
            "Downloaded: gifs_temp/gif_90856.gif\n",
            "Deleted: gifs_temp/gif_90856.gif\n"
          ]
        },
        {
          "output_type": "stream",
          "name": "stderr",
          "text": [
            "\rProcessing GIFs:  33%|███▎      | 333/1000 [02:41<04:48,  2.31it/s]"
          ]
        },
        {
          "output_type": "stream",
          "name": "stdout",
          "text": [
            "Downloaded: gifs_temp/gif_80526.gif\n",
            "Deleted: gifs_temp/gif_80526.gif\n"
          ]
        },
        {
          "output_type": "stream",
          "name": "stderr",
          "text": [
            "\rProcessing GIFs:  33%|███▎      | 334/1000 [02:41<05:05,  2.18it/s]"
          ]
        },
        {
          "output_type": "stream",
          "name": "stdout",
          "text": [
            "Downloaded: gifs_temp/gif_47828.gif\n",
            "Deleted: gifs_temp/gif_47828.gif\n"
          ]
        },
        {
          "output_type": "stream",
          "name": "stderr",
          "text": [
            "\rProcessing GIFs:  34%|███▎      | 335/1000 [02:42<05:18,  2.09it/s]"
          ]
        },
        {
          "output_type": "stream",
          "name": "stdout",
          "text": [
            "Downloaded: gifs_temp/gif_116208.gif\n",
            "Deleted: gifs_temp/gif_116208.gif\n"
          ]
        },
        {
          "output_type": "stream",
          "name": "stderr",
          "text": [
            "\rProcessing GIFs:  34%|███▎      | 336/1000 [02:42<04:56,  2.24it/s]"
          ]
        },
        {
          "output_type": "stream",
          "name": "stdout",
          "text": [
            "Downloaded: gifs_temp/gif_75525.gif\n",
            "Deleted: gifs_temp/gif_75525.gif\n"
          ]
        },
        {
          "output_type": "stream",
          "name": "stderr",
          "text": [
            "\rProcessing GIFs:  34%|███▎      | 337/1000 [02:43<04:35,  2.41it/s]"
          ]
        },
        {
          "output_type": "stream",
          "name": "stdout",
          "text": [
            "Downloaded: gifs_temp/gif_23773.gif\n",
            "Deleted: gifs_temp/gif_23773.gif\n"
          ]
        },
        {
          "output_type": "stream",
          "name": "stderr",
          "text": [
            "\rProcessing GIFs:  34%|███▍      | 338/1000 [02:44<06:06,  1.81it/s]"
          ]
        },
        {
          "output_type": "stream",
          "name": "stdout",
          "text": [
            "Downloaded: gifs_temp/gif_124890.gif\n",
            "Deleted: gifs_temp/gif_124890.gif\n"
          ]
        },
        {
          "output_type": "stream",
          "name": "stderr",
          "text": [
            "\rProcessing GIFs:  34%|███▍      | 339/1000 [02:44<05:42,  1.93it/s]"
          ]
        },
        {
          "output_type": "stream",
          "name": "stdout",
          "text": [
            "Downloaded: gifs_temp/gif_72260.gif\n",
            "Deleted: gifs_temp/gif_72260.gif\n"
          ]
        },
        {
          "output_type": "stream",
          "name": "stderr",
          "text": [
            "\rProcessing GIFs:  34%|███▍      | 340/1000 [02:44<05:08,  2.14it/s]"
          ]
        },
        {
          "output_type": "stream",
          "name": "stdout",
          "text": [
            "Downloaded: gifs_temp/gif_49429.gif\n",
            "Deleted: gifs_temp/gif_49429.gif\n"
          ]
        },
        {
          "output_type": "stream",
          "name": "stderr",
          "text": [
            "\rProcessing GIFs:  34%|███▍      | 341/1000 [02:45<04:39,  2.36it/s]"
          ]
        },
        {
          "output_type": "stream",
          "name": "stdout",
          "text": [
            "Downloaded: gifs_temp/gif_92559.gif\n",
            "Deleted: gifs_temp/gif_92559.gif\n"
          ]
        },
        {
          "output_type": "stream",
          "name": "stderr",
          "text": [
            "\rProcessing GIFs:  34%|███▍      | 342/1000 [02:45<04:39,  2.35it/s]"
          ]
        },
        {
          "output_type": "stream",
          "name": "stdout",
          "text": [
            "Downloaded: gifs_temp/gif_82401.gif\n",
            "Deleted: gifs_temp/gif_82401.gif\n"
          ]
        },
        {
          "output_type": "stream",
          "name": "stderr",
          "text": [
            "\rProcessing GIFs:  34%|███▍      | 343/1000 [02:45<04:20,  2.52it/s]"
          ]
        },
        {
          "output_type": "stream",
          "name": "stdout",
          "text": [
            "Downloaded: gifs_temp/gif_19219.gif\n",
            "Deleted: gifs_temp/gif_19219.gif\n",
            "Downloaded: gifs_temp/gif_100402.gif\n"
          ]
        },
        {
          "output_type": "stream",
          "name": "stderr",
          "text": [
            "\rProcessing GIFs:  34%|███▍      | 344/1000 [02:46<05:06,  2.14it/s]"
          ]
        },
        {
          "output_type": "stream",
          "name": "stdout",
          "text": [
            "Deleted: gifs_temp/gif_100402.gif\n",
            "Downloaded: gifs_temp/gif_19527.gif\n"
          ]
        },
        {
          "output_type": "stream",
          "name": "stderr",
          "text": [
            "\rProcessing GIFs:  34%|███▍      | 345/1000 [02:47<06:04,  1.80it/s]"
          ]
        },
        {
          "output_type": "stream",
          "name": "stdout",
          "text": [
            "Deleted: gifs_temp/gif_19527.gif\n",
            "Downloaded: gifs_temp/gif_70247.gif\n"
          ]
        },
        {
          "output_type": "stream",
          "name": "stderr",
          "text": [
            "\rProcessing GIFs:  35%|███▍      | 346/1000 [02:48<06:42,  1.63it/s]"
          ]
        },
        {
          "output_type": "stream",
          "name": "stdout",
          "text": [
            "Deleted: gifs_temp/gif_70247.gif\n"
          ]
        },
        {
          "output_type": "stream",
          "name": "stderr",
          "text": [
            "\rProcessing GIFs:  35%|███▍      | 347/1000 [02:48<06:15,  1.74it/s]"
          ]
        },
        {
          "output_type": "stream",
          "name": "stdout",
          "text": [
            "Downloaded: gifs_temp/gif_108746.gif\n",
            "Deleted: gifs_temp/gif_108746.gif\n",
            "Downloaded: gifs_temp/gif_18720.gif\n"
          ]
        },
        {
          "output_type": "stream",
          "name": "stderr",
          "text": [
            "\rProcessing GIFs:  35%|███▍      | 348/1000 [02:49<08:05,  1.34it/s]"
          ]
        },
        {
          "output_type": "stream",
          "name": "stdout",
          "text": [
            "Deleted: gifs_temp/gif_18720.gif\n"
          ]
        },
        {
          "output_type": "stream",
          "name": "stderr",
          "text": [
            "\rProcessing GIFs:  35%|███▍      | 349/1000 [02:50<07:12,  1.50it/s]"
          ]
        },
        {
          "output_type": "stream",
          "name": "stdout",
          "text": [
            "Downloaded: gifs_temp/gif_24098.gif\n",
            "Deleted: gifs_temp/gif_24098.gif\n"
          ]
        },
        {
          "output_type": "stream",
          "name": "stderr",
          "text": [
            "\rProcessing GIFs:  35%|███▌      | 350/1000 [02:50<07:29,  1.45it/s]"
          ]
        },
        {
          "output_type": "stream",
          "name": "stdout",
          "text": [
            "Downloaded: gifs_temp/gif_57075.gif\n",
            "Deleted: gifs_temp/gif_57075.gif\n"
          ]
        },
        {
          "output_type": "stream",
          "name": "stderr",
          "text": [
            "\rProcessing GIFs:  35%|███▌      | 351/1000 [02:51<06:37,  1.63it/s]"
          ]
        },
        {
          "output_type": "stream",
          "name": "stdout",
          "text": [
            "Downloaded: gifs_temp/gif_123015.gif\n",
            "Deleted: gifs_temp/gif_123015.gif\n"
          ]
        },
        {
          "output_type": "stream",
          "name": "stderr",
          "text": [
            "\rProcessing GIFs:  35%|███▌      | 352/1000 [02:51<05:51,  1.84it/s]"
          ]
        },
        {
          "output_type": "stream",
          "name": "stdout",
          "text": [
            "Downloaded: gifs_temp/gif_121285.gif\n",
            "Deleted: gifs_temp/gif_121285.gif\n",
            "Downloaded: gifs_temp/gif_27991.gif\n"
          ]
        },
        {
          "output_type": "stream",
          "name": "stderr",
          "text": [
            "\rProcessing GIFs:  35%|███▌      | 353/1000 [02:52<05:56,  1.82it/s]"
          ]
        },
        {
          "output_type": "stream",
          "name": "stdout",
          "text": [
            "Deleted: gifs_temp/gif_27991.gif\n"
          ]
        },
        {
          "output_type": "stream",
          "name": "stderr",
          "text": [
            "\rProcessing GIFs:  35%|███▌      | 354/1000 [02:52<05:12,  2.07it/s]"
          ]
        },
        {
          "output_type": "stream",
          "name": "stdout",
          "text": [
            "Downloaded: gifs_temp/gif_28340.gif\n",
            "Deleted: gifs_temp/gif_28340.gif\n"
          ]
        },
        {
          "output_type": "stream",
          "name": "stderr",
          "text": [
            "\rProcessing GIFs:  36%|███▌      | 355/1000 [02:52<04:38,  2.32it/s]"
          ]
        },
        {
          "output_type": "stream",
          "name": "stdout",
          "text": [
            "Downloaded: gifs_temp/gif_79351.gif\n",
            "Deleted: gifs_temp/gif_79351.gif\n"
          ]
        },
        {
          "output_type": "stream",
          "name": "stderr",
          "text": [
            "\rProcessing GIFs:  36%|███▌      | 356/1000 [02:53<04:28,  2.40it/s]"
          ]
        },
        {
          "output_type": "stream",
          "name": "stdout",
          "text": [
            "Downloaded: gifs_temp/gif_112811.gif\n",
            "Deleted: gifs_temp/gif_112811.gif\n"
          ]
        },
        {
          "output_type": "stream",
          "name": "stderr",
          "text": [
            "\rProcessing GIFs:  36%|███▌      | 357/1000 [02:53<04:19,  2.48it/s]"
          ]
        },
        {
          "output_type": "stream",
          "name": "stdout",
          "text": [
            "Downloaded: gifs_temp/gif_3108.gif\n",
            "Deleted: gifs_temp/gif_3108.gif\n"
          ]
        },
        {
          "output_type": "stream",
          "name": "stderr",
          "text": [
            "\rProcessing GIFs:  36%|███▌      | 358/1000 [02:54<04:07,  2.60it/s]"
          ]
        },
        {
          "output_type": "stream",
          "name": "stdout",
          "text": [
            "Downloaded: gifs_temp/gif_117414.gif\n",
            "Deleted: gifs_temp/gif_117414.gif\n"
          ]
        },
        {
          "output_type": "stream",
          "name": "stderr",
          "text": [
            "\rProcessing GIFs:  36%|███▌      | 359/1000 [02:54<04:05,  2.61it/s]"
          ]
        },
        {
          "output_type": "stream",
          "name": "stdout",
          "text": [
            "Downloaded: gifs_temp/gif_4246.gif\n",
            "Deleted: gifs_temp/gif_4246.gif\n"
          ]
        },
        {
          "output_type": "stream",
          "name": "stderr",
          "text": [
            "\rProcessing GIFs:  36%|███▌      | 360/1000 [02:54<04:14,  2.52it/s]"
          ]
        },
        {
          "output_type": "stream",
          "name": "stdout",
          "text": [
            "Downloaded: gifs_temp/gif_110578.gif\n",
            "Deleted: gifs_temp/gif_110578.gif\n"
          ]
        },
        {
          "output_type": "stream",
          "name": "stderr",
          "text": [
            "\rProcessing GIFs:  36%|███▌      | 361/1000 [02:55<04:13,  2.52it/s]"
          ]
        },
        {
          "output_type": "stream",
          "name": "stdout",
          "text": [
            "Downloaded: gifs_temp/gif_58128.gif\n",
            "Deleted: gifs_temp/gif_58128.gif\n"
          ]
        },
        {
          "output_type": "stream",
          "name": "stderr",
          "text": [
            "\rProcessing GIFs:  36%|███▌      | 362/1000 [02:55<04:09,  2.56it/s]"
          ]
        },
        {
          "output_type": "stream",
          "name": "stdout",
          "text": [
            "Downloaded: gifs_temp/gif_42501.gif\n",
            "Deleted: gifs_temp/gif_42501.gif\n"
          ]
        },
        {
          "output_type": "stream",
          "name": "stderr",
          "text": [
            "\rProcessing GIFs:  36%|███▋      | 363/1000 [02:55<03:56,  2.69it/s]"
          ]
        },
        {
          "output_type": "stream",
          "name": "stdout",
          "text": [
            "Downloaded: gifs_temp/gif_72903.gif\n",
            "Deleted: gifs_temp/gif_72903.gif\n"
          ]
        },
        {
          "output_type": "stream",
          "name": "stderr",
          "text": [
            "\rProcessing GIFs:  36%|███▋      | 364/1000 [02:56<04:00,  2.64it/s]"
          ]
        },
        {
          "output_type": "stream",
          "name": "stdout",
          "text": [
            "Downloaded: gifs_temp/gif_80986.gif\n",
            "Deleted: gifs_temp/gif_80986.gif\n"
          ]
        },
        {
          "output_type": "stream",
          "name": "stderr",
          "text": [
            "\rProcessing GIFs:  36%|███▋      | 365/1000 [02:56<04:34,  2.32it/s]"
          ]
        },
        {
          "output_type": "stream",
          "name": "stdout",
          "text": [
            "Downloaded: gifs_temp/gif_37252.gif\n",
            "Deleted: gifs_temp/gif_37252.gif\n"
          ]
        },
        {
          "output_type": "stream",
          "name": "stderr",
          "text": [
            "\rProcessing GIFs:  37%|███▋      | 366/1000 [02:57<04:22,  2.42it/s]"
          ]
        },
        {
          "output_type": "stream",
          "name": "stdout",
          "text": [
            "Downloaded: gifs_temp/gif_119671.gif\n",
            "Deleted: gifs_temp/gif_119671.gif\n"
          ]
        },
        {
          "output_type": "stream",
          "name": "stderr",
          "text": [
            "\rProcessing GIFs:  37%|███▋      | 367/1000 [02:57<04:16,  2.46it/s]"
          ]
        },
        {
          "output_type": "stream",
          "name": "stdout",
          "text": [
            "Downloaded: gifs_temp/gif_61099.gif\n",
            "Deleted: gifs_temp/gif_61099.gif\n"
          ]
        },
        {
          "output_type": "stream",
          "name": "stderr",
          "text": [
            "\rProcessing GIFs:  37%|███▋      | 368/1000 [02:57<04:00,  2.63it/s]"
          ]
        },
        {
          "output_type": "stream",
          "name": "stdout",
          "text": [
            "Downloaded: gifs_temp/gif_44588.gif\n",
            "Deleted: gifs_temp/gif_44588.gif\n"
          ]
        },
        {
          "output_type": "stream",
          "name": "stderr",
          "text": [
            "\rProcessing GIFs:  37%|███▋      | 369/1000 [02:58<03:55,  2.67it/s]"
          ]
        },
        {
          "output_type": "stream",
          "name": "stdout",
          "text": [
            "Downloaded: gifs_temp/gif_32615.gif\n",
            "Deleted: gifs_temp/gif_32615.gif\n"
          ]
        },
        {
          "output_type": "stream",
          "name": "stderr",
          "text": [
            "\rProcessing GIFs:  37%|███▋      | 370/1000 [02:58<03:54,  2.69it/s]"
          ]
        },
        {
          "output_type": "stream",
          "name": "stdout",
          "text": [
            "Downloaded: gifs_temp/gif_123197.gif\n",
            "Deleted: gifs_temp/gif_123197.gif\n"
          ]
        },
        {
          "output_type": "stream",
          "name": "stderr",
          "text": [
            "\rProcessing GIFs:  37%|███▋      | 371/1000 [02:59<05:47,  1.81it/s]"
          ]
        },
        {
          "output_type": "stream",
          "name": "stdout",
          "text": [
            "Downloaded: gifs_temp/gif_123904.gif\n",
            "Deleted: gifs_temp/gif_123904.gif\n"
          ]
        },
        {
          "output_type": "stream",
          "name": "stderr",
          "text": [
            "\rProcessing GIFs:  37%|███▋      | 372/1000 [03:00<06:15,  1.67it/s]"
          ]
        },
        {
          "output_type": "stream",
          "name": "stdout",
          "text": [
            "Downloaded: gifs_temp/gif_109419.gif\n",
            "Deleted: gifs_temp/gif_109419.gif\n"
          ]
        },
        {
          "output_type": "stream",
          "name": "stderr",
          "text": [
            "\rProcessing GIFs:  37%|███▋      | 373/1000 [03:00<06:12,  1.68it/s]"
          ]
        },
        {
          "output_type": "stream",
          "name": "stdout",
          "text": [
            "Downloaded: gifs_temp/gif_65898.gif\n",
            "Deleted: gifs_temp/gif_65898.gif\n"
          ]
        },
        {
          "output_type": "stream",
          "name": "stderr",
          "text": [
            "\rProcessing GIFs:  37%|███▋      | 374/1000 [03:01<06:07,  1.70it/s]"
          ]
        },
        {
          "output_type": "stream",
          "name": "stdout",
          "text": [
            "Downloaded: gifs_temp/gif_33999.gif\n",
            "Deleted: gifs_temp/gif_33999.gif\n"
          ]
        },
        {
          "output_type": "stream",
          "name": "stderr",
          "text": [
            "\rProcessing GIFs:  38%|███▊      | 375/1000 [03:01<05:31,  1.88it/s]"
          ]
        },
        {
          "output_type": "stream",
          "name": "stdout",
          "text": [
            "Downloaded: gifs_temp/gif_58018.gif\n",
            "Deleted: gifs_temp/gif_58018.gif\n"
          ]
        },
        {
          "output_type": "stream",
          "name": "stderr",
          "text": [
            "\rProcessing GIFs:  38%|███▊      | 376/1000 [03:02<04:55,  2.11it/s]"
          ]
        },
        {
          "output_type": "stream",
          "name": "stdout",
          "text": [
            "Downloaded: gifs_temp/gif_25261.gif\n",
            "Deleted: gifs_temp/gif_25261.gif\n"
          ]
        },
        {
          "output_type": "stream",
          "name": "stderr",
          "text": [
            "\rProcessing GIFs:  38%|███▊      | 377/1000 [03:02<04:58,  2.09it/s]"
          ]
        },
        {
          "output_type": "stream",
          "name": "stdout",
          "text": [
            "Downloaded: gifs_temp/gif_100474.gif\n",
            "Deleted: gifs_temp/gif_100474.gif\n"
          ]
        },
        {
          "output_type": "stream",
          "name": "stderr",
          "text": [
            "\rProcessing GIFs:  38%|███▊      | 378/1000 [03:03<04:39,  2.23it/s]"
          ]
        },
        {
          "output_type": "stream",
          "name": "stdout",
          "text": [
            "Downloaded: gifs_temp/gif_35712.gif\n",
            "Deleted: gifs_temp/gif_35712.gif\n"
          ]
        },
        {
          "output_type": "stream",
          "name": "stderr",
          "text": [
            "\rProcessing GIFs:  38%|███▊      | 379/1000 [03:03<04:43,  2.19it/s]"
          ]
        },
        {
          "output_type": "stream",
          "name": "stdout",
          "text": [
            "Downloaded: gifs_temp/gif_37066.gif\n",
            "Deleted: gifs_temp/gif_37066.gif\n"
          ]
        },
        {
          "output_type": "stream",
          "name": "stderr",
          "text": [
            "\rProcessing GIFs:  38%|███▊      | 380/1000 [03:04<04:45,  2.17it/s]"
          ]
        },
        {
          "output_type": "stream",
          "name": "stdout",
          "text": [
            "Downloaded: gifs_temp/gif_124265.gif\n",
            "Deleted: gifs_temp/gif_124265.gif\n"
          ]
        },
        {
          "output_type": "stream",
          "name": "stderr",
          "text": [
            "\rProcessing GIFs:  38%|███▊      | 381/1000 [03:04<04:50,  2.13it/s]"
          ]
        },
        {
          "output_type": "stream",
          "name": "stdout",
          "text": [
            "Downloaded: gifs_temp/gif_87970.gif\n",
            "Deleted: gifs_temp/gif_87970.gif\n"
          ]
        },
        {
          "output_type": "stream",
          "name": "stderr",
          "text": [
            "\rProcessing GIFs:  38%|███▊      | 382/1000 [03:04<04:24,  2.34it/s]"
          ]
        },
        {
          "output_type": "stream",
          "name": "stdout",
          "text": [
            "Downloaded: gifs_temp/gif_89563.gif\n",
            "Deleted: gifs_temp/gif_89563.gif\n"
          ]
        },
        {
          "output_type": "stream",
          "name": "stderr",
          "text": [
            "\rProcessing GIFs:  38%|███▊      | 383/1000 [03:05<04:35,  2.24it/s]"
          ]
        },
        {
          "output_type": "stream",
          "name": "stdout",
          "text": [
            "Downloaded: gifs_temp/gif_59939.gif\n",
            "Deleted: gifs_temp/gif_59939.gif\n"
          ]
        },
        {
          "output_type": "stream",
          "name": "stderr",
          "text": [
            "\rProcessing GIFs:  38%|███▊      | 384/1000 [03:05<04:29,  2.28it/s]"
          ]
        },
        {
          "output_type": "stream",
          "name": "stdout",
          "text": [
            "Downloaded: gifs_temp/gif_10124.gif\n",
            "Deleted: gifs_temp/gif_10124.gif\n"
          ]
        },
        {
          "output_type": "stream",
          "name": "stderr",
          "text": [
            "\rProcessing GIFs:  38%|███▊      | 385/1000 [03:06<04:22,  2.35it/s]"
          ]
        },
        {
          "output_type": "stream",
          "name": "stdout",
          "text": [
            "Downloaded: gifs_temp/gif_55876.gif\n",
            "Deleted: gifs_temp/gif_55876.gif\n"
          ]
        },
        {
          "output_type": "stream",
          "name": "stderr",
          "text": [
            "\rProcessing GIFs:  39%|███▊      | 386/1000 [03:06<04:26,  2.31it/s]"
          ]
        },
        {
          "output_type": "stream",
          "name": "stdout",
          "text": [
            "Downloaded: gifs_temp/gif_97425.gif\n",
            "Deleted: gifs_temp/gif_97425.gif\n"
          ]
        },
        {
          "output_type": "stream",
          "name": "stderr",
          "text": [
            "\rProcessing GIFs:  39%|███▊      | 387/1000 [03:07<05:49,  1.75it/s]"
          ]
        },
        {
          "output_type": "stream",
          "name": "stdout",
          "text": [
            "Downloaded: gifs_temp/gif_56237.gif\n",
            "Deleted: gifs_temp/gif_56237.gif\n"
          ]
        },
        {
          "output_type": "stream",
          "name": "stderr",
          "text": [
            "\rProcessing GIFs:  39%|███▉      | 388/1000 [03:08<05:40,  1.80it/s]"
          ]
        },
        {
          "output_type": "stream",
          "name": "stdout",
          "text": [
            "Downloaded: gifs_temp/gif_53893.gif\n",
            "Deleted: gifs_temp/gif_53893.gif\n"
          ]
        },
        {
          "output_type": "stream",
          "name": "stderr",
          "text": [
            "\rProcessing GIFs:  39%|███▉      | 389/1000 [03:08<05:13,  1.95it/s]"
          ]
        },
        {
          "output_type": "stream",
          "name": "stdout",
          "text": [
            "Downloaded: gifs_temp/gif_45250.gif\n",
            "Deleted: gifs_temp/gif_45250.gif\n"
          ]
        },
        {
          "output_type": "stream",
          "name": "stderr",
          "text": [
            "\rProcessing GIFs:  39%|███▉      | 390/1000 [03:08<04:51,  2.10it/s]"
          ]
        },
        {
          "output_type": "stream",
          "name": "stdout",
          "text": [
            "Downloaded: gifs_temp/gif_93202.gif\n",
            "Deleted: gifs_temp/gif_93202.gif\n"
          ]
        },
        {
          "output_type": "stream",
          "name": "stderr",
          "text": [
            "\rProcessing GIFs:  39%|███▉      | 391/1000 [03:09<04:41,  2.16it/s]"
          ]
        },
        {
          "output_type": "stream",
          "name": "stdout",
          "text": [
            "Downloaded: gifs_temp/gif_91470.gif\n",
            "Deleted: gifs_temp/gif_91470.gif\n"
          ]
        },
        {
          "output_type": "stream",
          "name": "stderr",
          "text": [
            "\rProcessing GIFs:  39%|███▉      | 392/1000 [03:09<04:25,  2.29it/s]"
          ]
        },
        {
          "output_type": "stream",
          "name": "stdout",
          "text": [
            "Downloaded: gifs_temp/gif_88065.gif\n",
            "Deleted: gifs_temp/gif_88065.gif\n"
          ]
        },
        {
          "output_type": "stream",
          "name": "stderr",
          "text": [
            "\rProcessing GIFs:  39%|███▉      | 393/1000 [03:10<04:04,  2.49it/s]"
          ]
        },
        {
          "output_type": "stream",
          "name": "stdout",
          "text": [
            "Downloaded: gifs_temp/gif_1727.gif\n",
            "Deleted: gifs_temp/gif_1727.gif\n"
          ]
        },
        {
          "output_type": "stream",
          "name": "stderr",
          "text": [
            "\rProcessing GIFs:  39%|███▉      | 394/1000 [03:10<04:04,  2.48it/s]"
          ]
        },
        {
          "output_type": "stream",
          "name": "stdout",
          "text": [
            "Downloaded: gifs_temp/gif_122044.gif\n",
            "Deleted: gifs_temp/gif_122044.gif\n"
          ]
        },
        {
          "output_type": "stream",
          "name": "stderr",
          "text": [
            "\rProcessing GIFs:  40%|███▉      | 395/1000 [03:10<04:19,  2.33it/s]"
          ]
        },
        {
          "output_type": "stream",
          "name": "stdout",
          "text": [
            "Downloaded: gifs_temp/gif_56647.gif\n",
            "Deleted: gifs_temp/gif_56647.gif\n"
          ]
        },
        {
          "output_type": "stream",
          "name": "stderr",
          "text": [
            "\rProcessing GIFs:  40%|███▉      | 396/1000 [03:11<04:12,  2.39it/s]"
          ]
        },
        {
          "output_type": "stream",
          "name": "stdout",
          "text": [
            "Downloaded: gifs_temp/gif_47639.gif\n",
            "Deleted: gifs_temp/gif_47639.gif\n"
          ]
        },
        {
          "output_type": "stream",
          "name": "stderr",
          "text": [
            "\rProcessing GIFs:  40%|███▉      | 397/1000 [03:11<04:07,  2.44it/s]"
          ]
        },
        {
          "output_type": "stream",
          "name": "stdout",
          "text": [
            "Downloaded: gifs_temp/gif_30224.gif\n",
            "Deleted: gifs_temp/gif_30224.gif\n"
          ]
        },
        {
          "output_type": "stream",
          "name": "stderr",
          "text": [
            "\rProcessing GIFs:  40%|███▉      | 398/1000 [03:12<03:59,  2.51it/s]"
          ]
        },
        {
          "output_type": "stream",
          "name": "stdout",
          "text": [
            "Downloaded: gifs_temp/gif_34576.gif\n",
            "Deleted: gifs_temp/gif_34576.gif\n"
          ]
        },
        {
          "output_type": "stream",
          "name": "stderr",
          "text": [
            "\rProcessing GIFs:  40%|███▉      | 399/1000 [03:12<03:51,  2.60it/s]"
          ]
        },
        {
          "output_type": "stream",
          "name": "stdout",
          "text": [
            "Downloaded: gifs_temp/gif_42174.gif\n",
            "Deleted: gifs_temp/gif_42174.gif\n"
          ]
        },
        {
          "output_type": "stream",
          "name": "stderr",
          "text": [
            "\rProcessing GIFs:  40%|████      | 400/1000 [03:12<03:51,  2.59it/s]"
          ]
        },
        {
          "output_type": "stream",
          "name": "stdout",
          "text": [
            "Downloaded: gifs_temp/gif_92648.gif\n",
            "Deleted: gifs_temp/gif_92648.gif\n"
          ]
        },
        {
          "output_type": "stream",
          "name": "stderr",
          "text": [
            "\rProcessing GIFs:  40%|████      | 401/1000 [03:13<04:08,  2.41it/s]"
          ]
        },
        {
          "output_type": "stream",
          "name": "stdout",
          "text": [
            "Downloaded: gifs_temp/gif_34579.gif\n",
            "Deleted: gifs_temp/gif_34579.gif\n"
          ]
        },
        {
          "output_type": "stream",
          "name": "stderr",
          "text": [
            "\rProcessing GIFs:  40%|████      | 402/1000 [03:13<04:13,  2.36it/s]"
          ]
        },
        {
          "output_type": "stream",
          "name": "stdout",
          "text": [
            "Downloaded: gifs_temp/gif_35912.gif\n",
            "Deleted: gifs_temp/gif_35912.gif\n"
          ]
        },
        {
          "output_type": "stream",
          "name": "stderr",
          "text": [
            "\rProcessing GIFs:  40%|████      | 403/1000 [03:14<04:23,  2.26it/s]"
          ]
        },
        {
          "output_type": "stream",
          "name": "stdout",
          "text": [
            "Downloaded: gifs_temp/gif_75840.gif\n",
            "Deleted: gifs_temp/gif_75840.gif\n"
          ]
        },
        {
          "output_type": "stream",
          "name": "stderr",
          "text": [
            "\rProcessing GIFs:  40%|████      | 404/1000 [03:15<06:01,  1.65it/s]"
          ]
        },
        {
          "output_type": "stream",
          "name": "stdout",
          "text": [
            "Downloaded: gifs_temp/gif_53437.gif\n",
            "Deleted: gifs_temp/gif_53437.gif\n"
          ]
        },
        {
          "output_type": "stream",
          "name": "stderr",
          "text": [
            "\rProcessing GIFs:  40%|████      | 405/1000 [03:15<05:35,  1.77it/s]"
          ]
        },
        {
          "output_type": "stream",
          "name": "stdout",
          "text": [
            "Downloaded: gifs_temp/gif_82930.gif\n",
            "Deleted: gifs_temp/gif_82930.gif\n"
          ]
        },
        {
          "output_type": "stream",
          "name": "stderr",
          "text": [
            "\rProcessing GIFs:  41%|████      | 406/1000 [03:16<04:59,  1.98it/s]"
          ]
        },
        {
          "output_type": "stream",
          "name": "stdout",
          "text": [
            "Downloaded: gifs_temp/gif_103720.gif\n",
            "Deleted: gifs_temp/gif_103720.gif\n"
          ]
        },
        {
          "output_type": "stream",
          "name": "stderr",
          "text": [
            "\rProcessing GIFs:  41%|████      | 407/1000 [03:16<04:58,  1.99it/s]"
          ]
        },
        {
          "output_type": "stream",
          "name": "stdout",
          "text": [
            "Downloaded: gifs_temp/gif_88087.gif\n",
            "Deleted: gifs_temp/gif_88087.gif\n"
          ]
        },
        {
          "output_type": "stream",
          "name": "stderr",
          "text": [
            "\rProcessing GIFs:  41%|████      | 408/1000 [03:16<04:35,  2.15it/s]"
          ]
        },
        {
          "output_type": "stream",
          "name": "stdout",
          "text": [
            "Downloaded: gifs_temp/gif_5771.gif\n",
            "Deleted: gifs_temp/gif_5771.gif\n"
          ]
        },
        {
          "output_type": "stream",
          "name": "stderr",
          "text": [
            "\rProcessing GIFs:  41%|████      | 409/1000 [03:17<04:32,  2.17it/s]"
          ]
        },
        {
          "output_type": "stream",
          "name": "stdout",
          "text": [
            "Downloaded: gifs_temp/gif_109121.gif\n",
            "Deleted: gifs_temp/gif_109121.gif\n"
          ]
        },
        {
          "output_type": "stream",
          "name": "stderr",
          "text": [
            "\rProcessing GIFs:  41%|████      | 410/1000 [03:17<04:20,  2.27it/s]"
          ]
        },
        {
          "output_type": "stream",
          "name": "stdout",
          "text": [
            "Downloaded: gifs_temp/gif_55403.gif\n",
            "Deleted: gifs_temp/gif_55403.gif\n"
          ]
        },
        {
          "output_type": "stream",
          "name": "stderr",
          "text": [
            "\rProcessing GIFs:  41%|████      | 411/1000 [03:18<04:11,  2.34it/s]"
          ]
        },
        {
          "output_type": "stream",
          "name": "stdout",
          "text": [
            "Downloaded: gifs_temp/gif_16609.gif\n",
            "Deleted: gifs_temp/gif_16609.gif\n"
          ]
        },
        {
          "output_type": "stream",
          "name": "stderr",
          "text": [
            "\rProcessing GIFs:  41%|████      | 412/1000 [03:18<04:08,  2.37it/s]"
          ]
        },
        {
          "output_type": "stream",
          "name": "stdout",
          "text": [
            "Downloaded: gifs_temp/gif_92951.gif\n",
            "Deleted: gifs_temp/gif_92951.gif\n"
          ]
        },
        {
          "output_type": "stream",
          "name": "stderr",
          "text": [
            "\rProcessing GIFs:  41%|████▏     | 413/1000 [03:18<03:50,  2.55it/s]"
          ]
        },
        {
          "output_type": "stream",
          "name": "stdout",
          "text": [
            "Downloaded: gifs_temp/gif_19633.gif\n",
            "Deleted: gifs_temp/gif_19633.gif\n"
          ]
        },
        {
          "output_type": "stream",
          "name": "stderr",
          "text": [
            "\rProcessing GIFs:  41%|████▏     | 414/1000 [03:19<03:56,  2.47it/s]"
          ]
        },
        {
          "output_type": "stream",
          "name": "stdout",
          "text": [
            "Downloaded: gifs_temp/gif_112845.gif\n",
            "Deleted: gifs_temp/gif_112845.gif\n"
          ]
        },
        {
          "output_type": "stream",
          "name": "stderr",
          "text": [
            "\rProcessing GIFs:  42%|████▏     | 415/1000 [03:19<03:54,  2.49it/s]"
          ]
        },
        {
          "output_type": "stream",
          "name": "stdout",
          "text": [
            "Downloaded: gifs_temp/gif_51111.gif\n",
            "Deleted: gifs_temp/gif_51111.gif\n"
          ]
        },
        {
          "output_type": "stream",
          "name": "stderr",
          "text": [
            "\rProcessing GIFs:  42%|████▏     | 416/1000 [03:20<03:54,  2.49it/s]"
          ]
        },
        {
          "output_type": "stream",
          "name": "stdout",
          "text": [
            "Downloaded: gifs_temp/gif_953.gif\n",
            "Deleted: gifs_temp/gif_953.gif\n"
          ]
        },
        {
          "output_type": "stream",
          "name": "stderr",
          "text": [
            "\rProcessing GIFs:  42%|████▏     | 417/1000 [03:20<03:49,  2.54it/s]"
          ]
        },
        {
          "output_type": "stream",
          "name": "stdout",
          "text": [
            "Downloaded: gifs_temp/gif_51301.gif\n",
            "Deleted: gifs_temp/gif_51301.gif\n"
          ]
        },
        {
          "output_type": "stream",
          "name": "stderr",
          "text": [
            "\rProcessing GIFs:  42%|████▏     | 418/1000 [03:20<03:44,  2.59it/s]"
          ]
        },
        {
          "output_type": "stream",
          "name": "stdout",
          "text": [
            "Downloaded: gifs_temp/gif_76483.gif\n",
            "Deleted: gifs_temp/gif_76483.gif\n"
          ]
        },
        {
          "output_type": "stream",
          "name": "stderr",
          "text": [
            "\rProcessing GIFs:  42%|████▏     | 419/1000 [03:21<05:20,  1.81it/s]"
          ]
        },
        {
          "output_type": "stream",
          "name": "stdout",
          "text": [
            "Downloaded: gifs_temp/gif_108135.gif\n",
            "Deleted: gifs_temp/gif_108135.gif\n"
          ]
        },
        {
          "output_type": "stream",
          "name": "stderr",
          "text": [
            "\rProcessing GIFs:  42%|████▏     | 420/1000 [03:22<05:18,  1.82it/s]"
          ]
        },
        {
          "output_type": "stream",
          "name": "stdout",
          "text": [
            "Downloaded: gifs_temp/gif_22043.gif\n",
            "Deleted: gifs_temp/gif_22043.gif\n"
          ]
        },
        {
          "output_type": "stream",
          "name": "stderr",
          "text": [
            "\rProcessing GIFs:  42%|████▏     | 421/1000 [03:22<05:02,  1.92it/s]"
          ]
        },
        {
          "output_type": "stream",
          "name": "stdout",
          "text": [
            "Downloaded: gifs_temp/gif_69683.gif\n",
            "Deleted: gifs_temp/gif_69683.gif\n"
          ]
        },
        {
          "output_type": "stream",
          "name": "stderr",
          "text": [
            "\rProcessing GIFs:  42%|████▏     | 422/1000 [03:23<06:06,  1.58it/s]"
          ]
        },
        {
          "output_type": "stream",
          "name": "stdout",
          "text": [
            "Downloaded: gifs_temp/gif_80590.gif\n",
            "Deleted: gifs_temp/gif_80590.gif\n"
          ]
        },
        {
          "output_type": "stream",
          "name": "stderr",
          "text": [
            "\rProcessing GIFs:  42%|████▏     | 423/1000 [03:24<05:27,  1.76it/s]"
          ]
        },
        {
          "output_type": "stream",
          "name": "stdout",
          "text": [
            "Downloaded: gifs_temp/gif_122331.gif\n",
            "Deleted: gifs_temp/gif_122331.gif\n"
          ]
        },
        {
          "output_type": "stream",
          "name": "stderr",
          "text": [
            "\rProcessing GIFs:  42%|████▏     | 424/1000 [03:24<05:19,  1.80it/s]"
          ]
        },
        {
          "output_type": "stream",
          "name": "stdout",
          "text": [
            "Downloaded: gifs_temp/gif_93625.gif\n",
            "Deleted: gifs_temp/gif_93625.gif\n"
          ]
        },
        {
          "output_type": "stream",
          "name": "stderr",
          "text": [
            "\rProcessing GIFs:  42%|████▎     | 425/1000 [03:25<05:42,  1.68it/s]"
          ]
        },
        {
          "output_type": "stream",
          "name": "stdout",
          "text": [
            "Downloaded: gifs_temp/gif_103696.gif\n",
            "Deleted: gifs_temp/gif_103696.gif\n"
          ]
        },
        {
          "output_type": "stream",
          "name": "stderr",
          "text": [
            "\rProcessing GIFs:  43%|████▎     | 426/1000 [03:25<05:25,  1.76it/s]"
          ]
        },
        {
          "output_type": "stream",
          "name": "stdout",
          "text": [
            "Downloaded: gifs_temp/gif_8972.gif\n",
            "Deleted: gifs_temp/gif_8972.gif\n"
          ]
        },
        {
          "output_type": "stream",
          "name": "stderr",
          "text": [
            "\rProcessing GIFs:  43%|████▎     | 427/1000 [03:26<06:26,  1.48it/s]"
          ]
        },
        {
          "output_type": "stream",
          "name": "stdout",
          "text": [
            "Downloaded: gifs_temp/gif_20507.gif\n",
            "Deleted: gifs_temp/gif_20507.gif\n"
          ]
        },
        {
          "output_type": "stream",
          "name": "stderr",
          "text": [
            "\rProcessing GIFs:  43%|████▎     | 428/1000 [03:27<05:38,  1.69it/s]"
          ]
        },
        {
          "output_type": "stream",
          "name": "stdout",
          "text": [
            "Downloaded: gifs_temp/gif_68498.gif\n",
            "Deleted: gifs_temp/gif_68498.gif\n"
          ]
        },
        {
          "output_type": "stream",
          "name": "stderr",
          "text": [
            "\rProcessing GIFs:  43%|████▎     | 429/1000 [03:27<05:18,  1.80it/s]"
          ]
        },
        {
          "output_type": "stream",
          "name": "stdout",
          "text": [
            "Downloaded: gifs_temp/gif_60949.gif\n",
            "Deleted: gifs_temp/gif_60949.gif\n",
            "Downloaded: gifs_temp/gif_29277.gif\n"
          ]
        },
        {
          "output_type": "stream",
          "name": "stderr",
          "text": [
            "\rProcessing GIFs:  43%|████▎     | 430/1000 [03:28<05:31,  1.72it/s]"
          ]
        },
        {
          "output_type": "stream",
          "name": "stdout",
          "text": [
            "Deleted: gifs_temp/gif_29277.gif\n"
          ]
        },
        {
          "output_type": "stream",
          "name": "stderr",
          "text": [
            "\rProcessing GIFs:  43%|████▎     | 431/1000 [03:28<05:07,  1.85it/s]"
          ]
        },
        {
          "output_type": "stream",
          "name": "stdout",
          "text": [
            "Downloaded: gifs_temp/gif_9488.gif\n",
            "Deleted: gifs_temp/gif_9488.gif\n"
          ]
        },
        {
          "output_type": "stream",
          "name": "stderr",
          "text": [
            "\rProcessing GIFs:  43%|████▎     | 432/1000 [03:29<04:50,  1.95it/s]"
          ]
        },
        {
          "output_type": "stream",
          "name": "stdout",
          "text": [
            "Downloaded: gifs_temp/gif_52740.gif\n",
            "Deleted: gifs_temp/gif_52740.gif\n"
          ]
        },
        {
          "output_type": "stream",
          "name": "stderr",
          "text": [
            "\rProcessing GIFs:  43%|████▎     | 433/1000 [03:29<04:46,  1.98it/s]"
          ]
        },
        {
          "output_type": "stream",
          "name": "stdout",
          "text": [
            "Downloaded: gifs_temp/gif_14683.gif\n",
            "Deleted: gifs_temp/gif_14683.gif\n"
          ]
        },
        {
          "output_type": "stream",
          "name": "stderr",
          "text": [
            "\rProcessing GIFs:  43%|████▎     | 434/1000 [03:30<04:35,  2.05it/s]"
          ]
        },
        {
          "output_type": "stream",
          "name": "stdout",
          "text": [
            "Downloaded: gifs_temp/gif_17320.gif\n",
            "Deleted: gifs_temp/gif_17320.gif\n"
          ]
        },
        {
          "output_type": "stream",
          "name": "stderr",
          "text": [
            "\rProcessing GIFs:  44%|████▎     | 435/1000 [03:30<04:21,  2.16it/s]"
          ]
        },
        {
          "output_type": "stream",
          "name": "stdout",
          "text": [
            "Downloaded: gifs_temp/gif_33271.gif\n",
            "Deleted: gifs_temp/gif_33271.gif\n"
          ]
        },
        {
          "output_type": "stream",
          "name": "stderr",
          "text": [
            "\rProcessing GIFs:  44%|████▎     | 436/1000 [03:31<05:16,  1.78it/s]"
          ]
        },
        {
          "output_type": "stream",
          "name": "stdout",
          "text": [
            "Downloaded: gifs_temp/gif_44569.gif\n",
            "Deleted: gifs_temp/gif_44569.gif\n"
          ]
        },
        {
          "output_type": "stream",
          "name": "stderr",
          "text": [
            "\rProcessing GIFs:  44%|████▎     | 437/1000 [03:31<04:52,  1.93it/s]"
          ]
        },
        {
          "output_type": "stream",
          "name": "stdout",
          "text": [
            "Downloaded: gifs_temp/gif_74228.gif\n",
            "Deleted: gifs_temp/gif_74228.gif\n"
          ]
        },
        {
          "output_type": "stream",
          "name": "stderr",
          "text": [
            "\rProcessing GIFs:  44%|████▍     | 438/1000 [03:32<04:26,  2.11it/s]"
          ]
        },
        {
          "output_type": "stream",
          "name": "stdout",
          "text": [
            "Downloaded: gifs_temp/gif_106029.gif\n",
            "Deleted: gifs_temp/gif_106029.gif\n"
          ]
        },
        {
          "output_type": "stream",
          "name": "stderr",
          "text": [
            "\rProcessing GIFs:  44%|████▍     | 439/1000 [03:32<04:16,  2.18it/s]"
          ]
        },
        {
          "output_type": "stream",
          "name": "stdout",
          "text": [
            "Downloaded: gifs_temp/gif_34470.gif\n",
            "Deleted: gifs_temp/gif_34470.gif\n"
          ]
        },
        {
          "output_type": "stream",
          "name": "stderr",
          "text": [
            "\rProcessing GIFs:  44%|████▍     | 440/1000 [03:32<03:58,  2.35it/s]"
          ]
        },
        {
          "output_type": "stream",
          "name": "stdout",
          "text": [
            "Downloaded: gifs_temp/gif_108053.gif\n",
            "Deleted: gifs_temp/gif_108053.gif\n"
          ]
        },
        {
          "output_type": "stream",
          "name": "stderr",
          "text": [
            "\rProcessing GIFs:  44%|████▍     | 441/1000 [03:33<04:04,  2.28it/s]"
          ]
        },
        {
          "output_type": "stream",
          "name": "stdout",
          "text": [
            "Downloaded: gifs_temp/gif_50169.gif\n",
            "Deleted: gifs_temp/gif_50169.gif\n"
          ]
        },
        {
          "output_type": "stream",
          "name": "stderr",
          "text": [
            "\rProcessing GIFs:  44%|████▍     | 442/1000 [03:33<04:16,  2.17it/s]"
          ]
        },
        {
          "output_type": "stream",
          "name": "stdout",
          "text": [
            "Downloaded: gifs_temp/gif_122628.gif\n",
            "Deleted: gifs_temp/gif_122628.gif\n"
          ]
        },
        {
          "output_type": "stream",
          "name": "stderr",
          "text": [
            "\rProcessing GIFs:  44%|████▍     | 443/1000 [03:34<04:51,  1.91it/s]"
          ]
        },
        {
          "output_type": "stream",
          "name": "stdout",
          "text": [
            "Downloaded: gifs_temp/gif_88932.gif\n",
            "Deleted: gifs_temp/gif_88932.gif\n"
          ]
        },
        {
          "output_type": "stream",
          "name": "stderr",
          "text": [
            "\rProcessing GIFs:  44%|████▍     | 444/1000 [03:34<04:31,  2.05it/s]"
          ]
        },
        {
          "output_type": "stream",
          "name": "stdout",
          "text": [
            "Downloaded: gifs_temp/gif_121107.gif\n",
            "Deleted: gifs_temp/gif_121107.gif\n"
          ]
        },
        {
          "output_type": "stream",
          "name": "stderr",
          "text": [
            "\rProcessing GIFs:  44%|████▍     | 445/1000 [03:35<04:24,  2.10it/s]"
          ]
        },
        {
          "output_type": "stream",
          "name": "stdout",
          "text": [
            "Downloaded: gifs_temp/gif_41405.gif\n",
            "Deleted: gifs_temp/gif_41405.gif\n"
          ]
        },
        {
          "output_type": "stream",
          "name": "stderr",
          "text": [
            "\rProcessing GIFs:  45%|████▍     | 446/1000 [03:35<04:10,  2.21it/s]"
          ]
        },
        {
          "output_type": "stream",
          "name": "stdout",
          "text": [
            "Downloaded: gifs_temp/gif_55495.gif\n",
            "Deleted: gifs_temp/gif_55495.gif\n"
          ]
        },
        {
          "output_type": "stream",
          "name": "stderr",
          "text": [
            "\rProcessing GIFs:  45%|████▍     | 447/1000 [03:36<03:57,  2.33it/s]"
          ]
        },
        {
          "output_type": "stream",
          "name": "stdout",
          "text": [
            "Downloaded: gifs_temp/gif_74315.gif\n",
            "Deleted: gifs_temp/gif_74315.gif\n"
          ]
        },
        {
          "output_type": "stream",
          "name": "stderr",
          "text": [
            "\rProcessing GIFs:  45%|████▍     | 448/1000 [03:36<03:49,  2.41it/s]"
          ]
        },
        {
          "output_type": "stream",
          "name": "stdout",
          "text": [
            "Downloaded: gifs_temp/gif_29854.gif\n",
            "Deleted: gifs_temp/gif_29854.gif\n"
          ]
        },
        {
          "output_type": "stream",
          "name": "stderr",
          "text": [
            "\rProcessing GIFs:  45%|████▍     | 449/1000 [03:36<03:44,  2.46it/s]"
          ]
        },
        {
          "output_type": "stream",
          "name": "stdout",
          "text": [
            "Downloaded: gifs_temp/gif_33502.gif\n",
            "Deleted: gifs_temp/gif_33502.gif\n"
          ]
        },
        {
          "output_type": "stream",
          "name": "stderr",
          "text": [
            "\rProcessing GIFs:  45%|████▌     | 450/1000 [03:37<03:36,  2.54it/s]"
          ]
        },
        {
          "output_type": "stream",
          "name": "stdout",
          "text": [
            "Downloaded: gifs_temp/gif_68549.gif\n",
            "Deleted: gifs_temp/gif_68549.gif\n"
          ]
        },
        {
          "output_type": "stream",
          "name": "stderr",
          "text": [
            "\rProcessing GIFs:  45%|████▌     | 451/1000 [03:38<05:20,  1.71it/s]"
          ]
        },
        {
          "output_type": "stream",
          "name": "stdout",
          "text": [
            "Downloaded: gifs_temp/gif_115406.gif\n",
            "Deleted: gifs_temp/gif_115406.gif\n"
          ]
        },
        {
          "output_type": "stream",
          "name": "stderr",
          "text": [
            "\rProcessing GIFs:  45%|████▌     | 452/1000 [03:38<04:32,  2.01it/s]"
          ]
        },
        {
          "output_type": "stream",
          "name": "stdout",
          "text": [
            "Downloaded: gifs_temp/gif_7388.gif\n",
            "Deleted: gifs_temp/gif_7388.gif\n"
          ]
        },
        {
          "output_type": "stream",
          "name": "stderr",
          "text": [
            "\rProcessing GIFs:  45%|████▌     | 453/1000 [03:38<04:15,  2.14it/s]"
          ]
        },
        {
          "output_type": "stream",
          "name": "stdout",
          "text": [
            "Downloaded: gifs_temp/gif_84053.gif\n",
            "Deleted: gifs_temp/gif_84053.gif\n"
          ]
        },
        {
          "output_type": "stream",
          "name": "stderr",
          "text": [
            "\rProcessing GIFs:  45%|████▌     | 454/1000 [03:39<04:28,  2.04it/s]"
          ]
        },
        {
          "output_type": "stream",
          "name": "stdout",
          "text": [
            "Downloaded: gifs_temp/gif_31385.gif\n",
            "Deleted: gifs_temp/gif_31385.gif\n"
          ]
        },
        {
          "output_type": "stream",
          "name": "stderr",
          "text": [
            "\rProcessing GIFs:  46%|████▌     | 455/1000 [03:39<04:19,  2.10it/s]"
          ]
        },
        {
          "output_type": "stream",
          "name": "stdout",
          "text": [
            "Downloaded: gifs_temp/gif_14922.gif\n",
            "Deleted: gifs_temp/gif_14922.gif\n"
          ]
        },
        {
          "output_type": "stream",
          "name": "stderr",
          "text": [
            "\rProcessing GIFs:  46%|████▌     | 456/1000 [03:40<04:26,  2.04it/s]"
          ]
        },
        {
          "output_type": "stream",
          "name": "stdout",
          "text": [
            "Downloaded: gifs_temp/gif_83743.gif\n",
            "Deleted: gifs_temp/gif_83743.gif\n"
          ]
        },
        {
          "output_type": "stream",
          "name": "stderr",
          "text": [
            "\rProcessing GIFs:  46%|████▌     | 457/1000 [03:41<05:29,  1.65it/s]"
          ]
        },
        {
          "output_type": "stream",
          "name": "stdout",
          "text": [
            "Downloaded: gifs_temp/gif_15288.gif\n",
            "Deleted: gifs_temp/gif_15288.gif\n"
          ]
        },
        {
          "output_type": "stream",
          "name": "stderr",
          "text": [
            "\rProcessing GIFs:  46%|████▌     | 458/1000 [03:41<04:44,  1.90it/s]"
          ]
        },
        {
          "output_type": "stream",
          "name": "stdout",
          "text": [
            "Downloaded: gifs_temp/gif_64009.gif\n",
            "Deleted: gifs_temp/gif_64009.gif\n"
          ]
        },
        {
          "output_type": "stream",
          "name": "stderr",
          "text": [
            "\rProcessing GIFs:  46%|████▌     | 459/1000 [03:42<04:26,  2.03it/s]"
          ]
        },
        {
          "output_type": "stream",
          "name": "stdout",
          "text": [
            "Downloaded: gifs_temp/gif_2466.gif\n",
            "Deleted: gifs_temp/gif_2466.gif\n"
          ]
        },
        {
          "output_type": "stream",
          "name": "stderr",
          "text": [
            "\rProcessing GIFs:  46%|████▌     | 460/1000 [03:42<04:06,  2.19it/s]"
          ]
        },
        {
          "output_type": "stream",
          "name": "stdout",
          "text": [
            "Downloaded: gifs_temp/gif_97432.gif\n",
            "Deleted: gifs_temp/gif_97432.gif\n"
          ]
        },
        {
          "output_type": "stream",
          "name": "stderr",
          "text": [
            "\rProcessing GIFs:  46%|████▌     | 461/1000 [03:42<03:58,  2.26it/s]"
          ]
        },
        {
          "output_type": "stream",
          "name": "stdout",
          "text": [
            "Downloaded: gifs_temp/gif_31440.gif\n",
            "Deleted: gifs_temp/gif_31440.gif\n"
          ]
        },
        {
          "output_type": "stream",
          "name": "stderr",
          "text": [
            "\rProcessing GIFs:  46%|████▌     | 462/1000 [03:43<05:15,  1.71it/s]"
          ]
        },
        {
          "output_type": "stream",
          "name": "stdout",
          "text": [
            "Downloaded: gifs_temp/gif_109498.gif\n",
            "Deleted: gifs_temp/gif_109498.gif\n"
          ]
        },
        {
          "output_type": "stream",
          "name": "stderr",
          "text": [
            "\rProcessing GIFs:  46%|████▋     | 463/1000 [03:44<04:36,  1.94it/s]"
          ]
        },
        {
          "output_type": "stream",
          "name": "stdout",
          "text": [
            "Downloaded: gifs_temp/gif_45889.gif\n",
            "Deleted: gifs_temp/gif_45889.gif\n"
          ]
        },
        {
          "output_type": "stream",
          "name": "stderr",
          "text": [
            "\rProcessing GIFs:  46%|████▋     | 464/1000 [03:44<04:13,  2.11it/s]"
          ]
        },
        {
          "output_type": "stream",
          "name": "stdout",
          "text": [
            "Downloaded: gifs_temp/gif_72040.gif\n",
            "Deleted: gifs_temp/gif_72040.gif\n"
          ]
        },
        {
          "output_type": "stream",
          "name": "stderr",
          "text": [
            "\rProcessing GIFs:  46%|████▋     | 465/1000 [03:45<04:41,  1.90it/s]"
          ]
        },
        {
          "output_type": "stream",
          "name": "stdout",
          "text": [
            "Downloaded: gifs_temp/gif_14126.gif\n",
            "Deleted: gifs_temp/gif_14126.gif\n"
          ]
        },
        {
          "output_type": "stream",
          "name": "stderr",
          "text": [
            "\rProcessing GIFs:  47%|████▋     | 466/1000 [03:45<04:26,  2.00it/s]"
          ]
        },
        {
          "output_type": "stream",
          "name": "stdout",
          "text": [
            "Downloaded: gifs_temp/gif_123832.gif\n",
            "Deleted: gifs_temp/gif_123832.gif\n"
          ]
        },
        {
          "output_type": "stream",
          "name": "stderr",
          "text": [
            "\rProcessing GIFs:  47%|████▋     | 467/1000 [03:46<04:13,  2.10it/s]"
          ]
        },
        {
          "output_type": "stream",
          "name": "stdout",
          "text": [
            "Downloaded: gifs_temp/gif_30881.gif\n",
            "Deleted: gifs_temp/gif_30881.gif\n"
          ]
        },
        {
          "output_type": "stream",
          "name": "stderr",
          "text": [
            "\rProcessing GIFs:  47%|████▋     | 468/1000 [03:46<03:57,  2.24it/s]"
          ]
        },
        {
          "output_type": "stream",
          "name": "stdout",
          "text": [
            "Downloaded: gifs_temp/gif_28538.gif\n",
            "Deleted: gifs_temp/gif_28538.gif\n"
          ]
        },
        {
          "output_type": "stream",
          "name": "stderr",
          "text": [
            "\rProcessing GIFs:  47%|████▋     | 469/1000 [03:46<03:27,  2.56it/s]"
          ]
        },
        {
          "output_type": "stream",
          "name": "stdout",
          "text": [
            "Downloaded: gifs_temp/gif_14181.gif\n",
            "Deleted: gifs_temp/gif_14181.gif\n"
          ]
        },
        {
          "output_type": "stream",
          "name": "stderr",
          "text": [
            "\rProcessing GIFs:  47%|████▋     | 470/1000 [03:47<03:21,  2.63it/s]"
          ]
        },
        {
          "output_type": "stream",
          "name": "stdout",
          "text": [
            "Downloaded: gifs_temp/gif_22378.gif\n",
            "Deleted: gifs_temp/gif_22378.gif\n"
          ]
        },
        {
          "output_type": "stream",
          "name": "stderr",
          "text": [
            "\rProcessing GIFs:  47%|████▋     | 471/1000 [03:47<03:22,  2.61it/s]"
          ]
        },
        {
          "output_type": "stream",
          "name": "stdout",
          "text": [
            "Downloaded: gifs_temp/gif_63307.gif\n",
            "Deleted: gifs_temp/gif_63307.gif\n"
          ]
        },
        {
          "output_type": "stream",
          "name": "stderr",
          "text": [
            "\rProcessing GIFs:  47%|████▋     | 472/1000 [03:47<03:23,  2.59it/s]"
          ]
        },
        {
          "output_type": "stream",
          "name": "stdout",
          "text": [
            "Downloaded: gifs_temp/gif_29308.gif\n",
            "Deleted: gifs_temp/gif_29308.gif\n"
          ]
        },
        {
          "output_type": "stream",
          "name": "stderr",
          "text": [
            "\rProcessing GIFs:  47%|████▋     | 473/1000 [03:48<04:00,  2.19it/s]"
          ]
        },
        {
          "output_type": "stream",
          "name": "stdout",
          "text": [
            "Downloaded: gifs_temp/gif_39330.gif\n",
            "Deleted: gifs_temp/gif_39330.gif\n"
          ]
        },
        {
          "output_type": "stream",
          "name": "stderr",
          "text": [
            "\rProcessing GIFs:  47%|████▋     | 474/1000 [03:48<03:47,  2.31it/s]"
          ]
        },
        {
          "output_type": "stream",
          "name": "stdout",
          "text": [
            "Downloaded: gifs_temp/gif_38473.gif\n",
            "Deleted: gifs_temp/gif_38473.gif\n"
          ]
        },
        {
          "output_type": "stream",
          "name": "stderr",
          "text": [
            "\rProcessing GIFs:  48%|████▊     | 475/1000 [03:49<03:34,  2.45it/s]"
          ]
        },
        {
          "output_type": "stream",
          "name": "stdout",
          "text": [
            "Downloaded: gifs_temp/gif_86180.gif\n",
            "Deleted: gifs_temp/gif_86180.gif\n"
          ]
        },
        {
          "output_type": "stream",
          "name": "stderr",
          "text": [
            "\rProcessing GIFs:  48%|████▊     | 476/1000 [03:49<03:42,  2.36it/s]"
          ]
        },
        {
          "output_type": "stream",
          "name": "stdout",
          "text": [
            "Downloaded: gifs_temp/gif_19192.gif\n",
            "Deleted: gifs_temp/gif_19192.gif\n"
          ]
        },
        {
          "output_type": "stream",
          "name": "stderr",
          "text": [
            "\rProcessing GIFs:  48%|████▊     | 477/1000 [03:50<03:49,  2.28it/s]"
          ]
        },
        {
          "output_type": "stream",
          "name": "stdout",
          "text": [
            "Downloaded: gifs_temp/gif_70789.gif\n",
            "Deleted: gifs_temp/gif_70789.gif\n"
          ]
        },
        {
          "output_type": "stream",
          "name": "stderr",
          "text": [
            "\rProcessing GIFs:  48%|████▊     | 478/1000 [03:50<03:41,  2.36it/s]"
          ]
        },
        {
          "output_type": "stream",
          "name": "stdout",
          "text": [
            "Downloaded: gifs_temp/gif_40091.gif\n",
            "Deleted: gifs_temp/gif_40091.gif\n"
          ]
        },
        {
          "output_type": "stream",
          "name": "stderr",
          "text": [
            "\rProcessing GIFs:  48%|████▊     | 479/1000 [03:50<03:15,  2.66it/s]"
          ]
        },
        {
          "output_type": "stream",
          "name": "stdout",
          "text": [
            "Downloaded: gifs_temp/gif_8496.gif\n",
            "Deleted: gifs_temp/gif_8496.gif\n"
          ]
        },
        {
          "output_type": "stream",
          "name": "stderr",
          "text": [
            "\rProcessing GIFs:  48%|████▊     | 480/1000 [03:51<03:21,  2.58it/s]"
          ]
        },
        {
          "output_type": "stream",
          "name": "stdout",
          "text": [
            "Downloaded: gifs_temp/gif_125596.gif\n",
            "Deleted: gifs_temp/gif_125596.gif\n"
          ]
        },
        {
          "output_type": "stream",
          "name": "stderr",
          "text": [
            "\rProcessing GIFs:  48%|████▊     | 481/1000 [03:51<03:06,  2.78it/s]"
          ]
        },
        {
          "output_type": "stream",
          "name": "stdout",
          "text": [
            "Downloaded: gifs_temp/gif_23554.gif\n",
            "Deleted: gifs_temp/gif_23554.gif\n"
          ]
        },
        {
          "output_type": "stream",
          "name": "stderr",
          "text": [
            "\rProcessing GIFs:  48%|████▊     | 482/1000 [03:51<03:14,  2.66it/s]"
          ]
        },
        {
          "output_type": "stream",
          "name": "stdout",
          "text": [
            "Downloaded: gifs_temp/gif_28617.gif\n",
            "Deleted: gifs_temp/gif_28617.gif\n"
          ]
        },
        {
          "output_type": "stream",
          "name": "stderr",
          "text": [
            "\rProcessing GIFs:  48%|████▊     | 483/1000 [03:52<03:27,  2.49it/s]"
          ]
        },
        {
          "output_type": "stream",
          "name": "stdout",
          "text": [
            "Downloaded: gifs_temp/gif_73688.gif\n",
            "Deleted: gifs_temp/gif_73688.gif\n"
          ]
        },
        {
          "output_type": "stream",
          "name": "stderr",
          "text": [
            "\rProcessing GIFs:  48%|████▊     | 484/1000 [03:52<03:48,  2.26it/s]"
          ]
        },
        {
          "output_type": "stream",
          "name": "stdout",
          "text": [
            "Downloaded: gifs_temp/gif_55545.gif\n",
            "Deleted: gifs_temp/gif_55545.gif\n"
          ]
        },
        {
          "output_type": "stream",
          "name": "stderr",
          "text": [
            "\rProcessing GIFs:  48%|████▊     | 485/1000 [03:53<03:37,  2.37it/s]"
          ]
        },
        {
          "output_type": "stream",
          "name": "stdout",
          "text": [
            "Downloaded: gifs_temp/gif_59827.gif\n",
            "Deleted: gifs_temp/gif_59827.gif\n"
          ]
        },
        {
          "output_type": "stream",
          "name": "stderr",
          "text": [
            "\rProcessing GIFs:  49%|████▊     | 486/1000 [03:53<04:17,  2.00it/s]"
          ]
        },
        {
          "output_type": "stream",
          "name": "stdout",
          "text": [
            "Downloaded: gifs_temp/gif_59051.gif\n",
            "Deleted: gifs_temp/gif_59051.gif\n"
          ]
        },
        {
          "output_type": "stream",
          "name": "stderr",
          "text": [
            "\rProcessing GIFs:  49%|████▊     | 487/1000 [03:54<04:28,  1.91it/s]"
          ]
        },
        {
          "output_type": "stream",
          "name": "stdout",
          "text": [
            "Downloaded: gifs_temp/gif_19449.gif\n",
            "Deleted: gifs_temp/gif_19449.gif\n"
          ]
        },
        {
          "output_type": "stream",
          "name": "stderr",
          "text": [
            "\rProcessing GIFs:  49%|████▉     | 488/1000 [03:54<04:04,  2.09it/s]"
          ]
        },
        {
          "output_type": "stream",
          "name": "stdout",
          "text": [
            "Downloaded: gifs_temp/gif_119050.gif\n",
            "Deleted: gifs_temp/gif_119050.gif\n"
          ]
        },
        {
          "output_type": "stream",
          "name": "stderr",
          "text": [
            "\rProcessing GIFs:  49%|████▉     | 489/1000 [03:55<03:40,  2.31it/s]"
          ]
        },
        {
          "output_type": "stream",
          "name": "stdout",
          "text": [
            "Downloaded: gifs_temp/gif_26521.gif\n",
            "Deleted: gifs_temp/gif_26521.gif\n"
          ]
        },
        {
          "output_type": "stream",
          "name": "stderr",
          "text": [
            "\rProcessing GIFs:  49%|████▉     | 490/1000 [03:55<03:29,  2.43it/s]"
          ]
        },
        {
          "output_type": "stream",
          "name": "stdout",
          "text": [
            "Downloaded: gifs_temp/gif_85786.gif\n",
            "Deleted: gifs_temp/gif_85786.gif\n"
          ]
        },
        {
          "output_type": "stream",
          "name": "stderr",
          "text": [
            "\rProcessing GIFs:  49%|████▉     | 491/1000 [03:55<03:24,  2.49it/s]"
          ]
        },
        {
          "output_type": "stream",
          "name": "stdout",
          "text": [
            "Downloaded: gifs_temp/gif_20368.gif\n",
            "Deleted: gifs_temp/gif_20368.gif\n"
          ]
        },
        {
          "output_type": "stream",
          "name": "stderr",
          "text": [
            "\rProcessing GIFs:  49%|████▉     | 492/1000 [03:56<03:20,  2.53it/s]"
          ]
        },
        {
          "output_type": "stream",
          "name": "stdout",
          "text": [
            "Downloaded: gifs_temp/gif_91797.gif\n",
            "Deleted: gifs_temp/gif_91797.gif\n"
          ]
        },
        {
          "output_type": "stream",
          "name": "stderr",
          "text": [
            "\rProcessing GIFs:  49%|████▉     | 493/1000 [03:57<04:49,  1.75it/s]"
          ]
        },
        {
          "output_type": "stream",
          "name": "stdout",
          "text": [
            "Downloaded: gifs_temp/gif_50767.gif\n",
            "Deleted: gifs_temp/gif_50767.gif\n"
          ]
        },
        {
          "output_type": "stream",
          "name": "stderr",
          "text": [
            "\rProcessing GIFs:  49%|████▉     | 494/1000 [03:57<04:25,  1.90it/s]"
          ]
        },
        {
          "output_type": "stream",
          "name": "stdout",
          "text": [
            "Downloaded: gifs_temp/gif_40692.gif\n",
            "Deleted: gifs_temp/gif_40692.gif\n"
          ]
        },
        {
          "output_type": "stream",
          "name": "stderr",
          "text": [
            "\rProcessing GIFs:  50%|████▉     | 495/1000 [03:58<04:10,  2.02it/s]"
          ]
        },
        {
          "output_type": "stream",
          "name": "stdout",
          "text": [
            "Downloaded: gifs_temp/gif_69956.gif\n",
            "Deleted: gifs_temp/gif_69956.gif\n"
          ]
        },
        {
          "output_type": "stream",
          "name": "stderr",
          "text": [
            "\rProcessing GIFs:  50%|████▉     | 496/1000 [03:58<04:11,  2.00it/s]"
          ]
        },
        {
          "output_type": "stream",
          "name": "stdout",
          "text": [
            "Downloaded: gifs_temp/gif_42797.gif\n",
            "Deleted: gifs_temp/gif_42797.gif\n"
          ]
        },
        {
          "output_type": "stream",
          "name": "stderr",
          "text": [
            "\rProcessing GIFs:  50%|████▉     | 497/1000 [03:59<04:03,  2.07it/s]"
          ]
        },
        {
          "output_type": "stream",
          "name": "stdout",
          "text": [
            "Downloaded: gifs_temp/gif_100606.gif\n",
            "Deleted: gifs_temp/gif_100606.gif\n"
          ]
        },
        {
          "output_type": "stream",
          "name": "stderr",
          "text": [
            "\rProcessing GIFs:  50%|████▉     | 498/1000 [03:59<04:48,  1.74it/s]"
          ]
        },
        {
          "output_type": "stream",
          "name": "stdout",
          "text": [
            "Downloaded: gifs_temp/gif_119789.gif\n",
            "Deleted: gifs_temp/gif_119789.gif\n"
          ]
        },
        {
          "output_type": "stream",
          "name": "stderr",
          "text": [
            "\rProcessing GIFs:  50%|████▉     | 499/1000 [04:00<04:29,  1.86it/s]"
          ]
        },
        {
          "output_type": "stream",
          "name": "stdout",
          "text": [
            "Downloaded: gifs_temp/gif_77866.gif\n",
            "Deleted: gifs_temp/gif_77866.gif\n"
          ]
        },
        {
          "output_type": "stream",
          "name": "stderr",
          "text": [
            "\rProcessing GIFs:  50%|█████     | 500/1000 [04:00<03:58,  2.09it/s]"
          ]
        },
        {
          "output_type": "stream",
          "name": "stdout",
          "text": [
            "Downloaded: gifs_temp/gif_55768.gif\n",
            "Deleted: gifs_temp/gif_55768.gif\n"
          ]
        },
        {
          "output_type": "stream",
          "name": "stderr",
          "text": [
            "\rProcessing GIFs:  50%|█████     | 501/1000 [04:01<03:42,  2.24it/s]"
          ]
        },
        {
          "output_type": "stream",
          "name": "stdout",
          "text": [
            "Downloaded: gifs_temp/gif_8399.gif\n",
            "Deleted: gifs_temp/gif_8399.gif\n"
          ]
        },
        {
          "output_type": "stream",
          "name": "stderr",
          "text": [
            "\rProcessing GIFs:  50%|█████     | 502/1000 [04:01<03:35,  2.32it/s]"
          ]
        },
        {
          "output_type": "stream",
          "name": "stdout",
          "text": [
            "Downloaded: gifs_temp/gif_92282.gif\n",
            "Deleted: gifs_temp/gif_92282.gif\n"
          ]
        },
        {
          "output_type": "stream",
          "name": "stderr",
          "text": [
            "\rProcessing GIFs:  50%|█████     | 503/1000 [04:01<03:23,  2.44it/s]"
          ]
        },
        {
          "output_type": "stream",
          "name": "stdout",
          "text": [
            "Downloaded: gifs_temp/gif_64240.gif\n",
            "Deleted: gifs_temp/gif_64240.gif\n"
          ]
        },
        {
          "output_type": "stream",
          "name": "stderr",
          "text": [
            "\rProcessing GIFs:  50%|█████     | 504/1000 [04:02<04:01,  2.05it/s]"
          ]
        },
        {
          "output_type": "stream",
          "name": "stdout",
          "text": [
            "Downloaded: gifs_temp/gif_94527.gif\n",
            "Deleted: gifs_temp/gif_94527.gif\n"
          ]
        },
        {
          "output_type": "stream",
          "name": "stderr",
          "text": [
            "\rProcessing GIFs:  50%|█████     | 505/1000 [04:02<04:00,  2.06it/s]"
          ]
        },
        {
          "output_type": "stream",
          "name": "stdout",
          "text": [
            "Downloaded: gifs_temp/gif_114781.gif\n",
            "Deleted: gifs_temp/gif_114781.gif\n"
          ]
        },
        {
          "output_type": "stream",
          "name": "stderr",
          "text": [
            "\rProcessing GIFs:  51%|█████     | 506/1000 [04:03<03:43,  2.21it/s]"
          ]
        },
        {
          "output_type": "stream",
          "name": "stdout",
          "text": [
            "Downloaded: gifs_temp/gif_101614.gif\n",
            "Deleted: gifs_temp/gif_101614.gif\n"
          ]
        },
        {
          "output_type": "stream",
          "name": "stderr",
          "text": [
            "\rProcessing GIFs:  51%|█████     | 507/1000 [04:03<03:21,  2.45it/s]"
          ]
        },
        {
          "output_type": "stream",
          "name": "stdout",
          "text": [
            "Downloaded: gifs_temp/gif_16530.gif\n",
            "Deleted: gifs_temp/gif_16530.gif\n"
          ]
        },
        {
          "output_type": "stream",
          "name": "stderr",
          "text": [
            "\rProcessing GIFs:  51%|█████     | 508/1000 [04:04<03:20,  2.46it/s]"
          ]
        },
        {
          "output_type": "stream",
          "name": "stdout",
          "text": [
            "Downloaded: gifs_temp/gif_112400.gif\n",
            "Deleted: gifs_temp/gif_112400.gif\n"
          ]
        },
        {
          "output_type": "stream",
          "name": "stderr",
          "text": [
            "\rProcessing GIFs:  51%|█████     | 509/1000 [04:04<03:17,  2.49it/s]"
          ]
        },
        {
          "output_type": "stream",
          "name": "stdout",
          "text": [
            "Downloaded: gifs_temp/gif_96119.gif\n",
            "Deleted: gifs_temp/gif_96119.gif\n"
          ]
        },
        {
          "output_type": "stream",
          "name": "stderr",
          "text": [
            "\rProcessing GIFs:  51%|█████     | 510/1000 [04:04<02:57,  2.75it/s]"
          ]
        },
        {
          "output_type": "stream",
          "name": "stdout",
          "text": [
            "Downloaded: gifs_temp/gif_95612.gif\n",
            "Deleted: gifs_temp/gif_95612.gif\n"
          ]
        },
        {
          "output_type": "stream",
          "name": "stderr",
          "text": [
            "\rProcessing GIFs:  51%|█████     | 511/1000 [04:05<03:09,  2.58it/s]"
          ]
        },
        {
          "output_type": "stream",
          "name": "stdout",
          "text": [
            "Downloaded: gifs_temp/gif_79821.gif\n",
            "Deleted: gifs_temp/gif_79821.gif\n"
          ]
        },
        {
          "output_type": "stream",
          "name": "stderr",
          "text": [
            "\rProcessing GIFs:  51%|█████     | 512/1000 [04:05<03:32,  2.30it/s]"
          ]
        },
        {
          "output_type": "stream",
          "name": "stdout",
          "text": [
            "Downloaded: gifs_temp/gif_75905.gif\n",
            "Deleted: gifs_temp/gif_75905.gif\n"
          ]
        },
        {
          "output_type": "stream",
          "name": "stderr",
          "text": [
            "\rProcessing GIFs:  51%|█████▏    | 513/1000 [04:06<03:31,  2.30it/s]"
          ]
        },
        {
          "output_type": "stream",
          "name": "stdout",
          "text": [
            "Downloaded: gifs_temp/gif_15265.gif\n",
            "Deleted: gifs_temp/gif_15265.gif\n"
          ]
        },
        {
          "output_type": "stream",
          "name": "stderr",
          "text": [
            "\rProcessing GIFs:  51%|█████▏    | 514/1000 [04:06<03:45,  2.15it/s]"
          ]
        },
        {
          "output_type": "stream",
          "name": "stdout",
          "text": [
            "Downloaded: gifs_temp/gif_34205.gif\n",
            "Deleted: gifs_temp/gif_34205.gif\n"
          ]
        },
        {
          "output_type": "stream",
          "name": "stderr",
          "text": [
            "\rProcessing GIFs:  52%|█████▏    | 515/1000 [04:07<03:33,  2.27it/s]"
          ]
        },
        {
          "output_type": "stream",
          "name": "stdout",
          "text": [
            "Downloaded: gifs_temp/gif_26373.gif\n",
            "Deleted: gifs_temp/gif_26373.gif\n"
          ]
        },
        {
          "output_type": "stream",
          "name": "stderr",
          "text": [
            "\rProcessing GIFs:  52%|█████▏    | 516/1000 [04:07<04:03,  1.99it/s]"
          ]
        },
        {
          "output_type": "stream",
          "name": "stdout",
          "text": [
            "Downloaded: gifs_temp/gif_114070.gif\n",
            "Deleted: gifs_temp/gif_114070.gif\n"
          ]
        },
        {
          "output_type": "stream",
          "name": "stderr",
          "text": [
            "\rProcessing GIFs:  52%|█████▏    | 517/1000 [04:08<03:49,  2.10it/s]"
          ]
        },
        {
          "output_type": "stream",
          "name": "stdout",
          "text": [
            "Downloaded: gifs_temp/gif_25639.gif\n",
            "Deleted: gifs_temp/gif_25639.gif\n"
          ]
        },
        {
          "output_type": "stream",
          "name": "stderr",
          "text": [
            "\rProcessing GIFs:  52%|█████▏    | 518/1000 [04:08<03:47,  2.12it/s]"
          ]
        },
        {
          "output_type": "stream",
          "name": "stdout",
          "text": [
            "Downloaded: gifs_temp/gif_45705.gif\n",
            "Deleted: gifs_temp/gif_45705.gif\n"
          ]
        },
        {
          "output_type": "stream",
          "name": "stderr",
          "text": [
            "\rProcessing GIFs:  52%|█████▏    | 519/1000 [04:08<03:31,  2.27it/s]"
          ]
        },
        {
          "output_type": "stream",
          "name": "stdout",
          "text": [
            "Downloaded: gifs_temp/gif_24460.gif\n",
            "Deleted: gifs_temp/gif_24460.gif\n"
          ]
        },
        {
          "output_type": "stream",
          "name": "stderr",
          "text": [
            "\rProcessing GIFs:  52%|█████▏    | 520/1000 [04:09<03:12,  2.49it/s]"
          ]
        },
        {
          "output_type": "stream",
          "name": "stdout",
          "text": [
            "Downloaded: gifs_temp/gif_88342.gif\n",
            "Deleted: gifs_temp/gif_88342.gif\n"
          ]
        },
        {
          "output_type": "stream",
          "name": "stderr",
          "text": [
            "\rProcessing GIFs:  52%|█████▏    | 521/1000 [04:09<03:01,  2.64it/s]"
          ]
        },
        {
          "output_type": "stream",
          "name": "stdout",
          "text": [
            "Downloaded: gifs_temp/gif_745.gif\n",
            "Deleted: gifs_temp/gif_745.gif\n"
          ]
        },
        {
          "output_type": "stream",
          "name": "stderr",
          "text": [
            "\rProcessing GIFs:  52%|█████▏    | 522/1000 [04:10<03:06,  2.57it/s]"
          ]
        },
        {
          "output_type": "stream",
          "name": "stdout",
          "text": [
            "Downloaded: gifs_temp/gif_38004.gif\n",
            "Deleted: gifs_temp/gif_38004.gif\n"
          ]
        },
        {
          "output_type": "stream",
          "name": "stderr",
          "text": [
            "\rProcessing GIFs:  52%|█████▏    | 523/1000 [04:10<03:30,  2.26it/s]"
          ]
        },
        {
          "output_type": "stream",
          "name": "stdout",
          "text": [
            "Downloaded: gifs_temp/gif_39037.gif\n",
            "Deleted: gifs_temp/gif_39037.gif\n",
            "Downloaded: gifs_temp/gif_19012.gif\n"
          ]
        },
        {
          "output_type": "stream",
          "name": "stderr",
          "text": [
            "\rProcessing GIFs:  52%|█████▏    | 524/1000 [04:11<04:02,  1.96it/s]"
          ]
        },
        {
          "output_type": "stream",
          "name": "stdout",
          "text": [
            "Deleted: gifs_temp/gif_19012.gif\n"
          ]
        },
        {
          "output_type": "stream",
          "name": "stderr",
          "text": [
            "\rProcessing GIFs:  52%|█████▎    | 525/1000 [04:11<03:50,  2.06it/s]"
          ]
        },
        {
          "output_type": "stream",
          "name": "stdout",
          "text": [
            "Downloaded: gifs_temp/gif_121586.gif\n",
            "Deleted: gifs_temp/gif_121586.gif\n"
          ]
        },
        {
          "output_type": "stream",
          "name": "stderr",
          "text": [
            "\rProcessing GIFs:  53%|█████▎    | 526/1000 [04:12<03:34,  2.21it/s]"
          ]
        },
        {
          "output_type": "stream",
          "name": "stdout",
          "text": [
            "Downloaded: gifs_temp/gif_85705.gif\n",
            "Deleted: gifs_temp/gif_85705.gif\n"
          ]
        },
        {
          "output_type": "stream",
          "name": "stderr",
          "text": [
            "\rProcessing GIFs:  53%|█████▎    | 527/1000 [04:12<03:53,  2.03it/s]"
          ]
        },
        {
          "output_type": "stream",
          "name": "stdout",
          "text": [
            "Downloaded: gifs_temp/gif_36457.gif\n",
            "Deleted: gifs_temp/gif_36457.gif\n"
          ]
        },
        {
          "output_type": "stream",
          "name": "stderr",
          "text": [
            "\rProcessing GIFs:  53%|█████▎    | 528/1000 [04:13<03:51,  2.04it/s]"
          ]
        },
        {
          "output_type": "stream",
          "name": "stdout",
          "text": [
            "Downloaded: gifs_temp/gif_123681.gif\n",
            "Deleted: gifs_temp/gif_123681.gif\n"
          ]
        },
        {
          "output_type": "stream",
          "name": "stderr",
          "text": [
            "\rProcessing GIFs:  53%|█████▎    | 529/1000 [04:13<04:42,  1.67it/s]"
          ]
        },
        {
          "output_type": "stream",
          "name": "stdout",
          "text": [
            "Downloaded: gifs_temp/gif_52434.gif\n",
            "Deleted: gifs_temp/gif_52434.gif\n"
          ]
        },
        {
          "output_type": "stream",
          "name": "stderr",
          "text": [
            "\rProcessing GIFs:  53%|█████▎    | 530/1000 [04:14<04:18,  1.82it/s]"
          ]
        },
        {
          "output_type": "stream",
          "name": "stdout",
          "text": [
            "Downloaded: gifs_temp/gif_106043.gif\n",
            "Deleted: gifs_temp/gif_106043.gif\n"
          ]
        },
        {
          "output_type": "stream",
          "name": "stderr",
          "text": [
            "\rProcessing GIFs:  53%|█████▎    | 531/1000 [04:14<04:04,  1.91it/s]"
          ]
        },
        {
          "output_type": "stream",
          "name": "stdout",
          "text": [
            "Downloaded: gifs_temp/gif_51147.gif\n",
            "Deleted: gifs_temp/gif_51147.gif\n"
          ]
        },
        {
          "output_type": "stream",
          "name": "stderr",
          "text": [
            "\rProcessing GIFs:  53%|█████▎    | 532/1000 [04:15<03:52,  2.01it/s]"
          ]
        },
        {
          "output_type": "stream",
          "name": "stdout",
          "text": [
            "Downloaded: gifs_temp/gif_65588.gif\n",
            "Deleted: gifs_temp/gif_65588.gif\n"
          ]
        },
        {
          "output_type": "stream",
          "name": "stderr",
          "text": [
            "\rProcessing GIFs:  53%|█████▎    | 533/1000 [04:15<03:42,  2.10it/s]"
          ]
        },
        {
          "output_type": "stream",
          "name": "stdout",
          "text": [
            "Downloaded: gifs_temp/gif_54936.gif\n",
            "Deleted: gifs_temp/gif_54936.gif\n"
          ]
        },
        {
          "output_type": "stream",
          "name": "stderr",
          "text": [
            "\rProcessing GIFs:  53%|█████▎    | 534/1000 [04:16<03:27,  2.24it/s]"
          ]
        },
        {
          "output_type": "stream",
          "name": "stdout",
          "text": [
            "Downloaded: gifs_temp/gif_25561.gif\n",
            "Deleted: gifs_temp/gif_25561.gif\n"
          ]
        },
        {
          "output_type": "stream",
          "name": "stderr",
          "text": [
            "\rProcessing GIFs:  54%|█████▎    | 535/1000 [04:16<03:15,  2.38it/s]"
          ]
        },
        {
          "output_type": "stream",
          "name": "stdout",
          "text": [
            "Downloaded: gifs_temp/gif_42165.gif\n",
            "Deleted: gifs_temp/gif_42165.gif\n"
          ]
        },
        {
          "output_type": "stream",
          "name": "stderr",
          "text": [
            "\rProcessing GIFs:  54%|█████▎    | 536/1000 [04:16<03:16,  2.36it/s]"
          ]
        },
        {
          "output_type": "stream",
          "name": "stdout",
          "text": [
            "Downloaded: gifs_temp/gif_111520.gif\n",
            "Deleted: gifs_temp/gif_111520.gif\n"
          ]
        },
        {
          "output_type": "stream",
          "name": "stderr",
          "text": [
            "\rProcessing GIFs:  54%|█████▎    | 537/1000 [04:17<03:14,  2.38it/s]"
          ]
        },
        {
          "output_type": "stream",
          "name": "stdout",
          "text": [
            "Downloaded: gifs_temp/gif_107594.gif\n",
            "Deleted: gifs_temp/gif_107594.gif\n"
          ]
        },
        {
          "output_type": "stream",
          "name": "stderr",
          "text": [
            "\rProcessing GIFs:  54%|█████▍    | 538/1000 [04:17<03:14,  2.37it/s]"
          ]
        },
        {
          "output_type": "stream",
          "name": "stdout",
          "text": [
            "Downloaded: gifs_temp/gif_62401.gif\n",
            "Deleted: gifs_temp/gif_62401.gif\n"
          ]
        },
        {
          "output_type": "stream",
          "name": "stderr",
          "text": [
            "\rProcessing GIFs:  54%|█████▍    | 539/1000 [04:18<03:22,  2.28it/s]"
          ]
        },
        {
          "output_type": "stream",
          "name": "stdout",
          "text": [
            "Downloaded: gifs_temp/gif_16291.gif\n",
            "Deleted: gifs_temp/gif_16291.gif\n"
          ]
        },
        {
          "output_type": "stream",
          "name": "stderr",
          "text": [
            "\rProcessing GIFs:  54%|█████▍    | 540/1000 [04:18<03:22,  2.27it/s]"
          ]
        },
        {
          "output_type": "stream",
          "name": "stdout",
          "text": [
            "Downloaded: gifs_temp/gif_110037.gif\n",
            "Deleted: gifs_temp/gif_110037.gif\n"
          ]
        },
        {
          "output_type": "stream",
          "name": "stderr",
          "text": [
            "\rProcessing GIFs:  54%|█████▍    | 541/1000 [04:19<03:14,  2.36it/s]"
          ]
        },
        {
          "output_type": "stream",
          "name": "stdout",
          "text": [
            "Downloaded: gifs_temp/gif_117812.gif\n",
            "Deleted: gifs_temp/gif_117812.gif\n"
          ]
        },
        {
          "output_type": "stream",
          "name": "stderr",
          "text": [
            "\rProcessing GIFs:  54%|█████▍    | 542/1000 [04:19<03:11,  2.39it/s]"
          ]
        },
        {
          "output_type": "stream",
          "name": "stdout",
          "text": [
            "Downloaded: gifs_temp/gif_80356.gif\n",
            "Deleted: gifs_temp/gif_80356.gif\n"
          ]
        },
        {
          "output_type": "stream",
          "name": "stderr",
          "text": [
            "\rProcessing GIFs:  54%|█████▍    | 543/1000 [04:19<03:08,  2.42it/s]"
          ]
        },
        {
          "output_type": "stream",
          "name": "stdout",
          "text": [
            "Downloaded: gifs_temp/gif_59292.gif\n",
            "Deleted: gifs_temp/gif_59292.gif\n"
          ]
        },
        {
          "output_type": "stream",
          "name": "stderr",
          "text": [
            "\rProcessing GIFs:  54%|█████▍    | 544/1000 [04:20<03:01,  2.51it/s]"
          ]
        },
        {
          "output_type": "stream",
          "name": "stdout",
          "text": [
            "Downloaded: gifs_temp/gif_121157.gif\n",
            "Deleted: gifs_temp/gif_121157.gif\n"
          ]
        },
        {
          "output_type": "stream",
          "name": "stderr",
          "text": [
            "\rProcessing GIFs:  55%|█████▍    | 545/1000 [04:20<03:02,  2.50it/s]"
          ]
        },
        {
          "output_type": "stream",
          "name": "stdout",
          "text": [
            "Downloaded: gifs_temp/gif_69214.gif\n",
            "Deleted: gifs_temp/gif_69214.gif\n"
          ]
        },
        {
          "output_type": "stream",
          "name": "stderr",
          "text": [
            "\rProcessing GIFs:  55%|█████▍    | 546/1000 [04:21<03:09,  2.39it/s]"
          ]
        },
        {
          "output_type": "stream",
          "name": "stdout",
          "text": [
            "Downloaded: gifs_temp/gif_59641.gif\n",
            "Deleted: gifs_temp/gif_59641.gif\n"
          ]
        },
        {
          "output_type": "stream",
          "name": "stderr",
          "text": [
            "\rProcessing GIFs:  55%|█████▍    | 547/1000 [04:21<03:15,  2.31it/s]"
          ]
        },
        {
          "output_type": "stream",
          "name": "stdout",
          "text": [
            "Downloaded: gifs_temp/gif_117955.gif\n",
            "Deleted: gifs_temp/gif_117955.gif\n"
          ]
        },
        {
          "output_type": "stream",
          "name": "stderr",
          "text": [
            "\rProcessing GIFs:  55%|█████▍    | 548/1000 [04:22<04:24,  1.71it/s]"
          ]
        },
        {
          "output_type": "stream",
          "name": "stdout",
          "text": [
            "Downloaded: gifs_temp/gif_51095.gif\n",
            "Deleted: gifs_temp/gif_51095.gif\n"
          ]
        },
        {
          "output_type": "stream",
          "name": "stderr",
          "text": [
            "\rProcessing GIFs:  55%|█████▍    | 549/1000 [04:23<04:28,  1.68it/s]"
          ]
        },
        {
          "output_type": "stream",
          "name": "stdout",
          "text": [
            "Downloaded: gifs_temp/gif_4213.gif\n",
            "Deleted: gifs_temp/gif_4213.gif\n"
          ]
        },
        {
          "output_type": "stream",
          "name": "stderr",
          "text": [
            "\rProcessing GIFs:  55%|█████▌    | 550/1000 [04:23<04:07,  1.82it/s]"
          ]
        },
        {
          "output_type": "stream",
          "name": "stdout",
          "text": [
            "Downloaded: gifs_temp/gif_65319.gif\n",
            "Deleted: gifs_temp/gif_65319.gif\n"
          ]
        },
        {
          "output_type": "stream",
          "name": "stderr",
          "text": [
            "\rProcessing GIFs:  55%|█████▌    | 551/1000 [04:23<03:45,  1.99it/s]"
          ]
        },
        {
          "output_type": "stream",
          "name": "stdout",
          "text": [
            "Downloaded: gifs_temp/gif_31111.gif\n",
            "Deleted: gifs_temp/gif_31111.gif\n"
          ]
        },
        {
          "output_type": "stream",
          "name": "stderr",
          "text": [
            "\rProcessing GIFs:  55%|█████▌    | 552/1000 [04:24<03:20,  2.24it/s]"
          ]
        },
        {
          "output_type": "stream",
          "name": "stdout",
          "text": [
            "Downloaded: gifs_temp/gif_36716.gif\n",
            "Deleted: gifs_temp/gif_36716.gif\n"
          ]
        },
        {
          "output_type": "stream",
          "name": "stderr",
          "text": [
            "\rProcessing GIFs:  55%|█████▌    | 553/1000 [04:24<03:09,  2.36it/s]"
          ]
        },
        {
          "output_type": "stream",
          "name": "stdout",
          "text": [
            "Downloaded: gifs_temp/gif_104876.gif\n",
            "Deleted: gifs_temp/gif_104876.gif\n"
          ]
        },
        {
          "output_type": "stream",
          "name": "stderr",
          "text": [
            "\rProcessing GIFs:  55%|█████▌    | 554/1000 [04:25<03:02,  2.45it/s]"
          ]
        },
        {
          "output_type": "stream",
          "name": "stdout",
          "text": [
            "Downloaded: gifs_temp/gif_25530.gif\n",
            "Deleted: gifs_temp/gif_25530.gif\n"
          ]
        },
        {
          "output_type": "stream",
          "name": "stderr",
          "text": [
            "\rProcessing GIFs:  56%|█████▌    | 555/1000 [04:25<03:16,  2.26it/s]"
          ]
        },
        {
          "output_type": "stream",
          "name": "stdout",
          "text": [
            "Downloaded: gifs_temp/gif_34001.gif\n",
            "Deleted: gifs_temp/gif_34001.gif\n"
          ]
        },
        {
          "output_type": "stream",
          "name": "stderr",
          "text": [
            "\rProcessing GIFs:  56%|█████▌    | 556/1000 [04:25<03:06,  2.39it/s]"
          ]
        },
        {
          "output_type": "stream",
          "name": "stdout",
          "text": [
            "Downloaded: gifs_temp/gif_116932.gif\n",
            "Deleted: gifs_temp/gif_116932.gif\n"
          ]
        },
        {
          "output_type": "stream",
          "name": "stderr",
          "text": [
            "\rProcessing GIFs:  56%|█████▌    | 557/1000 [04:26<02:59,  2.47it/s]"
          ]
        },
        {
          "output_type": "stream",
          "name": "stdout",
          "text": [
            "Downloaded: gifs_temp/gif_103342.gif\n",
            "Deleted: gifs_temp/gif_103342.gif\n"
          ]
        },
        {
          "output_type": "stream",
          "name": "stderr",
          "text": [
            "\rProcessing GIFs:  56%|█████▌    | 558/1000 [04:27<03:45,  1.96it/s]"
          ]
        },
        {
          "output_type": "stream",
          "name": "stdout",
          "text": [
            "Downloaded: gifs_temp/gif_81962.gif\n",
            "Deleted: gifs_temp/gif_81962.gif\n"
          ]
        },
        {
          "output_type": "stream",
          "name": "stderr",
          "text": [
            "\rProcessing GIFs:  56%|█████▌    | 559/1000 [04:27<03:24,  2.16it/s]"
          ]
        },
        {
          "output_type": "stream",
          "name": "stdout",
          "text": [
            "Downloaded: gifs_temp/gif_38615.gif\n",
            "Deleted: gifs_temp/gif_38615.gif\n"
          ]
        },
        {
          "output_type": "stream",
          "name": "stderr",
          "text": [
            "\rProcessing GIFs:  56%|█████▌    | 560/1000 [04:27<03:37,  2.02it/s]"
          ]
        },
        {
          "output_type": "stream",
          "name": "stdout",
          "text": [
            "Downloaded: gifs_temp/gif_110375.gif\n",
            "Deleted: gifs_temp/gif_110375.gif\n"
          ]
        },
        {
          "output_type": "stream",
          "name": "stderr",
          "text": [
            "\rProcessing GIFs:  56%|█████▌    | 561/1000 [04:28<03:24,  2.14it/s]"
          ]
        },
        {
          "output_type": "stream",
          "name": "stdout",
          "text": [
            "Downloaded: gifs_temp/gif_52028.gif\n",
            "Deleted: gifs_temp/gif_52028.gif\n"
          ]
        },
        {
          "output_type": "stream",
          "name": "stderr",
          "text": [
            "\rProcessing GIFs:  56%|█████▌    | 562/1000 [04:28<03:10,  2.30it/s]"
          ]
        },
        {
          "output_type": "stream",
          "name": "stdout",
          "text": [
            "Downloaded: gifs_temp/gif_354.gif\n",
            "Deleted: gifs_temp/gif_354.gif\n"
          ]
        },
        {
          "output_type": "stream",
          "name": "stderr",
          "text": [
            "\rProcessing GIFs:  56%|█████▋    | 563/1000 [04:29<03:18,  2.20it/s]"
          ]
        },
        {
          "output_type": "stream",
          "name": "stdout",
          "text": [
            "Downloaded: gifs_temp/gif_50244.gif\n",
            "Deleted: gifs_temp/gif_50244.gif\n"
          ]
        },
        {
          "output_type": "stream",
          "name": "stderr",
          "text": [
            "\rProcessing GIFs:  56%|█████▋    | 564/1000 [04:29<03:01,  2.40it/s]"
          ]
        },
        {
          "output_type": "stream",
          "name": "stdout",
          "text": [
            "Downloaded: gifs_temp/gif_99634.gif\n",
            "Deleted: gifs_temp/gif_99634.gif\n"
          ]
        },
        {
          "output_type": "stream",
          "name": "stderr",
          "text": [
            "\rProcessing GIFs:  56%|█████▋    | 565/1000 [04:30<03:07,  2.32it/s]"
          ]
        },
        {
          "output_type": "stream",
          "name": "stdout",
          "text": [
            "Downloaded: gifs_temp/gif_102140.gif\n",
            "Deleted: gifs_temp/gif_102140.gif\n"
          ]
        },
        {
          "output_type": "stream",
          "name": "stderr",
          "text": [
            "\rProcessing GIFs:  57%|█████▋    | 566/1000 [04:30<03:15,  2.22it/s]"
          ]
        },
        {
          "output_type": "stream",
          "name": "stdout",
          "text": [
            "Downloaded: gifs_temp/gif_19220.gif\n",
            "Deleted: gifs_temp/gif_19220.gif\n"
          ]
        },
        {
          "output_type": "stream",
          "name": "stderr",
          "text": [
            "\rProcessing GIFs:  57%|█████▋    | 567/1000 [04:31<03:33,  2.03it/s]"
          ]
        },
        {
          "output_type": "stream",
          "name": "stdout",
          "text": [
            "Downloaded: gifs_temp/gif_63099.gif\n",
            "Deleted: gifs_temp/gif_63099.gif\n"
          ]
        },
        {
          "output_type": "stream",
          "name": "stderr",
          "text": [
            "\rProcessing GIFs:  57%|█████▋    | 568/1000 [04:31<03:42,  1.94it/s]"
          ]
        },
        {
          "output_type": "stream",
          "name": "stdout",
          "text": [
            "Downloaded: gifs_temp/gif_104175.gif\n",
            "Deleted: gifs_temp/gif_104175.gif\n"
          ]
        },
        {
          "output_type": "stream",
          "name": "stderr",
          "text": [
            "\rProcessing GIFs:  57%|█████▋    | 569/1000 [04:32<03:29,  2.06it/s]"
          ]
        },
        {
          "output_type": "stream",
          "name": "stdout",
          "text": [
            "Downloaded: gifs_temp/gif_92062.gif\n",
            "Deleted: gifs_temp/gif_92062.gif\n"
          ]
        },
        {
          "output_type": "stream",
          "name": "stderr",
          "text": [
            "\rProcessing GIFs:  57%|█████▋    | 570/1000 [04:32<03:07,  2.30it/s]"
          ]
        },
        {
          "output_type": "stream",
          "name": "stdout",
          "text": [
            "Downloaded: gifs_temp/gif_62807.gif\n",
            "Deleted: gifs_temp/gif_62807.gif\n"
          ]
        },
        {
          "output_type": "stream",
          "name": "stderr",
          "text": [
            "\rProcessing GIFs:  57%|█████▋    | 571/1000 [04:32<03:07,  2.29it/s]"
          ]
        },
        {
          "output_type": "stream",
          "name": "stdout",
          "text": [
            "Downloaded: gifs_temp/gif_82103.gif\n",
            "Deleted: gifs_temp/gif_82103.gif\n"
          ]
        },
        {
          "output_type": "stream",
          "name": "stderr",
          "text": [
            "\rProcessing GIFs:  57%|█████▋    | 572/1000 [04:33<02:59,  2.38it/s]"
          ]
        },
        {
          "output_type": "stream",
          "name": "stdout",
          "text": [
            "Downloaded: gifs_temp/gif_73930.gif\n",
            "Deleted: gifs_temp/gif_73930.gif\n"
          ]
        },
        {
          "output_type": "stream",
          "name": "stderr",
          "text": [
            "\rProcessing GIFs:  57%|█████▋    | 573/1000 [04:33<02:56,  2.42it/s]"
          ]
        },
        {
          "output_type": "stream",
          "name": "stdout",
          "text": [
            "Downloaded: gifs_temp/gif_125357.gif\n",
            "Deleted: gifs_temp/gif_125357.gif\n"
          ]
        },
        {
          "output_type": "stream",
          "name": "stderr",
          "text": [
            "\rProcessing GIFs:  57%|█████▋    | 574/1000 [04:34<03:12,  2.21it/s]"
          ]
        },
        {
          "output_type": "stream",
          "name": "stdout",
          "text": [
            "Downloaded: gifs_temp/gif_81145.gif\n",
            "Deleted: gifs_temp/gif_81145.gif\n"
          ]
        },
        {
          "output_type": "stream",
          "name": "stderr",
          "text": [
            "\rProcessing GIFs:  57%|█████▊    | 575/1000 [04:34<03:07,  2.27it/s]"
          ]
        },
        {
          "output_type": "stream",
          "name": "stdout",
          "text": [
            "Downloaded: gifs_temp/gif_31358.gif\n",
            "Deleted: gifs_temp/gif_31358.gif\n"
          ]
        },
        {
          "output_type": "stream",
          "name": "stderr",
          "text": [
            "\rProcessing GIFs:  58%|█████▊    | 576/1000 [04:34<02:51,  2.47it/s]"
          ]
        },
        {
          "output_type": "stream",
          "name": "stdout",
          "text": [
            "Downloaded: gifs_temp/gif_38397.gif\n",
            "Deleted: gifs_temp/gif_38397.gif\n"
          ]
        },
        {
          "output_type": "stream",
          "name": "stderr",
          "text": [
            "\rProcessing GIFs:  58%|█████▊    | 577/1000 [04:35<03:00,  2.34it/s]"
          ]
        },
        {
          "output_type": "stream",
          "name": "stdout",
          "text": [
            "Downloaded: gifs_temp/gif_81956.gif\n",
            "Deleted: gifs_temp/gif_81956.gif\n"
          ]
        },
        {
          "output_type": "stream",
          "name": "stderr",
          "text": [
            "\rProcessing GIFs:  58%|█████▊    | 578/1000 [04:35<02:56,  2.39it/s]"
          ]
        },
        {
          "output_type": "stream",
          "name": "stdout",
          "text": [
            "Downloaded: gifs_temp/gif_34981.gif\n",
            "Deleted: gifs_temp/gif_34981.gif\n"
          ]
        },
        {
          "output_type": "stream",
          "name": "stderr",
          "text": [
            "\rProcessing GIFs:  58%|█████▊    | 579/1000 [04:36<02:55,  2.40it/s]"
          ]
        },
        {
          "output_type": "stream",
          "name": "stdout",
          "text": [
            "Downloaded: gifs_temp/gif_105498.gif\n",
            "Deleted: gifs_temp/gif_105498.gif\n"
          ]
        },
        {
          "output_type": "stream",
          "name": "stderr",
          "text": [
            "\rProcessing GIFs:  58%|█████▊    | 580/1000 [04:36<02:51,  2.44it/s]"
          ]
        },
        {
          "output_type": "stream",
          "name": "stdout",
          "text": [
            "Downloaded: gifs_temp/gif_71248.gif\n",
            "Deleted: gifs_temp/gif_71248.gif\n"
          ]
        },
        {
          "output_type": "stream",
          "name": "stderr",
          "text": [
            "\rProcessing GIFs:  58%|█████▊    | 581/1000 [04:36<02:45,  2.54it/s]"
          ]
        },
        {
          "output_type": "stream",
          "name": "stdout",
          "text": [
            "Downloaded: gifs_temp/gif_85097.gif\n",
            "Deleted: gifs_temp/gif_85097.gif\n"
          ]
        },
        {
          "output_type": "stream",
          "name": "stderr",
          "text": [
            "\rProcessing GIFs:  58%|█████▊    | 582/1000 [04:37<02:48,  2.48it/s]"
          ]
        },
        {
          "output_type": "stream",
          "name": "stdout",
          "text": [
            "Downloaded: gifs_temp/gif_55935.gif\n",
            "Deleted: gifs_temp/gif_55935.gif\n"
          ]
        },
        {
          "output_type": "stream",
          "name": "stderr",
          "text": [
            "\rProcessing GIFs:  58%|█████▊    | 583/1000 [04:37<02:47,  2.49it/s]"
          ]
        },
        {
          "output_type": "stream",
          "name": "stdout",
          "text": [
            "Downloaded: gifs_temp/gif_93330.gif\n",
            "Deleted: gifs_temp/gif_93330.gif\n"
          ]
        },
        {
          "output_type": "stream",
          "name": "stderr",
          "text": [
            "\rProcessing GIFs:  58%|█████▊    | 584/1000 [04:38<02:53,  2.40it/s]"
          ]
        },
        {
          "output_type": "stream",
          "name": "stdout",
          "text": [
            "Downloaded: gifs_temp/gif_83015.gif\n",
            "Deleted: gifs_temp/gif_83015.gif\n"
          ]
        },
        {
          "output_type": "stream",
          "name": "stderr",
          "text": [
            "\rProcessing GIFs:  58%|█████▊    | 585/1000 [04:38<02:49,  2.46it/s]"
          ]
        },
        {
          "output_type": "stream",
          "name": "stdout",
          "text": [
            "Downloaded: gifs_temp/gif_113863.gif\n",
            "Deleted: gifs_temp/gif_113863.gif\n"
          ]
        },
        {
          "output_type": "stream",
          "name": "stderr",
          "text": [
            "\rProcessing GIFs:  59%|█████▊    | 586/1000 [04:38<02:42,  2.55it/s]"
          ]
        },
        {
          "output_type": "stream",
          "name": "stdout",
          "text": [
            "Downloaded: gifs_temp/gif_69139.gif\n",
            "Deleted: gifs_temp/gif_69139.gif\n"
          ]
        },
        {
          "output_type": "stream",
          "name": "stderr",
          "text": [
            "\rProcessing GIFs:  59%|█████▊    | 587/1000 [04:39<02:40,  2.57it/s]"
          ]
        },
        {
          "output_type": "stream",
          "name": "stdout",
          "text": [
            "Downloaded: gifs_temp/gif_22586.gif\n",
            "Deleted: gifs_temp/gif_22586.gif\n"
          ]
        },
        {
          "output_type": "stream",
          "name": "stderr",
          "text": [
            "\rProcessing GIFs:  59%|█████▉    | 588/1000 [04:39<02:44,  2.51it/s]"
          ]
        },
        {
          "output_type": "stream",
          "name": "stdout",
          "text": [
            "Downloaded: gifs_temp/gif_67020.gif\n",
            "Deleted: gifs_temp/gif_67020.gif\n"
          ]
        },
        {
          "output_type": "stream",
          "name": "stderr",
          "text": [
            "\rProcessing GIFs:  59%|█████▉    | 589/1000 [04:40<03:07,  2.19it/s]"
          ]
        },
        {
          "output_type": "stream",
          "name": "stdout",
          "text": [
            "Downloaded: gifs_temp/gif_67002.gif\n",
            "Deleted: gifs_temp/gif_67002.gif\n",
            "Downloaded: gifs_temp/gif_13872.gif\n"
          ]
        },
        {
          "output_type": "stream",
          "name": "stderr",
          "text": [
            "\rProcessing GIFs:  59%|█████▉    | 590/1000 [04:40<03:13,  2.12it/s]"
          ]
        },
        {
          "output_type": "stream",
          "name": "stdout",
          "text": [
            "Deleted: gifs_temp/gif_13872.gif\n"
          ]
        },
        {
          "output_type": "stream",
          "name": "stderr",
          "text": [
            "\rProcessing GIFs:  59%|█████▉    | 591/1000 [04:41<03:09,  2.16it/s]"
          ]
        },
        {
          "output_type": "stream",
          "name": "stdout",
          "text": [
            "Downloaded: gifs_temp/gif_78134.gif\n",
            "Deleted: gifs_temp/gif_78134.gif\n"
          ]
        },
        {
          "output_type": "stream",
          "name": "stderr",
          "text": [
            "\rProcessing GIFs:  59%|█████▉    | 592/1000 [04:41<03:30,  1.93it/s]"
          ]
        },
        {
          "output_type": "stream",
          "name": "stdout",
          "text": [
            "Downloaded: gifs_temp/gif_124237.gif\n",
            "Deleted: gifs_temp/gif_124237.gif\n"
          ]
        },
        {
          "output_type": "stream",
          "name": "stderr",
          "text": [
            "\rProcessing GIFs:  59%|█████▉    | 593/1000 [04:42<03:22,  2.01it/s]"
          ]
        },
        {
          "output_type": "stream",
          "name": "stdout",
          "text": [
            "Downloaded: gifs_temp/gif_38626.gif\n",
            "Deleted: gifs_temp/gif_38626.gif\n"
          ]
        },
        {
          "output_type": "stream",
          "name": "stderr",
          "text": [
            "\rProcessing GIFs:  59%|█████▉    | 594/1000 [04:42<03:14,  2.09it/s]"
          ]
        },
        {
          "output_type": "stream",
          "name": "stdout",
          "text": [
            "Downloaded: gifs_temp/gif_2136.gif\n",
            "Deleted: gifs_temp/gif_2136.gif\n"
          ]
        },
        {
          "output_type": "stream",
          "name": "stderr",
          "text": [
            "\rProcessing GIFs:  60%|█████▉    | 595/1000 [04:43<03:02,  2.22it/s]"
          ]
        },
        {
          "output_type": "stream",
          "name": "stdout",
          "text": [
            "Downloaded: gifs_temp/gif_123631.gif\n",
            "Deleted: gifs_temp/gif_123631.gif\n"
          ]
        },
        {
          "output_type": "stream",
          "name": "stderr",
          "text": [
            "\rProcessing GIFs:  60%|█████▉    | 596/1000 [04:43<03:04,  2.19it/s]"
          ]
        },
        {
          "output_type": "stream",
          "name": "stdout",
          "text": [
            "Downloaded: gifs_temp/gif_40761.gif\n",
            "Deleted: gifs_temp/gif_40761.gif\n"
          ]
        },
        {
          "output_type": "stream",
          "name": "stderr",
          "text": [
            "\rProcessing GIFs:  60%|█████▉    | 597/1000 [04:44<03:10,  2.11it/s]"
          ]
        },
        {
          "output_type": "stream",
          "name": "stdout",
          "text": [
            "Downloaded: gifs_temp/gif_96078.gif\n",
            "Deleted: gifs_temp/gif_96078.gif\n"
          ]
        },
        {
          "output_type": "stream",
          "name": "stderr",
          "text": [
            "\rProcessing GIFs:  60%|█████▉    | 598/1000 [04:44<03:10,  2.11it/s]"
          ]
        },
        {
          "output_type": "stream",
          "name": "stdout",
          "text": [
            "Downloaded: gifs_temp/gif_117822.gif\n",
            "Deleted: gifs_temp/gif_117822.gif\n"
          ]
        },
        {
          "output_type": "stream",
          "name": "stderr",
          "text": [
            "\rProcessing GIFs:  60%|█████▉    | 599/1000 [04:45<03:03,  2.19it/s]"
          ]
        },
        {
          "output_type": "stream",
          "name": "stdout",
          "text": [
            "Downloaded: gifs_temp/gif_48268.gif\n",
            "Deleted: gifs_temp/gif_48268.gif\n"
          ]
        },
        {
          "output_type": "stream",
          "name": "stderr",
          "text": [
            "\rProcessing GIFs:  60%|██████    | 600/1000 [04:45<02:58,  2.24it/s]"
          ]
        },
        {
          "output_type": "stream",
          "name": "stdout",
          "text": [
            "Downloaded: gifs_temp/gif_121946.gif\n",
            "Deleted: gifs_temp/gif_121946.gif\n"
          ]
        },
        {
          "output_type": "stream",
          "name": "stderr",
          "text": [
            "\rProcessing GIFs:  60%|██████    | 601/1000 [04:45<03:01,  2.20it/s]"
          ]
        },
        {
          "output_type": "stream",
          "name": "stdout",
          "text": [
            "Downloaded: gifs_temp/gif_94369.gif\n",
            "Deleted: gifs_temp/gif_94369.gif\n"
          ]
        },
        {
          "output_type": "stream",
          "name": "stderr",
          "text": [
            "\rProcessing GIFs:  60%|██████    | 602/1000 [04:46<02:52,  2.30it/s]"
          ]
        },
        {
          "output_type": "stream",
          "name": "stdout",
          "text": [
            "Downloaded: gifs_temp/gif_72218.gif\n",
            "Deleted: gifs_temp/gif_72218.gif\n"
          ]
        },
        {
          "output_type": "stream",
          "name": "stderr",
          "text": [
            "\rProcessing GIFs:  60%|██████    | 603/1000 [04:46<02:43,  2.43it/s]"
          ]
        },
        {
          "output_type": "stream",
          "name": "stdout",
          "text": [
            "Downloaded: gifs_temp/gif_63498.gif\n",
            "Deleted: gifs_temp/gif_63498.gif\n"
          ]
        },
        {
          "output_type": "stream",
          "name": "stderr",
          "text": [
            "\rProcessing GIFs:  60%|██████    | 604/1000 [04:47<02:39,  2.48it/s]"
          ]
        },
        {
          "output_type": "stream",
          "name": "stdout",
          "text": [
            "Downloaded: gifs_temp/gif_118385.gif\n",
            "Deleted: gifs_temp/gif_118385.gif\n"
          ]
        },
        {
          "output_type": "stream",
          "name": "stderr",
          "text": [
            "\rProcessing GIFs:  60%|██████    | 605/1000 [04:47<02:38,  2.50it/s]"
          ]
        },
        {
          "output_type": "stream",
          "name": "stdout",
          "text": [
            "Downloaded: gifs_temp/gif_23888.gif\n",
            "Deleted: gifs_temp/gif_23888.gif\n"
          ]
        },
        {
          "output_type": "stream",
          "name": "stderr",
          "text": [
            "\rProcessing GIFs:  61%|██████    | 606/1000 [04:47<02:38,  2.49it/s]"
          ]
        },
        {
          "output_type": "stream",
          "name": "stdout",
          "text": [
            "Downloaded: gifs_temp/gif_98801.gif\n",
            "Deleted: gifs_temp/gif_98801.gif\n"
          ]
        },
        {
          "output_type": "stream",
          "name": "stderr",
          "text": [
            "\rProcessing GIFs:  61%|██████    | 607/1000 [04:48<03:41,  1.77it/s]"
          ]
        },
        {
          "output_type": "stream",
          "name": "stdout",
          "text": [
            "Downloaded: gifs_temp/gif_78810.gif\n",
            "Deleted: gifs_temp/gif_78810.gif\n"
          ]
        },
        {
          "output_type": "stream",
          "name": "stderr",
          "text": [
            "\rProcessing GIFs:  61%|██████    | 608/1000 [04:49<03:36,  1.81it/s]"
          ]
        },
        {
          "output_type": "stream",
          "name": "stdout",
          "text": [
            "Downloaded: gifs_temp/gif_108985.gif\n",
            "Deleted: gifs_temp/gif_108985.gif\n"
          ]
        },
        {
          "output_type": "stream",
          "name": "stderr",
          "text": [
            "\rProcessing GIFs:  61%|██████    | 609/1000 [04:49<03:14,  2.01it/s]"
          ]
        },
        {
          "output_type": "stream",
          "name": "stdout",
          "text": [
            "Downloaded: gifs_temp/gif_15195.gif\n",
            "Deleted: gifs_temp/gif_15195.gif\n"
          ]
        },
        {
          "output_type": "stream",
          "name": "stderr",
          "text": [
            "\rProcessing GIFs:  61%|██████    | 610/1000 [04:50<03:02,  2.13it/s]"
          ]
        },
        {
          "output_type": "stream",
          "name": "stdout",
          "text": [
            "Downloaded: gifs_temp/gif_118181.gif\n",
            "Deleted: gifs_temp/gif_118181.gif\n"
          ]
        },
        {
          "output_type": "stream",
          "name": "stderr",
          "text": [
            "\rProcessing GIFs:  61%|██████    | 611/1000 [04:50<02:58,  2.18it/s]"
          ]
        },
        {
          "output_type": "stream",
          "name": "stdout",
          "text": [
            "Downloaded: gifs_temp/gif_51820.gif\n",
            "Deleted: gifs_temp/gif_51820.gif\n"
          ]
        },
        {
          "output_type": "stream",
          "name": "stderr",
          "text": [
            "\rProcessing GIFs:  61%|██████    | 612/1000 [04:50<02:51,  2.26it/s]"
          ]
        },
        {
          "output_type": "stream",
          "name": "stdout",
          "text": [
            "Downloaded: gifs_temp/gif_72974.gif\n",
            "Deleted: gifs_temp/gif_72974.gif\n"
          ]
        },
        {
          "output_type": "stream",
          "name": "stderr",
          "text": [
            "\rProcessing GIFs:  61%|██████▏   | 613/1000 [04:51<02:48,  2.30it/s]"
          ]
        },
        {
          "output_type": "stream",
          "name": "stdout",
          "text": [
            "Downloaded: gifs_temp/gif_78075.gif\n",
            "Deleted: gifs_temp/gif_78075.gif\n"
          ]
        },
        {
          "output_type": "stream",
          "name": "stderr",
          "text": [
            "\rProcessing GIFs:  61%|██████▏   | 614/1000 [04:52<03:16,  1.96it/s]"
          ]
        },
        {
          "output_type": "stream",
          "name": "stdout",
          "text": [
            "Downloaded: gifs_temp/gif_6419.gif\n",
            "Deleted: gifs_temp/gif_6419.gif\n"
          ]
        },
        {
          "output_type": "stream",
          "name": "stderr",
          "text": [
            "\rProcessing GIFs:  62%|██████▏   | 615/1000 [04:52<03:32,  1.81it/s]"
          ]
        },
        {
          "output_type": "stream",
          "name": "stdout",
          "text": [
            "Downloaded: gifs_temp/gif_21682.gif\n",
            "Deleted: gifs_temp/gif_21682.gif\n"
          ]
        },
        {
          "output_type": "stream",
          "name": "stderr",
          "text": [
            "\rProcessing GIFs:  62%|██████▏   | 616/1000 [04:53<03:44,  1.71it/s]"
          ]
        },
        {
          "output_type": "stream",
          "name": "stdout",
          "text": [
            "Downloaded: gifs_temp/gif_49622.gif\n",
            "Deleted: gifs_temp/gif_49622.gif\n"
          ]
        },
        {
          "output_type": "stream",
          "name": "stderr",
          "text": [
            "\rProcessing GIFs:  62%|██████▏   | 617/1000 [04:53<03:20,  1.91it/s]"
          ]
        },
        {
          "output_type": "stream",
          "name": "stdout",
          "text": [
            "Downloaded: gifs_temp/gif_83532.gif\n",
            "Deleted: gifs_temp/gif_83532.gif\n"
          ]
        },
        {
          "output_type": "stream",
          "name": "stderr",
          "text": [
            "\rProcessing GIFs:  62%|██████▏   | 618/1000 [04:54<03:02,  2.09it/s]"
          ]
        },
        {
          "output_type": "stream",
          "name": "stdout",
          "text": [
            "Downloaded: gifs_temp/gif_16423.gif\n",
            "Deleted: gifs_temp/gif_16423.gif\n"
          ]
        },
        {
          "output_type": "stream",
          "name": "stderr",
          "text": [
            "\rProcessing GIFs:  62%|██████▏   | 619/1000 [04:54<02:58,  2.14it/s]"
          ]
        },
        {
          "output_type": "stream",
          "name": "stdout",
          "text": [
            "Downloaded: gifs_temp/gif_42920.gif\n",
            "Deleted: gifs_temp/gif_42920.gif\n"
          ]
        },
        {
          "output_type": "stream",
          "name": "stderr",
          "text": [
            "\rProcessing GIFs:  62%|██████▏   | 620/1000 [04:54<02:47,  2.27it/s]"
          ]
        },
        {
          "output_type": "stream",
          "name": "stdout",
          "text": [
            "Downloaded: gifs_temp/gif_15251.gif\n",
            "Deleted: gifs_temp/gif_15251.gif\n"
          ]
        },
        {
          "output_type": "stream",
          "name": "stderr",
          "text": [
            "\rProcessing GIFs:  62%|██████▏   | 621/1000 [04:55<02:49,  2.23it/s]"
          ]
        },
        {
          "output_type": "stream",
          "name": "stdout",
          "text": [
            "Downloaded: gifs_temp/gif_88857.gif\n",
            "Deleted: gifs_temp/gif_88857.gif\n"
          ]
        },
        {
          "output_type": "stream",
          "name": "stderr",
          "text": [
            "\rProcessing GIFs:  62%|██████▏   | 622/1000 [04:55<02:36,  2.41it/s]"
          ]
        },
        {
          "output_type": "stream",
          "name": "stdout",
          "text": [
            "Downloaded: gifs_temp/gif_104201.gif\n",
            "Deleted: gifs_temp/gif_104201.gif\n",
            "Downloaded: gifs_temp/gif_4184.gif\n"
          ]
        },
        {
          "output_type": "stream",
          "name": "stderr",
          "text": [
            "\rProcessing GIFs:  62%|██████▏   | 623/1000 [04:56<03:55,  1.60it/s]"
          ]
        },
        {
          "output_type": "stream",
          "name": "stdout",
          "text": [
            "Deleted: gifs_temp/gif_4184.gif\n"
          ]
        },
        {
          "output_type": "stream",
          "name": "stderr",
          "text": [
            "\rProcessing GIFs:  62%|██████▏   | 624/1000 [04:57<03:38,  1.72it/s]"
          ]
        },
        {
          "output_type": "stream",
          "name": "stdout",
          "text": [
            "Downloaded: gifs_temp/gif_4049.gif\n",
            "Deleted: gifs_temp/gif_4049.gif\n"
          ]
        },
        {
          "output_type": "stream",
          "name": "stderr",
          "text": [
            "\rProcessing GIFs:  62%|██████▎   | 625/1000 [04:57<03:31,  1.77it/s]"
          ]
        },
        {
          "output_type": "stream",
          "name": "stdout",
          "text": [
            "Downloaded: gifs_temp/gif_67552.gif\n",
            "Deleted: gifs_temp/gif_67552.gif\n"
          ]
        },
        {
          "output_type": "stream",
          "name": "stderr",
          "text": [
            "\rProcessing GIFs:  63%|██████▎   | 626/1000 [04:58<03:11,  1.96it/s]"
          ]
        },
        {
          "output_type": "stream",
          "name": "stdout",
          "text": [
            "Downloaded: gifs_temp/gif_41603.gif\n",
            "Deleted: gifs_temp/gif_41603.gif\n"
          ]
        },
        {
          "output_type": "stream",
          "name": "stderr",
          "text": [
            "\rProcessing GIFs:  63%|██████▎   | 627/1000 [04:58<02:56,  2.11it/s]"
          ]
        },
        {
          "output_type": "stream",
          "name": "stdout",
          "text": [
            "Downloaded: gifs_temp/gif_115593.gif\n",
            "Deleted: gifs_temp/gif_115593.gif\n"
          ]
        },
        {
          "output_type": "stream",
          "name": "stderr",
          "text": [
            "\rProcessing GIFs:  63%|██████▎   | 628/1000 [04:59<02:54,  2.13it/s]"
          ]
        },
        {
          "output_type": "stream",
          "name": "stdout",
          "text": [
            "Downloaded: gifs_temp/gif_82827.gif\n",
            "Deleted: gifs_temp/gif_82827.gif\n"
          ]
        },
        {
          "output_type": "stream",
          "name": "stderr",
          "text": [
            "\rProcessing GIFs:  63%|██████▎   | 629/1000 [04:59<02:36,  2.37it/s]"
          ]
        },
        {
          "output_type": "stream",
          "name": "stdout",
          "text": [
            "Downloaded: gifs_temp/gif_39929.gif\n",
            "Deleted: gifs_temp/gif_39929.gif\n"
          ]
        },
        {
          "output_type": "stream",
          "name": "stderr",
          "text": [
            "\rProcessing GIFs:  63%|██████▎   | 630/1000 [04:59<02:28,  2.49it/s]"
          ]
        },
        {
          "output_type": "stream",
          "name": "stdout",
          "text": [
            "Downloaded: gifs_temp/gif_61428.gif\n",
            "Deleted: gifs_temp/gif_61428.gif\n"
          ]
        },
        {
          "output_type": "stream",
          "name": "stderr",
          "text": [
            "\rProcessing GIFs:  63%|██████▎   | 631/1000 [05:00<02:25,  2.54it/s]"
          ]
        },
        {
          "output_type": "stream",
          "name": "stdout",
          "text": [
            "Downloaded: gifs_temp/gif_58310.gif\n",
            "Deleted: gifs_temp/gif_58310.gif\n"
          ]
        },
        {
          "output_type": "stream",
          "name": "stderr",
          "text": [
            "\rProcessing GIFs:  63%|██████▎   | 632/1000 [05:00<02:29,  2.47it/s]"
          ]
        },
        {
          "output_type": "stream",
          "name": "stdout",
          "text": [
            "Downloaded: gifs_temp/gif_16439.gif\n",
            "Deleted: gifs_temp/gif_16439.gif\n"
          ]
        },
        {
          "output_type": "stream",
          "name": "stderr",
          "text": [
            "\rProcessing GIFs:  63%|██████▎   | 633/1000 [05:01<02:31,  2.43it/s]"
          ]
        },
        {
          "output_type": "stream",
          "name": "stdout",
          "text": [
            "Downloaded: gifs_temp/gif_64074.gif\n",
            "Deleted: gifs_temp/gif_64074.gif\n"
          ]
        },
        {
          "output_type": "stream",
          "name": "stderr",
          "text": [
            "\rProcessing GIFs:  63%|██████▎   | 634/1000 [05:01<02:32,  2.41it/s]"
          ]
        },
        {
          "output_type": "stream",
          "name": "stdout",
          "text": [
            "Downloaded: gifs_temp/gif_89066.gif\n",
            "Deleted: gifs_temp/gif_89066.gif\n"
          ]
        },
        {
          "output_type": "stream",
          "name": "stderr",
          "text": [
            "\rProcessing GIFs:  64%|██████▎   | 635/1000 [05:01<02:31,  2.40it/s]"
          ]
        },
        {
          "output_type": "stream",
          "name": "stdout",
          "text": [
            "Downloaded: gifs_temp/gif_73568.gif\n",
            "Deleted: gifs_temp/gif_73568.gif\n"
          ]
        },
        {
          "output_type": "stream",
          "name": "stderr",
          "text": [
            "\rProcessing GIFs:  64%|██████▎   | 636/1000 [05:02<02:20,  2.58it/s]"
          ]
        },
        {
          "output_type": "stream",
          "name": "stdout",
          "text": [
            "Downloaded: gifs_temp/gif_72009.gif\n",
            "Deleted: gifs_temp/gif_72009.gif\n"
          ]
        },
        {
          "output_type": "stream",
          "name": "stderr",
          "text": [
            "\rProcessing GIFs:  64%|██████▎   | 637/1000 [05:02<02:19,  2.61it/s]"
          ]
        },
        {
          "output_type": "stream",
          "name": "stdout",
          "text": [
            "Downloaded: gifs_temp/gif_92997.gif\n",
            "Deleted: gifs_temp/gif_92997.gif\n"
          ]
        },
        {
          "output_type": "stream",
          "name": "stderr",
          "text": [
            "\rProcessing GIFs:  64%|██████▍   | 638/1000 [05:02<02:22,  2.54it/s]"
          ]
        },
        {
          "output_type": "stream",
          "name": "stdout",
          "text": [
            "Downloaded: gifs_temp/gif_97958.gif\n",
            "Deleted: gifs_temp/gif_97958.gif\n"
          ]
        },
        {
          "output_type": "stream",
          "name": "stderr",
          "text": [
            "\rProcessing GIFs:  64%|██████▍   | 639/1000 [05:03<02:25,  2.48it/s]"
          ]
        },
        {
          "output_type": "stream",
          "name": "stdout",
          "text": [
            "Downloaded: gifs_temp/gif_46286.gif\n",
            "Deleted: gifs_temp/gif_46286.gif\n"
          ]
        },
        {
          "output_type": "stream",
          "name": "stderr",
          "text": [
            "\rProcessing GIFs:  64%|██████▍   | 640/1000 [05:03<02:21,  2.55it/s]"
          ]
        },
        {
          "output_type": "stream",
          "name": "stdout",
          "text": [
            "Downloaded: gifs_temp/gif_110860.gif\n",
            "Deleted: gifs_temp/gif_110860.gif\n"
          ]
        },
        {
          "output_type": "stream",
          "name": "stderr",
          "text": [
            "\rProcessing GIFs:  64%|██████▍   | 641/1000 [05:04<02:26,  2.46it/s]"
          ]
        },
        {
          "output_type": "stream",
          "name": "stdout",
          "text": [
            "Downloaded: gifs_temp/gif_73085.gif\n",
            "Deleted: gifs_temp/gif_73085.gif\n"
          ]
        },
        {
          "output_type": "stream",
          "name": "stderr",
          "text": [
            "\rProcessing GIFs:  64%|██████▍   | 642/1000 [05:04<02:27,  2.43it/s]"
          ]
        },
        {
          "output_type": "stream",
          "name": "stdout",
          "text": [
            "Downloaded: gifs_temp/gif_62156.gif\n",
            "Deleted: gifs_temp/gif_62156.gif\n"
          ]
        },
        {
          "output_type": "stream",
          "name": "stderr",
          "text": [
            "\rProcessing GIFs:  64%|██████▍   | 643/1000 [05:04<02:17,  2.60it/s]"
          ]
        },
        {
          "output_type": "stream",
          "name": "stdout",
          "text": [
            "Downloaded: gifs_temp/gif_40515.gif\n",
            "Deleted: gifs_temp/gif_40515.gif\n"
          ]
        },
        {
          "output_type": "stream",
          "name": "stderr",
          "text": [
            "\rProcessing GIFs:  64%|██████▍   | 644/1000 [05:05<02:31,  2.35it/s]"
          ]
        },
        {
          "output_type": "stream",
          "name": "stdout",
          "text": [
            "Downloaded: gifs_temp/gif_67594.gif\n",
            "Deleted: gifs_temp/gif_67594.gif\n"
          ]
        },
        {
          "output_type": "stream",
          "name": "stderr",
          "text": [
            "\rProcessing GIFs:  64%|██████▍   | 645/1000 [05:05<02:24,  2.45it/s]"
          ]
        },
        {
          "output_type": "stream",
          "name": "stdout",
          "text": [
            "Downloaded: gifs_temp/gif_108186.gif\n",
            "Deleted: gifs_temp/gif_108186.gif\n"
          ]
        },
        {
          "output_type": "stream",
          "name": "stderr",
          "text": [
            "\rProcessing GIFs:  65%|██████▍   | 646/1000 [05:06<02:25,  2.44it/s]"
          ]
        },
        {
          "output_type": "stream",
          "name": "stdout",
          "text": [
            "Downloaded: gifs_temp/gif_29281.gif\n",
            "Deleted: gifs_temp/gif_29281.gif\n"
          ]
        },
        {
          "output_type": "stream",
          "name": "stderr",
          "text": [
            "\rProcessing GIFs:  65%|██████▍   | 647/1000 [05:06<02:21,  2.49it/s]"
          ]
        },
        {
          "output_type": "stream",
          "name": "stdout",
          "text": [
            "Downloaded: gifs_temp/gif_115705.gif\n",
            "Deleted: gifs_temp/gif_115705.gif\n"
          ]
        },
        {
          "output_type": "stream",
          "name": "stderr",
          "text": [
            "\rProcessing GIFs:  65%|██████▍   | 648/1000 [05:07<02:36,  2.24it/s]"
          ]
        },
        {
          "output_type": "stream",
          "name": "stdout",
          "text": [
            "Downloaded: gifs_temp/gif_91169.gif\n",
            "Deleted: gifs_temp/gif_91169.gif\n"
          ]
        },
        {
          "output_type": "stream",
          "name": "stderr",
          "text": [
            "\rProcessing GIFs:  65%|██████▍   | 649/1000 [05:07<02:28,  2.36it/s]"
          ]
        },
        {
          "output_type": "stream",
          "name": "stdout",
          "text": [
            "Downloaded: gifs_temp/gif_109046.gif\n",
            "Deleted: gifs_temp/gif_109046.gif\n"
          ]
        },
        {
          "output_type": "stream",
          "name": "stderr",
          "text": [
            "\rProcessing GIFs:  65%|██████▌   | 650/1000 [05:07<02:20,  2.50it/s]"
          ]
        },
        {
          "output_type": "stream",
          "name": "stdout",
          "text": [
            "Downloaded: gifs_temp/gif_57717.gif\n",
            "Deleted: gifs_temp/gif_57717.gif\n"
          ]
        },
        {
          "output_type": "stream",
          "name": "stderr",
          "text": [
            "\rProcessing GIFs:  65%|██████▌   | 651/1000 [05:08<02:25,  2.40it/s]"
          ]
        },
        {
          "output_type": "stream",
          "name": "stdout",
          "text": [
            "Downloaded: gifs_temp/gif_84846.gif\n",
            "Deleted: gifs_temp/gif_84846.gif\n",
            "Downloaded: gifs_temp/gif_23208.gif\n"
          ]
        },
        {
          "output_type": "stream",
          "name": "stderr",
          "text": [
            "\rProcessing GIFs:  65%|██████▌   | 652/1000 [05:08<02:43,  2.12it/s]"
          ]
        },
        {
          "output_type": "stream",
          "name": "stdout",
          "text": [
            "Deleted: gifs_temp/gif_23208.gif\n"
          ]
        },
        {
          "output_type": "stream",
          "name": "stderr",
          "text": [
            "\rProcessing GIFs:  65%|██████▌   | 653/1000 [05:09<02:35,  2.23it/s]"
          ]
        },
        {
          "output_type": "stream",
          "name": "stdout",
          "text": [
            "Downloaded: gifs_temp/gif_113339.gif\n",
            "Deleted: gifs_temp/gif_113339.gif\n"
          ]
        },
        {
          "output_type": "stream",
          "name": "stderr",
          "text": [
            "\rProcessing GIFs:  65%|██████▌   | 654/1000 [05:09<02:36,  2.21it/s]"
          ]
        },
        {
          "output_type": "stream",
          "name": "stdout",
          "text": [
            "Downloaded: gifs_temp/gif_17755.gif\n",
            "Deleted: gifs_temp/gif_17755.gif\n"
          ]
        },
        {
          "output_type": "stream",
          "name": "stderr",
          "text": [
            "\rProcessing GIFs:  66%|██████▌   | 655/1000 [05:10<02:40,  2.15it/s]"
          ]
        },
        {
          "output_type": "stream",
          "name": "stdout",
          "text": [
            "Downloaded: gifs_temp/gif_53637.gif\n",
            "Deleted: gifs_temp/gif_53637.gif\n"
          ]
        },
        {
          "output_type": "stream",
          "name": "stderr",
          "text": [
            "\rProcessing GIFs:  66%|██████▌   | 656/1000 [05:10<02:38,  2.17it/s]"
          ]
        },
        {
          "output_type": "stream",
          "name": "stdout",
          "text": [
            "Downloaded: gifs_temp/gif_71602.gif\n",
            "Deleted: gifs_temp/gif_71602.gif\n"
          ]
        },
        {
          "output_type": "stream",
          "name": "stderr",
          "text": [
            "\rProcessing GIFs:  66%|██████▌   | 657/1000 [05:11<02:28,  2.31it/s]"
          ]
        },
        {
          "output_type": "stream",
          "name": "stdout",
          "text": [
            "Downloaded: gifs_temp/gif_40252.gif\n",
            "Deleted: gifs_temp/gif_40252.gif\n"
          ]
        },
        {
          "output_type": "stream",
          "name": "stderr",
          "text": [
            "\rProcessing GIFs:  66%|██████▌   | 658/1000 [05:11<02:26,  2.33it/s]"
          ]
        },
        {
          "output_type": "stream",
          "name": "stdout",
          "text": [
            "Downloaded: gifs_temp/gif_80782.gif\n",
            "Deleted: gifs_temp/gif_80782.gif\n"
          ]
        },
        {
          "output_type": "stream",
          "name": "stderr",
          "text": [
            "\rProcessing GIFs:  66%|██████▌   | 659/1000 [05:11<02:25,  2.34it/s]"
          ]
        },
        {
          "output_type": "stream",
          "name": "stdout",
          "text": [
            "Downloaded: gifs_temp/gif_73234.gif\n",
            "Deleted: gifs_temp/gif_73234.gif\n"
          ]
        },
        {
          "output_type": "stream",
          "name": "stderr",
          "text": [
            "\rProcessing GIFs:  66%|██████▌   | 660/1000 [05:12<02:33,  2.21it/s]"
          ]
        },
        {
          "output_type": "stream",
          "name": "stdout",
          "text": [
            "Downloaded: gifs_temp/gif_62032.gif\n",
            "Deleted: gifs_temp/gif_62032.gif\n"
          ]
        },
        {
          "output_type": "stream",
          "name": "stderr",
          "text": [
            "\rProcessing GIFs:  66%|██████▌   | 661/1000 [05:13<03:12,  1.76it/s]"
          ]
        },
        {
          "output_type": "stream",
          "name": "stdout",
          "text": [
            "Downloaded: gifs_temp/gif_110594.gif\n",
            "Deleted: gifs_temp/gif_110594.gif\n"
          ]
        },
        {
          "output_type": "stream",
          "name": "stderr",
          "text": [
            "\rProcessing GIFs:  66%|██████▌   | 662/1000 [05:13<02:57,  1.91it/s]"
          ]
        },
        {
          "output_type": "stream",
          "name": "stdout",
          "text": [
            "Downloaded: gifs_temp/gif_63654.gif\n",
            "Deleted: gifs_temp/gif_63654.gif\n"
          ]
        },
        {
          "output_type": "stream",
          "name": "stderr",
          "text": [
            "\rProcessing GIFs:  66%|██████▋   | 663/1000 [05:14<03:18,  1.69it/s]"
          ]
        },
        {
          "output_type": "stream",
          "name": "stdout",
          "text": [
            "Downloaded: gifs_temp/gif_52784.gif\n",
            "Deleted: gifs_temp/gif_52784.gif\n"
          ]
        },
        {
          "output_type": "stream",
          "name": "stderr",
          "text": [
            "\rProcessing GIFs:  66%|██████▋   | 664/1000 [05:15<03:39,  1.53it/s]"
          ]
        },
        {
          "output_type": "stream",
          "name": "stdout",
          "text": [
            "Downloaded: gifs_temp/gif_34962.gif\n",
            "Deleted: gifs_temp/gif_34962.gif\n"
          ]
        },
        {
          "output_type": "stream",
          "name": "stderr",
          "text": [
            "\rProcessing GIFs:  66%|██████▋   | 665/1000 [05:15<03:16,  1.70it/s]"
          ]
        },
        {
          "output_type": "stream",
          "name": "stdout",
          "text": [
            "Downloaded: gifs_temp/gif_100315.gif\n",
            "Deleted: gifs_temp/gif_100315.gif\n"
          ]
        },
        {
          "output_type": "stream",
          "name": "stderr",
          "text": [
            "\rProcessing GIFs:  67%|██████▋   | 666/1000 [05:16<02:58,  1.87it/s]"
          ]
        },
        {
          "output_type": "stream",
          "name": "stdout",
          "text": [
            "Downloaded: gifs_temp/gif_8992.gif\n",
            "Deleted: gifs_temp/gif_8992.gif\n"
          ]
        },
        {
          "output_type": "stream",
          "name": "stderr",
          "text": [
            "\rProcessing GIFs:  67%|██████▋   | 667/1000 [05:16<02:47,  1.98it/s]"
          ]
        },
        {
          "output_type": "stream",
          "name": "stdout",
          "text": [
            "Downloaded: gifs_temp/gif_45622.gif\n",
            "Deleted: gifs_temp/gif_45622.gif\n"
          ]
        },
        {
          "output_type": "stream",
          "name": "stderr",
          "text": [
            "\rProcessing GIFs:  67%|██████▋   | 668/1000 [05:17<02:40,  2.06it/s]"
          ]
        },
        {
          "output_type": "stream",
          "name": "stdout",
          "text": [
            "Downloaded: gifs_temp/gif_100814.gif\n",
            "Deleted: gifs_temp/gif_100814.gif\n"
          ]
        },
        {
          "output_type": "stream",
          "name": "stderr",
          "text": [
            "\rProcessing GIFs:  67%|██████▋   | 669/1000 [05:17<02:31,  2.18it/s]"
          ]
        },
        {
          "output_type": "stream",
          "name": "stdout",
          "text": [
            "Downloaded: gifs_temp/gif_67587.gif\n",
            "Deleted: gifs_temp/gif_67587.gif\n"
          ]
        },
        {
          "output_type": "stream",
          "name": "stderr",
          "text": [
            "\rProcessing GIFs:  67%|██████▋   | 670/1000 [05:17<02:19,  2.37it/s]"
          ]
        },
        {
          "output_type": "stream",
          "name": "stdout",
          "text": [
            "Downloaded: gifs_temp/gif_16921.gif\n",
            "Deleted: gifs_temp/gif_16921.gif\n"
          ]
        },
        {
          "output_type": "stream",
          "name": "stderr",
          "text": [
            "\rProcessing GIFs:  67%|██████▋   | 671/1000 [05:18<02:29,  2.20it/s]"
          ]
        },
        {
          "output_type": "stream",
          "name": "stdout",
          "text": [
            "Downloaded: gifs_temp/gif_118341.gif\n",
            "Deleted: gifs_temp/gif_118341.gif\n"
          ]
        },
        {
          "output_type": "stream",
          "name": "stderr",
          "text": [
            "\rProcessing GIFs:  67%|██████▋   | 672/1000 [05:18<02:42,  2.02it/s]"
          ]
        },
        {
          "output_type": "stream",
          "name": "stdout",
          "text": [
            "Downloaded: gifs_temp/gif_88388.gif\n",
            "Deleted: gifs_temp/gif_88388.gif\n"
          ]
        },
        {
          "output_type": "stream",
          "name": "stderr",
          "text": [
            "\rProcessing GIFs:  67%|██████▋   | 673/1000 [05:19<02:36,  2.10it/s]"
          ]
        },
        {
          "output_type": "stream",
          "name": "stdout",
          "text": [
            "Downloaded: gifs_temp/gif_79334.gif\n",
            "Deleted: gifs_temp/gif_79334.gif\n"
          ]
        },
        {
          "output_type": "stream",
          "name": "stderr",
          "text": [
            "\rProcessing GIFs:  67%|██████▋   | 674/1000 [05:19<02:25,  2.24it/s]"
          ]
        },
        {
          "output_type": "stream",
          "name": "stdout",
          "text": [
            "Downloaded: gifs_temp/gif_25377.gif\n",
            "Deleted: gifs_temp/gif_25377.gif\n"
          ]
        },
        {
          "output_type": "stream",
          "name": "stderr",
          "text": [
            "\rProcessing GIFs:  68%|██████▊   | 675/1000 [05:20<02:20,  2.32it/s]"
          ]
        },
        {
          "output_type": "stream",
          "name": "stdout",
          "text": [
            "Downloaded: gifs_temp/gif_10611.gif\n",
            "Deleted: gifs_temp/gif_10611.gif\n"
          ]
        },
        {
          "output_type": "stream",
          "name": "stderr",
          "text": [
            "\rProcessing GIFs:  68%|██████▊   | 676/1000 [05:20<02:15,  2.40it/s]"
          ]
        },
        {
          "output_type": "stream",
          "name": "stdout",
          "text": [
            "Downloaded: gifs_temp/gif_103168.gif\n",
            "Deleted: gifs_temp/gif_103168.gif\n"
          ]
        },
        {
          "output_type": "stream",
          "name": "stderr",
          "text": [
            "\rProcessing GIFs:  68%|██████▊   | 677/1000 [05:20<02:22,  2.27it/s]"
          ]
        },
        {
          "output_type": "stream",
          "name": "stdout",
          "text": [
            "Downloaded: gifs_temp/gif_118836.gif\n",
            "Deleted: gifs_temp/gif_118836.gif\n"
          ]
        },
        {
          "output_type": "stream",
          "name": "stderr",
          "text": [
            "\rProcessing GIFs:  68%|██████▊   | 678/1000 [05:21<02:21,  2.28it/s]"
          ]
        },
        {
          "output_type": "stream",
          "name": "stdout",
          "text": [
            "Downloaded: gifs_temp/gif_105390.gif\n",
            "Deleted: gifs_temp/gif_105390.gif\n"
          ]
        },
        {
          "output_type": "stream",
          "name": "stderr",
          "text": [
            "\rProcessing GIFs:  68%|██████▊   | 679/1000 [05:21<02:31,  2.12it/s]"
          ]
        },
        {
          "output_type": "stream",
          "name": "stdout",
          "text": [
            "Downloaded: gifs_temp/gif_28248.gif\n",
            "Deleted: gifs_temp/gif_28248.gif\n"
          ]
        },
        {
          "output_type": "stream",
          "name": "stderr",
          "text": [
            "\rProcessing GIFs:  68%|██████▊   | 680/1000 [05:22<02:25,  2.20it/s]"
          ]
        },
        {
          "output_type": "stream",
          "name": "stdout",
          "text": [
            "Downloaded: gifs_temp/gif_116573.gif\n",
            "Deleted: gifs_temp/gif_116573.gif\n"
          ]
        },
        {
          "output_type": "stream",
          "name": "stderr",
          "text": [
            "\rProcessing GIFs:  68%|██████▊   | 681/1000 [05:22<02:26,  2.17it/s]"
          ]
        },
        {
          "output_type": "stream",
          "name": "stdout",
          "text": [
            "Downloaded: gifs_temp/gif_9107.gif\n",
            "Deleted: gifs_temp/gif_9107.gif\n"
          ]
        },
        {
          "output_type": "stream",
          "name": "stderr",
          "text": [
            "\rProcessing GIFs:  68%|██████▊   | 682/1000 [05:23<02:23,  2.22it/s]"
          ]
        },
        {
          "output_type": "stream",
          "name": "stdout",
          "text": [
            "Downloaded: gifs_temp/gif_94755.gif\n",
            "Deleted: gifs_temp/gif_94755.gif\n"
          ]
        },
        {
          "output_type": "stream",
          "name": "stderr",
          "text": [
            "\rProcessing GIFs:  68%|██████▊   | 683/1000 [05:23<02:24,  2.20it/s]"
          ]
        },
        {
          "output_type": "stream",
          "name": "stdout",
          "text": [
            "Downloaded: gifs_temp/gif_96437.gif\n",
            "Deleted: gifs_temp/gif_96437.gif\n"
          ]
        },
        {
          "output_type": "stream",
          "name": "stderr",
          "text": [
            "\rProcessing GIFs:  68%|██████▊   | 684/1000 [05:24<02:18,  2.29it/s]"
          ]
        },
        {
          "output_type": "stream",
          "name": "stdout",
          "text": [
            "Downloaded: gifs_temp/gif_27749.gif\n",
            "Deleted: gifs_temp/gif_27749.gif\n"
          ]
        },
        {
          "output_type": "stream",
          "name": "stderr",
          "text": [
            "\rProcessing GIFs:  68%|██████▊   | 685/1000 [05:24<02:17,  2.29it/s]"
          ]
        },
        {
          "output_type": "stream",
          "name": "stdout",
          "text": [
            "Downloaded: gifs_temp/gif_93481.gif\n",
            "Deleted: gifs_temp/gif_93481.gif\n"
          ]
        },
        {
          "output_type": "stream",
          "name": "stderr",
          "text": [
            "\rProcessing GIFs:  69%|██████▊   | 686/1000 [05:24<02:12,  2.37it/s]"
          ]
        },
        {
          "output_type": "stream",
          "name": "stdout",
          "text": [
            "Downloaded: gifs_temp/gif_101713.gif\n",
            "Deleted: gifs_temp/gif_101713.gif\n"
          ]
        },
        {
          "output_type": "stream",
          "name": "stderr",
          "text": [
            "\rProcessing GIFs:  69%|██████▊   | 687/1000 [05:25<02:08,  2.43it/s]"
          ]
        },
        {
          "output_type": "stream",
          "name": "stdout",
          "text": [
            "Downloaded: gifs_temp/gif_74931.gif\n",
            "Deleted: gifs_temp/gif_74931.gif\n"
          ]
        },
        {
          "output_type": "stream",
          "name": "stderr",
          "text": [
            "\rProcessing GIFs:  69%|██████▉   | 688/1000 [05:25<02:11,  2.37it/s]"
          ]
        },
        {
          "output_type": "stream",
          "name": "stdout",
          "text": [
            "Downloaded: gifs_temp/gif_57329.gif\n",
            "Deleted: gifs_temp/gif_57329.gif\n"
          ]
        },
        {
          "output_type": "stream",
          "name": "stderr",
          "text": [
            "\rProcessing GIFs:  69%|██████▉   | 689/1000 [05:26<02:19,  2.24it/s]"
          ]
        },
        {
          "output_type": "stream",
          "name": "stdout",
          "text": [
            "Downloaded: gifs_temp/gif_70905.gif\n",
            "Deleted: gifs_temp/gif_70905.gif\n"
          ]
        },
        {
          "output_type": "stream",
          "name": "stderr",
          "text": [
            "\rProcessing GIFs:  69%|██████▉   | 690/1000 [05:26<02:14,  2.31it/s]"
          ]
        },
        {
          "output_type": "stream",
          "name": "stdout",
          "text": [
            "Downloaded: gifs_temp/gif_59503.gif\n",
            "Deleted: gifs_temp/gif_59503.gif\n"
          ]
        },
        {
          "output_type": "stream",
          "name": "stderr",
          "text": [
            "\rProcessing GIFs:  69%|██████▉   | 691/1000 [05:27<02:06,  2.44it/s]"
          ]
        },
        {
          "output_type": "stream",
          "name": "stdout",
          "text": [
            "Downloaded: gifs_temp/gif_66323.gif\n",
            "Deleted: gifs_temp/gif_66323.gif\n"
          ]
        },
        {
          "output_type": "stream",
          "name": "stderr",
          "text": [
            "\rProcessing GIFs:  69%|██████▉   | 692/1000 [05:27<02:02,  2.52it/s]"
          ]
        },
        {
          "output_type": "stream",
          "name": "stdout",
          "text": [
            "Downloaded: gifs_temp/gif_108952.gif\n",
            "Deleted: gifs_temp/gif_108952.gif\n"
          ]
        },
        {
          "output_type": "stream",
          "name": "stderr",
          "text": [
            "\rProcessing GIFs:  69%|██████▉   | 693/1000 [05:28<02:31,  2.02it/s]"
          ]
        },
        {
          "output_type": "stream",
          "name": "stdout",
          "text": [
            "Downloaded: gifs_temp/gif_96742.gif\n",
            "Deleted: gifs_temp/gif_96742.gif\n"
          ]
        },
        {
          "output_type": "stream",
          "name": "stderr",
          "text": [
            "\rProcessing GIFs:  69%|██████▉   | 694/1000 [05:28<03:01,  1.68it/s]"
          ]
        },
        {
          "output_type": "stream",
          "name": "stdout",
          "text": [
            "Downloaded: gifs_temp/gif_120698.gif\n",
            "Deleted: gifs_temp/gif_120698.gif\n"
          ]
        },
        {
          "output_type": "stream",
          "name": "stderr",
          "text": [
            "\rProcessing GIFs:  70%|██████▉   | 695/1000 [05:29<02:55,  1.73it/s]"
          ]
        },
        {
          "output_type": "stream",
          "name": "stdout",
          "text": [
            "Downloaded: gifs_temp/gif_67164.gif\n",
            "Deleted: gifs_temp/gif_67164.gif\n"
          ]
        },
        {
          "output_type": "stream",
          "name": "stderr",
          "text": [
            "\rProcessing GIFs:  70%|██████▉   | 696/1000 [05:29<02:35,  1.95it/s]"
          ]
        },
        {
          "output_type": "stream",
          "name": "stdout",
          "text": [
            "Downloaded: gifs_temp/gif_122187.gif\n",
            "Deleted: gifs_temp/gif_122187.gif\n"
          ]
        },
        {
          "output_type": "stream",
          "name": "stderr",
          "text": [
            "\rProcessing GIFs:  70%|██████▉   | 697/1000 [05:30<02:33,  1.98it/s]"
          ]
        },
        {
          "output_type": "stream",
          "name": "stdout",
          "text": [
            "Downloaded: gifs_temp/gif_39918.gif\n",
            "Deleted: gifs_temp/gif_39918.gif\n"
          ]
        },
        {
          "output_type": "stream",
          "name": "stderr",
          "text": [
            "\rProcessing GIFs:  70%|██████▉   | 698/1000 [05:30<02:25,  2.07it/s]"
          ]
        },
        {
          "output_type": "stream",
          "name": "stdout",
          "text": [
            "Downloaded: gifs_temp/gif_97303.gif\n",
            "Deleted: gifs_temp/gif_97303.gif\n"
          ]
        },
        {
          "output_type": "stream",
          "name": "stderr",
          "text": [
            "\rProcessing GIFs:  70%|██████▉   | 699/1000 [05:31<02:17,  2.19it/s]"
          ]
        },
        {
          "output_type": "stream",
          "name": "stdout",
          "text": [
            "Downloaded: gifs_temp/gif_119963.gif\n",
            "Deleted: gifs_temp/gif_119963.gif\n"
          ]
        },
        {
          "output_type": "stream",
          "name": "stderr",
          "text": [
            "\rProcessing GIFs:  70%|███████   | 700/1000 [05:31<02:11,  2.27it/s]"
          ]
        },
        {
          "output_type": "stream",
          "name": "stdout",
          "text": [
            "Downloaded: gifs_temp/gif_65490.gif\n",
            "Deleted: gifs_temp/gif_65490.gif\n"
          ]
        },
        {
          "output_type": "stream",
          "name": "stderr",
          "text": [
            "\rProcessing GIFs:  70%|███████   | 701/1000 [05:32<02:12,  2.25it/s]"
          ]
        },
        {
          "output_type": "stream",
          "name": "stdout",
          "text": [
            "Downloaded: gifs_temp/gif_113139.gif\n",
            "Deleted: gifs_temp/gif_113139.gif\n"
          ]
        },
        {
          "output_type": "stream",
          "name": "stderr",
          "text": [
            "\rProcessing GIFs:  70%|███████   | 702/1000 [05:32<02:13,  2.23it/s]"
          ]
        },
        {
          "output_type": "stream",
          "name": "stdout",
          "text": [
            "Downloaded: gifs_temp/gif_33421.gif\n",
            "Deleted: gifs_temp/gif_33421.gif\n"
          ]
        },
        {
          "output_type": "stream",
          "name": "stderr",
          "text": [
            "\rProcessing GIFs:  70%|███████   | 703/1000 [05:32<02:00,  2.46it/s]"
          ]
        },
        {
          "output_type": "stream",
          "name": "stdout",
          "text": [
            "Downloaded: gifs_temp/gif_10639.gif\n",
            "Deleted: gifs_temp/gif_10639.gif\n"
          ]
        },
        {
          "output_type": "stream",
          "name": "stderr",
          "text": [
            "\rProcessing GIFs:  70%|███████   | 704/1000 [05:33<02:00,  2.45it/s]"
          ]
        },
        {
          "output_type": "stream",
          "name": "stdout",
          "text": [
            "Downloaded: gifs_temp/gif_17356.gif\n",
            "Deleted: gifs_temp/gif_17356.gif\n"
          ]
        },
        {
          "output_type": "stream",
          "name": "stderr",
          "text": [
            "\rProcessing GIFs:  70%|███████   | 705/1000 [05:33<01:59,  2.47it/s]"
          ]
        },
        {
          "output_type": "stream",
          "name": "stdout",
          "text": [
            "Downloaded: gifs_temp/gif_26190.gif\n",
            "Deleted: gifs_temp/gif_26190.gif\n"
          ]
        },
        {
          "output_type": "stream",
          "name": "stderr",
          "text": [
            "\rProcessing GIFs:  71%|███████   | 706/1000 [05:34<02:04,  2.36it/s]"
          ]
        },
        {
          "output_type": "stream",
          "name": "stdout",
          "text": [
            "Downloaded: gifs_temp/gif_69479.gif\n",
            "Deleted: gifs_temp/gif_69479.gif\n"
          ]
        },
        {
          "output_type": "stream",
          "name": "stderr",
          "text": [
            "\rProcessing GIFs:  71%|███████   | 707/1000 [05:34<02:02,  2.39it/s]"
          ]
        },
        {
          "output_type": "stream",
          "name": "stdout",
          "text": [
            "Downloaded: gifs_temp/gif_7359.gif\n",
            "Deleted: gifs_temp/gif_7359.gif\n"
          ]
        },
        {
          "output_type": "stream",
          "name": "stderr",
          "text": [
            "\rProcessing GIFs:  71%|███████   | 708/1000 [05:34<02:05,  2.33it/s]"
          ]
        },
        {
          "output_type": "stream",
          "name": "stdout",
          "text": [
            "Downloaded: gifs_temp/gif_50014.gif\n",
            "Deleted: gifs_temp/gif_50014.gif\n"
          ]
        },
        {
          "output_type": "stream",
          "name": "stderr",
          "text": [
            "\rProcessing GIFs:  71%|███████   | 709/1000 [05:35<01:57,  2.48it/s]"
          ]
        },
        {
          "output_type": "stream",
          "name": "stdout",
          "text": [
            "Downloaded: gifs_temp/gif_22907.gif\n",
            "Deleted: gifs_temp/gif_22907.gif\n"
          ]
        },
        {
          "output_type": "stream",
          "name": "stderr",
          "text": [
            "\rProcessing GIFs:  71%|███████   | 710/1000 [05:35<01:57,  2.47it/s]"
          ]
        },
        {
          "output_type": "stream",
          "name": "stdout",
          "text": [
            "Downloaded: gifs_temp/gif_17735.gif\n",
            "Deleted: gifs_temp/gif_17735.gif\n"
          ]
        },
        {
          "output_type": "stream",
          "name": "stderr",
          "text": [
            "\rProcessing GIFs:  71%|███████   | 711/1000 [05:36<02:03,  2.33it/s]"
          ]
        },
        {
          "output_type": "stream",
          "name": "stdout",
          "text": [
            "Downloaded: gifs_temp/gif_117111.gif\n",
            "Deleted: gifs_temp/gif_117111.gif\n"
          ]
        },
        {
          "output_type": "stream",
          "name": "stderr",
          "text": [
            "\rProcessing GIFs:  71%|███████   | 712/1000 [05:36<02:05,  2.29it/s]"
          ]
        },
        {
          "output_type": "stream",
          "name": "stdout",
          "text": [
            "Downloaded: gifs_temp/gif_68300.gif\n",
            "Deleted: gifs_temp/gif_68300.gif\n"
          ]
        },
        {
          "output_type": "stream",
          "name": "stderr",
          "text": [
            "\rProcessing GIFs:  71%|███████▏  | 713/1000 [05:36<02:00,  2.39it/s]"
          ]
        },
        {
          "output_type": "stream",
          "name": "stdout",
          "text": [
            "Downloaded: gifs_temp/gif_65510.gif\n",
            "Deleted: gifs_temp/gif_65510.gif\n"
          ]
        },
        {
          "output_type": "stream",
          "name": "stderr",
          "text": [
            "\rProcessing GIFs:  71%|███████▏  | 714/1000 [05:37<01:56,  2.46it/s]"
          ]
        },
        {
          "output_type": "stream",
          "name": "stdout",
          "text": [
            "Downloaded: gifs_temp/gif_46153.gif\n",
            "Deleted: gifs_temp/gif_46153.gif\n"
          ]
        },
        {
          "output_type": "stream",
          "name": "stderr",
          "text": [
            "\rProcessing GIFs:  72%|███████▏  | 715/1000 [05:37<01:52,  2.53it/s]"
          ]
        },
        {
          "output_type": "stream",
          "name": "stdout",
          "text": [
            "Downloaded: gifs_temp/gif_5593.gif\n",
            "Deleted: gifs_temp/gif_5593.gif\n"
          ]
        },
        {
          "output_type": "stream",
          "name": "stderr",
          "text": [
            "\rProcessing GIFs:  72%|███████▏  | 716/1000 [05:38<02:32,  1.86it/s]"
          ]
        },
        {
          "output_type": "stream",
          "name": "stdout",
          "text": [
            "Downloaded: gifs_temp/gif_56683.gif\n",
            "Deleted: gifs_temp/gif_56683.gif\n"
          ]
        },
        {
          "output_type": "stream",
          "name": "stderr",
          "text": [
            "\rProcessing GIFs:  72%|███████▏  | 717/1000 [05:38<02:20,  2.01it/s]"
          ]
        },
        {
          "output_type": "stream",
          "name": "stdout",
          "text": [
            "Downloaded: gifs_temp/gif_59704.gif\n",
            "Deleted: gifs_temp/gif_59704.gif\n"
          ]
        },
        {
          "output_type": "stream",
          "name": "stderr",
          "text": [
            "\rProcessing GIFs:  72%|███████▏  | 718/1000 [05:39<02:09,  2.19it/s]"
          ]
        },
        {
          "output_type": "stream",
          "name": "stdout",
          "text": [
            "Downloaded: gifs_temp/gif_121563.gif\n",
            "Deleted: gifs_temp/gif_121563.gif\n"
          ]
        },
        {
          "output_type": "stream",
          "name": "stderr",
          "text": [
            "\rProcessing GIFs:  72%|███████▏  | 719/1000 [05:39<02:04,  2.27it/s]"
          ]
        },
        {
          "output_type": "stream",
          "name": "stdout",
          "text": [
            "Downloaded: gifs_temp/gif_17143.gif\n",
            "Deleted: gifs_temp/gif_17143.gif\n"
          ]
        },
        {
          "output_type": "stream",
          "name": "stderr",
          "text": [
            "\rProcessing GIFs:  72%|███████▏  | 720/1000 [05:40<02:00,  2.33it/s]"
          ]
        },
        {
          "output_type": "stream",
          "name": "stdout",
          "text": [
            "Downloaded: gifs_temp/gif_32943.gif\n",
            "Deleted: gifs_temp/gif_32943.gif\n"
          ]
        },
        {
          "output_type": "stream",
          "name": "stderr",
          "text": [
            "\rProcessing GIFs:  72%|███████▏  | 721/1000 [05:40<01:54,  2.43it/s]"
          ]
        },
        {
          "output_type": "stream",
          "name": "stdout",
          "text": [
            "Downloaded: gifs_temp/gif_88882.gif\n",
            "Deleted: gifs_temp/gif_88882.gif\n"
          ]
        },
        {
          "output_type": "stream",
          "name": "stderr",
          "text": [
            "\rProcessing GIFs:  72%|███████▏  | 722/1000 [05:40<01:51,  2.49it/s]"
          ]
        },
        {
          "output_type": "stream",
          "name": "stdout",
          "text": [
            "Downloaded: gifs_temp/gif_54390.gif\n",
            "Deleted: gifs_temp/gif_54390.gif\n"
          ]
        },
        {
          "output_type": "stream",
          "name": "stderr",
          "text": [
            "\rProcessing GIFs:  72%|███████▏  | 723/1000 [05:41<02:00,  2.29it/s]"
          ]
        },
        {
          "output_type": "stream",
          "name": "stdout",
          "text": [
            "Downloaded: gifs_temp/gif_21363.gif\n",
            "Deleted: gifs_temp/gif_21363.gif\n"
          ]
        },
        {
          "output_type": "stream",
          "name": "stderr",
          "text": [
            "\rProcessing GIFs:  72%|███████▏  | 724/1000 [05:41<01:58,  2.34it/s]"
          ]
        },
        {
          "output_type": "stream",
          "name": "stdout",
          "text": [
            "Downloaded: gifs_temp/gif_46801.gif\n",
            "Deleted: gifs_temp/gif_46801.gif\n"
          ]
        },
        {
          "output_type": "stream",
          "name": "stderr",
          "text": [
            "\rProcessing GIFs:  72%|███████▎  | 725/1000 [05:42<01:54,  2.41it/s]"
          ]
        },
        {
          "output_type": "stream",
          "name": "stdout",
          "text": [
            "Downloaded: gifs_temp/gif_121297.gif\n",
            "Deleted: gifs_temp/gif_121297.gif\n"
          ]
        },
        {
          "output_type": "stream",
          "name": "stderr",
          "text": [
            "\rProcessing GIFs:  73%|███████▎  | 726/1000 [05:42<01:53,  2.41it/s]"
          ]
        },
        {
          "output_type": "stream",
          "name": "stdout",
          "text": [
            "Downloaded: gifs_temp/gif_13332.gif\n",
            "Deleted: gifs_temp/gif_13332.gif\n"
          ]
        },
        {
          "output_type": "stream",
          "name": "stderr",
          "text": [
            "\rProcessing GIFs:  73%|███████▎  | 727/1000 [05:43<01:52,  2.42it/s]"
          ]
        },
        {
          "output_type": "stream",
          "name": "stdout",
          "text": [
            "Downloaded: gifs_temp/gif_75106.gif\n",
            "Deleted: gifs_temp/gif_75106.gif\n"
          ]
        },
        {
          "output_type": "stream",
          "name": "stderr",
          "text": [
            "\rProcessing GIFs:  73%|███████▎  | 728/1000 [05:43<01:50,  2.45it/s]"
          ]
        },
        {
          "output_type": "stream",
          "name": "stdout",
          "text": [
            "Downloaded: gifs_temp/gif_72484.gif\n",
            "Deleted: gifs_temp/gif_72484.gif\n"
          ]
        },
        {
          "output_type": "stream",
          "name": "stderr",
          "text": [
            "\rProcessing GIFs:  73%|███████▎  | 729/1000 [05:43<01:55,  2.34it/s]"
          ]
        },
        {
          "output_type": "stream",
          "name": "stdout",
          "text": [
            "Downloaded: gifs_temp/gif_111679.gif\n",
            "Deleted: gifs_temp/gif_111679.gif\n"
          ]
        },
        {
          "output_type": "stream",
          "name": "stderr",
          "text": [
            "\rProcessing GIFs:  73%|███████▎  | 730/1000 [05:44<01:52,  2.40it/s]"
          ]
        },
        {
          "output_type": "stream",
          "name": "stdout",
          "text": [
            "Downloaded: gifs_temp/gif_89347.gif\n",
            "Deleted: gifs_temp/gif_89347.gif\n"
          ]
        },
        {
          "output_type": "stream",
          "name": "stderr",
          "text": [
            "\rProcessing GIFs:  73%|███████▎  | 731/1000 [05:44<01:49,  2.46it/s]"
          ]
        },
        {
          "output_type": "stream",
          "name": "stdout",
          "text": [
            "Downloaded: gifs_temp/gif_72005.gif\n",
            "Deleted: gifs_temp/gif_72005.gif\n"
          ]
        },
        {
          "output_type": "stream",
          "name": "stderr",
          "text": [
            "\rProcessing GIFs:  73%|███████▎  | 732/1000 [05:45<01:49,  2.46it/s]"
          ]
        },
        {
          "output_type": "stream",
          "name": "stdout",
          "text": [
            "Downloaded: gifs_temp/gif_99728.gif\n",
            "Deleted: gifs_temp/gif_99728.gif\n"
          ]
        },
        {
          "output_type": "stream",
          "name": "stderr",
          "text": [
            "\rProcessing GIFs:  73%|███████▎  | 733/1000 [05:45<01:51,  2.39it/s]"
          ]
        },
        {
          "output_type": "stream",
          "name": "stdout",
          "text": [
            "Downloaded: gifs_temp/gif_31273.gif\n",
            "Deleted: gifs_temp/gif_31273.gif\n"
          ]
        },
        {
          "output_type": "stream",
          "name": "stderr",
          "text": [
            "\rProcessing GIFs:  73%|███████▎  | 734/1000 [05:46<02:05,  2.13it/s]"
          ]
        },
        {
          "output_type": "stream",
          "name": "stdout",
          "text": [
            "Downloaded: gifs_temp/gif_42926.gif\n",
            "Deleted: gifs_temp/gif_42926.gif\n"
          ]
        },
        {
          "output_type": "stream",
          "name": "stderr",
          "text": [
            "\rProcessing GIFs:  74%|███████▎  | 735/1000 [05:46<02:08,  2.06it/s]"
          ]
        },
        {
          "output_type": "stream",
          "name": "stdout",
          "text": [
            "Downloaded: gifs_temp/gif_22534.gif\n",
            "Deleted: gifs_temp/gif_22534.gif\n"
          ]
        },
        {
          "output_type": "stream",
          "name": "stderr",
          "text": [
            "\rProcessing GIFs:  74%|███████▎  | 736/1000 [05:47<02:09,  2.04it/s]"
          ]
        },
        {
          "output_type": "stream",
          "name": "stdout",
          "text": [
            "Downloaded: gifs_temp/gif_94126.gif\n",
            "Deleted: gifs_temp/gif_94126.gif\n"
          ]
        },
        {
          "output_type": "stream",
          "name": "stderr",
          "text": [
            "\rProcessing GIFs:  74%|███████▎  | 737/1000 [05:47<02:01,  2.17it/s]"
          ]
        },
        {
          "output_type": "stream",
          "name": "stdout",
          "text": [
            "Downloaded: gifs_temp/gif_91969.gif\n",
            "Deleted: gifs_temp/gif_91969.gif\n"
          ]
        },
        {
          "output_type": "stream",
          "name": "stderr",
          "text": [
            "\rProcessing GIFs:  74%|███████▍  | 738/1000 [05:47<01:59,  2.20it/s]"
          ]
        },
        {
          "output_type": "stream",
          "name": "stdout",
          "text": [
            "Downloaded: gifs_temp/gif_87943.gif\n",
            "Deleted: gifs_temp/gif_87943.gif\n"
          ]
        },
        {
          "output_type": "stream",
          "name": "stderr",
          "text": [
            "\rProcessing GIFs:  74%|███████▍  | 739/1000 [05:48<01:53,  2.30it/s]"
          ]
        },
        {
          "output_type": "stream",
          "name": "stdout",
          "text": [
            "Downloaded: gifs_temp/gif_61010.gif\n",
            "Deleted: gifs_temp/gif_61010.gif\n"
          ]
        },
        {
          "output_type": "stream",
          "name": "stderr",
          "text": [
            "\rProcessing GIFs:  74%|███████▍  | 740/1000 [05:48<01:57,  2.22it/s]"
          ]
        },
        {
          "output_type": "stream",
          "name": "stdout",
          "text": [
            "Downloaded: gifs_temp/gif_4810.gif\n",
            "Deleted: gifs_temp/gif_4810.gif\n"
          ]
        },
        {
          "output_type": "stream",
          "name": "stderr",
          "text": [
            "\rProcessing GIFs:  74%|███████▍  | 741/1000 [05:49<01:43,  2.51it/s]"
          ]
        },
        {
          "output_type": "stream",
          "name": "stdout",
          "text": [
            "Downloaded: gifs_temp/gif_15630.gif\n",
            "Deleted: gifs_temp/gif_15630.gif\n"
          ]
        },
        {
          "output_type": "stream",
          "name": "stderr",
          "text": [
            "\rProcessing GIFs:  74%|███████▍  | 742/1000 [05:50<02:42,  1.59it/s]"
          ]
        },
        {
          "output_type": "stream",
          "name": "stdout",
          "text": [
            "Downloaded: gifs_temp/gif_115300.gif\n",
            "Deleted: gifs_temp/gif_115300.gif\n"
          ]
        },
        {
          "output_type": "stream",
          "name": "stderr",
          "text": [
            "\rProcessing GIFs:  74%|███████▍  | 743/1000 [05:50<02:30,  1.71it/s]"
          ]
        },
        {
          "output_type": "stream",
          "name": "stdout",
          "text": [
            "Downloaded: gifs_temp/gif_16746.gif\n",
            "Deleted: gifs_temp/gif_16746.gif\n"
          ]
        },
        {
          "output_type": "stream",
          "name": "stderr",
          "text": [
            "\rProcessing GIFs:  74%|███████▍  | 744/1000 [05:51<02:15,  1.89it/s]"
          ]
        },
        {
          "output_type": "stream",
          "name": "stdout",
          "text": [
            "Downloaded: gifs_temp/gif_60963.gif\n",
            "Deleted: gifs_temp/gif_60963.gif\n"
          ]
        },
        {
          "output_type": "stream",
          "name": "stderr",
          "text": [
            "\rProcessing GIFs:  74%|███████▍  | 745/1000 [05:51<02:06,  2.02it/s]"
          ]
        },
        {
          "output_type": "stream",
          "name": "stdout",
          "text": [
            "Downloaded: gifs_temp/gif_104292.gif\n",
            "Deleted: gifs_temp/gif_104292.gif\n"
          ]
        },
        {
          "output_type": "stream",
          "name": "stderr",
          "text": [
            "\rProcessing GIFs:  75%|███████▍  | 746/1000 [05:51<01:50,  2.29it/s]"
          ]
        },
        {
          "output_type": "stream",
          "name": "stdout",
          "text": [
            "Downloaded: gifs_temp/gif_125564.gif\n",
            "Deleted: gifs_temp/gif_125564.gif\n"
          ]
        },
        {
          "output_type": "stream",
          "name": "stderr",
          "text": [
            "\rProcessing GIFs:  75%|███████▍  | 747/1000 [05:52<01:51,  2.27it/s]"
          ]
        },
        {
          "output_type": "stream",
          "name": "stdout",
          "text": [
            "Downloaded: gifs_temp/gif_89215.gif\n",
            "Deleted: gifs_temp/gif_89215.gif\n"
          ]
        },
        {
          "output_type": "stream",
          "name": "stderr",
          "text": [
            "\rProcessing GIFs:  75%|███████▍  | 748/1000 [05:52<01:57,  2.15it/s]"
          ]
        },
        {
          "output_type": "stream",
          "name": "stdout",
          "text": [
            "Downloaded: gifs_temp/gif_44831.gif\n",
            "Deleted: gifs_temp/gif_44831.gif\n"
          ]
        },
        {
          "output_type": "stream",
          "name": "stderr",
          "text": [
            "\rProcessing GIFs:  75%|███████▍  | 749/1000 [05:53<01:50,  2.27it/s]"
          ]
        },
        {
          "output_type": "stream",
          "name": "stdout",
          "text": [
            "Downloaded: gifs_temp/gif_27036.gif\n",
            "Deleted: gifs_temp/gif_27036.gif\n"
          ]
        },
        {
          "output_type": "stream",
          "name": "stderr",
          "text": [
            "\rProcessing GIFs:  75%|███████▌  | 750/1000 [05:53<01:45,  2.36it/s]"
          ]
        },
        {
          "output_type": "stream",
          "name": "stdout",
          "text": [
            "Downloaded: gifs_temp/gif_17432.gif\n",
            "Deleted: gifs_temp/gif_17432.gif\n"
          ]
        },
        {
          "output_type": "stream",
          "name": "stderr",
          "text": [
            "\rProcessing GIFs:  75%|███████▌  | 751/1000 [05:54<02:20,  1.77it/s]"
          ]
        },
        {
          "output_type": "stream",
          "name": "stdout",
          "text": [
            "Downloaded: gifs_temp/gif_111362.gif\n",
            "Deleted: gifs_temp/gif_111362.gif\n"
          ]
        },
        {
          "output_type": "stream",
          "name": "stderr",
          "text": [
            "\rProcessing GIFs:  75%|███████▌  | 752/1000 [05:54<02:08,  1.93it/s]"
          ]
        },
        {
          "output_type": "stream",
          "name": "stdout",
          "text": [
            "Downloaded: gifs_temp/gif_47037.gif\n",
            "Deleted: gifs_temp/gif_47037.gif\n"
          ]
        },
        {
          "output_type": "stream",
          "name": "stderr",
          "text": [
            "\rProcessing GIFs:  75%|███████▌  | 753/1000 [05:55<01:57,  2.10it/s]"
          ]
        },
        {
          "output_type": "stream",
          "name": "stdout",
          "text": [
            "Downloaded: gifs_temp/gif_68551.gif\n",
            "Deleted: gifs_temp/gif_68551.gif\n"
          ]
        },
        {
          "output_type": "stream",
          "name": "stderr",
          "text": [
            "\rProcessing GIFs:  75%|███████▌  | 754/1000 [05:55<01:53,  2.16it/s]"
          ]
        },
        {
          "output_type": "stream",
          "name": "stdout",
          "text": [
            "Downloaded: gifs_temp/gif_44353.gif\n",
            "Deleted: gifs_temp/gif_44353.gif\n"
          ]
        },
        {
          "output_type": "stream",
          "name": "stderr",
          "text": [
            "\rProcessing GIFs:  76%|███████▌  | 755/1000 [05:56<01:47,  2.28it/s]"
          ]
        },
        {
          "output_type": "stream",
          "name": "stdout",
          "text": [
            "Downloaded: gifs_temp/gif_62894.gif\n",
            "Deleted: gifs_temp/gif_62894.gif\n"
          ]
        },
        {
          "output_type": "stream",
          "name": "stderr",
          "text": [
            "\rProcessing GIFs:  76%|███████▌  | 756/1000 [05:56<01:40,  2.42it/s]"
          ]
        },
        {
          "output_type": "stream",
          "name": "stdout",
          "text": [
            "Downloaded: gifs_temp/gif_113408.gif\n",
            "Deleted: gifs_temp/gif_113408.gif\n"
          ]
        },
        {
          "output_type": "stream",
          "name": "stderr",
          "text": [
            "\rProcessing GIFs:  76%|███████▌  | 757/1000 [05:56<01:42,  2.37it/s]"
          ]
        },
        {
          "output_type": "stream",
          "name": "stdout",
          "text": [
            "Downloaded: gifs_temp/gif_49571.gif\n",
            "Deleted: gifs_temp/gif_49571.gif\n"
          ]
        },
        {
          "output_type": "stream",
          "name": "stderr",
          "text": [
            "\rProcessing GIFs:  76%|███████▌  | 758/1000 [05:57<01:43,  2.33it/s]"
          ]
        },
        {
          "output_type": "stream",
          "name": "stdout",
          "text": [
            "Downloaded: gifs_temp/gif_33071.gif\n",
            "Deleted: gifs_temp/gif_33071.gif\n"
          ]
        },
        {
          "output_type": "stream",
          "name": "stderr",
          "text": [
            "\rProcessing GIFs:  76%|███████▌  | 759/1000 [05:57<01:38,  2.46it/s]"
          ]
        },
        {
          "output_type": "stream",
          "name": "stdout",
          "text": [
            "Downloaded: gifs_temp/gif_16777.gif\n",
            "Deleted: gifs_temp/gif_16777.gif\n"
          ]
        },
        {
          "output_type": "stream",
          "name": "stderr",
          "text": [
            "\rProcessing GIFs:  76%|███████▌  | 760/1000 [05:58<01:36,  2.49it/s]"
          ]
        },
        {
          "output_type": "stream",
          "name": "stdout",
          "text": [
            "Downloaded: gifs_temp/gif_35025.gif\n",
            "Deleted: gifs_temp/gif_35025.gif\n"
          ]
        },
        {
          "output_type": "stream",
          "name": "stderr",
          "text": [
            "\rProcessing GIFs:  76%|███████▌  | 761/1000 [05:58<01:38,  2.44it/s]"
          ]
        },
        {
          "output_type": "stream",
          "name": "stdout",
          "text": [
            "Downloaded: gifs_temp/gif_117985.gif\n",
            "Deleted: gifs_temp/gif_117985.gif\n"
          ]
        },
        {
          "output_type": "stream",
          "name": "stderr",
          "text": [
            "\rProcessing GIFs:  76%|███████▌  | 762/1000 [05:58<01:33,  2.54it/s]"
          ]
        },
        {
          "output_type": "stream",
          "name": "stdout",
          "text": [
            "Downloaded: gifs_temp/gif_52687.gif\n",
            "Deleted: gifs_temp/gif_52687.gif\n"
          ]
        },
        {
          "output_type": "stream",
          "name": "stderr",
          "text": [
            "\rProcessing GIFs:  76%|███████▋  | 763/1000 [05:59<01:35,  2.49it/s]"
          ]
        },
        {
          "output_type": "stream",
          "name": "stdout",
          "text": [
            "Downloaded: gifs_temp/gif_113289.gif\n",
            "Deleted: gifs_temp/gif_113289.gif\n"
          ]
        },
        {
          "output_type": "stream",
          "name": "stderr",
          "text": [
            "\rProcessing GIFs:  76%|███████▋  | 764/1000 [05:59<01:29,  2.64it/s]"
          ]
        },
        {
          "output_type": "stream",
          "name": "stdout",
          "text": [
            "Downloaded: gifs_temp/gif_113851.gif\n",
            "Deleted: gifs_temp/gif_113851.gif\n"
          ]
        },
        {
          "output_type": "stream",
          "name": "stderr",
          "text": [
            "\rProcessing GIFs:  76%|███████▋  | 765/1000 [06:00<01:38,  2.37it/s]"
          ]
        },
        {
          "output_type": "stream",
          "name": "stdout",
          "text": [
            "Downloaded: gifs_temp/gif_87354.gif\n",
            "Deleted: gifs_temp/gif_87354.gif\n"
          ]
        },
        {
          "output_type": "stream",
          "name": "stderr",
          "text": [
            "\rProcessing GIFs:  77%|███████▋  | 766/1000 [06:00<01:36,  2.42it/s]"
          ]
        },
        {
          "output_type": "stream",
          "name": "stdout",
          "text": [
            "Downloaded: gifs_temp/gif_117054.gif\n",
            "Deleted: gifs_temp/gif_117054.gif\n"
          ]
        },
        {
          "output_type": "stream",
          "name": "stderr",
          "text": [
            "\rProcessing GIFs:  77%|███████▋  | 767/1000 [06:01<01:38,  2.37it/s]"
          ]
        },
        {
          "output_type": "stream",
          "name": "stdout",
          "text": [
            "Downloaded: gifs_temp/gif_103587.gif\n",
            "Deleted: gifs_temp/gif_103587.gif\n"
          ]
        },
        {
          "output_type": "stream",
          "name": "stderr",
          "text": [
            "\rProcessing GIFs:  77%|███████▋  | 768/1000 [06:01<01:39,  2.34it/s]"
          ]
        },
        {
          "output_type": "stream",
          "name": "stdout",
          "text": [
            "Downloaded: gifs_temp/gif_65836.gif\n",
            "Deleted: gifs_temp/gif_65836.gif\n"
          ]
        },
        {
          "output_type": "stream",
          "name": "stderr",
          "text": [
            "\rProcessing GIFs:  77%|███████▋  | 769/1000 [06:01<01:42,  2.26it/s]"
          ]
        },
        {
          "output_type": "stream",
          "name": "stdout",
          "text": [
            "Downloaded: gifs_temp/gif_113870.gif\n",
            "Deleted: gifs_temp/gif_113870.gif\n"
          ]
        },
        {
          "output_type": "stream",
          "name": "stderr",
          "text": [
            "\rProcessing GIFs:  77%|███████▋  | 770/1000 [06:02<01:40,  2.29it/s]"
          ]
        },
        {
          "output_type": "stream",
          "name": "stdout",
          "text": [
            "Downloaded: gifs_temp/gif_17798.gif\n",
            "Deleted: gifs_temp/gif_17798.gif\n"
          ]
        },
        {
          "output_type": "stream",
          "name": "stderr",
          "text": [
            "\rProcessing GIFs:  77%|███████▋  | 771/1000 [06:02<01:44,  2.18it/s]"
          ]
        },
        {
          "output_type": "stream",
          "name": "stdout",
          "text": [
            "Downloaded: gifs_temp/gif_75983.gif\n",
            "Deleted: gifs_temp/gif_75983.gif\n"
          ]
        },
        {
          "output_type": "stream",
          "name": "stderr",
          "text": [
            "\rProcessing GIFs:  77%|███████▋  | 772/1000 [06:03<01:42,  2.22it/s]"
          ]
        },
        {
          "output_type": "stream",
          "name": "stdout",
          "text": [
            "Downloaded: gifs_temp/gif_102435.gif\n",
            "Deleted: gifs_temp/gif_102435.gif\n"
          ]
        },
        {
          "output_type": "stream",
          "name": "stderr",
          "text": [
            "\rProcessing GIFs:  77%|███████▋  | 773/1000 [06:03<01:40,  2.27it/s]"
          ]
        },
        {
          "output_type": "stream",
          "name": "stdout",
          "text": [
            "Downloaded: gifs_temp/gif_119728.gif\n",
            "Deleted: gifs_temp/gif_119728.gif\n"
          ]
        },
        {
          "output_type": "stream",
          "name": "stderr",
          "text": [
            "\rProcessing GIFs:  77%|███████▋  | 774/1000 [06:04<01:37,  2.32it/s]"
          ]
        },
        {
          "output_type": "stream",
          "name": "stdout",
          "text": [
            "Downloaded: gifs_temp/gif_69968.gif\n",
            "Deleted: gifs_temp/gif_69968.gif\n"
          ]
        },
        {
          "output_type": "stream",
          "name": "stderr",
          "text": [
            "\rProcessing GIFs:  78%|███████▊  | 775/1000 [06:04<01:54,  1.97it/s]"
          ]
        },
        {
          "output_type": "stream",
          "name": "stdout",
          "text": [
            "Downloaded: gifs_temp/gif_27255.gif\n",
            "Deleted: gifs_temp/gif_27255.gif\n"
          ]
        },
        {
          "output_type": "stream",
          "name": "stderr",
          "text": [
            "\rProcessing GIFs:  78%|███████▊  | 776/1000 [06:05<01:47,  2.09it/s]"
          ]
        },
        {
          "output_type": "stream",
          "name": "stdout",
          "text": [
            "Downloaded: gifs_temp/gif_4797.gif\n",
            "Deleted: gifs_temp/gif_4797.gif\n"
          ]
        },
        {
          "output_type": "stream",
          "name": "stderr",
          "text": [
            "\rProcessing GIFs:  78%|███████▊  | 777/1000 [06:05<01:37,  2.28it/s]"
          ]
        },
        {
          "output_type": "stream",
          "name": "stdout",
          "text": [
            "Downloaded: gifs_temp/gif_93776.gif\n",
            "Deleted: gifs_temp/gif_93776.gif\n"
          ]
        },
        {
          "output_type": "stream",
          "name": "stderr",
          "text": [
            "\rProcessing GIFs:  78%|███████▊  | 778/1000 [06:05<01:33,  2.36it/s]"
          ]
        },
        {
          "output_type": "stream",
          "name": "stdout",
          "text": [
            "Downloaded: gifs_temp/gif_57613.gif\n",
            "Deleted: gifs_temp/gif_57613.gif\n"
          ]
        },
        {
          "output_type": "stream",
          "name": "stderr",
          "text": [
            "\rProcessing GIFs:  78%|███████▊  | 779/1000 [06:06<01:30,  2.45it/s]"
          ]
        },
        {
          "output_type": "stream",
          "name": "stdout",
          "text": [
            "Downloaded: gifs_temp/gif_99963.gif\n",
            "Deleted: gifs_temp/gif_99963.gif\n"
          ]
        },
        {
          "output_type": "stream",
          "name": "stderr",
          "text": [
            "\rProcessing GIFs:  78%|███████▊  | 780/1000 [06:06<01:30,  2.44it/s]"
          ]
        },
        {
          "output_type": "stream",
          "name": "stdout",
          "text": [
            "Downloaded: gifs_temp/gif_123789.gif\n",
            "Deleted: gifs_temp/gif_123789.gif\n"
          ]
        },
        {
          "output_type": "stream",
          "name": "stderr",
          "text": [
            "\rProcessing GIFs:  78%|███████▊  | 781/1000 [06:07<01:36,  2.26it/s]"
          ]
        },
        {
          "output_type": "stream",
          "name": "stdout",
          "text": [
            "Downloaded: gifs_temp/gif_6957.gif\n",
            "Deleted: gifs_temp/gif_6957.gif\n"
          ]
        },
        {
          "output_type": "stream",
          "name": "stderr",
          "text": [
            "\rProcessing GIFs:  78%|███████▊  | 782/1000 [06:07<01:33,  2.33it/s]"
          ]
        },
        {
          "output_type": "stream",
          "name": "stdout",
          "text": [
            "Downloaded: gifs_temp/gif_1259.gif\n",
            "Deleted: gifs_temp/gif_1259.gif\n"
          ]
        },
        {
          "output_type": "stream",
          "name": "stderr",
          "text": [
            "\rProcessing GIFs:  78%|███████▊  | 783/1000 [06:08<01:36,  2.25it/s]"
          ]
        },
        {
          "output_type": "stream",
          "name": "stdout",
          "text": [
            "Downloaded: gifs_temp/gif_99236.gif\n",
            "Deleted: gifs_temp/gif_99236.gif\n"
          ]
        },
        {
          "output_type": "stream",
          "name": "stderr",
          "text": [
            "\rProcessing GIFs:  78%|███████▊  | 784/1000 [06:08<01:32,  2.34it/s]"
          ]
        },
        {
          "output_type": "stream",
          "name": "stdout",
          "text": [
            "Downloaded: gifs_temp/gif_122940.gif\n",
            "Deleted: gifs_temp/gif_122940.gif\n"
          ]
        },
        {
          "output_type": "stream",
          "name": "stderr",
          "text": [
            "\rProcessing GIFs:  78%|███████▊  | 785/1000 [06:09<01:54,  1.88it/s]"
          ]
        },
        {
          "output_type": "stream",
          "name": "stdout",
          "text": [
            "Downloaded: gifs_temp/gif_88472.gif\n",
            "Deleted: gifs_temp/gif_88472.gif\n"
          ]
        },
        {
          "output_type": "stream",
          "name": "stderr",
          "text": [
            "\rProcessing GIFs:  79%|███████▊  | 786/1000 [06:09<01:44,  2.05it/s]"
          ]
        },
        {
          "output_type": "stream",
          "name": "stdout",
          "text": [
            "Downloaded: gifs_temp/gif_4202.gif\n",
            "Deleted: gifs_temp/gif_4202.gif\n"
          ]
        },
        {
          "output_type": "stream",
          "name": "stderr",
          "text": [
            "\rProcessing GIFs:  79%|███████▊  | 787/1000 [06:10<02:10,  1.64it/s]"
          ]
        },
        {
          "output_type": "stream",
          "name": "stdout",
          "text": [
            "Downloaded: gifs_temp/gif_11894.gif\n",
            "Deleted: gifs_temp/gif_11894.gif\n"
          ]
        },
        {
          "output_type": "stream",
          "name": "stderr",
          "text": [
            "\rProcessing GIFs:  79%|███████▉  | 788/1000 [06:11<01:58,  1.79it/s]"
          ]
        },
        {
          "output_type": "stream",
          "name": "stdout",
          "text": [
            "Downloaded: gifs_temp/gif_19822.gif\n",
            "Deleted: gifs_temp/gif_19822.gif\n"
          ]
        },
        {
          "output_type": "stream",
          "name": "stderr",
          "text": [
            "\rProcessing GIFs:  79%|███████▉  | 789/1000 [06:11<01:47,  1.97it/s]"
          ]
        },
        {
          "output_type": "stream",
          "name": "stdout",
          "text": [
            "Downloaded: gifs_temp/gif_75489.gif\n",
            "Deleted: gifs_temp/gif_75489.gif\n"
          ]
        },
        {
          "output_type": "stream",
          "name": "stderr",
          "text": [
            "\rProcessing GIFs:  79%|███████▉  | 790/1000 [06:11<01:39,  2.11it/s]"
          ]
        },
        {
          "output_type": "stream",
          "name": "stdout",
          "text": [
            "Downloaded: gifs_temp/gif_54954.gif\n",
            "Deleted: gifs_temp/gif_54954.gif\n"
          ]
        },
        {
          "output_type": "stream",
          "name": "stderr",
          "text": [
            "\rProcessing GIFs:  79%|███████▉  | 791/1000 [06:12<01:37,  2.15it/s]"
          ]
        },
        {
          "output_type": "stream",
          "name": "stdout",
          "text": [
            "Downloaded: gifs_temp/gif_71800.gif\n",
            "Deleted: gifs_temp/gif_71800.gif\n"
          ]
        },
        {
          "output_type": "stream",
          "name": "stderr",
          "text": [
            "\rProcessing GIFs:  79%|███████▉  | 792/1000 [06:12<01:31,  2.26it/s]"
          ]
        },
        {
          "output_type": "stream",
          "name": "stdout",
          "text": [
            "Downloaded: gifs_temp/gif_101231.gif\n",
            "Deleted: gifs_temp/gif_101231.gif\n"
          ]
        },
        {
          "output_type": "stream",
          "name": "stderr",
          "text": [
            "\rProcessing GIFs:  79%|███████▉  | 793/1000 [06:12<01:25,  2.42it/s]"
          ]
        },
        {
          "output_type": "stream",
          "name": "stdout",
          "text": [
            "Downloaded: gifs_temp/gif_95454.gif\n",
            "Deleted: gifs_temp/gif_95454.gif\n",
            "Downloaded: gifs_temp/gif_44226.gif\n"
          ]
        },
        {
          "output_type": "stream",
          "name": "stderr",
          "text": [
            "\rProcessing GIFs:  79%|███████▉  | 794/1000 [06:13<01:35,  2.15it/s]"
          ]
        },
        {
          "output_type": "stream",
          "name": "stdout",
          "text": [
            "Deleted: gifs_temp/gif_44226.gif\n"
          ]
        },
        {
          "output_type": "stream",
          "name": "stderr",
          "text": [
            "\rProcessing GIFs:  80%|███████▉  | 795/1000 [06:13<01:33,  2.20it/s]"
          ]
        },
        {
          "output_type": "stream",
          "name": "stdout",
          "text": [
            "Downloaded: gifs_temp/gif_76909.gif\n",
            "Deleted: gifs_temp/gif_76909.gif\n"
          ]
        },
        {
          "output_type": "stream",
          "name": "stderr",
          "text": [
            "\rProcessing GIFs:  80%|███████▉  | 796/1000 [06:14<01:30,  2.26it/s]"
          ]
        },
        {
          "output_type": "stream",
          "name": "stdout",
          "text": [
            "Downloaded: gifs_temp/gif_35651.gif\n",
            "Deleted: gifs_temp/gif_35651.gif\n"
          ]
        },
        {
          "output_type": "stream",
          "name": "stderr",
          "text": [
            "\rProcessing GIFs:  80%|███████▉  | 797/1000 [06:14<01:29,  2.27it/s]"
          ]
        },
        {
          "output_type": "stream",
          "name": "stdout",
          "text": [
            "Downloaded: gifs_temp/gif_115469.gif\n",
            "Deleted: gifs_temp/gif_115469.gif\n",
            "Downloaded: gifs_temp/gif_1369.gif\n"
          ]
        },
        {
          "output_type": "stream",
          "name": "stderr",
          "text": [
            "\rProcessing GIFs:  80%|███████▉  | 798/1000 [06:15<01:37,  2.07it/s]"
          ]
        },
        {
          "output_type": "stream",
          "name": "stdout",
          "text": [
            "Deleted: gifs_temp/gif_1369.gif\n"
          ]
        },
        {
          "output_type": "stream",
          "name": "stderr",
          "text": [
            "\rProcessing GIFs:  80%|███████▉  | 799/1000 [06:15<01:36,  2.08it/s]"
          ]
        },
        {
          "output_type": "stream",
          "name": "stdout",
          "text": [
            "Downloaded: gifs_temp/gif_96978.gif\n",
            "Deleted: gifs_temp/gif_96978.gif\n"
          ]
        },
        {
          "output_type": "stream",
          "name": "stderr",
          "text": [
            "\rProcessing GIFs:  80%|████████  | 800/1000 [06:16<01:31,  2.19it/s]"
          ]
        },
        {
          "output_type": "stream",
          "name": "stdout",
          "text": [
            "Downloaded: gifs_temp/gif_99516.gif\n",
            "Deleted: gifs_temp/gif_99516.gif\n"
          ]
        },
        {
          "output_type": "stream",
          "name": "stderr",
          "text": [
            "\rProcessing GIFs:  80%|████████  | 801/1000 [06:16<01:28,  2.25it/s]"
          ]
        },
        {
          "output_type": "stream",
          "name": "stdout",
          "text": [
            "Downloaded: gifs_temp/gif_37979.gif\n",
            "Deleted: gifs_temp/gif_37979.gif\n"
          ]
        },
        {
          "output_type": "stream",
          "name": "stderr",
          "text": [
            "\rProcessing GIFs:  80%|████████  | 802/1000 [06:17<01:22,  2.40it/s]"
          ]
        },
        {
          "output_type": "stream",
          "name": "stdout",
          "text": [
            "Downloaded: gifs_temp/gif_40448.gif\n",
            "Deleted: gifs_temp/gif_40448.gif\n"
          ]
        },
        {
          "output_type": "stream",
          "name": "stderr",
          "text": [
            "\rProcessing GIFs:  80%|████████  | 803/1000 [06:17<01:20,  2.43it/s]"
          ]
        },
        {
          "output_type": "stream",
          "name": "stdout",
          "text": [
            "Downloaded: gifs_temp/gif_36470.gif\n",
            "Deleted: gifs_temp/gif_36470.gif\n"
          ]
        },
        {
          "output_type": "stream",
          "name": "stderr",
          "text": [
            "\rProcessing GIFs:  80%|████████  | 804/1000 [06:17<01:20,  2.43it/s]"
          ]
        },
        {
          "output_type": "stream",
          "name": "stdout",
          "text": [
            "Downloaded: gifs_temp/gif_72488.gif\n",
            "Deleted: gifs_temp/gif_72488.gif\n"
          ]
        },
        {
          "output_type": "stream",
          "name": "stderr",
          "text": [
            "\rProcessing GIFs:  80%|████████  | 805/1000 [06:18<01:21,  2.39it/s]"
          ]
        },
        {
          "output_type": "stream",
          "name": "stdout",
          "text": [
            "Downloaded: gifs_temp/gif_93860.gif\n",
            "Deleted: gifs_temp/gif_93860.gif\n"
          ]
        },
        {
          "output_type": "stream",
          "name": "stderr",
          "text": [
            "\rProcessing GIFs:  81%|████████  | 806/1000 [06:18<01:18,  2.47it/s]"
          ]
        },
        {
          "output_type": "stream",
          "name": "stdout",
          "text": [
            "Downloaded: gifs_temp/gif_101910.gif\n",
            "Deleted: gifs_temp/gif_101910.gif\n"
          ]
        },
        {
          "output_type": "stream",
          "name": "stderr",
          "text": [
            "\rProcessing GIFs:  81%|████████  | 807/1000 [06:19<01:23,  2.32it/s]"
          ]
        },
        {
          "output_type": "stream",
          "name": "stdout",
          "text": [
            "Downloaded: gifs_temp/gif_73168.gif\n",
            "Deleted: gifs_temp/gif_73168.gif\n"
          ]
        },
        {
          "output_type": "stream",
          "name": "stderr",
          "text": [
            "\rProcessing GIFs:  81%|████████  | 808/1000 [06:20<01:52,  1.70it/s]"
          ]
        },
        {
          "output_type": "stream",
          "name": "stdout",
          "text": [
            "Downloaded: gifs_temp/gif_27489.gif\n",
            "Deleted: gifs_temp/gif_27489.gif\n"
          ]
        },
        {
          "output_type": "stream",
          "name": "stderr",
          "text": [
            "\rProcessing GIFs:  81%|████████  | 809/1000 [06:20<01:48,  1.76it/s]"
          ]
        },
        {
          "output_type": "stream",
          "name": "stdout",
          "text": [
            "Downloaded: gifs_temp/gif_18545.gif\n",
            "Deleted: gifs_temp/gif_18545.gif\n"
          ]
        },
        {
          "output_type": "stream",
          "name": "stderr",
          "text": [
            "\rProcessing GIFs:  81%|████████  | 810/1000 [06:21<01:41,  1.88it/s]"
          ]
        },
        {
          "output_type": "stream",
          "name": "stdout",
          "text": [
            "Downloaded: gifs_temp/gif_60323.gif\n",
            "Deleted: gifs_temp/gif_60323.gif\n"
          ]
        },
        {
          "output_type": "stream",
          "name": "stderr",
          "text": [
            "\rProcessing GIFs:  81%|████████  | 811/1000 [06:21<01:27,  2.16it/s]"
          ]
        },
        {
          "output_type": "stream",
          "name": "stdout",
          "text": [
            "Downloaded: gifs_temp/gif_22168.gif\n",
            "Deleted: gifs_temp/gif_22168.gif\n"
          ]
        },
        {
          "output_type": "stream",
          "name": "stderr",
          "text": [
            "\rProcessing GIFs:  81%|████████  | 812/1000 [06:21<01:25,  2.21it/s]"
          ]
        },
        {
          "output_type": "stream",
          "name": "stdout",
          "text": [
            "Downloaded: gifs_temp/gif_100864.gif\n",
            "Deleted: gifs_temp/gif_100864.gif\n"
          ]
        },
        {
          "output_type": "stream",
          "name": "stderr",
          "text": [
            "\rProcessing GIFs:  81%|████████▏ | 813/1000 [06:22<01:23,  2.23it/s]"
          ]
        },
        {
          "output_type": "stream",
          "name": "stdout",
          "text": [
            "Downloaded: gifs_temp/gif_11340.gif\n",
            "Deleted: gifs_temp/gif_11340.gif\n"
          ]
        },
        {
          "output_type": "stream",
          "name": "stderr",
          "text": [
            "\rProcessing GIFs:  81%|████████▏ | 814/1000 [06:22<01:18,  2.38it/s]"
          ]
        },
        {
          "output_type": "stream",
          "name": "stdout",
          "text": [
            "Downloaded: gifs_temp/gif_55487.gif\n",
            "Deleted: gifs_temp/gif_55487.gif\n"
          ]
        },
        {
          "output_type": "stream",
          "name": "stderr",
          "text": [
            "\rProcessing GIFs:  82%|████████▏ | 815/1000 [06:23<01:15,  2.44it/s]"
          ]
        },
        {
          "output_type": "stream",
          "name": "stdout",
          "text": [
            "Downloaded: gifs_temp/gif_62323.gif\n",
            "Deleted: gifs_temp/gif_62323.gif\n"
          ]
        },
        {
          "output_type": "stream",
          "name": "stderr",
          "text": [
            "\rProcessing GIFs:  82%|████████▏ | 816/1000 [06:23<01:13,  2.49it/s]"
          ]
        },
        {
          "output_type": "stream",
          "name": "stdout",
          "text": [
            "Downloaded: gifs_temp/gif_37424.gif\n",
            "Deleted: gifs_temp/gif_37424.gif\n"
          ]
        },
        {
          "output_type": "stream",
          "name": "stderr",
          "text": [
            "\rProcessing GIFs:  82%|████████▏ | 817/1000 [06:23<01:13,  2.51it/s]"
          ]
        },
        {
          "output_type": "stream",
          "name": "stdout",
          "text": [
            "Downloaded: gifs_temp/gif_95819.gif\n",
            "Deleted: gifs_temp/gif_95819.gif\n"
          ]
        },
        {
          "output_type": "stream",
          "name": "stderr",
          "text": [
            "\rProcessing GIFs:  82%|████████▏ | 818/1000 [06:24<01:11,  2.54it/s]"
          ]
        },
        {
          "output_type": "stream",
          "name": "stdout",
          "text": [
            "Downloaded: gifs_temp/gif_29987.gif\n",
            "Deleted: gifs_temp/gif_29987.gif\n"
          ]
        },
        {
          "output_type": "stream",
          "name": "stderr",
          "text": [
            "\rProcessing GIFs:  82%|████████▏ | 819/1000 [06:24<01:11,  2.54it/s]"
          ]
        },
        {
          "output_type": "stream",
          "name": "stdout",
          "text": [
            "Downloaded: gifs_temp/gif_113973.gif\n",
            "Deleted: gifs_temp/gif_113973.gif\n"
          ]
        },
        {
          "output_type": "stream",
          "name": "stderr",
          "text": [
            "\rProcessing GIFs:  82%|████████▏ | 820/1000 [06:24<01:13,  2.45it/s]"
          ]
        },
        {
          "output_type": "stream",
          "name": "stdout",
          "text": [
            "Downloaded: gifs_temp/gif_23929.gif\n",
            "Deleted: gifs_temp/gif_23929.gif\n"
          ]
        },
        {
          "output_type": "stream",
          "name": "stderr",
          "text": [
            "\rProcessing GIFs:  82%|████████▏ | 821/1000 [06:25<01:07,  2.65it/s]"
          ]
        },
        {
          "output_type": "stream",
          "name": "stdout",
          "text": [
            "Downloaded: gifs_temp/gif_78754.gif\n",
            "Deleted: gifs_temp/gif_78754.gif\n",
            "Downloaded: gifs_temp/gif_90448.gif\n"
          ]
        },
        {
          "output_type": "stream",
          "name": "stderr",
          "text": [
            "\rProcessing GIFs:  82%|████████▏ | 822/1000 [06:26<01:29,  1.99it/s]"
          ]
        },
        {
          "output_type": "stream",
          "name": "stdout",
          "text": [
            "Deleted: gifs_temp/gif_90448.gif\n"
          ]
        },
        {
          "output_type": "stream",
          "name": "stderr",
          "text": [
            "\rProcessing GIFs:  82%|████████▏ | 823/1000 [06:26<01:24,  2.08it/s]"
          ]
        },
        {
          "output_type": "stream",
          "name": "stdout",
          "text": [
            "Downloaded: gifs_temp/gif_22061.gif\n",
            "Deleted: gifs_temp/gif_22061.gif\n"
          ]
        },
        {
          "output_type": "stream",
          "name": "stderr",
          "text": [
            "\rProcessing GIFs:  82%|████████▏ | 824/1000 [06:26<01:22,  2.13it/s]"
          ]
        },
        {
          "output_type": "stream",
          "name": "stdout",
          "text": [
            "Downloaded: gifs_temp/gif_93044.gif\n",
            "Deleted: gifs_temp/gif_93044.gif\n"
          ]
        },
        {
          "output_type": "stream",
          "name": "stderr",
          "text": [
            "\rProcessing GIFs:  82%|████████▎ | 825/1000 [06:27<01:25,  2.04it/s]"
          ]
        },
        {
          "output_type": "stream",
          "name": "stdout",
          "text": [
            "Downloaded: gifs_temp/gif_102243.gif\n",
            "Deleted: gifs_temp/gif_102243.gif\n"
          ]
        },
        {
          "output_type": "stream",
          "name": "stderr",
          "text": [
            "\rProcessing GIFs:  83%|████████▎ | 826/1000 [06:27<01:22,  2.12it/s]"
          ]
        },
        {
          "output_type": "stream",
          "name": "stdout",
          "text": [
            "Downloaded: gifs_temp/gif_55321.gif\n",
            "Deleted: gifs_temp/gif_55321.gif\n"
          ]
        },
        {
          "output_type": "stream",
          "name": "stderr",
          "text": [
            "\rProcessing GIFs:  83%|████████▎ | 827/1000 [06:28<01:17,  2.22it/s]"
          ]
        },
        {
          "output_type": "stream",
          "name": "stdout",
          "text": [
            "Downloaded: gifs_temp/gif_43223.gif\n",
            "Deleted: gifs_temp/gif_43223.gif\n"
          ]
        },
        {
          "output_type": "stream",
          "name": "stderr",
          "text": [
            "\rProcessing GIFs:  83%|████████▎ | 828/1000 [06:28<01:10,  2.44it/s]"
          ]
        },
        {
          "output_type": "stream",
          "name": "stdout",
          "text": [
            "Downloaded: gifs_temp/gif_3230.gif\n",
            "Deleted: gifs_temp/gif_3230.gif\n"
          ]
        },
        {
          "output_type": "stream",
          "name": "stderr",
          "text": [
            "\rProcessing GIFs:  83%|████████▎ | 829/1000 [06:29<01:14,  2.31it/s]"
          ]
        },
        {
          "output_type": "stream",
          "name": "stdout",
          "text": [
            "Downloaded: gifs_temp/gif_3026.gif\n",
            "Deleted: gifs_temp/gif_3026.gif\n"
          ]
        },
        {
          "output_type": "stream",
          "name": "stderr",
          "text": [
            "\rProcessing GIFs:  83%|████████▎ | 830/1000 [06:29<01:12,  2.34it/s]"
          ]
        },
        {
          "output_type": "stream",
          "name": "stdout",
          "text": [
            "Downloaded: gifs_temp/gif_67902.gif\n",
            "Deleted: gifs_temp/gif_67902.gif\n"
          ]
        },
        {
          "output_type": "stream",
          "name": "stderr",
          "text": [
            "\rProcessing GIFs:  83%|████████▎ | 831/1000 [06:29<01:09,  2.45it/s]"
          ]
        },
        {
          "output_type": "stream",
          "name": "stdout",
          "text": [
            "Downloaded: gifs_temp/gif_95420.gif\n",
            "Deleted: gifs_temp/gif_95420.gif\n"
          ]
        },
        {
          "output_type": "stream",
          "name": "stderr",
          "text": [
            "\rProcessing GIFs:  83%|████████▎ | 832/1000 [06:30<01:13,  2.29it/s]"
          ]
        },
        {
          "output_type": "stream",
          "name": "stdout",
          "text": [
            "Downloaded: gifs_temp/gif_60815.gif\n",
            "Deleted: gifs_temp/gif_60815.gif\n"
          ]
        },
        {
          "output_type": "stream",
          "name": "stderr",
          "text": [
            "\rProcessing GIFs:  83%|████████▎ | 833/1000 [06:31<01:40,  1.67it/s]"
          ]
        },
        {
          "output_type": "stream",
          "name": "stdout",
          "text": [
            "Downloaded: gifs_temp/gif_66455.gif\n",
            "Deleted: gifs_temp/gif_66455.gif\n"
          ]
        },
        {
          "output_type": "stream",
          "name": "stderr",
          "text": [
            "\rProcessing GIFs:  83%|████████▎ | 834/1000 [06:31<01:27,  1.90it/s]"
          ]
        },
        {
          "output_type": "stream",
          "name": "stdout",
          "text": [
            "Downloaded: gifs_temp/gif_86943.gif\n",
            "Deleted: gifs_temp/gif_86943.gif\n"
          ]
        },
        {
          "output_type": "stream",
          "name": "stderr",
          "text": [
            "\rProcessing GIFs:  84%|████████▎ | 835/1000 [06:32<01:32,  1.79it/s]"
          ]
        },
        {
          "output_type": "stream",
          "name": "stdout",
          "text": [
            "Downloaded: gifs_temp/gif_119496.gif\n",
            "Deleted: gifs_temp/gif_119496.gif\n"
          ]
        },
        {
          "output_type": "stream",
          "name": "stderr",
          "text": [
            "\rProcessing GIFs:  84%|████████▎ | 836/1000 [06:32<01:21,  2.01it/s]"
          ]
        },
        {
          "output_type": "stream",
          "name": "stdout",
          "text": [
            "Downloaded: gifs_temp/gif_120124.gif\n",
            "Deleted: gifs_temp/gif_120124.gif\n"
          ]
        },
        {
          "output_type": "stream",
          "name": "stderr",
          "text": [
            "\rProcessing GIFs:  84%|████████▎ | 837/1000 [06:33<01:25,  1.90it/s]"
          ]
        },
        {
          "output_type": "stream",
          "name": "stdout",
          "text": [
            "Downloaded: gifs_temp/gif_28656.gif\n",
            "Deleted: gifs_temp/gif_28656.gif\n"
          ]
        },
        {
          "output_type": "stream",
          "name": "stderr",
          "text": [
            "\rProcessing GIFs:  84%|████████▍ | 838/1000 [06:33<01:17,  2.08it/s]"
          ]
        },
        {
          "output_type": "stream",
          "name": "stdout",
          "text": [
            "Downloaded: gifs_temp/gif_19420.gif\n",
            "Deleted: gifs_temp/gif_19420.gif\n"
          ]
        },
        {
          "output_type": "stream",
          "name": "stderr",
          "text": [
            "\rProcessing GIFs:  84%|████████▍ | 839/1000 [06:34<01:16,  2.09it/s]"
          ]
        },
        {
          "output_type": "stream",
          "name": "stdout",
          "text": [
            "Downloaded: gifs_temp/gif_89236.gif\n",
            "Deleted: gifs_temp/gif_89236.gif\n"
          ]
        },
        {
          "output_type": "stream",
          "name": "stderr",
          "text": [
            "\rProcessing GIFs:  84%|████████▍ | 840/1000 [06:34<01:10,  2.25it/s]"
          ]
        },
        {
          "output_type": "stream",
          "name": "stdout",
          "text": [
            "Downloaded: gifs_temp/gif_74714.gif\n",
            "Deleted: gifs_temp/gif_74714.gif\n"
          ]
        },
        {
          "output_type": "stream",
          "name": "stderr",
          "text": [
            "\rProcessing GIFs:  84%|████████▍ | 841/1000 [06:34<01:05,  2.41it/s]"
          ]
        },
        {
          "output_type": "stream",
          "name": "stdout",
          "text": [
            "Downloaded: gifs_temp/gif_39326.gif\n",
            "Deleted: gifs_temp/gif_39326.gif\n"
          ]
        },
        {
          "output_type": "stream",
          "name": "stderr",
          "text": [
            "\rProcessing GIFs:  84%|████████▍ | 842/1000 [06:35<01:04,  2.44it/s]"
          ]
        },
        {
          "output_type": "stream",
          "name": "stdout",
          "text": [
            "Downloaded: gifs_temp/gif_41162.gif\n",
            "Deleted: gifs_temp/gif_41162.gif\n"
          ]
        },
        {
          "output_type": "stream",
          "name": "stderr",
          "text": [
            "\rProcessing GIFs:  84%|████████▍ | 843/1000 [06:35<01:08,  2.28it/s]"
          ]
        },
        {
          "output_type": "stream",
          "name": "stdout",
          "text": [
            "Downloaded: gifs_temp/gif_60202.gif\n",
            "Deleted: gifs_temp/gif_60202.gif\n"
          ]
        },
        {
          "output_type": "stream",
          "name": "stderr",
          "text": [
            "\rProcessing GIFs:  84%|████████▍ | 844/1000 [06:36<01:05,  2.38it/s]"
          ]
        },
        {
          "output_type": "stream",
          "name": "stdout",
          "text": [
            "Downloaded: gifs_temp/gif_92900.gif\n",
            "Deleted: gifs_temp/gif_92900.gif\n"
          ]
        },
        {
          "output_type": "stream",
          "name": "stderr",
          "text": [
            "\rProcessing GIFs:  84%|████████▍ | 845/1000 [06:36<01:21,  1.91it/s]"
          ]
        },
        {
          "output_type": "stream",
          "name": "stdout",
          "text": [
            "Downloaded: gifs_temp/gif_102638.gif\n",
            "Deleted: gifs_temp/gif_102638.gif\n"
          ]
        },
        {
          "output_type": "stream",
          "name": "stderr",
          "text": [
            "\rProcessing GIFs:  85%|████████▍ | 846/1000 [06:37<01:15,  2.03it/s]"
          ]
        },
        {
          "output_type": "stream",
          "name": "stdout",
          "text": [
            "Downloaded: gifs_temp/gif_20172.gif\n",
            "Deleted: gifs_temp/gif_20172.gif\n"
          ]
        },
        {
          "output_type": "stream",
          "name": "stderr",
          "text": [
            "\rProcessing GIFs:  85%|████████▍ | 847/1000 [06:37<01:10,  2.16it/s]"
          ]
        },
        {
          "output_type": "stream",
          "name": "stdout",
          "text": [
            "Downloaded: gifs_temp/gif_63781.gif\n",
            "Deleted: gifs_temp/gif_63781.gif\n"
          ]
        },
        {
          "output_type": "stream",
          "name": "stderr",
          "text": [
            "\rProcessing GIFs:  85%|████████▍ | 848/1000 [06:38<01:07,  2.26it/s]"
          ]
        },
        {
          "output_type": "stream",
          "name": "stdout",
          "text": [
            "Downloaded: gifs_temp/gif_93095.gif\n",
            "Deleted: gifs_temp/gif_93095.gif\n",
            "Downloaded: gifs_temp/gif_607.gif\n"
          ]
        },
        {
          "output_type": "stream",
          "name": "stderr",
          "text": [
            "\rProcessing GIFs:  85%|████████▍ | 849/1000 [06:38<01:12,  2.09it/s]"
          ]
        },
        {
          "output_type": "stream",
          "name": "stdout",
          "text": [
            "Deleted: gifs_temp/gif_607.gif\n"
          ]
        },
        {
          "output_type": "stream",
          "name": "stderr",
          "text": [
            "\rProcessing GIFs:  85%|████████▌ | 850/1000 [06:39<01:27,  1.71it/s]"
          ]
        },
        {
          "output_type": "stream",
          "name": "stdout",
          "text": [
            "Downloaded: gifs_temp/gif_120882.gif\n",
            "Deleted: gifs_temp/gif_120882.gif\n"
          ]
        },
        {
          "output_type": "stream",
          "name": "stderr",
          "text": [
            "\rProcessing GIFs:  85%|████████▌ | 851/1000 [06:40<01:24,  1.76it/s]"
          ]
        },
        {
          "output_type": "stream",
          "name": "stdout",
          "text": [
            "Downloaded: gifs_temp/gif_18608.gif\n",
            "Deleted: gifs_temp/gif_18608.gif\n"
          ]
        },
        {
          "output_type": "stream",
          "name": "stderr",
          "text": [
            "\rProcessing GIFs:  85%|████████▌ | 852/1000 [06:40<01:18,  1.89it/s]"
          ]
        },
        {
          "output_type": "stream",
          "name": "stdout",
          "text": [
            "Downloaded: gifs_temp/gif_122257.gif\n",
            "Deleted: gifs_temp/gif_122257.gif\n"
          ]
        },
        {
          "output_type": "stream",
          "name": "stderr",
          "text": [
            "\rProcessing GIFs:  85%|████████▌ | 853/1000 [06:40<01:13,  1.99it/s]"
          ]
        },
        {
          "output_type": "stream",
          "name": "stdout",
          "text": [
            "Downloaded: gifs_temp/gif_119265.gif\n",
            "Deleted: gifs_temp/gif_119265.gif\n"
          ]
        },
        {
          "output_type": "stream",
          "name": "stderr",
          "text": [
            "\rProcessing GIFs:  85%|████████▌ | 854/1000 [06:41<01:10,  2.09it/s]"
          ]
        },
        {
          "output_type": "stream",
          "name": "stdout",
          "text": [
            "Downloaded: gifs_temp/gif_83734.gif\n",
            "Deleted: gifs_temp/gif_83734.gif\n"
          ]
        },
        {
          "output_type": "stream",
          "name": "stderr",
          "text": [
            "\rProcessing GIFs:  86%|████████▌ | 855/1000 [06:41<01:06,  2.19it/s]"
          ]
        },
        {
          "output_type": "stream",
          "name": "stdout",
          "text": [
            "Downloaded: gifs_temp/gif_11256.gif\n",
            "Deleted: gifs_temp/gif_11256.gif\n"
          ]
        },
        {
          "output_type": "stream",
          "name": "stderr",
          "text": [
            "\rProcessing GIFs:  86%|████████▌ | 856/1000 [06:42<01:03,  2.27it/s]"
          ]
        },
        {
          "output_type": "stream",
          "name": "stdout",
          "text": [
            "Downloaded: gifs_temp/gif_106799.gif\n",
            "Deleted: gifs_temp/gif_106799.gif\n"
          ]
        },
        {
          "output_type": "stream",
          "name": "stderr",
          "text": [
            "\rProcessing GIFs:  86%|████████▌ | 857/1000 [06:42<00:56,  2.51it/s]"
          ]
        },
        {
          "output_type": "stream",
          "name": "stdout",
          "text": [
            "Downloaded: gifs_temp/gif_59669.gif\n",
            "Deleted: gifs_temp/gif_59669.gif\n"
          ]
        },
        {
          "output_type": "stream",
          "name": "stderr",
          "text": [
            "\rProcessing GIFs:  86%|████████▌ | 858/1000 [06:42<00:56,  2.52it/s]"
          ]
        },
        {
          "output_type": "stream",
          "name": "stdout",
          "text": [
            "Downloaded: gifs_temp/gif_89492.gif\n",
            "Deleted: gifs_temp/gif_89492.gif\n"
          ]
        },
        {
          "output_type": "stream",
          "name": "stderr",
          "text": [
            "\rProcessing GIFs:  86%|████████▌ | 859/1000 [06:43<00:55,  2.54it/s]"
          ]
        },
        {
          "output_type": "stream",
          "name": "stdout",
          "text": [
            "Downloaded: gifs_temp/gif_88405.gif\n",
            "Deleted: gifs_temp/gif_88405.gif\n"
          ]
        },
        {
          "output_type": "stream",
          "name": "stderr",
          "text": [
            "\rProcessing GIFs:  86%|████████▌ | 860/1000 [06:43<00:55,  2.53it/s]"
          ]
        },
        {
          "output_type": "stream",
          "name": "stdout",
          "text": [
            "Downloaded: gifs_temp/gif_18881.gif\n",
            "Deleted: gifs_temp/gif_18881.gif\n"
          ]
        },
        {
          "output_type": "stream",
          "name": "stderr",
          "text": [
            "\rProcessing GIFs:  86%|████████▌ | 861/1000 [06:44<00:58,  2.36it/s]"
          ]
        },
        {
          "output_type": "stream",
          "name": "stdout",
          "text": [
            "Downloaded: gifs_temp/gif_104735.gif\n",
            "Deleted: gifs_temp/gif_104735.gif\n"
          ]
        },
        {
          "output_type": "stream",
          "name": "stderr",
          "text": [
            "\rProcessing GIFs:  86%|████████▌ | 862/1000 [06:44<01:03,  2.16it/s]"
          ]
        },
        {
          "output_type": "stream",
          "name": "stdout",
          "text": [
            "Downloaded: gifs_temp/gif_94113.gif\n",
            "Deleted: gifs_temp/gif_94113.gif\n"
          ]
        },
        {
          "output_type": "stream",
          "name": "stderr",
          "text": [
            "\rProcessing GIFs:  86%|████████▋ | 863/1000 [06:45<01:05,  2.08it/s]"
          ]
        },
        {
          "output_type": "stream",
          "name": "stdout",
          "text": [
            "Downloaded: gifs_temp/gif_11648.gif\n",
            "Deleted: gifs_temp/gif_11648.gif\n"
          ]
        },
        {
          "output_type": "stream",
          "name": "stderr",
          "text": [
            "\rProcessing GIFs:  86%|████████▋ | 864/1000 [06:45<01:01,  2.22it/s]"
          ]
        },
        {
          "output_type": "stream",
          "name": "stdout",
          "text": [
            "Downloaded: gifs_temp/gif_9843.gif\n",
            "Deleted: gifs_temp/gif_9843.gif\n"
          ]
        },
        {
          "output_type": "stream",
          "name": "stderr",
          "text": [
            "\rProcessing GIFs:  86%|████████▋ | 865/1000 [06:45<00:56,  2.39it/s]"
          ]
        },
        {
          "output_type": "stream",
          "name": "stdout",
          "text": [
            "Downloaded: gifs_temp/gif_66299.gif\n",
            "Deleted: gifs_temp/gif_66299.gif\n"
          ]
        },
        {
          "output_type": "stream",
          "name": "stderr",
          "text": [
            "\rProcessing GIFs:  87%|████████▋ | 866/1000 [06:46<00:52,  2.54it/s]"
          ]
        },
        {
          "output_type": "stream",
          "name": "stdout",
          "text": [
            "Downloaded: gifs_temp/gif_116503.gif\n",
            "Deleted: gifs_temp/gif_116503.gif\n"
          ]
        },
        {
          "output_type": "stream",
          "name": "stderr",
          "text": [
            "\rProcessing GIFs:  87%|████████▋ | 867/1000 [06:46<00:54,  2.45it/s]"
          ]
        },
        {
          "output_type": "stream",
          "name": "stdout",
          "text": [
            "Downloaded: gifs_temp/gif_43887.gif\n",
            "Deleted: gifs_temp/gif_43887.gif\n"
          ]
        },
        {
          "output_type": "stream",
          "name": "stderr",
          "text": [
            "\rProcessing GIFs:  87%|████████▋ | 868/1000 [06:47<01:05,  2.01it/s]"
          ]
        },
        {
          "output_type": "stream",
          "name": "stdout",
          "text": [
            "Downloaded: gifs_temp/gif_117448.gif\n",
            "Deleted: gifs_temp/gif_117448.gif\n"
          ]
        },
        {
          "output_type": "stream",
          "name": "stderr",
          "text": [
            "\rProcessing GIFs:  87%|████████▋ | 869/1000 [06:47<01:01,  2.13it/s]"
          ]
        },
        {
          "output_type": "stream",
          "name": "stdout",
          "text": [
            "Downloaded: gifs_temp/gif_17709.gif\n",
            "Deleted: gifs_temp/gif_17709.gif\n"
          ]
        },
        {
          "output_type": "stream",
          "name": "stderr",
          "text": [
            "\rProcessing GIFs:  87%|████████▋ | 870/1000 [06:48<00:55,  2.33it/s]"
          ]
        },
        {
          "output_type": "stream",
          "name": "stdout",
          "text": [
            "Downloaded: gifs_temp/gif_37659.gif\n",
            "Deleted: gifs_temp/gif_37659.gif\n"
          ]
        },
        {
          "output_type": "stream",
          "name": "stderr",
          "text": [
            "\rProcessing GIFs:  87%|████████▋ | 871/1000 [06:48<00:54,  2.38it/s]"
          ]
        },
        {
          "output_type": "stream",
          "name": "stdout",
          "text": [
            "Downloaded: gifs_temp/gif_38188.gif\n",
            "Deleted: gifs_temp/gif_38188.gif\n"
          ]
        },
        {
          "output_type": "stream",
          "name": "stderr",
          "text": [
            "\rProcessing GIFs:  87%|████████▋ | 872/1000 [06:48<00:52,  2.44it/s]"
          ]
        },
        {
          "output_type": "stream",
          "name": "stdout",
          "text": [
            "Downloaded: gifs_temp/gif_106732.gif\n",
            "Deleted: gifs_temp/gif_106732.gif\n"
          ]
        },
        {
          "output_type": "stream",
          "name": "stderr",
          "text": [
            "\rProcessing GIFs:  87%|████████▋ | 873/1000 [06:49<00:55,  2.30it/s]"
          ]
        },
        {
          "output_type": "stream",
          "name": "stdout",
          "text": [
            "Downloaded: gifs_temp/gif_28825.gif\n",
            "Deleted: gifs_temp/gif_28825.gif\n"
          ]
        },
        {
          "output_type": "stream",
          "name": "stderr",
          "text": [
            "\rProcessing GIFs:  87%|████████▋ | 874/1000 [06:49<00:54,  2.33it/s]"
          ]
        },
        {
          "output_type": "stream",
          "name": "stdout",
          "text": [
            "Downloaded: gifs_temp/gif_49470.gif\n",
            "Deleted: gifs_temp/gif_49470.gif\n"
          ]
        },
        {
          "output_type": "stream",
          "name": "stderr",
          "text": [
            "\rProcessing GIFs:  88%|████████▊ | 875/1000 [06:50<00:52,  2.36it/s]"
          ]
        },
        {
          "output_type": "stream",
          "name": "stdout",
          "text": [
            "Downloaded: gifs_temp/gif_74348.gif\n",
            "Deleted: gifs_temp/gif_74348.gif\n"
          ]
        },
        {
          "output_type": "stream",
          "name": "stderr",
          "text": [
            "\rProcessing GIFs:  88%|████████▊ | 876/1000 [06:50<00:52,  2.38it/s]"
          ]
        },
        {
          "output_type": "stream",
          "name": "stdout",
          "text": [
            "Downloaded: gifs_temp/gif_72194.gif\n",
            "Deleted: gifs_temp/gif_72194.gif\n"
          ]
        },
        {
          "output_type": "stream",
          "name": "stderr",
          "text": [
            "\rProcessing GIFs:  88%|████████▊ | 877/1000 [06:51<00:49,  2.48it/s]"
          ]
        },
        {
          "output_type": "stream",
          "name": "stdout",
          "text": [
            "Downloaded: gifs_temp/gif_112521.gif\n",
            "Deleted: gifs_temp/gif_112521.gif\n"
          ]
        },
        {
          "output_type": "stream",
          "name": "stderr",
          "text": [
            "\rProcessing GIFs:  88%|████████▊ | 878/1000 [06:51<00:48,  2.51it/s]"
          ]
        },
        {
          "output_type": "stream",
          "name": "stdout",
          "text": [
            "Downloaded: gifs_temp/gif_49776.gif\n",
            "Deleted: gifs_temp/gif_49776.gif\n"
          ]
        },
        {
          "output_type": "stream",
          "name": "stderr",
          "text": [
            "\rProcessing GIFs:  88%|████████▊ | 879/1000 [06:51<00:52,  2.32it/s]"
          ]
        },
        {
          "output_type": "stream",
          "name": "stdout",
          "text": [
            "Downloaded: gifs_temp/gif_81135.gif\n",
            "Deleted: gifs_temp/gif_81135.gif\n"
          ]
        },
        {
          "output_type": "stream",
          "name": "stderr",
          "text": [
            "\rProcessing GIFs:  88%|████████▊ | 880/1000 [06:52<00:54,  2.20it/s]"
          ]
        },
        {
          "output_type": "stream",
          "name": "stdout",
          "text": [
            "Downloaded: gifs_temp/gif_43485.gif\n",
            "Deleted: gifs_temp/gif_43485.gif\n"
          ]
        },
        {
          "output_type": "stream",
          "name": "stderr",
          "text": [
            "\rProcessing GIFs:  88%|████████▊ | 881/1000 [06:53<01:15,  1.57it/s]"
          ]
        },
        {
          "output_type": "stream",
          "name": "stdout",
          "text": [
            "Downloaded: gifs_temp/gif_38442.gif\n",
            "Deleted: gifs_temp/gif_38442.gif\n"
          ]
        },
        {
          "output_type": "stream",
          "name": "stderr",
          "text": [
            "\rProcessing GIFs:  88%|████████▊ | 882/1000 [06:53<01:08,  1.72it/s]"
          ]
        },
        {
          "output_type": "stream",
          "name": "stdout",
          "text": [
            "Downloaded: gifs_temp/gif_65869.gif\n",
            "Deleted: gifs_temp/gif_65869.gif\n"
          ]
        },
        {
          "output_type": "stream",
          "name": "stderr",
          "text": [
            "\rProcessing GIFs:  88%|████████▊ | 883/1000 [06:54<01:00,  1.92it/s]"
          ]
        },
        {
          "output_type": "stream",
          "name": "stdout",
          "text": [
            "Downloaded: gifs_temp/gif_73641.gif\n",
            "Deleted: gifs_temp/gif_73641.gif\n"
          ]
        },
        {
          "output_type": "stream",
          "name": "stderr",
          "text": [
            "\rProcessing GIFs:  88%|████████▊ | 884/1000 [06:54<01:00,  1.91it/s]"
          ]
        },
        {
          "output_type": "stream",
          "name": "stdout",
          "text": [
            "Downloaded: gifs_temp/gif_32238.gif\n",
            "Deleted: gifs_temp/gif_32238.gif\n"
          ]
        },
        {
          "output_type": "stream",
          "name": "stderr",
          "text": [
            "\rProcessing GIFs:  88%|████████▊ | 885/1000 [06:55<00:55,  2.06it/s]"
          ]
        },
        {
          "output_type": "stream",
          "name": "stdout",
          "text": [
            "Downloaded: gifs_temp/gif_124991.gif\n",
            "Deleted: gifs_temp/gif_124991.gif\n"
          ]
        },
        {
          "output_type": "stream",
          "name": "stderr",
          "text": [
            "\rProcessing GIFs:  89%|████████▊ | 886/1000 [06:55<00:50,  2.28it/s]"
          ]
        },
        {
          "output_type": "stream",
          "name": "stdout",
          "text": [
            "Downloaded: gifs_temp/gif_1262.gif\n",
            "Deleted: gifs_temp/gif_1262.gif\n"
          ]
        },
        {
          "output_type": "stream",
          "name": "stderr",
          "text": [
            "\rProcessing GIFs:  89%|████████▊ | 887/1000 [06:55<00:47,  2.37it/s]"
          ]
        },
        {
          "output_type": "stream",
          "name": "stdout",
          "text": [
            "Downloaded: gifs_temp/gif_77901.gif\n",
            "Deleted: gifs_temp/gif_77901.gif\n"
          ]
        },
        {
          "output_type": "stream",
          "name": "stderr",
          "text": [
            "\rProcessing GIFs:  89%|████████▉ | 888/1000 [06:56<00:50,  2.23it/s]"
          ]
        },
        {
          "output_type": "stream",
          "name": "stdout",
          "text": [
            "Downloaded: gifs_temp/gif_42401.gif\n",
            "Deleted: gifs_temp/gif_42401.gif\n"
          ]
        },
        {
          "output_type": "stream",
          "name": "stderr",
          "text": [
            "\rProcessing GIFs:  89%|████████▉ | 889/1000 [06:56<00:47,  2.33it/s]"
          ]
        },
        {
          "output_type": "stream",
          "name": "stdout",
          "text": [
            "Downloaded: gifs_temp/gif_55379.gif\n",
            "Deleted: gifs_temp/gif_55379.gif\n"
          ]
        },
        {
          "output_type": "stream",
          "name": "stderr",
          "text": [
            "\rProcessing GIFs:  89%|████████▉ | 890/1000 [06:57<00:45,  2.41it/s]"
          ]
        },
        {
          "output_type": "stream",
          "name": "stdout",
          "text": [
            "Downloaded: gifs_temp/gif_88116.gif\n",
            "Deleted: gifs_temp/gif_88116.gif\n"
          ]
        },
        {
          "output_type": "stream",
          "name": "stderr",
          "text": [
            "\rProcessing GIFs:  89%|████████▉ | 891/1000 [06:57<00:44,  2.44it/s]"
          ]
        },
        {
          "output_type": "stream",
          "name": "stdout",
          "text": [
            "Downloaded: gifs_temp/gif_28878.gif\n",
            "Deleted: gifs_temp/gif_28878.gif\n"
          ]
        },
        {
          "output_type": "stream",
          "name": "stderr",
          "text": [
            "\rProcessing GIFs:  89%|████████▉ | 892/1000 [06:58<00:43,  2.46it/s]"
          ]
        },
        {
          "output_type": "stream",
          "name": "stdout",
          "text": [
            "Downloaded: gifs_temp/gif_65075.gif\n",
            "Deleted: gifs_temp/gif_65075.gif\n"
          ]
        },
        {
          "output_type": "stream",
          "name": "stderr",
          "text": [
            "\rProcessing GIFs:  89%|████████▉ | 893/1000 [06:58<00:42,  2.49it/s]"
          ]
        },
        {
          "output_type": "stream",
          "name": "stdout",
          "text": [
            "Downloaded: gifs_temp/gif_66779.gif\n",
            "Deleted: gifs_temp/gif_66779.gif\n"
          ]
        },
        {
          "output_type": "stream",
          "name": "stderr",
          "text": [
            "\rProcessing GIFs:  89%|████████▉ | 894/1000 [06:58<00:41,  2.53it/s]"
          ]
        },
        {
          "output_type": "stream",
          "name": "stdout",
          "text": [
            "Downloaded: gifs_temp/gif_91213.gif\n",
            "Deleted: gifs_temp/gif_91213.gif\n"
          ]
        },
        {
          "output_type": "stream",
          "name": "stderr",
          "text": [
            "\rProcessing GIFs:  90%|████████▉ | 895/1000 [06:59<00:42,  2.50it/s]"
          ]
        },
        {
          "output_type": "stream",
          "name": "stdout",
          "text": [
            "Downloaded: gifs_temp/gif_84660.gif\n",
            "Deleted: gifs_temp/gif_84660.gif\n"
          ]
        },
        {
          "output_type": "stream",
          "name": "stderr",
          "text": [
            "\rProcessing GIFs:  90%|████████▉ | 896/1000 [06:59<00:41,  2.48it/s]"
          ]
        },
        {
          "output_type": "stream",
          "name": "stdout",
          "text": [
            "Downloaded: gifs_temp/gif_106188.gif\n",
            "Deleted: gifs_temp/gif_106188.gif\n"
          ]
        },
        {
          "output_type": "stream",
          "name": "stderr",
          "text": [
            "\rProcessing GIFs:  90%|████████▉ | 897/1000 [07:00<00:40,  2.54it/s]"
          ]
        },
        {
          "output_type": "stream",
          "name": "stdout",
          "text": [
            "Downloaded: gifs_temp/gif_117735.gif\n",
            "Deleted: gifs_temp/gif_117735.gif\n"
          ]
        },
        {
          "output_type": "stream",
          "name": "stderr",
          "text": [
            "\rProcessing GIFs:  90%|████████▉ | 898/1000 [07:00<00:40,  2.50it/s]"
          ]
        },
        {
          "output_type": "stream",
          "name": "stdout",
          "text": [
            "Downloaded: gifs_temp/gif_44459.gif\n",
            "Deleted: gifs_temp/gif_44459.gif\n"
          ]
        },
        {
          "output_type": "stream",
          "name": "stderr",
          "text": [
            "\rProcessing GIFs:  90%|████████▉ | 899/1000 [07:00<00:39,  2.54it/s]"
          ]
        },
        {
          "output_type": "stream",
          "name": "stdout",
          "text": [
            "Downloaded: gifs_temp/gif_100137.gif\n",
            "Deleted: gifs_temp/gif_100137.gif\n"
          ]
        },
        {
          "output_type": "stream",
          "name": "stderr",
          "text": [
            "\rProcessing GIFs:  90%|█████████ | 900/1000 [07:01<00:39,  2.50it/s]"
          ]
        },
        {
          "output_type": "stream",
          "name": "stdout",
          "text": [
            "Downloaded: gifs_temp/gif_112038.gif\n",
            "Deleted: gifs_temp/gif_112038.gif\n"
          ]
        },
        {
          "output_type": "stream",
          "name": "stderr",
          "text": [
            "\rProcessing GIFs:  90%|█████████ | 901/1000 [07:01<00:38,  2.56it/s]"
          ]
        },
        {
          "output_type": "stream",
          "name": "stdout",
          "text": [
            "Downloaded: gifs_temp/gif_36905.gif\n",
            "Deleted: gifs_temp/gif_36905.gif\n"
          ]
        },
        {
          "output_type": "stream",
          "name": "stderr",
          "text": [
            "\rProcessing GIFs:  90%|█████████ | 902/1000 [07:02<00:40,  2.44it/s]"
          ]
        },
        {
          "output_type": "stream",
          "name": "stdout",
          "text": [
            "Downloaded: gifs_temp/gif_101958.gif\n",
            "Deleted: gifs_temp/gif_101958.gif\n"
          ]
        },
        {
          "output_type": "stream",
          "name": "stderr",
          "text": [
            "\rProcessing GIFs:  90%|█████████ | 903/1000 [07:02<00:40,  2.39it/s]"
          ]
        },
        {
          "output_type": "stream",
          "name": "stdout",
          "text": [
            "Downloaded: gifs_temp/gif_123492.gif\n",
            "Deleted: gifs_temp/gif_123492.gif\n"
          ]
        },
        {
          "output_type": "stream",
          "name": "stderr",
          "text": [
            "\rProcessing GIFs:  90%|█████████ | 904/1000 [07:02<00:37,  2.57it/s]"
          ]
        },
        {
          "output_type": "stream",
          "name": "stdout",
          "text": [
            "Downloaded: gifs_temp/gif_57392.gif\n",
            "Deleted: gifs_temp/gif_57392.gif\n"
          ]
        },
        {
          "output_type": "stream",
          "name": "stderr",
          "text": [
            "\rProcessing GIFs:  90%|█████████ | 905/1000 [07:03<00:36,  2.59it/s]"
          ]
        },
        {
          "output_type": "stream",
          "name": "stdout",
          "text": [
            "Downloaded: gifs_temp/gif_9630.gif\n",
            "Deleted: gifs_temp/gif_9630.gif\n"
          ]
        },
        {
          "output_type": "stream",
          "name": "stderr",
          "text": [
            "\rProcessing GIFs:  91%|█████████ | 906/1000 [07:03<00:40,  2.31it/s]"
          ]
        },
        {
          "output_type": "stream",
          "name": "stdout",
          "text": [
            "Downloaded: gifs_temp/gif_67824.gif\n",
            "Deleted: gifs_temp/gif_67824.gif\n"
          ]
        },
        {
          "output_type": "stream",
          "name": "stderr",
          "text": [
            "\rProcessing GIFs:  91%|█████████ | 907/1000 [07:04<00:38,  2.39it/s]"
          ]
        },
        {
          "output_type": "stream",
          "name": "stdout",
          "text": [
            "Downloaded: gifs_temp/gif_75186.gif\n",
            "Deleted: gifs_temp/gif_75186.gif\n"
          ]
        },
        {
          "output_type": "stream",
          "name": "stderr",
          "text": [
            "\rProcessing GIFs:  91%|█████████ | 908/1000 [07:04<00:37,  2.46it/s]"
          ]
        },
        {
          "output_type": "stream",
          "name": "stdout",
          "text": [
            "Downloaded: gifs_temp/gif_52196.gif\n",
            "Deleted: gifs_temp/gif_52196.gif\n"
          ]
        },
        {
          "output_type": "stream",
          "name": "stderr",
          "text": [
            "\rProcessing GIFs:  91%|█████████ | 909/1000 [07:04<00:37,  2.45it/s]"
          ]
        },
        {
          "output_type": "stream",
          "name": "stdout",
          "text": [
            "Downloaded: gifs_temp/gif_92613.gif\n",
            "Deleted: gifs_temp/gif_92613.gif\n"
          ]
        },
        {
          "output_type": "stream",
          "name": "stderr",
          "text": [
            "\rProcessing GIFs:  91%|█████████ | 910/1000 [07:05<00:36,  2.46it/s]"
          ]
        },
        {
          "output_type": "stream",
          "name": "stdout",
          "text": [
            "Downloaded: gifs_temp/gif_42993.gif\n",
            "Deleted: gifs_temp/gif_42993.gif\n"
          ]
        },
        {
          "output_type": "stream",
          "name": "stderr",
          "text": [
            "\rProcessing GIFs:  91%|█████████ | 911/1000 [07:05<00:36,  2.45it/s]"
          ]
        },
        {
          "output_type": "stream",
          "name": "stdout",
          "text": [
            "Downloaded: gifs_temp/gif_25805.gif\n",
            "Deleted: gifs_temp/gif_25805.gif\n"
          ]
        },
        {
          "output_type": "stream",
          "name": "stderr",
          "text": [
            "\rProcessing GIFs:  91%|█████████ | 912/1000 [07:06<00:35,  2.49it/s]"
          ]
        },
        {
          "output_type": "stream",
          "name": "stdout",
          "text": [
            "Downloaded: gifs_temp/gif_51307.gif\n",
            "Deleted: gifs_temp/gif_51307.gif\n"
          ]
        },
        {
          "output_type": "stream",
          "name": "stderr",
          "text": [
            "\rProcessing GIFs:  91%|█████████▏| 913/1000 [07:06<00:35,  2.47it/s]"
          ]
        },
        {
          "output_type": "stream",
          "name": "stdout",
          "text": [
            "Downloaded: gifs_temp/gif_109778.gif\n",
            "Deleted: gifs_temp/gif_109778.gif\n"
          ]
        },
        {
          "output_type": "stream",
          "name": "stderr",
          "text": [
            "\rProcessing GIFs:  91%|█████████▏| 914/1000 [07:07<00:38,  2.22it/s]"
          ]
        },
        {
          "output_type": "stream",
          "name": "stdout",
          "text": [
            "Downloaded: gifs_temp/gif_120152.gif\n",
            "Deleted: gifs_temp/gif_120152.gif\n"
          ]
        },
        {
          "output_type": "stream",
          "name": "stderr",
          "text": [
            "\rProcessing GIFs:  92%|█████████▏| 915/1000 [07:07<00:36,  2.32it/s]"
          ]
        },
        {
          "output_type": "stream",
          "name": "stdout",
          "text": [
            "Downloaded: gifs_temp/gif_26563.gif\n",
            "Deleted: gifs_temp/gif_26563.gif\n"
          ]
        },
        {
          "output_type": "stream",
          "name": "stderr",
          "text": [
            "\rProcessing GIFs:  92%|█████████▏| 916/1000 [07:07<00:36,  2.32it/s]"
          ]
        },
        {
          "output_type": "stream",
          "name": "stdout",
          "text": [
            "Downloaded: gifs_temp/gif_42860.gif\n",
            "Deleted: gifs_temp/gif_42860.gif\n"
          ]
        },
        {
          "output_type": "stream",
          "name": "stderr",
          "text": [
            "\rProcessing GIFs:  92%|█████████▏| 917/1000 [07:08<00:35,  2.32it/s]"
          ]
        },
        {
          "output_type": "stream",
          "name": "stdout",
          "text": [
            "Downloaded: gifs_temp/gif_72464.gif\n",
            "Deleted: gifs_temp/gif_72464.gif\n"
          ]
        },
        {
          "output_type": "stream",
          "name": "stderr",
          "text": [
            "\rProcessing GIFs:  92%|█████████▏| 918/1000 [07:08<00:35,  2.33it/s]"
          ]
        },
        {
          "output_type": "stream",
          "name": "stdout",
          "text": [
            "Downloaded: gifs_temp/gif_97770.gif\n",
            "Deleted: gifs_temp/gif_97770.gif\n"
          ]
        },
        {
          "output_type": "stream",
          "name": "stderr",
          "text": [
            "\rProcessing GIFs:  92%|█████████▏| 919/1000 [07:09<00:34,  2.36it/s]"
          ]
        },
        {
          "output_type": "stream",
          "name": "stdout",
          "text": [
            "Downloaded: gifs_temp/gif_5339.gif\n",
            "Deleted: gifs_temp/gif_5339.gif\n"
          ]
        },
        {
          "output_type": "stream",
          "name": "stderr",
          "text": [
            "\rProcessing GIFs:  92%|█████████▏| 920/1000 [07:09<00:41,  1.91it/s]"
          ]
        },
        {
          "output_type": "stream",
          "name": "stdout",
          "text": [
            "Downloaded: gifs_temp/gif_110361.gif\n",
            "Deleted: gifs_temp/gif_110361.gif\n"
          ]
        },
        {
          "output_type": "stream",
          "name": "stderr",
          "text": [
            "\rProcessing GIFs:  92%|█████████▏| 921/1000 [07:10<00:37,  2.11it/s]"
          ]
        },
        {
          "output_type": "stream",
          "name": "stdout",
          "text": [
            "Downloaded: gifs_temp/gif_25802.gif\n",
            "Deleted: gifs_temp/gif_25802.gif\n"
          ]
        },
        {
          "output_type": "stream",
          "name": "stderr",
          "text": [
            "\rProcessing GIFs:  92%|█████████▏| 922/1000 [07:11<00:43,  1.80it/s]"
          ]
        },
        {
          "output_type": "stream",
          "name": "stdout",
          "text": [
            "Downloaded: gifs_temp/gif_58038.gif\n",
            "Deleted: gifs_temp/gif_58038.gif\n"
          ]
        },
        {
          "output_type": "stream",
          "name": "stderr",
          "text": [
            "\rProcessing GIFs:  92%|█████████▏| 923/1000 [07:11<00:38,  2.01it/s]"
          ]
        },
        {
          "output_type": "stream",
          "name": "stdout",
          "text": [
            "Downloaded: gifs_temp/gif_22319.gif\n",
            "Deleted: gifs_temp/gif_22319.gif\n"
          ]
        },
        {
          "output_type": "stream",
          "name": "stderr",
          "text": [
            "\rProcessing GIFs:  92%|█████████▏| 924/1000 [07:11<00:35,  2.17it/s]"
          ]
        },
        {
          "output_type": "stream",
          "name": "stdout",
          "text": [
            "Downloaded: gifs_temp/gif_15963.gif\n",
            "Deleted: gifs_temp/gif_15963.gif\n"
          ]
        },
        {
          "output_type": "stream",
          "name": "stderr",
          "text": [
            "\rProcessing GIFs:  92%|█████████▎| 925/1000 [07:12<00:32,  2.32it/s]"
          ]
        },
        {
          "output_type": "stream",
          "name": "stdout",
          "text": [
            "Downloaded: gifs_temp/gif_93543.gif\n",
            "Deleted: gifs_temp/gif_93543.gif\n"
          ]
        },
        {
          "output_type": "stream",
          "name": "stderr",
          "text": [
            "\rProcessing GIFs:  93%|█████████▎| 926/1000 [07:12<00:31,  2.38it/s]"
          ]
        },
        {
          "output_type": "stream",
          "name": "stdout",
          "text": [
            "Downloaded: gifs_temp/gif_88487.gif\n",
            "Deleted: gifs_temp/gif_88487.gif\n"
          ]
        },
        {
          "output_type": "stream",
          "name": "stderr",
          "text": [
            "\rProcessing GIFs:  93%|█████████▎| 927/1000 [07:12<00:30,  2.36it/s]"
          ]
        },
        {
          "output_type": "stream",
          "name": "stdout",
          "text": [
            "Downloaded: gifs_temp/gif_20348.gif\n",
            "Deleted: gifs_temp/gif_20348.gif\n"
          ]
        },
        {
          "output_type": "stream",
          "name": "stderr",
          "text": [
            "\rProcessing GIFs:  93%|█████████▎| 928/1000 [07:13<00:29,  2.43it/s]"
          ]
        },
        {
          "output_type": "stream",
          "name": "stdout",
          "text": [
            "Downloaded: gifs_temp/gif_121090.gif\n",
            "Deleted: gifs_temp/gif_121090.gif\n"
          ]
        },
        {
          "output_type": "stream",
          "name": "stderr",
          "text": [
            "\rProcessing GIFs:  93%|█████████▎| 929/1000 [07:13<00:29,  2.42it/s]"
          ]
        },
        {
          "output_type": "stream",
          "name": "stdout",
          "text": [
            "Downloaded: gifs_temp/gif_9379.gif\n",
            "Deleted: gifs_temp/gif_9379.gif\n"
          ]
        },
        {
          "output_type": "stream",
          "name": "stderr",
          "text": [
            "\rProcessing GIFs:  93%|█████████▎| 930/1000 [07:14<00:28,  2.45it/s]"
          ]
        },
        {
          "output_type": "stream",
          "name": "stdout",
          "text": [
            "Downloaded: gifs_temp/gif_65892.gif\n",
            "Deleted: gifs_temp/gif_65892.gif\n"
          ]
        },
        {
          "output_type": "stream",
          "name": "stderr",
          "text": [
            "\rProcessing GIFs:  93%|█████████▎| 931/1000 [07:14<00:30,  2.23it/s]"
          ]
        },
        {
          "output_type": "stream",
          "name": "stdout",
          "text": [
            "Downloaded: gifs_temp/gif_96498.gif\n",
            "Deleted: gifs_temp/gif_96498.gif\n"
          ]
        },
        {
          "output_type": "stream",
          "name": "stderr",
          "text": [
            "\rProcessing GIFs:  93%|█████████▎| 932/1000 [07:15<00:29,  2.34it/s]"
          ]
        },
        {
          "output_type": "stream",
          "name": "stdout",
          "text": [
            "Downloaded: gifs_temp/gif_105904.gif\n",
            "Deleted: gifs_temp/gif_105904.gif\n"
          ]
        },
        {
          "output_type": "stream",
          "name": "stderr",
          "text": [
            "\rProcessing GIFs:  93%|█████████▎| 933/1000 [07:15<00:28,  2.35it/s]"
          ]
        },
        {
          "output_type": "stream",
          "name": "stdout",
          "text": [
            "Downloaded: gifs_temp/gif_94079.gif\n",
            "Deleted: gifs_temp/gif_94079.gif\n"
          ]
        },
        {
          "output_type": "stream",
          "name": "stderr",
          "text": [
            "\rProcessing GIFs:  93%|█████████▎| 934/1000 [07:15<00:27,  2.38it/s]"
          ]
        },
        {
          "output_type": "stream",
          "name": "stdout",
          "text": [
            "Downloaded: gifs_temp/gif_73396.gif\n",
            "Deleted: gifs_temp/gif_73396.gif\n"
          ]
        },
        {
          "output_type": "stream",
          "name": "stderr",
          "text": [
            "\rProcessing GIFs:  94%|█████████▎| 935/1000 [07:16<00:27,  2.34it/s]"
          ]
        },
        {
          "output_type": "stream",
          "name": "stdout",
          "text": [
            "Downloaded: gifs_temp/gif_69821.gif\n",
            "Deleted: gifs_temp/gif_69821.gif\n"
          ]
        },
        {
          "output_type": "stream",
          "name": "stderr",
          "text": [
            "\rProcessing GIFs:  94%|█████████▎| 936/1000 [07:17<00:32,  1.95it/s]"
          ]
        },
        {
          "output_type": "stream",
          "name": "stdout",
          "text": [
            "Downloaded: gifs_temp/gif_107995.gif\n",
            "Deleted: gifs_temp/gif_107995.gif\n"
          ]
        },
        {
          "output_type": "stream",
          "name": "stderr",
          "text": [
            "\rProcessing GIFs:  94%|█████████▎| 937/1000 [07:17<00:32,  1.94it/s]"
          ]
        },
        {
          "output_type": "stream",
          "name": "stdout",
          "text": [
            "Downloaded: gifs_temp/gif_104300.gif\n",
            "Deleted: gifs_temp/gif_104300.gif\n"
          ]
        },
        {
          "output_type": "stream",
          "name": "stderr",
          "text": [
            "\rProcessing GIFs:  94%|█████████▍| 938/1000 [07:18<00:30,  2.01it/s]"
          ]
        },
        {
          "output_type": "stream",
          "name": "stdout",
          "text": [
            "Downloaded: gifs_temp/gif_7956.gif\n",
            "Deleted: gifs_temp/gif_7956.gif\n"
          ]
        },
        {
          "output_type": "stream",
          "name": "stderr",
          "text": [
            "\rProcessing GIFs:  94%|█████████▍| 939/1000 [07:18<00:31,  1.96it/s]"
          ]
        },
        {
          "output_type": "stream",
          "name": "stdout",
          "text": [
            "Downloaded: gifs_temp/gif_37788.gif\n",
            "Deleted: gifs_temp/gif_37788.gif\n"
          ]
        },
        {
          "output_type": "stream",
          "name": "stderr",
          "text": [
            "\rProcessing GIFs:  94%|█████████▍| 940/1000 [07:19<00:35,  1.69it/s]"
          ]
        },
        {
          "output_type": "stream",
          "name": "stdout",
          "text": [
            "Downloaded: gifs_temp/gif_22801.gif\n",
            "Deleted: gifs_temp/gif_22801.gif\n"
          ]
        },
        {
          "output_type": "stream",
          "name": "stderr",
          "text": [
            "\rProcessing GIFs:  94%|█████████▍| 941/1000 [07:19<00:31,  1.88it/s]"
          ]
        },
        {
          "output_type": "stream",
          "name": "stdout",
          "text": [
            "Downloaded: gifs_temp/gif_27815.gif\n",
            "Deleted: gifs_temp/gif_27815.gif\n"
          ]
        },
        {
          "output_type": "stream",
          "name": "stderr",
          "text": [
            "\rProcessing GIFs:  94%|█████████▍| 942/1000 [07:20<00:33,  1.71it/s]"
          ]
        },
        {
          "output_type": "stream",
          "name": "stdout",
          "text": [
            "Downloaded: gifs_temp/gif_94841.gif\n",
            "Deleted: gifs_temp/gif_94841.gif\n"
          ]
        },
        {
          "output_type": "stream",
          "name": "stderr",
          "text": [
            "\rProcessing GIFs:  94%|█████████▍| 943/1000 [07:20<00:31,  1.83it/s]"
          ]
        },
        {
          "output_type": "stream",
          "name": "stdout",
          "text": [
            "Downloaded: gifs_temp/gif_41806.gif\n",
            "Deleted: gifs_temp/gif_41806.gif\n"
          ]
        },
        {
          "output_type": "stream",
          "name": "stderr",
          "text": [
            "\rProcessing GIFs:  94%|█████████▍| 944/1000 [07:21<00:29,  1.91it/s]"
          ]
        },
        {
          "output_type": "stream",
          "name": "stdout",
          "text": [
            "Downloaded: gifs_temp/gif_15891.gif\n",
            "Deleted: gifs_temp/gif_15891.gif\n"
          ]
        },
        {
          "output_type": "stream",
          "name": "stderr",
          "text": [
            "\rProcessing GIFs:  94%|█████████▍| 945/1000 [07:22<00:32,  1.68it/s]"
          ]
        },
        {
          "output_type": "stream",
          "name": "stdout",
          "text": [
            "Downloaded: gifs_temp/gif_41854.gif\n",
            "Deleted: gifs_temp/gif_41854.gif\n",
            "Downloaded: gifs_temp/gif_7015.gif\n"
          ]
        },
        {
          "output_type": "stream",
          "name": "stderr",
          "text": [
            "\rProcessing GIFs:  95%|█████████▍| 946/1000 [07:22<00:31,  1.72it/s]"
          ]
        },
        {
          "output_type": "stream",
          "name": "stdout",
          "text": [
            "Deleted: gifs_temp/gif_7015.gif\n"
          ]
        },
        {
          "output_type": "stream",
          "name": "stderr",
          "text": [
            "\rProcessing GIFs:  95%|█████████▍| 947/1000 [07:23<00:28,  1.89it/s]"
          ]
        },
        {
          "output_type": "stream",
          "name": "stdout",
          "text": [
            "Downloaded: gifs_temp/gif_31163.gif\n",
            "Deleted: gifs_temp/gif_31163.gif\n"
          ]
        },
        {
          "output_type": "stream",
          "name": "stderr",
          "text": [
            "\rProcessing GIFs:  95%|█████████▍| 948/1000 [07:23<00:24,  2.09it/s]"
          ]
        },
        {
          "output_type": "stream",
          "name": "stdout",
          "text": [
            "Downloaded: gifs_temp/gif_84301.gif\n",
            "Deleted: gifs_temp/gif_84301.gif\n"
          ]
        },
        {
          "output_type": "stream",
          "name": "stderr",
          "text": [
            "\rProcessing GIFs:  95%|█████████▍| 949/1000 [07:23<00:23,  2.13it/s]"
          ]
        },
        {
          "output_type": "stream",
          "name": "stdout",
          "text": [
            "Downloaded: gifs_temp/gif_29491.gif\n",
            "Deleted: gifs_temp/gif_29491.gif\n"
          ]
        },
        {
          "output_type": "stream",
          "name": "stderr",
          "text": [
            "\rProcessing GIFs:  95%|█████████▌| 950/1000 [07:24<00:22,  2.20it/s]"
          ]
        },
        {
          "output_type": "stream",
          "name": "stdout",
          "text": [
            "Downloaded: gifs_temp/gif_68836.gif\n",
            "Deleted: gifs_temp/gif_68836.gif\n"
          ]
        },
        {
          "output_type": "stream",
          "name": "stderr",
          "text": [
            "\rProcessing GIFs:  95%|█████████▌| 951/1000 [07:24<00:21,  2.28it/s]"
          ]
        },
        {
          "output_type": "stream",
          "name": "stdout",
          "text": [
            "Downloaded: gifs_temp/gif_97485.gif\n",
            "Deleted: gifs_temp/gif_97485.gif\n"
          ]
        },
        {
          "output_type": "stream",
          "name": "stderr",
          "text": [
            "\rProcessing GIFs:  95%|█████████▌| 952/1000 [07:25<00:20,  2.30it/s]"
          ]
        },
        {
          "output_type": "stream",
          "name": "stdout",
          "text": [
            "Downloaded: gifs_temp/gif_121215.gif\n",
            "Deleted: gifs_temp/gif_121215.gif\n"
          ]
        },
        {
          "output_type": "stream",
          "name": "stderr",
          "text": [
            "\rProcessing GIFs:  95%|█████████▌| 953/1000 [07:25<00:19,  2.36it/s]"
          ]
        },
        {
          "output_type": "stream",
          "name": "stdout",
          "text": [
            "Downloaded: gifs_temp/gif_93563.gif\n",
            "Deleted: gifs_temp/gif_93563.gif\n"
          ]
        },
        {
          "output_type": "stream",
          "name": "stderr",
          "text": [
            "\rProcessing GIFs:  95%|█████████▌| 954/1000 [07:25<00:18,  2.49it/s]"
          ]
        },
        {
          "output_type": "stream",
          "name": "stdout",
          "text": [
            "Downloaded: gifs_temp/gif_45327.gif\n",
            "Deleted: gifs_temp/gif_45327.gif\n"
          ]
        },
        {
          "output_type": "stream",
          "name": "stderr",
          "text": [
            "\rProcessing GIFs:  96%|█████████▌| 955/1000 [07:26<00:18,  2.45it/s]"
          ]
        },
        {
          "output_type": "stream",
          "name": "stdout",
          "text": [
            "Downloaded: gifs_temp/gif_76743.gif\n",
            "Deleted: gifs_temp/gif_76743.gif\n"
          ]
        },
        {
          "output_type": "stream",
          "name": "stderr",
          "text": [
            "\rProcessing GIFs:  96%|█████████▌| 956/1000 [07:26<00:17,  2.50it/s]"
          ]
        },
        {
          "output_type": "stream",
          "name": "stdout",
          "text": [
            "Downloaded: gifs_temp/gif_28710.gif\n",
            "Deleted: gifs_temp/gif_28710.gif\n"
          ]
        },
        {
          "output_type": "stream",
          "name": "stderr",
          "text": [
            "\rProcessing GIFs:  96%|█████████▌| 957/1000 [07:27<00:17,  2.48it/s]"
          ]
        },
        {
          "output_type": "stream",
          "name": "stdout",
          "text": [
            "Downloaded: gifs_temp/gif_47354.gif\n",
            "Deleted: gifs_temp/gif_47354.gif\n"
          ]
        },
        {
          "output_type": "stream",
          "name": "stderr",
          "text": [
            "\rProcessing GIFs:  96%|█████████▌| 958/1000 [07:27<00:16,  2.61it/s]"
          ]
        },
        {
          "output_type": "stream",
          "name": "stdout",
          "text": [
            "Downloaded: gifs_temp/gif_8211.gif\n",
            "Deleted: gifs_temp/gif_8211.gif\n"
          ]
        },
        {
          "output_type": "stream",
          "name": "stderr",
          "text": [
            "\rProcessing GIFs:  96%|█████████▌| 959/1000 [07:27<00:16,  2.43it/s]"
          ]
        },
        {
          "output_type": "stream",
          "name": "stdout",
          "text": [
            "Downloaded: gifs_temp/gif_69421.gif\n",
            "Deleted: gifs_temp/gif_69421.gif\n"
          ]
        },
        {
          "output_type": "stream",
          "name": "stderr",
          "text": [
            "\rProcessing GIFs:  96%|█████████▌| 960/1000 [07:28<00:16,  2.43it/s]"
          ]
        },
        {
          "output_type": "stream",
          "name": "stdout",
          "text": [
            "Downloaded: gifs_temp/gif_28009.gif\n",
            "Deleted: gifs_temp/gif_28009.gif\n"
          ]
        },
        {
          "output_type": "stream",
          "name": "stderr",
          "text": [
            "\rProcessing GIFs:  96%|█████████▌| 961/1000 [07:28<00:15,  2.44it/s]"
          ]
        },
        {
          "output_type": "stream",
          "name": "stdout",
          "text": [
            "Downloaded: gifs_temp/gif_48806.gif\n",
            "Deleted: gifs_temp/gif_48806.gif\n"
          ]
        },
        {
          "output_type": "stream",
          "name": "stderr",
          "text": [
            "\rProcessing GIFs:  96%|█████████▌| 962/1000 [07:29<00:15,  2.44it/s]"
          ]
        },
        {
          "output_type": "stream",
          "name": "stdout",
          "text": [
            "Downloaded: gifs_temp/gif_87595.gif\n",
            "Deleted: gifs_temp/gif_87595.gif\n"
          ]
        },
        {
          "output_type": "stream",
          "name": "stderr",
          "text": [
            "\rProcessing GIFs:  96%|█████████▋| 963/1000 [07:29<00:14,  2.52it/s]"
          ]
        },
        {
          "output_type": "stream",
          "name": "stdout",
          "text": [
            "Downloaded: gifs_temp/gif_37959.gif\n",
            "Deleted: gifs_temp/gif_37959.gif\n"
          ]
        },
        {
          "output_type": "stream",
          "name": "stderr",
          "text": [
            "\rProcessing GIFs:  96%|█████████▋| 964/1000 [07:30<00:15,  2.34it/s]"
          ]
        },
        {
          "output_type": "stream",
          "name": "stdout",
          "text": [
            "Downloaded: gifs_temp/gif_124383.gif\n",
            "Deleted: gifs_temp/gif_124383.gif\n"
          ]
        },
        {
          "output_type": "stream",
          "name": "stderr",
          "text": [
            "\rProcessing GIFs:  96%|█████████▋| 965/1000 [07:30<00:14,  2.34it/s]"
          ]
        },
        {
          "output_type": "stream",
          "name": "stdout",
          "text": [
            "Downloaded: gifs_temp/gif_39172.gif\n",
            "Deleted: gifs_temp/gif_39172.gif\n"
          ]
        },
        {
          "output_type": "stream",
          "name": "stderr",
          "text": [
            "\rProcessing GIFs:  97%|█████████▋| 966/1000 [07:30<00:15,  2.23it/s]"
          ]
        },
        {
          "output_type": "stream",
          "name": "stdout",
          "text": [
            "Downloaded: gifs_temp/gif_83708.gif\n",
            "Deleted: gifs_temp/gif_83708.gif\n",
            "Downloaded: gifs_temp/gif_113850.gif\n"
          ]
        },
        {
          "output_type": "stream",
          "name": "stderr",
          "text": [
            "\rProcessing GIFs:  97%|█████████▋| 967/1000 [07:31<00:16,  2.02it/s]"
          ]
        },
        {
          "output_type": "stream",
          "name": "stdout",
          "text": [
            "Deleted: gifs_temp/gif_113850.gif\n"
          ]
        },
        {
          "output_type": "stream",
          "name": "stderr",
          "text": [
            "\rProcessing GIFs:  97%|█████████▋| 968/1000 [07:32<00:15,  2.09it/s]"
          ]
        },
        {
          "output_type": "stream",
          "name": "stdout",
          "text": [
            "Downloaded: gifs_temp/gif_48160.gif\n",
            "Deleted: gifs_temp/gif_48160.gif\n"
          ]
        },
        {
          "output_type": "stream",
          "name": "stderr",
          "text": [
            "\rProcessing GIFs:  97%|█████████▋| 969/1000 [07:32<00:14,  2.10it/s]"
          ]
        },
        {
          "output_type": "stream",
          "name": "stdout",
          "text": [
            "Downloaded: gifs_temp/gif_102297.gif\n",
            "Deleted: gifs_temp/gif_102297.gif\n"
          ]
        },
        {
          "output_type": "stream",
          "name": "stderr",
          "text": [
            "\rProcessing GIFs:  97%|█████████▋| 970/1000 [07:32<00:13,  2.20it/s]"
          ]
        },
        {
          "output_type": "stream",
          "name": "stdout",
          "text": [
            "Downloaded: gifs_temp/gif_63595.gif\n",
            "Deleted: gifs_temp/gif_63595.gif\n"
          ]
        },
        {
          "output_type": "stream",
          "name": "stderr",
          "text": [
            "\rProcessing GIFs:  97%|█████████▋| 971/1000 [07:33<00:12,  2.29it/s]"
          ]
        },
        {
          "output_type": "stream",
          "name": "stdout",
          "text": [
            "Downloaded: gifs_temp/gif_41415.gif\n",
            "Deleted: gifs_temp/gif_41415.gif\n"
          ]
        },
        {
          "output_type": "stream",
          "name": "stderr",
          "text": [
            "\rProcessing GIFs:  97%|█████████▋| 972/1000 [07:33<00:11,  2.37it/s]"
          ]
        },
        {
          "output_type": "stream",
          "name": "stdout",
          "text": [
            "Downloaded: gifs_temp/gif_101772.gif\n",
            "Deleted: gifs_temp/gif_101772.gif\n"
          ]
        },
        {
          "output_type": "stream",
          "name": "stderr",
          "text": [
            "\rProcessing GIFs:  97%|█████████▋| 973/1000 [07:34<00:13,  2.05it/s]"
          ]
        },
        {
          "output_type": "stream",
          "name": "stdout",
          "text": [
            "Downloaded: gifs_temp/gif_5708.gif\n",
            "Deleted: gifs_temp/gif_5708.gif\n"
          ]
        },
        {
          "output_type": "stream",
          "name": "stderr",
          "text": [
            "\rProcessing GIFs:  97%|█████████▋| 974/1000 [07:34<00:12,  2.09it/s]"
          ]
        },
        {
          "output_type": "stream",
          "name": "stdout",
          "text": [
            "Downloaded: gifs_temp/gif_32765.gif\n",
            "Deleted: gifs_temp/gif_32765.gif\n"
          ]
        },
        {
          "output_type": "stream",
          "name": "stderr",
          "text": [
            "\rProcessing GIFs:  98%|█████████▊| 975/1000 [07:35<00:12,  2.07it/s]"
          ]
        },
        {
          "output_type": "stream",
          "name": "stdout",
          "text": [
            "Downloaded: gifs_temp/gif_93392.gif\n",
            "Deleted: gifs_temp/gif_93392.gif\n"
          ]
        },
        {
          "output_type": "stream",
          "name": "stderr",
          "text": [
            "\rProcessing GIFs:  98%|█████████▊| 976/1000 [07:35<00:11,  2.12it/s]"
          ]
        },
        {
          "output_type": "stream",
          "name": "stdout",
          "text": [
            "Downloaded: gifs_temp/gif_52061.gif\n",
            "Deleted: gifs_temp/gif_52061.gif\n"
          ]
        },
        {
          "output_type": "stream",
          "name": "stderr",
          "text": [
            "\rProcessing GIFs:  98%|█████████▊| 977/1000 [07:36<00:10,  2.10it/s]"
          ]
        },
        {
          "output_type": "stream",
          "name": "stdout",
          "text": [
            "Downloaded: gifs_temp/gif_48502.gif\n",
            "Deleted: gifs_temp/gif_48502.gif\n"
          ]
        },
        {
          "output_type": "stream",
          "name": "stderr",
          "text": [
            "\rProcessing GIFs:  98%|█████████▊| 978/1000 [07:36<00:10,  2.05it/s]"
          ]
        },
        {
          "output_type": "stream",
          "name": "stdout",
          "text": [
            "Downloaded: gifs_temp/gif_85223.gif\n",
            "Deleted: gifs_temp/gif_85223.gif\n"
          ]
        },
        {
          "output_type": "stream",
          "name": "stderr",
          "text": [
            "\rProcessing GIFs:  98%|█████████▊| 979/1000 [07:37<00:10,  2.10it/s]"
          ]
        },
        {
          "output_type": "stream",
          "name": "stdout",
          "text": [
            "Downloaded: gifs_temp/gif_48261.gif\n",
            "Deleted: gifs_temp/gif_48261.gif\n"
          ]
        },
        {
          "output_type": "stream",
          "name": "stderr",
          "text": [
            "\rProcessing GIFs:  98%|█████████▊| 980/1000 [07:37<00:09,  2.05it/s]"
          ]
        },
        {
          "output_type": "stream",
          "name": "stdout",
          "text": [
            "Downloaded: gifs_temp/gif_41519.gif\n",
            "Deleted: gifs_temp/gif_41519.gif\n"
          ]
        },
        {
          "output_type": "stream",
          "name": "stderr",
          "text": [
            "\rProcessing GIFs:  98%|█████████▊| 981/1000 [07:38<00:08,  2.23it/s]"
          ]
        },
        {
          "output_type": "stream",
          "name": "stdout",
          "text": [
            "Downloaded: gifs_temp/gif_8523.gif\n",
            "Deleted: gifs_temp/gif_8523.gif\n"
          ]
        },
        {
          "output_type": "stream",
          "name": "stderr",
          "text": [
            "\rProcessing GIFs:  98%|█████████▊| 982/1000 [07:38<00:07,  2.33it/s]"
          ]
        },
        {
          "output_type": "stream",
          "name": "stdout",
          "text": [
            "Downloaded: gifs_temp/gif_18131.gif\n",
            "Deleted: gifs_temp/gif_18131.gif\n"
          ]
        },
        {
          "output_type": "stream",
          "name": "stderr",
          "text": [
            "\rProcessing GIFs:  98%|█████████▊| 983/1000 [07:38<00:08,  2.12it/s]"
          ]
        },
        {
          "output_type": "stream",
          "name": "stdout",
          "text": [
            "Downloaded: gifs_temp/gif_80186.gif\n",
            "Deleted: gifs_temp/gif_80186.gif\n"
          ]
        },
        {
          "output_type": "stream",
          "name": "stderr",
          "text": [
            "\rProcessing GIFs:  98%|█████████▊| 984/1000 [07:39<00:09,  1.72it/s]"
          ]
        },
        {
          "output_type": "stream",
          "name": "stdout",
          "text": [
            "Downloaded: gifs_temp/gif_40876.gif\n",
            "Deleted: gifs_temp/gif_40876.gif\n"
          ]
        },
        {
          "output_type": "stream",
          "name": "stderr",
          "text": [
            "\rProcessing GIFs:  98%|█████████▊| 985/1000 [07:40<00:08,  1.77it/s]"
          ]
        },
        {
          "output_type": "stream",
          "name": "stdout",
          "text": [
            "Downloaded: gifs_temp/gif_33888.gif\n",
            "Deleted: gifs_temp/gif_33888.gif\n"
          ]
        },
        {
          "output_type": "stream",
          "name": "stderr",
          "text": [
            "\rProcessing GIFs:  99%|█████████▊| 986/1000 [07:40<00:07,  1.97it/s]"
          ]
        },
        {
          "output_type": "stream",
          "name": "stdout",
          "text": [
            "Downloaded: gifs_temp/gif_86699.gif\n",
            "Deleted: gifs_temp/gif_86699.gif\n"
          ]
        },
        {
          "output_type": "stream",
          "name": "stderr",
          "text": [
            "\rProcessing GIFs:  99%|█████████▊| 987/1000 [07:41<00:06,  2.09it/s]"
          ]
        },
        {
          "output_type": "stream",
          "name": "stdout",
          "text": [
            "Downloaded: gifs_temp/gif_52806.gif\n",
            "Deleted: gifs_temp/gif_52806.gif\n"
          ]
        },
        {
          "output_type": "stream",
          "name": "stderr",
          "text": [
            "\rProcessing GIFs:  99%|█████████▉| 988/1000 [07:41<00:05,  2.19it/s]"
          ]
        },
        {
          "output_type": "stream",
          "name": "stdout",
          "text": [
            "Downloaded: gifs_temp/gif_11159.gif\n",
            "Deleted: gifs_temp/gif_11159.gif\n"
          ]
        },
        {
          "output_type": "stream",
          "name": "stderr",
          "text": [
            "\rProcessing GIFs:  99%|█████████▉| 989/1000 [07:41<00:04,  2.22it/s]"
          ]
        },
        {
          "output_type": "stream",
          "name": "stdout",
          "text": [
            "Downloaded: gifs_temp/gif_30732.gif\n",
            "Deleted: gifs_temp/gif_30732.gif\n"
          ]
        },
        {
          "output_type": "stream",
          "name": "stderr",
          "text": [
            "\rProcessing GIFs:  99%|█████████▉| 990/1000 [07:42<00:04,  2.33it/s]"
          ]
        },
        {
          "output_type": "stream",
          "name": "stdout",
          "text": [
            "Downloaded: gifs_temp/gif_89398.gif\n",
            "Deleted: gifs_temp/gif_89398.gif\n"
          ]
        },
        {
          "output_type": "stream",
          "name": "stderr",
          "text": [
            "\rProcessing GIFs:  99%|█████████▉| 991/1000 [07:42<00:03,  2.50it/s]"
          ]
        },
        {
          "output_type": "stream",
          "name": "stdout",
          "text": [
            "Downloaded: gifs_temp/gif_53135.gif\n",
            "Deleted: gifs_temp/gif_53135.gif\n"
          ]
        },
        {
          "output_type": "stream",
          "name": "stderr",
          "text": [
            "\rProcessing GIFs:  99%|█████████▉| 992/1000 [07:43<00:03,  2.16it/s]"
          ]
        },
        {
          "output_type": "stream",
          "name": "stdout",
          "text": [
            "Downloaded: gifs_temp/gif_37385.gif\n",
            "Deleted: gifs_temp/gif_37385.gif\n"
          ]
        },
        {
          "output_type": "stream",
          "name": "stderr",
          "text": [
            "\rProcessing GIFs:  99%|█████████▉| 993/1000 [07:43<00:03,  2.18it/s]"
          ]
        },
        {
          "output_type": "stream",
          "name": "stdout",
          "text": [
            "Downloaded: gifs_temp/gif_18593.gif\n",
            "Deleted: gifs_temp/gif_18593.gif\n"
          ]
        },
        {
          "output_type": "stream",
          "name": "stderr",
          "text": [
            "\rProcessing GIFs:  99%|█████████▉| 994/1000 [07:44<00:02,  2.20it/s]"
          ]
        },
        {
          "output_type": "stream",
          "name": "stdout",
          "text": [
            "Downloaded: gifs_temp/gif_95953.gif\n",
            "Deleted: gifs_temp/gif_95953.gif\n"
          ]
        },
        {
          "output_type": "stream",
          "name": "stderr",
          "text": [
            "\rProcessing GIFs: 100%|█████████▉| 995/1000 [07:44<00:02,  2.22it/s]"
          ]
        },
        {
          "output_type": "stream",
          "name": "stdout",
          "text": [
            "Downloaded: gifs_temp/gif_116110.gif\n",
            "Deleted: gifs_temp/gif_116110.gif\n"
          ]
        },
        {
          "output_type": "stream",
          "name": "stderr",
          "text": [
            "\rProcessing GIFs: 100%|█████████▉| 996/1000 [07:45<00:01,  2.25it/s]"
          ]
        },
        {
          "output_type": "stream",
          "name": "stdout",
          "text": [
            "Downloaded: gifs_temp/gif_3879.gif\n",
            "Deleted: gifs_temp/gif_3879.gif\n"
          ]
        },
        {
          "output_type": "stream",
          "name": "stderr",
          "text": [
            "\rProcessing GIFs: 100%|█████████▉| 997/1000 [07:46<00:01,  1.67it/s]"
          ]
        },
        {
          "output_type": "stream",
          "name": "stdout",
          "text": [
            "Downloaded: gifs_temp/gif_92335.gif\n",
            "Deleted: gifs_temp/gif_92335.gif\n"
          ]
        },
        {
          "output_type": "stream",
          "name": "stderr",
          "text": [
            "\rProcessing GIFs: 100%|█████████▉| 998/1000 [07:46<00:01,  1.84it/s]"
          ]
        },
        {
          "output_type": "stream",
          "name": "stdout",
          "text": [
            "Downloaded: gifs_temp/gif_43420.gif\n",
            "Deleted: gifs_temp/gif_43420.gif\n"
          ]
        },
        {
          "output_type": "stream",
          "name": "stderr",
          "text": [
            "\rProcessing GIFs: 100%|█████████▉| 999/1000 [07:46<00:00,  1.82it/s]"
          ]
        },
        {
          "output_type": "stream",
          "name": "stdout",
          "text": [
            "Downloaded: gifs_temp/gif_63427.gif\n",
            "Deleted: gifs_temp/gif_63427.gif\n"
          ]
        },
        {
          "output_type": "stream",
          "name": "stderr",
          "text": [
            "Processing GIFs: 100%|██████████| 1000/1000 [07:47<00:00,  2.14it/s]"
          ]
        },
        {
          "output_type": "stream",
          "name": "stdout",
          "text": [
            "Downloaded: gifs_temp/gif_35488.gif\n",
            "Deleted: gifs_temp/gif_35488.gif\n"
          ]
        },
        {
          "output_type": "stream",
          "name": "stderr",
          "text": [
            "\n"
          ]
        }
      ],
      "source": [
        "import torch\n",
        "import numpy as np\n",
        "from tqdm import tqdm\n",
        "import os\n",
        "\n",
        "# Initialize lists to store data\n",
        "target_frames = []\n",
        "target_texts = []\n",
        "\n",
        "# Process each GIF\n",
        "for gif in tqdm(selected_gifs, desc=\"Processing GIFs\"):\n",
        "    gif_id = gif.get('id')\n",
        "    url = gif.get('url')\n",
        "    reference_description = gif.get('description')\n",
        "\n",
        "    # Validate GIF entry\n",
        "    if not gif_id or not url or not reference_description:\n",
        "        print(f\"Invalid GIF entry: {gif}\")\n",
        "        continue\n",
        "\n",
        "    # Define local path to save the GIF temporarily\n",
        "    gif_filename = f\"{gif_id}.gif\"\n",
        "    gif_path = os.path.join(gifs_dir, gif_filename)\n",
        "\n",
        "    # Download the GIF\n",
        "    success = download_gif(url, gif_path)\n",
        "    if not success:\n",
        "        print(f\"Skipping GIF {gif_id} due to download failure.\")\n",
        "        continue\n",
        "\n",
        "    # Extract frames\n",
        "    selected_frames = extract_frames(gif_path, num_frames=5)\n",
        "\n",
        "    # Validate frame extraction\n",
        "    if not selected_frames:\n",
        "        print(f\"No frames extracted for {gif_id}. Skipping.\")\n",
        "        delete_gif(gif_path)\n",
        "        continue\n",
        "\n",
        "    # Append the extracted frames and corresponding text\n",
        "    target_frames.append(selected_frames)\n",
        "    target_texts.append(reference_description)\n",
        "\n",
        "    # Delete the downloaded GIF\n",
        "    delete_gif(gif_path)\n"
      ]
    },
    {
      "cell_type": "code",
      "execution_count": null,
      "metadata": {
        "id": "D0qkcvwFo0ij"
      },
      "outputs": [],
      "source": [
        "import torch\n",
        "import numpy as np\n",
        "\n",
        "# Assume target_frames is the list of GIFs, where each GIF is a list of frames (each frame is a numpy array)\n",
        "processed_gifs = []\n",
        "\n",
        "for gif in target_frames:\n",
        "    # Convert list of frames (numpy arrays) into a single numpy array\n",
        "    frames_array = np.array(gif)  # Convert to a single numpy array\n",
        "    # Now convert the numpy array to a PyTorch tensor\n",
        "    frames_tensor = torch.tensor(frames_array)  # Convert to a PyTorch tensor\n",
        "\n",
        "    # Append the processed tensor to the list\n",
        "    processed_gifs.append(frames_tensor)\n",
        "\n",
        "# Now processed_gifs is a list of tensors, where each tensor represents a GIF\n"
      ]
    },
    {
      "cell_type": "markdown",
      "source": [
        "Saving the data"
      ],
      "metadata": {
        "id": "tSJjDpQqXfKj"
      }
    },
    {
      "cell_type": "code",
      "source": [
        "import torch\n",
        "\n",
        "# Move all tensors in processed_gifs to CPU\n",
        "processed_gifs_cpu = [gif.cpu() for gif in processed_gifs]\n",
        "\n",
        "# Create a dictionary to hold both lists\n",
        "data = {\n",
        "    'processed_gifs': processed_gifs_cpu,\n",
        "    'target_texts': target_texts\n",
        "}\n",
        "\n",
        "# Save the dictionary to a file\n",
        "torch.save(data, 'data.pth')\n",
        "\n",
        "print(\"Data has been saved successfully as 'data.pth'.\")\n"
      ],
      "metadata": {
        "colab": {
          "base_uri": "https://localhost:8080/"
        },
        "id": "nKOP6mOGXhNr",
        "outputId": "a4b45b98-cccc-4471-b0a0-394ca2b9361c"
      },
      "execution_count": null,
      "outputs": [
        {
          "output_type": "stream",
          "name": "stdout",
          "text": [
            "Data has been saved successfully as 'data.pth'.\n"
          ]
        }
      ]
    },
    {
      "cell_type": "markdown",
      "source": [
        "Loading data when needed"
      ],
      "metadata": {
        "id": "ys3P5kerXnlf"
      }
    },
    {
      "cell_type": "code",
      "source": [
        "import torch\n",
        "\n",
        "# Load the saved data from the local file\n",
        "data = torch.load('data.pth', map_location=torch.device('cpu'))  # Change 'cpu' to 'cuda' if loading on GPU\n",
        "\n",
        "processed_gifs = data['processed_gifs']\n",
        "target_texts = data['target_texts']\n",
        "\n",
        "print(\"Data has been loaded successfully from 'data.pth'.\")\n"
      ],
      "metadata": {
        "id": "JbIST61DXyUy"
      },
      "execution_count": null,
      "outputs": []
    },
    {
      "cell_type": "code",
      "execution_count": null,
      "metadata": {
        "id": "n7CoK-uRPglh",
        "colab": {
          "base_uri": "https://localhost:8080/",
          "height": 400,
          "referenced_widgets": [
            "6ce5de2ab6fb4f20898e1a862a5c3698",
            "e815cdf236a643c5803e7b75900807ca",
            "f7426f408c5d4824974be0be3a2ca372",
            "0056c58d69584a4f86ce0287c9d76efe",
            "a66d8a4b74774348890ad603ae5fedba",
            "efc68ea065fc4c538ed717ac20811ecf",
            "245c9a0a99f6499d911d27f74fdf8310",
            "f1b0ddb3d34b4e199334a10a98c2a8a0",
            "2fcba940dd0947cb9d4d55556f415153",
            "23200f929a304879918c9eeec99e5454",
            "f250d6347fd4474eb7c0b20704dc3def",
            "1dab41c89e6745d4bc7fa3655067ba52",
            "9b2f4a182315400893f30fdd7a79bc23",
            "9123075bc3f24751af8a0998dfaf03ca",
            "bc975b515b894a408a804f975cf38717",
            "8cff45d6f4e84deeb1c7803cf0847d11",
            "627451f8faca4f1bb19b8e0b8f76af6a",
            "d609056a34b04909a2d12efad66557a9",
            "ecbec50661f5461ba79bf2edef40a0d1",
            "7a8ccdc7e66a47d582af230feee28115",
            "4d688ea274da413f8d26d3a5d4153229",
            "33b96bae39f94dcf8ae981f625da8549",
            "e46655a27aa14921bae368cc86e44c67",
            "9f3f975b4e0f4f188b98ae0694391adb",
            "5b63c16cfee24a8da37b64188fa506dd",
            "962c1e0f304d430db150312763c2b337",
            "12ad5ca0d5024876847bfe6158c492b5",
            "9cc2dbfe604c4127903c8ca28a33dbbe",
            "a3a2b916b15e452c986ccda1347e59f1",
            "02e69dd46f414fa5af069c74afbba8a1",
            "0b44abb301de49eabd09e1da4e3f3174",
            "ca1a5ebaf17f417cb3d06ab21d2204a8",
            "468f8476d66448cd896ccdc006051615",
            "106c9dd14c424002bf09531dc09efcd7",
            "c9444de163ac4985aa5b4d5e7373f561",
            "3028aadc25764773b15a87b81664dced",
            "ad1fd65b28cf4a57ae789a4ae1ab4dcd",
            "9643956aa5064a8482ee0e5d46f02b5e",
            "9cd56a2955b64e0d89948cc90e3557ae",
            "e7bca7b3248d4edb89cb03fdc78883f0",
            "d79d3193343d4d55ac4a23935137b40c",
            "502f3644cae84c73933d75f3ee00636e",
            "7264e849ee894a739f78aaf614a9b639",
            "78d89ce2d1fe4e1f9448762a14b587d5",
            "32a57cc2d77f4527bcded92f335a2776",
            "a3446f7a369e45a187597db5616b94a1",
            "70cebae35ad34d179b78458d5ffc7095",
            "5e712a181538470e880b0b6de39b9158",
            "26f2d3dcec204e1585140ec518736fca",
            "352d02a476e74c748e83f9271650d464",
            "8ff53490609f4e96bc5bb06bac819dfa",
            "809bc9800397478c9f8c838889bf4cd9",
            "de90345c1c5845c490497e9252679de6",
            "5648836c8e254825becd08abf90236c4",
            "e611c501c2da420d8634425c10a3af46",
            "127253dd1f624789b18ab25ff2522080",
            "fb5a97f1c9ea43358ff0e2b755114b61",
            "4ccdb48d97cb4c99b4f2fbc9fc34d364",
            "936cee9fc89e47a994e26f99d9ac117d",
            "c77b7386c0f7461baad7e301fc3ffca1",
            "de633577a65b4c50937058f07722e1ce",
            "d85a16b527db4e89b611d77b0ae2a82d",
            "d7b8c641744d4c1ca910b67c4934621a",
            "746c87efd070454aaa069aac61218b90",
            "8e6bd10e9e9e4cfd9c6512a03d6cd715",
            "dac42e61d79749749d449ec3928132a6",
            "b5ce5030cda84adf8cc562a3a2ac3725",
            "4389d119c5234e799fba57e81f41f42b",
            "1d21f4a682974d27abd06cc93b31b0a8",
            "f4fadc3382884896bc3f3a8e386ce478",
            "6f0ce89790404a07a9e382a95cb57c35",
            "bef08b9c654e42218f4311d8e8e25cca",
            "cc109704afc644b7b95c0c396e9027b8",
            "21f3f589fade4031876ad348311af03c",
            "b6a0f6b6b6034d20b1154cfb3b7b4a6e",
            "e8d46522338e4114b468a2a0f284e4ef",
            "f49aaacf9d3844bcbffe88712807b6ea"
          ]
        },
        "outputId": "77f69867-8316-4eba-ede0-6a8d743588b6"
      },
      "outputs": [
        {
          "output_type": "stream",
          "name": "stderr",
          "text": [
            "/usr/local/lib/python3.10/dist-packages/huggingface_hub/utils/_token.py:89: UserWarning: \n",
            "The secret `HF_TOKEN` does not exist in your Colab secrets.\n",
            "To authenticate with the Hugging Face Hub, create a token in your settings tab (https://huggingface.co/settings/tokens), set it as secret in your Google Colab and restart your session.\n",
            "You will be able to reuse this secret in all of your notebooks.\n",
            "Please note that authentication is recommended but still optional to access public models or datasets.\n",
            "  warnings.warn(\n"
          ]
        },
        {
          "output_type": "display_data",
          "data": {
            "text/plain": [
              "preprocessor_config.json:   0%|          | 0.00/287 [00:00<?, ?B/s]"
            ],
            "application/vnd.jupyter.widget-view+json": {
              "version_major": 2,
              "version_minor": 0,
              "model_id": "6ce5de2ab6fb4f20898e1a862a5c3698"
            }
          },
          "metadata": {}
        },
        {
          "output_type": "display_data",
          "data": {
            "text/plain": [
              "tokenizer_config.json:   0%|          | 0.00/506 [00:00<?, ?B/s]"
            ],
            "application/vnd.jupyter.widget-view+json": {
              "version_major": 2,
              "version_minor": 0,
              "model_id": "1dab41c89e6745d4bc7fa3655067ba52"
            }
          },
          "metadata": {}
        },
        {
          "output_type": "display_data",
          "data": {
            "text/plain": [
              "vocab.txt:   0%|          | 0.00/232k [00:00<?, ?B/s]"
            ],
            "application/vnd.jupyter.widget-view+json": {
              "version_major": 2,
              "version_minor": 0,
              "model_id": "e46655a27aa14921bae368cc86e44c67"
            }
          },
          "metadata": {}
        },
        {
          "output_type": "display_data",
          "data": {
            "text/plain": [
              "tokenizer.json:   0%|          | 0.00/711k [00:00<?, ?B/s]"
            ],
            "application/vnd.jupyter.widget-view+json": {
              "version_major": 2,
              "version_minor": 0,
              "model_id": "106c9dd14c424002bf09531dc09efcd7"
            }
          },
          "metadata": {}
        },
        {
          "output_type": "display_data",
          "data": {
            "text/plain": [
              "special_tokens_map.json:   0%|          | 0.00/125 [00:00<?, ?B/s]"
            ],
            "application/vnd.jupyter.widget-view+json": {
              "version_major": 2,
              "version_minor": 0,
              "model_id": "32a57cc2d77f4527bcded92f335a2776"
            }
          },
          "metadata": {}
        },
        {
          "output_type": "stream",
          "name": "stderr",
          "text": [
            "/usr/local/lib/python3.10/dist-packages/transformers/tokenization_utils_base.py:1601: FutureWarning: `clean_up_tokenization_spaces` was not set. It will be set to `True` by default. This behavior will be depracted in transformers v4.45, and will be then set to `False` by default. For more details check this issue: https://github.com/huggingface/transformers/issues/31884\n",
            "  warnings.warn(\n"
          ]
        },
        {
          "output_type": "display_data",
          "data": {
            "text/plain": [
              "config.json:   0%|          | 0.00/4.56k [00:00<?, ?B/s]"
            ],
            "application/vnd.jupyter.widget-view+json": {
              "version_major": 2,
              "version_minor": 0,
              "model_id": "127253dd1f624789b18ab25ff2522080"
            }
          },
          "metadata": {}
        },
        {
          "output_type": "display_data",
          "data": {
            "text/plain": [
              "pytorch_model.bin:   0%|          | 0.00/990M [00:00<?, ?B/s]"
            ],
            "application/vnd.jupyter.widget-view+json": {
              "version_major": 2,
              "version_minor": 0,
              "model_id": "b5ce5030cda84adf8cc562a3a2ac3725"
            }
          },
          "metadata": {}
        }
      ],
      "source": [
        "# Initialize BLIP processor and model\n",
        "blip_processor = BlipProcessor.from_pretrained(\"Salesforce/blip-image-captioning-base\")\n",
        "blip_model = BlipForConditionalGeneration.from_pretrained(\"Salesforce/blip-image-captioning-base\").to('cuda' if torch.cuda.is_available() else 'cpu')"
      ]
    },
    {
      "cell_type": "code",
      "execution_count": null,
      "metadata": {
        "id": "OV482MAIPjn-"
      },
      "outputs": [],
      "source": [
        "layers = [\"layer.10\", \"layer.11\", \"layers.10\", \"layers.11\"]\n",
        "for name, param in blip_model.named_parameters():\n",
        "  param.requires_grad = False\n",
        "  for layer in layers:\n",
        "    if layer in name:\n",
        "      param.requires_grad = True\n",
        "      break\n"
      ]
    },
    {
      "cell_type": "code",
      "execution_count": null,
      "metadata": {
        "id": "OvUBoVE0Uumg",
        "colab": {
          "base_uri": "https://localhost:8080/"
        },
        "outputId": "516c8622-c440-4685-c527-1e88b2859a88"
      },
      "outputs": [
        {
          "output_type": "stream",
          "name": "stdout",
          "text": [
            "Layer: vision_model.embeddings.class_embedding, Status: Frozen\n",
            "Layer: vision_model.embeddings.position_embedding, Status: Frozen\n",
            "Layer: vision_model.embeddings.patch_embedding.weight, Status: Frozen\n",
            "Layer: vision_model.embeddings.patch_embedding.bias, Status: Frozen\n",
            "Layer: vision_model.encoder.layers.0.self_attn.qkv.weight, Status: Frozen\n",
            "Layer: vision_model.encoder.layers.0.self_attn.qkv.bias, Status: Frozen\n",
            "Layer: vision_model.encoder.layers.0.self_attn.projection.weight, Status: Frozen\n",
            "Layer: vision_model.encoder.layers.0.self_attn.projection.bias, Status: Frozen\n",
            "Layer: vision_model.encoder.layers.0.layer_norm1.weight, Status: Frozen\n",
            "Layer: vision_model.encoder.layers.0.layer_norm1.bias, Status: Frozen\n",
            "Layer: vision_model.encoder.layers.0.mlp.fc1.weight, Status: Frozen\n",
            "Layer: vision_model.encoder.layers.0.mlp.fc1.bias, Status: Frozen\n",
            "Layer: vision_model.encoder.layers.0.mlp.fc2.weight, Status: Frozen\n",
            "Layer: vision_model.encoder.layers.0.mlp.fc2.bias, Status: Frozen\n",
            "Layer: vision_model.encoder.layers.0.layer_norm2.weight, Status: Frozen\n",
            "Layer: vision_model.encoder.layers.0.layer_norm2.bias, Status: Frozen\n",
            "Layer: vision_model.encoder.layers.1.self_attn.qkv.weight, Status: Frozen\n",
            "Layer: vision_model.encoder.layers.1.self_attn.qkv.bias, Status: Frozen\n",
            "Layer: vision_model.encoder.layers.1.self_attn.projection.weight, Status: Frozen\n",
            "Layer: vision_model.encoder.layers.1.self_attn.projection.bias, Status: Frozen\n",
            "Layer: vision_model.encoder.layers.1.layer_norm1.weight, Status: Frozen\n",
            "Layer: vision_model.encoder.layers.1.layer_norm1.bias, Status: Frozen\n",
            "Layer: vision_model.encoder.layers.1.mlp.fc1.weight, Status: Frozen\n",
            "Layer: vision_model.encoder.layers.1.mlp.fc1.bias, Status: Frozen\n",
            "Layer: vision_model.encoder.layers.1.mlp.fc2.weight, Status: Frozen\n",
            "Layer: vision_model.encoder.layers.1.mlp.fc2.bias, Status: Frozen\n",
            "Layer: vision_model.encoder.layers.1.layer_norm2.weight, Status: Frozen\n",
            "Layer: vision_model.encoder.layers.1.layer_norm2.bias, Status: Frozen\n",
            "Layer: vision_model.encoder.layers.2.self_attn.qkv.weight, Status: Frozen\n",
            "Layer: vision_model.encoder.layers.2.self_attn.qkv.bias, Status: Frozen\n",
            "Layer: vision_model.encoder.layers.2.self_attn.projection.weight, Status: Frozen\n",
            "Layer: vision_model.encoder.layers.2.self_attn.projection.bias, Status: Frozen\n",
            "Layer: vision_model.encoder.layers.2.layer_norm1.weight, Status: Frozen\n",
            "Layer: vision_model.encoder.layers.2.layer_norm1.bias, Status: Frozen\n",
            "Layer: vision_model.encoder.layers.2.mlp.fc1.weight, Status: Frozen\n",
            "Layer: vision_model.encoder.layers.2.mlp.fc1.bias, Status: Frozen\n",
            "Layer: vision_model.encoder.layers.2.mlp.fc2.weight, Status: Frozen\n",
            "Layer: vision_model.encoder.layers.2.mlp.fc2.bias, Status: Frozen\n",
            "Layer: vision_model.encoder.layers.2.layer_norm2.weight, Status: Frozen\n",
            "Layer: vision_model.encoder.layers.2.layer_norm2.bias, Status: Frozen\n",
            "Layer: vision_model.encoder.layers.3.self_attn.qkv.weight, Status: Frozen\n",
            "Layer: vision_model.encoder.layers.3.self_attn.qkv.bias, Status: Frozen\n",
            "Layer: vision_model.encoder.layers.3.self_attn.projection.weight, Status: Frozen\n",
            "Layer: vision_model.encoder.layers.3.self_attn.projection.bias, Status: Frozen\n",
            "Layer: vision_model.encoder.layers.3.layer_norm1.weight, Status: Frozen\n",
            "Layer: vision_model.encoder.layers.3.layer_norm1.bias, Status: Frozen\n",
            "Layer: vision_model.encoder.layers.3.mlp.fc1.weight, Status: Frozen\n",
            "Layer: vision_model.encoder.layers.3.mlp.fc1.bias, Status: Frozen\n",
            "Layer: vision_model.encoder.layers.3.mlp.fc2.weight, Status: Frozen\n",
            "Layer: vision_model.encoder.layers.3.mlp.fc2.bias, Status: Frozen\n",
            "Layer: vision_model.encoder.layers.3.layer_norm2.weight, Status: Frozen\n",
            "Layer: vision_model.encoder.layers.3.layer_norm2.bias, Status: Frozen\n",
            "Layer: vision_model.encoder.layers.4.self_attn.qkv.weight, Status: Frozen\n",
            "Layer: vision_model.encoder.layers.4.self_attn.qkv.bias, Status: Frozen\n",
            "Layer: vision_model.encoder.layers.4.self_attn.projection.weight, Status: Frozen\n",
            "Layer: vision_model.encoder.layers.4.self_attn.projection.bias, Status: Frozen\n",
            "Layer: vision_model.encoder.layers.4.layer_norm1.weight, Status: Frozen\n",
            "Layer: vision_model.encoder.layers.4.layer_norm1.bias, Status: Frozen\n",
            "Layer: vision_model.encoder.layers.4.mlp.fc1.weight, Status: Frozen\n",
            "Layer: vision_model.encoder.layers.4.mlp.fc1.bias, Status: Frozen\n",
            "Layer: vision_model.encoder.layers.4.mlp.fc2.weight, Status: Frozen\n",
            "Layer: vision_model.encoder.layers.4.mlp.fc2.bias, Status: Frozen\n",
            "Layer: vision_model.encoder.layers.4.layer_norm2.weight, Status: Frozen\n",
            "Layer: vision_model.encoder.layers.4.layer_norm2.bias, Status: Frozen\n",
            "Layer: vision_model.encoder.layers.5.self_attn.qkv.weight, Status: Frozen\n",
            "Layer: vision_model.encoder.layers.5.self_attn.qkv.bias, Status: Frozen\n",
            "Layer: vision_model.encoder.layers.5.self_attn.projection.weight, Status: Frozen\n",
            "Layer: vision_model.encoder.layers.5.self_attn.projection.bias, Status: Frozen\n",
            "Layer: vision_model.encoder.layers.5.layer_norm1.weight, Status: Frozen\n",
            "Layer: vision_model.encoder.layers.5.layer_norm1.bias, Status: Frozen\n",
            "Layer: vision_model.encoder.layers.5.mlp.fc1.weight, Status: Frozen\n",
            "Layer: vision_model.encoder.layers.5.mlp.fc1.bias, Status: Frozen\n",
            "Layer: vision_model.encoder.layers.5.mlp.fc2.weight, Status: Frozen\n",
            "Layer: vision_model.encoder.layers.5.mlp.fc2.bias, Status: Frozen\n",
            "Layer: vision_model.encoder.layers.5.layer_norm2.weight, Status: Frozen\n",
            "Layer: vision_model.encoder.layers.5.layer_norm2.bias, Status: Frozen\n",
            "Layer: vision_model.encoder.layers.6.self_attn.qkv.weight, Status: Frozen\n",
            "Layer: vision_model.encoder.layers.6.self_attn.qkv.bias, Status: Frozen\n",
            "Layer: vision_model.encoder.layers.6.self_attn.projection.weight, Status: Frozen\n",
            "Layer: vision_model.encoder.layers.6.self_attn.projection.bias, Status: Frozen\n",
            "Layer: vision_model.encoder.layers.6.layer_norm1.weight, Status: Frozen\n",
            "Layer: vision_model.encoder.layers.6.layer_norm1.bias, Status: Frozen\n",
            "Layer: vision_model.encoder.layers.6.mlp.fc1.weight, Status: Frozen\n",
            "Layer: vision_model.encoder.layers.6.mlp.fc1.bias, Status: Frozen\n",
            "Layer: vision_model.encoder.layers.6.mlp.fc2.weight, Status: Frozen\n",
            "Layer: vision_model.encoder.layers.6.mlp.fc2.bias, Status: Frozen\n",
            "Layer: vision_model.encoder.layers.6.layer_norm2.weight, Status: Frozen\n",
            "Layer: vision_model.encoder.layers.6.layer_norm2.bias, Status: Frozen\n",
            "Layer: vision_model.encoder.layers.7.self_attn.qkv.weight, Status: Frozen\n",
            "Layer: vision_model.encoder.layers.7.self_attn.qkv.bias, Status: Frozen\n",
            "Layer: vision_model.encoder.layers.7.self_attn.projection.weight, Status: Frozen\n",
            "Layer: vision_model.encoder.layers.7.self_attn.projection.bias, Status: Frozen\n",
            "Layer: vision_model.encoder.layers.7.layer_norm1.weight, Status: Frozen\n",
            "Layer: vision_model.encoder.layers.7.layer_norm1.bias, Status: Frozen\n",
            "Layer: vision_model.encoder.layers.7.mlp.fc1.weight, Status: Frozen\n",
            "Layer: vision_model.encoder.layers.7.mlp.fc1.bias, Status: Frozen\n",
            "Layer: vision_model.encoder.layers.7.mlp.fc2.weight, Status: Frozen\n",
            "Layer: vision_model.encoder.layers.7.mlp.fc2.bias, Status: Frozen\n",
            "Layer: vision_model.encoder.layers.7.layer_norm2.weight, Status: Frozen\n",
            "Layer: vision_model.encoder.layers.7.layer_norm2.bias, Status: Frozen\n",
            "Layer: vision_model.encoder.layers.8.self_attn.qkv.weight, Status: Frozen\n",
            "Layer: vision_model.encoder.layers.8.self_attn.qkv.bias, Status: Frozen\n",
            "Layer: vision_model.encoder.layers.8.self_attn.projection.weight, Status: Frozen\n",
            "Layer: vision_model.encoder.layers.8.self_attn.projection.bias, Status: Frozen\n",
            "Layer: vision_model.encoder.layers.8.layer_norm1.weight, Status: Frozen\n",
            "Layer: vision_model.encoder.layers.8.layer_norm1.bias, Status: Frozen\n",
            "Layer: vision_model.encoder.layers.8.mlp.fc1.weight, Status: Frozen\n",
            "Layer: vision_model.encoder.layers.8.mlp.fc1.bias, Status: Frozen\n",
            "Layer: vision_model.encoder.layers.8.mlp.fc2.weight, Status: Frozen\n",
            "Layer: vision_model.encoder.layers.8.mlp.fc2.bias, Status: Frozen\n",
            "Layer: vision_model.encoder.layers.8.layer_norm2.weight, Status: Frozen\n",
            "Layer: vision_model.encoder.layers.8.layer_norm2.bias, Status: Frozen\n",
            "Layer: vision_model.encoder.layers.9.self_attn.qkv.weight, Status: Frozen\n",
            "Layer: vision_model.encoder.layers.9.self_attn.qkv.bias, Status: Frozen\n",
            "Layer: vision_model.encoder.layers.9.self_attn.projection.weight, Status: Frozen\n",
            "Layer: vision_model.encoder.layers.9.self_attn.projection.bias, Status: Frozen\n",
            "Layer: vision_model.encoder.layers.9.layer_norm1.weight, Status: Frozen\n",
            "Layer: vision_model.encoder.layers.9.layer_norm1.bias, Status: Frozen\n",
            "Layer: vision_model.encoder.layers.9.mlp.fc1.weight, Status: Frozen\n",
            "Layer: vision_model.encoder.layers.9.mlp.fc1.bias, Status: Frozen\n",
            "Layer: vision_model.encoder.layers.9.mlp.fc2.weight, Status: Frozen\n",
            "Layer: vision_model.encoder.layers.9.mlp.fc2.bias, Status: Frozen\n",
            "Layer: vision_model.encoder.layers.9.layer_norm2.weight, Status: Frozen\n",
            "Layer: vision_model.encoder.layers.9.layer_norm2.bias, Status: Frozen\n",
            "Layer: vision_model.encoder.layers.10.self_attn.qkv.weight, Status: Trainable\n",
            "Layer: vision_model.encoder.layers.10.self_attn.qkv.bias, Status: Trainable\n",
            "Layer: vision_model.encoder.layers.10.self_attn.projection.weight, Status: Trainable\n",
            "Layer: vision_model.encoder.layers.10.self_attn.projection.bias, Status: Trainable\n",
            "Layer: vision_model.encoder.layers.10.layer_norm1.weight, Status: Trainable\n",
            "Layer: vision_model.encoder.layers.10.layer_norm1.bias, Status: Trainable\n",
            "Layer: vision_model.encoder.layers.10.mlp.fc1.weight, Status: Trainable\n",
            "Layer: vision_model.encoder.layers.10.mlp.fc1.bias, Status: Trainable\n",
            "Layer: vision_model.encoder.layers.10.mlp.fc2.weight, Status: Trainable\n",
            "Layer: vision_model.encoder.layers.10.mlp.fc2.bias, Status: Trainable\n",
            "Layer: vision_model.encoder.layers.10.layer_norm2.weight, Status: Trainable\n",
            "Layer: vision_model.encoder.layers.10.layer_norm2.bias, Status: Trainable\n",
            "Layer: vision_model.encoder.layers.11.self_attn.qkv.weight, Status: Trainable\n",
            "Layer: vision_model.encoder.layers.11.self_attn.qkv.bias, Status: Trainable\n",
            "Layer: vision_model.encoder.layers.11.self_attn.projection.weight, Status: Trainable\n",
            "Layer: vision_model.encoder.layers.11.self_attn.projection.bias, Status: Trainable\n",
            "Layer: vision_model.encoder.layers.11.layer_norm1.weight, Status: Trainable\n",
            "Layer: vision_model.encoder.layers.11.layer_norm1.bias, Status: Trainable\n",
            "Layer: vision_model.encoder.layers.11.mlp.fc1.weight, Status: Trainable\n",
            "Layer: vision_model.encoder.layers.11.mlp.fc1.bias, Status: Trainable\n",
            "Layer: vision_model.encoder.layers.11.mlp.fc2.weight, Status: Trainable\n",
            "Layer: vision_model.encoder.layers.11.mlp.fc2.bias, Status: Trainable\n",
            "Layer: vision_model.encoder.layers.11.layer_norm2.weight, Status: Trainable\n",
            "Layer: vision_model.encoder.layers.11.layer_norm2.bias, Status: Trainable\n",
            "Layer: vision_model.post_layernorm.weight, Status: Frozen\n",
            "Layer: vision_model.post_layernorm.bias, Status: Frozen\n",
            "Layer: text_decoder.bert.embeddings.word_embeddings.weight, Status: Frozen\n",
            "Layer: text_decoder.bert.embeddings.position_embeddings.weight, Status: Frozen\n",
            "Layer: text_decoder.bert.embeddings.LayerNorm.weight, Status: Frozen\n",
            "Layer: text_decoder.bert.embeddings.LayerNorm.bias, Status: Frozen\n",
            "Layer: text_decoder.bert.encoder.layer.0.attention.self.query.weight, Status: Frozen\n",
            "Layer: text_decoder.bert.encoder.layer.0.attention.self.query.bias, Status: Frozen\n",
            "Layer: text_decoder.bert.encoder.layer.0.attention.self.key.weight, Status: Frozen\n",
            "Layer: text_decoder.bert.encoder.layer.0.attention.self.key.bias, Status: Frozen\n",
            "Layer: text_decoder.bert.encoder.layer.0.attention.self.value.weight, Status: Frozen\n",
            "Layer: text_decoder.bert.encoder.layer.0.attention.self.value.bias, Status: Frozen\n",
            "Layer: text_decoder.bert.encoder.layer.0.attention.output.dense.weight, Status: Frozen\n",
            "Layer: text_decoder.bert.encoder.layer.0.attention.output.dense.bias, Status: Frozen\n",
            "Layer: text_decoder.bert.encoder.layer.0.attention.output.LayerNorm.weight, Status: Frozen\n",
            "Layer: text_decoder.bert.encoder.layer.0.attention.output.LayerNorm.bias, Status: Frozen\n",
            "Layer: text_decoder.bert.encoder.layer.0.crossattention.self.query.weight, Status: Frozen\n",
            "Layer: text_decoder.bert.encoder.layer.0.crossattention.self.query.bias, Status: Frozen\n",
            "Layer: text_decoder.bert.encoder.layer.0.crossattention.self.key.weight, Status: Frozen\n",
            "Layer: text_decoder.bert.encoder.layer.0.crossattention.self.key.bias, Status: Frozen\n",
            "Layer: text_decoder.bert.encoder.layer.0.crossattention.self.value.weight, Status: Frozen\n",
            "Layer: text_decoder.bert.encoder.layer.0.crossattention.self.value.bias, Status: Frozen\n",
            "Layer: text_decoder.bert.encoder.layer.0.crossattention.output.dense.weight, Status: Frozen\n",
            "Layer: text_decoder.bert.encoder.layer.0.crossattention.output.dense.bias, Status: Frozen\n",
            "Layer: text_decoder.bert.encoder.layer.0.crossattention.output.LayerNorm.weight, Status: Frozen\n",
            "Layer: text_decoder.bert.encoder.layer.0.crossattention.output.LayerNorm.bias, Status: Frozen\n",
            "Layer: text_decoder.bert.encoder.layer.0.intermediate.dense.weight, Status: Frozen\n",
            "Layer: text_decoder.bert.encoder.layer.0.intermediate.dense.bias, Status: Frozen\n",
            "Layer: text_decoder.bert.encoder.layer.0.output.dense.weight, Status: Frozen\n",
            "Layer: text_decoder.bert.encoder.layer.0.output.dense.bias, Status: Frozen\n",
            "Layer: text_decoder.bert.encoder.layer.0.output.LayerNorm.weight, Status: Frozen\n",
            "Layer: text_decoder.bert.encoder.layer.0.output.LayerNorm.bias, Status: Frozen\n",
            "Layer: text_decoder.bert.encoder.layer.1.attention.self.query.weight, Status: Frozen\n",
            "Layer: text_decoder.bert.encoder.layer.1.attention.self.query.bias, Status: Frozen\n",
            "Layer: text_decoder.bert.encoder.layer.1.attention.self.key.weight, Status: Frozen\n",
            "Layer: text_decoder.bert.encoder.layer.1.attention.self.key.bias, Status: Frozen\n",
            "Layer: text_decoder.bert.encoder.layer.1.attention.self.value.weight, Status: Frozen\n",
            "Layer: text_decoder.bert.encoder.layer.1.attention.self.value.bias, Status: Frozen\n",
            "Layer: text_decoder.bert.encoder.layer.1.attention.output.dense.weight, Status: Frozen\n",
            "Layer: text_decoder.bert.encoder.layer.1.attention.output.dense.bias, Status: Frozen\n",
            "Layer: text_decoder.bert.encoder.layer.1.attention.output.LayerNorm.weight, Status: Frozen\n",
            "Layer: text_decoder.bert.encoder.layer.1.attention.output.LayerNorm.bias, Status: Frozen\n",
            "Layer: text_decoder.bert.encoder.layer.1.crossattention.self.query.weight, Status: Frozen\n",
            "Layer: text_decoder.bert.encoder.layer.1.crossattention.self.query.bias, Status: Frozen\n",
            "Layer: text_decoder.bert.encoder.layer.1.crossattention.self.key.weight, Status: Frozen\n",
            "Layer: text_decoder.bert.encoder.layer.1.crossattention.self.key.bias, Status: Frozen\n",
            "Layer: text_decoder.bert.encoder.layer.1.crossattention.self.value.weight, Status: Frozen\n",
            "Layer: text_decoder.bert.encoder.layer.1.crossattention.self.value.bias, Status: Frozen\n",
            "Layer: text_decoder.bert.encoder.layer.1.crossattention.output.dense.weight, Status: Frozen\n",
            "Layer: text_decoder.bert.encoder.layer.1.crossattention.output.dense.bias, Status: Frozen\n",
            "Layer: text_decoder.bert.encoder.layer.1.crossattention.output.LayerNorm.weight, Status: Frozen\n",
            "Layer: text_decoder.bert.encoder.layer.1.crossattention.output.LayerNorm.bias, Status: Frozen\n",
            "Layer: text_decoder.bert.encoder.layer.1.intermediate.dense.weight, Status: Frozen\n",
            "Layer: text_decoder.bert.encoder.layer.1.intermediate.dense.bias, Status: Frozen\n",
            "Layer: text_decoder.bert.encoder.layer.1.output.dense.weight, Status: Frozen\n",
            "Layer: text_decoder.bert.encoder.layer.1.output.dense.bias, Status: Frozen\n",
            "Layer: text_decoder.bert.encoder.layer.1.output.LayerNorm.weight, Status: Frozen\n",
            "Layer: text_decoder.bert.encoder.layer.1.output.LayerNorm.bias, Status: Frozen\n",
            "Layer: text_decoder.bert.encoder.layer.2.attention.self.query.weight, Status: Frozen\n",
            "Layer: text_decoder.bert.encoder.layer.2.attention.self.query.bias, Status: Frozen\n",
            "Layer: text_decoder.bert.encoder.layer.2.attention.self.key.weight, Status: Frozen\n",
            "Layer: text_decoder.bert.encoder.layer.2.attention.self.key.bias, Status: Frozen\n",
            "Layer: text_decoder.bert.encoder.layer.2.attention.self.value.weight, Status: Frozen\n",
            "Layer: text_decoder.bert.encoder.layer.2.attention.self.value.bias, Status: Frozen\n",
            "Layer: text_decoder.bert.encoder.layer.2.attention.output.dense.weight, Status: Frozen\n",
            "Layer: text_decoder.bert.encoder.layer.2.attention.output.dense.bias, Status: Frozen\n",
            "Layer: text_decoder.bert.encoder.layer.2.attention.output.LayerNorm.weight, Status: Frozen\n",
            "Layer: text_decoder.bert.encoder.layer.2.attention.output.LayerNorm.bias, Status: Frozen\n",
            "Layer: text_decoder.bert.encoder.layer.2.crossattention.self.query.weight, Status: Frozen\n",
            "Layer: text_decoder.bert.encoder.layer.2.crossattention.self.query.bias, Status: Frozen\n",
            "Layer: text_decoder.bert.encoder.layer.2.crossattention.self.key.weight, Status: Frozen\n",
            "Layer: text_decoder.bert.encoder.layer.2.crossattention.self.key.bias, Status: Frozen\n",
            "Layer: text_decoder.bert.encoder.layer.2.crossattention.self.value.weight, Status: Frozen\n",
            "Layer: text_decoder.bert.encoder.layer.2.crossattention.self.value.bias, Status: Frozen\n",
            "Layer: text_decoder.bert.encoder.layer.2.crossattention.output.dense.weight, Status: Frozen\n",
            "Layer: text_decoder.bert.encoder.layer.2.crossattention.output.dense.bias, Status: Frozen\n",
            "Layer: text_decoder.bert.encoder.layer.2.crossattention.output.LayerNorm.weight, Status: Frozen\n",
            "Layer: text_decoder.bert.encoder.layer.2.crossattention.output.LayerNorm.bias, Status: Frozen\n",
            "Layer: text_decoder.bert.encoder.layer.2.intermediate.dense.weight, Status: Frozen\n",
            "Layer: text_decoder.bert.encoder.layer.2.intermediate.dense.bias, Status: Frozen\n",
            "Layer: text_decoder.bert.encoder.layer.2.output.dense.weight, Status: Frozen\n",
            "Layer: text_decoder.bert.encoder.layer.2.output.dense.bias, Status: Frozen\n",
            "Layer: text_decoder.bert.encoder.layer.2.output.LayerNorm.weight, Status: Frozen\n",
            "Layer: text_decoder.bert.encoder.layer.2.output.LayerNorm.bias, Status: Frozen\n",
            "Layer: text_decoder.bert.encoder.layer.3.attention.self.query.weight, Status: Frozen\n",
            "Layer: text_decoder.bert.encoder.layer.3.attention.self.query.bias, Status: Frozen\n",
            "Layer: text_decoder.bert.encoder.layer.3.attention.self.key.weight, Status: Frozen\n",
            "Layer: text_decoder.bert.encoder.layer.3.attention.self.key.bias, Status: Frozen\n",
            "Layer: text_decoder.bert.encoder.layer.3.attention.self.value.weight, Status: Frozen\n",
            "Layer: text_decoder.bert.encoder.layer.3.attention.self.value.bias, Status: Frozen\n",
            "Layer: text_decoder.bert.encoder.layer.3.attention.output.dense.weight, Status: Frozen\n",
            "Layer: text_decoder.bert.encoder.layer.3.attention.output.dense.bias, Status: Frozen\n",
            "Layer: text_decoder.bert.encoder.layer.3.attention.output.LayerNorm.weight, Status: Frozen\n",
            "Layer: text_decoder.bert.encoder.layer.3.attention.output.LayerNorm.bias, Status: Frozen\n",
            "Layer: text_decoder.bert.encoder.layer.3.crossattention.self.query.weight, Status: Frozen\n",
            "Layer: text_decoder.bert.encoder.layer.3.crossattention.self.query.bias, Status: Frozen\n",
            "Layer: text_decoder.bert.encoder.layer.3.crossattention.self.key.weight, Status: Frozen\n",
            "Layer: text_decoder.bert.encoder.layer.3.crossattention.self.key.bias, Status: Frozen\n",
            "Layer: text_decoder.bert.encoder.layer.3.crossattention.self.value.weight, Status: Frozen\n",
            "Layer: text_decoder.bert.encoder.layer.3.crossattention.self.value.bias, Status: Frozen\n",
            "Layer: text_decoder.bert.encoder.layer.3.crossattention.output.dense.weight, Status: Frozen\n",
            "Layer: text_decoder.bert.encoder.layer.3.crossattention.output.dense.bias, Status: Frozen\n",
            "Layer: text_decoder.bert.encoder.layer.3.crossattention.output.LayerNorm.weight, Status: Frozen\n",
            "Layer: text_decoder.bert.encoder.layer.3.crossattention.output.LayerNorm.bias, Status: Frozen\n",
            "Layer: text_decoder.bert.encoder.layer.3.intermediate.dense.weight, Status: Frozen\n",
            "Layer: text_decoder.bert.encoder.layer.3.intermediate.dense.bias, Status: Frozen\n",
            "Layer: text_decoder.bert.encoder.layer.3.output.dense.weight, Status: Frozen\n",
            "Layer: text_decoder.bert.encoder.layer.3.output.dense.bias, Status: Frozen\n",
            "Layer: text_decoder.bert.encoder.layer.3.output.LayerNorm.weight, Status: Frozen\n",
            "Layer: text_decoder.bert.encoder.layer.3.output.LayerNorm.bias, Status: Frozen\n",
            "Layer: text_decoder.bert.encoder.layer.4.attention.self.query.weight, Status: Frozen\n",
            "Layer: text_decoder.bert.encoder.layer.4.attention.self.query.bias, Status: Frozen\n",
            "Layer: text_decoder.bert.encoder.layer.4.attention.self.key.weight, Status: Frozen\n",
            "Layer: text_decoder.bert.encoder.layer.4.attention.self.key.bias, Status: Frozen\n",
            "Layer: text_decoder.bert.encoder.layer.4.attention.self.value.weight, Status: Frozen\n",
            "Layer: text_decoder.bert.encoder.layer.4.attention.self.value.bias, Status: Frozen\n",
            "Layer: text_decoder.bert.encoder.layer.4.attention.output.dense.weight, Status: Frozen\n",
            "Layer: text_decoder.bert.encoder.layer.4.attention.output.dense.bias, Status: Frozen\n",
            "Layer: text_decoder.bert.encoder.layer.4.attention.output.LayerNorm.weight, Status: Frozen\n",
            "Layer: text_decoder.bert.encoder.layer.4.attention.output.LayerNorm.bias, Status: Frozen\n",
            "Layer: text_decoder.bert.encoder.layer.4.crossattention.self.query.weight, Status: Frozen\n",
            "Layer: text_decoder.bert.encoder.layer.4.crossattention.self.query.bias, Status: Frozen\n",
            "Layer: text_decoder.bert.encoder.layer.4.crossattention.self.key.weight, Status: Frozen\n",
            "Layer: text_decoder.bert.encoder.layer.4.crossattention.self.key.bias, Status: Frozen\n",
            "Layer: text_decoder.bert.encoder.layer.4.crossattention.self.value.weight, Status: Frozen\n",
            "Layer: text_decoder.bert.encoder.layer.4.crossattention.self.value.bias, Status: Frozen\n",
            "Layer: text_decoder.bert.encoder.layer.4.crossattention.output.dense.weight, Status: Frozen\n",
            "Layer: text_decoder.bert.encoder.layer.4.crossattention.output.dense.bias, Status: Frozen\n",
            "Layer: text_decoder.bert.encoder.layer.4.crossattention.output.LayerNorm.weight, Status: Frozen\n",
            "Layer: text_decoder.bert.encoder.layer.4.crossattention.output.LayerNorm.bias, Status: Frozen\n",
            "Layer: text_decoder.bert.encoder.layer.4.intermediate.dense.weight, Status: Frozen\n",
            "Layer: text_decoder.bert.encoder.layer.4.intermediate.dense.bias, Status: Frozen\n",
            "Layer: text_decoder.bert.encoder.layer.4.output.dense.weight, Status: Frozen\n",
            "Layer: text_decoder.bert.encoder.layer.4.output.dense.bias, Status: Frozen\n",
            "Layer: text_decoder.bert.encoder.layer.4.output.LayerNorm.weight, Status: Frozen\n",
            "Layer: text_decoder.bert.encoder.layer.4.output.LayerNorm.bias, Status: Frozen\n",
            "Layer: text_decoder.bert.encoder.layer.5.attention.self.query.weight, Status: Frozen\n",
            "Layer: text_decoder.bert.encoder.layer.5.attention.self.query.bias, Status: Frozen\n",
            "Layer: text_decoder.bert.encoder.layer.5.attention.self.key.weight, Status: Frozen\n",
            "Layer: text_decoder.bert.encoder.layer.5.attention.self.key.bias, Status: Frozen\n",
            "Layer: text_decoder.bert.encoder.layer.5.attention.self.value.weight, Status: Frozen\n",
            "Layer: text_decoder.bert.encoder.layer.5.attention.self.value.bias, Status: Frozen\n",
            "Layer: text_decoder.bert.encoder.layer.5.attention.output.dense.weight, Status: Frozen\n",
            "Layer: text_decoder.bert.encoder.layer.5.attention.output.dense.bias, Status: Frozen\n",
            "Layer: text_decoder.bert.encoder.layer.5.attention.output.LayerNorm.weight, Status: Frozen\n",
            "Layer: text_decoder.bert.encoder.layer.5.attention.output.LayerNorm.bias, Status: Frozen\n",
            "Layer: text_decoder.bert.encoder.layer.5.crossattention.self.query.weight, Status: Frozen\n",
            "Layer: text_decoder.bert.encoder.layer.5.crossattention.self.query.bias, Status: Frozen\n",
            "Layer: text_decoder.bert.encoder.layer.5.crossattention.self.key.weight, Status: Frozen\n",
            "Layer: text_decoder.bert.encoder.layer.5.crossattention.self.key.bias, Status: Frozen\n",
            "Layer: text_decoder.bert.encoder.layer.5.crossattention.self.value.weight, Status: Frozen\n",
            "Layer: text_decoder.bert.encoder.layer.5.crossattention.self.value.bias, Status: Frozen\n",
            "Layer: text_decoder.bert.encoder.layer.5.crossattention.output.dense.weight, Status: Frozen\n",
            "Layer: text_decoder.bert.encoder.layer.5.crossattention.output.dense.bias, Status: Frozen\n",
            "Layer: text_decoder.bert.encoder.layer.5.crossattention.output.LayerNorm.weight, Status: Frozen\n",
            "Layer: text_decoder.bert.encoder.layer.5.crossattention.output.LayerNorm.bias, Status: Frozen\n",
            "Layer: text_decoder.bert.encoder.layer.5.intermediate.dense.weight, Status: Frozen\n",
            "Layer: text_decoder.bert.encoder.layer.5.intermediate.dense.bias, Status: Frozen\n",
            "Layer: text_decoder.bert.encoder.layer.5.output.dense.weight, Status: Frozen\n",
            "Layer: text_decoder.bert.encoder.layer.5.output.dense.bias, Status: Frozen\n",
            "Layer: text_decoder.bert.encoder.layer.5.output.LayerNorm.weight, Status: Frozen\n",
            "Layer: text_decoder.bert.encoder.layer.5.output.LayerNorm.bias, Status: Frozen\n",
            "Layer: text_decoder.bert.encoder.layer.6.attention.self.query.weight, Status: Frozen\n",
            "Layer: text_decoder.bert.encoder.layer.6.attention.self.query.bias, Status: Frozen\n",
            "Layer: text_decoder.bert.encoder.layer.6.attention.self.key.weight, Status: Frozen\n",
            "Layer: text_decoder.bert.encoder.layer.6.attention.self.key.bias, Status: Frozen\n",
            "Layer: text_decoder.bert.encoder.layer.6.attention.self.value.weight, Status: Frozen\n",
            "Layer: text_decoder.bert.encoder.layer.6.attention.self.value.bias, Status: Frozen\n",
            "Layer: text_decoder.bert.encoder.layer.6.attention.output.dense.weight, Status: Frozen\n",
            "Layer: text_decoder.bert.encoder.layer.6.attention.output.dense.bias, Status: Frozen\n",
            "Layer: text_decoder.bert.encoder.layer.6.attention.output.LayerNorm.weight, Status: Frozen\n",
            "Layer: text_decoder.bert.encoder.layer.6.attention.output.LayerNorm.bias, Status: Frozen\n",
            "Layer: text_decoder.bert.encoder.layer.6.crossattention.self.query.weight, Status: Frozen\n",
            "Layer: text_decoder.bert.encoder.layer.6.crossattention.self.query.bias, Status: Frozen\n",
            "Layer: text_decoder.bert.encoder.layer.6.crossattention.self.key.weight, Status: Frozen\n",
            "Layer: text_decoder.bert.encoder.layer.6.crossattention.self.key.bias, Status: Frozen\n",
            "Layer: text_decoder.bert.encoder.layer.6.crossattention.self.value.weight, Status: Frozen\n",
            "Layer: text_decoder.bert.encoder.layer.6.crossattention.self.value.bias, Status: Frozen\n",
            "Layer: text_decoder.bert.encoder.layer.6.crossattention.output.dense.weight, Status: Frozen\n",
            "Layer: text_decoder.bert.encoder.layer.6.crossattention.output.dense.bias, Status: Frozen\n",
            "Layer: text_decoder.bert.encoder.layer.6.crossattention.output.LayerNorm.weight, Status: Frozen\n",
            "Layer: text_decoder.bert.encoder.layer.6.crossattention.output.LayerNorm.bias, Status: Frozen\n",
            "Layer: text_decoder.bert.encoder.layer.6.intermediate.dense.weight, Status: Frozen\n",
            "Layer: text_decoder.bert.encoder.layer.6.intermediate.dense.bias, Status: Frozen\n",
            "Layer: text_decoder.bert.encoder.layer.6.output.dense.weight, Status: Frozen\n",
            "Layer: text_decoder.bert.encoder.layer.6.output.dense.bias, Status: Frozen\n",
            "Layer: text_decoder.bert.encoder.layer.6.output.LayerNorm.weight, Status: Frozen\n",
            "Layer: text_decoder.bert.encoder.layer.6.output.LayerNorm.bias, Status: Frozen\n",
            "Layer: text_decoder.bert.encoder.layer.7.attention.self.query.weight, Status: Frozen\n",
            "Layer: text_decoder.bert.encoder.layer.7.attention.self.query.bias, Status: Frozen\n",
            "Layer: text_decoder.bert.encoder.layer.7.attention.self.key.weight, Status: Frozen\n",
            "Layer: text_decoder.bert.encoder.layer.7.attention.self.key.bias, Status: Frozen\n",
            "Layer: text_decoder.bert.encoder.layer.7.attention.self.value.weight, Status: Frozen\n",
            "Layer: text_decoder.bert.encoder.layer.7.attention.self.value.bias, Status: Frozen\n",
            "Layer: text_decoder.bert.encoder.layer.7.attention.output.dense.weight, Status: Frozen\n",
            "Layer: text_decoder.bert.encoder.layer.7.attention.output.dense.bias, Status: Frozen\n",
            "Layer: text_decoder.bert.encoder.layer.7.attention.output.LayerNorm.weight, Status: Frozen\n",
            "Layer: text_decoder.bert.encoder.layer.7.attention.output.LayerNorm.bias, Status: Frozen\n",
            "Layer: text_decoder.bert.encoder.layer.7.crossattention.self.query.weight, Status: Frozen\n",
            "Layer: text_decoder.bert.encoder.layer.7.crossattention.self.query.bias, Status: Frozen\n",
            "Layer: text_decoder.bert.encoder.layer.7.crossattention.self.key.weight, Status: Frozen\n",
            "Layer: text_decoder.bert.encoder.layer.7.crossattention.self.key.bias, Status: Frozen\n",
            "Layer: text_decoder.bert.encoder.layer.7.crossattention.self.value.weight, Status: Frozen\n",
            "Layer: text_decoder.bert.encoder.layer.7.crossattention.self.value.bias, Status: Frozen\n",
            "Layer: text_decoder.bert.encoder.layer.7.crossattention.output.dense.weight, Status: Frozen\n",
            "Layer: text_decoder.bert.encoder.layer.7.crossattention.output.dense.bias, Status: Frozen\n",
            "Layer: text_decoder.bert.encoder.layer.7.crossattention.output.LayerNorm.weight, Status: Frozen\n",
            "Layer: text_decoder.bert.encoder.layer.7.crossattention.output.LayerNorm.bias, Status: Frozen\n",
            "Layer: text_decoder.bert.encoder.layer.7.intermediate.dense.weight, Status: Frozen\n",
            "Layer: text_decoder.bert.encoder.layer.7.intermediate.dense.bias, Status: Frozen\n",
            "Layer: text_decoder.bert.encoder.layer.7.output.dense.weight, Status: Frozen\n",
            "Layer: text_decoder.bert.encoder.layer.7.output.dense.bias, Status: Frozen\n",
            "Layer: text_decoder.bert.encoder.layer.7.output.LayerNorm.weight, Status: Frozen\n",
            "Layer: text_decoder.bert.encoder.layer.7.output.LayerNorm.bias, Status: Frozen\n",
            "Layer: text_decoder.bert.encoder.layer.8.attention.self.query.weight, Status: Frozen\n",
            "Layer: text_decoder.bert.encoder.layer.8.attention.self.query.bias, Status: Frozen\n",
            "Layer: text_decoder.bert.encoder.layer.8.attention.self.key.weight, Status: Frozen\n",
            "Layer: text_decoder.bert.encoder.layer.8.attention.self.key.bias, Status: Frozen\n",
            "Layer: text_decoder.bert.encoder.layer.8.attention.self.value.weight, Status: Frozen\n",
            "Layer: text_decoder.bert.encoder.layer.8.attention.self.value.bias, Status: Frozen\n",
            "Layer: text_decoder.bert.encoder.layer.8.attention.output.dense.weight, Status: Frozen\n",
            "Layer: text_decoder.bert.encoder.layer.8.attention.output.dense.bias, Status: Frozen\n",
            "Layer: text_decoder.bert.encoder.layer.8.attention.output.LayerNorm.weight, Status: Frozen\n",
            "Layer: text_decoder.bert.encoder.layer.8.attention.output.LayerNorm.bias, Status: Frozen\n",
            "Layer: text_decoder.bert.encoder.layer.8.crossattention.self.query.weight, Status: Frozen\n",
            "Layer: text_decoder.bert.encoder.layer.8.crossattention.self.query.bias, Status: Frozen\n",
            "Layer: text_decoder.bert.encoder.layer.8.crossattention.self.key.weight, Status: Frozen\n",
            "Layer: text_decoder.bert.encoder.layer.8.crossattention.self.key.bias, Status: Frozen\n",
            "Layer: text_decoder.bert.encoder.layer.8.crossattention.self.value.weight, Status: Frozen\n",
            "Layer: text_decoder.bert.encoder.layer.8.crossattention.self.value.bias, Status: Frozen\n",
            "Layer: text_decoder.bert.encoder.layer.8.crossattention.output.dense.weight, Status: Frozen\n",
            "Layer: text_decoder.bert.encoder.layer.8.crossattention.output.dense.bias, Status: Frozen\n",
            "Layer: text_decoder.bert.encoder.layer.8.crossattention.output.LayerNorm.weight, Status: Frozen\n",
            "Layer: text_decoder.bert.encoder.layer.8.crossattention.output.LayerNorm.bias, Status: Frozen\n",
            "Layer: text_decoder.bert.encoder.layer.8.intermediate.dense.weight, Status: Frozen\n",
            "Layer: text_decoder.bert.encoder.layer.8.intermediate.dense.bias, Status: Frozen\n",
            "Layer: text_decoder.bert.encoder.layer.8.output.dense.weight, Status: Frozen\n",
            "Layer: text_decoder.bert.encoder.layer.8.output.dense.bias, Status: Frozen\n",
            "Layer: text_decoder.bert.encoder.layer.8.output.LayerNorm.weight, Status: Frozen\n",
            "Layer: text_decoder.bert.encoder.layer.8.output.LayerNorm.bias, Status: Frozen\n",
            "Layer: text_decoder.bert.encoder.layer.9.attention.self.query.weight, Status: Frozen\n",
            "Layer: text_decoder.bert.encoder.layer.9.attention.self.query.bias, Status: Frozen\n",
            "Layer: text_decoder.bert.encoder.layer.9.attention.self.key.weight, Status: Frozen\n",
            "Layer: text_decoder.bert.encoder.layer.9.attention.self.key.bias, Status: Frozen\n",
            "Layer: text_decoder.bert.encoder.layer.9.attention.self.value.weight, Status: Frozen\n",
            "Layer: text_decoder.bert.encoder.layer.9.attention.self.value.bias, Status: Frozen\n",
            "Layer: text_decoder.bert.encoder.layer.9.attention.output.dense.weight, Status: Frozen\n",
            "Layer: text_decoder.bert.encoder.layer.9.attention.output.dense.bias, Status: Frozen\n",
            "Layer: text_decoder.bert.encoder.layer.9.attention.output.LayerNorm.weight, Status: Frozen\n",
            "Layer: text_decoder.bert.encoder.layer.9.attention.output.LayerNorm.bias, Status: Frozen\n",
            "Layer: text_decoder.bert.encoder.layer.9.crossattention.self.query.weight, Status: Frozen\n",
            "Layer: text_decoder.bert.encoder.layer.9.crossattention.self.query.bias, Status: Frozen\n",
            "Layer: text_decoder.bert.encoder.layer.9.crossattention.self.key.weight, Status: Frozen\n",
            "Layer: text_decoder.bert.encoder.layer.9.crossattention.self.key.bias, Status: Frozen\n",
            "Layer: text_decoder.bert.encoder.layer.9.crossattention.self.value.weight, Status: Frozen\n",
            "Layer: text_decoder.bert.encoder.layer.9.crossattention.self.value.bias, Status: Frozen\n",
            "Layer: text_decoder.bert.encoder.layer.9.crossattention.output.dense.weight, Status: Frozen\n",
            "Layer: text_decoder.bert.encoder.layer.9.crossattention.output.dense.bias, Status: Frozen\n",
            "Layer: text_decoder.bert.encoder.layer.9.crossattention.output.LayerNorm.weight, Status: Frozen\n",
            "Layer: text_decoder.bert.encoder.layer.9.crossattention.output.LayerNorm.bias, Status: Frozen\n",
            "Layer: text_decoder.bert.encoder.layer.9.intermediate.dense.weight, Status: Frozen\n",
            "Layer: text_decoder.bert.encoder.layer.9.intermediate.dense.bias, Status: Frozen\n",
            "Layer: text_decoder.bert.encoder.layer.9.output.dense.weight, Status: Frozen\n",
            "Layer: text_decoder.bert.encoder.layer.9.output.dense.bias, Status: Frozen\n",
            "Layer: text_decoder.bert.encoder.layer.9.output.LayerNorm.weight, Status: Frozen\n",
            "Layer: text_decoder.bert.encoder.layer.9.output.LayerNorm.bias, Status: Frozen\n",
            "Layer: text_decoder.bert.encoder.layer.10.attention.self.query.weight, Status: Trainable\n",
            "Layer: text_decoder.bert.encoder.layer.10.attention.self.query.bias, Status: Trainable\n",
            "Layer: text_decoder.bert.encoder.layer.10.attention.self.key.weight, Status: Trainable\n",
            "Layer: text_decoder.bert.encoder.layer.10.attention.self.key.bias, Status: Trainable\n",
            "Layer: text_decoder.bert.encoder.layer.10.attention.self.value.weight, Status: Trainable\n",
            "Layer: text_decoder.bert.encoder.layer.10.attention.self.value.bias, Status: Trainable\n",
            "Layer: text_decoder.bert.encoder.layer.10.attention.output.dense.weight, Status: Trainable\n",
            "Layer: text_decoder.bert.encoder.layer.10.attention.output.dense.bias, Status: Trainable\n",
            "Layer: text_decoder.bert.encoder.layer.10.attention.output.LayerNorm.weight, Status: Trainable\n",
            "Layer: text_decoder.bert.encoder.layer.10.attention.output.LayerNorm.bias, Status: Trainable\n",
            "Layer: text_decoder.bert.encoder.layer.10.crossattention.self.query.weight, Status: Trainable\n",
            "Layer: text_decoder.bert.encoder.layer.10.crossattention.self.query.bias, Status: Trainable\n",
            "Layer: text_decoder.bert.encoder.layer.10.crossattention.self.key.weight, Status: Trainable\n",
            "Layer: text_decoder.bert.encoder.layer.10.crossattention.self.key.bias, Status: Trainable\n",
            "Layer: text_decoder.bert.encoder.layer.10.crossattention.self.value.weight, Status: Trainable\n",
            "Layer: text_decoder.bert.encoder.layer.10.crossattention.self.value.bias, Status: Trainable\n",
            "Layer: text_decoder.bert.encoder.layer.10.crossattention.output.dense.weight, Status: Trainable\n",
            "Layer: text_decoder.bert.encoder.layer.10.crossattention.output.dense.bias, Status: Trainable\n",
            "Layer: text_decoder.bert.encoder.layer.10.crossattention.output.LayerNorm.weight, Status: Trainable\n",
            "Layer: text_decoder.bert.encoder.layer.10.crossattention.output.LayerNorm.bias, Status: Trainable\n",
            "Layer: text_decoder.bert.encoder.layer.10.intermediate.dense.weight, Status: Trainable\n",
            "Layer: text_decoder.bert.encoder.layer.10.intermediate.dense.bias, Status: Trainable\n",
            "Layer: text_decoder.bert.encoder.layer.10.output.dense.weight, Status: Trainable\n",
            "Layer: text_decoder.bert.encoder.layer.10.output.dense.bias, Status: Trainable\n",
            "Layer: text_decoder.bert.encoder.layer.10.output.LayerNorm.weight, Status: Trainable\n",
            "Layer: text_decoder.bert.encoder.layer.10.output.LayerNorm.bias, Status: Trainable\n",
            "Layer: text_decoder.bert.encoder.layer.11.attention.self.query.weight, Status: Trainable\n",
            "Layer: text_decoder.bert.encoder.layer.11.attention.self.query.bias, Status: Trainable\n",
            "Layer: text_decoder.bert.encoder.layer.11.attention.self.key.weight, Status: Trainable\n",
            "Layer: text_decoder.bert.encoder.layer.11.attention.self.key.bias, Status: Trainable\n",
            "Layer: text_decoder.bert.encoder.layer.11.attention.self.value.weight, Status: Trainable\n",
            "Layer: text_decoder.bert.encoder.layer.11.attention.self.value.bias, Status: Trainable\n",
            "Layer: text_decoder.bert.encoder.layer.11.attention.output.dense.weight, Status: Trainable\n",
            "Layer: text_decoder.bert.encoder.layer.11.attention.output.dense.bias, Status: Trainable\n",
            "Layer: text_decoder.bert.encoder.layer.11.attention.output.LayerNorm.weight, Status: Trainable\n",
            "Layer: text_decoder.bert.encoder.layer.11.attention.output.LayerNorm.bias, Status: Trainable\n",
            "Layer: text_decoder.bert.encoder.layer.11.crossattention.self.query.weight, Status: Trainable\n",
            "Layer: text_decoder.bert.encoder.layer.11.crossattention.self.query.bias, Status: Trainable\n",
            "Layer: text_decoder.bert.encoder.layer.11.crossattention.self.key.weight, Status: Trainable\n",
            "Layer: text_decoder.bert.encoder.layer.11.crossattention.self.key.bias, Status: Trainable\n",
            "Layer: text_decoder.bert.encoder.layer.11.crossattention.self.value.weight, Status: Trainable\n",
            "Layer: text_decoder.bert.encoder.layer.11.crossattention.self.value.bias, Status: Trainable\n",
            "Layer: text_decoder.bert.encoder.layer.11.crossattention.output.dense.weight, Status: Trainable\n",
            "Layer: text_decoder.bert.encoder.layer.11.crossattention.output.dense.bias, Status: Trainable\n",
            "Layer: text_decoder.bert.encoder.layer.11.crossattention.output.LayerNorm.weight, Status: Trainable\n",
            "Layer: text_decoder.bert.encoder.layer.11.crossattention.output.LayerNorm.bias, Status: Trainable\n",
            "Layer: text_decoder.bert.encoder.layer.11.intermediate.dense.weight, Status: Trainable\n",
            "Layer: text_decoder.bert.encoder.layer.11.intermediate.dense.bias, Status: Trainable\n",
            "Layer: text_decoder.bert.encoder.layer.11.output.dense.weight, Status: Trainable\n",
            "Layer: text_decoder.bert.encoder.layer.11.output.dense.bias, Status: Trainable\n",
            "Layer: text_decoder.bert.encoder.layer.11.output.LayerNorm.weight, Status: Trainable\n",
            "Layer: text_decoder.bert.encoder.layer.11.output.LayerNorm.bias, Status: Trainable\n",
            "Layer: text_decoder.cls.predictions.bias, Status: Frozen\n",
            "Layer: text_decoder.cls.predictions.transform.dense.weight, Status: Frozen\n",
            "Layer: text_decoder.cls.predictions.transform.dense.bias, Status: Frozen\n",
            "Layer: text_decoder.cls.predictions.transform.LayerNorm.weight, Status: Frozen\n",
            "Layer: text_decoder.cls.predictions.transform.LayerNorm.bias, Status: Frozen\n",
            "Layer: text_decoder.cls.predictions.decoder.weight, Status: Frozen\n"
          ]
        }
      ],
      "source": [
        "for name, param in blip_model.named_parameters():\n",
        "    status = \"Trainable\" if param.requires_grad else \"Frozen\"\n",
        "    print(f\"Layer: {name}, Status: {status}\")"
      ]
    },
    {
      "cell_type": "code",
      "execution_count": null,
      "metadata": {
        "id": "FkAACq6gEDQ3",
        "colab": {
          "base_uri": "https://localhost:8080/",
          "height": 214,
          "referenced_widgets": [
            "f4456372f50642128b349eae552b6daf",
            "39a43984e5704520b1195ee0eadf5fe2",
            "33ad229aebe14ddbb24a3f3885b64bc9",
            "effcb1c337e84a419bb95e123214b362",
            "a812d2c89ed447428dd7ca721ebb8f4c",
            "c1ba40494cf04abd804ebbd1e2677aad",
            "1e5fee5954fb4a75a515d683092eb9ac",
            "3e45ef29f905439289912fde3a285579",
            "80069aac9efc4d32a45e040006894117",
            "bb6887c130b84269ac87f3d4fd528ba0",
            "ca8bbd86b2cf4ce2b8b0de6e54c6d8b8",
            "5100144552ca488b94b0d58725b8864b",
            "5a0caed35b59484493b1639f980a20fb",
            "010d9a8ebbde40e7a5d1f24ec2849f1e",
            "d7c8a3b4eda64139a22a0b8a4ef5cce1",
            "fadd8f46ee764f1aa74d944b44c457e8",
            "29be26029bf8436c86e09d289003312c",
            "f41490f9f44f403a92ac0aab7d62e4cd",
            "5c4185b276fe4d21b5e919205d042e61",
            "2511ae6c9d5f403ebc78bb022fab60dd",
            "84643ac932b14a94a40c9f7ad1e9348b",
            "6148324de21e48bbbad0599268a75f47",
            "509501f9ff6e480c81c5e663eb4053ac",
            "89759701f0244e6682c59abb886b42dc",
            "c529a98f067a4ca08488351e4af8b8b1",
            "455594d5f9d348138b14a278dbe21cb2",
            "c4da65d8b3f540d3999b54b42773412f",
            "ea625e16875e4739a92b6deb5af37822",
            "46fea42dade54599a32fa104934000c5",
            "f9eddc183ed6447d8f1cb709e7abb4f2",
            "25176912c43843818d91e81485e8b90e",
            "ed7805226318480a8ab008b2281d9159",
            "5a3de81ed341446fb2ec8fff48ec2b95",
            "69bc58001ae147a48d1bf61bc91d36eb",
            "2a14539402ac4af1a09ba23410a71b2f",
            "ec30dee0c1864991af8937ebfa7fc9be",
            "2e32fdeff135452497a30306a974182c",
            "db37ebd4e73b465593cbb519aab8bfcb",
            "6ec8741651d54919a8e2a827c88cc875",
            "e0fe6f7315584dc281aeb25136a25cad",
            "a9063097114f45e2aeaa5b4080346b91",
            "f72c4fc6e9d74afb805fdc6e9b1d6435",
            "39fb4420d04743ea9cb7830994ce269e",
            "7a32c04d10aa49ea94381e6c041ec6f1",
            "57112d2403da41c3b73c1126785691eb",
            "af3c2a4c902c49538b86b15de003d1b8",
            "a754ec3b0d62431c8dc4d6fe55b8aa3c",
            "839bebc62b974749bf9ad1163c4c5f0a",
            "f71e6337654b49afa40ec9fd270c3cf6",
            "db506393e8a3467b90aa931238b37c53",
            "db9bee408aff4769bcb683e58169230e",
            "38cdbfebb3b24305ad34f5c763900528",
            "f8caf80a673a4329a13cf3e2a2c66ac4",
            "6ea248d8443949c0bcfe7a7287e4cb48",
            "0804e366d3544d5cb083f385ec8e70c6"
          ]
        },
        "outputId": "284078fb-fe1d-446b-d50f-809caf3a96da"
      },
      "outputs": [
        {
          "output_type": "display_data",
          "data": {
            "text/plain": [
              "spiece.model:   0%|          | 0.00/792k [00:00<?, ?B/s]"
            ],
            "application/vnd.jupyter.widget-view+json": {
              "version_major": 2,
              "version_minor": 0,
              "model_id": "f4456372f50642128b349eae552b6daf"
            }
          },
          "metadata": {}
        },
        {
          "output_type": "display_data",
          "data": {
            "text/plain": [
              "tokenizer.json:   0%|          | 0.00/1.39M [00:00<?, ?B/s]"
            ],
            "application/vnd.jupyter.widget-view+json": {
              "version_major": 2,
              "version_minor": 0,
              "model_id": "5100144552ca488b94b0d58725b8864b"
            }
          },
          "metadata": {}
        },
        {
          "output_type": "display_data",
          "data": {
            "text/plain": [
              "config.json:   0%|          | 0.00/1.21k [00:00<?, ?B/s]"
            ],
            "application/vnd.jupyter.widget-view+json": {
              "version_major": 2,
              "version_minor": 0,
              "model_id": "509501f9ff6e480c81c5e663eb4053ac"
            }
          },
          "metadata": {}
        },
        {
          "output_type": "stream",
          "name": "stderr",
          "text": [
            "You are using the default legacy behaviour of the <class 'transformers.models.t5.tokenization_t5.T5Tokenizer'>. This is expected, and simply means that the `legacy` (previous) behavior will be used so nothing changes for you. If you want to use the new behaviour, set `legacy=False`. This should only be set if you understand what it means, and thoroughly read the reason why this was added as explained in https://github.com/huggingface/transformers/pull/24565\n"
          ]
        },
        {
          "output_type": "display_data",
          "data": {
            "text/plain": [
              "model.safetensors:   0%|          | 0.00/892M [00:00<?, ?B/s]"
            ],
            "application/vnd.jupyter.widget-view+json": {
              "version_major": 2,
              "version_minor": 0,
              "model_id": "69bc58001ae147a48d1bf61bc91d36eb"
            }
          },
          "metadata": {}
        },
        {
          "output_type": "display_data",
          "data": {
            "text/plain": [
              "generation_config.json:   0%|          | 0.00/147 [00:00<?, ?B/s]"
            ],
            "application/vnd.jupyter.widget-view+json": {
              "version_major": 2,
              "version_minor": 0,
              "model_id": "57112d2403da41c3b73c1126785691eb"
            }
          },
          "metadata": {}
        }
      ],
      "source": [
        "# Initialize T5 tokenizer and model\n",
        "t5_tokenizer = T5Tokenizer.from_pretrained('t5-base')\n",
        "t5_model = T5ForConditionalGeneration.from_pretrained('t5-base').to('cuda' if torch.cuda.is_available() else 'cpu')\n"
      ]
    },
    {
      "cell_type": "code",
      "execution_count": null,
      "metadata": {
        "id": "z8yKnmdIde8u"
      },
      "outputs": [],
      "source": [
        "for name, parameter in t5_model.named_parameters():\n",
        "  if \"encoder.block\" in name:\n",
        "    index = name.split(\".\")[2]\n",
        "    if int(index) < 10:\n",
        "      parameter.requires_grad = False\n",
        "    else:\n",
        "      parameter.requires_grad = True\n",
        "\n",
        "for name, parameter in t5_model.named_parameters():\n",
        "    if \"decoder.block\" in name and \"EncDecAttention\" in name:\n",
        "        block_idx = int(name.split(\".\")[2])  # Extract block index from the parameter name\n",
        "        if block_idx >= 9:\n",
        "            parameter.requires_grad = True\n",
        "        else:\n",
        "            parameter.requires_grad = False\n"
      ]
    },
    {
      "cell_type": "code",
      "execution_count": null,
      "metadata": {
        "id": "poHZofznW3KL",
        "colab": {
          "base_uri": "https://localhost:8080/"
        },
        "outputId": "7c7cc5a0-474b-454f-b1f7-d384996b49b5"
      },
      "outputs": [
        {
          "output_type": "stream",
          "name": "stdout",
          "text": [
            "Layer: shared.weight, Status: Trainable\n",
            "Layer: encoder.block.0.layer.0.SelfAttention.q.weight, Status: Frozen\n",
            "Layer: encoder.block.0.layer.0.SelfAttention.k.weight, Status: Frozen\n",
            "Layer: encoder.block.0.layer.0.SelfAttention.v.weight, Status: Frozen\n",
            "Layer: encoder.block.0.layer.0.SelfAttention.o.weight, Status: Frozen\n",
            "Layer: encoder.block.0.layer.0.SelfAttention.relative_attention_bias.weight, Status: Frozen\n",
            "Layer: encoder.block.0.layer.0.layer_norm.weight, Status: Frozen\n",
            "Layer: encoder.block.0.layer.1.DenseReluDense.wi.weight, Status: Frozen\n",
            "Layer: encoder.block.0.layer.1.DenseReluDense.wo.weight, Status: Frozen\n",
            "Layer: encoder.block.0.layer.1.layer_norm.weight, Status: Frozen\n",
            "Layer: encoder.block.1.layer.0.SelfAttention.q.weight, Status: Frozen\n",
            "Layer: encoder.block.1.layer.0.SelfAttention.k.weight, Status: Frozen\n",
            "Layer: encoder.block.1.layer.0.SelfAttention.v.weight, Status: Frozen\n",
            "Layer: encoder.block.1.layer.0.SelfAttention.o.weight, Status: Frozen\n",
            "Layer: encoder.block.1.layer.0.layer_norm.weight, Status: Frozen\n",
            "Layer: encoder.block.1.layer.1.DenseReluDense.wi.weight, Status: Frozen\n",
            "Layer: encoder.block.1.layer.1.DenseReluDense.wo.weight, Status: Frozen\n",
            "Layer: encoder.block.1.layer.1.layer_norm.weight, Status: Frozen\n",
            "Layer: encoder.block.2.layer.0.SelfAttention.q.weight, Status: Frozen\n",
            "Layer: encoder.block.2.layer.0.SelfAttention.k.weight, Status: Frozen\n",
            "Layer: encoder.block.2.layer.0.SelfAttention.v.weight, Status: Frozen\n",
            "Layer: encoder.block.2.layer.0.SelfAttention.o.weight, Status: Frozen\n",
            "Layer: encoder.block.2.layer.0.layer_norm.weight, Status: Frozen\n",
            "Layer: encoder.block.2.layer.1.DenseReluDense.wi.weight, Status: Frozen\n",
            "Layer: encoder.block.2.layer.1.DenseReluDense.wo.weight, Status: Frozen\n",
            "Layer: encoder.block.2.layer.1.layer_norm.weight, Status: Frozen\n",
            "Layer: encoder.block.3.layer.0.SelfAttention.q.weight, Status: Frozen\n",
            "Layer: encoder.block.3.layer.0.SelfAttention.k.weight, Status: Frozen\n",
            "Layer: encoder.block.3.layer.0.SelfAttention.v.weight, Status: Frozen\n",
            "Layer: encoder.block.3.layer.0.SelfAttention.o.weight, Status: Frozen\n",
            "Layer: encoder.block.3.layer.0.layer_norm.weight, Status: Frozen\n",
            "Layer: encoder.block.3.layer.1.DenseReluDense.wi.weight, Status: Frozen\n",
            "Layer: encoder.block.3.layer.1.DenseReluDense.wo.weight, Status: Frozen\n",
            "Layer: encoder.block.3.layer.1.layer_norm.weight, Status: Frozen\n",
            "Layer: encoder.block.4.layer.0.SelfAttention.q.weight, Status: Frozen\n",
            "Layer: encoder.block.4.layer.0.SelfAttention.k.weight, Status: Frozen\n",
            "Layer: encoder.block.4.layer.0.SelfAttention.v.weight, Status: Frozen\n",
            "Layer: encoder.block.4.layer.0.SelfAttention.o.weight, Status: Frozen\n",
            "Layer: encoder.block.4.layer.0.layer_norm.weight, Status: Frozen\n",
            "Layer: encoder.block.4.layer.1.DenseReluDense.wi.weight, Status: Frozen\n",
            "Layer: encoder.block.4.layer.1.DenseReluDense.wo.weight, Status: Frozen\n",
            "Layer: encoder.block.4.layer.1.layer_norm.weight, Status: Frozen\n",
            "Layer: encoder.block.5.layer.0.SelfAttention.q.weight, Status: Frozen\n",
            "Layer: encoder.block.5.layer.0.SelfAttention.k.weight, Status: Frozen\n",
            "Layer: encoder.block.5.layer.0.SelfAttention.v.weight, Status: Frozen\n",
            "Layer: encoder.block.5.layer.0.SelfAttention.o.weight, Status: Frozen\n",
            "Layer: encoder.block.5.layer.0.layer_norm.weight, Status: Frozen\n",
            "Layer: encoder.block.5.layer.1.DenseReluDense.wi.weight, Status: Frozen\n",
            "Layer: encoder.block.5.layer.1.DenseReluDense.wo.weight, Status: Frozen\n",
            "Layer: encoder.block.5.layer.1.layer_norm.weight, Status: Frozen\n",
            "Layer: encoder.block.6.layer.0.SelfAttention.q.weight, Status: Frozen\n",
            "Layer: encoder.block.6.layer.0.SelfAttention.k.weight, Status: Frozen\n",
            "Layer: encoder.block.6.layer.0.SelfAttention.v.weight, Status: Frozen\n",
            "Layer: encoder.block.6.layer.0.SelfAttention.o.weight, Status: Frozen\n",
            "Layer: encoder.block.6.layer.0.layer_norm.weight, Status: Frozen\n",
            "Layer: encoder.block.6.layer.1.DenseReluDense.wi.weight, Status: Frozen\n",
            "Layer: encoder.block.6.layer.1.DenseReluDense.wo.weight, Status: Frozen\n",
            "Layer: encoder.block.6.layer.1.layer_norm.weight, Status: Frozen\n",
            "Layer: encoder.block.7.layer.0.SelfAttention.q.weight, Status: Frozen\n",
            "Layer: encoder.block.7.layer.0.SelfAttention.k.weight, Status: Frozen\n",
            "Layer: encoder.block.7.layer.0.SelfAttention.v.weight, Status: Frozen\n",
            "Layer: encoder.block.7.layer.0.SelfAttention.o.weight, Status: Frozen\n",
            "Layer: encoder.block.7.layer.0.layer_norm.weight, Status: Frozen\n",
            "Layer: encoder.block.7.layer.1.DenseReluDense.wi.weight, Status: Frozen\n",
            "Layer: encoder.block.7.layer.1.DenseReluDense.wo.weight, Status: Frozen\n",
            "Layer: encoder.block.7.layer.1.layer_norm.weight, Status: Frozen\n",
            "Layer: encoder.block.8.layer.0.SelfAttention.q.weight, Status: Frozen\n",
            "Layer: encoder.block.8.layer.0.SelfAttention.k.weight, Status: Frozen\n",
            "Layer: encoder.block.8.layer.0.SelfAttention.v.weight, Status: Frozen\n",
            "Layer: encoder.block.8.layer.0.SelfAttention.o.weight, Status: Frozen\n",
            "Layer: encoder.block.8.layer.0.layer_norm.weight, Status: Frozen\n",
            "Layer: encoder.block.8.layer.1.DenseReluDense.wi.weight, Status: Frozen\n",
            "Layer: encoder.block.8.layer.1.DenseReluDense.wo.weight, Status: Frozen\n",
            "Layer: encoder.block.8.layer.1.layer_norm.weight, Status: Frozen\n",
            "Layer: encoder.block.9.layer.0.SelfAttention.q.weight, Status: Frozen\n",
            "Layer: encoder.block.9.layer.0.SelfAttention.k.weight, Status: Frozen\n",
            "Layer: encoder.block.9.layer.0.SelfAttention.v.weight, Status: Frozen\n",
            "Layer: encoder.block.9.layer.0.SelfAttention.o.weight, Status: Frozen\n",
            "Layer: encoder.block.9.layer.0.layer_norm.weight, Status: Frozen\n",
            "Layer: encoder.block.9.layer.1.DenseReluDense.wi.weight, Status: Frozen\n",
            "Layer: encoder.block.9.layer.1.DenseReluDense.wo.weight, Status: Frozen\n",
            "Layer: encoder.block.9.layer.1.layer_norm.weight, Status: Frozen\n",
            "Layer: encoder.block.10.layer.0.SelfAttention.q.weight, Status: Trainable\n",
            "Layer: encoder.block.10.layer.0.SelfAttention.k.weight, Status: Trainable\n",
            "Layer: encoder.block.10.layer.0.SelfAttention.v.weight, Status: Trainable\n",
            "Layer: encoder.block.10.layer.0.SelfAttention.o.weight, Status: Trainable\n",
            "Layer: encoder.block.10.layer.0.layer_norm.weight, Status: Trainable\n",
            "Layer: encoder.block.10.layer.1.DenseReluDense.wi.weight, Status: Trainable\n",
            "Layer: encoder.block.10.layer.1.DenseReluDense.wo.weight, Status: Trainable\n",
            "Layer: encoder.block.10.layer.1.layer_norm.weight, Status: Trainable\n",
            "Layer: encoder.block.11.layer.0.SelfAttention.q.weight, Status: Trainable\n",
            "Layer: encoder.block.11.layer.0.SelfAttention.k.weight, Status: Trainable\n",
            "Layer: encoder.block.11.layer.0.SelfAttention.v.weight, Status: Trainable\n",
            "Layer: encoder.block.11.layer.0.SelfAttention.o.weight, Status: Trainable\n",
            "Layer: encoder.block.11.layer.0.layer_norm.weight, Status: Trainable\n",
            "Layer: encoder.block.11.layer.1.DenseReluDense.wi.weight, Status: Trainable\n",
            "Layer: encoder.block.11.layer.1.DenseReluDense.wo.weight, Status: Trainable\n",
            "Layer: encoder.block.11.layer.1.layer_norm.weight, Status: Trainable\n",
            "Layer: encoder.final_layer_norm.weight, Status: Trainable\n",
            "Layer: decoder.block.0.layer.0.SelfAttention.q.weight, Status: Trainable\n",
            "Layer: decoder.block.0.layer.0.SelfAttention.k.weight, Status: Trainable\n",
            "Layer: decoder.block.0.layer.0.SelfAttention.v.weight, Status: Trainable\n",
            "Layer: decoder.block.0.layer.0.SelfAttention.o.weight, Status: Trainable\n",
            "Layer: decoder.block.0.layer.0.SelfAttention.relative_attention_bias.weight, Status: Trainable\n",
            "Layer: decoder.block.0.layer.0.layer_norm.weight, Status: Trainable\n",
            "Layer: decoder.block.0.layer.1.EncDecAttention.q.weight, Status: Frozen\n",
            "Layer: decoder.block.0.layer.1.EncDecAttention.k.weight, Status: Frozen\n",
            "Layer: decoder.block.0.layer.1.EncDecAttention.v.weight, Status: Frozen\n",
            "Layer: decoder.block.0.layer.1.EncDecAttention.o.weight, Status: Frozen\n",
            "Layer: decoder.block.0.layer.1.layer_norm.weight, Status: Trainable\n",
            "Layer: decoder.block.0.layer.2.DenseReluDense.wi.weight, Status: Trainable\n",
            "Layer: decoder.block.0.layer.2.DenseReluDense.wo.weight, Status: Trainable\n",
            "Layer: decoder.block.0.layer.2.layer_norm.weight, Status: Trainable\n",
            "Layer: decoder.block.1.layer.0.SelfAttention.q.weight, Status: Trainable\n",
            "Layer: decoder.block.1.layer.0.SelfAttention.k.weight, Status: Trainable\n",
            "Layer: decoder.block.1.layer.0.SelfAttention.v.weight, Status: Trainable\n",
            "Layer: decoder.block.1.layer.0.SelfAttention.o.weight, Status: Trainable\n",
            "Layer: decoder.block.1.layer.0.layer_norm.weight, Status: Trainable\n",
            "Layer: decoder.block.1.layer.1.EncDecAttention.q.weight, Status: Frozen\n",
            "Layer: decoder.block.1.layer.1.EncDecAttention.k.weight, Status: Frozen\n",
            "Layer: decoder.block.1.layer.1.EncDecAttention.v.weight, Status: Frozen\n",
            "Layer: decoder.block.1.layer.1.EncDecAttention.o.weight, Status: Frozen\n",
            "Layer: decoder.block.1.layer.1.layer_norm.weight, Status: Trainable\n",
            "Layer: decoder.block.1.layer.2.DenseReluDense.wi.weight, Status: Trainable\n",
            "Layer: decoder.block.1.layer.2.DenseReluDense.wo.weight, Status: Trainable\n",
            "Layer: decoder.block.1.layer.2.layer_norm.weight, Status: Trainable\n",
            "Layer: decoder.block.2.layer.0.SelfAttention.q.weight, Status: Trainable\n",
            "Layer: decoder.block.2.layer.0.SelfAttention.k.weight, Status: Trainable\n",
            "Layer: decoder.block.2.layer.0.SelfAttention.v.weight, Status: Trainable\n",
            "Layer: decoder.block.2.layer.0.SelfAttention.o.weight, Status: Trainable\n",
            "Layer: decoder.block.2.layer.0.layer_norm.weight, Status: Trainable\n",
            "Layer: decoder.block.2.layer.1.EncDecAttention.q.weight, Status: Frozen\n",
            "Layer: decoder.block.2.layer.1.EncDecAttention.k.weight, Status: Frozen\n",
            "Layer: decoder.block.2.layer.1.EncDecAttention.v.weight, Status: Frozen\n",
            "Layer: decoder.block.2.layer.1.EncDecAttention.o.weight, Status: Frozen\n",
            "Layer: decoder.block.2.layer.1.layer_norm.weight, Status: Trainable\n",
            "Layer: decoder.block.2.layer.2.DenseReluDense.wi.weight, Status: Trainable\n",
            "Layer: decoder.block.2.layer.2.DenseReluDense.wo.weight, Status: Trainable\n",
            "Layer: decoder.block.2.layer.2.layer_norm.weight, Status: Trainable\n",
            "Layer: decoder.block.3.layer.0.SelfAttention.q.weight, Status: Trainable\n",
            "Layer: decoder.block.3.layer.0.SelfAttention.k.weight, Status: Trainable\n",
            "Layer: decoder.block.3.layer.0.SelfAttention.v.weight, Status: Trainable\n",
            "Layer: decoder.block.3.layer.0.SelfAttention.o.weight, Status: Trainable\n",
            "Layer: decoder.block.3.layer.0.layer_norm.weight, Status: Trainable\n",
            "Layer: decoder.block.3.layer.1.EncDecAttention.q.weight, Status: Frozen\n",
            "Layer: decoder.block.3.layer.1.EncDecAttention.k.weight, Status: Frozen\n",
            "Layer: decoder.block.3.layer.1.EncDecAttention.v.weight, Status: Frozen\n",
            "Layer: decoder.block.3.layer.1.EncDecAttention.o.weight, Status: Frozen\n",
            "Layer: decoder.block.3.layer.1.layer_norm.weight, Status: Trainable\n",
            "Layer: decoder.block.3.layer.2.DenseReluDense.wi.weight, Status: Trainable\n",
            "Layer: decoder.block.3.layer.2.DenseReluDense.wo.weight, Status: Trainable\n",
            "Layer: decoder.block.3.layer.2.layer_norm.weight, Status: Trainable\n",
            "Layer: decoder.block.4.layer.0.SelfAttention.q.weight, Status: Trainable\n",
            "Layer: decoder.block.4.layer.0.SelfAttention.k.weight, Status: Trainable\n",
            "Layer: decoder.block.4.layer.0.SelfAttention.v.weight, Status: Trainable\n",
            "Layer: decoder.block.4.layer.0.SelfAttention.o.weight, Status: Trainable\n",
            "Layer: decoder.block.4.layer.0.layer_norm.weight, Status: Trainable\n",
            "Layer: decoder.block.4.layer.1.EncDecAttention.q.weight, Status: Frozen\n",
            "Layer: decoder.block.4.layer.1.EncDecAttention.k.weight, Status: Frozen\n",
            "Layer: decoder.block.4.layer.1.EncDecAttention.v.weight, Status: Frozen\n",
            "Layer: decoder.block.4.layer.1.EncDecAttention.o.weight, Status: Frozen\n",
            "Layer: decoder.block.4.layer.1.layer_norm.weight, Status: Trainable\n",
            "Layer: decoder.block.4.layer.2.DenseReluDense.wi.weight, Status: Trainable\n",
            "Layer: decoder.block.4.layer.2.DenseReluDense.wo.weight, Status: Trainable\n",
            "Layer: decoder.block.4.layer.2.layer_norm.weight, Status: Trainable\n",
            "Layer: decoder.block.5.layer.0.SelfAttention.q.weight, Status: Trainable\n",
            "Layer: decoder.block.5.layer.0.SelfAttention.k.weight, Status: Trainable\n",
            "Layer: decoder.block.5.layer.0.SelfAttention.v.weight, Status: Trainable\n",
            "Layer: decoder.block.5.layer.0.SelfAttention.o.weight, Status: Trainable\n",
            "Layer: decoder.block.5.layer.0.layer_norm.weight, Status: Trainable\n",
            "Layer: decoder.block.5.layer.1.EncDecAttention.q.weight, Status: Frozen\n",
            "Layer: decoder.block.5.layer.1.EncDecAttention.k.weight, Status: Frozen\n",
            "Layer: decoder.block.5.layer.1.EncDecAttention.v.weight, Status: Frozen\n",
            "Layer: decoder.block.5.layer.1.EncDecAttention.o.weight, Status: Frozen\n",
            "Layer: decoder.block.5.layer.1.layer_norm.weight, Status: Trainable\n",
            "Layer: decoder.block.5.layer.2.DenseReluDense.wi.weight, Status: Trainable\n",
            "Layer: decoder.block.5.layer.2.DenseReluDense.wo.weight, Status: Trainable\n",
            "Layer: decoder.block.5.layer.2.layer_norm.weight, Status: Trainable\n",
            "Layer: decoder.block.6.layer.0.SelfAttention.q.weight, Status: Trainable\n",
            "Layer: decoder.block.6.layer.0.SelfAttention.k.weight, Status: Trainable\n",
            "Layer: decoder.block.6.layer.0.SelfAttention.v.weight, Status: Trainable\n",
            "Layer: decoder.block.6.layer.0.SelfAttention.o.weight, Status: Trainable\n",
            "Layer: decoder.block.6.layer.0.layer_norm.weight, Status: Trainable\n",
            "Layer: decoder.block.6.layer.1.EncDecAttention.q.weight, Status: Frozen\n",
            "Layer: decoder.block.6.layer.1.EncDecAttention.k.weight, Status: Frozen\n",
            "Layer: decoder.block.6.layer.1.EncDecAttention.v.weight, Status: Frozen\n",
            "Layer: decoder.block.6.layer.1.EncDecAttention.o.weight, Status: Frozen\n",
            "Layer: decoder.block.6.layer.1.layer_norm.weight, Status: Trainable\n",
            "Layer: decoder.block.6.layer.2.DenseReluDense.wi.weight, Status: Trainable\n",
            "Layer: decoder.block.6.layer.2.DenseReluDense.wo.weight, Status: Trainable\n",
            "Layer: decoder.block.6.layer.2.layer_norm.weight, Status: Trainable\n",
            "Layer: decoder.block.7.layer.0.SelfAttention.q.weight, Status: Trainable\n",
            "Layer: decoder.block.7.layer.0.SelfAttention.k.weight, Status: Trainable\n",
            "Layer: decoder.block.7.layer.0.SelfAttention.v.weight, Status: Trainable\n",
            "Layer: decoder.block.7.layer.0.SelfAttention.o.weight, Status: Trainable\n",
            "Layer: decoder.block.7.layer.0.layer_norm.weight, Status: Trainable\n",
            "Layer: decoder.block.7.layer.1.EncDecAttention.q.weight, Status: Frozen\n",
            "Layer: decoder.block.7.layer.1.EncDecAttention.k.weight, Status: Frozen\n",
            "Layer: decoder.block.7.layer.1.EncDecAttention.v.weight, Status: Frozen\n",
            "Layer: decoder.block.7.layer.1.EncDecAttention.o.weight, Status: Frozen\n",
            "Layer: decoder.block.7.layer.1.layer_norm.weight, Status: Trainable\n",
            "Layer: decoder.block.7.layer.2.DenseReluDense.wi.weight, Status: Trainable\n",
            "Layer: decoder.block.7.layer.2.DenseReluDense.wo.weight, Status: Trainable\n",
            "Layer: decoder.block.7.layer.2.layer_norm.weight, Status: Trainable\n",
            "Layer: decoder.block.8.layer.0.SelfAttention.q.weight, Status: Trainable\n",
            "Layer: decoder.block.8.layer.0.SelfAttention.k.weight, Status: Trainable\n",
            "Layer: decoder.block.8.layer.0.SelfAttention.v.weight, Status: Trainable\n",
            "Layer: decoder.block.8.layer.0.SelfAttention.o.weight, Status: Trainable\n",
            "Layer: decoder.block.8.layer.0.layer_norm.weight, Status: Trainable\n",
            "Layer: decoder.block.8.layer.1.EncDecAttention.q.weight, Status: Frozen\n",
            "Layer: decoder.block.8.layer.1.EncDecAttention.k.weight, Status: Frozen\n",
            "Layer: decoder.block.8.layer.1.EncDecAttention.v.weight, Status: Frozen\n",
            "Layer: decoder.block.8.layer.1.EncDecAttention.o.weight, Status: Frozen\n",
            "Layer: decoder.block.8.layer.1.layer_norm.weight, Status: Trainable\n",
            "Layer: decoder.block.8.layer.2.DenseReluDense.wi.weight, Status: Trainable\n",
            "Layer: decoder.block.8.layer.2.DenseReluDense.wo.weight, Status: Trainable\n",
            "Layer: decoder.block.8.layer.2.layer_norm.weight, Status: Trainable\n",
            "Layer: decoder.block.9.layer.0.SelfAttention.q.weight, Status: Trainable\n",
            "Layer: decoder.block.9.layer.0.SelfAttention.k.weight, Status: Trainable\n",
            "Layer: decoder.block.9.layer.0.SelfAttention.v.weight, Status: Trainable\n",
            "Layer: decoder.block.9.layer.0.SelfAttention.o.weight, Status: Trainable\n",
            "Layer: decoder.block.9.layer.0.layer_norm.weight, Status: Trainable\n",
            "Layer: decoder.block.9.layer.1.EncDecAttention.q.weight, Status: Trainable\n",
            "Layer: decoder.block.9.layer.1.EncDecAttention.k.weight, Status: Trainable\n",
            "Layer: decoder.block.9.layer.1.EncDecAttention.v.weight, Status: Trainable\n",
            "Layer: decoder.block.9.layer.1.EncDecAttention.o.weight, Status: Trainable\n",
            "Layer: decoder.block.9.layer.1.layer_norm.weight, Status: Trainable\n",
            "Layer: decoder.block.9.layer.2.DenseReluDense.wi.weight, Status: Trainable\n",
            "Layer: decoder.block.9.layer.2.DenseReluDense.wo.weight, Status: Trainable\n",
            "Layer: decoder.block.9.layer.2.layer_norm.weight, Status: Trainable\n",
            "Layer: decoder.block.10.layer.0.SelfAttention.q.weight, Status: Trainable\n",
            "Layer: decoder.block.10.layer.0.SelfAttention.k.weight, Status: Trainable\n",
            "Layer: decoder.block.10.layer.0.SelfAttention.v.weight, Status: Trainable\n",
            "Layer: decoder.block.10.layer.0.SelfAttention.o.weight, Status: Trainable\n",
            "Layer: decoder.block.10.layer.0.layer_norm.weight, Status: Trainable\n",
            "Layer: decoder.block.10.layer.1.EncDecAttention.q.weight, Status: Trainable\n",
            "Layer: decoder.block.10.layer.1.EncDecAttention.k.weight, Status: Trainable\n",
            "Layer: decoder.block.10.layer.1.EncDecAttention.v.weight, Status: Trainable\n",
            "Layer: decoder.block.10.layer.1.EncDecAttention.o.weight, Status: Trainable\n",
            "Layer: decoder.block.10.layer.1.layer_norm.weight, Status: Trainable\n",
            "Layer: decoder.block.10.layer.2.DenseReluDense.wi.weight, Status: Trainable\n",
            "Layer: decoder.block.10.layer.2.DenseReluDense.wo.weight, Status: Trainable\n",
            "Layer: decoder.block.10.layer.2.layer_norm.weight, Status: Trainable\n",
            "Layer: decoder.block.11.layer.0.SelfAttention.q.weight, Status: Trainable\n",
            "Layer: decoder.block.11.layer.0.SelfAttention.k.weight, Status: Trainable\n",
            "Layer: decoder.block.11.layer.0.SelfAttention.v.weight, Status: Trainable\n",
            "Layer: decoder.block.11.layer.0.SelfAttention.o.weight, Status: Trainable\n",
            "Layer: decoder.block.11.layer.0.layer_norm.weight, Status: Trainable\n",
            "Layer: decoder.block.11.layer.1.EncDecAttention.q.weight, Status: Trainable\n",
            "Layer: decoder.block.11.layer.1.EncDecAttention.k.weight, Status: Trainable\n",
            "Layer: decoder.block.11.layer.1.EncDecAttention.v.weight, Status: Trainable\n",
            "Layer: decoder.block.11.layer.1.EncDecAttention.o.weight, Status: Trainable\n",
            "Layer: decoder.block.11.layer.1.layer_norm.weight, Status: Trainable\n",
            "Layer: decoder.block.11.layer.2.DenseReluDense.wi.weight, Status: Trainable\n",
            "Layer: decoder.block.11.layer.2.DenseReluDense.wo.weight, Status: Trainable\n",
            "Layer: decoder.block.11.layer.2.layer_norm.weight, Status: Trainable\n",
            "Layer: decoder.final_layer_norm.weight, Status: Trainable\n"
          ]
        }
      ],
      "source": [
        "\n",
        "for name, parameter in t5_model.named_parameters():\n",
        "  status = \"Trainable\" if parameter.requires_grad else \"Frozen\"\n",
        "  print(f\"Layer: {name}, Status: {status}\")"
      ]
    },
    {
      "cell_type": "code",
      "execution_count": null,
      "metadata": {
        "id": "FVIfxJxYxS3J"
      },
      "outputs": [],
      "source": [
        "import torch\n",
        "import numpy as np\n",
        "from torch.utils.data import Dataset\n",
        "\n",
        "class GifAggregationDataset(Dataset):\n",
        "    def __init__(self, frames_list, targets, tokenizer, max_target_length=150):\n",
        "        \"\"\"\n",
        "        frames_list: A list of lists containing frames (as tensors or numpy arrays) for each GIF.\n",
        "        targets: The ground truth captions for each GIF.\n",
        "        tokenizer: Tokenizer for T5 to encode the target captions.\n",
        "        max_target_length: Maximum length for the target text sequences.\n",
        "        \"\"\"\n",
        "        self.frames_list = frames_list  # List of frame sequences (e.g., list of tensors for each GIF)\n",
        "        self.targets = targets  # Ground truth captions for each GIF\n",
        "        self.tokenizer = tokenizer\n",
        "        self.max_target_length = max_target_length\n",
        "\n",
        "    def __len__(self):\n",
        "        return len(self.frames_list)\n",
        "\n",
        "    def __getitem__(self, idx):\n",
        "        # Get frames and target for the given index\n",
        "        frames = self.frames_list[idx]  # List or tensor of frames for a single GIF\n",
        "        target_text = self.targets[idx]\n",
        "\n",
        "        # Ensure frames are in the correct shape (num_frames, height, width, channels)\n",
        "        if isinstance(frames, list):\n",
        "            # Convert list of numpy arrays to a single numpy array, if necessary\n",
        "            frames = np.array(frames)\n",
        "\n",
        "        # If frames are numpy arrays, convert to torch tensor and make sure dimensions are correct\n",
        "        if isinstance(frames, np.ndarray):\n",
        "            frames = torch.tensor(frames, dtype=torch.float32)  # Convert to float32 tensor for PyTorch\n",
        "\n",
        "        # Reshape or permute frames to ensure the shape is (num_frames, height, width, channels)\n",
        "        if frames.ndim == 4 and frames.shape[-1] == 3:\n",
        "            # Shape is (num_frames, height, width, channels), which is correct for PIL conversion\n",
        "            pass\n",
        "        elif frames.ndim == 4 and frames.shape[1] == 3:\n",
        "            # If frames have shape (num_frames, channels, height, width), change to (num_frames, height, width, channels)\n",
        "            frames = frames.permute(0, 2, 3, 1)  # (N, C, H, W) -> (N, H, W, C)\n",
        "\n",
        "        # Tokenize the target caption (ground-truth description)\n",
        "        target_encoding = self.tokenizer(\n",
        "            target_text,\n",
        "            padding='max_length',\n",
        "            truncation=True,\n",
        "            max_length=self.max_target_length,\n",
        "            return_tensors=\"pt\"\n",
        "        )\n",
        "\n",
        "        # Replace padding token ID's of the labels by -100 to ignore them in the loss\n",
        "        labels = target_encoding.input_ids.squeeze()\n",
        "        labels[labels == self.tokenizer.pad_token_id] = -100\n",
        "\n",
        "        return {\n",
        "            'frames': frames,  # Provide frames directly in tensor format (num_frames, height, width, channels)\n",
        "            'labels': labels,  # Provide tokenized ground truth captions for T5\n",
        "            'reference_description': target_text\n",
        "        }\n"
      ]
    },
    {
      "cell_type": "code",
      "execution_count": null,
      "metadata": {
        "id": "I4w20-kuwcWD"
      },
      "outputs": [],
      "source": [
        "import torch\n",
        "import torch.nn as nn\n",
        "import torch.optim as optim\n",
        "from transformers import T5Tokenizer\n",
        "from torch.utils.data import DataLoader, random_split\n",
        "\n",
        "# Setup the models in training mode\n",
        "blip_model.train()  # BLIP is now being trained, so it's in training mode\n",
        "t5_model.train()    # T5 is also being trained\n",
        "\n",
        "# Define optimizers for BLIP and T5\n",
        "blip_params = filter(lambda p: p.requires_grad, blip_model.parameters())\n",
        "t5_params = filter(lambda p: p.requires_grad, t5_model.parameters())\n",
        "\n",
        "blip_optimizer = optim.AdamW(blip_params, lr=0.00005)  # Lower learning rate since we're training both\n",
        "t5_optimizer = optim.AdamW(t5_params, lr=0.0001)\n",
        "\n",
        "# Define the loss function for T5\n",
        "criterion = nn.CrossEntropyLoss(ignore_index=-100)"
      ]
    },
    {
      "cell_type": "code",
      "execution_count": null,
      "metadata": {
        "id": "42Bv9uRFwowP"
      },
      "outputs": [],
      "source": [
        "# Prepare DataLoader (frames and target descriptions)\n",
        "\n",
        "aggregation_dataset = GifAggregationDataset(\n",
        "    frames_list=processed_gifs,   # This should be the frames for each GIF (as a list of tensors)\n",
        "    targets=target_texts,      # The ground truth aggregated captions\n",
        "    tokenizer=t5_tokenizer,    # Tokenizer for processing the target texts\n",
        "    max_target_length=150      # Max length for target captions\n",
        ")\n",
        "\n",
        "# Split dataset into training and validation sets (80-20 split)\n",
        "train_size = int(0.8 * len(aggregation_dataset))\n",
        "val_size = len(aggregation_dataset) - train_size\n",
        "train_dataset, val_dataset = random_split(aggregation_dataset, [train_size, val_size])\n",
        "\n",
        "# Create DataLoaders\n",
        "train_dataloader = DataLoader(\n",
        "    train_dataset,\n",
        "    batch_size=16,  # Define the batch size that fits your GPU memory\n",
        "    shuffle=True,\n",
        "    num_workers=0,\n",
        "    pin_memory=True\n",
        ")\n",
        "\n",
        "val_dataloader = DataLoader(\n",
        "    val_dataset,\n",
        "    batch_size=16,  # Define the batch size for validation\n",
        "    shuffle=False,\n",
        "    num_workers=0,\n",
        "    pin_memory=True\n",
        ")\n"
      ]
    },
    {
      "cell_type": "markdown",
      "metadata": {
        "id": "PUA-1FJuKrIv"
      },
      "source": [
        "Function to evaluate the model in the training phase"
      ]
    },
    {
      "cell_type": "code",
      "execution_count": null,
      "metadata": {
        "id": "jSy4CO5fBAjJ"
      },
      "outputs": [],
      "source": [
        "import torch\n",
        "from tqdm import tqdm\n",
        "from rouge_score import rouge_scorer\n",
        "from nltk.translate.bleu_score import corpus_bleu\n",
        "from nltk.translate.meteor_score import meteor_score\n",
        "import bert_score\n",
        "from PIL import Image\n",
        "\n",
        "def evaluate_model_training(blip_model, t5_model, blip_processor, tokenizer, dataloader, device='cuda' if torch.cuda.is_available() else 'cpu'):\n",
        "    blip_model.eval()  # Set BLIP to evaluation mode\n",
        "    t5_model.eval()    # Set T5 to evaluation mode\n",
        "\n",
        "    # Metrics containers\n",
        "    all_references = []\n",
        "    all_candidates = []\n",
        "    rougeL_scores = []\n",
        "\n",
        "\n",
        "    # ROUGE scorer initialization\n",
        "    scorer = rouge_scorer.RougeScorer(['rougeL'], use_stemmer=True)\n",
        "\n",
        "\n",
        "    with torch.no_grad():\n",
        "        for batch in tqdm(dataloader, desc=\"Evaluating\"):\n",
        "            # Step 1: Prepare frames for BLIP\n",
        "            frames = batch['frames']  # Assuming shape [batch_size, num_frames, C, H, W] or [batch_size, num_frames, H, W, C]\n",
        "            reference_descriptions = batch['reference_description']  # List of reference captions\n",
        "\n",
        "            batch_size, num_frames = frames.shape[0], frames.shape[1]\n",
        "\n",
        "            frame_captions = []\n",
        "\n",
        "            for i in range(batch_size):\n",
        "                single_captions = []\n",
        "                for j in range(num_frames):\n",
        "                    frame = frames[i, j]  # Shape depends on data format\n",
        "\n",
        "                    # Determine frame shape and permute if necessary\n",
        "                    if frame.ndim == 3:\n",
        "                        # Possible shapes:\n",
        "                        # [C, H, W] or [H, W, C]\n",
        "                        if frame.shape[0] == 3:\n",
        "                            # [C, H, W] -> [H, W, C]\n",
        "                            frame = frame.permute(1, 2, 0)\n",
        "                        # Else assume [H, W, C], no change needed\n",
        "                    else:\n",
        "                        raise ValueError(f\"Unexpected frame shape: {frame.shape}\")\n",
        "\n",
        "                    # Convert to CPU and numpy\n",
        "                    frame_np = frame.cpu().numpy().astype('uint8')  # Ensure dtype is uint8\n",
        "\n",
        "                    # Convert to PIL Image\n",
        "                    try:\n",
        "                        img = Image.fromarray(frame_np).convert('RGB')\n",
        "                    except Exception as e:\n",
        "                        print(f\"Error converting frame to image: {e}\")\n",
        "                        continue  # Skip this frame\n",
        "\n",
        "                    # Generate caption using BLIP\n",
        "                    inputs = blip_processor(img, return_tensors=\"pt\").to(device)\n",
        "                    outputs = blip_model.generate(**inputs, max_length=150)  # Limit caption length\n",
        "                    caption = blip_processor.decode(outputs[0], skip_special_tokens=True)\n",
        "                    single_captions.append(caption)\n",
        "\n",
        "                # Concatenate captions for the current example\n",
        "                concatenated_caption = \" \".join(single_captions)\n",
        "                frame_captions.append(concatenated_caption)\n",
        "\n",
        "            # Step 2: Tokenize the concatenated captions as a batch\n",
        "            max_length = 128  # Adjust based on GPU capacity and desired sequence length\n",
        "            t5_inputs = tokenizer(\n",
        "                frame_captions,  # List of concatenated captions, one per example in the batch\n",
        "                max_length=max_length,\n",
        "                padding='max_length',\n",
        "                truncation=True,\n",
        "                return_tensors=\"pt\"\n",
        "            ).to(device)\n",
        "\n",
        "            # Step 3: Generate predictions using T5\n",
        "            outputs = t5_model.generate(\n",
        "                input_ids=t5_inputs.input_ids,\n",
        "                attention_mask=t5_inputs.attention_mask,\n",
        "                max_length=150,\n",
        "                num_beams=4,\n",
        "                early_stopping=True\n",
        "            )\n",
        "\n",
        "            # Step 4: Decode predictions\n",
        "            predictions = tokenizer.batch_decode(outputs, skip_special_tokens=True)\n",
        "\n",
        "            # Step 5: Evaluate the predictions\n",
        "            for ref, pred in zip(reference_descriptions, predictions):\n",
        "                ref_tokens = ref.split()\n",
        "                pred_tokens = pred.split()\n",
        "\n",
        "                # Append references and predictions for BLEU\n",
        "                all_references.append([ref_tokens])\n",
        "                all_candidates.append(pred_tokens)\n",
        "\n",
        "                # ROUGE scores calculation\n",
        "                scores = scorer.score(ref, pred)\n",
        "                rougeL_scores.append(scores['rougeL'].fmeasure)\n",
        "\n",
        "    # Calculate average ROUGE scores\n",
        "    avg_rougeL = sum(rougeL_scores) / len(rougeL_scores) if rougeL_scores else 0\n",
        "\n",
        "\n",
        "    # Compile metrics\n",
        "    metrics = {\n",
        "        'ROUGE-L': avg_rougeL,\n",
        "    }\n",
        "\n",
        "    return metrics\n"
      ]
    },
    {
      "cell_type": "markdown",
      "metadata": {
        "id": "LvJGgmi4KxB-"
      },
      "source": [
        "Function to evaluate the models when they finished training phase"
      ]
    },
    {
      "cell_type": "code",
      "execution_count": null,
      "metadata": {
        "id": "GGpTvrAbKvtQ"
      },
      "outputs": [],
      "source": [
        "import torch\n",
        "from tqdm import tqdm\n",
        "from rouge_score import rouge_scorer\n",
        "from nltk.translate.bleu_score import corpus_bleu\n",
        "from nltk.translate.meteor_score import meteor_score\n",
        "import bert_score\n",
        "from PIL import Image\n",
        "\n",
        "def evaluate_model(blip_model, t5_model, blip_processor, tokenizer, dataloader, device='cuda' if torch.cuda.is_available() else 'cpu'):\n",
        "    blip_model.eval()  # Set BLIP to evaluation mode\n",
        "    t5_model.eval()    # Set T5 to evaluation mode\n",
        "\n",
        "    # Metrics containers\n",
        "    all_references = []\n",
        "    all_candidates = []\n",
        "    rouge1_scores = []\n",
        "    rouge2_scores = []\n",
        "    rougeL_scores = []\n",
        "    # meteor_scores_list = []\n",
        "\n",
        "    # ROUGE scorer initialization\n",
        "    scorer = rouge_scorer.RougeScorer(['rouge1', 'rouge2', 'rougeL'], use_stemmer=True)\n",
        "\n",
        "    # BERTScore\n",
        "    bert_score_fn = bert_score.score\n",
        "\n",
        "    with torch.no_grad():\n",
        "        for batch in tqdm(dataloader, desc=\"Evaluating\"):\n",
        "            # Step 1: Prepare frames for BLIP\n",
        "            frames = batch['frames']  # Assuming shape [batch_size, num_frames, C, H, W] or [batch_size, num_frames, H, W, C]\n",
        "            reference_descriptions = batch['reference_description']  # List of reference captions\n",
        "\n",
        "            batch_size, num_frames = frames.shape[0], frames.shape[1]\n",
        "\n",
        "            frame_captions = []\n",
        "\n",
        "            for i in range(batch_size):\n",
        "                single_captions = []\n",
        "                for j in range(num_frames):\n",
        "                    frame = frames[i, j]  # Shape depends on data format\n",
        "\n",
        "                    # Determine frame shape and permute if necessary\n",
        "                    if frame.ndim == 3:\n",
        "                        # Possible shapes:\n",
        "                        # [C, H, W] or [H, W, C]\n",
        "                        if frame.shape[0] == 3:\n",
        "                            # [C, H, W] -> [H, W, C]\n",
        "                            frame = frame.permute(1, 2, 0)\n",
        "                        # Else assume [H, W, C], no change needed\n",
        "                    else:\n",
        "                        raise ValueError(f\"Unexpected frame shape: {frame.shape}\")\n",
        "\n",
        "                    # Convert to CPU and numpy\n",
        "                    frame_np = frame.cpu().numpy().astype('uint8')  # Ensure dtype is uint8\n",
        "\n",
        "                    # Convert to PIL Image\n",
        "                    try:\n",
        "                        img = Image.fromarray(frame_np).convert('RGB')\n",
        "                    except Exception as e:\n",
        "                        print(f\"Error converting frame to image: {e}\")\n",
        "                        continue  # Skip this frame\n",
        "\n",
        "                    # Generate caption using BLIP\n",
        "                    inputs = blip_processor(img, return_tensors=\"pt\").to(device)\n",
        "                    outputs = blip_model.generate(**inputs, max_length=50)  # Limit caption length\n",
        "                    caption = blip_processor.decode(outputs[0], skip_special_tokens=True)\n",
        "                    single_captions.append(caption)\n",
        "\n",
        "                # Concatenate captions for the current example\n",
        "                concatenated_caption = \" \".join(single_captions)\n",
        "                frame_captions.append(concatenated_caption)\n",
        "\n",
        "            # Step 2: Tokenize the concatenated captions as a batch\n",
        "            max_length = 128  # Adjust based on GPU capacity and desired sequence length\n",
        "            t5_inputs = tokenizer(\n",
        "                frame_captions,  # List of concatenated captions, one per example in the batch\n",
        "                max_length=max_length,\n",
        "                padding='max_length',\n",
        "                truncation=True,\n",
        "                return_tensors=\"pt\"\n",
        "            ).to(device)\n",
        "\n",
        "            # Step 3: Generate predictions using T5\n",
        "            outputs = t5_model.generate(\n",
        "                input_ids=t5_inputs.input_ids,\n",
        "                attention_mask=t5_inputs.attention_mask,\n",
        "                max_length=150,\n",
        "                num_beams=4,\n",
        "                early_stopping=True\n",
        "            )\n",
        "\n",
        "            # Step 4: Decode predictions\n",
        "            predictions = tokenizer.batch_decode(outputs, skip_special_tokens=True)\n",
        "\n",
        "            # Step 5: Evaluate the predictions\n",
        "            for ref, pred in zip(reference_descriptions, predictions):\n",
        "                ref_tokens = ref.split()\n",
        "                pred_tokens = pred.split()\n",
        "\n",
        "                # Append references and predictions for BLEU\n",
        "                all_references.append([ref_tokens])\n",
        "                all_candidates.append(pred_tokens)\n",
        "\n",
        "                # ROUGE scores calculation\n",
        "                scores = scorer.score(ref, pred)\n",
        "                rouge1_scores.append(scores['rouge1'].fmeasure)\n",
        "                rouge2_scores.append(scores['rouge2'].fmeasure)\n",
        "                rougeL_scores.append(scores['rougeL'].fmeasure)\n",
        "\n",
        "                # METEOR score calculation\n",
        "                # meteor = meteor_score([ref_tokens], pred_tokens)\n",
        "                # meteor_scores_list.append(meteor)\n",
        "\n",
        "    # Calculate BLEU score\n",
        "    bleu = corpus_bleu(all_references, all_candidates)\n",
        "\n",
        "    # Calculate average ROUGE scores\n",
        "    avg_rouge1 = sum(rouge1_scores) / len(rouge1_scores) if rouge1_scores else 0\n",
        "    avg_rouge2 = sum(rouge2_scores) / len(rouge2_scores) if rouge2_scores else 0\n",
        "    avg_rougeL = sum(rougeL_scores) / len(rougeL_scores) if rougeL_scores else 0\n",
        "\n",
        "    # Calculate average METEOR score\n",
        "    # avg_meteor = sum(meteor_scores_list) / len(meteor_scores_list) if meteor_scores_list else 0\n",
        "\n",
        "    # Calculate BERT Score\n",
        "    P, R, F1 = bert_score_fn(\n",
        "        [' '.join(cand) for cand in all_candidates],\n",
        "        [' '.join(ref[0]) for ref in all_references],\n",
        "        lang='en',\n",
        "        verbose=True)\n",
        "    avg_bert_f1 = F1.mean().item()\n",
        "\n",
        "    # Compile metrics\n",
        "    metrics = {\n",
        "        'BLEU': bleu,\n",
        "        'ROUGE-1': avg_rouge1,\n",
        "        'ROUGE-2': avg_rouge2,\n",
        "        'ROUGE-L': avg_rougeL,\n",
        "        # 'METEOR': avg_meteor,\n",
        "        'BERT_F1': avg_bert_f1\n",
        "    }\n",
        "\n",
        "    return metrics\n"
      ]
    },
    {
      "cell_type": "code",
      "execution_count": null,
      "metadata": {
        "colab": {
          "base_uri": "https://localhost:8080/"
        },
        "id": "_U_0oSqlEi9L",
        "outputId": "29abcd1a-45cf-4184-f02d-39a6c2b09a38"
      },
      "outputs": [
        {
          "metadata": {
            "tags": null
          },
          "name": "stdout",
          "output_type": "stream",
          "text": [
            "Epoch [1/10], Batch Loss: 2.5448238849639893\n",
            "Epoch [1/10], Batch Loss: 2.5310792922973633\n",
            "Epoch [1/10], Batch Loss: 2.4881644248962402\n",
            "Epoch [1/10], Batch Loss: 2.219973087310791\n",
            "Epoch [1/10], Batch Loss: 2.5368003845214844\n",
            "Epoch [1/10], Batch Loss: 2.2554092407226562\n",
            "Epoch [1/10], Batch Loss: 2.6996748447418213\n",
            "Epoch [1/10], Batch Loss: 2.394951105117798\n",
            "Epoch [1/10], Batch Loss: 2.796987533569336\n",
            "Epoch [1/10], Batch Loss: 2.6854491233825684\n",
            "Epoch [1/10], Batch Loss: 2.6771433353424072\n",
            "Epoch [1/10], Batch Loss: 2.7069437503814697\n",
            "Epoch [1/10], Batch Loss: 2.3671791553497314\n",
            "Epoch [1/10], Batch Loss: 2.5374245643615723\n",
            "Epoch [1/10], Batch Loss: 2.3760454654693604\n",
            "Epoch [1/10], Batch Loss: 2.6673552989959717\n",
            "Epoch [1/10], Batch Loss: 2.493644952774048\n",
            "Epoch [1/10], Batch Loss: 2.569331407546997\n",
            "Epoch [1/10], Batch Loss: 2.5252974033355713\n",
            "Epoch [1/10], Batch Loss: 2.689953327178955\n",
            "Epoch [1/10], Batch Loss: 2.229809522628784\n",
            "Epoch [1/10], Batch Loss: 2.444149971008301\n",
            "Epoch [1/10], Batch Loss: 2.637784957885742\n",
            "Epoch [1/10], Batch Loss: 2.5003886222839355\n",
            "Epoch [1/10], Batch Loss: 2.322314977645874\n",
            "Epoch [1/10], Batch Loss: 2.7224247455596924\n",
            "Epoch [1/10], Batch Loss: 2.4895591735839844\n",
            "Epoch [1/10], Batch Loss: 2.350667715072632\n",
            "Epoch [1/10], Batch Loss: 2.7592551708221436\n",
            "Epoch [1/10], Batch Loss: 2.484147310256958\n",
            "Epoch [1/10], Batch Loss: 2.088013172149658\n",
            "Epoch [1/10], Batch Loss: 2.606835126876831\n",
            "Epoch [1/10], Batch Loss: 2.3011107444763184\n",
            "Epoch [1/10], Batch Loss: 2.6331539154052734\n",
            "Epoch [1/10], Batch Loss: 2.474757671356201\n",
            "Epoch [1/10], Batch Loss: 2.279186964035034\n",
            "Epoch [1/10], Batch Loss: 2.4529428482055664\n",
            "Epoch [1/10], Batch Loss: 2.4892385005950928\n",
            "Epoch [1/10], Batch Loss: 2.383737564086914\n",
            "Epoch [1/10], Batch Loss: 2.5324387550354004\n",
            "Epoch [1/10], Batch Loss: 2.4219937324523926\n",
            "Epoch [1/10], Batch Loss: 2.2222044467926025\n",
            "Epoch [1/10], Batch Loss: 2.4705750942230225\n",
            "Epoch [1/10], Batch Loss: 2.676023244857788\n",
            "Epoch [1/10], Batch Loss: 2.2305595874786377\n",
            "Epoch [1/10], Batch Loss: 2.8112168312072754\n",
            "Epoch [1/10], Batch Loss: 2.6356699466705322\n",
            "Epoch [1/10], Batch Loss: 2.496591091156006\n",
            "Epoch [1/10], Batch Loss: 2.2023673057556152\n",
            "Epoch [1/10], Batch Loss: 2.72826886177063\n",
            "Epoch [1/10], Average Training Loss: 2.4968203830718996\n"
          ]
        },
        {
          "metadata": {
            "tags": null
          },
          "name": "stderr",
          "output_type": "stream",
          "text": [
            "Evaluating: 100%|██████████| 13/13 [04:06<00:00, 18.94s/it]\n"
          ]
        },
        {
          "metadata": {
            "tags": null
          },
          "name": "stdout",
          "output_type": "stream",
          "text": [
            "Validation Metrics after Epoch 1: {'ROUGE-L': 0.30301924155539983}\n",
            "Epoch [2/10], Batch Loss: 2.3897807598114014\n",
            "Epoch [2/10], Batch Loss: 2.149078130722046\n",
            "Epoch [2/10], Batch Loss: 2.2486462593078613\n",
            "Epoch [2/10], Batch Loss: 2.4206631183624268\n",
            "Epoch [2/10], Batch Loss: 2.346389055252075\n",
            "Epoch [2/10], Batch Loss: 2.2834770679473877\n",
            "Epoch [2/10], Batch Loss: 2.3681771755218506\n",
            "Epoch [2/10], Batch Loss: 2.0549888610839844\n",
            "Epoch [2/10], Batch Loss: 2.384335994720459\n",
            "Epoch [2/10], Batch Loss: 2.4226319789886475\n",
            "Epoch [2/10], Batch Loss: 2.145244836807251\n",
            "Epoch [2/10], Batch Loss: 2.1591758728027344\n",
            "Epoch [2/10], Batch Loss: 2.4568216800689697\n",
            "Epoch [2/10], Batch Loss: 2.2826590538024902\n",
            "Epoch [2/10], Batch Loss: 2.3914644718170166\n",
            "Epoch [2/10], Batch Loss: 2.3917312622070312\n",
            "Epoch [2/10], Batch Loss: 2.2594542503356934\n",
            "Epoch [2/10], Batch Loss: 2.601260185241699\n",
            "Epoch [2/10], Batch Loss: 2.2968530654907227\n",
            "Epoch [2/10], Batch Loss: 2.505587577819824\n",
            "Epoch [2/10], Batch Loss: 2.7338743209838867\n",
            "Epoch [2/10], Batch Loss: 2.349754810333252\n",
            "Epoch [2/10], Batch Loss: 2.2348549365997314\n",
            "Epoch [2/10], Batch Loss: 2.368551254272461\n",
            "Epoch [2/10], Batch Loss: 2.507713556289673\n",
            "Epoch [2/10], Batch Loss: 2.4662399291992188\n",
            "Epoch [2/10], Batch Loss: 2.642794609069824\n",
            "Epoch [2/10], Batch Loss: 2.6802730560302734\n",
            "Epoch [2/10], Batch Loss: 2.7363545894622803\n",
            "Epoch [2/10], Batch Loss: 2.3136723041534424\n",
            "Epoch [2/10], Batch Loss: 2.1713786125183105\n",
            "Epoch [2/10], Batch Loss: 2.0825703144073486\n",
            "Epoch [2/10], Batch Loss: 2.2656288146972656\n",
            "Epoch [2/10], Batch Loss: 2.056757926940918\n",
            "Epoch [2/10], Batch Loss: 2.4074108600616455\n",
            "Epoch [2/10], Batch Loss: 2.306445360183716\n",
            "Epoch [2/10], Batch Loss: 2.680745840072632\n",
            "Epoch [2/10], Batch Loss: 2.4210314750671387\n",
            "Epoch [2/10], Batch Loss: 2.1255366802215576\n",
            "Epoch [2/10], Batch Loss: 1.9435423612594604\n",
            "Epoch [2/10], Batch Loss: 2.4505953788757324\n",
            "Epoch [2/10], Batch Loss: 2.1394307613372803\n",
            "Epoch [2/10], Batch Loss: 2.1933815479278564\n",
            "Epoch [2/10], Batch Loss: 2.263000249862671\n",
            "Epoch [2/10], Batch Loss: 2.175431251525879\n",
            "Epoch [2/10], Batch Loss: 2.2850637435913086\n",
            "Epoch [2/10], Batch Loss: 2.3397552967071533\n",
            "Epoch [2/10], Batch Loss: 2.3748586177825928\n",
            "Epoch [2/10], Batch Loss: 2.308936595916748\n",
            "Epoch [2/10], Batch Loss: 2.237541437149048\n",
            "Epoch [2/10], Average Training Loss: 2.3364309430122376\n"
          ]
        },
        {
          "metadata": {
            "tags": null
          },
          "name": "stderr",
          "output_type": "stream",
          "text": [
            "Evaluating: 100%|██████████| 13/13 [04:00<00:00, 18.47s/it]\n"
          ]
        },
        {
          "metadata": {
            "tags": null
          },
          "name": "stdout",
          "output_type": "stream",
          "text": [
            "Validation Metrics after Epoch 2: {'ROUGE-L': 0.32014440070234784}\n",
            "Epoch [3/10], Batch Loss: 2.2231054306030273\n",
            "Epoch [3/10], Batch Loss: 2.1668829917907715\n",
            "Epoch [3/10], Batch Loss: 2.4710097312927246\n",
            "Epoch [3/10], Batch Loss: 2.083198308944702\n",
            "Epoch [3/10], Batch Loss: 2.2587809562683105\n",
            "Epoch [3/10], Batch Loss: 2.2430226802825928\n",
            "Epoch [3/10], Batch Loss: 2.2791242599487305\n",
            "Epoch [3/10], Batch Loss: 2.372373580932617\n",
            "Epoch [3/10], Batch Loss: 2.147625207901001\n",
            "Epoch [3/10], Batch Loss: 2.216782808303833\n",
            "Epoch [3/10], Batch Loss: 2.2680816650390625\n",
            "Epoch [3/10], Batch Loss: 2.296337604522705\n",
            "Epoch [3/10], Batch Loss: 2.46277117729187\n",
            "Epoch [3/10], Batch Loss: 2.1589345932006836\n",
            "Epoch [3/10], Batch Loss: 2.091481924057007\n",
            "Epoch [3/10], Batch Loss: 2.036158323287964\n",
            "Epoch [3/10], Batch Loss: 1.9630728960037231\n",
            "Epoch [3/10], Batch Loss: 2.42280912399292\n",
            "Epoch [3/10], Batch Loss: 2.311445713043213\n",
            "Epoch [3/10], Batch Loss: 2.2197048664093018\n",
            "Epoch [3/10], Batch Loss: 2.3495864868164062\n",
            "Epoch [3/10], Batch Loss: 2.1772944927215576\n",
            "Epoch [3/10], Batch Loss: 2.1463634967803955\n",
            "Epoch [3/10], Batch Loss: 2.151346445083618\n",
            "Epoch [3/10], Batch Loss: 2.1992766857147217\n",
            "Epoch [3/10], Batch Loss: 2.1959712505340576\n",
            "Epoch [3/10], Batch Loss: 2.42069149017334\n",
            "Epoch [3/10], Batch Loss: 2.497405529022217\n",
            "Epoch [3/10], Batch Loss: 2.119194269180298\n",
            "Epoch [3/10], Batch Loss: 2.0353386402130127\n",
            "Epoch [3/10], Batch Loss: 2.1370954513549805\n",
            "Epoch [3/10], Batch Loss: 2.2178966999053955\n",
            "Epoch [3/10], Batch Loss: 2.1713340282440186\n",
            "Epoch [3/10], Batch Loss: 2.290881633758545\n",
            "Epoch [3/10], Batch Loss: 2.4554874897003174\n",
            "Epoch [3/10], Batch Loss: 2.2963738441467285\n",
            "Epoch [3/10], Batch Loss: 2.1201460361480713\n",
            "Epoch [3/10], Batch Loss: 2.5523905754089355\n",
            "Epoch [3/10], Batch Loss: 2.153970718383789\n",
            "Epoch [3/10], Batch Loss: 2.248732805252075\n",
            "Epoch [3/10], Batch Loss: 2.410362958908081\n",
            "Epoch [3/10], Batch Loss: 2.0982697010040283\n",
            "Epoch [3/10], Batch Loss: 2.2914657592773438\n",
            "Epoch [3/10], Batch Loss: 2.1056485176086426\n",
            "Epoch [3/10], Batch Loss: 2.3622915744781494\n",
            "Epoch [3/10], Batch Loss: 2.284254312515259\n",
            "Epoch [3/10], Batch Loss: 2.035413980484009\n",
            "Epoch [3/10], Batch Loss: 2.238554000854492\n",
            "Epoch [3/10], Batch Loss: 2.1410467624664307\n",
            "Epoch [3/10], Batch Loss: 2.13273549079895\n",
            "Epoch [3/10], Average Training Loss: 2.2345904994010923\n"
          ]
        },
        {
          "metadata": {
            "tags": null
          },
          "name": "stderr",
          "output_type": "stream",
          "text": [
            "Evaluating: 100%|██████████| 13/13 [03:54<00:00, 18.04s/it]\n"
          ]
        },
        {
          "metadata": {
            "tags": null
          },
          "name": "stdout",
          "output_type": "stream",
          "text": [
            "Validation Metrics after Epoch 3: {'ROUGE-L': 0.32611507239385085}\n",
            "Epoch [4/10], Batch Loss: 2.1404778957366943\n",
            "Epoch [4/10], Batch Loss: 2.0645949840545654\n",
            "Epoch [4/10], Batch Loss: 1.8860136270523071\n",
            "Epoch [4/10], Batch Loss: 2.0904839038848877\n",
            "Epoch [4/10], Batch Loss: 1.9577703475952148\n",
            "Epoch [4/10], Batch Loss: 1.9023661613464355\n",
            "Epoch [4/10], Batch Loss: 2.626788854598999\n",
            "Epoch [4/10], Batch Loss: 2.492616891860962\n",
            "Epoch [4/10], Batch Loss: 2.0649847984313965\n",
            "Epoch [4/10], Batch Loss: 2.3473880290985107\n",
            "Epoch [4/10], Batch Loss: 2.046485185623169\n",
            "Epoch [4/10], Batch Loss: 1.8328784704208374\n",
            "Epoch [4/10], Batch Loss: 2.4641273021698\n",
            "Epoch [4/10], Batch Loss: 2.4538321495056152\n",
            "Epoch [4/10], Batch Loss: 2.3090531826019287\n",
            "Epoch [4/10], Batch Loss: 2.003262519836426\n",
            "Epoch [4/10], Batch Loss: 2.166797399520874\n",
            "Epoch [4/10], Batch Loss: 2.046515464782715\n",
            "Epoch [4/10], Batch Loss: 2.083858013153076\n",
            "Epoch [4/10], Batch Loss: 2.2565791606903076\n",
            "Epoch [4/10], Batch Loss: 2.0210325717926025\n",
            "Epoch [4/10], Batch Loss: 2.019521951675415\n",
            "Epoch [4/10], Batch Loss: 1.9941779375076294\n",
            "Epoch [4/10], Batch Loss: 2.176621437072754\n",
            "Epoch [4/10], Batch Loss: 1.9681469202041626\n",
            "Epoch [4/10], Batch Loss: 2.112560510635376\n",
            "Epoch [4/10], Batch Loss: 2.016603708267212\n",
            "Epoch [4/10], Batch Loss: 2.036097526550293\n",
            "Epoch [4/10], Batch Loss: 2.1721150875091553\n",
            "Epoch [4/10], Batch Loss: 2.3430726528167725\n",
            "Epoch [4/10], Batch Loss: 2.266038656234741\n",
            "Epoch [4/10], Batch Loss: 2.2709271907806396\n",
            "Epoch [4/10], Batch Loss: 2.2950098514556885\n",
            "Epoch [4/10], Batch Loss: 2.0358669757843018\n",
            "Epoch [4/10], Batch Loss: 2.371013879776001\n",
            "Epoch [4/10], Batch Loss: 2.5143635272979736\n",
            "Epoch [4/10], Batch Loss: 1.9648354053497314\n",
            "Epoch [4/10], Batch Loss: 2.168842077255249\n",
            "Epoch [4/10], Batch Loss: 2.537715435028076\n",
            "Epoch [4/10], Batch Loss: 2.1809911727905273\n",
            "Epoch [4/10], Batch Loss: 2.2371230125427246\n",
            "Epoch [4/10], Batch Loss: 2.097684860229492\n",
            "Epoch [4/10], Batch Loss: 2.5364277362823486\n",
            "Epoch [4/10], Batch Loss: 2.2611470222473145\n",
            "Epoch [4/10], Batch Loss: 2.075139284133911\n",
            "Epoch [4/10], Batch Loss: 2.009117603302002\n",
            "Epoch [4/10], Batch Loss: 2.12088680267334\n",
            "Epoch [4/10], Batch Loss: 1.941838264465332\n",
            "Epoch [4/10], Batch Loss: 2.2659528255462646\n",
            "Epoch [4/10], Batch Loss: 2.1155405044555664\n",
            "Epoch [4/10], Average Training Loss: 2.1672657346725464\n"
          ]
        },
        {
          "metadata": {
            "tags": null
          },
          "name": "stderr",
          "output_type": "stream",
          "text": [
            "Evaluating: 100%|██████████| 13/13 [03:52<00:00, 17.89s/it]\n"
          ]
        },
        {
          "metadata": {
            "tags": null
          },
          "name": "stdout",
          "output_type": "stream",
          "text": [
            "Validation Metrics after Epoch 4: {'ROUGE-L': 0.3263264970884612}\n",
            "Epoch [5/10], Batch Loss: 2.1103720664978027\n",
            "Epoch [5/10], Batch Loss: 1.8211231231689453\n",
            "Epoch [5/10], Batch Loss: 1.9852064847946167\n",
            "Epoch [5/10], Batch Loss: 2.167290449142456\n",
            "Epoch [5/10], Batch Loss: 2.420799493789673\n",
            "Epoch [5/10], Batch Loss: 2.0427699089050293\n",
            "Epoch [5/10], Batch Loss: 1.8987135887145996\n",
            "Epoch [5/10], Batch Loss: 2.251919984817505\n",
            "Epoch [5/10], Batch Loss: 2.0938942432403564\n",
            "Epoch [5/10], Batch Loss: 2.17264461517334\n",
            "Epoch [5/10], Batch Loss: 1.9958536624908447\n",
            "Epoch [5/10], Batch Loss: 2.3100979328155518\n",
            "Epoch [5/10], Batch Loss: 2.0735034942626953\n",
            "Epoch [5/10], Batch Loss: 2.061941385269165\n",
            "Epoch [5/10], Batch Loss: 2.157425880432129\n",
            "Epoch [5/10], Batch Loss: 1.8967318534851074\n",
            "Epoch [5/10], Batch Loss: 2.056303024291992\n",
            "Epoch [5/10], Batch Loss: 2.089608907699585\n",
            "Epoch [5/10], Batch Loss: 2.146421432495117\n",
            "Epoch [5/10], Batch Loss: 2.2017557621002197\n",
            "Epoch [5/10], Batch Loss: 1.8250820636749268\n",
            "Epoch [5/10], Batch Loss: 2.0816376209259033\n",
            "Epoch [5/10], Batch Loss: 2.174466609954834\n",
            "Epoch [5/10], Batch Loss: 2.147674560546875\n",
            "Epoch [5/10], Batch Loss: 1.9407867193222046\n",
            "Epoch [5/10], Batch Loss: 1.9319093227386475\n",
            "Epoch [5/10], Batch Loss: 2.027817964553833\n",
            "Epoch [5/10], Batch Loss: 2.3215434551239014\n",
            "Epoch [5/10], Batch Loss: 2.0100724697113037\n",
            "Epoch [5/10], Batch Loss: 2.2672698497772217\n",
            "Epoch [5/10], Batch Loss: 2.0418927669525146\n",
            "Epoch [5/10], Batch Loss: 2.1587865352630615\n",
            "Epoch [5/10], Batch Loss: 2.1177456378936768\n",
            "Epoch [5/10], Batch Loss: 2.0330429077148438\n",
            "Epoch [5/10], Batch Loss: 2.203834056854248\n",
            "Epoch [5/10], Batch Loss: 2.068544864654541\n",
            "Epoch [5/10], Batch Loss: 2.0758719444274902\n",
            "Epoch [5/10], Batch Loss: 2.0668838024139404\n",
            "Epoch [5/10], Batch Loss: 2.1103711128234863\n",
            "Epoch [5/10], Batch Loss: 1.921431064605713\n",
            "Epoch [5/10], Batch Loss: 2.175143003463745\n",
            "Epoch [5/10], Batch Loss: 2.1539366245269775\n",
            "Epoch [5/10], Batch Loss: 2.0196728706359863\n",
            "Epoch [5/10], Batch Loss: 1.985089898109436\n",
            "Epoch [5/10], Batch Loss: 2.3428807258605957\n",
            "Epoch [5/10], Batch Loss: 2.254326820373535\n",
            "Epoch [5/10], Batch Loss: 2.020670175552368\n",
            "Epoch [5/10], Batch Loss: 2.0534558296203613\n",
            "Epoch [5/10], Batch Loss: 1.7661808729171753\n",
            "Epoch [5/10], Batch Loss: 2.171015977859497\n",
            "Epoch [5/10], Average Training Loss: 2.0884683084487916\n"
          ]
        },
        {
          "metadata": {
            "tags": null
          },
          "name": "stderr",
          "output_type": "stream",
          "text": [
            "Evaluating: 100%|██████████| 13/13 [03:53<00:00, 17.97s/it]\n"
          ]
        },
        {
          "metadata": {
            "tags": null
          },
          "name": "stdout",
          "output_type": "stream",
          "text": [
            "Validation Metrics after Epoch 5: {'ROUGE-L': 0.3288990345561517}\n",
            "Epoch [6/10], Batch Loss: 2.084036350250244\n",
            "Epoch [6/10], Batch Loss: 2.067176342010498\n",
            "Epoch [6/10], Batch Loss: 1.883496880531311\n",
            "Epoch [6/10], Batch Loss: 2.0873124599456787\n",
            "Epoch [6/10], Batch Loss: 1.8420568704605103\n",
            "Epoch [6/10], Batch Loss: 1.9203310012817383\n",
            "Epoch [6/10], Batch Loss: 2.084261178970337\n",
            "Epoch [6/10], Batch Loss: 2.1686899662017822\n",
            "Epoch [6/10], Batch Loss: 2.0044853687286377\n",
            "Epoch [6/10], Batch Loss: 1.9324027299880981\n",
            "Epoch [6/10], Batch Loss: 2.046018600463867\n",
            "Epoch [6/10], Batch Loss: 1.9968007802963257\n",
            "Epoch [6/10], Batch Loss: 2.214360475540161\n",
            "Epoch [6/10], Batch Loss: 1.949755311012268\n",
            "Epoch [6/10], Batch Loss: 2.062727212905884\n",
            "Epoch [6/10], Batch Loss: 2.0102648735046387\n",
            "Epoch [6/10], Batch Loss: 2.18925142288208\n",
            "Epoch [6/10], Batch Loss: 2.0625858306884766\n",
            "Epoch [6/10], Batch Loss: 1.9681081771850586\n",
            "Epoch [6/10], Batch Loss: 2.3888213634490967\n",
            "Epoch [6/10], Batch Loss: 1.960398554801941\n",
            "Epoch [6/10], Batch Loss: 1.9665732383728027\n",
            "Epoch [6/10], Batch Loss: 2.366955280303955\n",
            "Epoch [6/10], Batch Loss: 2.071040153503418\n",
            "Epoch [6/10], Batch Loss: 2.004281759262085\n",
            "Epoch [6/10], Batch Loss: 2.1267991065979004\n",
            "Epoch [6/10], Batch Loss: 1.9343793392181396\n",
            "Epoch [6/10], Batch Loss: 1.9819037914276123\n",
            "Epoch [6/10], Batch Loss: 2.2458293437957764\n",
            "Epoch [6/10], Batch Loss: 2.2182631492614746\n",
            "Epoch [6/10], Batch Loss: 2.0887842178344727\n",
            "Epoch [6/10], Batch Loss: 2.35746169090271\n",
            "Epoch [6/10], Batch Loss: 1.984686255455017\n",
            "Epoch [6/10], Batch Loss: 1.77135169506073\n",
            "Epoch [6/10], Batch Loss: 2.087906837463379\n",
            "Epoch [6/10], Batch Loss: 1.7363214492797852\n",
            "Epoch [6/10], Batch Loss: 2.086956262588501\n",
            "Epoch [6/10], Batch Loss: 2.2439117431640625\n",
            "Epoch [6/10], Batch Loss: 1.999255895614624\n",
            "Epoch [6/10], Batch Loss: 1.7539396286010742\n",
            "Epoch [6/10], Batch Loss: 1.9945281744003296\n",
            "Epoch [6/10], Batch Loss: 1.888440728187561\n",
            "Epoch [6/10], Batch Loss: 1.9488753080368042\n",
            "Epoch [6/10], Batch Loss: 1.9496670961380005\n",
            "Epoch [6/10], Batch Loss: 2.11979341506958\n",
            "Epoch [6/10], Batch Loss: 2.1587343215942383\n",
            "Epoch [6/10], Batch Loss: 2.0129940509796143\n",
            "Epoch [6/10], Batch Loss: 1.8833593130111694\n",
            "Epoch [6/10], Batch Loss: 1.9807169437408447\n",
            "Epoch [6/10], Batch Loss: 1.8405187129974365\n",
            "Epoch [6/10], Average Training Loss: 2.034551413059235\n"
          ]
        },
        {
          "metadata": {
            "tags": null
          },
          "name": "stderr",
          "output_type": "stream",
          "text": [
            "Evaluating: 100%|██████████| 13/13 [03:53<00:00, 17.92s/it]\n"
          ]
        },
        {
          "metadata": {
            "tags": null
          },
          "name": "stdout",
          "output_type": "stream",
          "text": [
            "Validation Metrics after Epoch 6: {'ROUGE-L': 0.32363788382813136}\n",
            "Epoch [7/10], Batch Loss: 1.8730432987213135\n",
            "Epoch [7/10], Batch Loss: 2.013847827911377\n",
            "Epoch [7/10], Batch Loss: 2.142730951309204\n",
            "Epoch [7/10], Batch Loss: 2.074963331222534\n",
            "Epoch [7/10], Batch Loss: 1.8760286569595337\n",
            "Epoch [7/10], Batch Loss: 1.8589502573013306\n",
            "Epoch [7/10], Batch Loss: 1.8370739221572876\n",
            "Epoch [7/10], Batch Loss: 1.8846917152404785\n",
            "Epoch [7/10], Batch Loss: 1.8173223733901978\n",
            "Epoch [7/10], Batch Loss: 1.8732795715332031\n",
            "Epoch [7/10], Batch Loss: 1.9366432428359985\n",
            "Epoch [7/10], Batch Loss: 2.0339481830596924\n",
            "Epoch [7/10], Batch Loss: 2.202653169631958\n",
            "Epoch [7/10], Batch Loss: 1.8119899034500122\n",
            "Epoch [7/10], Batch Loss: 1.8744057416915894\n",
            "Epoch [7/10], Batch Loss: 1.919653058052063\n",
            "Epoch [7/10], Batch Loss: 1.8503390550613403\n",
            "Epoch [7/10], Batch Loss: 2.179896116256714\n",
            "Epoch [7/10], Batch Loss: 1.8516032695770264\n",
            "Epoch [7/10], Batch Loss: 1.973701000213623\n",
            "Epoch [7/10], Batch Loss: 1.917737603187561\n",
            "Epoch [7/10], Batch Loss: 2.122183322906494\n",
            "Epoch [7/10], Batch Loss: 1.7078609466552734\n",
            "Epoch [7/10], Batch Loss: 1.9531670808792114\n",
            "Epoch [7/10], Batch Loss: 2.1374478340148926\n",
            "Epoch [7/10], Batch Loss: 2.1646621227264404\n",
            "Epoch [7/10], Batch Loss: 2.0342516899108887\n",
            "Epoch [7/10], Batch Loss: 2.1293721199035645\n",
            "Epoch [7/10], Batch Loss: 1.769200325012207\n",
            "Epoch [7/10], Batch Loss: 1.788563847541809\n",
            "Epoch [7/10], Batch Loss: 2.282721519470215\n",
            "Epoch [7/10], Batch Loss: 1.8059240579605103\n",
            "Epoch [7/10], Batch Loss: 1.8939402103424072\n",
            "Epoch [7/10], Batch Loss: 1.7609151601791382\n",
            "Epoch [7/10], Batch Loss: 1.994083285331726\n",
            "Epoch [7/10], Batch Loss: 2.129147529602051\n",
            "Epoch [7/10], Batch Loss: 1.8433012962341309\n",
            "Epoch [7/10], Batch Loss: 1.7522231340408325\n",
            "Epoch [7/10], Batch Loss: 1.9009692668914795\n",
            "Epoch [7/10], Batch Loss: 2.232696533203125\n",
            "Epoch [7/10], Batch Loss: 2.1238510608673096\n",
            "Epoch [7/10], Batch Loss: 1.7705755233764648\n",
            "Epoch [7/10], Batch Loss: 1.9089642763137817\n",
            "Epoch [7/10], Batch Loss: 2.0500316619873047\n",
            "Epoch [7/10], Batch Loss: 2.254835367202759\n",
            "Epoch [7/10], Batch Loss: 2.060091495513916\n",
            "Epoch [7/10], Batch Loss: 2.129439115524292\n",
            "Epoch [7/10], Batch Loss: 1.8059940338134766\n",
            "Epoch [7/10], Batch Loss: 1.80624258518219\n",
            "Epoch [7/10], Batch Loss: 1.8704335689544678\n",
            "Epoch [7/10], Average Training Loss: 1.959751844406128\n"
          ]
        },
        {
          "metadata": {
            "tags": null
          },
          "name": "stderr",
          "output_type": "stream",
          "text": [
            "Evaluating: 100%|██████████| 13/13 [03:54<00:00, 18.05s/it]\n"
          ]
        },
        {
          "metadata": {
            "tags": null
          },
          "name": "stdout",
          "output_type": "stream",
          "text": [
            "Validation Metrics after Epoch 7: {'ROUGE-L': 0.32882317273652234}\n",
            "Epoch [8/10], Batch Loss: 1.7428925037384033\n",
            "Epoch [8/10], Batch Loss: 1.963904857635498\n",
            "Epoch [8/10], Batch Loss: 1.9695558547973633\n",
            "Epoch [8/10], Batch Loss: 2.2468817234039307\n",
            "Epoch [8/10], Batch Loss: 1.9287275075912476\n",
            "Epoch [8/10], Batch Loss: 2.0708441734313965\n",
            "Epoch [8/10], Batch Loss: 2.070875644683838\n",
            "Epoch [8/10], Batch Loss: 1.9575581550598145\n",
            "Epoch [8/10], Batch Loss: 2.053654909133911\n",
            "Epoch [8/10], Batch Loss: 1.8501068353652954\n",
            "Epoch [8/10], Batch Loss: 1.9736287593841553\n",
            "Epoch [8/10], Batch Loss: 1.9578431844711304\n",
            "Epoch [8/10], Batch Loss: 1.8549305200576782\n",
            "Epoch [8/10], Batch Loss: 2.1787705421447754\n",
            "Epoch [8/10], Batch Loss: 2.0080721378326416\n",
            "Epoch [8/10], Batch Loss: 1.928415298461914\n",
            "Epoch [8/10], Batch Loss: 2.0134947299957275\n",
            "Epoch [8/10], Batch Loss: 1.795108675956726\n",
            "Epoch [8/10], Batch Loss: 1.8205536603927612\n",
            "Epoch [8/10], Batch Loss: 1.7642005681991577\n",
            "Epoch [8/10], Batch Loss: 1.8264286518096924\n",
            "Epoch [8/10], Batch Loss: 1.8230193853378296\n",
            "Epoch [8/10], Batch Loss: 1.8719780445098877\n",
            "Epoch [8/10], Batch Loss: 1.9527641534805298\n",
            "Epoch [8/10], Batch Loss: 1.6372268199920654\n",
            "Epoch [8/10], Batch Loss: 2.014864683151245\n",
            "Epoch [8/10], Batch Loss: 1.9157065153121948\n",
            "Epoch [8/10], Batch Loss: 2.184337615966797\n",
            "Epoch [8/10], Batch Loss: 1.8345589637756348\n",
            "Epoch [8/10], Batch Loss: 1.7228827476501465\n",
            "Epoch [8/10], Batch Loss: 1.7649977207183838\n",
            "Epoch [8/10], Batch Loss: 1.8725377321243286\n",
            "Epoch [8/10], Batch Loss: 1.8928452730178833\n",
            "Epoch [8/10], Batch Loss: 1.7898436784744263\n",
            "Epoch [8/10], Batch Loss: 1.9007487297058105\n",
            "Epoch [8/10], Batch Loss: 1.9398612976074219\n",
            "Epoch [8/10], Batch Loss: 1.956248164176941\n",
            "Epoch [8/10], Batch Loss: 1.8874567747116089\n",
            "Epoch [8/10], Batch Loss: 1.8736265897750854\n",
            "Epoch [8/10], Batch Loss: 1.7601231336593628\n",
            "Epoch [8/10], Batch Loss: 1.749245047569275\n",
            "Epoch [8/10], Batch Loss: 1.852428913116455\n",
            "Epoch [8/10], Batch Loss: 1.8515090942382812\n",
            "Epoch [8/10], Batch Loss: 2.036123037338257\n",
            "Epoch [8/10], Batch Loss: 1.726504921913147\n",
            "Epoch [8/10], Batch Loss: 1.874120831489563\n",
            "Epoch [8/10], Batch Loss: 2.0221214294433594\n",
            "Epoch [8/10], Batch Loss: 1.8266911506652832\n",
            "Epoch [8/10], Batch Loss: 1.7278661727905273\n",
            "Epoch [8/10], Batch Loss: 1.6391255855560303\n",
            "Epoch [8/10], Average Training Loss: 1.8975562620162965\n"
          ]
        },
        {
          "metadata": {
            "tags": null
          },
          "name": "stderr",
          "output_type": "stream",
          "text": [
            "Evaluating: 100%|██████████| 13/13 [03:57<00:00, 18.25s/it]\n"
          ]
        },
        {
          "metadata": {
            "tags": null
          },
          "name": "stdout",
          "output_type": "stream",
          "text": [
            "Validation Metrics after Epoch 8: {'ROUGE-L': 0.32754254879844547}\n",
            "Epoch [9/10], Batch Loss: 1.8565531969070435\n",
            "Epoch [9/10], Batch Loss: 1.7679314613342285\n",
            "Epoch [9/10], Batch Loss: 1.8986369371414185\n",
            "Epoch [9/10], Batch Loss: 1.8584016561508179\n",
            "Epoch [9/10], Batch Loss: 1.9911377429962158\n",
            "Epoch [9/10], Batch Loss: 1.806647539138794\n",
            "Epoch [9/10], Batch Loss: 1.7113935947418213\n",
            "Epoch [9/10], Batch Loss: 1.8031734228134155\n",
            "Epoch [9/10], Batch Loss: 2.0107581615448\n",
            "Epoch [9/10], Batch Loss: 1.8335421085357666\n",
            "Epoch [9/10], Batch Loss: 2.071676254272461\n",
            "Epoch [9/10], Batch Loss: 1.8225747346878052\n",
            "Epoch [9/10], Batch Loss: 1.7641352415084839\n",
            "Epoch [9/10], Batch Loss: 1.8994261026382446\n",
            "Epoch [9/10], Batch Loss: 1.6844764947891235\n",
            "Epoch [9/10], Batch Loss: 1.707432746887207\n",
            "Epoch [9/10], Batch Loss: 1.7647711038589478\n",
            "Epoch [9/10], Batch Loss: 1.8589849472045898\n",
            "Epoch [9/10], Batch Loss: 1.850450873374939\n",
            "Epoch [9/10], Batch Loss: 1.9243357181549072\n",
            "Epoch [9/10], Batch Loss: 1.815387487411499\n",
            "Epoch [9/10], Batch Loss: 1.5313986539840698\n",
            "Epoch [9/10], Batch Loss: 1.980819821357727\n",
            "Epoch [9/10], Batch Loss: 1.8521071672439575\n",
            "Epoch [9/10], Batch Loss: 1.970500111579895\n",
            "Epoch [9/10], Batch Loss: 1.8687008619308472\n",
            "Epoch [9/10], Batch Loss: 1.924783706665039\n",
            "Epoch [9/10], Batch Loss: 1.8169349431991577\n",
            "Epoch [9/10], Batch Loss: 1.7278202772140503\n",
            "Epoch [9/10], Batch Loss: 1.8691843748092651\n",
            "Epoch [9/10], Batch Loss: 1.852325677871704\n",
            "Epoch [9/10], Batch Loss: 1.9947266578674316\n",
            "Epoch [9/10], Batch Loss: 1.8927757740020752\n",
            "Epoch [9/10], Batch Loss: 1.6381113529205322\n",
            "Epoch [9/10], Batch Loss: 2.143564224243164\n",
            "Epoch [9/10], Batch Loss: 1.7939341068267822\n",
            "Epoch [9/10], Batch Loss: 1.8836804628372192\n",
            "Epoch [9/10], Batch Loss: 1.8941174745559692\n",
            "Epoch [9/10], Batch Loss: 1.5678752660751343\n",
            "Epoch [9/10], Batch Loss: 1.7287490367889404\n",
            "Epoch [9/10], Batch Loss: 2.2705211639404297\n",
            "Epoch [9/10], Batch Loss: 1.6958181858062744\n",
            "Epoch [9/10], Batch Loss: 1.813180923461914\n",
            "Epoch [9/10], Batch Loss: 1.7149560451507568\n",
            "Epoch [9/10], Batch Loss: 1.9522294998168945\n",
            "Epoch [9/10], Batch Loss: 1.6567881107330322\n",
            "Epoch [9/10], Batch Loss: 1.6580246686935425\n",
            "Epoch [9/10], Batch Loss: 1.9212417602539062\n",
            "Epoch [9/10], Batch Loss: 1.782057285308838\n",
            "Epoch [9/10], Batch Loss: 1.7484863996505737\n",
            "Epoch [9/10], Average Training Loss: 1.836944830417633\n"
          ]
        },
        {
          "metadata": {
            "tags": null
          },
          "name": "stderr",
          "output_type": "stream",
          "text": [
            "Evaluating: 100%|██████████| 13/13 [04:00<00:00, 18.48s/it]\n"
          ]
        },
        {
          "output_type": "stream",
          "name": "stdout",
          "text": [
            "Validation Metrics after Epoch 9: {'ROUGE-L': 0.3246392999887558}\n",
            "Epoch [10/10], Batch Loss: 1.9707401990890503\n",
            "Epoch [10/10], Batch Loss: 1.8570283651351929\n",
            "Epoch [10/10], Batch Loss: 1.5813484191894531\n",
            "Epoch [10/10], Batch Loss: 1.979604721069336\n",
            "Epoch [10/10], Batch Loss: 1.9379631280899048\n",
            "Epoch [10/10], Batch Loss: 1.9761457443237305\n",
            "Epoch [10/10], Batch Loss: 1.7749364376068115\n",
            "Epoch [10/10], Batch Loss: 1.6888957023620605\n",
            "Epoch [10/10], Batch Loss: 1.6195582151412964\n",
            "Epoch [10/10], Batch Loss: 1.7267874479293823\n",
            "Epoch [10/10], Batch Loss: 2.0423455238342285\n",
            "Epoch [10/10], Batch Loss: 1.6728399991989136\n",
            "Epoch [10/10], Batch Loss: 1.6509473323822021\n",
            "Epoch [10/10], Batch Loss: 1.7274491786956787\n",
            "Epoch [10/10], Batch Loss: 1.7424226999282837\n",
            "Epoch [10/10], Batch Loss: 1.8242064714431763\n",
            "Epoch [10/10], Batch Loss: 1.7010310888290405\n",
            "Epoch [10/10], Batch Loss: 1.7838832139968872\n",
            "Epoch [10/10], Batch Loss: 1.7833939790725708\n",
            "Epoch [10/10], Batch Loss: 1.9978306293487549\n",
            "Epoch [10/10], Batch Loss: 1.9222373962402344\n",
            "Epoch [10/10], Batch Loss: 1.6139192581176758\n",
            "Epoch [10/10], Batch Loss: 1.9059538841247559\n",
            "Epoch [10/10], Batch Loss: 1.880767822265625\n",
            "Epoch [10/10], Batch Loss: 1.5929176807403564\n",
            "Epoch [10/10], Batch Loss: 1.6929317712783813\n",
            "Epoch [10/10], Batch Loss: 1.5532023906707764\n",
            "Epoch [10/10], Batch Loss: 1.6055723428726196\n",
            "Epoch [10/10], Batch Loss: 1.7821868658065796\n",
            "Epoch [10/10], Batch Loss: 1.7749595642089844\n",
            "Epoch [10/10], Batch Loss: 1.8125768899917603\n",
            "Epoch [10/10], Batch Loss: 1.958238959312439\n",
            "Epoch [10/10], Batch Loss: 1.793270468711853\n",
            "Epoch [10/10], Batch Loss: 1.7246724367141724\n",
            "Epoch [10/10], Batch Loss: 1.456062912940979\n",
            "Epoch [10/10], Batch Loss: 1.667525053024292\n",
            "Epoch [10/10], Batch Loss: 1.6830557584762573\n",
            "Epoch [10/10], Batch Loss: 1.8079174757003784\n",
            "Epoch [10/10], Batch Loss: 1.867768406867981\n",
            "Epoch [10/10], Batch Loss: 1.8672058582305908\n",
            "Epoch [10/10], Batch Loss: 1.8584766387939453\n",
            "Epoch [10/10], Batch Loss: 1.8123761415481567\n",
            "Epoch [10/10], Batch Loss: 1.7874460220336914\n",
            "Epoch [10/10], Batch Loss: 1.9712432622909546\n",
            "Epoch [10/10], Batch Loss: 2.0644235610961914\n",
            "Epoch [10/10], Batch Loss: 1.611100673675537\n",
            "Epoch [10/10], Batch Loss: 2.0347347259521484\n",
            "Epoch [10/10], Batch Loss: 1.7799626588821411\n",
            "Epoch [10/10], Batch Loss: 1.7348885536193848\n",
            "Epoch [10/10], Batch Loss: 1.8899565935134888\n",
            "Epoch [10/10], Average Training Loss: 1.7909382104873657\n"
          ]
        },
        {
          "output_type": "stream",
          "name": "stderr",
          "text": [
            "Evaluating: 100%|██████████| 13/13 [04:00<00:00, 18.52s/it]"
          ]
        },
        {
          "output_type": "stream",
          "name": "stdout",
          "text": [
            "Validation Metrics after Epoch 10: {'ROUGE-L': 0.3261054036592561}\n"
          ]
        },
        {
          "output_type": "stream",
          "name": "stderr",
          "text": [
            "\n"
          ]
        }
      ],
      "source": [
        "import torch\n",
        "from torch.optim import AdamW\n",
        "from PIL import Image\n",
        "from transformers import T5Tokenizer\n",
        "import torch.nn.functional as F\n",
        "\n",
        "# Set the models to training mode\n",
        "t5_model.train()\n",
        "blip_model.train()\n",
        "\n",
        "# Filter parameters that require gradients for BLIP and T5 models\n",
        "blip_params = filter(lambda p: p.requires_grad, blip_model.parameters())\n",
        "t5_params = filter(lambda p: p.requires_grad, t5_model.parameters())\n",
        "\n",
        "# Define the optimizer using AdamW with appropriate learning rates\n",
        "blip_optimizer = AdamW(blip_params, lr=5e-5)\n",
        "t5_optimizer = AdamW(t5_params, lr=5e-5)\n",
        "\n",
        "# Training Loop\n",
        "epochs = 10\n",
        "device = 'cuda' if torch.cuda.is_available() else 'cpu'\n",
        "blip_model.to(device)\n",
        "t5_model.to(device)\n",
        "\n",
        "# Lists to store metrics over epochs\n",
        "training_losses = []\n",
        "#bleu_scores = []\n",
        "#rouge1_scores = []\n",
        "#rouge2_scores = []\n",
        "rougeL_scores = []\n",
        "# meteor_scores = []\n",
        "#bert_f1_scores = []\n",
        "\n",
        "# Training both BLIP and T5 using the DataLoader\n",
        "for epoch in range(epochs):\n",
        "    t5_model.train()\n",
        "    blip_model.train()\n",
        "\n",
        "    # Initialize average loss for tracking epoch training loss\n",
        "    epoch_loss = 0.0\n",
        "    num_batches = 0\n",
        "\n",
        "    for batch in train_dataloader:\n",
        "        # Step 1: Prepare data for BLIP\n",
        "        frames = batch['frames']  # Get frames for the current batch\n",
        "        # Assuming frames is a list of shape [batch_size, num_frames, height, width, channels]\n",
        "        batch_size = frames.size(0)\n",
        "        frames = frames.to(device)  # Move frames to GPU if available\n",
        "\n",
        "        # Zero gradients for both optimizers\n",
        "        blip_optimizer.zero_grad()\n",
        "        t5_optimizer.zero_grad()\n",
        "\n",
        "        # Step 2: Generate frame-level captions with BLIP\n",
        "        frame_captions = []\n",
        "        for i in range(batch_size):\n",
        "            single_captions = []\n",
        "            for single_frame in frames[i]:\n",
        "                # Convert frame to a PIL image and generate caption using BLIP model\n",
        "                img = Image.fromarray(single_frame.cpu().numpy().astype('uint8'), 'RGB')\n",
        "                inputs = blip_processor(img, return_tensors=\"pt\").to(device)\n",
        "\n",
        "                # Set max_length explicitly for BLIP generation to avoid inconsistent lengths\n",
        "                outputs = blip_model.generate(**inputs, max_length=50)  # Limit caption length to 50 tokens\n",
        "                caption = blip_processor.decode(outputs[0], skip_special_tokens=True)\n",
        "                single_captions.append(caption)\n",
        "            # Concatenate captions for the current example\n",
        "            concatenated_caption = \" \".join(single_captions)\n",
        "            frame_captions.append(concatenated_caption)\n",
        "\n",
        "        # Step 3: Tokenize the concatenated captions as a batch\n",
        "        max_length = 128  # Adjust as needed based on your GPU capacity\n",
        "        t5_inputs = t5_tokenizer(\n",
        "            frame_captions,  # List of concatenated captions, one per example in the batch\n",
        "            max_length=max_length,\n",
        "            padding='max_length',\n",
        "            truncation=True,\n",
        "            return_tensors=\"pt\"\n",
        "        ).to(device)\n",
        "\n",
        "        # Prepare labels\n",
        "        labels = batch['labels'].to(device)\n",
        "        labels = labels[:, :t5_inputs.input_ids.shape[-1]]  # Truncate labels if necessary\n",
        "\n",
        "        # Pad labels to match input length using -100 to ignore during loss calculation\n",
        "        labels = F.pad(\n",
        "            labels,\n",
        "            (0, max(0, t5_inputs.input_ids.shape[-1] - labels.shape[-1])),\n",
        "            value=-100\n",
        "        )\n",
        "\n",
        "        # Ensure the attention mask is consistent\n",
        "        t5_attention_mask = t5_inputs.attention_mask\n",
        "\n",
        "        # Step 5: Forward pass through T5 model\n",
        "        outputs = t5_model(\n",
        "            input_ids=t5_inputs.input_ids,\n",
        "            attention_mask=t5_attention_mask,\n",
        "            labels=labels\n",
        "        )\n",
        "        loss = outputs.loss\n",
        "\n",
        "        # Step 6: Backpropagation and optimizer step\n",
        "        loss.backward()  # Compute gradients for both models (BLIP and T5)\n",
        "        blip_optimizer.step()\n",
        "        t5_optimizer.step()\n",
        "\n",
        "        # Accumulate the loss for averaging\n",
        "        epoch_loss += loss.item()\n",
        "        num_batches += 1\n",
        "\n",
        "        # Step 7: Print the training loss for the current iteration\n",
        "        print(f\"Epoch [{epoch + 1}/{epochs}], Batch Loss: {loss.item()}\")\n",
        "\n",
        "    # Calculate the average training loss for the epoch\n",
        "    average_epoch_loss = epoch_loss / num_batches\n",
        "    training_losses.append(average_epoch_loss)\n",
        "    print(f\"Epoch [{epoch + 1}/{epochs}], Average Training Loss: {average_epoch_loss}\")\n",
        "\n",
        "    # Evaluate after each epoch\n",
        "    metrics = evaluate_model_training(blip_model, t5_model, blip_processor, t5_tokenizer, val_dataloader, device)\n",
        "    #bleu_scores.append(metrics['BLEU'])\n",
        "    #rouge1_scores.append(metrics['ROUGE-1'])\n",
        "    #rouge2_scores.append(metrics['ROUGE-2'])\n",
        "    rougeL_scores.append(metrics['ROUGE-L'])\n",
        "    # meteor_scores.append(metrics['METEOR'])\n",
        "    # bert_f1_scores.append(metrics['BERT_F1'])\n",
        "\n",
        "    # Print evaluation metrics for each epoch\n",
        "    print(f\"Validation Metrics after Epoch {epoch+1}: {metrics}\")\n",
        "\n",
        "    # Clear GPU cache after each epoch to free up memory\n",
        "    torch.cuda.empty_cache()\n"
      ]
    },
    {
      "cell_type": "code",
      "execution_count": null,
      "metadata": {
        "id": "gj9mZTuHOP9b",
        "colab": {
          "base_uri": "https://localhost:8080/"
        },
        "outputId": "f4881ae9-4fcc-4e58-cb30-df704cca26f3"
      },
      "outputs": [
        {
          "output_type": "stream",
          "name": "stdout",
          "text": [
            "Models have been saved locally.\n"
          ]
        }
      ],
      "source": [
        "import torch\n",
        "\n",
        "# Define local save paths\n",
        "blip_save_path = 'blip_model.pth'\n",
        "t5_save_path = 't5_model.pth'\n",
        "\n",
        "# Save the state_dict of each model\n",
        "torch.save(blip_model.state_dict(), blip_save_path)\n",
        "torch.save(t5_model.state_dict(), t5_save_path)\n",
        "\n",
        "print(\"Models have been saved locally.\")\n"
      ]
    },
    {
      "cell_type": "code",
      "execution_count": null,
      "metadata": {
        "id": "Qo3cwG47J01b",
        "colab": {
          "base_uri": "https://localhost:8080/"
        },
        "outputId": "b87827d0-340c-47e2-f300-07f10ff919c1"
      },
      "outputs": [
        {
          "output_type": "stream",
          "name": "stderr",
          "text": [
            "Evaluating: 100%|██████████| 50/50 [16:13<00:00, 19.47s/it]"
          ]
        },
        {
          "output_type": "stream",
          "name": "stdout",
          "text": [
            "Validation Metrics after Epoch 10: {'ROUGE-L': 0.3361291200728179}\n"
          ]
        },
        {
          "output_type": "stream",
          "name": "stderr",
          "text": [
            "\n"
          ]
        }
      ],
      "source": [
        "# Evaluate after each epoch\n",
        "metrics = evaluate_model_training(blip_model, t5_model, blip_processor, t5_tokenizer, train_dataloader, device)\n",
        "\n",
        "# Print evaluation metrics for each epoch\n",
        "print(f\"Validation Metrics after Epoch {epoch+1}: {metrics}\")"
      ]
    },
    {
      "cell_type": "code",
      "execution_count": null,
      "metadata": {
        "colab": {
          "base_uri": "https://localhost:8080/",
          "height": 467,
          "referenced_widgets": [
            "f11e44db55864d7894f5b376b488a459",
            "d2b33665fb824c7cb0b95cb380a2cdf0",
            "7deb9eba6e41462180cc4d78b6c57231",
            "3d3fbfba3a68459286ff13971d4d572a",
            "fdc92d8772794da2b2b510c91be70145",
            "2b472dac7cf148ac96a7ec14428083e6",
            "a6fb6769a7ec4afdb314dce22ad599dc",
            "a4d8d0e17ece4325aa71ae75becd322d",
            "ae7f137bf007456382d1b07b62d59c84",
            "1aa11e3dca29405f811da4a032b5d7b9",
            "ada2e1624cdb448fb54adc87dd2c9bc2",
            "e1a36ba2dc294fda9651ab36b839f176",
            "243ae78e784c450fab1a99f0c940f7c1",
            "8c05025bbcaa4c22b9de751894affd1a",
            "a28b9a6a2bdf4b0cacdddf0e8cfcff6c",
            "0ac9590bb28f42a9a73ed648a2074f57",
            "d4ba36dbae23457d9aa58f456242c580",
            "84be53fd13db4a769506d5fed61f848e",
            "1103d7d029314e1287b9d688a9073acb",
            "324a983cfee9432fae05f1e627a8df5c",
            "5d4ff397edf74045803667800b74bfb2",
            "341e0f616a634dd0b505c1e28c5204ee",
            "cf0ddaef9d8345f29ee55afea5dfa0d5",
            "b368c4552c0a4ab5be5a07a0003a4ee4",
            "14b6ceb63c2c4900bf716a30433ee3fd",
            "b9bbee53d25b4473a2611ad5320d38e8",
            "4751c9f6f8c54f99be199f495bb6f279",
            "e202910a01bd4b34b4bf4d2e2017f480",
            "e4482848130a45d0a19f415aca4f7c61",
            "4a49bfc77cef4f5da524b63d1be48b33",
            "4a7af954514c467a8e38d4eda4cafa83",
            "430eca5214ee4ab384c0ee8e13ab809d",
            "968a050962a64fdd9b27485eddf0af8c",
            "f0f93150393e45abaa20117c3dd4b303",
            "fe68e6525982478aa4553fdbfe982e28",
            "bd5654e857244f338bfd1f0156e3d0f9",
            "c8e83d57f86341a5b4a816f7f1c8e9d5",
            "61f96bd2952c4d9d85e76b09fab9cd92",
            "f129a9e06fff475b9bf1fead48515d4b",
            "41f4fdb505734c99bae47e1186ef3a56",
            "67a27a61afea45a3a484c36ddd098880",
            "850aeff51ff74046bdb48a3f275a403c",
            "53683bc7ebb04f8ab0285b15b28c67d4",
            "3514df976a9f44469899530509880ab7",
            "c6596c3c7073486d9d3ae4c7bde79237",
            "4537c42cec53416081c2c1397edf131a",
            "f799f64a1d134d64b032a8b314719e35",
            "b7b5375369ca47caa6f138c61d5e57da",
            "44c7470dd1e34178bdc14faea378d52d",
            "5dd2c87266e74d25bfb0688307761513",
            "d4b1afe1cf6e4a3f8221440cde709673",
            "ee30c7a55f0541ec859a1eb3c8534f69",
            "a574e176b08543f8bf9fb4c3e04fa7b8",
            "3be884360fa44c5fb461286b7702e225",
            "8be3b15e1ca841e28127c55ba46d815a",
            "c8f38d2a919a492db8ff61e1adedd4e3",
            "8450307c9f1e43f4987746867509621d",
            "4bae2833275a47ac86b56a2298a81395",
            "089a56275a6340bf81bfdc01ebcd3e15",
            "9905b9978a0f4e488f740779870cfbbe",
            "8e05c844e7874fcf97e87c5e31c1d01a",
            "2412e37e300242a783adee9371cd8df6",
            "60d70239495d44bb80515d1303807f81",
            "1cc34d09bce0438c883274e1c9161b36",
            "e0aa1441feed444596c27b0689d52b10",
            "c988be620360407b8cfcf2814ecf8587",
            "f273189ca3044f44a24695537a1958b4",
            "9a50aa1265bd4bbea77c2a21fb6aeba5",
            "3797dfce24e3469f882d3692cc32692e",
            "3e54d33c06844f3cb671766fa262d701",
            "6acfb3a8d8654e57a3c7786c62bb8dba",
            "866e43a67c0142f18aa6f235ec99ce3f",
            "463b5ab1879b44fbad444e2c0e915465",
            "c79a5ae863474e1b98c3f292a5a884a7",
            "6b8c2b7b9c57450f8a24a850525a4770",
            "23ccdaf542ef457bb8481d1a1f9316ac",
            "ccc7e2f530b3412cbd6b65f913d4b46c",
            "679aba4ccf1e49beab2cc70d556d0244",
            "44bc18e1d47341129563e62d2a2293df",
            "dde8355c89ca4462b8fc72c6a587d552",
            "9f4969a00d304e61a0d0fc4cb5acd859",
            "90126a9e93434309bd4ada818b382839",
            "135ced7a58624dda9e4545fdd808de73",
            "303bc58b174f439dbe0be42268c71875",
            "1ae694e046d64a7e935d0758930167ab",
            "dd8cd5a945194b5b92e2f0c4007312ed",
            "806a16f4d669471cbb35c9d1361dd413",
            "00d4d5f803484abba9242c33cffde236"
          ]
        },
        "id": "hlPkkwro2c2p",
        "outputId": "88f9706d-f156-4fd3-e34d-a23a427f9534"
      },
      "outputs": [
        {
          "output_type": "stream",
          "name": "stderr",
          "text": [
            "Evaluating: 100%|██████████| 13/13 [04:02<00:00, 18.69s/it]\n"
          ]
        },
        {
          "output_type": "display_data",
          "data": {
            "text/plain": [
              "tokenizer_config.json:   0%|          | 0.00/25.0 [00:00<?, ?B/s]"
            ],
            "application/vnd.jupyter.widget-view+json": {
              "version_major": 2,
              "version_minor": 0,
              "model_id": "f11e44db55864d7894f5b376b488a459"
            }
          },
          "metadata": {}
        },
        {
          "output_type": "display_data",
          "data": {
            "text/plain": [
              "config.json:   0%|          | 0.00/482 [00:00<?, ?B/s]"
            ],
            "application/vnd.jupyter.widget-view+json": {
              "version_major": 2,
              "version_minor": 0,
              "model_id": "e1a36ba2dc294fda9651ab36b839f176"
            }
          },
          "metadata": {}
        },
        {
          "output_type": "display_data",
          "data": {
            "text/plain": [
              "vocab.json:   0%|          | 0.00/899k [00:00<?, ?B/s]"
            ],
            "application/vnd.jupyter.widget-view+json": {
              "version_major": 2,
              "version_minor": 0,
              "model_id": "cf0ddaef9d8345f29ee55afea5dfa0d5"
            }
          },
          "metadata": {}
        },
        {
          "output_type": "display_data",
          "data": {
            "text/plain": [
              "merges.txt:   0%|          | 0.00/456k [00:00<?, ?B/s]"
            ],
            "application/vnd.jupyter.widget-view+json": {
              "version_major": 2,
              "version_minor": 0,
              "model_id": "f0f93150393e45abaa20117c3dd4b303"
            }
          },
          "metadata": {}
        },
        {
          "output_type": "display_data",
          "data": {
            "text/plain": [
              "tokenizer.json:   0%|          | 0.00/1.36M [00:00<?, ?B/s]"
            ],
            "application/vnd.jupyter.widget-view+json": {
              "version_major": 2,
              "version_minor": 0,
              "model_id": "c6596c3c7073486d9d3ae4c7bde79237"
            }
          },
          "metadata": {}
        },
        {
          "output_type": "stream",
          "name": "stderr",
          "text": [
            "/usr/local/lib/python3.10/dist-packages/transformers/tokenization_utils_base.py:1601: FutureWarning: `clean_up_tokenization_spaces` was not set. It will be set to `True` by default. This behavior will be depracted in transformers v4.45, and will be then set to `False` by default. For more details check this issue: https://github.com/huggingface/transformers/issues/31884\n",
            "  warnings.warn(\n"
          ]
        },
        {
          "output_type": "display_data",
          "data": {
            "text/plain": [
              "model.safetensors:   0%|          | 0.00/1.42G [00:00<?, ?B/s]"
            ],
            "application/vnd.jupyter.widget-view+json": {
              "version_major": 2,
              "version_minor": 0,
              "model_id": "c8f38d2a919a492db8ff61e1adedd4e3"
            }
          },
          "metadata": {}
        },
        {
          "output_type": "stream",
          "name": "stderr",
          "text": [
            "Some weights of RobertaModel were not initialized from the model checkpoint at roberta-large and are newly initialized: ['roberta.pooler.dense.bias', 'roberta.pooler.dense.weight']\n",
            "You should probably TRAIN this model on a down-stream task to be able to use it for predictions and inference.\n"
          ]
        },
        {
          "output_type": "stream",
          "name": "stdout",
          "text": [
            "calculating scores...\n",
            "computing bert embedding.\n"
          ]
        },
        {
          "output_type": "display_data",
          "data": {
            "text/plain": [
              "  0%|          | 0/7 [00:00<?, ?it/s]"
            ],
            "application/vnd.jupyter.widget-view+json": {
              "version_major": 2,
              "version_minor": 0,
              "model_id": "f273189ca3044f44a24695537a1958b4"
            }
          },
          "metadata": {}
        },
        {
          "output_type": "stream",
          "name": "stdout",
          "text": [
            "computing greedy matching.\n"
          ]
        },
        {
          "output_type": "display_data",
          "data": {
            "text/plain": [
              "  0%|          | 0/4 [00:00<?, ?it/s]"
            ],
            "application/vnd.jupyter.widget-view+json": {
              "version_major": 2,
              "version_minor": 0,
              "model_id": "679aba4ccf1e49beab2cc70d556d0244"
            }
          },
          "metadata": {}
        },
        {
          "output_type": "stream",
          "name": "stdout",
          "text": [
            "done in 1.36 seconds, 146.69 sentences/sec\n",
            "Validation Metrics after Epoch 10: {'BLEU': 0.06799852906881454, 'ROUGE-1': 0.3605501009078025, 'ROUGE-2': 0.123631238844363, 'ROUGE-L': 0.3261054036592561, 'BERT_F1': 0.9034924507141113}\n"
          ]
        }
      ],
      "source": [
        "# After training each epoch, evaluate the model on the validation set\n",
        "metrics = evaluate_model(blip_model, t5_model, blip_processor, t5_tokenizer, val_dataloader, device)\n",
        "print(f\"Validation Metrics after Epoch {epoch+1}: {metrics}\")\n"
      ]
    },
    {
      "cell_type": "code",
      "execution_count": null,
      "metadata": {
        "id": "YaJVLEwu6PCO",
        "colab": {
          "base_uri": "https://localhost:8080/",
          "height": 564
        },
        "outputId": "36f09827-baaf-471a-b4c4-eae68a60feab"
      },
      "outputs": [
        {
          "output_type": "display_data",
          "data": {
            "text/plain": [
              "<Figure size 1000x600 with 1 Axes>"
            ],
            "image/png": "[encoded data removed]"
          },
          "metadata": {}
        }
      ],
      "source": [
        "import matplotlib.pyplot as plt\n",
        "\n",
        "# Plot training loss over epochs\n",
        "\n",
        "plt.figure(figsize=(10, 6))\n",
        "#plt.plot(range(1, epochs + 1), bleu_scores, label='BLEU')\n",
        "#plt.plot(range(1, epochs + 1), rouge1_scores, label='ROUGE-1')\n",
        "#plt.plot(range(1, epochs + 1), rouge2_scores, label='ROUGE-2')\n",
        "plt.plot(range(1, epochs + 1), rougeL_scores, label='ROUGE-L')\n",
        "#plt.plot(range(1, epochs + 1), meteor_scores, label='METEOR')\n",
        "#plt.plot(range(1, epochs + 1), bert_f1_scores, label='BERT F1')\n",
        "plt.xlabel('Epochs')\n",
        "plt.ylabel('Score')\n",
        "plt.title('Validation Metrics Over Epochs')\n",
        "plt.legend()\n",
        "plt.grid()\n",
        "plt.show()"
      ]
    },
    {
      "cell_type": "code",
      "execution_count": null,
      "metadata": {
        "id": "tM1tesFTJN_w",
        "colab": {
          "base_uri": "https://localhost:8080/",
          "height": 564
        },
        "outputId": "effba57d-fe92-4614-a13d-3c005cfed647"
      },
      "outputs": [
        {
          "output_type": "display_data",
          "data": {
            "text/plain": [
              "<Figure size 1000x600 with 1 Axes>"
            ],
            "image/png": "[encoded data removed]"
          },
          "metadata": {}
        }
      ],
      "source": [
        "import matplotlib.pyplot as plt\n",
        "\n",
        "# Plot training loss over epochs\n",
        "\n",
        "plt.figure(figsize=(10, 6))\n",
        "plt.plot(range(1, epochs + 1), training_losses, label='ROUGE-L')\n",
        "plt.xlabel('Epochs')\n",
        "plt.ylabel('Loss')\n",
        "plt.title('Training Loss Over Epochs')\n",
        "plt.legend()\n",
        "plt.grid()\n",
        "plt.show()"
      ]
    },
    {
      "cell_type": "code",
      "execution_count": null,
      "metadata": {
        "id": "GSdSbC7PFB3G"
      },
      "outputs": [],
      "source": [
        "# Lists to store metrics over epochs\n",
        "training_losses = []\n",
        "bleu_scores_tr = []\n",
        "rouge1_scores_tr = []\n",
        "rouge2_scores_tr = []\n",
        "rougeL_scores_tr = []\n",
        "# meteor_scores_tr = []\n",
        "bert_f1_scores_tr = []\n",
        "\n",
        "bleu_scores_val = []\n",
        "rouge1_scores_val = []\n",
        "rouge2_scores_val = []\n",
        "rougeL_scores_val = []\n",
        "# meteor_scores_val = []\n",
        "bert_f1_scores_val = []\n",
        "\n",
        " # Evaluate after each epoch\n",
        "#metrics_tr = evaluate_model(blip_model, t5_model, blip_processor, t5_tokenizer, train_dataloader, device)\n",
        "#bleu_scores_tr.append(metrics['BLEU'])\n",
        "#rouge1_scores_tr.append(metrics['ROUGE-1'])\n",
        "#rouge2_scores_tr.append(metrics['ROUGE-2'])\n",
        "#rougeL_scores_tr.append(metrics['ROUGE-L'])\n",
        "# meteor_scores_tr.append(metrics['METEOR'])\n",
        "#bert_f1_scores_tr.append(metrics['BERT_F1'])\n",
        "\n",
        "# Print training metrics\n",
        "#print(f\"Training Metrics: {metrics}\")\n",
        "\n",
        "metrics = evaluate_model(blip_model, t5_model, blip_processor, t5_tokenizer, val_dataloader, device)\n",
        "bleu_scores_val.append(metrics['BLEU'])\n",
        "rouge1_scores_val.append(metrics['ROUGE-1'])\n",
        "rouge2_scores_val.append(metrics['ROUGE-2'])\n",
        "rougeL_scores_val.append(metrics['ROUGE-L'])\n",
        "# meteor_scores_val.append(metrics['METEOR'])\n",
        "bert_f1_scores_val.append(metrics['BERT_F1'])\n",
        "\n",
        "# Print training metrics\n",
        "print(f\"Validation Metrics: {metrics}\")"
      ]
    },
    {
      "cell_type": "code",
      "execution_count": null,
      "metadata": {
        "id": "NJFFVzheEoq6"
      },
      "outputs": [],
      "source": [
        "import requests\n",
        "import imageio\n",
        "from PIL import Image\n",
        "from io import BytesIO\n",
        "import torch\n",
        "from nltk.translate.bleu_score import corpus_bleu\n",
        "from rouge_score import rouge_scorer\n",
        "from bert_score import score as bert_score_fn\n",
        "import torch.nn.functional as F\n",
        "\n",
        "def process_and_evaluate_gif(\n",
        "    gif_url,\n",
        "    actual_description,\n",
        "    blip_processor,\n",
        "    blip_model,\n",
        "    t5_tokenizer,\n",
        "    t5_model,\n",
        "    device='cuda' if torch.cuda.is_available() else 'cpu',\n",
        "    num_frames=5,\n",
        "    frame_size=(256, 256),\n",
        "    max_length=128,\n",
        "    max_target_length=150,\n",
        "    num_beams=4\n",
        "):\n",
        "    \"\"\"\n",
        "    Processes an unseen GIF to generate a description and evaluates it against the actual description.\n",
        "\n",
        "    Args:\n",
        "        gif_url (str): URL of the GIF to process.\n",
        "        actual_description (str): The ground truth description of the GIF.\n",
        "        blip_processor: BLIP processor instance.\n",
        "        blip_model: Trained BLIP model instance.\n",
        "        t5_tokenizer: T5 tokenizer instance.\n",
        "        t5_model: Trained T5 model instance.\n",
        "        device (str): Device to run the models on ('cuda' or 'cpu').\n",
        "        num_frames (int): Number of frames to extract from the GIF.\n",
        "        frame_size (tuple): Desired frame size (width, height).\n",
        "        max_length (int): Maximum token length for T5 input.\n",
        "        max_target_length (int): Maximum token length for T5 output.\n",
        "        num_beams (int): Number of beams for beam search in T5 generation.\n",
        "\n",
        "    Returns:\n",
        "        dict: Evaluation metrics including BLEU, ROUGE-1, ROUGE-2, ROUGE-L, and BERT_F1.\n",
        "    \"\"\"\n",
        "    # Step 1: Download the GIF\n",
        "    try:\n",
        "        response = requests.get(gif_url, timeout=10)\n",
        "        response.raise_for_status()\n",
        "        gif_bytes = BytesIO(response.content)\n",
        "        print(f\"Successfully downloaded GIF from {gif_url}\")\n",
        "    except requests.exceptions.RequestException as e:\n",
        "        print(f\"Failed to download GIF from {gif_url}: {e}\")\n",
        "        return None\n",
        "\n",
        "    # Step 2: Extract frames from the GIF\n",
        "    try:\n",
        "        gif = imageio.mimread(gif_bytes, memtest=False)\n",
        "        total_frames = len(gif)\n",
        "        if total_frames == 0:\n",
        "            print(\"No frames found in the GIF.\")\n",
        "            return None\n",
        "        interval = max(total_frames // num_frames, 1)\n",
        "        selected_frames = [gif[i] for i in range(0, total_frames, interval)][:num_frames]\n",
        "        print(f\"Extracted {len(selected_frames)} frames from the GIF.\")\n",
        "    except Exception as e:\n",
        "        print(f\"Error extracting frames from GIF: {e}\")\n",
        "        return None\n",
        "\n",
        "    # Step 3: Ensure each GIF has exactly num_frames by padding if necessary\n",
        "    while len(selected_frames) < num_frames:\n",
        "        if selected_frames:\n",
        "            selected_frames.append(selected_frames[-1])\n",
        "        else:\n",
        "            # Append a blank frame if no frames are extracted\n",
        "            selected_frames.append(np.zeros((frame_size[1], frame_size[0], 3), dtype=np.uint8))\n",
        "    selected_frames = selected_frames[:num_frames]  # Ensure no more than num_frames\n",
        "    print(f\"Total frames after padding: {len(selected_frames)}\")\n",
        "\n",
        "    # Step 4: Convert frames to PIL Images, resize, and generate captions using BLIP\n",
        "    captions = []\n",
        "    for idx, frame in enumerate(selected_frames):\n",
        "        try:\n",
        "            img = Image.fromarray(frame).convert('RGB')\n",
        "            img_resized = img.resize(frame_size)\n",
        "            inputs = blip_processor(img_resized, return_tensors=\"pt\").to(device)\n",
        "            with torch.no_grad():\n",
        "                outputs = blip_model.generate(**inputs, max_length=50)\n",
        "            caption = blip_processor.decode(outputs[0], skip_special_tokens=True)\n",
        "            captions.append(caption)\n",
        "            print(f\"Frame {idx+1}: {caption}\")\n",
        "        except Exception as e:\n",
        "            print(f\"Failed to generate caption for frame {idx+1}: {e}\")\n",
        "            captions.append(\"\")  # Append empty string for failed captions\n",
        "\n",
        "    # Step 5: Concatenate captions to form T5 input\n",
        "    concatenated_captions = \" \".join(captions)\n",
        "    print(f\"Concatenated Captions: {concatenated_captions}\")\n",
        "\n",
        "    # Step 6: Tokenize the concatenated captions for T5\n",
        "    try:\n",
        "        encoding = t5_tokenizer.encode_plus(\n",
        "            concatenated_captions,\n",
        "            add_special_tokens=True,\n",
        "            max_length=max_length,\n",
        "            padding='max_length',\n",
        "            truncation=True,\n",
        "            return_attention_mask=True,\n",
        "            return_tensors='pt',\n",
        "        )\n",
        "        input_ids = encoding['input_ids'].to(device)\n",
        "        attention_mask = encoding['attention_mask'].to(device)\n",
        "    except Exception as e:\n",
        "        print(f\"Error during tokenization: {e}\")\n",
        "        return None\n",
        "\n",
        "    # Step 7: Generate description using T5\n",
        "    try:\n",
        "        t5_model.eval()\n",
        "        with torch.no_grad():\n",
        "            outputs = t5_model.generate(\n",
        "                input_ids=input_ids,\n",
        "                attention_mask=attention_mask,\n",
        "                max_length=max_target_length,\n",
        "                num_beams=num_beams,\n",
        "                early_stopping=True\n",
        "            )\n",
        "        generated_description = t5_tokenizer.decode(outputs[0], skip_special_tokens=True)\n",
        "        print(f\"Generated Description: {generated_description}\")\n",
        "    except Exception as e:\n",
        "        print(f\"Error during T5 generation: {e}\")\n",
        "        return None\n",
        "\n",
        "    # Step 8: Evaluate the generated description against the actual description\n",
        "    scorer = rouge_scorer.RougeScorer(['rouge1', 'rouge2', 'rougeL'], use_stemmer=True)\n",
        "\n",
        "    # Prepare tokenized inputs\n",
        "    ref_tokens = actual_description.split()\n",
        "    hyp_tokens = generated_description.split()\n",
        "\n",
        "    # Calculate BLEU\n",
        "    bleu = corpus_bleu([[ref_tokens]], [hyp_tokens])\n",
        "\n",
        "    # Calculate ROUGE\n",
        "    scores = scorer.score(actual_description, generated_description)\n",
        "    rouge1 = scores['rouge1'].fmeasure\n",
        "    rouge2 = scores['rouge2'].fmeasure\n",
        "    rougeL = scores['rougeL'].fmeasure\n",
        "\n",
        "    # Calculate BERT Score\n",
        "    P, R, F1 = bert_score_fn(\n",
        "        [' '.join(hyp_tokens)],\n",
        "        [' '.join(ref_tokens)],\n",
        "        lang='en',\n",
        "        verbose=False\n",
        "    )\n",
        "    bert_f1 = F1.mean().item()\n",
        "\n",
        "    # Compile metrics\n",
        "    metrics = {\n",
        "        'BLEU': bleu,\n",
        "        'ROUGE-1': rouge1,\n",
        "        'ROUGE-2': rouge2,\n",
        "        'ROUGE-L': rougeL,\n",
        "        'BERT_F1': bert_f1\n",
        "    }\n",
        "\n",
        "    # Display Metrics\n",
        "    print(\"\\nEvaluation Metrics:\")\n",
        "    for metric, value in metrics.items():\n",
        "        print(f\"{metric}: {value:.4f}\")\n",
        "\n",
        "    return {\n",
        "        'generated_description': generated_description,\n",
        "        'actual_description': actual_description,\n",
        "        'metrics': metrics\n",
        "    }\n"
      ]
    },
    {
      "cell_type": "code",
      "execution_count": null,
      "metadata": {
        "colab": {
          "base_uri": "https://localhost:8080/"
        },
        "id": "AjycCMAuEwIy",
        "outputId": "ceb58ff9-fca0-4e09-8a5e-20e4f859ebec"
      },
      "outputs": [
        {
          "output_type": "stream",
          "name": "stdout",
          "text": [
            "Successfully downloaded GIF from https://38.media.tumblr.com/f754d72da3c6a58211c760d39dff5be3/tumblr_n8vbphDLEh1qdzzbko1_250.gif\n",
            "Extracted 5 frames from the GIF.\n",
            "Total frames after padding: 5\n",
            "Frame 1: a man in a tuxed suit and bow tie\n",
            "Frame 2: a man in a tuxed suit and bow tie\n",
            "Frame 3: a man in a tuxed suit and bow tie\n",
            "Frame 4: a man in a tuxed suit and bow tie\n",
            "Frame 5: a man in a tuxed suit and bow tie\n",
            "Concatenated Captions: a man in a tuxed suit and bow tie a man in a tuxed suit and bow tie a man in a tuxed suit and bow tie a man in a tuxed suit and bow tie a man in a tuxed suit and bow tie\n",
            "Generated Description: a man in a tuxedo wears a shirt and a tie.\n"
          ]
        },
        {
          "output_type": "stream",
          "name": "stderr",
          "text": [
            "Some weights of RobertaModel were not initialized from the model checkpoint at roberta-large and are newly initialized: ['roberta.pooler.dense.bias', 'roberta.pooler.dense.weight']\n",
            "You should probably TRAIN this model on a down-stream task to be able to use it for predictions and inference.\n"
          ]
        },
        {
          "output_type": "stream",
          "name": "stdout",
          "text": [
            "\n",
            "Evaluation Metrics:\n",
            "BLEU: 0.3204\n",
            "ROUGE-1: 0.4348\n",
            "ROUGE-2: 0.3810\n",
            "ROUGE-L: 0.4348\n",
            "BERT_F1: 0.9218\n",
            "\n",
            "Final Results:\n",
            "Generated Description: a man in a tuxedo wears a shirt and a tie.\n",
            "Actual Description: a man in a tuxedo stares as smoke rises next to him\n",
            "Evaluation Metrics:\n",
            "  BLEU: 0.3204\n",
            "  ROUGE-1: 0.4348\n",
            "  ROUGE-2: 0.3810\n",
            "  ROUGE-L: 0.4348\n",
            "  BERT_F1: 0.9218\n"
          ]
        }
      ],
      "source": [
        "# Example unseen GIF\n",
        "unseen_gif = {\n",
        "    'url': 'https://38.media.tumblr.com/f754d72da3c6a58211c760d39dff5be3/tumblr_n8vbphDLEh1qdzzbko1_250.gif',\n",
        "    'actual_description': 'a man in a tuxedo stares as smoke rises next to him'\n",
        "}\n",
        "\n",
        "# Process and evaluate the unseen GIF\n",
        "result = process_and_evaluate_gif(\n",
        "    gif_url=unseen_gif['url'],\n",
        "    actual_description=unseen_gif['actual_description'],\n",
        "    blip_processor=blip_processor,\n",
        "    blip_model=blip_model,\n",
        "    t5_tokenizer=t5_tokenizer,\n",
        "    t5_model=t5_model,\n",
        "    device=device,\n",
        "    num_frames=5,\n",
        "    frame_size=(256, 256),\n",
        "    max_length=128,\n",
        "    max_target_length=150,\n",
        "    num_beams=4\n",
        ")\n",
        "\n",
        "# Check the result\n",
        "if result:\n",
        "    print(\"\\nFinal Results:\")\n",
        "    print(f\"Generated Description: {result['generated_description']}\")\n",
        "    print(f\"Actual Description: {result['actual_description']}\")\n",
        "    print(\"Evaluation Metrics:\")\n",
        "    for metric, score in result['metrics'].items():\n",
        "        print(f\"  {metric}: {score:.4f}\")\n",
        "else:\n",
        "    print(\"Processing and evaluation failed.\")\n"
      ]
    }
  ],
  "metadata": {
    "accelerator": "GPU",
    "colab": {
      "gpuType": "T4",
      "provenance": []
    },
    "kernelspec": {
      "display_name": "Python 3",
      "name": "python3"
    },
    "language_info": {
      "name": "python"
    },
    "widgets": {
      "application/vnd.jupyter.widget-state+json": {
        "6ce5de2ab6fb4f20898e1a862a5c3698": {
          "model_module": "@jupyter-widgets/controls",
          "model_name": "HBoxModel",
          "model_module_version": "1.5.0",
          "state": {
            "_dom_classes": [],
            "_model_module": "@jupyter-widgets/controls",
            "_model_module_version": "1.5.0",
            "_model_name": "HBoxModel",
            "_view_count": null,
            "_view_module": "@jupyter-widgets/controls",
            "_view_module_version": "1.5.0",
            "_view_name": "HBoxView",
            "box_style": "",
            "children": [
              "IPY_MODEL_e815cdf236a643c5803e7b75900807ca",
              "IPY_MODEL_f7426f408c5d4824974be0be3a2ca372",
              "IPY_MODEL_0056c58d69584a4f86ce0287c9d76efe"
            ],
            "layout": "IPY_MODEL_a66d8a4b74774348890ad603ae5fedba"
          }
        },
        "e815cdf236a643c5803e7b75900807ca": {
          "model_module": "@jupyter-widgets/controls",
          "model_name": "HTMLModel",
          "model_module_version": "1.5.0",
          "state": {
            "_dom_classes": [],
            "_model_module": "@jupyter-widgets/controls",
            "_model_module_version": "1.5.0",
            "_model_name": "HTMLModel",
            "_view_count": null,
            "_view_module": "@jupyter-widgets/controls",
            "_view_module_version": "1.5.0",
            "_view_name": "HTMLView",
            "description": "",
            "description_tooltip": null,
            "layout": "IPY_MODEL_efc68ea065fc4c538ed717ac20811ecf",
            "placeholder": "​",
            "style": "IPY_MODEL_245c9a0a99f6499d911d27f74fdf8310",
            "value": "preprocessor_config.json: 100%"
          }
        },
        "f7426f408c5d4824974be0be3a2ca372": {
          "model_module": "@jupyter-widgets/controls",
          "model_name": "FloatProgressModel",
          "model_module_version": "1.5.0",
          "state": {
            "_dom_classes": [],
            "_model_module": "@jupyter-widgets/controls",
            "_model_module_version": "1.5.0",
            "_model_name": "FloatProgressModel",
            "_view_count": null,
            "_view_module": "@jupyter-widgets/controls",
            "_view_module_version": "1.5.0",
            "_view_name": "ProgressView",
            "bar_style": "success",
            "description": "",
            "description_tooltip": null,
            "layout": "IPY_MODEL_f1b0ddb3d34b4e199334a10a98c2a8a0",
            "max": 287,
            "min": 0,
            "orientation": "horizontal",
            "style": "IPY_MODEL_2fcba940dd0947cb9d4d55556f415153",
            "value": 287
          }
        },
        "0056c58d69584a4f86ce0287c9d76efe": {
          "model_module": "@jupyter-widgets/controls",
          "model_name": "HTMLModel",
          "model_module_version": "1.5.0",
          "state": {
            "_dom_classes": [],
            "_model_module": "@jupyter-widgets/controls",
            "_model_module_version": "1.5.0",
            "_model_name": "HTMLModel",
            "_view_count": null,
            "_view_module": "@jupyter-widgets/controls",
            "_view_module_version": "1.5.0",
            "_view_name": "HTMLView",
            "description": "",
            "description_tooltip": null,
            "layout": "IPY_MODEL_23200f929a304879918c9eeec99e5454",
            "placeholder": "​",
            "style": "IPY_MODEL_f250d6347fd4474eb7c0b20704dc3def",
            "value": " 287/287 [00:00&lt;00:00, 12.2kB/s]"
          }
        },
        "a66d8a4b74774348890ad603ae5fedba": {
          "model_module": "@jupyter-widgets/base",
          "model_name": "LayoutModel",
          "model_module_version": "1.2.0",
          "state": {
            "_model_module": "@jupyter-widgets/base",
            "_model_module_version": "1.2.0",
            "_model_name": "LayoutModel",
            "_view_count": null,
            "_view_module": "@jupyter-widgets/base",
            "_view_module_version": "1.2.0",
            "_view_name": "LayoutView",
            "align_content": null,
            "align_items": null,
            "align_self": null,
            "border": null,
            "bottom": null,
            "display": null,
            "flex": null,
            "flex_flow": null,
            "grid_area": null,
            "grid_auto_columns": null,
            "grid_auto_flow": null,
            "grid_auto_rows": null,
            "grid_column": null,
            "grid_gap": null,
            "grid_row": null,
            "grid_template_areas": null,
            "grid_template_columns": null,
            "grid_template_rows": null,
            "height": null,
            "justify_content": null,
            "justify_items": null,
            "left": null,
            "margin": null,
            "max_height": null,
            "max_width": null,
            "min_height": null,
            "min_width": null,
            "object_fit": null,
            "object_position": null,
            "order": null,
            "overflow": null,
            "overflow_x": null,
            "overflow_y": null,
            "padding": null,
            "right": null,
            "top": null,
            "visibility": null,
            "width": null
          }
        },
        "efc68ea065fc4c538ed717ac20811ecf": {
          "model_module": "@jupyter-widgets/base",
          "model_name": "LayoutModel",
          "model_module_version": "1.2.0",
          "state": {
            "_model_module": "@jupyter-widgets/base",
            "_model_module_version": "1.2.0",
            "_model_name": "LayoutModel",
            "_view_count": null,
            "_view_module": "@jupyter-widgets/base",
            "_view_module_version": "1.2.0",
            "_view_name": "LayoutView",
            "align_content": null,
            "align_items": null,
            "align_self": null,
            "border": null,
            "bottom": null,
            "display": null,
            "flex": null,
            "flex_flow": null,
            "grid_area": null,
            "grid_auto_columns": null,
            "grid_auto_flow": null,
            "grid_auto_rows": null,
            "grid_column": null,
            "grid_gap": null,
            "grid_row": null,
            "grid_template_areas": null,
            "grid_template_columns": null,
            "grid_template_rows": null,
            "height": null,
            "justify_content": null,
            "justify_items": null,
            "left": null,
            "margin": null,
            "max_height": null,
            "max_width": null,
            "min_height": null,
            "min_width": null,
            "object_fit": null,
            "object_position": null,
            "order": null,
            "overflow": null,
            "overflow_x": null,
            "overflow_y": null,
            "padding": null,
            "right": null,
            "top": null,
            "visibility": null,
            "width": null
          }
        },
        "245c9a0a99f6499d911d27f74fdf8310": {
          "model_module": "@jupyter-widgets/controls",
          "model_name": "DescriptionStyleModel",
          "model_module_version": "1.5.0",
          "state": {
            "_model_module": "@jupyter-widgets/controls",
            "_model_module_version": "1.5.0",
            "_model_name": "DescriptionStyleModel",
            "_view_count": null,
            "_view_module": "@jupyter-widgets/base",
            "_view_module_version": "1.2.0",
            "_view_name": "StyleView",
            "description_width": ""
          }
        },
        "f1b0ddb3d34b4e199334a10a98c2a8a0": {
          "model_module": "@jupyter-widgets/base",
          "model_name": "LayoutModel",
          "model_module_version": "1.2.0",
          "state": {
            "_model_module": "@jupyter-widgets/base",
            "_model_module_version": "1.2.0",
            "_model_name": "LayoutModel",
            "_view_count": null,
            "_view_module": "@jupyter-widgets/base",
            "_view_module_version": "1.2.0",
            "_view_name": "LayoutView",
            "align_content": null,
            "align_items": null,
            "align_self": null,
            "border": null,
            "bottom": null,
            "display": null,
            "flex": null,
            "flex_flow": null,
            "grid_area": null,
            "grid_auto_columns": null,
            "grid_auto_flow": null,
            "grid_auto_rows": null,
            "grid_column": null,
            "grid_gap": null,
            "grid_row": null,
            "grid_template_areas": null,
            "grid_template_columns": null,
            "grid_template_rows": null,
            "height": null,
            "justify_content": null,
            "justify_items": null,
            "left": null,
            "margin": null,
            "max_height": null,
            "max_width": null,
            "min_height": null,
            "min_width": null,
            "object_fit": null,
            "object_position": null,
            "order": null,
            "overflow": null,
            "overflow_x": null,
            "overflow_y": null,
            "padding": null,
            "right": null,
            "top": null,
            "visibility": null,
            "width": null
          }
        },
        "2fcba940dd0947cb9d4d55556f415153": {
          "model_module": "@jupyter-widgets/controls",
          "model_name": "ProgressStyleModel",
          "model_module_version": "1.5.0",
          "state": {
            "_model_module": "@jupyter-widgets/controls",
            "_model_module_version": "1.5.0",
            "_model_name": "ProgressStyleModel",
            "_view_count": null,
            "_view_module": "@jupyter-widgets/base",
            "_view_module_version": "1.2.0",
            "_view_name": "StyleView",
            "bar_color": null,
            "description_width": ""
          }
        },
        "23200f929a304879918c9eeec99e5454": {
          "model_module": "@jupyter-widgets/base",
          "model_name": "LayoutModel",
          "model_module_version": "1.2.0",
          "state": {
            "_model_module": "@jupyter-widgets/base",
            "_model_module_version": "1.2.0",
            "_model_name": "LayoutModel",
            "_view_count": null,
            "_view_module": "@jupyter-widgets/base",
            "_view_module_version": "1.2.0",
            "_view_name": "LayoutView",
            "align_content": null,
            "align_items": null,
            "align_self": null,
            "border": null,
            "bottom": null,
            "display": null,
            "flex": null,
            "flex_flow": null,
            "grid_area": null,
            "grid_auto_columns": null,
            "grid_auto_flow": null,
            "grid_auto_rows": null,
            "grid_column": null,
            "grid_gap": null,
            "grid_row": null,
            "grid_template_areas": null,
            "grid_template_columns": null,
            "grid_template_rows": null,
            "height": null,
            "justify_content": null,
            "justify_items": null,
            "left": null,
            "margin": null,
            "max_height": null,
            "max_width": null,
            "min_height": null,
            "min_width": null,
            "object_fit": null,
            "object_position": null,
            "order": null,
            "overflow": null,
            "overflow_x": null,
            "overflow_y": null,
            "padding": null,
            "right": null,
            "top": null,
            "visibility": null,
            "width": null
          }
        },
        "f250d6347fd4474eb7c0b20704dc3def": {
          "model_module": "@jupyter-widgets/controls",
          "model_name": "DescriptionStyleModel",
          "model_module_version": "1.5.0",
          "state": {
            "_model_module": "@jupyter-widgets/controls",
            "_model_module_version": "1.5.0",
            "_model_name": "DescriptionStyleModel",
            "_view_count": null,
            "_view_module": "@jupyter-widgets/base",
            "_view_module_version": "1.2.0",
            "_view_name": "StyleView",
            "description_width": ""
          }
        },
        "1dab41c89e6745d4bc7fa3655067ba52": {
          "model_module": "@jupyter-widgets/controls",
          "model_name": "HBoxModel",
          "model_module_version": "1.5.0",
          "state": {
            "_dom_classes": [],
            "_model_module": "@jupyter-widgets/controls",
            "_model_module_version": "1.5.0",
            "_model_name": "HBoxModel",
            "_view_count": null,
            "_view_module": "@jupyter-widgets/controls",
            "_view_module_version": "1.5.0",
            "_view_name": "HBoxView",
            "box_style": "",
            "children": [
              "IPY_MODEL_9b2f4a182315400893f30fdd7a79bc23",
              "IPY_MODEL_9123075bc3f24751af8a0998dfaf03ca",
              "IPY_MODEL_bc975b515b894a408a804f975cf38717"
            ],
            "layout": "IPY_MODEL_8cff45d6f4e84deeb1c7803cf0847d11"
          }
        },
        "9b2f4a182315400893f30fdd7a79bc23": {
          "model_module": "@jupyter-widgets/controls",
          "model_name": "HTMLModel",
          "model_module_version": "1.5.0",
          "state": {
            "_dom_classes": [],
            "_model_module": "@jupyter-widgets/controls",
            "_model_module_version": "1.5.0",
            "_model_name": "HTMLModel",
            "_view_count": null,
            "_view_module": "@jupyter-widgets/controls",
            "_view_module_version": "1.5.0",
            "_view_name": "HTMLView",
            "description": "",
            "description_tooltip": null,
            "layout": "IPY_MODEL_627451f8faca4f1bb19b8e0b8f76af6a",
            "placeholder": "​",
            "style": "IPY_MODEL_d609056a34b04909a2d12efad66557a9",
            "value": "tokenizer_config.json: 100%"
          }
        },
        "9123075bc3f24751af8a0998dfaf03ca": {
          "model_module": "@jupyter-widgets/controls",
          "model_name": "FloatProgressModel",
          "model_module_version": "1.5.0",
          "state": {
            "_dom_classes": [],
            "_model_module": "@jupyter-widgets/controls",
            "_model_module_version": "1.5.0",
            "_model_name": "FloatProgressModel",
            "_view_count": null,
            "_view_module": "@jupyter-widgets/controls",
            "_view_module_version": "1.5.0",
            "_view_name": "ProgressView",
            "bar_style": "success",
            "description": "",
            "description_tooltip": null,
            "layout": "IPY_MODEL_ecbec50661f5461ba79bf2edef40a0d1",
            "max": 506,
            "min": 0,
            "orientation": "horizontal",
            "style": "IPY_MODEL_7a8ccdc7e66a47d582af230feee28115",
            "value": 506
          }
        },
        "bc975b515b894a408a804f975cf38717": {
          "model_module": "@jupyter-widgets/controls",
          "model_name": "HTMLModel",
          "model_module_version": "1.5.0",
          "state": {
            "_dom_classes": [],
            "_model_module": "@jupyter-widgets/controls",
            "_model_module_version": "1.5.0",
            "_model_name": "HTMLModel",
            "_view_count": null,
            "_view_module": "@jupyter-widgets/controls",
            "_view_module_version": "1.5.0",
            "_view_name": "HTMLView",
            "description": "",
            "description_tooltip": null,
            "layout": "IPY_MODEL_4d688ea274da413f8d26d3a5d4153229",
            "placeholder": "​",
            "style": "IPY_MODEL_33b96bae39f94dcf8ae981f625da8549",
            "value": " 506/506 [00:00&lt;00:00, 17.8kB/s]"
          }
        },
        "8cff45d6f4e84deeb1c7803cf0847d11": {
          "model_module": "@jupyter-widgets/base",
          "model_name": "LayoutModel",
          "model_module_version": "1.2.0",
          "state": {
            "_model_module": "@jupyter-widgets/base",
            "_model_module_version": "1.2.0",
            "_model_name": "LayoutModel",
            "_view_count": null,
            "_view_module": "@jupyter-widgets/base",
            "_view_module_version": "1.2.0",
            "_view_name": "LayoutView",
            "align_content": null,
            "align_items": null,
            "align_self": null,
            "border": null,
            "bottom": null,
            "display": null,
            "flex": null,
            "flex_flow": null,
            "grid_area": null,
            "grid_auto_columns": null,
            "grid_auto_flow": null,
            "grid_auto_rows": null,
            "grid_column": null,
            "grid_gap": null,
            "grid_row": null,
            "grid_template_areas": null,
            "grid_template_columns": null,
            "grid_template_rows": null,
            "height": null,
            "justify_content": null,
            "justify_items": null,
            "left": null,
            "margin": null,
            "max_height": null,
            "max_width": null,
            "min_height": null,
            "min_width": null,
            "object_fit": null,
            "object_position": null,
            "order": null,
            "overflow": null,
            "overflow_x": null,
            "overflow_y": null,
            "padding": null,
            "right": null,
            "top": null,
            "visibility": null,
            "width": null
          }
        },
        "627451f8faca4f1bb19b8e0b8f76af6a": {
          "model_module": "@jupyter-widgets/base",
          "model_name": "LayoutModel",
          "model_module_version": "1.2.0",
          "state": {
            "_model_module": "@jupyter-widgets/base",
            "_model_module_version": "1.2.0",
            "_model_name": "LayoutModel",
            "_view_count": null,
            "_view_module": "@jupyter-widgets/base",
            "_view_module_version": "1.2.0",
            "_view_name": "LayoutView",
            "align_content": null,
            "align_items": null,
            "align_self": null,
            "border": null,
            "bottom": null,
            "display": null,
            "flex": null,
            "flex_flow": null,
            "grid_area": null,
            "grid_auto_columns": null,
            "grid_auto_flow": null,
            "grid_auto_rows": null,
            "grid_column": null,
            "grid_gap": null,
            "grid_row": null,
            "grid_template_areas": null,
            "grid_template_columns": null,
            "grid_template_rows": null,
            "height": null,
            "justify_content": null,
            "justify_items": null,
            "left": null,
            "margin": null,
            "max_height": null,
            "max_width": null,
            "min_height": null,
            "min_width": null,
            "object_fit": null,
            "object_position": null,
            "order": null,
            "overflow": null,
            "overflow_x": null,
            "overflow_y": null,
            "padding": null,
            "right": null,
            "top": null,
            "visibility": null,
            "width": null
          }
        },
        "d609056a34b04909a2d12efad66557a9": {
          "model_module": "@jupyter-widgets/controls",
          "model_name": "DescriptionStyleModel",
          "model_module_version": "1.5.0",
          "state": {
            "_model_module": "@jupyter-widgets/controls",
            "_model_module_version": "1.5.0",
            "_model_name": "DescriptionStyleModel",
            "_view_count": null,
            "_view_module": "@jupyter-widgets/base",
            "_view_module_version": "1.2.0",
            "_view_name": "StyleView",
            "description_width": ""
          }
        },
        "ecbec50661f5461ba79bf2edef40a0d1": {
          "model_module": "@jupyter-widgets/base",
          "model_name": "LayoutModel",
          "model_module_version": "1.2.0",
          "state": {
            "_model_module": "@jupyter-widgets/base",
            "_model_module_version": "1.2.0",
            "_model_name": "LayoutModel",
            "_view_count": null,
            "_view_module": "@jupyter-widgets/base",
            "_view_module_version": "1.2.0",
            "_view_name": "LayoutView",
            "align_content": null,
            "align_items": null,
            "align_self": null,
            "border": null,
            "bottom": null,
            "display": null,
            "flex": null,
            "flex_flow": null,
            "grid_area": null,
            "grid_auto_columns": null,
            "grid_auto_flow": null,
            "grid_auto_rows": null,
            "grid_column": null,
            "grid_gap": null,
            "grid_row": null,
            "grid_template_areas": null,
            "grid_template_columns": null,
            "grid_template_rows": null,
            "height": null,
            "justify_content": null,
            "justify_items": null,
            "left": null,
            "margin": null,
            "max_height": null,
            "max_width": null,
            "min_height": null,
            "min_width": null,
            "object_fit": null,
            "object_position": null,
            "order": null,
            "overflow": null,
            "overflow_x": null,
            "overflow_y": null,
            "padding": null,
            "right": null,
            "top": null,
            "visibility": null,
            "width": null
          }
        },
        "7a8ccdc7e66a47d582af230feee28115": {
          "model_module": "@jupyter-widgets/controls",
          "model_name": "ProgressStyleModel",
          "model_module_version": "1.5.0",
          "state": {
            "_model_module": "@jupyter-widgets/controls",
            "_model_module_version": "1.5.0",
            "_model_name": "ProgressStyleModel",
            "_view_count": null,
            "_view_module": "@jupyter-widgets/base",
            "_view_module_version": "1.2.0",
            "_view_name": "StyleView",
            "bar_color": null,
            "description_width": ""
          }
        },
        "4d688ea274da413f8d26d3a5d4153229": {
          "model_module": "@jupyter-widgets/base",
          "model_name": "LayoutModel",
          "model_module_version": "1.2.0",
          "state": {
            "_model_module": "@jupyter-widgets/base",
            "_model_module_version": "1.2.0",
            "_model_name": "LayoutModel",
            "_view_count": null,
            "_view_module": "@jupyter-widgets/base",
            "_view_module_version": "1.2.0",
            "_view_name": "LayoutView",
            "align_content": null,
            "align_items": null,
            "align_self": null,
            "border": null,
            "bottom": null,
            "display": null,
            "flex": null,
            "flex_flow": null,
            "grid_area": null,
            "grid_auto_columns": null,
            "grid_auto_flow": null,
            "grid_auto_rows": null,
            "grid_column": null,
            "grid_gap": null,
            "grid_row": null,
            "grid_template_areas": null,
            "grid_template_columns": null,
            "grid_template_rows": null,
            "height": null,
            "justify_content": null,
            "justify_items": null,
            "left": null,
            "margin": null,
            "max_height": null,
            "max_width": null,
            "min_height": null,
            "min_width": null,
            "object_fit": null,
            "object_position": null,
            "order": null,
            "overflow": null,
            "overflow_x": null,
            "overflow_y": null,
            "padding": null,
            "right": null,
            "top": null,
            "visibility": null,
            "width": null
          }
        },
        "33b96bae39f94dcf8ae981f625da8549": {
          "model_module": "@jupyter-widgets/controls",
          "model_name": "DescriptionStyleModel",
          "model_module_version": "1.5.0",
          "state": {
            "_model_module": "@jupyter-widgets/controls",
            "_model_module_version": "1.5.0",
            "_model_name": "DescriptionStyleModel",
            "_view_count": null,
            "_view_module": "@jupyter-widgets/base",
            "_view_module_version": "1.2.0",
            "_view_name": "StyleView",
            "description_width": ""
          }
        },
        "e46655a27aa14921bae368cc86e44c67": {
          "model_module": "@jupyter-widgets/controls",
          "model_name": "HBoxModel",
          "model_module_version": "1.5.0",
          "state": {
            "_dom_classes": [],
            "_model_module": "@jupyter-widgets/controls",
            "_model_module_version": "1.5.0",
            "_model_name": "HBoxModel",
            "_view_count": null,
            "_view_module": "@jupyter-widgets/controls",
            "_view_module_version": "1.5.0",
            "_view_name": "HBoxView",
            "box_style": "",
            "children": [
              "IPY_MODEL_9f3f975b4e0f4f188b98ae0694391adb",
              "IPY_MODEL_5b63c16cfee24a8da37b64188fa506dd",
              "IPY_MODEL_962c1e0f304d430db150312763c2b337"
            ],
            "layout": "IPY_MODEL_12ad5ca0d5024876847bfe6158c492b5"
          }
        },
        "9f3f975b4e0f4f188b98ae0694391adb": {
          "model_module": "@jupyter-widgets/controls",
          "model_name": "HTMLModel",
          "model_module_version": "1.5.0",
          "state": {
            "_dom_classes": [],
            "_model_module": "@jupyter-widgets/controls",
            "_model_module_version": "1.5.0",
            "_model_name": "HTMLModel",
            "_view_count": null,
            "_view_module": "@jupyter-widgets/controls",
            "_view_module_version": "1.5.0",
            "_view_name": "HTMLView",
            "description": "",
            "description_tooltip": null,
            "layout": "IPY_MODEL_9cc2dbfe604c4127903c8ca28a33dbbe",
            "placeholder": "​",
            "style": "IPY_MODEL_a3a2b916b15e452c986ccda1347e59f1",
            "value": "vocab.txt: 100%"
          }
        },
        "5b63c16cfee24a8da37b64188fa506dd": {
          "model_module": "@jupyter-widgets/controls",
          "model_name": "FloatProgressModel",
          "model_module_version": "1.5.0",
          "state": {
            "_dom_classes": [],
            "_model_module": "@jupyter-widgets/controls",
            "_model_module_version": "1.5.0",
            "_model_name": "FloatProgressModel",
            "_view_count": null,
            "_view_module": "@jupyter-widgets/controls",
            "_view_module_version": "1.5.0",
            "_view_name": "ProgressView",
            "bar_style": "success",
            "description": "",
            "description_tooltip": null,
            "layout": "IPY_MODEL_02e69dd46f414fa5af069c74afbba8a1",
            "max": 231508,
            "min": 0,
            "orientation": "horizontal",
            "style": "IPY_MODEL_0b44abb301de49eabd09e1da4e3f3174",
            "value": 231508
          }
        },
        "962c1e0f304d430db150312763c2b337": {
          "model_module": "@jupyter-widgets/controls",
          "model_name": "HTMLModel",
          "model_module_version": "1.5.0",
          "state": {
            "_dom_classes": [],
            "_model_module": "@jupyter-widgets/controls",
            "_model_module_version": "1.5.0",
            "_model_name": "HTMLModel",
            "_view_count": null,
            "_view_module": "@jupyter-widgets/controls",
            "_view_module_version": "1.5.0",
            "_view_name": "HTMLView",
            "description": "",
            "description_tooltip": null,
            "layout": "IPY_MODEL_ca1a5ebaf17f417cb3d06ab21d2204a8",
            "placeholder": "​",
            "style": "IPY_MODEL_468f8476d66448cd896ccdc006051615",
            "value": " 232k/232k [00:00&lt;00:00, 5.22MB/s]"
          }
        },
        "12ad5ca0d5024876847bfe6158c492b5": {
          "model_module": "@jupyter-widgets/base",
          "model_name": "LayoutModel",
          "model_module_version": "1.2.0",
          "state": {
            "_model_module": "@jupyter-widgets/base",
            "_model_module_version": "1.2.0",
            "_model_name": "LayoutModel",
            "_view_count": null,
            "_view_module": "@jupyter-widgets/base",
            "_view_module_version": "1.2.0",
            "_view_name": "LayoutView",
            "align_content": null,
            "align_items": null,
            "align_self": null,
            "border": null,
            "bottom": null,
            "display": null,
            "flex": null,
            "flex_flow": null,
            "grid_area": null,
            "grid_auto_columns": null,
            "grid_auto_flow": null,
            "grid_auto_rows": null,
            "grid_column": null,
            "grid_gap": null,
            "grid_row": null,
            "grid_template_areas": null,
            "grid_template_columns": null,
            "grid_template_rows": null,
            "height": null,
            "justify_content": null,
            "justify_items": null,
            "left": null,
            "margin": null,
            "max_height": null,
            "max_width": null,
            "min_height": null,
            "min_width": null,
            "object_fit": null,
            "object_position": null,
            "order": null,
            "overflow": null,
            "overflow_x": null,
            "overflow_y": null,
            "padding": null,
            "right": null,
            "top": null,
            "visibility": null,
            "width": null
          }
        },
        "9cc2dbfe604c4127903c8ca28a33dbbe": {
          "model_module": "@jupyter-widgets/base",
          "model_name": "LayoutModel",
          "model_module_version": "1.2.0",
          "state": {
            "_model_module": "@jupyter-widgets/base",
            "_model_module_version": "1.2.0",
            "_model_name": "LayoutModel",
            "_view_count": null,
            "_view_module": "@jupyter-widgets/base",
            "_view_module_version": "1.2.0",
            "_view_name": "LayoutView",
            "align_content": null,
            "align_items": null,
            "align_self": null,
            "border": null,
            "bottom": null,
            "display": null,
            "flex": null,
            "flex_flow": null,
            "grid_area": null,
            "grid_auto_columns": null,
            "grid_auto_flow": null,
            "grid_auto_rows": null,
            "grid_column": null,
            "grid_gap": null,
            "grid_row": null,
            "grid_template_areas": null,
            "grid_template_columns": null,
            "grid_template_rows": null,
            "height": null,
            "justify_content": null,
            "justify_items": null,
            "left": null,
            "margin": null,
            "max_height": null,
            "max_width": null,
            "min_height": null,
            "min_width": null,
            "object_fit": null,
            "object_position": null,
            "order": null,
            "overflow": null,
            "overflow_x": null,
            "overflow_y": null,
            "padding": null,
            "right": null,
            "top": null,
            "visibility": null,
            "width": null
          }
        },
        "a3a2b916b15e452c986ccda1347e59f1": {
          "model_module": "@jupyter-widgets/controls",
          "model_name": "DescriptionStyleModel",
          "model_module_version": "1.5.0",
          "state": {
            "_model_module": "@jupyter-widgets/controls",
            "_model_module_version": "1.5.0",
            "_model_name": "DescriptionStyleModel",
            "_view_count": null,
            "_view_module": "@jupyter-widgets/base",
            "_view_module_version": "1.2.0",
            "_view_name": "StyleView",
            "description_width": ""
          }
        },
        "02e69dd46f414fa5af069c74afbba8a1": {
          "model_module": "@jupyter-widgets/base",
          "model_name": "LayoutModel",
          "model_module_version": "1.2.0",
          "state": {
            "_model_module": "@jupyter-widgets/base",
            "_model_module_version": "1.2.0",
            "_model_name": "LayoutModel",
            "_view_count": null,
            "_view_module": "@jupyter-widgets/base",
            "_view_module_version": "1.2.0",
            "_view_name": "LayoutView",
            "align_content": null,
            "align_items": null,
            "align_self": null,
            "border": null,
            "bottom": null,
            "display": null,
            "flex": null,
            "flex_flow": null,
            "grid_area": null,
            "grid_auto_columns": null,
            "grid_auto_flow": null,
            "grid_auto_rows": null,
            "grid_column": null,
            "grid_gap": null,
            "grid_row": null,
            "grid_template_areas": null,
            "grid_template_columns": null,
            "grid_template_rows": null,
            "height": null,
            "justify_content": null,
            "justify_items": null,
            "left": null,
            "margin": null,
            "max_height": null,
            "max_width": null,
            "min_height": null,
            "min_width": null,
            "object_fit": null,
            "object_position": null,
            "order": null,
            "overflow": null,
            "overflow_x": null,
            "overflow_y": null,
            "padding": null,
            "right": null,
            "top": null,
            "visibility": null,
            "width": null
          }
        },
        "0b44abb301de49eabd09e1da4e3f3174": {
          "model_module": "@jupyter-widgets/controls",
          "model_name": "ProgressStyleModel",
          "model_module_version": "1.5.0",
          "state": {
            "_model_module": "@jupyter-widgets/controls",
            "_model_module_version": "1.5.0",
            "_model_name": "ProgressStyleModel",
            "_view_count": null,
            "_view_module": "@jupyter-widgets/base",
            "_view_module_version": "1.2.0",
            "_view_name": "StyleView",
            "bar_color": null,
            "description_width": ""
          }
        },
        "ca1a5ebaf17f417cb3d06ab21d2204a8": {
          "model_module": "@jupyter-widgets/base",
          "model_name": "LayoutModel",
          "model_module_version": "1.2.0",
          "state": {
            "_model_module": "@jupyter-widgets/base",
            "_model_module_version": "1.2.0",
            "_model_name": "LayoutModel",
            "_view_count": null,
            "_view_module": "@jupyter-widgets/base",
            "_view_module_version": "1.2.0",
            "_view_name": "LayoutView",
            "align_content": null,
            "align_items": null,
            "align_self": null,
            "border": null,
            "bottom": null,
            "display": null,
            "flex": null,
            "flex_flow": null,
            "grid_area": null,
            "grid_auto_columns": null,
            "grid_auto_flow": null,
            "grid_auto_rows": null,
            "grid_column": null,
            "grid_gap": null,
            "grid_row": null,
            "grid_template_areas": null,
            "grid_template_columns": null,
            "grid_template_rows": null,
            "height": null,
            "justify_content": null,
            "justify_items": null,
            "left": null,
            "margin": null,
            "max_height": null,
            "max_width": null,
            "min_height": null,
            "min_width": null,
            "object_fit": null,
            "object_position": null,
            "order": null,
            "overflow": null,
            "overflow_x": null,
            "overflow_y": null,
            "padding": null,
            "right": null,
            "top": null,
            "visibility": null,
            "width": null
          }
        },
        "468f8476d66448cd896ccdc006051615": {
          "model_module": "@jupyter-widgets/controls",
          "model_name": "DescriptionStyleModel",
          "model_module_version": "1.5.0",
          "state": {
            "_model_module": "@jupyter-widgets/controls",
            "_model_module_version": "1.5.0",
            "_model_name": "DescriptionStyleModel",
            "_view_count": null,
            "_view_module": "@jupyter-widgets/base",
            "_view_module_version": "1.2.0",
            "_view_name": "StyleView",
            "description_width": ""
          }
        },
        "106c9dd14c424002bf09531dc09efcd7": {
          "model_module": "@jupyter-widgets/controls",
          "model_name": "HBoxModel",
          "model_module_version": "1.5.0",
          "state": {
            "_dom_classes": [],
            "_model_module": "@jupyter-widgets/controls",
            "_model_module_version": "1.5.0",
            "_model_name": "HBoxModel",
            "_view_count": null,
            "_view_module": "@jupyter-widgets/controls",
            "_view_module_version": "1.5.0",
            "_view_name": "HBoxView",
            "box_style": "",
            "children": [
              "IPY_MODEL_c9444de163ac4985aa5b4d5e7373f561",
              "IPY_MODEL_3028aadc25764773b15a87b81664dced",
              "IPY_MODEL_ad1fd65b28cf4a57ae789a4ae1ab4dcd"
            ],
            "layout": "IPY_MODEL_9643956aa5064a8482ee0e5d46f02b5e"
          }
        },
        "c9444de163ac4985aa5b4d5e7373f561": {
          "model_module": "@jupyter-widgets/controls",
          "model_name": "HTMLModel",
          "model_module_version": "1.5.0",
          "state": {
            "_dom_classes": [],
            "_model_module": "@jupyter-widgets/controls",
            "_model_module_version": "1.5.0",
            "_model_name": "HTMLModel",
            "_view_count": null,
            "_view_module": "@jupyter-widgets/controls",
            "_view_module_version": "1.5.0",
            "_view_name": "HTMLView",
            "description": "",
            "description_tooltip": null,
            "layout": "IPY_MODEL_9cd56a2955b64e0d89948cc90e3557ae",
            "placeholder": "​",
            "style": "IPY_MODEL_e7bca7b3248d4edb89cb03fdc78883f0",
            "value": "tokenizer.json: 100%"
          }
        },
        "3028aadc25764773b15a87b81664dced": {
          "model_module": "@jupyter-widgets/controls",
          "model_name": "FloatProgressModel",
          "model_module_version": "1.5.0",
          "state": {
            "_dom_classes": [],
            "_model_module": "@jupyter-widgets/controls",
            "_model_module_version": "1.5.0",
            "_model_name": "FloatProgressModel",
            "_view_count": null,
            "_view_module": "@jupyter-widgets/controls",
            "_view_module_version": "1.5.0",
            "_view_name": "ProgressView",
            "bar_style": "success",
            "description": "",
            "description_tooltip": null,
            "layout": "IPY_MODEL_d79d3193343d4d55ac4a23935137b40c",
            "max": 711396,
            "min": 0,
            "orientation": "horizontal",
            "style": "IPY_MODEL_502f3644cae84c73933d75f3ee00636e",
            "value": 711396
          }
        },
        "ad1fd65b28cf4a57ae789a4ae1ab4dcd": {
          "model_module": "@jupyter-widgets/controls",
          "model_name": "HTMLModel",
          "model_module_version": "1.5.0",
          "state": {
            "_dom_classes": [],
            "_model_module": "@jupyter-widgets/controls",
            "_model_module_version": "1.5.0",
            "_model_name": "HTMLModel",
            "_view_count": null,
            "_view_module": "@jupyter-widgets/controls",
            "_view_module_version": "1.5.0",
            "_view_name": "HTMLView",
            "description": "",
            "description_tooltip": null,
            "layout": "IPY_MODEL_7264e849ee894a739f78aaf614a9b639",
            "placeholder": "​",
            "style": "IPY_MODEL_78d89ce2d1fe4e1f9448762a14b587d5",
            "value": " 711k/711k [00:00&lt;00:00, 19.8MB/s]"
          }
        },
        "9643956aa5064a8482ee0e5d46f02b5e": {
          "model_module": "@jupyter-widgets/base",
          "model_name": "LayoutModel",
          "model_module_version": "1.2.0",
          "state": {
            "_model_module": "@jupyter-widgets/base",
            "_model_module_version": "1.2.0",
            "_model_name": "LayoutModel",
            "_view_count": null,
            "_view_module": "@jupyter-widgets/base",
            "_view_module_version": "1.2.0",
            "_view_name": "LayoutView",
            "align_content": null,
            "align_items": null,
            "align_self": null,
            "border": null,
            "bottom": null,
            "display": null,
            "flex": null,
            "flex_flow": null,
            "grid_area": null,
            "grid_auto_columns": null,
            "grid_auto_flow": null,
            "grid_auto_rows": null,
            "grid_column": null,
            "grid_gap": null,
            "grid_row": null,
            "grid_template_areas": null,
            "grid_template_columns": null,
            "grid_template_rows": null,
            "height": null,
            "justify_content": null,
            "justify_items": null,
            "left": null,
            "margin": null,
            "max_height": null,
            "max_width": null,
            "min_height": null,
            "min_width": null,
            "object_fit": null,
            "object_position": null,
            "order": null,
            "overflow": null,
            "overflow_x": null,
            "overflow_y": null,
            "padding": null,
            "right": null,
            "top": null,
            "visibility": null,
            "width": null
          }
        },
        "9cd56a2955b64e0d89948cc90e3557ae": {
          "model_module": "@jupyter-widgets/base",
          "model_name": "LayoutModel",
          "model_module_version": "1.2.0",
          "state": {
            "_model_module": "@jupyter-widgets/base",
            "_model_module_version": "1.2.0",
            "_model_name": "LayoutModel",
            "_view_count": null,
            "_view_module": "@jupyter-widgets/base",
            "_view_module_version": "1.2.0",
            "_view_name": "LayoutView",
            "align_content": null,
            "align_items": null,
            "align_self": null,
            "border": null,
            "bottom": null,
            "display": null,
            "flex": null,
            "flex_flow": null,
            "grid_area": null,
            "grid_auto_columns": null,
            "grid_auto_flow": null,
            "grid_auto_rows": null,
            "grid_column": null,
            "grid_gap": null,
            "grid_row": null,
            "grid_template_areas": null,
            "grid_template_columns": null,
            "grid_template_rows": null,
            "height": null,
            "justify_content": null,
            "justify_items": null,
            "left": null,
            "margin": null,
            "max_height": null,
            "max_width": null,
            "min_height": null,
            "min_width": null,
            "object_fit": null,
            "object_position": null,
            "order": null,
            "overflow": null,
            "overflow_x": null,
            "overflow_y": null,
            "padding": null,
            "right": null,
            "top": null,
            "visibility": null,
            "width": null
          }
        },
        "e7bca7b3248d4edb89cb03fdc78883f0": {
          "model_module": "@jupyter-widgets/controls",
          "model_name": "DescriptionStyleModel",
          "model_module_version": "1.5.0",
          "state": {
            "_model_module": "@jupyter-widgets/controls",
            "_model_module_version": "1.5.0",
            "_model_name": "DescriptionStyleModel",
            "_view_count": null,
            "_view_module": "@jupyter-widgets/base",
            "_view_module_version": "1.2.0",
            "_view_name": "StyleView",
            "description_width": ""
          }
        },
        "d79d3193343d4d55ac4a23935137b40c": {
          "model_module": "@jupyter-widgets/base",
          "model_name": "LayoutModel",
          "model_module_version": "1.2.0",
          "state": {
            "_model_module": "@jupyter-widgets/base",
            "_model_module_version": "1.2.0",
            "_model_name": "LayoutModel",
            "_view_count": null,
            "_view_module": "@jupyter-widgets/base",
            "_view_module_version": "1.2.0",
            "_view_name": "LayoutView",
            "align_content": null,
            "align_items": null,
            "align_self": null,
            "border": null,
            "bottom": null,
            "display": null,
            "flex": null,
            "flex_flow": null,
            "grid_area": null,
            "grid_auto_columns": null,
            "grid_auto_flow": null,
            "grid_auto_rows": null,
            "grid_column": null,
            "grid_gap": null,
            "grid_row": null,
            "grid_template_areas": null,
            "grid_template_columns": null,
            "grid_template_rows": null,
            "height": null,
            "justify_content": null,
            "justify_items": null,
            "left": null,
            "margin": null,
            "max_height": null,
            "max_width": null,
            "min_height": null,
            "min_width": null,
            "object_fit": null,
            "object_position": null,
            "order": null,
            "overflow": null,
            "overflow_x": null,
            "overflow_y": null,
            "padding": null,
            "right": null,
            "top": null,
            "visibility": null,
            "width": null
          }
        },
        "502f3644cae84c73933d75f3ee00636e": {
          "model_module": "@jupyter-widgets/controls",
          "model_name": "ProgressStyleModel",
          "model_module_version": "1.5.0",
          "state": {
            "_model_module": "@jupyter-widgets/controls",
            "_model_module_version": "1.5.0",
            "_model_name": "ProgressStyleModel",
            "_view_count": null,
            "_view_module": "@jupyter-widgets/base",
            "_view_module_version": "1.2.0",
            "_view_name": "StyleView",
            "bar_color": null,
            "description_width": ""
          }
        },
        "7264e849ee894a739f78aaf614a9b639": {
          "model_module": "@jupyter-widgets/base",
          "model_name": "LayoutModel",
          "model_module_version": "1.2.0",
          "state": {
            "_model_module": "@jupyter-widgets/base",
            "_model_module_version": "1.2.0",
            "_model_name": "LayoutModel",
            "_view_count": null,
            "_view_module": "@jupyter-widgets/base",
            "_view_module_version": "1.2.0",
            "_view_name": "LayoutView",
            "align_content": null,
            "align_items": null,
            "align_self": null,
            "border": null,
            "bottom": null,
            "display": null,
            "flex": null,
            "flex_flow": null,
            "grid_area": null,
            "grid_auto_columns": null,
            "grid_auto_flow": null,
            "grid_auto_rows": null,
            "grid_column": null,
            "grid_gap": null,
            "grid_row": null,
            "grid_template_areas": null,
            "grid_template_columns": null,
            "grid_template_rows": null,
            "height": null,
            "justify_content": null,
            "justify_items": null,
            "left": null,
            "margin": null,
            "max_height": null,
            "max_width": null,
            "min_height": null,
            "min_width": null,
            "object_fit": null,
            "object_position": null,
            "order": null,
            "overflow": null,
            "overflow_x": null,
            "overflow_y": null,
            "padding": null,
            "right": null,
            "top": null,
            "visibility": null,
            "width": null
          }
        },
        "78d89ce2d1fe4e1f9448762a14b587d5": {
          "model_module": "@jupyter-widgets/controls",
          "model_name": "DescriptionStyleModel",
          "model_module_version": "1.5.0",
          "state": {
            "_model_module": "@jupyter-widgets/controls",
            "_model_module_version": "1.5.0",
            "_model_name": "DescriptionStyleModel",
            "_view_count": null,
            "_view_module": "@jupyter-widgets/base",
            "_view_module_version": "1.2.0",
            "_view_name": "StyleView",
            "description_width": ""
          }
        },
        "32a57cc2d77f4527bcded92f335a2776": {
          "model_module": "@jupyter-widgets/controls",
          "model_name": "HBoxModel",
          "model_module_version": "1.5.0",
          "state": {
            "_dom_classes": [],
            "_model_module": "@jupyter-widgets/controls",
            "_model_module_version": "1.5.0",
            "_model_name": "HBoxModel",
            "_view_count": null,
            "_view_module": "@jupyter-widgets/controls",
            "_view_module_version": "1.5.0",
            "_view_name": "HBoxView",
            "box_style": "",
            "children": [
              "IPY_MODEL_a3446f7a369e45a187597db5616b94a1",
              "IPY_MODEL_70cebae35ad34d179b78458d5ffc7095",
              "IPY_MODEL_5e712a181538470e880b0b6de39b9158"
            ],
            "layout": "IPY_MODEL_26f2d3dcec204e1585140ec518736fca"
          }
        },
        "a3446f7a369e45a187597db5616b94a1": {
          "model_module": "@jupyter-widgets/controls",
          "model_name": "HTMLModel",
          "model_module_version": "1.5.0",
          "state": {
            "_dom_classes": [],
            "_model_module": "@jupyter-widgets/controls",
            "_model_module_version": "1.5.0",
            "_model_name": "HTMLModel",
            "_view_count": null,
            "_view_module": "@jupyter-widgets/controls",
            "_view_module_version": "1.5.0",
            "_view_name": "HTMLView",
            "description": "",
            "description_tooltip": null,
            "layout": "IPY_MODEL_352d02a476e74c748e83f9271650d464",
            "placeholder": "​",
            "style": "IPY_MODEL_8ff53490609f4e96bc5bb06bac819dfa",
            "value": "special_tokens_map.json: 100%"
          }
        },
        "70cebae35ad34d179b78458d5ffc7095": {
          "model_module": "@jupyter-widgets/controls",
          "model_name": "FloatProgressModel",
          "model_module_version": "1.5.0",
          "state": {
            "_dom_classes": [],
            "_model_module": "@jupyter-widgets/controls",
            "_model_module_version": "1.5.0",
            "_model_name": "FloatProgressModel",
            "_view_count": null,
            "_view_module": "@jupyter-widgets/controls",
            "_view_module_version": "1.5.0",
            "_view_name": "ProgressView",
            "bar_style": "success",
            "description": "",
            "description_tooltip": null,
            "layout": "IPY_MODEL_809bc9800397478c9f8c838889bf4cd9",
            "max": 125,
            "min": 0,
            "orientation": "horizontal",
            "style": "IPY_MODEL_de90345c1c5845c490497e9252679de6",
            "value": 125
          }
        },
        "5e712a181538470e880b0b6de39b9158": {
          "model_module": "@jupyter-widgets/controls",
          "model_name": "HTMLModel",
          "model_module_version": "1.5.0",
          "state": {
            "_dom_classes": [],
            "_model_module": "@jupyter-widgets/controls",
            "_model_module_version": "1.5.0",
            "_model_name": "HTMLModel",
            "_view_count": null,
            "_view_module": "@jupyter-widgets/controls",
            "_view_module_version": "1.5.0",
            "_view_name": "HTMLView",
            "description": "",
            "description_tooltip": null,
            "layout": "IPY_MODEL_5648836c8e254825becd08abf90236c4",
            "placeholder": "​",
            "style": "IPY_MODEL_e611c501c2da420d8634425c10a3af46",
            "value": " 125/125 [00:00&lt;00:00, 6.50kB/s]"
          }
        },
        "26f2d3dcec204e1585140ec518736fca": {
          "model_module": "@jupyter-widgets/base",
          "model_name": "LayoutModel",
          "model_module_version": "1.2.0",
          "state": {
            "_model_module": "@jupyter-widgets/base",
            "_model_module_version": "1.2.0",
            "_model_name": "LayoutModel",
            "_view_count": null,
            "_view_module": "@jupyter-widgets/base",
            "_view_module_version": "1.2.0",
            "_view_name": "LayoutView",
            "align_content": null,
            "align_items": null,
            "align_self": null,
            "border": null,
            "bottom": null,
            "display": null,
            "flex": null,
            "flex_flow": null,
            "grid_area": null,
            "grid_auto_columns": null,
            "grid_auto_flow": null,
            "grid_auto_rows": null,
            "grid_column": null,
            "grid_gap": null,
            "grid_row": null,
            "grid_template_areas": null,
            "grid_template_columns": null,
            "grid_template_rows": null,
            "height": null,
            "justify_content": null,
            "justify_items": null,
            "left": null,
            "margin": null,
            "max_height": null,
            "max_width": null,
            "min_height": null,
            "min_width": null,
            "object_fit": null,
            "object_position": null,
            "order": null,
            "overflow": null,
            "overflow_x": null,
            "overflow_y": null,
            "padding": null,
            "right": null,
            "top": null,
            "visibility": null,
            "width": null
          }
        },
        "352d02a476e74c748e83f9271650d464": {
          "model_module": "@jupyter-widgets/base",
          "model_name": "LayoutModel",
          "model_module_version": "1.2.0",
          "state": {
            "_model_module": "@jupyter-widgets/base",
            "_model_module_version": "1.2.0",
            "_model_name": "LayoutModel",
            "_view_count": null,
            "_view_module": "@jupyter-widgets/base",
            "_view_module_version": "1.2.0",
            "_view_name": "LayoutView",
            "align_content": null,
            "align_items": null,
            "align_self": null,
            "border": null,
            "bottom": null,
            "display": null,
            "flex": null,
            "flex_flow": null,
            "grid_area": null,
            "grid_auto_columns": null,
            "grid_auto_flow": null,
            "grid_auto_rows": null,
            "grid_column": null,
            "grid_gap": null,
            "grid_row": null,
            "grid_template_areas": null,
            "grid_template_columns": null,
            "grid_template_rows": null,
            "height": null,
            "justify_content": null,
            "justify_items": null,
            "left": null,
            "margin": null,
            "max_height": null,
            "max_width": null,
            "min_height": null,
            "min_width": null,
            "object_fit": null,
            "object_position": null,
            "order": null,
            "overflow": null,
            "overflow_x": null,
            "overflow_y": null,
            "padding": null,
            "right": null,
            "top": null,
            "visibility": null,
            "width": null
          }
        },
        "8ff53490609f4e96bc5bb06bac819dfa": {
          "model_module": "@jupyter-widgets/controls",
          "model_name": "DescriptionStyleModel",
          "model_module_version": "1.5.0",
          "state": {
            "_model_module": "@jupyter-widgets/controls",
            "_model_module_version": "1.5.0",
            "_model_name": "DescriptionStyleModel",
            "_view_count": null,
            "_view_module": "@jupyter-widgets/base",
            "_view_module_version": "1.2.0",
            "_view_name": "StyleView",
            "description_width": ""
          }
        },
        "809bc9800397478c9f8c838889bf4cd9": {
          "model_module": "@jupyter-widgets/base",
          "model_name": "LayoutModel",
          "model_module_version": "1.2.0",
          "state": {
            "_model_module": "@jupyter-widgets/base",
            "_model_module_version": "1.2.0",
            "_model_name": "LayoutModel",
            "_view_count": null,
            "_view_module": "@jupyter-widgets/base",
            "_view_module_version": "1.2.0",
            "_view_name": "LayoutView",
            "align_content": null,
            "align_items": null,
            "align_self": null,
            "border": null,
            "bottom": null,
            "display": null,
            "flex": null,
            "flex_flow": null,
            "grid_area": null,
            "grid_auto_columns": null,
            "grid_auto_flow": null,
            "grid_auto_rows": null,
            "grid_column": null,
            "grid_gap": null,
            "grid_row": null,
            "grid_template_areas": null,
            "grid_template_columns": null,
            "grid_template_rows": null,
            "height": null,
            "justify_content": null,
            "justify_items": null,
            "left": null,
            "margin": null,
            "max_height": null,
            "max_width": null,
            "min_height": null,
            "min_width": null,
            "object_fit": null,
            "object_position": null,
            "order": null,
            "overflow": null,
            "overflow_x": null,
            "overflow_y": null,
            "padding": null,
            "right": null,
            "top": null,
            "visibility": null,
            "width": null
          }
        },
        "de90345c1c5845c490497e9252679de6": {
          "model_module": "@jupyter-widgets/controls",
          "model_name": "ProgressStyleModel",
          "model_module_version": "1.5.0",
          "state": {
            "_model_module": "@jupyter-widgets/controls",
            "_model_module_version": "1.5.0",
            "_model_name": "ProgressStyleModel",
            "_view_count": null,
            "_view_module": "@jupyter-widgets/base",
            "_view_module_version": "1.2.0",
            "_view_name": "StyleView",
            "bar_color": null,
            "description_width": ""
          }
        },
        "5648836c8e254825becd08abf90236c4": {
          "model_module": "@jupyter-widgets/base",
          "model_name": "LayoutModel",
          "model_module_version": "1.2.0",
          "state": {
            "_model_module": "@jupyter-widgets/base",
            "_model_module_version": "1.2.0",
            "_model_name": "LayoutModel",
            "_view_count": null,
            "_view_module": "@jupyter-widgets/base",
            "_view_module_version": "1.2.0",
            "_view_name": "LayoutView",
            "align_content": null,
            "align_items": null,
            "align_self": null,
            "border": null,
            "bottom": null,
            "display": null,
            "flex": null,
            "flex_flow": null,
            "grid_area": null,
            "grid_auto_columns": null,
            "grid_auto_flow": null,
            "grid_auto_rows": null,
            "grid_column": null,
            "grid_gap": null,
            "grid_row": null,
            "grid_template_areas": null,
            "grid_template_columns": null,
            "grid_template_rows": null,
            "height": null,
            "justify_content": null,
            "justify_items": null,
            "left": null,
            "margin": null,
            "max_height": null,
            "max_width": null,
            "min_height": null,
            "min_width": null,
            "object_fit": null,
            "object_position": null,
            "order": null,
            "overflow": null,
            "overflow_x": null,
            "overflow_y": null,
            "padding": null,
            "right": null,
            "top": null,
            "visibility": null,
            "width": null
          }
        },
        "e611c501c2da420d8634425c10a3af46": {
          "model_module": "@jupyter-widgets/controls",
          "model_name": "DescriptionStyleModel",
          "model_module_version": "1.5.0",
          "state": {
            "_model_module": "@jupyter-widgets/controls",
            "_model_module_version": "1.5.0",
            "_model_name": "DescriptionStyleModel",
            "_view_count": null,
            "_view_module": "@jupyter-widgets/base",
            "_view_module_version": "1.2.0",
            "_view_name": "StyleView",
            "description_width": ""
          }
        },
        "127253dd1f624789b18ab25ff2522080": {
          "model_module": "@jupyter-widgets/controls",
          "model_name": "HBoxModel",
          "model_module_version": "1.5.0",
          "state": {
            "_dom_classes": [],
            "_model_module": "@jupyter-widgets/controls",
            "_model_module_version": "1.5.0",
            "_model_name": "HBoxModel",
            "_view_count": null,
            "_view_module": "@jupyter-widgets/controls",
            "_view_module_version": "1.5.0",
            "_view_name": "HBoxView",
            "box_style": "",
            "children": [
              "IPY_MODEL_fb5a97f1c9ea43358ff0e2b755114b61",
              "IPY_MODEL_4ccdb48d97cb4c99b4f2fbc9fc34d364",
              "IPY_MODEL_936cee9fc89e47a994e26f99d9ac117d"
            ],
            "layout": "IPY_MODEL_c77b7386c0f7461baad7e301fc3ffca1"
          }
        },
        "fb5a97f1c9ea43358ff0e2b755114b61": {
          "model_module": "@jupyter-widgets/controls",
          "model_name": "HTMLModel",
          "model_module_version": "1.5.0",
          "state": {
            "_dom_classes": [],
            "_model_module": "@jupyter-widgets/controls",
            "_model_module_version": "1.5.0",
            "_model_name": "HTMLModel",
            "_view_count": null,
            "_view_module": "@jupyter-widgets/controls",
            "_view_module_version": "1.5.0",
            "_view_name": "HTMLView",
            "description": "",
            "description_tooltip": null,
            "layout": "IPY_MODEL_de633577a65b4c50937058f07722e1ce",
            "placeholder": "​",
            "style": "IPY_MODEL_d85a16b527db4e89b611d77b0ae2a82d",
            "value": "config.json: 100%"
          }
        },
        "4ccdb48d97cb4c99b4f2fbc9fc34d364": {
          "model_module": "@jupyter-widgets/controls",
          "model_name": "FloatProgressModel",
          "model_module_version": "1.5.0",
          "state": {
            "_dom_classes": [],
            "_model_module": "@jupyter-widgets/controls",
            "_model_module_version": "1.5.0",
            "_model_name": "FloatProgressModel",
            "_view_count": null,
            "_view_module": "@jupyter-widgets/controls",
            "_view_module_version": "1.5.0",
            "_view_name": "ProgressView",
            "bar_style": "success",
            "description": "",
            "description_tooltip": null,
            "layout": "IPY_MODEL_d7b8c641744d4c1ca910b67c4934621a",
            "max": 4563,
            "min": 0,
            "orientation": "horizontal",
            "style": "IPY_MODEL_746c87efd070454aaa069aac61218b90",
            "value": 4563
          }
        },
        "936cee9fc89e47a994e26f99d9ac117d": {
          "model_module": "@jupyter-widgets/controls",
          "model_name": "HTMLModel",
          "model_module_version": "1.5.0",
          "state": {
            "_dom_classes": [],
            "_model_module": "@jupyter-widgets/controls",
            "_model_module_version": "1.5.0",
            "_model_name": "HTMLModel",
            "_view_count": null,
            "_view_module": "@jupyter-widgets/controls",
            "_view_module_version": "1.5.0",
            "_view_name": "HTMLView",
            "description": "",
            "description_tooltip": null,
            "layout": "IPY_MODEL_8e6bd10e9e9e4cfd9c6512a03d6cd715",
            "placeholder": "​",
            "style": "IPY_MODEL_dac42e61d79749749d449ec3928132a6",
            "value": " 4.56k/4.56k [00:00&lt;00:00, 143kB/s]"
          }
        },
        "c77b7386c0f7461baad7e301fc3ffca1": {
          "model_module": "@jupyter-widgets/base",
          "model_name": "LayoutModel",
          "model_module_version": "1.2.0",
          "state": {
            "_model_module": "@jupyter-widgets/base",
            "_model_module_version": "1.2.0",
            "_model_name": "LayoutModel",
            "_view_count": null,
            "_view_module": "@jupyter-widgets/base",
            "_view_module_version": "1.2.0",
            "_view_name": "LayoutView",
            "align_content": null,
            "align_items": null,
            "align_self": null,
            "border": null,
            "bottom": null,
            "display": null,
            "flex": null,
            "flex_flow": null,
            "grid_area": null,
            "grid_auto_columns": null,
            "grid_auto_flow": null,
            "grid_auto_rows": null,
            "grid_column": null,
            "grid_gap": null,
            "grid_row": null,
            "grid_template_areas": null,
            "grid_template_columns": null,
            "grid_template_rows": null,
            "height": null,
            "justify_content": null,
            "justify_items": null,
            "left": null,
            "margin": null,
            "max_height": null,
            "max_width": null,
            "min_height": null,
            "min_width": null,
            "object_fit": null,
            "object_position": null,
            "order": null,
            "overflow": null,
            "overflow_x": null,
            "overflow_y": null,
            "padding": null,
            "right": null,
            "top": null,
            "visibility": null,
            "width": null
          }
        },
        "de633577a65b4c50937058f07722e1ce": {
          "model_module": "@jupyter-widgets/base",
          "model_name": "LayoutModel",
          "model_module_version": "1.2.0",
          "state": {
            "_model_module": "@jupyter-widgets/base",
            "_model_module_version": "1.2.0",
            "_model_name": "LayoutModel",
            "_view_count": null,
            "_view_module": "@jupyter-widgets/base",
            "_view_module_version": "1.2.0",
            "_view_name": "LayoutView",
            "align_content": null,
            "align_items": null,
            "align_self": null,
            "border": null,
            "bottom": null,
            "display": null,
            "flex": null,
            "flex_flow": null,
            "grid_area": null,
            "grid_auto_columns": null,
            "grid_auto_flow": null,
            "grid_auto_rows": null,
            "grid_column": null,
            "grid_gap": null,
            "grid_row": null,
            "grid_template_areas": null,
            "grid_template_columns": null,
            "grid_template_rows": null,
            "height": null,
            "justify_content": null,
            "justify_items": null,
            "left": null,
            "margin": null,
            "max_height": null,
            "max_width": null,
            "min_height": null,
            "min_width": null,
            "object_fit": null,
            "object_position": null,
            "order": null,
            "overflow": null,
            "overflow_x": null,
            "overflow_y": null,
            "padding": null,
            "right": null,
            "top": null,
            "visibility": null,
            "width": null
          }
        },
        "d85a16b527db4e89b611d77b0ae2a82d": {
          "model_module": "@jupyter-widgets/controls",
          "model_name": "DescriptionStyleModel",
          "model_module_version": "1.5.0",
          "state": {
            "_model_module": "@jupyter-widgets/controls",
            "_model_module_version": "1.5.0",
            "_model_name": "DescriptionStyleModel",
            "_view_count": null,
            "_view_module": "@jupyter-widgets/base",
            "_view_module_version": "1.2.0",
            "_view_name": "StyleView",
            "description_width": ""
          }
        },
        "d7b8c641744d4c1ca910b67c4934621a": {
          "model_module": "@jupyter-widgets/base",
          "model_name": "LayoutModel",
          "model_module_version": "1.2.0",
          "state": {
            "_model_module": "@jupyter-widgets/base",
            "_model_module_version": "1.2.0",
            "_model_name": "LayoutModel",
            "_view_count": null,
            "_view_module": "@jupyter-widgets/base",
            "_view_module_version": "1.2.0",
            "_view_name": "LayoutView",
            "align_content": null,
            "align_items": null,
            "align_self": null,
            "border": null,
            "bottom": null,
            "display": null,
            "flex": null,
            "flex_flow": null,
            "grid_area": null,
            "grid_auto_columns": null,
            "grid_auto_flow": null,
            "grid_auto_rows": null,
            "grid_column": null,
            "grid_gap": null,
            "grid_row": null,
            "grid_template_areas": null,
            "grid_template_columns": null,
            "grid_template_rows": null,
            "height": null,
            "justify_content": null,
            "justify_items": null,
            "left": null,
            "margin": null,
            "max_height": null,
            "max_width": null,
            "min_height": null,
            "min_width": null,
            "object_fit": null,
            "object_position": null,
            "order": null,
            "overflow": null,
            "overflow_x": null,
            "overflow_y": null,
            "padding": null,
            "right": null,
            "top": null,
            "visibility": null,
            "width": null
          }
        },
        "746c87efd070454aaa069aac61218b90": {
          "model_module": "@jupyter-widgets/controls",
          "model_name": "ProgressStyleModel",
          "model_module_version": "1.5.0",
          "state": {
            "_model_module": "@jupyter-widgets/controls",
            "_model_module_version": "1.5.0",
            "_model_name": "ProgressStyleModel",
            "_view_count": null,
            "_view_module": "@jupyter-widgets/base",
            "_view_module_version": "1.2.0",
            "_view_name": "StyleView",
            "bar_color": null,
            "description_width": ""
          }
        },
        "8e6bd10e9e9e4cfd9c6512a03d6cd715": {
          "model_module": "@jupyter-widgets/base",
          "model_name": "LayoutModel",
          "model_module_version": "1.2.0",
          "state": {
            "_model_module": "@jupyter-widgets/base",
            "_model_module_version": "1.2.0",
            "_model_name": "LayoutModel",
            "_view_count": null,
            "_view_module": "@jupyter-widgets/base",
            "_view_module_version": "1.2.0",
            "_view_name": "LayoutView",
            "align_content": null,
            "align_items": null,
            "align_self": null,
            "border": null,
            "bottom": null,
            "display": null,
            "flex": null,
            "flex_flow": null,
            "grid_area": null,
            "grid_auto_columns": null,
            "grid_auto_flow": null,
            "grid_auto_rows": null,
            "grid_column": null,
            "grid_gap": null,
            "grid_row": null,
            "grid_template_areas": null,
            "grid_template_columns": null,
            "grid_template_rows": null,
            "height": null,
            "justify_content": null,
            "justify_items": null,
            "left": null,
            "margin": null,
            "max_height": null,
            "max_width": null,
            "min_height": null,
            "min_width": null,
            "object_fit": null,
            "object_position": null,
            "order": null,
            "overflow": null,
            "overflow_x": null,
            "overflow_y": null,
            "padding": null,
            "right": null,
            "top": null,
            "visibility": null,
            "width": null
          }
        },
        "dac42e61d79749749d449ec3928132a6": {
          "model_module": "@jupyter-widgets/controls",
          "model_name": "DescriptionStyleModel",
          "model_module_version": "1.5.0",
          "state": {
            "_model_module": "@jupyter-widgets/controls",
            "_model_module_version": "1.5.0",
            "_model_name": "DescriptionStyleModel",
            "_view_count": null,
            "_view_module": "@jupyter-widgets/base",
            "_view_module_version": "1.2.0",
            "_view_name": "StyleView",
            "description_width": ""
          }
        },
        "b5ce5030cda84adf8cc562a3a2ac3725": {
          "model_module": "@jupyter-widgets/controls",
          "model_name": "HBoxModel",
          "model_module_version": "1.5.0",
          "state": {
            "_dom_classes": [],
            "_model_module": "@jupyter-widgets/controls",
            "_model_module_version": "1.5.0",
            "_model_name": "HBoxModel",
            "_view_count": null,
            "_view_module": "@jupyter-widgets/controls",
            "_view_module_version": "1.5.0",
            "_view_name": "HBoxView",
            "box_style": "",
            "children": [
              "IPY_MODEL_4389d119c5234e799fba57e81f41f42b",
              "IPY_MODEL_1d21f4a682974d27abd06cc93b31b0a8",
              "IPY_MODEL_f4fadc3382884896bc3f3a8e386ce478"
            ],
            "layout": "IPY_MODEL_6f0ce89790404a07a9e382a95cb57c35"
          }
        },
        "4389d119c5234e799fba57e81f41f42b": {
          "model_module": "@jupyter-widgets/controls",
          "model_name": "HTMLModel",
          "model_module_version": "1.5.0",
          "state": {
            "_dom_classes": [],
            "_model_module": "@jupyter-widgets/controls",
            "_model_module_version": "1.5.0",
            "_model_name": "HTMLModel",
            "_view_count": null,
            "_view_module": "@jupyter-widgets/controls",
            "_view_module_version": "1.5.0",
            "_view_name": "HTMLView",
            "description": "",
            "description_tooltip": null,
            "layout": "IPY_MODEL_bef08b9c654e42218f4311d8e8e25cca",
            "placeholder": "​",
            "style": "IPY_MODEL_cc109704afc644b7b95c0c396e9027b8",
            "value": "pytorch_model.bin: 100%"
          }
        },
        "1d21f4a682974d27abd06cc93b31b0a8": {
          "model_module": "@jupyter-widgets/controls",
          "model_name": "FloatProgressModel",
          "model_module_version": "1.5.0",
          "state": {
            "_dom_classes": [],
            "_model_module": "@jupyter-widgets/controls",
            "_model_module_version": "1.5.0",
            "_model_name": "FloatProgressModel",
            "_view_count": null,
            "_view_module": "@jupyter-widgets/controls",
            "_view_module_version": "1.5.0",
            "_view_name": "ProgressView",
            "bar_style": "success",
            "description": "",
            "description_tooltip": null,
            "layout": "IPY_MODEL_21f3f589fade4031876ad348311af03c",
            "max": 989820849,
            "min": 0,
            "orientation": "horizontal",
            "style": "IPY_MODEL_b6a0f6b6b6034d20b1154cfb3b7b4a6e",
            "value": 989820849
          }
        },
        "f4fadc3382884896bc3f3a8e386ce478": {
          "model_module": "@jupyter-widgets/controls",
          "model_name": "HTMLModel",
          "model_module_version": "1.5.0",
          "state": {
            "_dom_classes": [],
            "_model_module": "@jupyter-widgets/controls",
            "_model_module_version": "1.5.0",
            "_model_name": "HTMLModel",
            "_view_count": null,
            "_view_module": "@jupyter-widgets/controls",
            "_view_module_version": "1.5.0",
            "_view_name": "HTMLView",
            "description": "",
            "description_tooltip": null,
            "layout": "IPY_MODEL_e8d46522338e4114b468a2a0f284e4ef",
            "placeholder": "​",
            "style": "IPY_MODEL_f49aaacf9d3844bcbffe88712807b6ea",
            "value": " 990M/990M [00:10&lt;00:00, 155MB/s]"
          }
        },
        "6f0ce89790404a07a9e382a95cb57c35": {
          "model_module": "@jupyter-widgets/base",
          "model_name": "LayoutModel",
          "model_module_version": "1.2.0",
          "state": {
            "_model_module": "@jupyter-widgets/base",
            "_model_module_version": "1.2.0",
            "_model_name": "LayoutModel",
            "_view_count": null,
            "_view_module": "@jupyter-widgets/base",
            "_view_module_version": "1.2.0",
            "_view_name": "LayoutView",
            "align_content": null,
            "align_items": null,
            "align_self": null,
            "border": null,
            "bottom": null,
            "display": null,
            "flex": null,
            "flex_flow": null,
            "grid_area": null,
            "grid_auto_columns": null,
            "grid_auto_flow": null,
            "grid_auto_rows": null,
            "grid_column": null,
            "grid_gap": null,
            "grid_row": null,
            "grid_template_areas": null,
            "grid_template_columns": null,
            "grid_template_rows": null,
            "height": null,
            "justify_content": null,
            "justify_items": null,
            "left": null,
            "margin": null,
            "max_height": null,
            "max_width": null,
            "min_height": null,
            "min_width": null,
            "object_fit": null,
            "object_position": null,
            "order": null,
            "overflow": null,
            "overflow_x": null,
            "overflow_y": null,
            "padding": null,
            "right": null,
            "top": null,
            "visibility": null,
            "width": null
          }
        },
        "bef08b9c654e42218f4311d8e8e25cca": {
          "model_module": "@jupyter-widgets/base",
          "model_name": "LayoutModel",
          "model_module_version": "1.2.0",
          "state": {
            "_model_module": "@jupyter-widgets/base",
            "_model_module_version": "1.2.0",
            "_model_name": "LayoutModel",
            "_view_count": null,
            "_view_module": "@jupyter-widgets/base",
            "_view_module_version": "1.2.0",
            "_view_name": "LayoutView",
            "align_content": null,
            "align_items": null,
            "align_self": null,
            "border": null,
            "bottom": null,
            "display": null,
            "flex": null,
            "flex_flow": null,
            "grid_area": null,
            "grid_auto_columns": null,
            "grid_auto_flow": null,
            "grid_auto_rows": null,
            "grid_column": null,
            "grid_gap": null,
            "grid_row": null,
            "grid_template_areas": null,
            "grid_template_columns": null,
            "grid_template_rows": null,
            "height": null,
            "justify_content": null,
            "justify_items": null,
            "left": null,
            "margin": null,
            "max_height": null,
            "max_width": null,
            "min_height": null,
            "min_width": null,
            "object_fit": null,
            "object_position": null,
            "order": null,
            "overflow": null,
            "overflow_x": null,
            "overflow_y": null,
            "padding": null,
            "right": null,
            "top": null,
            "visibility": null,
            "width": null
          }
        },
        "cc109704afc644b7b95c0c396e9027b8": {
          "model_module": "@jupyter-widgets/controls",
          "model_name": "DescriptionStyleModel",
          "model_module_version": "1.5.0",
          "state": {
            "_model_module": "@jupyter-widgets/controls",
            "_model_module_version": "1.5.0",
            "_model_name": "DescriptionStyleModel",
            "_view_count": null,
            "_view_module": "@jupyter-widgets/base",
            "_view_module_version": "1.2.0",
            "_view_name": "StyleView",
            "description_width": ""
          }
        },
        "21f3f589fade4031876ad348311af03c": {
          "model_module": "@jupyter-widgets/base",
          "model_name": "LayoutModel",
          "model_module_version": "1.2.0",
          "state": {
            "_model_module": "@jupyter-widgets/base",
            "_model_module_version": "1.2.0",
            "_model_name": "LayoutModel",
            "_view_count": null,
            "_view_module": "@jupyter-widgets/base",
            "_view_module_version": "1.2.0",
            "_view_name": "LayoutView",
            "align_content": null,
            "align_items": null,
            "align_self": null,
            "border": null,
            "bottom": null,
            "display": null,
            "flex": null,
            "flex_flow": null,
            "grid_area": null,
            "grid_auto_columns": null,
            "grid_auto_flow": null,
            "grid_auto_rows": null,
            "grid_column": null,
            "grid_gap": null,
            "grid_row": null,
            "grid_template_areas": null,
            "grid_template_columns": null,
            "grid_template_rows": null,
            "height": null,
            "justify_content": null,
            "justify_items": null,
            "left": null,
            "margin": null,
            "max_height": null,
            "max_width": null,
            "min_height": null,
            "min_width": null,
            "object_fit": null,
            "object_position": null,
            "order": null,
            "overflow": null,
            "overflow_x": null,
            "overflow_y": null,
            "padding": null,
            "right": null,
            "top": null,
            "visibility": null,
            "width": null
          }
        },
        "b6a0f6b6b6034d20b1154cfb3b7b4a6e": {
          "model_module": "@jupyter-widgets/controls",
          "model_name": "ProgressStyleModel",
          "model_module_version": "1.5.0",
          "state": {
            "_model_module": "@jupyter-widgets/controls",
            "_model_module_version": "1.5.0",
            "_model_name": "ProgressStyleModel",
            "_view_count": null,
            "_view_module": "@jupyter-widgets/base",
            "_view_module_version": "1.2.0",
            "_view_name": "StyleView",
            "bar_color": null,
            "description_width": ""
          }
        },
        "e8d46522338e4114b468a2a0f284e4ef": {
          "model_module": "@jupyter-widgets/base",
          "model_name": "LayoutModel",
          "model_module_version": "1.2.0",
          "state": {
            "_model_module": "@jupyter-widgets/base",
            "_model_module_version": "1.2.0",
            "_model_name": "LayoutModel",
            "_view_count": null,
            "_view_module": "@jupyter-widgets/base",
            "_view_module_version": "1.2.0",
            "_view_name": "LayoutView",
            "align_content": null,
            "align_items": null,
            "align_self": null,
            "border": null,
            "bottom": null,
            "display": null,
            "flex": null,
            "flex_flow": null,
            "grid_area": null,
            "grid_auto_columns": null,
            "grid_auto_flow": null,
            "grid_auto_rows": null,
            "grid_column": null,
            "grid_gap": null,
            "grid_row": null,
            "grid_template_areas": null,
            "grid_template_columns": null,
            "grid_template_rows": null,
            "height": null,
            "justify_content": null,
            "justify_items": null,
            "left": null,
            "margin": null,
            "max_height": null,
            "max_width": null,
            "min_height": null,
            "min_width": null,
            "object_fit": null,
            "object_position": null,
            "order": null,
            "overflow": null,
            "overflow_x": null,
            "overflow_y": null,
            "padding": null,
            "right": null,
            "top": null,
            "visibility": null,
            "width": null
          }
        },
        "f49aaacf9d3844bcbffe88712807b6ea": {
          "model_module": "@jupyter-widgets/controls",
          "model_name": "DescriptionStyleModel",
          "model_module_version": "1.5.0",
          "state": {
            "_model_module": "@jupyter-widgets/controls",
            "_model_module_version": "1.5.0",
            "_model_name": "DescriptionStyleModel",
            "_view_count": null,
            "_view_module": "@jupyter-widgets/base",
            "_view_module_version": "1.2.0",
            "_view_name": "StyleView",
            "description_width": ""
          }
        },
        "f4456372f50642128b349eae552b6daf": {
          "model_module": "@jupyter-widgets/controls",
          "model_name": "HBoxModel",
          "model_module_version": "1.5.0",
          "state": {
            "_dom_classes": [],
            "_model_module": "@jupyter-widgets/controls",
            "_model_module_version": "1.5.0",
            "_model_name": "HBoxModel",
            "_view_count": null,
            "_view_module": "@jupyter-widgets/controls",
            "_view_module_version": "1.5.0",
            "_view_name": "HBoxView",
            "box_style": "",
            "children": [
              "IPY_MODEL_39a43984e5704520b1195ee0eadf5fe2",
              "IPY_MODEL_33ad229aebe14ddbb24a3f3885b64bc9",
              "IPY_MODEL_effcb1c337e84a419bb95e123214b362"
            ],
            "layout": "IPY_MODEL_a812d2c89ed447428dd7ca721ebb8f4c"
          }
        },
        "39a43984e5704520b1195ee0eadf5fe2": {
          "model_module": "@jupyter-widgets/controls",
          "model_name": "HTMLModel",
          "model_module_version": "1.5.0",
          "state": {
            "_dom_classes": [],
            "_model_module": "@jupyter-widgets/controls",
            "_model_module_version": "1.5.0",
            "_model_name": "HTMLModel",
            "_view_count": null,
            "_view_module": "@jupyter-widgets/controls",
            "_view_module_version": "1.5.0",
            "_view_name": "HTMLView",
            "description": "",
            "description_tooltip": null,
            "layout": "IPY_MODEL_c1ba40494cf04abd804ebbd1e2677aad",
            "placeholder": "​",
            "style": "IPY_MODEL_1e5fee5954fb4a75a515d683092eb9ac",
            "value": "spiece.model: 100%"
          }
        },
        "33ad229aebe14ddbb24a3f3885b64bc9": {
          "model_module": "@jupyter-widgets/controls",
          "model_name": "FloatProgressModel",
          "model_module_version": "1.5.0",
          "state": {
            "_dom_classes": [],
            "_model_module": "@jupyter-widgets/controls",
            "_model_module_version": "1.5.0",
            "_model_name": "FloatProgressModel",
            "_view_count": null,
            "_view_module": "@jupyter-widgets/controls",
            "_view_module_version": "1.5.0",
            "_view_name": "ProgressView",
            "bar_style": "success",
            "description": "",
            "description_tooltip": null,
            "layout": "IPY_MODEL_3e45ef29f905439289912fde3a285579",
            "max": 791656,
            "min": 0,
            "orientation": "horizontal",
            "style": "IPY_MODEL_80069aac9efc4d32a45e040006894117",
            "value": 791656
          }
        },
        "effcb1c337e84a419bb95e123214b362": {
          "model_module": "@jupyter-widgets/controls",
          "model_name": "HTMLModel",
          "model_module_version": "1.5.0",
          "state": {
            "_dom_classes": [],
            "_model_module": "@jupyter-widgets/controls",
            "_model_module_version": "1.5.0",
            "_model_name": "HTMLModel",
            "_view_count": null,
            "_view_module": "@jupyter-widgets/controls",
            "_view_module_version": "1.5.0",
            "_view_name": "HTMLView",
            "description": "",
            "description_tooltip": null,
            "layout": "IPY_MODEL_bb6887c130b84269ac87f3d4fd528ba0",
            "placeholder": "​",
            "style": "IPY_MODEL_ca8bbd86b2cf4ce2b8b0de6e54c6d8b8",
            "value": " 792k/792k [00:00&lt;00:00, 29.1MB/s]"
          }
        },
        "a812d2c89ed447428dd7ca721ebb8f4c": {
          "model_module": "@jupyter-widgets/base",
          "model_name": "LayoutModel",
          "model_module_version": "1.2.0",
          "state": {
            "_model_module": "@jupyter-widgets/base",
            "_model_module_version": "1.2.0",
            "_model_name": "LayoutModel",
            "_view_count": null,
            "_view_module": "@jupyter-widgets/base",
            "_view_module_version": "1.2.0",
            "_view_name": "LayoutView",
            "align_content": null,
            "align_items": null,
            "align_self": null,
            "border": null,
            "bottom": null,
            "display": null,
            "flex": null,
            "flex_flow": null,
            "grid_area": null,
            "grid_auto_columns": null,
            "grid_auto_flow": null,
            "grid_auto_rows": null,
            "grid_column": null,
            "grid_gap": null,
            "grid_row": null,
            "grid_template_areas": null,
            "grid_template_columns": null,
            "grid_template_rows": null,
            "height": null,
            "justify_content": null,
            "justify_items": null,
            "left": null,
            "margin": null,
            "max_height": null,
            "max_width": null,
            "min_height": null,
            "min_width": null,
            "object_fit": null,
            "object_position": null,
            "order": null,
            "overflow": null,
            "overflow_x": null,
            "overflow_y": null,
            "padding": null,
            "right": null,
            "top": null,
            "visibility": null,
            "width": null
          }
        },
        "c1ba40494cf04abd804ebbd1e2677aad": {
          "model_module": "@jupyter-widgets/base",
          "model_name": "LayoutModel",
          "model_module_version": "1.2.0",
          "state": {
            "_model_module": "@jupyter-widgets/base",
            "_model_module_version": "1.2.0",
            "_model_name": "LayoutModel",
            "_view_count": null,
            "_view_module": "@jupyter-widgets/base",
            "_view_module_version": "1.2.0",
            "_view_name": "LayoutView",
            "align_content": null,
            "align_items": null,
            "align_self": null,
            "border": null,
            "bottom": null,
            "display": null,
            "flex": null,
            "flex_flow": null,
            "grid_area": null,
            "grid_auto_columns": null,
            "grid_auto_flow": null,
            "grid_auto_rows": null,
            "grid_column": null,
            "grid_gap": null,
            "grid_row": null,
            "grid_template_areas": null,
            "grid_template_columns": null,
            "grid_template_rows": null,
            "height": null,
            "justify_content": null,
            "justify_items": null,
            "left": null,
            "margin": null,
            "max_height": null,
            "max_width": null,
            "min_height": null,
            "min_width": null,
            "object_fit": null,
            "object_position": null,
            "order": null,
            "overflow": null,
            "overflow_x": null,
            "overflow_y": null,
            "padding": null,
            "right": null,
            "top": null,
            "visibility": null,
            "width": null
          }
        },
        "1e5fee5954fb4a75a515d683092eb9ac": {
          "model_module": "@jupyter-widgets/controls",
          "model_name": "DescriptionStyleModel",
          "model_module_version": "1.5.0",
          "state": {
            "_model_module": "@jupyter-widgets/controls",
            "_model_module_version": "1.5.0",
            "_model_name": "DescriptionStyleModel",
            "_view_count": null,
            "_view_module": "@jupyter-widgets/base",
            "_view_module_version": "1.2.0",
            "_view_name": "StyleView",
            "description_width": ""
          }
        },
        "3e45ef29f905439289912fde3a285579": {
          "model_module": "@jupyter-widgets/base",
          "model_name": "LayoutModel",
          "model_module_version": "1.2.0",
          "state": {
            "_model_module": "@jupyter-widgets/base",
            "_model_module_version": "1.2.0",
            "_model_name": "LayoutModel",
            "_view_count": null,
            "_view_module": "@jupyter-widgets/base",
            "_view_module_version": "1.2.0",
            "_view_name": "LayoutView",
            "align_content": null,
            "align_items": null,
            "align_self": null,
            "border": null,
            "bottom": null,
            "display": null,
            "flex": null,
            "flex_flow": null,
            "grid_area": null,
            "grid_auto_columns": null,
            "grid_auto_flow": null,
            "grid_auto_rows": null,
            "grid_column": null,
            "grid_gap": null,
            "grid_row": null,
            "grid_template_areas": null,
            "grid_template_columns": null,
            "grid_template_rows": null,
            "height": null,
            "justify_content": null,
            "justify_items": null,
            "left": null,
            "margin": null,
            "max_height": null,
            "max_width": null,
            "min_height": null,
            "min_width": null,
            "object_fit": null,
            "object_position": null,
            "order": null,
            "overflow": null,
            "overflow_x": null,
            "overflow_y": null,
            "padding": null,
            "right": null,
            "top": null,
            "visibility": null,
            "width": null
          }
        },
        "80069aac9efc4d32a45e040006894117": {
          "model_module": "@jupyter-widgets/controls",
          "model_name": "ProgressStyleModel",
          "model_module_version": "1.5.0",
          "state": {
            "_model_module": "@jupyter-widgets/controls",
            "_model_module_version": "1.5.0",
            "_model_name": "ProgressStyleModel",
            "_view_count": null,
            "_view_module": "@jupyter-widgets/base",
            "_view_module_version": "1.2.0",
            "_view_name": "StyleView",
            "bar_color": null,
            "description_width": ""
          }
        },
        "bb6887c130b84269ac87f3d4fd528ba0": {
          "model_module": "@jupyter-widgets/base",
          "model_name": "LayoutModel",
          "model_module_version": "1.2.0",
          "state": {
            "_model_module": "@jupyter-widgets/base",
            "_model_module_version": "1.2.0",
            "_model_name": "LayoutModel",
            "_view_count": null,
            "_view_module": "@jupyter-widgets/base",
            "_view_module_version": "1.2.0",
            "_view_name": "LayoutView",
            "align_content": null,
            "align_items": null,
            "align_self": null,
            "border": null,
            "bottom": null,
            "display": null,
            "flex": null,
            "flex_flow": null,
            "grid_area": null,
            "grid_auto_columns": null,
            "grid_auto_flow": null,
            "grid_auto_rows": null,
            "grid_column": null,
            "grid_gap": null,
            "grid_row": null,
            "grid_template_areas": null,
            "grid_template_columns": null,
            "grid_template_rows": null,
            "height": null,
            "justify_content": null,
            "justify_items": null,
            "left": null,
            "margin": null,
            "max_height": null,
            "max_width": null,
            "min_height": null,
            "min_width": null,
            "object_fit": null,
            "object_position": null,
            "order": null,
            "overflow": null,
            "overflow_x": null,
            "overflow_y": null,
            "padding": null,
            "right": null,
            "top": null,
            "visibility": null,
            "width": null
          }
        },
        "ca8bbd86b2cf4ce2b8b0de6e54c6d8b8": {
          "model_module": "@jupyter-widgets/controls",
          "model_name": "DescriptionStyleModel",
          "model_module_version": "1.5.0",
          "state": {
            "_model_module": "@jupyter-widgets/controls",
            "_model_module_version": "1.5.0",
            "_model_name": "DescriptionStyleModel",
            "_view_count": null,
            "_view_module": "@jupyter-widgets/base",
            "_view_module_version": "1.2.0",
            "_view_name": "StyleView",
            "description_width": ""
          }
        },
        "5100144552ca488b94b0d58725b8864b": {
          "model_module": "@jupyter-widgets/controls",
          "model_name": "HBoxModel",
          "model_module_version": "1.5.0",
          "state": {
            "_dom_classes": [],
            "_model_module": "@jupyter-widgets/controls",
            "_model_module_version": "1.5.0",
            "_model_name": "HBoxModel",
            "_view_count": null,
            "_view_module": "@jupyter-widgets/controls",
            "_view_module_version": "1.5.0",
            "_view_name": "HBoxView",
            "box_style": "",
            "children": [
              "IPY_MODEL_5a0caed35b59484493b1639f980a20fb",
              "IPY_MODEL_010d9a8ebbde40e7a5d1f24ec2849f1e",
              "IPY_MODEL_d7c8a3b4eda64139a22a0b8a4ef5cce1"
            ],
            "layout": "IPY_MODEL_fadd8f46ee764f1aa74d944b44c457e8"
          }
        },
        "5a0caed35b59484493b1639f980a20fb": {
          "model_module": "@jupyter-widgets/controls",
          "model_name": "HTMLModel",
          "model_module_version": "1.5.0",
          "state": {
            "_dom_classes": [],
            "_model_module": "@jupyter-widgets/controls",
            "_model_module_version": "1.5.0",
            "_model_name": "HTMLModel",
            "_view_count": null,
            "_view_module": "@jupyter-widgets/controls",
            "_view_module_version": "1.5.0",
            "_view_name": "HTMLView",
            "description": "",
            "description_tooltip": null,
            "layout": "IPY_MODEL_29be26029bf8436c86e09d289003312c",
            "placeholder": "​",
            "style": "IPY_MODEL_f41490f9f44f403a92ac0aab7d62e4cd",
            "value": "tokenizer.json: 100%"
          }
        },
        "010d9a8ebbde40e7a5d1f24ec2849f1e": {
          "model_module": "@jupyter-widgets/controls",
          "model_name": "FloatProgressModel",
          "model_module_version": "1.5.0",
          "state": {
            "_dom_classes": [],
            "_model_module": "@jupyter-widgets/controls",
            "_model_module_version": "1.5.0",
            "_model_name": "FloatProgressModel",
            "_view_count": null,
            "_view_module": "@jupyter-widgets/controls",
            "_view_module_version": "1.5.0",
            "_view_name": "ProgressView",
            "bar_style": "success",
            "description": "",
            "description_tooltip": null,
            "layout": "IPY_MODEL_5c4185b276fe4d21b5e919205d042e61",
            "max": 1389353,
            "min": 0,
            "orientation": "horizontal",
            "style": "IPY_MODEL_2511ae6c9d5f403ebc78bb022fab60dd",
            "value": 1389353
          }
        },
        "d7c8a3b4eda64139a22a0b8a4ef5cce1": {
          "model_module": "@jupyter-widgets/controls",
          "model_name": "HTMLModel",
          "model_module_version": "1.5.0",
          "state": {
            "_dom_classes": [],
            "_model_module": "@jupyter-widgets/controls",
            "_model_module_version": "1.5.0",
            "_model_name": "HTMLModel",
            "_view_count": null,
            "_view_module": "@jupyter-widgets/controls",
            "_view_module_version": "1.5.0",
            "_view_name": "HTMLView",
            "description": "",
            "description_tooltip": null,
            "layout": "IPY_MODEL_84643ac932b14a94a40c9f7ad1e9348b",
            "placeholder": "​",
            "style": "IPY_MODEL_6148324de21e48bbbad0599268a75f47",
            "value": " 1.39M/1.39M [00:00&lt;00:00, 6.82MB/s]"
          }
        },
        "fadd8f46ee764f1aa74d944b44c457e8": {
          "model_module": "@jupyter-widgets/base",
          "model_name": "LayoutModel",
          "model_module_version": "1.2.0",
          "state": {
            "_model_module": "@jupyter-widgets/base",
            "_model_module_version": "1.2.0",
            "_model_name": "LayoutModel",
            "_view_count": null,
            "_view_module": "@jupyter-widgets/base",
            "_view_module_version": "1.2.0",
            "_view_name": "LayoutView",
            "align_content": null,
            "align_items": null,
            "align_self": null,
            "border": null,
            "bottom": null,
            "display": null,
            "flex": null,
            "flex_flow": null,
            "grid_area": null,
            "grid_auto_columns": null,
            "grid_auto_flow": null,
            "grid_auto_rows": null,
            "grid_column": null,
            "grid_gap": null,
            "grid_row": null,
            "grid_template_areas": null,
            "grid_template_columns": null,
            "grid_template_rows": null,
            "height": null,
            "justify_content": null,
            "justify_items": null,
            "left": null,
            "margin": null,
            "max_height": null,
            "max_width": null,
            "min_height": null,
            "min_width": null,
            "object_fit": null,
            "object_position": null,
            "order": null,
            "overflow": null,
            "overflow_x": null,
            "overflow_y": null,
            "padding": null,
            "right": null,
            "top": null,
            "visibility": null,
            "width": null
          }
        },
        "29be26029bf8436c86e09d289003312c": {
          "model_module": "@jupyter-widgets/base",
          "model_name": "LayoutModel",
          "model_module_version": "1.2.0",
          "state": {
            "_model_module": "@jupyter-widgets/base",
            "_model_module_version": "1.2.0",
            "_model_name": "LayoutModel",
            "_view_count": null,
            "_view_module": "@jupyter-widgets/base",
            "_view_module_version": "1.2.0",
            "_view_name": "LayoutView",
            "align_content": null,
            "align_items": null,
            "align_self": null,
            "border": null,
            "bottom": null,
            "display": null,
            "flex": null,
            "flex_flow": null,
            "grid_area": null,
            "grid_auto_columns": null,
            "grid_auto_flow": null,
            "grid_auto_rows": null,
            "grid_column": null,
            "grid_gap": null,
            "grid_row": null,
            "grid_template_areas": null,
            "grid_template_columns": null,
            "grid_template_rows": null,
            "height": null,
            "justify_content": null,
            "justify_items": null,
            "left": null,
            "margin": null,
            "max_height": null,
            "max_width": null,
            "min_height": null,
            "min_width": null,
            "object_fit": null,
            "object_position": null,
            "order": null,
            "overflow": null,
            "overflow_x": null,
            "overflow_y": null,
            "padding": null,
            "right": null,
            "top": null,
            "visibility": null,
            "width": null
          }
        },
        "f41490f9f44f403a92ac0aab7d62e4cd": {
          "model_module": "@jupyter-widgets/controls",
          "model_name": "DescriptionStyleModel",
          "model_module_version": "1.5.0",
          "state": {
            "_model_module": "@jupyter-widgets/controls",
            "_model_module_version": "1.5.0",
            "_model_name": "DescriptionStyleModel",
            "_view_count": null,
            "_view_module": "@jupyter-widgets/base",
            "_view_module_version": "1.2.0",
            "_view_name": "StyleView",
            "description_width": ""
          }
        },
        "5c4185b276fe4d21b5e919205d042e61": {
          "model_module": "@jupyter-widgets/base",
          "model_name": "LayoutModel",
          "model_module_version": "1.2.0",
          "state": {
            "_model_module": "@jupyter-widgets/base",
            "_model_module_version": "1.2.0",
            "_model_name": "LayoutModel",
            "_view_count": null,
            "_view_module": "@jupyter-widgets/base",
            "_view_module_version": "1.2.0",
            "_view_name": "LayoutView",
            "align_content": null,
            "align_items": null,
            "align_self": null,
            "border": null,
            "bottom": null,
            "display": null,
            "flex": null,
            "flex_flow": null,
            "grid_area": null,
            "grid_auto_columns": null,
            "grid_auto_flow": null,
            "grid_auto_rows": null,
            "grid_column": null,
            "grid_gap": null,
            "grid_row": null,
            "grid_template_areas": null,
            "grid_template_columns": null,
            "grid_template_rows": null,
            "height": null,
            "justify_content": null,
            "justify_items": null,
            "left": null,
            "margin": null,
            "max_height": null,
            "max_width": null,
            "min_height": null,
            "min_width": null,
            "object_fit": null,
            "object_position": null,
            "order": null,
            "overflow": null,
            "overflow_x": null,
            "overflow_y": null,
            "padding": null,
            "right": null,
            "top": null,
            "visibility": null,
            "width": null
          }
        },
        "2511ae6c9d5f403ebc78bb022fab60dd": {
          "model_module": "@jupyter-widgets/controls",
          "model_name": "ProgressStyleModel",
          "model_module_version": "1.5.0",
          "state": {
            "_model_module": "@jupyter-widgets/controls",
            "_model_module_version": "1.5.0",
            "_model_name": "ProgressStyleModel",
            "_view_count": null,
            "_view_module": "@jupyter-widgets/base",
            "_view_module_version": "1.2.0",
            "_view_name": "StyleView",
            "bar_color": null,
            "description_width": ""
          }
        },
        "84643ac932b14a94a40c9f7ad1e9348b": {
          "model_module": "@jupyter-widgets/base",
          "model_name": "LayoutModel",
          "model_module_version": "1.2.0",
          "state": {
            "_model_module": "@jupyter-widgets/base",
            "_model_module_version": "1.2.0",
            "_model_name": "LayoutModel",
            "_view_count": null,
            "_view_module": "@jupyter-widgets/base",
            "_view_module_version": "1.2.0",
            "_view_name": "LayoutView",
            "align_content": null,
            "align_items": null,
            "align_self": null,
            "border": null,
            "bottom": null,
            "display": null,
            "flex": null,
            "flex_flow": null,
            "grid_area": null,
            "grid_auto_columns": null,
            "grid_auto_flow": null,
            "grid_auto_rows": null,
            "grid_column": null,
            "grid_gap": null,
            "grid_row": null,
            "grid_template_areas": null,
            "grid_template_columns": null,
            "grid_template_rows": null,
            "height": null,
            "justify_content": null,
            "justify_items": null,
            "left": null,
            "margin": null,
            "max_height": null,
            "max_width": null,
            "min_height": null,
            "min_width": null,
            "object_fit": null,
            "object_position": null,
            "order": null,
            "overflow": null,
            "overflow_x": null,
            "overflow_y": null,
            "padding": null,
            "right": null,
            "top": null,
            "visibility": null,
            "width": null
          }
        },
        "6148324de21e48bbbad0599268a75f47": {
          "model_module": "@jupyter-widgets/controls",
          "model_name": "DescriptionStyleModel",
          "model_module_version": "1.5.0",
          "state": {
            "_model_module": "@jupyter-widgets/controls",
            "_model_module_version": "1.5.0",
            "_model_name": "DescriptionStyleModel",
            "_view_count": null,
            "_view_module": "@jupyter-widgets/base",
            "_view_module_version": "1.2.0",
            "_view_name": "StyleView",
            "description_width": ""
          }
        },
        "509501f9ff6e480c81c5e663eb4053ac": {
          "model_module": "@jupyter-widgets/controls",
          "model_name": "HBoxModel",
          "model_module_version": "1.5.0",
          "state": {
            "_dom_classes": [],
            "_model_module": "@jupyter-widgets/controls",
            "_model_module_version": "1.5.0",
            "_model_name": "HBoxModel",
            "_view_count": null,
            "_view_module": "@jupyter-widgets/controls",
            "_view_module_version": "1.5.0",
            "_view_name": "HBoxView",
            "box_style": "",
            "children": [
              "IPY_MODEL_89759701f0244e6682c59abb886b42dc",
              "IPY_MODEL_c529a98f067a4ca08488351e4af8b8b1",
              "IPY_MODEL_455594d5f9d348138b14a278dbe21cb2"
            ],
            "layout": "IPY_MODEL_c4da65d8b3f540d3999b54b42773412f"
          }
        },
        "89759701f0244e6682c59abb886b42dc": {
          "model_module": "@jupyter-widgets/controls",
          "model_name": "HTMLModel",
          "model_module_version": "1.5.0",
          "state": {
            "_dom_classes": [],
            "_model_module": "@jupyter-widgets/controls",
            "_model_module_version": "1.5.0",
            "_model_name": "HTMLModel",
            "_view_count": null,
            "_view_module": "@jupyter-widgets/controls",
            "_view_module_version": "1.5.0",
            "_view_name": "HTMLView",
            "description": "",
            "description_tooltip": null,
            "layout": "IPY_MODEL_ea625e16875e4739a92b6deb5af37822",
            "placeholder": "​",
            "style": "IPY_MODEL_46fea42dade54599a32fa104934000c5",
            "value": "config.json: 100%"
          }
        },
        "c529a98f067a4ca08488351e4af8b8b1": {
          "model_module": "@jupyter-widgets/controls",
          "model_name": "FloatProgressModel",
          "model_module_version": "1.5.0",
          "state": {
            "_dom_classes": [],
            "_model_module": "@jupyter-widgets/controls",
            "_model_module_version": "1.5.0",
            "_model_name": "FloatProgressModel",
            "_view_count": null,
            "_view_module": "@jupyter-widgets/controls",
            "_view_module_version": "1.5.0",
            "_view_name": "ProgressView",
            "bar_style": "success",
            "description": "",
            "description_tooltip": null,
            "layout": "IPY_MODEL_f9eddc183ed6447d8f1cb709e7abb4f2",
            "max": 1208,
            "min": 0,
            "orientation": "horizontal",
            "style": "IPY_MODEL_25176912c43843818d91e81485e8b90e",
            "value": 1208
          }
        },
        "455594d5f9d348138b14a278dbe21cb2": {
          "model_module": "@jupyter-widgets/controls",
          "model_name": "HTMLModel",
          "model_module_version": "1.5.0",
          "state": {
            "_dom_classes": [],
            "_model_module": "@jupyter-widgets/controls",
            "_model_module_version": "1.5.0",
            "_model_name": "HTMLModel",
            "_view_count": null,
            "_view_module": "@jupyter-widgets/controls",
            "_view_module_version": "1.5.0",
            "_view_name": "HTMLView",
            "description": "",
            "description_tooltip": null,
            "layout": "IPY_MODEL_ed7805226318480a8ab008b2281d9159",
            "placeholder": "​",
            "style": "IPY_MODEL_5a3de81ed341446fb2ec8fff48ec2b95",
            "value": " 1.21k/1.21k [00:00&lt;00:00, 75.8kB/s]"
          }
        },
        "c4da65d8b3f540d3999b54b42773412f": {
          "model_module": "@jupyter-widgets/base",
          "model_name": "LayoutModel",
          "model_module_version": "1.2.0",
          "state": {
            "_model_module": "@jupyter-widgets/base",
            "_model_module_version": "1.2.0",
            "_model_name": "LayoutModel",
            "_view_count": null,
            "_view_module": "@jupyter-widgets/base",
            "_view_module_version": "1.2.0",
            "_view_name": "LayoutView",
            "align_content": null,
            "align_items": null,
            "align_self": null,
            "border": null,
            "bottom": null,
            "display": null,
            "flex": null,
            "flex_flow": null,
            "grid_area": null,
            "grid_auto_columns": null,
            "grid_auto_flow": null,
            "grid_auto_rows": null,
            "grid_column": null,
            "grid_gap": null,
            "grid_row": null,
            "grid_template_areas": null,
            "grid_template_columns": null,
            "grid_template_rows": null,
            "height": null,
            "justify_content": null,
            "justify_items": null,
            "left": null,
            "margin": null,
            "max_height": null,
            "max_width": null,
            "min_height": null,
            "min_width": null,
            "object_fit": null,
            "object_position": null,
            "order": null,
            "overflow": null,
            "overflow_x": null,
            "overflow_y": null,
            "padding": null,
            "right": null,
            "top": null,
            "visibility": null,
            "width": null
          }
        },
        "ea625e16875e4739a92b6deb5af37822": {
          "model_module": "@jupyter-widgets/base",
          "model_name": "LayoutModel",
          "model_module_version": "1.2.0",
          "state": {
            "_model_module": "@jupyter-widgets/base",
            "_model_module_version": "1.2.0",
            "_model_name": "LayoutModel",
            "_view_count": null,
            "_view_module": "@jupyter-widgets/base",
            "_view_module_version": "1.2.0",
            "_view_name": "LayoutView",
            "align_content": null,
            "align_items": null,
            "align_self": null,
            "border": null,
            "bottom": null,
            "display": null,
            "flex": null,
            "flex_flow": null,
            "grid_area": null,
            "grid_auto_columns": null,
            "grid_auto_flow": null,
            "grid_auto_rows": null,
            "grid_column": null,
            "grid_gap": null,
            "grid_row": null,
            "grid_template_areas": null,
            "grid_template_columns": null,
            "grid_template_rows": null,
            "height": null,
            "justify_content": null,
            "justify_items": null,
            "left": null,
            "margin": null,
            "max_height": null,
            "max_width": null,
            "min_height": null,
            "min_width": null,
            "object_fit": null,
            "object_position": null,
            "order": null,
            "overflow": null,
            "overflow_x": null,
            "overflow_y": null,
            "padding": null,
            "right": null,
            "top": null,
            "visibility": null,
            "width": null
          }
        },
        "46fea42dade54599a32fa104934000c5": {
          "model_module": "@jupyter-widgets/controls",
          "model_name": "DescriptionStyleModel",
          "model_module_version": "1.5.0",
          "state": {
            "_model_module": "@jupyter-widgets/controls",
            "_model_module_version": "1.5.0",
            "_model_name": "DescriptionStyleModel",
            "_view_count": null,
            "_view_module": "@jupyter-widgets/base",
            "_view_module_version": "1.2.0",
            "_view_name": "StyleView",
            "description_width": ""
          }
        },
        "f9eddc183ed6447d8f1cb709e7abb4f2": {
          "model_module": "@jupyter-widgets/base",
          "model_name": "LayoutModel",
          "model_module_version": "1.2.0",
          "state": {
            "_model_module": "@jupyter-widgets/base",
            "_model_module_version": "1.2.0",
            "_model_name": "LayoutModel",
            "_view_count": null,
            "_view_module": "@jupyter-widgets/base",
            "_view_module_version": "1.2.0",
            "_view_name": "LayoutView",
            "align_content": null,
            "align_items": null,
            "align_self": null,
            "border": null,
            "bottom": null,
            "display": null,
            "flex": null,
            "flex_flow": null,
            "grid_area": null,
            "grid_auto_columns": null,
            "grid_auto_flow": null,
            "grid_auto_rows": null,
            "grid_column": null,
            "grid_gap": null,
            "grid_row": null,
            "grid_template_areas": null,
            "grid_template_columns": null,
            "grid_template_rows": null,
            "height": null,
            "justify_content": null,
            "justify_items": null,
            "left": null,
            "margin": null,
            "max_height": null,
            "max_width": null,
            "min_height": null,
            "min_width": null,
            "object_fit": null,
            "object_position": null,
            "order": null,
            "overflow": null,
            "overflow_x": null,
            "overflow_y": null,
            "padding": null,
            "right": null,
            "top": null,
            "visibility": null,
            "width": null
          }
        },
        "25176912c43843818d91e81485e8b90e": {
          "model_module": "@jupyter-widgets/controls",
          "model_name": "ProgressStyleModel",
          "model_module_version": "1.5.0",
          "state": {
            "_model_module": "@jupyter-widgets/controls",
            "_model_module_version": "1.5.0",
            "_model_name": "ProgressStyleModel",
            "_view_count": null,
            "_view_module": "@jupyter-widgets/base",
            "_view_module_version": "1.2.0",
            "_view_name": "StyleView",
            "bar_color": null,
            "description_width": ""
          }
        },
        "ed7805226318480a8ab008b2281d9159": {
          "model_module": "@jupyter-widgets/base",
          "model_name": "LayoutModel",
          "model_module_version": "1.2.0",
          "state": {
            "_model_module": "@jupyter-widgets/base",
            "_model_module_version": "1.2.0",
            "_model_name": "LayoutModel",
            "_view_count": null,
            "_view_module": "@jupyter-widgets/base",
            "_view_module_version": "1.2.0",
            "_view_name": "LayoutView",
            "align_content": null,
            "align_items": null,
            "align_self": null,
            "border": null,
            "bottom": null,
            "display": null,
            "flex": null,
            "flex_flow": null,
            "grid_area": null,
            "grid_auto_columns": null,
            "grid_auto_flow": null,
            "grid_auto_rows": null,
            "grid_column": null,
            "grid_gap": null,
            "grid_row": null,
            "grid_template_areas": null,
            "grid_template_columns": null,
            "grid_template_rows": null,
            "height": null,
            "justify_content": null,
            "justify_items": null,
            "left": null,
            "margin": null,
            "max_height": null,
            "max_width": null,
            "min_height": null,
            "min_width": null,
            "object_fit": null,
            "object_position": null,
            "order": null,
            "overflow": null,
            "overflow_x": null,
            "overflow_y": null,
            "padding": null,
            "right": null,
            "top": null,
            "visibility": null,
            "width": null
          }
        },
        "5a3de81ed341446fb2ec8fff48ec2b95": {
          "model_module": "@jupyter-widgets/controls",
          "model_name": "DescriptionStyleModel",
          "model_module_version": "1.5.0",
          "state": {
            "_model_module": "@jupyter-widgets/controls",
            "_model_module_version": "1.5.0",
            "_model_name": "DescriptionStyleModel",
            "_view_count": null,
            "_view_module": "@jupyter-widgets/base",
            "_view_module_version": "1.2.0",
            "_view_name": "StyleView",
            "description_width": ""
          }
        },
        "69bc58001ae147a48d1bf61bc91d36eb": {
          "model_module": "@jupyter-widgets/controls",
          "model_name": "HBoxModel",
          "model_module_version": "1.5.0",
          "state": {
            "_dom_classes": [],
            "_model_module": "@jupyter-widgets/controls",
            "_model_module_version": "1.5.0",
            "_model_name": "HBoxModel",
            "_view_count": null,
            "_view_module": "@jupyter-widgets/controls",
            "_view_module_version": "1.5.0",
            "_view_name": "HBoxView",
            "box_style": "",
            "children": [
              "IPY_MODEL_2a14539402ac4af1a09ba23410a71b2f",
              "IPY_MODEL_ec30dee0c1864991af8937ebfa7fc9be",
              "IPY_MODEL_2e32fdeff135452497a30306a974182c"
            ],
            "layout": "IPY_MODEL_db37ebd4e73b465593cbb519aab8bfcb"
          }
        },
        "2a14539402ac4af1a09ba23410a71b2f": {
          "model_module": "@jupyter-widgets/controls",
          "model_name": "HTMLModel",
          "model_module_version": "1.5.0",
          "state": {
            "_dom_classes": [],
            "_model_module": "@jupyter-widgets/controls",
            "_model_module_version": "1.5.0",
            "_model_name": "HTMLModel",
            "_view_count": null,
            "_view_module": "@jupyter-widgets/controls",
            "_view_module_version": "1.5.0",
            "_view_name": "HTMLView",
            "description": "",
            "description_tooltip": null,
            "layout": "IPY_MODEL_6ec8741651d54919a8e2a827c88cc875",
            "placeholder": "​",
            "style": "IPY_MODEL_e0fe6f7315584dc281aeb25136a25cad",
            "value": "model.safetensors: 100%"
          }
        },
        "ec30dee0c1864991af8937ebfa7fc9be": {
          "model_module": "@jupyter-widgets/controls",
          "model_name": "FloatProgressModel",
          "model_module_version": "1.5.0",
          "state": {
            "_dom_classes": [],
            "_model_module": "@jupyter-widgets/controls",
            "_model_module_version": "1.5.0",
            "_model_name": "FloatProgressModel",
            "_view_count": null,
            "_view_module": "@jupyter-widgets/controls",
            "_view_module_version": "1.5.0",
            "_view_name": "ProgressView",
            "bar_style": "success",
            "description": "",
            "description_tooltip": null,
            "layout": "IPY_MODEL_a9063097114f45e2aeaa5b4080346b91",
            "max": 891646390,
            "min": 0,
            "orientation": "horizontal",
            "style": "IPY_MODEL_f72c4fc6e9d74afb805fdc6e9b1d6435",
            "value": 891646390
          }
        },
        "2e32fdeff135452497a30306a974182c": {
          "model_module": "@jupyter-widgets/controls",
          "model_name": "HTMLModel",
          "model_module_version": "1.5.0",
          "state": {
            "_dom_classes": [],
            "_model_module": "@jupyter-widgets/controls",
            "_model_module_version": "1.5.0",
            "_model_name": "HTMLModel",
            "_view_count": null,
            "_view_module": "@jupyter-widgets/controls",
            "_view_module_version": "1.5.0",
            "_view_name": "HTMLView",
            "description": "",
            "description_tooltip": null,
            "layout": "IPY_MODEL_39fb4420d04743ea9cb7830994ce269e",
            "placeholder": "​",
            "style": "IPY_MODEL_7a32c04d10aa49ea94381e6c041ec6f1",
            "value": " 892M/892M [00:06&lt;00:00, 87.2MB/s]"
          }
        },
        "db37ebd4e73b465593cbb519aab8bfcb": {
          "model_module": "@jupyter-widgets/base",
          "model_name": "LayoutModel",
          "model_module_version": "1.2.0",
          "state": {
            "_model_module": "@jupyter-widgets/base",
            "_model_module_version": "1.2.0",
            "_model_name": "LayoutModel",
            "_view_count": null,
            "_view_module": "@jupyter-widgets/base",
            "_view_module_version": "1.2.0",
            "_view_name": "LayoutView",
            "align_content": null,
            "align_items": null,
            "align_self": null,
            "border": null,
            "bottom": null,
            "display": null,
            "flex": null,
            "flex_flow": null,
            "grid_area": null,
            "grid_auto_columns": null,
            "grid_auto_flow": null,
            "grid_auto_rows": null,
            "grid_column": null,
            "grid_gap": null,
            "grid_row": null,
            "grid_template_areas": null,
            "grid_template_columns": null,
            "grid_template_rows": null,
            "height": null,
            "justify_content": null,
            "justify_items": null,
            "left": null,
            "margin": null,
            "max_height": null,
            "max_width": null,
            "min_height": null,
            "min_width": null,
            "object_fit": null,
            "object_position": null,
            "order": null,
            "overflow": null,
            "overflow_x": null,
            "overflow_y": null,
            "padding": null,
            "right": null,
            "top": null,
            "visibility": null,
            "width": null
          }
        },
        "6ec8741651d54919a8e2a827c88cc875": {
          "model_module": "@jupyter-widgets/base",
          "model_name": "LayoutModel",
          "model_module_version": "1.2.0",
          "state": {
            "_model_module": "@jupyter-widgets/base",
            "_model_module_version": "1.2.0",
            "_model_name": "LayoutModel",
            "_view_count": null,
            "_view_module": "@jupyter-widgets/base",
            "_view_module_version": "1.2.0",
            "_view_name": "LayoutView",
            "align_content": null,
            "align_items": null,
            "align_self": null,
            "border": null,
            "bottom": null,
            "display": null,
            "flex": null,
            "flex_flow": null,
            "grid_area": null,
            "grid_auto_columns": null,
            "grid_auto_flow": null,
            "grid_auto_rows": null,
            "grid_column": null,
            "grid_gap": null,
            "grid_row": null,
            "grid_template_areas": null,
            "grid_template_columns": null,
            "grid_template_rows": null,
            "height": null,
            "justify_content": null,
            "justify_items": null,
            "left": null,
            "margin": null,
            "max_height": null,
            "max_width": null,
            "min_height": null,
            "min_width": null,
            "object_fit": null,
            "object_position": null,
            "order": null,
            "overflow": null,
            "overflow_x": null,
            "overflow_y": null,
            "padding": null,
            "right": null,
            "top": null,
            "visibility": null,
            "width": null
          }
        },
        "e0fe6f7315584dc281aeb25136a25cad": {
          "model_module": "@jupyter-widgets/controls",
          "model_name": "DescriptionStyleModel",
          "model_module_version": "1.5.0",
          "state": {
            "_model_module": "@jupyter-widgets/controls",
            "_model_module_version": "1.5.0",
            "_model_name": "DescriptionStyleModel",
            "_view_count": null,
            "_view_module": "@jupyter-widgets/base",
            "_view_module_version": "1.2.0",
            "_view_name": "StyleView",
            "description_width": ""
          }
        },
        "a9063097114f45e2aeaa5b4080346b91": {
          "model_module": "@jupyter-widgets/base",
          "model_name": "LayoutModel",
          "model_module_version": "1.2.0",
          "state": {
            "_model_module": "@jupyter-widgets/base",
            "_model_module_version": "1.2.0",
            "_model_name": "LayoutModel",
            "_view_count": null,
            "_view_module": "@jupyter-widgets/base",
            "_view_module_version": "1.2.0",
            "_view_name": "LayoutView",
            "align_content": null,
            "align_items": null,
            "align_self": null,
            "border": null,
            "bottom": null,
            "display": null,
            "flex": null,
            "flex_flow": null,
            "grid_area": null,
            "grid_auto_columns": null,
            "grid_auto_flow": null,
            "grid_auto_rows": null,
            "grid_column": null,
            "grid_gap": null,
            "grid_row": null,
            "grid_template_areas": null,
            "grid_template_columns": null,
            "grid_template_rows": null,
            "height": null,
            "justify_content": null,
            "justify_items": null,
            "left": null,
            "margin": null,
            "max_height": null,
            "max_width": null,
            "min_height": null,
            "min_width": null,
            "object_fit": null,
            "object_position": null,
            "order": null,
            "overflow": null,
            "overflow_x": null,
            "overflow_y": null,
            "padding": null,
            "right": null,
            "top": null,
            "visibility": null,
            "width": null
          }
        },
        "f72c4fc6e9d74afb805fdc6e9b1d6435": {
          "model_module": "@jupyter-widgets/controls",
          "model_name": "ProgressStyleModel",
          "model_module_version": "1.5.0",
          "state": {
            "_model_module": "@jupyter-widgets/controls",
            "_model_module_version": "1.5.0",
            "_model_name": "ProgressStyleModel",
            "_view_count": null,
            "_view_module": "@jupyter-widgets/base",
            "_view_module_version": "1.2.0",
            "_view_name": "StyleView",
            "bar_color": null,
            "description_width": ""
          }
        },
        "39fb4420d04743ea9cb7830994ce269e": {
          "model_module": "@jupyter-widgets/base",
          "model_name": "LayoutModel",
          "model_module_version": "1.2.0",
          "state": {
            "_model_module": "@jupyter-widgets/base",
            "_model_module_version": "1.2.0",
            "_model_name": "LayoutModel",
            "_view_count": null,
            "_view_module": "@jupyter-widgets/base",
            "_view_module_version": "1.2.0",
            "_view_name": "LayoutView",
            "align_content": null,
            "align_items": null,
            "align_self": null,
            "border": null,
            "bottom": null,
            "display": null,
            "flex": null,
            "flex_flow": null,
            "grid_area": null,
            "grid_auto_columns": null,
            "grid_auto_flow": null,
            "grid_auto_rows": null,
            "grid_column": null,
            "grid_gap": null,
            "grid_row": null,
            "grid_template_areas": null,
            "grid_template_columns": null,
            "grid_template_rows": null,
            "height": null,
            "justify_content": null,
            "justify_items": null,
            "left": null,
            "margin": null,
            "max_height": null,
            "max_width": null,
            "min_height": null,
            "min_width": null,
            "object_fit": null,
            "object_position": null,
            "order": null,
            "overflow": null,
            "overflow_x": null,
            "overflow_y": null,
            "padding": null,
            "right": null,
            "top": null,
            "visibility": null,
            "width": null
          }
        },
        "7a32c04d10aa49ea94381e6c041ec6f1": {
          "model_module": "@jupyter-widgets/controls",
          "model_name": "DescriptionStyleModel",
          "model_module_version": "1.5.0",
          "state": {
            "_model_module": "@jupyter-widgets/controls",
            "_model_module_version": "1.5.0",
            "_model_name": "DescriptionStyleModel",
            "_view_count": null,
            "_view_module": "@jupyter-widgets/base",
            "_view_module_version": "1.2.0",
            "_view_name": "StyleView",
            "description_width": ""
          }
        },
        "57112d2403da41c3b73c1126785691eb": {
          "model_module": "@jupyter-widgets/controls",
          "model_name": "HBoxModel",
          "model_module_version": "1.5.0",
          "state": {
            "_dom_classes": [],
            "_model_module": "@jupyter-widgets/controls",
            "_model_module_version": "1.5.0",
            "_model_name": "HBoxModel",
            "_view_count": null,
            "_view_module": "@jupyter-widgets/controls",
            "_view_module_version": "1.5.0",
            "_view_name": "HBoxView",
            "box_style": "",
            "children": [
              "IPY_MODEL_af3c2a4c902c49538b86b15de003d1b8",
              "IPY_MODEL_a754ec3b0d62431c8dc4d6fe55b8aa3c",
              "IPY_MODEL_839bebc62b974749bf9ad1163c4c5f0a"
            ],
            "layout": "IPY_MODEL_f71e6337654b49afa40ec9fd270c3cf6"
          }
        },
        "af3c2a4c902c49538b86b15de003d1b8": {
          "model_module": "@jupyter-widgets/controls",
          "model_name": "HTMLModel",
          "model_module_version": "1.5.0",
          "state": {
            "_dom_classes": [],
            "_model_module": "@jupyter-widgets/controls",
            "_model_module_version": "1.5.0",
            "_model_name": "HTMLModel",
            "_view_count": null,
            "_view_module": "@jupyter-widgets/controls",
            "_view_module_version": "1.5.0",
            "_view_name": "HTMLView",
            "description": "",
            "description_tooltip": null,
            "layout": "IPY_MODEL_db506393e8a3467b90aa931238b37c53",
            "placeholder": "​",
            "style": "IPY_MODEL_db9bee408aff4769bcb683e58169230e",
            "value": "generation_config.json: 100%"
          }
        },
        "a754ec3b0d62431c8dc4d6fe55b8aa3c": {
          "model_module": "@jupyter-widgets/controls",
          "model_name": "FloatProgressModel",
          "model_module_version": "1.5.0",
          "state": {
            "_dom_classes": [],
            "_model_module": "@jupyter-widgets/controls",
            "_model_module_version": "1.5.0",
            "_model_name": "FloatProgressModel",
            "_view_count": null,
            "_view_module": "@jupyter-widgets/controls",
            "_view_module_version": "1.5.0",
            "_view_name": "ProgressView",
            "bar_style": "success",
            "description": "",
            "description_tooltip": null,
            "layout": "IPY_MODEL_38cdbfebb3b24305ad34f5c763900528",
            "max": 147,
            "min": 0,
            "orientation": "horizontal",
            "style": "IPY_MODEL_f8caf80a673a4329a13cf3e2a2c66ac4",
            "value": 147
          }
        },
        "839bebc62b974749bf9ad1163c4c5f0a": {
          "model_module": "@jupyter-widgets/controls",
          "model_name": "HTMLModel",
          "model_module_version": "1.5.0",
          "state": {
            "_dom_classes": [],
            "_model_module": "@jupyter-widgets/controls",
            "_model_module_version": "1.5.0",
            "_model_name": "HTMLModel",
            "_view_count": null,
            "_view_module": "@jupyter-widgets/controls",
            "_view_module_version": "1.5.0",
            "_view_name": "HTMLView",
            "description": "",
            "description_tooltip": null,
            "layout": "IPY_MODEL_6ea248d8443949c0bcfe7a7287e4cb48",
            "placeholder": "​",
            "style": "IPY_MODEL_0804e366d3544d5cb083f385ec8e70c6",
            "value": " 147/147 [00:00&lt;00:00, 10.4kB/s]"
          }
        },
        "f71e6337654b49afa40ec9fd270c3cf6": {
          "model_module": "@jupyter-widgets/base",
          "model_name": "LayoutModel",
          "model_module_version": "1.2.0",
          "state": {
            "_model_module": "@jupyter-widgets/base",
            "_model_module_version": "1.2.0",
            "_model_name": "LayoutModel",
            "_view_count": null,
            "_view_module": "@jupyter-widgets/base",
            "_view_module_version": "1.2.0",
            "_view_name": "LayoutView",
            "align_content": null,
            "align_items": null,
            "align_self": null,
            "border": null,
            "bottom": null,
            "display": null,
            "flex": null,
            "flex_flow": null,
            "grid_area": null,
            "grid_auto_columns": null,
            "grid_auto_flow": null,
            "grid_auto_rows": null,
            "grid_column": null,
            "grid_gap": null,
            "grid_row": null,
            "grid_template_areas": null,
            "grid_template_columns": null,
            "grid_template_rows": null,
            "height": null,
            "justify_content": null,
            "justify_items": null,
            "left": null,
            "margin": null,
            "max_height": null,
            "max_width": null,
            "min_height": null,
            "min_width": null,
            "object_fit": null,
            "object_position": null,
            "order": null,
            "overflow": null,
            "overflow_x": null,
            "overflow_y": null,
            "padding": null,
            "right": null,
            "top": null,
            "visibility": null,
            "width": null
          }
        },
        "db506393e8a3467b90aa931238b37c53": {
          "model_module": "@jupyter-widgets/base",
          "model_name": "LayoutModel",
          "model_module_version": "1.2.0",
          "state": {
            "_model_module": "@jupyter-widgets/base",
            "_model_module_version": "1.2.0",
            "_model_name": "LayoutModel",
            "_view_count": null,
            "_view_module": "@jupyter-widgets/base",
            "_view_module_version": "1.2.0",
            "_view_name": "LayoutView",
            "align_content": null,
            "align_items": null,
            "align_self": null,
            "border": null,
            "bottom": null,
            "display": null,
            "flex": null,
            "flex_flow": null,
            "grid_area": null,
            "grid_auto_columns": null,
            "grid_auto_flow": null,
            "grid_auto_rows": null,
            "grid_column": null,
            "grid_gap": null,
            "grid_row": null,
            "grid_template_areas": null,
            "grid_template_columns": null,
            "grid_template_rows": null,
            "height": null,
            "justify_content": null,
            "justify_items": null,
            "left": null,
            "margin": null,
            "max_height": null,
            "max_width": null,
            "min_height": null,
            "min_width": null,
            "object_fit": null,
            "object_position": null,
            "order": null,
            "overflow": null,
            "overflow_x": null,
            "overflow_y": null,
            "padding": null,
            "right": null,
            "top": null,
            "visibility": null,
            "width": null
          }
        },
        "db9bee408aff4769bcb683e58169230e": {
          "model_module": "@jupyter-widgets/controls",
          "model_name": "DescriptionStyleModel",
          "model_module_version": "1.5.0",
          "state": {
            "_model_module": "@jupyter-widgets/controls",
            "_model_module_version": "1.5.0",
            "_model_name": "DescriptionStyleModel",
            "_view_count": null,
            "_view_module": "@jupyter-widgets/base",
            "_view_module_version": "1.2.0",
            "_view_name": "StyleView",
            "description_width": ""
          }
        },
        "38cdbfebb3b24305ad34f5c763900528": {
          "model_module": "@jupyter-widgets/base",
          "model_name": "LayoutModel",
          "model_module_version": "1.2.0",
          "state": {
            "_model_module": "@jupyter-widgets/base",
            "_model_module_version": "1.2.0",
            "_model_name": "LayoutModel",
            "_view_count": null,
            "_view_module": "@jupyter-widgets/base",
            "_view_module_version": "1.2.0",
            "_view_name": "LayoutView",
            "align_content": null,
            "align_items": null,
            "align_self": null,
            "border": null,
            "bottom": null,
            "display": null,
            "flex": null,
            "flex_flow": null,
            "grid_area": null,
            "grid_auto_columns": null,
            "grid_auto_flow": null,
            "grid_auto_rows": null,
            "grid_column": null,
            "grid_gap": null,
            "grid_row": null,
            "grid_template_areas": null,
            "grid_template_columns": null,
            "grid_template_rows": null,
            "height": null,
            "justify_content": null,
            "justify_items": null,
            "left": null,
            "margin": null,
            "max_height": null,
            "max_width": null,
            "min_height": null,
            "min_width": null,
            "object_fit": null,
            "object_position": null,
            "order": null,
            "overflow": null,
            "overflow_x": null,
            "overflow_y": null,
            "padding": null,
            "right": null,
            "top": null,
            "visibility": null,
            "width": null
          }
        },
        "f8caf80a673a4329a13cf3e2a2c66ac4": {
          "model_module": "@jupyter-widgets/controls",
          "model_name": "ProgressStyleModel",
          "model_module_version": "1.5.0",
          "state": {
            "_model_module": "@jupyter-widgets/controls",
            "_model_module_version": "1.5.0",
            "_model_name": "ProgressStyleModel",
            "_view_count": null,
            "_view_module": "@jupyter-widgets/base",
            "_view_module_version": "1.2.0",
            "_view_name": "StyleView",
            "bar_color": null,
            "description_width": ""
          }
        },
        "6ea248d8443949c0bcfe7a7287e4cb48": {
          "model_module": "@jupyter-widgets/base",
          "model_name": "LayoutModel",
          "model_module_version": "1.2.0",
          "state": {
            "_model_module": "@jupyter-widgets/base",
            "_model_module_version": "1.2.0",
            "_model_name": "LayoutModel",
            "_view_count": null,
            "_view_module": "@jupyter-widgets/base",
            "_view_module_version": "1.2.0",
            "_view_name": "LayoutView",
            "align_content": null,
            "align_items": null,
            "align_self": null,
            "border": null,
            "bottom": null,
            "display": null,
            "flex": null,
            "flex_flow": null,
            "grid_area": null,
            "grid_auto_columns": null,
            "grid_auto_flow": null,
            "grid_auto_rows": null,
            "grid_column": null,
            "grid_gap": null,
            "grid_row": null,
            "grid_template_areas": null,
            "grid_template_columns": null,
            "grid_template_rows": null,
            "height": null,
            "justify_content": null,
            "justify_items": null,
            "left": null,
            "margin": null,
            "max_height": null,
            "max_width": null,
            "min_height": null,
            "min_width": null,
            "object_fit": null,
            "object_position": null,
            "order": null,
            "overflow": null,
            "overflow_x": null,
            "overflow_y": null,
            "padding": null,
            "right": null,
            "top": null,
            "visibility": null,
            "width": null
          }
        },
        "0804e366d3544d5cb083f385ec8e70c6": {
          "model_module": "@jupyter-widgets/controls",
          "model_name": "DescriptionStyleModel",
          "model_module_version": "1.5.0",
          "state": {
            "_model_module": "@jupyter-widgets/controls",
            "_model_module_version": "1.5.0",
            "_model_name": "DescriptionStyleModel",
            "_view_count": null,
            "_view_module": "@jupyter-widgets/base",
            "_view_module_version": "1.2.0",
            "_view_name": "StyleView",
            "description_width": ""
          }
        },
        "f11e44db55864d7894f5b376b488a459": {
          "model_module": "@jupyter-widgets/controls",
          "model_name": "HBoxModel",
          "model_module_version": "1.5.0",
          "state": {
            "_dom_classes": [],
            "_model_module": "@jupyter-widgets/controls",
            "_model_module_version": "1.5.0",
            "_model_name": "HBoxModel",
            "_view_count": null,
            "_view_module": "@jupyter-widgets/controls",
            "_view_module_version": "1.5.0",
            "_view_name": "HBoxView",
            "box_style": "",
            "children": [
              "IPY_MODEL_d2b33665fb824c7cb0b95cb380a2cdf0",
              "IPY_MODEL_7deb9eba6e41462180cc4d78b6c57231",
              "IPY_MODEL_3d3fbfba3a68459286ff13971d4d572a"
            ],
            "layout": "IPY_MODEL_fdc92d8772794da2b2b510c91be70145"
          }
        },
        "d2b33665fb824c7cb0b95cb380a2cdf0": {
          "model_module": "@jupyter-widgets/controls",
          "model_name": "HTMLModel",
          "model_module_version": "1.5.0",
          "state": {
            "_dom_classes": [],
            "_model_module": "@jupyter-widgets/controls",
            "_model_module_version": "1.5.0",
            "_model_name": "HTMLModel",
            "_view_count": null,
            "_view_module": "@jupyter-widgets/controls",
            "_view_module_version": "1.5.0",
            "_view_name": "HTMLView",
            "description": "",
            "description_tooltip": null,
            "layout": "IPY_MODEL_2b472dac7cf148ac96a7ec14428083e6",
            "placeholder": "​",
            "style": "IPY_MODEL_a6fb6769a7ec4afdb314dce22ad599dc",
            "value": "tokenizer_config.json: 100%"
          }
        },
        "7deb9eba6e41462180cc4d78b6c57231": {
          "model_module": "@jupyter-widgets/controls",
          "model_name": "FloatProgressModel",
          "model_module_version": "1.5.0",
          "state": {
            "_dom_classes": [],
            "_model_module": "@jupyter-widgets/controls",
            "_model_module_version": "1.5.0",
            "_model_name": "FloatProgressModel",
            "_view_count": null,
            "_view_module": "@jupyter-widgets/controls",
            "_view_module_version": "1.5.0",
            "_view_name": "ProgressView",
            "bar_style": "success",
            "description": "",
            "description_tooltip": null,
            "layout": "IPY_MODEL_a4d8d0e17ece4325aa71ae75becd322d",
            "max": 25,
            "min": 0,
            "orientation": "horizontal",
            "style": "IPY_MODEL_ae7f137bf007456382d1b07b62d59c84",
            "value": 25
          }
        },
        "3d3fbfba3a68459286ff13971d4d572a": {
          "model_module": "@jupyter-widgets/controls",
          "model_name": "HTMLModel",
          "model_module_version": "1.5.0",
          "state": {
            "_dom_classes": [],
            "_model_module": "@jupyter-widgets/controls",
            "_model_module_version": "1.5.0",
            "_model_name": "HTMLModel",
            "_view_count": null,
            "_view_module": "@jupyter-widgets/controls",
            "_view_module_version": "1.5.0",
            "_view_name": "HTMLView",
            "description": "",
            "description_tooltip": null,
            "layout": "IPY_MODEL_1aa11e3dca29405f811da4a032b5d7b9",
            "placeholder": "​",
            "style": "IPY_MODEL_ada2e1624cdb448fb54adc87dd2c9bc2",
            "value": " 25.0/25.0 [00:00&lt;00:00, 1.62kB/s]"
          }
        },
        "fdc92d8772794da2b2b510c91be70145": {
          "model_module": "@jupyter-widgets/base",
          "model_name": "LayoutModel",
          "model_module_version": "1.2.0",
          "state": {
            "_model_module": "@jupyter-widgets/base",
            "_model_module_version": "1.2.0",
            "_model_name": "LayoutModel",
            "_view_count": null,
            "_view_module": "@jupyter-widgets/base",
            "_view_module_version": "1.2.0",
            "_view_name": "LayoutView",
            "align_content": null,
            "align_items": null,
            "align_self": null,
            "border": null,
            "bottom": null,
            "display": null,
            "flex": null,
            "flex_flow": null,
            "grid_area": null,
            "grid_auto_columns": null,
            "grid_auto_flow": null,
            "grid_auto_rows": null,
            "grid_column": null,
            "grid_gap": null,
            "grid_row": null,
            "grid_template_areas": null,
            "grid_template_columns": null,
            "grid_template_rows": null,
            "height": null,
            "justify_content": null,
            "justify_items": null,
            "left": null,
            "margin": null,
            "max_height": null,
            "max_width": null,
            "min_height": null,
            "min_width": null,
            "object_fit": null,
            "object_position": null,
            "order": null,
            "overflow": null,
            "overflow_x": null,
            "overflow_y": null,
            "padding": null,
            "right": null,
            "top": null,
            "visibility": null,
            "width": null
          }
        },
        "2b472dac7cf148ac96a7ec14428083e6": {
          "model_module": "@jupyter-widgets/base",
          "model_name": "LayoutModel",
          "model_module_version": "1.2.0",
          "state": {
            "_model_module": "@jupyter-widgets/base",
            "_model_module_version": "1.2.0",
            "_model_name": "LayoutModel",
            "_view_count": null,
            "_view_module": "@jupyter-widgets/base",
            "_view_module_version": "1.2.0",
            "_view_name": "LayoutView",
            "align_content": null,
            "align_items": null,
            "align_self": null,
            "border": null,
            "bottom": null,
            "display": null,
            "flex": null,
            "flex_flow": null,
            "grid_area": null,
            "grid_auto_columns": null,
            "grid_auto_flow": null,
            "grid_auto_rows": null,
            "grid_column": null,
            "grid_gap": null,
            "grid_row": null,
            "grid_template_areas": null,
            "grid_template_columns": null,
            "grid_template_rows": null,
            "height": null,
            "justify_content": null,
            "justify_items": null,
            "left": null,
            "margin": null,
            "max_height": null,
            "max_width": null,
            "min_height": null,
            "min_width": null,
            "object_fit": null,
            "object_position": null,
            "order": null,
            "overflow": null,
            "overflow_x": null,
            "overflow_y": null,
            "padding": null,
            "right": null,
            "top": null,
            "visibility": null,
            "width": null
          }
        },
        "a6fb6769a7ec4afdb314dce22ad599dc": {
          "model_module": "@jupyter-widgets/controls",
          "model_name": "DescriptionStyleModel",
          "model_module_version": "1.5.0",
          "state": {
            "_model_module": "@jupyter-widgets/controls",
            "_model_module_version": "1.5.0",
            "_model_name": "DescriptionStyleModel",
            "_view_count": null,
            "_view_module": "@jupyter-widgets/base",
            "_view_module_version": "1.2.0",
            "_view_name": "StyleView",
            "description_width": ""
          }
        },
        "a4d8d0e17ece4325aa71ae75becd322d": {
          "model_module": "@jupyter-widgets/base",
          "model_name": "LayoutModel",
          "model_module_version": "1.2.0",
          "state": {
            "_model_module": "@jupyter-widgets/base",
            "_model_module_version": "1.2.0",
            "_model_name": "LayoutModel",
            "_view_count": null,
            "_view_module": "@jupyter-widgets/base",
            "_view_module_version": "1.2.0",
            "_view_name": "LayoutView",
            "align_content": null,
            "align_items": null,
            "align_self": null,
            "border": null,
            "bottom": null,
            "display": null,
            "flex": null,
            "flex_flow": null,
            "grid_area": null,
            "grid_auto_columns": null,
            "grid_auto_flow": null,
            "grid_auto_rows": null,
            "grid_column": null,
            "grid_gap": null,
            "grid_row": null,
            "grid_template_areas": null,
            "grid_template_columns": null,
            "grid_template_rows": null,
            "height": null,
            "justify_content": null,
            "justify_items": null,
            "left": null,
            "margin": null,
            "max_height": null,
            "max_width": null,
            "min_height": null,
            "min_width": null,
            "object_fit": null,
            "object_position": null,
            "order": null,
            "overflow": null,
            "overflow_x": null,
            "overflow_y": null,
            "padding": null,
            "right": null,
            "top": null,
            "visibility": null,
            "width": null
          }
        },
        "ae7f137bf007456382d1b07b62d59c84": {
          "model_module": "@jupyter-widgets/controls",
          "model_name": "ProgressStyleModel",
          "model_module_version": "1.5.0",
          "state": {
            "_model_module": "@jupyter-widgets/controls",
            "_model_module_version": "1.5.0",
            "_model_name": "ProgressStyleModel",
            "_view_count": null,
            "_view_module": "@jupyter-widgets/base",
            "_view_module_version": "1.2.0",
            "_view_name": "StyleView",
            "bar_color": null,
            "description_width": ""
          }
        },
        "1aa11e3dca29405f811da4a032b5d7b9": {
          "model_module": "@jupyter-widgets/base",
          "model_name": "LayoutModel",
          "model_module_version": "1.2.0",
          "state": {
            "_model_module": "@jupyter-widgets/base",
            "_model_module_version": "1.2.0",
            "_model_name": "LayoutModel",
            "_view_count": null,
            "_view_module": "@jupyter-widgets/base",
            "_view_module_version": "1.2.0",
            "_view_name": "LayoutView",
            "align_content": null,
            "align_items": null,
            "align_self": null,
            "border": null,
            "bottom": null,
            "display": null,
            "flex": null,
            "flex_flow": null,
            "grid_area": null,
            "grid_auto_columns": null,
            "grid_auto_flow": null,
            "grid_auto_rows": null,
            "grid_column": null,
            "grid_gap": null,
            "grid_row": null,
            "grid_template_areas": null,
            "grid_template_columns": null,
            "grid_template_rows": null,
            "height": null,
            "justify_content": null,
            "justify_items": null,
            "left": null,
            "margin": null,
            "max_height": null,
            "max_width": null,
            "min_height": null,
            "min_width": null,
            "object_fit": null,
            "object_position": null,
            "order": null,
            "overflow": null,
            "overflow_x": null,
            "overflow_y": null,
            "padding": null,
            "right": null,
            "top": null,
            "visibility": null,
            "width": null
          }
        },
        "ada2e1624cdb448fb54adc87dd2c9bc2": {
          "model_module": "@jupyter-widgets/controls",
          "model_name": "DescriptionStyleModel",
          "model_module_version": "1.5.0",
          "state": {
            "_model_module": "@jupyter-widgets/controls",
            "_model_module_version": "1.5.0",
            "_model_name": "DescriptionStyleModel",
            "_view_count": null,
            "_view_module": "@jupyter-widgets/base",
            "_view_module_version": "1.2.0",
            "_view_name": "StyleView",
            "description_width": ""
          }
        },
        "e1a36ba2dc294fda9651ab36b839f176": {
          "model_module": "@jupyter-widgets/controls",
          "model_name": "HBoxModel",
          "model_module_version": "1.5.0",
          "state": {
            "_dom_classes": [],
            "_model_module": "@jupyter-widgets/controls",
            "_model_module_version": "1.5.0",
            "_model_name": "HBoxModel",
            "_view_count": null,
            "_view_module": "@jupyter-widgets/controls",
            "_view_module_version": "1.5.0",
            "_view_name": "HBoxView",
            "box_style": "",
            "children": [
              "IPY_MODEL_243ae78e784c450fab1a99f0c940f7c1",
              "IPY_MODEL_8c05025bbcaa4c22b9de751894affd1a",
              "IPY_MODEL_a28b9a6a2bdf4b0cacdddf0e8cfcff6c"
            ],
            "layout": "IPY_MODEL_0ac9590bb28f42a9a73ed648a2074f57"
          }
        },
        "243ae78e784c450fab1a99f0c940f7c1": {
          "model_module": "@jupyter-widgets/controls",
          "model_name": "HTMLModel",
          "model_module_version": "1.5.0",
          "state": {
            "_dom_classes": [],
            "_model_module": "@jupyter-widgets/controls",
            "_model_module_version": "1.5.0",
            "_model_name": "HTMLModel",
            "_view_count": null,
            "_view_module": "@jupyter-widgets/controls",
            "_view_module_version": "1.5.0",
            "_view_name": "HTMLView",
            "description": "",
            "description_tooltip": null,
            "layout": "IPY_MODEL_d4ba36dbae23457d9aa58f456242c580",
            "placeholder": "​",
            "style": "IPY_MODEL_84be53fd13db4a769506d5fed61f848e",
            "value": "config.json: 100%"
          }
        },
        "8c05025bbcaa4c22b9de751894affd1a": {
          "model_module": "@jupyter-widgets/controls",
          "model_name": "FloatProgressModel",
          "model_module_version": "1.5.0",
          "state": {
            "_dom_classes": [],
            "_model_module": "@jupyter-widgets/controls",
            "_model_module_version": "1.5.0",
            "_model_name": "FloatProgressModel",
            "_view_count": null,
            "_view_module": "@jupyter-widgets/controls",
            "_view_module_version": "1.5.0",
            "_view_name": "ProgressView",
            "bar_style": "success",
            "description": "",
            "description_tooltip": null,
            "layout": "IPY_MODEL_1103d7d029314e1287b9d688a9073acb",
            "max": 482,
            "min": 0,
            "orientation": "horizontal",
            "style": "IPY_MODEL_324a983cfee9432fae05f1e627a8df5c",
            "value": 482
          }
        },
        "a28b9a6a2bdf4b0cacdddf0e8cfcff6c": {
          "model_module": "@jupyter-widgets/controls",
          "model_name": "HTMLModel",
          "model_module_version": "1.5.0",
          "state": {
            "_dom_classes": [],
            "_model_module": "@jupyter-widgets/controls",
            "_model_module_version": "1.5.0",
            "_model_name": "HTMLModel",
            "_view_count": null,
            "_view_module": "@jupyter-widgets/controls",
            "_view_module_version": "1.5.0",
            "_view_name": "HTMLView",
            "description": "",
            "description_tooltip": null,
            "layout": "IPY_MODEL_5d4ff397edf74045803667800b74bfb2",
            "placeholder": "​",
            "style": "IPY_MODEL_341e0f616a634dd0b505c1e28c5204ee",
            "value": " 482/482 [00:00&lt;00:00, 31.9kB/s]"
          }
        },
        "0ac9590bb28f42a9a73ed648a2074f57": {
          "model_module": "@jupyter-widgets/base",
          "model_name": "LayoutModel",
          "model_module_version": "1.2.0",
          "state": {
            "_model_module": "@jupyter-widgets/base",
            "_model_module_version": "1.2.0",
            "_model_name": "LayoutModel",
            "_view_count": null,
            "_view_module": "@jupyter-widgets/base",
            "_view_module_version": "1.2.0",
            "_view_name": "LayoutView",
            "align_content": null,
            "align_items": null,
            "align_self": null,
            "border": null,
            "bottom": null,
            "display": null,
            "flex": null,
            "flex_flow": null,
            "grid_area": null,
            "grid_auto_columns": null,
            "grid_auto_flow": null,
            "grid_auto_rows": null,
            "grid_column": null,
            "grid_gap": null,
            "grid_row": null,
            "grid_template_areas": null,
            "grid_template_columns": null,
            "grid_template_rows": null,
            "height": null,
            "justify_content": null,
            "justify_items": null,
            "left": null,
            "margin": null,
            "max_height": null,
            "max_width": null,
            "min_height": null,
            "min_width": null,
            "object_fit": null,
            "object_position": null,
            "order": null,
            "overflow": null,
            "overflow_x": null,
            "overflow_y": null,
            "padding": null,
            "right": null,
            "top": null,
            "visibility": null,
            "width": null
          }
        },
        "d4ba36dbae23457d9aa58f456242c580": {
          "model_module": "@jupyter-widgets/base",
          "model_name": "LayoutModel",
          "model_module_version": "1.2.0",
          "state": {
            "_model_module": "@jupyter-widgets/base",
            "_model_module_version": "1.2.0",
            "_model_name": "LayoutModel",
            "_view_count": null,
            "_view_module": "@jupyter-widgets/base",
            "_view_module_version": "1.2.0",
            "_view_name": "LayoutView",
            "align_content": null,
            "align_items": null,
            "align_self": null,
            "border": null,
            "bottom": null,
            "display": null,
            "flex": null,
            "flex_flow": null,
            "grid_area": null,
            "grid_auto_columns": null,
            "grid_auto_flow": null,
            "grid_auto_rows": null,
            "grid_column": null,
            "grid_gap": null,
            "grid_row": null,
            "grid_template_areas": null,
            "grid_template_columns": null,
            "grid_template_rows": null,
            "height": null,
            "justify_content": null,
            "justify_items": null,
            "left": null,
            "margin": null,
            "max_height": null,
            "max_width": null,
            "min_height": null,
            "min_width": null,
            "object_fit": null,
            "object_position": null,
            "order": null,
            "overflow": null,
            "overflow_x": null,
            "overflow_y": null,
            "padding": null,
            "right": null,
            "top": null,
            "visibility": null,
            "width": null
          }
        },
        "84be53fd13db4a769506d5fed61f848e": {
          "model_module": "@jupyter-widgets/controls",
          "model_name": "DescriptionStyleModel",
          "model_module_version": "1.5.0",
          "state": {
            "_model_module": "@jupyter-widgets/controls",
            "_model_module_version": "1.5.0",
            "_model_name": "DescriptionStyleModel",
            "_view_count": null,
            "_view_module": "@jupyter-widgets/base",
            "_view_module_version": "1.2.0",
            "_view_name": "StyleView",
            "description_width": ""
          }
        },
        "1103d7d029314e1287b9d688a9073acb": {
          "model_module": "@jupyter-widgets/base",
          "model_name": "LayoutModel",
          "model_module_version": "1.2.0",
          "state": {
            "_model_module": "@jupyter-widgets/base",
            "_model_module_version": "1.2.0",
            "_model_name": "LayoutModel",
            "_view_count": null,
            "_view_module": "@jupyter-widgets/base",
            "_view_module_version": "1.2.0",
            "_view_name": "LayoutView",
            "align_content": null,
            "align_items": null,
            "align_self": null,
            "border": null,
            "bottom": null,
            "display": null,
            "flex": null,
            "flex_flow": null,
            "grid_area": null,
            "grid_auto_columns": null,
            "grid_auto_flow": null,
            "grid_auto_rows": null,
            "grid_column": null,
            "grid_gap": null,
            "grid_row": null,
            "grid_template_areas": null,
            "grid_template_columns": null,
            "grid_template_rows": null,
            "height": null,
            "justify_content": null,
            "justify_items": null,
            "left": null,
            "margin": null,
            "max_height": null,
            "max_width": null,
            "min_height": null,
            "min_width": null,
            "object_fit": null,
            "object_position": null,
            "order": null,
            "overflow": null,
            "overflow_x": null,
            "overflow_y": null,
            "padding": null,
            "right": null,
            "top": null,
            "visibility": null,
            "width": null
          }
        },
        "324a983cfee9432fae05f1e627a8df5c": {
          "model_module": "@jupyter-widgets/controls",
          "model_name": "ProgressStyleModel",
          "model_module_version": "1.5.0",
          "state": {
            "_model_module": "@jupyter-widgets/controls",
            "_model_module_version": "1.5.0",
            "_model_name": "ProgressStyleModel",
            "_view_count": null,
            "_view_module": "@jupyter-widgets/base",
            "_view_module_version": "1.2.0",
            "_view_name": "StyleView",
            "bar_color": null,
            "description_width": ""
          }
        },
        "5d4ff397edf74045803667800b74bfb2": {
          "model_module": "@jupyter-widgets/base",
          "model_name": "LayoutModel",
          "model_module_version": "1.2.0",
          "state": {
            "_model_module": "@jupyter-widgets/base",
            "_model_module_version": "1.2.0",
            "_model_name": "LayoutModel",
            "_view_count": null,
            "_view_module": "@jupyter-widgets/base",
            "_view_module_version": "1.2.0",
            "_view_name": "LayoutView",
            "align_content": null,
            "align_items": null,
            "align_self": null,
            "border": null,
            "bottom": null,
            "display": null,
            "flex": null,
            "flex_flow": null,
            "grid_area": null,
            "grid_auto_columns": null,
            "grid_auto_flow": null,
            "grid_auto_rows": null,
            "grid_column": null,
            "grid_gap": null,
            "grid_row": null,
            "grid_template_areas": null,
            "grid_template_columns": null,
            "grid_template_rows": null,
            "height": null,
            "justify_content": null,
            "justify_items": null,
            "left": null,
            "margin": null,
            "max_height": null,
            "max_width": null,
            "min_height": null,
            "min_width": null,
            "object_fit": null,
            "object_position": null,
            "order": null,
            "overflow": null,
            "overflow_x": null,
            "overflow_y": null,
            "padding": null,
            "right": null,
            "top": null,
            "visibility": null,
            "width": null
          }
        },
        "341e0f616a634dd0b505c1e28c5204ee": {
          "model_module": "@jupyter-widgets/controls",
          "model_name": "DescriptionStyleModel",
          "model_module_version": "1.5.0",
          "state": {
            "_model_module": "@jupyter-widgets/controls",
            "_model_module_version": "1.5.0",
            "_model_name": "DescriptionStyleModel",
            "_view_count": null,
            "_view_module": "@jupyter-widgets/base",
            "_view_module_version": "1.2.0",
            "_view_name": "StyleView",
            "description_width": ""
          }
        },
        "cf0ddaef9d8345f29ee55afea5dfa0d5": {
          "model_module": "@jupyter-widgets/controls",
          "model_name": "HBoxModel",
          "model_module_version": "1.5.0",
          "state": {
            "_dom_classes": [],
            "_model_module": "@jupyter-widgets/controls",
            "_model_module_version": "1.5.0",
            "_model_name": "HBoxModel",
            "_view_count": null,
            "_view_module": "@jupyter-widgets/controls",
            "_view_module_version": "1.5.0",
            "_view_name": "HBoxView",
            "box_style": "",
            "children": [
              "IPY_MODEL_b368c4552c0a4ab5be5a07a0003a4ee4",
              "IPY_MODEL_14b6ceb63c2c4900bf716a30433ee3fd",
              "IPY_MODEL_b9bbee53d25b4473a2611ad5320d38e8"
            ],
            "layout": "IPY_MODEL_4751c9f6f8c54f99be199f495bb6f279"
          }
        },
        "b368c4552c0a4ab5be5a07a0003a4ee4": {
          "model_module": "@jupyter-widgets/controls",
          "model_name": "HTMLModel",
          "model_module_version": "1.5.0",
          "state": {
            "_dom_classes": [],
            "_model_module": "@jupyter-widgets/controls",
            "_model_module_version": "1.5.0",
            "_model_name": "HTMLModel",
            "_view_count": null,
            "_view_module": "@jupyter-widgets/controls",
            "_view_module_version": "1.5.0",
            "_view_name": "HTMLView",
            "description": "",
            "description_tooltip": null,
            "layout": "IPY_MODEL_e202910a01bd4b34b4bf4d2e2017f480",
            "placeholder": "​",
            "style": "IPY_MODEL_e4482848130a45d0a19f415aca4f7c61",
            "value": "vocab.json: 100%"
          }
        },
        "14b6ceb63c2c4900bf716a30433ee3fd": {
          "model_module": "@jupyter-widgets/controls",
          "model_name": "FloatProgressModel",
          "model_module_version": "1.5.0",
          "state": {
            "_dom_classes": [],
            "_model_module": "@jupyter-widgets/controls",
            "_model_module_version": "1.5.0",
            "_model_name": "FloatProgressModel",
            "_view_count": null,
            "_view_module": "@jupyter-widgets/controls",
            "_view_module_version": "1.5.0",
            "_view_name": "ProgressView",
            "bar_style": "success",
            "description": "",
            "description_tooltip": null,
            "layout": "IPY_MODEL_4a49bfc77cef4f5da524b63d1be48b33",
            "max": 898823,
            "min": 0,
            "orientation": "horizontal",
            "style": "IPY_MODEL_4a7af954514c467a8e38d4eda4cafa83",
            "value": 898823
          }
        },
        "b9bbee53d25b4473a2611ad5320d38e8": {
          "model_module": "@jupyter-widgets/controls",
          "model_name": "HTMLModel",
          "model_module_version": "1.5.0",
          "state": {
            "_dom_classes": [],
            "_model_module": "@jupyter-widgets/controls",
            "_model_module_version": "1.5.0",
            "_model_name": "HTMLModel",
            "_view_count": null,
            "_view_module": "@jupyter-widgets/controls",
            "_view_module_version": "1.5.0",
            "_view_name": "HTMLView",
            "description": "",
            "description_tooltip": null,
            "layout": "IPY_MODEL_430eca5214ee4ab384c0ee8e13ab809d",
            "placeholder": "​",
            "style": "IPY_MODEL_968a050962a64fdd9b27485eddf0af8c",
            "value": " 899k/899k [00:00&lt;00:00, 5.91MB/s]"
          }
        },
        "4751c9f6f8c54f99be199f495bb6f279": {
          "model_module": "@jupyter-widgets/base",
          "model_name": "LayoutModel",
          "model_module_version": "1.2.0",
          "state": {
            "_model_module": "@jupyter-widgets/base",
            "_model_module_version": "1.2.0",
            "_model_name": "LayoutModel",
            "_view_count": null,
            "_view_module": "@jupyter-widgets/base",
            "_view_module_version": "1.2.0",
            "_view_name": "LayoutView",
            "align_content": null,
            "align_items": null,
            "align_self": null,
            "border": null,
            "bottom": null,
            "display": null,
            "flex": null,
            "flex_flow": null,
            "grid_area": null,
            "grid_auto_columns": null,
            "grid_auto_flow": null,
            "grid_auto_rows": null,
            "grid_column": null,
            "grid_gap": null,
            "grid_row": null,
            "grid_template_areas": null,
            "grid_template_columns": null,
            "grid_template_rows": null,
            "height": null,
            "justify_content": null,
            "justify_items": null,
            "left": null,
            "margin": null,
            "max_height": null,
            "max_width": null,
            "min_height": null,
            "min_width": null,
            "object_fit": null,
            "object_position": null,
            "order": null,
            "overflow": null,
            "overflow_x": null,
            "overflow_y": null,
            "padding": null,
            "right": null,
            "top": null,
            "visibility": null,
            "width": null
          }
        },
        "e202910a01bd4b34b4bf4d2e2017f480": {
          "model_module": "@jupyter-widgets/base",
          "model_name": "LayoutModel",
          "model_module_version": "1.2.0",
          "state": {
            "_model_module": "@jupyter-widgets/base",
            "_model_module_version": "1.2.0",
            "_model_name": "LayoutModel",
            "_view_count": null,
            "_view_module": "@jupyter-widgets/base",
            "_view_module_version": "1.2.0",
            "_view_name": "LayoutView",
            "align_content": null,
            "align_items": null,
            "align_self": null,
            "border": null,
            "bottom": null,
            "display": null,
            "flex": null,
            "flex_flow": null,
            "grid_area": null,
            "grid_auto_columns": null,
            "grid_auto_flow": null,
            "grid_auto_rows": null,
            "grid_column": null,
            "grid_gap": null,
            "grid_row": null,
            "grid_template_areas": null,
            "grid_template_columns": null,
            "grid_template_rows": null,
            "height": null,
            "justify_content": null,
            "justify_items": null,
            "left": null,
            "margin": null,
            "max_height": null,
            "max_width": null,
            "min_height": null,
            "min_width": null,
            "object_fit": null,
            "object_position": null,
            "order": null,
            "overflow": null,
            "overflow_x": null,
            "overflow_y": null,
            "padding": null,
            "right": null,
            "top": null,
            "visibility": null,
            "width": null
          }
        },
        "e4482848130a45d0a19f415aca4f7c61": {
          "model_module": "@jupyter-widgets/controls",
          "model_name": "DescriptionStyleModel",
          "model_module_version": "1.5.0",
          "state": {
            "_model_module": "@jupyter-widgets/controls",
            "_model_module_version": "1.5.0",
            "_model_name": "DescriptionStyleModel",
            "_view_count": null,
            "_view_module": "@jupyter-widgets/base",
            "_view_module_version": "1.2.0",
            "_view_name": "StyleView",
            "description_width": ""
          }
        },
        "4a49bfc77cef4f5da524b63d1be48b33": {
          "model_module": "@jupyter-widgets/base",
          "model_name": "LayoutModel",
          "model_module_version": "1.2.0",
          "state": {
            "_model_module": "@jupyter-widgets/base",
            "_model_module_version": "1.2.0",
            "_model_name": "LayoutModel",
            "_view_count": null,
            "_view_module": "@jupyter-widgets/base",
            "_view_module_version": "1.2.0",
            "_view_name": "LayoutView",
            "align_content": null,
            "align_items": null,
            "align_self": null,
            "border": null,
            "bottom": null,
            "display": null,
            "flex": null,
            "flex_flow": null,
            "grid_area": null,
            "grid_auto_columns": null,
            "grid_auto_flow": null,
            "grid_auto_rows": null,
            "grid_column": null,
            "grid_gap": null,
            "grid_row": null,
            "grid_template_areas": null,
            "grid_template_columns": null,
            "grid_template_rows": null,
            "height": null,
            "justify_content": null,
            "justify_items": null,
            "left": null,
            "margin": null,
            "max_height": null,
            "max_width": null,
            "min_height": null,
            "min_width": null,
            "object_fit": null,
            "object_position": null,
            "order": null,
            "overflow": null,
            "overflow_x": null,
            "overflow_y": null,
            "padding": null,
            "right": null,
            "top": null,
            "visibility": null,
            "width": null
          }
        },
        "4a7af954514c467a8e38d4eda4cafa83": {
          "model_module": "@jupyter-widgets/controls",
          "model_name": "ProgressStyleModel",
          "model_module_version": "1.5.0",
          "state": {
            "_model_module": "@jupyter-widgets/controls",
            "_model_module_version": "1.5.0",
            "_model_name": "ProgressStyleModel",
            "_view_count": null,
            "_view_module": "@jupyter-widgets/base",
            "_view_module_version": "1.2.0",
            "_view_name": "StyleView",
            "bar_color": null,
            "description_width": ""
          }
        },
        "430eca5214ee4ab384c0ee8e13ab809d": {
          "model_module": "@jupyter-widgets/base",
          "model_name": "LayoutModel",
          "model_module_version": "1.2.0",
          "state": {
            "_model_module": "@jupyter-widgets/base",
            "_model_module_version": "1.2.0",
            "_model_name": "LayoutModel",
            "_view_count": null,
            "_view_module": "@jupyter-widgets/base",
            "_view_module_version": "1.2.0",
            "_view_name": "LayoutView",
            "align_content": null,
            "align_items": null,
            "align_self": null,
            "border": null,
            "bottom": null,
            "display": null,
            "flex": null,
            "flex_flow": null,
            "grid_area": null,
            "grid_auto_columns": null,
            "grid_auto_flow": null,
            "grid_auto_rows": null,
            "grid_column": null,
            "grid_gap": null,
            "grid_row": null,
            "grid_template_areas": null,
            "grid_template_columns": null,
            "grid_template_rows": null,
            "height": null,
            "justify_content": null,
            "justify_items": null,
            "left": null,
            "margin": null,
            "max_height": null,
            "max_width": null,
            "min_height": null,
            "min_width": null,
            "object_fit": null,
            "object_position": null,
            "order": null,
            "overflow": null,
            "overflow_x": null,
            "overflow_y": null,
            "padding": null,
            "right": null,
            "top": null,
            "visibility": null,
            "width": null
          }
        },
        "968a050962a64fdd9b27485eddf0af8c": {
          "model_module": "@jupyter-widgets/controls",
          "model_name": "DescriptionStyleModel",
          "model_module_version": "1.5.0",
          "state": {
            "_model_module": "@jupyter-widgets/controls",
            "_model_module_version": "1.5.0",
            "_model_name": "DescriptionStyleModel",
            "_view_count": null,
            "_view_module": "@jupyter-widgets/base",
            "_view_module_version": "1.2.0",
            "_view_name": "StyleView",
            "description_width": ""
          }
        },
        "f0f93150393e45abaa20117c3dd4b303": {
          "model_module": "@jupyter-widgets/controls",
          "model_name": "HBoxModel",
          "model_module_version": "1.5.0",
          "state": {
            "_dom_classes": [],
            "_model_module": "@jupyter-widgets/controls",
            "_model_module_version": "1.5.0",
            "_model_name": "HBoxModel",
            "_view_count": null,
            "_view_module": "@jupyter-widgets/controls",
            "_view_module_version": "1.5.0",
            "_view_name": "HBoxView",
            "box_style": "",
            "children": [
              "IPY_MODEL_fe68e6525982478aa4553fdbfe982e28",
              "IPY_MODEL_bd5654e857244f338bfd1f0156e3d0f9",
              "IPY_MODEL_c8e83d57f86341a5b4a816f7f1c8e9d5"
            ],
            "layout": "IPY_MODEL_61f96bd2952c4d9d85e76b09fab9cd92"
          }
        },
        "fe68e6525982478aa4553fdbfe982e28": {
          "model_module": "@jupyter-widgets/controls",
          "model_name": "HTMLModel",
          "model_module_version": "1.5.0",
          "state": {
            "_dom_classes": [],
            "_model_module": "@jupyter-widgets/controls",
            "_model_module_version": "1.5.0",
            "_model_name": "HTMLModel",
            "_view_count": null,
            "_view_module": "@jupyter-widgets/controls",
            "_view_module_version": "1.5.0",
            "_view_name": "HTMLView",
            "description": "",
            "description_tooltip": null,
            "layout": "IPY_MODEL_f129a9e06fff475b9bf1fead48515d4b",
            "placeholder": "​",
            "style": "IPY_MODEL_41f4fdb505734c99bae47e1186ef3a56",
            "value": "merges.txt: 100%"
          }
        },
        "bd5654e857244f338bfd1f0156e3d0f9": {
          "model_module": "@jupyter-widgets/controls",
          "model_name": "FloatProgressModel",
          "model_module_version": "1.5.0",
          "state": {
            "_dom_classes": [],
            "_model_module": "@jupyter-widgets/controls",
            "_model_module_version": "1.5.0",
            "_model_name": "FloatProgressModel",
            "_view_count": null,
            "_view_module": "@jupyter-widgets/controls",
            "_view_module_version": "1.5.0",
            "_view_name": "ProgressView",
            "bar_style": "success",
            "description": "",
            "description_tooltip": null,
            "layout": "IPY_MODEL_67a27a61afea45a3a484c36ddd098880",
            "max": 456318,
            "min": 0,
            "orientation": "horizontal",
            "style": "IPY_MODEL_850aeff51ff74046bdb48a3f275a403c",
            "value": 456318
          }
        },
        "c8e83d57f86341a5b4a816f7f1c8e9d5": {
          "model_module": "@jupyter-widgets/controls",
          "model_name": "HTMLModel",
          "model_module_version": "1.5.0",
          "state": {
            "_dom_classes": [],
            "_model_module": "@jupyter-widgets/controls",
            "_model_module_version": "1.5.0",
            "_model_name": "HTMLModel",
            "_view_count": null,
            "_view_module": "@jupyter-widgets/controls",
            "_view_module_version": "1.5.0",
            "_view_name": "HTMLView",
            "description": "",
            "description_tooltip": null,
            "layout": "IPY_MODEL_53683bc7ebb04f8ab0285b15b28c67d4",
            "placeholder": "​",
            "style": "IPY_MODEL_3514df976a9f44469899530509880ab7",
            "value": " 456k/456k [00:00&lt;00:00, 3.54MB/s]"
          }
        },
        "61f96bd2952c4d9d85e76b09fab9cd92": {
          "model_module": "@jupyter-widgets/base",
          "model_name": "LayoutModel",
          "model_module_version": "1.2.0",
          "state": {
            "_model_module": "@jupyter-widgets/base",
            "_model_module_version": "1.2.0",
            "_model_name": "LayoutModel",
            "_view_count": null,
            "_view_module": "@jupyter-widgets/base",
            "_view_module_version": "1.2.0",
            "_view_name": "LayoutView",
            "align_content": null,
            "align_items": null,
            "align_self": null,
            "border": null,
            "bottom": null,
            "display": null,
            "flex": null,
            "flex_flow": null,
            "grid_area": null,
            "grid_auto_columns": null,
            "grid_auto_flow": null,
            "grid_auto_rows": null,
            "grid_column": null,
            "grid_gap": null,
            "grid_row": null,
            "grid_template_areas": null,
            "grid_template_columns": null,
            "grid_template_rows": null,
            "height": null,
            "justify_content": null,
            "justify_items": null,
            "left": null,
            "margin": null,
            "max_height": null,
            "max_width": null,
            "min_height": null,
            "min_width": null,
            "object_fit": null,
            "object_position": null,
            "order": null,
            "overflow": null,
            "overflow_x": null,
            "overflow_y": null,
            "padding": null,
            "right": null,
            "top": null,
            "visibility": null,
            "width": null
          }
        },
        "f129a9e06fff475b9bf1fead48515d4b": {
          "model_module": "@jupyter-widgets/base",
          "model_name": "LayoutModel",
          "model_module_version": "1.2.0",
          "state": {
            "_model_module": "@jupyter-widgets/base",
            "_model_module_version": "1.2.0",
            "_model_name": "LayoutModel",
            "_view_count": null,
            "_view_module": "@jupyter-widgets/base",
            "_view_module_version": "1.2.0",
            "_view_name": "LayoutView",
            "align_content": null,
            "align_items": null,
            "align_self": null,
            "border": null,
            "bottom": null,
            "display": null,
            "flex": null,
            "flex_flow": null,
            "grid_area": null,
            "grid_auto_columns": null,
            "grid_auto_flow": null,
            "grid_auto_rows": null,
            "grid_column": null,
            "grid_gap": null,
            "grid_row": null,
            "grid_template_areas": null,
            "grid_template_columns": null,
            "grid_template_rows": null,
            "height": null,
            "justify_content": null,
            "justify_items": null,
            "left": null,
            "margin": null,
            "max_height": null,
            "max_width": null,
            "min_height": null,
            "min_width": null,
            "object_fit": null,
            "object_position": null,
            "order": null,
            "overflow": null,
            "overflow_x": null,
            "overflow_y": null,
            "padding": null,
            "right": null,
            "top": null,
            "visibility": null,
            "width": null
          }
        },
        "41f4fdb505734c99bae47e1186ef3a56": {
          "model_module": "@jupyter-widgets/controls",
          "model_name": "DescriptionStyleModel",
          "model_module_version": "1.5.0",
          "state": {
            "_model_module": "@jupyter-widgets/controls",
            "_model_module_version": "1.5.0",
            "_model_name": "DescriptionStyleModel",
            "_view_count": null,
            "_view_module": "@jupyter-widgets/base",
            "_view_module_version": "1.2.0",
            "_view_name": "StyleView",
            "description_width": ""
          }
        },
        "67a27a61afea45a3a484c36ddd098880": {
          "model_module": "@jupyter-widgets/base",
          "model_name": "LayoutModel",
          "model_module_version": "1.2.0",
          "state": {
            "_model_module": "@jupyter-widgets/base",
            "_model_module_version": "1.2.0",
            "_model_name": "LayoutModel",
            "_view_count": null,
            "_view_module": "@jupyter-widgets/base",
            "_view_module_version": "1.2.0",
            "_view_name": "LayoutView",
            "align_content": null,
            "align_items": null,
            "align_self": null,
            "border": null,
            "bottom": null,
            "display": null,
            "flex": null,
            "flex_flow": null,
            "grid_area": null,
            "grid_auto_columns": null,
            "grid_auto_flow": null,
            "grid_auto_rows": null,
            "grid_column": null,
            "grid_gap": null,
            "grid_row": null,
            "grid_template_areas": null,
            "grid_template_columns": null,
            "grid_template_rows": null,
            "height": null,
            "justify_content": null,
            "justify_items": null,
            "left": null,
            "margin": null,
            "max_height": null,
            "max_width": null,
            "min_height": null,
            "min_width": null,
            "object_fit": null,
            "object_position": null,
            "order": null,
            "overflow": null,
            "overflow_x": null,
            "overflow_y": null,
            "padding": null,
            "right": null,
            "top": null,
            "visibility": null,
            "width": null
          }
        },
        "850aeff51ff74046bdb48a3f275a403c": {
          "model_module": "@jupyter-widgets/controls",
          "model_name": "ProgressStyleModel",
          "model_module_version": "1.5.0",
          "state": {
            "_model_module": "@jupyter-widgets/controls",
            "_model_module_version": "1.5.0",
            "_model_name": "ProgressStyleModel",
            "_view_count": null,
            "_view_module": "@jupyter-widgets/base",
            "_view_module_version": "1.2.0",
            "_view_name": "StyleView",
            "bar_color": null,
            "description_width": ""
          }
        },
        "53683bc7ebb04f8ab0285b15b28c67d4": {
          "model_module": "@jupyter-widgets/base",
          "model_name": "LayoutModel",
          "model_module_version": "1.2.0",
          "state": {
            "_model_module": "@jupyter-widgets/base",
            "_model_module_version": "1.2.0",
            "_model_name": "LayoutModel",
            "_view_count": null,
            "_view_module": "@jupyter-widgets/base",
            "_view_module_version": "1.2.0",
            "_view_name": "LayoutView",
            "align_content": null,
            "align_items": null,
            "align_self": null,
            "border": null,
            "bottom": null,
            "display": null,
            "flex": null,
            "flex_flow": null,
            "grid_area": null,
            "grid_auto_columns": null,
            "grid_auto_flow": null,
            "grid_auto_rows": null,
            "grid_column": null,
            "grid_gap": null,
            "grid_row": null,
            "grid_template_areas": null,
            "grid_template_columns": null,
            "grid_template_rows": null,
            "height": null,
            "justify_content": null,
            "justify_items": null,
            "left": null,
            "margin": null,
            "max_height": null,
            "max_width": null,
            "min_height": null,
            "min_width": null,
            "object_fit": null,
            "object_position": null,
            "order": null,
            "overflow": null,
            "overflow_x": null,
            "overflow_y": null,
            "padding": null,
            "right": null,
            "top": null,
            "visibility": null,
            "width": null
          }
        },
        "3514df976a9f44469899530509880ab7": {
          "model_module": "@jupyter-widgets/controls",
          "model_name": "DescriptionStyleModel",
          "model_module_version": "1.5.0",
          "state": {
            "_model_module": "@jupyter-widgets/controls",
            "_model_module_version": "1.5.0",
            "_model_name": "DescriptionStyleModel",
            "_view_count": null,
            "_view_module": "@jupyter-widgets/base",
            "_view_module_version": "1.2.0",
            "_view_name": "StyleView",
            "description_width": ""
          }
        },
        "c6596c3c7073486d9d3ae4c7bde79237": {
          "model_module": "@jupyter-widgets/controls",
          "model_name": "HBoxModel",
          "model_module_version": "1.5.0",
          "state": {
            "_dom_classes": [],
            "_model_module": "@jupyter-widgets/controls",
            "_model_module_version": "1.5.0",
            "_model_name": "HBoxModel",
            "_view_count": null,
            "_view_module": "@jupyter-widgets/controls",
            "_view_module_version": "1.5.0",
            "_view_name": "HBoxView",
            "box_style": "",
            "children": [
              "IPY_MODEL_4537c42cec53416081c2c1397edf131a",
              "IPY_MODEL_f799f64a1d134d64b032a8b314719e35",
              "IPY_MODEL_b7b5375369ca47caa6f138c61d5e57da"
            ],
            "layout": "IPY_MODEL_44c7470dd1e34178bdc14faea378d52d"
          }
        },
        "4537c42cec53416081c2c1397edf131a": {
          "model_module": "@jupyter-widgets/controls",
          "model_name": "HTMLModel",
          "model_module_version": "1.5.0",
          "state": {
            "_dom_classes": [],
            "_model_module": "@jupyter-widgets/controls",
            "_model_module_version": "1.5.0",
            "_model_name": "HTMLModel",
            "_view_count": null,
            "_view_module": "@jupyter-widgets/controls",
            "_view_module_version": "1.5.0",
            "_view_name": "HTMLView",
            "description": "",
            "description_tooltip": null,
            "layout": "IPY_MODEL_5dd2c87266e74d25bfb0688307761513",
            "placeholder": "​",
            "style": "IPY_MODEL_d4b1afe1cf6e4a3f8221440cde709673",
            "value": "tokenizer.json: 100%"
          }
        },
        "f799f64a1d134d64b032a8b314719e35": {
          "model_module": "@jupyter-widgets/controls",
          "model_name": "FloatProgressModel",
          "model_module_version": "1.5.0",
          "state": {
            "_dom_classes": [],
            "_model_module": "@jupyter-widgets/controls",
            "_model_module_version": "1.5.0",
            "_model_name": "FloatProgressModel",
            "_view_count": null,
            "_view_module": "@jupyter-widgets/controls",
            "_view_module_version": "1.5.0",
            "_view_name": "ProgressView",
            "bar_style": "success",
            "description": "",
            "description_tooltip": null,
            "layout": "IPY_MODEL_ee30c7a55f0541ec859a1eb3c8534f69",
            "max": 1355863,
            "min": 0,
            "orientation": "horizontal",
            "style": "IPY_MODEL_a574e176b08543f8bf9fb4c3e04fa7b8",
            "value": 1355863
          }
        },
        "b7b5375369ca47caa6f138c61d5e57da": {
          "model_module": "@jupyter-widgets/controls",
          "model_name": "HTMLModel",
          "model_module_version": "1.5.0",
          "state": {
            "_dom_classes": [],
            "_model_module": "@jupyter-widgets/controls",
            "_model_module_version": "1.5.0",
            "_model_name": "HTMLModel",
            "_view_count": null,
            "_view_module": "@jupyter-widgets/controls",
            "_view_module_version": "1.5.0",
            "_view_name": "HTMLView",
            "description": "",
            "description_tooltip": null,
            "layout": "IPY_MODEL_3be884360fa44c5fb461286b7702e225",
            "placeholder": "​",
            "style": "IPY_MODEL_8be3b15e1ca841e28127c55ba46d815a",
            "value": " 1.36M/1.36M [00:00&lt;00:00, 6.87MB/s]"
          }
        },
        "44c7470dd1e34178bdc14faea378d52d": {
          "model_module": "@jupyter-widgets/base",
          "model_name": "LayoutModel",
          "model_module_version": "1.2.0",
          "state": {
            "_model_module": "@jupyter-widgets/base",
            "_model_module_version": "1.2.0",
            "_model_name": "LayoutModel",
            "_view_count": null,
            "_view_module": "@jupyter-widgets/base",
            "_view_module_version": "1.2.0",
            "_view_name": "LayoutView",
            "align_content": null,
            "align_items": null,
            "align_self": null,
            "border": null,
            "bottom": null,
            "display": null,
            "flex": null,
            "flex_flow": null,
            "grid_area": null,
            "grid_auto_columns": null,
            "grid_auto_flow": null,
            "grid_auto_rows": null,
            "grid_column": null,
            "grid_gap": null,
            "grid_row": null,
            "grid_template_areas": null,
            "grid_template_columns": null,
            "grid_template_rows": null,
            "height": null,
            "justify_content": null,
            "justify_items": null,
            "left": null,
            "margin": null,
            "max_height": null,
            "max_width": null,
            "min_height": null,
            "min_width": null,
            "object_fit": null,
            "object_position": null,
            "order": null,
            "overflow": null,
            "overflow_x": null,
            "overflow_y": null,
            "padding": null,
            "right": null,
            "top": null,
            "visibility": null,
            "width": null
          }
        },
        "5dd2c87266e74d25bfb0688307761513": {
          "model_module": "@jupyter-widgets/base",
          "model_name": "LayoutModel",
          "model_module_version": "1.2.0",
          "state": {
            "_model_module": "@jupyter-widgets/base",
            "_model_module_version": "1.2.0",
            "_model_name": "LayoutModel",
            "_view_count": null,
            "_view_module": "@jupyter-widgets/base",
            "_view_module_version": "1.2.0",
            "_view_name": "LayoutView",
            "align_content": null,
            "align_items": null,
            "align_self": null,
            "border": null,
            "bottom": null,
            "display": null,
            "flex": null,
            "flex_flow": null,
            "grid_area": null,
            "grid_auto_columns": null,
            "grid_auto_flow": null,
            "grid_auto_rows": null,
            "grid_column": null,
            "grid_gap": null,
            "grid_row": null,
            "grid_template_areas": null,
            "grid_template_columns": null,
            "grid_template_rows": null,
            "height": null,
            "justify_content": null,
            "justify_items": null,
            "left": null,
            "margin": null,
            "max_height": null,
            "max_width": null,
            "min_height": null,
            "min_width": null,
            "object_fit": null,
            "object_position": null,
            "order": null,
            "overflow": null,
            "overflow_x": null,
            "overflow_y": null,
            "padding": null,
            "right": null,
            "top": null,
            "visibility": null,
            "width": null
          }
        },
        "d4b1afe1cf6e4a3f8221440cde709673": {
          "model_module": "@jupyter-widgets/controls",
          "model_name": "DescriptionStyleModel",
          "model_module_version": "1.5.0",
          "state": {
            "_model_module": "@jupyter-widgets/controls",
            "_model_module_version": "1.5.0",
            "_model_name": "DescriptionStyleModel",
            "_view_count": null,
            "_view_module": "@jupyter-widgets/base",
            "_view_module_version": "1.2.0",
            "_view_name": "StyleView",
            "description_width": ""
          }
        },
        "ee30c7a55f0541ec859a1eb3c8534f69": {
          "model_module": "@jupyter-widgets/base",
          "model_name": "LayoutModel",
          "model_module_version": "1.2.0",
          "state": {
            "_model_module": "@jupyter-widgets/base",
            "_model_module_version": "1.2.0",
            "_model_name": "LayoutModel",
            "_view_count": null,
            "_view_module": "@jupyter-widgets/base",
            "_view_module_version": "1.2.0",
            "_view_name": "LayoutView",
            "align_content": null,
            "align_items": null,
            "align_self": null,
            "border": null,
            "bottom": null,
            "display": null,
            "flex": null,
            "flex_flow": null,
            "grid_area": null,
            "grid_auto_columns": null,
            "grid_auto_flow": null,
            "grid_auto_rows": null,
            "grid_column": null,
            "grid_gap": null,
            "grid_row": null,
            "grid_template_areas": null,
            "grid_template_columns": null,
            "grid_template_rows": null,
            "height": null,
            "justify_content": null,
            "justify_items": null,
            "left": null,
            "margin": null,
            "max_height": null,
            "max_width": null,
            "min_height": null,
            "min_width": null,
            "object_fit": null,
            "object_position": null,
            "order": null,
            "overflow": null,
            "overflow_x": null,
            "overflow_y": null,
            "padding": null,
            "right": null,
            "top": null,
            "visibility": null,
            "width": null
          }
        },
        "a574e176b08543f8bf9fb4c3e04fa7b8": {
          "model_module": "@jupyter-widgets/controls",
          "model_name": "ProgressStyleModel",
          "model_module_version": "1.5.0",
          "state": {
            "_model_module": "@jupyter-widgets/controls",
            "_model_module_version": "1.5.0",
            "_model_name": "ProgressStyleModel",
            "_view_count": null,
            "_view_module": "@jupyter-widgets/base",
            "_view_module_version": "1.2.0",
            "_view_name": "StyleView",
            "bar_color": null,
            "description_width": ""
          }
        },
        "3be884360fa44c5fb461286b7702e225": {
          "model_module": "@jupyter-widgets/base",
          "model_name": "LayoutModel",
          "model_module_version": "1.2.0",
          "state": {
            "_model_module": "@jupyter-widgets/base",
            "_model_module_version": "1.2.0",
            "_model_name": "LayoutModel",
            "_view_count": null,
            "_view_module": "@jupyter-widgets/base",
            "_view_module_version": "1.2.0",
            "_view_name": "LayoutView",
            "align_content": null,
            "align_items": null,
            "align_self": null,
            "border": null,
            "bottom": null,
            "display": null,
            "flex": null,
            "flex_flow": null,
            "grid_area": null,
            "grid_auto_columns": null,
            "grid_auto_flow": null,
            "grid_auto_rows": null,
            "grid_column": null,
            "grid_gap": null,
            "grid_row": null,
            "grid_template_areas": null,
            "grid_template_columns": null,
            "grid_template_rows": null,
            "height": null,
            "justify_content": null,
            "justify_items": null,
            "left": null,
            "margin": null,
            "max_height": null,
            "max_width": null,
            "min_height": null,
            "min_width": null,
            "object_fit": null,
            "object_position": null,
            "order": null,
            "overflow": null,
            "overflow_x": null,
            "overflow_y": null,
            "padding": null,
            "right": null,
            "top": null,
            "visibility": null,
            "width": null
          }
        },
        "8be3b15e1ca841e28127c55ba46d815a": {
          "model_module": "@jupyter-widgets/controls",
          "model_name": "DescriptionStyleModel",
          "model_module_version": "1.5.0",
          "state": {
            "_model_module": "@jupyter-widgets/controls",
            "_model_module_version": "1.5.0",
            "_model_name": "DescriptionStyleModel",
            "_view_count": null,
            "_view_module": "@jupyter-widgets/base",
            "_view_module_version": "1.2.0",
            "_view_name": "StyleView",
            "description_width": ""
          }
        },
        "c8f38d2a919a492db8ff61e1adedd4e3": {
          "model_module": "@jupyter-widgets/controls",
          "model_name": "HBoxModel",
          "model_module_version": "1.5.0",
          "state": {
            "_dom_classes": [],
            "_model_module": "@jupyter-widgets/controls",
            "_model_module_version": "1.5.0",
            "_model_name": "HBoxModel",
            "_view_count": null,
            "_view_module": "@jupyter-widgets/controls",
            "_view_module_version": "1.5.0",
            "_view_name": "HBoxView",
            "box_style": "",
            "children": [
              "IPY_MODEL_8450307c9f1e43f4987746867509621d",
              "IPY_MODEL_4bae2833275a47ac86b56a2298a81395",
              "IPY_MODEL_089a56275a6340bf81bfdc01ebcd3e15"
            ],
            "layout": "IPY_MODEL_9905b9978a0f4e488f740779870cfbbe"
          }
        },
        "8450307c9f1e43f4987746867509621d": {
          "model_module": "@jupyter-widgets/controls",
          "model_name": "HTMLModel",
          "model_module_version": "1.5.0",
          "state": {
            "_dom_classes": [],
            "_model_module": "@jupyter-widgets/controls",
            "_model_module_version": "1.5.0",
            "_model_name": "HTMLModel",
            "_view_count": null,
            "_view_module": "@jupyter-widgets/controls",
            "_view_module_version": "1.5.0",
            "_view_name": "HTMLView",
            "description": "",
            "description_tooltip": null,
            "layout": "IPY_MODEL_8e05c844e7874fcf97e87c5e31c1d01a",
            "placeholder": "​",
            "style": "IPY_MODEL_2412e37e300242a783adee9371cd8df6",
            "value": "model.safetensors: 100%"
          }
        },
        "4bae2833275a47ac86b56a2298a81395": {
          "model_module": "@jupyter-widgets/controls",
          "model_name": "FloatProgressModel",
          "model_module_version": "1.5.0",
          "state": {
            "_dom_classes": [],
            "_model_module": "@jupyter-widgets/controls",
            "_model_module_version": "1.5.0",
            "_model_name": "FloatProgressModel",
            "_view_count": null,
            "_view_module": "@jupyter-widgets/controls",
            "_view_module_version": "1.5.0",
            "_view_name": "ProgressView",
            "bar_style": "success",
            "description": "",
            "description_tooltip": null,
            "layout": "IPY_MODEL_60d70239495d44bb80515d1303807f81",
            "max": 1421700479,
            "min": 0,
            "orientation": "horizontal",
            "style": "IPY_MODEL_1cc34d09bce0438c883274e1c9161b36",
            "value": 1421700479
          }
        },
        "089a56275a6340bf81bfdc01ebcd3e15": {
          "model_module": "@jupyter-widgets/controls",
          "model_name": "HTMLModel",
          "model_module_version": "1.5.0",
          "state": {
            "_dom_classes": [],
            "_model_module": "@jupyter-widgets/controls",
            "_model_module_version": "1.5.0",
            "_model_name": "HTMLModel",
            "_view_count": null,
            "_view_module": "@jupyter-widgets/controls",
            "_view_module_version": "1.5.0",
            "_view_name": "HTMLView",
            "description": "",
            "description_tooltip": null,
            "layout": "IPY_MODEL_e0aa1441feed444596c27b0689d52b10",
            "placeholder": "​",
            "style": "IPY_MODEL_c988be620360407b8cfcf2814ecf8587",
            "value": " 1.42G/1.42G [00:13&lt;00:00, 34.6MB/s]"
          }
        },
        "9905b9978a0f4e488f740779870cfbbe": {
          "model_module": "@jupyter-widgets/base",
          "model_name": "LayoutModel",
          "model_module_version": "1.2.0",
          "state": {
            "_model_module": "@jupyter-widgets/base",
            "_model_module_version": "1.2.0",
            "_model_name": "LayoutModel",
            "_view_count": null,
            "_view_module": "@jupyter-widgets/base",
            "_view_module_version": "1.2.0",
            "_view_name": "LayoutView",
            "align_content": null,
            "align_items": null,
            "align_self": null,
            "border": null,
            "bottom": null,
            "display": null,
            "flex": null,
            "flex_flow": null,
            "grid_area": null,
            "grid_auto_columns": null,
            "grid_auto_flow": null,
            "grid_auto_rows": null,
            "grid_column": null,
            "grid_gap": null,
            "grid_row": null,
            "grid_template_areas": null,
            "grid_template_columns": null,
            "grid_template_rows": null,
            "height": null,
            "justify_content": null,
            "justify_items": null,
            "left": null,
            "margin": null,
            "max_height": null,
            "max_width": null,
            "min_height": null,
            "min_width": null,
            "object_fit": null,
            "object_position": null,
            "order": null,
            "overflow": null,
            "overflow_x": null,
            "overflow_y": null,
            "padding": null,
            "right": null,
            "top": null,
            "visibility": null,
            "width": null
          }
        },
        "8e05c844e7874fcf97e87c5e31c1d01a": {
          "model_module": "@jupyter-widgets/base",
          "model_name": "LayoutModel",
          "model_module_version": "1.2.0",
          "state": {
            "_model_module": "@jupyter-widgets/base",
            "_model_module_version": "1.2.0",
            "_model_name": "LayoutModel",
            "_view_count": null,
            "_view_module": "@jupyter-widgets/base",
            "_view_module_version": "1.2.0",
            "_view_name": "LayoutView",
            "align_content": null,
            "align_items": null,
            "align_self": null,
            "border": null,
            "bottom": null,
            "display": null,
            "flex": null,
            "flex_flow": null,
            "grid_area": null,
            "grid_auto_columns": null,
            "grid_auto_flow": null,
            "grid_auto_rows": null,
            "grid_column": null,
            "grid_gap": null,
            "grid_row": null,
            "grid_template_areas": null,
            "grid_template_columns": null,
            "grid_template_rows": null,
            "height": null,
            "justify_content": null,
            "justify_items": null,
            "left": null,
            "margin": null,
            "max_height": null,
            "max_width": null,
            "min_height": null,
            "min_width": null,
            "object_fit": null,
            "object_position": null,
            "order": null,
            "overflow": null,
            "overflow_x": null,
            "overflow_y": null,
            "padding": null,
            "right": null,
            "top": null,
            "visibility": null,
            "width": null
          }
        },
        "2412e37e300242a783adee9371cd8df6": {
          "model_module": "@jupyter-widgets/controls",
          "model_name": "DescriptionStyleModel",
          "model_module_version": "1.5.0",
          "state": {
            "_model_module": "@jupyter-widgets/controls",
            "_model_module_version": "1.5.0",
            "_model_name": "DescriptionStyleModel",
            "_view_count": null,
            "_view_module": "@jupyter-widgets/base",
            "_view_module_version": "1.2.0",
            "_view_name": "StyleView",
            "description_width": ""
          }
        },
        "60d70239495d44bb80515d1303807f81": {
          "model_module": "@jupyter-widgets/base",
          "model_name": "LayoutModel",
          "model_module_version": "1.2.0",
          "state": {
            "_model_module": "@jupyter-widgets/base",
            "_model_module_version": "1.2.0",
            "_model_name": "LayoutModel",
            "_view_count": null,
            "_view_module": "@jupyter-widgets/base",
            "_view_module_version": "1.2.0",
            "_view_name": "LayoutView",
            "align_content": null,
            "align_items": null,
            "align_self": null,
            "border": null,
            "bottom": null,
            "display": null,
            "flex": null,
            "flex_flow": null,
            "grid_area": null,
            "grid_auto_columns": null,
            "grid_auto_flow": null,
            "grid_auto_rows": null,
            "grid_column": null,
            "grid_gap": null,
            "grid_row": null,
            "grid_template_areas": null,
            "grid_template_columns": null,
            "grid_template_rows": null,
            "height": null,
            "justify_content": null,
            "justify_items": null,
            "left": null,
            "margin": null,
            "max_height": null,
            "max_width": null,
            "min_height": null,
            "min_width": null,
            "object_fit": null,
            "object_position": null,
            "order": null,
            "overflow": null,
            "overflow_x": null,
            "overflow_y": null,
            "padding": null,
            "right": null,
            "top": null,
            "visibility": null,
            "width": null
          }
        },
        "1cc34d09bce0438c883274e1c9161b36": {
          "model_module": "@jupyter-widgets/controls",
          "model_name": "ProgressStyleModel",
          "model_module_version": "1.5.0",
          "state": {
            "_model_module": "@jupyter-widgets/controls",
            "_model_module_version": "1.5.0",
            "_model_name": "ProgressStyleModel",
            "_view_count": null,
            "_view_module": "@jupyter-widgets/base",
            "_view_module_version": "1.2.0",
            "_view_name": "StyleView",
            "bar_color": null,
            "description_width": ""
          }
        },
        "e0aa1441feed444596c27b0689d52b10": {
          "model_module": "@jupyter-widgets/base",
          "model_name": "LayoutModel",
          "model_module_version": "1.2.0",
          "state": {
            "_model_module": "@jupyter-widgets/base",
            "_model_module_version": "1.2.0",
            "_model_name": "LayoutModel",
            "_view_count": null,
            "_view_module": "@jupyter-widgets/base",
            "_view_module_version": "1.2.0",
            "_view_name": "LayoutView",
            "align_content": null,
            "align_items": null,
            "align_self": null,
            "border": null,
            "bottom": null,
            "display": null,
            "flex": null,
            "flex_flow": null,
            "grid_area": null,
            "grid_auto_columns": null,
            "grid_auto_flow": null,
            "grid_auto_rows": null,
            "grid_column": null,
            "grid_gap": null,
            "grid_row": null,
            "grid_template_areas": null,
            "grid_template_columns": null,
            "grid_template_rows": null,
            "height": null,
            "justify_content": null,
            "justify_items": null,
            "left": null,
            "margin": null,
            "max_height": null,
            "max_width": null,
            "min_height": null,
            "min_width": null,
            "object_fit": null,
            "object_position": null,
            "order": null,
            "overflow": null,
            "overflow_x": null,
            "overflow_y": null,
            "padding": null,
            "right": null,
            "top": null,
            "visibility": null,
            "width": null
          }
        },
        "c988be620360407b8cfcf2814ecf8587": {
          "model_module": "@jupyter-widgets/controls",
          "model_name": "DescriptionStyleModel",
          "model_module_version": "1.5.0",
          "state": {
            "_model_module": "@jupyter-widgets/controls",
            "_model_module_version": "1.5.0",
            "_model_name": "DescriptionStyleModel",
            "_view_count": null,
            "_view_module": "@jupyter-widgets/base",
            "_view_module_version": "1.2.0",
            "_view_name": "StyleView",
            "description_width": ""
          }
        },
        "f273189ca3044f44a24695537a1958b4": {
          "model_module": "@jupyter-widgets/controls",
          "model_name": "HBoxModel",
          "model_module_version": "1.5.0",
          "state": {
            "_dom_classes": [],
            "_model_module": "@jupyter-widgets/controls",
            "_model_module_version": "1.5.0",
            "_model_name": "HBoxModel",
            "_view_count": null,
            "_view_module": "@jupyter-widgets/controls",
            "_view_module_version": "1.5.0",
            "_view_name": "HBoxView",
            "box_style": "",
            "children": [
              "IPY_MODEL_9a50aa1265bd4bbea77c2a21fb6aeba5",
              "IPY_MODEL_3797dfce24e3469f882d3692cc32692e",
              "IPY_MODEL_3e54d33c06844f3cb671766fa262d701"
            ],
            "layout": "IPY_MODEL_6acfb3a8d8654e57a3c7786c62bb8dba"
          }
        },
        "9a50aa1265bd4bbea77c2a21fb6aeba5": {
          "model_module": "@jupyter-widgets/controls",
          "model_name": "HTMLModel",
          "model_module_version": "1.5.0",
          "state": {
            "_dom_classes": [],
            "_model_module": "@jupyter-widgets/controls",
            "_model_module_version": "1.5.0",
            "_model_name": "HTMLModel",
            "_view_count": null,
            "_view_module": "@jupyter-widgets/controls",
            "_view_module_version": "1.5.0",
            "_view_name": "HTMLView",
            "description": "",
            "description_tooltip": null,
            "layout": "IPY_MODEL_866e43a67c0142f18aa6f235ec99ce3f",
            "placeholder": "​",
            "style": "IPY_MODEL_463b5ab1879b44fbad444e2c0e915465",
            "value": "100%"
          }
        },
        "3797dfce24e3469f882d3692cc32692e": {
          "model_module": "@jupyter-widgets/controls",
          "model_name": "FloatProgressModel",
          "model_module_version": "1.5.0",
          "state": {
            "_dom_classes": [],
            "_model_module": "@jupyter-widgets/controls",
            "_model_module_version": "1.5.0",
            "_model_name": "FloatProgressModel",
            "_view_count": null,
            "_view_module": "@jupyter-widgets/controls",
            "_view_module_version": "1.5.0",
            "_view_name": "ProgressView",
            "bar_style": "success",
            "description": "",
            "description_tooltip": null,
            "layout": "IPY_MODEL_c79a5ae863474e1b98c3f292a5a884a7",
            "max": 7,
            "min": 0,
            "orientation": "horizontal",
            "style": "IPY_MODEL_6b8c2b7b9c57450f8a24a850525a4770",
            "value": 7
          }
        },
        "3e54d33c06844f3cb671766fa262d701": {
          "model_module": "@jupyter-widgets/controls",
          "model_name": "HTMLModel",
          "model_module_version": "1.5.0",
          "state": {
            "_dom_classes": [],
            "_model_module": "@jupyter-widgets/controls",
            "_model_module_version": "1.5.0",
            "_model_name": "HTMLModel",
            "_view_count": null,
            "_view_module": "@jupyter-widgets/controls",
            "_view_module_version": "1.5.0",
            "_view_name": "HTMLView",
            "description": "",
            "description_tooltip": null,
            "layout": "IPY_MODEL_23ccdaf542ef457bb8481d1a1f9316ac",
            "placeholder": "​",
            "style": "IPY_MODEL_ccc7e2f530b3412cbd6b65f913d4b46c",
            "value": " 7/7 [00:01&lt;00:00,  6.08it/s]"
          }
        },
        "6acfb3a8d8654e57a3c7786c62bb8dba": {
          "model_module": "@jupyter-widgets/base",
          "model_name": "LayoutModel",
          "model_module_version": "1.2.0",
          "state": {
            "_model_module": "@jupyter-widgets/base",
            "_model_module_version": "1.2.0",
            "_model_name": "LayoutModel",
            "_view_count": null,
            "_view_module": "@jupyter-widgets/base",
            "_view_module_version": "1.2.0",
            "_view_name": "LayoutView",
            "align_content": null,
            "align_items": null,
            "align_self": null,
            "border": null,
            "bottom": null,
            "display": null,
            "flex": null,
            "flex_flow": null,
            "grid_area": null,
            "grid_auto_columns": null,
            "grid_auto_flow": null,
            "grid_auto_rows": null,
            "grid_column": null,
            "grid_gap": null,
            "grid_row": null,
            "grid_template_areas": null,
            "grid_template_columns": null,
            "grid_template_rows": null,
            "height": null,
            "justify_content": null,
            "justify_items": null,
            "left": null,
            "margin": null,
            "max_height": null,
            "max_width": null,
            "min_height": null,
            "min_width": null,
            "object_fit": null,
            "object_position": null,
            "order": null,
            "overflow": null,
            "overflow_x": null,
            "overflow_y": null,
            "padding": null,
            "right": null,
            "top": null,
            "visibility": null,
            "width": null
          }
        },
        "866e43a67c0142f18aa6f235ec99ce3f": {
          "model_module": "@jupyter-widgets/base",
          "model_name": "LayoutModel",
          "model_module_version": "1.2.0",
          "state": {
            "_model_module": "@jupyter-widgets/base",
            "_model_module_version": "1.2.0",
            "_model_name": "LayoutModel",
            "_view_count": null,
            "_view_module": "@jupyter-widgets/base",
            "_view_module_version": "1.2.0",
            "_view_name": "LayoutView",
            "align_content": null,
            "align_items": null,
            "align_self": null,
            "border": null,
            "bottom": null,
            "display": null,
            "flex": null,
            "flex_flow": null,
            "grid_area": null,
            "grid_auto_columns": null,
            "grid_auto_flow": null,
            "grid_auto_rows": null,
            "grid_column": null,
            "grid_gap": null,
            "grid_row": null,
            "grid_template_areas": null,
            "grid_template_columns": null,
            "grid_template_rows": null,
            "height": null,
            "justify_content": null,
            "justify_items": null,
            "left": null,
            "margin": null,
            "max_height": null,
            "max_width": null,
            "min_height": null,
            "min_width": null,
            "object_fit": null,
            "object_position": null,
            "order": null,
            "overflow": null,
            "overflow_x": null,
            "overflow_y": null,
            "padding": null,
            "right": null,
            "top": null,
            "visibility": null,
            "width": null
          }
        },
        "463b5ab1879b44fbad444e2c0e915465": {
          "model_module": "@jupyter-widgets/controls",
          "model_name": "DescriptionStyleModel",
          "model_module_version": "1.5.0",
          "state": {
            "_model_module": "@jupyter-widgets/controls",
            "_model_module_version": "1.5.0",
            "_model_name": "DescriptionStyleModel",
            "_view_count": null,
            "_view_module": "@jupyter-widgets/base",
            "_view_module_version": "1.2.0",
            "_view_name": "StyleView",
            "description_width": ""
          }
        },
        "c79a5ae863474e1b98c3f292a5a884a7": {
          "model_module": "@jupyter-widgets/base",
          "model_name": "LayoutModel",
          "model_module_version": "1.2.0",
          "state": {
            "_model_module": "@jupyter-widgets/base",
            "_model_module_version": "1.2.0",
            "_model_name": "LayoutModel",
            "_view_count": null,
            "_view_module": "@jupyter-widgets/base",
            "_view_module_version": "1.2.0",
            "_view_name": "LayoutView",
            "align_content": null,
            "align_items": null,
            "align_self": null,
            "border": null,
            "bottom": null,
            "display": null,
            "flex": null,
            "flex_flow": null,
            "grid_area": null,
            "grid_auto_columns": null,
            "grid_auto_flow": null,
            "grid_auto_rows": null,
            "grid_column": null,
            "grid_gap": null,
            "grid_row": null,
            "grid_template_areas": null,
            "grid_template_columns": null,
            "grid_template_rows": null,
            "height": null,
            "justify_content": null,
            "justify_items": null,
            "left": null,
            "margin": null,
            "max_height": null,
            "max_width": null,
            "min_height": null,
            "min_width": null,
            "object_fit": null,
            "object_position": null,
            "order": null,
            "overflow": null,
            "overflow_x": null,
            "overflow_y": null,
            "padding": null,
            "right": null,
            "top": null,
            "visibility": null,
            "width": null
          }
        },
        "6b8c2b7b9c57450f8a24a850525a4770": {
          "model_module": "@jupyter-widgets/controls",
          "model_name": "ProgressStyleModel",
          "model_module_version": "1.5.0",
          "state": {
            "_model_module": "@jupyter-widgets/controls",
            "_model_module_version": "1.5.0",
            "_model_name": "ProgressStyleModel",
            "_view_count": null,
            "_view_module": "@jupyter-widgets/base",
            "_view_module_version": "1.2.0",
            "_view_name": "StyleView",
            "bar_color": null,
            "description_width": ""
          }
        },
        "23ccdaf542ef457bb8481d1a1f9316ac": {
          "model_module": "@jupyter-widgets/base",
          "model_name": "LayoutModel",
          "model_module_version": "1.2.0",
          "state": {
            "_model_module": "@jupyter-widgets/base",
            "_model_module_version": "1.2.0",
            "_model_name": "LayoutModel",
            "_view_count": null,
            "_view_module": "@jupyter-widgets/base",
            "_view_module_version": "1.2.0",
            "_view_name": "LayoutView",
            "align_content": null,
            "align_items": null,
            "align_self": null,
            "border": null,
            "bottom": null,
            "display": null,
            "flex": null,
            "flex_flow": null,
            "grid_area": null,
            "grid_auto_columns": null,
            "grid_auto_flow": null,
            "grid_auto_rows": null,
            "grid_column": null,
            "grid_gap": null,
            "grid_row": null,
            "grid_template_areas": null,
            "grid_template_columns": null,
            "grid_template_rows": null,
            "height": null,
            "justify_content": null,
            "justify_items": null,
            "left": null,
            "margin": null,
            "max_height": null,
            "max_width": null,
            "min_height": null,
            "min_width": null,
            "object_fit": null,
            "object_position": null,
            "order": null,
            "overflow": null,
            "overflow_x": null,
            "overflow_y": null,
            "padding": null,
            "right": null,
            "top": null,
            "visibility": null,
            "width": null
          }
        },
        "ccc7e2f530b3412cbd6b65f913d4b46c": {
          "model_module": "@jupyter-widgets/controls",
          "model_name": "DescriptionStyleModel",
          "model_module_version": "1.5.0",
          "state": {
            "_model_module": "@jupyter-widgets/controls",
            "_model_module_version": "1.5.0",
            "_model_name": "DescriptionStyleModel",
            "_view_count": null,
            "_view_module": "@jupyter-widgets/base",
            "_view_module_version": "1.2.0",
            "_view_name": "StyleView",
            "description_width": ""
          }
        },
        "679aba4ccf1e49beab2cc70d556d0244": {
          "model_module": "@jupyter-widgets/controls",
          "model_name": "HBoxModel",
          "model_module_version": "1.5.0",
          "state": {
            "_dom_classes": [],
            "_model_module": "@jupyter-widgets/controls",
            "_model_module_version": "1.5.0",
            "_model_name": "HBoxModel",
            "_view_count": null,
            "_view_module": "@jupyter-widgets/controls",
            "_view_module_version": "1.5.0",
            "_view_name": "HBoxView",
            "box_style": "",
            "children": [
              "IPY_MODEL_44bc18e1d47341129563e62d2a2293df",
              "IPY_MODEL_dde8355c89ca4462b8fc72c6a587d552",
              "IPY_MODEL_9f4969a00d304e61a0d0fc4cb5acd859"
            ],
            "layout": "IPY_MODEL_90126a9e93434309bd4ada818b382839"
          }
        },
        "44bc18e1d47341129563e62d2a2293df": {
          "model_module": "@jupyter-widgets/controls",
          "model_name": "HTMLModel",
          "model_module_version": "1.5.0",
          "state": {
            "_dom_classes": [],
            "_model_module": "@jupyter-widgets/controls",
            "_model_module_version": "1.5.0",
            "_model_name": "HTMLModel",
            "_view_count": null,
            "_view_module": "@jupyter-widgets/controls",
            "_view_module_version": "1.5.0",
            "_view_name": "HTMLView",
            "description": "",
            "description_tooltip": null,
            "layout": "IPY_MODEL_135ced7a58624dda9e4545fdd808de73",
            "placeholder": "​",
            "style": "IPY_MODEL_303bc58b174f439dbe0be42268c71875",
            "value": "100%"
          }
        },
        "dde8355c89ca4462b8fc72c6a587d552": {
          "model_module": "@jupyter-widgets/controls",
          "model_name": "FloatProgressModel",
          "model_module_version": "1.5.0",
          "state": {
            "_dom_classes": [],
            "_model_module": "@jupyter-widgets/controls",
            "_model_module_version": "1.5.0",
            "_model_name": "FloatProgressModel",
            "_view_count": null,
            "_view_module": "@jupyter-widgets/controls",
            "_view_module_version": "1.5.0",
            "_view_name": "ProgressView",
            "bar_style": "success",
            "description": "",
            "description_tooltip": null,
            "layout": "IPY_MODEL_1ae694e046d64a7e935d0758930167ab",
            "max": 4,
            "min": 0,
            "orientation": "horizontal",
            "style": "IPY_MODEL_dd8cd5a945194b5b92e2f0c4007312ed",
            "value": 4
          }
        },
        "9f4969a00d304e61a0d0fc4cb5acd859": {
          "model_module": "@jupyter-widgets/controls",
          "model_name": "HTMLModel",
          "model_module_version": "1.5.0",
          "state": {
            "_dom_classes": [],
            "_model_module": "@jupyter-widgets/controls",
            "_model_module_version": "1.5.0",
            "_model_name": "HTMLModel",
            "_view_count": null,
            "_view_module": "@jupyter-widgets/controls",
            "_view_module_version": "1.5.0",
            "_view_name": "HTMLView",
            "description": "",
            "description_tooltip": null,
            "layout": "IPY_MODEL_806a16f4d669471cbb35c9d1361dd413",
            "placeholder": "​",
            "style": "IPY_MODEL_00d4d5f803484abba9242c33cffde236",
            "value": " 4/4 [00:00&lt;00:00, 17.96it/s]"
          }
        },
        "90126a9e93434309bd4ada818b382839": {
          "model_module": "@jupyter-widgets/base",
          "model_name": "LayoutModel",
          "model_module_version": "1.2.0",
          "state": {
            "_model_module": "@jupyter-widgets/base",
            "_model_module_version": "1.2.0",
            "_model_name": "LayoutModel",
            "_view_count": null,
            "_view_module": "@jupyter-widgets/base",
            "_view_module_version": "1.2.0",
            "_view_name": "LayoutView",
            "align_content": null,
            "align_items": null,
            "align_self": null,
            "border": null,
            "bottom": null,
            "display": null,
            "flex": null,
            "flex_flow": null,
            "grid_area": null,
            "grid_auto_columns": null,
            "grid_auto_flow": null,
            "grid_auto_rows": null,
            "grid_column": null,
            "grid_gap": null,
            "grid_row": null,
            "grid_template_areas": null,
            "grid_template_columns": null,
            "grid_template_rows": null,
            "height": null,
            "justify_content": null,
            "justify_items": null,
            "left": null,
            "margin": null,
            "max_height": null,
            "max_width": null,
            "min_height": null,
            "min_width": null,
            "object_fit": null,
            "object_position": null,
            "order": null,
            "overflow": null,
            "overflow_x": null,
            "overflow_y": null,
            "padding": null,
            "right": null,
            "top": null,
            "visibility": null,
            "width": null
          }
        },
        "135ced7a58624dda9e4545fdd808de73": {
          "model_module": "@jupyter-widgets/base",
          "model_name": "LayoutModel",
          "model_module_version": "1.2.0",
          "state": {
            "_model_module": "@jupyter-widgets/base",
            "_model_module_version": "1.2.0",
            "_model_name": "LayoutModel",
            "_view_count": null,
            "_view_module": "@jupyter-widgets/base",
            "_view_module_version": "1.2.0",
            "_view_name": "LayoutView",
            "align_content": null,
            "align_items": null,
            "align_self": null,
            "border": null,
            "bottom": null,
            "display": null,
            "flex": null,
            "flex_flow": null,
            "grid_area": null,
            "grid_auto_columns": null,
            "grid_auto_flow": null,
            "grid_auto_rows": null,
            "grid_column": null,
            "grid_gap": null,
            "grid_row": null,
            "grid_template_areas": null,
            "grid_template_columns": null,
            "grid_template_rows": null,
            "height": null,
            "justify_content": null,
            "justify_items": null,
            "left": null,
            "margin": null,
            "max_height": null,
            "max_width": null,
            "min_height": null,
            "min_width": null,
            "object_fit": null,
            "object_position": null,
            "order": null,
            "overflow": null,
            "overflow_x": null,
            "overflow_y": null,
            "padding": null,
            "right": null,
            "top": null,
            "visibility": null,
            "width": null
          }
        },
        "303bc58b174f439dbe0be42268c71875": {
          "model_module": "@jupyter-widgets/controls",
          "model_name": "DescriptionStyleModel",
          "model_module_version": "1.5.0",
          "state": {
            "_model_module": "@jupyter-widgets/controls",
            "_model_module_version": "1.5.0",
            "_model_name": "DescriptionStyleModel",
            "_view_count": null,
            "_view_module": "@jupyter-widgets/base",
            "_view_module_version": "1.2.0",
            "_view_name": "StyleView",
            "description_width": ""
          }
        },
        "1ae694e046d64a7e935d0758930167ab": {
          "model_module": "@jupyter-widgets/base",
          "model_name": "LayoutModel",
          "model_module_version": "1.2.0",
          "state": {
            "_model_module": "@jupyter-widgets/base",
            "_model_module_version": "1.2.0",
            "_model_name": "LayoutModel",
            "_view_count": null,
            "_view_module": "@jupyter-widgets/base",
            "_view_module_version": "1.2.0",
            "_view_name": "LayoutView",
            "align_content": null,
            "align_items": null,
            "align_self": null,
            "border": null,
            "bottom": null,
            "display": null,
            "flex": null,
            "flex_flow": null,
            "grid_area": null,
            "grid_auto_columns": null,
            "grid_auto_flow": null,
            "grid_auto_rows": null,
            "grid_column": null,
            "grid_gap": null,
            "grid_row": null,
            "grid_template_areas": null,
            "grid_template_columns": null,
            "grid_template_rows": null,
            "height": null,
            "justify_content": null,
            "justify_items": null,
            "left": null,
            "margin": null,
            "max_height": null,
            "max_width": null,
            "min_height": null,
            "min_width": null,
            "object_fit": null,
            "object_position": null,
            "order": null,
            "overflow": null,
            "overflow_x": null,
            "overflow_y": null,
            "padding": null,
            "right": null,
            "top": null,
            "visibility": null,
            "width": null
          }
        },
        "dd8cd5a945194b5b92e2f0c4007312ed": {
          "model_module": "@jupyter-widgets/controls",
          "model_name": "ProgressStyleModel",
          "model_module_version": "1.5.0",
          "state": {
            "_model_module": "@jupyter-widgets/controls",
            "_model_module_version": "1.5.0",
            "_model_name": "ProgressStyleModel",
            "_view_count": null,
            "_view_module": "@jupyter-widgets/base",
            "_view_module_version": "1.2.0",
            "_view_name": "StyleView",
            "bar_color": null,
            "description_width": ""
          }
        },
        "806a16f4d669471cbb35c9d1361dd413": {
          "model_module": "@jupyter-widgets/base",
          "model_name": "LayoutModel",
          "model_module_version": "1.2.0",
          "state": {
            "_model_module": "@jupyter-widgets/base",
            "_model_module_version": "1.2.0",
            "_model_name": "LayoutModel",
            "_view_count": null,
            "_view_module": "@jupyter-widgets/base",
            "_view_module_version": "1.2.0",
            "_view_name": "LayoutView",
            "align_content": null,
            "align_items": null,
            "align_self": null,
            "border": null,
            "bottom": null,
            "display": null,
            "flex": null,
            "flex_flow": null,
            "grid_area": null,
            "grid_auto_columns": null,
            "grid_auto_flow": null,
            "grid_auto_rows": null,
            "grid_column": null,
            "grid_gap": null,
            "grid_row": null,
            "grid_template_areas": null,
            "grid_template_columns": null,
            "grid_template_rows": null,
            "height": null,
            "justify_content": null,
            "justify_items": null,
            "left": null,
            "margin": null,
            "max_height": null,
            "max_width": null,
            "min_height": null,
            "min_width": null,
            "object_fit": null,
            "object_position": null,
            "order": null,
            "overflow": null,
            "overflow_x": null,
            "overflow_y": null,
            "padding": null,
            "right": null,
            "top": null,
            "visibility": null,
            "width": null
          }
        },
        "00d4d5f803484abba9242c33cffde236": {
          "model_module": "@jupyter-widgets/controls",
          "model_name": "DescriptionStyleModel",
          "model_module_version": "1.5.0",
          "state": {
            "_model_module": "@jupyter-widgets/controls",
            "_model_module_version": "1.5.0",
            "_model_name": "DescriptionStyleModel",
            "_view_count": null,
            "_view_module": "@jupyter-widgets/base",
            "_view_module_version": "1.2.0",
            "_view_name": "StyleView",
            "description_width": ""
          }
        }
      }
    }
  },
  "nbformat": 4,
  "nbformat_minor": 0
}