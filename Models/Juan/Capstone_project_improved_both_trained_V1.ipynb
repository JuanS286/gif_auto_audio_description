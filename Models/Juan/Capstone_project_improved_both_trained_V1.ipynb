{
  "cells": [
    {
      "cell_type": "code",
      "execution_count": null,
      "metadata": {
        "colab": {
          "base_uri": "https://localhost:8080/"
        },
        "id": "ZaWf_Y_5DhWb",
        "outputId": "7af6e78d-ee0c-4f0f-dbe1-cd513a121167"
      },
      "outputs": [
        {
          "output_type": "stream",
          "name": "stdout",
          "text": [
            "Requirement already satisfied: transformers in /usr/local/lib/python3.10/dist-packages (4.44.2)\n",
            "Requirement already satisfied: filelock in /usr/local/lib/python3.10/dist-packages (from transformers) (3.16.1)\n",
            "Requirement already satisfied: huggingface-hub<1.0,>=0.23.2 in /usr/local/lib/python3.10/dist-packages (from transformers) (0.24.7)\n",
            "Requirement already satisfied: numpy>=1.17 in /usr/local/lib/python3.10/dist-packages (from transformers) (1.26.4)\n",
            "Requirement already satisfied: packaging>=20.0 in /usr/local/lib/python3.10/dist-packages (from transformers) (24.1)\n",
            "Requirement already satisfied: pyyaml>=5.1 in /usr/local/lib/python3.10/dist-packages (from transformers) (6.0.2)\n",
            "Requirement already satisfied: regex!=2019.12.17 in /usr/local/lib/python3.10/dist-packages (from transformers) (2024.9.11)\n",
            "Requirement already satisfied: requests in /usr/local/lib/python3.10/dist-packages (from transformers) (2.32.3)\n",
            "Requirement already satisfied: safetensors>=0.4.1 in /usr/local/lib/python3.10/dist-packages (from transformers) (0.4.5)\n",
            "Requirement already satisfied: tokenizers<0.20,>=0.19 in /usr/local/lib/python3.10/dist-packages (from transformers) (0.19.1)\n",
            "Requirement already satisfied: tqdm>=4.27 in /usr/local/lib/python3.10/dist-packages (from transformers) (4.66.6)\n",
            "Requirement already satisfied: fsspec>=2023.5.0 in /usr/local/lib/python3.10/dist-packages (from huggingface-hub<1.0,>=0.23.2->transformers) (2024.10.0)\n",
            "Requirement already satisfied: typing-extensions>=3.7.4.3 in /usr/local/lib/python3.10/dist-packages (from huggingface-hub<1.0,>=0.23.2->transformers) (4.12.2)\n",
            "Requirement already satisfied: charset-normalizer<4,>=2 in /usr/local/lib/python3.10/dist-packages (from requests->transformers) (3.4.0)\n",
            "Requirement already satisfied: idna<4,>=2.5 in /usr/local/lib/python3.10/dist-packages (from requests->transformers) (3.10)\n",
            "Requirement already satisfied: urllib3<3,>=1.21.1 in /usr/local/lib/python3.10/dist-packages (from requests->transformers) (2.2.3)\n",
            "Requirement already satisfied: certifi>=2017.4.17 in /usr/local/lib/python3.10/dist-packages (from requests->transformers) (2024.8.30)\n",
            "Requirement already satisfied: imageio in /usr/local/lib/python3.10/dist-packages (2.36.0)\n",
            "Requirement already satisfied: numpy in /usr/local/lib/python3.10/dist-packages (from imageio) (1.26.4)\n",
            "Requirement already satisfied: pillow>=8.3.2 in /usr/local/lib/python3.10/dist-packages (from imageio) (10.4.0)\n",
            "Collecting gtts\n",
            "  Downloading gTTS-2.5.3-py3-none-any.whl.metadata (4.1 kB)\n",
            "Requirement already satisfied: requests<3,>=2.27 in /usr/local/lib/python3.10/dist-packages (from gtts) (2.32.3)\n",
            "Requirement already satisfied: click<8.2,>=7.1 in /usr/local/lib/python3.10/dist-packages (from gtts) (8.1.7)\n",
            "Requirement already satisfied: charset-normalizer<4,>=2 in /usr/local/lib/python3.10/dist-packages (from requests<3,>=2.27->gtts) (3.4.0)\n",
            "Requirement already satisfied: idna<4,>=2.5 in /usr/local/lib/python3.10/dist-packages (from requests<3,>=2.27->gtts) (3.10)\n",
            "Requirement already satisfied: urllib3<3,>=1.21.1 in /usr/local/lib/python3.10/dist-packages (from requests<3,>=2.27->gtts) (2.2.3)\n",
            "Requirement already satisfied: certifi>=2017.4.17 in /usr/local/lib/python3.10/dist-packages (from requests<3,>=2.27->gtts) (2024.8.30)\n",
            "Downloading gTTS-2.5.3-py3-none-any.whl (29 kB)\n",
            "Installing collected packages: gtts\n",
            "Successfully installed gtts-2.5.3\n",
            "Collecting bert-score\n",
            "  Downloading bert_score-0.3.13-py3-none-any.whl.metadata (15 kB)\n",
            "Requirement already satisfied: torch>=1.0.0 in /usr/local/lib/python3.10/dist-packages (from bert-score) (2.5.0+cu121)\n",
            "Requirement already satisfied: pandas>=1.0.1 in /usr/local/lib/python3.10/dist-packages (from bert-score) (2.2.2)\n",
            "Requirement already satisfied: transformers>=3.0.0 in /usr/local/lib/python3.10/dist-packages (from bert-score) (4.44.2)\n",
            "Requirement already satisfied: numpy in /usr/local/lib/python3.10/dist-packages (from bert-score) (1.26.4)\n",
            "Requirement already satisfied: requests in /usr/local/lib/python3.10/dist-packages (from bert-score) (2.32.3)\n",
            "Requirement already satisfied: tqdm>=4.31.1 in /usr/local/lib/python3.10/dist-packages (from bert-score) (4.66.6)\n",
            "Requirement already satisfied: matplotlib in /usr/local/lib/python3.10/dist-packages (from bert-score) (3.8.0)\n",
            "Requirement already satisfied: packaging>=20.9 in /usr/local/lib/python3.10/dist-packages (from bert-score) (24.1)\n",
            "Requirement already satisfied: python-dateutil>=2.8.2 in /usr/local/lib/python3.10/dist-packages (from pandas>=1.0.1->bert-score) (2.8.2)\n",
            "Requirement already satisfied: pytz>=2020.1 in /usr/local/lib/python3.10/dist-packages (from pandas>=1.0.1->bert-score) (2024.2)\n",
            "Requirement already satisfied: tzdata>=2022.7 in /usr/local/lib/python3.10/dist-packages (from pandas>=1.0.1->bert-score) (2024.2)\n",
            "Requirement already satisfied: filelock in /usr/local/lib/python3.10/dist-packages (from torch>=1.0.0->bert-score) (3.16.1)\n",
            "Requirement already satisfied: typing-extensions>=4.8.0 in /usr/local/lib/python3.10/dist-packages (from torch>=1.0.0->bert-score) (4.12.2)\n",
            "Requirement already satisfied: networkx in /usr/local/lib/python3.10/dist-packages (from torch>=1.0.0->bert-score) (3.4.2)\n",
            "Requirement already satisfied: jinja2 in /usr/local/lib/python3.10/dist-packages (from torch>=1.0.0->bert-score) (3.1.4)\n",
            "Requirement already satisfied: fsspec in /usr/local/lib/python3.10/dist-packages (from torch>=1.0.0->bert-score) (2024.10.0)\n",
            "Requirement already satisfied: sympy==1.13.1 in /usr/local/lib/python3.10/dist-packages (from torch>=1.0.0->bert-score) (1.13.1)\n",
            "Requirement already satisfied: mpmath<1.4,>=1.1.0 in /usr/local/lib/python3.10/dist-packages (from sympy==1.13.1->torch>=1.0.0->bert-score) (1.3.0)\n",
            "Requirement already satisfied: huggingface-hub<1.0,>=0.23.2 in /usr/local/lib/python3.10/dist-packages (from transformers>=3.0.0->bert-score) (0.24.7)\n",
            "Requirement already satisfied: pyyaml>=5.1 in /usr/local/lib/python3.10/dist-packages (from transformers>=3.0.0->bert-score) (6.0.2)\n",
            "Requirement already satisfied: regex!=2019.12.17 in /usr/local/lib/python3.10/dist-packages (from transformers>=3.0.0->bert-score) (2024.9.11)\n",
            "Requirement already satisfied: safetensors>=0.4.1 in /usr/local/lib/python3.10/dist-packages (from transformers>=3.0.0->bert-score) (0.4.5)\n",
            "Requirement already satisfied: tokenizers<0.20,>=0.19 in /usr/local/lib/python3.10/dist-packages (from transformers>=3.0.0->bert-score) (0.19.1)\n",
            "Requirement already satisfied: contourpy>=1.0.1 in /usr/local/lib/python3.10/dist-packages (from matplotlib->bert-score) (1.3.0)\n",
            "Requirement already satisfied: cycler>=0.10 in /usr/local/lib/python3.10/dist-packages (from matplotlib->bert-score) (0.12.1)\n",
            "Requirement already satisfied: fonttools>=4.22.0 in /usr/local/lib/python3.10/dist-packages (from matplotlib->bert-score) (4.54.1)\n",
            "Requirement already satisfied: kiwisolver>=1.0.1 in /usr/local/lib/python3.10/dist-packages (from matplotlib->bert-score) (1.4.7)\n",
            "Requirement already satisfied: pillow>=6.2.0 in /usr/local/lib/python3.10/dist-packages (from matplotlib->bert-score) (10.4.0)\n",
            "Requirement already satisfied: pyparsing>=2.3.1 in /usr/local/lib/python3.10/dist-packages (from matplotlib->bert-score) (3.2.0)\n",
            "Requirement already satisfied: charset-normalizer<4,>=2 in /usr/local/lib/python3.10/dist-packages (from requests->bert-score) (3.4.0)\n",
            "Requirement already satisfied: idna<4,>=2.5 in /usr/local/lib/python3.10/dist-packages (from requests->bert-score) (3.10)\n",
            "Requirement already satisfied: urllib3<3,>=1.21.1 in /usr/local/lib/python3.10/dist-packages (from requests->bert-score) (2.2.3)\n",
            "Requirement already satisfied: certifi>=2017.4.17 in /usr/local/lib/python3.10/dist-packages (from requests->bert-score) (2024.8.30)\n",
            "Requirement already satisfied: six>=1.5 in /usr/local/lib/python3.10/dist-packages (from python-dateutil>=2.8.2->pandas>=1.0.1->bert-score) (1.16.0)\n",
            "Requirement already satisfied: MarkupSafe>=2.0 in /usr/local/lib/python3.10/dist-packages (from jinja2->torch>=1.0.0->bert-score) (3.0.2)\n",
            "Downloading bert_score-0.3.13-py3-none-any.whl (61 kB)\n",
            "\u001b[2K   \u001b[90m━━━━━━━━━━━━━━━━━━━━━━━━━━━━━━━━━━━━━━━━\u001b[0m \u001b[32m61.1/61.1 kB\u001b[0m \u001b[31m3.5 MB/s\u001b[0m eta \u001b[36m0:00:00\u001b[0m\n",
            "\u001b[?25hInstalling collected packages: bert-score\n",
            "Successfully installed bert-score-0.3.13\n",
            "Requirement already satisfied: nltk in /usr/local/lib/python3.10/dist-packages (3.8.1)\n",
            "Requirement already satisfied: click in /usr/local/lib/python3.10/dist-packages (from nltk) (8.1.7)\n",
            "Requirement already satisfied: joblib in /usr/local/lib/python3.10/dist-packages (from nltk) (1.4.2)\n",
            "Requirement already satisfied: regex>=2021.8.3 in /usr/local/lib/python3.10/dist-packages (from nltk) (2024.9.11)\n",
            "Requirement already satisfied: tqdm in /usr/local/lib/python3.10/dist-packages (from nltk) (4.66.6)\n",
            "Collecting rouge-score\n",
            "  Downloading rouge_score-0.1.2.tar.gz (17 kB)\n",
            "  Preparing metadata (setup.py) ... \u001b[?25l\u001b[?25hdone\n",
            "Requirement already satisfied: absl-py in /usr/local/lib/python3.10/dist-packages (from rouge-score) (1.4.0)\n",
            "Requirement already satisfied: nltk in /usr/local/lib/python3.10/dist-packages (from rouge-score) (3.8.1)\n",
            "Requirement already satisfied: numpy in /usr/local/lib/python3.10/dist-packages (from rouge-score) (1.26.4)\n",
            "Requirement already satisfied: six>=1.14.0 in /usr/local/lib/python3.10/dist-packages (from rouge-score) (1.16.0)\n",
            "Requirement already satisfied: click in /usr/local/lib/python3.10/dist-packages (from nltk->rouge-score) (8.1.7)\n",
            "Requirement already satisfied: joblib in /usr/local/lib/python3.10/dist-packages (from nltk->rouge-score) (1.4.2)\n",
            "Requirement already satisfied: regex>=2021.8.3 in /usr/local/lib/python3.10/dist-packages (from nltk->rouge-score) (2024.9.11)\n",
            "Requirement already satisfied: tqdm in /usr/local/lib/python3.10/dist-packages (from nltk->rouge-score) (4.66.6)\n",
            "Building wheels for collected packages: rouge-score\n",
            "  Building wheel for rouge-score (setup.py) ... \u001b[?25l\u001b[?25hdone\n",
            "  Created wheel for rouge-score: filename=rouge_score-0.1.2-py3-none-any.whl size=24935 sha256=61c85eea8e23df329d53ea7fc1d2576fd78d38fb7c2b343dcef09e93d6853814\n",
            "  Stored in directory: /root/.cache/pip/wheels/5f/dd/89/461065a73be61a532ff8599a28e9beef17985c9e9c31e541b4\n",
            "Successfully built rouge-score\n",
            "Installing collected packages: rouge-score\n",
            "Successfully installed rouge-score-0.1.2\n"
          ]
        },
        {
          "output_type": "stream",
          "name": "stderr",
          "text": [
            "[nltk_data] Downloading package wordnet to /root/nltk_data...\n"
          ]
        },
        {
          "output_type": "execute_result",
          "data": {
            "text/plain": [
              "True"
            ]
          },
          "metadata": {},
          "execution_count": 1
        }
      ],
      "source": [
        "# Install required libraries\n",
        "!pip install transformers  # Installs the transformers library for NLP models\n",
        "!pip install imageio       # Installs imageio to handle image files (e.g., GIFs)\n",
        "!pip install gtts          # Installs Google Text-to-Speech API for text-to-speech\n",
        "!pip install bert-score    # Installs the BERTScore metric library for evaluation\n",
        "!pip install nltk          # Installs the NLTK library for natural language processing tasks\n",
        "!pip install rouge-score   # Installs the Rouge score package for evaluation metrics\n",
        "\n",
        "import os\n",
        "import json\n",
        "import random\n",
        "import requests\n",
        "import imageio\n",
        "from PIL import Image\n",
        "from io import BytesIO\n",
        "import torch\n",
        "from transformers import (\n",
        "    BlipProcessor,\n",
        "    BlipForConditionalGeneration,\n",
        "    T5Tokenizer,\n",
        "    T5ForConditionalGeneration,\n",
        "    AdamW\n",
        ")\n",
        "from torch.utils.data import Dataset, DataLoader, random_split\n",
        "from tqdm import tqdm\n",
        "import nltk\n",
        "from nltk.translate.bleu_score import sentence_bleu, corpus_bleu\n",
        "# from nltk.translate.meteor_score import meteor_score\n",
        "from rouge_score import rouge_scorer\n",
        "from bert_score import score as bert_score_fn\n",
        "import numpy as np\n",
        "\n",
        "# Download NLTK data\n",
        "nltk.download('wordnet')\n"
      ]
    },
    {
      "cell_type": "code",
      "execution_count": null,
      "metadata": {
        "colab": {
          "base_uri": "https://localhost:8080/"
        },
        "id": "DHyLSW22Dixv",
        "outputId": "be5c5d6a-dc68-4b8a-b1ad-9bada3c444e3"
      },
      "outputs": [
        {
          "output_type": "stream",
          "name": "stdout",
          "text": [
            "Selected 1000 random GIFs for processing.\n"
          ]
        }
      ],
      "source": [
        "import os\n",
        "import json\n",
        "import random\n",
        "\n",
        "# Define paths\n",
        "metadata_file = 'datafile.json'  # Path to your metadata file that contains GIF information\n",
        "gifs_dir = 'gifs_temp'           # Directory to temporarily store GIFs\n",
        "\n",
        "# Create temporary GIFs directory if it doesn't exist\n",
        "os.makedirs(gifs_dir, exist_ok=True)\n",
        "\n",
        "# Load metadata from the metadata file\n",
        "with open(metadata_file, 'r') as f:\n",
        "    metadata = json.load(f)\n",
        "\n",
        "# Check if the dataset contains at least 100 GIFs, if not raise an error\n",
        "if len(metadata) < 1000:\n",
        "    raise ValueError(\"The metadata file contains fewer than 100 GIFs.\")\n",
        "\n",
        "# Randomly select 100 GIFs from the metadata for processing\n",
        "selected_gifs = random.sample(metadata, 1000)\n",
        "\n",
        "# Output the number of selected GIFs\n",
        "print(f\"Selected {len(selected_gifs)} random GIFs for processing.\")\n"
      ]
    },
    {
      "cell_type": "code",
      "execution_count": null,
      "metadata": {
        "id": "gFSFltAvDxwM"
      },
      "outputs": [],
      "source": [
        "import time\n",
        "\n",
        "# Enhanced download function with retries\n",
        "def download_gif(url, save_path, max_retries=3, backoff_factor=2):\n",
        "    for attempt in range(1, max_retries + 1):\n",
        "        try:\n",
        "            headers = {\n",
        "                \"User-Agent\": \"Mozilla/5.0 (Windows NT 10.0; Win64; x64)\"\n",
        "            }\n",
        "            response = requests.get(url, headers=headers, timeout=10)\n",
        "            response.raise_for_status()\n",
        "            with open(save_path, 'wb') as f:\n",
        "                f.write(response.content)\n",
        "            print(f\"Downloaded: {save_path}\")\n",
        "            return True\n",
        "        except requests.exceptions.HTTPError as http_err:\n",
        "            print(f\"HTTP error: {http_err} - Attempt {attempt}\")\n",
        "            if response.status_code == 404:\n",
        "                break\n",
        "        except requests.exceptions.RequestException as req_err:\n",
        "            print(f\"Request error: {req_err} - Attempt {attempt}\")\n",
        "        except Exception as e:\n",
        "            print(f\"Unexpected error: {e} - Attempt {attempt}\")\n",
        "        # Exponential backoff\n",
        "        time.sleep(backoff_factor ** attempt)\n",
        "    print(f\"Failed to download {url}\")\n",
        "    return False\n",
        "\n",
        "# Function to extract and preprocess frames from GIF\n",
        "def extract_frames(gif_path, num_frames=5, frame_size=(256, 256)):\n",
        "    try:\n",
        "        gif = imageio.mimread(gif_path)\n",
        "        total_frames = len(gif)\n",
        "\n",
        "        if total_frames == 0:\n",
        "            raise ValueError(\"No frames found in GIF.\")\n",
        "\n",
        "        interval = max(total_frames // num_frames, 1)\n",
        "        selected_frames = [gif[i] for i in range(0, total_frames, interval)][:num_frames]\n",
        "\n",
        "        processed_frames = []\n",
        "        for frame in selected_frames:\n",
        "            img = Image.fromarray(frame)\n",
        "            if img.mode != 'RGB':\n",
        "                img = img.convert('RGB')\n",
        "            img_resized = img.resize(frame_size)\n",
        "            processed_frames.append(np.array(img_resized))\n",
        "\n",
        "        # Pad with the last frame or zeros\n",
        "        while len(processed_frames) < num_frames:\n",
        "            processed_frames.append(processed_frames[-1] if processed_frames else np.zeros((frame_size[0], frame_size[1], 3), dtype=np.uint8))\n",
        "\n",
        "        return processed_frames\n",
        "\n",
        "    except Exception as e:\n",
        "        print(f\"Failed to extract frames from {gif_path}: {e}\")\n",
        "        return []\n",
        "\n",
        "# Function to delete GIF after processing\n",
        "def delete_gif(gif_path):\n",
        "    try:\n",
        "        os.remove(gif_path)\n",
        "        print(f\"Deleted: {gif_path}\")\n",
        "    except Exception as e:\n",
        "        print(f\"Failed to delete {gif_path}: {e}\")\n"
      ]
    },
    {
      "cell_type": "code",
      "execution_count": null,
      "metadata": {
        "colab": {
          "base_uri": "https://localhost:8080/"
        },
        "id": "wDjqcja1ZJdA",
        "outputId": "14997784-e9ed-4190-b020-7ea2836508d5"
      },
      "outputs": [
        {
          "output_type": "stream",
          "name": "stderr",
          "text": [
            "\rProcessing GIFs:   0%|          | 0/1000 [00:00<?, ?it/s]"
          ]
        },
        {
          "output_type": "stream",
          "name": "stdout",
          "text": [
            "Downloaded: gifs_temp/gif_125697.gif\n"
          ]
        },
        {
          "output_type": "stream",
          "name": "stderr",
          "text": [
            "\rProcessing GIFs:   0%|          | 1/1000 [00:00<10:24,  1.60it/s]"
          ]
        },
        {
          "output_type": "stream",
          "name": "stdout",
          "text": [
            "Deleted: gifs_temp/gif_125697.gif\n"
          ]
        },
        {
          "output_type": "stream",
          "name": "stderr",
          "text": [
            "\rProcessing GIFs:   0%|          | 2/1000 [00:01<09:58,  1.67it/s]"
          ]
        },
        {
          "output_type": "stream",
          "name": "stdout",
          "text": [
            "Downloaded: gifs_temp/gif_110376.gif\n",
            "Deleted: gifs_temp/gif_110376.gif\n"
          ]
        },
        {
          "output_type": "stream",
          "name": "stderr",
          "text": [
            "\rProcessing GIFs:   0%|          | 3/1000 [00:01<08:17,  2.01it/s]"
          ]
        },
        {
          "output_type": "stream",
          "name": "stdout",
          "text": [
            "Downloaded: gifs_temp/gif_42989.gif\n",
            "Deleted: gifs_temp/gif_42989.gif\n"
          ]
        },
        {
          "output_type": "stream",
          "name": "stderr",
          "text": [
            "\rProcessing GIFs:   0%|          | 4/1000 [00:02<07:44,  2.14it/s]"
          ]
        },
        {
          "output_type": "stream",
          "name": "stdout",
          "text": [
            "Downloaded: gifs_temp/gif_7125.gif\n",
            "Deleted: gifs_temp/gif_7125.gif\n",
            "Downloaded: gifs_temp/gif_114338.gif\n"
          ]
        },
        {
          "output_type": "stream",
          "name": "stderr",
          "text": [
            "\rProcessing GIFs:   0%|          | 5/1000 [00:02<08:25,  1.97it/s]"
          ]
        },
        {
          "output_type": "stream",
          "name": "stdout",
          "text": [
            "Deleted: gifs_temp/gif_114338.gif\n"
          ]
        },
        {
          "output_type": "stream",
          "name": "stderr",
          "text": [
            "\rProcessing GIFs:   1%|          | 6/1000 [00:03<08:42,  1.90it/s]"
          ]
        },
        {
          "output_type": "stream",
          "name": "stdout",
          "text": [
            "Downloaded: gifs_temp/gif_54888.gif\n",
            "Deleted: gifs_temp/gif_54888.gif\n"
          ]
        },
        {
          "output_type": "stream",
          "name": "stderr",
          "text": [
            "\rProcessing GIFs:   1%|          | 7/1000 [00:03<08:17,  2.00it/s]"
          ]
        },
        {
          "output_type": "stream",
          "name": "stdout",
          "text": [
            "Downloaded: gifs_temp/gif_81888.gif\n",
            "Deleted: gifs_temp/gif_81888.gif\n"
          ]
        },
        {
          "output_type": "stream",
          "name": "stderr",
          "text": [
            "\rProcessing GIFs:   1%|          | 8/1000 [00:04<07:58,  2.07it/s]"
          ]
        },
        {
          "output_type": "stream",
          "name": "stdout",
          "text": [
            "Downloaded: gifs_temp/gif_19207.gif\n",
            "Deleted: gifs_temp/gif_19207.gif\n",
            "Downloaded: gifs_temp/gif_41564.gif\n"
          ]
        },
        {
          "output_type": "stream",
          "name": "stderr",
          "text": [
            "\rProcessing GIFs:   1%|          | 9/1000 [00:04<08:27,  1.95it/s]"
          ]
        },
        {
          "output_type": "stream",
          "name": "stdout",
          "text": [
            "Deleted: gifs_temp/gif_41564.gif\n",
            "Downloaded: gifs_temp/gif_60139.gif\n"
          ]
        },
        {
          "output_type": "stream",
          "name": "stderr",
          "text": [
            "\rProcessing GIFs:   1%|          | 10/1000 [00:05<08:42,  1.89it/s]"
          ]
        },
        {
          "output_type": "stream",
          "name": "stdout",
          "text": [
            "Deleted: gifs_temp/gif_60139.gif\n"
          ]
        },
        {
          "output_type": "stream",
          "name": "stderr",
          "text": [
            "\rProcessing GIFs:   1%|          | 11/1000 [00:05<08:16,  1.99it/s]"
          ]
        },
        {
          "output_type": "stream",
          "name": "stdout",
          "text": [
            "Downloaded: gifs_temp/gif_113943.gif\n",
            "Deleted: gifs_temp/gif_113943.gif\n",
            "Downloaded: gifs_temp/gif_67364.gif\n"
          ]
        },
        {
          "output_type": "stream",
          "name": "stderr",
          "text": [
            "\rProcessing GIFs:   1%|          | 12/1000 [00:06<08:57,  1.84it/s]"
          ]
        },
        {
          "output_type": "stream",
          "name": "stdout",
          "text": [
            "Deleted: gifs_temp/gif_67364.gif\n"
          ]
        },
        {
          "output_type": "stream",
          "name": "stderr",
          "text": [
            "\rProcessing GIFs:   1%|▏         | 13/1000 [00:06<08:59,  1.83it/s]"
          ]
        },
        {
          "output_type": "stream",
          "name": "stdout",
          "text": [
            "Downloaded: gifs_temp/gif_79488.gif\n",
            "Deleted: gifs_temp/gif_79488.gif\n",
            "Downloaded: gifs_temp/gif_86809.gif\n"
          ]
        },
        {
          "output_type": "stream",
          "name": "stderr",
          "text": [
            "\rProcessing GIFs:   1%|▏         | 14/1000 [00:08<12:39,  1.30it/s]"
          ]
        },
        {
          "output_type": "stream",
          "name": "stdout",
          "text": [
            "Deleted: gifs_temp/gif_86809.gif\n",
            "Downloaded: gifs_temp/gif_80143.gif\n"
          ]
        },
        {
          "output_type": "stream",
          "name": "stderr",
          "text": [
            "\rProcessing GIFs:   2%|▏         | 15/1000 [00:08<11:40,  1.41it/s]"
          ]
        },
        {
          "output_type": "stream",
          "name": "stdout",
          "text": [
            "Deleted: gifs_temp/gif_80143.gif\n",
            "Downloaded: gifs_temp/gif_97882.gif\n"
          ]
        },
        {
          "output_type": "stream",
          "name": "stderr",
          "text": [
            "\rProcessing GIFs:   2%|▏         | 16/1000 [00:09<10:59,  1.49it/s]"
          ]
        },
        {
          "output_type": "stream",
          "name": "stdout",
          "text": [
            "Deleted: gifs_temp/gif_97882.gif\n",
            "Downloaded: gifs_temp/gif_74834.gif\n"
          ]
        },
        {
          "output_type": "stream",
          "name": "stderr",
          "text": [
            "\rProcessing GIFs:   2%|▏         | 17/1000 [00:09<10:34,  1.55it/s]"
          ]
        },
        {
          "output_type": "stream",
          "name": "stdout",
          "text": [
            "Deleted: gifs_temp/gif_74834.gif\n",
            "Downloaded: gifs_temp/gif_4954.gif\n"
          ]
        },
        {
          "output_type": "stream",
          "name": "stderr",
          "text": [
            "\rProcessing GIFs:   2%|▏         | 18/1000 [00:10<10:33,  1.55it/s]"
          ]
        },
        {
          "output_type": "stream",
          "name": "stdout",
          "text": [
            "Deleted: gifs_temp/gif_4954.gif\n",
            "Downloaded: gifs_temp/gif_53660.gif\n"
          ]
        },
        {
          "output_type": "stream",
          "name": "stderr",
          "text": [
            "\rProcessing GIFs:   2%|▏         | 19/1000 [00:11<10:27,  1.56it/s]"
          ]
        },
        {
          "output_type": "stream",
          "name": "stdout",
          "text": [
            "Deleted: gifs_temp/gif_53660.gif\n",
            "Downloaded: gifs_temp/gif_16507.gif\n"
          ]
        },
        {
          "output_type": "stream",
          "name": "stderr",
          "text": [
            "\rProcessing GIFs:   2%|▏         | 20/1000 [00:11<10:50,  1.51it/s]"
          ]
        },
        {
          "output_type": "stream",
          "name": "stdout",
          "text": [
            "Deleted: gifs_temp/gif_16507.gif\n"
          ]
        },
        {
          "output_type": "stream",
          "name": "stderr",
          "text": [
            "\rProcessing GIFs:   2%|▏         | 21/1000 [00:12<10:11,  1.60it/s]"
          ]
        },
        {
          "output_type": "stream",
          "name": "stdout",
          "text": [
            "Downloaded: gifs_temp/gif_89272.gif\n",
            "Deleted: gifs_temp/gif_89272.gif\n",
            "Downloaded: gifs_temp/gif_91686.gif\n"
          ]
        },
        {
          "output_type": "stream",
          "name": "stderr",
          "text": [
            "\rProcessing GIFs:   2%|▏         | 22/1000 [00:13<10:44,  1.52it/s]"
          ]
        },
        {
          "output_type": "stream",
          "name": "stdout",
          "text": [
            "Deleted: gifs_temp/gif_91686.gif\n"
          ]
        },
        {
          "output_type": "stream",
          "name": "stderr",
          "text": [
            "\rProcessing GIFs:   2%|▏         | 23/1000 [00:13<09:48,  1.66it/s]"
          ]
        },
        {
          "output_type": "stream",
          "name": "stdout",
          "text": [
            "Downloaded: gifs_temp/gif_108863.gif\n",
            "Deleted: gifs_temp/gif_108863.gif\n"
          ]
        },
        {
          "output_type": "stream",
          "name": "stderr",
          "text": [
            "\rProcessing GIFs:   2%|▏         | 24/1000 [00:14<11:00,  1.48it/s]"
          ]
        },
        {
          "output_type": "stream",
          "name": "stdout",
          "text": [
            "Downloaded: gifs_temp/gif_110368.gif\n",
            "Deleted: gifs_temp/gif_110368.gif\n"
          ]
        },
        {
          "output_type": "stream",
          "name": "stderr",
          "text": [
            "\rProcessing GIFs:   2%|▎         | 25/1000 [00:14<09:45,  1.67it/s]"
          ]
        },
        {
          "output_type": "stream",
          "name": "stdout",
          "text": [
            "Downloaded: gifs_temp/gif_33212.gif\n",
            "Deleted: gifs_temp/gif_33212.gif\n"
          ]
        },
        {
          "output_type": "stream",
          "name": "stderr",
          "text": [
            "\rProcessing GIFs:   3%|▎         | 26/1000 [00:15<09:31,  1.70it/s]"
          ]
        },
        {
          "output_type": "stream",
          "name": "stdout",
          "text": [
            "Downloaded: gifs_temp/gif_105228.gif\n",
            "Deleted: gifs_temp/gif_105228.gif\n"
          ]
        },
        {
          "output_type": "stream",
          "name": "stderr",
          "text": [
            "\rProcessing GIFs:   3%|▎         | 27/1000 [00:15<08:51,  1.83it/s]"
          ]
        },
        {
          "output_type": "stream",
          "name": "stdout",
          "text": [
            "Downloaded: gifs_temp/gif_63707.gif\n",
            "Deleted: gifs_temp/gif_63707.gif\n"
          ]
        },
        {
          "output_type": "stream",
          "name": "stderr",
          "text": [
            "\rProcessing GIFs:   3%|▎         | 28/1000 [00:16<08:09,  1.99it/s]"
          ]
        },
        {
          "output_type": "stream",
          "name": "stdout",
          "text": [
            "Downloaded: gifs_temp/gif_44911.gif\n",
            "Deleted: gifs_temp/gif_44911.gif\n"
          ]
        },
        {
          "output_type": "stream",
          "name": "stderr",
          "text": [
            "\rProcessing GIFs:   3%|▎         | 29/1000 [00:16<08:11,  1.98it/s]"
          ]
        },
        {
          "output_type": "stream",
          "name": "stdout",
          "text": [
            "Downloaded: gifs_temp/gif_116650.gif\n",
            "Deleted: gifs_temp/gif_116650.gif\n"
          ]
        },
        {
          "output_type": "stream",
          "name": "stderr",
          "text": [
            "\rProcessing GIFs:   3%|▎         | 30/1000 [00:17<09:05,  1.78it/s]"
          ]
        },
        {
          "output_type": "stream",
          "name": "stdout",
          "text": [
            "Downloaded: gifs_temp/gif_7115.gif\n",
            "Deleted: gifs_temp/gif_7115.gif\n"
          ]
        },
        {
          "output_type": "stream",
          "name": "stderr",
          "text": [
            "\rProcessing GIFs:   3%|▎         | 31/1000 [00:18<09:12,  1.76it/s]"
          ]
        },
        {
          "output_type": "stream",
          "name": "stdout",
          "text": [
            "Downloaded: gifs_temp/gif_44727.gif\n",
            "Deleted: gifs_temp/gif_44727.gif\n",
            "Downloaded: gifs_temp/gif_63994.gif\n"
          ]
        },
        {
          "output_type": "stream",
          "name": "stderr",
          "text": [
            "\rProcessing GIFs:   3%|▎         | 32/1000 [00:18<09:08,  1.76it/s]"
          ]
        },
        {
          "output_type": "stream",
          "name": "stdout",
          "text": [
            "Deleted: gifs_temp/gif_63994.gif\n"
          ]
        },
        {
          "output_type": "stream",
          "name": "stderr",
          "text": [
            "\rProcessing GIFs:   3%|▎         | 33/1000 [00:19<08:30,  1.89it/s]"
          ]
        },
        {
          "output_type": "stream",
          "name": "stdout",
          "text": [
            "Downloaded: gifs_temp/gif_89063.gif\n",
            "Deleted: gifs_temp/gif_89063.gif\n",
            "Downloaded: gifs_temp/gif_17138.gif\n"
          ]
        },
        {
          "output_type": "stream",
          "name": "stderr",
          "text": [
            "\rProcessing GIFs:   3%|▎         | 34/1000 [00:20<10:54,  1.48it/s]"
          ]
        },
        {
          "output_type": "stream",
          "name": "stdout",
          "text": [
            "Deleted: gifs_temp/gif_17138.gif\n",
            "Downloaded: gifs_temp/gif_37697.gif\n"
          ]
        },
        {
          "output_type": "stream",
          "name": "stderr",
          "text": [
            "\rProcessing GIFs:   4%|▎         | 35/1000 [00:20<10:37,  1.51it/s]"
          ]
        },
        {
          "output_type": "stream",
          "name": "stdout",
          "text": [
            "Deleted: gifs_temp/gif_37697.gif\n",
            "Downloaded: gifs_temp/gif_80140.gif\n"
          ]
        },
        {
          "output_type": "stream",
          "name": "stderr",
          "text": [
            "\rProcessing GIFs:   4%|▎         | 36/1000 [00:21<11:05,  1.45it/s]"
          ]
        },
        {
          "output_type": "stream",
          "name": "stdout",
          "text": [
            "Deleted: gifs_temp/gif_80140.gif\n",
            "Downloaded: gifs_temp/gif_35987.gif\n"
          ]
        },
        {
          "output_type": "stream",
          "name": "stderr",
          "text": [
            "\rProcessing GIFs:   4%|▎         | 37/1000 [00:22<11:52,  1.35it/s]"
          ]
        },
        {
          "output_type": "stream",
          "name": "stdout",
          "text": [
            "Deleted: gifs_temp/gif_35987.gif\n"
          ]
        },
        {
          "output_type": "stream",
          "name": "stderr",
          "text": [
            "\rProcessing GIFs:   4%|▍         | 38/1000 [00:22<10:52,  1.47it/s]"
          ]
        },
        {
          "output_type": "stream",
          "name": "stdout",
          "text": [
            "Downloaded: gifs_temp/gif_90318.gif\n",
            "Deleted: gifs_temp/gif_90318.gif\n"
          ]
        },
        {
          "output_type": "stream",
          "name": "stderr",
          "text": [
            "\rProcessing GIFs:   4%|▍         | 39/1000 [00:23<10:15,  1.56it/s]"
          ]
        },
        {
          "output_type": "stream",
          "name": "stdout",
          "text": [
            "Downloaded: gifs_temp/gif_22964.gif\n",
            "Deleted: gifs_temp/gif_22964.gif\n"
          ]
        },
        {
          "output_type": "stream",
          "name": "stderr",
          "text": [
            "\rProcessing GIFs:   4%|▍         | 40/1000 [00:23<09:36,  1.66it/s]"
          ]
        },
        {
          "output_type": "stream",
          "name": "stdout",
          "text": [
            "Downloaded: gifs_temp/gif_16856.gif\n",
            "Deleted: gifs_temp/gif_16856.gif\n"
          ]
        },
        {
          "output_type": "stream",
          "name": "stderr",
          "text": [
            "\rProcessing GIFs:   4%|▍         | 41/1000 [00:24<10:19,  1.55it/s]"
          ]
        },
        {
          "output_type": "stream",
          "name": "stdout",
          "text": [
            "Downloaded: gifs_temp/gif_109091.gif\n",
            "Deleted: gifs_temp/gif_109091.gif\n"
          ]
        },
        {
          "output_type": "stream",
          "name": "stderr",
          "text": [
            "\rProcessing GIFs:   4%|▍         | 42/1000 [00:25<08:57,  1.78it/s]"
          ]
        },
        {
          "output_type": "stream",
          "name": "stdout",
          "text": [
            "Downloaded: gifs_temp/gif_88758.gif\n",
            "Deleted: gifs_temp/gif_88758.gif\n"
          ]
        },
        {
          "output_type": "stream",
          "name": "stderr",
          "text": [
            "\rProcessing GIFs:   4%|▍         | 43/1000 [00:25<08:33,  1.86it/s]"
          ]
        },
        {
          "output_type": "stream",
          "name": "stdout",
          "text": [
            "Downloaded: gifs_temp/gif_51048.gif\n",
            "Deleted: gifs_temp/gif_51048.gif\n"
          ]
        },
        {
          "output_type": "stream",
          "name": "stderr",
          "text": [
            "\rProcessing GIFs:   4%|▍         | 44/1000 [00:25<08:08,  1.96it/s]"
          ]
        },
        {
          "output_type": "stream",
          "name": "stdout",
          "text": [
            "Downloaded: gifs_temp/gif_16897.gif\n",
            "Deleted: gifs_temp/gif_16897.gif\n"
          ]
        },
        {
          "output_type": "stream",
          "name": "stderr",
          "text": [
            "\rProcessing GIFs:   4%|▍         | 45/1000 [00:26<07:41,  2.07it/s]"
          ]
        },
        {
          "output_type": "stream",
          "name": "stdout",
          "text": [
            "Downloaded: gifs_temp/gif_109027.gif\n",
            "Deleted: gifs_temp/gif_109027.gif\n"
          ]
        },
        {
          "output_type": "stream",
          "name": "stderr",
          "text": [
            "\rProcessing GIFs:   5%|▍         | 46/1000 [00:26<07:19,  2.17it/s]"
          ]
        },
        {
          "output_type": "stream",
          "name": "stdout",
          "text": [
            "Downloaded: gifs_temp/gif_11311.gif\n",
            "Deleted: gifs_temp/gif_11311.gif\n"
          ]
        },
        {
          "output_type": "stream",
          "name": "stderr",
          "text": [
            "\rProcessing GIFs:   5%|▍         | 47/1000 [00:27<07:27,  2.13it/s]"
          ]
        },
        {
          "output_type": "stream",
          "name": "stdout",
          "text": [
            "Downloaded: gifs_temp/gif_632.gif\n",
            "Deleted: gifs_temp/gif_632.gif\n"
          ]
        },
        {
          "output_type": "stream",
          "name": "stderr",
          "text": [
            "\rProcessing GIFs:   5%|▍         | 48/1000 [00:27<07:07,  2.23it/s]"
          ]
        },
        {
          "output_type": "stream",
          "name": "stdout",
          "text": [
            "Downloaded: gifs_temp/gif_55189.gif\n",
            "Deleted: gifs_temp/gif_55189.gif\n"
          ]
        },
        {
          "output_type": "stream",
          "name": "stderr",
          "text": [
            "\rProcessing GIFs:   5%|▍         | 49/1000 [00:28<06:57,  2.28it/s]"
          ]
        },
        {
          "output_type": "stream",
          "name": "stdout",
          "text": [
            "Downloaded: gifs_temp/gif_71929.gif\n",
            "Deleted: gifs_temp/gif_71929.gif\n"
          ]
        },
        {
          "output_type": "stream",
          "name": "stderr",
          "text": [
            "\rProcessing GIFs:   5%|▌         | 50/1000 [00:28<08:25,  1.88it/s]"
          ]
        },
        {
          "output_type": "stream",
          "name": "stdout",
          "text": [
            "Downloaded: gifs_temp/gif_22822.gif\n",
            "Deleted: gifs_temp/gif_22822.gif\n"
          ]
        },
        {
          "output_type": "stream",
          "name": "stderr",
          "text": [
            "\rProcessing GIFs:   5%|▌         | 51/1000 [00:29<09:10,  1.72it/s]"
          ]
        },
        {
          "output_type": "stream",
          "name": "stdout",
          "text": [
            "Downloaded: gifs_temp/gif_91088.gif\n",
            "Deleted: gifs_temp/gif_91088.gif\n"
          ]
        },
        {
          "output_type": "stream",
          "name": "stderr",
          "text": [
            "\rProcessing GIFs:   5%|▌         | 52/1000 [00:29<08:40,  1.82it/s]"
          ]
        },
        {
          "output_type": "stream",
          "name": "stdout",
          "text": [
            "Downloaded: gifs_temp/gif_7083.gif\n",
            "Deleted: gifs_temp/gif_7083.gif\n"
          ]
        },
        {
          "output_type": "stream",
          "name": "stderr",
          "text": [
            "\rProcessing GIFs:   5%|▌         | 53/1000 [00:30<07:47,  2.03it/s]"
          ]
        },
        {
          "output_type": "stream",
          "name": "stdout",
          "text": [
            "Downloaded: gifs_temp/gif_30106.gif\n",
            "Deleted: gifs_temp/gif_30106.gif\n"
          ]
        },
        {
          "output_type": "stream",
          "name": "stderr",
          "text": [
            "\rProcessing GIFs:   5%|▌         | 54/1000 [00:30<07:13,  2.18it/s]"
          ]
        },
        {
          "output_type": "stream",
          "name": "stdout",
          "text": [
            "Downloaded: gifs_temp/gif_117178.gif\n",
            "Deleted: gifs_temp/gif_117178.gif\n"
          ]
        },
        {
          "output_type": "stream",
          "name": "stderr",
          "text": [
            "\rProcessing GIFs:   6%|▌         | 55/1000 [00:31<06:50,  2.30it/s]"
          ]
        },
        {
          "output_type": "stream",
          "name": "stdout",
          "text": [
            "Downloaded: gifs_temp/gif_43799.gif\n",
            "Deleted: gifs_temp/gif_43799.gif\n"
          ]
        },
        {
          "output_type": "stream",
          "name": "stderr",
          "text": [
            "\rProcessing GIFs:   6%|▌         | 56/1000 [00:31<06:31,  2.41it/s]"
          ]
        },
        {
          "output_type": "stream",
          "name": "stdout",
          "text": [
            "Downloaded: gifs_temp/gif_106825.gif\n",
            "Deleted: gifs_temp/gif_106825.gif\n"
          ]
        },
        {
          "output_type": "stream",
          "name": "stderr",
          "text": [
            "\rProcessing GIFs:   6%|▌         | 57/1000 [00:31<06:08,  2.56it/s]"
          ]
        },
        {
          "output_type": "stream",
          "name": "stdout",
          "text": [
            "Downloaded: gifs_temp/gif_73857.gif\n",
            "Deleted: gifs_temp/gif_73857.gif\n"
          ]
        },
        {
          "output_type": "stream",
          "name": "stderr",
          "text": [
            "\rProcessing GIFs:   6%|▌         | 58/1000 [00:32<06:11,  2.54it/s]"
          ]
        },
        {
          "output_type": "stream",
          "name": "stdout",
          "text": [
            "Downloaded: gifs_temp/gif_55708.gif\n",
            "Deleted: gifs_temp/gif_55708.gif\n"
          ]
        },
        {
          "output_type": "stream",
          "name": "stderr",
          "text": [
            "\rProcessing GIFs:   6%|▌         | 59/1000 [00:32<06:12,  2.53it/s]"
          ]
        },
        {
          "output_type": "stream",
          "name": "stdout",
          "text": [
            "Downloaded: gifs_temp/gif_84826.gif\n",
            "Deleted: gifs_temp/gif_84826.gif\n"
          ]
        },
        {
          "output_type": "stream",
          "name": "stderr",
          "text": [
            "\rProcessing GIFs:   6%|▌         | 60/1000 [00:33<06:08,  2.55it/s]"
          ]
        },
        {
          "output_type": "stream",
          "name": "stdout",
          "text": [
            "Downloaded: gifs_temp/gif_56561.gif\n",
            "Deleted: gifs_temp/gif_56561.gif\n"
          ]
        },
        {
          "output_type": "stream",
          "name": "stderr",
          "text": [
            "\rProcessing GIFs:   6%|▌         | 61/1000 [00:33<06:01,  2.60it/s]"
          ]
        },
        {
          "output_type": "stream",
          "name": "stdout",
          "text": [
            "Downloaded: gifs_temp/gif_102459.gif\n",
            "Deleted: gifs_temp/gif_102459.gif\n"
          ]
        },
        {
          "output_type": "stream",
          "name": "stderr",
          "text": [
            "\rProcessing GIFs:   6%|▌         | 62/1000 [00:33<06:06,  2.56it/s]"
          ]
        },
        {
          "output_type": "stream",
          "name": "stdout",
          "text": [
            "Downloaded: gifs_temp/gif_65112.gif\n",
            "Deleted: gifs_temp/gif_65112.gif\n"
          ]
        },
        {
          "output_type": "stream",
          "name": "stderr",
          "text": [
            "\rProcessing GIFs:   6%|▋         | 63/1000 [00:34<05:59,  2.60it/s]"
          ]
        },
        {
          "output_type": "stream",
          "name": "stdout",
          "text": [
            "Downloaded: gifs_temp/gif_57878.gif\n",
            "Deleted: gifs_temp/gif_57878.gif\n"
          ]
        },
        {
          "output_type": "stream",
          "name": "stderr",
          "text": [
            "\rProcessing GIFs:   6%|▋         | 64/1000 [00:34<06:04,  2.57it/s]"
          ]
        },
        {
          "output_type": "stream",
          "name": "stdout",
          "text": [
            "Downloaded: gifs_temp/gif_26579.gif\n",
            "Deleted: gifs_temp/gif_26579.gif\n"
          ]
        },
        {
          "output_type": "stream",
          "name": "stderr",
          "text": [
            "\rProcessing GIFs:   6%|▋         | 65/1000 [00:34<06:05,  2.56it/s]"
          ]
        },
        {
          "output_type": "stream",
          "name": "stdout",
          "text": [
            "Downloaded: gifs_temp/gif_123554.gif\n",
            "Deleted: gifs_temp/gif_123554.gif\n"
          ]
        },
        {
          "output_type": "stream",
          "name": "stderr",
          "text": [
            "\rProcessing GIFs:   7%|▋         | 66/1000 [00:35<06:05,  2.56it/s]"
          ]
        },
        {
          "output_type": "stream",
          "name": "stdout",
          "text": [
            "Downloaded: gifs_temp/gif_52966.gif\n",
            "Deleted: gifs_temp/gif_52966.gif\n"
          ]
        },
        {
          "output_type": "stream",
          "name": "stderr",
          "text": [
            "\rProcessing GIFs:   7%|▋         | 67/1000 [00:35<05:50,  2.66it/s]"
          ]
        },
        {
          "output_type": "stream",
          "name": "stdout",
          "text": [
            "Downloaded: gifs_temp/gif_4820.gif\n",
            "Deleted: gifs_temp/gif_4820.gif\n"
          ]
        },
        {
          "output_type": "stream",
          "name": "stderr",
          "text": [
            "\rProcessing GIFs:   7%|▋         | 68/1000 [00:36<05:59,  2.59it/s]"
          ]
        },
        {
          "output_type": "stream",
          "name": "stdout",
          "text": [
            "Downloaded: gifs_temp/gif_55848.gif\n",
            "Deleted: gifs_temp/gif_55848.gif\n"
          ]
        },
        {
          "output_type": "stream",
          "name": "stderr",
          "text": [
            "\rProcessing GIFs:   7%|▋         | 69/1000 [00:36<07:19,  2.12it/s]"
          ]
        },
        {
          "output_type": "stream",
          "name": "stdout",
          "text": [
            "Downloaded: gifs_temp/gif_64867.gif\n",
            "Deleted: gifs_temp/gif_64867.gif\n"
          ]
        },
        {
          "output_type": "stream",
          "name": "stderr",
          "text": [
            "\rProcessing GIFs:   7%|▋         | 70/1000 [00:37<06:41,  2.32it/s]"
          ]
        },
        {
          "output_type": "stream",
          "name": "stdout",
          "text": [
            "Downloaded: gifs_temp/gif_39871.gif\n",
            "Deleted: gifs_temp/gif_39871.gif\n"
          ]
        },
        {
          "output_type": "stream",
          "name": "stderr",
          "text": [
            "\rProcessing GIFs:   7%|▋         | 71/1000 [00:37<07:02,  2.20it/s]"
          ]
        },
        {
          "output_type": "stream",
          "name": "stdout",
          "text": [
            "Downloaded: gifs_temp/gif_79237.gif\n",
            "Deleted: gifs_temp/gif_79237.gif\n"
          ]
        },
        {
          "output_type": "stream",
          "name": "stderr",
          "text": [
            "\rProcessing GIFs:   7%|▋         | 72/1000 [00:37<06:30,  2.37it/s]"
          ]
        },
        {
          "output_type": "stream",
          "name": "stdout",
          "text": [
            "Downloaded: gifs_temp/gif_36709.gif\n",
            "Deleted: gifs_temp/gif_36709.gif\n"
          ]
        },
        {
          "output_type": "stream",
          "name": "stderr",
          "text": [
            "\rProcessing GIFs:   7%|▋         | 73/1000 [00:38<06:24,  2.41it/s]"
          ]
        },
        {
          "output_type": "stream",
          "name": "stdout",
          "text": [
            "Downloaded: gifs_temp/gif_75098.gif\n",
            "Deleted: gifs_temp/gif_75098.gif\n"
          ]
        },
        {
          "output_type": "stream",
          "name": "stderr",
          "text": [
            "\rProcessing GIFs:   7%|▋         | 74/1000 [00:38<06:41,  2.31it/s]"
          ]
        },
        {
          "output_type": "stream",
          "name": "stdout",
          "text": [
            "Downloaded: gifs_temp/gif_39251.gif\n",
            "Deleted: gifs_temp/gif_39251.gif\n"
          ]
        },
        {
          "output_type": "stream",
          "name": "stderr",
          "text": [
            "\rProcessing GIFs:   8%|▊         | 75/1000 [00:39<06:46,  2.28it/s]"
          ]
        },
        {
          "output_type": "stream",
          "name": "stdout",
          "text": [
            "Downloaded: gifs_temp/gif_57009.gif\n",
            "Deleted: gifs_temp/gif_57009.gif\n"
          ]
        },
        {
          "output_type": "stream",
          "name": "stderr",
          "text": [
            "\rProcessing GIFs:   8%|▊         | 76/1000 [00:39<06:43,  2.29it/s]"
          ]
        },
        {
          "output_type": "stream",
          "name": "stdout",
          "text": [
            "Downloaded: gifs_temp/gif_4486.gif\n",
            "Deleted: gifs_temp/gif_4486.gif\n"
          ]
        },
        {
          "output_type": "stream",
          "name": "stderr",
          "text": [
            "\rProcessing GIFs:   8%|▊         | 77/1000 [00:40<06:24,  2.40it/s]"
          ]
        },
        {
          "output_type": "stream",
          "name": "stdout",
          "text": [
            "Downloaded: gifs_temp/gif_51669.gif\n",
            "Deleted: gifs_temp/gif_51669.gif\n"
          ]
        },
        {
          "output_type": "stream",
          "name": "stderr",
          "text": [
            "\rProcessing GIFs:   8%|▊         | 78/1000 [00:40<05:56,  2.59it/s]"
          ]
        },
        {
          "output_type": "stream",
          "name": "stdout",
          "text": [
            "Downloaded: gifs_temp/gif_40200.gif\n",
            "Deleted: gifs_temp/gif_40200.gif\n"
          ]
        },
        {
          "output_type": "stream",
          "name": "stderr",
          "text": [
            "\rProcessing GIFs:   8%|▊         | 79/1000 [00:41<07:29,  2.05it/s]"
          ]
        },
        {
          "output_type": "stream",
          "name": "stdout",
          "text": [
            "Downloaded: gifs_temp/gif_122881.gif\n",
            "Deleted: gifs_temp/gif_122881.gif\n"
          ]
        },
        {
          "output_type": "stream",
          "name": "stderr",
          "text": [
            "\rProcessing GIFs:   8%|▊         | 80/1000 [00:41<06:54,  2.22it/s]"
          ]
        },
        {
          "output_type": "stream",
          "name": "stdout",
          "text": [
            "Downloaded: gifs_temp/gif_113913.gif\n",
            "Deleted: gifs_temp/gif_113913.gif\n"
          ]
        },
        {
          "output_type": "stream",
          "name": "stderr",
          "text": [
            "\rProcessing GIFs:   8%|▊         | 81/1000 [00:41<06:14,  2.46it/s]"
          ]
        },
        {
          "output_type": "stream",
          "name": "stdout",
          "text": [
            "Downloaded: gifs_temp/gif_29798.gif\n",
            "Deleted: gifs_temp/gif_29798.gif\n"
          ]
        },
        {
          "output_type": "stream",
          "name": "stderr",
          "text": [
            "\rProcessing GIFs:   8%|▊         | 82/1000 [00:42<06:51,  2.23it/s]"
          ]
        },
        {
          "output_type": "stream",
          "name": "stdout",
          "text": [
            "Downloaded: gifs_temp/gif_8129.gif\n",
            "Deleted: gifs_temp/gif_8129.gif\n"
          ]
        },
        {
          "output_type": "stream",
          "name": "stderr",
          "text": [
            "\rProcessing GIFs:   8%|▊         | 83/1000 [00:42<06:46,  2.26it/s]"
          ]
        },
        {
          "output_type": "stream",
          "name": "stdout",
          "text": [
            "Downloaded: gifs_temp/gif_48726.gif\n",
            "Deleted: gifs_temp/gif_48726.gif\n"
          ]
        },
        {
          "output_type": "stream",
          "name": "stderr",
          "text": [
            "\rProcessing GIFs:   8%|▊         | 84/1000 [00:43<06:44,  2.27it/s]"
          ]
        },
        {
          "output_type": "stream",
          "name": "stdout",
          "text": [
            "Downloaded: gifs_temp/gif_94552.gif\n",
            "Deleted: gifs_temp/gif_94552.gif\n"
          ]
        },
        {
          "output_type": "stream",
          "name": "stderr",
          "text": [
            "\rProcessing GIFs:   8%|▊         | 85/1000 [00:43<07:15,  2.10it/s]"
          ]
        },
        {
          "output_type": "stream",
          "name": "stdout",
          "text": [
            "Downloaded: gifs_temp/gif_122260.gif\n",
            "Deleted: gifs_temp/gif_122260.gif\n"
          ]
        },
        {
          "output_type": "stream",
          "name": "stderr",
          "text": [
            "\rProcessing GIFs:   9%|▊         | 86/1000 [00:44<07:17,  2.09it/s]"
          ]
        },
        {
          "output_type": "stream",
          "name": "stdout",
          "text": [
            "Downloaded: gifs_temp/gif_122076.gif\n",
            "Deleted: gifs_temp/gif_122076.gif\n"
          ]
        },
        {
          "output_type": "stream",
          "name": "stderr",
          "text": [
            "\rProcessing GIFs:   9%|▊         | 87/1000 [00:45<08:47,  1.73it/s]"
          ]
        },
        {
          "output_type": "stream",
          "name": "stdout",
          "text": [
            "Downloaded: gifs_temp/gif_20157.gif\n",
            "Deleted: gifs_temp/gif_20157.gif\n",
            "Downloaded: gifs_temp/gif_87168.gif\n"
          ]
        },
        {
          "output_type": "stream",
          "name": "stderr",
          "text": [
            "\rProcessing GIFs:   9%|▉         | 88/1000 [00:45<08:54,  1.71it/s]"
          ]
        },
        {
          "output_type": "stream",
          "name": "stdout",
          "text": [
            "Deleted: gifs_temp/gif_87168.gif\n"
          ]
        },
        {
          "output_type": "stream",
          "name": "stderr",
          "text": [
            "\rProcessing GIFs:   9%|▉         | 89/1000 [00:46<08:32,  1.78it/s]"
          ]
        },
        {
          "output_type": "stream",
          "name": "stdout",
          "text": [
            "Downloaded: gifs_temp/gif_112339.gif\n",
            "Deleted: gifs_temp/gif_112339.gif\n"
          ]
        },
        {
          "output_type": "stream",
          "name": "stderr",
          "text": [
            "\rProcessing GIFs:   9%|▉         | 90/1000 [00:46<07:28,  2.03it/s]"
          ]
        },
        {
          "output_type": "stream",
          "name": "stdout",
          "text": [
            "Downloaded: gifs_temp/gif_16296.gif\n",
            "Deleted: gifs_temp/gif_16296.gif\n"
          ]
        },
        {
          "output_type": "stream",
          "name": "stderr",
          "text": [
            "\rProcessing GIFs:   9%|▉         | 91/1000 [00:47<09:19,  1.62it/s]"
          ]
        },
        {
          "output_type": "stream",
          "name": "stdout",
          "text": [
            "Downloaded: gifs_temp/gif_81587.gif\n",
            "Deleted: gifs_temp/gif_81587.gif\n"
          ]
        },
        {
          "output_type": "stream",
          "name": "stderr",
          "text": [
            "\rProcessing GIFs:   9%|▉         | 92/1000 [00:48<11:09,  1.36it/s]"
          ]
        },
        {
          "output_type": "stream",
          "name": "stdout",
          "text": [
            "Downloaded: gifs_temp/gif_111285.gif\n",
            "Deleted: gifs_temp/gif_111285.gif\n",
            "Downloaded: gifs_temp/gif_68028.gif\n"
          ]
        },
        {
          "output_type": "stream",
          "name": "stderr",
          "text": [
            "\rProcessing GIFs:   9%|▉         | 93/1000 [00:49<10:54,  1.39it/s]"
          ]
        },
        {
          "output_type": "stream",
          "name": "stdout",
          "text": [
            "Deleted: gifs_temp/gif_68028.gif\n"
          ]
        },
        {
          "output_type": "stream",
          "name": "stderr",
          "text": [
            "\rProcessing GIFs:   9%|▉         | 94/1000 [00:49<10:11,  1.48it/s]"
          ]
        },
        {
          "output_type": "stream",
          "name": "stdout",
          "text": [
            "Downloaded: gifs_temp/gif_28390.gif\n",
            "Deleted: gifs_temp/gif_28390.gif\n",
            "Downloaded: gifs_temp/gif_90888.gif\n"
          ]
        },
        {
          "output_type": "stream",
          "name": "stderr",
          "text": [
            "\rProcessing GIFs:  10%|▉         | 95/1000 [00:50<09:51,  1.53it/s]"
          ]
        },
        {
          "output_type": "stream",
          "name": "stdout",
          "text": [
            "Deleted: gifs_temp/gif_90888.gif\n"
          ]
        },
        {
          "output_type": "stream",
          "name": "stderr",
          "text": [
            "\rProcessing GIFs:  10%|▉         | 96/1000 [00:50<10:05,  1.49it/s]"
          ]
        },
        {
          "output_type": "stream",
          "name": "stdout",
          "text": [
            "Downloaded: gifs_temp/gif_113373.gif\n",
            "Deleted: gifs_temp/gif_113373.gif\n"
          ]
        },
        {
          "output_type": "stream",
          "name": "stderr",
          "text": [
            "\rProcessing GIFs:  10%|▉         | 97/1000 [00:51<08:53,  1.69it/s]"
          ]
        },
        {
          "output_type": "stream",
          "name": "stdout",
          "text": [
            "Downloaded: gifs_temp/gif_2073.gif\n",
            "Deleted: gifs_temp/gif_2073.gif\n"
          ]
        },
        {
          "output_type": "stream",
          "name": "stderr",
          "text": [
            "\rProcessing GIFs:  10%|▉         | 98/1000 [00:51<07:35,  1.98it/s]"
          ]
        },
        {
          "output_type": "stream",
          "name": "stdout",
          "text": [
            "Downloaded: gifs_temp/gif_60605.gif\n",
            "Deleted: gifs_temp/gif_60605.gif\n"
          ]
        },
        {
          "output_type": "stream",
          "name": "stderr",
          "text": [
            "\rProcessing GIFs:  10%|▉         | 99/1000 [00:52<06:53,  2.18it/s]"
          ]
        },
        {
          "output_type": "stream",
          "name": "stdout",
          "text": [
            "Downloaded: gifs_temp/gif_1735.gif\n",
            "Deleted: gifs_temp/gif_1735.gif\n"
          ]
        },
        {
          "output_type": "stream",
          "name": "stderr",
          "text": [
            "\rProcessing GIFs:  10%|█         | 100/1000 [00:52<06:29,  2.31it/s]"
          ]
        },
        {
          "output_type": "stream",
          "name": "stdout",
          "text": [
            "Downloaded: gifs_temp/gif_5885.gif\n",
            "Deleted: gifs_temp/gif_5885.gif\n"
          ]
        },
        {
          "output_type": "stream",
          "name": "stderr",
          "text": [
            "\rProcessing GIFs:  10%|█         | 101/1000 [00:52<06:11,  2.42it/s]"
          ]
        },
        {
          "output_type": "stream",
          "name": "stdout",
          "text": [
            "Downloaded: gifs_temp/gif_44822.gif\n",
            "Deleted: gifs_temp/gif_44822.gif\n"
          ]
        },
        {
          "output_type": "stream",
          "name": "stderr",
          "text": [
            "\rProcessing GIFs:  10%|█         | 102/1000 [00:53<06:21,  2.35it/s]"
          ]
        },
        {
          "output_type": "stream",
          "name": "stdout",
          "text": [
            "Downloaded: gifs_temp/gif_44050.gif\n",
            "Deleted: gifs_temp/gif_44050.gif\n"
          ]
        },
        {
          "output_type": "stream",
          "name": "stderr",
          "text": [
            "\rProcessing GIFs:  10%|█         | 103/1000 [00:54<07:58,  1.88it/s]"
          ]
        },
        {
          "output_type": "stream",
          "name": "stdout",
          "text": [
            "Downloaded: gifs_temp/gif_51061.gif\n",
            "Deleted: gifs_temp/gif_51061.gif\n"
          ]
        },
        {
          "output_type": "stream",
          "name": "stderr",
          "text": [
            "\rProcessing GIFs:  10%|█         | 104/1000 [00:54<06:51,  2.18it/s]"
          ]
        },
        {
          "output_type": "stream",
          "name": "stdout",
          "text": [
            "Downloaded: gifs_temp/gif_6044.gif\n",
            "Deleted: gifs_temp/gif_6044.gif\n"
          ]
        },
        {
          "output_type": "stream",
          "name": "stderr",
          "text": [
            "\rProcessing GIFs:  10%|█         | 105/1000 [00:54<06:27,  2.31it/s]"
          ]
        },
        {
          "output_type": "stream",
          "name": "stdout",
          "text": [
            "Downloaded: gifs_temp/gif_35080.gif\n",
            "Deleted: gifs_temp/gif_35080.gif\n"
          ]
        },
        {
          "output_type": "stream",
          "name": "stderr",
          "text": [
            "\rProcessing GIFs:  11%|█         | 106/1000 [00:55<06:18,  2.36it/s]"
          ]
        },
        {
          "output_type": "stream",
          "name": "stdout",
          "text": [
            "Downloaded: gifs_temp/gif_94127.gif\n",
            "Deleted: gifs_temp/gif_94127.gif\n"
          ]
        },
        {
          "output_type": "stream",
          "name": "stderr",
          "text": [
            "\rProcessing GIFs:  11%|█         | 107/1000 [00:55<06:09,  2.42it/s]"
          ]
        },
        {
          "output_type": "stream",
          "name": "stdout",
          "text": [
            "Downloaded: gifs_temp/gif_74756.gif\n",
            "Deleted: gifs_temp/gif_74756.gif\n"
          ]
        },
        {
          "output_type": "stream",
          "name": "stderr",
          "text": [
            "\rProcessing GIFs:  11%|█         | 108/1000 [00:55<05:51,  2.54it/s]"
          ]
        },
        {
          "output_type": "stream",
          "name": "stdout",
          "text": [
            "Downloaded: gifs_temp/gif_83612.gif\n",
            "Deleted: gifs_temp/gif_83612.gif\n"
          ]
        },
        {
          "output_type": "stream",
          "name": "stderr",
          "text": [
            "\rProcessing GIFs:  11%|█         | 109/1000 [00:56<05:49,  2.55it/s]"
          ]
        },
        {
          "output_type": "stream",
          "name": "stdout",
          "text": [
            "Downloaded: gifs_temp/gif_105034.gif\n",
            "Deleted: gifs_temp/gif_105034.gif\n"
          ]
        },
        {
          "output_type": "stream",
          "name": "stderr",
          "text": [
            "\rProcessing GIFs:  11%|█         | 110/1000 [00:56<05:41,  2.60it/s]"
          ]
        },
        {
          "output_type": "stream",
          "name": "stdout",
          "text": [
            "Downloaded: gifs_temp/gif_51079.gif\n",
            "Deleted: gifs_temp/gif_51079.gif\n"
          ]
        },
        {
          "output_type": "stream",
          "name": "stderr",
          "text": [
            "\rProcessing GIFs:  11%|█         | 111/1000 [00:57<06:24,  2.31it/s]"
          ]
        },
        {
          "output_type": "stream",
          "name": "stdout",
          "text": [
            "Downloaded: gifs_temp/gif_93001.gif\n",
            "Deleted: gifs_temp/gif_93001.gif\n"
          ]
        },
        {
          "output_type": "stream",
          "name": "stderr",
          "text": [
            "\rProcessing GIFs:  11%|█         | 112/1000 [00:57<06:08,  2.41it/s]"
          ]
        },
        {
          "output_type": "stream",
          "name": "stdout",
          "text": [
            "Downloaded: gifs_temp/gif_30501.gif\n",
            "Deleted: gifs_temp/gif_30501.gif\n"
          ]
        },
        {
          "output_type": "stream",
          "name": "stderr",
          "text": [
            "\rProcessing GIFs:  11%|█▏        | 113/1000 [00:58<07:48,  1.89it/s]"
          ]
        },
        {
          "output_type": "stream",
          "name": "stdout",
          "text": [
            "Downloaded: gifs_temp/gif_30315.gif\n",
            "Deleted: gifs_temp/gif_30315.gif\n"
          ]
        },
        {
          "output_type": "stream",
          "name": "stderr",
          "text": [
            "\rProcessing GIFs:  11%|█▏        | 114/1000 [00:58<06:52,  2.15it/s]"
          ]
        },
        {
          "output_type": "stream",
          "name": "stdout",
          "text": [
            "Downloaded: gifs_temp/gif_50095.gif\n",
            "Deleted: gifs_temp/gif_50095.gif\n"
          ]
        },
        {
          "output_type": "stream",
          "name": "stderr",
          "text": [
            "\rProcessing GIFs:  12%|█▏        | 115/1000 [00:59<07:39,  1.92it/s]"
          ]
        },
        {
          "output_type": "stream",
          "name": "stdout",
          "text": [
            "Downloaded: gifs_temp/gif_50489.gif\n",
            "Deleted: gifs_temp/gif_50489.gif\n"
          ]
        },
        {
          "output_type": "stream",
          "name": "stderr",
          "text": [
            "\rProcessing GIFs:  12%|█▏        | 116/1000 [00:59<06:52,  2.14it/s]"
          ]
        },
        {
          "output_type": "stream",
          "name": "stdout",
          "text": [
            "Downloaded: gifs_temp/gif_67703.gif\n",
            "Deleted: gifs_temp/gif_67703.gif\n"
          ]
        },
        {
          "output_type": "stream",
          "name": "stderr",
          "text": [
            "\rProcessing GIFs:  12%|█▏        | 117/1000 [01:00<07:57,  1.85it/s]"
          ]
        },
        {
          "output_type": "stream",
          "name": "stdout",
          "text": [
            "Downloaded: gifs_temp/gif_46808.gif\n",
            "Deleted: gifs_temp/gif_46808.gif\n"
          ]
        },
        {
          "output_type": "stream",
          "name": "stderr",
          "text": [
            "\rProcessing GIFs:  12%|█▏        | 118/1000 [01:00<06:59,  2.10it/s]"
          ]
        },
        {
          "output_type": "stream",
          "name": "stdout",
          "text": [
            "Downloaded: gifs_temp/gif_5249.gif\n",
            "Deleted: gifs_temp/gif_5249.gif\n"
          ]
        },
        {
          "output_type": "stream",
          "name": "stderr",
          "text": [
            "\rProcessing GIFs:  12%|█▏        | 119/1000 [01:01<07:13,  2.03it/s]"
          ]
        },
        {
          "output_type": "stream",
          "name": "stdout",
          "text": [
            "Downloaded: gifs_temp/gif_71984.gif\n",
            "Deleted: gifs_temp/gif_71984.gif\n"
          ]
        },
        {
          "output_type": "stream",
          "name": "stderr",
          "text": [
            "\rProcessing GIFs:  12%|█▏        | 120/1000 [01:01<07:03,  2.08it/s]"
          ]
        },
        {
          "output_type": "stream",
          "name": "stdout",
          "text": [
            "Downloaded: gifs_temp/gif_849.gif\n",
            "Deleted: gifs_temp/gif_849.gif\n"
          ]
        },
        {
          "output_type": "stream",
          "name": "stderr",
          "text": [
            "\rProcessing GIFs:  12%|█▏        | 121/1000 [01:02<06:52,  2.13it/s]"
          ]
        },
        {
          "output_type": "stream",
          "name": "stdout",
          "text": [
            "Downloaded: gifs_temp/gif_106756.gif\n",
            "Deleted: gifs_temp/gif_106756.gif\n"
          ]
        },
        {
          "output_type": "stream",
          "name": "stderr",
          "text": [
            "\rProcessing GIFs:  12%|█▏        | 122/1000 [01:02<08:25,  1.74it/s]"
          ]
        },
        {
          "output_type": "stream",
          "name": "stdout",
          "text": [
            "Downloaded: gifs_temp/gif_19301.gif\n",
            "Deleted: gifs_temp/gif_19301.gif\n"
          ]
        },
        {
          "output_type": "stream",
          "name": "stderr",
          "text": [
            "\rProcessing GIFs:  12%|█▏        | 123/1000 [01:03<07:46,  1.88it/s]"
          ]
        },
        {
          "output_type": "stream",
          "name": "stdout",
          "text": [
            "Downloaded: gifs_temp/gif_69925.gif\n",
            "Deleted: gifs_temp/gif_69925.gif\n"
          ]
        },
        {
          "output_type": "stream",
          "name": "stderr",
          "text": [
            "\rProcessing GIFs:  12%|█▏        | 124/1000 [01:03<07:40,  1.90it/s]"
          ]
        },
        {
          "output_type": "stream",
          "name": "stdout",
          "text": [
            "Downloaded: gifs_temp/gif_63447.gif\n",
            "Deleted: gifs_temp/gif_63447.gif\n"
          ]
        },
        {
          "output_type": "stream",
          "name": "stderr",
          "text": [
            "\rProcessing GIFs:  12%|█▎        | 125/1000 [01:04<07:11,  2.03it/s]"
          ]
        },
        {
          "output_type": "stream",
          "name": "stdout",
          "text": [
            "Downloaded: gifs_temp/gif_21624.gif\n",
            "Deleted: gifs_temp/gif_21624.gif\n"
          ]
        },
        {
          "output_type": "stream",
          "name": "stderr",
          "text": [
            "\rProcessing GIFs:  13%|█▎        | 126/1000 [01:04<07:19,  1.99it/s]"
          ]
        },
        {
          "output_type": "stream",
          "name": "stdout",
          "text": [
            "Downloaded: gifs_temp/gif_34808.gif\n",
            "Deleted: gifs_temp/gif_34808.gif\n"
          ]
        },
        {
          "output_type": "stream",
          "name": "stderr",
          "text": [
            "\rProcessing GIFs:  13%|█▎        | 127/1000 [01:05<06:56,  2.09it/s]"
          ]
        },
        {
          "output_type": "stream",
          "name": "stdout",
          "text": [
            "Downloaded: gifs_temp/gif_120939.gif\n",
            "Deleted: gifs_temp/gif_120939.gif\n"
          ]
        },
        {
          "output_type": "stream",
          "name": "stderr",
          "text": [
            "\rProcessing GIFs:  13%|█▎        | 128/1000 [01:05<06:56,  2.09it/s]"
          ]
        },
        {
          "output_type": "stream",
          "name": "stdout",
          "text": [
            "Downloaded: gifs_temp/gif_96165.gif\n",
            "Deleted: gifs_temp/gif_96165.gif\n"
          ]
        },
        {
          "output_type": "stream",
          "name": "stderr",
          "text": [
            "\rProcessing GIFs:  13%|█▎        | 129/1000 [01:06<06:35,  2.20it/s]"
          ]
        },
        {
          "output_type": "stream",
          "name": "stdout",
          "text": [
            "Downloaded: gifs_temp/gif_33768.gif\n",
            "Deleted: gifs_temp/gif_33768.gif\n"
          ]
        },
        {
          "output_type": "stream",
          "name": "stderr",
          "text": [
            "\rProcessing GIFs:  13%|█▎        | 130/1000 [01:06<06:23,  2.27it/s]"
          ]
        },
        {
          "output_type": "stream",
          "name": "stdout",
          "text": [
            "Downloaded: gifs_temp/gif_49701.gif\n",
            "Deleted: gifs_temp/gif_49701.gif\n"
          ]
        },
        {
          "output_type": "stream",
          "name": "stderr",
          "text": [
            "\rProcessing GIFs:  13%|█▎        | 131/1000 [01:07<08:41,  1.67it/s]"
          ]
        },
        {
          "output_type": "stream",
          "name": "stdout",
          "text": [
            "Downloaded: gifs_temp/gif_103944.gif\n",
            "Deleted: gifs_temp/gif_103944.gif\n"
          ]
        },
        {
          "output_type": "stream",
          "name": "stderr",
          "text": [
            "\rProcessing GIFs:  13%|█▎        | 132/1000 [01:08<09:03,  1.60it/s]"
          ]
        },
        {
          "output_type": "stream",
          "name": "stdout",
          "text": [
            "Downloaded: gifs_temp/gif_11000.gif\n",
            "Deleted: gifs_temp/gif_11000.gif\n"
          ]
        },
        {
          "output_type": "stream",
          "name": "stderr",
          "text": [
            "\rProcessing GIFs:  13%|█▎        | 133/1000 [01:08<07:51,  1.84it/s]"
          ]
        },
        {
          "output_type": "stream",
          "name": "stdout",
          "text": [
            "Downloaded: gifs_temp/gif_35936.gif\n",
            "Deleted: gifs_temp/gif_35936.gif\n"
          ]
        },
        {
          "output_type": "stream",
          "name": "stderr",
          "text": [
            "\rProcessing GIFs:  13%|█▎        | 134/1000 [01:08<07:04,  2.04it/s]"
          ]
        },
        {
          "output_type": "stream",
          "name": "stdout",
          "text": [
            "Downloaded: gifs_temp/gif_55829.gif\n",
            "Deleted: gifs_temp/gif_55829.gif\n"
          ]
        },
        {
          "output_type": "stream",
          "name": "stderr",
          "text": [
            "\rProcessing GIFs:  14%|█▎        | 135/1000 [01:09<06:49,  2.11it/s]"
          ]
        },
        {
          "output_type": "stream",
          "name": "stdout",
          "text": [
            "Downloaded: gifs_temp/gif_44485.gif\n",
            "Deleted: gifs_temp/gif_44485.gif\n"
          ]
        },
        {
          "output_type": "stream",
          "name": "stderr",
          "text": [
            "\rProcessing GIFs:  14%|█▎        | 136/1000 [01:09<06:25,  2.24it/s]"
          ]
        },
        {
          "output_type": "stream",
          "name": "stdout",
          "text": [
            "Downloaded: gifs_temp/gif_24770.gif\n",
            "Deleted: gifs_temp/gif_24770.gif\n"
          ]
        },
        {
          "output_type": "stream",
          "name": "stderr",
          "text": [
            "\rProcessing GIFs:  14%|█▎        | 137/1000 [01:10<07:12,  1.99it/s]"
          ]
        },
        {
          "output_type": "stream",
          "name": "stdout",
          "text": [
            "Downloaded: gifs_temp/gif_114192.gif\n",
            "Deleted: gifs_temp/gif_114192.gif\n"
          ]
        },
        {
          "output_type": "stream",
          "name": "stderr",
          "text": [
            "\rProcessing GIFs:  14%|█▍        | 138/1000 [01:10<06:20,  2.27it/s]"
          ]
        },
        {
          "output_type": "stream",
          "name": "stdout",
          "text": [
            "Downloaded: gifs_temp/gif_34400.gif\n",
            "Deleted: gifs_temp/gif_34400.gif\n"
          ]
        },
        {
          "output_type": "stream",
          "name": "stderr",
          "text": [
            "\rProcessing GIFs:  14%|█▍        | 139/1000 [01:11<07:23,  1.94it/s]"
          ]
        },
        {
          "output_type": "stream",
          "name": "stdout",
          "text": [
            "Downloaded: gifs_temp/gif_46831.gif\n",
            "Deleted: gifs_temp/gif_46831.gif\n"
          ]
        },
        {
          "output_type": "stream",
          "name": "stderr",
          "text": [
            "\rProcessing GIFs:  14%|█▍        | 140/1000 [01:11<06:53,  2.08it/s]"
          ]
        },
        {
          "output_type": "stream",
          "name": "stdout",
          "text": [
            "Downloaded: gifs_temp/gif_56890.gif\n",
            "Deleted: gifs_temp/gif_56890.gif\n"
          ]
        },
        {
          "output_type": "stream",
          "name": "stderr",
          "text": [
            "\rProcessing GIFs:  14%|█▍        | 141/1000 [01:12<06:31,  2.20it/s]"
          ]
        },
        {
          "output_type": "stream",
          "name": "stdout",
          "text": [
            "Downloaded: gifs_temp/gif_31796.gif\n",
            "Deleted: gifs_temp/gif_31796.gif\n"
          ]
        },
        {
          "output_type": "stream",
          "name": "stderr",
          "text": [
            "\rProcessing GIFs:  14%|█▍        | 142/1000 [01:12<06:04,  2.35it/s]"
          ]
        },
        {
          "output_type": "stream",
          "name": "stdout",
          "text": [
            "Downloaded: gifs_temp/gif_11856.gif\n",
            "Deleted: gifs_temp/gif_11856.gif\n"
          ]
        },
        {
          "output_type": "stream",
          "name": "stderr",
          "text": [
            "\rProcessing GIFs:  14%|█▍        | 143/1000 [01:12<05:44,  2.49it/s]"
          ]
        },
        {
          "output_type": "stream",
          "name": "stdout",
          "text": [
            "Downloaded: gifs_temp/gif_856.gif\n",
            "Deleted: gifs_temp/gif_856.gif\n"
          ]
        },
        {
          "output_type": "stream",
          "name": "stderr",
          "text": [
            "\rProcessing GIFs:  14%|█▍        | 144/1000 [01:13<05:30,  2.59it/s]"
          ]
        },
        {
          "output_type": "stream",
          "name": "stdout",
          "text": [
            "Downloaded: gifs_temp/gif_20890.gif\n",
            "Deleted: gifs_temp/gif_20890.gif\n"
          ]
        },
        {
          "output_type": "stream",
          "name": "stderr",
          "text": [
            "\rProcessing GIFs:  14%|█▍        | 145/1000 [01:13<05:42,  2.50it/s]"
          ]
        },
        {
          "output_type": "stream",
          "name": "stdout",
          "text": [
            "Downloaded: gifs_temp/gif_39030.gif\n",
            "Deleted: gifs_temp/gif_39030.gif\n"
          ]
        },
        {
          "output_type": "stream",
          "name": "stderr",
          "text": [
            "\rProcessing GIFs:  15%|█▍        | 146/1000 [01:14<05:52,  2.42it/s]"
          ]
        },
        {
          "output_type": "stream",
          "name": "stdout",
          "text": [
            "Downloaded: gifs_temp/gif_120726.gif\n",
            "Deleted: gifs_temp/gif_120726.gif\n",
            "Downloaded: gifs_temp/gif_38299.gif\n"
          ]
        },
        {
          "output_type": "stream",
          "name": "stderr",
          "text": [
            "\rProcessing GIFs:  15%|█▍        | 147/1000 [01:14<06:33,  2.17it/s]"
          ]
        },
        {
          "output_type": "stream",
          "name": "stdout",
          "text": [
            "Deleted: gifs_temp/gif_38299.gif\n",
            "Downloaded: gifs_temp/gif_57481.gif\n"
          ]
        },
        {
          "output_type": "stream",
          "name": "stderr",
          "text": [
            "\rProcessing GIFs:  15%|█▍        | 148/1000 [01:15<06:46,  2.10it/s]"
          ]
        },
        {
          "output_type": "stream",
          "name": "stdout",
          "text": [
            "Deleted: gifs_temp/gif_57481.gif\n"
          ]
        },
        {
          "output_type": "stream",
          "name": "stderr",
          "text": [
            "\rProcessing GIFs:  15%|█▍        | 149/1000 [01:15<06:35,  2.15it/s]"
          ]
        },
        {
          "output_type": "stream",
          "name": "stdout",
          "text": [
            "Downloaded: gifs_temp/gif_6862.gif\n",
            "Deleted: gifs_temp/gif_6862.gif\n",
            "Downloaded: gifs_temp/gif_90338.gif\n"
          ]
        },
        {
          "output_type": "stream",
          "name": "stderr",
          "text": [
            "\rProcessing GIFs:  15%|█▌        | 150/1000 [01:16<07:01,  2.02it/s]"
          ]
        },
        {
          "output_type": "stream",
          "name": "stdout",
          "text": [
            "Deleted: gifs_temp/gif_90338.gif\n",
            "Downloaded: gifs_temp/gif_55300.gif\n"
          ]
        },
        {
          "output_type": "stream",
          "name": "stderr",
          "text": [
            "\rProcessing GIFs:  15%|█▌        | 151/1000 [01:17<08:52,  1.59it/s]"
          ]
        },
        {
          "output_type": "stream",
          "name": "stdout",
          "text": [
            "Deleted: gifs_temp/gif_55300.gif\n",
            "Downloaded: gifs_temp/gif_67140.gif\n"
          ]
        },
        {
          "output_type": "stream",
          "name": "stderr",
          "text": [
            "\rProcessing GIFs:  15%|█▌        | 152/1000 [01:17<09:25,  1.50it/s]"
          ]
        },
        {
          "output_type": "stream",
          "name": "stdout",
          "text": [
            "Deleted: gifs_temp/gif_67140.gif\n"
          ]
        },
        {
          "output_type": "stream",
          "name": "stderr",
          "text": [
            "\rProcessing GIFs:  15%|█▌        | 153/1000 [01:18<08:23,  1.68it/s]"
          ]
        },
        {
          "output_type": "stream",
          "name": "stdout",
          "text": [
            "Downloaded: gifs_temp/gif_90490.gif\n",
            "Deleted: gifs_temp/gif_90490.gif\n"
          ]
        },
        {
          "output_type": "stream",
          "name": "stderr",
          "text": [
            "\rProcessing GIFs:  15%|█▌        | 154/1000 [01:18<07:40,  1.84it/s]"
          ]
        },
        {
          "output_type": "stream",
          "name": "stdout",
          "text": [
            "Downloaded: gifs_temp/gif_77221.gif\n",
            "Deleted: gifs_temp/gif_77221.gif\n"
          ]
        },
        {
          "output_type": "stream",
          "name": "stderr",
          "text": [
            "\rProcessing GIFs:  16%|█▌        | 155/1000 [01:19<08:17,  1.70it/s]"
          ]
        },
        {
          "output_type": "stream",
          "name": "stdout",
          "text": [
            "Downloaded: gifs_temp/gif_10085.gif\n",
            "Deleted: gifs_temp/gif_10085.gif\n"
          ]
        },
        {
          "output_type": "stream",
          "name": "stderr",
          "text": [
            "\rProcessing GIFs:  16%|█▌        | 156/1000 [01:19<07:20,  1.92it/s]"
          ]
        },
        {
          "output_type": "stream",
          "name": "stdout",
          "text": [
            "Downloaded: gifs_temp/gif_20647.gif\n",
            "Deleted: gifs_temp/gif_20647.gif\n"
          ]
        },
        {
          "output_type": "stream",
          "name": "stderr",
          "text": [
            "\rProcessing GIFs:  16%|█▌        | 157/1000 [01:20<06:35,  2.13it/s]"
          ]
        },
        {
          "output_type": "stream",
          "name": "stdout",
          "text": [
            "Downloaded: gifs_temp/gif_33225.gif\n",
            "Deleted: gifs_temp/gif_33225.gif\n"
          ]
        },
        {
          "output_type": "stream",
          "name": "stderr",
          "text": [
            "\rProcessing GIFs:  16%|█▌        | 158/1000 [01:20<06:09,  2.28it/s]"
          ]
        },
        {
          "output_type": "stream",
          "name": "stdout",
          "text": [
            "Downloaded: gifs_temp/gif_4465.gif\n",
            "Deleted: gifs_temp/gif_4465.gif\n"
          ]
        },
        {
          "output_type": "stream",
          "name": "stderr",
          "text": [
            "\rProcessing GIFs:  16%|█▌        | 159/1000 [01:20<06:03,  2.31it/s]"
          ]
        },
        {
          "output_type": "stream",
          "name": "stdout",
          "text": [
            "Downloaded: gifs_temp/gif_109722.gif\n",
            "Deleted: gifs_temp/gif_109722.gif\n"
          ]
        },
        {
          "output_type": "stream",
          "name": "stderr",
          "text": [
            "\rProcessing GIFs:  16%|█▌        | 160/1000 [01:21<06:03,  2.31it/s]"
          ]
        },
        {
          "output_type": "stream",
          "name": "stdout",
          "text": [
            "Downloaded: gifs_temp/gif_81328.gif\n",
            "Deleted: gifs_temp/gif_81328.gif\n"
          ]
        },
        {
          "output_type": "stream",
          "name": "stderr",
          "text": [
            "\rProcessing GIFs:  16%|█▌        | 161/1000 [01:22<08:14,  1.70it/s]"
          ]
        },
        {
          "output_type": "stream",
          "name": "stdout",
          "text": [
            "Downloaded: gifs_temp/gif_82146.gif\n",
            "Deleted: gifs_temp/gif_82146.gif\n"
          ]
        },
        {
          "output_type": "stream",
          "name": "stderr",
          "text": [
            "\rProcessing GIFs:  16%|█▌        | 162/1000 [01:22<07:21,  1.90it/s]"
          ]
        },
        {
          "output_type": "stream",
          "name": "stdout",
          "text": [
            "Downloaded: gifs_temp/gif_59988.gif\n",
            "Deleted: gifs_temp/gif_59988.gif\n"
          ]
        },
        {
          "output_type": "stream",
          "name": "stderr",
          "text": [
            "\rProcessing GIFs:  16%|█▋        | 163/1000 [01:22<06:27,  2.16it/s]"
          ]
        },
        {
          "output_type": "stream",
          "name": "stdout",
          "text": [
            "Downloaded: gifs_temp/gif_635.gif\n",
            "Deleted: gifs_temp/gif_635.gif\n"
          ]
        },
        {
          "output_type": "stream",
          "name": "stderr",
          "text": [
            "\rProcessing GIFs:  16%|█▋        | 164/1000 [01:23<06:13,  2.24it/s]"
          ]
        },
        {
          "output_type": "stream",
          "name": "stdout",
          "text": [
            "Downloaded: gifs_temp/gif_3917.gif\n",
            "Deleted: gifs_temp/gif_3917.gif\n"
          ]
        },
        {
          "output_type": "stream",
          "name": "stderr",
          "text": [
            "\rProcessing GIFs:  16%|█▋        | 165/1000 [01:23<05:54,  2.36it/s]"
          ]
        },
        {
          "output_type": "stream",
          "name": "stdout",
          "text": [
            "Downloaded: gifs_temp/gif_64500.gif\n",
            "Deleted: gifs_temp/gif_64500.gif\n"
          ]
        },
        {
          "output_type": "stream",
          "name": "stderr",
          "text": [
            "\rProcessing GIFs:  17%|█▋        | 166/1000 [01:24<05:41,  2.44it/s]"
          ]
        },
        {
          "output_type": "stream",
          "name": "stdout",
          "text": [
            "Downloaded: gifs_temp/gif_7870.gif\n",
            "Deleted: gifs_temp/gif_7870.gif\n",
            "Downloaded: gifs_temp/gif_15467.gif\n"
          ]
        },
        {
          "output_type": "stream",
          "name": "stderr",
          "text": [
            "\rProcessing GIFs:  17%|█▋        | 167/1000 [01:24<06:34,  2.11it/s]"
          ]
        },
        {
          "output_type": "stream",
          "name": "stdout",
          "text": [
            "Deleted: gifs_temp/gif_15467.gif\n"
          ]
        },
        {
          "output_type": "stream",
          "name": "stderr",
          "text": [
            "\rProcessing GIFs:  17%|█▋        | 168/1000 [01:25<07:06,  1.95it/s]"
          ]
        },
        {
          "output_type": "stream",
          "name": "stdout",
          "text": [
            "Downloaded: gifs_temp/gif_98416.gif\n",
            "Deleted: gifs_temp/gif_98416.gif\n"
          ]
        },
        {
          "output_type": "stream",
          "name": "stderr",
          "text": [
            "\rProcessing GIFs:  17%|█▋        | 169/1000 [01:25<06:44,  2.06it/s]"
          ]
        },
        {
          "output_type": "stream",
          "name": "stdout",
          "text": [
            "Downloaded: gifs_temp/gif_59573.gif\n",
            "Deleted: gifs_temp/gif_59573.gif\n"
          ]
        },
        {
          "output_type": "stream",
          "name": "stderr",
          "text": [
            "\rProcessing GIFs:  17%|█▋        | 170/1000 [01:26<06:16,  2.20it/s]"
          ]
        },
        {
          "output_type": "stream",
          "name": "stdout",
          "text": [
            "Downloaded: gifs_temp/gif_7467.gif\n",
            "Deleted: gifs_temp/gif_7467.gif\n"
          ]
        },
        {
          "output_type": "stream",
          "name": "stderr",
          "text": [
            "\rProcessing GIFs:  17%|█▋        | 171/1000 [01:26<05:39,  2.44it/s]"
          ]
        },
        {
          "output_type": "stream",
          "name": "stdout",
          "text": [
            "Downloaded: gifs_temp/gif_35586.gif\n",
            "Deleted: gifs_temp/gif_35586.gif\n"
          ]
        },
        {
          "output_type": "stream",
          "name": "stderr",
          "text": [
            "\rProcessing GIFs:  17%|█▋        | 172/1000 [01:26<05:45,  2.40it/s]"
          ]
        },
        {
          "output_type": "stream",
          "name": "stdout",
          "text": [
            "Downloaded: gifs_temp/gif_117170.gif\n",
            "Deleted: gifs_temp/gif_117170.gif\n"
          ]
        },
        {
          "output_type": "stream",
          "name": "stderr",
          "text": [
            "\rProcessing GIFs:  17%|█▋        | 173/1000 [01:27<05:35,  2.46it/s]"
          ]
        },
        {
          "output_type": "stream",
          "name": "stdout",
          "text": [
            "Downloaded: gifs_temp/gif_79478.gif\n",
            "Deleted: gifs_temp/gif_79478.gif\n"
          ]
        },
        {
          "output_type": "stream",
          "name": "stderr",
          "text": [
            "\rProcessing GIFs:  17%|█▋        | 174/1000 [01:27<05:43,  2.41it/s]"
          ]
        },
        {
          "output_type": "stream",
          "name": "stdout",
          "text": [
            "Downloaded: gifs_temp/gif_69581.gif\n",
            "Deleted: gifs_temp/gif_69581.gif\n"
          ]
        },
        {
          "output_type": "stream",
          "name": "stderr",
          "text": [
            "\rProcessing GIFs:  18%|█▊        | 175/1000 [01:28<06:02,  2.28it/s]"
          ]
        },
        {
          "output_type": "stream",
          "name": "stdout",
          "text": [
            "Downloaded: gifs_temp/gif_60052.gif\n",
            "Deleted: gifs_temp/gif_60052.gif\n"
          ]
        },
        {
          "output_type": "stream",
          "name": "stderr",
          "text": [
            "\rProcessing GIFs:  18%|█▊        | 176/1000 [01:28<05:41,  2.41it/s]"
          ]
        },
        {
          "output_type": "stream",
          "name": "stdout",
          "text": [
            "Downloaded: gifs_temp/gif_190.gif\n",
            "Deleted: gifs_temp/gif_190.gif\n"
          ]
        },
        {
          "output_type": "stream",
          "name": "stderr",
          "text": [
            "\rProcessing GIFs:  18%|█▊        | 177/1000 [01:28<05:31,  2.48it/s]"
          ]
        },
        {
          "output_type": "stream",
          "name": "stdout",
          "text": [
            "Downloaded: gifs_temp/gif_1458.gif\n",
            "Deleted: gifs_temp/gif_1458.gif\n"
          ]
        },
        {
          "output_type": "stream",
          "name": "stderr",
          "text": [
            "\rProcessing GIFs:  18%|█▊        | 178/1000 [01:29<05:33,  2.46it/s]"
          ]
        },
        {
          "output_type": "stream",
          "name": "stdout",
          "text": [
            "Downloaded: gifs_temp/gif_25644.gif\n",
            "Deleted: gifs_temp/gif_25644.gif\n"
          ]
        },
        {
          "output_type": "stream",
          "name": "stderr",
          "text": [
            "\rProcessing GIFs:  18%|█▊        | 179/1000 [01:29<05:54,  2.32it/s]"
          ]
        },
        {
          "output_type": "stream",
          "name": "stdout",
          "text": [
            "Downloaded: gifs_temp/gif_64014.gif\n",
            "Deleted: gifs_temp/gif_64014.gif\n"
          ]
        },
        {
          "output_type": "stream",
          "name": "stderr",
          "text": [
            "\rProcessing GIFs:  18%|█▊        | 180/1000 [01:30<05:58,  2.28it/s]"
          ]
        },
        {
          "output_type": "stream",
          "name": "stdout",
          "text": [
            "Downloaded: gifs_temp/gif_495.gif\n",
            "Deleted: gifs_temp/gif_495.gif\n"
          ]
        },
        {
          "output_type": "stream",
          "name": "stderr",
          "text": [
            "\rProcessing GIFs:  18%|█▊        | 181/1000 [01:30<06:22,  2.14it/s]"
          ]
        },
        {
          "output_type": "stream",
          "name": "stdout",
          "text": [
            "Downloaded: gifs_temp/gif_52329.gif\n",
            "Deleted: gifs_temp/gif_52329.gif\n"
          ]
        },
        {
          "output_type": "stream",
          "name": "stderr",
          "text": [
            "\rProcessing GIFs:  18%|█▊        | 182/1000 [01:31<06:09,  2.22it/s]"
          ]
        },
        {
          "output_type": "stream",
          "name": "stdout",
          "text": [
            "Downloaded: gifs_temp/gif_7732.gif\n",
            "Deleted: gifs_temp/gif_7732.gif\n"
          ]
        },
        {
          "output_type": "stream",
          "name": "stderr",
          "text": [
            "\rProcessing GIFs:  18%|█▊        | 183/1000 [01:31<06:02,  2.26it/s]"
          ]
        },
        {
          "output_type": "stream",
          "name": "stdout",
          "text": [
            "Downloaded: gifs_temp/gif_24749.gif\n",
            "Deleted: gifs_temp/gif_24749.gif\n"
          ]
        },
        {
          "output_type": "stream",
          "name": "stderr",
          "text": [
            "\rProcessing GIFs:  18%|█▊        | 184/1000 [01:32<07:27,  1.82it/s]"
          ]
        },
        {
          "output_type": "stream",
          "name": "stdout",
          "text": [
            "Downloaded: gifs_temp/gif_83904.gif\n",
            "Deleted: gifs_temp/gif_83904.gif\n"
          ]
        },
        {
          "output_type": "stream",
          "name": "stderr",
          "text": [
            "\rProcessing GIFs:  18%|█▊        | 185/1000 [01:32<06:55,  1.96it/s]"
          ]
        },
        {
          "output_type": "stream",
          "name": "stdout",
          "text": [
            "Downloaded: gifs_temp/gif_31032.gif\n",
            "Deleted: gifs_temp/gif_31032.gif\n"
          ]
        },
        {
          "output_type": "stream",
          "name": "stderr",
          "text": [
            "\rProcessing GIFs:  19%|█▊        | 186/1000 [01:33<06:46,  2.00it/s]"
          ]
        },
        {
          "output_type": "stream",
          "name": "stdout",
          "text": [
            "Downloaded: gifs_temp/gif_118320.gif\n",
            "Deleted: gifs_temp/gif_118320.gif\n"
          ]
        },
        {
          "output_type": "stream",
          "name": "stderr",
          "text": [
            "\rProcessing GIFs:  19%|█▊        | 187/1000 [01:33<06:27,  2.10it/s]"
          ]
        },
        {
          "output_type": "stream",
          "name": "stdout",
          "text": [
            "Downloaded: gifs_temp/gif_97173.gif\n",
            "Deleted: gifs_temp/gif_97173.gif\n"
          ]
        },
        {
          "output_type": "stream",
          "name": "stderr",
          "text": [
            "\rProcessing GIFs:  19%|█▉        | 188/1000 [01:34<06:19,  2.14it/s]"
          ]
        },
        {
          "output_type": "stream",
          "name": "stdout",
          "text": [
            "Downloaded: gifs_temp/gif_53337.gif\n",
            "Deleted: gifs_temp/gif_53337.gif\n"
          ]
        },
        {
          "output_type": "stream",
          "name": "stderr",
          "text": [
            "\rProcessing GIFs:  19%|█▉        | 189/1000 [01:34<05:57,  2.27it/s]"
          ]
        },
        {
          "output_type": "stream",
          "name": "stdout",
          "text": [
            "Downloaded: gifs_temp/gif_113738.gif\n",
            "Deleted: gifs_temp/gif_113738.gif\n"
          ]
        },
        {
          "output_type": "stream",
          "name": "stderr",
          "text": [
            "\rProcessing GIFs:  19%|█▉        | 190/1000 [01:34<05:48,  2.33it/s]"
          ]
        },
        {
          "output_type": "stream",
          "name": "stdout",
          "text": [
            "Downloaded: gifs_temp/gif_13588.gif\n",
            "Deleted: gifs_temp/gif_13588.gif\n"
          ]
        },
        {
          "output_type": "stream",
          "name": "stderr",
          "text": [
            "\rProcessing GIFs:  19%|█▉        | 191/1000 [01:35<05:28,  2.47it/s]"
          ]
        },
        {
          "output_type": "stream",
          "name": "stdout",
          "text": [
            "Downloaded: gifs_temp/gif_123844.gif\n",
            "Deleted: gifs_temp/gif_123844.gif\n"
          ]
        },
        {
          "output_type": "stream",
          "name": "stderr",
          "text": [
            "\rProcessing GIFs:  19%|█▉        | 192/1000 [01:35<05:22,  2.50it/s]"
          ]
        },
        {
          "output_type": "stream",
          "name": "stdout",
          "text": [
            "Downloaded: gifs_temp/gif_10895.gif\n",
            "Deleted: gifs_temp/gif_10895.gif\n"
          ]
        },
        {
          "output_type": "stream",
          "name": "stderr",
          "text": [
            "\rProcessing GIFs:  19%|█▉        | 193/1000 [01:36<05:26,  2.47it/s]"
          ]
        },
        {
          "output_type": "stream",
          "name": "stdout",
          "text": [
            "Downloaded: gifs_temp/gif_95973.gif\n",
            "Deleted: gifs_temp/gif_95973.gif\n"
          ]
        },
        {
          "output_type": "stream",
          "name": "stderr",
          "text": [
            "\rProcessing GIFs:  19%|█▉        | 194/1000 [01:36<06:15,  2.15it/s]"
          ]
        },
        {
          "output_type": "stream",
          "name": "stdout",
          "text": [
            "Downloaded: gifs_temp/gif_56696.gif\n",
            "Deleted: gifs_temp/gif_56696.gif\n"
          ]
        },
        {
          "output_type": "stream",
          "name": "stderr",
          "text": [
            "\rProcessing GIFs:  20%|█▉        | 195/1000 [01:37<05:53,  2.28it/s]"
          ]
        },
        {
          "output_type": "stream",
          "name": "stdout",
          "text": [
            "Downloaded: gifs_temp/gif_63479.gif\n",
            "Deleted: gifs_temp/gif_63479.gif\n"
          ]
        },
        {
          "output_type": "stream",
          "name": "stderr",
          "text": [
            "\rProcessing GIFs:  20%|█▉        | 196/1000 [01:37<07:37,  1.76it/s]"
          ]
        },
        {
          "output_type": "stream",
          "name": "stdout",
          "text": [
            "Downloaded: gifs_temp/gif_29697.gif\n",
            "Deleted: gifs_temp/gif_29697.gif\n"
          ]
        },
        {
          "output_type": "stream",
          "name": "stderr",
          "text": [
            "\rProcessing GIFs:  20%|█▉        | 197/1000 [01:38<06:54,  1.94it/s]"
          ]
        },
        {
          "output_type": "stream",
          "name": "stdout",
          "text": [
            "Downloaded: gifs_temp/gif_88368.gif\n",
            "Deleted: gifs_temp/gif_88368.gif\n"
          ]
        },
        {
          "output_type": "stream",
          "name": "stderr",
          "text": [
            "\rProcessing GIFs:  20%|█▉        | 198/1000 [01:38<06:04,  2.20it/s]"
          ]
        },
        {
          "output_type": "stream",
          "name": "stdout",
          "text": [
            "Downloaded: gifs_temp/gif_73511.gif\n",
            "Deleted: gifs_temp/gif_73511.gif\n"
          ]
        },
        {
          "output_type": "stream",
          "name": "stderr",
          "text": [
            "\rProcessing GIFs:  20%|█▉        | 199/1000 [01:39<07:07,  1.87it/s]"
          ]
        },
        {
          "output_type": "stream",
          "name": "stdout",
          "text": [
            "Downloaded: gifs_temp/gif_124490.gif\n",
            "Deleted: gifs_temp/gif_124490.gif\n"
          ]
        },
        {
          "output_type": "stream",
          "name": "stderr",
          "text": [
            "\rProcessing GIFs:  20%|██        | 200/1000 [01:39<06:29,  2.06it/s]"
          ]
        },
        {
          "output_type": "stream",
          "name": "stdout",
          "text": [
            "Downloaded: gifs_temp/gif_90596.gif\n",
            "Deleted: gifs_temp/gif_90596.gif\n"
          ]
        },
        {
          "output_type": "stream",
          "name": "stderr",
          "text": [
            "\rProcessing GIFs:  20%|██        | 201/1000 [01:40<05:46,  2.31it/s]"
          ]
        },
        {
          "output_type": "stream",
          "name": "stdout",
          "text": [
            "Downloaded: gifs_temp/gif_37090.gif\n",
            "Deleted: gifs_temp/gif_37090.gif\n"
          ]
        },
        {
          "output_type": "stream",
          "name": "stderr",
          "text": [
            "\rProcessing GIFs:  20%|██        | 202/1000 [01:40<05:34,  2.38it/s]"
          ]
        },
        {
          "output_type": "stream",
          "name": "stdout",
          "text": [
            "Downloaded: gifs_temp/gif_97993.gif\n",
            "Deleted: gifs_temp/gif_97993.gif\n"
          ]
        },
        {
          "output_type": "stream",
          "name": "stderr",
          "text": [
            "\rProcessing GIFs:  20%|██        | 203/1000 [01:40<05:25,  2.45it/s]"
          ]
        },
        {
          "output_type": "stream",
          "name": "stdout",
          "text": [
            "Downloaded: gifs_temp/gif_35650.gif\n",
            "Deleted: gifs_temp/gif_35650.gif\n"
          ]
        },
        {
          "output_type": "stream",
          "name": "stderr",
          "text": [
            "\rProcessing GIFs:  20%|██        | 204/1000 [01:41<06:23,  2.08it/s]"
          ]
        },
        {
          "output_type": "stream",
          "name": "stdout",
          "text": [
            "Downloaded: gifs_temp/gif_18177.gif\n",
            "Deleted: gifs_temp/gif_18177.gif\n"
          ]
        },
        {
          "output_type": "stream",
          "name": "stderr",
          "text": [
            "\rProcessing GIFs:  20%|██        | 205/1000 [01:41<06:15,  2.12it/s]"
          ]
        },
        {
          "output_type": "stream",
          "name": "stdout",
          "text": [
            "Downloaded: gifs_temp/gif_19810.gif\n",
            "Deleted: gifs_temp/gif_19810.gif\n"
          ]
        },
        {
          "output_type": "stream",
          "name": "stderr",
          "text": [
            "\rProcessing GIFs:  21%|██        | 206/1000 [01:42<06:10,  2.14it/s]"
          ]
        },
        {
          "output_type": "stream",
          "name": "stdout",
          "text": [
            "Downloaded: gifs_temp/gif_70162.gif\n",
            "Deleted: gifs_temp/gif_70162.gif\n",
            "Downloaded: gifs_temp/gif_18936.gif\n"
          ]
        },
        {
          "output_type": "stream",
          "name": "stderr",
          "text": [
            "\rProcessing GIFs:  21%|██        | 207/1000 [01:43<09:54,  1.33it/s]"
          ]
        },
        {
          "output_type": "stream",
          "name": "stdout",
          "text": [
            "Deleted: gifs_temp/gif_18936.gif\n"
          ]
        },
        {
          "output_type": "stream",
          "name": "stderr",
          "text": [
            "\rProcessing GIFs:  21%|██        | 208/1000 [01:44<08:54,  1.48it/s]"
          ]
        },
        {
          "output_type": "stream",
          "name": "stdout",
          "text": [
            "Downloaded: gifs_temp/gif_100868.gif\n",
            "Deleted: gifs_temp/gif_100868.gif\n"
          ]
        },
        {
          "output_type": "stream",
          "name": "stderr",
          "text": [
            "\rProcessing GIFs:  21%|██        | 209/1000 [01:44<08:26,  1.56it/s]"
          ]
        },
        {
          "output_type": "stream",
          "name": "stdout",
          "text": [
            "Downloaded: gifs_temp/gif_69312.gif\n",
            "Deleted: gifs_temp/gif_69312.gif\n"
          ]
        },
        {
          "output_type": "stream",
          "name": "stderr",
          "text": [
            "\rProcessing GIFs:  21%|██        | 210/1000 [01:45<07:34,  1.74it/s]"
          ]
        },
        {
          "output_type": "stream",
          "name": "stdout",
          "text": [
            "Downloaded: gifs_temp/gif_76066.gif\n",
            "Deleted: gifs_temp/gif_76066.gif\n",
            "Downloaded: gifs_temp/gif_112973.gif\n"
          ]
        },
        {
          "output_type": "stream",
          "name": "stderr",
          "text": [
            "\rProcessing GIFs:  21%|██        | 211/1000 [01:46<09:48,  1.34it/s]"
          ]
        },
        {
          "output_type": "stream",
          "name": "stdout",
          "text": [
            "Deleted: gifs_temp/gif_112973.gif\n"
          ]
        },
        {
          "output_type": "stream",
          "name": "stderr",
          "text": [
            "\rProcessing GIFs:  21%|██        | 212/1000 [01:46<08:52,  1.48it/s]"
          ]
        },
        {
          "output_type": "stream",
          "name": "stdout",
          "text": [
            "Downloaded: gifs_temp/gif_1707.gif\n",
            "Deleted: gifs_temp/gif_1707.gif\n"
          ]
        },
        {
          "output_type": "stream",
          "name": "stderr",
          "text": [
            "\rProcessing GIFs:  21%|██▏       | 213/1000 [01:47<07:26,  1.76it/s]"
          ]
        },
        {
          "output_type": "stream",
          "name": "stdout",
          "text": [
            "Downloaded: gifs_temp/gif_106628.gif\n",
            "Deleted: gifs_temp/gif_106628.gif\n"
          ]
        },
        {
          "output_type": "stream",
          "name": "stderr",
          "text": [
            "\rProcessing GIFs:  21%|██▏       | 214/1000 [01:48<08:45,  1.50it/s]"
          ]
        },
        {
          "output_type": "stream",
          "name": "stdout",
          "text": [
            "Downloaded: gifs_temp/gif_118057.gif\n",
            "Deleted: gifs_temp/gif_118057.gif\n"
          ]
        },
        {
          "output_type": "stream",
          "name": "stderr",
          "text": [
            "\rProcessing GIFs:  22%|██▏       | 215/1000 [01:48<07:40,  1.70it/s]"
          ]
        },
        {
          "output_type": "stream",
          "name": "stdout",
          "text": [
            "Downloaded: gifs_temp/gif_33967.gif\n",
            "Deleted: gifs_temp/gif_33967.gif\n"
          ]
        },
        {
          "output_type": "stream",
          "name": "stderr",
          "text": [
            "\rProcessing GIFs:  22%|██▏       | 216/1000 [01:48<06:47,  1.92it/s]"
          ]
        },
        {
          "output_type": "stream",
          "name": "stdout",
          "text": [
            "Downloaded: gifs_temp/gif_29507.gif\n",
            "Deleted: gifs_temp/gif_29507.gif\n"
          ]
        },
        {
          "output_type": "stream",
          "name": "stderr",
          "text": [
            "\rProcessing GIFs:  22%|██▏       | 217/1000 [01:49<06:30,  2.00it/s]"
          ]
        },
        {
          "output_type": "stream",
          "name": "stdout",
          "text": [
            "Downloaded: gifs_temp/gif_59878.gif\n",
            "Deleted: gifs_temp/gif_59878.gif\n"
          ]
        },
        {
          "output_type": "stream",
          "name": "stderr",
          "text": [
            "\rProcessing GIFs:  22%|██▏       | 218/1000 [01:50<08:19,  1.57it/s]"
          ]
        },
        {
          "output_type": "stream",
          "name": "stdout",
          "text": [
            "Downloaded: gifs_temp/gif_90215.gif\n",
            "Deleted: gifs_temp/gif_90215.gif\n"
          ]
        },
        {
          "output_type": "stream",
          "name": "stderr",
          "text": [
            "\rProcessing GIFs:  22%|██▏       | 219/1000 [01:50<07:00,  1.86it/s]"
          ]
        },
        {
          "output_type": "stream",
          "name": "stdout",
          "text": [
            "Downloaded: gifs_temp/gif_52854.gif\n",
            "Deleted: gifs_temp/gif_52854.gif\n"
          ]
        },
        {
          "output_type": "stream",
          "name": "stderr",
          "text": [
            "\rProcessing GIFs:  22%|██▏       | 220/1000 [01:51<06:57,  1.87it/s]"
          ]
        },
        {
          "output_type": "stream",
          "name": "stdout",
          "text": [
            "Downloaded: gifs_temp/gif_112770.gif\n",
            "Deleted: gifs_temp/gif_112770.gif\n"
          ]
        },
        {
          "output_type": "stream",
          "name": "stderr",
          "text": [
            "\rProcessing GIFs:  22%|██▏       | 221/1000 [01:51<06:13,  2.08it/s]"
          ]
        },
        {
          "output_type": "stream",
          "name": "stdout",
          "text": [
            "Downloaded: gifs_temp/gif_76574.gif\n",
            "Deleted: gifs_temp/gif_76574.gif\n"
          ]
        },
        {
          "output_type": "stream",
          "name": "stderr",
          "text": [
            "\rProcessing GIFs:  22%|██▏       | 222/1000 [01:51<06:01,  2.15it/s]"
          ]
        },
        {
          "output_type": "stream",
          "name": "stdout",
          "text": [
            "Downloaded: gifs_temp/gif_98359.gif\n",
            "Deleted: gifs_temp/gif_98359.gif\n"
          ]
        },
        {
          "output_type": "stream",
          "name": "stderr",
          "text": [
            "\rProcessing GIFs:  22%|██▏       | 223/1000 [01:52<05:45,  2.25it/s]"
          ]
        },
        {
          "output_type": "stream",
          "name": "stdout",
          "text": [
            "Downloaded: gifs_temp/gif_22056.gif\n",
            "Deleted: gifs_temp/gif_22056.gif\n"
          ]
        },
        {
          "output_type": "stream",
          "name": "stderr",
          "text": [
            "\rProcessing GIFs:  22%|██▏       | 224/1000 [01:52<05:34,  2.32it/s]"
          ]
        },
        {
          "output_type": "stream",
          "name": "stdout",
          "text": [
            "Downloaded: gifs_temp/gif_108007.gif\n",
            "Deleted: gifs_temp/gif_108007.gif\n"
          ]
        },
        {
          "output_type": "stream",
          "name": "stderr",
          "text": [
            "\rProcessing GIFs:  22%|██▎       | 225/1000 [01:53<05:22,  2.40it/s]"
          ]
        },
        {
          "output_type": "stream",
          "name": "stdout",
          "text": [
            "Downloaded: gifs_temp/gif_38222.gif\n",
            "Deleted: gifs_temp/gif_38222.gif\n"
          ]
        },
        {
          "output_type": "stream",
          "name": "stderr",
          "text": [
            "\rProcessing GIFs:  23%|██▎       | 226/1000 [01:53<05:21,  2.41it/s]"
          ]
        },
        {
          "output_type": "stream",
          "name": "stdout",
          "text": [
            "Downloaded: gifs_temp/gif_117898.gif\n",
            "Deleted: gifs_temp/gif_117898.gif\n"
          ]
        },
        {
          "output_type": "stream",
          "name": "stderr",
          "text": [
            "\rProcessing GIFs:  23%|██▎       | 227/1000 [01:53<05:19,  2.42it/s]"
          ]
        },
        {
          "output_type": "stream",
          "name": "stdout",
          "text": [
            "Downloaded: gifs_temp/gif_50358.gif\n",
            "Deleted: gifs_temp/gif_50358.gif\n"
          ]
        },
        {
          "output_type": "stream",
          "name": "stderr",
          "text": [
            "\rProcessing GIFs:  23%|██▎       | 228/1000 [01:54<05:11,  2.48it/s]"
          ]
        },
        {
          "output_type": "stream",
          "name": "stdout",
          "text": [
            "Downloaded: gifs_temp/gif_94883.gif\n",
            "Deleted: gifs_temp/gif_94883.gif\n"
          ]
        },
        {
          "output_type": "stream",
          "name": "stderr",
          "text": [
            "\rProcessing GIFs:  23%|██▎       | 229/1000 [01:54<04:52,  2.63it/s]"
          ]
        },
        {
          "output_type": "stream",
          "name": "stdout",
          "text": [
            "Downloaded: gifs_temp/gif_78751.gif\n",
            "Deleted: gifs_temp/gif_78751.gif\n"
          ]
        },
        {
          "output_type": "stream",
          "name": "stderr",
          "text": [
            "\rProcessing GIFs:  23%|██▎       | 230/1000 [01:55<04:48,  2.67it/s]"
          ]
        },
        {
          "output_type": "stream",
          "name": "stdout",
          "text": [
            "Downloaded: gifs_temp/gif_29182.gif\n",
            "Deleted: gifs_temp/gif_29182.gif\n"
          ]
        },
        {
          "output_type": "stream",
          "name": "stderr",
          "text": [
            "\rProcessing GIFs:  23%|██▎       | 231/1000 [01:55<05:11,  2.47it/s]"
          ]
        },
        {
          "output_type": "stream",
          "name": "stdout",
          "text": [
            "Downloaded: gifs_temp/gif_54249.gif\n",
            "Deleted: gifs_temp/gif_54249.gif\n"
          ]
        },
        {
          "output_type": "stream",
          "name": "stderr",
          "text": [
            "\rProcessing GIFs:  23%|██▎       | 232/1000 [01:56<06:16,  2.04it/s]"
          ]
        },
        {
          "output_type": "stream",
          "name": "stdout",
          "text": [
            "Downloaded: gifs_temp/gif_20044.gif\n",
            "Deleted: gifs_temp/gif_20044.gif\n"
          ]
        },
        {
          "output_type": "stream",
          "name": "stderr",
          "text": [
            "\rProcessing GIFs:  23%|██▎       | 233/1000 [01:56<06:12,  2.06it/s]"
          ]
        },
        {
          "output_type": "stream",
          "name": "stdout",
          "text": [
            "Downloaded: gifs_temp/gif_15716.gif\n",
            "Deleted: gifs_temp/gif_15716.gif\n"
          ]
        },
        {
          "output_type": "stream",
          "name": "stderr",
          "text": [
            "\rProcessing GIFs:  23%|██▎       | 234/1000 [01:57<05:55,  2.16it/s]"
          ]
        },
        {
          "output_type": "stream",
          "name": "stdout",
          "text": [
            "Downloaded: gifs_temp/gif_36836.gif\n",
            "Deleted: gifs_temp/gif_36836.gif\n",
            "Downloaded: gifs_temp/gif_9484.gif\n"
          ]
        },
        {
          "output_type": "stream",
          "name": "stderr",
          "text": [
            "\rProcessing GIFs:  24%|██▎       | 235/1000 [01:57<06:36,  1.93it/s]"
          ]
        },
        {
          "output_type": "stream",
          "name": "stdout",
          "text": [
            "Deleted: gifs_temp/gif_9484.gif\n"
          ]
        },
        {
          "output_type": "stream",
          "name": "stderr",
          "text": [
            "\rProcessing GIFs:  24%|██▎       | 236/1000 [01:58<06:17,  2.02it/s]"
          ]
        },
        {
          "output_type": "stream",
          "name": "stdout",
          "text": [
            "Downloaded: gifs_temp/gif_77095.gif\n",
            "Deleted: gifs_temp/gif_77095.gif\n"
          ]
        },
        {
          "output_type": "stream",
          "name": "stderr",
          "text": [
            "\rProcessing GIFs:  24%|██▎       | 237/1000 [01:58<06:13,  2.05it/s]"
          ]
        },
        {
          "output_type": "stream",
          "name": "stdout",
          "text": [
            "Downloaded: gifs_temp/gif_40237.gif\n",
            "Deleted: gifs_temp/gif_40237.gif\n"
          ]
        },
        {
          "output_type": "stream",
          "name": "stderr",
          "text": [
            "\rProcessing GIFs:  24%|██▍       | 238/1000 [01:59<05:47,  2.20it/s]"
          ]
        },
        {
          "output_type": "stream",
          "name": "stdout",
          "text": [
            "Downloaded: gifs_temp/gif_112965.gif\n",
            "Deleted: gifs_temp/gif_112965.gif\n"
          ]
        },
        {
          "output_type": "stream",
          "name": "stderr",
          "text": [
            "\rProcessing GIFs:  24%|██▍       | 239/1000 [01:59<05:28,  2.32it/s]"
          ]
        },
        {
          "output_type": "stream",
          "name": "stdout",
          "text": [
            "Downloaded: gifs_temp/gif_85616.gif\n",
            "Deleted: gifs_temp/gif_85616.gif\n"
          ]
        },
        {
          "output_type": "stream",
          "name": "stderr",
          "text": [
            "\rProcessing GIFs:  24%|██▍       | 240/1000 [01:59<05:46,  2.19it/s]"
          ]
        },
        {
          "output_type": "stream",
          "name": "stdout",
          "text": [
            "Downloaded: gifs_temp/gif_29338.gif\n",
            "Deleted: gifs_temp/gif_29338.gif\n"
          ]
        },
        {
          "output_type": "stream",
          "name": "stderr",
          "text": [
            "\rProcessing GIFs:  24%|██▍       | 241/1000 [02:00<07:10,  1.76it/s]"
          ]
        },
        {
          "output_type": "stream",
          "name": "stdout",
          "text": [
            "Downloaded: gifs_temp/gif_72117.gif\n",
            "Deleted: gifs_temp/gif_72117.gif\n"
          ]
        },
        {
          "output_type": "stream",
          "name": "stderr",
          "text": [
            "\rProcessing GIFs:  24%|██▍       | 242/1000 [02:01<06:31,  1.94it/s]"
          ]
        },
        {
          "output_type": "stream",
          "name": "stdout",
          "text": [
            "Downloaded: gifs_temp/gif_8357.gif\n",
            "Deleted: gifs_temp/gif_8357.gif\n"
          ]
        },
        {
          "output_type": "stream",
          "name": "stderr",
          "text": [
            "\rProcessing GIFs:  24%|██▍       | 243/1000 [02:01<06:12,  2.03it/s]"
          ]
        },
        {
          "output_type": "stream",
          "name": "stdout",
          "text": [
            "Downloaded: gifs_temp/gif_76041.gif\n",
            "Deleted: gifs_temp/gif_76041.gif\n"
          ]
        },
        {
          "output_type": "stream",
          "name": "stderr",
          "text": [
            "\rProcessing GIFs:  24%|██▍       | 244/1000 [02:01<05:54,  2.13it/s]"
          ]
        },
        {
          "output_type": "stream",
          "name": "stdout",
          "text": [
            "Downloaded: gifs_temp/gif_84668.gif\n",
            "Deleted: gifs_temp/gif_84668.gif\n"
          ]
        },
        {
          "output_type": "stream",
          "name": "stderr",
          "text": [
            "\rProcessing GIFs:  24%|██▍       | 245/1000 [02:02<05:25,  2.32it/s]"
          ]
        },
        {
          "output_type": "stream",
          "name": "stdout",
          "text": [
            "Downloaded: gifs_temp/gif_92602.gif\n",
            "Deleted: gifs_temp/gif_92602.gif\n"
          ]
        },
        {
          "output_type": "stream",
          "name": "stderr",
          "text": [
            "\rProcessing GIFs:  25%|██▍       | 246/1000 [02:02<04:56,  2.55it/s]"
          ]
        },
        {
          "output_type": "stream",
          "name": "stdout",
          "text": [
            "Downloaded: gifs_temp/gif_95988.gif\n",
            "Deleted: gifs_temp/gif_95988.gif\n"
          ]
        },
        {
          "output_type": "stream",
          "name": "stderr",
          "text": [
            "\rProcessing GIFs:  25%|██▍       | 247/1000 [02:02<04:42,  2.66it/s]"
          ]
        },
        {
          "output_type": "stream",
          "name": "stdout",
          "text": [
            "Downloaded: gifs_temp/gif_13772.gif\n",
            "Deleted: gifs_temp/gif_13772.gif\n"
          ]
        },
        {
          "output_type": "stream",
          "name": "stderr",
          "text": [
            "\rProcessing GIFs:  25%|██▍       | 248/1000 [02:03<04:41,  2.67it/s]"
          ]
        },
        {
          "output_type": "stream",
          "name": "stdout",
          "text": [
            "Downloaded: gifs_temp/gif_74307.gif\n",
            "Deleted: gifs_temp/gif_74307.gif\n"
          ]
        },
        {
          "output_type": "stream",
          "name": "stderr",
          "text": [
            "\rProcessing GIFs:  25%|██▍       | 249/1000 [02:03<04:50,  2.58it/s]"
          ]
        },
        {
          "output_type": "stream",
          "name": "stdout",
          "text": [
            "Downloaded: gifs_temp/gif_30796.gif\n",
            "Deleted: gifs_temp/gif_30796.gif\n"
          ]
        },
        {
          "output_type": "stream",
          "name": "stderr",
          "text": [
            "\rProcessing GIFs:  25%|██▌       | 250/1000 [02:04<05:09,  2.42it/s]"
          ]
        },
        {
          "output_type": "stream",
          "name": "stdout",
          "text": [
            "Downloaded: gifs_temp/gif_36495.gif\n",
            "Deleted: gifs_temp/gif_36495.gif\n"
          ]
        },
        {
          "output_type": "stream",
          "name": "stderr",
          "text": [
            "\rProcessing GIFs:  25%|██▌       | 251/1000 [02:04<05:09,  2.42it/s]"
          ]
        },
        {
          "output_type": "stream",
          "name": "stdout",
          "text": [
            "Downloaded: gifs_temp/gif_72649.gif\n",
            "Deleted: gifs_temp/gif_72649.gif\n"
          ]
        },
        {
          "output_type": "stream",
          "name": "stderr",
          "text": [
            "\rProcessing GIFs:  25%|██▌       | 252/1000 [02:05<05:09,  2.42it/s]"
          ]
        },
        {
          "output_type": "stream",
          "name": "stdout",
          "text": [
            "Downloaded: gifs_temp/gif_21094.gif\n",
            "Deleted: gifs_temp/gif_21094.gif\n"
          ]
        },
        {
          "output_type": "stream",
          "name": "stderr",
          "text": [
            "\rProcessing GIFs:  25%|██▌       | 253/1000 [02:05<05:02,  2.47it/s]"
          ]
        },
        {
          "output_type": "stream",
          "name": "stdout",
          "text": [
            "Downloaded: gifs_temp/gif_10289.gif\n",
            "Deleted: gifs_temp/gif_10289.gif\n"
          ]
        },
        {
          "output_type": "stream",
          "name": "stderr",
          "text": [
            "\rProcessing GIFs:  25%|██▌       | 254/1000 [02:05<04:55,  2.52it/s]"
          ]
        },
        {
          "output_type": "stream",
          "name": "stdout",
          "text": [
            "Downloaded: gifs_temp/gif_109071.gif\n",
            "Deleted: gifs_temp/gif_109071.gif\n"
          ]
        },
        {
          "output_type": "stream",
          "name": "stderr",
          "text": [
            "\rProcessing GIFs:  26%|██▌       | 255/1000 [02:06<04:42,  2.64it/s]"
          ]
        },
        {
          "output_type": "stream",
          "name": "stdout",
          "text": [
            "Downloaded: gifs_temp/gif_41344.gif\n",
            "Deleted: gifs_temp/gif_41344.gif\n"
          ]
        },
        {
          "output_type": "stream",
          "name": "stderr",
          "text": [
            "\rProcessing GIFs:  26%|██▌       | 256/1000 [02:06<04:29,  2.76it/s]"
          ]
        },
        {
          "output_type": "stream",
          "name": "stdout",
          "text": [
            "Downloaded: gifs_temp/gif_6116.gif\n",
            "Deleted: gifs_temp/gif_6116.gif\n"
          ]
        },
        {
          "output_type": "stream",
          "name": "stderr",
          "text": [
            "\rProcessing GIFs:  26%|██▌       | 257/1000 [02:06<04:30,  2.74it/s]"
          ]
        },
        {
          "output_type": "stream",
          "name": "stdout",
          "text": [
            "Downloaded: gifs_temp/gif_369.gif\n",
            "Deleted: gifs_temp/gif_369.gif\n"
          ]
        },
        {
          "output_type": "stream",
          "name": "stderr",
          "text": [
            "\rProcessing GIFs:  26%|██▌       | 258/1000 [02:07<04:39,  2.66it/s]"
          ]
        },
        {
          "output_type": "stream",
          "name": "stdout",
          "text": [
            "Downloaded: gifs_temp/gif_7815.gif\n",
            "Deleted: gifs_temp/gif_7815.gif\n"
          ]
        },
        {
          "output_type": "stream",
          "name": "stderr",
          "text": [
            "\rProcessing GIFs:  26%|██▌       | 259/1000 [02:07<04:56,  2.50it/s]"
          ]
        },
        {
          "output_type": "stream",
          "name": "stdout",
          "text": [
            "Downloaded: gifs_temp/gif_93948.gif\n",
            "Deleted: gifs_temp/gif_93948.gif\n"
          ]
        },
        {
          "output_type": "stream",
          "name": "stderr",
          "text": [
            "\rProcessing GIFs:  26%|██▌       | 260/1000 [02:08<05:30,  2.24it/s]"
          ]
        },
        {
          "output_type": "stream",
          "name": "stdout",
          "text": [
            "Downloaded: gifs_temp/gif_71878.gif\n",
            "Deleted: gifs_temp/gif_71878.gif\n"
          ]
        },
        {
          "output_type": "stream",
          "name": "stderr",
          "text": [
            "\rProcessing GIFs:  26%|██▌       | 261/1000 [02:08<05:51,  2.10it/s]"
          ]
        },
        {
          "output_type": "stream",
          "name": "stdout",
          "text": [
            "Downloaded: gifs_temp/gif_109668.gif\n",
            "Deleted: gifs_temp/gif_109668.gif\n"
          ]
        },
        {
          "output_type": "stream",
          "name": "stderr",
          "text": [
            "\rProcessing GIFs:  26%|██▌       | 262/1000 [02:09<05:25,  2.27it/s]"
          ]
        },
        {
          "output_type": "stream",
          "name": "stdout",
          "text": [
            "Downloaded: gifs_temp/gif_21398.gif\n",
            "Deleted: gifs_temp/gif_21398.gif\n"
          ]
        },
        {
          "output_type": "stream",
          "name": "stderr",
          "text": [
            "\rProcessing GIFs:  26%|██▋       | 263/1000 [02:09<05:32,  2.22it/s]"
          ]
        },
        {
          "output_type": "stream",
          "name": "stdout",
          "text": [
            "Downloaded: gifs_temp/gif_43688.gif\n",
            "Deleted: gifs_temp/gif_43688.gif\n"
          ]
        },
        {
          "output_type": "stream",
          "name": "stderr",
          "text": [
            "\rProcessing GIFs:  26%|██▋       | 264/1000 [02:10<05:22,  2.28it/s]"
          ]
        },
        {
          "output_type": "stream",
          "name": "stdout",
          "text": [
            "Downloaded: gifs_temp/gif_104905.gif\n",
            "Deleted: gifs_temp/gif_104905.gif\n",
            "Downloaded: gifs_temp/gif_40799.gif\n"
          ]
        },
        {
          "output_type": "stream",
          "name": "stderr",
          "text": [
            "\rProcessing GIFs:  26%|██▋       | 265/1000 [02:10<06:19,  1.94it/s]"
          ]
        },
        {
          "output_type": "stream",
          "name": "stdout",
          "text": [
            "Deleted: gifs_temp/gif_40799.gif\n"
          ]
        },
        {
          "output_type": "stream",
          "name": "stderr",
          "text": [
            "\rProcessing GIFs:  27%|██▋       | 266/1000 [02:11<05:58,  2.05it/s]"
          ]
        },
        {
          "output_type": "stream",
          "name": "stdout",
          "text": [
            "Downloaded: gifs_temp/gif_38451.gif\n",
            "Deleted: gifs_temp/gif_38451.gif\n"
          ]
        },
        {
          "output_type": "stream",
          "name": "stderr",
          "text": [
            "\rProcessing GIFs:  27%|██▋       | 267/1000 [02:11<05:38,  2.17it/s]"
          ]
        },
        {
          "output_type": "stream",
          "name": "stdout",
          "text": [
            "Downloaded: gifs_temp/gif_13001.gif\n",
            "Deleted: gifs_temp/gif_13001.gif\n"
          ]
        },
        {
          "output_type": "stream",
          "name": "stderr",
          "text": [
            "\rProcessing GIFs:  27%|██▋       | 268/1000 [02:11<05:23,  2.26it/s]"
          ]
        },
        {
          "output_type": "stream",
          "name": "stdout",
          "text": [
            "Downloaded: gifs_temp/gif_76265.gif\n",
            "Deleted: gifs_temp/gif_76265.gif\n"
          ]
        },
        {
          "output_type": "stream",
          "name": "stderr",
          "text": [
            "\rProcessing GIFs:  27%|██▋       | 269/1000 [02:12<05:04,  2.40it/s]"
          ]
        },
        {
          "output_type": "stream",
          "name": "stdout",
          "text": [
            "Downloaded: gifs_temp/gif_113477.gif\n",
            "Deleted: gifs_temp/gif_113477.gif\n"
          ]
        },
        {
          "output_type": "stream",
          "name": "stderr",
          "text": [
            "\rProcessing GIFs:  27%|██▋       | 270/1000 [02:12<05:40,  2.14it/s]"
          ]
        },
        {
          "output_type": "stream",
          "name": "stdout",
          "text": [
            "Downloaded: gifs_temp/gif_122737.gif\n",
            "Deleted: gifs_temp/gif_122737.gif\n"
          ]
        },
        {
          "output_type": "stream",
          "name": "stderr",
          "text": [
            "\rProcessing GIFs:  27%|██▋       | 271/1000 [02:13<05:37,  2.16it/s]"
          ]
        },
        {
          "output_type": "stream",
          "name": "stdout",
          "text": [
            "Downloaded: gifs_temp/gif_93519.gif\n",
            "Deleted: gifs_temp/gif_93519.gif\n"
          ]
        },
        {
          "output_type": "stream",
          "name": "stderr",
          "text": [
            "\rProcessing GIFs:  27%|██▋       | 272/1000 [02:13<05:29,  2.21it/s]"
          ]
        },
        {
          "output_type": "stream",
          "name": "stdout",
          "text": [
            "Downloaded: gifs_temp/gif_74253.gif\n",
            "Deleted: gifs_temp/gif_74253.gif\n"
          ]
        },
        {
          "output_type": "stream",
          "name": "stderr",
          "text": [
            "\rProcessing GIFs:  27%|██▋       | 273/1000 [02:14<05:39,  2.14it/s]"
          ]
        },
        {
          "output_type": "stream",
          "name": "stdout",
          "text": [
            "Downloaded: gifs_temp/gif_22755.gif\n",
            "Deleted: gifs_temp/gif_22755.gif\n"
          ]
        },
        {
          "output_type": "stream",
          "name": "stderr",
          "text": [
            "\rProcessing GIFs:  27%|██▋       | 274/1000 [02:14<05:23,  2.25it/s]"
          ]
        },
        {
          "output_type": "stream",
          "name": "stdout",
          "text": [
            "Downloaded: gifs_temp/gif_101623.gif\n",
            "Deleted: gifs_temp/gif_101623.gif\n"
          ]
        },
        {
          "output_type": "stream",
          "name": "stderr",
          "text": [
            "\rProcessing GIFs:  28%|██▊       | 275/1000 [02:14<04:46,  2.53it/s]"
          ]
        },
        {
          "output_type": "stream",
          "name": "stdout",
          "text": [
            "Downloaded: gifs_temp/gif_2640.gif\n",
            "Deleted: gifs_temp/gif_2640.gif\n"
          ]
        },
        {
          "output_type": "stream",
          "name": "stderr",
          "text": [
            "\rProcessing GIFs:  28%|██▊       | 276/1000 [02:15<05:27,  2.21it/s]"
          ]
        },
        {
          "output_type": "stream",
          "name": "stdout",
          "text": [
            "Downloaded: gifs_temp/gif_109311.gif\n",
            "Deleted: gifs_temp/gif_109311.gif\n"
          ]
        },
        {
          "output_type": "stream",
          "name": "stderr",
          "text": [
            "\rProcessing GIFs:  28%|██▊       | 277/1000 [02:16<05:24,  2.23it/s]"
          ]
        },
        {
          "output_type": "stream",
          "name": "stdout",
          "text": [
            "Downloaded: gifs_temp/gif_100193.gif\n",
            "Deleted: gifs_temp/gif_100193.gif\n"
          ]
        },
        {
          "output_type": "stream",
          "name": "stderr",
          "text": [
            "\rProcessing GIFs:  28%|██▊       | 278/1000 [02:16<05:12,  2.31it/s]"
          ]
        },
        {
          "output_type": "stream",
          "name": "stdout",
          "text": [
            "Downloaded: gifs_temp/gif_15243.gif\n",
            "Deleted: gifs_temp/gif_15243.gif\n"
          ]
        },
        {
          "output_type": "stream",
          "name": "stderr",
          "text": [
            "\rProcessing GIFs:  28%|██▊       | 279/1000 [02:16<05:22,  2.24it/s]"
          ]
        },
        {
          "output_type": "stream",
          "name": "stdout",
          "text": [
            "Downloaded: gifs_temp/gif_12843.gif\n",
            "Deleted: gifs_temp/gif_12843.gif\n"
          ]
        },
        {
          "output_type": "stream",
          "name": "stderr",
          "text": [
            "\rProcessing GIFs:  28%|██▊       | 280/1000 [02:17<05:05,  2.36it/s]"
          ]
        },
        {
          "output_type": "stream",
          "name": "stdout",
          "text": [
            "Downloaded: gifs_temp/gif_79556.gif\n",
            "Deleted: gifs_temp/gif_79556.gif\n"
          ]
        },
        {
          "output_type": "stream",
          "name": "stderr",
          "text": [
            "\rProcessing GIFs:  28%|██▊       | 281/1000 [02:17<05:21,  2.24it/s]"
          ]
        },
        {
          "output_type": "stream",
          "name": "stdout",
          "text": [
            "Downloaded: gifs_temp/gif_28738.gif\n",
            "Deleted: gifs_temp/gif_28738.gif\n"
          ]
        },
        {
          "output_type": "stream",
          "name": "stderr",
          "text": [
            "\rProcessing GIFs:  28%|██▊       | 282/1000 [02:18<04:57,  2.41it/s]"
          ]
        },
        {
          "output_type": "stream",
          "name": "stdout",
          "text": [
            "Downloaded: gifs_temp/gif_113901.gif\n",
            "Deleted: gifs_temp/gif_113901.gif\n"
          ]
        },
        {
          "output_type": "stream",
          "name": "stderr",
          "text": [
            "\rProcessing GIFs:  28%|██▊       | 283/1000 [02:18<04:53,  2.44it/s]"
          ]
        },
        {
          "output_type": "stream",
          "name": "stdout",
          "text": [
            "Downloaded: gifs_temp/gif_45148.gif\n",
            "Deleted: gifs_temp/gif_45148.gif\n"
          ]
        },
        {
          "output_type": "stream",
          "name": "stderr",
          "text": [
            "\rProcessing GIFs:  28%|██▊       | 284/1000 [02:18<04:46,  2.50it/s]"
          ]
        },
        {
          "output_type": "stream",
          "name": "stdout",
          "text": [
            "Downloaded: gifs_temp/gif_43328.gif\n",
            "Deleted: gifs_temp/gif_43328.gif\n"
          ]
        },
        {
          "output_type": "stream",
          "name": "stderr",
          "text": [
            "\rProcessing GIFs:  28%|██▊       | 285/1000 [02:19<04:49,  2.47it/s]"
          ]
        },
        {
          "output_type": "stream",
          "name": "stdout",
          "text": [
            "Downloaded: gifs_temp/gif_49366.gif\n",
            "Deleted: gifs_temp/gif_49366.gif\n"
          ]
        },
        {
          "output_type": "stream",
          "name": "stderr",
          "text": [
            "\rProcessing GIFs:  29%|██▊       | 286/1000 [02:19<04:42,  2.53it/s]"
          ]
        },
        {
          "output_type": "stream",
          "name": "stdout",
          "text": [
            "Downloaded: gifs_temp/gif_92636.gif\n",
            "Deleted: gifs_temp/gif_92636.gif\n"
          ]
        },
        {
          "output_type": "stream",
          "name": "stderr",
          "text": [
            "\rProcessing GIFs:  29%|██▊       | 287/1000 [02:20<04:35,  2.59it/s]"
          ]
        },
        {
          "output_type": "stream",
          "name": "stdout",
          "text": [
            "Downloaded: gifs_temp/gif_20313.gif\n",
            "Deleted: gifs_temp/gif_20313.gif\n"
          ]
        },
        {
          "output_type": "stream",
          "name": "stderr",
          "text": [
            "\rProcessing GIFs:  29%|██▉       | 288/1000 [02:20<04:35,  2.58it/s]"
          ]
        },
        {
          "output_type": "stream",
          "name": "stdout",
          "text": [
            "Downloaded: gifs_temp/gif_122825.gif\n",
            "Deleted: gifs_temp/gif_122825.gif\n"
          ]
        },
        {
          "output_type": "stream",
          "name": "stderr",
          "text": [
            "\rProcessing GIFs:  29%|██▉       | 289/1000 [02:20<04:41,  2.53it/s]"
          ]
        },
        {
          "output_type": "stream",
          "name": "stdout",
          "text": [
            "Downloaded: gifs_temp/gif_93961.gif\n",
            "Deleted: gifs_temp/gif_93961.gif\n"
          ]
        },
        {
          "output_type": "stream",
          "name": "stderr",
          "text": [
            "\rProcessing GIFs:  29%|██▉       | 290/1000 [02:21<06:08,  1.93it/s]"
          ]
        },
        {
          "output_type": "stream",
          "name": "stdout",
          "text": [
            "Downloaded: gifs_temp/gif_117762.gif\n",
            "Deleted: gifs_temp/gif_117762.gif\n"
          ]
        },
        {
          "output_type": "stream",
          "name": "stderr",
          "text": [
            "\rProcessing GIFs:  29%|██▉       | 291/1000 [02:22<05:52,  2.01it/s]"
          ]
        },
        {
          "output_type": "stream",
          "name": "stdout",
          "text": [
            "Downloaded: gifs_temp/gif_108664.gif\n",
            "Deleted: gifs_temp/gif_108664.gif\n"
          ]
        },
        {
          "output_type": "stream",
          "name": "stderr",
          "text": [
            "\rProcessing GIFs:  29%|██▉       | 292/1000 [02:22<05:24,  2.18it/s]"
          ]
        },
        {
          "output_type": "stream",
          "name": "stdout",
          "text": [
            "Downloaded: gifs_temp/gif_105444.gif\n",
            "Deleted: gifs_temp/gif_105444.gif\n",
            "Downloaded: gifs_temp/gif_124941.gif\n"
          ]
        },
        {
          "output_type": "stream",
          "name": "stderr",
          "text": [
            "\rProcessing GIFs:  29%|██▉       | 293/1000 [02:23<06:38,  1.78it/s]"
          ]
        },
        {
          "output_type": "stream",
          "name": "stdout",
          "text": [
            "Deleted: gifs_temp/gif_124941.gif\n"
          ]
        },
        {
          "output_type": "stream",
          "name": "stderr",
          "text": [
            "\rProcessing GIFs:  29%|██▉       | 294/1000 [02:23<06:04,  1.94it/s]"
          ]
        },
        {
          "output_type": "stream",
          "name": "stdout",
          "text": [
            "Downloaded: gifs_temp/gif_62496.gif\n",
            "Deleted: gifs_temp/gif_62496.gif\n"
          ]
        },
        {
          "output_type": "stream",
          "name": "stderr",
          "text": [
            "\rProcessing GIFs:  30%|██▉       | 295/1000 [02:24<05:43,  2.05it/s]"
          ]
        },
        {
          "output_type": "stream",
          "name": "stdout",
          "text": [
            "Downloaded: gifs_temp/gif_124325.gif\n",
            "Deleted: gifs_temp/gif_124325.gif\n"
          ]
        },
        {
          "output_type": "stream",
          "name": "stderr",
          "text": [
            "\rProcessing GIFs:  30%|██▉       | 296/1000 [02:24<05:29,  2.14it/s]"
          ]
        },
        {
          "output_type": "stream",
          "name": "stdout",
          "text": [
            "Downloaded: gifs_temp/gif_21498.gif\n",
            "Deleted: gifs_temp/gif_21498.gif\n"
          ]
        },
        {
          "output_type": "stream",
          "name": "stderr",
          "text": [
            "\rProcessing GIFs:  30%|██▉       | 297/1000 [02:25<06:02,  1.94it/s]"
          ]
        },
        {
          "output_type": "stream",
          "name": "stdout",
          "text": [
            "Downloaded: gifs_temp/gif_42392.gif\n",
            "Deleted: gifs_temp/gif_42392.gif\n"
          ]
        },
        {
          "output_type": "stream",
          "name": "stderr",
          "text": [
            "\rProcessing GIFs:  30%|██▉       | 298/1000 [02:25<05:41,  2.06it/s]"
          ]
        },
        {
          "output_type": "stream",
          "name": "stdout",
          "text": [
            "Downloaded: gifs_temp/gif_61098.gif\n",
            "Deleted: gifs_temp/gif_61098.gif\n"
          ]
        },
        {
          "output_type": "stream",
          "name": "stderr",
          "text": [
            "\rProcessing GIFs:  30%|██▉       | 299/1000 [02:25<05:29,  2.13it/s]"
          ]
        },
        {
          "output_type": "stream",
          "name": "stdout",
          "text": [
            "Downloaded: gifs_temp/gif_23957.gif\n",
            "Deleted: gifs_temp/gif_23957.gif\n"
          ]
        },
        {
          "output_type": "stream",
          "name": "stderr",
          "text": [
            "\rProcessing GIFs:  30%|███       | 300/1000 [02:26<05:08,  2.27it/s]"
          ]
        },
        {
          "output_type": "stream",
          "name": "stdout",
          "text": [
            "Downloaded: gifs_temp/gif_28486.gif\n",
            "Deleted: gifs_temp/gif_28486.gif\n"
          ]
        },
        {
          "output_type": "stream",
          "name": "stderr",
          "text": [
            "\rProcessing GIFs:  30%|███       | 301/1000 [02:26<05:05,  2.29it/s]"
          ]
        },
        {
          "output_type": "stream",
          "name": "stdout",
          "text": [
            "Downloaded: gifs_temp/gif_108867.gif\n",
            "Deleted: gifs_temp/gif_108867.gif\n"
          ]
        },
        {
          "output_type": "stream",
          "name": "stderr",
          "text": [
            "\rProcessing GIFs:  30%|███       | 302/1000 [02:27<05:06,  2.28it/s]"
          ]
        },
        {
          "output_type": "stream",
          "name": "stdout",
          "text": [
            "Downloaded: gifs_temp/gif_39734.gif\n",
            "Deleted: gifs_temp/gif_39734.gif\n"
          ]
        },
        {
          "output_type": "stream",
          "name": "stderr",
          "text": [
            "\rProcessing GIFs:  30%|███       | 303/1000 [02:27<05:16,  2.20it/s]"
          ]
        },
        {
          "output_type": "stream",
          "name": "stdout",
          "text": [
            "Downloaded: gifs_temp/gif_82008.gif\n",
            "Deleted: gifs_temp/gif_82008.gif\n"
          ]
        },
        {
          "output_type": "stream",
          "name": "stderr",
          "text": [
            "\rProcessing GIFs:  30%|███       | 304/1000 [02:28<05:07,  2.26it/s]"
          ]
        },
        {
          "output_type": "stream",
          "name": "stdout",
          "text": [
            "Downloaded: gifs_temp/gif_55199.gif\n",
            "Deleted: gifs_temp/gif_55199.gif\n"
          ]
        },
        {
          "output_type": "stream",
          "name": "stderr",
          "text": [
            "\rProcessing GIFs:  30%|███       | 305/1000 [02:28<04:55,  2.35it/s]"
          ]
        },
        {
          "output_type": "stream",
          "name": "stdout",
          "text": [
            "Downloaded: gifs_temp/gif_75434.gif\n",
            "Deleted: gifs_temp/gif_75434.gif\n"
          ]
        },
        {
          "output_type": "stream",
          "name": "stderr",
          "text": [
            "\rProcessing GIFs:  31%|███       | 306/1000 [02:28<05:00,  2.31it/s]"
          ]
        },
        {
          "output_type": "stream",
          "name": "stdout",
          "text": [
            "Downloaded: gifs_temp/gif_50806.gif\n",
            "Deleted: gifs_temp/gif_50806.gif\n"
          ]
        },
        {
          "output_type": "stream",
          "name": "stderr",
          "text": [
            "\rProcessing GIFs:  31%|███       | 307/1000 [02:29<04:51,  2.38it/s]"
          ]
        },
        {
          "output_type": "stream",
          "name": "stdout",
          "text": [
            "Downloaded: gifs_temp/gif_47010.gif\n",
            "Deleted: gifs_temp/gif_47010.gif\n"
          ]
        },
        {
          "output_type": "stream",
          "name": "stderr",
          "text": [
            "\rProcessing GIFs:  31%|███       | 308/1000 [02:30<06:57,  1.66it/s]"
          ]
        },
        {
          "output_type": "stream",
          "name": "stdout",
          "text": [
            "Downloaded: gifs_temp/gif_55559.gif\n",
            "Deleted: gifs_temp/gif_55559.gif\n"
          ]
        },
        {
          "output_type": "stream",
          "name": "stderr",
          "text": [
            "\rProcessing GIFs:  31%|███       | 309/1000 [02:30<06:19,  1.82it/s]"
          ]
        },
        {
          "output_type": "stream",
          "name": "stdout",
          "text": [
            "Downloaded: gifs_temp/gif_112075.gif\n",
            "Deleted: gifs_temp/gif_112075.gif\n"
          ]
        },
        {
          "output_type": "stream",
          "name": "stderr",
          "text": [
            "\rProcessing GIFs:  31%|███       | 310/1000 [02:31<05:49,  1.98it/s]"
          ]
        },
        {
          "output_type": "stream",
          "name": "stdout",
          "text": [
            "Downloaded: gifs_temp/gif_102786.gif\n",
            "Deleted: gifs_temp/gif_102786.gif\n"
          ]
        },
        {
          "output_type": "stream",
          "name": "stderr",
          "text": [
            "\rProcessing GIFs:  31%|███       | 311/1000 [02:31<05:25,  2.12it/s]"
          ]
        },
        {
          "output_type": "stream",
          "name": "stdout",
          "text": [
            "Downloaded: gifs_temp/gif_35514.gif\n",
            "Deleted: gifs_temp/gif_35514.gif\n"
          ]
        },
        {
          "output_type": "stream",
          "name": "stderr",
          "text": [
            "\rProcessing GIFs:  31%|███       | 312/1000 [02:31<04:55,  2.33it/s]"
          ]
        },
        {
          "output_type": "stream",
          "name": "stdout",
          "text": [
            "Downloaded: gifs_temp/gif_67495.gif\n",
            "Deleted: gifs_temp/gif_67495.gif\n"
          ]
        },
        {
          "output_type": "stream",
          "name": "stderr",
          "text": [
            "\rProcessing GIFs:  31%|███▏      | 313/1000 [02:32<04:58,  2.30it/s]"
          ]
        },
        {
          "output_type": "stream",
          "name": "stdout",
          "text": [
            "Downloaded: gifs_temp/gif_70361.gif\n",
            "Deleted: gifs_temp/gif_70361.gif\n"
          ]
        },
        {
          "output_type": "stream",
          "name": "stderr",
          "text": [
            "\rProcessing GIFs:  31%|███▏      | 314/1000 [02:32<04:57,  2.30it/s]"
          ]
        },
        {
          "output_type": "stream",
          "name": "stdout",
          "text": [
            "Downloaded: gifs_temp/gif_111186.gif\n",
            "Deleted: gifs_temp/gif_111186.gif\n"
          ]
        },
        {
          "output_type": "stream",
          "name": "stderr",
          "text": [
            "\rProcessing GIFs:  32%|███▏      | 315/1000 [02:33<04:57,  2.30it/s]"
          ]
        },
        {
          "output_type": "stream",
          "name": "stdout",
          "text": [
            "Downloaded: gifs_temp/gif_123551.gif\n",
            "Deleted: gifs_temp/gif_123551.gif\n"
          ]
        },
        {
          "output_type": "stream",
          "name": "stderr",
          "text": [
            "\rProcessing GIFs:  32%|███▏      | 316/1000 [02:33<04:50,  2.35it/s]"
          ]
        },
        {
          "output_type": "stream",
          "name": "stdout",
          "text": [
            "Downloaded: gifs_temp/gif_110831.gif\n",
            "Deleted: gifs_temp/gif_110831.gif\n"
          ]
        },
        {
          "output_type": "stream",
          "name": "stderr",
          "text": [
            "\rProcessing GIFs:  32%|███▏      | 317/1000 [02:34<05:50,  1.95it/s]"
          ]
        },
        {
          "output_type": "stream",
          "name": "stdout",
          "text": [
            "Downloaded: gifs_temp/gif_60671.gif\n",
            "Deleted: gifs_temp/gif_60671.gif\n"
          ]
        },
        {
          "output_type": "stream",
          "name": "stderr",
          "text": [
            "\rProcessing GIFs:  32%|███▏      | 318/1000 [02:34<05:38,  2.02it/s]"
          ]
        },
        {
          "output_type": "stream",
          "name": "stdout",
          "text": [
            "Downloaded: gifs_temp/gif_83152.gif\n",
            "Deleted: gifs_temp/gif_83152.gif\n"
          ]
        },
        {
          "output_type": "stream",
          "name": "stderr",
          "text": [
            "\rProcessing GIFs:  32%|███▏      | 319/1000 [02:35<05:19,  2.13it/s]"
          ]
        },
        {
          "output_type": "stream",
          "name": "stdout",
          "text": [
            "Downloaded: gifs_temp/gif_39539.gif\n",
            "Deleted: gifs_temp/gif_39539.gif\n"
          ]
        },
        {
          "output_type": "stream",
          "name": "stderr",
          "text": [
            "\rProcessing GIFs:  32%|███▏      | 320/1000 [02:35<05:20,  2.12it/s]"
          ]
        },
        {
          "output_type": "stream",
          "name": "stdout",
          "text": [
            "Downloaded: gifs_temp/gif_41721.gif\n",
            "Deleted: gifs_temp/gif_41721.gif\n"
          ]
        },
        {
          "output_type": "stream",
          "name": "stderr",
          "text": [
            "\rProcessing GIFs:  32%|███▏      | 321/1000 [02:36<05:21,  2.11it/s]"
          ]
        },
        {
          "output_type": "stream",
          "name": "stdout",
          "text": [
            "Downloaded: gifs_temp/gif_88624.gif\n",
            "Deleted: gifs_temp/gif_88624.gif\n"
          ]
        },
        {
          "output_type": "stream",
          "name": "stderr",
          "text": [
            "\rProcessing GIFs:  32%|███▏      | 322/1000 [02:36<05:17,  2.13it/s]"
          ]
        },
        {
          "output_type": "stream",
          "name": "stdout",
          "text": [
            "Downloaded: gifs_temp/gif_122404.gif\n",
            "Deleted: gifs_temp/gif_122404.gif\n"
          ]
        },
        {
          "output_type": "stream",
          "name": "stderr",
          "text": [
            "\rProcessing GIFs:  32%|███▏      | 323/1000 [02:37<05:07,  2.20it/s]"
          ]
        },
        {
          "output_type": "stream",
          "name": "stdout",
          "text": [
            "Downloaded: gifs_temp/gif_51024.gif\n",
            "Deleted: gifs_temp/gif_51024.gif\n"
          ]
        },
        {
          "output_type": "stream",
          "name": "stderr",
          "text": [
            "\rProcessing GIFs:  32%|███▏      | 324/1000 [02:37<04:44,  2.38it/s]"
          ]
        },
        {
          "output_type": "stream",
          "name": "stdout",
          "text": [
            "Downloaded: gifs_temp/gif_16614.gif\n",
            "Deleted: gifs_temp/gif_16614.gif\n"
          ]
        },
        {
          "output_type": "stream",
          "name": "stderr",
          "text": [
            "\rProcessing GIFs:  32%|███▎      | 325/1000 [02:37<04:40,  2.41it/s]"
          ]
        },
        {
          "output_type": "stream",
          "name": "stdout",
          "text": [
            "Downloaded: gifs_temp/gif_93904.gif\n",
            "Deleted: gifs_temp/gif_93904.gif\n"
          ]
        },
        {
          "output_type": "stream",
          "name": "stderr",
          "text": [
            "\rProcessing GIFs:  33%|███▎      | 326/1000 [02:38<04:31,  2.48it/s]"
          ]
        },
        {
          "output_type": "stream",
          "name": "stdout",
          "text": [
            "Downloaded: gifs_temp/gif_67169.gif\n",
            "Deleted: gifs_temp/gif_67169.gif\n"
          ]
        },
        {
          "output_type": "stream",
          "name": "stderr",
          "text": [
            "\rProcessing GIFs:  33%|███▎      | 327/1000 [02:38<04:31,  2.48it/s]"
          ]
        },
        {
          "output_type": "stream",
          "name": "stdout",
          "text": [
            "Downloaded: gifs_temp/gif_85068.gif\n",
            "Deleted: gifs_temp/gif_85068.gif\n"
          ]
        },
        {
          "output_type": "stream",
          "name": "stderr",
          "text": [
            "\rProcessing GIFs:  33%|███▎      | 328/1000 [02:39<06:00,  1.87it/s]"
          ]
        },
        {
          "output_type": "stream",
          "name": "stdout",
          "text": [
            "Downloaded: gifs_temp/gif_45573.gif\n",
            "Deleted: gifs_temp/gif_45573.gif\n"
          ]
        },
        {
          "output_type": "stream",
          "name": "stderr",
          "text": [
            "\rProcessing GIFs:  33%|███▎      | 329/1000 [02:39<05:30,  2.03it/s]"
          ]
        },
        {
          "output_type": "stream",
          "name": "stdout",
          "text": [
            "Downloaded: gifs_temp/gif_35121.gif\n",
            "Deleted: gifs_temp/gif_35121.gif\n"
          ]
        },
        {
          "output_type": "stream",
          "name": "stderr",
          "text": [
            "\rProcessing GIFs:  33%|███▎      | 330/1000 [02:40<05:06,  2.19it/s]"
          ]
        },
        {
          "output_type": "stream",
          "name": "stdout",
          "text": [
            "Downloaded: gifs_temp/gif_21656.gif\n",
            "Deleted: gifs_temp/gif_21656.gif\n"
          ]
        },
        {
          "output_type": "stream",
          "name": "stderr",
          "text": [
            "\rProcessing GIFs:  33%|███▎      | 331/1000 [02:40<04:53,  2.28it/s]"
          ]
        },
        {
          "output_type": "stream",
          "name": "stdout",
          "text": [
            "Downloaded: gifs_temp/gif_20470.gif\n",
            "Deleted: gifs_temp/gif_20470.gif\n"
          ]
        },
        {
          "output_type": "stream",
          "name": "stderr",
          "text": [
            "\rProcessing GIFs:  33%|███▎      | 332/1000 [02:40<04:41,  2.37it/s]"
          ]
        },
        {
          "output_type": "stream",
          "name": "stdout",
          "text": [
            "Downloaded: gifs_temp/gif_90856.gif\n",
            "Deleted: gifs_temp/gif_90856.gif\n"
          ]
        },
        {
          "output_type": "stream",
          "name": "stderr",
          "text": [
            "\rProcessing GIFs:  33%|███▎      | 333/1000 [02:41<04:48,  2.31it/s]"
          ]
        },
        {
          "output_type": "stream",
          "name": "stdout",
          "text": [
            "Downloaded: gifs_temp/gif_80526.gif\n",
            "Deleted: gifs_temp/gif_80526.gif\n"
          ]
        },
        {
          "output_type": "stream",
          "name": "stderr",
          "text": [
            "\rProcessing GIFs:  33%|███▎      | 334/1000 [02:41<05:05,  2.18it/s]"
          ]
        },
        {
          "output_type": "stream",
          "name": "stdout",
          "text": [
            "Downloaded: gifs_temp/gif_47828.gif\n",
            "Deleted: gifs_temp/gif_47828.gif\n"
          ]
        },
        {
          "output_type": "stream",
          "name": "stderr",
          "text": [
            "\rProcessing GIFs:  34%|███▎      | 335/1000 [02:42<05:18,  2.09it/s]"
          ]
        },
        {
          "output_type": "stream",
          "name": "stdout",
          "text": [
            "Downloaded: gifs_temp/gif_116208.gif\n",
            "Deleted: gifs_temp/gif_116208.gif\n"
          ]
        },
        {
          "output_type": "stream",
          "name": "stderr",
          "text": [
            "\rProcessing GIFs:  34%|███▎      | 336/1000 [02:42<04:56,  2.24it/s]"
          ]
        },
        {
          "output_type": "stream",
          "name": "stdout",
          "text": [
            "Downloaded: gifs_temp/gif_75525.gif\n",
            "Deleted: gifs_temp/gif_75525.gif\n"
          ]
        },
        {
          "output_type": "stream",
          "name": "stderr",
          "text": [
            "\rProcessing GIFs:  34%|███▎      | 337/1000 [02:43<04:35,  2.41it/s]"
          ]
        },
        {
          "output_type": "stream",
          "name": "stdout",
          "text": [
            "Downloaded: gifs_temp/gif_23773.gif\n",
            "Deleted: gifs_temp/gif_23773.gif\n"
          ]
        },
        {
          "output_type": "stream",
          "name": "stderr",
          "text": [
            "\rProcessing GIFs:  34%|███▍      | 338/1000 [02:44<06:06,  1.81it/s]"
          ]
        },
        {
          "output_type": "stream",
          "name": "stdout",
          "text": [
            "Downloaded: gifs_temp/gif_124890.gif\n",
            "Deleted: gifs_temp/gif_124890.gif\n"
          ]
        },
        {
          "output_type": "stream",
          "name": "stderr",
          "text": [
            "\rProcessing GIFs:  34%|███▍      | 339/1000 [02:44<05:42,  1.93it/s]"
          ]
        },
        {
          "output_type": "stream",
          "name": "stdout",
          "text": [
            "Downloaded: gifs_temp/gif_72260.gif\n",
            "Deleted: gifs_temp/gif_72260.gif\n"
          ]
        },
        {
          "output_type": "stream",
          "name": "stderr",
          "text": [
            "\rProcessing GIFs:  34%|███▍      | 340/1000 [02:44<05:08,  2.14it/s]"
          ]
        },
        {
          "output_type": "stream",
          "name": "stdout",
          "text": [
            "Downloaded: gifs_temp/gif_49429.gif\n",
            "Deleted: gifs_temp/gif_49429.gif\n"
          ]
        },
        {
          "output_type": "stream",
          "name": "stderr",
          "text": [
            "\rProcessing GIFs:  34%|███▍      | 341/1000 [02:45<04:39,  2.36it/s]"
          ]
        },
        {
          "output_type": "stream",
          "name": "stdout",
          "text": [
            "Downloaded: gifs_temp/gif_92559.gif\n",
            "Deleted: gifs_temp/gif_92559.gif\n"
          ]
        },
        {
          "output_type": "stream",
          "name": "stderr",
          "text": [
            "\rProcessing GIFs:  34%|███▍      | 342/1000 [02:45<04:39,  2.35it/s]"
          ]
        },
        {
          "output_type": "stream",
          "name": "stdout",
          "text": [
            "Downloaded: gifs_temp/gif_82401.gif\n",
            "Deleted: gifs_temp/gif_82401.gif\n"
          ]
        },
        {
          "output_type": "stream",
          "name": "stderr",
          "text": [
            "\rProcessing GIFs:  34%|███▍      | 343/1000 [02:45<04:20,  2.52it/s]"
          ]
        },
        {
          "output_type": "stream",
          "name": "stdout",
          "text": [
            "Downloaded: gifs_temp/gif_19219.gif\n",
            "Deleted: gifs_temp/gif_19219.gif\n",
            "Downloaded: gifs_temp/gif_100402.gif\n"
          ]
        },
        {
          "output_type": "stream",
          "name": "stderr",
          "text": [
            "\rProcessing GIFs:  34%|███▍      | 344/1000 [02:46<05:06,  2.14it/s]"
          ]
        },
        {
          "output_type": "stream",
          "name": "stdout",
          "text": [
            "Deleted: gifs_temp/gif_100402.gif\n",
            "Downloaded: gifs_temp/gif_19527.gif\n"
          ]
        },
        {
          "output_type": "stream",
          "name": "stderr",
          "text": [
            "\rProcessing GIFs:  34%|███▍      | 345/1000 [02:47<06:04,  1.80it/s]"
          ]
        },
        {
          "output_type": "stream",
          "name": "stdout",
          "text": [
            "Deleted: gifs_temp/gif_19527.gif\n",
            "Downloaded: gifs_temp/gif_70247.gif\n"
          ]
        },
        {
          "output_type": "stream",
          "name": "stderr",
          "text": [
            "\rProcessing GIFs:  35%|███▍      | 346/1000 [02:48<06:42,  1.63it/s]"
          ]
        },
        {
          "output_type": "stream",
          "name": "stdout",
          "text": [
            "Deleted: gifs_temp/gif_70247.gif\n"
          ]
        },
        {
          "output_type": "stream",
          "name": "stderr",
          "text": [
            "\rProcessing GIFs:  35%|███▍      | 347/1000 [02:48<06:15,  1.74it/s]"
          ]
        },
        {
          "output_type": "stream",
          "name": "stdout",
          "text": [
            "Downloaded: gifs_temp/gif_108746.gif\n",
            "Deleted: gifs_temp/gif_108746.gif\n",
            "Downloaded: gifs_temp/gif_18720.gif\n"
          ]
        },
        {
          "output_type": "stream",
          "name": "stderr",
          "text": [
            "\rProcessing GIFs:  35%|███▍      | 348/1000 [02:49<08:05,  1.34it/s]"
          ]
        },
        {
          "output_type": "stream",
          "name": "stdout",
          "text": [
            "Deleted: gifs_temp/gif_18720.gif\n"
          ]
        },
        {
          "output_type": "stream",
          "name": "stderr",
          "text": [
            "\rProcessing GIFs:  35%|███▍      | 349/1000 [02:50<07:12,  1.50it/s]"
          ]
        },
        {
          "output_type": "stream",
          "name": "stdout",
          "text": [
            "Downloaded: gifs_temp/gif_24098.gif\n",
            "Deleted: gifs_temp/gif_24098.gif\n"
          ]
        },
        {
          "output_type": "stream",
          "name": "stderr",
          "text": [
            "\rProcessing GIFs:  35%|███▌      | 350/1000 [02:50<07:29,  1.45it/s]"
          ]
        },
        {
          "output_type": "stream",
          "name": "stdout",
          "text": [
            "Downloaded: gifs_temp/gif_57075.gif\n",
            "Deleted: gifs_temp/gif_57075.gif\n"
          ]
        },
        {
          "output_type": "stream",
          "name": "stderr",
          "text": [
            "\rProcessing GIFs:  35%|███▌      | 351/1000 [02:51<06:37,  1.63it/s]"
          ]
        },
        {
          "output_type": "stream",
          "name": "stdout",
          "text": [
            "Downloaded: gifs_temp/gif_123015.gif\n",
            "Deleted: gifs_temp/gif_123015.gif\n"
          ]
        },
        {
          "output_type": "stream",
          "name": "stderr",
          "text": [
            "\rProcessing GIFs:  35%|███▌      | 352/1000 [02:51<05:51,  1.84it/s]"
          ]
        },
        {
          "output_type": "stream",
          "name": "stdout",
          "text": [
            "Downloaded: gifs_temp/gif_121285.gif\n",
            "Deleted: gifs_temp/gif_121285.gif\n",
            "Downloaded: gifs_temp/gif_27991.gif\n"
          ]
        },
        {
          "output_type": "stream",
          "name": "stderr",
          "text": [
            "\rProcessing GIFs:  35%|███▌      | 353/1000 [02:52<05:56,  1.82it/s]"
          ]
        },
        {
          "output_type": "stream",
          "name": "stdout",
          "text": [
            "Deleted: gifs_temp/gif_27991.gif\n"
          ]
        },
        {
          "output_type": "stream",
          "name": "stderr",
          "text": [
            "\rProcessing GIFs:  35%|███▌      | 354/1000 [02:52<05:12,  2.07it/s]"
          ]
        },
        {
          "output_type": "stream",
          "name": "stdout",
          "text": [
            "Downloaded: gifs_temp/gif_28340.gif\n",
            "Deleted: gifs_temp/gif_28340.gif\n"
          ]
        },
        {
          "output_type": "stream",
          "name": "stderr",
          "text": [
            "\rProcessing GIFs:  36%|███▌      | 355/1000 [02:52<04:38,  2.32it/s]"
          ]
        },
        {
          "output_type": "stream",
          "name": "stdout",
          "text": [
            "Downloaded: gifs_temp/gif_79351.gif\n",
            "Deleted: gifs_temp/gif_79351.gif\n"
          ]
        },
        {
          "output_type": "stream",
          "name": "stderr",
          "text": [
            "\rProcessing GIFs:  36%|███▌      | 356/1000 [02:53<04:28,  2.40it/s]"
          ]
        },
        {
          "output_type": "stream",
          "name": "stdout",
          "text": [
            "Downloaded: gifs_temp/gif_112811.gif\n",
            "Deleted: gifs_temp/gif_112811.gif\n"
          ]
        },
        {
          "output_type": "stream",
          "name": "stderr",
          "text": [
            "\rProcessing GIFs:  36%|███▌      | 357/1000 [02:53<04:19,  2.48it/s]"
          ]
        },
        {
          "output_type": "stream",
          "name": "stdout",
          "text": [
            "Downloaded: gifs_temp/gif_3108.gif\n",
            "Deleted: gifs_temp/gif_3108.gif\n"
          ]
        },
        {
          "output_type": "stream",
          "name": "stderr",
          "text": [
            "\rProcessing GIFs:  36%|███▌      | 358/1000 [02:54<04:07,  2.60it/s]"
          ]
        },
        {
          "output_type": "stream",
          "name": "stdout",
          "text": [
            "Downloaded: gifs_temp/gif_117414.gif\n",
            "Deleted: gifs_temp/gif_117414.gif\n"
          ]
        },
        {
          "output_type": "stream",
          "name": "stderr",
          "text": [
            "\rProcessing GIFs:  36%|███▌      | 359/1000 [02:54<04:05,  2.61it/s]"
          ]
        },
        {
          "output_type": "stream",
          "name": "stdout",
          "text": [
            "Downloaded: gifs_temp/gif_4246.gif\n",
            "Deleted: gifs_temp/gif_4246.gif\n"
          ]
        },
        {
          "output_type": "stream",
          "name": "stderr",
          "text": [
            "\rProcessing GIFs:  36%|███▌      | 360/1000 [02:54<04:14,  2.52it/s]"
          ]
        },
        {
          "output_type": "stream",
          "name": "stdout",
          "text": [
            "Downloaded: gifs_temp/gif_110578.gif\n",
            "Deleted: gifs_temp/gif_110578.gif\n"
          ]
        },
        {
          "output_type": "stream",
          "name": "stderr",
          "text": [
            "\rProcessing GIFs:  36%|███▌      | 361/1000 [02:55<04:13,  2.52it/s]"
          ]
        },
        {
          "output_type": "stream",
          "name": "stdout",
          "text": [
            "Downloaded: gifs_temp/gif_58128.gif\n",
            "Deleted: gifs_temp/gif_58128.gif\n"
          ]
        },
        {
          "output_type": "stream",
          "name": "stderr",
          "text": [
            "\rProcessing GIFs:  36%|███▌      | 362/1000 [02:55<04:09,  2.56it/s]"
          ]
        },
        {
          "output_type": "stream",
          "name": "stdout",
          "text": [
            "Downloaded: gifs_temp/gif_42501.gif\n",
            "Deleted: gifs_temp/gif_42501.gif\n"
          ]
        },
        {
          "output_type": "stream",
          "name": "stderr",
          "text": [
            "\rProcessing GIFs:  36%|███▋      | 363/1000 [02:55<03:56,  2.69it/s]"
          ]
        },
        {
          "output_type": "stream",
          "name": "stdout",
          "text": [
            "Downloaded: gifs_temp/gif_72903.gif\n",
            "Deleted: gifs_temp/gif_72903.gif\n"
          ]
        },
        {
          "output_type": "stream",
          "name": "stderr",
          "text": [
            "\rProcessing GIFs:  36%|███▋      | 364/1000 [02:56<04:00,  2.64it/s]"
          ]
        },
        {
          "output_type": "stream",
          "name": "stdout",
          "text": [
            "Downloaded: gifs_temp/gif_80986.gif\n",
            "Deleted: gifs_temp/gif_80986.gif\n"
          ]
        },
        {
          "output_type": "stream",
          "name": "stderr",
          "text": [
            "\rProcessing GIFs:  36%|███▋      | 365/1000 [02:56<04:34,  2.32it/s]"
          ]
        },
        {
          "output_type": "stream",
          "name": "stdout",
          "text": [
            "Downloaded: gifs_temp/gif_37252.gif\n",
            "Deleted: gifs_temp/gif_37252.gif\n"
          ]
        },
        {
          "output_type": "stream",
          "name": "stderr",
          "text": [
            "\rProcessing GIFs:  37%|███▋      | 366/1000 [02:57<04:22,  2.42it/s]"
          ]
        },
        {
          "output_type": "stream",
          "name": "stdout",
          "text": [
            "Downloaded: gifs_temp/gif_119671.gif\n",
            "Deleted: gifs_temp/gif_119671.gif\n"
          ]
        },
        {
          "output_type": "stream",
          "name": "stderr",
          "text": [
            "\rProcessing GIFs:  37%|███▋      | 367/1000 [02:57<04:16,  2.46it/s]"
          ]
        },
        {
          "output_type": "stream",
          "name": "stdout",
          "text": [
            "Downloaded: gifs_temp/gif_61099.gif\n",
            "Deleted: gifs_temp/gif_61099.gif\n"
          ]
        },
        {
          "output_type": "stream",
          "name": "stderr",
          "text": [
            "\rProcessing GIFs:  37%|███▋      | 368/1000 [02:57<04:00,  2.63it/s]"
          ]
        },
        {
          "output_type": "stream",
          "name": "stdout",
          "text": [
            "Downloaded: gifs_temp/gif_44588.gif\n",
            "Deleted: gifs_temp/gif_44588.gif\n"
          ]
        },
        {
          "output_type": "stream",
          "name": "stderr",
          "text": [
            "\rProcessing GIFs:  37%|███▋      | 369/1000 [02:58<03:55,  2.67it/s]"
          ]
        },
        {
          "output_type": "stream",
          "name": "stdout",
          "text": [
            "Downloaded: gifs_temp/gif_32615.gif\n",
            "Deleted: gifs_temp/gif_32615.gif\n"
          ]
        },
        {
          "output_type": "stream",
          "name": "stderr",
          "text": [
            "\rProcessing GIFs:  37%|███▋      | 370/1000 [02:58<03:54,  2.69it/s]"
          ]
        },
        {
          "output_type": "stream",
          "name": "stdout",
          "text": [
            "Downloaded: gifs_temp/gif_123197.gif\n",
            "Deleted: gifs_temp/gif_123197.gif\n"
          ]
        },
        {
          "output_type": "stream",
          "name": "stderr",
          "text": [
            "\rProcessing GIFs:  37%|███▋      | 371/1000 [02:59<05:47,  1.81it/s]"
          ]
        },
        {
          "output_type": "stream",
          "name": "stdout",
          "text": [
            "Downloaded: gifs_temp/gif_123904.gif\n",
            "Deleted: gifs_temp/gif_123904.gif\n"
          ]
        },
        {
          "output_type": "stream",
          "name": "stderr",
          "text": [
            "\rProcessing GIFs:  37%|███▋      | 372/1000 [03:00<06:15,  1.67it/s]"
          ]
        },
        {
          "output_type": "stream",
          "name": "stdout",
          "text": [
            "Downloaded: gifs_temp/gif_109419.gif\n",
            "Deleted: gifs_temp/gif_109419.gif\n"
          ]
        },
        {
          "output_type": "stream",
          "name": "stderr",
          "text": [
            "\rProcessing GIFs:  37%|███▋      | 373/1000 [03:00<06:12,  1.68it/s]"
          ]
        },
        {
          "output_type": "stream",
          "name": "stdout",
          "text": [
            "Downloaded: gifs_temp/gif_65898.gif\n",
            "Deleted: gifs_temp/gif_65898.gif\n"
          ]
        },
        {
          "output_type": "stream",
          "name": "stderr",
          "text": [
            "\rProcessing GIFs:  37%|███▋      | 374/1000 [03:01<06:07,  1.70it/s]"
          ]
        },
        {
          "output_type": "stream",
          "name": "stdout",
          "text": [
            "Downloaded: gifs_temp/gif_33999.gif\n",
            "Deleted: gifs_temp/gif_33999.gif\n"
          ]
        },
        {
          "output_type": "stream",
          "name": "stderr",
          "text": [
            "\rProcessing GIFs:  38%|███▊      | 375/1000 [03:01<05:31,  1.88it/s]"
          ]
        },
        {
          "output_type": "stream",
          "name": "stdout",
          "text": [
            "Downloaded: gifs_temp/gif_58018.gif\n",
            "Deleted: gifs_temp/gif_58018.gif\n"
          ]
        },
        {
          "output_type": "stream",
          "name": "stderr",
          "text": [
            "\rProcessing GIFs:  38%|███▊      | 376/1000 [03:02<04:55,  2.11it/s]"
          ]
        },
        {
          "output_type": "stream",
          "name": "stdout",
          "text": [
            "Downloaded: gifs_temp/gif_25261.gif\n",
            "Deleted: gifs_temp/gif_25261.gif\n"
          ]
        },
        {
          "output_type": "stream",
          "name": "stderr",
          "text": [
            "\rProcessing GIFs:  38%|███▊      | 377/1000 [03:02<04:58,  2.09it/s]"
          ]
        },
        {
          "output_type": "stream",
          "name": "stdout",
          "text": [
            "Downloaded: gifs_temp/gif_100474.gif\n",
            "Deleted: gifs_temp/gif_100474.gif\n"
          ]
        },
        {
          "output_type": "stream",
          "name": "stderr",
          "text": [
            "\rProcessing GIFs:  38%|███▊      | 378/1000 [03:03<04:39,  2.23it/s]"
          ]
        },
        {
          "output_type": "stream",
          "name": "stdout",
          "text": [
            "Downloaded: gifs_temp/gif_35712.gif\n",
            "Deleted: gifs_temp/gif_35712.gif\n"
          ]
        },
        {
          "output_type": "stream",
          "name": "stderr",
          "text": [
            "\rProcessing GIFs:  38%|███▊      | 379/1000 [03:03<04:43,  2.19it/s]"
          ]
        },
        {
          "output_type": "stream",
          "name": "stdout",
          "text": [
            "Downloaded: gifs_temp/gif_37066.gif\n",
            "Deleted: gifs_temp/gif_37066.gif\n"
          ]
        },
        {
          "output_type": "stream",
          "name": "stderr",
          "text": [
            "\rProcessing GIFs:  38%|███▊      | 380/1000 [03:04<04:45,  2.17it/s]"
          ]
        },
        {
          "output_type": "stream",
          "name": "stdout",
          "text": [
            "Downloaded: gifs_temp/gif_124265.gif\n",
            "Deleted: gifs_temp/gif_124265.gif\n"
          ]
        },
        {
          "output_type": "stream",
          "name": "stderr",
          "text": [
            "\rProcessing GIFs:  38%|███▊      | 381/1000 [03:04<04:50,  2.13it/s]"
          ]
        },
        {
          "output_type": "stream",
          "name": "stdout",
          "text": [
            "Downloaded: gifs_temp/gif_87970.gif\n",
            "Deleted: gifs_temp/gif_87970.gif\n"
          ]
        },
        {
          "output_type": "stream",
          "name": "stderr",
          "text": [
            "\rProcessing GIFs:  38%|███▊      | 382/1000 [03:04<04:24,  2.34it/s]"
          ]
        },
        {
          "output_type": "stream",
          "name": "stdout",
          "text": [
            "Downloaded: gifs_temp/gif_89563.gif\n",
            "Deleted: gifs_temp/gif_89563.gif\n"
          ]
        },
        {
          "output_type": "stream",
          "name": "stderr",
          "text": [
            "\rProcessing GIFs:  38%|███▊      | 383/1000 [03:05<04:35,  2.24it/s]"
          ]
        },
        {
          "output_type": "stream",
          "name": "stdout",
          "text": [
            "Downloaded: gifs_temp/gif_59939.gif\n",
            "Deleted: gifs_temp/gif_59939.gif\n"
          ]
        },
        {
          "output_type": "stream",
          "name": "stderr",
          "text": [
            "\rProcessing GIFs:  38%|███▊      | 384/1000 [03:05<04:29,  2.28it/s]"
          ]
        },
        {
          "output_type": "stream",
          "name": "stdout",
          "text": [
            "Downloaded: gifs_temp/gif_10124.gif\n",
            "Deleted: gifs_temp/gif_10124.gif\n"
          ]
        },
        {
          "output_type": "stream",
          "name": "stderr",
          "text": [
            "\rProcessing GIFs:  38%|███▊      | 385/1000 [03:06<04:22,  2.35it/s]"
          ]
        },
        {
          "output_type": "stream",
          "name": "stdout",
          "text": [
            "Downloaded: gifs_temp/gif_55876.gif\n",
            "Deleted: gifs_temp/gif_55876.gif\n"
          ]
        },
        {
          "output_type": "stream",
          "name": "stderr",
          "text": [
            "\rProcessing GIFs:  39%|███▊      | 386/1000 [03:06<04:26,  2.31it/s]"
          ]
        },
        {
          "output_type": "stream",
          "name": "stdout",
          "text": [
            "Downloaded: gifs_temp/gif_97425.gif\n",
            "Deleted: gifs_temp/gif_97425.gif\n"
          ]
        },
        {
          "output_type": "stream",
          "name": "stderr",
          "text": [
            "\rProcessing GIFs:  39%|███▊      | 387/1000 [03:07<05:49,  1.75it/s]"
          ]
        },
        {
          "output_type": "stream",
          "name": "stdout",
          "text": [
            "Downloaded: gifs_temp/gif_56237.gif\n",
            "Deleted: gifs_temp/gif_56237.gif\n"
          ]
        },
        {
          "output_type": "stream",
          "name": "stderr",
          "text": [
            "\rProcessing GIFs:  39%|███▉      | 388/1000 [03:08<05:40,  1.80it/s]"
          ]
        },
        {
          "output_type": "stream",
          "name": "stdout",
          "text": [
            "Downloaded: gifs_temp/gif_53893.gif\n",
            "Deleted: gifs_temp/gif_53893.gif\n"
          ]
        },
        {
          "output_type": "stream",
          "name": "stderr",
          "text": [
            "\rProcessing GIFs:  39%|███▉      | 389/1000 [03:08<05:13,  1.95it/s]"
          ]
        },
        {
          "output_type": "stream",
          "name": "stdout",
          "text": [
            "Downloaded: gifs_temp/gif_45250.gif\n",
            "Deleted: gifs_temp/gif_45250.gif\n"
          ]
        },
        {
          "output_type": "stream",
          "name": "stderr",
          "text": [
            "\rProcessing GIFs:  39%|███▉      | 390/1000 [03:08<04:51,  2.10it/s]"
          ]
        },
        {
          "output_type": "stream",
          "name": "stdout",
          "text": [
            "Downloaded: gifs_temp/gif_93202.gif\n",
            "Deleted: gifs_temp/gif_93202.gif\n"
          ]
        },
        {
          "output_type": "stream",
          "name": "stderr",
          "text": [
            "\rProcessing GIFs:  39%|███▉      | 391/1000 [03:09<04:41,  2.16it/s]"
          ]
        },
        {
          "output_type": "stream",
          "name": "stdout",
          "text": [
            "Downloaded: gifs_temp/gif_91470.gif\n",
            "Deleted: gifs_temp/gif_91470.gif\n"
          ]
        },
        {
          "output_type": "stream",
          "name": "stderr",
          "text": [
            "\rProcessing GIFs:  39%|███▉      | 392/1000 [03:09<04:25,  2.29it/s]"
          ]
        },
        {
          "output_type": "stream",
          "name": "stdout",
          "text": [
            "Downloaded: gifs_temp/gif_88065.gif\n",
            "Deleted: gifs_temp/gif_88065.gif\n"
          ]
        },
        {
          "output_type": "stream",
          "name": "stderr",
          "text": [
            "\rProcessing GIFs:  39%|███▉      | 393/1000 [03:10<04:04,  2.49it/s]"
          ]
        },
        {
          "output_type": "stream",
          "name": "stdout",
          "text": [
            "Downloaded: gifs_temp/gif_1727.gif\n",
            "Deleted: gifs_temp/gif_1727.gif\n"
          ]
        },
        {
          "output_type": "stream",
          "name": "stderr",
          "text": [
            "\rProcessing GIFs:  39%|███▉      | 394/1000 [03:10<04:04,  2.48it/s]"
          ]
        },
        {
          "output_type": "stream",
          "name": "stdout",
          "text": [
            "Downloaded: gifs_temp/gif_122044.gif\n",
            "Deleted: gifs_temp/gif_122044.gif\n"
          ]
        },
        {
          "output_type": "stream",
          "name": "stderr",
          "text": [
            "\rProcessing GIFs:  40%|███▉      | 395/1000 [03:10<04:19,  2.33it/s]"
          ]
        },
        {
          "output_type": "stream",
          "name": "stdout",
          "text": [
            "Downloaded: gifs_temp/gif_56647.gif\n",
            "Deleted: gifs_temp/gif_56647.gif\n"
          ]
        },
        {
          "output_type": "stream",
          "name": "stderr",
          "text": [
            "\rProcessing GIFs:  40%|███▉      | 396/1000 [03:11<04:12,  2.39it/s]"
          ]
        },
        {
          "output_type": "stream",
          "name": "stdout",
          "text": [
            "Downloaded: gifs_temp/gif_47639.gif\n",
            "Deleted: gifs_temp/gif_47639.gif\n"
          ]
        },
        {
          "output_type": "stream",
          "name": "stderr",
          "text": [
            "\rProcessing GIFs:  40%|███▉      | 397/1000 [03:11<04:07,  2.44it/s]"
          ]
        },
        {
          "output_type": "stream",
          "name": "stdout",
          "text": [
            "Downloaded: gifs_temp/gif_30224.gif\n",
            "Deleted: gifs_temp/gif_30224.gif\n"
          ]
        },
        {
          "output_type": "stream",
          "name": "stderr",
          "text": [
            "\rProcessing GIFs:  40%|███▉      | 398/1000 [03:12<03:59,  2.51it/s]"
          ]
        },
        {
          "output_type": "stream",
          "name": "stdout",
          "text": [
            "Downloaded: gifs_temp/gif_34576.gif\n",
            "Deleted: gifs_temp/gif_34576.gif\n"
          ]
        },
        {
          "output_type": "stream",
          "name": "stderr",
          "text": [
            "\rProcessing GIFs:  40%|███▉      | 399/1000 [03:12<03:51,  2.60it/s]"
          ]
        },
        {
          "output_type": "stream",
          "name": "stdout",
          "text": [
            "Downloaded: gifs_temp/gif_42174.gif\n",
            "Deleted: gifs_temp/gif_42174.gif\n"
          ]
        },
        {
          "output_type": "stream",
          "name": "stderr",
          "text": [
            "\rProcessing GIFs:  40%|████      | 400/1000 [03:12<03:51,  2.59it/s]"
          ]
        },
        {
          "output_type": "stream",
          "name": "stdout",
          "text": [
            "Downloaded: gifs_temp/gif_92648.gif\n",
            "Deleted: gifs_temp/gif_92648.gif\n"
          ]
        },
        {
          "output_type": "stream",
          "name": "stderr",
          "text": [
            "\rProcessing GIFs:  40%|████      | 401/1000 [03:13<04:08,  2.41it/s]"
          ]
        },
        {
          "output_type": "stream",
          "name": "stdout",
          "text": [
            "Downloaded: gifs_temp/gif_34579.gif\n",
            "Deleted: gifs_temp/gif_34579.gif\n"
          ]
        },
        {
          "output_type": "stream",
          "name": "stderr",
          "text": [
            "\rProcessing GIFs:  40%|████      | 402/1000 [03:13<04:13,  2.36it/s]"
          ]
        },
        {
          "output_type": "stream",
          "name": "stdout",
          "text": [
            "Downloaded: gifs_temp/gif_35912.gif\n",
            "Deleted: gifs_temp/gif_35912.gif\n"
          ]
        },
        {
          "output_type": "stream",
          "name": "stderr",
          "text": [
            "\rProcessing GIFs:  40%|████      | 403/1000 [03:14<04:23,  2.26it/s]"
          ]
        },
        {
          "output_type": "stream",
          "name": "stdout",
          "text": [
            "Downloaded: gifs_temp/gif_75840.gif\n",
            "Deleted: gifs_temp/gif_75840.gif\n"
          ]
        },
        {
          "output_type": "stream",
          "name": "stderr",
          "text": [
            "\rProcessing GIFs:  40%|████      | 404/1000 [03:15<06:01,  1.65it/s]"
          ]
        },
        {
          "output_type": "stream",
          "name": "stdout",
          "text": [
            "Downloaded: gifs_temp/gif_53437.gif\n",
            "Deleted: gifs_temp/gif_53437.gif\n"
          ]
        },
        {
          "output_type": "stream",
          "name": "stderr",
          "text": [
            "\rProcessing GIFs:  40%|████      | 405/1000 [03:15<05:35,  1.77it/s]"
          ]
        },
        {
          "output_type": "stream",
          "name": "stdout",
          "text": [
            "Downloaded: gifs_temp/gif_82930.gif\n",
            "Deleted: gifs_temp/gif_82930.gif\n"
          ]
        },
        {
          "output_type": "stream",
          "name": "stderr",
          "text": [
            "\rProcessing GIFs:  41%|████      | 406/1000 [03:16<04:59,  1.98it/s]"
          ]
        },
        {
          "output_type": "stream",
          "name": "stdout",
          "text": [
            "Downloaded: gifs_temp/gif_103720.gif\n",
            "Deleted: gifs_temp/gif_103720.gif\n"
          ]
        },
        {
          "output_type": "stream",
          "name": "stderr",
          "text": [
            "\rProcessing GIFs:  41%|████      | 407/1000 [03:16<04:58,  1.99it/s]"
          ]
        },
        {
          "output_type": "stream",
          "name": "stdout",
          "text": [
            "Downloaded: gifs_temp/gif_88087.gif\n",
            "Deleted: gifs_temp/gif_88087.gif\n"
          ]
        },
        {
          "output_type": "stream",
          "name": "stderr",
          "text": [
            "\rProcessing GIFs:  41%|████      | 408/1000 [03:16<04:35,  2.15it/s]"
          ]
        },
        {
          "output_type": "stream",
          "name": "stdout",
          "text": [
            "Downloaded: gifs_temp/gif_5771.gif\n",
            "Deleted: gifs_temp/gif_5771.gif\n"
          ]
        },
        {
          "output_type": "stream",
          "name": "stderr",
          "text": [
            "\rProcessing GIFs:  41%|████      | 409/1000 [03:17<04:32,  2.17it/s]"
          ]
        },
        {
          "output_type": "stream",
          "name": "stdout",
          "text": [
            "Downloaded: gifs_temp/gif_109121.gif\n",
            "Deleted: gifs_temp/gif_109121.gif\n"
          ]
        },
        {
          "output_type": "stream",
          "name": "stderr",
          "text": [
            "\rProcessing GIFs:  41%|████      | 410/1000 [03:17<04:20,  2.27it/s]"
          ]
        },
        {
          "output_type": "stream",
          "name": "stdout",
          "text": [
            "Downloaded: gifs_temp/gif_55403.gif\n",
            "Deleted: gifs_temp/gif_55403.gif\n"
          ]
        },
        {
          "output_type": "stream",
          "name": "stderr",
          "text": [
            "\rProcessing GIFs:  41%|████      | 411/1000 [03:18<04:11,  2.34it/s]"
          ]
        },
        {
          "output_type": "stream",
          "name": "stdout",
          "text": [
            "Downloaded: gifs_temp/gif_16609.gif\n",
            "Deleted: gifs_temp/gif_16609.gif\n"
          ]
        },
        {
          "output_type": "stream",
          "name": "stderr",
          "text": [
            "\rProcessing GIFs:  41%|████      | 412/1000 [03:18<04:08,  2.37it/s]"
          ]
        },
        {
          "output_type": "stream",
          "name": "stdout",
          "text": [
            "Downloaded: gifs_temp/gif_92951.gif\n",
            "Deleted: gifs_temp/gif_92951.gif\n"
          ]
        },
        {
          "output_type": "stream",
          "name": "stderr",
          "text": [
            "\rProcessing GIFs:  41%|████▏     | 413/1000 [03:18<03:50,  2.55it/s]"
          ]
        },
        {
          "output_type": "stream",
          "name": "stdout",
          "text": [
            "Downloaded: gifs_temp/gif_19633.gif\n",
            "Deleted: gifs_temp/gif_19633.gif\n"
          ]
        },
        {
          "output_type": "stream",
          "name": "stderr",
          "text": [
            "\rProcessing GIFs:  41%|████▏     | 414/1000 [03:19<03:56,  2.47it/s]"
          ]
        },
        {
          "output_type": "stream",
          "name": "stdout",
          "text": [
            "Downloaded: gifs_temp/gif_112845.gif\n",
            "Deleted: gifs_temp/gif_112845.gif\n"
          ]
        },
        {
          "output_type": "stream",
          "name": "stderr",
          "text": [
            "\rProcessing GIFs:  42%|████▏     | 415/1000 [03:19<03:54,  2.49it/s]"
          ]
        },
        {
          "output_type": "stream",
          "name": "stdout",
          "text": [
            "Downloaded: gifs_temp/gif_51111.gif\n",
            "Deleted: gifs_temp/gif_51111.gif\n"
          ]
        },
        {
          "output_type": "stream",
          "name": "stderr",
          "text": [
            "\rProcessing GIFs:  42%|████▏     | 416/1000 [03:20<03:54,  2.49it/s]"
          ]
        },
        {
          "output_type": "stream",
          "name": "stdout",
          "text": [
            "Downloaded: gifs_temp/gif_953.gif\n",
            "Deleted: gifs_temp/gif_953.gif\n"
          ]
        },
        {
          "output_type": "stream",
          "name": "stderr",
          "text": [
            "\rProcessing GIFs:  42%|████▏     | 417/1000 [03:20<03:49,  2.54it/s]"
          ]
        },
        {
          "output_type": "stream",
          "name": "stdout",
          "text": [
            "Downloaded: gifs_temp/gif_51301.gif\n",
            "Deleted: gifs_temp/gif_51301.gif\n"
          ]
        },
        {
          "output_type": "stream",
          "name": "stderr",
          "text": [
            "\rProcessing GIFs:  42%|████▏     | 418/1000 [03:20<03:44,  2.59it/s]"
          ]
        },
        {
          "output_type": "stream",
          "name": "stdout",
          "text": [
            "Downloaded: gifs_temp/gif_76483.gif\n",
            "Deleted: gifs_temp/gif_76483.gif\n"
          ]
        },
        {
          "output_type": "stream",
          "name": "stderr",
          "text": [
            "\rProcessing GIFs:  42%|████▏     | 419/1000 [03:21<05:20,  1.81it/s]"
          ]
        },
        {
          "output_type": "stream",
          "name": "stdout",
          "text": [
            "Downloaded: gifs_temp/gif_108135.gif\n",
            "Deleted: gifs_temp/gif_108135.gif\n"
          ]
        },
        {
          "output_type": "stream",
          "name": "stderr",
          "text": [
            "\rProcessing GIFs:  42%|████▏     | 420/1000 [03:22<05:18,  1.82it/s]"
          ]
        },
        {
          "output_type": "stream",
          "name": "stdout",
          "text": [
            "Downloaded: gifs_temp/gif_22043.gif\n",
            "Deleted: gifs_temp/gif_22043.gif\n"
          ]
        },
        {
          "output_type": "stream",
          "name": "stderr",
          "text": [
            "\rProcessing GIFs:  42%|████▏     | 421/1000 [03:22<05:02,  1.92it/s]"
          ]
        },
        {
          "output_type": "stream",
          "name": "stdout",
          "text": [
            "Downloaded: gifs_temp/gif_69683.gif\n",
            "Deleted: gifs_temp/gif_69683.gif\n"
          ]
        },
        {
          "output_type": "stream",
          "name": "stderr",
          "text": [
            "\rProcessing GIFs:  42%|████▏     | 422/1000 [03:23<06:06,  1.58it/s]"
          ]
        },
        {
          "output_type": "stream",
          "name": "stdout",
          "text": [
            "Downloaded: gifs_temp/gif_80590.gif\n",
            "Deleted: gifs_temp/gif_80590.gif\n"
          ]
        },
        {
          "output_type": "stream",
          "name": "stderr",
          "text": [
            "\rProcessing GIFs:  42%|████▏     | 423/1000 [03:24<05:27,  1.76it/s]"
          ]
        },
        {
          "output_type": "stream",
          "name": "stdout",
          "text": [
            "Downloaded: gifs_temp/gif_122331.gif\n",
            "Deleted: gifs_temp/gif_122331.gif\n"
          ]
        },
        {
          "output_type": "stream",
          "name": "stderr",
          "text": [
            "\rProcessing GIFs:  42%|████▏     | 424/1000 [03:24<05:19,  1.80it/s]"
          ]
        },
        {
          "output_type": "stream",
          "name": "stdout",
          "text": [
            "Downloaded: gifs_temp/gif_93625.gif\n",
            "Deleted: gifs_temp/gif_93625.gif\n"
          ]
        },
        {
          "output_type": "stream",
          "name": "stderr",
          "text": [
            "\rProcessing GIFs:  42%|████▎     | 425/1000 [03:25<05:42,  1.68it/s]"
          ]
        },
        {
          "output_type": "stream",
          "name": "stdout",
          "text": [
            "Downloaded: gifs_temp/gif_103696.gif\n",
            "Deleted: gifs_temp/gif_103696.gif\n"
          ]
        },
        {
          "output_type": "stream",
          "name": "stderr",
          "text": [
            "\rProcessing GIFs:  43%|████▎     | 426/1000 [03:25<05:25,  1.76it/s]"
          ]
        },
        {
          "output_type": "stream",
          "name": "stdout",
          "text": [
            "Downloaded: gifs_temp/gif_8972.gif\n",
            "Deleted: gifs_temp/gif_8972.gif\n"
          ]
        },
        {
          "output_type": "stream",
          "name": "stderr",
          "text": [
            "\rProcessing GIFs:  43%|████▎     | 427/1000 [03:26<06:26,  1.48it/s]"
          ]
        },
        {
          "output_type": "stream",
          "name": "stdout",
          "text": [
            "Downloaded: gifs_temp/gif_20507.gif\n",
            "Deleted: gifs_temp/gif_20507.gif\n"
          ]
        },
        {
          "output_type": "stream",
          "name": "stderr",
          "text": [
            "\rProcessing GIFs:  43%|████▎     | 428/1000 [03:27<05:38,  1.69it/s]"
          ]
        },
        {
          "output_type": "stream",
          "name": "stdout",
          "text": [
            "Downloaded: gifs_temp/gif_68498.gif\n",
            "Deleted: gifs_temp/gif_68498.gif\n"
          ]
        },
        {
          "output_type": "stream",
          "name": "stderr",
          "text": [
            "\rProcessing GIFs:  43%|████▎     | 429/1000 [03:27<05:18,  1.80it/s]"
          ]
        },
        {
          "output_type": "stream",
          "name": "stdout",
          "text": [
            "Downloaded: gifs_temp/gif_60949.gif\n",
            "Deleted: gifs_temp/gif_60949.gif\n",
            "Downloaded: gifs_temp/gif_29277.gif\n"
          ]
        },
        {
          "output_type": "stream",
          "name": "stderr",
          "text": [
            "\rProcessing GIFs:  43%|████▎     | 430/1000 [03:28<05:31,  1.72it/s]"
          ]
        },
        {
          "output_type": "stream",
          "name": "stdout",
          "text": [
            "Deleted: gifs_temp/gif_29277.gif\n"
          ]
        },
        {
          "output_type": "stream",
          "name": "stderr",
          "text": [
            "\rProcessing GIFs:  43%|████▎     | 431/1000 [03:28<05:07,  1.85it/s]"
          ]
        },
        {
          "output_type": "stream",
          "name": "stdout",
          "text": [
            "Downloaded: gifs_temp/gif_9488.gif\n",
            "Deleted: gifs_temp/gif_9488.gif\n"
          ]
        },
        {
          "output_type": "stream",
          "name": "stderr",
          "text": [
            "\rProcessing GIFs:  43%|████▎     | 432/1000 [03:29<04:50,  1.95it/s]"
          ]
        },
        {
          "output_type": "stream",
          "name": "stdout",
          "text": [
            "Downloaded: gifs_temp/gif_52740.gif\n",
            "Deleted: gifs_temp/gif_52740.gif\n"
          ]
        },
        {
          "output_type": "stream",
          "name": "stderr",
          "text": [
            "\rProcessing GIFs:  43%|████▎     | 433/1000 [03:29<04:46,  1.98it/s]"
          ]
        },
        {
          "output_type": "stream",
          "name": "stdout",
          "text": [
            "Downloaded: gifs_temp/gif_14683.gif\n",
            "Deleted: gifs_temp/gif_14683.gif\n"
          ]
        },
        {
          "output_type": "stream",
          "name": "stderr",
          "text": [
            "\rProcessing GIFs:  43%|████▎     | 434/1000 [03:30<04:35,  2.05it/s]"
          ]
        },
        {
          "output_type": "stream",
          "name": "stdout",
          "text": [
            "Downloaded: gifs_temp/gif_17320.gif\n",
            "Deleted: gifs_temp/gif_17320.gif\n"
          ]
        },
        {
          "output_type": "stream",
          "name": "stderr",
          "text": [
            "\rProcessing GIFs:  44%|████▎     | 435/1000 [03:30<04:21,  2.16it/s]"
          ]
        },
        {
          "output_type": "stream",
          "name": "stdout",
          "text": [
            "Downloaded: gifs_temp/gif_33271.gif\n",
            "Deleted: gifs_temp/gif_33271.gif\n"
          ]
        },
        {
          "output_type": "stream",
          "name": "stderr",
          "text": [
            "\rProcessing GIFs:  44%|████▎     | 436/1000 [03:31<05:16,  1.78it/s]"
          ]
        },
        {
          "output_type": "stream",
          "name": "stdout",
          "text": [
            "Downloaded: gifs_temp/gif_44569.gif\n",
            "Deleted: gifs_temp/gif_44569.gif\n"
          ]
        },
        {
          "output_type": "stream",
          "name": "stderr",
          "text": [
            "\rProcessing GIFs:  44%|████▎     | 437/1000 [03:31<04:52,  1.93it/s]"
          ]
        },
        {
          "output_type": "stream",
          "name": "stdout",
          "text": [
            "Downloaded: gifs_temp/gif_74228.gif\n",
            "Deleted: gifs_temp/gif_74228.gif\n"
          ]
        },
        {
          "output_type": "stream",
          "name": "stderr",
          "text": [
            "\rProcessing GIFs:  44%|████▍     | 438/1000 [03:32<04:26,  2.11it/s]"
          ]
        },
        {
          "output_type": "stream",
          "name": "stdout",
          "text": [
            "Downloaded: gifs_temp/gif_106029.gif\n",
            "Deleted: gifs_temp/gif_106029.gif\n"
          ]
        },
        {
          "output_type": "stream",
          "name": "stderr",
          "text": [
            "\rProcessing GIFs:  44%|████▍     | 439/1000 [03:32<04:16,  2.18it/s]"
          ]
        },
        {
          "output_type": "stream",
          "name": "stdout",
          "text": [
            "Downloaded: gifs_temp/gif_34470.gif\n",
            "Deleted: gifs_temp/gif_34470.gif\n"
          ]
        },
        {
          "output_type": "stream",
          "name": "stderr",
          "text": [
            "\rProcessing GIFs:  44%|████▍     | 440/1000 [03:32<03:58,  2.35it/s]"
          ]
        },
        {
          "output_type": "stream",
          "name": "stdout",
          "text": [
            "Downloaded: gifs_temp/gif_108053.gif\n",
            "Deleted: gifs_temp/gif_108053.gif\n"
          ]
        },
        {
          "output_type": "stream",
          "name": "stderr",
          "text": [
            "\rProcessing GIFs:  44%|████▍     | 441/1000 [03:33<04:04,  2.28it/s]"
          ]
        },
        {
          "output_type": "stream",
          "name": "stdout",
          "text": [
            "Downloaded: gifs_temp/gif_50169.gif\n",
            "Deleted: gifs_temp/gif_50169.gif\n"
          ]
        },
        {
          "output_type": "stream",
          "name": "stderr",
          "text": [
            "\rProcessing GIFs:  44%|████▍     | 442/1000 [03:33<04:16,  2.17it/s]"
          ]
        },
        {
          "output_type": "stream",
          "name": "stdout",
          "text": [
            "Downloaded: gifs_temp/gif_122628.gif\n",
            "Deleted: gifs_temp/gif_122628.gif\n"
          ]
        },
        {
          "output_type": "stream",
          "name": "stderr",
          "text": [
            "\rProcessing GIFs:  44%|████▍     | 443/1000 [03:34<04:51,  1.91it/s]"
          ]
        },
        {
          "output_type": "stream",
          "name": "stdout",
          "text": [
            "Downloaded: gifs_temp/gif_88932.gif\n",
            "Deleted: gifs_temp/gif_88932.gif\n"
          ]
        },
        {
          "output_type": "stream",
          "name": "stderr",
          "text": [
            "\rProcessing GIFs:  44%|████▍     | 444/1000 [03:34<04:31,  2.05it/s]"
          ]
        },
        {
          "output_type": "stream",
          "name": "stdout",
          "text": [
            "Downloaded: gifs_temp/gif_121107.gif\n",
            "Deleted: gifs_temp/gif_121107.gif\n"
          ]
        },
        {
          "output_type": "stream",
          "name": "stderr",
          "text": [
            "\rProcessing GIFs:  44%|████▍     | 445/1000 [03:35<04:24,  2.10it/s]"
          ]
        },
        {
          "output_type": "stream",
          "name": "stdout",
          "text": [
            "Downloaded: gifs_temp/gif_41405.gif\n",
            "Deleted: gifs_temp/gif_41405.gif\n"
          ]
        },
        {
          "output_type": "stream",
          "name": "stderr",
          "text": [
            "\rProcessing GIFs:  45%|████▍     | 446/1000 [03:35<04:10,  2.21it/s]"
          ]
        },
        {
          "output_type": "stream",
          "name": "stdout",
          "text": [
            "Downloaded: gifs_temp/gif_55495.gif\n",
            "Deleted: gifs_temp/gif_55495.gif\n"
          ]
        },
        {
          "output_type": "stream",
          "name": "stderr",
          "text": [
            "\rProcessing GIFs:  45%|████▍     | 447/1000 [03:36<03:57,  2.33it/s]"
          ]
        },
        {
          "output_type": "stream",
          "name": "stdout",
          "text": [
            "Downloaded: gifs_temp/gif_74315.gif\n",
            "Deleted: gifs_temp/gif_74315.gif\n"
          ]
        },
        {
          "output_type": "stream",
          "name": "stderr",
          "text": [
            "\rProcessing GIFs:  45%|████▍     | 448/1000 [03:36<03:49,  2.41it/s]"
          ]
        },
        {
          "output_type": "stream",
          "name": "stdout",
          "text": [
            "Downloaded: gifs_temp/gif_29854.gif\n",
            "Deleted: gifs_temp/gif_29854.gif\n"
          ]
        },
        {
          "output_type": "stream",
          "name": "stderr",
          "text": [
            "\rProcessing GIFs:  45%|████▍     | 449/1000 [03:36<03:44,  2.46it/s]"
          ]
        },
        {
          "output_type": "stream",
          "name": "stdout",
          "text": [
            "Downloaded: gifs_temp/gif_33502.gif\n",
            "Deleted: gifs_temp/gif_33502.gif\n"
          ]
        },
        {
          "output_type": "stream",
          "name": "stderr",
          "text": [
            "\rProcessing GIFs:  45%|████▌     | 450/1000 [03:37<03:36,  2.54it/s]"
          ]
        },
        {
          "output_type": "stream",
          "name": "stdout",
          "text": [
            "Downloaded: gifs_temp/gif_68549.gif\n",
            "Deleted: gifs_temp/gif_68549.gif\n"
          ]
        },
        {
          "output_type": "stream",
          "name": "stderr",
          "text": [
            "\rProcessing GIFs:  45%|████▌     | 451/1000 [03:38<05:20,  1.71it/s]"
          ]
        },
        {
          "output_type": "stream",
          "name": "stdout",
          "text": [
            "Downloaded: gifs_temp/gif_115406.gif\n",
            "Deleted: gifs_temp/gif_115406.gif\n"
          ]
        },
        {
          "output_type": "stream",
          "name": "stderr",
          "text": [
            "\rProcessing GIFs:  45%|████▌     | 452/1000 [03:38<04:32,  2.01it/s]"
          ]
        },
        {
          "output_type": "stream",
          "name": "stdout",
          "text": [
            "Downloaded: gifs_temp/gif_7388.gif\n",
            "Deleted: gifs_temp/gif_7388.gif\n"
          ]
        },
        {
          "output_type": "stream",
          "name": "stderr",
          "text": [
            "\rProcessing GIFs:  45%|████▌     | 453/1000 [03:38<04:15,  2.14it/s]"
          ]
        },
        {
          "output_type": "stream",
          "name": "stdout",
          "text": [
            "Downloaded: gifs_temp/gif_84053.gif\n",
            "Deleted: gifs_temp/gif_84053.gif\n"
          ]
        },
        {
          "output_type": "stream",
          "name": "stderr",
          "text": [
            "\rProcessing GIFs:  45%|████▌     | 454/1000 [03:39<04:28,  2.04it/s]"
          ]
        },
        {
          "output_type": "stream",
          "name": "stdout",
          "text": [
            "Downloaded: gifs_temp/gif_31385.gif\n",
            "Deleted: gifs_temp/gif_31385.gif\n"
          ]
        },
        {
          "output_type": "stream",
          "name": "stderr",
          "text": [
            "\rProcessing GIFs:  46%|████▌     | 455/1000 [03:39<04:19,  2.10it/s]"
          ]
        },
        {
          "output_type": "stream",
          "name": "stdout",
          "text": [
            "Downloaded: gifs_temp/gif_14922.gif\n",
            "Deleted: gifs_temp/gif_14922.gif\n"
          ]
        },
        {
          "output_type": "stream",
          "name": "stderr",
          "text": [
            "\rProcessing GIFs:  46%|████▌     | 456/1000 [03:40<04:26,  2.04it/s]"
          ]
        },
        {
          "output_type": "stream",
          "name": "stdout",
          "text": [
            "Downloaded: gifs_temp/gif_83743.gif\n",
            "Deleted: gifs_temp/gif_83743.gif\n"
          ]
        },
        {
          "output_type": "stream",
          "name": "stderr",
          "text": [
            "\rProcessing GIFs:  46%|████▌     | 457/1000 [03:41<05:29,  1.65it/s]"
          ]
        },
        {
          "output_type": "stream",
          "name": "stdout",
          "text": [
            "Downloaded: gifs_temp/gif_15288.gif\n",
            "Deleted: gifs_temp/gif_15288.gif\n"
          ]
        },
        {
          "output_type": "stream",
          "name": "stderr",
          "text": [
            "\rProcessing GIFs:  46%|████▌     | 458/1000 [03:41<04:44,  1.90it/s]"
          ]
        },
        {
          "output_type": "stream",
          "name": "stdout",
          "text": [
            "Downloaded: gifs_temp/gif_64009.gif\n",
            "Deleted: gifs_temp/gif_64009.gif\n"
          ]
        },
        {
          "output_type": "stream",
          "name": "stderr",
          "text": [
            "\rProcessing GIFs:  46%|████▌     | 459/1000 [03:42<04:26,  2.03it/s]"
          ]
        },
        {
          "output_type": "stream",
          "name": "stdout",
          "text": [
            "Downloaded: gifs_temp/gif_2466.gif\n",
            "Deleted: gifs_temp/gif_2466.gif\n"
          ]
        },
        {
          "output_type": "stream",
          "name": "stderr",
          "text": [
            "\rProcessing GIFs:  46%|████▌     | 460/1000 [03:42<04:06,  2.19it/s]"
          ]
        },
        {
          "output_type": "stream",
          "name": "stdout",
          "text": [
            "Downloaded: gifs_temp/gif_97432.gif\n",
            "Deleted: gifs_temp/gif_97432.gif\n"
          ]
        },
        {
          "output_type": "stream",
          "name": "stderr",
          "text": [
            "\rProcessing GIFs:  46%|████▌     | 461/1000 [03:42<03:58,  2.26it/s]"
          ]
        },
        {
          "output_type": "stream",
          "name": "stdout",
          "text": [
            "Downloaded: gifs_temp/gif_31440.gif\n",
            "Deleted: gifs_temp/gif_31440.gif\n"
          ]
        },
        {
          "output_type": "stream",
          "name": "stderr",
          "text": [
            "\rProcessing GIFs:  46%|████▌     | 462/1000 [03:43<05:15,  1.71it/s]"
          ]
        },
        {
          "output_type": "stream",
          "name": "stdout",
          "text": [
            "Downloaded: gifs_temp/gif_109498.gif\n",
            "Deleted: gifs_temp/gif_109498.gif\n"
          ]
        },
        {
          "output_type": "stream",
          "name": "stderr",
          "text": [
            "\rProcessing GIFs:  46%|████▋     | 463/1000 [03:44<04:36,  1.94it/s]"
          ]
        },
        {
          "output_type": "stream",
          "name": "stdout",
          "text": [
            "Downloaded: gifs_temp/gif_45889.gif\n",
            "Deleted: gifs_temp/gif_45889.gif\n"
          ]
        },
        {
          "output_type": "stream",
          "name": "stderr",
          "text": [
            "\rProcessing GIFs:  46%|████▋     | 464/1000 [03:44<04:13,  2.11it/s]"
          ]
        },
        {
          "output_type": "stream",
          "name": "stdout",
          "text": [
            "Downloaded: gifs_temp/gif_72040.gif\n",
            "Deleted: gifs_temp/gif_72040.gif\n"
          ]
        },
        {
          "output_type": "stream",
          "name": "stderr",
          "text": [
            "\rProcessing GIFs:  46%|████▋     | 465/1000 [03:45<04:41,  1.90it/s]"
          ]
        },
        {
          "output_type": "stream",
          "name": "stdout",
          "text": [
            "Downloaded: gifs_temp/gif_14126.gif\n",
            "Deleted: gifs_temp/gif_14126.gif\n"
          ]
        },
        {
          "output_type": "stream",
          "name": "stderr",
          "text": [
            "\rProcessing GIFs:  47%|████▋     | 466/1000 [03:45<04:26,  2.00it/s]"
          ]
        },
        {
          "output_type": "stream",
          "name": "stdout",
          "text": [
            "Downloaded: gifs_temp/gif_123832.gif\n",
            "Deleted: gifs_temp/gif_123832.gif\n"
          ]
        },
        {
          "output_type": "stream",
          "name": "stderr",
          "text": [
            "\rProcessing GIFs:  47%|████▋     | 467/1000 [03:46<04:13,  2.10it/s]"
          ]
        },
        {
          "output_type": "stream",
          "name": "stdout",
          "text": [
            "Downloaded: gifs_temp/gif_30881.gif\n",
            "Deleted: gifs_temp/gif_30881.gif\n"
          ]
        },
        {
          "output_type": "stream",
          "name": "stderr",
          "text": [
            "\rProcessing GIFs:  47%|████▋     | 468/1000 [03:46<03:57,  2.24it/s]"
          ]
        },
        {
          "output_type": "stream",
          "name": "stdout",
          "text": [
            "Downloaded: gifs_temp/gif_28538.gif\n",
            "Deleted: gifs_temp/gif_28538.gif\n"
          ]
        },
        {
          "output_type": "stream",
          "name": "stderr",
          "text": [
            "\rProcessing GIFs:  47%|████▋     | 469/1000 [03:46<03:27,  2.56it/s]"
          ]
        },
        {
          "output_type": "stream",
          "name": "stdout",
          "text": [
            "Downloaded: gifs_temp/gif_14181.gif\n",
            "Deleted: gifs_temp/gif_14181.gif\n"
          ]
        },
        {
          "output_type": "stream",
          "name": "stderr",
          "text": [
            "\rProcessing GIFs:  47%|████▋     | 470/1000 [03:47<03:21,  2.63it/s]"
          ]
        },
        {
          "output_type": "stream",
          "name": "stdout",
          "text": [
            "Downloaded: gifs_temp/gif_22378.gif\n",
            "Deleted: gifs_temp/gif_22378.gif\n"
          ]
        },
        {
          "output_type": "stream",
          "name": "stderr",
          "text": [
            "\rProcessing GIFs:  47%|████▋     | 471/1000 [03:47<03:22,  2.61it/s]"
          ]
        },
        {
          "output_type": "stream",
          "name": "stdout",
          "text": [
            "Downloaded: gifs_temp/gif_63307.gif\n",
            "Deleted: gifs_temp/gif_63307.gif\n"
          ]
        },
        {
          "output_type": "stream",
          "name": "stderr",
          "text": [
            "\rProcessing GIFs:  47%|████▋     | 472/1000 [03:47<03:23,  2.59it/s]"
          ]
        },
        {
          "output_type": "stream",
          "name": "stdout",
          "text": [
            "Downloaded: gifs_temp/gif_29308.gif\n",
            "Deleted: gifs_temp/gif_29308.gif\n"
          ]
        },
        {
          "output_type": "stream",
          "name": "stderr",
          "text": [
            "\rProcessing GIFs:  47%|████▋     | 473/1000 [03:48<04:00,  2.19it/s]"
          ]
        },
        {
          "output_type": "stream",
          "name": "stdout",
          "text": [
            "Downloaded: gifs_temp/gif_39330.gif\n",
            "Deleted: gifs_temp/gif_39330.gif\n"
          ]
        },
        {
          "output_type": "stream",
          "name": "stderr",
          "text": [
            "\rProcessing GIFs:  47%|████▋     | 474/1000 [03:48<03:47,  2.31it/s]"
          ]
        },
        {
          "output_type": "stream",
          "name": "stdout",
          "text": [
            "Downloaded: gifs_temp/gif_38473.gif\n",
            "Deleted: gifs_temp/gif_38473.gif\n"
          ]
        },
        {
          "output_type": "stream",
          "name": "stderr",
          "text": [
            "\rProcessing GIFs:  48%|████▊     | 475/1000 [03:49<03:34,  2.45it/s]"
          ]
        },
        {
          "output_type": "stream",
          "name": "stdout",
          "text": [
            "Downloaded: gifs_temp/gif_86180.gif\n",
            "Deleted: gifs_temp/gif_86180.gif\n"
          ]
        },
        {
          "output_type": "stream",
          "name": "stderr",
          "text": [
            "\rProcessing GIFs:  48%|████▊     | 476/1000 [03:49<03:42,  2.36it/s]"
          ]
        },
        {
          "output_type": "stream",
          "name": "stdout",
          "text": [
            "Downloaded: gifs_temp/gif_19192.gif\n",
            "Deleted: gifs_temp/gif_19192.gif\n"
          ]
        },
        {
          "output_type": "stream",
          "name": "stderr",
          "text": [
            "\rProcessing GIFs:  48%|████▊     | 477/1000 [03:50<03:49,  2.28it/s]"
          ]
        },
        {
          "output_type": "stream",
          "name": "stdout",
          "text": [
            "Downloaded: gifs_temp/gif_70789.gif\n",
            "Deleted: gifs_temp/gif_70789.gif\n"
          ]
        },
        {
          "output_type": "stream",
          "name": "stderr",
          "text": [
            "\rProcessing GIFs:  48%|████▊     | 478/1000 [03:50<03:41,  2.36it/s]"
          ]
        },
        {
          "output_type": "stream",
          "name": "stdout",
          "text": [
            "Downloaded: gifs_temp/gif_40091.gif\n",
            "Deleted: gifs_temp/gif_40091.gif\n"
          ]
        },
        {
          "output_type": "stream",
          "name": "stderr",
          "text": [
            "\rProcessing GIFs:  48%|████▊     | 479/1000 [03:50<03:15,  2.66it/s]"
          ]
        },
        {
          "output_type": "stream",
          "name": "stdout",
          "text": [
            "Downloaded: gifs_temp/gif_8496.gif\n",
            "Deleted: gifs_temp/gif_8496.gif\n"
          ]
        },
        {
          "output_type": "stream",
          "name": "stderr",
          "text": [
            "\rProcessing GIFs:  48%|████▊     | 480/1000 [03:51<03:21,  2.58it/s]"
          ]
        },
        {
          "output_type": "stream",
          "name": "stdout",
          "text": [
            "Downloaded: gifs_temp/gif_125596.gif\n",
            "Deleted: gifs_temp/gif_125596.gif\n"
          ]
        },
        {
          "output_type": "stream",
          "name": "stderr",
          "text": [
            "\rProcessing GIFs:  48%|████▊     | 481/1000 [03:51<03:06,  2.78it/s]"
          ]
        },
        {
          "output_type": "stream",
          "name": "stdout",
          "text": [
            "Downloaded: gifs_temp/gif_23554.gif\n",
            "Deleted: gifs_temp/gif_23554.gif\n"
          ]
        },
        {
          "output_type": "stream",
          "name": "stderr",
          "text": [
            "\rProcessing GIFs:  48%|████▊     | 482/1000 [03:51<03:14,  2.66it/s]"
          ]
        },
        {
          "output_type": "stream",
          "name": "stdout",
          "text": [
            "Downloaded: gifs_temp/gif_28617.gif\n",
            "Deleted: gifs_temp/gif_28617.gif\n"
          ]
        },
        {
          "output_type": "stream",
          "name": "stderr",
          "text": [
            "\rProcessing GIFs:  48%|████▊     | 483/1000 [03:52<03:27,  2.49it/s]"
          ]
        },
        {
          "output_type": "stream",
          "name": "stdout",
          "text": [
            "Downloaded: gifs_temp/gif_73688.gif\n",
            "Deleted: gifs_temp/gif_73688.gif\n"
          ]
        },
        {
          "output_type": "stream",
          "name": "stderr",
          "text": [
            "\rProcessing GIFs:  48%|████▊     | 484/1000 [03:52<03:48,  2.26it/s]"
          ]
        },
        {
          "output_type": "stream",
          "name": "stdout",
          "text": [
            "Downloaded: gifs_temp/gif_55545.gif\n",
            "Deleted: gifs_temp/gif_55545.gif\n"
          ]
        },
        {
          "output_type": "stream",
          "name": "stderr",
          "text": [
            "\rProcessing GIFs:  48%|████▊     | 485/1000 [03:53<03:37,  2.37it/s]"
          ]
        },
        {
          "output_type": "stream",
          "name": "stdout",
          "text": [
            "Downloaded: gifs_temp/gif_59827.gif\n",
            "Deleted: gifs_temp/gif_59827.gif\n"
          ]
        },
        {
          "output_type": "stream",
          "name": "stderr",
          "text": [
            "\rProcessing GIFs:  49%|████▊     | 486/1000 [03:53<04:17,  2.00it/s]"
          ]
        },
        {
          "output_type": "stream",
          "name": "stdout",
          "text": [
            "Downloaded: gifs_temp/gif_59051.gif\n",
            "Deleted: gifs_temp/gif_59051.gif\n"
          ]
        },
        {
          "output_type": "stream",
          "name": "stderr",
          "text": [
            "\rProcessing GIFs:  49%|████▊     | 487/1000 [03:54<04:28,  1.91it/s]"
          ]
        },
        {
          "output_type": "stream",
          "name": "stdout",
          "text": [
            "Downloaded: gifs_temp/gif_19449.gif\n",
            "Deleted: gifs_temp/gif_19449.gif\n"
          ]
        },
        {
          "output_type": "stream",
          "name": "stderr",
          "text": [
            "\rProcessing GIFs:  49%|████▉     | 488/1000 [03:54<04:04,  2.09it/s]"
          ]
        },
        {
          "output_type": "stream",
          "name": "stdout",
          "text": [
            "Downloaded: gifs_temp/gif_119050.gif\n",
            "Deleted: gifs_temp/gif_119050.gif\n"
          ]
        },
        {
          "output_type": "stream",
          "name": "stderr",
          "text": [
            "\rProcessing GIFs:  49%|████▉     | 489/1000 [03:55<03:40,  2.31it/s]"
          ]
        },
        {
          "output_type": "stream",
          "name": "stdout",
          "text": [
            "Downloaded: gifs_temp/gif_26521.gif\n",
            "Deleted: gifs_temp/gif_26521.gif\n"
          ]
        },
        {
          "output_type": "stream",
          "name": "stderr",
          "text": [
            "\rProcessing GIFs:  49%|████▉     | 490/1000 [03:55<03:29,  2.43it/s]"
          ]
        },
        {
          "output_type": "stream",
          "name": "stdout",
          "text": [
            "Downloaded: gifs_temp/gif_85786.gif\n",
            "Deleted: gifs_temp/gif_85786.gif\n"
          ]
        },
        {
          "output_type": "stream",
          "name": "stderr",
          "text": [
            "\rProcessing GIFs:  49%|████▉     | 491/1000 [03:55<03:24,  2.49it/s]"
          ]
        },
        {
          "output_type": "stream",
          "name": "stdout",
          "text": [
            "Downloaded: gifs_temp/gif_20368.gif\n",
            "Deleted: gifs_temp/gif_20368.gif\n"
          ]
        },
        {
          "output_type": "stream",
          "name": "stderr",
          "text": [
            "\rProcessing GIFs:  49%|████▉     | 492/1000 [03:56<03:20,  2.53it/s]"
          ]
        },
        {
          "output_type": "stream",
          "name": "stdout",
          "text": [
            "Downloaded: gifs_temp/gif_91797.gif\n",
            "Deleted: gifs_temp/gif_91797.gif\n"
          ]
        },
        {
          "output_type": "stream",
          "name": "stderr",
          "text": [
            "\rProcessing GIFs:  49%|████▉     | 493/1000 [03:57<04:49,  1.75it/s]"
          ]
        },
        {
          "output_type": "stream",
          "name": "stdout",
          "text": [
            "Downloaded: gifs_temp/gif_50767.gif\n",
            "Deleted: gifs_temp/gif_50767.gif\n"
          ]
        },
        {
          "output_type": "stream",
          "name": "stderr",
          "text": [
            "\rProcessing GIFs:  49%|████▉     | 494/1000 [03:57<04:25,  1.90it/s]"
          ]
        },
        {
          "output_type": "stream",
          "name": "stdout",
          "text": [
            "Downloaded: gifs_temp/gif_40692.gif\n",
            "Deleted: gifs_temp/gif_40692.gif\n"
          ]
        },
        {
          "output_type": "stream",
          "name": "stderr",
          "text": [
            "\rProcessing GIFs:  50%|████▉     | 495/1000 [03:58<04:10,  2.02it/s]"
          ]
        },
        {
          "output_type": "stream",
          "name": "stdout",
          "text": [
            "Downloaded: gifs_temp/gif_69956.gif\n",
            "Deleted: gifs_temp/gif_69956.gif\n"
          ]
        },
        {
          "output_type": "stream",
          "name": "stderr",
          "text": [
            "\rProcessing GIFs:  50%|████▉     | 496/1000 [03:58<04:11,  2.00it/s]"
          ]
        },
        {
          "output_type": "stream",
          "name": "stdout",
          "text": [
            "Downloaded: gifs_temp/gif_42797.gif\n",
            "Deleted: gifs_temp/gif_42797.gif\n"
          ]
        },
        {
          "output_type": "stream",
          "name": "stderr",
          "text": [
            "\rProcessing GIFs:  50%|████▉     | 497/1000 [03:59<04:03,  2.07it/s]"
          ]
        },
        {
          "output_type": "stream",
          "name": "stdout",
          "text": [
            "Downloaded: gifs_temp/gif_100606.gif\n",
            "Deleted: gifs_temp/gif_100606.gif\n"
          ]
        },
        {
          "output_type": "stream",
          "name": "stderr",
          "text": [
            "\rProcessing GIFs:  50%|████▉     | 498/1000 [03:59<04:48,  1.74it/s]"
          ]
        },
        {
          "output_type": "stream",
          "name": "stdout",
          "text": [
            "Downloaded: gifs_temp/gif_119789.gif\n",
            "Deleted: gifs_temp/gif_119789.gif\n"
          ]
        },
        {
          "output_type": "stream",
          "name": "stderr",
          "text": [
            "\rProcessing GIFs:  50%|████▉     | 499/1000 [04:00<04:29,  1.86it/s]"
          ]
        },
        {
          "output_type": "stream",
          "name": "stdout",
          "text": [
            "Downloaded: gifs_temp/gif_77866.gif\n",
            "Deleted: gifs_temp/gif_77866.gif\n"
          ]
        },
        {
          "output_type": "stream",
          "name": "stderr",
          "text": [
            "\rProcessing GIFs:  50%|█████     | 500/1000 [04:00<03:58,  2.09it/s]"
          ]
        },
        {
          "output_type": "stream",
          "name": "stdout",
          "text": [
            "Downloaded: gifs_temp/gif_55768.gif\n",
            "Deleted: gifs_temp/gif_55768.gif\n"
          ]
        },
        {
          "output_type": "stream",
          "name": "stderr",
          "text": [
            "\rProcessing GIFs:  50%|█████     | 501/1000 [04:01<03:42,  2.24it/s]"
          ]
        },
        {
          "output_type": "stream",
          "name": "stdout",
          "text": [
            "Downloaded: gifs_temp/gif_8399.gif\n",
            "Deleted: gifs_temp/gif_8399.gif\n"
          ]
        },
        {
          "output_type": "stream",
          "name": "stderr",
          "text": [
            "\rProcessing GIFs:  50%|█████     | 502/1000 [04:01<03:35,  2.32it/s]"
          ]
        },
        {
          "output_type": "stream",
          "name": "stdout",
          "text": [
            "Downloaded: gifs_temp/gif_92282.gif\n",
            "Deleted: gifs_temp/gif_92282.gif\n"
          ]
        },
        {
          "output_type": "stream",
          "name": "stderr",
          "text": [
            "\rProcessing GIFs:  50%|█████     | 503/1000 [04:01<03:23,  2.44it/s]"
          ]
        },
        {
          "output_type": "stream",
          "name": "stdout",
          "text": [
            "Downloaded: gifs_temp/gif_64240.gif\n",
            "Deleted: gifs_temp/gif_64240.gif\n"
          ]
        },
        {
          "output_type": "stream",
          "name": "stderr",
          "text": [
            "\rProcessing GIFs:  50%|█████     | 504/1000 [04:02<04:01,  2.05it/s]"
          ]
        },
        {
          "output_type": "stream",
          "name": "stdout",
          "text": [
            "Downloaded: gifs_temp/gif_94527.gif\n",
            "Deleted: gifs_temp/gif_94527.gif\n"
          ]
        },
        {
          "output_type": "stream",
          "name": "stderr",
          "text": [
            "\rProcessing GIFs:  50%|█████     | 505/1000 [04:02<04:00,  2.06it/s]"
          ]
        },
        {
          "output_type": "stream",
          "name": "stdout",
          "text": [
            "Downloaded: gifs_temp/gif_114781.gif\n",
            "Deleted: gifs_temp/gif_114781.gif\n"
          ]
        },
        {
          "output_type": "stream",
          "name": "stderr",
          "text": [
            "\rProcessing GIFs:  51%|█████     | 506/1000 [04:03<03:43,  2.21it/s]"
          ]
        },
        {
          "output_type": "stream",
          "name": "stdout",
          "text": [
            "Downloaded: gifs_temp/gif_101614.gif\n",
            "Deleted: gifs_temp/gif_101614.gif\n"
          ]
        },
        {
          "output_type": "stream",
          "name": "stderr",
          "text": [
            "\rProcessing GIFs:  51%|█████     | 507/1000 [04:03<03:21,  2.45it/s]"
          ]
        },
        {
          "output_type": "stream",
          "name": "stdout",
          "text": [
            "Downloaded: gifs_temp/gif_16530.gif\n",
            "Deleted: gifs_temp/gif_16530.gif\n"
          ]
        },
        {
          "output_type": "stream",
          "name": "stderr",
          "text": [
            "\rProcessing GIFs:  51%|█████     | 508/1000 [04:04<03:20,  2.46it/s]"
          ]
        },
        {
          "output_type": "stream",
          "name": "stdout",
          "text": [
            "Downloaded: gifs_temp/gif_112400.gif\n",
            "Deleted: gifs_temp/gif_112400.gif\n"
          ]
        },
        {
          "output_type": "stream",
          "name": "stderr",
          "text": [
            "\rProcessing GIFs:  51%|█████     | 509/1000 [04:04<03:17,  2.49it/s]"
          ]
        },
        {
          "output_type": "stream",
          "name": "stdout",
          "text": [
            "Downloaded: gifs_temp/gif_96119.gif\n",
            "Deleted: gifs_temp/gif_96119.gif\n"
          ]
        },
        {
          "output_type": "stream",
          "name": "stderr",
          "text": [
            "\rProcessing GIFs:  51%|█████     | 510/1000 [04:04<02:57,  2.75it/s]"
          ]
        },
        {
          "output_type": "stream",
          "name": "stdout",
          "text": [
            "Downloaded: gifs_temp/gif_95612.gif\n",
            "Deleted: gifs_temp/gif_95612.gif\n"
          ]
        },
        {
          "output_type": "stream",
          "name": "stderr",
          "text": [
            "\rProcessing GIFs:  51%|█████     | 511/1000 [04:05<03:09,  2.58it/s]"
          ]
        },
        {
          "output_type": "stream",
          "name": "stdout",
          "text": [
            "Downloaded: gifs_temp/gif_79821.gif\n",
            "Deleted: gifs_temp/gif_79821.gif\n"
          ]
        },
        {
          "output_type": "stream",
          "name": "stderr",
          "text": [
            "\rProcessing GIFs:  51%|█████     | 512/1000 [04:05<03:32,  2.30it/s]"
          ]
        },
        {
          "output_type": "stream",
          "name": "stdout",
          "text": [
            "Downloaded: gifs_temp/gif_75905.gif\n",
            "Deleted: gifs_temp/gif_75905.gif\n"
          ]
        },
        {
          "output_type": "stream",
          "name": "stderr",
          "text": [
            "\rProcessing GIFs:  51%|█████▏    | 513/1000 [04:06<03:31,  2.30it/s]"
          ]
        },
        {
          "output_type": "stream",
          "name": "stdout",
          "text": [
            "Downloaded: gifs_temp/gif_15265.gif\n",
            "Deleted: gifs_temp/gif_15265.gif\n"
          ]
        },
        {
          "output_type": "stream",
          "name": "stderr",
          "text": [
            "\rProcessing GIFs:  51%|█████▏    | 514/1000 [04:06<03:45,  2.15it/s]"
          ]
        },
        {
          "output_type": "stream",
          "name": "stdout",
          "text": [
            "Downloaded: gifs_temp/gif_34205.gif\n",
            "Deleted: gifs_temp/gif_34205.gif\n"
          ]
        },
        {
          "output_type": "stream",
          "name": "stderr",
          "text": [
            "\rProcessing GIFs:  52%|█████▏    | 515/1000 [04:07<03:33,  2.27it/s]"
          ]
        },
        {
          "output_type": "stream",
          "name": "stdout",
          "text": [
            "Downloaded: gifs_temp/gif_26373.gif\n",
            "Deleted: gifs_temp/gif_26373.gif\n"
          ]
        },
        {
          "output_type": "stream",
          "name": "stderr",
          "text": [
            "\rProcessing GIFs:  52%|█████▏    | 516/1000 [04:07<04:03,  1.99it/s]"
          ]
        },
        {
          "output_type": "stream",
          "name": "stdout",
          "text": [
            "Downloaded: gifs_temp/gif_114070.gif\n",
            "Deleted: gifs_temp/gif_114070.gif\n"
          ]
        },
        {
          "output_type": "stream",
          "name": "stderr",
          "text": [
            "\rProcessing GIFs:  52%|█████▏    | 517/1000 [04:08<03:49,  2.10it/s]"
          ]
        },
        {
          "output_type": "stream",
          "name": "stdout",
          "text": [
            "Downloaded: gifs_temp/gif_25639.gif\n",
            "Deleted: gifs_temp/gif_25639.gif\n"
          ]
        },
        {
          "output_type": "stream",
          "name": "stderr",
          "text": [
            "\rProcessing GIFs:  52%|█████▏    | 518/1000 [04:08<03:47,  2.12it/s]"
          ]
        },
        {
          "output_type": "stream",
          "name": "stdout",
          "text": [
            "Downloaded: gifs_temp/gif_45705.gif\n",
            "Deleted: gifs_temp/gif_45705.gif\n"
          ]
        },
        {
          "output_type": "stream",
          "name": "stderr",
          "text": [
            "\rProcessing GIFs:  52%|█████▏    | 519/1000 [04:08<03:31,  2.27it/s]"
          ]
        },
        {
          "output_type": "stream",
          "name": "stdout",
          "text": [
            "Downloaded: gifs_temp/gif_24460.gif\n",
            "Deleted: gifs_temp/gif_24460.gif\n"
          ]
        },
        {
          "output_type": "stream",
          "name": "stderr",
          "text": [
            "\rProcessing GIFs:  52%|█████▏    | 520/1000 [04:09<03:12,  2.49it/s]"
          ]
        },
        {
          "output_type": "stream",
          "name": "stdout",
          "text": [
            "Downloaded: gifs_temp/gif_88342.gif\n",
            "Deleted: gifs_temp/gif_88342.gif\n"
          ]
        },
        {
          "output_type": "stream",
          "name": "stderr",
          "text": [
            "\rProcessing GIFs:  52%|█████▏    | 521/1000 [04:09<03:01,  2.64it/s]"
          ]
        },
        {
          "output_type": "stream",
          "name": "stdout",
          "text": [
            "Downloaded: gifs_temp/gif_745.gif\n",
            "Deleted: gifs_temp/gif_745.gif\n"
          ]
        },
        {
          "output_type": "stream",
          "name": "stderr",
          "text": [
            "\rProcessing GIFs:  52%|█████▏    | 522/1000 [04:10<03:06,  2.57it/s]"
          ]
        },
        {
          "output_type": "stream",
          "name": "stdout",
          "text": [
            "Downloaded: gifs_temp/gif_38004.gif\n",
            "Deleted: gifs_temp/gif_38004.gif\n"
          ]
        },
        {
          "output_type": "stream",
          "name": "stderr",
          "text": [
            "\rProcessing GIFs:  52%|█████▏    | 523/1000 [04:10<03:30,  2.26it/s]"
          ]
        },
        {
          "output_type": "stream",
          "name": "stdout",
          "text": [
            "Downloaded: gifs_temp/gif_39037.gif\n",
            "Deleted: gifs_temp/gif_39037.gif\n",
            "Downloaded: gifs_temp/gif_19012.gif\n"
          ]
        },
        {
          "output_type": "stream",
          "name": "stderr",
          "text": [
            "\rProcessing GIFs:  52%|█████▏    | 524/1000 [04:11<04:02,  1.96it/s]"
          ]
        },
        {
          "output_type": "stream",
          "name": "stdout",
          "text": [
            "Deleted: gifs_temp/gif_19012.gif\n"
          ]
        },
        {
          "output_type": "stream",
          "name": "stderr",
          "text": [
            "\rProcessing GIFs:  52%|█████▎    | 525/1000 [04:11<03:50,  2.06it/s]"
          ]
        },
        {
          "output_type": "stream",
          "name": "stdout",
          "text": [
            "Downloaded: gifs_temp/gif_121586.gif\n",
            "Deleted: gifs_temp/gif_121586.gif\n"
          ]
        },
        {
          "output_type": "stream",
          "name": "stderr",
          "text": [
            "\rProcessing GIFs:  53%|█████▎    | 526/1000 [04:12<03:34,  2.21it/s]"
          ]
        },
        {
          "output_type": "stream",
          "name": "stdout",
          "text": [
            "Downloaded: gifs_temp/gif_85705.gif\n",
            "Deleted: gifs_temp/gif_85705.gif\n"
          ]
        },
        {
          "output_type": "stream",
          "name": "stderr",
          "text": [
            "\rProcessing GIFs:  53%|█████▎    | 527/1000 [04:12<03:53,  2.03it/s]"
          ]
        },
        {
          "output_type": "stream",
          "name": "stdout",
          "text": [
            "Downloaded: gifs_temp/gif_36457.gif\n",
            "Deleted: gifs_temp/gif_36457.gif\n"
          ]
        },
        {
          "output_type": "stream",
          "name": "stderr",
          "text": [
            "\rProcessing GIFs:  53%|█████▎    | 528/1000 [04:13<03:51,  2.04it/s]"
          ]
        },
        {
          "output_type": "stream",
          "name": "stdout",
          "text": [
            "Downloaded: gifs_temp/gif_123681.gif\n",
            "Deleted: gifs_temp/gif_123681.gif\n"
          ]
        },
        {
          "output_type": "stream",
          "name": "stderr",
          "text": [
            "\rProcessing GIFs:  53%|█████▎    | 529/1000 [04:13<04:42,  1.67it/s]"
          ]
        },
        {
          "output_type": "stream",
          "name": "stdout",
          "text": [
            "Downloaded: gifs_temp/gif_52434.gif\n",
            "Deleted: gifs_temp/gif_52434.gif\n"
          ]
        },
        {
          "output_type": "stream",
          "name": "stderr",
          "text": [
            "\rProcessing GIFs:  53%|█████▎    | 530/1000 [04:14<04:18,  1.82it/s]"
          ]
        },
        {
          "output_type": "stream",
          "name": "stdout",
          "text": [
            "Downloaded: gifs_temp/gif_106043.gif\n",
            "Deleted: gifs_temp/gif_106043.gif\n"
          ]
        },
        {
          "output_type": "stream",
          "name": "stderr",
          "text": [
            "\rProcessing GIFs:  53%|█████▎    | 531/1000 [04:14<04:04,  1.91it/s]"
          ]
        },
        {
          "output_type": "stream",
          "name": "stdout",
          "text": [
            "Downloaded: gifs_temp/gif_51147.gif\n",
            "Deleted: gifs_temp/gif_51147.gif\n"
          ]
        },
        {
          "output_type": "stream",
          "name": "stderr",
          "text": [
            "\rProcessing GIFs:  53%|█████▎    | 532/1000 [04:15<03:52,  2.01it/s]"
          ]
        },
        {
          "output_type": "stream",
          "name": "stdout",
          "text": [
            "Downloaded: gifs_temp/gif_65588.gif\n",
            "Deleted: gifs_temp/gif_65588.gif\n"
          ]
        },
        {
          "output_type": "stream",
          "name": "stderr",
          "text": [
            "\rProcessing GIFs:  53%|█████▎    | 533/1000 [04:15<03:42,  2.10it/s]"
          ]
        },
        {
          "output_type": "stream",
          "name": "stdout",
          "text": [
            "Downloaded: gifs_temp/gif_54936.gif\n",
            "Deleted: gifs_temp/gif_54936.gif\n"
          ]
        },
        {
          "output_type": "stream",
          "name": "stderr",
          "text": [
            "\rProcessing GIFs:  53%|█████▎    | 534/1000 [04:16<03:27,  2.24it/s]"
          ]
        },
        {
          "output_type": "stream",
          "name": "stdout",
          "text": [
            "Downloaded: gifs_temp/gif_25561.gif\n",
            "Deleted: gifs_temp/gif_25561.gif\n"
          ]
        },
        {
          "output_type": "stream",
          "name": "stderr",
          "text": [
            "\rProcessing GIFs:  54%|█████▎    | 535/1000 [04:16<03:15,  2.38it/s]"
          ]
        },
        {
          "output_type": "stream",
          "name": "stdout",
          "text": [
            "Downloaded: gifs_temp/gif_42165.gif\n",
            "Deleted: gifs_temp/gif_42165.gif\n"
          ]
        },
        {
          "output_type": "stream",
          "name": "stderr",
          "text": [
            "\rProcessing GIFs:  54%|█████▎    | 536/1000 [04:16<03:16,  2.36it/s]"
          ]
        },
        {
          "output_type": "stream",
          "name": "stdout",
          "text": [
            "Downloaded: gifs_temp/gif_111520.gif\n",
            "Deleted: gifs_temp/gif_111520.gif\n"
          ]
        },
        {
          "output_type": "stream",
          "name": "stderr",
          "text": [
            "\rProcessing GIFs:  54%|█████▎    | 537/1000 [04:17<03:14,  2.38it/s]"
          ]
        },
        {
          "output_type": "stream",
          "name": "stdout",
          "text": [
            "Downloaded: gifs_temp/gif_107594.gif\n",
            "Deleted: gifs_temp/gif_107594.gif\n"
          ]
        },
        {
          "output_type": "stream",
          "name": "stderr",
          "text": [
            "\rProcessing GIFs:  54%|█████▍    | 538/1000 [04:17<03:14,  2.37it/s]"
          ]
        },
        {
          "output_type": "stream",
          "name": "stdout",
          "text": [
            "Downloaded: gifs_temp/gif_62401.gif\n",
            "Deleted: gifs_temp/gif_62401.gif\n"
          ]
        },
        {
          "output_type": "stream",
          "name": "stderr",
          "text": [
            "\rProcessing GIFs:  54%|█████▍    | 539/1000 [04:18<03:22,  2.28it/s]"
          ]
        },
        {
          "output_type": "stream",
          "name": "stdout",
          "text": [
            "Downloaded: gifs_temp/gif_16291.gif\n",
            "Deleted: gifs_temp/gif_16291.gif\n"
          ]
        },
        {
          "output_type": "stream",
          "name": "stderr",
          "text": [
            "\rProcessing GIFs:  54%|█████▍    | 540/1000 [04:18<03:22,  2.27it/s]"
          ]
        },
        {
          "output_type": "stream",
          "name": "stdout",
          "text": [
            "Downloaded: gifs_temp/gif_110037.gif\n",
            "Deleted: gifs_temp/gif_110037.gif\n"
          ]
        },
        {
          "output_type": "stream",
          "name": "stderr",
          "text": [
            "\rProcessing GIFs:  54%|█████▍    | 541/1000 [04:19<03:14,  2.36it/s]"
          ]
        },
        {
          "output_type": "stream",
          "name": "stdout",
          "text": [
            "Downloaded: gifs_temp/gif_117812.gif\n",
            "Deleted: gifs_temp/gif_117812.gif\n"
          ]
        },
        {
          "output_type": "stream",
          "name": "stderr",
          "text": [
            "\rProcessing GIFs:  54%|█████▍    | 542/1000 [04:19<03:11,  2.39it/s]"
          ]
        },
        {
          "output_type": "stream",
          "name": "stdout",
          "text": [
            "Downloaded: gifs_temp/gif_80356.gif\n",
            "Deleted: gifs_temp/gif_80356.gif\n"
          ]
        },
        {
          "output_type": "stream",
          "name": "stderr",
          "text": [
            "\rProcessing GIFs:  54%|█████▍    | 543/1000 [04:19<03:08,  2.42it/s]"
          ]
        },
        {
          "output_type": "stream",
          "name": "stdout",
          "text": [
            "Downloaded: gifs_temp/gif_59292.gif\n",
            "Deleted: gifs_temp/gif_59292.gif\n"
          ]
        },
        {
          "output_type": "stream",
          "name": "stderr",
          "text": [
            "\rProcessing GIFs:  54%|█████▍    | 544/1000 [04:20<03:01,  2.51it/s]"
          ]
        },
        {
          "output_type": "stream",
          "name": "stdout",
          "text": [
            "Downloaded: gifs_temp/gif_121157.gif\n",
            "Deleted: gifs_temp/gif_121157.gif\n"
          ]
        },
        {
          "output_type": "stream",
          "name": "stderr",
          "text": [
            "\rProcessing GIFs:  55%|█████▍    | 545/1000 [04:20<03:02,  2.50it/s]"
          ]
        },
        {
          "output_type": "stream",
          "name": "stdout",
          "text": [
            "Downloaded: gifs_temp/gif_69214.gif\n",
            "Deleted: gifs_temp/gif_69214.gif\n"
          ]
        },
        {
          "output_type": "stream",
          "name": "stderr",
          "text": [
            "\rProcessing GIFs:  55%|█████▍    | 546/1000 [04:21<03:09,  2.39it/s]"
          ]
        },
        {
          "output_type": "stream",
          "name": "stdout",
          "text": [
            "Downloaded: gifs_temp/gif_59641.gif\n",
            "Deleted: gifs_temp/gif_59641.gif\n"
          ]
        },
        {
          "output_type": "stream",
          "name": "stderr",
          "text": [
            "\rProcessing GIFs:  55%|█████▍    | 547/1000 [04:21<03:15,  2.31it/s]"
          ]
        },
        {
          "output_type": "stream",
          "name": "stdout",
          "text": [
            "Downloaded: gifs_temp/gif_117955.gif\n",
            "Deleted: gifs_temp/gif_117955.gif\n"
          ]
        },
        {
          "output_type": "stream",
          "name": "stderr",
          "text": [
            "\rProcessing GIFs:  55%|█████▍    | 548/1000 [04:22<04:24,  1.71it/s]"
          ]
        },
        {
          "output_type": "stream",
          "name": "stdout",
          "text": [
            "Downloaded: gifs_temp/gif_51095.gif\n",
            "Deleted: gifs_temp/gif_51095.gif\n"
          ]
        },
        {
          "output_type": "stream",
          "name": "stderr",
          "text": [
            "\rProcessing GIFs:  55%|█████▍    | 549/1000 [04:23<04:28,  1.68it/s]"
          ]
        },
        {
          "output_type": "stream",
          "name": "stdout",
          "text": [
            "Downloaded: gifs_temp/gif_4213.gif\n",
            "Deleted: gifs_temp/gif_4213.gif\n"
          ]
        },
        {
          "output_type": "stream",
          "name": "stderr",
          "text": [
            "\rProcessing GIFs:  55%|█████▌    | 550/1000 [04:23<04:07,  1.82it/s]"
          ]
        },
        {
          "output_type": "stream",
          "name": "stdout",
          "text": [
            "Downloaded: gifs_temp/gif_65319.gif\n",
            "Deleted: gifs_temp/gif_65319.gif\n"
          ]
        },
        {
          "output_type": "stream",
          "name": "stderr",
          "text": [
            "\rProcessing GIFs:  55%|█████▌    | 551/1000 [04:23<03:45,  1.99it/s]"
          ]
        },
        {
          "output_type": "stream",
          "name": "stdout",
          "text": [
            "Downloaded: gifs_temp/gif_31111.gif\n",
            "Deleted: gifs_temp/gif_31111.gif\n"
          ]
        },
        {
          "output_type": "stream",
          "name": "stderr",
          "text": [
            "\rProcessing GIFs:  55%|█████▌    | 552/1000 [04:24<03:20,  2.24it/s]"
          ]
        },
        {
          "output_type": "stream",
          "name": "stdout",
          "text": [
            "Downloaded: gifs_temp/gif_36716.gif\n",
            "Deleted: gifs_temp/gif_36716.gif\n"
          ]
        },
        {
          "output_type": "stream",
          "name": "stderr",
          "text": [
            "\rProcessing GIFs:  55%|█████▌    | 553/1000 [04:24<03:09,  2.36it/s]"
          ]
        },
        {
          "output_type": "stream",
          "name": "stdout",
          "text": [
            "Downloaded: gifs_temp/gif_104876.gif\n",
            "Deleted: gifs_temp/gif_104876.gif\n"
          ]
        },
        {
          "output_type": "stream",
          "name": "stderr",
          "text": [
            "\rProcessing GIFs:  55%|█████▌    | 554/1000 [04:25<03:02,  2.45it/s]"
          ]
        },
        {
          "output_type": "stream",
          "name": "stdout",
          "text": [
            "Downloaded: gifs_temp/gif_25530.gif\n",
            "Deleted: gifs_temp/gif_25530.gif\n"
          ]
        },
        {
          "output_type": "stream",
          "name": "stderr",
          "text": [
            "\rProcessing GIFs:  56%|█████▌    | 555/1000 [04:25<03:16,  2.26it/s]"
          ]
        },
        {
          "output_type": "stream",
          "name": "stdout",
          "text": [
            "Downloaded: gifs_temp/gif_34001.gif\n",
            "Deleted: gifs_temp/gif_34001.gif\n"
          ]
        },
        {
          "output_type": "stream",
          "name": "stderr",
          "text": [
            "\rProcessing GIFs:  56%|█████▌    | 556/1000 [04:25<03:06,  2.39it/s]"
          ]
        },
        {
          "output_type": "stream",
          "name": "stdout",
          "text": [
            "Downloaded: gifs_temp/gif_116932.gif\n",
            "Deleted: gifs_temp/gif_116932.gif\n"
          ]
        },
        {
          "output_type": "stream",
          "name": "stderr",
          "text": [
            "\rProcessing GIFs:  56%|█████▌    | 557/1000 [04:26<02:59,  2.47it/s]"
          ]
        },
        {
          "output_type": "stream",
          "name": "stdout",
          "text": [
            "Downloaded: gifs_temp/gif_103342.gif\n",
            "Deleted: gifs_temp/gif_103342.gif\n"
          ]
        },
        {
          "output_type": "stream",
          "name": "stderr",
          "text": [
            "\rProcessing GIFs:  56%|█████▌    | 558/1000 [04:27<03:45,  1.96it/s]"
          ]
        },
        {
          "output_type": "stream",
          "name": "stdout",
          "text": [
            "Downloaded: gifs_temp/gif_81962.gif\n",
            "Deleted: gifs_temp/gif_81962.gif\n"
          ]
        },
        {
          "output_type": "stream",
          "name": "stderr",
          "text": [
            "\rProcessing GIFs:  56%|█████▌    | 559/1000 [04:27<03:24,  2.16it/s]"
          ]
        },
        {
          "output_type": "stream",
          "name": "stdout",
          "text": [
            "Downloaded: gifs_temp/gif_38615.gif\n",
            "Deleted: gifs_temp/gif_38615.gif\n"
          ]
        },
        {
          "output_type": "stream",
          "name": "stderr",
          "text": [
            "\rProcessing GIFs:  56%|█████▌    | 560/1000 [04:27<03:37,  2.02it/s]"
          ]
        },
        {
          "output_type": "stream",
          "name": "stdout",
          "text": [
            "Downloaded: gifs_temp/gif_110375.gif\n",
            "Deleted: gifs_temp/gif_110375.gif\n"
          ]
        },
        {
          "output_type": "stream",
          "name": "stderr",
          "text": [
            "\rProcessing GIFs:  56%|█████▌    | 561/1000 [04:28<03:24,  2.14it/s]"
          ]
        },
        {
          "output_type": "stream",
          "name": "stdout",
          "text": [
            "Downloaded: gifs_temp/gif_52028.gif\n",
            "Deleted: gifs_temp/gif_52028.gif\n"
          ]
        },
        {
          "output_type": "stream",
          "name": "stderr",
          "text": [
            "\rProcessing GIFs:  56%|█████▌    | 562/1000 [04:28<03:10,  2.30it/s]"
          ]
        },
        {
          "output_type": "stream",
          "name": "stdout",
          "text": [
            "Downloaded: gifs_temp/gif_354.gif\n",
            "Deleted: gifs_temp/gif_354.gif\n"
          ]
        },
        {
          "output_type": "stream",
          "name": "stderr",
          "text": [
            "\rProcessing GIFs:  56%|█████▋    | 563/1000 [04:29<03:18,  2.20it/s]"
          ]
        },
        {
          "output_type": "stream",
          "name": "stdout",
          "text": [
            "Downloaded: gifs_temp/gif_50244.gif\n",
            "Deleted: gifs_temp/gif_50244.gif\n"
          ]
        },
        {
          "output_type": "stream",
          "name": "stderr",
          "text": [
            "\rProcessing GIFs:  56%|█████▋    | 564/1000 [04:29<03:01,  2.40it/s]"
          ]
        },
        {
          "output_type": "stream",
          "name": "stdout",
          "text": [
            "Downloaded: gifs_temp/gif_99634.gif\n",
            "Deleted: gifs_temp/gif_99634.gif\n"
          ]
        },
        {
          "output_type": "stream",
          "name": "stderr",
          "text": [
            "\rProcessing GIFs:  56%|█████▋    | 565/1000 [04:30<03:07,  2.32it/s]"
          ]
        },
        {
          "output_type": "stream",
          "name": "stdout",
          "text": [
            "Downloaded: gifs_temp/gif_102140.gif\n",
            "Deleted: gifs_temp/gif_102140.gif\n"
          ]
        },
        {
          "output_type": "stream",
          "name": "stderr",
          "text": [
            "\rProcessing GIFs:  57%|█████▋    | 566/1000 [04:30<03:15,  2.22it/s]"
          ]
        },
        {
          "output_type": "stream",
          "name": "stdout",
          "text": [
            "Downloaded: gifs_temp/gif_19220.gif\n",
            "Deleted: gifs_temp/gif_19220.gif\n"
          ]
        },
        {
          "output_type": "stream",
          "name": "stderr",
          "text": [
            "\rProcessing GIFs:  57%|█████▋    | 567/1000 [04:31<03:33,  2.03it/s]"
          ]
        },
        {
          "output_type": "stream",
          "name": "stdout",
          "text": [
            "Downloaded: gifs_temp/gif_63099.gif\n",
            "Deleted: gifs_temp/gif_63099.gif\n"
          ]
        },
        {
          "output_type": "stream",
          "name": "stderr",
          "text": [
            "\rProcessing GIFs:  57%|█████▋    | 568/1000 [04:31<03:42,  1.94it/s]"
          ]
        },
        {
          "output_type": "stream",
          "name": "stdout",
          "text": [
            "Downloaded: gifs_temp/gif_104175.gif\n",
            "Deleted: gifs_temp/gif_104175.gif\n"
          ]
        },
        {
          "output_type": "stream",
          "name": "stderr",
          "text": [
            "\rProcessing GIFs:  57%|█████▋    | 569/1000 [04:32<03:29,  2.06it/s]"
          ]
        },
        {
          "output_type": "stream",
          "name": "stdout",
          "text": [
            "Downloaded: gifs_temp/gif_92062.gif\n",
            "Deleted: gifs_temp/gif_92062.gif\n"
          ]
        },
        {
          "output_type": "stream",
          "name": "stderr",
          "text": [
            "\rProcessing GIFs:  57%|█████▋    | 570/1000 [04:32<03:07,  2.30it/s]"
          ]
        },
        {
          "output_type": "stream",
          "name": "stdout",
          "text": [
            "Downloaded: gifs_temp/gif_62807.gif\n",
            "Deleted: gifs_temp/gif_62807.gif\n"
          ]
        },
        {
          "output_type": "stream",
          "name": "stderr",
          "text": [
            "\rProcessing GIFs:  57%|█████▋    | 571/1000 [04:32<03:07,  2.29it/s]"
          ]
        },
        {
          "output_type": "stream",
          "name": "stdout",
          "text": [
            "Downloaded: gifs_temp/gif_82103.gif\n",
            "Deleted: gifs_temp/gif_82103.gif\n"
          ]
        },
        {
          "output_type": "stream",
          "name": "stderr",
          "text": [
            "\rProcessing GIFs:  57%|█████▋    | 572/1000 [04:33<02:59,  2.38it/s]"
          ]
        },
        {
          "output_type": "stream",
          "name": "stdout",
          "text": [
            "Downloaded: gifs_temp/gif_73930.gif\n",
            "Deleted: gifs_temp/gif_73930.gif\n"
          ]
        },
        {
          "output_type": "stream",
          "name": "stderr",
          "text": [
            "\rProcessing GIFs:  57%|█████▋    | 573/1000 [04:33<02:56,  2.42it/s]"
          ]
        },
        {
          "output_type": "stream",
          "name": "stdout",
          "text": [
            "Downloaded: gifs_temp/gif_125357.gif\n",
            "Deleted: gifs_temp/gif_125357.gif\n"
          ]
        },
        {
          "output_type": "stream",
          "name": "stderr",
          "text": [
            "\rProcessing GIFs:  57%|█████▋    | 574/1000 [04:34<03:12,  2.21it/s]"
          ]
        },
        {
          "output_type": "stream",
          "name": "stdout",
          "text": [
            "Downloaded: gifs_temp/gif_81145.gif\n",
            "Deleted: gifs_temp/gif_81145.gif\n"
          ]
        },
        {
          "output_type": "stream",
          "name": "stderr",
          "text": [
            "\rProcessing GIFs:  57%|█████▊    | 575/1000 [04:34<03:07,  2.27it/s]"
          ]
        },
        {
          "output_type": "stream",
          "name": "stdout",
          "text": [
            "Downloaded: gifs_temp/gif_31358.gif\n",
            "Deleted: gifs_temp/gif_31358.gif\n"
          ]
        },
        {
          "output_type": "stream",
          "name": "stderr",
          "text": [
            "\rProcessing GIFs:  58%|█████▊    | 576/1000 [04:34<02:51,  2.47it/s]"
          ]
        },
        {
          "output_type": "stream",
          "name": "stdout",
          "text": [
            "Downloaded: gifs_temp/gif_38397.gif\n",
            "Deleted: gifs_temp/gif_38397.gif\n"
          ]
        },
        {
          "output_type": "stream",
          "name": "stderr",
          "text": [
            "\rProcessing GIFs:  58%|█████▊    | 577/1000 [04:35<03:00,  2.34it/s]"
          ]
        },
        {
          "output_type": "stream",
          "name": "stdout",
          "text": [
            "Downloaded: gifs_temp/gif_81956.gif\n",
            "Deleted: gifs_temp/gif_81956.gif\n"
          ]
        },
        {
          "output_type": "stream",
          "name": "stderr",
          "text": [
            "\rProcessing GIFs:  58%|█████▊    | 578/1000 [04:35<02:56,  2.39it/s]"
          ]
        },
        {
          "output_type": "stream",
          "name": "stdout",
          "text": [
            "Downloaded: gifs_temp/gif_34981.gif\n",
            "Deleted: gifs_temp/gif_34981.gif\n"
          ]
        },
        {
          "output_type": "stream",
          "name": "stderr",
          "text": [
            "\rProcessing GIFs:  58%|█████▊    | 579/1000 [04:36<02:55,  2.40it/s]"
          ]
        },
        {
          "output_type": "stream",
          "name": "stdout",
          "text": [
            "Downloaded: gifs_temp/gif_105498.gif\n",
            "Deleted: gifs_temp/gif_105498.gif\n"
          ]
        },
        {
          "output_type": "stream",
          "name": "stderr",
          "text": [
            "\rProcessing GIFs:  58%|█████▊    | 580/1000 [04:36<02:51,  2.44it/s]"
          ]
        },
        {
          "output_type": "stream",
          "name": "stdout",
          "text": [
            "Downloaded: gifs_temp/gif_71248.gif\n",
            "Deleted: gifs_temp/gif_71248.gif\n"
          ]
        },
        {
          "output_type": "stream",
          "name": "stderr",
          "text": [
            "\rProcessing GIFs:  58%|█████▊    | 581/1000 [04:36<02:45,  2.54it/s]"
          ]
        },
        {
          "output_type": "stream",
          "name": "stdout",
          "text": [
            "Downloaded: gifs_temp/gif_85097.gif\n",
            "Deleted: gifs_temp/gif_85097.gif\n"
          ]
        },
        {
          "output_type": "stream",
          "name": "stderr",
          "text": [
            "\rProcessing GIFs:  58%|█████▊    | 582/1000 [04:37<02:48,  2.48it/s]"
          ]
        },
        {
          "output_type": "stream",
          "name": "stdout",
          "text": [
            "Downloaded: gifs_temp/gif_55935.gif\n",
            "Deleted: gifs_temp/gif_55935.gif\n"
          ]
        },
        {
          "output_type": "stream",
          "name": "stderr",
          "text": [
            "\rProcessing GIFs:  58%|█████▊    | 583/1000 [04:37<02:47,  2.49it/s]"
          ]
        },
        {
          "output_type": "stream",
          "name": "stdout",
          "text": [
            "Downloaded: gifs_temp/gif_93330.gif\n",
            "Deleted: gifs_temp/gif_93330.gif\n"
          ]
        },
        {
          "output_type": "stream",
          "name": "stderr",
          "text": [
            "\rProcessing GIFs:  58%|█████▊    | 584/1000 [04:38<02:53,  2.40it/s]"
          ]
        },
        {
          "output_type": "stream",
          "name": "stdout",
          "text": [
            "Downloaded: gifs_temp/gif_83015.gif\n",
            "Deleted: gifs_temp/gif_83015.gif\n"
          ]
        },
        {
          "output_type": "stream",
          "name": "stderr",
          "text": [
            "\rProcessing GIFs:  58%|█████▊    | 585/1000 [04:38<02:49,  2.46it/s]"
          ]
        },
        {
          "output_type": "stream",
          "name": "stdout",
          "text": [
            "Downloaded: gifs_temp/gif_113863.gif\n",
            "Deleted: gifs_temp/gif_113863.gif\n"
          ]
        },
        {
          "output_type": "stream",
          "name": "stderr",
          "text": [
            "\rProcessing GIFs:  59%|█████▊    | 586/1000 [04:38<02:42,  2.55it/s]"
          ]
        },
        {
          "output_type": "stream",
          "name": "stdout",
          "text": [
            "Downloaded: gifs_temp/gif_69139.gif\n",
            "Deleted: gifs_temp/gif_69139.gif\n"
          ]
        },
        {
          "output_type": "stream",
          "name": "stderr",
          "text": [
            "\rProcessing GIFs:  59%|█████▊    | 587/1000 [04:39<02:40,  2.57it/s]"
          ]
        },
        {
          "output_type": "stream",
          "name": "stdout",
          "text": [
            "Downloaded: gifs_temp/gif_22586.gif\n",
            "Deleted: gifs_temp/gif_22586.gif\n"
          ]
        },
        {
          "output_type": "stream",
          "name": "stderr",
          "text": [
            "\rProcessing GIFs:  59%|█████▉    | 588/1000 [04:39<02:44,  2.51it/s]"
          ]
        },
        {
          "output_type": "stream",
          "name": "stdout",
          "text": [
            "Downloaded: gifs_temp/gif_67020.gif\n",
            "Deleted: gifs_temp/gif_67020.gif\n"
          ]
        },
        {
          "output_type": "stream",
          "name": "stderr",
          "text": [
            "\rProcessing GIFs:  59%|█████▉    | 589/1000 [04:40<03:07,  2.19it/s]"
          ]
        },
        {
          "output_type": "stream",
          "name": "stdout",
          "text": [
            "Downloaded: gifs_temp/gif_67002.gif\n",
            "Deleted: gifs_temp/gif_67002.gif\n",
            "Downloaded: gifs_temp/gif_13872.gif\n"
          ]
        },
        {
          "output_type": "stream",
          "name": "stderr",
          "text": [
            "\rProcessing GIFs:  59%|█████▉    | 590/1000 [04:40<03:13,  2.12it/s]"
          ]
        },
        {
          "output_type": "stream",
          "name": "stdout",
          "text": [
            "Deleted: gifs_temp/gif_13872.gif\n"
          ]
        },
        {
          "output_type": "stream",
          "name": "stderr",
          "text": [
            "\rProcessing GIFs:  59%|█████▉    | 591/1000 [04:41<03:09,  2.16it/s]"
          ]
        },
        {
          "output_type": "stream",
          "name": "stdout",
          "text": [
            "Downloaded: gifs_temp/gif_78134.gif\n",
            "Deleted: gifs_temp/gif_78134.gif\n"
          ]
        },
        {
          "output_type": "stream",
          "name": "stderr",
          "text": [
            "\rProcessing GIFs:  59%|█████▉    | 592/1000 [04:41<03:30,  1.93it/s]"
          ]
        },
        {
          "output_type": "stream",
          "name": "stdout",
          "text": [
            "Downloaded: gifs_temp/gif_124237.gif\n",
            "Deleted: gifs_temp/gif_124237.gif\n"
          ]
        },
        {
          "output_type": "stream",
          "name": "stderr",
          "text": [
            "\rProcessing GIFs:  59%|█████▉    | 593/1000 [04:42<03:22,  2.01it/s]"
          ]
        },
        {
          "output_type": "stream",
          "name": "stdout",
          "text": [
            "Downloaded: gifs_temp/gif_38626.gif\n",
            "Deleted: gifs_temp/gif_38626.gif\n"
          ]
        },
        {
          "output_type": "stream",
          "name": "stderr",
          "text": [
            "\rProcessing GIFs:  59%|█████▉    | 594/1000 [04:42<03:14,  2.09it/s]"
          ]
        },
        {
          "output_type": "stream",
          "name": "stdout",
          "text": [
            "Downloaded: gifs_temp/gif_2136.gif\n",
            "Deleted: gifs_temp/gif_2136.gif\n"
          ]
        },
        {
          "output_type": "stream",
          "name": "stderr",
          "text": [
            "\rProcessing GIFs:  60%|█████▉    | 595/1000 [04:43<03:02,  2.22it/s]"
          ]
        },
        {
          "output_type": "stream",
          "name": "stdout",
          "text": [
            "Downloaded: gifs_temp/gif_123631.gif\n",
            "Deleted: gifs_temp/gif_123631.gif\n"
          ]
        },
        {
          "output_type": "stream",
          "name": "stderr",
          "text": [
            "\rProcessing GIFs:  60%|█████▉    | 596/1000 [04:43<03:04,  2.19it/s]"
          ]
        },
        {
          "output_type": "stream",
          "name": "stdout",
          "text": [
            "Downloaded: gifs_temp/gif_40761.gif\n",
            "Deleted: gifs_temp/gif_40761.gif\n"
          ]
        },
        {
          "output_type": "stream",
          "name": "stderr",
          "text": [
            "\rProcessing GIFs:  60%|█████▉    | 597/1000 [04:44<03:10,  2.11it/s]"
          ]
        },
        {
          "output_type": "stream",
          "name": "stdout",
          "text": [
            "Downloaded: gifs_temp/gif_96078.gif\n",
            "Deleted: gifs_temp/gif_96078.gif\n"
          ]
        },
        {
          "output_type": "stream",
          "name": "stderr",
          "text": [
            "\rProcessing GIFs:  60%|█████▉    | 598/1000 [04:44<03:10,  2.11it/s]"
          ]
        },
        {
          "output_type": "stream",
          "name": "stdout",
          "text": [
            "Downloaded: gifs_temp/gif_117822.gif\n",
            "Deleted: gifs_temp/gif_117822.gif\n"
          ]
        },
        {
          "output_type": "stream",
          "name": "stderr",
          "text": [
            "\rProcessing GIFs:  60%|█████▉    | 599/1000 [04:45<03:03,  2.19it/s]"
          ]
        },
        {
          "output_type": "stream",
          "name": "stdout",
          "text": [
            "Downloaded: gifs_temp/gif_48268.gif\n",
            "Deleted: gifs_temp/gif_48268.gif\n"
          ]
        },
        {
          "output_type": "stream",
          "name": "stderr",
          "text": [
            "\rProcessing GIFs:  60%|██████    | 600/1000 [04:45<02:58,  2.24it/s]"
          ]
        },
        {
          "output_type": "stream",
          "name": "stdout",
          "text": [
            "Downloaded: gifs_temp/gif_121946.gif\n",
            "Deleted: gifs_temp/gif_121946.gif\n"
          ]
        },
        {
          "output_type": "stream",
          "name": "stderr",
          "text": [
            "\rProcessing GIFs:  60%|██████    | 601/1000 [04:45<03:01,  2.20it/s]"
          ]
        },
        {
          "output_type": "stream",
          "name": "stdout",
          "text": [
            "Downloaded: gifs_temp/gif_94369.gif\n",
            "Deleted: gifs_temp/gif_94369.gif\n"
          ]
        },
        {
          "output_type": "stream",
          "name": "stderr",
          "text": [
            "\rProcessing GIFs:  60%|██████    | 602/1000 [04:46<02:52,  2.30it/s]"
          ]
        },
        {
          "output_type": "stream",
          "name": "stdout",
          "text": [
            "Downloaded: gifs_temp/gif_72218.gif\n",
            "Deleted: gifs_temp/gif_72218.gif\n"
          ]
        },
        {
          "output_type": "stream",
          "name": "stderr",
          "text": [
            "\rProcessing GIFs:  60%|██████    | 603/1000 [04:46<02:43,  2.43it/s]"
          ]
        },
        {
          "output_type": "stream",
          "name": "stdout",
          "text": [
            "Downloaded: gifs_temp/gif_63498.gif\n",
            "Deleted: gifs_temp/gif_63498.gif\n"
          ]
        },
        {
          "output_type": "stream",
          "name": "stderr",
          "text": [
            "\rProcessing GIFs:  60%|██████    | 604/1000 [04:47<02:39,  2.48it/s]"
          ]
        },
        {
          "output_type": "stream",
          "name": "stdout",
          "text": [
            "Downloaded: gifs_temp/gif_118385.gif\n",
            "Deleted: gifs_temp/gif_118385.gif\n"
          ]
        },
        {
          "output_type": "stream",
          "name": "stderr",
          "text": [
            "\rProcessing GIFs:  60%|██████    | 605/1000 [04:47<02:38,  2.50it/s]"
          ]
        },
        {
          "output_type": "stream",
          "name": "stdout",
          "text": [
            "Downloaded: gifs_temp/gif_23888.gif\n",
            "Deleted: gifs_temp/gif_23888.gif\n"
          ]
        },
        {
          "output_type": "stream",
          "name": "stderr",
          "text": [
            "\rProcessing GIFs:  61%|██████    | 606/1000 [04:47<02:38,  2.49it/s]"
          ]
        },
        {
          "output_type": "stream",
          "name": "stdout",
          "text": [
            "Downloaded: gifs_temp/gif_98801.gif\n",
            "Deleted: gifs_temp/gif_98801.gif\n"
          ]
        },
        {
          "output_type": "stream",
          "name": "stderr",
          "text": [
            "\rProcessing GIFs:  61%|██████    | 607/1000 [04:48<03:41,  1.77it/s]"
          ]
        },
        {
          "output_type": "stream",
          "name": "stdout",
          "text": [
            "Downloaded: gifs_temp/gif_78810.gif\n",
            "Deleted: gifs_temp/gif_78810.gif\n"
          ]
        },
        {
          "output_type": "stream",
          "name": "stderr",
          "text": [
            "\rProcessing GIFs:  61%|██████    | 608/1000 [04:49<03:36,  1.81it/s]"
          ]
        },
        {
          "output_type": "stream",
          "name": "stdout",
          "text": [
            "Downloaded: gifs_temp/gif_108985.gif\n",
            "Deleted: gifs_temp/gif_108985.gif\n"
          ]
        },
        {
          "output_type": "stream",
          "name": "stderr",
          "text": [
            "\rProcessing GIFs:  61%|██████    | 609/1000 [04:49<03:14,  2.01it/s]"
          ]
        },
        {
          "output_type": "stream",
          "name": "stdout",
          "text": [
            "Downloaded: gifs_temp/gif_15195.gif\n",
            "Deleted: gifs_temp/gif_15195.gif\n"
          ]
        },
        {
          "output_type": "stream",
          "name": "stderr",
          "text": [
            "\rProcessing GIFs:  61%|██████    | 610/1000 [04:50<03:02,  2.13it/s]"
          ]
        },
        {
          "output_type": "stream",
          "name": "stdout",
          "text": [
            "Downloaded: gifs_temp/gif_118181.gif\n",
            "Deleted: gifs_temp/gif_118181.gif\n"
          ]
        },
        {
          "output_type": "stream",
          "name": "stderr",
          "text": [
            "\rProcessing GIFs:  61%|██████    | 611/1000 [04:50<02:58,  2.18it/s]"
          ]
        },
        {
          "output_type": "stream",
          "name": "stdout",
          "text": [
            "Downloaded: gifs_temp/gif_51820.gif\n",
            "Deleted: gifs_temp/gif_51820.gif\n"
          ]
        },
        {
          "output_type": "stream",
          "name": "stderr",
          "text": [
            "\rProcessing GIFs:  61%|██████    | 612/1000 [04:50<02:51,  2.26it/s]"
          ]
        },
        {
          "output_type": "stream",
          "name": "stdout",
          "text": [
            "Downloaded: gifs_temp/gif_72974.gif\n",
            "Deleted: gifs_temp/gif_72974.gif\n"
          ]
        },
        {
          "output_type": "stream",
          "name": "stderr",
          "text": [
            "\rProcessing GIFs:  61%|██████▏   | 613/1000 [04:51<02:48,  2.30it/s]"
          ]
        },
        {
          "output_type": "stream",
          "name": "stdout",
          "text": [
            "Downloaded: gifs_temp/gif_78075.gif\n",
            "Deleted: gifs_temp/gif_78075.gif\n"
          ]
        },
        {
          "output_type": "stream",
          "name": "stderr",
          "text": [
            "\rProcessing GIFs:  61%|██████▏   | 614/1000 [04:52<03:16,  1.96it/s]"
          ]
        },
        {
          "output_type": "stream",
          "name": "stdout",
          "text": [
            "Downloaded: gifs_temp/gif_6419.gif\n",
            "Deleted: gifs_temp/gif_6419.gif\n"
          ]
        },
        {
          "output_type": "stream",
          "name": "stderr",
          "text": [
            "\rProcessing GIFs:  62%|██████▏   | 615/1000 [04:52<03:32,  1.81it/s]"
          ]
        },
        {
          "output_type": "stream",
          "name": "stdout",
          "text": [
            "Downloaded: gifs_temp/gif_21682.gif\n",
            "Deleted: gifs_temp/gif_21682.gif\n"
          ]
        },
        {
          "output_type": "stream",
          "name": "stderr",
          "text": [
            "\rProcessing GIFs:  62%|██████▏   | 616/1000 [04:53<03:44,  1.71it/s]"
          ]
        },
        {
          "output_type": "stream",
          "name": "stdout",
          "text": [
            "Downloaded: gifs_temp/gif_49622.gif\n",
            "Deleted: gifs_temp/gif_49622.gif\n"
          ]
        },
        {
          "output_type": "stream",
          "name": "stderr",
          "text": [
            "\rProcessing GIFs:  62%|██████▏   | 617/1000 [04:53<03:20,  1.91it/s]"
          ]
        },
        {
          "output_type": "stream",
          "name": "stdout",
          "text": [
            "Downloaded: gifs_temp/gif_83532.gif\n",
            "Deleted: gifs_temp/gif_83532.gif\n"
          ]
        },
        {
          "output_type": "stream",
          "name": "stderr",
          "text": [
            "\rProcessing GIFs:  62%|██████▏   | 618/1000 [04:54<03:02,  2.09it/s]"
          ]
        },
        {
          "output_type": "stream",
          "name": "stdout",
          "text": [
            "Downloaded: gifs_temp/gif_16423.gif\n",
            "Deleted: gifs_temp/gif_16423.gif\n"
          ]
        },
        {
          "output_type": "stream",
          "name": "stderr",
          "text": [
            "\rProcessing GIFs:  62%|██████▏   | 619/1000 [04:54<02:58,  2.14it/s]"
          ]
        },
        {
          "output_type": "stream",
          "name": "stdout",
          "text": [
            "Downloaded: gifs_temp/gif_42920.gif\n",
            "Deleted: gifs_temp/gif_42920.gif\n"
          ]
        },
        {
          "output_type": "stream",
          "name": "stderr",
          "text": [
            "\rProcessing GIFs:  62%|██████▏   | 620/1000 [04:54<02:47,  2.27it/s]"
          ]
        },
        {
          "output_type": "stream",
          "name": "stdout",
          "text": [
            "Downloaded: gifs_temp/gif_15251.gif\n",
            "Deleted: gifs_temp/gif_15251.gif\n"
          ]
        },
        {
          "output_type": "stream",
          "name": "stderr",
          "text": [
            "\rProcessing GIFs:  62%|██████▏   | 621/1000 [04:55<02:49,  2.23it/s]"
          ]
        },
        {
          "output_type": "stream",
          "name": "stdout",
          "text": [
            "Downloaded: gifs_temp/gif_88857.gif\n",
            "Deleted: gifs_temp/gif_88857.gif\n"
          ]
        },
        {
          "output_type": "stream",
          "name": "stderr",
          "text": [
            "\rProcessing GIFs:  62%|██████▏   | 622/1000 [04:55<02:36,  2.41it/s]"
          ]
        },
        {
          "output_type": "stream",
          "name": "stdout",
          "text": [
            "Downloaded: gifs_temp/gif_104201.gif\n",
            "Deleted: gifs_temp/gif_104201.gif\n",
            "Downloaded: gifs_temp/gif_4184.gif\n"
          ]
        },
        {
          "output_type": "stream",
          "name": "stderr",
          "text": [
            "\rProcessing GIFs:  62%|██████▏   | 623/1000 [04:56<03:55,  1.60it/s]"
          ]
        },
        {
          "output_type": "stream",
          "name": "stdout",
          "text": [
            "Deleted: gifs_temp/gif_4184.gif\n"
          ]
        },
        {
          "output_type": "stream",
          "name": "stderr",
          "text": [
            "\rProcessing GIFs:  62%|██████▏   | 624/1000 [04:57<03:38,  1.72it/s]"
          ]
        },
        {
          "output_type": "stream",
          "name": "stdout",
          "text": [
            "Downloaded: gifs_temp/gif_4049.gif\n",
            "Deleted: gifs_temp/gif_4049.gif\n"
          ]
        },
        {
          "output_type": "stream",
          "name": "stderr",
          "text": [
            "\rProcessing GIFs:  62%|██████▎   | 625/1000 [04:57<03:31,  1.77it/s]"
          ]
        },
        {
          "output_type": "stream",
          "name": "stdout",
          "text": [
            "Downloaded: gifs_temp/gif_67552.gif\n",
            "Deleted: gifs_temp/gif_67552.gif\n"
          ]
        },
        {
          "output_type": "stream",
          "name": "stderr",
          "text": [
            "\rProcessing GIFs:  63%|██████▎   | 626/1000 [04:58<03:11,  1.96it/s]"
          ]
        },
        {
          "output_type": "stream",
          "name": "stdout",
          "text": [
            "Downloaded: gifs_temp/gif_41603.gif\n",
            "Deleted: gifs_temp/gif_41603.gif\n"
          ]
        },
        {
          "output_type": "stream",
          "name": "stderr",
          "text": [
            "\rProcessing GIFs:  63%|██████▎   | 627/1000 [04:58<02:56,  2.11it/s]"
          ]
        },
        {
          "output_type": "stream",
          "name": "stdout",
          "text": [
            "Downloaded: gifs_temp/gif_115593.gif\n",
            "Deleted: gifs_temp/gif_115593.gif\n"
          ]
        },
        {
          "output_type": "stream",
          "name": "stderr",
          "text": [
            "\rProcessing GIFs:  63%|██████▎   | 628/1000 [04:59<02:54,  2.13it/s]"
          ]
        },
        {
          "output_type": "stream",
          "name": "stdout",
          "text": [
            "Downloaded: gifs_temp/gif_82827.gif\n",
            "Deleted: gifs_temp/gif_82827.gif\n"
          ]
        },
        {
          "output_type": "stream",
          "name": "stderr",
          "text": [
            "\rProcessing GIFs:  63%|██████▎   | 629/1000 [04:59<02:36,  2.37it/s]"
          ]
        },
        {
          "output_type": "stream",
          "name": "stdout",
          "text": [
            "Downloaded: gifs_temp/gif_39929.gif\n",
            "Deleted: gifs_temp/gif_39929.gif\n"
          ]
        },
        {
          "output_type": "stream",
          "name": "stderr",
          "text": [
            "\rProcessing GIFs:  63%|██████▎   | 630/1000 [04:59<02:28,  2.49it/s]"
          ]
        },
        {
          "output_type": "stream",
          "name": "stdout",
          "text": [
            "Downloaded: gifs_temp/gif_61428.gif\n",
            "Deleted: gifs_temp/gif_61428.gif\n"
          ]
        },
        {
          "output_type": "stream",
          "name": "stderr",
          "text": [
            "\rProcessing GIFs:  63%|██████▎   | 631/1000 [05:00<02:25,  2.54it/s]"
          ]
        },
        {
          "output_type": "stream",
          "name": "stdout",
          "text": [
            "Downloaded: gifs_temp/gif_58310.gif\n",
            "Deleted: gifs_temp/gif_58310.gif\n"
          ]
        },
        {
          "output_type": "stream",
          "name": "stderr",
          "text": [
            "\rProcessing GIFs:  63%|██████▎   | 632/1000 [05:00<02:29,  2.47it/s]"
          ]
        },
        {
          "output_type": "stream",
          "name": "stdout",
          "text": [
            "Downloaded: gifs_temp/gif_16439.gif\n",
            "Deleted: gifs_temp/gif_16439.gif\n"
          ]
        },
        {
          "output_type": "stream",
          "name": "stderr",
          "text": [
            "\rProcessing GIFs:  63%|██████▎   | 633/1000 [05:01<02:31,  2.43it/s]"
          ]
        },
        {
          "output_type": "stream",
          "name": "stdout",
          "text": [
            "Downloaded: gifs_temp/gif_64074.gif\n",
            "Deleted: gifs_temp/gif_64074.gif\n"
          ]
        },
        {
          "output_type": "stream",
          "name": "stderr",
          "text": [
            "\rProcessing GIFs:  63%|██████▎   | 634/1000 [05:01<02:32,  2.41it/s]"
          ]
        },
        {
          "output_type": "stream",
          "name": "stdout",
          "text": [
            "Downloaded: gifs_temp/gif_89066.gif\n",
            "Deleted: gifs_temp/gif_89066.gif\n"
          ]
        },
        {
          "output_type": "stream",
          "name": "stderr",
          "text": [
            "\rProcessing GIFs:  64%|██████▎   | 635/1000 [05:01<02:31,  2.40it/s]"
          ]
        },
        {
          "output_type": "stream",
          "name": "stdout",
          "text": [
            "Downloaded: gifs_temp/gif_73568.gif\n",
            "Deleted: gifs_temp/gif_73568.gif\n"
          ]
        },
        {
          "output_type": "stream",
          "name": "stderr",
          "text": [
            "\rProcessing GIFs:  64%|██████▎   | 636/1000 [05:02<02:20,  2.58it/s]"
          ]
        },
        {
          "output_type": "stream",
          "name": "stdout",
          "text": [
            "Downloaded: gifs_temp/gif_72009.gif\n",
            "Deleted: gifs_temp/gif_72009.gif\n"
          ]
        },
        {
          "output_type": "stream",
          "name": "stderr",
          "text": [
            "\rProcessing GIFs:  64%|██████▎   | 637/1000 [05:02<02:19,  2.61it/s]"
          ]
        },
        {
          "output_type": "stream",
          "name": "stdout",
          "text": [
            "Downloaded: gifs_temp/gif_92997.gif\n",
            "Deleted: gifs_temp/gif_92997.gif\n"
          ]
        },
        {
          "output_type": "stream",
          "name": "stderr",
          "text": [
            "\rProcessing GIFs:  64%|██████▍   | 638/1000 [05:02<02:22,  2.54it/s]"
          ]
        },
        {
          "output_type": "stream",
          "name": "stdout",
          "text": [
            "Downloaded: gifs_temp/gif_97958.gif\n",
            "Deleted: gifs_temp/gif_97958.gif\n"
          ]
        },
        {
          "output_type": "stream",
          "name": "stderr",
          "text": [
            "\rProcessing GIFs:  64%|██████▍   | 639/1000 [05:03<02:25,  2.48it/s]"
          ]
        },
        {
          "output_type": "stream",
          "name": "stdout",
          "text": [
            "Downloaded: gifs_temp/gif_46286.gif\n",
            "Deleted: gifs_temp/gif_46286.gif\n"
          ]
        },
        {
          "output_type": "stream",
          "name": "stderr",
          "text": [
            "\rProcessing GIFs:  64%|██████▍   | 640/1000 [05:03<02:21,  2.55it/s]"
          ]
        },
        {
          "output_type": "stream",
          "name": "stdout",
          "text": [
            "Downloaded: gifs_temp/gif_110860.gif\n",
            "Deleted: gifs_temp/gif_110860.gif\n"
          ]
        },
        {
          "output_type": "stream",
          "name": "stderr",
          "text": [
            "\rProcessing GIFs:  64%|██████▍   | 641/1000 [05:04<02:26,  2.46it/s]"
          ]
        },
        {
          "output_type": "stream",
          "name": "stdout",
          "text": [
            "Downloaded: gifs_temp/gif_73085.gif\n",
            "Deleted: gifs_temp/gif_73085.gif\n"
          ]
        },
        {
          "output_type": "stream",
          "name": "stderr",
          "text": [
            "\rProcessing GIFs:  64%|██████▍   | 642/1000 [05:04<02:27,  2.43it/s]"
          ]
        },
        {
          "output_type": "stream",
          "name": "stdout",
          "text": [
            "Downloaded: gifs_temp/gif_62156.gif\n",
            "Deleted: gifs_temp/gif_62156.gif\n"
          ]
        },
        {
          "output_type": "stream",
          "name": "stderr",
          "text": [
            "\rProcessing GIFs:  64%|██████▍   | 643/1000 [05:04<02:17,  2.60it/s]"
          ]
        },
        {
          "output_type": "stream",
          "name": "stdout",
          "text": [
            "Downloaded: gifs_temp/gif_40515.gif\n",
            "Deleted: gifs_temp/gif_40515.gif\n"
          ]
        },
        {
          "output_type": "stream",
          "name": "stderr",
          "text": [
            "\rProcessing GIFs:  64%|██████▍   | 644/1000 [05:05<02:31,  2.35it/s]"
          ]
        },
        {
          "output_type": "stream",
          "name": "stdout",
          "text": [
            "Downloaded: gifs_temp/gif_67594.gif\n",
            "Deleted: gifs_temp/gif_67594.gif\n"
          ]
        },
        {
          "output_type": "stream",
          "name": "stderr",
          "text": [
            "\rProcessing GIFs:  64%|██████▍   | 645/1000 [05:05<02:24,  2.45it/s]"
          ]
        },
        {
          "output_type": "stream",
          "name": "stdout",
          "text": [
            "Downloaded: gifs_temp/gif_108186.gif\n",
            "Deleted: gifs_temp/gif_108186.gif\n"
          ]
        },
        {
          "output_type": "stream",
          "name": "stderr",
          "text": [
            "\rProcessing GIFs:  65%|██████▍   | 646/1000 [05:06<02:25,  2.44it/s]"
          ]
        },
        {
          "output_type": "stream",
          "name": "stdout",
          "text": [
            "Downloaded: gifs_temp/gif_29281.gif\n",
            "Deleted: gifs_temp/gif_29281.gif\n"
          ]
        },
        {
          "output_type": "stream",
          "name": "stderr",
          "text": [
            "\rProcessing GIFs:  65%|██████▍   | 647/1000 [05:06<02:21,  2.49it/s]"
          ]
        },
        {
          "output_type": "stream",
          "name": "stdout",
          "text": [
            "Downloaded: gifs_temp/gif_115705.gif\n",
            "Deleted: gifs_temp/gif_115705.gif\n"
          ]
        },
        {
          "output_type": "stream",
          "name": "stderr",
          "text": [
            "\rProcessing GIFs:  65%|██████▍   | 648/1000 [05:07<02:36,  2.24it/s]"
          ]
        },
        {
          "output_type": "stream",
          "name": "stdout",
          "text": [
            "Downloaded: gifs_temp/gif_91169.gif\n",
            "Deleted: gifs_temp/gif_91169.gif\n"
          ]
        },
        {
          "output_type": "stream",
          "name": "stderr",
          "text": [
            "\rProcessing GIFs:  65%|██████▍   | 649/1000 [05:07<02:28,  2.36it/s]"
          ]
        },
        {
          "output_type": "stream",
          "name": "stdout",
          "text": [
            "Downloaded: gifs_temp/gif_109046.gif\n",
            "Deleted: gifs_temp/gif_109046.gif\n"
          ]
        },
        {
          "output_type": "stream",
          "name": "stderr",
          "text": [
            "\rProcessing GIFs:  65%|██████▌   | 650/1000 [05:07<02:20,  2.50it/s]"
          ]
        },
        {
          "output_type": "stream",
          "name": "stdout",
          "text": [
            "Downloaded: gifs_temp/gif_57717.gif\n",
            "Deleted: gifs_temp/gif_57717.gif\n"
          ]
        },
        {
          "output_type": "stream",
          "name": "stderr",
          "text": [
            "\rProcessing GIFs:  65%|██████▌   | 651/1000 [05:08<02:25,  2.40it/s]"
          ]
        },
        {
          "output_type": "stream",
          "name": "stdout",
          "text": [
            "Downloaded: gifs_temp/gif_84846.gif\n",
            "Deleted: gifs_temp/gif_84846.gif\n",
            "Downloaded: gifs_temp/gif_23208.gif\n"
          ]
        },
        {
          "output_type": "stream",
          "name": "stderr",
          "text": [
            "\rProcessing GIFs:  65%|██████▌   | 652/1000 [05:08<02:43,  2.12it/s]"
          ]
        },
        {
          "output_type": "stream",
          "name": "stdout",
          "text": [
            "Deleted: gifs_temp/gif_23208.gif\n"
          ]
        },
        {
          "output_type": "stream",
          "name": "stderr",
          "text": [
            "\rProcessing GIFs:  65%|██████▌   | 653/1000 [05:09<02:35,  2.23it/s]"
          ]
        },
        {
          "output_type": "stream",
          "name": "stdout",
          "text": [
            "Downloaded: gifs_temp/gif_113339.gif\n",
            "Deleted: gifs_temp/gif_113339.gif\n"
          ]
        },
        {
          "output_type": "stream",
          "name": "stderr",
          "text": [
            "\rProcessing GIFs:  65%|██████▌   | 654/1000 [05:09<02:36,  2.21it/s]"
          ]
        },
        {
          "output_type": "stream",
          "name": "stdout",
          "text": [
            "Downloaded: gifs_temp/gif_17755.gif\n",
            "Deleted: gifs_temp/gif_17755.gif\n"
          ]
        },
        {
          "output_type": "stream",
          "name": "stderr",
          "text": [
            "\rProcessing GIFs:  66%|██████▌   | 655/1000 [05:10<02:40,  2.15it/s]"
          ]
        },
        {
          "output_type": "stream",
          "name": "stdout",
          "text": [
            "Downloaded: gifs_temp/gif_53637.gif\n",
            "Deleted: gifs_temp/gif_53637.gif\n"
          ]
        },
        {
          "output_type": "stream",
          "name": "stderr",
          "text": [
            "\rProcessing GIFs:  66%|██████▌   | 656/1000 [05:10<02:38,  2.17it/s]"
          ]
        },
        {
          "output_type": "stream",
          "name": "stdout",
          "text": [
            "Downloaded: gifs_temp/gif_71602.gif\n",
            "Deleted: gifs_temp/gif_71602.gif\n"
          ]
        },
        {
          "output_type": "stream",
          "name": "stderr",
          "text": [
            "\rProcessing GIFs:  66%|██████▌   | 657/1000 [05:11<02:28,  2.31it/s]"
          ]
        },
        {
          "output_type": "stream",
          "name": "stdout",
          "text": [
            "Downloaded: gifs_temp/gif_40252.gif\n",
            "Deleted: gifs_temp/gif_40252.gif\n"
          ]
        },
        {
          "output_type": "stream",
          "name": "stderr",
          "text": [
            "\rProcessing GIFs:  66%|██████▌   | 658/1000 [05:11<02:26,  2.33it/s]"
          ]
        },
        {
          "output_type": "stream",
          "name": "stdout",
          "text": [
            "Downloaded: gifs_temp/gif_80782.gif\n",
            "Deleted: gifs_temp/gif_80782.gif\n"
          ]
        },
        {
          "output_type": "stream",
          "name": "stderr",
          "text": [
            "\rProcessing GIFs:  66%|██████▌   | 659/1000 [05:11<02:25,  2.34it/s]"
          ]
        },
        {
          "output_type": "stream",
          "name": "stdout",
          "text": [
            "Downloaded: gifs_temp/gif_73234.gif\n",
            "Deleted: gifs_temp/gif_73234.gif\n"
          ]
        },
        {
          "output_type": "stream",
          "name": "stderr",
          "text": [
            "\rProcessing GIFs:  66%|██████▌   | 660/1000 [05:12<02:33,  2.21it/s]"
          ]
        },
        {
          "output_type": "stream",
          "name": "stdout",
          "text": [
            "Downloaded: gifs_temp/gif_62032.gif\n",
            "Deleted: gifs_temp/gif_62032.gif\n"
          ]
        },
        {
          "output_type": "stream",
          "name": "stderr",
          "text": [
            "\rProcessing GIFs:  66%|██████▌   | 661/1000 [05:13<03:12,  1.76it/s]"
          ]
        },
        {
          "output_type": "stream",
          "name": "stdout",
          "text": [
            "Downloaded: gifs_temp/gif_110594.gif\n",
            "Deleted: gifs_temp/gif_110594.gif\n"
          ]
        },
        {
          "output_type": "stream",
          "name": "stderr",
          "text": [
            "\rProcessing GIFs:  66%|██████▌   | 662/1000 [05:13<02:57,  1.91it/s]"
          ]
        },
        {
          "output_type": "stream",
          "name": "stdout",
          "text": [
            "Downloaded: gifs_temp/gif_63654.gif\n",
            "Deleted: gifs_temp/gif_63654.gif\n"
          ]
        },
        {
          "output_type": "stream",
          "name": "stderr",
          "text": [
            "\rProcessing GIFs:  66%|██████▋   | 663/1000 [05:14<03:18,  1.69it/s]"
          ]
        },
        {
          "output_type": "stream",
          "name": "stdout",
          "text": [
            "Downloaded: gifs_temp/gif_52784.gif\n",
            "Deleted: gifs_temp/gif_52784.gif\n"
          ]
        },
        {
          "output_type": "stream",
          "name": "stderr",
          "text": [
            "\rProcessing GIFs:  66%|██████▋   | 664/1000 [05:15<03:39,  1.53it/s]"
          ]
        },
        {
          "output_type": "stream",
          "name": "stdout",
          "text": [
            "Downloaded: gifs_temp/gif_34962.gif\n",
            "Deleted: gifs_temp/gif_34962.gif\n"
          ]
        },
        {
          "output_type": "stream",
          "name": "stderr",
          "text": [
            "\rProcessing GIFs:  66%|██████▋   | 665/1000 [05:15<03:16,  1.70it/s]"
          ]
        },
        {
          "output_type": "stream",
          "name": "stdout",
          "text": [
            "Downloaded: gifs_temp/gif_100315.gif\n",
            "Deleted: gifs_temp/gif_100315.gif\n"
          ]
        },
        {
          "output_type": "stream",
          "name": "stderr",
          "text": [
            "\rProcessing GIFs:  67%|██████▋   | 666/1000 [05:16<02:58,  1.87it/s]"
          ]
        },
        {
          "output_type": "stream",
          "name": "stdout",
          "text": [
            "Downloaded: gifs_temp/gif_8992.gif\n",
            "Deleted: gifs_temp/gif_8992.gif\n"
          ]
        },
        {
          "output_type": "stream",
          "name": "stderr",
          "text": [
            "\rProcessing GIFs:  67%|██████▋   | 667/1000 [05:16<02:47,  1.98it/s]"
          ]
        },
        {
          "output_type": "stream",
          "name": "stdout",
          "text": [
            "Downloaded: gifs_temp/gif_45622.gif\n",
            "Deleted: gifs_temp/gif_45622.gif\n"
          ]
        },
        {
          "output_type": "stream",
          "name": "stderr",
          "text": [
            "\rProcessing GIFs:  67%|██████▋   | 668/1000 [05:17<02:40,  2.06it/s]"
          ]
        },
        {
          "output_type": "stream",
          "name": "stdout",
          "text": [
            "Downloaded: gifs_temp/gif_100814.gif\n",
            "Deleted: gifs_temp/gif_100814.gif\n"
          ]
        },
        {
          "output_type": "stream",
          "name": "stderr",
          "text": [
            "\rProcessing GIFs:  67%|██████▋   | 669/1000 [05:17<02:31,  2.18it/s]"
          ]
        },
        {
          "output_type": "stream",
          "name": "stdout",
          "text": [
            "Downloaded: gifs_temp/gif_67587.gif\n",
            "Deleted: gifs_temp/gif_67587.gif\n"
          ]
        },
        {
          "output_type": "stream",
          "name": "stderr",
          "text": [
            "\rProcessing GIFs:  67%|██████▋   | 670/1000 [05:17<02:19,  2.37it/s]"
          ]
        },
        {
          "output_type": "stream",
          "name": "stdout",
          "text": [
            "Downloaded: gifs_temp/gif_16921.gif\n",
            "Deleted: gifs_temp/gif_16921.gif\n"
          ]
        },
        {
          "output_type": "stream",
          "name": "stderr",
          "text": [
            "\rProcessing GIFs:  67%|██████▋   | 671/1000 [05:18<02:29,  2.20it/s]"
          ]
        },
        {
          "output_type": "stream",
          "name": "stdout",
          "text": [
            "Downloaded: gifs_temp/gif_118341.gif\n",
            "Deleted: gifs_temp/gif_118341.gif\n"
          ]
        },
        {
          "output_type": "stream",
          "name": "stderr",
          "text": [
            "\rProcessing GIFs:  67%|██████▋   | 672/1000 [05:18<02:42,  2.02it/s]"
          ]
        },
        {
          "output_type": "stream",
          "name": "stdout",
          "text": [
            "Downloaded: gifs_temp/gif_88388.gif\n",
            "Deleted: gifs_temp/gif_88388.gif\n"
          ]
        },
        {
          "output_type": "stream",
          "name": "stderr",
          "text": [
            "\rProcessing GIFs:  67%|██████▋   | 673/1000 [05:19<02:36,  2.10it/s]"
          ]
        },
        {
          "output_type": "stream",
          "name": "stdout",
          "text": [
            "Downloaded: gifs_temp/gif_79334.gif\n",
            "Deleted: gifs_temp/gif_79334.gif\n"
          ]
        },
        {
          "output_type": "stream",
          "name": "stderr",
          "text": [
            "\rProcessing GIFs:  67%|██████▋   | 674/1000 [05:19<02:25,  2.24it/s]"
          ]
        },
        {
          "output_type": "stream",
          "name": "stdout",
          "text": [
            "Downloaded: gifs_temp/gif_25377.gif\n",
            "Deleted: gifs_temp/gif_25377.gif\n"
          ]
        },
        {
          "output_type": "stream",
          "name": "stderr",
          "text": [
            "\rProcessing GIFs:  68%|██████▊   | 675/1000 [05:20<02:20,  2.32it/s]"
          ]
        },
        {
          "output_type": "stream",
          "name": "stdout",
          "text": [
            "Downloaded: gifs_temp/gif_10611.gif\n",
            "Deleted: gifs_temp/gif_10611.gif\n"
          ]
        },
        {
          "output_type": "stream",
          "name": "stderr",
          "text": [
            "\rProcessing GIFs:  68%|██████▊   | 676/1000 [05:20<02:15,  2.40it/s]"
          ]
        },
        {
          "output_type": "stream",
          "name": "stdout",
          "text": [
            "Downloaded: gifs_temp/gif_103168.gif\n",
            "Deleted: gifs_temp/gif_103168.gif\n"
          ]
        },
        {
          "output_type": "stream",
          "name": "stderr",
          "text": [
            "\rProcessing GIFs:  68%|██████▊   | 677/1000 [05:20<02:22,  2.27it/s]"
          ]
        },
        {
          "output_type": "stream",
          "name": "stdout",
          "text": [
            "Downloaded: gifs_temp/gif_118836.gif\n",
            "Deleted: gifs_temp/gif_118836.gif\n"
          ]
        },
        {
          "output_type": "stream",
          "name": "stderr",
          "text": [
            "\rProcessing GIFs:  68%|██████▊   | 678/1000 [05:21<02:21,  2.28it/s]"
          ]
        },
        {
          "output_type": "stream",
          "name": "stdout",
          "text": [
            "Downloaded: gifs_temp/gif_105390.gif\n",
            "Deleted: gifs_temp/gif_105390.gif\n"
          ]
        },
        {
          "output_type": "stream",
          "name": "stderr",
          "text": [
            "\rProcessing GIFs:  68%|██████▊   | 679/1000 [05:21<02:31,  2.12it/s]"
          ]
        },
        {
          "output_type": "stream",
          "name": "stdout",
          "text": [
            "Downloaded: gifs_temp/gif_28248.gif\n",
            "Deleted: gifs_temp/gif_28248.gif\n"
          ]
        },
        {
          "output_type": "stream",
          "name": "stderr",
          "text": [
            "\rProcessing GIFs:  68%|██████▊   | 680/1000 [05:22<02:25,  2.20it/s]"
          ]
        },
        {
          "output_type": "stream",
          "name": "stdout",
          "text": [
            "Downloaded: gifs_temp/gif_116573.gif\n",
            "Deleted: gifs_temp/gif_116573.gif\n"
          ]
        },
        {
          "output_type": "stream",
          "name": "stderr",
          "text": [
            "\rProcessing GIFs:  68%|██████▊   | 681/1000 [05:22<02:26,  2.17it/s]"
          ]
        },
        {
          "output_type": "stream",
          "name": "stdout",
          "text": [
            "Downloaded: gifs_temp/gif_9107.gif\n",
            "Deleted: gifs_temp/gif_9107.gif\n"
          ]
        },
        {
          "output_type": "stream",
          "name": "stderr",
          "text": [
            "\rProcessing GIFs:  68%|██████▊   | 682/1000 [05:23<02:23,  2.22it/s]"
          ]
        },
        {
          "output_type": "stream",
          "name": "stdout",
          "text": [
            "Downloaded: gifs_temp/gif_94755.gif\n",
            "Deleted: gifs_temp/gif_94755.gif\n"
          ]
        },
        {
          "output_type": "stream",
          "name": "stderr",
          "text": [
            "\rProcessing GIFs:  68%|██████▊   | 683/1000 [05:23<02:24,  2.20it/s]"
          ]
        },
        {
          "output_type": "stream",
          "name": "stdout",
          "text": [
            "Downloaded: gifs_temp/gif_96437.gif\n",
            "Deleted: gifs_temp/gif_96437.gif\n"
          ]
        },
        {
          "output_type": "stream",
          "name": "stderr",
          "text": [
            "\rProcessing GIFs:  68%|██████▊   | 684/1000 [05:24<02:18,  2.29it/s]"
          ]
        },
        {
          "output_type": "stream",
          "name": "stdout",
          "text": [
            "Downloaded: gifs_temp/gif_27749.gif\n",
            "Deleted: gifs_temp/gif_27749.gif\n"
          ]
        },
        {
          "output_type": "stream",
          "name": "stderr",
          "text": [
            "\rProcessing GIFs:  68%|██████▊   | 685/1000 [05:24<02:17,  2.29it/s]"
          ]
        },
        {
          "output_type": "stream",
          "name": "stdout",
          "text": [
            "Downloaded: gifs_temp/gif_93481.gif\n",
            "Deleted: gifs_temp/gif_93481.gif\n"
          ]
        },
        {
          "output_type": "stream",
          "name": "stderr",
          "text": [
            "\rProcessing GIFs:  69%|██████▊   | 686/1000 [05:24<02:12,  2.37it/s]"
          ]
        },
        {
          "output_type": "stream",
          "name": "stdout",
          "text": [
            "Downloaded: gifs_temp/gif_101713.gif\n",
            "Deleted: gifs_temp/gif_101713.gif\n"
          ]
        },
        {
          "output_type": "stream",
          "name": "stderr",
          "text": [
            "\rProcessing GIFs:  69%|██████▊   | 687/1000 [05:25<02:08,  2.43it/s]"
          ]
        },
        {
          "output_type": "stream",
          "name": "stdout",
          "text": [
            "Downloaded: gifs_temp/gif_74931.gif\n",
            "Deleted: gifs_temp/gif_74931.gif\n"
          ]
        },
        {
          "output_type": "stream",
          "name": "stderr",
          "text": [
            "\rProcessing GIFs:  69%|██████▉   | 688/1000 [05:25<02:11,  2.37it/s]"
          ]
        },
        {
          "output_type": "stream",
          "name": "stdout",
          "text": [
            "Downloaded: gifs_temp/gif_57329.gif\n",
            "Deleted: gifs_temp/gif_57329.gif\n"
          ]
        },
        {
          "output_type": "stream",
          "name": "stderr",
          "text": [
            "\rProcessing GIFs:  69%|██████▉   | 689/1000 [05:26<02:19,  2.24it/s]"
          ]
        },
        {
          "output_type": "stream",
          "name": "stdout",
          "text": [
            "Downloaded: gifs_temp/gif_70905.gif\n",
            "Deleted: gifs_temp/gif_70905.gif\n"
          ]
        },
        {
          "output_type": "stream",
          "name": "stderr",
          "text": [
            "\rProcessing GIFs:  69%|██████▉   | 690/1000 [05:26<02:14,  2.31it/s]"
          ]
        },
        {
          "output_type": "stream",
          "name": "stdout",
          "text": [
            "Downloaded: gifs_temp/gif_59503.gif\n",
            "Deleted: gifs_temp/gif_59503.gif\n"
          ]
        },
        {
          "output_type": "stream",
          "name": "stderr",
          "text": [
            "\rProcessing GIFs:  69%|██████▉   | 691/1000 [05:27<02:06,  2.44it/s]"
          ]
        },
        {
          "output_type": "stream",
          "name": "stdout",
          "text": [
            "Downloaded: gifs_temp/gif_66323.gif\n",
            "Deleted: gifs_temp/gif_66323.gif\n"
          ]
        },
        {
          "output_type": "stream",
          "name": "stderr",
          "text": [
            "\rProcessing GIFs:  69%|██████▉   | 692/1000 [05:27<02:02,  2.52it/s]"
          ]
        },
        {
          "output_type": "stream",
          "name": "stdout",
          "text": [
            "Downloaded: gifs_temp/gif_108952.gif\n",
            "Deleted: gifs_temp/gif_108952.gif\n"
          ]
        },
        {
          "output_type": "stream",
          "name": "stderr",
          "text": [
            "\rProcessing GIFs:  69%|██████▉   | 693/1000 [05:28<02:31,  2.02it/s]"
          ]
        },
        {
          "output_type": "stream",
          "name": "stdout",
          "text": [
            "Downloaded: gifs_temp/gif_96742.gif\n",
            "Deleted: gifs_temp/gif_96742.gif\n"
          ]
        },
        {
          "output_type": "stream",
          "name": "stderr",
          "text": [
            "\rProcessing GIFs:  69%|██████▉   | 694/1000 [05:28<03:01,  1.68it/s]"
          ]
        },
        {
          "output_type": "stream",
          "name": "stdout",
          "text": [
            "Downloaded: gifs_temp/gif_120698.gif\n",
            "Deleted: gifs_temp/gif_120698.gif\n"
          ]
        },
        {
          "output_type": "stream",
          "name": "stderr",
          "text": [
            "\rProcessing GIFs:  70%|██████▉   | 695/1000 [05:29<02:55,  1.73it/s]"
          ]
        },
        {
          "output_type": "stream",
          "name": "stdout",
          "text": [
            "Downloaded: gifs_temp/gif_67164.gif\n",
            "Deleted: gifs_temp/gif_67164.gif\n"
          ]
        },
        {
          "output_type": "stream",
          "name": "stderr",
          "text": [
            "\rProcessing GIFs:  70%|██████▉   | 696/1000 [05:29<02:35,  1.95it/s]"
          ]
        },
        {
          "output_type": "stream",
          "name": "stdout",
          "text": [
            "Downloaded: gifs_temp/gif_122187.gif\n",
            "Deleted: gifs_temp/gif_122187.gif\n"
          ]
        },
        {
          "output_type": "stream",
          "name": "stderr",
          "text": [
            "\rProcessing GIFs:  70%|██████▉   | 697/1000 [05:30<02:33,  1.98it/s]"
          ]
        },
        {
          "output_type": "stream",
          "name": "stdout",
          "text": [
            "Downloaded: gifs_temp/gif_39918.gif\n",
            "Deleted: gifs_temp/gif_39918.gif\n"
          ]
        },
        {
          "output_type": "stream",
          "name": "stderr",
          "text": [
            "\rProcessing GIFs:  70%|██████▉   | 698/1000 [05:30<02:25,  2.07it/s]"
          ]
        },
        {
          "output_type": "stream",
          "name": "stdout",
          "text": [
            "Downloaded: gifs_temp/gif_97303.gif\n",
            "Deleted: gifs_temp/gif_97303.gif\n"
          ]
        },
        {
          "output_type": "stream",
          "name": "stderr",
          "text": [
            "\rProcessing GIFs:  70%|██████▉   | 699/1000 [05:31<02:17,  2.19it/s]"
          ]
        },
        {
          "output_type": "stream",
          "name": "stdout",
          "text": [
            "Downloaded: gifs_temp/gif_119963.gif\n",
            "Deleted: gifs_temp/gif_119963.gif\n"
          ]
        },
        {
          "output_type": "stream",
          "name": "stderr",
          "text": [
            "\rProcessing GIFs:  70%|███████   | 700/1000 [05:31<02:11,  2.27it/s]"
          ]
        },
        {
          "output_type": "stream",
          "name": "stdout",
          "text": [
            "Downloaded: gifs_temp/gif_65490.gif\n",
            "Deleted: gifs_temp/gif_65490.gif\n"
          ]
        },
        {
          "output_type": "stream",
          "name": "stderr",
          "text": [
            "\rProcessing GIFs:  70%|███████   | 701/1000 [05:32<02:12,  2.25it/s]"
          ]
        },
        {
          "output_type": "stream",
          "name": "stdout",
          "text": [
            "Downloaded: gifs_temp/gif_113139.gif\n",
            "Deleted: gifs_temp/gif_113139.gif\n"
          ]
        },
        {
          "output_type": "stream",
          "name": "stderr",
          "text": [
            "\rProcessing GIFs:  70%|███████   | 702/1000 [05:32<02:13,  2.23it/s]"
          ]
        },
        {
          "output_type": "stream",
          "name": "stdout",
          "text": [
            "Downloaded: gifs_temp/gif_33421.gif\n",
            "Deleted: gifs_temp/gif_33421.gif\n"
          ]
        },
        {
          "output_type": "stream",
          "name": "stderr",
          "text": [
            "\rProcessing GIFs:  70%|███████   | 703/1000 [05:32<02:00,  2.46it/s]"
          ]
        },
        {
          "output_type": "stream",
          "name": "stdout",
          "text": [
            "Downloaded: gifs_temp/gif_10639.gif\n",
            "Deleted: gifs_temp/gif_10639.gif\n"
          ]
        },
        {
          "output_type": "stream",
          "name": "stderr",
          "text": [
            "\rProcessing GIFs:  70%|███████   | 704/1000 [05:33<02:00,  2.45it/s]"
          ]
        },
        {
          "output_type": "stream",
          "name": "stdout",
          "text": [
            "Downloaded: gifs_temp/gif_17356.gif\n",
            "Deleted: gifs_temp/gif_17356.gif\n"
          ]
        },
        {
          "output_type": "stream",
          "name": "stderr",
          "text": [
            "\rProcessing GIFs:  70%|███████   | 705/1000 [05:33<01:59,  2.47it/s]"
          ]
        },
        {
          "output_type": "stream",
          "name": "stdout",
          "text": [
            "Downloaded: gifs_temp/gif_26190.gif\n",
            "Deleted: gifs_temp/gif_26190.gif\n"
          ]
        },
        {
          "output_type": "stream",
          "name": "stderr",
          "text": [
            "\rProcessing GIFs:  71%|███████   | 706/1000 [05:34<02:04,  2.36it/s]"
          ]
        },
        {
          "output_type": "stream",
          "name": "stdout",
          "text": [
            "Downloaded: gifs_temp/gif_69479.gif\n",
            "Deleted: gifs_temp/gif_69479.gif\n"
          ]
        },
        {
          "output_type": "stream",
          "name": "stderr",
          "text": [
            "\rProcessing GIFs:  71%|███████   | 707/1000 [05:34<02:02,  2.39it/s]"
          ]
        },
        {
          "output_type": "stream",
          "name": "stdout",
          "text": [
            "Downloaded: gifs_temp/gif_7359.gif\n",
            "Deleted: gifs_temp/gif_7359.gif\n"
          ]
        },
        {
          "output_type": "stream",
          "name": "stderr",
          "text": [
            "\rProcessing GIFs:  71%|███████   | 708/1000 [05:34<02:05,  2.33it/s]"
          ]
        },
        {
          "output_type": "stream",
          "name": "stdout",
          "text": [
            "Downloaded: gifs_temp/gif_50014.gif\n",
            "Deleted: gifs_temp/gif_50014.gif\n"
          ]
        },
        {
          "output_type": "stream",
          "name": "stderr",
          "text": [
            "\rProcessing GIFs:  71%|███████   | 709/1000 [05:35<01:57,  2.48it/s]"
          ]
        },
        {
          "output_type": "stream",
          "name": "stdout",
          "text": [
            "Downloaded: gifs_temp/gif_22907.gif\n",
            "Deleted: gifs_temp/gif_22907.gif\n"
          ]
        },
        {
          "output_type": "stream",
          "name": "stderr",
          "text": [
            "\rProcessing GIFs:  71%|███████   | 710/1000 [05:35<01:57,  2.47it/s]"
          ]
        },
        {
          "output_type": "stream",
          "name": "stdout",
          "text": [
            "Downloaded: gifs_temp/gif_17735.gif\n",
            "Deleted: gifs_temp/gif_17735.gif\n"
          ]
        },
        {
          "output_type": "stream",
          "name": "stderr",
          "text": [
            "\rProcessing GIFs:  71%|███████   | 711/1000 [05:36<02:03,  2.33it/s]"
          ]
        },
        {
          "output_type": "stream",
          "name": "stdout",
          "text": [
            "Downloaded: gifs_temp/gif_117111.gif\n",
            "Deleted: gifs_temp/gif_117111.gif\n"
          ]
        },
        {
          "output_type": "stream",
          "name": "stderr",
          "text": [
            "\rProcessing GIFs:  71%|███████   | 712/1000 [05:36<02:05,  2.29it/s]"
          ]
        },
        {
          "output_type": "stream",
          "name": "stdout",
          "text": [
            "Downloaded: gifs_temp/gif_68300.gif\n",
            "Deleted: gifs_temp/gif_68300.gif\n"
          ]
        },
        {
          "output_type": "stream",
          "name": "stderr",
          "text": [
            "\rProcessing GIFs:  71%|███████▏  | 713/1000 [05:36<02:00,  2.39it/s]"
          ]
        },
        {
          "output_type": "stream",
          "name": "stdout",
          "text": [
            "Downloaded: gifs_temp/gif_65510.gif\n",
            "Deleted: gifs_temp/gif_65510.gif\n"
          ]
        },
        {
          "output_type": "stream",
          "name": "stderr",
          "text": [
            "\rProcessing GIFs:  71%|███████▏  | 714/1000 [05:37<01:56,  2.46it/s]"
          ]
        },
        {
          "output_type": "stream",
          "name": "stdout",
          "text": [
            "Downloaded: gifs_temp/gif_46153.gif\n",
            "Deleted: gifs_temp/gif_46153.gif\n"
          ]
        },
        {
          "output_type": "stream",
          "name": "stderr",
          "text": [
            "\rProcessing GIFs:  72%|███████▏  | 715/1000 [05:37<01:52,  2.53it/s]"
          ]
        },
        {
          "output_type": "stream",
          "name": "stdout",
          "text": [
            "Downloaded: gifs_temp/gif_5593.gif\n",
            "Deleted: gifs_temp/gif_5593.gif\n"
          ]
        },
        {
          "output_type": "stream",
          "name": "stderr",
          "text": [
            "\rProcessing GIFs:  72%|███████▏  | 716/1000 [05:38<02:32,  1.86it/s]"
          ]
        },
        {
          "output_type": "stream",
          "name": "stdout",
          "text": [
            "Downloaded: gifs_temp/gif_56683.gif\n",
            "Deleted: gifs_temp/gif_56683.gif\n"
          ]
        },
        {
          "output_type": "stream",
          "name": "stderr",
          "text": [
            "\rProcessing GIFs:  72%|███████▏  | 717/1000 [05:38<02:20,  2.01it/s]"
          ]
        },
        {
          "output_type": "stream",
          "name": "stdout",
          "text": [
            "Downloaded: gifs_temp/gif_59704.gif\n",
            "Deleted: gifs_temp/gif_59704.gif\n"
          ]
        },
        {
          "output_type": "stream",
          "name": "stderr",
          "text": [
            "\rProcessing GIFs:  72%|███████▏  | 718/1000 [05:39<02:09,  2.19it/s]"
          ]
        },
        {
          "output_type": "stream",
          "name": "stdout",
          "text": [
            "Downloaded: gifs_temp/gif_121563.gif\n",
            "Deleted: gifs_temp/gif_121563.gif\n"
          ]
        },
        {
          "output_type": "stream",
          "name": "stderr",
          "text": [
            "\rProcessing GIFs:  72%|███████▏  | 719/1000 [05:39<02:04,  2.27it/s]"
          ]
        },
        {
          "output_type": "stream",
          "name": "stdout",
          "text": [
            "Downloaded: gifs_temp/gif_17143.gif\n",
            "Deleted: gifs_temp/gif_17143.gif\n"
          ]
        },
        {
          "output_type": "stream",
          "name": "stderr",
          "text": [
            "\rProcessing GIFs:  72%|███████▏  | 720/1000 [05:40<02:00,  2.33it/s]"
          ]
        },
        {
          "output_type": "stream",
          "name": "stdout",
          "text": [
            "Downloaded: gifs_temp/gif_32943.gif\n",
            "Deleted: gifs_temp/gif_32943.gif\n"
          ]
        },
        {
          "output_type": "stream",
          "name": "stderr",
          "text": [
            "\rProcessing GIFs:  72%|███████▏  | 721/1000 [05:40<01:54,  2.43it/s]"
          ]
        },
        {
          "output_type": "stream",
          "name": "stdout",
          "text": [
            "Downloaded: gifs_temp/gif_88882.gif\n",
            "Deleted: gifs_temp/gif_88882.gif\n"
          ]
        },
        {
          "output_type": "stream",
          "name": "stderr",
          "text": [
            "\rProcessing GIFs:  72%|███████▏  | 722/1000 [05:40<01:51,  2.49it/s]"
          ]
        },
        {
          "output_type": "stream",
          "name": "stdout",
          "text": [
            "Downloaded: gifs_temp/gif_54390.gif\n",
            "Deleted: gifs_temp/gif_54390.gif\n"
          ]
        },
        {
          "output_type": "stream",
          "name": "stderr",
          "text": [
            "\rProcessing GIFs:  72%|███████▏  | 723/1000 [05:41<02:00,  2.29it/s]"
          ]
        },
        {
          "output_type": "stream",
          "name": "stdout",
          "text": [
            "Downloaded: gifs_temp/gif_21363.gif\n",
            "Deleted: gifs_temp/gif_21363.gif\n"
          ]
        },
        {
          "output_type": "stream",
          "name": "stderr",
          "text": [
            "\rProcessing GIFs:  72%|███████▏  | 724/1000 [05:41<01:58,  2.34it/s]"
          ]
        },
        {
          "output_type": "stream",
          "name": "stdout",
          "text": [
            "Downloaded: gifs_temp/gif_46801.gif\n",
            "Deleted: gifs_temp/gif_46801.gif\n"
          ]
        },
        {
          "output_type": "stream",
          "name": "stderr",
          "text": [
            "\rProcessing GIFs:  72%|███████▎  | 725/1000 [05:42<01:54,  2.41it/s]"
          ]
        },
        {
          "output_type": "stream",
          "name": "stdout",
          "text": [
            "Downloaded: gifs_temp/gif_121297.gif\n",
            "Deleted: gifs_temp/gif_121297.gif\n"
          ]
        },
        {
          "output_type": "stream",
          "name": "stderr",
          "text": [
            "\rProcessing GIFs:  73%|███████▎  | 726/1000 [05:42<01:53,  2.41it/s]"
          ]
        },
        {
          "output_type": "stream",
          "name": "stdout",
          "text": [
            "Downloaded: gifs_temp/gif_13332.gif\n",
            "Deleted: gifs_temp/gif_13332.gif\n"
          ]
        },
        {
          "output_type": "stream",
          "name": "stderr",
          "text": [
            "\rProcessing GIFs:  73%|███████▎  | 727/1000 [05:43<01:52,  2.42it/s]"
          ]
        },
        {
          "output_type": "stream",
          "name": "stdout",
          "text": [
            "Downloaded: gifs_temp/gif_75106.gif\n",
            "Deleted: gifs_temp/gif_75106.gif\n"
          ]
        },
        {
          "output_type": "stream",
          "name": "stderr",
          "text": [
            "\rProcessing GIFs:  73%|███████▎  | 728/1000 [05:43<01:50,  2.45it/s]"
          ]
        },
        {
          "output_type": "stream",
          "name": "stdout",
          "text": [
            "Downloaded: gifs_temp/gif_72484.gif\n",
            "Deleted: gifs_temp/gif_72484.gif\n"
          ]
        },
        {
          "output_type": "stream",
          "name": "stderr",
          "text": [
            "\rProcessing GIFs:  73%|███████▎  | 729/1000 [05:43<01:55,  2.34it/s]"
          ]
        },
        {
          "output_type": "stream",
          "name": "stdout",
          "text": [
            "Downloaded: gifs_temp/gif_111679.gif\n",
            "Deleted: gifs_temp/gif_111679.gif\n"
          ]
        },
        {
          "output_type": "stream",
          "name": "stderr",
          "text": [
            "\rProcessing GIFs:  73%|███████▎  | 730/1000 [05:44<01:52,  2.40it/s]"
          ]
        },
        {
          "output_type": "stream",
          "name": "stdout",
          "text": [
            "Downloaded: gifs_temp/gif_89347.gif\n",
            "Deleted: gifs_temp/gif_89347.gif\n"
          ]
        },
        {
          "output_type": "stream",
          "name": "stderr",
          "text": [
            "\rProcessing GIFs:  73%|███████▎  | 731/1000 [05:44<01:49,  2.46it/s]"
          ]
        },
        {
          "output_type": "stream",
          "name": "stdout",
          "text": [
            "Downloaded: gifs_temp/gif_72005.gif\n",
            "Deleted: gifs_temp/gif_72005.gif\n"
          ]
        },
        {
          "output_type": "stream",
          "name": "stderr",
          "text": [
            "\rProcessing GIFs:  73%|███████▎  | 732/1000 [05:45<01:49,  2.46it/s]"
          ]
        },
        {
          "output_type": "stream",
          "name": "stdout",
          "text": [
            "Downloaded: gifs_temp/gif_99728.gif\n",
            "Deleted: gifs_temp/gif_99728.gif\n"
          ]
        },
        {
          "output_type": "stream",
          "name": "stderr",
          "text": [
            "\rProcessing GIFs:  73%|███████▎  | 733/1000 [05:45<01:51,  2.39it/s]"
          ]
        },
        {
          "output_type": "stream",
          "name": "stdout",
          "text": [
            "Downloaded: gifs_temp/gif_31273.gif\n",
            "Deleted: gifs_temp/gif_31273.gif\n"
          ]
        },
        {
          "output_type": "stream",
          "name": "stderr",
          "text": [
            "\rProcessing GIFs:  73%|███████▎  | 734/1000 [05:46<02:05,  2.13it/s]"
          ]
        },
        {
          "output_type": "stream",
          "name": "stdout",
          "text": [
            "Downloaded: gifs_temp/gif_42926.gif\n",
            "Deleted: gifs_temp/gif_42926.gif\n"
          ]
        },
        {
          "output_type": "stream",
          "name": "stderr",
          "text": [
            "\rProcessing GIFs:  74%|███████▎  | 735/1000 [05:46<02:08,  2.06it/s]"
          ]
        },
        {
          "output_type": "stream",
          "name": "stdout",
          "text": [
            "Downloaded: gifs_temp/gif_22534.gif\n",
            "Deleted: gifs_temp/gif_22534.gif\n"
          ]
        },
        {
          "output_type": "stream",
          "name": "stderr",
          "text": [
            "\rProcessing GIFs:  74%|███████▎  | 736/1000 [05:47<02:09,  2.04it/s]"
          ]
        },
        {
          "output_type": "stream",
          "name": "stdout",
          "text": [
            "Downloaded: gifs_temp/gif_94126.gif\n",
            "Deleted: gifs_temp/gif_94126.gif\n"
          ]
        },
        {
          "output_type": "stream",
          "name": "stderr",
          "text": [
            "\rProcessing GIFs:  74%|███████▎  | 737/1000 [05:47<02:01,  2.17it/s]"
          ]
        },
        {
          "output_type": "stream",
          "name": "stdout",
          "text": [
            "Downloaded: gifs_temp/gif_91969.gif\n",
            "Deleted: gifs_temp/gif_91969.gif\n"
          ]
        },
        {
          "output_type": "stream",
          "name": "stderr",
          "text": [
            "\rProcessing GIFs:  74%|███████▍  | 738/1000 [05:47<01:59,  2.20it/s]"
          ]
        },
        {
          "output_type": "stream",
          "name": "stdout",
          "text": [
            "Downloaded: gifs_temp/gif_87943.gif\n",
            "Deleted: gifs_temp/gif_87943.gif\n"
          ]
        },
        {
          "output_type": "stream",
          "name": "stderr",
          "text": [
            "\rProcessing GIFs:  74%|███████▍  | 739/1000 [05:48<01:53,  2.30it/s]"
          ]
        },
        {
          "output_type": "stream",
          "name": "stdout",
          "text": [
            "Downloaded: gifs_temp/gif_61010.gif\n",
            "Deleted: gifs_temp/gif_61010.gif\n"
          ]
        },
        {
          "output_type": "stream",
          "name": "stderr",
          "text": [
            "\rProcessing GIFs:  74%|███████▍  | 740/1000 [05:48<01:57,  2.22it/s]"
          ]
        },
        {
          "output_type": "stream",
          "name": "stdout",
          "text": [
            "Downloaded: gifs_temp/gif_4810.gif\n",
            "Deleted: gifs_temp/gif_4810.gif\n"
          ]
        },
        {
          "output_type": "stream",
          "name": "stderr",
          "text": [
            "\rProcessing GIFs:  74%|███████▍  | 741/1000 [05:49<01:43,  2.51it/s]"
          ]
        },
        {
          "output_type": "stream",
          "name": "stdout",
          "text": [
            "Downloaded: gifs_temp/gif_15630.gif\n",
            "Deleted: gifs_temp/gif_15630.gif\n"
          ]
        },
        {
          "output_type": "stream",
          "name": "stderr",
          "text": [
            "\rProcessing GIFs:  74%|███████▍  | 742/1000 [05:50<02:42,  1.59it/s]"
          ]
        },
        {
          "output_type": "stream",
          "name": "stdout",
          "text": [
            "Downloaded: gifs_temp/gif_115300.gif\n",
            "Deleted: gifs_temp/gif_115300.gif\n"
          ]
        },
        {
          "output_type": "stream",
          "name": "stderr",
          "text": [
            "\rProcessing GIFs:  74%|███████▍  | 743/1000 [05:50<02:30,  1.71it/s]"
          ]
        },
        {
          "output_type": "stream",
          "name": "stdout",
          "text": [
            "Downloaded: gifs_temp/gif_16746.gif\n",
            "Deleted: gifs_temp/gif_16746.gif\n"
          ]
        },
        {
          "output_type": "stream",
          "name": "stderr",
          "text": [
            "\rProcessing GIFs:  74%|███████▍  | 744/1000 [05:51<02:15,  1.89it/s]"
          ]
        },
        {
          "output_type": "stream",
          "name": "stdout",
          "text": [
            "Downloaded: gifs_temp/gif_60963.gif\n",
            "Deleted: gifs_temp/gif_60963.gif\n"
          ]
        },
        {
          "output_type": "stream",
          "name": "stderr",
          "text": [
            "\rProcessing GIFs:  74%|███████▍  | 745/1000 [05:51<02:06,  2.02it/s]"
          ]
        },
        {
          "output_type": "stream",
          "name": "stdout",
          "text": [
            "Downloaded: gifs_temp/gif_104292.gif\n",
            "Deleted: gifs_temp/gif_104292.gif\n"
          ]
        },
        {
          "output_type": "stream",
          "name": "stderr",
          "text": [
            "\rProcessing GIFs:  75%|███████▍  | 746/1000 [05:51<01:50,  2.29it/s]"
          ]
        },
        {
          "output_type": "stream",
          "name": "stdout",
          "text": [
            "Downloaded: gifs_temp/gif_125564.gif\n",
            "Deleted: gifs_temp/gif_125564.gif\n"
          ]
        },
        {
          "output_type": "stream",
          "name": "stderr",
          "text": [
            "\rProcessing GIFs:  75%|███████▍  | 747/1000 [05:52<01:51,  2.27it/s]"
          ]
        },
        {
          "output_type": "stream",
          "name": "stdout",
          "text": [
            "Downloaded: gifs_temp/gif_89215.gif\n",
            "Deleted: gifs_temp/gif_89215.gif\n"
          ]
        },
        {
          "output_type": "stream",
          "name": "stderr",
          "text": [
            "\rProcessing GIFs:  75%|███████▍  | 748/1000 [05:52<01:57,  2.15it/s]"
          ]
        },
        {
          "output_type": "stream",
          "name": "stdout",
          "text": [
            "Downloaded: gifs_temp/gif_44831.gif\n",
            "Deleted: gifs_temp/gif_44831.gif\n"
          ]
        },
        {
          "output_type": "stream",
          "name": "stderr",
          "text": [
            "\rProcessing GIFs:  75%|███████▍  | 749/1000 [05:53<01:50,  2.27it/s]"
          ]
        },
        {
          "output_type": "stream",
          "name": "stdout",
          "text": [
            "Downloaded: gifs_temp/gif_27036.gif\n",
            "Deleted: gifs_temp/gif_27036.gif\n"
          ]
        },
        {
          "output_type": "stream",
          "name": "stderr",
          "text": [
            "\rProcessing GIFs:  75%|███████▌  | 750/1000 [05:53<01:45,  2.36it/s]"
          ]
        },
        {
          "output_type": "stream",
          "name": "stdout",
          "text": [
            "Downloaded: gifs_temp/gif_17432.gif\n",
            "Deleted: gifs_temp/gif_17432.gif\n"
          ]
        },
        {
          "output_type": "stream",
          "name": "stderr",
          "text": [
            "\rProcessing GIFs:  75%|███████▌  | 751/1000 [05:54<02:20,  1.77it/s]"
          ]
        },
        {
          "output_type": "stream",
          "name": "stdout",
          "text": [
            "Downloaded: gifs_temp/gif_111362.gif\n",
            "Deleted: gifs_temp/gif_111362.gif\n"
          ]
        },
        {
          "output_type": "stream",
          "name": "stderr",
          "text": [
            "\rProcessing GIFs:  75%|███████▌  | 752/1000 [05:54<02:08,  1.93it/s]"
          ]
        },
        {
          "output_type": "stream",
          "name": "stdout",
          "text": [
            "Downloaded: gifs_temp/gif_47037.gif\n",
            "Deleted: gifs_temp/gif_47037.gif\n"
          ]
        },
        {
          "output_type": "stream",
          "name": "stderr",
          "text": [
            "\rProcessing GIFs:  75%|███████▌  | 753/1000 [05:55<01:57,  2.10it/s]"
          ]
        },
        {
          "output_type": "stream",
          "name": "stdout",
          "text": [
            "Downloaded: gifs_temp/gif_68551.gif\n",
            "Deleted: gifs_temp/gif_68551.gif\n"
          ]
        },
        {
          "output_type": "stream",
          "name": "stderr",
          "text": [
            "\rProcessing GIFs:  75%|███████▌  | 754/1000 [05:55<01:53,  2.16it/s]"
          ]
        },
        {
          "output_type": "stream",
          "name": "stdout",
          "text": [
            "Downloaded: gifs_temp/gif_44353.gif\n",
            "Deleted: gifs_temp/gif_44353.gif\n"
          ]
        },
        {
          "output_type": "stream",
          "name": "stderr",
          "text": [
            "\rProcessing GIFs:  76%|███████▌  | 755/1000 [05:56<01:47,  2.28it/s]"
          ]
        },
        {
          "output_type": "stream",
          "name": "stdout",
          "text": [
            "Downloaded: gifs_temp/gif_62894.gif\n",
            "Deleted: gifs_temp/gif_62894.gif\n"
          ]
        },
        {
          "output_type": "stream",
          "name": "stderr",
          "text": [
            "\rProcessing GIFs:  76%|███████▌  | 756/1000 [05:56<01:40,  2.42it/s]"
          ]
        },
        {
          "output_type": "stream",
          "name": "stdout",
          "text": [
            "Downloaded: gifs_temp/gif_113408.gif\n",
            "Deleted: gifs_temp/gif_113408.gif\n"
          ]
        },
        {
          "output_type": "stream",
          "name": "stderr",
          "text": [
            "\rProcessing GIFs:  76%|███████▌  | 757/1000 [05:56<01:42,  2.37it/s]"
          ]
        },
        {
          "output_type": "stream",
          "name": "stdout",
          "text": [
            "Downloaded: gifs_temp/gif_49571.gif\n",
            "Deleted: gifs_temp/gif_49571.gif\n"
          ]
        },
        {
          "output_type": "stream",
          "name": "stderr",
          "text": [
            "\rProcessing GIFs:  76%|███████▌  | 758/1000 [05:57<01:43,  2.33it/s]"
          ]
        },
        {
          "output_type": "stream",
          "name": "stdout",
          "text": [
            "Downloaded: gifs_temp/gif_33071.gif\n",
            "Deleted: gifs_temp/gif_33071.gif\n"
          ]
        },
        {
          "output_type": "stream",
          "name": "stderr",
          "text": [
            "\rProcessing GIFs:  76%|███████▌  | 759/1000 [05:57<01:38,  2.46it/s]"
          ]
        },
        {
          "output_type": "stream",
          "name": "stdout",
          "text": [
            "Downloaded: gifs_temp/gif_16777.gif\n",
            "Deleted: gifs_temp/gif_16777.gif\n"
          ]
        },
        {
          "output_type": "stream",
          "name": "stderr",
          "text": [
            "\rProcessing GIFs:  76%|███████▌  | 760/1000 [05:58<01:36,  2.49it/s]"
          ]
        },
        {
          "output_type": "stream",
          "name": "stdout",
          "text": [
            "Downloaded: gifs_temp/gif_35025.gif\n",
            "Deleted: gifs_temp/gif_35025.gif\n"
          ]
        },
        {
          "output_type": "stream",
          "name": "stderr",
          "text": [
            "\rProcessing GIFs:  76%|███████▌  | 761/1000 [05:58<01:38,  2.44it/s]"
          ]
        },
        {
          "output_type": "stream",
          "name": "stdout",
          "text": [
            "Downloaded: gifs_temp/gif_117985.gif\n",
            "Deleted: gifs_temp/gif_117985.gif\n"
          ]
        },
        {
          "output_type": "stream",
          "name": "stderr",
          "text": [
            "\rProcessing GIFs:  76%|███████▌  | 762/1000 [05:58<01:33,  2.54it/s]"
          ]
        },
        {
          "output_type": "stream",
          "name": "stdout",
          "text": [
            "Downloaded: gifs_temp/gif_52687.gif\n",
            "Deleted: gifs_temp/gif_52687.gif\n"
          ]
        },
        {
          "output_type": "stream",
          "name": "stderr",
          "text": [
            "\rProcessing GIFs:  76%|███████▋  | 763/1000 [05:59<01:35,  2.49it/s]"
          ]
        },
        {
          "output_type": "stream",
          "name": "stdout",
          "text": [
            "Downloaded: gifs_temp/gif_113289.gif\n",
            "Deleted: gifs_temp/gif_113289.gif\n"
          ]
        },
        {
          "output_type": "stream",
          "name": "stderr",
          "text": [
            "\rProcessing GIFs:  76%|███████▋  | 764/1000 [05:59<01:29,  2.64it/s]"
          ]
        },
        {
          "output_type": "stream",
          "name": "stdout",
          "text": [
            "Downloaded: gifs_temp/gif_113851.gif\n",
            "Deleted: gifs_temp/gif_113851.gif\n"
          ]
        },
        {
          "output_type": "stream",
          "name": "stderr",
          "text": [
            "\rProcessing GIFs:  76%|███████▋  | 765/1000 [06:00<01:38,  2.37it/s]"
          ]
        },
        {
          "output_type": "stream",
          "name": "stdout",
          "text": [
            "Downloaded: gifs_temp/gif_87354.gif\n",
            "Deleted: gifs_temp/gif_87354.gif\n"
          ]
        },
        {
          "output_type": "stream",
          "name": "stderr",
          "text": [
            "\rProcessing GIFs:  77%|███████▋  | 766/1000 [06:00<01:36,  2.42it/s]"
          ]
        },
        {
          "output_type": "stream",
          "name": "stdout",
          "text": [
            "Downloaded: gifs_temp/gif_117054.gif\n",
            "Deleted: gifs_temp/gif_117054.gif\n"
          ]
        },
        {
          "output_type": "stream",
          "name": "stderr",
          "text": [
            "\rProcessing GIFs:  77%|███████▋  | 767/1000 [06:01<01:38,  2.37it/s]"
          ]
        },
        {
          "output_type": "stream",
          "name": "stdout",
          "text": [
            "Downloaded: gifs_temp/gif_103587.gif\n",
            "Deleted: gifs_temp/gif_103587.gif\n"
          ]
        },
        {
          "output_type": "stream",
          "name": "stderr",
          "text": [
            "\rProcessing GIFs:  77%|███████▋  | 768/1000 [06:01<01:39,  2.34it/s]"
          ]
        },
        {
          "output_type": "stream",
          "name": "stdout",
          "text": [
            "Downloaded: gifs_temp/gif_65836.gif\n",
            "Deleted: gifs_temp/gif_65836.gif\n"
          ]
        },
        {
          "output_type": "stream",
          "name": "stderr",
          "text": [
            "\rProcessing GIFs:  77%|███████▋  | 769/1000 [06:01<01:42,  2.26it/s]"
          ]
        },
        {
          "output_type": "stream",
          "name": "stdout",
          "text": [
            "Downloaded: gifs_temp/gif_113870.gif\n",
            "Deleted: gifs_temp/gif_113870.gif\n"
          ]
        },
        {
          "output_type": "stream",
          "name": "stderr",
          "text": [
            "\rProcessing GIFs:  77%|███████▋  | 770/1000 [06:02<01:40,  2.29it/s]"
          ]
        },
        {
          "output_type": "stream",
          "name": "stdout",
          "text": [
            "Downloaded: gifs_temp/gif_17798.gif\n",
            "Deleted: gifs_temp/gif_17798.gif\n"
          ]
        },
        {
          "output_type": "stream",
          "name": "stderr",
          "text": [
            "\rProcessing GIFs:  77%|███████▋  | 771/1000 [06:02<01:44,  2.18it/s]"
          ]
        },
        {
          "output_type": "stream",
          "name": "stdout",
          "text": [
            "Downloaded: gifs_temp/gif_75983.gif\n",
            "Deleted: gifs_temp/gif_75983.gif\n"
          ]
        },
        {
          "output_type": "stream",
          "name": "stderr",
          "text": [
            "\rProcessing GIFs:  77%|███████▋  | 772/1000 [06:03<01:42,  2.22it/s]"
          ]
        },
        {
          "output_type": "stream",
          "name": "stdout",
          "text": [
            "Downloaded: gifs_temp/gif_102435.gif\n",
            "Deleted: gifs_temp/gif_102435.gif\n"
          ]
        },
        {
          "output_type": "stream",
          "name": "stderr",
          "text": [
            "\rProcessing GIFs:  77%|███████▋  | 773/1000 [06:03<01:40,  2.27it/s]"
          ]
        },
        {
          "output_type": "stream",
          "name": "stdout",
          "text": [
            "Downloaded: gifs_temp/gif_119728.gif\n",
            "Deleted: gifs_temp/gif_119728.gif\n"
          ]
        },
        {
          "output_type": "stream",
          "name": "stderr",
          "text": [
            "\rProcessing GIFs:  77%|███████▋  | 774/1000 [06:04<01:37,  2.32it/s]"
          ]
        },
        {
          "output_type": "stream",
          "name": "stdout",
          "text": [
            "Downloaded: gifs_temp/gif_69968.gif\n",
            "Deleted: gifs_temp/gif_69968.gif\n"
          ]
        },
        {
          "output_type": "stream",
          "name": "stderr",
          "text": [
            "\rProcessing GIFs:  78%|███████▊  | 775/1000 [06:04<01:54,  1.97it/s]"
          ]
        },
        {
          "output_type": "stream",
          "name": "stdout",
          "text": [
            "Downloaded: gifs_temp/gif_27255.gif\n",
            "Deleted: gifs_temp/gif_27255.gif\n"
          ]
        },
        {
          "output_type": "stream",
          "name": "stderr",
          "text": [
            "\rProcessing GIFs:  78%|███████▊  | 776/1000 [06:05<01:47,  2.09it/s]"
          ]
        },
        {
          "output_type": "stream",
          "name": "stdout",
          "text": [
            "Downloaded: gifs_temp/gif_4797.gif\n",
            "Deleted: gifs_temp/gif_4797.gif\n"
          ]
        },
        {
          "output_type": "stream",
          "name": "stderr",
          "text": [
            "\rProcessing GIFs:  78%|███████▊  | 777/1000 [06:05<01:37,  2.28it/s]"
          ]
        },
        {
          "output_type": "stream",
          "name": "stdout",
          "text": [
            "Downloaded: gifs_temp/gif_93776.gif\n",
            "Deleted: gifs_temp/gif_93776.gif\n"
          ]
        },
        {
          "output_type": "stream",
          "name": "stderr",
          "text": [
            "\rProcessing GIFs:  78%|███████▊  | 778/1000 [06:05<01:33,  2.36it/s]"
          ]
        },
        {
          "output_type": "stream",
          "name": "stdout",
          "text": [
            "Downloaded: gifs_temp/gif_57613.gif\n",
            "Deleted: gifs_temp/gif_57613.gif\n"
          ]
        },
        {
          "output_type": "stream",
          "name": "stderr",
          "text": [
            "\rProcessing GIFs:  78%|███████▊  | 779/1000 [06:06<01:30,  2.45it/s]"
          ]
        },
        {
          "output_type": "stream",
          "name": "stdout",
          "text": [
            "Downloaded: gifs_temp/gif_99963.gif\n",
            "Deleted: gifs_temp/gif_99963.gif\n"
          ]
        },
        {
          "output_type": "stream",
          "name": "stderr",
          "text": [
            "\rProcessing GIFs:  78%|███████▊  | 780/1000 [06:06<01:30,  2.44it/s]"
          ]
        },
        {
          "output_type": "stream",
          "name": "stdout",
          "text": [
            "Downloaded: gifs_temp/gif_123789.gif\n",
            "Deleted: gifs_temp/gif_123789.gif\n"
          ]
        },
        {
          "output_type": "stream",
          "name": "stderr",
          "text": [
            "\rProcessing GIFs:  78%|███████▊  | 781/1000 [06:07<01:36,  2.26it/s]"
          ]
        },
        {
          "output_type": "stream",
          "name": "stdout",
          "text": [
            "Downloaded: gifs_temp/gif_6957.gif\n",
            "Deleted: gifs_temp/gif_6957.gif\n"
          ]
        },
        {
          "output_type": "stream",
          "name": "stderr",
          "text": [
            "\rProcessing GIFs:  78%|███████▊  | 782/1000 [06:07<01:33,  2.33it/s]"
          ]
        },
        {
          "output_type": "stream",
          "name": "stdout",
          "text": [
            "Downloaded: gifs_temp/gif_1259.gif\n",
            "Deleted: gifs_temp/gif_1259.gif\n"
          ]
        },
        {
          "output_type": "stream",
          "name": "stderr",
          "text": [
            "\rProcessing GIFs:  78%|███████▊  | 783/1000 [06:08<01:36,  2.25it/s]"
          ]
        },
        {
          "output_type": "stream",
          "name": "stdout",
          "text": [
            "Downloaded: gifs_temp/gif_99236.gif\n",
            "Deleted: gifs_temp/gif_99236.gif\n"
          ]
        },
        {
          "output_type": "stream",
          "name": "stderr",
          "text": [
            "\rProcessing GIFs:  78%|███████▊  | 784/1000 [06:08<01:32,  2.34it/s]"
          ]
        },
        {
          "output_type": "stream",
          "name": "stdout",
          "text": [
            "Downloaded: gifs_temp/gif_122940.gif\n",
            "Deleted: gifs_temp/gif_122940.gif\n"
          ]
        },
        {
          "output_type": "stream",
          "name": "stderr",
          "text": [
            "\rProcessing GIFs:  78%|███████▊  | 785/1000 [06:09<01:54,  1.88it/s]"
          ]
        },
        {
          "output_type": "stream",
          "name": "stdout",
          "text": [
            "Downloaded: gifs_temp/gif_88472.gif\n",
            "Deleted: gifs_temp/gif_88472.gif\n"
          ]
        },
        {
          "output_type": "stream",
          "name": "stderr",
          "text": [
            "\rProcessing GIFs:  79%|███████▊  | 786/1000 [06:09<01:44,  2.05it/s]"
          ]
        },
        {
          "output_type": "stream",
          "name": "stdout",
          "text": [
            "Downloaded: gifs_temp/gif_4202.gif\n",
            "Deleted: gifs_temp/gif_4202.gif\n"
          ]
        },
        {
          "output_type": "stream",
          "name": "stderr",
          "text": [
            "\rProcessing GIFs:  79%|███████▊  | 787/1000 [06:10<02:10,  1.64it/s]"
          ]
        },
        {
          "output_type": "stream",
          "name": "stdout",
          "text": [
            "Downloaded: gifs_temp/gif_11894.gif\n",
            "Deleted: gifs_temp/gif_11894.gif\n"
          ]
        },
        {
          "output_type": "stream",
          "name": "stderr",
          "text": [
            "\rProcessing GIFs:  79%|███████▉  | 788/1000 [06:11<01:58,  1.79it/s]"
          ]
        },
        {
          "output_type": "stream",
          "name": "stdout",
          "text": [
            "Downloaded: gifs_temp/gif_19822.gif\n",
            "Deleted: gifs_temp/gif_19822.gif\n"
          ]
        },
        {
          "output_type": "stream",
          "name": "stderr",
          "text": [
            "\rProcessing GIFs:  79%|███████▉  | 789/1000 [06:11<01:47,  1.97it/s]"
          ]
        },
        {
          "output_type": "stream",
          "name": "stdout",
          "text": [
            "Downloaded: gifs_temp/gif_75489.gif\n",
            "Deleted: gifs_temp/gif_75489.gif\n"
          ]
        },
        {
          "output_type": "stream",
          "name": "stderr",
          "text": [
            "\rProcessing GIFs:  79%|███████▉  | 790/1000 [06:11<01:39,  2.11it/s]"
          ]
        },
        {
          "output_type": "stream",
          "name": "stdout",
          "text": [
            "Downloaded: gifs_temp/gif_54954.gif\n",
            "Deleted: gifs_temp/gif_54954.gif\n"
          ]
        },
        {
          "output_type": "stream",
          "name": "stderr",
          "text": [
            "\rProcessing GIFs:  79%|███████▉  | 791/1000 [06:12<01:37,  2.15it/s]"
          ]
        },
        {
          "output_type": "stream",
          "name": "stdout",
          "text": [
            "Downloaded: gifs_temp/gif_71800.gif\n",
            "Deleted: gifs_temp/gif_71800.gif\n"
          ]
        },
        {
          "output_type": "stream",
          "name": "stderr",
          "text": [
            "\rProcessing GIFs:  79%|███████▉  | 792/1000 [06:12<01:31,  2.26it/s]"
          ]
        },
        {
          "output_type": "stream",
          "name": "stdout",
          "text": [
            "Downloaded: gifs_temp/gif_101231.gif\n",
            "Deleted: gifs_temp/gif_101231.gif\n"
          ]
        },
        {
          "output_type": "stream",
          "name": "stderr",
          "text": [
            "\rProcessing GIFs:  79%|███████▉  | 793/1000 [06:12<01:25,  2.42it/s]"
          ]
        },
        {
          "output_type": "stream",
          "name": "stdout",
          "text": [
            "Downloaded: gifs_temp/gif_95454.gif\n",
            "Deleted: gifs_temp/gif_95454.gif\n",
            "Downloaded: gifs_temp/gif_44226.gif\n"
          ]
        },
        {
          "output_type": "stream",
          "name": "stderr",
          "text": [
            "\rProcessing GIFs:  79%|███████▉  | 794/1000 [06:13<01:35,  2.15it/s]"
          ]
        },
        {
          "output_type": "stream",
          "name": "stdout",
          "text": [
            "Deleted: gifs_temp/gif_44226.gif\n"
          ]
        },
        {
          "output_type": "stream",
          "name": "stderr",
          "text": [
            "\rProcessing GIFs:  80%|███████▉  | 795/1000 [06:13<01:33,  2.20it/s]"
          ]
        },
        {
          "output_type": "stream",
          "name": "stdout",
          "text": [
            "Downloaded: gifs_temp/gif_76909.gif\n",
            "Deleted: gifs_temp/gif_76909.gif\n"
          ]
        },
        {
          "output_type": "stream",
          "name": "stderr",
          "text": [
            "\rProcessing GIFs:  80%|███████▉  | 796/1000 [06:14<01:30,  2.26it/s]"
          ]
        },
        {
          "output_type": "stream",
          "name": "stdout",
          "text": [
            "Downloaded: gifs_temp/gif_35651.gif\n",
            "Deleted: gifs_temp/gif_35651.gif\n"
          ]
        },
        {
          "output_type": "stream",
          "name": "stderr",
          "text": [
            "\rProcessing GIFs:  80%|███████▉  | 797/1000 [06:14<01:29,  2.27it/s]"
          ]
        },
        {
          "output_type": "stream",
          "name": "stdout",
          "text": [
            "Downloaded: gifs_temp/gif_115469.gif\n",
            "Deleted: gifs_temp/gif_115469.gif\n",
            "Downloaded: gifs_temp/gif_1369.gif\n"
          ]
        },
        {
          "output_type": "stream",
          "name": "stderr",
          "text": [
            "\rProcessing GIFs:  80%|███████▉  | 798/1000 [06:15<01:37,  2.07it/s]"
          ]
        },
        {
          "output_type": "stream",
          "name": "stdout",
          "text": [
            "Deleted: gifs_temp/gif_1369.gif\n"
          ]
        },
        {
          "output_type": "stream",
          "name": "stderr",
          "text": [
            "\rProcessing GIFs:  80%|███████▉  | 799/1000 [06:15<01:36,  2.08it/s]"
          ]
        },
        {
          "output_type": "stream",
          "name": "stdout",
          "text": [
            "Downloaded: gifs_temp/gif_96978.gif\n",
            "Deleted: gifs_temp/gif_96978.gif\n"
          ]
        },
        {
          "output_type": "stream",
          "name": "stderr",
          "text": [
            "\rProcessing GIFs:  80%|████████  | 800/1000 [06:16<01:31,  2.19it/s]"
          ]
        },
        {
          "output_type": "stream",
          "name": "stdout",
          "text": [
            "Downloaded: gifs_temp/gif_99516.gif\n",
            "Deleted: gifs_temp/gif_99516.gif\n"
          ]
        },
        {
          "output_type": "stream",
          "name": "stderr",
          "text": [
            "\rProcessing GIFs:  80%|████████  | 801/1000 [06:16<01:28,  2.25it/s]"
          ]
        },
        {
          "output_type": "stream",
          "name": "stdout",
          "text": [
            "Downloaded: gifs_temp/gif_37979.gif\n",
            "Deleted: gifs_temp/gif_37979.gif\n"
          ]
        },
        {
          "output_type": "stream",
          "name": "stderr",
          "text": [
            "\rProcessing GIFs:  80%|████████  | 802/1000 [06:17<01:22,  2.40it/s]"
          ]
        },
        {
          "output_type": "stream",
          "name": "stdout",
          "text": [
            "Downloaded: gifs_temp/gif_40448.gif\n",
            "Deleted: gifs_temp/gif_40448.gif\n"
          ]
        },
        {
          "output_type": "stream",
          "name": "stderr",
          "text": [
            "\rProcessing GIFs:  80%|████████  | 803/1000 [06:17<01:20,  2.43it/s]"
          ]
        },
        {
          "output_type": "stream",
          "name": "stdout",
          "text": [
            "Downloaded: gifs_temp/gif_36470.gif\n",
            "Deleted: gifs_temp/gif_36470.gif\n"
          ]
        },
        {
          "output_type": "stream",
          "name": "stderr",
          "text": [
            "\rProcessing GIFs:  80%|████████  | 804/1000 [06:17<01:20,  2.43it/s]"
          ]
        },
        {
          "output_type": "stream",
          "name": "stdout",
          "text": [
            "Downloaded: gifs_temp/gif_72488.gif\n",
            "Deleted: gifs_temp/gif_72488.gif\n"
          ]
        },
        {
          "output_type": "stream",
          "name": "stderr",
          "text": [
            "\rProcessing GIFs:  80%|████████  | 805/1000 [06:18<01:21,  2.39it/s]"
          ]
        },
        {
          "output_type": "stream",
          "name": "stdout",
          "text": [
            "Downloaded: gifs_temp/gif_93860.gif\n",
            "Deleted: gifs_temp/gif_93860.gif\n"
          ]
        },
        {
          "output_type": "stream",
          "name": "stderr",
          "text": [
            "\rProcessing GIFs:  81%|████████  | 806/1000 [06:18<01:18,  2.47it/s]"
          ]
        },
        {
          "output_type": "stream",
          "name": "stdout",
          "text": [
            "Downloaded: gifs_temp/gif_101910.gif\n",
            "Deleted: gifs_temp/gif_101910.gif\n"
          ]
        },
        {
          "output_type": "stream",
          "name": "stderr",
          "text": [
            "\rProcessing GIFs:  81%|████████  | 807/1000 [06:19<01:23,  2.32it/s]"
          ]
        },
        {
          "output_type": "stream",
          "name": "stdout",
          "text": [
            "Downloaded: gifs_temp/gif_73168.gif\n",
            "Deleted: gifs_temp/gif_73168.gif\n"
          ]
        },
        {
          "output_type": "stream",
          "name": "stderr",
          "text": [
            "\rProcessing GIFs:  81%|████████  | 808/1000 [06:20<01:52,  1.70it/s]"
          ]
        },
        {
          "output_type": "stream",
          "name": "stdout",
          "text": [
            "Downloaded: gifs_temp/gif_27489.gif\n",
            "Deleted: gifs_temp/gif_27489.gif\n"
          ]
        },
        {
          "output_type": "stream",
          "name": "stderr",
          "text": [
            "\rProcessing GIFs:  81%|████████  | 809/1000 [06:20<01:48,  1.76it/s]"
          ]
        },
        {
          "output_type": "stream",
          "name": "stdout",
          "text": [
            "Downloaded: gifs_temp/gif_18545.gif\n",
            "Deleted: gifs_temp/gif_18545.gif\n"
          ]
        },
        {
          "output_type": "stream",
          "name": "stderr",
          "text": [
            "\rProcessing GIFs:  81%|████████  | 810/1000 [06:21<01:41,  1.88it/s]"
          ]
        },
        {
          "output_type": "stream",
          "name": "stdout",
          "text": [
            "Downloaded: gifs_temp/gif_60323.gif\n",
            "Deleted: gifs_temp/gif_60323.gif\n"
          ]
        },
        {
          "output_type": "stream",
          "name": "stderr",
          "text": [
            "\rProcessing GIFs:  81%|████████  | 811/1000 [06:21<01:27,  2.16it/s]"
          ]
        },
        {
          "output_type": "stream",
          "name": "stdout",
          "text": [
            "Downloaded: gifs_temp/gif_22168.gif\n",
            "Deleted: gifs_temp/gif_22168.gif\n"
          ]
        },
        {
          "output_type": "stream",
          "name": "stderr",
          "text": [
            "\rProcessing GIFs:  81%|████████  | 812/1000 [06:21<01:25,  2.21it/s]"
          ]
        },
        {
          "output_type": "stream",
          "name": "stdout",
          "text": [
            "Downloaded: gifs_temp/gif_100864.gif\n",
            "Deleted: gifs_temp/gif_100864.gif\n"
          ]
        },
        {
          "output_type": "stream",
          "name": "stderr",
          "text": [
            "\rProcessing GIFs:  81%|████████▏ | 813/1000 [06:22<01:23,  2.23it/s]"
          ]
        },
        {
          "output_type": "stream",
          "name": "stdout",
          "text": [
            "Downloaded: gifs_temp/gif_11340.gif\n",
            "Deleted: gifs_temp/gif_11340.gif\n"
          ]
        },
        {
          "output_type": "stream",
          "name": "stderr",
          "text": [
            "\rProcessing GIFs:  81%|████████▏ | 814/1000 [06:22<01:18,  2.38it/s]"
          ]
        },
        {
          "output_type": "stream",
          "name": "stdout",
          "text": [
            "Downloaded: gifs_temp/gif_55487.gif\n",
            "Deleted: gifs_temp/gif_55487.gif\n"
          ]
        },
        {
          "output_type": "stream",
          "name": "stderr",
          "text": [
            "\rProcessing GIFs:  82%|████████▏ | 815/1000 [06:23<01:15,  2.44it/s]"
          ]
        },
        {
          "output_type": "stream",
          "name": "stdout",
          "text": [
            "Downloaded: gifs_temp/gif_62323.gif\n",
            "Deleted: gifs_temp/gif_62323.gif\n"
          ]
        },
        {
          "output_type": "stream",
          "name": "stderr",
          "text": [
            "\rProcessing GIFs:  82%|████████▏ | 816/1000 [06:23<01:13,  2.49it/s]"
          ]
        },
        {
          "output_type": "stream",
          "name": "stdout",
          "text": [
            "Downloaded: gifs_temp/gif_37424.gif\n",
            "Deleted: gifs_temp/gif_37424.gif\n"
          ]
        },
        {
          "output_type": "stream",
          "name": "stderr",
          "text": [
            "\rProcessing GIFs:  82%|████████▏ | 817/1000 [06:23<01:13,  2.51it/s]"
          ]
        },
        {
          "output_type": "stream",
          "name": "stdout",
          "text": [
            "Downloaded: gifs_temp/gif_95819.gif\n",
            "Deleted: gifs_temp/gif_95819.gif\n"
          ]
        },
        {
          "output_type": "stream",
          "name": "stderr",
          "text": [
            "\rProcessing GIFs:  82%|████████▏ | 818/1000 [06:24<01:11,  2.54it/s]"
          ]
        },
        {
          "output_type": "stream",
          "name": "stdout",
          "text": [
            "Downloaded: gifs_temp/gif_29987.gif\n",
            "Deleted: gifs_temp/gif_29987.gif\n"
          ]
        },
        {
          "output_type": "stream",
          "name": "stderr",
          "text": [
            "\rProcessing GIFs:  82%|████████▏ | 819/1000 [06:24<01:11,  2.54it/s]"
          ]
        },
        {
          "output_type": "stream",
          "name": "stdout",
          "text": [
            "Downloaded: gifs_temp/gif_113973.gif\n",
            "Deleted: gifs_temp/gif_113973.gif\n"
          ]
        },
        {
          "output_type": "stream",
          "name": "stderr",
          "text": [
            "\rProcessing GIFs:  82%|████████▏ | 820/1000 [06:24<01:13,  2.45it/s]"
          ]
        },
        {
          "output_type": "stream",
          "name": "stdout",
          "text": [
            "Downloaded: gifs_temp/gif_23929.gif\n",
            "Deleted: gifs_temp/gif_23929.gif\n"
          ]
        },
        {
          "output_type": "stream",
          "name": "stderr",
          "text": [
            "\rProcessing GIFs:  82%|████████▏ | 821/1000 [06:25<01:07,  2.65it/s]"
          ]
        },
        {
          "output_type": "stream",
          "name": "stdout",
          "text": [
            "Downloaded: gifs_temp/gif_78754.gif\n",
            "Deleted: gifs_temp/gif_78754.gif\n",
            "Downloaded: gifs_temp/gif_90448.gif\n"
          ]
        },
        {
          "output_type": "stream",
          "name": "stderr",
          "text": [
            "\rProcessing GIFs:  82%|████████▏ | 822/1000 [06:26<01:29,  1.99it/s]"
          ]
        },
        {
          "output_type": "stream",
          "name": "stdout",
          "text": [
            "Deleted: gifs_temp/gif_90448.gif\n"
          ]
        },
        {
          "output_type": "stream",
          "name": "stderr",
          "text": [
            "\rProcessing GIFs:  82%|████████▏ | 823/1000 [06:26<01:24,  2.08it/s]"
          ]
        },
        {
          "output_type": "stream",
          "name": "stdout",
          "text": [
            "Downloaded: gifs_temp/gif_22061.gif\n",
            "Deleted: gifs_temp/gif_22061.gif\n"
          ]
        },
        {
          "output_type": "stream",
          "name": "stderr",
          "text": [
            "\rProcessing GIFs:  82%|████████▏ | 824/1000 [06:26<01:22,  2.13it/s]"
          ]
        },
        {
          "output_type": "stream",
          "name": "stdout",
          "text": [
            "Downloaded: gifs_temp/gif_93044.gif\n",
            "Deleted: gifs_temp/gif_93044.gif\n"
          ]
        },
        {
          "output_type": "stream",
          "name": "stderr",
          "text": [
            "\rProcessing GIFs:  82%|████████▎ | 825/1000 [06:27<01:25,  2.04it/s]"
          ]
        },
        {
          "output_type": "stream",
          "name": "stdout",
          "text": [
            "Downloaded: gifs_temp/gif_102243.gif\n",
            "Deleted: gifs_temp/gif_102243.gif\n"
          ]
        },
        {
          "output_type": "stream",
          "name": "stderr",
          "text": [
            "\rProcessing GIFs:  83%|████████▎ | 826/1000 [06:27<01:22,  2.12it/s]"
          ]
        },
        {
          "output_type": "stream",
          "name": "stdout",
          "text": [
            "Downloaded: gifs_temp/gif_55321.gif\n",
            "Deleted: gifs_temp/gif_55321.gif\n"
          ]
        },
        {
          "output_type": "stream",
          "name": "stderr",
          "text": [
            "\rProcessing GIFs:  83%|████████▎ | 827/1000 [06:28<01:17,  2.22it/s]"
          ]
        },
        {
          "output_type": "stream",
          "name": "stdout",
          "text": [
            "Downloaded: gifs_temp/gif_43223.gif\n",
            "Deleted: gifs_temp/gif_43223.gif\n"
          ]
        },
        {
          "output_type": "stream",
          "name": "stderr",
          "text": [
            "\rProcessing GIFs:  83%|████████▎ | 828/1000 [06:28<01:10,  2.44it/s]"
          ]
        },
        {
          "output_type": "stream",
          "name": "stdout",
          "text": [
            "Downloaded: gifs_temp/gif_3230.gif\n",
            "Deleted: gifs_temp/gif_3230.gif\n"
          ]
        },
        {
          "output_type": "stream",
          "name": "stderr",
          "text": [
            "\rProcessing GIFs:  83%|████████▎ | 829/1000 [06:29<01:14,  2.31it/s]"
          ]
        },
        {
          "output_type": "stream",
          "name": "stdout",
          "text": [
            "Downloaded: gifs_temp/gif_3026.gif\n",
            "Deleted: gifs_temp/gif_3026.gif\n"
          ]
        },
        {
          "output_type": "stream",
          "name": "stderr",
          "text": [
            "\rProcessing GIFs:  83%|████████▎ | 830/1000 [06:29<01:12,  2.34it/s]"
          ]
        },
        {
          "output_type": "stream",
          "name": "stdout",
          "text": [
            "Downloaded: gifs_temp/gif_67902.gif\n",
            "Deleted: gifs_temp/gif_67902.gif\n"
          ]
        },
        {
          "output_type": "stream",
          "name": "stderr",
          "text": [
            "\rProcessing GIFs:  83%|████████▎ | 831/1000 [06:29<01:09,  2.45it/s]"
          ]
        },
        {
          "output_type": "stream",
          "name": "stdout",
          "text": [
            "Downloaded: gifs_temp/gif_95420.gif\n",
            "Deleted: gifs_temp/gif_95420.gif\n"
          ]
        },
        {
          "output_type": "stream",
          "name": "stderr",
          "text": [
            "\rProcessing GIFs:  83%|████████▎ | 832/1000 [06:30<01:13,  2.29it/s]"
          ]
        },
        {
          "output_type": "stream",
          "name": "stdout",
          "text": [
            "Downloaded: gifs_temp/gif_60815.gif\n",
            "Deleted: gifs_temp/gif_60815.gif\n"
          ]
        },
        {
          "output_type": "stream",
          "name": "stderr",
          "text": [
            "\rProcessing GIFs:  83%|████████▎ | 833/1000 [06:31<01:40,  1.67it/s]"
          ]
        },
        {
          "output_type": "stream",
          "name": "stdout",
          "text": [
            "Downloaded: gifs_temp/gif_66455.gif\n",
            "Deleted: gifs_temp/gif_66455.gif\n"
          ]
        },
        {
          "output_type": "stream",
          "name": "stderr",
          "text": [
            "\rProcessing GIFs:  83%|████████▎ | 834/1000 [06:31<01:27,  1.90it/s]"
          ]
        },
        {
          "output_type": "stream",
          "name": "stdout",
          "text": [
            "Downloaded: gifs_temp/gif_86943.gif\n",
            "Deleted: gifs_temp/gif_86943.gif\n"
          ]
        },
        {
          "output_type": "stream",
          "name": "stderr",
          "text": [
            "\rProcessing GIFs:  84%|████████▎ | 835/1000 [06:32<01:32,  1.79it/s]"
          ]
        },
        {
          "output_type": "stream",
          "name": "stdout",
          "text": [
            "Downloaded: gifs_temp/gif_119496.gif\n",
            "Deleted: gifs_temp/gif_119496.gif\n"
          ]
        },
        {
          "output_type": "stream",
          "name": "stderr",
          "text": [
            "\rProcessing GIFs:  84%|████████▎ | 836/1000 [06:32<01:21,  2.01it/s]"
          ]
        },
        {
          "output_type": "stream",
          "name": "stdout",
          "text": [
            "Downloaded: gifs_temp/gif_120124.gif\n",
            "Deleted: gifs_temp/gif_120124.gif\n"
          ]
        },
        {
          "output_type": "stream",
          "name": "stderr",
          "text": [
            "\rProcessing GIFs:  84%|████████▎ | 837/1000 [06:33<01:25,  1.90it/s]"
          ]
        },
        {
          "output_type": "stream",
          "name": "stdout",
          "text": [
            "Downloaded: gifs_temp/gif_28656.gif\n",
            "Deleted: gifs_temp/gif_28656.gif\n"
          ]
        },
        {
          "output_type": "stream",
          "name": "stderr",
          "text": [
            "\rProcessing GIFs:  84%|████████▍ | 838/1000 [06:33<01:17,  2.08it/s]"
          ]
        },
        {
          "output_type": "stream",
          "name": "stdout",
          "text": [
            "Downloaded: gifs_temp/gif_19420.gif\n",
            "Deleted: gifs_temp/gif_19420.gif\n"
          ]
        },
        {
          "output_type": "stream",
          "name": "stderr",
          "text": [
            "\rProcessing GIFs:  84%|████████▍ | 839/1000 [06:34<01:16,  2.09it/s]"
          ]
        },
        {
          "output_type": "stream",
          "name": "stdout",
          "text": [
            "Downloaded: gifs_temp/gif_89236.gif\n",
            "Deleted: gifs_temp/gif_89236.gif\n"
          ]
        },
        {
          "output_type": "stream",
          "name": "stderr",
          "text": [
            "\rProcessing GIFs:  84%|████████▍ | 840/1000 [06:34<01:10,  2.25it/s]"
          ]
        },
        {
          "output_type": "stream",
          "name": "stdout",
          "text": [
            "Downloaded: gifs_temp/gif_74714.gif\n",
            "Deleted: gifs_temp/gif_74714.gif\n"
          ]
        },
        {
          "output_type": "stream",
          "name": "stderr",
          "text": [
            "\rProcessing GIFs:  84%|████████▍ | 841/1000 [06:34<01:05,  2.41it/s]"
          ]
        },
        {
          "output_type": "stream",
          "name": "stdout",
          "text": [
            "Downloaded: gifs_temp/gif_39326.gif\n",
            "Deleted: gifs_temp/gif_39326.gif\n"
          ]
        },
        {
          "output_type": "stream",
          "name": "stderr",
          "text": [
            "\rProcessing GIFs:  84%|████████▍ | 842/1000 [06:35<01:04,  2.44it/s]"
          ]
        },
        {
          "output_type": "stream",
          "name": "stdout",
          "text": [
            "Downloaded: gifs_temp/gif_41162.gif\n",
            "Deleted: gifs_temp/gif_41162.gif\n"
          ]
        },
        {
          "output_type": "stream",
          "name": "stderr",
          "text": [
            "\rProcessing GIFs:  84%|████████▍ | 843/1000 [06:35<01:08,  2.28it/s]"
          ]
        },
        {
          "output_type": "stream",
          "name": "stdout",
          "text": [
            "Downloaded: gifs_temp/gif_60202.gif\n",
            "Deleted: gifs_temp/gif_60202.gif\n"
          ]
        },
        {
          "output_type": "stream",
          "name": "stderr",
          "text": [
            "\rProcessing GIFs:  84%|████████▍ | 844/1000 [06:36<01:05,  2.38it/s]"
          ]
        },
        {
          "output_type": "stream",
          "name": "stdout",
          "text": [
            "Downloaded: gifs_temp/gif_92900.gif\n",
            "Deleted: gifs_temp/gif_92900.gif\n"
          ]
        },
        {
          "output_type": "stream",
          "name": "stderr",
          "text": [
            "\rProcessing GIFs:  84%|████████▍ | 845/1000 [06:36<01:21,  1.91it/s]"
          ]
        },
        {
          "output_type": "stream",
          "name": "stdout",
          "text": [
            "Downloaded: gifs_temp/gif_102638.gif\n",
            "Deleted: gifs_temp/gif_102638.gif\n"
          ]
        },
        {
          "output_type": "stream",
          "name": "stderr",
          "text": [
            "\rProcessing GIFs:  85%|████████▍ | 846/1000 [06:37<01:15,  2.03it/s]"
          ]
        },
        {
          "output_type": "stream",
          "name": "stdout",
          "text": [
            "Downloaded: gifs_temp/gif_20172.gif\n",
            "Deleted: gifs_temp/gif_20172.gif\n"
          ]
        },
        {
          "output_type": "stream",
          "name": "stderr",
          "text": [
            "\rProcessing GIFs:  85%|████████▍ | 847/1000 [06:37<01:10,  2.16it/s]"
          ]
        },
        {
          "output_type": "stream",
          "name": "stdout",
          "text": [
            "Downloaded: gifs_temp/gif_63781.gif\n",
            "Deleted: gifs_temp/gif_63781.gif\n"
          ]
        },
        {
          "output_type": "stream",
          "name": "stderr",
          "text": [
            "\rProcessing GIFs:  85%|████████▍ | 848/1000 [06:38<01:07,  2.26it/s]"
          ]
        },
        {
          "output_type": "stream",
          "name": "stdout",
          "text": [
            "Downloaded: gifs_temp/gif_93095.gif\n",
            "Deleted: gifs_temp/gif_93095.gif\n",
            "Downloaded: gifs_temp/gif_607.gif\n"
          ]
        },
        {
          "output_type": "stream",
          "name": "stderr",
          "text": [
            "\rProcessing GIFs:  85%|████████▍ | 849/1000 [06:38<01:12,  2.09it/s]"
          ]
        },
        {
          "output_type": "stream",
          "name": "stdout",
          "text": [
            "Deleted: gifs_temp/gif_607.gif\n"
          ]
        },
        {
          "output_type": "stream",
          "name": "stderr",
          "text": [
            "\rProcessing GIFs:  85%|████████▌ | 850/1000 [06:39<01:27,  1.71it/s]"
          ]
        },
        {
          "output_type": "stream",
          "name": "stdout",
          "text": [
            "Downloaded: gifs_temp/gif_120882.gif\n",
            "Deleted: gifs_temp/gif_120882.gif\n"
          ]
        },
        {
          "output_type": "stream",
          "name": "stderr",
          "text": [
            "\rProcessing GIFs:  85%|████████▌ | 851/1000 [06:40<01:24,  1.76it/s]"
          ]
        },
        {
          "output_type": "stream",
          "name": "stdout",
          "text": [
            "Downloaded: gifs_temp/gif_18608.gif\n",
            "Deleted: gifs_temp/gif_18608.gif\n"
          ]
        },
        {
          "output_type": "stream",
          "name": "stderr",
          "text": [
            "\rProcessing GIFs:  85%|████████▌ | 852/1000 [06:40<01:18,  1.89it/s]"
          ]
        },
        {
          "output_type": "stream",
          "name": "stdout",
          "text": [
            "Downloaded: gifs_temp/gif_122257.gif\n",
            "Deleted: gifs_temp/gif_122257.gif\n"
          ]
        },
        {
          "output_type": "stream",
          "name": "stderr",
          "text": [
            "\rProcessing GIFs:  85%|████████▌ | 853/1000 [06:40<01:13,  1.99it/s]"
          ]
        },
        {
          "output_type": "stream",
          "name": "stdout",
          "text": [
            "Downloaded: gifs_temp/gif_119265.gif\n",
            "Deleted: gifs_temp/gif_119265.gif\n"
          ]
        },
        {
          "output_type": "stream",
          "name": "stderr",
          "text": [
            "\rProcessing GIFs:  85%|████████▌ | 854/1000 [06:41<01:10,  2.09it/s]"
          ]
        },
        {
          "output_type": "stream",
          "name": "stdout",
          "text": [
            "Downloaded: gifs_temp/gif_83734.gif\n",
            "Deleted: gifs_temp/gif_83734.gif\n"
          ]
        },
        {
          "output_type": "stream",
          "name": "stderr",
          "text": [
            "\rProcessing GIFs:  86%|████████▌ | 855/1000 [06:41<01:06,  2.19it/s]"
          ]
        },
        {
          "output_type": "stream",
          "name": "stdout",
          "text": [
            "Downloaded: gifs_temp/gif_11256.gif\n",
            "Deleted: gifs_temp/gif_11256.gif\n"
          ]
        },
        {
          "output_type": "stream",
          "name": "stderr",
          "text": [
            "\rProcessing GIFs:  86%|████████▌ | 856/1000 [06:42<01:03,  2.27it/s]"
          ]
        },
        {
          "output_type": "stream",
          "name": "stdout",
          "text": [
            "Downloaded: gifs_temp/gif_106799.gif\n",
            "Deleted: gifs_temp/gif_106799.gif\n"
          ]
        },
        {
          "output_type": "stream",
          "name": "stderr",
          "text": [
            "\rProcessing GIFs:  86%|████████▌ | 857/1000 [06:42<00:56,  2.51it/s]"
          ]
        },
        {
          "output_type": "stream",
          "name": "stdout",
          "text": [
            "Downloaded: gifs_temp/gif_59669.gif\n",
            "Deleted: gifs_temp/gif_59669.gif\n"
          ]
        },
        {
          "output_type": "stream",
          "name": "stderr",
          "text": [
            "\rProcessing GIFs:  86%|████████▌ | 858/1000 [06:42<00:56,  2.52it/s]"
          ]
        },
        {
          "output_type": "stream",
          "name": "stdout",
          "text": [
            "Downloaded: gifs_temp/gif_89492.gif\n",
            "Deleted: gifs_temp/gif_89492.gif\n"
          ]
        },
        {
          "output_type": "stream",
          "name": "stderr",
          "text": [
            "\rProcessing GIFs:  86%|████████▌ | 859/1000 [06:43<00:55,  2.54it/s]"
          ]
        },
        {
          "output_type": "stream",
          "name": "stdout",
          "text": [
            "Downloaded: gifs_temp/gif_88405.gif\n",
            "Deleted: gifs_temp/gif_88405.gif\n"
          ]
        },
        {
          "output_type": "stream",
          "name": "stderr",
          "text": [
            "\rProcessing GIFs:  86%|████████▌ | 860/1000 [06:43<00:55,  2.53it/s]"
          ]
        },
        {
          "output_type": "stream",
          "name": "stdout",
          "text": [
            "Downloaded: gifs_temp/gif_18881.gif\n",
            "Deleted: gifs_temp/gif_18881.gif\n"
          ]
        },
        {
          "output_type": "stream",
          "name": "stderr",
          "text": [
            "\rProcessing GIFs:  86%|████████▌ | 861/1000 [06:44<00:58,  2.36it/s]"
          ]
        },
        {
          "output_type": "stream",
          "name": "stdout",
          "text": [
            "Downloaded: gifs_temp/gif_104735.gif\n",
            "Deleted: gifs_temp/gif_104735.gif\n"
          ]
        },
        {
          "output_type": "stream",
          "name": "stderr",
          "text": [
            "\rProcessing GIFs:  86%|████████▌ | 862/1000 [06:44<01:03,  2.16it/s]"
          ]
        },
        {
          "output_type": "stream",
          "name": "stdout",
          "text": [
            "Downloaded: gifs_temp/gif_94113.gif\n",
            "Deleted: gifs_temp/gif_94113.gif\n"
          ]
        },
        {
          "output_type": "stream",
          "name": "stderr",
          "text": [
            "\rProcessing GIFs:  86%|████████▋ | 863/1000 [06:45<01:05,  2.08it/s]"
          ]
        },
        {
          "output_type": "stream",
          "name": "stdout",
          "text": [
            "Downloaded: gifs_temp/gif_11648.gif\n",
            "Deleted: gifs_temp/gif_11648.gif\n"
          ]
        },
        {
          "output_type": "stream",
          "name": "stderr",
          "text": [
            "\rProcessing GIFs:  86%|████████▋ | 864/1000 [06:45<01:01,  2.22it/s]"
          ]
        },
        {
          "output_type": "stream",
          "name": "stdout",
          "text": [
            "Downloaded: gifs_temp/gif_9843.gif\n",
            "Deleted: gifs_temp/gif_9843.gif\n"
          ]
        },
        {
          "output_type": "stream",
          "name": "stderr",
          "text": [
            "\rProcessing GIFs:  86%|████████▋ | 865/1000 [06:45<00:56,  2.39it/s]"
          ]
        },
        {
          "output_type": "stream",
          "name": "stdout",
          "text": [
            "Downloaded: gifs_temp/gif_66299.gif\n",
            "Deleted: gifs_temp/gif_66299.gif\n"
          ]
        },
        {
          "output_type": "stream",
          "name": "stderr",
          "text": [
            "\rProcessing GIFs:  87%|████████▋ | 866/1000 [06:46<00:52,  2.54it/s]"
          ]
        },
        {
          "output_type": "stream",
          "name": "stdout",
          "text": [
            "Downloaded: gifs_temp/gif_116503.gif\n",
            "Deleted: gifs_temp/gif_116503.gif\n"
          ]
        },
        {
          "output_type": "stream",
          "name": "stderr",
          "text": [
            "\rProcessing GIFs:  87%|████████▋ | 867/1000 [06:46<00:54,  2.45it/s]"
          ]
        },
        {
          "output_type": "stream",
          "name": "stdout",
          "text": [
            "Downloaded: gifs_temp/gif_43887.gif\n",
            "Deleted: gifs_temp/gif_43887.gif\n"
          ]
        },
        {
          "output_type": "stream",
          "name": "stderr",
          "text": [
            "\rProcessing GIFs:  87%|████████▋ | 868/1000 [06:47<01:05,  2.01it/s]"
          ]
        },
        {
          "output_type": "stream",
          "name": "stdout",
          "text": [
            "Downloaded: gifs_temp/gif_117448.gif\n",
            "Deleted: gifs_temp/gif_117448.gif\n"
          ]
        },
        {
          "output_type": "stream",
          "name": "stderr",
          "text": [
            "\rProcessing GIFs:  87%|████████▋ | 869/1000 [06:47<01:01,  2.13it/s]"
          ]
        },
        {
          "output_type": "stream",
          "name": "stdout",
          "text": [
            "Downloaded: gifs_temp/gif_17709.gif\n",
            "Deleted: gifs_temp/gif_17709.gif\n"
          ]
        },
        {
          "output_type": "stream",
          "name": "stderr",
          "text": [
            "\rProcessing GIFs:  87%|████████▋ | 870/1000 [06:48<00:55,  2.33it/s]"
          ]
        },
        {
          "output_type": "stream",
          "name": "stdout",
          "text": [
            "Downloaded: gifs_temp/gif_37659.gif\n",
            "Deleted: gifs_temp/gif_37659.gif\n"
          ]
        },
        {
          "output_type": "stream",
          "name": "stderr",
          "text": [
            "\rProcessing GIFs:  87%|████████▋ | 871/1000 [06:48<00:54,  2.38it/s]"
          ]
        },
        {
          "output_type": "stream",
          "name": "stdout",
          "text": [
            "Downloaded: gifs_temp/gif_38188.gif\n",
            "Deleted: gifs_temp/gif_38188.gif\n"
          ]
        },
        {
          "output_type": "stream",
          "name": "stderr",
          "text": [
            "\rProcessing GIFs:  87%|████████▋ | 872/1000 [06:48<00:52,  2.44it/s]"
          ]
        },
        {
          "output_type": "stream",
          "name": "stdout",
          "text": [
            "Downloaded: gifs_temp/gif_106732.gif\n",
            "Deleted: gifs_temp/gif_106732.gif\n"
          ]
        },
        {
          "output_type": "stream",
          "name": "stderr",
          "text": [
            "\rProcessing GIFs:  87%|████████▋ | 873/1000 [06:49<00:55,  2.30it/s]"
          ]
        },
        {
          "output_type": "stream",
          "name": "stdout",
          "text": [
            "Downloaded: gifs_temp/gif_28825.gif\n",
            "Deleted: gifs_temp/gif_28825.gif\n"
          ]
        },
        {
          "output_type": "stream",
          "name": "stderr",
          "text": [
            "\rProcessing GIFs:  87%|████████▋ | 874/1000 [06:49<00:54,  2.33it/s]"
          ]
        },
        {
          "output_type": "stream",
          "name": "stdout",
          "text": [
            "Downloaded: gifs_temp/gif_49470.gif\n",
            "Deleted: gifs_temp/gif_49470.gif\n"
          ]
        },
        {
          "output_type": "stream",
          "name": "stderr",
          "text": [
            "\rProcessing GIFs:  88%|████████▊ | 875/1000 [06:50<00:52,  2.36it/s]"
          ]
        },
        {
          "output_type": "stream",
          "name": "stdout",
          "text": [
            "Downloaded: gifs_temp/gif_74348.gif\n",
            "Deleted: gifs_temp/gif_74348.gif\n"
          ]
        },
        {
          "output_type": "stream",
          "name": "stderr",
          "text": [
            "\rProcessing GIFs:  88%|████████▊ | 876/1000 [06:50<00:52,  2.38it/s]"
          ]
        },
        {
          "output_type": "stream",
          "name": "stdout",
          "text": [
            "Downloaded: gifs_temp/gif_72194.gif\n",
            "Deleted: gifs_temp/gif_72194.gif\n"
          ]
        },
        {
          "output_type": "stream",
          "name": "stderr",
          "text": [
            "\rProcessing GIFs:  88%|████████▊ | 877/1000 [06:51<00:49,  2.48it/s]"
          ]
        },
        {
          "output_type": "stream",
          "name": "stdout",
          "text": [
            "Downloaded: gifs_temp/gif_112521.gif\n",
            "Deleted: gifs_temp/gif_112521.gif\n"
          ]
        },
        {
          "output_type": "stream",
          "name": "stderr",
          "text": [
            "\rProcessing GIFs:  88%|████████▊ | 878/1000 [06:51<00:48,  2.51it/s]"
          ]
        },
        {
          "output_type": "stream",
          "name": "stdout",
          "text": [
            "Downloaded: gifs_temp/gif_49776.gif\n",
            "Deleted: gifs_temp/gif_49776.gif\n"
          ]
        },
        {
          "output_type": "stream",
          "name": "stderr",
          "text": [
            "\rProcessing GIFs:  88%|████████▊ | 879/1000 [06:51<00:52,  2.32it/s]"
          ]
        },
        {
          "output_type": "stream",
          "name": "stdout",
          "text": [
            "Downloaded: gifs_temp/gif_81135.gif\n",
            "Deleted: gifs_temp/gif_81135.gif\n"
          ]
        },
        {
          "output_type": "stream",
          "name": "stderr",
          "text": [
            "\rProcessing GIFs:  88%|████████▊ | 880/1000 [06:52<00:54,  2.20it/s]"
          ]
        },
        {
          "output_type": "stream",
          "name": "stdout",
          "text": [
            "Downloaded: gifs_temp/gif_43485.gif\n",
            "Deleted: gifs_temp/gif_43485.gif\n"
          ]
        },
        {
          "output_type": "stream",
          "name": "stderr",
          "text": [
            "\rProcessing GIFs:  88%|████████▊ | 881/1000 [06:53<01:15,  1.57it/s]"
          ]
        },
        {
          "output_type": "stream",
          "name": "stdout",
          "text": [
            "Downloaded: gifs_temp/gif_38442.gif\n",
            "Deleted: gifs_temp/gif_38442.gif\n"
          ]
        },
        {
          "output_type": "stream",
          "name": "stderr",
          "text": [
            "\rProcessing GIFs:  88%|████████▊ | 882/1000 [06:53<01:08,  1.72it/s]"
          ]
        },
        {
          "output_type": "stream",
          "name": "stdout",
          "text": [
            "Downloaded: gifs_temp/gif_65869.gif\n",
            "Deleted: gifs_temp/gif_65869.gif\n"
          ]
        },
        {
          "output_type": "stream",
          "name": "stderr",
          "text": [
            "\rProcessing GIFs:  88%|████████▊ | 883/1000 [06:54<01:00,  1.92it/s]"
          ]
        },
        {
          "output_type": "stream",
          "name": "stdout",
          "text": [
            "Downloaded: gifs_temp/gif_73641.gif\n",
            "Deleted: gifs_temp/gif_73641.gif\n"
          ]
        },
        {
          "output_type": "stream",
          "name": "stderr",
          "text": [
            "\rProcessing GIFs:  88%|████████▊ | 884/1000 [06:54<01:00,  1.91it/s]"
          ]
        },
        {
          "output_type": "stream",
          "name": "stdout",
          "text": [
            "Downloaded: gifs_temp/gif_32238.gif\n",
            "Deleted: gifs_temp/gif_32238.gif\n"
          ]
        },
        {
          "output_type": "stream",
          "name": "stderr",
          "text": [
            "\rProcessing GIFs:  88%|████████▊ | 885/1000 [06:55<00:55,  2.06it/s]"
          ]
        },
        {
          "output_type": "stream",
          "name": "stdout",
          "text": [
            "Downloaded: gifs_temp/gif_124991.gif\n",
            "Deleted: gifs_temp/gif_124991.gif\n"
          ]
        },
        {
          "output_type": "stream",
          "name": "stderr",
          "text": [
            "\rProcessing GIFs:  89%|████████▊ | 886/1000 [06:55<00:50,  2.28it/s]"
          ]
        },
        {
          "output_type": "stream",
          "name": "stdout",
          "text": [
            "Downloaded: gifs_temp/gif_1262.gif\n",
            "Deleted: gifs_temp/gif_1262.gif\n"
          ]
        },
        {
          "output_type": "stream",
          "name": "stderr",
          "text": [
            "\rProcessing GIFs:  89%|████████▊ | 887/1000 [06:55<00:47,  2.37it/s]"
          ]
        },
        {
          "output_type": "stream",
          "name": "stdout",
          "text": [
            "Downloaded: gifs_temp/gif_77901.gif\n",
            "Deleted: gifs_temp/gif_77901.gif\n"
          ]
        },
        {
          "output_type": "stream",
          "name": "stderr",
          "text": [
            "\rProcessing GIFs:  89%|████████▉ | 888/1000 [06:56<00:50,  2.23it/s]"
          ]
        },
        {
          "output_type": "stream",
          "name": "stdout",
          "text": [
            "Downloaded: gifs_temp/gif_42401.gif\n",
            "Deleted: gifs_temp/gif_42401.gif\n"
          ]
        },
        {
          "output_type": "stream",
          "name": "stderr",
          "text": [
            "\rProcessing GIFs:  89%|████████▉ | 889/1000 [06:56<00:47,  2.33it/s]"
          ]
        },
        {
          "output_type": "stream",
          "name": "stdout",
          "text": [
            "Downloaded: gifs_temp/gif_55379.gif\n",
            "Deleted: gifs_temp/gif_55379.gif\n"
          ]
        },
        {
          "output_type": "stream",
          "name": "stderr",
          "text": [
            "\rProcessing GIFs:  89%|████████▉ | 890/1000 [06:57<00:45,  2.41it/s]"
          ]
        },
        {
          "output_type": "stream",
          "name": "stdout",
          "text": [
            "Downloaded: gifs_temp/gif_88116.gif\n",
            "Deleted: gifs_temp/gif_88116.gif\n"
          ]
        },
        {
          "output_type": "stream",
          "name": "stderr",
          "text": [
            "\rProcessing GIFs:  89%|████████▉ | 891/1000 [06:57<00:44,  2.44it/s]"
          ]
        },
        {
          "output_type": "stream",
          "name": "stdout",
          "text": [
            "Downloaded: gifs_temp/gif_28878.gif\n",
            "Deleted: gifs_temp/gif_28878.gif\n"
          ]
        },
        {
          "output_type": "stream",
          "name": "stderr",
          "text": [
            "\rProcessing GIFs:  89%|████████▉ | 892/1000 [06:58<00:43,  2.46it/s]"
          ]
        },
        {
          "output_type": "stream",
          "name": "stdout",
          "text": [
            "Downloaded: gifs_temp/gif_65075.gif\n",
            "Deleted: gifs_temp/gif_65075.gif\n"
          ]
        },
        {
          "output_type": "stream",
          "name": "stderr",
          "text": [
            "\rProcessing GIFs:  89%|████████▉ | 893/1000 [06:58<00:42,  2.49it/s]"
          ]
        },
        {
          "output_type": "stream",
          "name": "stdout",
          "text": [
            "Downloaded: gifs_temp/gif_66779.gif\n",
            "Deleted: gifs_temp/gif_66779.gif\n"
          ]
        },
        {
          "output_type": "stream",
          "name": "stderr",
          "text": [
            "\rProcessing GIFs:  89%|████████▉ | 894/1000 [06:58<00:41,  2.53it/s]"
          ]
        },
        {
          "output_type": "stream",
          "name": "stdout",
          "text": [
            "Downloaded: gifs_temp/gif_91213.gif\n",
            "Deleted: gifs_temp/gif_91213.gif\n"
          ]
        },
        {
          "output_type": "stream",
          "name": "stderr",
          "text": [
            "\rProcessing GIFs:  90%|████████▉ | 895/1000 [06:59<00:42,  2.50it/s]"
          ]
        },
        {
          "output_type": "stream",
          "name": "stdout",
          "text": [
            "Downloaded: gifs_temp/gif_84660.gif\n",
            "Deleted: gifs_temp/gif_84660.gif\n"
          ]
        },
        {
          "output_type": "stream",
          "name": "stderr",
          "text": [
            "\rProcessing GIFs:  90%|████████▉ | 896/1000 [06:59<00:41,  2.48it/s]"
          ]
        },
        {
          "output_type": "stream",
          "name": "stdout",
          "text": [
            "Downloaded: gifs_temp/gif_106188.gif\n",
            "Deleted: gifs_temp/gif_106188.gif\n"
          ]
        },
        {
          "output_type": "stream",
          "name": "stderr",
          "text": [
            "\rProcessing GIFs:  90%|████████▉ | 897/1000 [07:00<00:40,  2.54it/s]"
          ]
        },
        {
          "output_type": "stream",
          "name": "stdout",
          "text": [
            "Downloaded: gifs_temp/gif_117735.gif\n",
            "Deleted: gifs_temp/gif_117735.gif\n"
          ]
        },
        {
          "output_type": "stream",
          "name": "stderr",
          "text": [
            "\rProcessing GIFs:  90%|████████▉ | 898/1000 [07:00<00:40,  2.50it/s]"
          ]
        },
        {
          "output_type": "stream",
          "name": "stdout",
          "text": [
            "Downloaded: gifs_temp/gif_44459.gif\n",
            "Deleted: gifs_temp/gif_44459.gif\n"
          ]
        },
        {
          "output_type": "stream",
          "name": "stderr",
          "text": [
            "\rProcessing GIFs:  90%|████████▉ | 899/1000 [07:00<00:39,  2.54it/s]"
          ]
        },
        {
          "output_type": "stream",
          "name": "stdout",
          "text": [
            "Downloaded: gifs_temp/gif_100137.gif\n",
            "Deleted: gifs_temp/gif_100137.gif\n"
          ]
        },
        {
          "output_type": "stream",
          "name": "stderr",
          "text": [
            "\rProcessing GIFs:  90%|█████████ | 900/1000 [07:01<00:39,  2.50it/s]"
          ]
        },
        {
          "output_type": "stream",
          "name": "stdout",
          "text": [
            "Downloaded: gifs_temp/gif_112038.gif\n",
            "Deleted: gifs_temp/gif_112038.gif\n"
          ]
        },
        {
          "output_type": "stream",
          "name": "stderr",
          "text": [
            "\rProcessing GIFs:  90%|█████████ | 901/1000 [07:01<00:38,  2.56it/s]"
          ]
        },
        {
          "output_type": "stream",
          "name": "stdout",
          "text": [
            "Downloaded: gifs_temp/gif_36905.gif\n",
            "Deleted: gifs_temp/gif_36905.gif\n"
          ]
        },
        {
          "output_type": "stream",
          "name": "stderr",
          "text": [
            "\rProcessing GIFs:  90%|█████████ | 902/1000 [07:02<00:40,  2.44it/s]"
          ]
        },
        {
          "output_type": "stream",
          "name": "stdout",
          "text": [
            "Downloaded: gifs_temp/gif_101958.gif\n",
            "Deleted: gifs_temp/gif_101958.gif\n"
          ]
        },
        {
          "output_type": "stream",
          "name": "stderr",
          "text": [
            "\rProcessing GIFs:  90%|█████████ | 903/1000 [07:02<00:40,  2.39it/s]"
          ]
        },
        {
          "output_type": "stream",
          "name": "stdout",
          "text": [
            "Downloaded: gifs_temp/gif_123492.gif\n",
            "Deleted: gifs_temp/gif_123492.gif\n"
          ]
        },
        {
          "output_type": "stream",
          "name": "stderr",
          "text": [
            "\rProcessing GIFs:  90%|█████████ | 904/1000 [07:02<00:37,  2.57it/s]"
          ]
        },
        {
          "output_type": "stream",
          "name": "stdout",
          "text": [
            "Downloaded: gifs_temp/gif_57392.gif\n",
            "Deleted: gifs_temp/gif_57392.gif\n"
          ]
        },
        {
          "output_type": "stream",
          "name": "stderr",
          "text": [
            "\rProcessing GIFs:  90%|█████████ | 905/1000 [07:03<00:36,  2.59it/s]"
          ]
        },
        {
          "output_type": "stream",
          "name": "stdout",
          "text": [
            "Downloaded: gifs_temp/gif_9630.gif\n",
            "Deleted: gifs_temp/gif_9630.gif\n"
          ]
        },
        {
          "output_type": "stream",
          "name": "stderr",
          "text": [
            "\rProcessing GIFs:  91%|█████████ | 906/1000 [07:03<00:40,  2.31it/s]"
          ]
        },
        {
          "output_type": "stream",
          "name": "stdout",
          "text": [
            "Downloaded: gifs_temp/gif_67824.gif\n",
            "Deleted: gifs_temp/gif_67824.gif\n"
          ]
        },
        {
          "output_type": "stream",
          "name": "stderr",
          "text": [
            "\rProcessing GIFs:  91%|█████████ | 907/1000 [07:04<00:38,  2.39it/s]"
          ]
        },
        {
          "output_type": "stream",
          "name": "stdout",
          "text": [
            "Downloaded: gifs_temp/gif_75186.gif\n",
            "Deleted: gifs_temp/gif_75186.gif\n"
          ]
        },
        {
          "output_type": "stream",
          "name": "stderr",
          "text": [
            "\rProcessing GIFs:  91%|█████████ | 908/1000 [07:04<00:37,  2.46it/s]"
          ]
        },
        {
          "output_type": "stream",
          "name": "stdout",
          "text": [
            "Downloaded: gifs_temp/gif_52196.gif\n",
            "Deleted: gifs_temp/gif_52196.gif\n"
          ]
        },
        {
          "output_type": "stream",
          "name": "stderr",
          "text": [
            "\rProcessing GIFs:  91%|█████████ | 909/1000 [07:04<00:37,  2.45it/s]"
          ]
        },
        {
          "output_type": "stream",
          "name": "stdout",
          "text": [
            "Downloaded: gifs_temp/gif_92613.gif\n",
            "Deleted: gifs_temp/gif_92613.gif\n"
          ]
        },
        {
          "output_type": "stream",
          "name": "stderr",
          "text": [
            "\rProcessing GIFs:  91%|█████████ | 910/1000 [07:05<00:36,  2.46it/s]"
          ]
        },
        {
          "output_type": "stream",
          "name": "stdout",
          "text": [
            "Downloaded: gifs_temp/gif_42993.gif\n",
            "Deleted: gifs_temp/gif_42993.gif\n"
          ]
        },
        {
          "output_type": "stream",
          "name": "stderr",
          "text": [
            "\rProcessing GIFs:  91%|█████████ | 911/1000 [07:05<00:36,  2.45it/s]"
          ]
        },
        {
          "output_type": "stream",
          "name": "stdout",
          "text": [
            "Downloaded: gifs_temp/gif_25805.gif\n",
            "Deleted: gifs_temp/gif_25805.gif\n"
          ]
        },
        {
          "output_type": "stream",
          "name": "stderr",
          "text": [
            "\rProcessing GIFs:  91%|█████████ | 912/1000 [07:06<00:35,  2.49it/s]"
          ]
        },
        {
          "output_type": "stream",
          "name": "stdout",
          "text": [
            "Downloaded: gifs_temp/gif_51307.gif\n",
            "Deleted: gifs_temp/gif_51307.gif\n"
          ]
        },
        {
          "output_type": "stream",
          "name": "stderr",
          "text": [
            "\rProcessing GIFs:  91%|█████████▏| 913/1000 [07:06<00:35,  2.47it/s]"
          ]
        },
        {
          "output_type": "stream",
          "name": "stdout",
          "text": [
            "Downloaded: gifs_temp/gif_109778.gif\n",
            "Deleted: gifs_temp/gif_109778.gif\n"
          ]
        },
        {
          "output_type": "stream",
          "name": "stderr",
          "text": [
            "\rProcessing GIFs:  91%|█████████▏| 914/1000 [07:07<00:38,  2.22it/s]"
          ]
        },
        {
          "output_type": "stream",
          "name": "stdout",
          "text": [
            "Downloaded: gifs_temp/gif_120152.gif\n",
            "Deleted: gifs_temp/gif_120152.gif\n"
          ]
        },
        {
          "output_type": "stream",
          "name": "stderr",
          "text": [
            "\rProcessing GIFs:  92%|█████████▏| 915/1000 [07:07<00:36,  2.32it/s]"
          ]
        },
        {
          "output_type": "stream",
          "name": "stdout",
          "text": [
            "Downloaded: gifs_temp/gif_26563.gif\n",
            "Deleted: gifs_temp/gif_26563.gif\n"
          ]
        },
        {
          "output_type": "stream",
          "name": "stderr",
          "text": [
            "\rProcessing GIFs:  92%|█████████▏| 916/1000 [07:07<00:36,  2.32it/s]"
          ]
        },
        {
          "output_type": "stream",
          "name": "stdout",
          "text": [
            "Downloaded: gifs_temp/gif_42860.gif\n",
            "Deleted: gifs_temp/gif_42860.gif\n"
          ]
        },
        {
          "output_type": "stream",
          "name": "stderr",
          "text": [
            "\rProcessing GIFs:  92%|█████████▏| 917/1000 [07:08<00:35,  2.32it/s]"
          ]
        },
        {
          "output_type": "stream",
          "name": "stdout",
          "text": [
            "Downloaded: gifs_temp/gif_72464.gif\n",
            "Deleted: gifs_temp/gif_72464.gif\n"
          ]
        },
        {
          "output_type": "stream",
          "name": "stderr",
          "text": [
            "\rProcessing GIFs:  92%|█████████▏| 918/1000 [07:08<00:35,  2.33it/s]"
          ]
        },
        {
          "output_type": "stream",
          "name": "stdout",
          "text": [
            "Downloaded: gifs_temp/gif_97770.gif\n",
            "Deleted: gifs_temp/gif_97770.gif\n"
          ]
        },
        {
          "output_type": "stream",
          "name": "stderr",
          "text": [
            "\rProcessing GIFs:  92%|█████████▏| 919/1000 [07:09<00:34,  2.36it/s]"
          ]
        },
        {
          "output_type": "stream",
          "name": "stdout",
          "text": [
            "Downloaded: gifs_temp/gif_5339.gif\n",
            "Deleted: gifs_temp/gif_5339.gif\n"
          ]
        },
        {
          "output_type": "stream",
          "name": "stderr",
          "text": [
            "\rProcessing GIFs:  92%|█████████▏| 920/1000 [07:09<00:41,  1.91it/s]"
          ]
        },
        {
          "output_type": "stream",
          "name": "stdout",
          "text": [
            "Downloaded: gifs_temp/gif_110361.gif\n",
            "Deleted: gifs_temp/gif_110361.gif\n"
          ]
        },
        {
          "output_type": "stream",
          "name": "stderr",
          "text": [
            "\rProcessing GIFs:  92%|█████████▏| 921/1000 [07:10<00:37,  2.11it/s]"
          ]
        },
        {
          "output_type": "stream",
          "name": "stdout",
          "text": [
            "Downloaded: gifs_temp/gif_25802.gif\n",
            "Deleted: gifs_temp/gif_25802.gif\n"
          ]
        },
        {
          "output_type": "stream",
          "name": "stderr",
          "text": [
            "\rProcessing GIFs:  92%|█████████▏| 922/1000 [07:11<00:43,  1.80it/s]"
          ]
        },
        {
          "output_type": "stream",
          "name": "stdout",
          "text": [
            "Downloaded: gifs_temp/gif_58038.gif\n",
            "Deleted: gifs_temp/gif_58038.gif\n"
          ]
        },
        {
          "output_type": "stream",
          "name": "stderr",
          "text": [
            "\rProcessing GIFs:  92%|█████████▏| 923/1000 [07:11<00:38,  2.01it/s]"
          ]
        },
        {
          "output_type": "stream",
          "name": "stdout",
          "text": [
            "Downloaded: gifs_temp/gif_22319.gif\n",
            "Deleted: gifs_temp/gif_22319.gif\n"
          ]
        },
        {
          "output_type": "stream",
          "name": "stderr",
          "text": [
            "\rProcessing GIFs:  92%|█████████▏| 924/1000 [07:11<00:35,  2.17it/s]"
          ]
        },
        {
          "output_type": "stream",
          "name": "stdout",
          "text": [
            "Downloaded: gifs_temp/gif_15963.gif\n",
            "Deleted: gifs_temp/gif_15963.gif\n"
          ]
        },
        {
          "output_type": "stream",
          "name": "stderr",
          "text": [
            "\rProcessing GIFs:  92%|█████████▎| 925/1000 [07:12<00:32,  2.32it/s]"
          ]
        },
        {
          "output_type": "stream",
          "name": "stdout",
          "text": [
            "Downloaded: gifs_temp/gif_93543.gif\n",
            "Deleted: gifs_temp/gif_93543.gif\n"
          ]
        },
        {
          "output_type": "stream",
          "name": "stderr",
          "text": [
            "\rProcessing GIFs:  93%|█████████▎| 926/1000 [07:12<00:31,  2.38it/s]"
          ]
        },
        {
          "output_type": "stream",
          "name": "stdout",
          "text": [
            "Downloaded: gifs_temp/gif_88487.gif\n",
            "Deleted: gifs_temp/gif_88487.gif\n"
          ]
        },
        {
          "output_type": "stream",
          "name": "stderr",
          "text": [
            "\rProcessing GIFs:  93%|█████████▎| 927/1000 [07:12<00:30,  2.36it/s]"
          ]
        },
        {
          "output_type": "stream",
          "name": "stdout",
          "text": [
            "Downloaded: gifs_temp/gif_20348.gif\n",
            "Deleted: gifs_temp/gif_20348.gif\n"
          ]
        },
        {
          "output_type": "stream",
          "name": "stderr",
          "text": [
            "\rProcessing GIFs:  93%|█████████▎| 928/1000 [07:13<00:29,  2.43it/s]"
          ]
        },
        {
          "output_type": "stream",
          "name": "stdout",
          "text": [
            "Downloaded: gifs_temp/gif_121090.gif\n",
            "Deleted: gifs_temp/gif_121090.gif\n"
          ]
        },
        {
          "output_type": "stream",
          "name": "stderr",
          "text": [
            "\rProcessing GIFs:  93%|█████████▎| 929/1000 [07:13<00:29,  2.42it/s]"
          ]
        },
        {
          "output_type": "stream",
          "name": "stdout",
          "text": [
            "Downloaded: gifs_temp/gif_9379.gif\n",
            "Deleted: gifs_temp/gif_9379.gif\n"
          ]
        },
        {
          "output_type": "stream",
          "name": "stderr",
          "text": [
            "\rProcessing GIFs:  93%|█████████▎| 930/1000 [07:14<00:28,  2.45it/s]"
          ]
        },
        {
          "output_type": "stream",
          "name": "stdout",
          "text": [
            "Downloaded: gifs_temp/gif_65892.gif\n",
            "Deleted: gifs_temp/gif_65892.gif\n"
          ]
        },
        {
          "output_type": "stream",
          "name": "stderr",
          "text": [
            "\rProcessing GIFs:  93%|█████████▎| 931/1000 [07:14<00:30,  2.23it/s]"
          ]
        },
        {
          "output_type": "stream",
          "name": "stdout",
          "text": [
            "Downloaded: gifs_temp/gif_96498.gif\n",
            "Deleted: gifs_temp/gif_96498.gif\n"
          ]
        },
        {
          "output_type": "stream",
          "name": "stderr",
          "text": [
            "\rProcessing GIFs:  93%|█████████▎| 932/1000 [07:15<00:29,  2.34it/s]"
          ]
        },
        {
          "output_type": "stream",
          "name": "stdout",
          "text": [
            "Downloaded: gifs_temp/gif_105904.gif\n",
            "Deleted: gifs_temp/gif_105904.gif\n"
          ]
        },
        {
          "output_type": "stream",
          "name": "stderr",
          "text": [
            "\rProcessing GIFs:  93%|█████████▎| 933/1000 [07:15<00:28,  2.35it/s]"
          ]
        },
        {
          "output_type": "stream",
          "name": "stdout",
          "text": [
            "Downloaded: gifs_temp/gif_94079.gif\n",
            "Deleted: gifs_temp/gif_94079.gif\n"
          ]
        },
        {
          "output_type": "stream",
          "name": "stderr",
          "text": [
            "\rProcessing GIFs:  93%|█████████▎| 934/1000 [07:15<00:27,  2.38it/s]"
          ]
        },
        {
          "output_type": "stream",
          "name": "stdout",
          "text": [
            "Downloaded: gifs_temp/gif_73396.gif\n",
            "Deleted: gifs_temp/gif_73396.gif\n"
          ]
        },
        {
          "output_type": "stream",
          "name": "stderr",
          "text": [
            "\rProcessing GIFs:  94%|█████████▎| 935/1000 [07:16<00:27,  2.34it/s]"
          ]
        },
        {
          "output_type": "stream",
          "name": "stdout",
          "text": [
            "Downloaded: gifs_temp/gif_69821.gif\n",
            "Deleted: gifs_temp/gif_69821.gif\n"
          ]
        },
        {
          "output_type": "stream",
          "name": "stderr",
          "text": [
            "\rProcessing GIFs:  94%|█████████▎| 936/1000 [07:17<00:32,  1.95it/s]"
          ]
        },
        {
          "output_type": "stream",
          "name": "stdout",
          "text": [
            "Downloaded: gifs_temp/gif_107995.gif\n",
            "Deleted: gifs_temp/gif_107995.gif\n"
          ]
        },
        {
          "output_type": "stream",
          "name": "stderr",
          "text": [
            "\rProcessing GIFs:  94%|█████████▎| 937/1000 [07:17<00:32,  1.94it/s]"
          ]
        },
        {
          "output_type": "stream",
          "name": "stdout",
          "text": [
            "Downloaded: gifs_temp/gif_104300.gif\n",
            "Deleted: gifs_temp/gif_104300.gif\n"
          ]
        },
        {
          "output_type": "stream",
          "name": "stderr",
          "text": [
            "\rProcessing GIFs:  94%|█████████▍| 938/1000 [07:18<00:30,  2.01it/s]"
          ]
        },
        {
          "output_type": "stream",
          "name": "stdout",
          "text": [
            "Downloaded: gifs_temp/gif_7956.gif\n",
            "Deleted: gifs_temp/gif_7956.gif\n"
          ]
        },
        {
          "output_type": "stream",
          "name": "stderr",
          "text": [
            "\rProcessing GIFs:  94%|█████████▍| 939/1000 [07:18<00:31,  1.96it/s]"
          ]
        },
        {
          "output_type": "stream",
          "name": "stdout",
          "text": [
            "Downloaded: gifs_temp/gif_37788.gif\n",
            "Deleted: gifs_temp/gif_37788.gif\n"
          ]
        },
        {
          "output_type": "stream",
          "name": "stderr",
          "text": [
            "\rProcessing GIFs:  94%|█████████▍| 940/1000 [07:19<00:35,  1.69it/s]"
          ]
        },
        {
          "output_type": "stream",
          "name": "stdout",
          "text": [
            "Downloaded: gifs_temp/gif_22801.gif\n",
            "Deleted: gifs_temp/gif_22801.gif\n"
          ]
        },
        {
          "output_type": "stream",
          "name": "stderr",
          "text": [
            "\rProcessing GIFs:  94%|█████████▍| 941/1000 [07:19<00:31,  1.88it/s]"
          ]
        },
        {
          "output_type": "stream",
          "name": "stdout",
          "text": [
            "Downloaded: gifs_temp/gif_27815.gif\n",
            "Deleted: gifs_temp/gif_27815.gif\n"
          ]
        },
        {
          "output_type": "stream",
          "name": "stderr",
          "text": [
            "\rProcessing GIFs:  94%|█████████▍| 942/1000 [07:20<00:33,  1.71it/s]"
          ]
        },
        {
          "output_type": "stream",
          "name": "stdout",
          "text": [
            "Downloaded: gifs_temp/gif_94841.gif\n",
            "Deleted: gifs_temp/gif_94841.gif\n"
          ]
        },
        {
          "output_type": "stream",
          "name": "stderr",
          "text": [
            "\rProcessing GIFs:  94%|█████████▍| 943/1000 [07:20<00:31,  1.83it/s]"
          ]
        },
        {
          "output_type": "stream",
          "name": "stdout",
          "text": [
            "Downloaded: gifs_temp/gif_41806.gif\n",
            "Deleted: gifs_temp/gif_41806.gif\n"
          ]
        },
        {
          "output_type": "stream",
          "name": "stderr",
          "text": [
            "\rProcessing GIFs:  94%|█████████▍| 944/1000 [07:21<00:29,  1.91it/s]"
          ]
        },
        {
          "output_type": "stream",
          "name": "stdout",
          "text": [
            "Downloaded: gifs_temp/gif_15891.gif\n",
            "Deleted: gifs_temp/gif_15891.gif\n"
          ]
        },
        {
          "output_type": "stream",
          "name": "stderr",
          "text": [
            "\rProcessing GIFs:  94%|█████████▍| 945/1000 [07:22<00:32,  1.68it/s]"
          ]
        },
        {
          "output_type": "stream",
          "name": "stdout",
          "text": [
            "Downloaded: gifs_temp/gif_41854.gif\n",
            "Deleted: gifs_temp/gif_41854.gif\n",
            "Downloaded: gifs_temp/gif_7015.gif\n"
          ]
        },
        {
          "output_type": "stream",
          "name": "stderr",
          "text": [
            "\rProcessing GIFs:  95%|█████████▍| 946/1000 [07:22<00:31,  1.72it/s]"
          ]
        },
        {
          "output_type": "stream",
          "name": "stdout",
          "text": [
            "Deleted: gifs_temp/gif_7015.gif\n"
          ]
        },
        {
          "output_type": "stream",
          "name": "stderr",
          "text": [
            "\rProcessing GIFs:  95%|█████████▍| 947/1000 [07:23<00:28,  1.89it/s]"
          ]
        },
        {
          "output_type": "stream",
          "name": "stdout",
          "text": [
            "Downloaded: gifs_temp/gif_31163.gif\n",
            "Deleted: gifs_temp/gif_31163.gif\n"
          ]
        },
        {
          "output_type": "stream",
          "name": "stderr",
          "text": [
            "\rProcessing GIFs:  95%|█████████▍| 948/1000 [07:23<00:24,  2.09it/s]"
          ]
        },
        {
          "output_type": "stream",
          "name": "stdout",
          "text": [
            "Downloaded: gifs_temp/gif_84301.gif\n",
            "Deleted: gifs_temp/gif_84301.gif\n"
          ]
        },
        {
          "output_type": "stream",
          "name": "stderr",
          "text": [
            "\rProcessing GIFs:  95%|█████████▍| 949/1000 [07:23<00:23,  2.13it/s]"
          ]
        },
        {
          "output_type": "stream",
          "name": "stdout",
          "text": [
            "Downloaded: gifs_temp/gif_29491.gif\n",
            "Deleted: gifs_temp/gif_29491.gif\n"
          ]
        },
        {
          "output_type": "stream",
          "name": "stderr",
          "text": [
            "\rProcessing GIFs:  95%|█████████▌| 950/1000 [07:24<00:22,  2.20it/s]"
          ]
        },
        {
          "output_type": "stream",
          "name": "stdout",
          "text": [
            "Downloaded: gifs_temp/gif_68836.gif\n",
            "Deleted: gifs_temp/gif_68836.gif\n"
          ]
        },
        {
          "output_type": "stream",
          "name": "stderr",
          "text": [
            "\rProcessing GIFs:  95%|█████████▌| 951/1000 [07:24<00:21,  2.28it/s]"
          ]
        },
        {
          "output_type": "stream",
          "name": "stdout",
          "text": [
            "Downloaded: gifs_temp/gif_97485.gif\n",
            "Deleted: gifs_temp/gif_97485.gif\n"
          ]
        },
        {
          "output_type": "stream",
          "name": "stderr",
          "text": [
            "\rProcessing GIFs:  95%|█████████▌| 952/1000 [07:25<00:20,  2.30it/s]"
          ]
        },
        {
          "output_type": "stream",
          "name": "stdout",
          "text": [
            "Downloaded: gifs_temp/gif_121215.gif\n",
            "Deleted: gifs_temp/gif_121215.gif\n"
          ]
        },
        {
          "output_type": "stream",
          "name": "stderr",
          "text": [
            "\rProcessing GIFs:  95%|█████████▌| 953/1000 [07:25<00:19,  2.36it/s]"
          ]
        },
        {
          "output_type": "stream",
          "name": "stdout",
          "text": [
            "Downloaded: gifs_temp/gif_93563.gif\n",
            "Deleted: gifs_temp/gif_93563.gif\n"
          ]
        },
        {
          "output_type": "stream",
          "name": "stderr",
          "text": [
            "\rProcessing GIFs:  95%|█████████▌| 954/1000 [07:25<00:18,  2.49it/s]"
          ]
        },
        {
          "output_type": "stream",
          "name": "stdout",
          "text": [
            "Downloaded: gifs_temp/gif_45327.gif\n",
            "Deleted: gifs_temp/gif_45327.gif\n"
          ]
        },
        {
          "output_type": "stream",
          "name": "stderr",
          "text": [
            "\rProcessing GIFs:  96%|█████████▌| 955/1000 [07:26<00:18,  2.45it/s]"
          ]
        },
        {
          "output_type": "stream",
          "name": "stdout",
          "text": [
            "Downloaded: gifs_temp/gif_76743.gif\n",
            "Deleted: gifs_temp/gif_76743.gif\n"
          ]
        },
        {
          "output_type": "stream",
          "name": "stderr",
          "text": [
            "\rProcessing GIFs:  96%|█████████▌| 956/1000 [07:26<00:17,  2.50it/s]"
          ]
        },
        {
          "output_type": "stream",
          "name": "stdout",
          "text": [
            "Downloaded: gifs_temp/gif_28710.gif\n",
            "Deleted: gifs_temp/gif_28710.gif\n"
          ]
        },
        {
          "output_type": "stream",
          "name": "stderr",
          "text": [
            "\rProcessing GIFs:  96%|█████████▌| 957/1000 [07:27<00:17,  2.48it/s]"
          ]
        },
        {
          "output_type": "stream",
          "name": "stdout",
          "text": [
            "Downloaded: gifs_temp/gif_47354.gif\n",
            "Deleted: gifs_temp/gif_47354.gif\n"
          ]
        },
        {
          "output_type": "stream",
          "name": "stderr",
          "text": [
            "\rProcessing GIFs:  96%|█████████▌| 958/1000 [07:27<00:16,  2.61it/s]"
          ]
        },
        {
          "output_type": "stream",
          "name": "stdout",
          "text": [
            "Downloaded: gifs_temp/gif_8211.gif\n",
            "Deleted: gifs_temp/gif_8211.gif\n"
          ]
        },
        {
          "output_type": "stream",
          "name": "stderr",
          "text": [
            "\rProcessing GIFs:  96%|█████████▌| 959/1000 [07:27<00:16,  2.43it/s]"
          ]
        },
        {
          "output_type": "stream",
          "name": "stdout",
          "text": [
            "Downloaded: gifs_temp/gif_69421.gif\n",
            "Deleted: gifs_temp/gif_69421.gif\n"
          ]
        },
        {
          "output_type": "stream",
          "name": "stderr",
          "text": [
            "\rProcessing GIFs:  96%|█████████▌| 960/1000 [07:28<00:16,  2.43it/s]"
          ]
        },
        {
          "output_type": "stream",
          "name": "stdout",
          "text": [
            "Downloaded: gifs_temp/gif_28009.gif\n",
            "Deleted: gifs_temp/gif_28009.gif\n"
          ]
        },
        {
          "output_type": "stream",
          "name": "stderr",
          "text": [
            "\rProcessing GIFs:  96%|█████████▌| 961/1000 [07:28<00:15,  2.44it/s]"
          ]
        },
        {
          "output_type": "stream",
          "name": "stdout",
          "text": [
            "Downloaded: gifs_temp/gif_48806.gif\n",
            "Deleted: gifs_temp/gif_48806.gif\n"
          ]
        },
        {
          "output_type": "stream",
          "name": "stderr",
          "text": [
            "\rProcessing GIFs:  96%|█████████▌| 962/1000 [07:29<00:15,  2.44it/s]"
          ]
        },
        {
          "output_type": "stream",
          "name": "stdout",
          "text": [
            "Downloaded: gifs_temp/gif_87595.gif\n",
            "Deleted: gifs_temp/gif_87595.gif\n"
          ]
        },
        {
          "output_type": "stream",
          "name": "stderr",
          "text": [
            "\rProcessing GIFs:  96%|█████████▋| 963/1000 [07:29<00:14,  2.52it/s]"
          ]
        },
        {
          "output_type": "stream",
          "name": "stdout",
          "text": [
            "Downloaded: gifs_temp/gif_37959.gif\n",
            "Deleted: gifs_temp/gif_37959.gif\n"
          ]
        },
        {
          "output_type": "stream",
          "name": "stderr",
          "text": [
            "\rProcessing GIFs:  96%|█████████▋| 964/1000 [07:30<00:15,  2.34it/s]"
          ]
        },
        {
          "output_type": "stream",
          "name": "stdout",
          "text": [
            "Downloaded: gifs_temp/gif_124383.gif\n",
            "Deleted: gifs_temp/gif_124383.gif\n"
          ]
        },
        {
          "output_type": "stream",
          "name": "stderr",
          "text": [
            "\rProcessing GIFs:  96%|█████████▋| 965/1000 [07:30<00:14,  2.34it/s]"
          ]
        },
        {
          "output_type": "stream",
          "name": "stdout",
          "text": [
            "Downloaded: gifs_temp/gif_39172.gif\n",
            "Deleted: gifs_temp/gif_39172.gif\n"
          ]
        },
        {
          "output_type": "stream",
          "name": "stderr",
          "text": [
            "\rProcessing GIFs:  97%|█████████▋| 966/1000 [07:30<00:15,  2.23it/s]"
          ]
        },
        {
          "output_type": "stream",
          "name": "stdout",
          "text": [
            "Downloaded: gifs_temp/gif_83708.gif\n",
            "Deleted: gifs_temp/gif_83708.gif\n",
            "Downloaded: gifs_temp/gif_113850.gif\n"
          ]
        },
        {
          "output_type": "stream",
          "name": "stderr",
          "text": [
            "\rProcessing GIFs:  97%|█████████▋| 967/1000 [07:31<00:16,  2.02it/s]"
          ]
        },
        {
          "output_type": "stream",
          "name": "stdout",
          "text": [
            "Deleted: gifs_temp/gif_113850.gif\n"
          ]
        },
        {
          "output_type": "stream",
          "name": "stderr",
          "text": [
            "\rProcessing GIFs:  97%|█████████▋| 968/1000 [07:32<00:15,  2.09it/s]"
          ]
        },
        {
          "output_type": "stream",
          "name": "stdout",
          "text": [
            "Downloaded: gifs_temp/gif_48160.gif\n",
            "Deleted: gifs_temp/gif_48160.gif\n"
          ]
        },
        {
          "output_type": "stream",
          "name": "stderr",
          "text": [
            "\rProcessing GIFs:  97%|█████████▋| 969/1000 [07:32<00:14,  2.10it/s]"
          ]
        },
        {
          "output_type": "stream",
          "name": "stdout",
          "text": [
            "Downloaded: gifs_temp/gif_102297.gif\n",
            "Deleted: gifs_temp/gif_102297.gif\n"
          ]
        },
        {
          "output_type": "stream",
          "name": "stderr",
          "text": [
            "\rProcessing GIFs:  97%|█████████▋| 970/1000 [07:32<00:13,  2.20it/s]"
          ]
        },
        {
          "output_type": "stream",
          "name": "stdout",
          "text": [
            "Downloaded: gifs_temp/gif_63595.gif\n",
            "Deleted: gifs_temp/gif_63595.gif\n"
          ]
        },
        {
          "output_type": "stream",
          "name": "stderr",
          "text": [
            "\rProcessing GIFs:  97%|█████████▋| 971/1000 [07:33<00:12,  2.29it/s]"
          ]
        },
        {
          "output_type": "stream",
          "name": "stdout",
          "text": [
            "Downloaded: gifs_temp/gif_41415.gif\n",
            "Deleted: gifs_temp/gif_41415.gif\n"
          ]
        },
        {
          "output_type": "stream",
          "name": "stderr",
          "text": [
            "\rProcessing GIFs:  97%|█████████▋| 972/1000 [07:33<00:11,  2.37it/s]"
          ]
        },
        {
          "output_type": "stream",
          "name": "stdout",
          "text": [
            "Downloaded: gifs_temp/gif_101772.gif\n",
            "Deleted: gifs_temp/gif_101772.gif\n"
          ]
        },
        {
          "output_type": "stream",
          "name": "stderr",
          "text": [
            "\rProcessing GIFs:  97%|█████████▋| 973/1000 [07:34<00:13,  2.05it/s]"
          ]
        },
        {
          "output_type": "stream",
          "name": "stdout",
          "text": [
            "Downloaded: gifs_temp/gif_5708.gif\n",
            "Deleted: gifs_temp/gif_5708.gif\n"
          ]
        },
        {
          "output_type": "stream",
          "name": "stderr",
          "text": [
            "\rProcessing GIFs:  97%|█████████▋| 974/1000 [07:34<00:12,  2.09it/s]"
          ]
        },
        {
          "output_type": "stream",
          "name": "stdout",
          "text": [
            "Downloaded: gifs_temp/gif_32765.gif\n",
            "Deleted: gifs_temp/gif_32765.gif\n"
          ]
        },
        {
          "output_type": "stream",
          "name": "stderr",
          "text": [
            "\rProcessing GIFs:  98%|█████████▊| 975/1000 [07:35<00:12,  2.07it/s]"
          ]
        },
        {
          "output_type": "stream",
          "name": "stdout",
          "text": [
            "Downloaded: gifs_temp/gif_93392.gif\n",
            "Deleted: gifs_temp/gif_93392.gif\n"
          ]
        },
        {
          "output_type": "stream",
          "name": "stderr",
          "text": [
            "\rProcessing GIFs:  98%|█████████▊| 976/1000 [07:35<00:11,  2.12it/s]"
          ]
        },
        {
          "output_type": "stream",
          "name": "stdout",
          "text": [
            "Downloaded: gifs_temp/gif_52061.gif\n",
            "Deleted: gifs_temp/gif_52061.gif\n"
          ]
        },
        {
          "output_type": "stream",
          "name": "stderr",
          "text": [
            "\rProcessing GIFs:  98%|█████████▊| 977/1000 [07:36<00:10,  2.10it/s]"
          ]
        },
        {
          "output_type": "stream",
          "name": "stdout",
          "text": [
            "Downloaded: gifs_temp/gif_48502.gif\n",
            "Deleted: gifs_temp/gif_48502.gif\n"
          ]
        },
        {
          "output_type": "stream",
          "name": "stderr",
          "text": [
            "\rProcessing GIFs:  98%|█████████▊| 978/1000 [07:36<00:10,  2.05it/s]"
          ]
        },
        {
          "output_type": "stream",
          "name": "stdout",
          "text": [
            "Downloaded: gifs_temp/gif_85223.gif\n",
            "Deleted: gifs_temp/gif_85223.gif\n"
          ]
        },
        {
          "output_type": "stream",
          "name": "stderr",
          "text": [
            "\rProcessing GIFs:  98%|█████████▊| 979/1000 [07:37<00:10,  2.10it/s]"
          ]
        },
        {
          "output_type": "stream",
          "name": "stdout",
          "text": [
            "Downloaded: gifs_temp/gif_48261.gif\n",
            "Deleted: gifs_temp/gif_48261.gif\n"
          ]
        },
        {
          "output_type": "stream",
          "name": "stderr",
          "text": [
            "\rProcessing GIFs:  98%|█████████▊| 980/1000 [07:37<00:09,  2.05it/s]"
          ]
        },
        {
          "output_type": "stream",
          "name": "stdout",
          "text": [
            "Downloaded: gifs_temp/gif_41519.gif\n",
            "Deleted: gifs_temp/gif_41519.gif\n"
          ]
        },
        {
          "output_type": "stream",
          "name": "stderr",
          "text": [
            "\rProcessing GIFs:  98%|█████████▊| 981/1000 [07:38<00:08,  2.23it/s]"
          ]
        },
        {
          "output_type": "stream",
          "name": "stdout",
          "text": [
            "Downloaded: gifs_temp/gif_8523.gif\n",
            "Deleted: gifs_temp/gif_8523.gif\n"
          ]
        },
        {
          "output_type": "stream",
          "name": "stderr",
          "text": [
            "\rProcessing GIFs:  98%|█████████▊| 982/1000 [07:38<00:07,  2.33it/s]"
          ]
        },
        {
          "output_type": "stream",
          "name": "stdout",
          "text": [
            "Downloaded: gifs_temp/gif_18131.gif\n",
            "Deleted: gifs_temp/gif_18131.gif\n"
          ]
        },
        {
          "output_type": "stream",
          "name": "stderr",
          "text": [
            "\rProcessing GIFs:  98%|█████████▊| 983/1000 [07:38<00:08,  2.12it/s]"
          ]
        },
        {
          "output_type": "stream",
          "name": "stdout",
          "text": [
            "Downloaded: gifs_temp/gif_80186.gif\n",
            "Deleted: gifs_temp/gif_80186.gif\n"
          ]
        },
        {
          "output_type": "stream",
          "name": "stderr",
          "text": [
            "\rProcessing GIFs:  98%|█████████▊| 984/1000 [07:39<00:09,  1.72it/s]"
          ]
        },
        {
          "output_type": "stream",
          "name": "stdout",
          "text": [
            "Downloaded: gifs_temp/gif_40876.gif\n",
            "Deleted: gifs_temp/gif_40876.gif\n"
          ]
        },
        {
          "output_type": "stream",
          "name": "stderr",
          "text": [
            "\rProcessing GIFs:  98%|█████████▊| 985/1000 [07:40<00:08,  1.77it/s]"
          ]
        },
        {
          "output_type": "stream",
          "name": "stdout",
          "text": [
            "Downloaded: gifs_temp/gif_33888.gif\n",
            "Deleted: gifs_temp/gif_33888.gif\n"
          ]
        },
        {
          "output_type": "stream",
          "name": "stderr",
          "text": [
            "\rProcessing GIFs:  99%|█████████▊| 986/1000 [07:40<00:07,  1.97it/s]"
          ]
        },
        {
          "output_type": "stream",
          "name": "stdout",
          "text": [
            "Downloaded: gifs_temp/gif_86699.gif\n",
            "Deleted: gifs_temp/gif_86699.gif\n"
          ]
        },
        {
          "output_type": "stream",
          "name": "stderr",
          "text": [
            "\rProcessing GIFs:  99%|█████████▊| 987/1000 [07:41<00:06,  2.09it/s]"
          ]
        },
        {
          "output_type": "stream",
          "name": "stdout",
          "text": [
            "Downloaded: gifs_temp/gif_52806.gif\n",
            "Deleted: gifs_temp/gif_52806.gif\n"
          ]
        },
        {
          "output_type": "stream",
          "name": "stderr",
          "text": [
            "\rProcessing GIFs:  99%|█████████▉| 988/1000 [07:41<00:05,  2.19it/s]"
          ]
        },
        {
          "output_type": "stream",
          "name": "stdout",
          "text": [
            "Downloaded: gifs_temp/gif_11159.gif\n",
            "Deleted: gifs_temp/gif_11159.gif\n"
          ]
        },
        {
          "output_type": "stream",
          "name": "stderr",
          "text": [
            "\rProcessing GIFs:  99%|█████████▉| 989/1000 [07:41<00:04,  2.22it/s]"
          ]
        },
        {
          "output_type": "stream",
          "name": "stdout",
          "text": [
            "Downloaded: gifs_temp/gif_30732.gif\n",
            "Deleted: gifs_temp/gif_30732.gif\n"
          ]
        },
        {
          "output_type": "stream",
          "name": "stderr",
          "text": [
            "\rProcessing GIFs:  99%|█████████▉| 990/1000 [07:42<00:04,  2.33it/s]"
          ]
        },
        {
          "output_type": "stream",
          "name": "stdout",
          "text": [
            "Downloaded: gifs_temp/gif_89398.gif\n",
            "Deleted: gifs_temp/gif_89398.gif\n"
          ]
        },
        {
          "output_type": "stream",
          "name": "stderr",
          "text": [
            "\rProcessing GIFs:  99%|█████████▉| 991/1000 [07:42<00:03,  2.50it/s]"
          ]
        },
        {
          "output_type": "stream",
          "name": "stdout",
          "text": [
            "Downloaded: gifs_temp/gif_53135.gif\n",
            "Deleted: gifs_temp/gif_53135.gif\n"
          ]
        },
        {
          "output_type": "stream",
          "name": "stderr",
          "text": [
            "\rProcessing GIFs:  99%|█████████▉| 992/1000 [07:43<00:03,  2.16it/s]"
          ]
        },
        {
          "output_type": "stream",
          "name": "stdout",
          "text": [
            "Downloaded: gifs_temp/gif_37385.gif\n",
            "Deleted: gifs_temp/gif_37385.gif\n"
          ]
        },
        {
          "output_type": "stream",
          "name": "stderr",
          "text": [
            "\rProcessing GIFs:  99%|█████████▉| 993/1000 [07:43<00:03,  2.18it/s]"
          ]
        },
        {
          "output_type": "stream",
          "name": "stdout",
          "text": [
            "Downloaded: gifs_temp/gif_18593.gif\n",
            "Deleted: gifs_temp/gif_18593.gif\n"
          ]
        },
        {
          "output_type": "stream",
          "name": "stderr",
          "text": [
            "\rProcessing GIFs:  99%|█████████▉| 994/1000 [07:44<00:02,  2.20it/s]"
          ]
        },
        {
          "output_type": "stream",
          "name": "stdout",
          "text": [
            "Downloaded: gifs_temp/gif_95953.gif\n",
            "Deleted: gifs_temp/gif_95953.gif\n"
          ]
        },
        {
          "output_type": "stream",
          "name": "stderr",
          "text": [
            "\rProcessing GIFs: 100%|█████████▉| 995/1000 [07:44<00:02,  2.22it/s]"
          ]
        },
        {
          "output_type": "stream",
          "name": "stdout",
          "text": [
            "Downloaded: gifs_temp/gif_116110.gif\n",
            "Deleted: gifs_temp/gif_116110.gif\n"
          ]
        },
        {
          "output_type": "stream",
          "name": "stderr",
          "text": [
            "\rProcessing GIFs: 100%|█████████▉| 996/1000 [07:45<00:01,  2.25it/s]"
          ]
        },
        {
          "output_type": "stream",
          "name": "stdout",
          "text": [
            "Downloaded: gifs_temp/gif_3879.gif\n",
            "Deleted: gifs_temp/gif_3879.gif\n"
          ]
        },
        {
          "output_type": "stream",
          "name": "stderr",
          "text": [
            "\rProcessing GIFs: 100%|█████████▉| 997/1000 [07:46<00:01,  1.67it/s]"
          ]
        },
        {
          "output_type": "stream",
          "name": "stdout",
          "text": [
            "Downloaded: gifs_temp/gif_92335.gif\n",
            "Deleted: gifs_temp/gif_92335.gif\n"
          ]
        },
        {
          "output_type": "stream",
          "name": "stderr",
          "text": [
            "\rProcessing GIFs: 100%|█████████▉| 998/1000 [07:46<00:01,  1.84it/s]"
          ]
        },
        {
          "output_type": "stream",
          "name": "stdout",
          "text": [
            "Downloaded: gifs_temp/gif_43420.gif\n",
            "Deleted: gifs_temp/gif_43420.gif\n"
          ]
        },
        {
          "output_type": "stream",
          "name": "stderr",
          "text": [
            "\rProcessing GIFs: 100%|█████████▉| 999/1000 [07:46<00:00,  1.82it/s]"
          ]
        },
        {
          "output_type": "stream",
          "name": "stdout",
          "text": [
            "Downloaded: gifs_temp/gif_63427.gif\n",
            "Deleted: gifs_temp/gif_63427.gif\n"
          ]
        },
        {
          "output_type": "stream",
          "name": "stderr",
          "text": [
            "Processing GIFs: 100%|██████████| 1000/1000 [07:47<00:00,  2.14it/s]"
          ]
        },
        {
          "output_type": "stream",
          "name": "stdout",
          "text": [
            "Downloaded: gifs_temp/gif_35488.gif\n",
            "Deleted: gifs_temp/gif_35488.gif\n"
          ]
        },
        {
          "output_type": "stream",
          "name": "stderr",
          "text": [
            "\n"
          ]
        }
      ],
      "source": [
        "import torch\n",
        "import numpy as np\n",
        "from tqdm import tqdm\n",
        "import os\n",
        "\n",
        "# Initialize lists to store data\n",
        "target_frames = []\n",
        "target_texts = []\n",
        "\n",
        "# Process each GIF\n",
        "for gif in tqdm(selected_gifs, desc=\"Processing GIFs\"):\n",
        "    gif_id = gif.get('id')\n",
        "    url = gif.get('url')\n",
        "    reference_description = gif.get('description')\n",
        "\n",
        "    # Validate GIF entry\n",
        "    if not gif_id or not url or not reference_description:\n",
        "        print(f\"Invalid GIF entry: {gif}\")\n",
        "        continue\n",
        "\n",
        "    # Define local path to save the GIF temporarily\n",
        "    gif_filename = f\"{gif_id}.gif\"\n",
        "    gif_path = os.path.join(gifs_dir, gif_filename)\n",
        "\n",
        "    # Download the GIF\n",
        "    success = download_gif(url, gif_path)\n",
        "    if not success:\n",
        "        print(f\"Skipping GIF {gif_id} due to download failure.\")\n",
        "        continue\n",
        "\n",
        "    # Extract frames\n",
        "    selected_frames = extract_frames(gif_path, num_frames=5)\n",
        "\n",
        "    # Validate frame extraction\n",
        "    if not selected_frames:\n",
        "        print(f\"No frames extracted for {gif_id}. Skipping.\")\n",
        "        delete_gif(gif_path)\n",
        "        continue\n",
        "\n",
        "    # Append the extracted frames and corresponding text\n",
        "    target_frames.append(selected_frames)\n",
        "    target_texts.append(reference_description)\n",
        "\n",
        "    # Delete the downloaded GIF\n",
        "    delete_gif(gif_path)\n"
      ]
    },
    {
      "cell_type": "code",
      "execution_count": null,
      "metadata": {
        "id": "D0qkcvwFo0ij"
      },
      "outputs": [],
      "source": [
        "import torch\n",
        "import numpy as np\n",
        "\n",
        "# Assume target_frames is the list of GIFs, where each GIF is a list of frames (each frame is a numpy array)\n",
        "processed_gifs = []\n",
        "\n",
        "for gif in target_frames:\n",
        "    # Convert list of frames (numpy arrays) into a single numpy array\n",
        "    frames_array = np.array(gif)  # Convert to a single numpy array\n",
        "    # Now convert the numpy array to a PyTorch tensor\n",
        "    frames_tensor = torch.tensor(frames_array)  # Convert to a PyTorch tensor\n",
        "\n",
        "    # Append the processed tensor to the list\n",
        "    processed_gifs.append(frames_tensor)\n",
        "\n",
        "# Now processed_gifs is a list of tensors, where each tensor represents a GIF\n"
      ]
    },
    {
      "cell_type": "markdown",
      "source": [
        "Saving the data"
      ],
      "metadata": {
        "id": "tSJjDpQqXfKj"
      }
    },
    {
      "cell_type": "code",
      "source": [
        "import torch\n",
        "\n",
        "# Move all tensors in processed_gifs to CPU\n",
        "processed_gifs_cpu = [gif.cpu() for gif in processed_gifs]\n",
        "\n",
        "# Create a dictionary to hold both lists\n",
        "data = {\n",
        "    'processed_gifs': processed_gifs_cpu,\n",
        "    'target_texts': target_texts\n",
        "}\n",
        "\n",
        "# Save the dictionary to a file\n",
        "torch.save(data, 'data.pth')\n",
        "\n",
        "print(\"Data has been saved successfully as 'data.pth'.\")\n"
      ],
      "metadata": {
        "colab": {
          "base_uri": "https://localhost:8080/"
        },
        "id": "nKOP6mOGXhNr",
        "outputId": "a4b45b98-cccc-4471-b0a0-394ca2b9361c"
      },
      "execution_count": null,
      "outputs": [
        {
          "output_type": "stream",
          "name": "stdout",
          "text": [
            "Data has been saved successfully as 'data.pth'.\n"
          ]
        }
      ]
    },
    {
      "cell_type": "markdown",
      "source": [
        "Loading data when needed"
      ],
      "metadata": {
        "id": "ys3P5kerXnlf"
      }
    },
    {
      "cell_type": "code",
      "source": [
        "import torch\n",
        "\n",
        "# Load the saved data from the local file\n",
        "data = torch.load('data.pth', map_location=torch.device('cpu'))  # Change 'cpu' to 'cuda' if loading on GPU\n",
        "\n",
        "processed_gifs = data['processed_gifs']\n",
        "target_texts = data['target_texts']\n",
        "\n",
        "print(\"Data has been loaded successfully from 'data.pth'.\")\n"
      ],
      "metadata": {
        "id": "JbIST61DXyUy",
        "colab": {
          "base_uri": "https://localhost:8080/"
        },
        "outputId": "38c05c1f-f585-46f8-bf92-9fa1f691d76d"
      },
      "execution_count": null,
      "outputs": [
        {
          "output_type": "stream",
          "name": "stderr",
          "text": [
            "<ipython-input-12-1e2442dfdc7f>:4: FutureWarning: You are using `torch.load` with `weights_only=False` (the current default value), which uses the default pickle module implicitly. It is possible to construct malicious pickle data which will execute arbitrary code during unpickling (See https://github.com/pytorch/pytorch/blob/main/SECURITY.md#untrusted-models for more details). In a future release, the default value for `weights_only` will be flipped to `True`. This limits the functions that could be executed during unpickling. Arbitrary objects will no longer be allowed to be loaded via this mode unless they are explicitly allowlisted by the user via `torch.serialization.add_safe_globals`. We recommend you start setting `weights_only=True` for any use case where you don't have full control of the loaded file. Please open an issue on GitHub for any issues related to this experimental feature.\n",
            "  data = torch.load('data.pth', map_location=torch.device('cpu'))  # Change 'cpu' to 'cuda' if loading on GPU\n"
          ]
        },
        {
          "output_type": "stream",
          "name": "stdout",
          "text": [
            "Data has been loaded successfully from 'data.pth'.\n"
          ]
        }
      ]
    },
    {
      "cell_type": "code",
      "execution_count": null,
      "metadata": {
        "id": "n7CoK-uRPglh",
        "colab": {
          "base_uri": "https://localhost:8080/",
          "height": 400,
          "referenced_widgets": [
            "f8715c2c7b3c4f48bf17c843575d6d6a",
            "c720192393c5455cbea4041f4a9215a4",
            "88d4f0e855cb45e3aabeb27e93ed8eeb",
            "07755e83200b4b80b66d1e2d92780b23",
            "647e7da5b2d9403d82a61185bbc74c1d",
            "8e98f2c52a564c2aa933775d232aed5f",
            "4bcb40b8cd244eec8cf3d127b42cd1f6",
            "554e17b060d74e978a828832377e448b",
            "bb61c0dc0825406d94e22472552c4bd1",
            "85e173c909414ffc82977316f434d132",
            "0fadefa7eada4727ba5747539621b82b",
            "8303f106fe6f453d903ef35657b46184",
            "6dcf3ccc378e4cd69e5022de6c93fba3",
            "8b507e899fd8447787d31439b234beff",
            "b2c00327f16c41b494d18cf7a2fde80b",
            "64aedd13cce94af9aef664b788e78f8b",
            "8d82f55da72245e3b85d3e6940d9be0c",
            "0693f060898f40adacbf8f0df9f187b4",
            "930afb17373b4ce9858b507adca3b828",
            "f8f6b3ef106948aa9dd9ba09f0c8c842",
            "3413a3e21523479e99c23c42f82b53dd",
            "06ef27c5e8514445b32be29d757525f5",
            "b2612aa4783544ae821c7d62fefb596a",
            "45c9a91c54ed42c08e7d65997ff0a9a7",
            "bdd0f366a75c4be2aad986a5f517d226",
            "dac8fc1ece644ab7ba5c8eff85d8d640",
            "743250f0cac74286881bbe28be49b0a9",
            "3682c09691604e5dac8ef61afd10ead7",
            "0604e54e75cd43b098b492ebf7d71645",
            "29d927e822474a02a586d2af5e83f2c0",
            "b308138523004f94a844be1d61c62310",
            "cbaa64c09fae4a54b664a6679085181d",
            "9e5edfd0d1a84c7e842fcf5eae249196",
            "298eeb51d63946858e3a14573ecc7d64",
            "ec89fbfac31447cab722297011860e16",
            "4f28f7ffcf504735a1571301eaa5888a",
            "2653a2ac93974a8abff7db7320c8a55a",
            "3f0bd2a6de294d8f82a9ba4ffdea4c6b",
            "0405bbecdbdd4f9ea863fbfd12d9e2c1",
            "e06c13d1750d4790b9a4a1ae4e43bf00",
            "ea253b8e8bd74c009a781b99f00dec68",
            "eb73ee12669346c9a872f46cb8fcd685",
            "f70d52bbbd7543b4a2217335b7a78fd7",
            "1959ddee9e014ea484d62ab5ca2f4a4c",
            "cdb3c26986364b8487466117bbf22518",
            "8b7158b00b6f49ba982c766615afa3fd",
            "648ef2d733854e63872cdc9702f47939",
            "40747f2e80804940b55accfcceb5a19a",
            "52721e83ee574d3f9fbda170358caebb",
            "53623b761b654743a29be94c7551cdcc",
            "e22829a01d614ed7bdad416ffc1b58a0",
            "cfd4580148f449a28ffe23a786204349",
            "b9c838ec5c00414eb7e25f096a8d2ada",
            "11c48d873b404e1e8817f173c01f2d53",
            "380a67ed1e6a4d828eb36fb97a5c6d9a",
            "2d063a10ae1b4ff0b6c90e92cd306a26",
            "02a5e8b574d24f1c9749f18a503b44ba",
            "92d25dae61ad40bbb6be15b6293ffae9",
            "63a94cc9111442679246e867667b1eb1",
            "a566c051c3a546b19c02ac63a6a1e303",
            "65c184fcd7d74db1ae4a7ef7b6858957",
            "22a01834841a45698f8ae747dafdcd0b",
            "507edf38de2b40f1bd03aa7c3c3957b9",
            "5ae8ff2b5fe14ea0a67d173e26b14db1",
            "611ca1dd90c94136be64d94b0e9a1c68",
            "3c704ad70d4841919fcca1cd26b6dd84",
            "eaa1ceff8ea54799969fc8cd8155854b",
            "073518ff532c48ad981ab3d893f6f22d",
            "7e3a5edc03ae428f826031a89eea7fbe",
            "576dadedf506446aaeb0776a995adc59",
            "8d3b99dc15e94806b8f376f17c5040a0",
            "787439c6f94c4ff6b53c1681cc7d309b",
            "bf07a2d7d949491496064c7bdb2d9af6",
            "cc97f50d33b64424893b7495ad321f5a",
            "c1cb0304b6ac4e1289b32a2ddb9bae88",
            "e4162599795445c488e07cb73f58a6db",
            "648514ad1a8245aabca7b3cdd9dcde39"
          ]
        },
        "outputId": "d62ff09c-0f1d-4f00-853f-a4b6d0b305be"
      },
      "outputs": [
        {
          "output_type": "stream",
          "name": "stderr",
          "text": [
            "/usr/local/lib/python3.10/dist-packages/huggingface_hub/utils/_token.py:89: UserWarning: \n",
            "The secret `HF_TOKEN` does not exist in your Colab secrets.\n",
            "To authenticate with the Hugging Face Hub, create a token in your settings tab (https://huggingface.co/settings/tokens), set it as secret in your Google Colab and restart your session.\n",
            "You will be able to reuse this secret in all of your notebooks.\n",
            "Please note that authentication is recommended but still optional to access public models or datasets.\n",
            "  warnings.warn(\n"
          ]
        },
        {
          "output_type": "display_data",
          "data": {
            "text/plain": [
              "preprocessor_config.json:   0%|          | 0.00/287 [00:00<?, ?B/s]"
            ],
            "application/vnd.jupyter.widget-view+json": {
              "version_major": 2,
              "version_minor": 0,
              "model_id": "f8715c2c7b3c4f48bf17c843575d6d6a"
            }
          },
          "metadata": {}
        },
        {
          "output_type": "display_data",
          "data": {
            "text/plain": [
              "tokenizer_config.json:   0%|          | 0.00/506 [00:00<?, ?B/s]"
            ],
            "application/vnd.jupyter.widget-view+json": {
              "version_major": 2,
              "version_minor": 0,
              "model_id": "8303f106fe6f453d903ef35657b46184"
            }
          },
          "metadata": {}
        },
        {
          "output_type": "display_data",
          "data": {
            "text/plain": [
              "vocab.txt:   0%|          | 0.00/232k [00:00<?, ?B/s]"
            ],
            "application/vnd.jupyter.widget-view+json": {
              "version_major": 2,
              "version_minor": 0,
              "model_id": "b2612aa4783544ae821c7d62fefb596a"
            }
          },
          "metadata": {}
        },
        {
          "output_type": "display_data",
          "data": {
            "text/plain": [
              "tokenizer.json:   0%|          | 0.00/711k [00:00<?, ?B/s]"
            ],
            "application/vnd.jupyter.widget-view+json": {
              "version_major": 2,
              "version_minor": 0,
              "model_id": "298eeb51d63946858e3a14573ecc7d64"
            }
          },
          "metadata": {}
        },
        {
          "output_type": "display_data",
          "data": {
            "text/plain": [
              "special_tokens_map.json:   0%|          | 0.00/125 [00:00<?, ?B/s]"
            ],
            "application/vnd.jupyter.widget-view+json": {
              "version_major": 2,
              "version_minor": 0,
              "model_id": "cdb3c26986364b8487466117bbf22518"
            }
          },
          "metadata": {}
        },
        {
          "output_type": "stream",
          "name": "stderr",
          "text": [
            "/usr/local/lib/python3.10/dist-packages/transformers/tokenization_utils_base.py:1601: FutureWarning: `clean_up_tokenization_spaces` was not set. It will be set to `True` by default. This behavior will be depracted in transformers v4.45, and will be then set to `False` by default. For more details check this issue: https://github.com/huggingface/transformers/issues/31884\n",
            "  warnings.warn(\n"
          ]
        },
        {
          "output_type": "display_data",
          "data": {
            "text/plain": [
              "config.json:   0%|          | 0.00/4.56k [00:00<?, ?B/s]"
            ],
            "application/vnd.jupyter.widget-view+json": {
              "version_major": 2,
              "version_minor": 0,
              "model_id": "2d063a10ae1b4ff0b6c90e92cd306a26"
            }
          },
          "metadata": {}
        },
        {
          "output_type": "display_data",
          "data": {
            "text/plain": [
              "pytorch_model.bin:   0%|          | 0.00/990M [00:00<?, ?B/s]"
            ],
            "application/vnd.jupyter.widget-view+json": {
              "version_major": 2,
              "version_minor": 0,
              "model_id": "eaa1ceff8ea54799969fc8cd8155854b"
            }
          },
          "metadata": {}
        }
      ],
      "source": [
        "# Initialize BLIP processor and model\n",
        "blip_processor = BlipProcessor.from_pretrained(\"Salesforce/blip-image-captioning-base\")\n",
        "blip_model = BlipForConditionalGeneration.from_pretrained(\"Salesforce/blip-image-captioning-base\").to('cuda' if torch.cuda.is_available() else 'cpu')"
      ]
    },
    {
      "cell_type": "code",
      "execution_count": null,
      "metadata": {
        "id": "OV482MAIPjn-"
      },
      "outputs": [],
      "source": [
        "layers = [\"layer.10\", \"layer.11\", \"layers.10\", \"layers.11\"]\n",
        "for name, param in blip_model.named_parameters():\n",
        "  param.requires_grad = False\n",
        "  for layer in layers:\n",
        "    if layer in name:\n",
        "      param.requires_grad = True\n",
        "      break\n"
      ]
    },
    {
      "cell_type": "code",
      "execution_count": null,
      "metadata": {
        "id": "OvUBoVE0Uumg",
        "colab": {
          "base_uri": "https://localhost:8080/"
        },
        "outputId": "19f74342-698f-48ab-e5e0-b336032160fc"
      },
      "outputs": [
        {
          "output_type": "stream",
          "name": "stdout",
          "text": [
            "Layer: vision_model.embeddings.class_embedding, Status: Frozen\n",
            "Layer: vision_model.embeddings.position_embedding, Status: Frozen\n",
            "Layer: vision_model.embeddings.patch_embedding.weight, Status: Frozen\n",
            "Layer: vision_model.embeddings.patch_embedding.bias, Status: Frozen\n",
            "Layer: vision_model.encoder.layers.0.self_attn.qkv.weight, Status: Frozen\n",
            "Layer: vision_model.encoder.layers.0.self_attn.qkv.bias, Status: Frozen\n",
            "Layer: vision_model.encoder.layers.0.self_attn.projection.weight, Status: Frozen\n",
            "Layer: vision_model.encoder.layers.0.self_attn.projection.bias, Status: Frozen\n",
            "Layer: vision_model.encoder.layers.0.layer_norm1.weight, Status: Frozen\n",
            "Layer: vision_model.encoder.layers.0.layer_norm1.bias, Status: Frozen\n",
            "Layer: vision_model.encoder.layers.0.mlp.fc1.weight, Status: Frozen\n",
            "Layer: vision_model.encoder.layers.0.mlp.fc1.bias, Status: Frozen\n",
            "Layer: vision_model.encoder.layers.0.mlp.fc2.weight, Status: Frozen\n",
            "Layer: vision_model.encoder.layers.0.mlp.fc2.bias, Status: Frozen\n",
            "Layer: vision_model.encoder.layers.0.layer_norm2.weight, Status: Frozen\n",
            "Layer: vision_model.encoder.layers.0.layer_norm2.bias, Status: Frozen\n",
            "Layer: vision_model.encoder.layers.1.self_attn.qkv.weight, Status: Frozen\n",
            "Layer: vision_model.encoder.layers.1.self_attn.qkv.bias, Status: Frozen\n",
            "Layer: vision_model.encoder.layers.1.self_attn.projection.weight, Status: Frozen\n",
            "Layer: vision_model.encoder.layers.1.self_attn.projection.bias, Status: Frozen\n",
            "Layer: vision_model.encoder.layers.1.layer_norm1.weight, Status: Frozen\n",
            "Layer: vision_model.encoder.layers.1.layer_norm1.bias, Status: Frozen\n",
            "Layer: vision_model.encoder.layers.1.mlp.fc1.weight, Status: Frozen\n",
            "Layer: vision_model.encoder.layers.1.mlp.fc1.bias, Status: Frozen\n",
            "Layer: vision_model.encoder.layers.1.mlp.fc2.weight, Status: Frozen\n",
            "Layer: vision_model.encoder.layers.1.mlp.fc2.bias, Status: Frozen\n",
            "Layer: vision_model.encoder.layers.1.layer_norm2.weight, Status: Frozen\n",
            "Layer: vision_model.encoder.layers.1.layer_norm2.bias, Status: Frozen\n",
            "Layer: vision_model.encoder.layers.2.self_attn.qkv.weight, Status: Frozen\n",
            "Layer: vision_model.encoder.layers.2.self_attn.qkv.bias, Status: Frozen\n",
            "Layer: vision_model.encoder.layers.2.self_attn.projection.weight, Status: Frozen\n",
            "Layer: vision_model.encoder.layers.2.self_attn.projection.bias, Status: Frozen\n",
            "Layer: vision_model.encoder.layers.2.layer_norm1.weight, Status: Frozen\n",
            "Layer: vision_model.encoder.layers.2.layer_norm1.bias, Status: Frozen\n",
            "Layer: vision_model.encoder.layers.2.mlp.fc1.weight, Status: Frozen\n",
            "Layer: vision_model.encoder.layers.2.mlp.fc1.bias, Status: Frozen\n",
            "Layer: vision_model.encoder.layers.2.mlp.fc2.weight, Status: Frozen\n",
            "Layer: vision_model.encoder.layers.2.mlp.fc2.bias, Status: Frozen\n",
            "Layer: vision_model.encoder.layers.2.layer_norm2.weight, Status: Frozen\n",
            "Layer: vision_model.encoder.layers.2.layer_norm2.bias, Status: Frozen\n",
            "Layer: vision_model.encoder.layers.3.self_attn.qkv.weight, Status: Frozen\n",
            "Layer: vision_model.encoder.layers.3.self_attn.qkv.bias, Status: Frozen\n",
            "Layer: vision_model.encoder.layers.3.self_attn.projection.weight, Status: Frozen\n",
            "Layer: vision_model.encoder.layers.3.self_attn.projection.bias, Status: Frozen\n",
            "Layer: vision_model.encoder.layers.3.layer_norm1.weight, Status: Frozen\n",
            "Layer: vision_model.encoder.layers.3.layer_norm1.bias, Status: Frozen\n",
            "Layer: vision_model.encoder.layers.3.mlp.fc1.weight, Status: Frozen\n",
            "Layer: vision_model.encoder.layers.3.mlp.fc1.bias, Status: Frozen\n",
            "Layer: vision_model.encoder.layers.3.mlp.fc2.weight, Status: Frozen\n",
            "Layer: vision_model.encoder.layers.3.mlp.fc2.bias, Status: Frozen\n",
            "Layer: vision_model.encoder.layers.3.layer_norm2.weight, Status: Frozen\n",
            "Layer: vision_model.encoder.layers.3.layer_norm2.bias, Status: Frozen\n",
            "Layer: vision_model.encoder.layers.4.self_attn.qkv.weight, Status: Frozen\n",
            "Layer: vision_model.encoder.layers.4.self_attn.qkv.bias, Status: Frozen\n",
            "Layer: vision_model.encoder.layers.4.self_attn.projection.weight, Status: Frozen\n",
            "Layer: vision_model.encoder.layers.4.self_attn.projection.bias, Status: Frozen\n",
            "Layer: vision_model.encoder.layers.4.layer_norm1.weight, Status: Frozen\n",
            "Layer: vision_model.encoder.layers.4.layer_norm1.bias, Status: Frozen\n",
            "Layer: vision_model.encoder.layers.4.mlp.fc1.weight, Status: Frozen\n",
            "Layer: vision_model.encoder.layers.4.mlp.fc1.bias, Status: Frozen\n",
            "Layer: vision_model.encoder.layers.4.mlp.fc2.weight, Status: Frozen\n",
            "Layer: vision_model.encoder.layers.4.mlp.fc2.bias, Status: Frozen\n",
            "Layer: vision_model.encoder.layers.4.layer_norm2.weight, Status: Frozen\n",
            "Layer: vision_model.encoder.layers.4.layer_norm2.bias, Status: Frozen\n",
            "Layer: vision_model.encoder.layers.5.self_attn.qkv.weight, Status: Frozen\n",
            "Layer: vision_model.encoder.layers.5.self_attn.qkv.bias, Status: Frozen\n",
            "Layer: vision_model.encoder.layers.5.self_attn.projection.weight, Status: Frozen\n",
            "Layer: vision_model.encoder.layers.5.self_attn.projection.bias, Status: Frozen\n",
            "Layer: vision_model.encoder.layers.5.layer_norm1.weight, Status: Frozen\n",
            "Layer: vision_model.encoder.layers.5.layer_norm1.bias, Status: Frozen\n",
            "Layer: vision_model.encoder.layers.5.mlp.fc1.weight, Status: Frozen\n",
            "Layer: vision_model.encoder.layers.5.mlp.fc1.bias, Status: Frozen\n",
            "Layer: vision_model.encoder.layers.5.mlp.fc2.weight, Status: Frozen\n",
            "Layer: vision_model.encoder.layers.5.mlp.fc2.bias, Status: Frozen\n",
            "Layer: vision_model.encoder.layers.5.layer_norm2.weight, Status: Frozen\n",
            "Layer: vision_model.encoder.layers.5.layer_norm2.bias, Status: Frozen\n",
            "Layer: vision_model.encoder.layers.6.self_attn.qkv.weight, Status: Frozen\n",
            "Layer: vision_model.encoder.layers.6.self_attn.qkv.bias, Status: Frozen\n",
            "Layer: vision_model.encoder.layers.6.self_attn.projection.weight, Status: Frozen\n",
            "Layer: vision_model.encoder.layers.6.self_attn.projection.bias, Status: Frozen\n",
            "Layer: vision_model.encoder.layers.6.layer_norm1.weight, Status: Frozen\n",
            "Layer: vision_model.encoder.layers.6.layer_norm1.bias, Status: Frozen\n",
            "Layer: vision_model.encoder.layers.6.mlp.fc1.weight, Status: Frozen\n",
            "Layer: vision_model.encoder.layers.6.mlp.fc1.bias, Status: Frozen\n",
            "Layer: vision_model.encoder.layers.6.mlp.fc2.weight, Status: Frozen\n",
            "Layer: vision_model.encoder.layers.6.mlp.fc2.bias, Status: Frozen\n",
            "Layer: vision_model.encoder.layers.6.layer_norm2.weight, Status: Frozen\n",
            "Layer: vision_model.encoder.layers.6.layer_norm2.bias, Status: Frozen\n",
            "Layer: vision_model.encoder.layers.7.self_attn.qkv.weight, Status: Frozen\n",
            "Layer: vision_model.encoder.layers.7.self_attn.qkv.bias, Status: Frozen\n",
            "Layer: vision_model.encoder.layers.7.self_attn.projection.weight, Status: Frozen\n",
            "Layer: vision_model.encoder.layers.7.self_attn.projection.bias, Status: Frozen\n",
            "Layer: vision_model.encoder.layers.7.layer_norm1.weight, Status: Frozen\n",
            "Layer: vision_model.encoder.layers.7.layer_norm1.bias, Status: Frozen\n",
            "Layer: vision_model.encoder.layers.7.mlp.fc1.weight, Status: Frozen\n",
            "Layer: vision_model.encoder.layers.7.mlp.fc1.bias, Status: Frozen\n",
            "Layer: vision_model.encoder.layers.7.mlp.fc2.weight, Status: Frozen\n",
            "Layer: vision_model.encoder.layers.7.mlp.fc2.bias, Status: Frozen\n",
            "Layer: vision_model.encoder.layers.7.layer_norm2.weight, Status: Frozen\n",
            "Layer: vision_model.encoder.layers.7.layer_norm2.bias, Status: Frozen\n",
            "Layer: vision_model.encoder.layers.8.self_attn.qkv.weight, Status: Frozen\n",
            "Layer: vision_model.encoder.layers.8.self_attn.qkv.bias, Status: Frozen\n",
            "Layer: vision_model.encoder.layers.8.self_attn.projection.weight, Status: Frozen\n",
            "Layer: vision_model.encoder.layers.8.self_attn.projection.bias, Status: Frozen\n",
            "Layer: vision_model.encoder.layers.8.layer_norm1.weight, Status: Frozen\n",
            "Layer: vision_model.encoder.layers.8.layer_norm1.bias, Status: Frozen\n",
            "Layer: vision_model.encoder.layers.8.mlp.fc1.weight, Status: Frozen\n",
            "Layer: vision_model.encoder.layers.8.mlp.fc1.bias, Status: Frozen\n",
            "Layer: vision_model.encoder.layers.8.mlp.fc2.weight, Status: Frozen\n",
            "Layer: vision_model.encoder.layers.8.mlp.fc2.bias, Status: Frozen\n",
            "Layer: vision_model.encoder.layers.8.layer_norm2.weight, Status: Frozen\n",
            "Layer: vision_model.encoder.layers.8.layer_norm2.bias, Status: Frozen\n",
            "Layer: vision_model.encoder.layers.9.self_attn.qkv.weight, Status: Frozen\n",
            "Layer: vision_model.encoder.layers.9.self_attn.qkv.bias, Status: Frozen\n",
            "Layer: vision_model.encoder.layers.9.self_attn.projection.weight, Status: Frozen\n",
            "Layer: vision_model.encoder.layers.9.self_attn.projection.bias, Status: Frozen\n",
            "Layer: vision_model.encoder.layers.9.layer_norm1.weight, Status: Frozen\n",
            "Layer: vision_model.encoder.layers.9.layer_norm1.bias, Status: Frozen\n",
            "Layer: vision_model.encoder.layers.9.mlp.fc1.weight, Status: Frozen\n",
            "Layer: vision_model.encoder.layers.9.mlp.fc1.bias, Status: Frozen\n",
            "Layer: vision_model.encoder.layers.9.mlp.fc2.weight, Status: Frozen\n",
            "Layer: vision_model.encoder.layers.9.mlp.fc2.bias, Status: Frozen\n",
            "Layer: vision_model.encoder.layers.9.layer_norm2.weight, Status: Frozen\n",
            "Layer: vision_model.encoder.layers.9.layer_norm2.bias, Status: Frozen\n",
            "Layer: vision_model.encoder.layers.10.self_attn.qkv.weight, Status: Trainable\n",
            "Layer: vision_model.encoder.layers.10.self_attn.qkv.bias, Status: Trainable\n",
            "Layer: vision_model.encoder.layers.10.self_attn.projection.weight, Status: Trainable\n",
            "Layer: vision_model.encoder.layers.10.self_attn.projection.bias, Status: Trainable\n",
            "Layer: vision_model.encoder.layers.10.layer_norm1.weight, Status: Trainable\n",
            "Layer: vision_model.encoder.layers.10.layer_norm1.bias, Status: Trainable\n",
            "Layer: vision_model.encoder.layers.10.mlp.fc1.weight, Status: Trainable\n",
            "Layer: vision_model.encoder.layers.10.mlp.fc1.bias, Status: Trainable\n",
            "Layer: vision_model.encoder.layers.10.mlp.fc2.weight, Status: Trainable\n",
            "Layer: vision_model.encoder.layers.10.mlp.fc2.bias, Status: Trainable\n",
            "Layer: vision_model.encoder.layers.10.layer_norm2.weight, Status: Trainable\n",
            "Layer: vision_model.encoder.layers.10.layer_norm2.bias, Status: Trainable\n",
            "Layer: vision_model.encoder.layers.11.self_attn.qkv.weight, Status: Trainable\n",
            "Layer: vision_model.encoder.layers.11.self_attn.qkv.bias, Status: Trainable\n",
            "Layer: vision_model.encoder.layers.11.self_attn.projection.weight, Status: Trainable\n",
            "Layer: vision_model.encoder.layers.11.self_attn.projection.bias, Status: Trainable\n",
            "Layer: vision_model.encoder.layers.11.layer_norm1.weight, Status: Trainable\n",
            "Layer: vision_model.encoder.layers.11.layer_norm1.bias, Status: Trainable\n",
            "Layer: vision_model.encoder.layers.11.mlp.fc1.weight, Status: Trainable\n",
            "Layer: vision_model.encoder.layers.11.mlp.fc1.bias, Status: Trainable\n",
            "Layer: vision_model.encoder.layers.11.mlp.fc2.weight, Status: Trainable\n",
            "Layer: vision_model.encoder.layers.11.mlp.fc2.bias, Status: Trainable\n",
            "Layer: vision_model.encoder.layers.11.layer_norm2.weight, Status: Trainable\n",
            "Layer: vision_model.encoder.layers.11.layer_norm2.bias, Status: Trainable\n",
            "Layer: vision_model.post_layernorm.weight, Status: Frozen\n",
            "Layer: vision_model.post_layernorm.bias, Status: Frozen\n",
            "Layer: text_decoder.bert.embeddings.word_embeddings.weight, Status: Frozen\n",
            "Layer: text_decoder.bert.embeddings.position_embeddings.weight, Status: Frozen\n",
            "Layer: text_decoder.bert.embeddings.LayerNorm.weight, Status: Frozen\n",
            "Layer: text_decoder.bert.embeddings.LayerNorm.bias, Status: Frozen\n",
            "Layer: text_decoder.bert.encoder.layer.0.attention.self.query.weight, Status: Frozen\n",
            "Layer: text_decoder.bert.encoder.layer.0.attention.self.query.bias, Status: Frozen\n",
            "Layer: text_decoder.bert.encoder.layer.0.attention.self.key.weight, Status: Frozen\n",
            "Layer: text_decoder.bert.encoder.layer.0.attention.self.key.bias, Status: Frozen\n",
            "Layer: text_decoder.bert.encoder.layer.0.attention.self.value.weight, Status: Frozen\n",
            "Layer: text_decoder.bert.encoder.layer.0.attention.self.value.bias, Status: Frozen\n",
            "Layer: text_decoder.bert.encoder.layer.0.attention.output.dense.weight, Status: Frozen\n",
            "Layer: text_decoder.bert.encoder.layer.0.attention.output.dense.bias, Status: Frozen\n",
            "Layer: text_decoder.bert.encoder.layer.0.attention.output.LayerNorm.weight, Status: Frozen\n",
            "Layer: text_decoder.bert.encoder.layer.0.attention.output.LayerNorm.bias, Status: Frozen\n",
            "Layer: text_decoder.bert.encoder.layer.0.crossattention.self.query.weight, Status: Frozen\n",
            "Layer: text_decoder.bert.encoder.layer.0.crossattention.self.query.bias, Status: Frozen\n",
            "Layer: text_decoder.bert.encoder.layer.0.crossattention.self.key.weight, Status: Frozen\n",
            "Layer: text_decoder.bert.encoder.layer.0.crossattention.self.key.bias, Status: Frozen\n",
            "Layer: text_decoder.bert.encoder.layer.0.crossattention.self.value.weight, Status: Frozen\n",
            "Layer: text_decoder.bert.encoder.layer.0.crossattention.self.value.bias, Status: Frozen\n",
            "Layer: text_decoder.bert.encoder.layer.0.crossattention.output.dense.weight, Status: Frozen\n",
            "Layer: text_decoder.bert.encoder.layer.0.crossattention.output.dense.bias, Status: Frozen\n",
            "Layer: text_decoder.bert.encoder.layer.0.crossattention.output.LayerNorm.weight, Status: Frozen\n",
            "Layer: text_decoder.bert.encoder.layer.0.crossattention.output.LayerNorm.bias, Status: Frozen\n",
            "Layer: text_decoder.bert.encoder.layer.0.intermediate.dense.weight, Status: Frozen\n",
            "Layer: text_decoder.bert.encoder.layer.0.intermediate.dense.bias, Status: Frozen\n",
            "Layer: text_decoder.bert.encoder.layer.0.output.dense.weight, Status: Frozen\n",
            "Layer: text_decoder.bert.encoder.layer.0.output.dense.bias, Status: Frozen\n",
            "Layer: text_decoder.bert.encoder.layer.0.output.LayerNorm.weight, Status: Frozen\n",
            "Layer: text_decoder.bert.encoder.layer.0.output.LayerNorm.bias, Status: Frozen\n",
            "Layer: text_decoder.bert.encoder.layer.1.attention.self.query.weight, Status: Frozen\n",
            "Layer: text_decoder.bert.encoder.layer.1.attention.self.query.bias, Status: Frozen\n",
            "Layer: text_decoder.bert.encoder.layer.1.attention.self.key.weight, Status: Frozen\n",
            "Layer: text_decoder.bert.encoder.layer.1.attention.self.key.bias, Status: Frozen\n",
            "Layer: text_decoder.bert.encoder.layer.1.attention.self.value.weight, Status: Frozen\n",
            "Layer: text_decoder.bert.encoder.layer.1.attention.self.value.bias, Status: Frozen\n",
            "Layer: text_decoder.bert.encoder.layer.1.attention.output.dense.weight, Status: Frozen\n",
            "Layer: text_decoder.bert.encoder.layer.1.attention.output.dense.bias, Status: Frozen\n",
            "Layer: text_decoder.bert.encoder.layer.1.attention.output.LayerNorm.weight, Status: Frozen\n",
            "Layer: text_decoder.bert.encoder.layer.1.attention.output.LayerNorm.bias, Status: Frozen\n",
            "Layer: text_decoder.bert.encoder.layer.1.crossattention.self.query.weight, Status: Frozen\n",
            "Layer: text_decoder.bert.encoder.layer.1.crossattention.self.query.bias, Status: Frozen\n",
            "Layer: text_decoder.bert.encoder.layer.1.crossattention.self.key.weight, Status: Frozen\n",
            "Layer: text_decoder.bert.encoder.layer.1.crossattention.self.key.bias, Status: Frozen\n",
            "Layer: text_decoder.bert.encoder.layer.1.crossattention.self.value.weight, Status: Frozen\n",
            "Layer: text_decoder.bert.encoder.layer.1.crossattention.self.value.bias, Status: Frozen\n",
            "Layer: text_decoder.bert.encoder.layer.1.crossattention.output.dense.weight, Status: Frozen\n",
            "Layer: text_decoder.bert.encoder.layer.1.crossattention.output.dense.bias, Status: Frozen\n",
            "Layer: text_decoder.bert.encoder.layer.1.crossattention.output.LayerNorm.weight, Status: Frozen\n",
            "Layer: text_decoder.bert.encoder.layer.1.crossattention.output.LayerNorm.bias, Status: Frozen\n",
            "Layer: text_decoder.bert.encoder.layer.1.intermediate.dense.weight, Status: Frozen\n",
            "Layer: text_decoder.bert.encoder.layer.1.intermediate.dense.bias, Status: Frozen\n",
            "Layer: text_decoder.bert.encoder.layer.1.output.dense.weight, Status: Frozen\n",
            "Layer: text_decoder.bert.encoder.layer.1.output.dense.bias, Status: Frozen\n",
            "Layer: text_decoder.bert.encoder.layer.1.output.LayerNorm.weight, Status: Frozen\n",
            "Layer: text_decoder.bert.encoder.layer.1.output.LayerNorm.bias, Status: Frozen\n",
            "Layer: text_decoder.bert.encoder.layer.2.attention.self.query.weight, Status: Frozen\n",
            "Layer: text_decoder.bert.encoder.layer.2.attention.self.query.bias, Status: Frozen\n",
            "Layer: text_decoder.bert.encoder.layer.2.attention.self.key.weight, Status: Frozen\n",
            "Layer: text_decoder.bert.encoder.layer.2.attention.self.key.bias, Status: Frozen\n",
            "Layer: text_decoder.bert.encoder.layer.2.attention.self.value.weight, Status: Frozen\n",
            "Layer: text_decoder.bert.encoder.layer.2.attention.self.value.bias, Status: Frozen\n",
            "Layer: text_decoder.bert.encoder.layer.2.attention.output.dense.weight, Status: Frozen\n",
            "Layer: text_decoder.bert.encoder.layer.2.attention.output.dense.bias, Status: Frozen\n",
            "Layer: text_decoder.bert.encoder.layer.2.attention.output.LayerNorm.weight, Status: Frozen\n",
            "Layer: text_decoder.bert.encoder.layer.2.attention.output.LayerNorm.bias, Status: Frozen\n",
            "Layer: text_decoder.bert.encoder.layer.2.crossattention.self.query.weight, Status: Frozen\n",
            "Layer: text_decoder.bert.encoder.layer.2.crossattention.self.query.bias, Status: Frozen\n",
            "Layer: text_decoder.bert.encoder.layer.2.crossattention.self.key.weight, Status: Frozen\n",
            "Layer: text_decoder.bert.encoder.layer.2.crossattention.self.key.bias, Status: Frozen\n",
            "Layer: text_decoder.bert.encoder.layer.2.crossattention.self.value.weight, Status: Frozen\n",
            "Layer: text_decoder.bert.encoder.layer.2.crossattention.self.value.bias, Status: Frozen\n",
            "Layer: text_decoder.bert.encoder.layer.2.crossattention.output.dense.weight, Status: Frozen\n",
            "Layer: text_decoder.bert.encoder.layer.2.crossattention.output.dense.bias, Status: Frozen\n",
            "Layer: text_decoder.bert.encoder.layer.2.crossattention.output.LayerNorm.weight, Status: Frozen\n",
            "Layer: text_decoder.bert.encoder.layer.2.crossattention.output.LayerNorm.bias, Status: Frozen\n",
            "Layer: text_decoder.bert.encoder.layer.2.intermediate.dense.weight, Status: Frozen\n",
            "Layer: text_decoder.bert.encoder.layer.2.intermediate.dense.bias, Status: Frozen\n",
            "Layer: text_decoder.bert.encoder.layer.2.output.dense.weight, Status: Frozen\n",
            "Layer: text_decoder.bert.encoder.layer.2.output.dense.bias, Status: Frozen\n",
            "Layer: text_decoder.bert.encoder.layer.2.output.LayerNorm.weight, Status: Frozen\n",
            "Layer: text_decoder.bert.encoder.layer.2.output.LayerNorm.bias, Status: Frozen\n",
            "Layer: text_decoder.bert.encoder.layer.3.attention.self.query.weight, Status: Frozen\n",
            "Layer: text_decoder.bert.encoder.layer.3.attention.self.query.bias, Status: Frozen\n",
            "Layer: text_decoder.bert.encoder.layer.3.attention.self.key.weight, Status: Frozen\n",
            "Layer: text_decoder.bert.encoder.layer.3.attention.self.key.bias, Status: Frozen\n",
            "Layer: text_decoder.bert.encoder.layer.3.attention.self.value.weight, Status: Frozen\n",
            "Layer: text_decoder.bert.encoder.layer.3.attention.self.value.bias, Status: Frozen\n",
            "Layer: text_decoder.bert.encoder.layer.3.attention.output.dense.weight, Status: Frozen\n",
            "Layer: text_decoder.bert.encoder.layer.3.attention.output.dense.bias, Status: Frozen\n",
            "Layer: text_decoder.bert.encoder.layer.3.attention.output.LayerNorm.weight, Status: Frozen\n",
            "Layer: text_decoder.bert.encoder.layer.3.attention.output.LayerNorm.bias, Status: Frozen\n",
            "Layer: text_decoder.bert.encoder.layer.3.crossattention.self.query.weight, Status: Frozen\n",
            "Layer: text_decoder.bert.encoder.layer.3.crossattention.self.query.bias, Status: Frozen\n",
            "Layer: text_decoder.bert.encoder.layer.3.crossattention.self.key.weight, Status: Frozen\n",
            "Layer: text_decoder.bert.encoder.layer.3.crossattention.self.key.bias, Status: Frozen\n",
            "Layer: text_decoder.bert.encoder.layer.3.crossattention.self.value.weight, Status: Frozen\n",
            "Layer: text_decoder.bert.encoder.layer.3.crossattention.self.value.bias, Status: Frozen\n",
            "Layer: text_decoder.bert.encoder.layer.3.crossattention.output.dense.weight, Status: Frozen\n",
            "Layer: text_decoder.bert.encoder.layer.3.crossattention.output.dense.bias, Status: Frozen\n",
            "Layer: text_decoder.bert.encoder.layer.3.crossattention.output.LayerNorm.weight, Status: Frozen\n",
            "Layer: text_decoder.bert.encoder.layer.3.crossattention.output.LayerNorm.bias, Status: Frozen\n",
            "Layer: text_decoder.bert.encoder.layer.3.intermediate.dense.weight, Status: Frozen\n",
            "Layer: text_decoder.bert.encoder.layer.3.intermediate.dense.bias, Status: Frozen\n",
            "Layer: text_decoder.bert.encoder.layer.3.output.dense.weight, Status: Frozen\n",
            "Layer: text_decoder.bert.encoder.layer.3.output.dense.bias, Status: Frozen\n",
            "Layer: text_decoder.bert.encoder.layer.3.output.LayerNorm.weight, Status: Frozen\n",
            "Layer: text_decoder.bert.encoder.layer.3.output.LayerNorm.bias, Status: Frozen\n",
            "Layer: text_decoder.bert.encoder.layer.4.attention.self.query.weight, Status: Frozen\n",
            "Layer: text_decoder.bert.encoder.layer.4.attention.self.query.bias, Status: Frozen\n",
            "Layer: text_decoder.bert.encoder.layer.4.attention.self.key.weight, Status: Frozen\n",
            "Layer: text_decoder.bert.encoder.layer.4.attention.self.key.bias, Status: Frozen\n",
            "Layer: text_decoder.bert.encoder.layer.4.attention.self.value.weight, Status: Frozen\n",
            "Layer: text_decoder.bert.encoder.layer.4.attention.self.value.bias, Status: Frozen\n",
            "Layer: text_decoder.bert.encoder.layer.4.attention.output.dense.weight, Status: Frozen\n",
            "Layer: text_decoder.bert.encoder.layer.4.attention.output.dense.bias, Status: Frozen\n",
            "Layer: text_decoder.bert.encoder.layer.4.attention.output.LayerNorm.weight, Status: Frozen\n",
            "Layer: text_decoder.bert.encoder.layer.4.attention.output.LayerNorm.bias, Status: Frozen\n",
            "Layer: text_decoder.bert.encoder.layer.4.crossattention.self.query.weight, Status: Frozen\n",
            "Layer: text_decoder.bert.encoder.layer.4.crossattention.self.query.bias, Status: Frozen\n",
            "Layer: text_decoder.bert.encoder.layer.4.crossattention.self.key.weight, Status: Frozen\n",
            "Layer: text_decoder.bert.encoder.layer.4.crossattention.self.key.bias, Status: Frozen\n",
            "Layer: text_decoder.bert.encoder.layer.4.crossattention.self.value.weight, Status: Frozen\n",
            "Layer: text_decoder.bert.encoder.layer.4.crossattention.self.value.bias, Status: Frozen\n",
            "Layer: text_decoder.bert.encoder.layer.4.crossattention.output.dense.weight, Status: Frozen\n",
            "Layer: text_decoder.bert.encoder.layer.4.crossattention.output.dense.bias, Status: Frozen\n",
            "Layer: text_decoder.bert.encoder.layer.4.crossattention.output.LayerNorm.weight, Status: Frozen\n",
            "Layer: text_decoder.bert.encoder.layer.4.crossattention.output.LayerNorm.bias, Status: Frozen\n",
            "Layer: text_decoder.bert.encoder.layer.4.intermediate.dense.weight, Status: Frozen\n",
            "Layer: text_decoder.bert.encoder.layer.4.intermediate.dense.bias, Status: Frozen\n",
            "Layer: text_decoder.bert.encoder.layer.4.output.dense.weight, Status: Frozen\n",
            "Layer: text_decoder.bert.encoder.layer.4.output.dense.bias, Status: Frozen\n",
            "Layer: text_decoder.bert.encoder.layer.4.output.LayerNorm.weight, Status: Frozen\n",
            "Layer: text_decoder.bert.encoder.layer.4.output.LayerNorm.bias, Status: Frozen\n",
            "Layer: text_decoder.bert.encoder.layer.5.attention.self.query.weight, Status: Frozen\n",
            "Layer: text_decoder.bert.encoder.layer.5.attention.self.query.bias, Status: Frozen\n",
            "Layer: text_decoder.bert.encoder.layer.5.attention.self.key.weight, Status: Frozen\n",
            "Layer: text_decoder.bert.encoder.layer.5.attention.self.key.bias, Status: Frozen\n",
            "Layer: text_decoder.bert.encoder.layer.5.attention.self.value.weight, Status: Frozen\n",
            "Layer: text_decoder.bert.encoder.layer.5.attention.self.value.bias, Status: Frozen\n",
            "Layer: text_decoder.bert.encoder.layer.5.attention.output.dense.weight, Status: Frozen\n",
            "Layer: text_decoder.bert.encoder.layer.5.attention.output.dense.bias, Status: Frozen\n",
            "Layer: text_decoder.bert.encoder.layer.5.attention.output.LayerNorm.weight, Status: Frozen\n",
            "Layer: text_decoder.bert.encoder.layer.5.attention.output.LayerNorm.bias, Status: Frozen\n",
            "Layer: text_decoder.bert.encoder.layer.5.crossattention.self.query.weight, Status: Frozen\n",
            "Layer: text_decoder.bert.encoder.layer.5.crossattention.self.query.bias, Status: Frozen\n",
            "Layer: text_decoder.bert.encoder.layer.5.crossattention.self.key.weight, Status: Frozen\n",
            "Layer: text_decoder.bert.encoder.layer.5.crossattention.self.key.bias, Status: Frozen\n",
            "Layer: text_decoder.bert.encoder.layer.5.crossattention.self.value.weight, Status: Frozen\n",
            "Layer: text_decoder.bert.encoder.layer.5.crossattention.self.value.bias, Status: Frozen\n",
            "Layer: text_decoder.bert.encoder.layer.5.crossattention.output.dense.weight, Status: Frozen\n",
            "Layer: text_decoder.bert.encoder.layer.5.crossattention.output.dense.bias, Status: Frozen\n",
            "Layer: text_decoder.bert.encoder.layer.5.crossattention.output.LayerNorm.weight, Status: Frozen\n",
            "Layer: text_decoder.bert.encoder.layer.5.crossattention.output.LayerNorm.bias, Status: Frozen\n",
            "Layer: text_decoder.bert.encoder.layer.5.intermediate.dense.weight, Status: Frozen\n",
            "Layer: text_decoder.bert.encoder.layer.5.intermediate.dense.bias, Status: Frozen\n",
            "Layer: text_decoder.bert.encoder.layer.5.output.dense.weight, Status: Frozen\n",
            "Layer: text_decoder.bert.encoder.layer.5.output.dense.bias, Status: Frozen\n",
            "Layer: text_decoder.bert.encoder.layer.5.output.LayerNorm.weight, Status: Frozen\n",
            "Layer: text_decoder.bert.encoder.layer.5.output.LayerNorm.bias, Status: Frozen\n",
            "Layer: text_decoder.bert.encoder.layer.6.attention.self.query.weight, Status: Frozen\n",
            "Layer: text_decoder.bert.encoder.layer.6.attention.self.query.bias, Status: Frozen\n",
            "Layer: text_decoder.bert.encoder.layer.6.attention.self.key.weight, Status: Frozen\n",
            "Layer: text_decoder.bert.encoder.layer.6.attention.self.key.bias, Status: Frozen\n",
            "Layer: text_decoder.bert.encoder.layer.6.attention.self.value.weight, Status: Frozen\n",
            "Layer: text_decoder.bert.encoder.layer.6.attention.self.value.bias, Status: Frozen\n",
            "Layer: text_decoder.bert.encoder.layer.6.attention.output.dense.weight, Status: Frozen\n",
            "Layer: text_decoder.bert.encoder.layer.6.attention.output.dense.bias, Status: Frozen\n",
            "Layer: text_decoder.bert.encoder.layer.6.attention.output.LayerNorm.weight, Status: Frozen\n",
            "Layer: text_decoder.bert.encoder.layer.6.attention.output.LayerNorm.bias, Status: Frozen\n",
            "Layer: text_decoder.bert.encoder.layer.6.crossattention.self.query.weight, Status: Frozen\n",
            "Layer: text_decoder.bert.encoder.layer.6.crossattention.self.query.bias, Status: Frozen\n",
            "Layer: text_decoder.bert.encoder.layer.6.crossattention.self.key.weight, Status: Frozen\n",
            "Layer: text_decoder.bert.encoder.layer.6.crossattention.self.key.bias, Status: Frozen\n",
            "Layer: text_decoder.bert.encoder.layer.6.crossattention.self.value.weight, Status: Frozen\n",
            "Layer: text_decoder.bert.encoder.layer.6.crossattention.self.value.bias, Status: Frozen\n",
            "Layer: text_decoder.bert.encoder.layer.6.crossattention.output.dense.weight, Status: Frozen\n",
            "Layer: text_decoder.bert.encoder.layer.6.crossattention.output.dense.bias, Status: Frozen\n",
            "Layer: text_decoder.bert.encoder.layer.6.crossattention.output.LayerNorm.weight, Status: Frozen\n",
            "Layer: text_decoder.bert.encoder.layer.6.crossattention.output.LayerNorm.bias, Status: Frozen\n",
            "Layer: text_decoder.bert.encoder.layer.6.intermediate.dense.weight, Status: Frozen\n",
            "Layer: text_decoder.bert.encoder.layer.6.intermediate.dense.bias, Status: Frozen\n",
            "Layer: text_decoder.bert.encoder.layer.6.output.dense.weight, Status: Frozen\n",
            "Layer: text_decoder.bert.encoder.layer.6.output.dense.bias, Status: Frozen\n",
            "Layer: text_decoder.bert.encoder.layer.6.output.LayerNorm.weight, Status: Frozen\n",
            "Layer: text_decoder.bert.encoder.layer.6.output.LayerNorm.bias, Status: Frozen\n",
            "Layer: text_decoder.bert.encoder.layer.7.attention.self.query.weight, Status: Frozen\n",
            "Layer: text_decoder.bert.encoder.layer.7.attention.self.query.bias, Status: Frozen\n",
            "Layer: text_decoder.bert.encoder.layer.7.attention.self.key.weight, Status: Frozen\n",
            "Layer: text_decoder.bert.encoder.layer.7.attention.self.key.bias, Status: Frozen\n",
            "Layer: text_decoder.bert.encoder.layer.7.attention.self.value.weight, Status: Frozen\n",
            "Layer: text_decoder.bert.encoder.layer.7.attention.self.value.bias, Status: Frozen\n",
            "Layer: text_decoder.bert.encoder.layer.7.attention.output.dense.weight, Status: Frozen\n",
            "Layer: text_decoder.bert.encoder.layer.7.attention.output.dense.bias, Status: Frozen\n",
            "Layer: text_decoder.bert.encoder.layer.7.attention.output.LayerNorm.weight, Status: Frozen\n",
            "Layer: text_decoder.bert.encoder.layer.7.attention.output.LayerNorm.bias, Status: Frozen\n",
            "Layer: text_decoder.bert.encoder.layer.7.crossattention.self.query.weight, Status: Frozen\n",
            "Layer: text_decoder.bert.encoder.layer.7.crossattention.self.query.bias, Status: Frozen\n",
            "Layer: text_decoder.bert.encoder.layer.7.crossattention.self.key.weight, Status: Frozen\n",
            "Layer: text_decoder.bert.encoder.layer.7.crossattention.self.key.bias, Status: Frozen\n",
            "Layer: text_decoder.bert.encoder.layer.7.crossattention.self.value.weight, Status: Frozen\n",
            "Layer: text_decoder.bert.encoder.layer.7.crossattention.self.value.bias, Status: Frozen\n",
            "Layer: text_decoder.bert.encoder.layer.7.crossattention.output.dense.weight, Status: Frozen\n",
            "Layer: text_decoder.bert.encoder.layer.7.crossattention.output.dense.bias, Status: Frozen\n",
            "Layer: text_decoder.bert.encoder.layer.7.crossattention.output.LayerNorm.weight, Status: Frozen\n",
            "Layer: text_decoder.bert.encoder.layer.7.crossattention.output.LayerNorm.bias, Status: Frozen\n",
            "Layer: text_decoder.bert.encoder.layer.7.intermediate.dense.weight, Status: Frozen\n",
            "Layer: text_decoder.bert.encoder.layer.7.intermediate.dense.bias, Status: Frozen\n",
            "Layer: text_decoder.bert.encoder.layer.7.output.dense.weight, Status: Frozen\n",
            "Layer: text_decoder.bert.encoder.layer.7.output.dense.bias, Status: Frozen\n",
            "Layer: text_decoder.bert.encoder.layer.7.output.LayerNorm.weight, Status: Frozen\n",
            "Layer: text_decoder.bert.encoder.layer.7.output.LayerNorm.bias, Status: Frozen\n",
            "Layer: text_decoder.bert.encoder.layer.8.attention.self.query.weight, Status: Frozen\n",
            "Layer: text_decoder.bert.encoder.layer.8.attention.self.query.bias, Status: Frozen\n",
            "Layer: text_decoder.bert.encoder.layer.8.attention.self.key.weight, Status: Frozen\n",
            "Layer: text_decoder.bert.encoder.layer.8.attention.self.key.bias, Status: Frozen\n",
            "Layer: text_decoder.bert.encoder.layer.8.attention.self.value.weight, Status: Frozen\n",
            "Layer: text_decoder.bert.encoder.layer.8.attention.self.value.bias, Status: Frozen\n",
            "Layer: text_decoder.bert.encoder.layer.8.attention.output.dense.weight, Status: Frozen\n",
            "Layer: text_decoder.bert.encoder.layer.8.attention.output.dense.bias, Status: Frozen\n",
            "Layer: text_decoder.bert.encoder.layer.8.attention.output.LayerNorm.weight, Status: Frozen\n",
            "Layer: text_decoder.bert.encoder.layer.8.attention.output.LayerNorm.bias, Status: Frozen\n",
            "Layer: text_decoder.bert.encoder.layer.8.crossattention.self.query.weight, Status: Frozen\n",
            "Layer: text_decoder.bert.encoder.layer.8.crossattention.self.query.bias, Status: Frozen\n",
            "Layer: text_decoder.bert.encoder.layer.8.crossattention.self.key.weight, Status: Frozen\n",
            "Layer: text_decoder.bert.encoder.layer.8.crossattention.self.key.bias, Status: Frozen\n",
            "Layer: text_decoder.bert.encoder.layer.8.crossattention.self.value.weight, Status: Frozen\n",
            "Layer: text_decoder.bert.encoder.layer.8.crossattention.self.value.bias, Status: Frozen\n",
            "Layer: text_decoder.bert.encoder.layer.8.crossattention.output.dense.weight, Status: Frozen\n",
            "Layer: text_decoder.bert.encoder.layer.8.crossattention.output.dense.bias, Status: Frozen\n",
            "Layer: text_decoder.bert.encoder.layer.8.crossattention.output.LayerNorm.weight, Status: Frozen\n",
            "Layer: text_decoder.bert.encoder.layer.8.crossattention.output.LayerNorm.bias, Status: Frozen\n",
            "Layer: text_decoder.bert.encoder.layer.8.intermediate.dense.weight, Status: Frozen\n",
            "Layer: text_decoder.bert.encoder.layer.8.intermediate.dense.bias, Status: Frozen\n",
            "Layer: text_decoder.bert.encoder.layer.8.output.dense.weight, Status: Frozen\n",
            "Layer: text_decoder.bert.encoder.layer.8.output.dense.bias, Status: Frozen\n",
            "Layer: text_decoder.bert.encoder.layer.8.output.LayerNorm.weight, Status: Frozen\n",
            "Layer: text_decoder.bert.encoder.layer.8.output.LayerNorm.bias, Status: Frozen\n",
            "Layer: text_decoder.bert.encoder.layer.9.attention.self.query.weight, Status: Frozen\n",
            "Layer: text_decoder.bert.encoder.layer.9.attention.self.query.bias, Status: Frozen\n",
            "Layer: text_decoder.bert.encoder.layer.9.attention.self.key.weight, Status: Frozen\n",
            "Layer: text_decoder.bert.encoder.layer.9.attention.self.key.bias, Status: Frozen\n",
            "Layer: text_decoder.bert.encoder.layer.9.attention.self.value.weight, Status: Frozen\n",
            "Layer: text_decoder.bert.encoder.layer.9.attention.self.value.bias, Status: Frozen\n",
            "Layer: text_decoder.bert.encoder.layer.9.attention.output.dense.weight, Status: Frozen\n",
            "Layer: text_decoder.bert.encoder.layer.9.attention.output.dense.bias, Status: Frozen\n",
            "Layer: text_decoder.bert.encoder.layer.9.attention.output.LayerNorm.weight, Status: Frozen\n",
            "Layer: text_decoder.bert.encoder.layer.9.attention.output.LayerNorm.bias, Status: Frozen\n",
            "Layer: text_decoder.bert.encoder.layer.9.crossattention.self.query.weight, Status: Frozen\n",
            "Layer: text_decoder.bert.encoder.layer.9.crossattention.self.query.bias, Status: Frozen\n",
            "Layer: text_decoder.bert.encoder.layer.9.crossattention.self.key.weight, Status: Frozen\n",
            "Layer: text_decoder.bert.encoder.layer.9.crossattention.self.key.bias, Status: Frozen\n",
            "Layer: text_decoder.bert.encoder.layer.9.crossattention.self.value.weight, Status: Frozen\n",
            "Layer: text_decoder.bert.encoder.layer.9.crossattention.self.value.bias, Status: Frozen\n",
            "Layer: text_decoder.bert.encoder.layer.9.crossattention.output.dense.weight, Status: Frozen\n",
            "Layer: text_decoder.bert.encoder.layer.9.crossattention.output.dense.bias, Status: Frozen\n",
            "Layer: text_decoder.bert.encoder.layer.9.crossattention.output.LayerNorm.weight, Status: Frozen\n",
            "Layer: text_decoder.bert.encoder.layer.9.crossattention.output.LayerNorm.bias, Status: Frozen\n",
            "Layer: text_decoder.bert.encoder.layer.9.intermediate.dense.weight, Status: Frozen\n",
            "Layer: text_decoder.bert.encoder.layer.9.intermediate.dense.bias, Status: Frozen\n",
            "Layer: text_decoder.bert.encoder.layer.9.output.dense.weight, Status: Frozen\n",
            "Layer: text_decoder.bert.encoder.layer.9.output.dense.bias, Status: Frozen\n",
            "Layer: text_decoder.bert.encoder.layer.9.output.LayerNorm.weight, Status: Frozen\n",
            "Layer: text_decoder.bert.encoder.layer.9.output.LayerNorm.bias, Status: Frozen\n",
            "Layer: text_decoder.bert.encoder.layer.10.attention.self.query.weight, Status: Trainable\n",
            "Layer: text_decoder.bert.encoder.layer.10.attention.self.query.bias, Status: Trainable\n",
            "Layer: text_decoder.bert.encoder.layer.10.attention.self.key.weight, Status: Trainable\n",
            "Layer: text_decoder.bert.encoder.layer.10.attention.self.key.bias, Status: Trainable\n",
            "Layer: text_decoder.bert.encoder.layer.10.attention.self.value.weight, Status: Trainable\n",
            "Layer: text_decoder.bert.encoder.layer.10.attention.self.value.bias, Status: Trainable\n",
            "Layer: text_decoder.bert.encoder.layer.10.attention.output.dense.weight, Status: Trainable\n",
            "Layer: text_decoder.bert.encoder.layer.10.attention.output.dense.bias, Status: Trainable\n",
            "Layer: text_decoder.bert.encoder.layer.10.attention.output.LayerNorm.weight, Status: Trainable\n",
            "Layer: text_decoder.bert.encoder.layer.10.attention.output.LayerNorm.bias, Status: Trainable\n",
            "Layer: text_decoder.bert.encoder.layer.10.crossattention.self.query.weight, Status: Trainable\n",
            "Layer: text_decoder.bert.encoder.layer.10.crossattention.self.query.bias, Status: Trainable\n",
            "Layer: text_decoder.bert.encoder.layer.10.crossattention.self.key.weight, Status: Trainable\n",
            "Layer: text_decoder.bert.encoder.layer.10.crossattention.self.key.bias, Status: Trainable\n",
            "Layer: text_decoder.bert.encoder.layer.10.crossattention.self.value.weight, Status: Trainable\n",
            "Layer: text_decoder.bert.encoder.layer.10.crossattention.self.value.bias, Status: Trainable\n",
            "Layer: text_decoder.bert.encoder.layer.10.crossattention.output.dense.weight, Status: Trainable\n",
            "Layer: text_decoder.bert.encoder.layer.10.crossattention.output.dense.bias, Status: Trainable\n",
            "Layer: text_decoder.bert.encoder.layer.10.crossattention.output.LayerNorm.weight, Status: Trainable\n",
            "Layer: text_decoder.bert.encoder.layer.10.crossattention.output.LayerNorm.bias, Status: Trainable\n",
            "Layer: text_decoder.bert.encoder.layer.10.intermediate.dense.weight, Status: Trainable\n",
            "Layer: text_decoder.bert.encoder.layer.10.intermediate.dense.bias, Status: Trainable\n",
            "Layer: text_decoder.bert.encoder.layer.10.output.dense.weight, Status: Trainable\n",
            "Layer: text_decoder.bert.encoder.layer.10.output.dense.bias, Status: Trainable\n",
            "Layer: text_decoder.bert.encoder.layer.10.output.LayerNorm.weight, Status: Trainable\n",
            "Layer: text_decoder.bert.encoder.layer.10.output.LayerNorm.bias, Status: Trainable\n",
            "Layer: text_decoder.bert.encoder.layer.11.attention.self.query.weight, Status: Trainable\n",
            "Layer: text_decoder.bert.encoder.layer.11.attention.self.query.bias, Status: Trainable\n",
            "Layer: text_decoder.bert.encoder.layer.11.attention.self.key.weight, Status: Trainable\n",
            "Layer: text_decoder.bert.encoder.layer.11.attention.self.key.bias, Status: Trainable\n",
            "Layer: text_decoder.bert.encoder.layer.11.attention.self.value.weight, Status: Trainable\n",
            "Layer: text_decoder.bert.encoder.layer.11.attention.self.value.bias, Status: Trainable\n",
            "Layer: text_decoder.bert.encoder.layer.11.attention.output.dense.weight, Status: Trainable\n",
            "Layer: text_decoder.bert.encoder.layer.11.attention.output.dense.bias, Status: Trainable\n",
            "Layer: text_decoder.bert.encoder.layer.11.attention.output.LayerNorm.weight, Status: Trainable\n",
            "Layer: text_decoder.bert.encoder.layer.11.attention.output.LayerNorm.bias, Status: Trainable\n",
            "Layer: text_decoder.bert.encoder.layer.11.crossattention.self.query.weight, Status: Trainable\n",
            "Layer: text_decoder.bert.encoder.layer.11.crossattention.self.query.bias, Status: Trainable\n",
            "Layer: text_decoder.bert.encoder.layer.11.crossattention.self.key.weight, Status: Trainable\n",
            "Layer: text_decoder.bert.encoder.layer.11.crossattention.self.key.bias, Status: Trainable\n",
            "Layer: text_decoder.bert.encoder.layer.11.crossattention.self.value.weight, Status: Trainable\n",
            "Layer: text_decoder.bert.encoder.layer.11.crossattention.self.value.bias, Status: Trainable\n",
            "Layer: text_decoder.bert.encoder.layer.11.crossattention.output.dense.weight, Status: Trainable\n",
            "Layer: text_decoder.bert.encoder.layer.11.crossattention.output.dense.bias, Status: Trainable\n",
            "Layer: text_decoder.bert.encoder.layer.11.crossattention.output.LayerNorm.weight, Status: Trainable\n",
            "Layer: text_decoder.bert.encoder.layer.11.crossattention.output.LayerNorm.bias, Status: Trainable\n",
            "Layer: text_decoder.bert.encoder.layer.11.intermediate.dense.weight, Status: Trainable\n",
            "Layer: text_decoder.bert.encoder.layer.11.intermediate.dense.bias, Status: Trainable\n",
            "Layer: text_decoder.bert.encoder.layer.11.output.dense.weight, Status: Trainable\n",
            "Layer: text_decoder.bert.encoder.layer.11.output.dense.bias, Status: Trainable\n",
            "Layer: text_decoder.bert.encoder.layer.11.output.LayerNorm.weight, Status: Trainable\n",
            "Layer: text_decoder.bert.encoder.layer.11.output.LayerNorm.bias, Status: Trainable\n",
            "Layer: text_decoder.cls.predictions.bias, Status: Frozen\n",
            "Layer: text_decoder.cls.predictions.transform.dense.weight, Status: Frozen\n",
            "Layer: text_decoder.cls.predictions.transform.dense.bias, Status: Frozen\n",
            "Layer: text_decoder.cls.predictions.transform.LayerNorm.weight, Status: Frozen\n",
            "Layer: text_decoder.cls.predictions.transform.LayerNorm.bias, Status: Frozen\n",
            "Layer: text_decoder.cls.predictions.decoder.weight, Status: Frozen\n"
          ]
        }
      ],
      "source": [
        "for name, param in blip_model.named_parameters():\n",
        "    status = \"Trainable\" if param.requires_grad else \"Frozen\"\n",
        "    print(f\"Layer: {name}, Status: {status}\")"
      ]
    },
    {
      "cell_type": "code",
      "execution_count": null,
      "metadata": {
        "id": "FkAACq6gEDQ3",
        "colab": {
          "base_uri": "https://localhost:8080/",
          "height": 214,
          "referenced_widgets": [
            "8f6a5320abfd4314aa4c6cf2ff3c66c2",
            "a148edb3fdd2417cacfcd05f09e665fc",
            "73637e77b03045728748621a1fb0ac7e",
            "2ff70302c9ad487c83d1878eddecf25f",
            "7d150822442e41cc909f15ff2f2d114f",
            "d800f823cfc54a638e8d225c05478eda",
            "059b9b31bf944cb99f2bb1fb5819cd37",
            "605119469c7442c398c765efedd685b8",
            "28df247c29e94185a6566250e92654df",
            "a27bd7f97ce141ed9a048132d7adb813",
            "e01716cbcb3f4c47bff1aa031ddf2e82",
            "b0b3ec034b784951aad3b74fbbf96f2e",
            "d0d5624eb7284bba874769083317ffe9",
            "4bc504179c2f4f63bb82f9e8dc5ac904",
            "92467b183c8d490387ac5da2fd525299",
            "b4debbd6102e45588515f0f8ff60ace9",
            "c31038a7e9c24a95aee2438771bd4fbf",
            "5733c99400544d49b99ff10cf382fec0",
            "69cb038cf1074fb98c94e1cae45befb7",
            "19ed2e6e91784f998e76b30644d6abc2",
            "dedec4afbe5445c88721e27675c56c99",
            "0f1bd0507ac941fc9619cb39b99f9e7e",
            "a30b122de3ea4a91be575e6e95a1b4ab",
            "c9636077a88b4e0cbe964a3c4f774bef",
            "5879576260c74f97804390590a48836c",
            "bc2c39960e0044de8dbbd6dcd464684d",
            "510efae5b3264b7a8a9abf47660c8c0f",
            "083d3a4145c24b55a5f07761059bf13e",
            "d9b306b86deb45c1a9a2c3e5d7f57311",
            "ce895ffc79804b809084503b8093922e",
            "4ab51f1e5ca048c5862fd7fd0cdd4d42",
            "c7b56c8d9dbb4c3c8cbbc00e46f33450",
            "d1fdb73581094311aab3d25ec829560a",
            "d50a1db0f80d434596fd990a9eaba7c5",
            "e60255cf0a6a4aaa9ab04c2214a87677",
            "0e684702580147549918278bcd0e8934",
            "547867a7cc284abc912c81a7c7685430",
            "73a01d450fc84827ade763780a8ce51a",
            "e31a052e58e54b91bb58fe77bee87ec0",
            "9fa781ed50374eb0812503c25f723105",
            "bcb686c1ec7d4b2da5964464e3938c47",
            "3e72758d2141454ca25bb6fda11ef8c1",
            "f3aa6839b3914cd3b0a393a91868126e",
            "a3bd04d018f0496ba41d5d4a991fc652",
            "99a5e0e12fcb43e1acde3b33d1fa21e2",
            "f2c3f74552bd42ef808bd2440cac1b03",
            "ab5b5221cdde4b2ba37a7b78b9c68911",
            "84d07bb1ded8417bb7247cc0a6f8deea",
            "5377ce1e1e4148909ea90e991cd8aa5f",
            "5c266dab582d45d2b993a05775ab2f4e",
            "f1cae6b9b0a048dcb9d199f26c0fa13f",
            "da5931ec0ea747979819a38dedfb885d",
            "3ac9558073604e94a4c645890f5d9eef",
            "3384883db2ca495eac26551ee6beb976",
            "c56538791f224d86aebf311025cc371e"
          ]
        },
        "outputId": "47370d54-3c71-4f5d-a6e7-f7cb6b48320c"
      },
      "outputs": [
        {
          "output_type": "display_data",
          "data": {
            "text/plain": [
              "spiece.model:   0%|          | 0.00/792k [00:00<?, ?B/s]"
            ],
            "application/vnd.jupyter.widget-view+json": {
              "version_major": 2,
              "version_minor": 0,
              "model_id": "8f6a5320abfd4314aa4c6cf2ff3c66c2"
            }
          },
          "metadata": {}
        },
        {
          "output_type": "display_data",
          "data": {
            "text/plain": [
              "tokenizer.json:   0%|          | 0.00/1.39M [00:00<?, ?B/s]"
            ],
            "application/vnd.jupyter.widget-view+json": {
              "version_major": 2,
              "version_minor": 0,
              "model_id": "b0b3ec034b784951aad3b74fbbf96f2e"
            }
          },
          "metadata": {}
        },
        {
          "output_type": "display_data",
          "data": {
            "text/plain": [
              "config.json:   0%|          | 0.00/1.21k [00:00<?, ?B/s]"
            ],
            "application/vnd.jupyter.widget-view+json": {
              "version_major": 2,
              "version_minor": 0,
              "model_id": "a30b122de3ea4a91be575e6e95a1b4ab"
            }
          },
          "metadata": {}
        },
        {
          "output_type": "stream",
          "name": "stderr",
          "text": [
            "You are using the default legacy behaviour of the <class 'transformers.models.t5.tokenization_t5.T5Tokenizer'>. This is expected, and simply means that the `legacy` (previous) behavior will be used so nothing changes for you. If you want to use the new behaviour, set `legacy=False`. This should only be set if you understand what it means, and thoroughly read the reason why this was added as explained in https://github.com/huggingface/transformers/pull/24565\n"
          ]
        },
        {
          "output_type": "display_data",
          "data": {
            "text/plain": [
              "model.safetensors:   0%|          | 0.00/892M [00:00<?, ?B/s]"
            ],
            "application/vnd.jupyter.widget-view+json": {
              "version_major": 2,
              "version_minor": 0,
              "model_id": "d50a1db0f80d434596fd990a9eaba7c5"
            }
          },
          "metadata": {}
        },
        {
          "output_type": "display_data",
          "data": {
            "text/plain": [
              "generation_config.json:   0%|          | 0.00/147 [00:00<?, ?B/s]"
            ],
            "application/vnd.jupyter.widget-view+json": {
              "version_major": 2,
              "version_minor": 0,
              "model_id": "99a5e0e12fcb43e1acde3b33d1fa21e2"
            }
          },
          "metadata": {}
        }
      ],
      "source": [
        "# Initialize T5 tokenizer and model\n",
        "t5_tokenizer = T5Tokenizer.from_pretrained('t5-base')\n",
        "t5_model = T5ForConditionalGeneration.from_pretrained('t5-base').to('cuda' if torch.cuda.is_available() else 'cpu')\n"
      ]
    },
    {
      "cell_type": "code",
      "execution_count": null,
      "metadata": {
        "id": "z8yKnmdIde8u"
      },
      "outputs": [],
      "source": [
        "for name, parameter in t5_model.named_parameters():\n",
        "  if \"encoder.block\" in name:\n",
        "    index = name.split(\".\")[2]\n",
        "    if int(index) < 9:\n",
        "      parameter.requires_grad = False\n",
        "    else:\n",
        "      parameter.requires_grad = True\n",
        "\n",
        "# First, freeze all decoder parameters\n",
        "for name, parameter in t5_model.named_parameters():\n",
        "    if \"decoder\" in name:\n",
        "        parameter.requires_grad = False\n",
        "\n",
        "# Then, unfreeze only EncDecAttention layers in the last 3 decoder blocks\n",
        "for name, parameter in t5_model.named_parameters():\n",
        "    if \"decoder.block\" in name and \"EncDecAttention\" in name:\n",
        "        # Split the parameter name to extract the block index\n",
        "        parts = name.split(\".\")\n",
        "        try:\n",
        "            # Assuming the block index is the third element after splitting\n",
        "            block_idx = int(parts[2])\n",
        "            if block_idx >= 9:  # Last 3 blocks in a 12-block decoder: 9, 10, 11\n",
        "                parameter.requires_grad = True\n",
        "        except (IndexError, ValueError):\n",
        "            # If parsing fails, skip modifying this parameter\n",
        "            continue\n",
        "\n"
      ]
    },
    {
      "cell_type": "code",
      "execution_count": null,
      "metadata": {
        "id": "poHZofznW3KL",
        "colab": {
          "base_uri": "https://localhost:8080/"
        },
        "outputId": "517b9517-3319-4156-9520-6ff676311da1"
      },
      "outputs": [
        {
          "output_type": "stream",
          "name": "stdout",
          "text": [
            "Layer: shared.weight, Status: Trainable\n",
            "Layer: encoder.block.0.layer.0.SelfAttention.q.weight, Status: Frozen\n",
            "Layer: encoder.block.0.layer.0.SelfAttention.k.weight, Status: Frozen\n",
            "Layer: encoder.block.0.layer.0.SelfAttention.v.weight, Status: Frozen\n",
            "Layer: encoder.block.0.layer.0.SelfAttention.o.weight, Status: Frozen\n",
            "Layer: encoder.block.0.layer.0.SelfAttention.relative_attention_bias.weight, Status: Frozen\n",
            "Layer: encoder.block.0.layer.0.layer_norm.weight, Status: Frozen\n",
            "Layer: encoder.block.0.layer.1.DenseReluDense.wi.weight, Status: Frozen\n",
            "Layer: encoder.block.0.layer.1.DenseReluDense.wo.weight, Status: Frozen\n",
            "Layer: encoder.block.0.layer.1.layer_norm.weight, Status: Frozen\n",
            "Layer: encoder.block.1.layer.0.SelfAttention.q.weight, Status: Frozen\n",
            "Layer: encoder.block.1.layer.0.SelfAttention.k.weight, Status: Frozen\n",
            "Layer: encoder.block.1.layer.0.SelfAttention.v.weight, Status: Frozen\n",
            "Layer: encoder.block.1.layer.0.SelfAttention.o.weight, Status: Frozen\n",
            "Layer: encoder.block.1.layer.0.layer_norm.weight, Status: Frozen\n",
            "Layer: encoder.block.1.layer.1.DenseReluDense.wi.weight, Status: Frozen\n",
            "Layer: encoder.block.1.layer.1.DenseReluDense.wo.weight, Status: Frozen\n",
            "Layer: encoder.block.1.layer.1.layer_norm.weight, Status: Frozen\n",
            "Layer: encoder.block.2.layer.0.SelfAttention.q.weight, Status: Frozen\n",
            "Layer: encoder.block.2.layer.0.SelfAttention.k.weight, Status: Frozen\n",
            "Layer: encoder.block.2.layer.0.SelfAttention.v.weight, Status: Frozen\n",
            "Layer: encoder.block.2.layer.0.SelfAttention.o.weight, Status: Frozen\n",
            "Layer: encoder.block.2.layer.0.layer_norm.weight, Status: Frozen\n",
            "Layer: encoder.block.2.layer.1.DenseReluDense.wi.weight, Status: Frozen\n",
            "Layer: encoder.block.2.layer.1.DenseReluDense.wo.weight, Status: Frozen\n",
            "Layer: encoder.block.2.layer.1.layer_norm.weight, Status: Frozen\n",
            "Layer: encoder.block.3.layer.0.SelfAttention.q.weight, Status: Frozen\n",
            "Layer: encoder.block.3.layer.0.SelfAttention.k.weight, Status: Frozen\n",
            "Layer: encoder.block.3.layer.0.SelfAttention.v.weight, Status: Frozen\n",
            "Layer: encoder.block.3.layer.0.SelfAttention.o.weight, Status: Frozen\n",
            "Layer: encoder.block.3.layer.0.layer_norm.weight, Status: Frozen\n",
            "Layer: encoder.block.3.layer.1.DenseReluDense.wi.weight, Status: Frozen\n",
            "Layer: encoder.block.3.layer.1.DenseReluDense.wo.weight, Status: Frozen\n",
            "Layer: encoder.block.3.layer.1.layer_norm.weight, Status: Frozen\n",
            "Layer: encoder.block.4.layer.0.SelfAttention.q.weight, Status: Frozen\n",
            "Layer: encoder.block.4.layer.0.SelfAttention.k.weight, Status: Frozen\n",
            "Layer: encoder.block.4.layer.0.SelfAttention.v.weight, Status: Frozen\n",
            "Layer: encoder.block.4.layer.0.SelfAttention.o.weight, Status: Frozen\n",
            "Layer: encoder.block.4.layer.0.layer_norm.weight, Status: Frozen\n",
            "Layer: encoder.block.4.layer.1.DenseReluDense.wi.weight, Status: Frozen\n",
            "Layer: encoder.block.4.layer.1.DenseReluDense.wo.weight, Status: Frozen\n",
            "Layer: encoder.block.4.layer.1.layer_norm.weight, Status: Frozen\n",
            "Layer: encoder.block.5.layer.0.SelfAttention.q.weight, Status: Frozen\n",
            "Layer: encoder.block.5.layer.0.SelfAttention.k.weight, Status: Frozen\n",
            "Layer: encoder.block.5.layer.0.SelfAttention.v.weight, Status: Frozen\n",
            "Layer: encoder.block.5.layer.0.SelfAttention.o.weight, Status: Frozen\n",
            "Layer: encoder.block.5.layer.0.layer_norm.weight, Status: Frozen\n",
            "Layer: encoder.block.5.layer.1.DenseReluDense.wi.weight, Status: Frozen\n",
            "Layer: encoder.block.5.layer.1.DenseReluDense.wo.weight, Status: Frozen\n",
            "Layer: encoder.block.5.layer.1.layer_norm.weight, Status: Frozen\n",
            "Layer: encoder.block.6.layer.0.SelfAttention.q.weight, Status: Frozen\n",
            "Layer: encoder.block.6.layer.0.SelfAttention.k.weight, Status: Frozen\n",
            "Layer: encoder.block.6.layer.0.SelfAttention.v.weight, Status: Frozen\n",
            "Layer: encoder.block.6.layer.0.SelfAttention.o.weight, Status: Frozen\n",
            "Layer: encoder.block.6.layer.0.layer_norm.weight, Status: Frozen\n",
            "Layer: encoder.block.6.layer.1.DenseReluDense.wi.weight, Status: Frozen\n",
            "Layer: encoder.block.6.layer.1.DenseReluDense.wo.weight, Status: Frozen\n",
            "Layer: encoder.block.6.layer.1.layer_norm.weight, Status: Frozen\n",
            "Layer: encoder.block.7.layer.0.SelfAttention.q.weight, Status: Frozen\n",
            "Layer: encoder.block.7.layer.0.SelfAttention.k.weight, Status: Frozen\n",
            "Layer: encoder.block.7.layer.0.SelfAttention.v.weight, Status: Frozen\n",
            "Layer: encoder.block.7.layer.0.SelfAttention.o.weight, Status: Frozen\n",
            "Layer: encoder.block.7.layer.0.layer_norm.weight, Status: Frozen\n",
            "Layer: encoder.block.7.layer.1.DenseReluDense.wi.weight, Status: Frozen\n",
            "Layer: encoder.block.7.layer.1.DenseReluDense.wo.weight, Status: Frozen\n",
            "Layer: encoder.block.7.layer.1.layer_norm.weight, Status: Frozen\n",
            "Layer: encoder.block.8.layer.0.SelfAttention.q.weight, Status: Frozen\n",
            "Layer: encoder.block.8.layer.0.SelfAttention.k.weight, Status: Frozen\n",
            "Layer: encoder.block.8.layer.0.SelfAttention.v.weight, Status: Frozen\n",
            "Layer: encoder.block.8.layer.0.SelfAttention.o.weight, Status: Frozen\n",
            "Layer: encoder.block.8.layer.0.layer_norm.weight, Status: Frozen\n",
            "Layer: encoder.block.8.layer.1.DenseReluDense.wi.weight, Status: Frozen\n",
            "Layer: encoder.block.8.layer.1.DenseReluDense.wo.weight, Status: Frozen\n",
            "Layer: encoder.block.8.layer.1.layer_norm.weight, Status: Frozen\n",
            "Layer: encoder.block.9.layer.0.SelfAttention.q.weight, Status: Trainable\n",
            "Layer: encoder.block.9.layer.0.SelfAttention.k.weight, Status: Trainable\n",
            "Layer: encoder.block.9.layer.0.SelfAttention.v.weight, Status: Trainable\n",
            "Layer: encoder.block.9.layer.0.SelfAttention.o.weight, Status: Trainable\n",
            "Layer: encoder.block.9.layer.0.layer_norm.weight, Status: Trainable\n",
            "Layer: encoder.block.9.layer.1.DenseReluDense.wi.weight, Status: Trainable\n",
            "Layer: encoder.block.9.layer.1.DenseReluDense.wo.weight, Status: Trainable\n",
            "Layer: encoder.block.9.layer.1.layer_norm.weight, Status: Trainable\n",
            "Layer: encoder.block.10.layer.0.SelfAttention.q.weight, Status: Trainable\n",
            "Layer: encoder.block.10.layer.0.SelfAttention.k.weight, Status: Trainable\n",
            "Layer: encoder.block.10.layer.0.SelfAttention.v.weight, Status: Trainable\n",
            "Layer: encoder.block.10.layer.0.SelfAttention.o.weight, Status: Trainable\n",
            "Layer: encoder.block.10.layer.0.layer_norm.weight, Status: Trainable\n",
            "Layer: encoder.block.10.layer.1.DenseReluDense.wi.weight, Status: Trainable\n",
            "Layer: encoder.block.10.layer.1.DenseReluDense.wo.weight, Status: Trainable\n",
            "Layer: encoder.block.10.layer.1.layer_norm.weight, Status: Trainable\n",
            "Layer: encoder.block.11.layer.0.SelfAttention.q.weight, Status: Trainable\n",
            "Layer: encoder.block.11.layer.0.SelfAttention.k.weight, Status: Trainable\n",
            "Layer: encoder.block.11.layer.0.SelfAttention.v.weight, Status: Trainable\n",
            "Layer: encoder.block.11.layer.0.SelfAttention.o.weight, Status: Trainable\n",
            "Layer: encoder.block.11.layer.0.layer_norm.weight, Status: Trainable\n",
            "Layer: encoder.block.11.layer.1.DenseReluDense.wi.weight, Status: Trainable\n",
            "Layer: encoder.block.11.layer.1.DenseReluDense.wo.weight, Status: Trainable\n",
            "Layer: encoder.block.11.layer.1.layer_norm.weight, Status: Trainable\n",
            "Layer: encoder.final_layer_norm.weight, Status: Trainable\n",
            "Layer: decoder.block.0.layer.0.SelfAttention.q.weight, Status: Frozen\n",
            "Layer: decoder.block.0.layer.0.SelfAttention.k.weight, Status: Frozen\n",
            "Layer: decoder.block.0.layer.0.SelfAttention.v.weight, Status: Frozen\n",
            "Layer: decoder.block.0.layer.0.SelfAttention.o.weight, Status: Frozen\n",
            "Layer: decoder.block.0.layer.0.SelfAttention.relative_attention_bias.weight, Status: Frozen\n",
            "Layer: decoder.block.0.layer.0.layer_norm.weight, Status: Frozen\n",
            "Layer: decoder.block.0.layer.1.EncDecAttention.q.weight, Status: Frozen\n",
            "Layer: decoder.block.0.layer.1.EncDecAttention.k.weight, Status: Frozen\n",
            "Layer: decoder.block.0.layer.1.EncDecAttention.v.weight, Status: Frozen\n",
            "Layer: decoder.block.0.layer.1.EncDecAttention.o.weight, Status: Frozen\n",
            "Layer: decoder.block.0.layer.1.layer_norm.weight, Status: Frozen\n",
            "Layer: decoder.block.0.layer.2.DenseReluDense.wi.weight, Status: Frozen\n",
            "Layer: decoder.block.0.layer.2.DenseReluDense.wo.weight, Status: Frozen\n",
            "Layer: decoder.block.0.layer.2.layer_norm.weight, Status: Frozen\n",
            "Layer: decoder.block.1.layer.0.SelfAttention.q.weight, Status: Frozen\n",
            "Layer: decoder.block.1.layer.0.SelfAttention.k.weight, Status: Frozen\n",
            "Layer: decoder.block.1.layer.0.SelfAttention.v.weight, Status: Frozen\n",
            "Layer: decoder.block.1.layer.0.SelfAttention.o.weight, Status: Frozen\n",
            "Layer: decoder.block.1.layer.0.layer_norm.weight, Status: Frozen\n",
            "Layer: decoder.block.1.layer.1.EncDecAttention.q.weight, Status: Frozen\n",
            "Layer: decoder.block.1.layer.1.EncDecAttention.k.weight, Status: Frozen\n",
            "Layer: decoder.block.1.layer.1.EncDecAttention.v.weight, Status: Frozen\n",
            "Layer: decoder.block.1.layer.1.EncDecAttention.o.weight, Status: Frozen\n",
            "Layer: decoder.block.1.layer.1.layer_norm.weight, Status: Frozen\n",
            "Layer: decoder.block.1.layer.2.DenseReluDense.wi.weight, Status: Frozen\n",
            "Layer: decoder.block.1.layer.2.DenseReluDense.wo.weight, Status: Frozen\n",
            "Layer: decoder.block.1.layer.2.layer_norm.weight, Status: Frozen\n",
            "Layer: decoder.block.2.layer.0.SelfAttention.q.weight, Status: Frozen\n",
            "Layer: decoder.block.2.layer.0.SelfAttention.k.weight, Status: Frozen\n",
            "Layer: decoder.block.2.layer.0.SelfAttention.v.weight, Status: Frozen\n",
            "Layer: decoder.block.2.layer.0.SelfAttention.o.weight, Status: Frozen\n",
            "Layer: decoder.block.2.layer.0.layer_norm.weight, Status: Frozen\n",
            "Layer: decoder.block.2.layer.1.EncDecAttention.q.weight, Status: Frozen\n",
            "Layer: decoder.block.2.layer.1.EncDecAttention.k.weight, Status: Frozen\n",
            "Layer: decoder.block.2.layer.1.EncDecAttention.v.weight, Status: Frozen\n",
            "Layer: decoder.block.2.layer.1.EncDecAttention.o.weight, Status: Frozen\n",
            "Layer: decoder.block.2.layer.1.layer_norm.weight, Status: Frozen\n",
            "Layer: decoder.block.2.layer.2.DenseReluDense.wi.weight, Status: Frozen\n",
            "Layer: decoder.block.2.layer.2.DenseReluDense.wo.weight, Status: Frozen\n",
            "Layer: decoder.block.2.layer.2.layer_norm.weight, Status: Frozen\n",
            "Layer: decoder.block.3.layer.0.SelfAttention.q.weight, Status: Frozen\n",
            "Layer: decoder.block.3.layer.0.SelfAttention.k.weight, Status: Frozen\n",
            "Layer: decoder.block.3.layer.0.SelfAttention.v.weight, Status: Frozen\n",
            "Layer: decoder.block.3.layer.0.SelfAttention.o.weight, Status: Frozen\n",
            "Layer: decoder.block.3.layer.0.layer_norm.weight, Status: Frozen\n",
            "Layer: decoder.block.3.layer.1.EncDecAttention.q.weight, Status: Frozen\n",
            "Layer: decoder.block.3.layer.1.EncDecAttention.k.weight, Status: Frozen\n",
            "Layer: decoder.block.3.layer.1.EncDecAttention.v.weight, Status: Frozen\n",
            "Layer: decoder.block.3.layer.1.EncDecAttention.o.weight, Status: Frozen\n",
            "Layer: decoder.block.3.layer.1.layer_norm.weight, Status: Frozen\n",
            "Layer: decoder.block.3.layer.2.DenseReluDense.wi.weight, Status: Frozen\n",
            "Layer: decoder.block.3.layer.2.DenseReluDense.wo.weight, Status: Frozen\n",
            "Layer: decoder.block.3.layer.2.layer_norm.weight, Status: Frozen\n",
            "Layer: decoder.block.4.layer.0.SelfAttention.q.weight, Status: Frozen\n",
            "Layer: decoder.block.4.layer.0.SelfAttention.k.weight, Status: Frozen\n",
            "Layer: decoder.block.4.layer.0.SelfAttention.v.weight, Status: Frozen\n",
            "Layer: decoder.block.4.layer.0.SelfAttention.o.weight, Status: Frozen\n",
            "Layer: decoder.block.4.layer.0.layer_norm.weight, Status: Frozen\n",
            "Layer: decoder.block.4.layer.1.EncDecAttention.q.weight, Status: Frozen\n",
            "Layer: decoder.block.4.layer.1.EncDecAttention.k.weight, Status: Frozen\n",
            "Layer: decoder.block.4.layer.1.EncDecAttention.v.weight, Status: Frozen\n",
            "Layer: decoder.block.4.layer.1.EncDecAttention.o.weight, Status: Frozen\n",
            "Layer: decoder.block.4.layer.1.layer_norm.weight, Status: Frozen\n",
            "Layer: decoder.block.4.layer.2.DenseReluDense.wi.weight, Status: Frozen\n",
            "Layer: decoder.block.4.layer.2.DenseReluDense.wo.weight, Status: Frozen\n",
            "Layer: decoder.block.4.layer.2.layer_norm.weight, Status: Frozen\n",
            "Layer: decoder.block.5.layer.0.SelfAttention.q.weight, Status: Frozen\n",
            "Layer: decoder.block.5.layer.0.SelfAttention.k.weight, Status: Frozen\n",
            "Layer: decoder.block.5.layer.0.SelfAttention.v.weight, Status: Frozen\n",
            "Layer: decoder.block.5.layer.0.SelfAttention.o.weight, Status: Frozen\n",
            "Layer: decoder.block.5.layer.0.layer_norm.weight, Status: Frozen\n",
            "Layer: decoder.block.5.layer.1.EncDecAttention.q.weight, Status: Frozen\n",
            "Layer: decoder.block.5.layer.1.EncDecAttention.k.weight, Status: Frozen\n",
            "Layer: decoder.block.5.layer.1.EncDecAttention.v.weight, Status: Frozen\n",
            "Layer: decoder.block.5.layer.1.EncDecAttention.o.weight, Status: Frozen\n",
            "Layer: decoder.block.5.layer.1.layer_norm.weight, Status: Frozen\n",
            "Layer: decoder.block.5.layer.2.DenseReluDense.wi.weight, Status: Frozen\n",
            "Layer: decoder.block.5.layer.2.DenseReluDense.wo.weight, Status: Frozen\n",
            "Layer: decoder.block.5.layer.2.layer_norm.weight, Status: Frozen\n",
            "Layer: decoder.block.6.layer.0.SelfAttention.q.weight, Status: Frozen\n",
            "Layer: decoder.block.6.layer.0.SelfAttention.k.weight, Status: Frozen\n",
            "Layer: decoder.block.6.layer.0.SelfAttention.v.weight, Status: Frozen\n",
            "Layer: decoder.block.6.layer.0.SelfAttention.o.weight, Status: Frozen\n",
            "Layer: decoder.block.6.layer.0.layer_norm.weight, Status: Frozen\n",
            "Layer: decoder.block.6.layer.1.EncDecAttention.q.weight, Status: Frozen\n",
            "Layer: decoder.block.6.layer.1.EncDecAttention.k.weight, Status: Frozen\n",
            "Layer: decoder.block.6.layer.1.EncDecAttention.v.weight, Status: Frozen\n",
            "Layer: decoder.block.6.layer.1.EncDecAttention.o.weight, Status: Frozen\n",
            "Layer: decoder.block.6.layer.1.layer_norm.weight, Status: Frozen\n",
            "Layer: decoder.block.6.layer.2.DenseReluDense.wi.weight, Status: Frozen\n",
            "Layer: decoder.block.6.layer.2.DenseReluDense.wo.weight, Status: Frozen\n",
            "Layer: decoder.block.6.layer.2.layer_norm.weight, Status: Frozen\n",
            "Layer: decoder.block.7.layer.0.SelfAttention.q.weight, Status: Frozen\n",
            "Layer: decoder.block.7.layer.0.SelfAttention.k.weight, Status: Frozen\n",
            "Layer: decoder.block.7.layer.0.SelfAttention.v.weight, Status: Frozen\n",
            "Layer: decoder.block.7.layer.0.SelfAttention.o.weight, Status: Frozen\n",
            "Layer: decoder.block.7.layer.0.layer_norm.weight, Status: Frozen\n",
            "Layer: decoder.block.7.layer.1.EncDecAttention.q.weight, Status: Frozen\n",
            "Layer: decoder.block.7.layer.1.EncDecAttention.k.weight, Status: Frozen\n",
            "Layer: decoder.block.7.layer.1.EncDecAttention.v.weight, Status: Frozen\n",
            "Layer: decoder.block.7.layer.1.EncDecAttention.o.weight, Status: Frozen\n",
            "Layer: decoder.block.7.layer.1.layer_norm.weight, Status: Frozen\n",
            "Layer: decoder.block.7.layer.2.DenseReluDense.wi.weight, Status: Frozen\n",
            "Layer: decoder.block.7.layer.2.DenseReluDense.wo.weight, Status: Frozen\n",
            "Layer: decoder.block.7.layer.2.layer_norm.weight, Status: Frozen\n",
            "Layer: decoder.block.8.layer.0.SelfAttention.q.weight, Status: Frozen\n",
            "Layer: decoder.block.8.layer.0.SelfAttention.k.weight, Status: Frozen\n",
            "Layer: decoder.block.8.layer.0.SelfAttention.v.weight, Status: Frozen\n",
            "Layer: decoder.block.8.layer.0.SelfAttention.o.weight, Status: Frozen\n",
            "Layer: decoder.block.8.layer.0.layer_norm.weight, Status: Frozen\n",
            "Layer: decoder.block.8.layer.1.EncDecAttention.q.weight, Status: Frozen\n",
            "Layer: decoder.block.8.layer.1.EncDecAttention.k.weight, Status: Frozen\n",
            "Layer: decoder.block.8.layer.1.EncDecAttention.v.weight, Status: Frozen\n",
            "Layer: decoder.block.8.layer.1.EncDecAttention.o.weight, Status: Frozen\n",
            "Layer: decoder.block.8.layer.1.layer_norm.weight, Status: Frozen\n",
            "Layer: decoder.block.8.layer.2.DenseReluDense.wi.weight, Status: Frozen\n",
            "Layer: decoder.block.8.layer.2.DenseReluDense.wo.weight, Status: Frozen\n",
            "Layer: decoder.block.8.layer.2.layer_norm.weight, Status: Frozen\n",
            "Layer: decoder.block.9.layer.0.SelfAttention.q.weight, Status: Frozen\n",
            "Layer: decoder.block.9.layer.0.SelfAttention.k.weight, Status: Frozen\n",
            "Layer: decoder.block.9.layer.0.SelfAttention.v.weight, Status: Frozen\n",
            "Layer: decoder.block.9.layer.0.SelfAttention.o.weight, Status: Frozen\n",
            "Layer: decoder.block.9.layer.0.layer_norm.weight, Status: Frozen\n",
            "Layer: decoder.block.9.layer.1.EncDecAttention.q.weight, Status: Trainable\n",
            "Layer: decoder.block.9.layer.1.EncDecAttention.k.weight, Status: Trainable\n",
            "Layer: decoder.block.9.layer.1.EncDecAttention.v.weight, Status: Trainable\n",
            "Layer: decoder.block.9.layer.1.EncDecAttention.o.weight, Status: Trainable\n",
            "Layer: decoder.block.9.layer.1.layer_norm.weight, Status: Frozen\n",
            "Layer: decoder.block.9.layer.2.DenseReluDense.wi.weight, Status: Frozen\n",
            "Layer: decoder.block.9.layer.2.DenseReluDense.wo.weight, Status: Frozen\n",
            "Layer: decoder.block.9.layer.2.layer_norm.weight, Status: Frozen\n",
            "Layer: decoder.block.10.layer.0.SelfAttention.q.weight, Status: Frozen\n",
            "Layer: decoder.block.10.layer.0.SelfAttention.k.weight, Status: Frozen\n",
            "Layer: decoder.block.10.layer.0.SelfAttention.v.weight, Status: Frozen\n",
            "Layer: decoder.block.10.layer.0.SelfAttention.o.weight, Status: Frozen\n",
            "Layer: decoder.block.10.layer.0.layer_norm.weight, Status: Frozen\n",
            "Layer: decoder.block.10.layer.1.EncDecAttention.q.weight, Status: Trainable\n",
            "Layer: decoder.block.10.layer.1.EncDecAttention.k.weight, Status: Trainable\n",
            "Layer: decoder.block.10.layer.1.EncDecAttention.v.weight, Status: Trainable\n",
            "Layer: decoder.block.10.layer.1.EncDecAttention.o.weight, Status: Trainable\n",
            "Layer: decoder.block.10.layer.1.layer_norm.weight, Status: Frozen\n",
            "Layer: decoder.block.10.layer.2.DenseReluDense.wi.weight, Status: Frozen\n",
            "Layer: decoder.block.10.layer.2.DenseReluDense.wo.weight, Status: Frozen\n",
            "Layer: decoder.block.10.layer.2.layer_norm.weight, Status: Frozen\n",
            "Layer: decoder.block.11.layer.0.SelfAttention.q.weight, Status: Frozen\n",
            "Layer: decoder.block.11.layer.0.SelfAttention.k.weight, Status: Frozen\n",
            "Layer: decoder.block.11.layer.0.SelfAttention.v.weight, Status: Frozen\n",
            "Layer: decoder.block.11.layer.0.SelfAttention.o.weight, Status: Frozen\n",
            "Layer: decoder.block.11.layer.0.layer_norm.weight, Status: Frozen\n",
            "Layer: decoder.block.11.layer.1.EncDecAttention.q.weight, Status: Trainable\n",
            "Layer: decoder.block.11.layer.1.EncDecAttention.k.weight, Status: Trainable\n",
            "Layer: decoder.block.11.layer.1.EncDecAttention.v.weight, Status: Trainable\n",
            "Layer: decoder.block.11.layer.1.EncDecAttention.o.weight, Status: Trainable\n",
            "Layer: decoder.block.11.layer.1.layer_norm.weight, Status: Frozen\n",
            "Layer: decoder.block.11.layer.2.DenseReluDense.wi.weight, Status: Frozen\n",
            "Layer: decoder.block.11.layer.2.DenseReluDense.wo.weight, Status: Frozen\n",
            "Layer: decoder.block.11.layer.2.layer_norm.weight, Status: Frozen\n",
            "Layer: decoder.final_layer_norm.weight, Status: Frozen\n"
          ]
        }
      ],
      "source": [
        "\n",
        "for name, parameter in t5_model.named_parameters():\n",
        "  status = \"Trainable\" if parameter.requires_grad else \"Frozen\"\n",
        "  print(f\"Layer: {name}, Status: {status}\")"
      ]
    },
    {
      "cell_type": "code",
      "execution_count": null,
      "metadata": {
        "id": "FVIfxJxYxS3J"
      },
      "outputs": [],
      "source": [
        "import torch\n",
        "import numpy as np\n",
        "from torch.utils.data import Dataset\n",
        "\n",
        "class GifAggregationDataset(Dataset):\n",
        "    def __init__(self, frames_list, targets, tokenizer, max_target_length=150):\n",
        "        \"\"\"\n",
        "        frames_list: A list of lists containing frames (as tensors or numpy arrays) for each GIF.\n",
        "        targets: The ground truth captions for each GIF.\n",
        "        tokenizer: Tokenizer for T5 to encode the target captions.\n",
        "        max_target_length: Maximum length for the target text sequences.\n",
        "        \"\"\"\n",
        "        self.frames_list = frames_list  # List of frame sequences (e.g., list of tensors for each GIF)\n",
        "        self.targets = targets  # Ground truth captions for each GIF\n",
        "        self.tokenizer = tokenizer\n",
        "        self.max_target_length = max_target_length\n",
        "\n",
        "    def __len__(self):\n",
        "        return len(self.frames_list)\n",
        "\n",
        "    def __getitem__(self, idx):\n",
        "        # Get frames and target for the given index\n",
        "        frames = self.frames_list[idx]  # List or tensor of frames for a single GIF\n",
        "        target_text = self.targets[idx]\n",
        "\n",
        "        # Ensure frames are in the correct shape (num_frames, height, width, channels)\n",
        "        if isinstance(frames, list):\n",
        "            # Convert list of numpy arrays to a single numpy array, if necessary\n",
        "            frames = np.array(frames)\n",
        "\n",
        "        # If frames are numpy arrays, convert to torch tensor and make sure dimensions are correct\n",
        "        if isinstance(frames, np.ndarray):\n",
        "            frames = torch.tensor(frames, dtype=torch.float32)  # Convert to float32 tensor for PyTorch\n",
        "\n",
        "        # Reshape or permute frames to ensure the shape is (num_frames, height, width, channels)\n",
        "        if frames.ndim == 4 and frames.shape[-1] == 3:\n",
        "            # Shape is (num_frames, height, width, channels), which is correct for PIL conversion\n",
        "            pass\n",
        "        elif frames.ndim == 4 and frames.shape[1] == 3:\n",
        "            # If frames have shape (num_frames, channels, height, width), change to (num_frames, height, width, channels)\n",
        "            frames = frames.permute(0, 2, 3, 1)  # (N, C, H, W) -> (N, H, W, C)\n",
        "\n",
        "        # Tokenize the target caption (ground-truth description)\n",
        "        target_encoding = self.tokenizer(\n",
        "            target_text,\n",
        "            padding='max_length',\n",
        "            truncation=True,\n",
        "            max_length=self.max_target_length,\n",
        "            return_tensors=\"pt\"\n",
        "        )\n",
        "\n",
        "        # Replace padding token ID's of the labels by -100 to ignore them in the loss\n",
        "        labels = target_encoding.input_ids.squeeze()\n",
        "        labels[labels == self.tokenizer.pad_token_id] = -100\n",
        "\n",
        "        return {\n",
        "            'frames': frames,  # Provide frames directly in tensor format (num_frames, height, width, channels)\n",
        "            'labels': labels,  # Provide tokenized ground truth captions for T5\n",
        "            'reference_description': target_text\n",
        "        }\n"
      ]
    },
    {
      "cell_type": "code",
      "execution_count": null,
      "metadata": {
        "id": "I4w20-kuwcWD"
      },
      "outputs": [],
      "source": [
        "import torch\n",
        "import torch.nn as nn\n",
        "import torch.optim as optim\n",
        "from transformers import T5Tokenizer\n",
        "from torch.utils.data import DataLoader, random_split\n",
        "\n",
        "# Setup the models in training mode\n",
        "blip_model.train()  # BLIP is now being trained, so it's in training mode\n",
        "t5_model.train()    # T5 is also being trained\n",
        "\n",
        "# Define optimizers for BLIP and T5\n",
        "blip_params = filter(lambda p: p.requires_grad, blip_model.parameters())\n",
        "t5_params = filter(lambda p: p.requires_grad, t5_model.parameters())\n",
        "\n",
        "blip_optimizer = optim.AdamW(blip_params, lr=0.00005)  # Lower learning rate since we're training both\n",
        "t5_optimizer = optim.AdamW(t5_params, lr=0.00005)\n",
        "\n",
        "# Define the loss function for T5\n",
        "criterion = nn.CrossEntropyLoss(ignore_index=-100)"
      ]
    },
    {
      "cell_type": "code",
      "execution_count": null,
      "metadata": {
        "id": "42Bv9uRFwowP"
      },
      "outputs": [],
      "source": [
        "# Prepare DataLoader (frames and target descriptions)\n",
        "\n",
        "aggregation_dataset = GifAggregationDataset(\n",
        "    frames_list=processed_gifs,   # This should be the frames for each GIF (as a list of tensors)\n",
        "    targets=target_texts,      # The ground truth aggregated captions\n",
        "    tokenizer=t5_tokenizer,    # Tokenizer for processing the target texts\n",
        "    max_target_length=150      # Max length for target captions\n",
        ")\n",
        "\n",
        "# Split dataset into training and validation sets (80-20 split)\n",
        "train_size = int(0.8 * len(aggregation_dataset))\n",
        "val_size = len(aggregation_dataset) - train_size\n",
        "train_dataset, val_dataset = random_split(aggregation_dataset, [train_size, val_size])\n",
        "\n",
        "# Create DataLoaders\n",
        "train_dataloader = DataLoader(\n",
        "    train_dataset,\n",
        "    batch_size=16,  # Define the batch size that fits your GPU memory\n",
        "    shuffle=True,\n",
        "    num_workers=0,\n",
        "    pin_memory=True\n",
        ")\n",
        "\n",
        "val_dataloader = DataLoader(\n",
        "    val_dataset,\n",
        "    batch_size=16,  # Define the batch size for validation\n",
        "    shuffle=False,\n",
        "    num_workers=0,\n",
        "    pin_memory=True\n",
        ")\n"
      ]
    },
    {
      "cell_type": "markdown",
      "metadata": {
        "id": "PUA-1FJuKrIv"
      },
      "source": [
        "Function to evaluate the model in the training phase"
      ]
    },
    {
      "cell_type": "code",
      "execution_count": null,
      "metadata": {
        "id": "jSy4CO5fBAjJ"
      },
      "outputs": [],
      "source": [
        "import torch\n",
        "from tqdm import tqdm\n",
        "from rouge_score import rouge_scorer\n",
        "from nltk.translate.bleu_score import corpus_bleu\n",
        "from nltk.translate.meteor_score import meteor_score\n",
        "import bert_score\n",
        "from PIL import Image\n",
        "\n",
        "def evaluate_model_training(blip_model, t5_model, blip_processor, tokenizer, dataloader, device='cuda' if torch.cuda.is_available() else 'cpu'):\n",
        "    blip_model.eval()  # Set BLIP to evaluation mode\n",
        "    t5_model.eval()    # Set T5 to evaluation mode\n",
        "\n",
        "    # Metrics containers\n",
        "    all_references = []\n",
        "    all_candidates = []\n",
        "    rougeL_scores = []\n",
        "\n",
        "\n",
        "    # ROUGE scorer initialization\n",
        "    scorer = rouge_scorer.RougeScorer(['rougeL'], use_stemmer=True)\n",
        "\n",
        "\n",
        "    with torch.no_grad():\n",
        "        for batch in tqdm(dataloader, desc=\"Evaluating\"):\n",
        "            # Step 1: Prepare frames for BLIP\n",
        "            frames = batch['frames']  # Assuming shape [batch_size, num_frames, C, H, W] or [batch_size, num_frames, H, W, C]\n",
        "            reference_descriptions = batch['reference_description']  # List of reference captions\n",
        "\n",
        "            batch_size, num_frames = frames.shape[0], frames.shape[1]\n",
        "\n",
        "            frame_captions = []\n",
        "\n",
        "            for i in range(batch_size):\n",
        "                single_captions = []\n",
        "                for j in range(num_frames):\n",
        "                    frame = frames[i, j]  # Shape depends on data format\n",
        "\n",
        "                    # Determine frame shape and permute if necessary\n",
        "                    if frame.ndim == 3:\n",
        "                        # Possible shapes:\n",
        "                        # [C, H, W] or [H, W, C]\n",
        "                        if frame.shape[0] == 3:\n",
        "                            # [C, H, W] -> [H, W, C]\n",
        "                            frame = frame.permute(1, 2, 0)\n",
        "                        # Else assume [H, W, C], no change needed\n",
        "                    else:\n",
        "                        raise ValueError(f\"Unexpected frame shape: {frame.shape}\")\n",
        "\n",
        "                    # Convert to CPU and numpy\n",
        "                    frame_np = frame.cpu().numpy().astype('uint8')  # Ensure dtype is uint8\n",
        "\n",
        "                    # Convert to PIL Image\n",
        "                    try:\n",
        "                        img = Image.fromarray(frame_np).convert('RGB')\n",
        "                    except Exception as e:\n",
        "                        print(f\"Error converting frame to image: {e}\")\n",
        "                        continue  # Skip this frame\n",
        "\n",
        "                    # Generate caption using BLIP\n",
        "                    inputs = blip_processor(img, return_tensors=\"pt\").to(device)\n",
        "                    outputs = blip_model.generate(**inputs, max_length=150)  # Limit caption length\n",
        "                    caption = blip_processor.decode(outputs[0], skip_special_tokens=True)\n",
        "                    single_captions.append(caption)\n",
        "\n",
        "                # Concatenate captions for the current example\n",
        "                concatenated_caption = \" \".join(single_captions)\n",
        "                frame_captions.append(concatenated_caption)\n",
        "\n",
        "            # Step 2: Tokenize the concatenated captions as a batch\n",
        "            max_length = 128  # Adjust based on GPU capacity and desired sequence length\n",
        "            t5_inputs = tokenizer(\n",
        "                frame_captions,  # List of concatenated captions, one per example in the batch\n",
        "                max_length=max_length,\n",
        "                padding='max_length',\n",
        "                truncation=True,\n",
        "                return_tensors=\"pt\"\n",
        "            ).to(device)\n",
        "\n",
        "            # Step 3: Generate predictions using T5\n",
        "            outputs = t5_model.generate(\n",
        "                input_ids=t5_inputs.input_ids,\n",
        "                attention_mask=t5_inputs.attention_mask,\n",
        "                max_length=150,\n",
        "                num_beams=4,\n",
        "                early_stopping=True\n",
        "            )\n",
        "\n",
        "            # Step 4: Decode predictions\n",
        "            predictions = tokenizer.batch_decode(outputs, skip_special_tokens=True)\n",
        "\n",
        "            # Step 5: Evaluate the predictions\n",
        "            for ref, pred in zip(reference_descriptions, predictions):\n",
        "                ref_tokens = ref.split()\n",
        "                pred_tokens = pred.split()\n",
        "\n",
        "                # Append references and predictions for BLEU\n",
        "                all_references.append([ref_tokens])\n",
        "                all_candidates.append(pred_tokens)\n",
        "\n",
        "                # ROUGE scores calculation\n",
        "                scores = scorer.score(ref, pred)\n",
        "                rougeL_scores.append(scores['rougeL'].fmeasure)\n",
        "\n",
        "    # Calculate average ROUGE scores\n",
        "    avg_rougeL = sum(rougeL_scores) / len(rougeL_scores) if rougeL_scores else 0\n",
        "\n",
        "\n",
        "    # Compile metrics\n",
        "    metrics = {\n",
        "        'ROUGE-L': avg_rougeL,\n",
        "    }\n",
        "\n",
        "    return metrics\n"
      ]
    },
    {
      "cell_type": "markdown",
      "metadata": {
        "id": "LvJGgmi4KxB-"
      },
      "source": [
        "Function to evaluate the models when they finished training phase"
      ]
    },
    {
      "cell_type": "code",
      "execution_count": null,
      "metadata": {
        "id": "GGpTvrAbKvtQ"
      },
      "outputs": [],
      "source": [
        "import torch\n",
        "from tqdm import tqdm\n",
        "from rouge_score import rouge_scorer\n",
        "from nltk.translate.bleu_score import corpus_bleu\n",
        "from nltk.translate.meteor_score import meteor_score\n",
        "import bert_score\n",
        "from PIL import Image\n",
        "\n",
        "def evaluate_model(blip_model, t5_model, blip_processor, tokenizer, dataloader, device='cuda' if torch.cuda.is_available() else 'cpu'):\n",
        "    blip_model.eval()  # Set BLIP to evaluation mode\n",
        "    t5_model.eval()    # Set T5 to evaluation mode\n",
        "\n",
        "    # Metrics containers\n",
        "    all_references = []\n",
        "    all_candidates = []\n",
        "    rouge1_scores = []\n",
        "    rouge2_scores = []\n",
        "    rougeL_scores = []\n",
        "    # meteor_scores_list = []\n",
        "\n",
        "    # ROUGE scorer initialization\n",
        "    scorer = rouge_scorer.RougeScorer(['rouge1', 'rouge2', 'rougeL'], use_stemmer=True)\n",
        "\n",
        "    # BERTScore\n",
        "    bert_score_fn = bert_score.score\n",
        "\n",
        "    with torch.no_grad():\n",
        "        for batch in tqdm(dataloader, desc=\"Evaluating\"):\n",
        "            # Step 1: Prepare frames for BLIP\n",
        "            frames = batch['frames']  # Assuming shape [batch_size, num_frames, C, H, W] or [batch_size, num_frames, H, W, C]\n",
        "            reference_descriptions = batch['reference_description']  # List of reference captions\n",
        "\n",
        "            batch_size, num_frames = frames.shape[0], frames.shape[1]\n",
        "\n",
        "            frame_captions = []\n",
        "\n",
        "            for i in range(batch_size):\n",
        "                single_captions = []\n",
        "                for j in range(num_frames):\n",
        "                    frame = frames[i, j]  # Shape depends on data format\n",
        "\n",
        "                    # Determine frame shape and permute if necessary\n",
        "                    if frame.ndim == 3:\n",
        "                        # Possible shapes:\n",
        "                        # [C, H, W] or [H, W, C]\n",
        "                        if frame.shape[0] == 3:\n",
        "                            # [C, H, W] -> [H, W, C]\n",
        "                            frame = frame.permute(1, 2, 0)\n",
        "                        # Else assume [H, W, C], no change needed\n",
        "                    else:\n",
        "                        raise ValueError(f\"Unexpected frame shape: {frame.shape}\")\n",
        "\n",
        "                    # Convert to CPU and numpy\n",
        "                    frame_np = frame.cpu().numpy().astype('uint8')  # Ensure dtype is uint8\n",
        "\n",
        "                    # Convert to PIL Image\n",
        "                    try:\n",
        "                        img = Image.fromarray(frame_np).convert('RGB')\n",
        "                    except Exception as e:\n",
        "                        print(f\"Error converting frame to image: {e}\")\n",
        "                        continue  # Skip this frame\n",
        "\n",
        "                    # Generate caption using BLIP\n",
        "                    inputs = blip_processor(img, return_tensors=\"pt\").to(device)\n",
        "                    outputs = blip_model.generate(**inputs, max_length=50)  # Limit caption length\n",
        "                    caption = blip_processor.decode(outputs[0], skip_special_tokens=True)\n",
        "                    single_captions.append(caption)\n",
        "\n",
        "                # Concatenate captions for the current example\n",
        "                concatenated_caption = \" \".join(single_captions)\n",
        "                frame_captions.append(concatenated_caption)\n",
        "\n",
        "            # Step 2: Tokenize the concatenated captions as a batch\n",
        "            max_length = 128  # Adjust based on GPU capacity and desired sequence length\n",
        "            t5_inputs = tokenizer(\n",
        "                frame_captions,  # List of concatenated captions, one per example in the batch\n",
        "                max_length=max_length,\n",
        "                padding='max_length',\n",
        "                truncation=True,\n",
        "                return_tensors=\"pt\"\n",
        "            ).to(device)\n",
        "\n",
        "            # Step 3: Generate predictions using T5\n",
        "            outputs = t5_model.generate(\n",
        "                input_ids=t5_inputs.input_ids,\n",
        "                attention_mask=t5_inputs.attention_mask,\n",
        "                max_length=150,\n",
        "                num_beams=4,\n",
        "                early_stopping=True\n",
        "            )\n",
        "\n",
        "            # Step 4: Decode predictions\n",
        "            predictions = tokenizer.batch_decode(outputs, skip_special_tokens=True)\n",
        "\n",
        "            # Step 5: Evaluate the predictions\n",
        "            for ref, pred in zip(reference_descriptions, predictions):\n",
        "                ref_tokens = ref.split()\n",
        "                pred_tokens = pred.split()\n",
        "\n",
        "                # Append references and predictions for BLEU\n",
        "                all_references.append([ref_tokens])\n",
        "                all_candidates.append(pred_tokens)\n",
        "\n",
        "                # ROUGE scores calculation\n",
        "                scores = scorer.score(ref, pred)\n",
        "                rouge1_scores.append(scores['rouge1'].fmeasure)\n",
        "                rouge2_scores.append(scores['rouge2'].fmeasure)\n",
        "                rougeL_scores.append(scores['rougeL'].fmeasure)\n",
        "\n",
        "                # METEOR score calculation\n",
        "                # meteor = meteor_score([ref_tokens], pred_tokens)\n",
        "                # meteor_scores_list.append(meteor)\n",
        "\n",
        "    # Calculate BLEU score\n",
        "    bleu = corpus_bleu(all_references, all_candidates)\n",
        "\n",
        "    # Calculate average ROUGE scores\n",
        "    avg_rouge1 = sum(rouge1_scores) / len(rouge1_scores) if rouge1_scores else 0\n",
        "    avg_rouge2 = sum(rouge2_scores) / len(rouge2_scores) if rouge2_scores else 0\n",
        "    avg_rougeL = sum(rougeL_scores) / len(rougeL_scores) if rougeL_scores else 0\n",
        "\n",
        "    # Calculate average METEOR score\n",
        "    # avg_meteor = sum(meteor_scores_list) / len(meteor_scores_list) if meteor_scores_list else 0\n",
        "\n",
        "    # Calculate BERT Score\n",
        "    P, R, F1 = bert_score_fn(\n",
        "        [' '.join(cand) for cand in all_candidates],\n",
        "        [' '.join(ref[0]) for ref in all_references],\n",
        "        lang='en',\n",
        "        verbose=True)\n",
        "    avg_bert_f1 = F1.mean().item()\n",
        "\n",
        "    # Compile metrics\n",
        "    metrics = {\n",
        "        'BLEU': bleu,\n",
        "        'ROUGE-1': avg_rouge1,\n",
        "        'ROUGE-2': avg_rouge2,\n",
        "        'ROUGE-L': avg_rougeL,\n",
        "        # 'METEOR': avg_meteor,\n",
        "        'BERT_F1': avg_bert_f1\n",
        "    }\n",
        "\n",
        "    return metrics\n"
      ]
    },
    {
      "cell_type": "code",
      "execution_count": null,
      "metadata": {
        "colab": {
          "base_uri": "https://localhost:8080/"
        },
        "id": "_U_0oSqlEi9L",
        "outputId": "1ea607e2-ce5d-427f-d3c6-98fdbbbbcb16"
      },
      "outputs": [
        {
          "output_type": "stream",
          "name": "stdout",
          "text": [
            "Epoch [1/10], Batch Loss: 3.2425129413604736\n",
            "Epoch [1/10], Batch Loss: 3.0914812088012695\n",
            "Epoch [1/10], Batch Loss: 3.096222162246704\n",
            "Epoch [1/10], Batch Loss: 2.906541585922241\n",
            "Epoch [1/10], Batch Loss: 3.008789539337158\n",
            "Epoch [1/10], Batch Loss: 3.1433908939361572\n",
            "Epoch [1/10], Batch Loss: 2.7780065536499023\n",
            "Epoch [1/10], Batch Loss: 3.0630850791931152\n",
            "Epoch [1/10], Batch Loss: 2.887117624282837\n",
            "Epoch [1/10], Batch Loss: 3.2021050453186035\n",
            "Epoch [1/10], Batch Loss: 2.8738934993743896\n",
            "Epoch [1/10], Batch Loss: 2.9167633056640625\n",
            "Epoch [1/10], Batch Loss: 3.225383758544922\n",
            "Epoch [1/10], Batch Loss: 3.3011486530303955\n",
            "Epoch [1/10], Batch Loss: 2.7036402225494385\n",
            "Epoch [1/10], Batch Loss: 2.7690932750701904\n",
            "Epoch [1/10], Batch Loss: 2.810790538787842\n",
            "Epoch [1/10], Batch Loss: 2.648913860321045\n",
            "Epoch [1/10], Batch Loss: 3.1751580238342285\n",
            "Epoch [1/10], Batch Loss: 3.236905813217163\n",
            "Epoch [1/10], Batch Loss: 2.9790139198303223\n",
            "Epoch [1/10], Batch Loss: 2.605278491973877\n",
            "Epoch [1/10], Batch Loss: 2.8470656871795654\n",
            "Epoch [1/10], Batch Loss: 3.0435023307800293\n",
            "Epoch [1/10], Batch Loss: 2.8632473945617676\n",
            "Epoch [1/10], Batch Loss: 2.6832406520843506\n",
            "Epoch [1/10], Batch Loss: 2.9229044914245605\n",
            "Epoch [1/10], Batch Loss: 2.6359291076660156\n",
            "Epoch [1/10], Batch Loss: 2.9173741340637207\n",
            "Epoch [1/10], Batch Loss: 2.6542325019836426\n",
            "Epoch [1/10], Batch Loss: 2.8385009765625\n",
            "Epoch [1/10], Batch Loss: 2.801455020904541\n",
            "Epoch [1/10], Batch Loss: 2.924722194671631\n",
            "Epoch [1/10], Batch Loss: 2.9146625995635986\n",
            "Epoch [1/10], Batch Loss: 2.754032850265503\n",
            "Epoch [1/10], Batch Loss: 3.2245912551879883\n",
            "Epoch [1/10], Batch Loss: 2.757952928543091\n",
            "Epoch [1/10], Batch Loss: 2.6492464542388916\n",
            "Epoch [1/10], Batch Loss: 2.8002800941467285\n",
            "Epoch [1/10], Batch Loss: 2.8305203914642334\n",
            "Epoch [1/10], Batch Loss: 2.774303674697876\n",
            "Epoch [1/10], Batch Loss: 2.9273879528045654\n",
            "Epoch [1/10], Batch Loss: 2.6208627223968506\n",
            "Epoch [1/10], Batch Loss: 2.694204092025757\n",
            "Epoch [1/10], Batch Loss: 2.799588918685913\n",
            "Epoch [1/10], Batch Loss: 2.893690824508667\n",
            "Epoch [1/10], Batch Loss: 2.855414867401123\n",
            "Epoch [1/10], Batch Loss: 2.8229081630706787\n",
            "Epoch [1/10], Batch Loss: 2.759840965270996\n",
            "Epoch [1/10], Batch Loss: 2.7776544094085693\n",
            "Epoch [1/10], Average Training Loss: 2.893091073036194\n"
          ]
        },
        {
          "output_type": "stream",
          "name": "stderr",
          "text": [
            "Evaluating: 100%|██████████| 13/13 [04:25<00:00, 20.41s/it]\n"
          ]
        },
        {
          "output_type": "stream",
          "name": "stdout",
          "text": [
            "Validation Metrics after Epoch 1: {'ROUGE-L': 0.14063915814227923}\n",
            "Epoch [2/10], Batch Loss: 3.114650011062622\n",
            "Epoch [2/10], Batch Loss: 2.6327080726623535\n",
            "Epoch [2/10], Batch Loss: 2.442509651184082\n",
            "Epoch [2/10], Batch Loss: 2.472317934036255\n",
            "Epoch [2/10], Batch Loss: 2.4724364280700684\n",
            "Epoch [2/10], Batch Loss: 2.688013792037964\n",
            "Epoch [2/10], Batch Loss: 2.419105052947998\n",
            "Epoch [2/10], Batch Loss: 2.703291654586792\n",
            "Epoch [2/10], Batch Loss: 2.6596903800964355\n",
            "Epoch [2/10], Batch Loss: 2.678332805633545\n",
            "Epoch [2/10], Batch Loss: 2.964787721633911\n",
            "Epoch [2/10], Batch Loss: 2.7412383556365967\n",
            "Epoch [2/10], Batch Loss: 2.6830568313598633\n",
            "Epoch [2/10], Batch Loss: 2.555079698562622\n",
            "Epoch [2/10], Batch Loss: 2.530179738998413\n",
            "Epoch [2/10], Batch Loss: 2.6892447471618652\n",
            "Epoch [2/10], Batch Loss: 2.664029598236084\n",
            "Epoch [2/10], Batch Loss: 2.6896207332611084\n",
            "Epoch [2/10], Batch Loss: 2.410374402999878\n",
            "Epoch [2/10], Batch Loss: 2.723362445831299\n",
            "Epoch [2/10], Batch Loss: 2.6013455390930176\n",
            "Epoch [2/10], Batch Loss: 2.766343593597412\n",
            "Epoch [2/10], Batch Loss: 2.676668167114258\n",
            "Epoch [2/10], Batch Loss: 2.599015951156616\n",
            "Epoch [2/10], Batch Loss: 2.824617862701416\n",
            "Epoch [2/10], Batch Loss: 2.499776601791382\n",
            "Epoch [2/10], Batch Loss: 2.3404862880706787\n",
            "Epoch [2/10], Batch Loss: 2.3740792274475098\n",
            "Epoch [2/10], Batch Loss: 2.9473724365234375\n",
            "Epoch [2/10], Batch Loss: 2.8649070262908936\n",
            "Epoch [2/10], Batch Loss: 2.7800302505493164\n",
            "Epoch [2/10], Batch Loss: 3.046734094619751\n",
            "Epoch [2/10], Batch Loss: 2.3933169841766357\n",
            "Epoch [2/10], Batch Loss: 2.7090768814086914\n",
            "Epoch [2/10], Batch Loss: 2.8683080673217773\n",
            "Epoch [2/10], Batch Loss: 2.9259307384490967\n",
            "Epoch [2/10], Batch Loss: 2.6086714267730713\n",
            "Epoch [2/10], Batch Loss: 2.6650171279907227\n",
            "Epoch [2/10], Batch Loss: 2.598465919494629\n",
            "Epoch [2/10], Batch Loss: 2.532001256942749\n",
            "Epoch [2/10], Batch Loss: 2.8011608123779297\n",
            "Epoch [2/10], Batch Loss: 2.351881265640259\n",
            "Epoch [2/10], Batch Loss: 2.4218482971191406\n",
            "Epoch [2/10], Batch Loss: 2.5455071926116943\n",
            "Epoch [2/10], Batch Loss: 2.78861403465271\n",
            "Epoch [2/10], Batch Loss: 2.5515174865722656\n",
            "Epoch [2/10], Batch Loss: 2.546142816543579\n",
            "Epoch [2/10], Batch Loss: 2.8140647411346436\n",
            "Epoch [2/10], Batch Loss: 2.576270341873169\n",
            "Epoch [2/10], Batch Loss: 2.82069993019104\n",
            "Epoch [2/10], Average Training Loss: 2.655478048324585\n"
          ]
        },
        {
          "output_type": "stream",
          "name": "stderr",
          "text": [
            "Evaluating: 100%|██████████| 13/13 [04:12<00:00, 19.40s/it]\n"
          ]
        },
        {
          "output_type": "stream",
          "name": "stdout",
          "text": [
            "Validation Metrics after Epoch 2: {'ROUGE-L': 0.2659088816376176}\n",
            "Epoch [3/10], Batch Loss: 2.616527557373047\n",
            "Epoch [3/10], Batch Loss: 2.448796510696411\n",
            "Epoch [3/10], Batch Loss: 2.4264755249023438\n",
            "Epoch [3/10], Batch Loss: 2.6948184967041016\n",
            "Epoch [3/10], Batch Loss: 2.4904122352600098\n",
            "Epoch [3/10], Batch Loss: 2.5427420139312744\n",
            "Epoch [3/10], Batch Loss: 2.4254016876220703\n",
            "Epoch [3/10], Batch Loss: 2.3633434772491455\n",
            "Epoch [3/10], Batch Loss: 2.644547462463379\n",
            "Epoch [3/10], Batch Loss: 2.6966114044189453\n",
            "Epoch [3/10], Batch Loss: 2.667940616607666\n",
            "Epoch [3/10], Batch Loss: 2.303614377975464\n",
            "Epoch [3/10], Batch Loss: 2.4961705207824707\n",
            "Epoch [3/10], Batch Loss: 2.320441722869873\n",
            "Epoch [3/10], Batch Loss: 2.587277889251709\n",
            "Epoch [3/10], Batch Loss: 2.9733924865722656\n",
            "Epoch [3/10], Batch Loss: 2.5000078678131104\n",
            "Epoch [3/10], Batch Loss: 2.6454105377197266\n",
            "Epoch [3/10], Batch Loss: 2.819768190383911\n",
            "Epoch [3/10], Batch Loss: 2.3732457160949707\n",
            "Epoch [3/10], Batch Loss: 2.5589537620544434\n",
            "Epoch [3/10], Batch Loss: 2.5461418628692627\n",
            "Epoch [3/10], Batch Loss: 2.5332624912261963\n",
            "Epoch [3/10], Batch Loss: 2.536972999572754\n",
            "Epoch [3/10], Batch Loss: 2.3965165615081787\n",
            "Epoch [3/10], Batch Loss: 2.286686658859253\n",
            "Epoch [3/10], Batch Loss: 2.8158621788024902\n",
            "Epoch [3/10], Batch Loss: 2.355473756790161\n",
            "Epoch [3/10], Batch Loss: 2.592128276824951\n",
            "Epoch [3/10], Batch Loss: 2.6332550048828125\n",
            "Epoch [3/10], Batch Loss: 2.838547945022583\n",
            "Epoch [3/10], Batch Loss: 2.6320126056671143\n",
            "Epoch [3/10], Batch Loss: 2.4573190212249756\n",
            "Epoch [3/10], Batch Loss: 2.601898193359375\n",
            "Epoch [3/10], Batch Loss: 2.554487943649292\n",
            "Epoch [3/10], Batch Loss: 2.534313678741455\n",
            "Epoch [3/10], Batch Loss: 2.7580618858337402\n",
            "Epoch [3/10], Batch Loss: 2.5373270511627197\n",
            "Epoch [3/10], Batch Loss: 2.5027284622192383\n",
            "Epoch [3/10], Batch Loss: 2.508397102355957\n",
            "Epoch [3/10], Batch Loss: 2.575932025909424\n",
            "Epoch [3/10], Batch Loss: 2.55254864692688\n",
            "Epoch [3/10], Batch Loss: 2.690767526626587\n",
            "Epoch [3/10], Batch Loss: 2.4085686206817627\n",
            "Epoch [3/10], Batch Loss: 2.4941964149475098\n",
            "Epoch [3/10], Batch Loss: 2.4437265396118164\n",
            "Epoch [3/10], Batch Loss: 2.404268980026245\n",
            "Epoch [3/10], Batch Loss: 2.555877923965454\n",
            "Epoch [3/10], Batch Loss: 2.8434298038482666\n",
            "Epoch [3/10], Batch Loss: 2.7390389442443848\n",
            "Epoch [3/10], Average Training Loss: 2.5585129833221436\n"
          ]
        },
        {
          "output_type": "stream",
          "name": "stderr",
          "text": [
            "Evaluating: 100%|██████████| 13/13 [03:53<00:00, 17.99s/it]\n"
          ]
        },
        {
          "output_type": "stream",
          "name": "stdout",
          "text": [
            "Validation Metrics after Epoch 3: {'ROUGE-L': 0.3007544972183962}\n",
            "Epoch [4/10], Batch Loss: 2.402384042739868\n",
            "Epoch [4/10], Batch Loss: 2.39227032661438\n",
            "Epoch [4/10], Batch Loss: 2.398151397705078\n",
            "Epoch [4/10], Batch Loss: 2.4228410720825195\n",
            "Epoch [4/10], Batch Loss: 2.4945011138916016\n",
            "Epoch [4/10], Batch Loss: 2.2297608852386475\n",
            "Epoch [4/10], Batch Loss: 2.41021728515625\n",
            "Epoch [4/10], Batch Loss: 2.7433981895446777\n",
            "Epoch [4/10], Batch Loss: 2.677626132965088\n",
            "Epoch [4/10], Batch Loss: 2.5974762439727783\n",
            "Epoch [4/10], Batch Loss: 2.642709732055664\n",
            "Epoch [4/10], Batch Loss: 2.382875919342041\n",
            "Epoch [4/10], Batch Loss: 2.3417515754699707\n",
            "Epoch [4/10], Batch Loss: 2.9167914390563965\n",
            "Epoch [4/10], Batch Loss: 2.861396312713623\n",
            "Epoch [4/10], Batch Loss: 2.561302423477173\n",
            "Epoch [4/10], Batch Loss: 2.4104528427124023\n",
            "Epoch [4/10], Batch Loss: 2.513608932495117\n",
            "Epoch [4/10], Batch Loss: 2.283137798309326\n",
            "Epoch [4/10], Batch Loss: 2.6256744861602783\n",
            "Epoch [4/10], Batch Loss: 2.5285308361053467\n",
            "Epoch [4/10], Batch Loss: 2.3920211791992188\n",
            "Epoch [4/10], Batch Loss: 2.4865500926971436\n",
            "Epoch [4/10], Batch Loss: 2.4393579959869385\n",
            "Epoch [4/10], Batch Loss: 2.415024757385254\n",
            "Epoch [4/10], Batch Loss: 2.432312488555908\n",
            "Epoch [4/10], Batch Loss: 2.437180995941162\n",
            "Epoch [4/10], Batch Loss: 2.6042354106903076\n",
            "Epoch [4/10], Batch Loss: 2.331928014755249\n",
            "Epoch [4/10], Batch Loss: 2.407973527908325\n",
            "Epoch [4/10], Batch Loss: 2.677121877670288\n",
            "Epoch [4/10], Batch Loss: 2.550164222717285\n",
            "Epoch [4/10], Batch Loss: 2.4873759746551514\n",
            "Epoch [4/10], Batch Loss: 2.752946138381958\n",
            "Epoch [4/10], Batch Loss: 2.539764404296875\n",
            "Epoch [4/10], Batch Loss: 2.496204376220703\n",
            "Epoch [4/10], Batch Loss: 2.7283430099487305\n",
            "Epoch [4/10], Batch Loss: 2.4790446758270264\n",
            "Epoch [4/10], Batch Loss: 2.452087879180908\n",
            "Epoch [4/10], Batch Loss: 2.55908203125\n",
            "Epoch [4/10], Batch Loss: 2.1537668704986572\n",
            "Epoch [4/10], Batch Loss: 2.2469379901885986\n",
            "Epoch [4/10], Batch Loss: 2.5060205459594727\n",
            "Epoch [4/10], Batch Loss: 2.6137804985046387\n",
            "Epoch [4/10], Batch Loss: 2.558546781539917\n",
            "Epoch [4/10], Batch Loss: 2.802595376968384\n",
            "Epoch [4/10], Batch Loss: 2.3223705291748047\n",
            "Epoch [4/10], Batch Loss: 2.5037968158721924\n",
            "Epoch [4/10], Batch Loss: 2.4357502460479736\n",
            "Epoch [4/10], Batch Loss: 2.512410879135132\n",
            "Epoch [4/10], Average Training Loss: 2.5032310914993285\n"
          ]
        },
        {
          "output_type": "stream",
          "name": "stderr",
          "text": [
            "Evaluating: 100%|██████████| 13/13 [03:59<00:00, 18.39s/it]\n"
          ]
        },
        {
          "output_type": "stream",
          "name": "stdout",
          "text": [
            "Validation Metrics after Epoch 4: {'ROUGE-L': 0.3059538478738011}\n",
            "Epoch [5/10], Batch Loss: 2.2943265438079834\n",
            "Epoch [5/10], Batch Loss: 2.484752893447876\n",
            "Epoch [5/10], Batch Loss: 2.564523220062256\n",
            "Epoch [5/10], Batch Loss: 2.4282915592193604\n",
            "Epoch [5/10], Batch Loss: 2.2910404205322266\n",
            "Epoch [5/10], Batch Loss: 2.429478406906128\n",
            "Epoch [5/10], Batch Loss: 2.264756679534912\n",
            "Epoch [5/10], Batch Loss: 2.458211898803711\n",
            "Epoch [5/10], Batch Loss: 2.671745777130127\n",
            "Epoch [5/10], Batch Loss: 2.838123321533203\n",
            "Epoch [5/10], Batch Loss: 2.8708837032318115\n",
            "Epoch [5/10], Batch Loss: 2.389016628265381\n",
            "Epoch [5/10], Batch Loss: 2.550018548965454\n",
            "Epoch [5/10], Batch Loss: 2.3193295001983643\n",
            "Epoch [5/10], Batch Loss: 2.451716899871826\n",
            "Epoch [5/10], Batch Loss: 2.2516889572143555\n",
            "Epoch [5/10], Batch Loss: 2.484592914581299\n",
            "Epoch [5/10], Batch Loss: 2.2818450927734375\n",
            "Epoch [5/10], Batch Loss: 2.3445920944213867\n",
            "Epoch [5/10], Batch Loss: 2.4789440631866455\n",
            "Epoch [5/10], Batch Loss: 2.2669637203216553\n",
            "Epoch [5/10], Batch Loss: 2.5174124240875244\n",
            "Epoch [5/10], Batch Loss: 2.537325382232666\n",
            "Epoch [5/10], Batch Loss: 2.501206636428833\n",
            "Epoch [5/10], Batch Loss: 2.4023630619049072\n",
            "Epoch [5/10], Batch Loss: 2.6257901191711426\n",
            "Epoch [5/10], Batch Loss: 2.8296396732330322\n",
            "Epoch [5/10], Batch Loss: 2.3556764125823975\n",
            "Epoch [5/10], Batch Loss: 2.2121572494506836\n",
            "Epoch [5/10], Batch Loss: 2.6611294746398926\n",
            "Epoch [5/10], Batch Loss: 2.303382396697998\n",
            "Epoch [5/10], Batch Loss: 2.492476224899292\n",
            "Epoch [5/10], Batch Loss: 2.2762279510498047\n",
            "Epoch [5/10], Batch Loss: 2.5266926288604736\n",
            "Epoch [5/10], Batch Loss: 2.5212204456329346\n",
            "Epoch [5/10], Batch Loss: 2.4251868724823\n",
            "Epoch [5/10], Batch Loss: 2.0819246768951416\n",
            "Epoch [5/10], Batch Loss: 2.374990224838257\n",
            "Epoch [5/10], Batch Loss: 2.3086888790130615\n",
            "Epoch [5/10], Batch Loss: 2.381051778793335\n",
            "Epoch [5/10], Batch Loss: 2.27177095413208\n",
            "Epoch [5/10], Batch Loss: 2.3335633277893066\n",
            "Epoch [5/10], Batch Loss: 2.477665901184082\n",
            "Epoch [5/10], Batch Loss: 2.192716121673584\n",
            "Epoch [5/10], Batch Loss: 2.603233814239502\n",
            "Epoch [5/10], Batch Loss: 2.532630443572998\n",
            "Epoch [5/10], Batch Loss: 2.6272668838500977\n",
            "Epoch [5/10], Batch Loss: 2.2397027015686035\n",
            "Epoch [5/10], Batch Loss: 2.580728054046631\n",
            "Epoch [5/10], Batch Loss: 2.5213849544525146\n",
            "Epoch [5/10], Average Training Loss: 2.4426009702682494\n"
          ]
        },
        {
          "output_type": "stream",
          "name": "stderr",
          "text": [
            "Evaluating: 100%|██████████| 13/13 [03:51<00:00, 17.81s/it]\n"
          ]
        },
        {
          "output_type": "stream",
          "name": "stdout",
          "text": [
            "Validation Metrics after Epoch 5: {'ROUGE-L': 0.31971570279662254}\n",
            "Epoch [6/10], Batch Loss: 2.444878101348877\n",
            "Epoch [6/10], Batch Loss: 2.46561861038208\n",
            "Epoch [6/10], Batch Loss: 2.5097780227661133\n",
            "Epoch [6/10], Batch Loss: 2.4513559341430664\n",
            "Epoch [6/10], Batch Loss: 2.418205499649048\n",
            "Epoch [6/10], Batch Loss: 2.163541555404663\n",
            "Epoch [6/10], Batch Loss: 2.5033814907073975\n",
            "Epoch [6/10], Batch Loss: 2.2560367584228516\n",
            "Epoch [6/10], Batch Loss: 2.3495285511016846\n",
            "Epoch [6/10], Batch Loss: 2.7104554176330566\n",
            "Epoch [6/10], Batch Loss: 2.701737880706787\n",
            "Epoch [6/10], Batch Loss: 2.3272247314453125\n",
            "Epoch [6/10], Batch Loss: 2.760507583618164\n",
            "Epoch [6/10], Batch Loss: 2.516303062438965\n",
            "Epoch [6/10], Batch Loss: 2.4425859451293945\n",
            "Epoch [6/10], Batch Loss: 2.321214437484741\n",
            "Epoch [6/10], Batch Loss: 2.3727991580963135\n",
            "Epoch [6/10], Batch Loss: 2.3098270893096924\n",
            "Epoch [6/10], Batch Loss: 2.178926944732666\n",
            "Epoch [6/10], Batch Loss: 2.4868481159210205\n",
            "Epoch [6/10], Batch Loss: 2.410869836807251\n",
            "Epoch [6/10], Batch Loss: 2.2749390602111816\n",
            "Epoch [6/10], Batch Loss: 2.520275592803955\n",
            "Epoch [6/10], Batch Loss: 2.2772107124328613\n",
            "Epoch [6/10], Batch Loss: 2.6212801933288574\n",
            "Epoch [6/10], Batch Loss: 2.403385639190674\n",
            "Epoch [6/10], Batch Loss: 2.563404083251953\n",
            "Epoch [6/10], Batch Loss: 2.494117259979248\n",
            "Epoch [6/10], Batch Loss: 2.349181890487671\n",
            "Epoch [6/10], Batch Loss: 2.2221691608428955\n",
            "Epoch [6/10], Batch Loss: 2.4023067951202393\n",
            "Epoch [6/10], Batch Loss: 2.39249849319458\n",
            "Epoch [6/10], Batch Loss: 2.299546718597412\n",
            "Epoch [6/10], Batch Loss: 2.524524211883545\n",
            "Epoch [6/10], Batch Loss: 2.4495773315429688\n",
            "Epoch [6/10], Batch Loss: 1.9771543741226196\n",
            "Epoch [6/10], Batch Loss: 2.3348047733306885\n",
            "Epoch [6/10], Batch Loss: 2.5442323684692383\n",
            "Epoch [6/10], Batch Loss: 2.304574489593506\n",
            "Epoch [6/10], Batch Loss: 2.21079683303833\n",
            "Epoch [6/10], Batch Loss: 2.725454807281494\n",
            "Epoch [6/10], Batch Loss: 2.289083480834961\n",
            "Epoch [6/10], Batch Loss: 2.4773597717285156\n",
            "Epoch [6/10], Batch Loss: 2.4007513523101807\n",
            "Epoch [6/10], Batch Loss: 2.6586153507232666\n",
            "Epoch [6/10], Batch Loss: 2.3253297805786133\n",
            "Epoch [6/10], Batch Loss: 2.3946986198425293\n",
            "Epoch [6/10], Batch Loss: 2.6637394428253174\n",
            "Epoch [6/10], Batch Loss: 2.641977310180664\n",
            "Epoch [6/10], Batch Loss: 2.2016403675079346\n",
            "Epoch [6/10], Average Training Loss: 2.420925099849701\n"
          ]
        },
        {
          "output_type": "stream",
          "name": "stderr",
          "text": [
            "Evaluating: 100%|██████████| 13/13 [03:42<00:00, 17.11s/it]\n"
          ]
        },
        {
          "output_type": "stream",
          "name": "stdout",
          "text": [
            "Validation Metrics after Epoch 6: {'ROUGE-L': 0.32475550065059317}\n",
            "Epoch [7/10], Batch Loss: 2.551454544067383\n",
            "Epoch [7/10], Batch Loss: 2.4750959873199463\n",
            "Epoch [7/10], Batch Loss: 2.246582269668579\n",
            "Epoch [7/10], Batch Loss: 2.4471001625061035\n",
            "Epoch [7/10], Batch Loss: 2.255802631378174\n",
            "Epoch [7/10], Batch Loss: 2.365870714187622\n",
            "Epoch [7/10], Batch Loss: 2.4013442993164062\n",
            "Epoch [7/10], Batch Loss: 2.7295329570770264\n",
            "Epoch [7/10], Batch Loss: 2.463688611984253\n",
            "Epoch [7/10], Batch Loss: 2.461885929107666\n",
            "Epoch [7/10], Batch Loss: 2.3050146102905273\n",
            "Epoch [7/10], Batch Loss: 2.205575466156006\n",
            "Epoch [7/10], Batch Loss: 2.735074281692505\n",
            "Epoch [7/10], Batch Loss: 2.0436553955078125\n",
            "Epoch [7/10], Batch Loss: 2.396681785583496\n",
            "Epoch [7/10], Batch Loss: 2.183231830596924\n",
            "Epoch [7/10], Batch Loss: 2.356156349182129\n",
            "Epoch [7/10], Batch Loss: 2.2896370887756348\n",
            "Epoch [7/10], Batch Loss: 2.554543972015381\n",
            "Epoch [7/10], Batch Loss: 2.2708933353424072\n",
            "Epoch [7/10], Batch Loss: 2.426448106765747\n",
            "Epoch [7/10], Batch Loss: 2.3075828552246094\n",
            "Epoch [7/10], Batch Loss: 2.5402183532714844\n",
            "Epoch [7/10], Batch Loss: 2.2520899772644043\n",
            "Epoch [7/10], Batch Loss: 2.4831509590148926\n",
            "Epoch [7/10], Batch Loss: 2.3303382396698\n",
            "Epoch [7/10], Batch Loss: 2.421967029571533\n",
            "Epoch [7/10], Batch Loss: 2.34491229057312\n",
            "Epoch [7/10], Batch Loss: 2.4532601833343506\n",
            "Epoch [7/10], Batch Loss: 2.5092365741729736\n",
            "Epoch [7/10], Batch Loss: 2.2312068939208984\n",
            "Epoch [7/10], Batch Loss: 2.3554601669311523\n",
            "Epoch [7/10], Batch Loss: 2.320868730545044\n",
            "Epoch [7/10], Batch Loss: 2.5068254470825195\n",
            "Epoch [7/10], Batch Loss: 2.299957036972046\n",
            "Epoch [7/10], Batch Loss: 2.270458698272705\n",
            "Epoch [7/10], Batch Loss: 2.3061182498931885\n",
            "Epoch [7/10], Batch Loss: 2.4997198581695557\n",
            "Epoch [7/10], Batch Loss: 2.389930248260498\n",
            "Epoch [7/10], Batch Loss: 2.5432496070861816\n",
            "Epoch [7/10], Batch Loss: 2.347456693649292\n",
            "Epoch [7/10], Batch Loss: 2.533644676208496\n",
            "Epoch [7/10], Batch Loss: 2.3493471145629883\n",
            "Epoch [7/10], Batch Loss: 2.144310712814331\n",
            "Epoch [7/10], Batch Loss: 2.2257790565490723\n",
            "Epoch [7/10], Batch Loss: 2.594434976577759\n",
            "Epoch [7/10], Batch Loss: 2.5255277156829834\n",
            "Epoch [7/10], Batch Loss: 2.16229248046875\n",
            "Epoch [7/10], Batch Loss: 2.592026948928833\n",
            "Epoch [7/10], Batch Loss: 2.3957343101501465\n",
            "Epoch [7/10], Average Training Loss: 2.388047528266907\n"
          ]
        },
        {
          "output_type": "stream",
          "name": "stderr",
          "text": [
            "Evaluating: 100%|██████████| 13/13 [03:41<00:00, 17.05s/it]\n"
          ]
        },
        {
          "output_type": "stream",
          "name": "stdout",
          "text": [
            "Validation Metrics after Epoch 7: {'ROUGE-L': 0.3288853524939832}\n",
            "Epoch [8/10], Batch Loss: 2.658707857131958\n",
            "Epoch [8/10], Batch Loss: 2.513759136199951\n",
            "Epoch [8/10], Batch Loss: 2.27925443649292\n",
            "Epoch [8/10], Batch Loss: 2.4719860553741455\n",
            "Epoch [8/10], Batch Loss: 2.3660178184509277\n",
            "Epoch [8/10], Batch Loss: 2.1256141662597656\n",
            "Epoch [8/10], Batch Loss: 2.274259090423584\n",
            "Epoch [8/10], Batch Loss: 2.4243102073669434\n",
            "Epoch [8/10], Batch Loss: 2.547971725463867\n",
            "Epoch [8/10], Batch Loss: 2.47459077835083\n",
            "Epoch [8/10], Batch Loss: 2.2652862071990967\n",
            "Epoch [8/10], Batch Loss: 2.3060266971588135\n",
            "Epoch [8/10], Batch Loss: 2.601224422454834\n",
            "Epoch [8/10], Batch Loss: 2.5472898483276367\n",
            "Epoch [8/10], Batch Loss: 2.656102418899536\n",
            "Epoch [8/10], Batch Loss: 2.244591474533081\n",
            "Epoch [8/10], Batch Loss: 2.368117570877075\n",
            "Epoch [8/10], Batch Loss: 2.558619976043701\n",
            "Epoch [8/10], Batch Loss: 2.5707011222839355\n",
            "Epoch [8/10], Batch Loss: 2.152557134628296\n",
            "Epoch [8/10], Batch Loss: 2.0159659385681152\n",
            "Epoch [8/10], Batch Loss: 2.076889753341675\n",
            "Epoch [8/10], Batch Loss: 2.2083418369293213\n",
            "Epoch [8/10], Batch Loss: 2.4757137298583984\n",
            "Epoch [8/10], Batch Loss: 2.791076421737671\n",
            "Epoch [8/10], Batch Loss: 2.0733554363250732\n",
            "Epoch [8/10], Batch Loss: 2.6068384647369385\n",
            "Epoch [8/10], Batch Loss: 2.3537778854370117\n",
            "Epoch [8/10], Batch Loss: 2.2268729209899902\n",
            "Epoch [8/10], Batch Loss: 2.062826633453369\n",
            "Epoch [8/10], Batch Loss: 2.471421480178833\n",
            "Epoch [8/10], Batch Loss: 2.320418119430542\n",
            "Epoch [8/10], Batch Loss: 2.322957754135132\n",
            "Epoch [8/10], Batch Loss: 2.3108465671539307\n",
            "Epoch [8/10], Batch Loss: 2.184549331665039\n",
            "Epoch [8/10], Batch Loss: 2.3152737617492676\n",
            "Epoch [8/10], Batch Loss: 2.5384039878845215\n",
            "Epoch [8/10], Batch Loss: 2.343029260635376\n",
            "Epoch [8/10], Batch Loss: 2.198798179626465\n",
            "Epoch [8/10], Batch Loss: 2.2220141887664795\n",
            "Epoch [8/10], Batch Loss: 2.2948555946350098\n",
            "Epoch [8/10], Batch Loss: 2.093745470046997\n",
            "Epoch [8/10], Batch Loss: 2.3086466789245605\n",
            "Epoch [8/10], Batch Loss: 2.5076725482940674\n",
            "Epoch [8/10], Batch Loss: 2.409062385559082\n",
            "Epoch [8/10], Batch Loss: 2.34316086769104\n",
            "Epoch [8/10], Batch Loss: 2.4675850868225098\n",
            "Epoch [8/10], Batch Loss: 2.3331096172332764\n",
            "Epoch [8/10], Batch Loss: 2.324065685272217\n",
            "Epoch [8/10], Batch Loss: 2.4174253940582275\n",
            "Epoch [8/10], Average Training Loss: 2.360513782501221\n"
          ]
        },
        {
          "output_type": "stream",
          "name": "stderr",
          "text": [
            "Evaluating: 100%|██████████| 13/13 [03:40<00:00, 17.00s/it]\n"
          ]
        },
        {
          "output_type": "stream",
          "name": "stdout",
          "text": [
            "Validation Metrics after Epoch 8: {'ROUGE-L': 0.3173236547131572}\n",
            "Epoch [9/10], Batch Loss: 2.0941860675811768\n",
            "Epoch [9/10], Batch Loss: 2.1857848167419434\n",
            "Epoch [9/10], Batch Loss: 2.1768243312835693\n",
            "Epoch [9/10], Batch Loss: 2.5753815174102783\n",
            "Epoch [9/10], Batch Loss: 2.434244394302368\n",
            "Epoch [9/10], Batch Loss: 2.3195316791534424\n",
            "Epoch [9/10], Batch Loss: 2.3777341842651367\n",
            "Epoch [9/10], Batch Loss: 2.12446665763855\n",
            "Epoch [9/10], Batch Loss: 2.3161070346832275\n",
            "Epoch [9/10], Batch Loss: 2.504568576812744\n",
            "Epoch [9/10], Batch Loss: 2.2554092407226562\n",
            "Epoch [9/10], Batch Loss: 2.424990653991699\n",
            "Epoch [9/10], Batch Loss: 2.2892262935638428\n",
            "Epoch [9/10], Batch Loss: 2.22080135345459\n",
            "Epoch [9/10], Batch Loss: 2.419801712036133\n",
            "Epoch [9/10], Batch Loss: 2.3450138568878174\n",
            "Epoch [9/10], Batch Loss: 2.4518368244171143\n",
            "Epoch [9/10], Batch Loss: 2.041182279586792\n",
            "Epoch [9/10], Batch Loss: 2.5233824253082275\n",
            "Epoch [9/10], Batch Loss: 2.1881673336029053\n",
            "Epoch [9/10], Batch Loss: 2.4336440563201904\n",
            "Epoch [9/10], Batch Loss: 2.3778631687164307\n",
            "Epoch [9/10], Batch Loss: 2.731400966644287\n",
            "Epoch [9/10], Batch Loss: 2.16131591796875\n",
            "Epoch [9/10], Batch Loss: 2.308635950088501\n",
            "Epoch [9/10], Batch Loss: 2.3389720916748047\n",
            "Epoch [9/10], Batch Loss: 2.0149283409118652\n",
            "Epoch [9/10], Batch Loss: 2.24654221534729\n",
            "Epoch [9/10], Batch Loss: 2.5340144634246826\n",
            "Epoch [9/10], Batch Loss: 2.2884669303894043\n",
            "Epoch [9/10], Batch Loss: 2.0027079582214355\n",
            "Epoch [9/10], Batch Loss: 2.436079263687134\n",
            "Epoch [9/10], Batch Loss: 2.5274572372436523\n",
            "Epoch [9/10], Batch Loss: 2.0407774448394775\n",
            "Epoch [9/10], Batch Loss: 2.1587653160095215\n",
            "Epoch [9/10], Batch Loss: 2.458146333694458\n",
            "Epoch [9/10], Batch Loss: 2.5385773181915283\n",
            "Epoch [9/10], Batch Loss: 2.401160955429077\n",
            "Epoch [9/10], Batch Loss: 2.310546398162842\n",
            "Epoch [9/10], Batch Loss: 2.4321091175079346\n",
            "Epoch [9/10], Batch Loss: 2.1027300357818604\n",
            "Epoch [9/10], Batch Loss: 2.567540407180786\n",
            "Epoch [9/10], Batch Loss: 2.4535293579101562\n",
            "Epoch [9/10], Batch Loss: 2.571429491043091\n",
            "Epoch [9/10], Batch Loss: 2.347888946533203\n",
            "Epoch [9/10], Batch Loss: 2.2341129779815674\n",
            "Epoch [9/10], Batch Loss: 2.0509767532348633\n",
            "Epoch [9/10], Batch Loss: 2.382028579711914\n",
            "Epoch [9/10], Batch Loss: 2.633330821990967\n",
            "Epoch [9/10], Batch Loss: 2.3282694816589355\n",
            "Epoch [9/10], Average Training Loss: 2.3336517906188963\n"
          ]
        },
        {
          "output_type": "stream",
          "name": "stderr",
          "text": [
            "Evaluating: 100%|██████████| 13/13 [03:41<00:00, 17.04s/it]\n"
          ]
        },
        {
          "output_type": "stream",
          "name": "stdout",
          "text": [
            "Validation Metrics after Epoch 9: {'ROUGE-L': 0.32460734926252677}\n",
            "Epoch [10/10], Batch Loss: 1.9606693983078003\n",
            "Epoch [10/10], Batch Loss: 2.3695125579833984\n",
            "Epoch [10/10], Batch Loss: 2.387761354446411\n",
            "Epoch [10/10], Batch Loss: 2.5072121620178223\n",
            "Epoch [10/10], Batch Loss: 2.3588151931762695\n",
            "Epoch [10/10], Batch Loss: 2.3751935958862305\n",
            "Epoch [10/10], Batch Loss: 2.2216334342956543\n",
            "Epoch [10/10], Batch Loss: 2.2697031497955322\n",
            "Epoch [10/10], Batch Loss: 2.6449124813079834\n",
            "Epoch [10/10], Batch Loss: 2.505678653717041\n",
            "Epoch [10/10], Batch Loss: 2.3726377487182617\n",
            "Epoch [10/10], Batch Loss: 2.1306018829345703\n",
            "Epoch [10/10], Batch Loss: 2.068791151046753\n",
            "Epoch [10/10], Batch Loss: 2.2089569568634033\n",
            "Epoch [10/10], Batch Loss: 2.1769227981567383\n",
            "Epoch [10/10], Batch Loss: 2.2198212146759033\n",
            "Epoch [10/10], Batch Loss: 2.2840023040771484\n",
            "Epoch [10/10], Batch Loss: 2.133444309234619\n",
            "Epoch [10/10], Batch Loss: 2.335876941680908\n",
            "Epoch [10/10], Batch Loss: 2.1520702838897705\n",
            "Epoch [10/10], Batch Loss: 2.2872467041015625\n",
            "Epoch [10/10], Batch Loss: 2.2297871112823486\n",
            "Epoch [10/10], Batch Loss: 2.4263625144958496\n",
            "Epoch [10/10], Batch Loss: 2.213388681411743\n",
            "Epoch [10/10], Batch Loss: 2.2742161750793457\n",
            "Epoch [10/10], Batch Loss: 2.430595874786377\n",
            "Epoch [10/10], Batch Loss: 2.43463397026062\n",
            "Epoch [10/10], Batch Loss: 2.3504862785339355\n",
            "Epoch [10/10], Batch Loss: 2.194448232650757\n",
            "Epoch [10/10], Batch Loss: 2.45271372795105\n",
            "Epoch [10/10], Batch Loss: 2.5824294090270996\n",
            "Epoch [10/10], Batch Loss: 2.106342315673828\n",
            "Epoch [10/10], Batch Loss: 2.0639114379882812\n",
            "Epoch [10/10], Batch Loss: 2.2373363971710205\n",
            "Epoch [10/10], Batch Loss: 2.17573881149292\n",
            "Epoch [10/10], Batch Loss: 2.4337282180786133\n",
            "Epoch [10/10], Batch Loss: 2.259913682937622\n",
            "Epoch [10/10], Batch Loss: 2.211138963699341\n",
            "Epoch [10/10], Batch Loss: 2.502638101577759\n",
            "Epoch [10/10], Batch Loss: 2.504011869430542\n",
            "Epoch [10/10], Batch Loss: 2.2051985263824463\n",
            "Epoch [10/10], Batch Loss: 2.052734613418579\n",
            "Epoch [10/10], Batch Loss: 2.594841718673706\n",
            "Epoch [10/10], Batch Loss: 2.5763278007507324\n",
            "Epoch [10/10], Batch Loss: 2.447585105895996\n",
            "Epoch [10/10], Batch Loss: 2.099809408187866\n",
            "Epoch [10/10], Batch Loss: 2.364240884780884\n",
            "Epoch [10/10], Batch Loss: 2.5319788455963135\n",
            "Epoch [10/10], Batch Loss: 2.427581548690796\n",
            "Epoch [10/10], Batch Loss: 2.2454895973205566\n",
            "Epoch [10/10], Average Training Loss: 2.312021481990814\n"
          ]
        },
        {
          "output_type": "stream",
          "name": "stderr",
          "text": [
            "Evaluating: 100%|██████████| 13/13 [03:40<00:00, 16.95s/it]"
          ]
        },
        {
          "output_type": "stream",
          "name": "stdout",
          "text": [
            "Validation Metrics after Epoch 10: {'ROUGE-L': 0.3180035625500699}\n"
          ]
        },
        {
          "output_type": "stream",
          "name": "stderr",
          "text": [
            "\n"
          ]
        }
      ],
      "source": [
        "import torch\n",
        "from torch.optim import AdamW\n",
        "from PIL import Image\n",
        "from transformers import T5Tokenizer\n",
        "import torch.nn.functional as F\n",
        "\n",
        "# Set the models to training mode\n",
        "t5_model.train()\n",
        "blip_model.train()\n",
        "\n",
        "# Filter parameters that require gradients for BLIP and T5 models\n",
        "blip_params = filter(lambda p: p.requires_grad, blip_model.parameters())\n",
        "t5_params = filter(lambda p: p.requires_grad, t5_model.parameters())\n",
        "\n",
        "# Define the optimizer using AdamW with appropriate learning rates\n",
        "blip_optimizer = AdamW(blip_params, lr=5e-5)\n",
        "t5_optimizer = AdamW(t5_params, lr=5e-5)\n",
        "\n",
        "# Training Loop\n",
        "epochs = 10\n",
        "device = 'cuda' if torch.cuda.is_available() else 'cpu'\n",
        "blip_model.to(device)\n",
        "t5_model.to(device)\n",
        "\n",
        "# Lists to store metrics over epochs\n",
        "training_losses = []\n",
        "#bleu_scores = []\n",
        "#rouge1_scores = []\n",
        "#rouge2_scores = []\n",
        "rougeL_scores = []\n",
        "# meteor_scores = []\n",
        "#bert_f1_scores = []\n",
        "\n",
        "# Training both BLIP and T5 using the DataLoader\n",
        "for epoch in range(epochs):\n",
        "    t5_model.train()\n",
        "    blip_model.train()\n",
        "\n",
        "    # Initialize average loss for tracking epoch training loss\n",
        "    epoch_loss = 0.0\n",
        "    num_batches = 0\n",
        "\n",
        "    for batch in train_dataloader:\n",
        "        # Step 1: Prepare data for BLIP\n",
        "        frames = batch['frames']  # Get frames for the current batch\n",
        "        # Assuming frames is a list of shape [batch_size, num_frames, height, width, channels]\n",
        "        batch_size = frames.size(0)\n",
        "        frames = frames.to(device)  # Move frames to GPU if available\n",
        "\n",
        "        # Zero gradients for both optimizers\n",
        "        blip_optimizer.zero_grad()\n",
        "        t5_optimizer.zero_grad()\n",
        "\n",
        "        # Step 2: Generate frame-level captions with BLIP\n",
        "        frame_captions = []\n",
        "        for i in range(batch_size):\n",
        "            single_captions = []\n",
        "            for single_frame in frames[i]:\n",
        "                # Convert frame to a PIL image and generate caption using BLIP model\n",
        "                img = Image.fromarray(single_frame.cpu().numpy().astype('uint8'), 'RGB')\n",
        "                inputs = blip_processor(img, return_tensors=\"pt\").to(device)\n",
        "\n",
        "                # Set max_length explicitly for BLIP generation to avoid inconsistent lengths\n",
        "                outputs = blip_model.generate(**inputs, max_length=150)  # Limit caption length to 50 tokens\n",
        "                caption = blip_processor.decode(outputs[0], skip_special_tokens=True)\n",
        "                single_captions.append(caption)\n",
        "            # Concatenate captions for the current example\n",
        "            concatenated_caption = \" \".join(single_captions)\n",
        "            frame_captions.append(concatenated_caption)\n",
        "\n",
        "        # Step 3: Tokenize the concatenated captions as a batch\n",
        "        max_length = 128  # Adjust as needed based on your GPU capacity\n",
        "        t5_inputs = t5_tokenizer(\n",
        "            frame_captions,  # List of concatenated captions, one per example in the batch\n",
        "            max_length=max_length,\n",
        "            padding='max_length',\n",
        "            truncation=True,\n",
        "            return_tensors=\"pt\"\n",
        "        ).to(device)\n",
        "\n",
        "        # Prepare labels\n",
        "        labels = batch['labels'].to(device)\n",
        "        labels = labels[:, :t5_inputs.input_ids.shape[-1]]  # Truncate labels if necessary\n",
        "\n",
        "        # Pad labels to match input length using -100 to ignore during loss calculation\n",
        "        labels = F.pad(\n",
        "            labels,\n",
        "            (0, max(0, t5_inputs.input_ids.shape[-1] - labels.shape[-1])),\n",
        "            value=-100\n",
        "        )\n",
        "\n",
        "        # Ensure the attention mask is consistent\n",
        "        t5_attention_mask = t5_inputs.attention_mask\n",
        "\n",
        "        # Step 5: Forward pass through T5 model\n",
        "        outputs = t5_model(\n",
        "            input_ids=t5_inputs.input_ids,\n",
        "            attention_mask=t5_attention_mask,\n",
        "            labels=labels\n",
        "        )\n",
        "        loss = outputs.loss\n",
        "\n",
        "        # Step 6: Backpropagation and optimizer step\n",
        "        loss.backward()  # Compute gradients for both models (BLIP and T5)\n",
        "        blip_optimizer.step()\n",
        "        t5_optimizer.step()\n",
        "\n",
        "        # Accumulate the loss for averaging\n",
        "        epoch_loss += loss.item()\n",
        "        num_batches += 1\n",
        "\n",
        "        # Step 7: Print the training loss for the current iteration\n",
        "        print(f\"Epoch [{epoch + 1}/{epochs}], Batch Loss: {loss.item()}\")\n",
        "\n",
        "    # Calculate the average training loss for the epoch\n",
        "    average_epoch_loss = epoch_loss / num_batches\n",
        "    training_losses.append(average_epoch_loss)\n",
        "    print(f\"Epoch [{epoch + 1}/{epochs}], Average Training Loss: {average_epoch_loss}\")\n",
        "\n",
        "    # Evaluate after each epoch\n",
        "    metrics = evaluate_model_training(blip_model, t5_model, blip_processor, t5_tokenizer, val_dataloader, device)\n",
        "    #bleu_scores.append(metrics['BLEU'])\n",
        "    #rouge1_scores.append(metrics['ROUGE-1'])\n",
        "    #rouge2_scores.append(metrics['ROUGE-2'])\n",
        "    rougeL_scores.append(metrics['ROUGE-L'])\n",
        "    # meteor_scores.append(metrics['METEOR'])\n",
        "    # bert_f1_scores.append(metrics['BERT_F1'])\n",
        "\n",
        "    # Print evaluation metrics for each epoch\n",
        "    print(f\"Validation Metrics after Epoch {epoch+1}: {metrics}\")\n",
        "\n",
        "    # Clear GPU cache after each epoch to free up memory\n",
        "    torch.cuda.empty_cache()\n"
      ]
    },
    {
      "cell_type": "code",
      "source": [
        "training_losses = [2.893091073036194, 2.655478048324585, 2.5585129833221436, 2.5032310914993285, 2.4426009702682494, 2.420925099849701, 2.388047528266907, 2.360513782501221 , 2.3336517906188963, 2.312021481990814]"
      ],
      "metadata": {
        "id": "L-96HOl42z1i"
      },
      "execution_count": null,
      "outputs": []
    },
    {
      "cell_type": "code",
      "execution_count": null,
      "metadata": {
        "id": "gj9mZTuHOP9b",
        "colab": {
          "base_uri": "https://localhost:8080/"
        },
        "outputId": "08e7a797-6c9c-4d2d-e09e-181e05e6dca7"
      },
      "outputs": [
        {
          "output_type": "stream",
          "name": "stdout",
          "text": [
            "Models have been saved locally.\n"
          ]
        }
      ],
      "source": [
        "import torch\n",
        "\n",
        "# Define local save paths\n",
        "blip_save_path = 'blip_model.pth'\n",
        "t5_save_path = 't5_model.pth'\n",
        "\n",
        "# Save the state_dict of each model\n",
        "torch.save(blip_model.state_dict(), blip_save_path)\n",
        "torch.save(t5_model.state_dict(), t5_save_path)\n",
        "\n",
        "print(\"Models have been saved locally.\")\n"
      ]
    },
    {
      "cell_type": "code",
      "execution_count": null,
      "metadata": {
        "id": "Qo3cwG47J01b",
        "colab": {
          "base_uri": "https://localhost:8080/"
        },
        "outputId": "cf601a51-e9cc-4ac1-b349-d844bed672c5"
      },
      "outputs": [
        {
          "output_type": "stream",
          "name": "stderr",
          "text": [
            "Evaluating: 100%|██████████| 50/50 [14:29<00:00, 17.39s/it]"
          ]
        },
        {
          "output_type": "stream",
          "name": "stdout",
          "text": [
            "Validation Metrics after Epoch 10: {'ROUGE-L': 0.34319192890846767}\n"
          ]
        },
        {
          "output_type": "stream",
          "name": "stderr",
          "text": [
            "\n"
          ]
        }
      ],
      "source": [
        "# Evaluate after each epoch\n",
        "metrics = evaluate_model_training(blip_model, t5_model, blip_processor, t5_tokenizer, train_dataloader, device)\n",
        "\n",
        "# Print evaluation metrics for each epoch\n",
        "print(f\"Validation Metrics after Epoch {epoch+1}: {metrics}\")"
      ]
    },
    {
      "cell_type": "code",
      "execution_count": null,
      "metadata": {
        "colab": {
          "base_uri": "https://localhost:8080/",
          "height": 432,
          "referenced_widgets": [
            "889cce4e539f4656a00be16c5a88ada8",
            "8e6112d6afa94663b0b5f129a494b4eb",
            "204b3218707542b1b3f341ba71dfbd22",
            "f40aed4af1494f5fb7fdf74d2fc0112d",
            "dcd0289a5dd943cf999594af49c4b468",
            "cdb2d63160844b16ad4ea43572515f2b",
            "a9201853bdf942bb9bce71145001ce4e",
            "7a82b2a630c843a09c158b307ab4de3a",
            "fde8fbf6682f49a085a64a0b67907424",
            "f0a9ad7ecbbb472fa424ac684585e443",
            "186f2358d45c4060acd8c83914d27f9f",
            "844063504c874aaead2941280cafb26b",
            "ed7b2a94e07b44e787fb8b5d7b1874fa",
            "8c39a6967f8846b2b29ccd828133891e",
            "d9977036759e4d47884bfd6b0d4a85e2",
            "441f495af7664a46aff12aff1bcb36c4",
            "0b35f0eec1364b9ca0fc758011c74f11",
            "3c178e326552457eac2291c7ae18efe5",
            "4feef7a28f444a53b7c6dc629e75331b",
            "980dae8cebf34117818ca4e5619b6f0c",
            "b3b66f2ee71b490daee2f9fde309a87a",
            "5c3387c20894497fb32c5f6626c89982",
            "7d6c9d32429b4555bdbf03e3cb74d2bd",
            "d20d1f3352d4411d94d7d74f7e591a12",
            "2ec6c206e5df41d5b9a5b1e742052450",
            "bc86ad556ea94fd2a4d40b65d8c2b3f7",
            "7ce295d086234821b871d745aa79746a",
            "6c0a042c46f446dcbead6fd69c88620f",
            "44b7a40acef74b6b9e898b4dbf088ac5",
            "a5e628e3bc3947d188dc354b066639a7",
            "ce08b58dc0504a358cc9c2ed10337490",
            "4c66c926bd8e44aa81de701dae3630c2",
            "b89d8b448c264e0cbd3d470f1354f7f8",
            "7b21f48b0d7149f3ab2e516fb04aff27",
            "1341a7c69cb14132ac32e65d7dac2461",
            "64e41f9e65164f88a9f1fbf2c691fbbd",
            "680e022d1dbc4f1dac38a9ffc298bb41",
            "e2048e45ef974bda98d42450e1cd2706",
            "d060826c976f476db6a94fb3a04048d3",
            "d1dad4f176f14a3da2835e00cdf39691",
            "0c15276111f044c3a77993e601b810ee",
            "d6410c786f304c5a9d6a1b86ff599749",
            "c95ce68c19044dee8300b8669bb2c96d",
            "65d27e796d894abaab5c99a9a87d4bf9",
            "5b859c54d37a4511b140916ec7ce677f",
            "45ee30f4f7b341d994b01b49369e541d",
            "8b8a1953db914a7cb7422b6903a19908",
            "3ea9e1e104f04bd9ac0d3cecc331a3e7",
            "03180cca6a374fc891d842388144a5ff",
            "e7dea72fa8854665ab4d39fa6358ef25",
            "802f056844034b9b92ef85a26f2d6e0d",
            "6cce65f13fd547caae7bc87acf1fcec6",
            "da3a93f0b7c34929a657ba43ff31a229",
            "39adb94a01794ea38e2f7554d16046a1",
            "8b95bb1c4f134042812ed36269a7e78e",
            "5ae742c95f8d42dcbd9f2d9b7a3775ad",
            "f4c952a928ad431792623dc279590672",
            "a60dc46b646c449bb5a836f578cdb578",
            "4dfce8d688d54807959a7f34ab17d955",
            "d5316578347247059c32da9dcc8b9397",
            "88c6a7dea57545d8ba35c8f833072090",
            "0feaa12aeb9d4604ad7de5c305871d01",
            "1c21584f240442d7b743edfd4ff2205a",
            "171ba5817dcd4dc19ec5b200f7da9e0e",
            "7f1ee6cee6dc4228819cb0cd26082461",
            "2982f4eec83e469992fc57b79e7c23c3",
            "b57ae3353c7c40b18027981dd8c557f5",
            "a27ac128c8bc475ba21f48ce1912316d",
            "ac835c2c17dd42bab808cde5cb5fec8b",
            "1f6fde93f1494300885973dddd6163f3",
            "96eb7098fa504cb49636aedaf078cd95",
            "36f49f58f74647f49a65caa02c3354a5",
            "6a994b5dd2eb4237aeb3bd7502fd59f2",
            "be5b64666b6a4740bac42f00cb29c394",
            "d36220a6b80c4c4589a74c37a50b79bb",
            "93a8d63d0d4844cc8f6c418c67a7c7cd",
            "08df996d30804d1a81142e0aa535b0d3",
            "1a8a4c44ae174adf9e1a24542fa8cd73",
            "5e100dc4471c4295aa13a636be04afc6",
            "97aa4438037a481da00cab5695573d33",
            "a5967c81e51d499eb0b80410ad995ec6",
            "baffc0726a13422c9172707fcaf1b247",
            "0de8be2eaf45449c81f759e7f5e41c92",
            "5f61d56f49e642ebabc1c7268b50956c",
            "86262f5370764b6c9472ede58e5c32e6",
            "9c6237a4514f4c858a3479e14a364342",
            "758a076cf74e4845aa6365dfe360a0ed",
            "c44dcbcd45f34e8cbb72d3bab20c39b2"
          ]
        },
        "id": "hlPkkwro2c2p",
        "outputId": "2561d8b4-3dcb-4812-a445-57799ebc8af6"
      },
      "outputs": [
        {
          "output_type": "stream",
          "name": "stderr",
          "text": [
            "Evaluating: 100%|██████████| 13/13 [03:38<00:00, 16.82s/it]\n"
          ]
        },
        {
          "output_type": "display_data",
          "data": {
            "text/plain": [
              "tokenizer_config.json:   0%|          | 0.00/25.0 [00:00<?, ?B/s]"
            ],
            "application/vnd.jupyter.widget-view+json": {
              "version_major": 2,
              "version_minor": 0,
              "model_id": "889cce4e539f4656a00be16c5a88ada8"
            }
          },
          "metadata": {}
        },
        {
          "output_type": "display_data",
          "data": {
            "text/plain": [
              "config.json:   0%|          | 0.00/482 [00:00<?, ?B/s]"
            ],
            "application/vnd.jupyter.widget-view+json": {
              "version_major": 2,
              "version_minor": 0,
              "model_id": "844063504c874aaead2941280cafb26b"
            }
          },
          "metadata": {}
        },
        {
          "output_type": "display_data",
          "data": {
            "text/plain": [
              "vocab.json:   0%|          | 0.00/899k [00:00<?, ?B/s]"
            ],
            "application/vnd.jupyter.widget-view+json": {
              "version_major": 2,
              "version_minor": 0,
              "model_id": "7d6c9d32429b4555bdbf03e3cb74d2bd"
            }
          },
          "metadata": {}
        },
        {
          "output_type": "display_data",
          "data": {
            "text/plain": [
              "merges.txt:   0%|          | 0.00/456k [00:00<?, ?B/s]"
            ],
            "application/vnd.jupyter.widget-view+json": {
              "version_major": 2,
              "version_minor": 0,
              "model_id": "7b21f48b0d7149f3ab2e516fb04aff27"
            }
          },
          "metadata": {}
        },
        {
          "output_type": "display_data",
          "data": {
            "text/plain": [
              "tokenizer.json:   0%|          | 0.00/1.36M [00:00<?, ?B/s]"
            ],
            "application/vnd.jupyter.widget-view+json": {
              "version_major": 2,
              "version_minor": 0,
              "model_id": "5b859c54d37a4511b140916ec7ce677f"
            }
          },
          "metadata": {}
        },
        {
          "output_type": "display_data",
          "data": {
            "text/plain": [
              "model.safetensors:   0%|          | 0.00/1.42G [00:00<?, ?B/s]"
            ],
            "application/vnd.jupyter.widget-view+json": {
              "version_major": 2,
              "version_minor": 0,
              "model_id": "5ae742c95f8d42dcbd9f2d9b7a3775ad"
            }
          },
          "metadata": {}
        },
        {
          "output_type": "stream",
          "name": "stderr",
          "text": [
            "Some weights of RobertaModel were not initialized from the model checkpoint at roberta-large and are newly initialized: ['roberta.pooler.dense.bias', 'roberta.pooler.dense.weight']\n",
            "You should probably TRAIN this model on a down-stream task to be able to use it for predictions and inference.\n"
          ]
        },
        {
          "output_type": "stream",
          "name": "stdout",
          "text": [
            "calculating scores...\n",
            "computing bert embedding.\n"
          ]
        },
        {
          "output_type": "display_data",
          "data": {
            "text/plain": [
              "  0%|          | 0/7 [00:00<?, ?it/s]"
            ],
            "application/vnd.jupyter.widget-view+json": {
              "version_major": 2,
              "version_minor": 0,
              "model_id": "b57ae3353c7c40b18027981dd8c557f5"
            }
          },
          "metadata": {}
        },
        {
          "output_type": "stream",
          "name": "stdout",
          "text": [
            "computing greedy matching.\n"
          ]
        },
        {
          "output_type": "display_data",
          "data": {
            "text/plain": [
              "  0%|          | 0/4 [00:00<?, ?it/s]"
            ],
            "application/vnd.jupyter.widget-view+json": {
              "version_major": 2,
              "version_minor": 0,
              "model_id": "1a8a4c44ae174adf9e1a24542fa8cd73"
            }
          },
          "metadata": {}
        },
        {
          "output_type": "stream",
          "name": "stdout",
          "text": [
            "done in 2.03 seconds, 98.57 sentences/sec\n",
            "Validation Metrics after Epoch 10: {'BLEU': 0.0489520958751794, 'ROUGE-1': 0.347989999171128, 'ROUGE-2': 0.11365381863130607, 'ROUGE-L': 0.31776546731197464, 'BERT_F1': 0.9026632905006409}\n"
          ]
        }
      ],
      "source": [
        "# After training each epoch, evaluate the model on the validation set\n",
        "metrics = evaluate_model(blip_model, t5_model, blip_processor, t5_tokenizer, val_dataloader, device)\n",
        "print(f\"Validation Metrics after Epoch {epoch+1}: {metrics}\")\n"
      ]
    },
    {
      "cell_type": "code",
      "source": [
        "import matplotlib.pyplot as plt\n",
        "\n",
        "# Plot training loss over epochs\n",
        "\n",
        "plt.figure(figsize=(10, 6))\n",
        "#plt.plot(range(1, epochs + 1), bleu_scores, label='BLEU')\n",
        "#plt.plot(range(1, epochs + 1), rouge1_scores, label='ROUGE-1')\n",
        "#plt.plot(range(1, epochs + 1), rouge2_scores, label='ROUGE-2')\n",
        "plt.plot(range(1, epochs + 1), rougeL_scores, label='ROUGE-L')\n",
        "#plt.plot(range(1, epochs + 1), meteor_scores, label='METEOR')\n",
        "#plt.plot(range(1, epochs + 1), bert_f1_scores, label='BERT F1')\n",
        "plt.xlabel('Epochs')\n",
        "plt.ylabel('Score')\n",
        "plt.title('Validation Metrics Over Epochs')\n",
        "plt.legend()\n",
        "plt.grid()\n",
        "plt.show()"
      ],
      "metadata": {
        "colab": {
          "base_uri": "https://localhost:8080/",
          "height": 564
        },
        "id": "wQKTvkdW2Jaa",
        "outputId": "30db1d15-0532-4b9e-cef7-52c112bbeb27"
      },
      "execution_count": null,
      "outputs": [
        {
          "output_type": "display_data",
          "data": {
            "text/plain": [
              "<Figure size 1000x600 with 1 Axes>"
            ],
            "image/png": "[encoded data removed]"
          },
          "metadata": {}
        }
      ]
    },
    {
      "cell_type": "code",
      "execution_count": null,
      "metadata": {
        "id": "tM1tesFTJN_w",
        "colab": {
          "base_uri": "https://localhost:8080/",
          "height": 564
        },
        "outputId": "1ce3f78a-d322-4c20-91d1-97c6af108dbe"
      },
      "outputs": [
        {
          "output_type": "display_data",
          "data": {
            "text/plain": [
              "<Figure size 1000x600 with 1 Axes>"
            ],
            "image/png": "[encoded data removed]"
          },
          "metadata": {}
        }
      ],
      "source": [
        "import matplotlib.pyplot as plt\n",
        "\n",
        "# Plot training loss over epochs\n",
        "\n",
        "plt.figure(figsize=(10, 6))\n",
        "plt.plot(range(1, epochs + 1), training_losses, label='ROUGE-L')\n",
        "plt.xlabel('Epochs')\n",
        "plt.ylabel('Loss')\n",
        "plt.title('Training Loss Over Epochs')\n",
        "plt.legend()\n",
        "plt.grid()\n",
        "plt.show()"
      ]
    },
    {
      "cell_type": "code",
      "execution_count": null,
      "metadata": {
        "id": "GSdSbC7PFB3G",
        "colab": {
          "base_uri": "https://localhost:8080/",
          "height": 240,
          "referenced_widgets": [
            "b6f7c4270d484a0f9f0ea23c88095b67",
            "ce5a927af1794fd0932293dae070015b",
            "ca4f7fd455dd4e94803ced91c7769b76",
            "81899db11d09474cb38fa69934fa9247",
            "9fa5e6ef685f41f99a6f1b171dc8c0cf",
            "5957155674744485852271ae0ff27ca0",
            "7b5a127fe20745aeb178c5e280476f91",
            "3b545e86a40147b0ad11d61869b35744",
            "2a3c3044edcd43e7b91139faf1ce8981",
            "70ae4b252ad44d0d9af42b0eb159ac4c",
            "88e880a98b7541b7bc8d1a0537c35bb2",
            "591845fe90934abdbc9fea2f7a5d43fb",
            "a175fb2930424b75a6f68a5da01087f1",
            "3119da05aeca46269d524e87aad48afa",
            "8ea7292a46714e169e88d100f77efec2",
            "1cdb00d9f19f4536aca314052bc1b73a",
            "5bcbc6c240ad4fe782fe023b87a9a08d",
            "1523f652e07045deba23a7cab3a0dbc7",
            "dd568980cd454750b2de3bf6b9204b6e",
            "a42fa2543ccf4ae2939766d307057cff",
            "2acdfbe471c14eed8484ffaf7fbe0fb1",
            "6c2c4c4eb1ea4ce494f5f2bdd37a84d6"
          ]
        },
        "outputId": "f1319aad-025c-459b-95de-b25e2e9095ef"
      },
      "outputs": [
        {
          "output_type": "stream",
          "name": "stderr",
          "text": [
            "Evaluating: 100%|██████████| 13/13 [03:40<00:00, 16.99s/it]\n",
            "Some weights of RobertaModel were not initialized from the model checkpoint at roberta-large and are newly initialized: ['roberta.pooler.dense.bias', 'roberta.pooler.dense.weight']\n",
            "You should probably TRAIN this model on a down-stream task to be able to use it for predictions and inference.\n"
          ]
        },
        {
          "output_type": "stream",
          "name": "stdout",
          "text": [
            "calculating scores...\n",
            "computing bert embedding.\n"
          ]
        },
        {
          "output_type": "display_data",
          "data": {
            "text/plain": [
              "  0%|          | 0/7 [00:00<?, ?it/s]"
            ],
            "application/vnd.jupyter.widget-view+json": {
              "version_major": 2,
              "version_minor": 0,
              "model_id": "b6f7c4270d484a0f9f0ea23c88095b67"
            }
          },
          "metadata": {}
        },
        {
          "output_type": "stream",
          "name": "stdout",
          "text": [
            "computing greedy matching.\n"
          ]
        },
        {
          "output_type": "display_data",
          "data": {
            "text/plain": [
              "  0%|          | 0/4 [00:00<?, ?it/s]"
            ],
            "application/vnd.jupyter.widget-view+json": {
              "version_major": 2,
              "version_minor": 0,
              "model_id": "591845fe90934abdbc9fea2f7a5d43fb"
            }
          },
          "metadata": {}
        },
        {
          "output_type": "stream",
          "name": "stdout",
          "text": [
            "done in 1.80 seconds, 111.12 sentences/sec\n",
            "Validation Metrics: {'BLEU': 0.0489520958751794, 'ROUGE-1': 0.347989999171128, 'ROUGE-2': 0.11365381863130607, 'ROUGE-L': 0.31776546731197464, 'BERT_F1': 0.9026632905006409}\n"
          ]
        }
      ],
      "source": [
        "# Lists to store metrics over epochs\n",
        "training_losses = []\n",
        "bleu_scores_tr = []\n",
        "rouge1_scores_tr = []\n",
        "rouge2_scores_tr = []\n",
        "rougeL_scores_tr = []\n",
        "# meteor_scores_tr = []\n",
        "bert_f1_scores_tr = []\n",
        "\n",
        "bleu_scores_val = []\n",
        "rouge1_scores_val = []\n",
        "rouge2_scores_val = []\n",
        "rougeL_scores_val = []\n",
        "# meteor_scores_val = []\n",
        "bert_f1_scores_val = []\n",
        "\n",
        " # Evaluate after each epoch\n",
        "#metrics_tr = evaluate_model(blip_model, t5_model, blip_processor, t5_tokenizer, train_dataloader, device)\n",
        "#bleu_scores_tr.append(metrics['BLEU'])\n",
        "#rouge1_scores_tr.append(metrics['ROUGE-1'])\n",
        "#rouge2_scores_tr.append(metrics['ROUGE-2'])\n",
        "#rougeL_scores_tr.append(metrics['ROUGE-L'])\n",
        "# meteor_scores_tr.append(metrics['METEOR'])\n",
        "#bert_f1_scores_tr.append(metrics['BERT_F1'])\n",
        "\n",
        "# Print training metrics\n",
        "#print(f\"Training Metrics: {metrics}\")\n",
        "\n",
        "metrics = evaluate_model(blip_model, t5_model, blip_processor, t5_tokenizer, val_dataloader, device)\n",
        "bleu_scores_val.append(metrics['BLEU'])\n",
        "rouge1_scores_val.append(metrics['ROUGE-1'])\n",
        "rouge2_scores_val.append(metrics['ROUGE-2'])\n",
        "rougeL_scores_val.append(metrics['ROUGE-L'])\n",
        "# meteor_scores_val.append(metrics['METEOR'])\n",
        "bert_f1_scores_val.append(metrics['BERT_F1'])\n",
        "\n",
        "# Print training metrics\n",
        "print(f\"Validation Metrics: {metrics}\")"
      ]
    },
    {
      "cell_type": "code",
      "execution_count": null,
      "metadata": {
        "id": "NJFFVzheEoq6"
      },
      "outputs": [],
      "source": [
        "import requests\n",
        "import imageio\n",
        "from PIL import Image\n",
        "from io import BytesIO\n",
        "import torch\n",
        "from nltk.translate.bleu_score import corpus_bleu\n",
        "from rouge_score import rouge_scorer\n",
        "from bert_score import score as bert_score_fn\n",
        "import torch.nn.functional as F\n",
        "\n",
        "def process_and_evaluate_gif(\n",
        "    gif_url,\n",
        "    actual_description,\n",
        "    blip_processor,\n",
        "    blip_model,\n",
        "    t5_tokenizer,\n",
        "    t5_model,\n",
        "    device='cuda' if torch.cuda.is_available() else 'cpu',\n",
        "    num_frames=5,\n",
        "    frame_size=(256, 256),\n",
        "    max_length=128,\n",
        "    max_target_length=150,\n",
        "    num_beams=4\n",
        "):\n",
        "    \"\"\"\n",
        "    Processes an unseen GIF to generate a description and evaluates it against the actual description.\n",
        "\n",
        "    Args:\n",
        "        gif_url (str): URL of the GIF to process.\n",
        "        actual_description (str): The ground truth description of the GIF.\n",
        "        blip_processor: BLIP processor instance.\n",
        "        blip_model: Trained BLIP model instance.\n",
        "        t5_tokenizer: T5 tokenizer instance.\n",
        "        t5_model: Trained T5 model instance.\n",
        "        device (str): Device to run the models on ('cuda' or 'cpu').\n",
        "        num_frames (int): Number of frames to extract from the GIF.\n",
        "        frame_size (tuple): Desired frame size (width, height).\n",
        "        max_length (int): Maximum token length for T5 input.\n",
        "        max_target_length (int): Maximum token length for T5 output.\n",
        "        num_beams (int): Number of beams for beam search in T5 generation.\n",
        "\n",
        "    Returns:\n",
        "        dict: Evaluation metrics including BLEU, ROUGE-1, ROUGE-2, ROUGE-L, and BERT_F1.\n",
        "    \"\"\"\n",
        "    # Step 1: Download the GIF\n",
        "    try:\n",
        "        response = requests.get(gif_url, timeout=10)\n",
        "        response.raise_for_status()\n",
        "        gif_bytes = BytesIO(response.content)\n",
        "        print(f\"Successfully downloaded GIF from {gif_url}\")\n",
        "    except requests.exceptions.RequestException as e:\n",
        "        print(f\"Failed to download GIF from {gif_url}: {e}\")\n",
        "        return None\n",
        "\n",
        "    # Step 2: Extract frames from the GIF\n",
        "    try:\n",
        "        gif = imageio.mimread(gif_bytes, memtest=False)\n",
        "        total_frames = len(gif)\n",
        "        if total_frames == 0:\n",
        "            print(\"No frames found in the GIF.\")\n",
        "            return None\n",
        "        interval = max(total_frames // num_frames, 1)\n",
        "        selected_frames = [gif[i] for i in range(0, total_frames, interval)][:num_frames]\n",
        "        print(f\"Extracted {len(selected_frames)} frames from the GIF.\")\n",
        "    except Exception as e:\n",
        "        print(f\"Error extracting frames from GIF: {e}\")\n",
        "        return None\n",
        "\n",
        "    # Step 3: Ensure each GIF has exactly num_frames by padding if necessary\n",
        "    while len(selected_frames) < num_frames:\n",
        "        if selected_frames:\n",
        "            selected_frames.append(selected_frames[-1])\n",
        "        else:\n",
        "            # Append a blank frame if no frames are extracted\n",
        "            selected_frames.append(np.zeros((frame_size[1], frame_size[0], 3), dtype=np.uint8))\n",
        "    selected_frames = selected_frames[:num_frames]  # Ensure no more than num_frames\n",
        "    print(f\"Total frames after padding: {len(selected_frames)}\")\n",
        "\n",
        "    # Step 4: Convert frames to PIL Images, resize, and generate captions using BLIP\n",
        "    captions = []\n",
        "    for idx, frame in enumerate(selected_frames):\n",
        "        try:\n",
        "            img = Image.fromarray(frame).convert('RGB')\n",
        "            img_resized = img.resize(frame_size)\n",
        "            inputs = blip_processor(img_resized, return_tensors=\"pt\").to(device)\n",
        "            with torch.no_grad():\n",
        "                outputs = blip_model.generate(**inputs, max_length=50)\n",
        "            caption = blip_processor.decode(outputs[0], skip_special_tokens=True)\n",
        "            captions.append(caption)\n",
        "            print(f\"Frame {idx+1}: {caption}\")\n",
        "        except Exception as e:\n",
        "            print(f\"Failed to generate caption for frame {idx+1}: {e}\")\n",
        "            captions.append(\"\")  # Append empty string for failed captions\n",
        "\n",
        "    # Step 5: Concatenate captions to form T5 input\n",
        "    concatenated_captions = \" \".join(captions)\n",
        "    print(f\"Concatenated Captions: {concatenated_captions}\")\n",
        "\n",
        "    # Step 6: Tokenize the concatenated captions for T5\n",
        "    try:\n",
        "        encoding = t5_tokenizer.encode_plus(\n",
        "            concatenated_captions,\n",
        "            add_special_tokens=True,\n",
        "            max_length=max_length,\n",
        "            padding='max_length',\n",
        "            truncation=True,\n",
        "            return_attention_mask=True,\n",
        "            return_tensors='pt',\n",
        "        )\n",
        "        input_ids = encoding['input_ids'].to(device)\n",
        "        attention_mask = encoding['attention_mask'].to(device)\n",
        "    except Exception as e:\n",
        "        print(f\"Error during tokenization: {e}\")\n",
        "        return None\n",
        "\n",
        "    # Step 7: Generate description using T5\n",
        "    try:\n",
        "        t5_model.eval()\n",
        "        with torch.no_grad():\n",
        "            outputs = t5_model.generate(\n",
        "                input_ids=input_ids,\n",
        "                attention_mask=attention_mask,\n",
        "                max_length=max_target_length,\n",
        "                num_beams=num_beams,\n",
        "                early_stopping=True\n",
        "            )\n",
        "        generated_description = t5_tokenizer.decode(outputs[0], skip_special_tokens=True)\n",
        "        print(f\"Generated Description: {generated_description}\")\n",
        "    except Exception as e:\n",
        "        print(f\"Error during T5 generation: {e}\")\n",
        "        return None\n",
        "\n",
        "    # Step 8: Evaluate the generated description against the actual description\n",
        "    scorer = rouge_scorer.RougeScorer(['rouge1', 'rouge2', 'rougeL'], use_stemmer=True)\n",
        "\n",
        "    # Prepare tokenized inputs\n",
        "    ref_tokens = actual_description.split()\n",
        "    hyp_tokens = generated_description.split()\n",
        "\n",
        "    # Calculate BLEU\n",
        "    bleu = corpus_bleu([[ref_tokens]], [hyp_tokens])\n",
        "\n",
        "    # Calculate ROUGE\n",
        "    scores = scorer.score(actual_description, generated_description)\n",
        "    rouge1 = scores['rouge1'].fmeasure\n",
        "    rouge2 = scores['rouge2'].fmeasure\n",
        "    rougeL = scores['rougeL'].fmeasure\n",
        "\n",
        "    # Calculate BERT Score\n",
        "    P, R, F1 = bert_score_fn(\n",
        "        [' '.join(hyp_tokens)],\n",
        "        [' '.join(ref_tokens)],\n",
        "        lang='en',\n",
        "        verbose=False\n",
        "    )\n",
        "    bert_f1 = F1.mean().item()\n",
        "\n",
        "    # Compile metrics\n",
        "    metrics = {\n",
        "        'BLEU': bleu,\n",
        "        'ROUGE-1': rouge1,\n",
        "        'ROUGE-2': rouge2,\n",
        "        'ROUGE-L': rougeL,\n",
        "        'BERT_F1': bert_f1\n",
        "    }\n",
        "\n",
        "    # Display Metrics\n",
        "    print(\"\\nEvaluation Metrics:\")\n",
        "    for metric, value in metrics.items():\n",
        "        print(f\"{metric}: {value:.4f}\")\n",
        "\n",
        "    return {\n",
        "        'generated_description': generated_description,\n",
        "        'actual_description': actual_description,\n",
        "        'metrics': metrics\n",
        "    }\n"
      ]
    },
    {
      "cell_type": "code",
      "execution_count": null,
      "metadata": {
        "colab": {
          "base_uri": "https://localhost:8080/"
        },
        "id": "AjycCMAuEwIy",
        "outputId": "511dd520-fbda-47a0-9ebf-8ccec90feaa1"
      },
      "outputs": [
        {
          "metadata": {
            "tags": null
          },
          "name": "stdout",
          "output_type": "stream",
          "text": [
            "Successfully downloaded GIF from https://38.media.tumblr.com/f754d72da3c6a58211c760d39dff5be3/tumblr_n8vbphDLEh1qdzzbko1_250.gif\n",
            "Extracted 5 frames from the GIF.\n",
            "Total frames after padding: 5\n",
            "Frame 1: a man in a tuxed suit and bow tie\n",
            "Frame 2: a man in a tuxed suit and bow tie\n",
            "Frame 3: a man in a tuxed suit and bow tie\n",
            "Frame 4: a man in a tuxed suit and bow tie\n",
            "Frame 5: a man in a tuxed suit and bow tie\n",
            "Concatenated Captions: a man in a tuxed suit and bow tie a man in a tuxed suit and bow tie a man in a tuxed suit and bow tie a man in a tuxed suit and bow tie a man in a tuxed suit and bow tie\n",
            "Generated Description: a man is dancing in a tuxedo with a bow.\n"
          ]
        },
        {
          "metadata": {
            "tags": null
          },
          "name": "stderr",
          "output_type": "stream",
          "text": [
            "/usr/local/lib/python3.10/dist-packages/nltk/translate/bleu_score.py:552: UserWarning: \n",
            "The hypothesis contains 0 counts of 4-gram overlaps.\n",
            "Therefore the BLEU score evaluates to 0, independently of\n",
            "how many N-gram overlaps of lower order it contains.\n",
            "Consider using lower n-gram order or use SmoothingFunction()\n",
            "  warnings.warn(_msg)\n",
            "Some weights of RobertaModel were not initialized from the model checkpoint at roberta-large and are newly initialized: ['roberta.pooler.dense.bias', 'roberta.pooler.dense.weight']\n",
            "You should probably TRAIN this model on a down-stream task to be able to use it for predictions and inference.\n"
          ]
        },
        {
          "metadata": {
            "tags": null
          },
          "name": "stdout",
          "output_type": "stream",
          "text": [
            "\n",
            "Evaluation Metrics:\n",
            "BLEU: 0.0000\n",
            "ROUGE-1: 0.4545\n",
            "ROUGE-2: 0.3000\n",
            "ROUGE-L: 0.4545\n",
            "BERT_F1: 0.9169\n",
            "\n",
            "Final Results:\n",
            "Generated Description: a man is dancing in a tuxedo with a bow.\n",
            "Actual Description: a man in a tuxedo stares as smoke rises next to him\n",
            "Evaluation Metrics:\n",
            "  BLEU: 0.0000\n",
            "  ROUGE-1: 0.4545\n",
            "  ROUGE-2: 0.3000\n",
            "  ROUGE-L: 0.4545\n",
            "  BERT_F1: 0.9169\n"
          ]
        }
      ],
      "source": [
        "# Example unseen GIF\n",
        "unseen_gif = {\n",
        "    'url': 'https://38.media.tumblr.com/f754d72da3c6a58211c760d39dff5be3/tumblr_n8vbphDLEh1qdzzbko1_250.gif',\n",
        "    'actual_description': 'a man in a tuxedo stares as smoke rises next to him'\n",
        "}\n",
        "\n",
        "# Process and evaluate the unseen GIF\n",
        "result = process_and_evaluate_gif(\n",
        "    gif_url=unseen_gif['url'],\n",
        "    actual_description=unseen_gif['actual_description'],\n",
        "    blip_processor=blip_processor,\n",
        "    blip_model=blip_model,\n",
        "    t5_tokenizer=t5_tokenizer,\n",
        "    t5_model=t5_model,\n",
        "    device=device,\n",
        "    num_frames=5,\n",
        "    frame_size=(256, 256),\n",
        "    max_length=128,\n",
        "    max_target_length=150,\n",
        "    num_beams=4\n",
        ")\n",
        "\n",
        "# Check the result\n",
        "if result:\n",
        "    print(\"\\nFinal Results:\")\n",
        "    print(f\"Generated Description: {result['generated_description']}\")\n",
        "    print(f\"Actual Description: {result['actual_description']}\")\n",
        "    print(\"Evaluation Metrics:\")\n",
        "    for metric, score in result['metrics'].items():\n",
        "        print(f\"  {metric}: {score:.4f}\")\n",
        "else:\n",
        "    print(\"Processing and evaluation failed.\")\n"
      ]
    }
  ],
  "metadata": {
    "accelerator": "GPU",
    "colab": {
      "gpuType": "T4",
      "provenance": []
    },
    "kernelspec": {
      "display_name": "Python 3",
      "name": "python3"
    },
    "language_info": {
      "name": "python"
    },
    "widgets": {
      "application/vnd.jupyter.widget-state+json": {
        "f8715c2c7b3c4f48bf17c843575d6d6a": {
          "model_module": "@jupyter-widgets/controls",
          "model_name": "HBoxModel",
          "model_module_version": "1.5.0",
          "state": {
            "_dom_classes": [],
            "_model_module": "@jupyter-widgets/controls",
            "_model_module_version": "1.5.0",
            "_model_name": "HBoxModel",
            "_view_count": null,
            "_view_module": "@jupyter-widgets/controls",
            "_view_module_version": "1.5.0",
            "_view_name": "HBoxView",
            "box_style": "",
            "children": [
              "IPY_MODEL_c720192393c5455cbea4041f4a9215a4",
              "IPY_MODEL_88d4f0e855cb45e3aabeb27e93ed8eeb",
              "IPY_MODEL_07755e83200b4b80b66d1e2d92780b23"
            ],
            "layout": "IPY_MODEL_647e7da5b2d9403d82a61185bbc74c1d"
          }
        },
        "c720192393c5455cbea4041f4a9215a4": {
          "model_module": "@jupyter-widgets/controls",
          "model_name": "HTMLModel",
          "model_module_version": "1.5.0",
          "state": {
            "_dom_classes": [],
            "_model_module": "@jupyter-widgets/controls",
            "_model_module_version": "1.5.0",
            "_model_name": "HTMLModel",
            "_view_count": null,
            "_view_module": "@jupyter-widgets/controls",
            "_view_module_version": "1.5.0",
            "_view_name": "HTMLView",
            "description": "",
            "description_tooltip": null,
            "layout": "IPY_MODEL_8e98f2c52a564c2aa933775d232aed5f",
            "placeholder": "​",
            "style": "IPY_MODEL_4bcb40b8cd244eec8cf3d127b42cd1f6",
            "value": "preprocessor_config.json: 100%"
          }
        },
        "88d4f0e855cb45e3aabeb27e93ed8eeb": {
          "model_module": "@jupyter-widgets/controls",
          "model_name": "FloatProgressModel",
          "model_module_version": "1.5.0",
          "state": {
            "_dom_classes": [],
            "_model_module": "@jupyter-widgets/controls",
            "_model_module_version": "1.5.0",
            "_model_name": "FloatProgressModel",
            "_view_count": null,
            "_view_module": "@jupyter-widgets/controls",
            "_view_module_version": "1.5.0",
            "_view_name": "ProgressView",
            "bar_style": "success",
            "description": "",
            "description_tooltip": null,
            "layout": "IPY_MODEL_554e17b060d74e978a828832377e448b",
            "max": 287,
            "min": 0,
            "orientation": "horizontal",
            "style": "IPY_MODEL_bb61c0dc0825406d94e22472552c4bd1",
            "value": 287
          }
        },
        "07755e83200b4b80b66d1e2d92780b23": {
          "model_module": "@jupyter-widgets/controls",
          "model_name": "HTMLModel",
          "model_module_version": "1.5.0",
          "state": {
            "_dom_classes": [],
            "_model_module": "@jupyter-widgets/controls",
            "_model_module_version": "1.5.0",
            "_model_name": "HTMLModel",
            "_view_count": null,
            "_view_module": "@jupyter-widgets/controls",
            "_view_module_version": "1.5.0",
            "_view_name": "HTMLView",
            "description": "",
            "description_tooltip": null,
            "layout": "IPY_MODEL_85e173c909414ffc82977316f434d132",
            "placeholder": "​",
            "style": "IPY_MODEL_0fadefa7eada4727ba5747539621b82b",
            "value": " 287/287 [00:00&lt;00:00, 10.5kB/s]"
          }
        },
        "647e7da5b2d9403d82a61185bbc74c1d": {
          "model_module": "@jupyter-widgets/base",
          "model_name": "LayoutModel",
          "model_module_version": "1.2.0",
          "state": {
            "_model_module": "@jupyter-widgets/base",
            "_model_module_version": "1.2.0",
            "_model_name": "LayoutModel",
            "_view_count": null,
            "_view_module": "@jupyter-widgets/base",
            "_view_module_version": "1.2.0",
            "_view_name": "LayoutView",
            "align_content": null,
            "align_items": null,
            "align_self": null,
            "border": null,
            "bottom": null,
            "display": null,
            "flex": null,
            "flex_flow": null,
            "grid_area": null,
            "grid_auto_columns": null,
            "grid_auto_flow": null,
            "grid_auto_rows": null,
            "grid_column": null,
            "grid_gap": null,
            "grid_row": null,
            "grid_template_areas": null,
            "grid_template_columns": null,
            "grid_template_rows": null,
            "height": null,
            "justify_content": null,
            "justify_items": null,
            "left": null,
            "margin": null,
            "max_height": null,
            "max_width": null,
            "min_height": null,
            "min_width": null,
            "object_fit": null,
            "object_position": null,
            "order": null,
            "overflow": null,
            "overflow_x": null,
            "overflow_y": null,
            "padding": null,
            "right": null,
            "top": null,
            "visibility": null,
            "width": null
          }
        },
        "8e98f2c52a564c2aa933775d232aed5f": {
          "model_module": "@jupyter-widgets/base",
          "model_name": "LayoutModel",
          "model_module_version": "1.2.0",
          "state": {
            "_model_module": "@jupyter-widgets/base",
            "_model_module_version": "1.2.0",
            "_model_name": "LayoutModel",
            "_view_count": null,
            "_view_module": "@jupyter-widgets/base",
            "_view_module_version": "1.2.0",
            "_view_name": "LayoutView",
            "align_content": null,
            "align_items": null,
            "align_self": null,
            "border": null,
            "bottom": null,
            "display": null,
            "flex": null,
            "flex_flow": null,
            "grid_area": null,
            "grid_auto_columns": null,
            "grid_auto_flow": null,
            "grid_auto_rows": null,
            "grid_column": null,
            "grid_gap": null,
            "grid_row": null,
            "grid_template_areas": null,
            "grid_template_columns": null,
            "grid_template_rows": null,
            "height": null,
            "justify_content": null,
            "justify_items": null,
            "left": null,
            "margin": null,
            "max_height": null,
            "max_width": null,
            "min_height": null,
            "min_width": null,
            "object_fit": null,
            "object_position": null,
            "order": null,
            "overflow": null,
            "overflow_x": null,
            "overflow_y": null,
            "padding": null,
            "right": null,
            "top": null,
            "visibility": null,
            "width": null
          }
        },
        "4bcb40b8cd244eec8cf3d127b42cd1f6": {
          "model_module": "@jupyter-widgets/controls",
          "model_name": "DescriptionStyleModel",
          "model_module_version": "1.5.0",
          "state": {
            "_model_module": "@jupyter-widgets/controls",
            "_model_module_version": "1.5.0",
            "_model_name": "DescriptionStyleModel",
            "_view_count": null,
            "_view_module": "@jupyter-widgets/base",
            "_view_module_version": "1.2.0",
            "_view_name": "StyleView",
            "description_width": ""
          }
        },
        "554e17b060d74e978a828832377e448b": {
          "model_module": "@jupyter-widgets/base",
          "model_name": "LayoutModel",
          "model_module_version": "1.2.0",
          "state": {
            "_model_module": "@jupyter-widgets/base",
            "_model_module_version": "1.2.0",
            "_model_name": "LayoutModel",
            "_view_count": null,
            "_view_module": "@jupyter-widgets/base",
            "_view_module_version": "1.2.0",
            "_view_name": "LayoutView",
            "align_content": null,
            "align_items": null,
            "align_self": null,
            "border": null,
            "bottom": null,
            "display": null,
            "flex": null,
            "flex_flow": null,
            "grid_area": null,
            "grid_auto_columns": null,
            "grid_auto_flow": null,
            "grid_auto_rows": null,
            "grid_column": null,
            "grid_gap": null,
            "grid_row": null,
            "grid_template_areas": null,
            "grid_template_columns": null,
            "grid_template_rows": null,
            "height": null,
            "justify_content": null,
            "justify_items": null,
            "left": null,
            "margin": null,
            "max_height": null,
            "max_width": null,
            "min_height": null,
            "min_width": null,
            "object_fit": null,
            "object_position": null,
            "order": null,
            "overflow": null,
            "overflow_x": null,
            "overflow_y": null,
            "padding": null,
            "right": null,
            "top": null,
            "visibility": null,
            "width": null
          }
        },
        "bb61c0dc0825406d94e22472552c4bd1": {
          "model_module": "@jupyter-widgets/controls",
          "model_name": "ProgressStyleModel",
          "model_module_version": "1.5.0",
          "state": {
            "_model_module": "@jupyter-widgets/controls",
            "_model_module_version": "1.5.0",
            "_model_name": "ProgressStyleModel",
            "_view_count": null,
            "_view_module": "@jupyter-widgets/base",
            "_view_module_version": "1.2.0",
            "_view_name": "StyleView",
            "bar_color": null,
            "description_width": ""
          }
        },
        "85e173c909414ffc82977316f434d132": {
          "model_module": "@jupyter-widgets/base",
          "model_name": "LayoutModel",
          "model_module_version": "1.2.0",
          "state": {
            "_model_module": "@jupyter-widgets/base",
            "_model_module_version": "1.2.0",
            "_model_name": "LayoutModel",
            "_view_count": null,
            "_view_module": "@jupyter-widgets/base",
            "_view_module_version": "1.2.0",
            "_view_name": "LayoutView",
            "align_content": null,
            "align_items": null,
            "align_self": null,
            "border": null,
            "bottom": null,
            "display": null,
            "flex": null,
            "flex_flow": null,
            "grid_area": null,
            "grid_auto_columns": null,
            "grid_auto_flow": null,
            "grid_auto_rows": null,
            "grid_column": null,
            "grid_gap": null,
            "grid_row": null,
            "grid_template_areas": null,
            "grid_template_columns": null,
            "grid_template_rows": null,
            "height": null,
            "justify_content": null,
            "justify_items": null,
            "left": null,
            "margin": null,
            "max_height": null,
            "max_width": null,
            "min_height": null,
            "min_width": null,
            "object_fit": null,
            "object_position": null,
            "order": null,
            "overflow": null,
            "overflow_x": null,
            "overflow_y": null,
            "padding": null,
            "right": null,
            "top": null,
            "visibility": null,
            "width": null
          }
        },
        "0fadefa7eada4727ba5747539621b82b": {
          "model_module": "@jupyter-widgets/controls",
          "model_name": "DescriptionStyleModel",
          "model_module_version": "1.5.0",
          "state": {
            "_model_module": "@jupyter-widgets/controls",
            "_model_module_version": "1.5.0",
            "_model_name": "DescriptionStyleModel",
            "_view_count": null,
            "_view_module": "@jupyter-widgets/base",
            "_view_module_version": "1.2.0",
            "_view_name": "StyleView",
            "description_width": ""
          }
        },
        "8303f106fe6f453d903ef35657b46184": {
          "model_module": "@jupyter-widgets/controls",
          "model_name": "HBoxModel",
          "model_module_version": "1.5.0",
          "state": {
            "_dom_classes": [],
            "_model_module": "@jupyter-widgets/controls",
            "_model_module_version": "1.5.0",
            "_model_name": "HBoxModel",
            "_view_count": null,
            "_view_module": "@jupyter-widgets/controls",
            "_view_module_version": "1.5.0",
            "_view_name": "HBoxView",
            "box_style": "",
            "children": [
              "IPY_MODEL_6dcf3ccc378e4cd69e5022de6c93fba3",
              "IPY_MODEL_8b507e899fd8447787d31439b234beff",
              "IPY_MODEL_b2c00327f16c41b494d18cf7a2fde80b"
            ],
            "layout": "IPY_MODEL_64aedd13cce94af9aef664b788e78f8b"
          }
        },
        "6dcf3ccc378e4cd69e5022de6c93fba3": {
          "model_module": "@jupyter-widgets/controls",
          "model_name": "HTMLModel",
          "model_module_version": "1.5.0",
          "state": {
            "_dom_classes": [],
            "_model_module": "@jupyter-widgets/controls",
            "_model_module_version": "1.5.0",
            "_model_name": "HTMLModel",
            "_view_count": null,
            "_view_module": "@jupyter-widgets/controls",
            "_view_module_version": "1.5.0",
            "_view_name": "HTMLView",
            "description": "",
            "description_tooltip": null,
            "layout": "IPY_MODEL_8d82f55da72245e3b85d3e6940d9be0c",
            "placeholder": "​",
            "style": "IPY_MODEL_0693f060898f40adacbf8f0df9f187b4",
            "value": "tokenizer_config.json: 100%"
          }
        },
        "8b507e899fd8447787d31439b234beff": {
          "model_module": "@jupyter-widgets/controls",
          "model_name": "FloatProgressModel",
          "model_module_version": "1.5.0",
          "state": {
            "_dom_classes": [],
            "_model_module": "@jupyter-widgets/controls",
            "_model_module_version": "1.5.0",
            "_model_name": "FloatProgressModel",
            "_view_count": null,
            "_view_module": "@jupyter-widgets/controls",
            "_view_module_version": "1.5.0",
            "_view_name": "ProgressView",
            "bar_style": "success",
            "description": "",
            "description_tooltip": null,
            "layout": "IPY_MODEL_930afb17373b4ce9858b507adca3b828",
            "max": 506,
            "min": 0,
            "orientation": "horizontal",
            "style": "IPY_MODEL_f8f6b3ef106948aa9dd9ba09f0c8c842",
            "value": 506
          }
        },
        "b2c00327f16c41b494d18cf7a2fde80b": {
          "model_module": "@jupyter-widgets/controls",
          "model_name": "HTMLModel",
          "model_module_version": "1.5.0",
          "state": {
            "_dom_classes": [],
            "_model_module": "@jupyter-widgets/controls",
            "_model_module_version": "1.5.0",
            "_model_name": "HTMLModel",
            "_view_count": null,
            "_view_module": "@jupyter-widgets/controls",
            "_view_module_version": "1.5.0",
            "_view_name": "HTMLView",
            "description": "",
            "description_tooltip": null,
            "layout": "IPY_MODEL_3413a3e21523479e99c23c42f82b53dd",
            "placeholder": "​",
            "style": "IPY_MODEL_06ef27c5e8514445b32be29d757525f5",
            "value": " 506/506 [00:00&lt;00:00, 8.60kB/s]"
          }
        },
        "64aedd13cce94af9aef664b788e78f8b": {
          "model_module": "@jupyter-widgets/base",
          "model_name": "LayoutModel",
          "model_module_version": "1.2.0",
          "state": {
            "_model_module": "@jupyter-widgets/base",
            "_model_module_version": "1.2.0",
            "_model_name": "LayoutModel",
            "_view_count": null,
            "_view_module": "@jupyter-widgets/base",
            "_view_module_version": "1.2.0",
            "_view_name": "LayoutView",
            "align_content": null,
            "align_items": null,
            "align_self": null,
            "border": null,
            "bottom": null,
            "display": null,
            "flex": null,
            "flex_flow": null,
            "grid_area": null,
            "grid_auto_columns": null,
            "grid_auto_flow": null,
            "grid_auto_rows": null,
            "grid_column": null,
            "grid_gap": null,
            "grid_row": null,
            "grid_template_areas": null,
            "grid_template_columns": null,
            "grid_template_rows": null,
            "height": null,
            "justify_content": null,
            "justify_items": null,
            "left": null,
            "margin": null,
            "max_height": null,
            "max_width": null,
            "min_height": null,
            "min_width": null,
            "object_fit": null,
            "object_position": null,
            "order": null,
            "overflow": null,
            "overflow_x": null,
            "overflow_y": null,
            "padding": null,
            "right": null,
            "top": null,
            "visibility": null,
            "width": null
          }
        },
        "8d82f55da72245e3b85d3e6940d9be0c": {
          "model_module": "@jupyter-widgets/base",
          "model_name": "LayoutModel",
          "model_module_version": "1.2.0",
          "state": {
            "_model_module": "@jupyter-widgets/base",
            "_model_module_version": "1.2.0",
            "_model_name": "LayoutModel",
            "_view_count": null,
            "_view_module": "@jupyter-widgets/base",
            "_view_module_version": "1.2.0",
            "_view_name": "LayoutView",
            "align_content": null,
            "align_items": null,
            "align_self": null,
            "border": null,
            "bottom": null,
            "display": null,
            "flex": null,
            "flex_flow": null,
            "grid_area": null,
            "grid_auto_columns": null,
            "grid_auto_flow": null,
            "grid_auto_rows": null,
            "grid_column": null,
            "grid_gap": null,
            "grid_row": null,
            "grid_template_areas": null,
            "grid_template_columns": null,
            "grid_template_rows": null,
            "height": null,
            "justify_content": null,
            "justify_items": null,
            "left": null,
            "margin": null,
            "max_height": null,
            "max_width": null,
            "min_height": null,
            "min_width": null,
            "object_fit": null,
            "object_position": null,
            "order": null,
            "overflow": null,
            "overflow_x": null,
            "overflow_y": null,
            "padding": null,
            "right": null,
            "top": null,
            "visibility": null,
            "width": null
          }
        },
        "0693f060898f40adacbf8f0df9f187b4": {
          "model_module": "@jupyter-widgets/controls",
          "model_name": "DescriptionStyleModel",
          "model_module_version": "1.5.0",
          "state": {
            "_model_module": "@jupyter-widgets/controls",
            "_model_module_version": "1.5.0",
            "_model_name": "DescriptionStyleModel",
            "_view_count": null,
            "_view_module": "@jupyter-widgets/base",
            "_view_module_version": "1.2.0",
            "_view_name": "StyleView",
            "description_width": ""
          }
        },
        "930afb17373b4ce9858b507adca3b828": {
          "model_module": "@jupyter-widgets/base",
          "model_name": "LayoutModel",
          "model_module_version": "1.2.0",
          "state": {
            "_model_module": "@jupyter-widgets/base",
            "_model_module_version": "1.2.0",
            "_model_name": "LayoutModel",
            "_view_count": null,
            "_view_module": "@jupyter-widgets/base",
            "_view_module_version": "1.2.0",
            "_view_name": "LayoutView",
            "align_content": null,
            "align_items": null,
            "align_self": null,
            "border": null,
            "bottom": null,
            "display": null,
            "flex": null,
            "flex_flow": null,
            "grid_area": null,
            "grid_auto_columns": null,
            "grid_auto_flow": null,
            "grid_auto_rows": null,
            "grid_column": null,
            "grid_gap": null,
            "grid_row": null,
            "grid_template_areas": null,
            "grid_template_columns": null,
            "grid_template_rows": null,
            "height": null,
            "justify_content": null,
            "justify_items": null,
            "left": null,
            "margin": null,
            "max_height": null,
            "max_width": null,
            "min_height": null,
            "min_width": null,
            "object_fit": null,
            "object_position": null,
            "order": null,
            "overflow": null,
            "overflow_x": null,
            "overflow_y": null,
            "padding": null,
            "right": null,
            "top": null,
            "visibility": null,
            "width": null
          }
        },
        "f8f6b3ef106948aa9dd9ba09f0c8c842": {
          "model_module": "@jupyter-widgets/controls",
          "model_name": "ProgressStyleModel",
          "model_module_version": "1.5.0",
          "state": {
            "_model_module": "@jupyter-widgets/controls",
            "_model_module_version": "1.5.0",
            "_model_name": "ProgressStyleModel",
            "_view_count": null,
            "_view_module": "@jupyter-widgets/base",
            "_view_module_version": "1.2.0",
            "_view_name": "StyleView",
            "bar_color": null,
            "description_width": ""
          }
        },
        "3413a3e21523479e99c23c42f82b53dd": {
          "model_module": "@jupyter-widgets/base",
          "model_name": "LayoutModel",
          "model_module_version": "1.2.0",
          "state": {
            "_model_module": "@jupyter-widgets/base",
            "_model_module_version": "1.2.0",
            "_model_name": "LayoutModel",
            "_view_count": null,
            "_view_module": "@jupyter-widgets/base",
            "_view_module_version": "1.2.0",
            "_view_name": "LayoutView",
            "align_content": null,
            "align_items": null,
            "align_self": null,
            "border": null,
            "bottom": null,
            "display": null,
            "flex": null,
            "flex_flow": null,
            "grid_area": null,
            "grid_auto_columns": null,
            "grid_auto_flow": null,
            "grid_auto_rows": null,
            "grid_column": null,
            "grid_gap": null,
            "grid_row": null,
            "grid_template_areas": null,
            "grid_template_columns": null,
            "grid_template_rows": null,
            "height": null,
            "justify_content": null,
            "justify_items": null,
            "left": null,
            "margin": null,
            "max_height": null,
            "max_width": null,
            "min_height": null,
            "min_width": null,
            "object_fit": null,
            "object_position": null,
            "order": null,
            "overflow": null,
            "overflow_x": null,
            "overflow_y": null,
            "padding": null,
            "right": null,
            "top": null,
            "visibility": null,
            "width": null
          }
        },
        "06ef27c5e8514445b32be29d757525f5": {
          "model_module": "@jupyter-widgets/controls",
          "model_name": "DescriptionStyleModel",
          "model_module_version": "1.5.0",
          "state": {
            "_model_module": "@jupyter-widgets/controls",
            "_model_module_version": "1.5.0",
            "_model_name": "DescriptionStyleModel",
            "_view_count": null,
            "_view_module": "@jupyter-widgets/base",
            "_view_module_version": "1.2.0",
            "_view_name": "StyleView",
            "description_width": ""
          }
        },
        "b2612aa4783544ae821c7d62fefb596a": {
          "model_module": "@jupyter-widgets/controls",
          "model_name": "HBoxModel",
          "model_module_version": "1.5.0",
          "state": {
            "_dom_classes": [],
            "_model_module": "@jupyter-widgets/controls",
            "_model_module_version": "1.5.0",
            "_model_name": "HBoxModel",
            "_view_count": null,
            "_view_module": "@jupyter-widgets/controls",
            "_view_module_version": "1.5.0",
            "_view_name": "HBoxView",
            "box_style": "",
            "children": [
              "IPY_MODEL_45c9a91c54ed42c08e7d65997ff0a9a7",
              "IPY_MODEL_bdd0f366a75c4be2aad986a5f517d226",
              "IPY_MODEL_dac8fc1ece644ab7ba5c8eff85d8d640"
            ],
            "layout": "IPY_MODEL_743250f0cac74286881bbe28be49b0a9"
          }
        },
        "45c9a91c54ed42c08e7d65997ff0a9a7": {
          "model_module": "@jupyter-widgets/controls",
          "model_name": "HTMLModel",
          "model_module_version": "1.5.0",
          "state": {
            "_dom_classes": [],
            "_model_module": "@jupyter-widgets/controls",
            "_model_module_version": "1.5.0",
            "_model_name": "HTMLModel",
            "_view_count": null,
            "_view_module": "@jupyter-widgets/controls",
            "_view_module_version": "1.5.0",
            "_view_name": "HTMLView",
            "description": "",
            "description_tooltip": null,
            "layout": "IPY_MODEL_3682c09691604e5dac8ef61afd10ead7",
            "placeholder": "​",
            "style": "IPY_MODEL_0604e54e75cd43b098b492ebf7d71645",
            "value": "vocab.txt: 100%"
          }
        },
        "bdd0f366a75c4be2aad986a5f517d226": {
          "model_module": "@jupyter-widgets/controls",
          "model_name": "FloatProgressModel",
          "model_module_version": "1.5.0",
          "state": {
            "_dom_classes": [],
            "_model_module": "@jupyter-widgets/controls",
            "_model_module_version": "1.5.0",
            "_model_name": "FloatProgressModel",
            "_view_count": null,
            "_view_module": "@jupyter-widgets/controls",
            "_view_module_version": "1.5.0",
            "_view_name": "ProgressView",
            "bar_style": "success",
            "description": "",
            "description_tooltip": null,
            "layout": "IPY_MODEL_29d927e822474a02a586d2af5e83f2c0",
            "max": 231508,
            "min": 0,
            "orientation": "horizontal",
            "style": "IPY_MODEL_b308138523004f94a844be1d61c62310",
            "value": 231508
          }
        },
        "dac8fc1ece644ab7ba5c8eff85d8d640": {
          "model_module": "@jupyter-widgets/controls",
          "model_name": "HTMLModel",
          "model_module_version": "1.5.0",
          "state": {
            "_dom_classes": [],
            "_model_module": "@jupyter-widgets/controls",
            "_model_module_version": "1.5.0",
            "_model_name": "HTMLModel",
            "_view_count": null,
            "_view_module": "@jupyter-widgets/controls",
            "_view_module_version": "1.5.0",
            "_view_name": "HTMLView",
            "description": "",
            "description_tooltip": null,
            "layout": "IPY_MODEL_cbaa64c09fae4a54b664a6679085181d",
            "placeholder": "​",
            "style": "IPY_MODEL_9e5edfd0d1a84c7e842fcf5eae249196",
            "value": " 232k/232k [00:00&lt;00:00, 5.38MB/s]"
          }
        },
        "743250f0cac74286881bbe28be49b0a9": {
          "model_module": "@jupyter-widgets/base",
          "model_name": "LayoutModel",
          "model_module_version": "1.2.0",
          "state": {
            "_model_module": "@jupyter-widgets/base",
            "_model_module_version": "1.2.0",
            "_model_name": "LayoutModel",
            "_view_count": null,
            "_view_module": "@jupyter-widgets/base",
            "_view_module_version": "1.2.0",
            "_view_name": "LayoutView",
            "align_content": null,
            "align_items": null,
            "align_self": null,
            "border": null,
            "bottom": null,
            "display": null,
            "flex": null,
            "flex_flow": null,
            "grid_area": null,
            "grid_auto_columns": null,
            "grid_auto_flow": null,
            "grid_auto_rows": null,
            "grid_column": null,
            "grid_gap": null,
            "grid_row": null,
            "grid_template_areas": null,
            "grid_template_columns": null,
            "grid_template_rows": null,
            "height": null,
            "justify_content": null,
            "justify_items": null,
            "left": null,
            "margin": null,
            "max_height": null,
            "max_width": null,
            "min_height": null,
            "min_width": null,
            "object_fit": null,
            "object_position": null,
            "order": null,
            "overflow": null,
            "overflow_x": null,
            "overflow_y": null,
            "padding": null,
            "right": null,
            "top": null,
            "visibility": null,
            "width": null
          }
        },
        "3682c09691604e5dac8ef61afd10ead7": {
          "model_module": "@jupyter-widgets/base",
          "model_name": "LayoutModel",
          "model_module_version": "1.2.0",
          "state": {
            "_model_module": "@jupyter-widgets/base",
            "_model_module_version": "1.2.0",
            "_model_name": "LayoutModel",
            "_view_count": null,
            "_view_module": "@jupyter-widgets/base",
            "_view_module_version": "1.2.0",
            "_view_name": "LayoutView",
            "align_content": null,
            "align_items": null,
            "align_self": null,
            "border": null,
            "bottom": null,
            "display": null,
            "flex": null,
            "flex_flow": null,
            "grid_area": null,
            "grid_auto_columns": null,
            "grid_auto_flow": null,
            "grid_auto_rows": null,
            "grid_column": null,
            "grid_gap": null,
            "grid_row": null,
            "grid_template_areas": null,
            "grid_template_columns": null,
            "grid_template_rows": null,
            "height": null,
            "justify_content": null,
            "justify_items": null,
            "left": null,
            "margin": null,
            "max_height": null,
            "max_width": null,
            "min_height": null,
            "min_width": null,
            "object_fit": null,
            "object_position": null,
            "order": null,
            "overflow": null,
            "overflow_x": null,
            "overflow_y": null,
            "padding": null,
            "right": null,
            "top": null,
            "visibility": null,
            "width": null
          }
        },
        "0604e54e75cd43b098b492ebf7d71645": {
          "model_module": "@jupyter-widgets/controls",
          "model_name": "DescriptionStyleModel",
          "model_module_version": "1.5.0",
          "state": {
            "_model_module": "@jupyter-widgets/controls",
            "_model_module_version": "1.5.0",
            "_model_name": "DescriptionStyleModel",
            "_view_count": null,
            "_view_module": "@jupyter-widgets/base",
            "_view_module_version": "1.2.0",
            "_view_name": "StyleView",
            "description_width": ""
          }
        },
        "29d927e822474a02a586d2af5e83f2c0": {
          "model_module": "@jupyter-widgets/base",
          "model_name": "LayoutModel",
          "model_module_version": "1.2.0",
          "state": {
            "_model_module": "@jupyter-widgets/base",
            "_model_module_version": "1.2.0",
            "_model_name": "LayoutModel",
            "_view_count": null,
            "_view_module": "@jupyter-widgets/base",
            "_view_module_version": "1.2.0",
            "_view_name": "LayoutView",
            "align_content": null,
            "align_items": null,
            "align_self": null,
            "border": null,
            "bottom": null,
            "display": null,
            "flex": null,
            "flex_flow": null,
            "grid_area": null,
            "grid_auto_columns": null,
            "grid_auto_flow": null,
            "grid_auto_rows": null,
            "grid_column": null,
            "grid_gap": null,
            "grid_row": null,
            "grid_template_areas": null,
            "grid_template_columns": null,
            "grid_template_rows": null,
            "height": null,
            "justify_content": null,
            "justify_items": null,
            "left": null,
            "margin": null,
            "max_height": null,
            "max_width": null,
            "min_height": null,
            "min_width": null,
            "object_fit": null,
            "object_position": null,
            "order": null,
            "overflow": null,
            "overflow_x": null,
            "overflow_y": null,
            "padding": null,
            "right": null,
            "top": null,
            "visibility": null,
            "width": null
          }
        },
        "b308138523004f94a844be1d61c62310": {
          "model_module": "@jupyter-widgets/controls",
          "model_name": "ProgressStyleModel",
          "model_module_version": "1.5.0",
          "state": {
            "_model_module": "@jupyter-widgets/controls",
            "_model_module_version": "1.5.0",
            "_model_name": "ProgressStyleModel",
            "_view_count": null,
            "_view_module": "@jupyter-widgets/base",
            "_view_module_version": "1.2.0",
            "_view_name": "StyleView",
            "bar_color": null,
            "description_width": ""
          }
        },
        "cbaa64c09fae4a54b664a6679085181d": {
          "model_module": "@jupyter-widgets/base",
          "model_name": "LayoutModel",
          "model_module_version": "1.2.0",
          "state": {
            "_model_module": "@jupyter-widgets/base",
            "_model_module_version": "1.2.0",
            "_model_name": "LayoutModel",
            "_view_count": null,
            "_view_module": "@jupyter-widgets/base",
            "_view_module_version": "1.2.0",
            "_view_name": "LayoutView",
            "align_content": null,
            "align_items": null,
            "align_self": null,
            "border": null,
            "bottom": null,
            "display": null,
            "flex": null,
            "flex_flow": null,
            "grid_area": null,
            "grid_auto_columns": null,
            "grid_auto_flow": null,
            "grid_auto_rows": null,
            "grid_column": null,
            "grid_gap": null,
            "grid_row": null,
            "grid_template_areas": null,
            "grid_template_columns": null,
            "grid_template_rows": null,
            "height": null,
            "justify_content": null,
            "justify_items": null,
            "left": null,
            "margin": null,
            "max_height": null,
            "max_width": null,
            "min_height": null,
            "min_width": null,
            "object_fit": null,
            "object_position": null,
            "order": null,
            "overflow": null,
            "overflow_x": null,
            "overflow_y": null,
            "padding": null,
            "right": null,
            "top": null,
            "visibility": null,
            "width": null
          }
        },
        "9e5edfd0d1a84c7e842fcf5eae249196": {
          "model_module": "@jupyter-widgets/controls",
          "model_name": "DescriptionStyleModel",
          "model_module_version": "1.5.0",
          "state": {
            "_model_module": "@jupyter-widgets/controls",
            "_model_module_version": "1.5.0",
            "_model_name": "DescriptionStyleModel",
            "_view_count": null,
            "_view_module": "@jupyter-widgets/base",
            "_view_module_version": "1.2.0",
            "_view_name": "StyleView",
            "description_width": ""
          }
        },
        "298eeb51d63946858e3a14573ecc7d64": {
          "model_module": "@jupyter-widgets/controls",
          "model_name": "HBoxModel",
          "model_module_version": "1.5.0",
          "state": {
            "_dom_classes": [],
            "_model_module": "@jupyter-widgets/controls",
            "_model_module_version": "1.5.0",
            "_model_name": "HBoxModel",
            "_view_count": null,
            "_view_module": "@jupyter-widgets/controls",
            "_view_module_version": "1.5.0",
            "_view_name": "HBoxView",
            "box_style": "",
            "children": [
              "IPY_MODEL_ec89fbfac31447cab722297011860e16",
              "IPY_MODEL_4f28f7ffcf504735a1571301eaa5888a",
              "IPY_MODEL_2653a2ac93974a8abff7db7320c8a55a"
            ],
            "layout": "IPY_MODEL_3f0bd2a6de294d8f82a9ba4ffdea4c6b"
          }
        },
        "ec89fbfac31447cab722297011860e16": {
          "model_module": "@jupyter-widgets/controls",
          "model_name": "HTMLModel",
          "model_module_version": "1.5.0",
          "state": {
            "_dom_classes": [],
            "_model_module": "@jupyter-widgets/controls",
            "_model_module_version": "1.5.0",
            "_model_name": "HTMLModel",
            "_view_count": null,
            "_view_module": "@jupyter-widgets/controls",
            "_view_module_version": "1.5.0",
            "_view_name": "HTMLView",
            "description": "",
            "description_tooltip": null,
            "layout": "IPY_MODEL_0405bbecdbdd4f9ea863fbfd12d9e2c1",
            "placeholder": "​",
            "style": "IPY_MODEL_e06c13d1750d4790b9a4a1ae4e43bf00",
            "value": "tokenizer.json: 100%"
          }
        },
        "4f28f7ffcf504735a1571301eaa5888a": {
          "model_module": "@jupyter-widgets/controls",
          "model_name": "FloatProgressModel",
          "model_module_version": "1.5.0",
          "state": {
            "_dom_classes": [],
            "_model_module": "@jupyter-widgets/controls",
            "_model_module_version": "1.5.0",
            "_model_name": "FloatProgressModel",
            "_view_count": null,
            "_view_module": "@jupyter-widgets/controls",
            "_view_module_version": "1.5.0",
            "_view_name": "ProgressView",
            "bar_style": "success",
            "description": "",
            "description_tooltip": null,
            "layout": "IPY_MODEL_ea253b8e8bd74c009a781b99f00dec68",
            "max": 711396,
            "min": 0,
            "orientation": "horizontal",
            "style": "IPY_MODEL_eb73ee12669346c9a872f46cb8fcd685",
            "value": 711396
          }
        },
        "2653a2ac93974a8abff7db7320c8a55a": {
          "model_module": "@jupyter-widgets/controls",
          "model_name": "HTMLModel",
          "model_module_version": "1.5.0",
          "state": {
            "_dom_classes": [],
            "_model_module": "@jupyter-widgets/controls",
            "_model_module_version": "1.5.0",
            "_model_name": "HTMLModel",
            "_view_count": null,
            "_view_module": "@jupyter-widgets/controls",
            "_view_module_version": "1.5.0",
            "_view_name": "HTMLView",
            "description": "",
            "description_tooltip": null,
            "layout": "IPY_MODEL_f70d52bbbd7543b4a2217335b7a78fd7",
            "placeholder": "​",
            "style": "IPY_MODEL_1959ddee9e014ea484d62ab5ca2f4a4c",
            "value": " 711k/711k [00:00&lt;00:00, 10.1MB/s]"
          }
        },
        "3f0bd2a6de294d8f82a9ba4ffdea4c6b": {
          "model_module": "@jupyter-widgets/base",
          "model_name": "LayoutModel",
          "model_module_version": "1.2.0",
          "state": {
            "_model_module": "@jupyter-widgets/base",
            "_model_module_version": "1.2.0",
            "_model_name": "LayoutModel",
            "_view_count": null,
            "_view_module": "@jupyter-widgets/base",
            "_view_module_version": "1.2.0",
            "_view_name": "LayoutView",
            "align_content": null,
            "align_items": null,
            "align_self": null,
            "border": null,
            "bottom": null,
            "display": null,
            "flex": null,
            "flex_flow": null,
            "grid_area": null,
            "grid_auto_columns": null,
            "grid_auto_flow": null,
            "grid_auto_rows": null,
            "grid_column": null,
            "grid_gap": null,
            "grid_row": null,
            "grid_template_areas": null,
            "grid_template_columns": null,
            "grid_template_rows": null,
            "height": null,
            "justify_content": null,
            "justify_items": null,
            "left": null,
            "margin": null,
            "max_height": null,
            "max_width": null,
            "min_height": null,
            "min_width": null,
            "object_fit": null,
            "object_position": null,
            "order": null,
            "overflow": null,
            "overflow_x": null,
            "overflow_y": null,
            "padding": null,
            "right": null,
            "top": null,
            "visibility": null,
            "width": null
          }
        },
        "0405bbecdbdd4f9ea863fbfd12d9e2c1": {
          "model_module": "@jupyter-widgets/base",
          "model_name": "LayoutModel",
          "model_module_version": "1.2.0",
          "state": {
            "_model_module": "@jupyter-widgets/base",
            "_model_module_version": "1.2.0",
            "_model_name": "LayoutModel",
            "_view_count": null,
            "_view_module": "@jupyter-widgets/base",
            "_view_module_version": "1.2.0",
            "_view_name": "LayoutView",
            "align_content": null,
            "align_items": null,
            "align_self": null,
            "border": null,
            "bottom": null,
            "display": null,
            "flex": null,
            "flex_flow": null,
            "grid_area": null,
            "grid_auto_columns": null,
            "grid_auto_flow": null,
            "grid_auto_rows": null,
            "grid_column": null,
            "grid_gap": null,
            "grid_row": null,
            "grid_template_areas": null,
            "grid_template_columns": null,
            "grid_template_rows": null,
            "height": null,
            "justify_content": null,
            "justify_items": null,
            "left": null,
            "margin": null,
            "max_height": null,
            "max_width": null,
            "min_height": null,
            "min_width": null,
            "object_fit": null,
            "object_position": null,
            "order": null,
            "overflow": null,
            "overflow_x": null,
            "overflow_y": null,
            "padding": null,
            "right": null,
            "top": null,
            "visibility": null,
            "width": null
          }
        },
        "e06c13d1750d4790b9a4a1ae4e43bf00": {
          "model_module": "@jupyter-widgets/controls",
          "model_name": "DescriptionStyleModel",
          "model_module_version": "1.5.0",
          "state": {
            "_model_module": "@jupyter-widgets/controls",
            "_model_module_version": "1.5.0",
            "_model_name": "DescriptionStyleModel",
            "_view_count": null,
            "_view_module": "@jupyter-widgets/base",
            "_view_module_version": "1.2.0",
            "_view_name": "StyleView",
            "description_width": ""
          }
        },
        "ea253b8e8bd74c009a781b99f00dec68": {
          "model_module": "@jupyter-widgets/base",
          "model_name": "LayoutModel",
          "model_module_version": "1.2.0",
          "state": {
            "_model_module": "@jupyter-widgets/base",
            "_model_module_version": "1.2.0",
            "_model_name": "LayoutModel",
            "_view_count": null,
            "_view_module": "@jupyter-widgets/base",
            "_view_module_version": "1.2.0",
            "_view_name": "LayoutView",
            "align_content": null,
            "align_items": null,
            "align_self": null,
            "border": null,
            "bottom": null,
            "display": null,
            "flex": null,
            "flex_flow": null,
            "grid_area": null,
            "grid_auto_columns": null,
            "grid_auto_flow": null,
            "grid_auto_rows": null,
            "grid_column": null,
            "grid_gap": null,
            "grid_row": null,
            "grid_template_areas": null,
            "grid_template_columns": null,
            "grid_template_rows": null,
            "height": null,
            "justify_content": null,
            "justify_items": null,
            "left": null,
            "margin": null,
            "max_height": null,
            "max_width": null,
            "min_height": null,
            "min_width": null,
            "object_fit": null,
            "object_position": null,
            "order": null,
            "overflow": null,
            "overflow_x": null,
            "overflow_y": null,
            "padding": null,
            "right": null,
            "top": null,
            "visibility": null,
            "width": null
          }
        },
        "eb73ee12669346c9a872f46cb8fcd685": {
          "model_module": "@jupyter-widgets/controls",
          "model_name": "ProgressStyleModel",
          "model_module_version": "1.5.0",
          "state": {
            "_model_module": "@jupyter-widgets/controls",
            "_model_module_version": "1.5.0",
            "_model_name": "ProgressStyleModel",
            "_view_count": null,
            "_view_module": "@jupyter-widgets/base",
            "_view_module_version": "1.2.0",
            "_view_name": "StyleView",
            "bar_color": null,
            "description_width": ""
          }
        },
        "f70d52bbbd7543b4a2217335b7a78fd7": {
          "model_module": "@jupyter-widgets/base",
          "model_name": "LayoutModel",
          "model_module_version": "1.2.0",
          "state": {
            "_model_module": "@jupyter-widgets/base",
            "_model_module_version": "1.2.0",
            "_model_name": "LayoutModel",
            "_view_count": null,
            "_view_module": "@jupyter-widgets/base",
            "_view_module_version": "1.2.0",
            "_view_name": "LayoutView",
            "align_content": null,
            "align_items": null,
            "align_self": null,
            "border": null,
            "bottom": null,
            "display": null,
            "flex": null,
            "flex_flow": null,
            "grid_area": null,
            "grid_auto_columns": null,
            "grid_auto_flow": null,
            "grid_auto_rows": null,
            "grid_column": null,
            "grid_gap": null,
            "grid_row": null,
            "grid_template_areas": null,
            "grid_template_columns": null,
            "grid_template_rows": null,
            "height": null,
            "justify_content": null,
            "justify_items": null,
            "left": null,
            "margin": null,
            "max_height": null,
            "max_width": null,
            "min_height": null,
            "min_width": null,
            "object_fit": null,
            "object_position": null,
            "order": null,
            "overflow": null,
            "overflow_x": null,
            "overflow_y": null,
            "padding": null,
            "right": null,
            "top": null,
            "visibility": null,
            "width": null
          }
        },
        "1959ddee9e014ea484d62ab5ca2f4a4c": {
          "model_module": "@jupyter-widgets/controls",
          "model_name": "DescriptionStyleModel",
          "model_module_version": "1.5.0",
          "state": {
            "_model_module": "@jupyter-widgets/controls",
            "_model_module_version": "1.5.0",
            "_model_name": "DescriptionStyleModel",
            "_view_count": null,
            "_view_module": "@jupyter-widgets/base",
            "_view_module_version": "1.2.0",
            "_view_name": "StyleView",
            "description_width": ""
          }
        },
        "cdb3c26986364b8487466117bbf22518": {
          "model_module": "@jupyter-widgets/controls",
          "model_name": "HBoxModel",
          "model_module_version": "1.5.0",
          "state": {
            "_dom_classes": [],
            "_model_module": "@jupyter-widgets/controls",
            "_model_module_version": "1.5.0",
            "_model_name": "HBoxModel",
            "_view_count": null,
            "_view_module": "@jupyter-widgets/controls",
            "_view_module_version": "1.5.0",
            "_view_name": "HBoxView",
            "box_style": "",
            "children": [
              "IPY_MODEL_8b7158b00b6f49ba982c766615afa3fd",
              "IPY_MODEL_648ef2d733854e63872cdc9702f47939",
              "IPY_MODEL_40747f2e80804940b55accfcceb5a19a"
            ],
            "layout": "IPY_MODEL_52721e83ee574d3f9fbda170358caebb"
          }
        },
        "8b7158b00b6f49ba982c766615afa3fd": {
          "model_module": "@jupyter-widgets/controls",
          "model_name": "HTMLModel",
          "model_module_version": "1.5.0",
          "state": {
            "_dom_classes": [],
            "_model_module": "@jupyter-widgets/controls",
            "_model_module_version": "1.5.0",
            "_model_name": "HTMLModel",
            "_view_count": null,
            "_view_module": "@jupyter-widgets/controls",
            "_view_module_version": "1.5.0",
            "_view_name": "HTMLView",
            "description": "",
            "description_tooltip": null,
            "layout": "IPY_MODEL_53623b761b654743a29be94c7551cdcc",
            "placeholder": "​",
            "style": "IPY_MODEL_e22829a01d614ed7bdad416ffc1b58a0",
            "value": "special_tokens_map.json: 100%"
          }
        },
        "648ef2d733854e63872cdc9702f47939": {
          "model_module": "@jupyter-widgets/controls",
          "model_name": "FloatProgressModel",
          "model_module_version": "1.5.0",
          "state": {
            "_dom_classes": [],
            "_model_module": "@jupyter-widgets/controls",
            "_model_module_version": "1.5.0",
            "_model_name": "FloatProgressModel",
            "_view_count": null,
            "_view_module": "@jupyter-widgets/controls",
            "_view_module_version": "1.5.0",
            "_view_name": "ProgressView",
            "bar_style": "success",
            "description": "",
            "description_tooltip": null,
            "layout": "IPY_MODEL_cfd4580148f449a28ffe23a786204349",
            "max": 125,
            "min": 0,
            "orientation": "horizontal",
            "style": "IPY_MODEL_b9c838ec5c00414eb7e25f096a8d2ada",
            "value": 125
          }
        },
        "40747f2e80804940b55accfcceb5a19a": {
          "model_module": "@jupyter-widgets/controls",
          "model_name": "HTMLModel",
          "model_module_version": "1.5.0",
          "state": {
            "_dom_classes": [],
            "_model_module": "@jupyter-widgets/controls",
            "_model_module_version": "1.5.0",
            "_model_name": "HTMLModel",
            "_view_count": null,
            "_view_module": "@jupyter-widgets/controls",
            "_view_module_version": "1.5.0",
            "_view_name": "HTMLView",
            "description": "",
            "description_tooltip": null,
            "layout": "IPY_MODEL_11c48d873b404e1e8817f173c01f2d53",
            "placeholder": "​",
            "style": "IPY_MODEL_380a67ed1e6a4d828eb36fb97a5c6d9a",
            "value": " 125/125 [00:00&lt;00:00, 4.28kB/s]"
          }
        },
        "52721e83ee574d3f9fbda170358caebb": {
          "model_module": "@jupyter-widgets/base",
          "model_name": "LayoutModel",
          "model_module_version": "1.2.0",
          "state": {
            "_model_module": "@jupyter-widgets/base",
            "_model_module_version": "1.2.0",
            "_model_name": "LayoutModel",
            "_view_count": null,
            "_view_module": "@jupyter-widgets/base",
            "_view_module_version": "1.2.0",
            "_view_name": "LayoutView",
            "align_content": null,
            "align_items": null,
            "align_self": null,
            "border": null,
            "bottom": null,
            "display": null,
            "flex": null,
            "flex_flow": null,
            "grid_area": null,
            "grid_auto_columns": null,
            "grid_auto_flow": null,
            "grid_auto_rows": null,
            "grid_column": null,
            "grid_gap": null,
            "grid_row": null,
            "grid_template_areas": null,
            "grid_template_columns": null,
            "grid_template_rows": null,
            "height": null,
            "justify_content": null,
            "justify_items": null,
            "left": null,
            "margin": null,
            "max_height": null,
            "max_width": null,
            "min_height": null,
            "min_width": null,
            "object_fit": null,
            "object_position": null,
            "order": null,
            "overflow": null,
            "overflow_x": null,
            "overflow_y": null,
            "padding": null,
            "right": null,
            "top": null,
            "visibility": null,
            "width": null
          }
        },
        "53623b761b654743a29be94c7551cdcc": {
          "model_module": "@jupyter-widgets/base",
          "model_name": "LayoutModel",
          "model_module_version": "1.2.0",
          "state": {
            "_model_module": "@jupyter-widgets/base",
            "_model_module_version": "1.2.0",
            "_model_name": "LayoutModel",
            "_view_count": null,
            "_view_module": "@jupyter-widgets/base",
            "_view_module_version": "1.2.0",
            "_view_name": "LayoutView",
            "align_content": null,
            "align_items": null,
            "align_self": null,
            "border": null,
            "bottom": null,
            "display": null,
            "flex": null,
            "flex_flow": null,
            "grid_area": null,
            "grid_auto_columns": null,
            "grid_auto_flow": null,
            "grid_auto_rows": null,
            "grid_column": null,
            "grid_gap": null,
            "grid_row": null,
            "grid_template_areas": null,
            "grid_template_columns": null,
            "grid_template_rows": null,
            "height": null,
            "justify_content": null,
            "justify_items": null,
            "left": null,
            "margin": null,
            "max_height": null,
            "max_width": null,
            "min_height": null,
            "min_width": null,
            "object_fit": null,
            "object_position": null,
            "order": null,
            "overflow": null,
            "overflow_x": null,
            "overflow_y": null,
            "padding": null,
            "right": null,
            "top": null,
            "visibility": null,
            "width": null
          }
        },
        "e22829a01d614ed7bdad416ffc1b58a0": {
          "model_module": "@jupyter-widgets/controls",
          "model_name": "DescriptionStyleModel",
          "model_module_version": "1.5.0",
          "state": {
            "_model_module": "@jupyter-widgets/controls",
            "_model_module_version": "1.5.0",
            "_model_name": "DescriptionStyleModel",
            "_view_count": null,
            "_view_module": "@jupyter-widgets/base",
            "_view_module_version": "1.2.0",
            "_view_name": "StyleView",
            "description_width": ""
          }
        },
        "cfd4580148f449a28ffe23a786204349": {
          "model_module": "@jupyter-widgets/base",
          "model_name": "LayoutModel",
          "model_module_version": "1.2.0",
          "state": {
            "_model_module": "@jupyter-widgets/base",
            "_model_module_version": "1.2.0",
            "_model_name": "LayoutModel",
            "_view_count": null,
            "_view_module": "@jupyter-widgets/base",
            "_view_module_version": "1.2.0",
            "_view_name": "LayoutView",
            "align_content": null,
            "align_items": null,
            "align_self": null,
            "border": null,
            "bottom": null,
            "display": null,
            "flex": null,
            "flex_flow": null,
            "grid_area": null,
            "grid_auto_columns": null,
            "grid_auto_flow": null,
            "grid_auto_rows": null,
            "grid_column": null,
            "grid_gap": null,
            "grid_row": null,
            "grid_template_areas": null,
            "grid_template_columns": null,
            "grid_template_rows": null,
            "height": null,
            "justify_content": null,
            "justify_items": null,
            "left": null,
            "margin": null,
            "max_height": null,
            "max_width": null,
            "min_height": null,
            "min_width": null,
            "object_fit": null,
            "object_position": null,
            "order": null,
            "overflow": null,
            "overflow_x": null,
            "overflow_y": null,
            "padding": null,
            "right": null,
            "top": null,
            "visibility": null,
            "width": null
          }
        },
        "b9c838ec5c00414eb7e25f096a8d2ada": {
          "model_module": "@jupyter-widgets/controls",
          "model_name": "ProgressStyleModel",
          "model_module_version": "1.5.0",
          "state": {
            "_model_module": "@jupyter-widgets/controls",
            "_model_module_version": "1.5.0",
            "_model_name": "ProgressStyleModel",
            "_view_count": null,
            "_view_module": "@jupyter-widgets/base",
            "_view_module_version": "1.2.0",
            "_view_name": "StyleView",
            "bar_color": null,
            "description_width": ""
          }
        },
        "11c48d873b404e1e8817f173c01f2d53": {
          "model_module": "@jupyter-widgets/base",
          "model_name": "LayoutModel",
          "model_module_version": "1.2.0",
          "state": {
            "_model_module": "@jupyter-widgets/base",
            "_model_module_version": "1.2.0",
            "_model_name": "LayoutModel",
            "_view_count": null,
            "_view_module": "@jupyter-widgets/base",
            "_view_module_version": "1.2.0",
            "_view_name": "LayoutView",
            "align_content": null,
            "align_items": null,
            "align_self": null,
            "border": null,
            "bottom": null,
            "display": null,
            "flex": null,
            "flex_flow": null,
            "grid_area": null,
            "grid_auto_columns": null,
            "grid_auto_flow": null,
            "grid_auto_rows": null,
            "grid_column": null,
            "grid_gap": null,
            "grid_row": null,
            "grid_template_areas": null,
            "grid_template_columns": null,
            "grid_template_rows": null,
            "height": null,
            "justify_content": null,
            "justify_items": null,
            "left": null,
            "margin": null,
            "max_height": null,
            "max_width": null,
            "min_height": null,
            "min_width": null,
            "object_fit": null,
            "object_position": null,
            "order": null,
            "overflow": null,
            "overflow_x": null,
            "overflow_y": null,
            "padding": null,
            "right": null,
            "top": null,
            "visibility": null,
            "width": null
          }
        },
        "380a67ed1e6a4d828eb36fb97a5c6d9a": {
          "model_module": "@jupyter-widgets/controls",
          "model_name": "DescriptionStyleModel",
          "model_module_version": "1.5.0",
          "state": {
            "_model_module": "@jupyter-widgets/controls",
            "_model_module_version": "1.5.0",
            "_model_name": "DescriptionStyleModel",
            "_view_count": null,
            "_view_module": "@jupyter-widgets/base",
            "_view_module_version": "1.2.0",
            "_view_name": "StyleView",
            "description_width": ""
          }
        },
        "2d063a10ae1b4ff0b6c90e92cd306a26": {
          "model_module": "@jupyter-widgets/controls",
          "model_name": "HBoxModel",
          "model_module_version": "1.5.0",
          "state": {
            "_dom_classes": [],
            "_model_module": "@jupyter-widgets/controls",
            "_model_module_version": "1.5.0",
            "_model_name": "HBoxModel",
            "_view_count": null,
            "_view_module": "@jupyter-widgets/controls",
            "_view_module_version": "1.5.0",
            "_view_name": "HBoxView",
            "box_style": "",
            "children": [
              "IPY_MODEL_02a5e8b574d24f1c9749f18a503b44ba",
              "IPY_MODEL_92d25dae61ad40bbb6be15b6293ffae9",
              "IPY_MODEL_63a94cc9111442679246e867667b1eb1"
            ],
            "layout": "IPY_MODEL_a566c051c3a546b19c02ac63a6a1e303"
          }
        },
        "02a5e8b574d24f1c9749f18a503b44ba": {
          "model_module": "@jupyter-widgets/controls",
          "model_name": "HTMLModel",
          "model_module_version": "1.5.0",
          "state": {
            "_dom_classes": [],
            "_model_module": "@jupyter-widgets/controls",
            "_model_module_version": "1.5.0",
            "_model_name": "HTMLModel",
            "_view_count": null,
            "_view_module": "@jupyter-widgets/controls",
            "_view_module_version": "1.5.0",
            "_view_name": "HTMLView",
            "description": "",
            "description_tooltip": null,
            "layout": "IPY_MODEL_65c184fcd7d74db1ae4a7ef7b6858957",
            "placeholder": "​",
            "style": "IPY_MODEL_22a01834841a45698f8ae747dafdcd0b",
            "value": "config.json: 100%"
          }
        },
        "92d25dae61ad40bbb6be15b6293ffae9": {
          "model_module": "@jupyter-widgets/controls",
          "model_name": "FloatProgressModel",
          "model_module_version": "1.5.0",
          "state": {
            "_dom_classes": [],
            "_model_module": "@jupyter-widgets/controls",
            "_model_module_version": "1.5.0",
            "_model_name": "FloatProgressModel",
            "_view_count": null,
            "_view_module": "@jupyter-widgets/controls",
            "_view_module_version": "1.5.0",
            "_view_name": "ProgressView",
            "bar_style": "success",
            "description": "",
            "description_tooltip": null,
            "layout": "IPY_MODEL_507edf38de2b40f1bd03aa7c3c3957b9",
            "max": 4563,
            "min": 0,
            "orientation": "horizontal",
            "style": "IPY_MODEL_5ae8ff2b5fe14ea0a67d173e26b14db1",
            "value": 4563
          }
        },
        "63a94cc9111442679246e867667b1eb1": {
          "model_module": "@jupyter-widgets/controls",
          "model_name": "HTMLModel",
          "model_module_version": "1.5.0",
          "state": {
            "_dom_classes": [],
            "_model_module": "@jupyter-widgets/controls",
            "_model_module_version": "1.5.0",
            "_model_name": "HTMLModel",
            "_view_count": null,
            "_view_module": "@jupyter-widgets/controls",
            "_view_module_version": "1.5.0",
            "_view_name": "HTMLView",
            "description": "",
            "description_tooltip": null,
            "layout": "IPY_MODEL_611ca1dd90c94136be64d94b0e9a1c68",
            "placeholder": "​",
            "style": "IPY_MODEL_3c704ad70d4841919fcca1cd26b6dd84",
            "value": " 4.56k/4.56k [00:00&lt;00:00, 72.8kB/s]"
          }
        },
        "a566c051c3a546b19c02ac63a6a1e303": {
          "model_module": "@jupyter-widgets/base",
          "model_name": "LayoutModel",
          "model_module_version": "1.2.0",
          "state": {
            "_model_module": "@jupyter-widgets/base",
            "_model_module_version": "1.2.0",
            "_model_name": "LayoutModel",
            "_view_count": null,
            "_view_module": "@jupyter-widgets/base",
            "_view_module_version": "1.2.0",
            "_view_name": "LayoutView",
            "align_content": null,
            "align_items": null,
            "align_self": null,
            "border": null,
            "bottom": null,
            "display": null,
            "flex": null,
            "flex_flow": null,
            "grid_area": null,
            "grid_auto_columns": null,
            "grid_auto_flow": null,
            "grid_auto_rows": null,
            "grid_column": null,
            "grid_gap": null,
            "grid_row": null,
            "grid_template_areas": null,
            "grid_template_columns": null,
            "grid_template_rows": null,
            "height": null,
            "justify_content": null,
            "justify_items": null,
            "left": null,
            "margin": null,
            "max_height": null,
            "max_width": null,
            "min_height": null,
            "min_width": null,
            "object_fit": null,
            "object_position": null,
            "order": null,
            "overflow": null,
            "overflow_x": null,
            "overflow_y": null,
            "padding": null,
            "right": null,
            "top": null,
            "visibility": null,
            "width": null
          }
        },
        "65c184fcd7d74db1ae4a7ef7b6858957": {
          "model_module": "@jupyter-widgets/base",
          "model_name": "LayoutModel",
          "model_module_version": "1.2.0",
          "state": {
            "_model_module": "@jupyter-widgets/base",
            "_model_module_version": "1.2.0",
            "_model_name": "LayoutModel",
            "_view_count": null,
            "_view_module": "@jupyter-widgets/base",
            "_view_module_version": "1.2.0",
            "_view_name": "LayoutView",
            "align_content": null,
            "align_items": null,
            "align_self": null,
            "border": null,
            "bottom": null,
            "display": null,
            "flex": null,
            "flex_flow": null,
            "grid_area": null,
            "grid_auto_columns": null,
            "grid_auto_flow": null,
            "grid_auto_rows": null,
            "grid_column": null,
            "grid_gap": null,
            "grid_row": null,
            "grid_template_areas": null,
            "grid_template_columns": null,
            "grid_template_rows": null,
            "height": null,
            "justify_content": null,
            "justify_items": null,
            "left": null,
            "margin": null,
            "max_height": null,
            "max_width": null,
            "min_height": null,
            "min_width": null,
            "object_fit": null,
            "object_position": null,
            "order": null,
            "overflow": null,
            "overflow_x": null,
            "overflow_y": null,
            "padding": null,
            "right": null,
            "top": null,
            "visibility": null,
            "width": null
          }
        },
        "22a01834841a45698f8ae747dafdcd0b": {
          "model_module": "@jupyter-widgets/controls",
          "model_name": "DescriptionStyleModel",
          "model_module_version": "1.5.0",
          "state": {
            "_model_module": "@jupyter-widgets/controls",
            "_model_module_version": "1.5.0",
            "_model_name": "DescriptionStyleModel",
            "_view_count": null,
            "_view_module": "@jupyter-widgets/base",
            "_view_module_version": "1.2.0",
            "_view_name": "StyleView",
            "description_width": ""
          }
        },
        "507edf38de2b40f1bd03aa7c3c3957b9": {
          "model_module": "@jupyter-widgets/base",
          "model_name": "LayoutModel",
          "model_module_version": "1.2.0",
          "state": {
            "_model_module": "@jupyter-widgets/base",
            "_model_module_version": "1.2.0",
            "_model_name": "LayoutModel",
            "_view_count": null,
            "_view_module": "@jupyter-widgets/base",
            "_view_module_version": "1.2.0",
            "_view_name": "LayoutView",
            "align_content": null,
            "align_items": null,
            "align_self": null,
            "border": null,
            "bottom": null,
            "display": null,
            "flex": null,
            "flex_flow": null,
            "grid_area": null,
            "grid_auto_columns": null,
            "grid_auto_flow": null,
            "grid_auto_rows": null,
            "grid_column": null,
            "grid_gap": null,
            "grid_row": null,
            "grid_template_areas": null,
            "grid_template_columns": null,
            "grid_template_rows": null,
            "height": null,
            "justify_content": null,
            "justify_items": null,
            "left": null,
            "margin": null,
            "max_height": null,
            "max_width": null,
            "min_height": null,
            "min_width": null,
            "object_fit": null,
            "object_position": null,
            "order": null,
            "overflow": null,
            "overflow_x": null,
            "overflow_y": null,
            "padding": null,
            "right": null,
            "top": null,
            "visibility": null,
            "width": null
          }
        },
        "5ae8ff2b5fe14ea0a67d173e26b14db1": {
          "model_module": "@jupyter-widgets/controls",
          "model_name": "ProgressStyleModel",
          "model_module_version": "1.5.0",
          "state": {
            "_model_module": "@jupyter-widgets/controls",
            "_model_module_version": "1.5.0",
            "_model_name": "ProgressStyleModel",
            "_view_count": null,
            "_view_module": "@jupyter-widgets/base",
            "_view_module_version": "1.2.0",
            "_view_name": "StyleView",
            "bar_color": null,
            "description_width": ""
          }
        },
        "611ca1dd90c94136be64d94b0e9a1c68": {
          "model_module": "@jupyter-widgets/base",
          "model_name": "LayoutModel",
          "model_module_version": "1.2.0",
          "state": {
            "_model_module": "@jupyter-widgets/base",
            "_model_module_version": "1.2.0",
            "_model_name": "LayoutModel",
            "_view_count": null,
            "_view_module": "@jupyter-widgets/base",
            "_view_module_version": "1.2.0",
            "_view_name": "LayoutView",
            "align_content": null,
            "align_items": null,
            "align_self": null,
            "border": null,
            "bottom": null,
            "display": null,
            "flex": null,
            "flex_flow": null,
            "grid_area": null,
            "grid_auto_columns": null,
            "grid_auto_flow": null,
            "grid_auto_rows": null,
            "grid_column": null,
            "grid_gap": null,
            "grid_row": null,
            "grid_template_areas": null,
            "grid_template_columns": null,
            "grid_template_rows": null,
            "height": null,
            "justify_content": null,
            "justify_items": null,
            "left": null,
            "margin": null,
            "max_height": null,
            "max_width": null,
            "min_height": null,
            "min_width": null,
            "object_fit": null,
            "object_position": null,
            "order": null,
            "overflow": null,
            "overflow_x": null,
            "overflow_y": null,
            "padding": null,
            "right": null,
            "top": null,
            "visibility": null,
            "width": null
          }
        },
        "3c704ad70d4841919fcca1cd26b6dd84": {
          "model_module": "@jupyter-widgets/controls",
          "model_name": "DescriptionStyleModel",
          "model_module_version": "1.5.0",
          "state": {
            "_model_module": "@jupyter-widgets/controls",
            "_model_module_version": "1.5.0",
            "_model_name": "DescriptionStyleModel",
            "_view_count": null,
            "_view_module": "@jupyter-widgets/base",
            "_view_module_version": "1.2.0",
            "_view_name": "StyleView",
            "description_width": ""
          }
        },
        "eaa1ceff8ea54799969fc8cd8155854b": {
          "model_module": "@jupyter-widgets/controls",
          "model_name": "HBoxModel",
          "model_module_version": "1.5.0",
          "state": {
            "_dom_classes": [],
            "_model_module": "@jupyter-widgets/controls",
            "_model_module_version": "1.5.0",
            "_model_name": "HBoxModel",
            "_view_count": null,
            "_view_module": "@jupyter-widgets/controls",
            "_view_module_version": "1.5.0",
            "_view_name": "HBoxView",
            "box_style": "",
            "children": [
              "IPY_MODEL_073518ff532c48ad981ab3d893f6f22d",
              "IPY_MODEL_7e3a5edc03ae428f826031a89eea7fbe",
              "IPY_MODEL_576dadedf506446aaeb0776a995adc59"
            ],
            "layout": "IPY_MODEL_8d3b99dc15e94806b8f376f17c5040a0"
          }
        },
        "073518ff532c48ad981ab3d893f6f22d": {
          "model_module": "@jupyter-widgets/controls",
          "model_name": "HTMLModel",
          "model_module_version": "1.5.0",
          "state": {
            "_dom_classes": [],
            "_model_module": "@jupyter-widgets/controls",
            "_model_module_version": "1.5.0",
            "_model_name": "HTMLModel",
            "_view_count": null,
            "_view_module": "@jupyter-widgets/controls",
            "_view_module_version": "1.5.0",
            "_view_name": "HTMLView",
            "description": "",
            "description_tooltip": null,
            "layout": "IPY_MODEL_787439c6f94c4ff6b53c1681cc7d309b",
            "placeholder": "​",
            "style": "IPY_MODEL_bf07a2d7d949491496064c7bdb2d9af6",
            "value": "pytorch_model.bin: 100%"
          }
        },
        "7e3a5edc03ae428f826031a89eea7fbe": {
          "model_module": "@jupyter-widgets/controls",
          "model_name": "FloatProgressModel",
          "model_module_version": "1.5.0",
          "state": {
            "_dom_classes": [],
            "_model_module": "@jupyter-widgets/controls",
            "_model_module_version": "1.5.0",
            "_model_name": "FloatProgressModel",
            "_view_count": null,
            "_view_module": "@jupyter-widgets/controls",
            "_view_module_version": "1.5.0",
            "_view_name": "ProgressView",
            "bar_style": "success",
            "description": "",
            "description_tooltip": null,
            "layout": "IPY_MODEL_cc97f50d33b64424893b7495ad321f5a",
            "max": 989820849,
            "min": 0,
            "orientation": "horizontal",
            "style": "IPY_MODEL_c1cb0304b6ac4e1289b32a2ddb9bae88",
            "value": 989820849
          }
        },
        "576dadedf506446aaeb0776a995adc59": {
          "model_module": "@jupyter-widgets/controls",
          "model_name": "HTMLModel",
          "model_module_version": "1.5.0",
          "state": {
            "_dom_classes": [],
            "_model_module": "@jupyter-widgets/controls",
            "_model_module_version": "1.5.0",
            "_model_name": "HTMLModel",
            "_view_count": null,
            "_view_module": "@jupyter-widgets/controls",
            "_view_module_version": "1.5.0",
            "_view_name": "HTMLView",
            "description": "",
            "description_tooltip": null,
            "layout": "IPY_MODEL_e4162599795445c488e07cb73f58a6db",
            "placeholder": "​",
            "style": "IPY_MODEL_648514ad1a8245aabca7b3cdd9dcde39",
            "value": " 990M/990M [00:07&lt;00:00, 120MB/s]"
          }
        },
        "8d3b99dc15e94806b8f376f17c5040a0": {
          "model_module": "@jupyter-widgets/base",
          "model_name": "LayoutModel",
          "model_module_version": "1.2.0",
          "state": {
            "_model_module": "@jupyter-widgets/base",
            "_model_module_version": "1.2.0",
            "_model_name": "LayoutModel",
            "_view_count": null,
            "_view_module": "@jupyter-widgets/base",
            "_view_module_version": "1.2.0",
            "_view_name": "LayoutView",
            "align_content": null,
            "align_items": null,
            "align_self": null,
            "border": null,
            "bottom": null,
            "display": null,
            "flex": null,
            "flex_flow": null,
            "grid_area": null,
            "grid_auto_columns": null,
            "grid_auto_flow": null,
            "grid_auto_rows": null,
            "grid_column": null,
            "grid_gap": null,
            "grid_row": null,
            "grid_template_areas": null,
            "grid_template_columns": null,
            "grid_template_rows": null,
            "height": null,
            "justify_content": null,
            "justify_items": null,
            "left": null,
            "margin": null,
            "max_height": null,
            "max_width": null,
            "min_height": null,
            "min_width": null,
            "object_fit": null,
            "object_position": null,
            "order": null,
            "overflow": null,
            "overflow_x": null,
            "overflow_y": null,
            "padding": null,
            "right": null,
            "top": null,
            "visibility": null,
            "width": null
          }
        },
        "787439c6f94c4ff6b53c1681cc7d309b": {
          "model_module": "@jupyter-widgets/base",
          "model_name": "LayoutModel",
          "model_module_version": "1.2.0",
          "state": {
            "_model_module": "@jupyter-widgets/base",
            "_model_module_version": "1.2.0",
            "_model_name": "LayoutModel",
            "_view_count": null,
            "_view_module": "@jupyter-widgets/base",
            "_view_module_version": "1.2.0",
            "_view_name": "LayoutView",
            "align_content": null,
            "align_items": null,
            "align_self": null,
            "border": null,
            "bottom": null,
            "display": null,
            "flex": null,
            "flex_flow": null,
            "grid_area": null,
            "grid_auto_columns": null,
            "grid_auto_flow": null,
            "grid_auto_rows": null,
            "grid_column": null,
            "grid_gap": null,
            "grid_row": null,
            "grid_template_areas": null,
            "grid_template_columns": null,
            "grid_template_rows": null,
            "height": null,
            "justify_content": null,
            "justify_items": null,
            "left": null,
            "margin": null,
            "max_height": null,
            "max_width": null,
            "min_height": null,
            "min_width": null,
            "object_fit": null,
            "object_position": null,
            "order": null,
            "overflow": null,
            "overflow_x": null,
            "overflow_y": null,
            "padding": null,
            "right": null,
            "top": null,
            "visibility": null,
            "width": null
          }
        },
        "bf07a2d7d949491496064c7bdb2d9af6": {
          "model_module": "@jupyter-widgets/controls",
          "model_name": "DescriptionStyleModel",
          "model_module_version": "1.5.0",
          "state": {
            "_model_module": "@jupyter-widgets/controls",
            "_model_module_version": "1.5.0",
            "_model_name": "DescriptionStyleModel",
            "_view_count": null,
            "_view_module": "@jupyter-widgets/base",
            "_view_module_version": "1.2.0",
            "_view_name": "StyleView",
            "description_width": ""
          }
        },
        "cc97f50d33b64424893b7495ad321f5a": {
          "model_module": "@jupyter-widgets/base",
          "model_name": "LayoutModel",
          "model_module_version": "1.2.0",
          "state": {
            "_model_module": "@jupyter-widgets/base",
            "_model_module_version": "1.2.0",
            "_model_name": "LayoutModel",
            "_view_count": null,
            "_view_module": "@jupyter-widgets/base",
            "_view_module_version": "1.2.0",
            "_view_name": "LayoutView",
            "align_content": null,
            "align_items": null,
            "align_self": null,
            "border": null,
            "bottom": null,
            "display": null,
            "flex": null,
            "flex_flow": null,
            "grid_area": null,
            "grid_auto_columns": null,
            "grid_auto_flow": null,
            "grid_auto_rows": null,
            "grid_column": null,
            "grid_gap": null,
            "grid_row": null,
            "grid_template_areas": null,
            "grid_template_columns": null,
            "grid_template_rows": null,
            "height": null,
            "justify_content": null,
            "justify_items": null,
            "left": null,
            "margin": null,
            "max_height": null,
            "max_width": null,
            "min_height": null,
            "min_width": null,
            "object_fit": null,
            "object_position": null,
            "order": null,
            "overflow": null,
            "overflow_x": null,
            "overflow_y": null,
            "padding": null,
            "right": null,
            "top": null,
            "visibility": null,
            "width": null
          }
        },
        "c1cb0304b6ac4e1289b32a2ddb9bae88": {
          "model_module": "@jupyter-widgets/controls",
          "model_name": "ProgressStyleModel",
          "model_module_version": "1.5.0",
          "state": {
            "_model_module": "@jupyter-widgets/controls",
            "_model_module_version": "1.5.0",
            "_model_name": "ProgressStyleModel",
            "_view_count": null,
            "_view_module": "@jupyter-widgets/base",
            "_view_module_version": "1.2.0",
            "_view_name": "StyleView",
            "bar_color": null,
            "description_width": ""
          }
        },
        "e4162599795445c488e07cb73f58a6db": {
          "model_module": "@jupyter-widgets/base",
          "model_name": "LayoutModel",
          "model_module_version": "1.2.0",
          "state": {
            "_model_module": "@jupyter-widgets/base",
            "_model_module_version": "1.2.0",
            "_model_name": "LayoutModel",
            "_view_count": null,
            "_view_module": "@jupyter-widgets/base",
            "_view_module_version": "1.2.0",
            "_view_name": "LayoutView",
            "align_content": null,
            "align_items": null,
            "align_self": null,
            "border": null,
            "bottom": null,
            "display": null,
            "flex": null,
            "flex_flow": null,
            "grid_area": null,
            "grid_auto_columns": null,
            "grid_auto_flow": null,
            "grid_auto_rows": null,
            "grid_column": null,
            "grid_gap": null,
            "grid_row": null,
            "grid_template_areas": null,
            "grid_template_columns": null,
            "grid_template_rows": null,
            "height": null,
            "justify_content": null,
            "justify_items": null,
            "left": null,
            "margin": null,
            "max_height": null,
            "max_width": null,
            "min_height": null,
            "min_width": null,
            "object_fit": null,
            "object_position": null,
            "order": null,
            "overflow": null,
            "overflow_x": null,
            "overflow_y": null,
            "padding": null,
            "right": null,
            "top": null,
            "visibility": null,
            "width": null
          }
        },
        "648514ad1a8245aabca7b3cdd9dcde39": {
          "model_module": "@jupyter-widgets/controls",
          "model_name": "DescriptionStyleModel",
          "model_module_version": "1.5.0",
          "state": {
            "_model_module": "@jupyter-widgets/controls",
            "_model_module_version": "1.5.0",
            "_model_name": "DescriptionStyleModel",
            "_view_count": null,
            "_view_module": "@jupyter-widgets/base",
            "_view_module_version": "1.2.0",
            "_view_name": "StyleView",
            "description_width": ""
          }
        },
        "8f6a5320abfd4314aa4c6cf2ff3c66c2": {
          "model_module": "@jupyter-widgets/controls",
          "model_name": "HBoxModel",
          "model_module_version": "1.5.0",
          "state": {
            "_dom_classes": [],
            "_model_module": "@jupyter-widgets/controls",
            "_model_module_version": "1.5.0",
            "_model_name": "HBoxModel",
            "_view_count": null,
            "_view_module": "@jupyter-widgets/controls",
            "_view_module_version": "1.5.0",
            "_view_name": "HBoxView",
            "box_style": "",
            "children": [
              "IPY_MODEL_a148edb3fdd2417cacfcd05f09e665fc",
              "IPY_MODEL_73637e77b03045728748621a1fb0ac7e",
              "IPY_MODEL_2ff70302c9ad487c83d1878eddecf25f"
            ],
            "layout": "IPY_MODEL_7d150822442e41cc909f15ff2f2d114f"
          }
        },
        "a148edb3fdd2417cacfcd05f09e665fc": {
          "model_module": "@jupyter-widgets/controls",
          "model_name": "HTMLModel",
          "model_module_version": "1.5.0",
          "state": {
            "_dom_classes": [],
            "_model_module": "@jupyter-widgets/controls",
            "_model_module_version": "1.5.0",
            "_model_name": "HTMLModel",
            "_view_count": null,
            "_view_module": "@jupyter-widgets/controls",
            "_view_module_version": "1.5.0",
            "_view_name": "HTMLView",
            "description": "",
            "description_tooltip": null,
            "layout": "IPY_MODEL_d800f823cfc54a638e8d225c05478eda",
            "placeholder": "​",
            "style": "IPY_MODEL_059b9b31bf944cb99f2bb1fb5819cd37",
            "value": "spiece.model: 100%"
          }
        },
        "73637e77b03045728748621a1fb0ac7e": {
          "model_module": "@jupyter-widgets/controls",
          "model_name": "FloatProgressModel",
          "model_module_version": "1.5.0",
          "state": {
            "_dom_classes": [],
            "_model_module": "@jupyter-widgets/controls",
            "_model_module_version": "1.5.0",
            "_model_name": "FloatProgressModel",
            "_view_count": null,
            "_view_module": "@jupyter-widgets/controls",
            "_view_module_version": "1.5.0",
            "_view_name": "ProgressView",
            "bar_style": "success",
            "description": "",
            "description_tooltip": null,
            "layout": "IPY_MODEL_605119469c7442c398c765efedd685b8",
            "max": 791656,
            "min": 0,
            "orientation": "horizontal",
            "style": "IPY_MODEL_28df247c29e94185a6566250e92654df",
            "value": 791656
          }
        },
        "2ff70302c9ad487c83d1878eddecf25f": {
          "model_module": "@jupyter-widgets/controls",
          "model_name": "HTMLModel",
          "model_module_version": "1.5.0",
          "state": {
            "_dom_classes": [],
            "_model_module": "@jupyter-widgets/controls",
            "_model_module_version": "1.5.0",
            "_model_name": "HTMLModel",
            "_view_count": null,
            "_view_module": "@jupyter-widgets/controls",
            "_view_module_version": "1.5.0",
            "_view_name": "HTMLView",
            "description": "",
            "description_tooltip": null,
            "layout": "IPY_MODEL_a27bd7f97ce141ed9a048132d7adb813",
            "placeholder": "​",
            "style": "IPY_MODEL_e01716cbcb3f4c47bff1aa031ddf2e82",
            "value": " 792k/792k [00:00&lt;00:00, 10.8MB/s]"
          }
        },
        "7d150822442e41cc909f15ff2f2d114f": {
          "model_module": "@jupyter-widgets/base",
          "model_name": "LayoutModel",
          "model_module_version": "1.2.0",
          "state": {
            "_model_module": "@jupyter-widgets/base",
            "_model_module_version": "1.2.0",
            "_model_name": "LayoutModel",
            "_view_count": null,
            "_view_module": "@jupyter-widgets/base",
            "_view_module_version": "1.2.0",
            "_view_name": "LayoutView",
            "align_content": null,
            "align_items": null,
            "align_self": null,
            "border": null,
            "bottom": null,
            "display": null,
            "flex": null,
            "flex_flow": null,
            "grid_area": null,
            "grid_auto_columns": null,
            "grid_auto_flow": null,
            "grid_auto_rows": null,
            "grid_column": null,
            "grid_gap": null,
            "grid_row": null,
            "grid_template_areas": null,
            "grid_template_columns": null,
            "grid_template_rows": null,
            "height": null,
            "justify_content": null,
            "justify_items": null,
            "left": null,
            "margin": null,
            "max_height": null,
            "max_width": null,
            "min_height": null,
            "min_width": null,
            "object_fit": null,
            "object_position": null,
            "order": null,
            "overflow": null,
            "overflow_x": null,
            "overflow_y": null,
            "padding": null,
            "right": null,
            "top": null,
            "visibility": null,
            "width": null
          }
        },
        "d800f823cfc54a638e8d225c05478eda": {
          "model_module": "@jupyter-widgets/base",
          "model_name": "LayoutModel",
          "model_module_version": "1.2.0",
          "state": {
            "_model_module": "@jupyter-widgets/base",
            "_model_module_version": "1.2.0",
            "_model_name": "LayoutModel",
            "_view_count": null,
            "_view_module": "@jupyter-widgets/base",
            "_view_module_version": "1.2.0",
            "_view_name": "LayoutView",
            "align_content": null,
            "align_items": null,
            "align_self": null,
            "border": null,
            "bottom": null,
            "display": null,
            "flex": null,
            "flex_flow": null,
            "grid_area": null,
            "grid_auto_columns": null,
            "grid_auto_flow": null,
            "grid_auto_rows": null,
            "grid_column": null,
            "grid_gap": null,
            "grid_row": null,
            "grid_template_areas": null,
            "grid_template_columns": null,
            "grid_template_rows": null,
            "height": null,
            "justify_content": null,
            "justify_items": null,
            "left": null,
            "margin": null,
            "max_height": null,
            "max_width": null,
            "min_height": null,
            "min_width": null,
            "object_fit": null,
            "object_position": null,
            "order": null,
            "overflow": null,
            "overflow_x": null,
            "overflow_y": null,
            "padding": null,
            "right": null,
            "top": null,
            "visibility": null,
            "width": null
          }
        },
        "059b9b31bf944cb99f2bb1fb5819cd37": {
          "model_module": "@jupyter-widgets/controls",
          "model_name": "DescriptionStyleModel",
          "model_module_version": "1.5.0",
          "state": {
            "_model_module": "@jupyter-widgets/controls",
            "_model_module_version": "1.5.0",
            "_model_name": "DescriptionStyleModel",
            "_view_count": null,
            "_view_module": "@jupyter-widgets/base",
            "_view_module_version": "1.2.0",
            "_view_name": "StyleView",
            "description_width": ""
          }
        },
        "605119469c7442c398c765efedd685b8": {
          "model_module": "@jupyter-widgets/base",
          "model_name": "LayoutModel",
          "model_module_version": "1.2.0",
          "state": {
            "_model_module": "@jupyter-widgets/base",
            "_model_module_version": "1.2.0",
            "_model_name": "LayoutModel",
            "_view_count": null,
            "_view_module": "@jupyter-widgets/base",
            "_view_module_version": "1.2.0",
            "_view_name": "LayoutView",
            "align_content": null,
            "align_items": null,
            "align_self": null,
            "border": null,
            "bottom": null,
            "display": null,
            "flex": null,
            "flex_flow": null,
            "grid_area": null,
            "grid_auto_columns": null,
            "grid_auto_flow": null,
            "grid_auto_rows": null,
            "grid_column": null,
            "grid_gap": null,
            "grid_row": null,
            "grid_template_areas": null,
            "grid_template_columns": null,
            "grid_template_rows": null,
            "height": null,
            "justify_content": null,
            "justify_items": null,
            "left": null,
            "margin": null,
            "max_height": null,
            "max_width": null,
            "min_height": null,
            "min_width": null,
            "object_fit": null,
            "object_position": null,
            "order": null,
            "overflow": null,
            "overflow_x": null,
            "overflow_y": null,
            "padding": null,
            "right": null,
            "top": null,
            "visibility": null,
            "width": null
          }
        },
        "28df247c29e94185a6566250e92654df": {
          "model_module": "@jupyter-widgets/controls",
          "model_name": "ProgressStyleModel",
          "model_module_version": "1.5.0",
          "state": {
            "_model_module": "@jupyter-widgets/controls",
            "_model_module_version": "1.5.0",
            "_model_name": "ProgressStyleModel",
            "_view_count": null,
            "_view_module": "@jupyter-widgets/base",
            "_view_module_version": "1.2.0",
            "_view_name": "StyleView",
            "bar_color": null,
            "description_width": ""
          }
        },
        "a27bd7f97ce141ed9a048132d7adb813": {
          "model_module": "@jupyter-widgets/base",
          "model_name": "LayoutModel",
          "model_module_version": "1.2.0",
          "state": {
            "_model_module": "@jupyter-widgets/base",
            "_model_module_version": "1.2.0",
            "_model_name": "LayoutModel",
            "_view_count": null,
            "_view_module": "@jupyter-widgets/base",
            "_view_module_version": "1.2.0",
            "_view_name": "LayoutView",
            "align_content": null,
            "align_items": null,
            "align_self": null,
            "border": null,
            "bottom": null,
            "display": null,
            "flex": null,
            "flex_flow": null,
            "grid_area": null,
            "grid_auto_columns": null,
            "grid_auto_flow": null,
            "grid_auto_rows": null,
            "grid_column": null,
            "grid_gap": null,
            "grid_row": null,
            "grid_template_areas": null,
            "grid_template_columns": null,
            "grid_template_rows": null,
            "height": null,
            "justify_content": null,
            "justify_items": null,
            "left": null,
            "margin": null,
            "max_height": null,
            "max_width": null,
            "min_height": null,
            "min_width": null,
            "object_fit": null,
            "object_position": null,
            "order": null,
            "overflow": null,
            "overflow_x": null,
            "overflow_y": null,
            "padding": null,
            "right": null,
            "top": null,
            "visibility": null,
            "width": null
          }
        },
        "e01716cbcb3f4c47bff1aa031ddf2e82": {
          "model_module": "@jupyter-widgets/controls",
          "model_name": "DescriptionStyleModel",
          "model_module_version": "1.5.0",
          "state": {
            "_model_module": "@jupyter-widgets/controls",
            "_model_module_version": "1.5.0",
            "_model_name": "DescriptionStyleModel",
            "_view_count": null,
            "_view_module": "@jupyter-widgets/base",
            "_view_module_version": "1.2.0",
            "_view_name": "StyleView",
            "description_width": ""
          }
        },
        "b0b3ec034b784951aad3b74fbbf96f2e": {
          "model_module": "@jupyter-widgets/controls",
          "model_name": "HBoxModel",
          "model_module_version": "1.5.0",
          "state": {
            "_dom_classes": [],
            "_model_module": "@jupyter-widgets/controls",
            "_model_module_version": "1.5.0",
            "_model_name": "HBoxModel",
            "_view_count": null,
            "_view_module": "@jupyter-widgets/controls",
            "_view_module_version": "1.5.0",
            "_view_name": "HBoxView",
            "box_style": "",
            "children": [
              "IPY_MODEL_d0d5624eb7284bba874769083317ffe9",
              "IPY_MODEL_4bc504179c2f4f63bb82f9e8dc5ac904",
              "IPY_MODEL_92467b183c8d490387ac5da2fd525299"
            ],
            "layout": "IPY_MODEL_b4debbd6102e45588515f0f8ff60ace9"
          }
        },
        "d0d5624eb7284bba874769083317ffe9": {
          "model_module": "@jupyter-widgets/controls",
          "model_name": "HTMLModel",
          "model_module_version": "1.5.0",
          "state": {
            "_dom_classes": [],
            "_model_module": "@jupyter-widgets/controls",
            "_model_module_version": "1.5.0",
            "_model_name": "HTMLModel",
            "_view_count": null,
            "_view_module": "@jupyter-widgets/controls",
            "_view_module_version": "1.5.0",
            "_view_name": "HTMLView",
            "description": "",
            "description_tooltip": null,
            "layout": "IPY_MODEL_c31038a7e9c24a95aee2438771bd4fbf",
            "placeholder": "​",
            "style": "IPY_MODEL_5733c99400544d49b99ff10cf382fec0",
            "value": "tokenizer.json: 100%"
          }
        },
        "4bc504179c2f4f63bb82f9e8dc5ac904": {
          "model_module": "@jupyter-widgets/controls",
          "model_name": "FloatProgressModel",
          "model_module_version": "1.5.0",
          "state": {
            "_dom_classes": [],
            "_model_module": "@jupyter-widgets/controls",
            "_model_module_version": "1.5.0",
            "_model_name": "FloatProgressModel",
            "_view_count": null,
            "_view_module": "@jupyter-widgets/controls",
            "_view_module_version": "1.5.0",
            "_view_name": "ProgressView",
            "bar_style": "success",
            "description": "",
            "description_tooltip": null,
            "layout": "IPY_MODEL_69cb038cf1074fb98c94e1cae45befb7",
            "max": 1389353,
            "min": 0,
            "orientation": "horizontal",
            "style": "IPY_MODEL_19ed2e6e91784f998e76b30644d6abc2",
            "value": 1389353
          }
        },
        "92467b183c8d490387ac5da2fd525299": {
          "model_module": "@jupyter-widgets/controls",
          "model_name": "HTMLModel",
          "model_module_version": "1.5.0",
          "state": {
            "_dom_classes": [],
            "_model_module": "@jupyter-widgets/controls",
            "_model_module_version": "1.5.0",
            "_model_name": "HTMLModel",
            "_view_count": null,
            "_view_module": "@jupyter-widgets/controls",
            "_view_module_version": "1.5.0",
            "_view_name": "HTMLView",
            "description": "",
            "description_tooltip": null,
            "layout": "IPY_MODEL_dedec4afbe5445c88721e27675c56c99",
            "placeholder": "​",
            "style": "IPY_MODEL_0f1bd0507ac941fc9619cb39b99f9e7e",
            "value": " 1.39M/1.39M [00:00&lt;00:00, 18.7MB/s]"
          }
        },
        "b4debbd6102e45588515f0f8ff60ace9": {
          "model_module": "@jupyter-widgets/base",
          "model_name": "LayoutModel",
          "model_module_version": "1.2.0",
          "state": {
            "_model_module": "@jupyter-widgets/base",
            "_model_module_version": "1.2.0",
            "_model_name": "LayoutModel",
            "_view_count": null,
            "_view_module": "@jupyter-widgets/base",
            "_view_module_version": "1.2.0",
            "_view_name": "LayoutView",
            "align_content": null,
            "align_items": null,
            "align_self": null,
            "border": null,
            "bottom": null,
            "display": null,
            "flex": null,
            "flex_flow": null,
            "grid_area": null,
            "grid_auto_columns": null,
            "grid_auto_flow": null,
            "grid_auto_rows": null,
            "grid_column": null,
            "grid_gap": null,
            "grid_row": null,
            "grid_template_areas": null,
            "grid_template_columns": null,
            "grid_template_rows": null,
            "height": null,
            "justify_content": null,
            "justify_items": null,
            "left": null,
            "margin": null,
            "max_height": null,
            "max_width": null,
            "min_height": null,
            "min_width": null,
            "object_fit": null,
            "object_position": null,
            "order": null,
            "overflow": null,
            "overflow_x": null,
            "overflow_y": null,
            "padding": null,
            "right": null,
            "top": null,
            "visibility": null,
            "width": null
          }
        },
        "c31038a7e9c24a95aee2438771bd4fbf": {
          "model_module": "@jupyter-widgets/base",
          "model_name": "LayoutModel",
          "model_module_version": "1.2.0",
          "state": {
            "_model_module": "@jupyter-widgets/base",
            "_model_module_version": "1.2.0",
            "_model_name": "LayoutModel",
            "_view_count": null,
            "_view_module": "@jupyter-widgets/base",
            "_view_module_version": "1.2.0",
            "_view_name": "LayoutView",
            "align_content": null,
            "align_items": null,
            "align_self": null,
            "border": null,
            "bottom": null,
            "display": null,
            "flex": null,
            "flex_flow": null,
            "grid_area": null,
            "grid_auto_columns": null,
            "grid_auto_flow": null,
            "grid_auto_rows": null,
            "grid_column": null,
            "grid_gap": null,
            "grid_row": null,
            "grid_template_areas": null,
            "grid_template_columns": null,
            "grid_template_rows": null,
            "height": null,
            "justify_content": null,
            "justify_items": null,
            "left": null,
            "margin": null,
            "max_height": null,
            "max_width": null,
            "min_height": null,
            "min_width": null,
            "object_fit": null,
            "object_position": null,
            "order": null,
            "overflow": null,
            "overflow_x": null,
            "overflow_y": null,
            "padding": null,
            "right": null,
            "top": null,
            "visibility": null,
            "width": null
          }
        },
        "5733c99400544d49b99ff10cf382fec0": {
          "model_module": "@jupyter-widgets/controls",
          "model_name": "DescriptionStyleModel",
          "model_module_version": "1.5.0",
          "state": {
            "_model_module": "@jupyter-widgets/controls",
            "_model_module_version": "1.5.0",
            "_model_name": "DescriptionStyleModel",
            "_view_count": null,
            "_view_module": "@jupyter-widgets/base",
            "_view_module_version": "1.2.0",
            "_view_name": "StyleView",
            "description_width": ""
          }
        },
        "69cb038cf1074fb98c94e1cae45befb7": {
          "model_module": "@jupyter-widgets/base",
          "model_name": "LayoutModel",
          "model_module_version": "1.2.0",
          "state": {
            "_model_module": "@jupyter-widgets/base",
            "_model_module_version": "1.2.0",
            "_model_name": "LayoutModel",
            "_view_count": null,
            "_view_module": "@jupyter-widgets/base",
            "_view_module_version": "1.2.0",
            "_view_name": "LayoutView",
            "align_content": null,
            "align_items": null,
            "align_self": null,
            "border": null,
            "bottom": null,
            "display": null,
            "flex": null,
            "flex_flow": null,
            "grid_area": null,
            "grid_auto_columns": null,
            "grid_auto_flow": null,
            "grid_auto_rows": null,
            "grid_column": null,
            "grid_gap": null,
            "grid_row": null,
            "grid_template_areas": null,
            "grid_template_columns": null,
            "grid_template_rows": null,
            "height": null,
            "justify_content": null,
            "justify_items": null,
            "left": null,
            "margin": null,
            "max_height": null,
            "max_width": null,
            "min_height": null,
            "min_width": null,
            "object_fit": null,
            "object_position": null,
            "order": null,
            "overflow": null,
            "overflow_x": null,
            "overflow_y": null,
            "padding": null,
            "right": null,
            "top": null,
            "visibility": null,
            "width": null
          }
        },
        "19ed2e6e91784f998e76b30644d6abc2": {
          "model_module": "@jupyter-widgets/controls",
          "model_name": "ProgressStyleModel",
          "model_module_version": "1.5.0",
          "state": {
            "_model_module": "@jupyter-widgets/controls",
            "_model_module_version": "1.5.0",
            "_model_name": "ProgressStyleModel",
            "_view_count": null,
            "_view_module": "@jupyter-widgets/base",
            "_view_module_version": "1.2.0",
            "_view_name": "StyleView",
            "bar_color": null,
            "description_width": ""
          }
        },
        "dedec4afbe5445c88721e27675c56c99": {
          "model_module": "@jupyter-widgets/base",
          "model_name": "LayoutModel",
          "model_module_version": "1.2.0",
          "state": {
            "_model_module": "@jupyter-widgets/base",
            "_model_module_version": "1.2.0",
            "_model_name": "LayoutModel",
            "_view_count": null,
            "_view_module": "@jupyter-widgets/base",
            "_view_module_version": "1.2.0",
            "_view_name": "LayoutView",
            "align_content": null,
            "align_items": null,
            "align_self": null,
            "border": null,
            "bottom": null,
            "display": null,
            "flex": null,
            "flex_flow": null,
            "grid_area": null,
            "grid_auto_columns": null,
            "grid_auto_flow": null,
            "grid_auto_rows": null,
            "grid_column": null,
            "grid_gap": null,
            "grid_row": null,
            "grid_template_areas": null,
            "grid_template_columns": null,
            "grid_template_rows": null,
            "height": null,
            "justify_content": null,
            "justify_items": null,
            "left": null,
            "margin": null,
            "max_height": null,
            "max_width": null,
            "min_height": null,
            "min_width": null,
            "object_fit": null,
            "object_position": null,
            "order": null,
            "overflow": null,
            "overflow_x": null,
            "overflow_y": null,
            "padding": null,
            "right": null,
            "top": null,
            "visibility": null,
            "width": null
          }
        },
        "0f1bd0507ac941fc9619cb39b99f9e7e": {
          "model_module": "@jupyter-widgets/controls",
          "model_name": "DescriptionStyleModel",
          "model_module_version": "1.5.0",
          "state": {
            "_model_module": "@jupyter-widgets/controls",
            "_model_module_version": "1.5.0",
            "_model_name": "DescriptionStyleModel",
            "_view_count": null,
            "_view_module": "@jupyter-widgets/base",
            "_view_module_version": "1.2.0",
            "_view_name": "StyleView",
            "description_width": ""
          }
        },
        "a30b122de3ea4a91be575e6e95a1b4ab": {
          "model_module": "@jupyter-widgets/controls",
          "model_name": "HBoxModel",
          "model_module_version": "1.5.0",
          "state": {
            "_dom_classes": [],
            "_model_module": "@jupyter-widgets/controls",
            "_model_module_version": "1.5.0",
            "_model_name": "HBoxModel",
            "_view_count": null,
            "_view_module": "@jupyter-widgets/controls",
            "_view_module_version": "1.5.0",
            "_view_name": "HBoxView",
            "box_style": "",
            "children": [
              "IPY_MODEL_c9636077a88b4e0cbe964a3c4f774bef",
              "IPY_MODEL_5879576260c74f97804390590a48836c",
              "IPY_MODEL_bc2c39960e0044de8dbbd6dcd464684d"
            ],
            "layout": "IPY_MODEL_510efae5b3264b7a8a9abf47660c8c0f"
          }
        },
        "c9636077a88b4e0cbe964a3c4f774bef": {
          "model_module": "@jupyter-widgets/controls",
          "model_name": "HTMLModel",
          "model_module_version": "1.5.0",
          "state": {
            "_dom_classes": [],
            "_model_module": "@jupyter-widgets/controls",
            "_model_module_version": "1.5.0",
            "_model_name": "HTMLModel",
            "_view_count": null,
            "_view_module": "@jupyter-widgets/controls",
            "_view_module_version": "1.5.0",
            "_view_name": "HTMLView",
            "description": "",
            "description_tooltip": null,
            "layout": "IPY_MODEL_083d3a4145c24b55a5f07761059bf13e",
            "placeholder": "​",
            "style": "IPY_MODEL_d9b306b86deb45c1a9a2c3e5d7f57311",
            "value": "config.json: 100%"
          }
        },
        "5879576260c74f97804390590a48836c": {
          "model_module": "@jupyter-widgets/controls",
          "model_name": "FloatProgressModel",
          "model_module_version": "1.5.0",
          "state": {
            "_dom_classes": [],
            "_model_module": "@jupyter-widgets/controls",
            "_model_module_version": "1.5.0",
            "_model_name": "FloatProgressModel",
            "_view_count": null,
            "_view_module": "@jupyter-widgets/controls",
            "_view_module_version": "1.5.0",
            "_view_name": "ProgressView",
            "bar_style": "success",
            "description": "",
            "description_tooltip": null,
            "layout": "IPY_MODEL_ce895ffc79804b809084503b8093922e",
            "max": 1208,
            "min": 0,
            "orientation": "horizontal",
            "style": "IPY_MODEL_4ab51f1e5ca048c5862fd7fd0cdd4d42",
            "value": 1208
          }
        },
        "bc2c39960e0044de8dbbd6dcd464684d": {
          "model_module": "@jupyter-widgets/controls",
          "model_name": "HTMLModel",
          "model_module_version": "1.5.0",
          "state": {
            "_dom_classes": [],
            "_model_module": "@jupyter-widgets/controls",
            "_model_module_version": "1.5.0",
            "_model_name": "HTMLModel",
            "_view_count": null,
            "_view_module": "@jupyter-widgets/controls",
            "_view_module_version": "1.5.0",
            "_view_name": "HTMLView",
            "description": "",
            "description_tooltip": null,
            "layout": "IPY_MODEL_c7b56c8d9dbb4c3c8cbbc00e46f33450",
            "placeholder": "​",
            "style": "IPY_MODEL_d1fdb73581094311aab3d25ec829560a",
            "value": " 1.21k/1.21k [00:00&lt;00:00, 29.3kB/s]"
          }
        },
        "510efae5b3264b7a8a9abf47660c8c0f": {
          "model_module": "@jupyter-widgets/base",
          "model_name": "LayoutModel",
          "model_module_version": "1.2.0",
          "state": {
            "_model_module": "@jupyter-widgets/base",
            "_model_module_version": "1.2.0",
            "_model_name": "LayoutModel",
            "_view_count": null,
            "_view_module": "@jupyter-widgets/base",
            "_view_module_version": "1.2.0",
            "_view_name": "LayoutView",
            "align_content": null,
            "align_items": null,
            "align_self": null,
            "border": null,
            "bottom": null,
            "display": null,
            "flex": null,
            "flex_flow": null,
            "grid_area": null,
            "grid_auto_columns": null,
            "grid_auto_flow": null,
            "grid_auto_rows": null,
            "grid_column": null,
            "grid_gap": null,
            "grid_row": null,
            "grid_template_areas": null,
            "grid_template_columns": null,
            "grid_template_rows": null,
            "height": null,
            "justify_content": null,
            "justify_items": null,
            "left": null,
            "margin": null,
            "max_height": null,
            "max_width": null,
            "min_height": null,
            "min_width": null,
            "object_fit": null,
            "object_position": null,
            "order": null,
            "overflow": null,
            "overflow_x": null,
            "overflow_y": null,
            "padding": null,
            "right": null,
            "top": null,
            "visibility": null,
            "width": null
          }
        },
        "083d3a4145c24b55a5f07761059bf13e": {
          "model_module": "@jupyter-widgets/base",
          "model_name": "LayoutModel",
          "model_module_version": "1.2.0",
          "state": {
            "_model_module": "@jupyter-widgets/base",
            "_model_module_version": "1.2.0",
            "_model_name": "LayoutModel",
            "_view_count": null,
            "_view_module": "@jupyter-widgets/base",
            "_view_module_version": "1.2.0",
            "_view_name": "LayoutView",
            "align_content": null,
            "align_items": null,
            "align_self": null,
            "border": null,
            "bottom": null,
            "display": null,
            "flex": null,
            "flex_flow": null,
            "grid_area": null,
            "grid_auto_columns": null,
            "grid_auto_flow": null,
            "grid_auto_rows": null,
            "grid_column": null,
            "grid_gap": null,
            "grid_row": null,
            "grid_template_areas": null,
            "grid_template_columns": null,
            "grid_template_rows": null,
            "height": null,
            "justify_content": null,
            "justify_items": null,
            "left": null,
            "margin": null,
            "max_height": null,
            "max_width": null,
            "min_height": null,
            "min_width": null,
            "object_fit": null,
            "object_position": null,
            "order": null,
            "overflow": null,
            "overflow_x": null,
            "overflow_y": null,
            "padding": null,
            "right": null,
            "top": null,
            "visibility": null,
            "width": null
          }
        },
        "d9b306b86deb45c1a9a2c3e5d7f57311": {
          "model_module": "@jupyter-widgets/controls",
          "model_name": "DescriptionStyleModel",
          "model_module_version": "1.5.0",
          "state": {
            "_model_module": "@jupyter-widgets/controls",
            "_model_module_version": "1.5.0",
            "_model_name": "DescriptionStyleModel",
            "_view_count": null,
            "_view_module": "@jupyter-widgets/base",
            "_view_module_version": "1.2.0",
            "_view_name": "StyleView",
            "description_width": ""
          }
        },
        "ce895ffc79804b809084503b8093922e": {
          "model_module": "@jupyter-widgets/base",
          "model_name": "LayoutModel",
          "model_module_version": "1.2.0",
          "state": {
            "_model_module": "@jupyter-widgets/base",
            "_model_module_version": "1.2.0",
            "_model_name": "LayoutModel",
            "_view_count": null,
            "_view_module": "@jupyter-widgets/base",
            "_view_module_version": "1.2.0",
            "_view_name": "LayoutView",
            "align_content": null,
            "align_items": null,
            "align_self": null,
            "border": null,
            "bottom": null,
            "display": null,
            "flex": null,
            "flex_flow": null,
            "grid_area": null,
            "grid_auto_columns": null,
            "grid_auto_flow": null,
            "grid_auto_rows": null,
            "grid_column": null,
            "grid_gap": null,
            "grid_row": null,
            "grid_template_areas": null,
            "grid_template_columns": null,
            "grid_template_rows": null,
            "height": null,
            "justify_content": null,
            "justify_items": null,
            "left": null,
            "margin": null,
            "max_height": null,
            "max_width": null,
            "min_height": null,
            "min_width": null,
            "object_fit": null,
            "object_position": null,
            "order": null,
            "overflow": null,
            "overflow_x": null,
            "overflow_y": null,
            "padding": null,
            "right": null,
            "top": null,
            "visibility": null,
            "width": null
          }
        },
        "4ab51f1e5ca048c5862fd7fd0cdd4d42": {
          "model_module": "@jupyter-widgets/controls",
          "model_name": "ProgressStyleModel",
          "model_module_version": "1.5.0",
          "state": {
            "_model_module": "@jupyter-widgets/controls",
            "_model_module_version": "1.5.0",
            "_model_name": "ProgressStyleModel",
            "_view_count": null,
            "_view_module": "@jupyter-widgets/base",
            "_view_module_version": "1.2.0",
            "_view_name": "StyleView",
            "bar_color": null,
            "description_width": ""
          }
        },
        "c7b56c8d9dbb4c3c8cbbc00e46f33450": {
          "model_module": "@jupyter-widgets/base",
          "model_name": "LayoutModel",
          "model_module_version": "1.2.0",
          "state": {
            "_model_module": "@jupyter-widgets/base",
            "_model_module_version": "1.2.0",
            "_model_name": "LayoutModel",
            "_view_count": null,
            "_view_module": "@jupyter-widgets/base",
            "_view_module_version": "1.2.0",
            "_view_name": "LayoutView",
            "align_content": null,
            "align_items": null,
            "align_self": null,
            "border": null,
            "bottom": null,
            "display": null,
            "flex": null,
            "flex_flow": null,
            "grid_area": null,
            "grid_auto_columns": null,
            "grid_auto_flow": null,
            "grid_auto_rows": null,
            "grid_column": null,
            "grid_gap": null,
            "grid_row": null,
            "grid_template_areas": null,
            "grid_template_columns": null,
            "grid_template_rows": null,
            "height": null,
            "justify_content": null,
            "justify_items": null,
            "left": null,
            "margin": null,
            "max_height": null,
            "max_width": null,
            "min_height": null,
            "min_width": null,
            "object_fit": null,
            "object_position": null,
            "order": null,
            "overflow": null,
            "overflow_x": null,
            "overflow_y": null,
            "padding": null,
            "right": null,
            "top": null,
            "visibility": null,
            "width": null
          }
        },
        "d1fdb73581094311aab3d25ec829560a": {
          "model_module": "@jupyter-widgets/controls",
          "model_name": "DescriptionStyleModel",
          "model_module_version": "1.5.0",
          "state": {
            "_model_module": "@jupyter-widgets/controls",
            "_model_module_version": "1.5.0",
            "_model_name": "DescriptionStyleModel",
            "_view_count": null,
            "_view_module": "@jupyter-widgets/base",
            "_view_module_version": "1.2.0",
            "_view_name": "StyleView",
            "description_width": ""
          }
        },
        "d50a1db0f80d434596fd990a9eaba7c5": {
          "model_module": "@jupyter-widgets/controls",
          "model_name": "HBoxModel",
          "model_module_version": "1.5.0",
          "state": {
            "_dom_classes": [],
            "_model_module": "@jupyter-widgets/controls",
            "_model_module_version": "1.5.0",
            "_model_name": "HBoxModel",
            "_view_count": null,
            "_view_module": "@jupyter-widgets/controls",
            "_view_module_version": "1.5.0",
            "_view_name": "HBoxView",
            "box_style": "",
            "children": [
              "IPY_MODEL_e60255cf0a6a4aaa9ab04c2214a87677",
              "IPY_MODEL_0e684702580147549918278bcd0e8934",
              "IPY_MODEL_547867a7cc284abc912c81a7c7685430"
            ],
            "layout": "IPY_MODEL_73a01d450fc84827ade763780a8ce51a"
          }
        },
        "e60255cf0a6a4aaa9ab04c2214a87677": {
          "model_module": "@jupyter-widgets/controls",
          "model_name": "HTMLModel",
          "model_module_version": "1.5.0",
          "state": {
            "_dom_classes": [],
            "_model_module": "@jupyter-widgets/controls",
            "_model_module_version": "1.5.0",
            "_model_name": "HTMLModel",
            "_view_count": null,
            "_view_module": "@jupyter-widgets/controls",
            "_view_module_version": "1.5.0",
            "_view_name": "HTMLView",
            "description": "",
            "description_tooltip": null,
            "layout": "IPY_MODEL_e31a052e58e54b91bb58fe77bee87ec0",
            "placeholder": "​",
            "style": "IPY_MODEL_9fa781ed50374eb0812503c25f723105",
            "value": "model.safetensors: 100%"
          }
        },
        "0e684702580147549918278bcd0e8934": {
          "model_module": "@jupyter-widgets/controls",
          "model_name": "FloatProgressModel",
          "model_module_version": "1.5.0",
          "state": {
            "_dom_classes": [],
            "_model_module": "@jupyter-widgets/controls",
            "_model_module_version": "1.5.0",
            "_model_name": "FloatProgressModel",
            "_view_count": null,
            "_view_module": "@jupyter-widgets/controls",
            "_view_module_version": "1.5.0",
            "_view_name": "ProgressView",
            "bar_style": "success",
            "description": "",
            "description_tooltip": null,
            "layout": "IPY_MODEL_bcb686c1ec7d4b2da5964464e3938c47",
            "max": 891646390,
            "min": 0,
            "orientation": "horizontal",
            "style": "IPY_MODEL_3e72758d2141454ca25bb6fda11ef8c1",
            "value": 891646390
          }
        },
        "547867a7cc284abc912c81a7c7685430": {
          "model_module": "@jupyter-widgets/controls",
          "model_name": "HTMLModel",
          "model_module_version": "1.5.0",
          "state": {
            "_dom_classes": [],
            "_model_module": "@jupyter-widgets/controls",
            "_model_module_version": "1.5.0",
            "_model_name": "HTMLModel",
            "_view_count": null,
            "_view_module": "@jupyter-widgets/controls",
            "_view_module_version": "1.5.0",
            "_view_name": "HTMLView",
            "description": "",
            "description_tooltip": null,
            "layout": "IPY_MODEL_f3aa6839b3914cd3b0a393a91868126e",
            "placeholder": "​",
            "style": "IPY_MODEL_a3bd04d018f0496ba41d5d4a991fc652",
            "value": " 892M/892M [00:05&lt;00:00, 234MB/s]"
          }
        },
        "73a01d450fc84827ade763780a8ce51a": {
          "model_module": "@jupyter-widgets/base",
          "model_name": "LayoutModel",
          "model_module_version": "1.2.0",
          "state": {
            "_model_module": "@jupyter-widgets/base",
            "_model_module_version": "1.2.0",
            "_model_name": "LayoutModel",
            "_view_count": null,
            "_view_module": "@jupyter-widgets/base",
            "_view_module_version": "1.2.0",
            "_view_name": "LayoutView",
            "align_content": null,
            "align_items": null,
            "align_self": null,
            "border": null,
            "bottom": null,
            "display": null,
            "flex": null,
            "flex_flow": null,
            "grid_area": null,
            "grid_auto_columns": null,
            "grid_auto_flow": null,
            "grid_auto_rows": null,
            "grid_column": null,
            "grid_gap": null,
            "grid_row": null,
            "grid_template_areas": null,
            "grid_template_columns": null,
            "grid_template_rows": null,
            "height": null,
            "justify_content": null,
            "justify_items": null,
            "left": null,
            "margin": null,
            "max_height": null,
            "max_width": null,
            "min_height": null,
            "min_width": null,
            "object_fit": null,
            "object_position": null,
            "order": null,
            "overflow": null,
            "overflow_x": null,
            "overflow_y": null,
            "padding": null,
            "right": null,
            "top": null,
            "visibility": null,
            "width": null
          }
        },
        "e31a052e58e54b91bb58fe77bee87ec0": {
          "model_module": "@jupyter-widgets/base",
          "model_name": "LayoutModel",
          "model_module_version": "1.2.0",
          "state": {
            "_model_module": "@jupyter-widgets/base",
            "_model_module_version": "1.2.0",
            "_model_name": "LayoutModel",
            "_view_count": null,
            "_view_module": "@jupyter-widgets/base",
            "_view_module_version": "1.2.0",
            "_view_name": "LayoutView",
            "align_content": null,
            "align_items": null,
            "align_self": null,
            "border": null,
            "bottom": null,
            "display": null,
            "flex": null,
            "flex_flow": null,
            "grid_area": null,
            "grid_auto_columns": null,
            "grid_auto_flow": null,
            "grid_auto_rows": null,
            "grid_column": null,
            "grid_gap": null,
            "grid_row": null,
            "grid_template_areas": null,
            "grid_template_columns": null,
            "grid_template_rows": null,
            "height": null,
            "justify_content": null,
            "justify_items": null,
            "left": null,
            "margin": null,
            "max_height": null,
            "max_width": null,
            "min_height": null,
            "min_width": null,
            "object_fit": null,
            "object_position": null,
            "order": null,
            "overflow": null,
            "overflow_x": null,
            "overflow_y": null,
            "padding": null,
            "right": null,
            "top": null,
            "visibility": null,
            "width": null
          }
        },
        "9fa781ed50374eb0812503c25f723105": {
          "model_module": "@jupyter-widgets/controls",
          "model_name": "DescriptionStyleModel",
          "model_module_version": "1.5.0",
          "state": {
            "_model_module": "@jupyter-widgets/controls",
            "_model_module_version": "1.5.0",
            "_model_name": "DescriptionStyleModel",
            "_view_count": null,
            "_view_module": "@jupyter-widgets/base",
            "_view_module_version": "1.2.0",
            "_view_name": "StyleView",
            "description_width": ""
          }
        },
        "bcb686c1ec7d4b2da5964464e3938c47": {
          "model_module": "@jupyter-widgets/base",
          "model_name": "LayoutModel",
          "model_module_version": "1.2.0",
          "state": {
            "_model_module": "@jupyter-widgets/base",
            "_model_module_version": "1.2.0",
            "_model_name": "LayoutModel",
            "_view_count": null,
            "_view_module": "@jupyter-widgets/base",
            "_view_module_version": "1.2.0",
            "_view_name": "LayoutView",
            "align_content": null,
            "align_items": null,
            "align_self": null,
            "border": null,
            "bottom": null,
            "display": null,
            "flex": null,
            "flex_flow": null,
            "grid_area": null,
            "grid_auto_columns": null,
            "grid_auto_flow": null,
            "grid_auto_rows": null,
            "grid_column": null,
            "grid_gap": null,
            "grid_row": null,
            "grid_template_areas": null,
            "grid_template_columns": null,
            "grid_template_rows": null,
            "height": null,
            "justify_content": null,
            "justify_items": null,
            "left": null,
            "margin": null,
            "max_height": null,
            "max_width": null,
            "min_height": null,
            "min_width": null,
            "object_fit": null,
            "object_position": null,
            "order": null,
            "overflow": null,
            "overflow_x": null,
            "overflow_y": null,
            "padding": null,
            "right": null,
            "top": null,
            "visibility": null,
            "width": null
          }
        },
        "3e72758d2141454ca25bb6fda11ef8c1": {
          "model_module": "@jupyter-widgets/controls",
          "model_name": "ProgressStyleModel",
          "model_module_version": "1.5.0",
          "state": {
            "_model_module": "@jupyter-widgets/controls",
            "_model_module_version": "1.5.0",
            "_model_name": "ProgressStyleModel",
            "_view_count": null,
            "_view_module": "@jupyter-widgets/base",
            "_view_module_version": "1.2.0",
            "_view_name": "StyleView",
            "bar_color": null,
            "description_width": ""
          }
        },
        "f3aa6839b3914cd3b0a393a91868126e": {
          "model_module": "@jupyter-widgets/base",
          "model_name": "LayoutModel",
          "model_module_version": "1.2.0",
          "state": {
            "_model_module": "@jupyter-widgets/base",
            "_model_module_version": "1.2.0",
            "_model_name": "LayoutModel",
            "_view_count": null,
            "_view_module": "@jupyter-widgets/base",
            "_view_module_version": "1.2.0",
            "_view_name": "LayoutView",
            "align_content": null,
            "align_items": null,
            "align_self": null,
            "border": null,
            "bottom": null,
            "display": null,
            "flex": null,
            "flex_flow": null,
            "grid_area": null,
            "grid_auto_columns": null,
            "grid_auto_flow": null,
            "grid_auto_rows": null,
            "grid_column": null,
            "grid_gap": null,
            "grid_row": null,
            "grid_template_areas": null,
            "grid_template_columns": null,
            "grid_template_rows": null,
            "height": null,
            "justify_content": null,
            "justify_items": null,
            "left": null,
            "margin": null,
            "max_height": null,
            "max_width": null,
            "min_height": null,
            "min_width": null,
            "object_fit": null,
            "object_position": null,
            "order": null,
            "overflow": null,
            "overflow_x": null,
            "overflow_y": null,
            "padding": null,
            "right": null,
            "top": null,
            "visibility": null,
            "width": null
          }
        },
        "a3bd04d018f0496ba41d5d4a991fc652": {
          "model_module": "@jupyter-widgets/controls",
          "model_name": "DescriptionStyleModel",
          "model_module_version": "1.5.0",
          "state": {
            "_model_module": "@jupyter-widgets/controls",
            "_model_module_version": "1.5.0",
            "_model_name": "DescriptionStyleModel",
            "_view_count": null,
            "_view_module": "@jupyter-widgets/base",
            "_view_module_version": "1.2.0",
            "_view_name": "StyleView",
            "description_width": ""
          }
        },
        "99a5e0e12fcb43e1acde3b33d1fa21e2": {
          "model_module": "@jupyter-widgets/controls",
          "model_name": "HBoxModel",
          "model_module_version": "1.5.0",
          "state": {
            "_dom_classes": [],
            "_model_module": "@jupyter-widgets/controls",
            "_model_module_version": "1.5.0",
            "_model_name": "HBoxModel",
            "_view_count": null,
            "_view_module": "@jupyter-widgets/controls",
            "_view_module_version": "1.5.0",
            "_view_name": "HBoxView",
            "box_style": "",
            "children": [
              "IPY_MODEL_f2c3f74552bd42ef808bd2440cac1b03",
              "IPY_MODEL_ab5b5221cdde4b2ba37a7b78b9c68911",
              "IPY_MODEL_84d07bb1ded8417bb7247cc0a6f8deea"
            ],
            "layout": "IPY_MODEL_5377ce1e1e4148909ea90e991cd8aa5f"
          }
        },
        "f2c3f74552bd42ef808bd2440cac1b03": {
          "model_module": "@jupyter-widgets/controls",
          "model_name": "HTMLModel",
          "model_module_version": "1.5.0",
          "state": {
            "_dom_classes": [],
            "_model_module": "@jupyter-widgets/controls",
            "_model_module_version": "1.5.0",
            "_model_name": "HTMLModel",
            "_view_count": null,
            "_view_module": "@jupyter-widgets/controls",
            "_view_module_version": "1.5.0",
            "_view_name": "HTMLView",
            "description": "",
            "description_tooltip": null,
            "layout": "IPY_MODEL_5c266dab582d45d2b993a05775ab2f4e",
            "placeholder": "​",
            "style": "IPY_MODEL_f1cae6b9b0a048dcb9d199f26c0fa13f",
            "value": "generation_config.json: 100%"
          }
        },
        "ab5b5221cdde4b2ba37a7b78b9c68911": {
          "model_module": "@jupyter-widgets/controls",
          "model_name": "FloatProgressModel",
          "model_module_version": "1.5.0",
          "state": {
            "_dom_classes": [],
            "_model_module": "@jupyter-widgets/controls",
            "_model_module_version": "1.5.0",
            "_model_name": "FloatProgressModel",
            "_view_count": null,
            "_view_module": "@jupyter-widgets/controls",
            "_view_module_version": "1.5.0",
            "_view_name": "ProgressView",
            "bar_style": "success",
            "description": "",
            "description_tooltip": null,
            "layout": "IPY_MODEL_da5931ec0ea747979819a38dedfb885d",
            "max": 147,
            "min": 0,
            "orientation": "horizontal",
            "style": "IPY_MODEL_3ac9558073604e94a4c645890f5d9eef",
            "value": 147
          }
        },
        "84d07bb1ded8417bb7247cc0a6f8deea": {
          "model_module": "@jupyter-widgets/controls",
          "model_name": "HTMLModel",
          "model_module_version": "1.5.0",
          "state": {
            "_dom_classes": [],
            "_model_module": "@jupyter-widgets/controls",
            "_model_module_version": "1.5.0",
            "_model_name": "HTMLModel",
            "_view_count": null,
            "_view_module": "@jupyter-widgets/controls",
            "_view_module_version": "1.5.0",
            "_view_name": "HTMLView",
            "description": "",
            "description_tooltip": null,
            "layout": "IPY_MODEL_3384883db2ca495eac26551ee6beb976",
            "placeholder": "​",
            "style": "IPY_MODEL_c56538791f224d86aebf311025cc371e",
            "value": " 147/147 [00:00&lt;00:00, 6.06kB/s]"
          }
        },
        "5377ce1e1e4148909ea90e991cd8aa5f": {
          "model_module": "@jupyter-widgets/base",
          "model_name": "LayoutModel",
          "model_module_version": "1.2.0",
          "state": {
            "_model_module": "@jupyter-widgets/base",
            "_model_module_version": "1.2.0",
            "_model_name": "LayoutModel",
            "_view_count": null,
            "_view_module": "@jupyter-widgets/base",
            "_view_module_version": "1.2.0",
            "_view_name": "LayoutView",
            "align_content": null,
            "align_items": null,
            "align_self": null,
            "border": null,
            "bottom": null,
            "display": null,
            "flex": null,
            "flex_flow": null,
            "grid_area": null,
            "grid_auto_columns": null,
            "grid_auto_flow": null,
            "grid_auto_rows": null,
            "grid_column": null,
            "grid_gap": null,
            "grid_row": null,
            "grid_template_areas": null,
            "grid_template_columns": null,
            "grid_template_rows": null,
            "height": null,
            "justify_content": null,
            "justify_items": null,
            "left": null,
            "margin": null,
            "max_height": null,
            "max_width": null,
            "min_height": null,
            "min_width": null,
            "object_fit": null,
            "object_position": null,
            "order": null,
            "overflow": null,
            "overflow_x": null,
            "overflow_y": null,
            "padding": null,
            "right": null,
            "top": null,
            "visibility": null,
            "width": null
          }
        },
        "5c266dab582d45d2b993a05775ab2f4e": {
          "model_module": "@jupyter-widgets/base",
          "model_name": "LayoutModel",
          "model_module_version": "1.2.0",
          "state": {
            "_model_module": "@jupyter-widgets/base",
            "_model_module_version": "1.2.0",
            "_model_name": "LayoutModel",
            "_view_count": null,
            "_view_module": "@jupyter-widgets/base",
            "_view_module_version": "1.2.0",
            "_view_name": "LayoutView",
            "align_content": null,
            "align_items": null,
            "align_self": null,
            "border": null,
            "bottom": null,
            "display": null,
            "flex": null,
            "flex_flow": null,
            "grid_area": null,
            "grid_auto_columns": null,
            "grid_auto_flow": null,
            "grid_auto_rows": null,
            "grid_column": null,
            "grid_gap": null,
            "grid_row": null,
            "grid_template_areas": null,
            "grid_template_columns": null,
            "grid_template_rows": null,
            "height": null,
            "justify_content": null,
            "justify_items": null,
            "left": null,
            "margin": null,
            "max_height": null,
            "max_width": null,
            "min_height": null,
            "min_width": null,
            "object_fit": null,
            "object_position": null,
            "order": null,
            "overflow": null,
            "overflow_x": null,
            "overflow_y": null,
            "padding": null,
            "right": null,
            "top": null,
            "visibility": null,
            "width": null
          }
        },
        "f1cae6b9b0a048dcb9d199f26c0fa13f": {
          "model_module": "@jupyter-widgets/controls",
          "model_name": "DescriptionStyleModel",
          "model_module_version": "1.5.0",
          "state": {
            "_model_module": "@jupyter-widgets/controls",
            "_model_module_version": "1.5.0",
            "_model_name": "DescriptionStyleModel",
            "_view_count": null,
            "_view_module": "@jupyter-widgets/base",
            "_view_module_version": "1.2.0",
            "_view_name": "StyleView",
            "description_width": ""
          }
        },
        "da5931ec0ea747979819a38dedfb885d": {
          "model_module": "@jupyter-widgets/base",
          "model_name": "LayoutModel",
          "model_module_version": "1.2.0",
          "state": {
            "_model_module": "@jupyter-widgets/base",
            "_model_module_version": "1.2.0",
            "_model_name": "LayoutModel",
            "_view_count": null,
            "_view_module": "@jupyter-widgets/base",
            "_view_module_version": "1.2.0",
            "_view_name": "LayoutView",
            "align_content": null,
            "align_items": null,
            "align_self": null,
            "border": null,
            "bottom": null,
            "display": null,
            "flex": null,
            "flex_flow": null,
            "grid_area": null,
            "grid_auto_columns": null,
            "grid_auto_flow": null,
            "grid_auto_rows": null,
            "grid_column": null,
            "grid_gap": null,
            "grid_row": null,
            "grid_template_areas": null,
            "grid_template_columns": null,
            "grid_template_rows": null,
            "height": null,
            "justify_content": null,
            "justify_items": null,
            "left": null,
            "margin": null,
            "max_height": null,
            "max_width": null,
            "min_height": null,
            "min_width": null,
            "object_fit": null,
            "object_position": null,
            "order": null,
            "overflow": null,
            "overflow_x": null,
            "overflow_y": null,
            "padding": null,
            "right": null,
            "top": null,
            "visibility": null,
            "width": null
          }
        },
        "3ac9558073604e94a4c645890f5d9eef": {
          "model_module": "@jupyter-widgets/controls",
          "model_name": "ProgressStyleModel",
          "model_module_version": "1.5.0",
          "state": {
            "_model_module": "@jupyter-widgets/controls",
            "_model_module_version": "1.5.0",
            "_model_name": "ProgressStyleModel",
            "_view_count": null,
            "_view_module": "@jupyter-widgets/base",
            "_view_module_version": "1.2.0",
            "_view_name": "StyleView",
            "bar_color": null,
            "description_width": ""
          }
        },
        "3384883db2ca495eac26551ee6beb976": {
          "model_module": "@jupyter-widgets/base",
          "model_name": "LayoutModel",
          "model_module_version": "1.2.0",
          "state": {
            "_model_module": "@jupyter-widgets/base",
            "_model_module_version": "1.2.0",
            "_model_name": "LayoutModel",
            "_view_count": null,
            "_view_module": "@jupyter-widgets/base",
            "_view_module_version": "1.2.0",
            "_view_name": "LayoutView",
            "align_content": null,
            "align_items": null,
            "align_self": null,
            "border": null,
            "bottom": null,
            "display": null,
            "flex": null,
            "flex_flow": null,
            "grid_area": null,
            "grid_auto_columns": null,
            "grid_auto_flow": null,
            "grid_auto_rows": null,
            "grid_column": null,
            "grid_gap": null,
            "grid_row": null,
            "grid_template_areas": null,
            "grid_template_columns": null,
            "grid_template_rows": null,
            "height": null,
            "justify_content": null,
            "justify_items": null,
            "left": null,
            "margin": null,
            "max_height": null,
            "max_width": null,
            "min_height": null,
            "min_width": null,
            "object_fit": null,
            "object_position": null,
            "order": null,
            "overflow": null,
            "overflow_x": null,
            "overflow_y": null,
            "padding": null,
            "right": null,
            "top": null,
            "visibility": null,
            "width": null
          }
        },
        "c56538791f224d86aebf311025cc371e": {
          "model_module": "@jupyter-widgets/controls",
          "model_name": "DescriptionStyleModel",
          "model_module_version": "1.5.0",
          "state": {
            "_model_module": "@jupyter-widgets/controls",
            "_model_module_version": "1.5.0",
            "_model_name": "DescriptionStyleModel",
            "_view_count": null,
            "_view_module": "@jupyter-widgets/base",
            "_view_module_version": "1.2.0",
            "_view_name": "StyleView",
            "description_width": ""
          }
        },
        "889cce4e539f4656a00be16c5a88ada8": {
          "model_module": "@jupyter-widgets/controls",
          "model_name": "HBoxModel",
          "model_module_version": "1.5.0",
          "state": {
            "_dom_classes": [],
            "_model_module": "@jupyter-widgets/controls",
            "_model_module_version": "1.5.0",
            "_model_name": "HBoxModel",
            "_view_count": null,
            "_view_module": "@jupyter-widgets/controls",
            "_view_module_version": "1.5.0",
            "_view_name": "HBoxView",
            "box_style": "",
            "children": [
              "IPY_MODEL_8e6112d6afa94663b0b5f129a494b4eb",
              "IPY_MODEL_204b3218707542b1b3f341ba71dfbd22",
              "IPY_MODEL_f40aed4af1494f5fb7fdf74d2fc0112d"
            ],
            "layout": "IPY_MODEL_dcd0289a5dd943cf999594af49c4b468"
          }
        },
        "8e6112d6afa94663b0b5f129a494b4eb": {
          "model_module": "@jupyter-widgets/controls",
          "model_name": "HTMLModel",
          "model_module_version": "1.5.0",
          "state": {
            "_dom_classes": [],
            "_model_module": "@jupyter-widgets/controls",
            "_model_module_version": "1.5.0",
            "_model_name": "HTMLModel",
            "_view_count": null,
            "_view_module": "@jupyter-widgets/controls",
            "_view_module_version": "1.5.0",
            "_view_name": "HTMLView",
            "description": "",
            "description_tooltip": null,
            "layout": "IPY_MODEL_cdb2d63160844b16ad4ea43572515f2b",
            "placeholder": "​",
            "style": "IPY_MODEL_a9201853bdf942bb9bce71145001ce4e",
            "value": "tokenizer_config.json: 100%"
          }
        },
        "204b3218707542b1b3f341ba71dfbd22": {
          "model_module": "@jupyter-widgets/controls",
          "model_name": "FloatProgressModel",
          "model_module_version": "1.5.0",
          "state": {
            "_dom_classes": [],
            "_model_module": "@jupyter-widgets/controls",
            "_model_module_version": "1.5.0",
            "_model_name": "FloatProgressModel",
            "_view_count": null,
            "_view_module": "@jupyter-widgets/controls",
            "_view_module_version": "1.5.0",
            "_view_name": "ProgressView",
            "bar_style": "success",
            "description": "",
            "description_tooltip": null,
            "layout": "IPY_MODEL_7a82b2a630c843a09c158b307ab4de3a",
            "max": 25,
            "min": 0,
            "orientation": "horizontal",
            "style": "IPY_MODEL_fde8fbf6682f49a085a64a0b67907424",
            "value": 25
          }
        },
        "f40aed4af1494f5fb7fdf74d2fc0112d": {
          "model_module": "@jupyter-widgets/controls",
          "model_name": "HTMLModel",
          "model_module_version": "1.5.0",
          "state": {
            "_dom_classes": [],
            "_model_module": "@jupyter-widgets/controls",
            "_model_module_version": "1.5.0",
            "_model_name": "HTMLModel",
            "_view_count": null,
            "_view_module": "@jupyter-widgets/controls",
            "_view_module_version": "1.5.0",
            "_view_name": "HTMLView",
            "description": "",
            "description_tooltip": null,
            "layout": "IPY_MODEL_f0a9ad7ecbbb472fa424ac684585e443",
            "placeholder": "​",
            "style": "IPY_MODEL_186f2358d45c4060acd8c83914d27f9f",
            "value": " 25.0/25.0 [00:00&lt;00:00, 1.90kB/s]"
          }
        },
        "dcd0289a5dd943cf999594af49c4b468": {
          "model_module": "@jupyter-widgets/base",
          "model_name": "LayoutModel",
          "model_module_version": "1.2.0",
          "state": {
            "_model_module": "@jupyter-widgets/base",
            "_model_module_version": "1.2.0",
            "_model_name": "LayoutModel",
            "_view_count": null,
            "_view_module": "@jupyter-widgets/base",
            "_view_module_version": "1.2.0",
            "_view_name": "LayoutView",
            "align_content": null,
            "align_items": null,
            "align_self": null,
            "border": null,
            "bottom": null,
            "display": null,
            "flex": null,
            "flex_flow": null,
            "grid_area": null,
            "grid_auto_columns": null,
            "grid_auto_flow": null,
            "grid_auto_rows": null,
            "grid_column": null,
            "grid_gap": null,
            "grid_row": null,
            "grid_template_areas": null,
            "grid_template_columns": null,
            "grid_template_rows": null,
            "height": null,
            "justify_content": null,
            "justify_items": null,
            "left": null,
            "margin": null,
            "max_height": null,
            "max_width": null,
            "min_height": null,
            "min_width": null,
            "object_fit": null,
            "object_position": null,
            "order": null,
            "overflow": null,
            "overflow_x": null,
            "overflow_y": null,
            "padding": null,
            "right": null,
            "top": null,
            "visibility": null,
            "width": null
          }
        },
        "cdb2d63160844b16ad4ea43572515f2b": {
          "model_module": "@jupyter-widgets/base",
          "model_name": "LayoutModel",
          "model_module_version": "1.2.0",
          "state": {
            "_model_module": "@jupyter-widgets/base",
            "_model_module_version": "1.2.0",
            "_model_name": "LayoutModel",
            "_view_count": null,
            "_view_module": "@jupyter-widgets/base",
            "_view_module_version": "1.2.0",
            "_view_name": "LayoutView",
            "align_content": null,
            "align_items": null,
            "align_self": null,
            "border": null,
            "bottom": null,
            "display": null,
            "flex": null,
            "flex_flow": null,
            "grid_area": null,
            "grid_auto_columns": null,
            "grid_auto_flow": null,
            "grid_auto_rows": null,
            "grid_column": null,
            "grid_gap": null,
            "grid_row": null,
            "grid_template_areas": null,
            "grid_template_columns": null,
            "grid_template_rows": null,
            "height": null,
            "justify_content": null,
            "justify_items": null,
            "left": null,
            "margin": null,
            "max_height": null,
            "max_width": null,
            "min_height": null,
            "min_width": null,
            "object_fit": null,
            "object_position": null,
            "order": null,
            "overflow": null,
            "overflow_x": null,
            "overflow_y": null,
            "padding": null,
            "right": null,
            "top": null,
            "visibility": null,
            "width": null
          }
        },
        "a9201853bdf942bb9bce71145001ce4e": {
          "model_module": "@jupyter-widgets/controls",
          "model_name": "DescriptionStyleModel",
          "model_module_version": "1.5.0",
          "state": {
            "_model_module": "@jupyter-widgets/controls",
            "_model_module_version": "1.5.0",
            "_model_name": "DescriptionStyleModel",
            "_view_count": null,
            "_view_module": "@jupyter-widgets/base",
            "_view_module_version": "1.2.0",
            "_view_name": "StyleView",
            "description_width": ""
          }
        },
        "7a82b2a630c843a09c158b307ab4de3a": {
          "model_module": "@jupyter-widgets/base",
          "model_name": "LayoutModel",
          "model_module_version": "1.2.0",
          "state": {
            "_model_module": "@jupyter-widgets/base",
            "_model_module_version": "1.2.0",
            "_model_name": "LayoutModel",
            "_view_count": null,
            "_view_module": "@jupyter-widgets/base",
            "_view_module_version": "1.2.0",
            "_view_name": "LayoutView",
            "align_content": null,
            "align_items": null,
            "align_self": null,
            "border": null,
            "bottom": null,
            "display": null,
            "flex": null,
            "flex_flow": null,
            "grid_area": null,
            "grid_auto_columns": null,
            "grid_auto_flow": null,
            "grid_auto_rows": null,
            "grid_column": null,
            "grid_gap": null,
            "grid_row": null,
            "grid_template_areas": null,
            "grid_template_columns": null,
            "grid_template_rows": null,
            "height": null,
            "justify_content": null,
            "justify_items": null,
            "left": null,
            "margin": null,
            "max_height": null,
            "max_width": null,
            "min_height": null,
            "min_width": null,
            "object_fit": null,
            "object_position": null,
            "order": null,
            "overflow": null,
            "overflow_x": null,
            "overflow_y": null,
            "padding": null,
            "right": null,
            "top": null,
            "visibility": null,
            "width": null
          }
        },
        "fde8fbf6682f49a085a64a0b67907424": {
          "model_module": "@jupyter-widgets/controls",
          "model_name": "ProgressStyleModel",
          "model_module_version": "1.5.0",
          "state": {
            "_model_module": "@jupyter-widgets/controls",
            "_model_module_version": "1.5.0",
            "_model_name": "ProgressStyleModel",
            "_view_count": null,
            "_view_module": "@jupyter-widgets/base",
            "_view_module_version": "1.2.0",
            "_view_name": "StyleView",
            "bar_color": null,
            "description_width": ""
          }
        },
        "f0a9ad7ecbbb472fa424ac684585e443": {
          "model_module": "@jupyter-widgets/base",
          "model_name": "LayoutModel",
          "model_module_version": "1.2.0",
          "state": {
            "_model_module": "@jupyter-widgets/base",
            "_model_module_version": "1.2.0",
            "_model_name": "LayoutModel",
            "_view_count": null,
            "_view_module": "@jupyter-widgets/base",
            "_view_module_version": "1.2.0",
            "_view_name": "LayoutView",
            "align_content": null,
            "align_items": null,
            "align_self": null,
            "border": null,
            "bottom": null,
            "display": null,
            "flex": null,
            "flex_flow": null,
            "grid_area": null,
            "grid_auto_columns": null,
            "grid_auto_flow": null,
            "grid_auto_rows": null,
            "grid_column": null,
            "grid_gap": null,
            "grid_row": null,
            "grid_template_areas": null,
            "grid_template_columns": null,
            "grid_template_rows": null,
            "height": null,
            "justify_content": null,
            "justify_items": null,
            "left": null,
            "margin": null,
            "max_height": null,
            "max_width": null,
            "min_height": null,
            "min_width": null,
            "object_fit": null,
            "object_position": null,
            "order": null,
            "overflow": null,
            "overflow_x": null,
            "overflow_y": null,
            "padding": null,
            "right": null,
            "top": null,
            "visibility": null,
            "width": null
          }
        },
        "186f2358d45c4060acd8c83914d27f9f": {
          "model_module": "@jupyter-widgets/controls",
          "model_name": "DescriptionStyleModel",
          "model_module_version": "1.5.0",
          "state": {
            "_model_module": "@jupyter-widgets/controls",
            "_model_module_version": "1.5.0",
            "_model_name": "DescriptionStyleModel",
            "_view_count": null,
            "_view_module": "@jupyter-widgets/base",
            "_view_module_version": "1.2.0",
            "_view_name": "StyleView",
            "description_width": ""
          }
        },
        "844063504c874aaead2941280cafb26b": {
          "model_module": "@jupyter-widgets/controls",
          "model_name": "HBoxModel",
          "model_module_version": "1.5.0",
          "state": {
            "_dom_classes": [],
            "_model_module": "@jupyter-widgets/controls",
            "_model_module_version": "1.5.0",
            "_model_name": "HBoxModel",
            "_view_count": null,
            "_view_module": "@jupyter-widgets/controls",
            "_view_module_version": "1.5.0",
            "_view_name": "HBoxView",
            "box_style": "",
            "children": [
              "IPY_MODEL_ed7b2a94e07b44e787fb8b5d7b1874fa",
              "IPY_MODEL_8c39a6967f8846b2b29ccd828133891e",
              "IPY_MODEL_d9977036759e4d47884bfd6b0d4a85e2"
            ],
            "layout": "IPY_MODEL_441f495af7664a46aff12aff1bcb36c4"
          }
        },
        "ed7b2a94e07b44e787fb8b5d7b1874fa": {
          "model_module": "@jupyter-widgets/controls",
          "model_name": "HTMLModel",
          "model_module_version": "1.5.0",
          "state": {
            "_dom_classes": [],
            "_model_module": "@jupyter-widgets/controls",
            "_model_module_version": "1.5.0",
            "_model_name": "HTMLModel",
            "_view_count": null,
            "_view_module": "@jupyter-widgets/controls",
            "_view_module_version": "1.5.0",
            "_view_name": "HTMLView",
            "description": "",
            "description_tooltip": null,
            "layout": "IPY_MODEL_0b35f0eec1364b9ca0fc758011c74f11",
            "placeholder": "​",
            "style": "IPY_MODEL_3c178e326552457eac2291c7ae18efe5",
            "value": "config.json: 100%"
          }
        },
        "8c39a6967f8846b2b29ccd828133891e": {
          "model_module": "@jupyter-widgets/controls",
          "model_name": "FloatProgressModel",
          "model_module_version": "1.5.0",
          "state": {
            "_dom_classes": [],
            "_model_module": "@jupyter-widgets/controls",
            "_model_module_version": "1.5.0",
            "_model_name": "FloatProgressModel",
            "_view_count": null,
            "_view_module": "@jupyter-widgets/controls",
            "_view_module_version": "1.5.0",
            "_view_name": "ProgressView",
            "bar_style": "success",
            "description": "",
            "description_tooltip": null,
            "layout": "IPY_MODEL_4feef7a28f444a53b7c6dc629e75331b",
            "max": 482,
            "min": 0,
            "orientation": "horizontal",
            "style": "IPY_MODEL_980dae8cebf34117818ca4e5619b6f0c",
            "value": 482
          }
        },
        "d9977036759e4d47884bfd6b0d4a85e2": {
          "model_module": "@jupyter-widgets/controls",
          "model_name": "HTMLModel",
          "model_module_version": "1.5.0",
          "state": {
            "_dom_classes": [],
            "_model_module": "@jupyter-widgets/controls",
            "_model_module_version": "1.5.0",
            "_model_name": "HTMLModel",
            "_view_count": null,
            "_view_module": "@jupyter-widgets/controls",
            "_view_module_version": "1.5.0",
            "_view_name": "HTMLView",
            "description": "",
            "description_tooltip": null,
            "layout": "IPY_MODEL_b3b66f2ee71b490daee2f9fde309a87a",
            "placeholder": "​",
            "style": "IPY_MODEL_5c3387c20894497fb32c5f6626c89982",
            "value": " 482/482 [00:00&lt;00:00, 33.9kB/s]"
          }
        },
        "441f495af7664a46aff12aff1bcb36c4": {
          "model_module": "@jupyter-widgets/base",
          "model_name": "LayoutModel",
          "model_module_version": "1.2.0",
          "state": {
            "_model_module": "@jupyter-widgets/base",
            "_model_module_version": "1.2.0",
            "_model_name": "LayoutModel",
            "_view_count": null,
            "_view_module": "@jupyter-widgets/base",
            "_view_module_version": "1.2.0",
            "_view_name": "LayoutView",
            "align_content": null,
            "align_items": null,
            "align_self": null,
            "border": null,
            "bottom": null,
            "display": null,
            "flex": null,
            "flex_flow": null,
            "grid_area": null,
            "grid_auto_columns": null,
            "grid_auto_flow": null,
            "grid_auto_rows": null,
            "grid_column": null,
            "grid_gap": null,
            "grid_row": null,
            "grid_template_areas": null,
            "grid_template_columns": null,
            "grid_template_rows": null,
            "height": null,
            "justify_content": null,
            "justify_items": null,
            "left": null,
            "margin": null,
            "max_height": null,
            "max_width": null,
            "min_height": null,
            "min_width": null,
            "object_fit": null,
            "object_position": null,
            "order": null,
            "overflow": null,
            "overflow_x": null,
            "overflow_y": null,
            "padding": null,
            "right": null,
            "top": null,
            "visibility": null,
            "width": null
          }
        },
        "0b35f0eec1364b9ca0fc758011c74f11": {
          "model_module": "@jupyter-widgets/base",
          "model_name": "LayoutModel",
          "model_module_version": "1.2.0",
          "state": {
            "_model_module": "@jupyter-widgets/base",
            "_model_module_version": "1.2.0",
            "_model_name": "LayoutModel",
            "_view_count": null,
            "_view_module": "@jupyter-widgets/base",
            "_view_module_version": "1.2.0",
            "_view_name": "LayoutView",
            "align_content": null,
            "align_items": null,
            "align_self": null,
            "border": null,
            "bottom": null,
            "display": null,
            "flex": null,
            "flex_flow": null,
            "grid_area": null,
            "grid_auto_columns": null,
            "grid_auto_flow": null,
            "grid_auto_rows": null,
            "grid_column": null,
            "grid_gap": null,
            "grid_row": null,
            "grid_template_areas": null,
            "grid_template_columns": null,
            "grid_template_rows": null,
            "height": null,
            "justify_content": null,
            "justify_items": null,
            "left": null,
            "margin": null,
            "max_height": null,
            "max_width": null,
            "min_height": null,
            "min_width": null,
            "object_fit": null,
            "object_position": null,
            "order": null,
            "overflow": null,
            "overflow_x": null,
            "overflow_y": null,
            "padding": null,
            "right": null,
            "top": null,
            "visibility": null,
            "width": null
          }
        },
        "3c178e326552457eac2291c7ae18efe5": {
          "model_module": "@jupyter-widgets/controls",
          "model_name": "DescriptionStyleModel",
          "model_module_version": "1.5.0",
          "state": {
            "_model_module": "@jupyter-widgets/controls",
            "_model_module_version": "1.5.0",
            "_model_name": "DescriptionStyleModel",
            "_view_count": null,
            "_view_module": "@jupyter-widgets/base",
            "_view_module_version": "1.2.0",
            "_view_name": "StyleView",
            "description_width": ""
          }
        },
        "4feef7a28f444a53b7c6dc629e75331b": {
          "model_module": "@jupyter-widgets/base",
          "model_name": "LayoutModel",
          "model_module_version": "1.2.0",
          "state": {
            "_model_module": "@jupyter-widgets/base",
            "_model_module_version": "1.2.0",
            "_model_name": "LayoutModel",
            "_view_count": null,
            "_view_module": "@jupyter-widgets/base",
            "_view_module_version": "1.2.0",
            "_view_name": "LayoutView",
            "align_content": null,
            "align_items": null,
            "align_self": null,
            "border": null,
            "bottom": null,
            "display": null,
            "flex": null,
            "flex_flow": null,
            "grid_area": null,
            "grid_auto_columns": null,
            "grid_auto_flow": null,
            "grid_auto_rows": null,
            "grid_column": null,
            "grid_gap": null,
            "grid_row": null,
            "grid_template_areas": null,
            "grid_template_columns": null,
            "grid_template_rows": null,
            "height": null,
            "justify_content": null,
            "justify_items": null,
            "left": null,
            "margin": null,
            "max_height": null,
            "max_width": null,
            "min_height": null,
            "min_width": null,
            "object_fit": null,
            "object_position": null,
            "order": null,
            "overflow": null,
            "overflow_x": null,
            "overflow_y": null,
            "padding": null,
            "right": null,
            "top": null,
            "visibility": null,
            "width": null
          }
        },
        "980dae8cebf34117818ca4e5619b6f0c": {
          "model_module": "@jupyter-widgets/controls",
          "model_name": "ProgressStyleModel",
          "model_module_version": "1.5.0",
          "state": {
            "_model_module": "@jupyter-widgets/controls",
            "_model_module_version": "1.5.0",
            "_model_name": "ProgressStyleModel",
            "_view_count": null,
            "_view_module": "@jupyter-widgets/base",
            "_view_module_version": "1.2.0",
            "_view_name": "StyleView",
            "bar_color": null,
            "description_width": ""
          }
        },
        "b3b66f2ee71b490daee2f9fde309a87a": {
          "model_module": "@jupyter-widgets/base",
          "model_name": "LayoutModel",
          "model_module_version": "1.2.0",
          "state": {
            "_model_module": "@jupyter-widgets/base",
            "_model_module_version": "1.2.0",
            "_model_name": "LayoutModel",
            "_view_count": null,
            "_view_module": "@jupyter-widgets/base",
            "_view_module_version": "1.2.0",
            "_view_name": "LayoutView",
            "align_content": null,
            "align_items": null,
            "align_self": null,
            "border": null,
            "bottom": null,
            "display": null,
            "flex": null,
            "flex_flow": null,
            "grid_area": null,
            "grid_auto_columns": null,
            "grid_auto_flow": null,
            "grid_auto_rows": null,
            "grid_column": null,
            "grid_gap": null,
            "grid_row": null,
            "grid_template_areas": null,
            "grid_template_columns": null,
            "grid_template_rows": null,
            "height": null,
            "justify_content": null,
            "justify_items": null,
            "left": null,
            "margin": null,
            "max_height": null,
            "max_width": null,
            "min_height": null,
            "min_width": null,
            "object_fit": null,
            "object_position": null,
            "order": null,
            "overflow": null,
            "overflow_x": null,
            "overflow_y": null,
            "padding": null,
            "right": null,
            "top": null,
            "visibility": null,
            "width": null
          }
        },
        "5c3387c20894497fb32c5f6626c89982": {
          "model_module": "@jupyter-widgets/controls",
          "model_name": "DescriptionStyleModel",
          "model_module_version": "1.5.0",
          "state": {
            "_model_module": "@jupyter-widgets/controls",
            "_model_module_version": "1.5.0",
            "_model_name": "DescriptionStyleModel",
            "_view_count": null,
            "_view_module": "@jupyter-widgets/base",
            "_view_module_version": "1.2.0",
            "_view_name": "StyleView",
            "description_width": ""
          }
        },
        "7d6c9d32429b4555bdbf03e3cb74d2bd": {
          "model_module": "@jupyter-widgets/controls",
          "model_name": "HBoxModel",
          "model_module_version": "1.5.0",
          "state": {
            "_dom_classes": [],
            "_model_module": "@jupyter-widgets/controls",
            "_model_module_version": "1.5.0",
            "_model_name": "HBoxModel",
            "_view_count": null,
            "_view_module": "@jupyter-widgets/controls",
            "_view_module_version": "1.5.0",
            "_view_name": "HBoxView",
            "box_style": "",
            "children": [
              "IPY_MODEL_d20d1f3352d4411d94d7d74f7e591a12",
              "IPY_MODEL_2ec6c206e5df41d5b9a5b1e742052450",
              "IPY_MODEL_bc86ad556ea94fd2a4d40b65d8c2b3f7"
            ],
            "layout": "IPY_MODEL_7ce295d086234821b871d745aa79746a"
          }
        },
        "d20d1f3352d4411d94d7d74f7e591a12": {
          "model_module": "@jupyter-widgets/controls",
          "model_name": "HTMLModel",
          "model_module_version": "1.5.0",
          "state": {
            "_dom_classes": [],
            "_model_module": "@jupyter-widgets/controls",
            "_model_module_version": "1.5.0",
            "_model_name": "HTMLModel",
            "_view_count": null,
            "_view_module": "@jupyter-widgets/controls",
            "_view_module_version": "1.5.0",
            "_view_name": "HTMLView",
            "description": "",
            "description_tooltip": null,
            "layout": "IPY_MODEL_6c0a042c46f446dcbead6fd69c88620f",
            "placeholder": "​",
            "style": "IPY_MODEL_44b7a40acef74b6b9e898b4dbf088ac5",
            "value": "vocab.json: 100%"
          }
        },
        "2ec6c206e5df41d5b9a5b1e742052450": {
          "model_module": "@jupyter-widgets/controls",
          "model_name": "FloatProgressModel",
          "model_module_version": "1.5.0",
          "state": {
            "_dom_classes": [],
            "_model_module": "@jupyter-widgets/controls",
            "_model_module_version": "1.5.0",
            "_model_name": "FloatProgressModel",
            "_view_count": null,
            "_view_module": "@jupyter-widgets/controls",
            "_view_module_version": "1.5.0",
            "_view_name": "ProgressView",
            "bar_style": "success",
            "description": "",
            "description_tooltip": null,
            "layout": "IPY_MODEL_a5e628e3bc3947d188dc354b066639a7",
            "max": 898823,
            "min": 0,
            "orientation": "horizontal",
            "style": "IPY_MODEL_ce08b58dc0504a358cc9c2ed10337490",
            "value": 898823
          }
        },
        "bc86ad556ea94fd2a4d40b65d8c2b3f7": {
          "model_module": "@jupyter-widgets/controls",
          "model_name": "HTMLModel",
          "model_module_version": "1.5.0",
          "state": {
            "_dom_classes": [],
            "_model_module": "@jupyter-widgets/controls",
            "_model_module_version": "1.5.0",
            "_model_name": "HTMLModel",
            "_view_count": null,
            "_view_module": "@jupyter-widgets/controls",
            "_view_module_version": "1.5.0",
            "_view_name": "HTMLView",
            "description": "",
            "description_tooltip": null,
            "layout": "IPY_MODEL_4c66c926bd8e44aa81de701dae3630c2",
            "placeholder": "​",
            "style": "IPY_MODEL_b89d8b448c264e0cbd3d470f1354f7f8",
            "value": " 899k/899k [00:00&lt;00:00, 20.3MB/s]"
          }
        },
        "7ce295d086234821b871d745aa79746a": {
          "model_module": "@jupyter-widgets/base",
          "model_name": "LayoutModel",
          "model_module_version": "1.2.0",
          "state": {
            "_model_module": "@jupyter-widgets/base",
            "_model_module_version": "1.2.0",
            "_model_name": "LayoutModel",
            "_view_count": null,
            "_view_module": "@jupyter-widgets/base",
            "_view_module_version": "1.2.0",
            "_view_name": "LayoutView",
            "align_content": null,
            "align_items": null,
            "align_self": null,
            "border": null,
            "bottom": null,
            "display": null,
            "flex": null,
            "flex_flow": null,
            "grid_area": null,
            "grid_auto_columns": null,
            "grid_auto_flow": null,
            "grid_auto_rows": null,
            "grid_column": null,
            "grid_gap": null,
            "grid_row": null,
            "grid_template_areas": null,
            "grid_template_columns": null,
            "grid_template_rows": null,
            "height": null,
            "justify_content": null,
            "justify_items": null,
            "left": null,
            "margin": null,
            "max_height": null,
            "max_width": null,
            "min_height": null,
            "min_width": null,
            "object_fit": null,
            "object_position": null,
            "order": null,
            "overflow": null,
            "overflow_x": null,
            "overflow_y": null,
            "padding": null,
            "right": null,
            "top": null,
            "visibility": null,
            "width": null
          }
        },
        "6c0a042c46f446dcbead6fd69c88620f": {
          "model_module": "@jupyter-widgets/base",
          "model_name": "LayoutModel",
          "model_module_version": "1.2.0",
          "state": {
            "_model_module": "@jupyter-widgets/base",
            "_model_module_version": "1.2.0",
            "_model_name": "LayoutModel",
            "_view_count": null,
            "_view_module": "@jupyter-widgets/base",
            "_view_module_version": "1.2.0",
            "_view_name": "LayoutView",
            "align_content": null,
            "align_items": null,
            "align_self": null,
            "border": null,
            "bottom": null,
            "display": null,
            "flex": null,
            "flex_flow": null,
            "grid_area": null,
            "grid_auto_columns": null,
            "grid_auto_flow": null,
            "grid_auto_rows": null,
            "grid_column": null,
            "grid_gap": null,
            "grid_row": null,
            "grid_template_areas": null,
            "grid_template_columns": null,
            "grid_template_rows": null,
            "height": null,
            "justify_content": null,
            "justify_items": null,
            "left": null,
            "margin": null,
            "max_height": null,
            "max_width": null,
            "min_height": null,
            "min_width": null,
            "object_fit": null,
            "object_position": null,
            "order": null,
            "overflow": null,
            "overflow_x": null,
            "overflow_y": null,
            "padding": null,
            "right": null,
            "top": null,
            "visibility": null,
            "width": null
          }
        },
        "44b7a40acef74b6b9e898b4dbf088ac5": {
          "model_module": "@jupyter-widgets/controls",
          "model_name": "DescriptionStyleModel",
          "model_module_version": "1.5.0",
          "state": {
            "_model_module": "@jupyter-widgets/controls",
            "_model_module_version": "1.5.0",
            "_model_name": "DescriptionStyleModel",
            "_view_count": null,
            "_view_module": "@jupyter-widgets/base",
            "_view_module_version": "1.2.0",
            "_view_name": "StyleView",
            "description_width": ""
          }
        },
        "a5e628e3bc3947d188dc354b066639a7": {
          "model_module": "@jupyter-widgets/base",
          "model_name": "LayoutModel",
          "model_module_version": "1.2.0",
          "state": {
            "_model_module": "@jupyter-widgets/base",
            "_model_module_version": "1.2.0",
            "_model_name": "LayoutModel",
            "_view_count": null,
            "_view_module": "@jupyter-widgets/base",
            "_view_module_version": "1.2.0",
            "_view_name": "LayoutView",
            "align_content": null,
            "align_items": null,
            "align_self": null,
            "border": null,
            "bottom": null,
            "display": null,
            "flex": null,
            "flex_flow": null,
            "grid_area": null,
            "grid_auto_columns": null,
            "grid_auto_flow": null,
            "grid_auto_rows": null,
            "grid_column": null,
            "grid_gap": null,
            "grid_row": null,
            "grid_template_areas": null,
            "grid_template_columns": null,
            "grid_template_rows": null,
            "height": null,
            "justify_content": null,
            "justify_items": null,
            "left": null,
            "margin": null,
            "max_height": null,
            "max_width": null,
            "min_height": null,
            "min_width": null,
            "object_fit": null,
            "object_position": null,
            "order": null,
            "overflow": null,
            "overflow_x": null,
            "overflow_y": null,
            "padding": null,
            "right": null,
            "top": null,
            "visibility": null,
            "width": null
          }
        },
        "ce08b58dc0504a358cc9c2ed10337490": {
          "model_module": "@jupyter-widgets/controls",
          "model_name": "ProgressStyleModel",
          "model_module_version": "1.5.0",
          "state": {
            "_model_module": "@jupyter-widgets/controls",
            "_model_module_version": "1.5.0",
            "_model_name": "ProgressStyleModel",
            "_view_count": null,
            "_view_module": "@jupyter-widgets/base",
            "_view_module_version": "1.2.0",
            "_view_name": "StyleView",
            "bar_color": null,
            "description_width": ""
          }
        },
        "4c66c926bd8e44aa81de701dae3630c2": {
          "model_module": "@jupyter-widgets/base",
          "model_name": "LayoutModel",
          "model_module_version": "1.2.0",
          "state": {
            "_model_module": "@jupyter-widgets/base",
            "_model_module_version": "1.2.0",
            "_model_name": "LayoutModel",
            "_view_count": null,
            "_view_module": "@jupyter-widgets/base",
            "_view_module_version": "1.2.0",
            "_view_name": "LayoutView",
            "align_content": null,
            "align_items": null,
            "align_self": null,
            "border": null,
            "bottom": null,
            "display": null,
            "flex": null,
            "flex_flow": null,
            "grid_area": null,
            "grid_auto_columns": null,
            "grid_auto_flow": null,
            "grid_auto_rows": null,
            "grid_column": null,
            "grid_gap": null,
            "grid_row": null,
            "grid_template_areas": null,
            "grid_template_columns": null,
            "grid_template_rows": null,
            "height": null,
            "justify_content": null,
            "justify_items": null,
            "left": null,
            "margin": null,
            "max_height": null,
            "max_width": null,
            "min_height": null,
            "min_width": null,
            "object_fit": null,
            "object_position": null,
            "order": null,
            "overflow": null,
            "overflow_x": null,
            "overflow_y": null,
            "padding": null,
            "right": null,
            "top": null,
            "visibility": null,
            "width": null
          }
        },
        "b89d8b448c264e0cbd3d470f1354f7f8": {
          "model_module": "@jupyter-widgets/controls",
          "model_name": "DescriptionStyleModel",
          "model_module_version": "1.5.0",
          "state": {
            "_model_module": "@jupyter-widgets/controls",
            "_model_module_version": "1.5.0",
            "_model_name": "DescriptionStyleModel",
            "_view_count": null,
            "_view_module": "@jupyter-widgets/base",
            "_view_module_version": "1.2.0",
            "_view_name": "StyleView",
            "description_width": ""
          }
        },
        "7b21f48b0d7149f3ab2e516fb04aff27": {
          "model_module": "@jupyter-widgets/controls",
          "model_name": "HBoxModel",
          "model_module_version": "1.5.0",
          "state": {
            "_dom_classes": [],
            "_model_module": "@jupyter-widgets/controls",
            "_model_module_version": "1.5.0",
            "_model_name": "HBoxModel",
            "_view_count": null,
            "_view_module": "@jupyter-widgets/controls",
            "_view_module_version": "1.5.0",
            "_view_name": "HBoxView",
            "box_style": "",
            "children": [
              "IPY_MODEL_1341a7c69cb14132ac32e65d7dac2461",
              "IPY_MODEL_64e41f9e65164f88a9f1fbf2c691fbbd",
              "IPY_MODEL_680e022d1dbc4f1dac38a9ffc298bb41"
            ],
            "layout": "IPY_MODEL_e2048e45ef974bda98d42450e1cd2706"
          }
        },
        "1341a7c69cb14132ac32e65d7dac2461": {
          "model_module": "@jupyter-widgets/controls",
          "model_name": "HTMLModel",
          "model_module_version": "1.5.0",
          "state": {
            "_dom_classes": [],
            "_model_module": "@jupyter-widgets/controls",
            "_model_module_version": "1.5.0",
            "_model_name": "HTMLModel",
            "_view_count": null,
            "_view_module": "@jupyter-widgets/controls",
            "_view_module_version": "1.5.0",
            "_view_name": "HTMLView",
            "description": "",
            "description_tooltip": null,
            "layout": "IPY_MODEL_d060826c976f476db6a94fb3a04048d3",
            "placeholder": "​",
            "style": "IPY_MODEL_d1dad4f176f14a3da2835e00cdf39691",
            "value": "merges.txt: 100%"
          }
        },
        "64e41f9e65164f88a9f1fbf2c691fbbd": {
          "model_module": "@jupyter-widgets/controls",
          "model_name": "FloatProgressModel",
          "model_module_version": "1.5.0",
          "state": {
            "_dom_classes": [],
            "_model_module": "@jupyter-widgets/controls",
            "_model_module_version": "1.5.0",
            "_model_name": "FloatProgressModel",
            "_view_count": null,
            "_view_module": "@jupyter-widgets/controls",
            "_view_module_version": "1.5.0",
            "_view_name": "ProgressView",
            "bar_style": "success",
            "description": "",
            "description_tooltip": null,
            "layout": "IPY_MODEL_0c15276111f044c3a77993e601b810ee",
            "max": 456318,
            "min": 0,
            "orientation": "horizontal",
            "style": "IPY_MODEL_d6410c786f304c5a9d6a1b86ff599749",
            "value": 456318
          }
        },
        "680e022d1dbc4f1dac38a9ffc298bb41": {
          "model_module": "@jupyter-widgets/controls",
          "model_name": "HTMLModel",
          "model_module_version": "1.5.0",
          "state": {
            "_dom_classes": [],
            "_model_module": "@jupyter-widgets/controls",
            "_model_module_version": "1.5.0",
            "_model_name": "HTMLModel",
            "_view_count": null,
            "_view_module": "@jupyter-widgets/controls",
            "_view_module_version": "1.5.0",
            "_view_name": "HTMLView",
            "description": "",
            "description_tooltip": null,
            "layout": "IPY_MODEL_c95ce68c19044dee8300b8669bb2c96d",
            "placeholder": "​",
            "style": "IPY_MODEL_65d27e796d894abaab5c99a9a87d4bf9",
            "value": " 456k/456k [00:00&lt;00:00, 2.37MB/s]"
          }
        },
        "e2048e45ef974bda98d42450e1cd2706": {
          "model_module": "@jupyter-widgets/base",
          "model_name": "LayoutModel",
          "model_module_version": "1.2.0",
          "state": {
            "_model_module": "@jupyter-widgets/base",
            "_model_module_version": "1.2.0",
            "_model_name": "LayoutModel",
            "_view_count": null,
            "_view_module": "@jupyter-widgets/base",
            "_view_module_version": "1.2.0",
            "_view_name": "LayoutView",
            "align_content": null,
            "align_items": null,
            "align_self": null,
            "border": null,
            "bottom": null,
            "display": null,
            "flex": null,
            "flex_flow": null,
            "grid_area": null,
            "grid_auto_columns": null,
            "grid_auto_flow": null,
            "grid_auto_rows": null,
            "grid_column": null,
            "grid_gap": null,
            "grid_row": null,
            "grid_template_areas": null,
            "grid_template_columns": null,
            "grid_template_rows": null,
            "height": null,
            "justify_content": null,
            "justify_items": null,
            "left": null,
            "margin": null,
            "max_height": null,
            "max_width": null,
            "min_height": null,
            "min_width": null,
            "object_fit": null,
            "object_position": null,
            "order": null,
            "overflow": null,
            "overflow_x": null,
            "overflow_y": null,
            "padding": null,
            "right": null,
            "top": null,
            "visibility": null,
            "width": null
          }
        },
        "d060826c976f476db6a94fb3a04048d3": {
          "model_module": "@jupyter-widgets/base",
          "model_name": "LayoutModel",
          "model_module_version": "1.2.0",
          "state": {
            "_model_module": "@jupyter-widgets/base",
            "_model_module_version": "1.2.0",
            "_model_name": "LayoutModel",
            "_view_count": null,
            "_view_module": "@jupyter-widgets/base",
            "_view_module_version": "1.2.0",
            "_view_name": "LayoutView",
            "align_content": null,
            "align_items": null,
            "align_self": null,
            "border": null,
            "bottom": null,
            "display": null,
            "flex": null,
            "flex_flow": null,
            "grid_area": null,
            "grid_auto_columns": null,
            "grid_auto_flow": null,
            "grid_auto_rows": null,
            "grid_column": null,
            "grid_gap": null,
            "grid_row": null,
            "grid_template_areas": null,
            "grid_template_columns": null,
            "grid_template_rows": null,
            "height": null,
            "justify_content": null,
            "justify_items": null,
            "left": null,
            "margin": null,
            "max_height": null,
            "max_width": null,
            "min_height": null,
            "min_width": null,
            "object_fit": null,
            "object_position": null,
            "order": null,
            "overflow": null,
            "overflow_x": null,
            "overflow_y": null,
            "padding": null,
            "right": null,
            "top": null,
            "visibility": null,
            "width": null
          }
        },
        "d1dad4f176f14a3da2835e00cdf39691": {
          "model_module": "@jupyter-widgets/controls",
          "model_name": "DescriptionStyleModel",
          "model_module_version": "1.5.0",
          "state": {
            "_model_module": "@jupyter-widgets/controls",
            "_model_module_version": "1.5.0",
            "_model_name": "DescriptionStyleModel",
            "_view_count": null,
            "_view_module": "@jupyter-widgets/base",
            "_view_module_version": "1.2.0",
            "_view_name": "StyleView",
            "description_width": ""
          }
        },
        "0c15276111f044c3a77993e601b810ee": {
          "model_module": "@jupyter-widgets/base",
          "model_name": "LayoutModel",
          "model_module_version": "1.2.0",
          "state": {
            "_model_module": "@jupyter-widgets/base",
            "_model_module_version": "1.2.0",
            "_model_name": "LayoutModel",
            "_view_count": null,
            "_view_module": "@jupyter-widgets/base",
            "_view_module_version": "1.2.0",
            "_view_name": "LayoutView",
            "align_content": null,
            "align_items": null,
            "align_self": null,
            "border": null,
            "bottom": null,
            "display": null,
            "flex": null,
            "flex_flow": null,
            "grid_area": null,
            "grid_auto_columns": null,
            "grid_auto_flow": null,
            "grid_auto_rows": null,
            "grid_column": null,
            "grid_gap": null,
            "grid_row": null,
            "grid_template_areas": null,
            "grid_template_columns": null,
            "grid_template_rows": null,
            "height": null,
            "justify_content": null,
            "justify_items": null,
            "left": null,
            "margin": null,
            "max_height": null,
            "max_width": null,
            "min_height": null,
            "min_width": null,
            "object_fit": null,
            "object_position": null,
            "order": null,
            "overflow": null,
            "overflow_x": null,
            "overflow_y": null,
            "padding": null,
            "right": null,
            "top": null,
            "visibility": null,
            "width": null
          }
        },
        "d6410c786f304c5a9d6a1b86ff599749": {
          "model_module": "@jupyter-widgets/controls",
          "model_name": "ProgressStyleModel",
          "model_module_version": "1.5.0",
          "state": {
            "_model_module": "@jupyter-widgets/controls",
            "_model_module_version": "1.5.0",
            "_model_name": "ProgressStyleModel",
            "_view_count": null,
            "_view_module": "@jupyter-widgets/base",
            "_view_module_version": "1.2.0",
            "_view_name": "StyleView",
            "bar_color": null,
            "description_width": ""
          }
        },
        "c95ce68c19044dee8300b8669bb2c96d": {
          "model_module": "@jupyter-widgets/base",
          "model_name": "LayoutModel",
          "model_module_version": "1.2.0",
          "state": {
            "_model_module": "@jupyter-widgets/base",
            "_model_module_version": "1.2.0",
            "_model_name": "LayoutModel",
            "_view_count": null,
            "_view_module": "@jupyter-widgets/base",
            "_view_module_version": "1.2.0",
            "_view_name": "LayoutView",
            "align_content": null,
            "align_items": null,
            "align_self": null,
            "border": null,
            "bottom": null,
            "display": null,
            "flex": null,
            "flex_flow": null,
            "grid_area": null,
            "grid_auto_columns": null,
            "grid_auto_flow": null,
            "grid_auto_rows": null,
            "grid_column": null,
            "grid_gap": null,
            "grid_row": null,
            "grid_template_areas": null,
            "grid_template_columns": null,
            "grid_template_rows": null,
            "height": null,
            "justify_content": null,
            "justify_items": null,
            "left": null,
            "margin": null,
            "max_height": null,
            "max_width": null,
            "min_height": null,
            "min_width": null,
            "object_fit": null,
            "object_position": null,
            "order": null,
            "overflow": null,
            "overflow_x": null,
            "overflow_y": null,
            "padding": null,
            "right": null,
            "top": null,
            "visibility": null,
            "width": null
          }
        },
        "65d27e796d894abaab5c99a9a87d4bf9": {
          "model_module": "@jupyter-widgets/controls",
          "model_name": "DescriptionStyleModel",
          "model_module_version": "1.5.0",
          "state": {
            "_model_module": "@jupyter-widgets/controls",
            "_model_module_version": "1.5.0",
            "_model_name": "DescriptionStyleModel",
            "_view_count": null,
            "_view_module": "@jupyter-widgets/base",
            "_view_module_version": "1.2.0",
            "_view_name": "StyleView",
            "description_width": ""
          }
        },
        "5b859c54d37a4511b140916ec7ce677f": {
          "model_module": "@jupyter-widgets/controls",
          "model_name": "HBoxModel",
          "model_module_version": "1.5.0",
          "state": {
            "_dom_classes": [],
            "_model_module": "@jupyter-widgets/controls",
            "_model_module_version": "1.5.0",
            "_model_name": "HBoxModel",
            "_view_count": null,
            "_view_module": "@jupyter-widgets/controls",
            "_view_module_version": "1.5.0",
            "_view_name": "HBoxView",
            "box_style": "",
            "children": [
              "IPY_MODEL_45ee30f4f7b341d994b01b49369e541d",
              "IPY_MODEL_8b8a1953db914a7cb7422b6903a19908",
              "IPY_MODEL_3ea9e1e104f04bd9ac0d3cecc331a3e7"
            ],
            "layout": "IPY_MODEL_03180cca6a374fc891d842388144a5ff"
          }
        },
        "45ee30f4f7b341d994b01b49369e541d": {
          "model_module": "@jupyter-widgets/controls",
          "model_name": "HTMLModel",
          "model_module_version": "1.5.0",
          "state": {
            "_dom_classes": [],
            "_model_module": "@jupyter-widgets/controls",
            "_model_module_version": "1.5.0",
            "_model_name": "HTMLModel",
            "_view_count": null,
            "_view_module": "@jupyter-widgets/controls",
            "_view_module_version": "1.5.0",
            "_view_name": "HTMLView",
            "description": "",
            "description_tooltip": null,
            "layout": "IPY_MODEL_e7dea72fa8854665ab4d39fa6358ef25",
            "placeholder": "​",
            "style": "IPY_MODEL_802f056844034b9b92ef85a26f2d6e0d",
            "value": "tokenizer.json: 100%"
          }
        },
        "8b8a1953db914a7cb7422b6903a19908": {
          "model_module": "@jupyter-widgets/controls",
          "model_name": "FloatProgressModel",
          "model_module_version": "1.5.0",
          "state": {
            "_dom_classes": [],
            "_model_module": "@jupyter-widgets/controls",
            "_model_module_version": "1.5.0",
            "_model_name": "FloatProgressModel",
            "_view_count": null,
            "_view_module": "@jupyter-widgets/controls",
            "_view_module_version": "1.5.0",
            "_view_name": "ProgressView",
            "bar_style": "success",
            "description": "",
            "description_tooltip": null,
            "layout": "IPY_MODEL_6cce65f13fd547caae7bc87acf1fcec6",
            "max": 1355863,
            "min": 0,
            "orientation": "horizontal",
            "style": "IPY_MODEL_da3a93f0b7c34929a657ba43ff31a229",
            "value": 1355863
          }
        },
        "3ea9e1e104f04bd9ac0d3cecc331a3e7": {
          "model_module": "@jupyter-widgets/controls",
          "model_name": "HTMLModel",
          "model_module_version": "1.5.0",
          "state": {
            "_dom_classes": [],
            "_model_module": "@jupyter-widgets/controls",
            "_model_module_version": "1.5.0",
            "_model_name": "HTMLModel",
            "_view_count": null,
            "_view_module": "@jupyter-widgets/controls",
            "_view_module_version": "1.5.0",
            "_view_name": "HTMLView",
            "description": "",
            "description_tooltip": null,
            "layout": "IPY_MODEL_39adb94a01794ea38e2f7554d16046a1",
            "placeholder": "​",
            "style": "IPY_MODEL_8b95bb1c4f134042812ed36269a7e78e",
            "value": " 1.36M/1.36M [00:00&lt;00:00, 10.7MB/s]"
          }
        },
        "03180cca6a374fc891d842388144a5ff": {
          "model_module": "@jupyter-widgets/base",
          "model_name": "LayoutModel",
          "model_module_version": "1.2.0",
          "state": {
            "_model_module": "@jupyter-widgets/base",
            "_model_module_version": "1.2.0",
            "_model_name": "LayoutModel",
            "_view_count": null,
            "_view_module": "@jupyter-widgets/base",
            "_view_module_version": "1.2.0",
            "_view_name": "LayoutView",
            "align_content": null,
            "align_items": null,
            "align_self": null,
            "border": null,
            "bottom": null,
            "display": null,
            "flex": null,
            "flex_flow": null,
            "grid_area": null,
            "grid_auto_columns": null,
            "grid_auto_flow": null,
            "grid_auto_rows": null,
            "grid_column": null,
            "grid_gap": null,
            "grid_row": null,
            "grid_template_areas": null,
            "grid_template_columns": null,
            "grid_template_rows": null,
            "height": null,
            "justify_content": null,
            "justify_items": null,
            "left": null,
            "margin": null,
            "max_height": null,
            "max_width": null,
            "min_height": null,
            "min_width": null,
            "object_fit": null,
            "object_position": null,
            "order": null,
            "overflow": null,
            "overflow_x": null,
            "overflow_y": null,
            "padding": null,
            "right": null,
            "top": null,
            "visibility": null,
            "width": null
          }
        },
        "e7dea72fa8854665ab4d39fa6358ef25": {
          "model_module": "@jupyter-widgets/base",
          "model_name": "LayoutModel",
          "model_module_version": "1.2.0",
          "state": {
            "_model_module": "@jupyter-widgets/base",
            "_model_module_version": "1.2.0",
            "_model_name": "LayoutModel",
            "_view_count": null,
            "_view_module": "@jupyter-widgets/base",
            "_view_module_version": "1.2.0",
            "_view_name": "LayoutView",
            "align_content": null,
            "align_items": null,
            "align_self": null,
            "border": null,
            "bottom": null,
            "display": null,
            "flex": null,
            "flex_flow": null,
            "grid_area": null,
            "grid_auto_columns": null,
            "grid_auto_flow": null,
            "grid_auto_rows": null,
            "grid_column": null,
            "grid_gap": null,
            "grid_row": null,
            "grid_template_areas": null,
            "grid_template_columns": null,
            "grid_template_rows": null,
            "height": null,
            "justify_content": null,
            "justify_items": null,
            "left": null,
            "margin": null,
            "max_height": null,
            "max_width": null,
            "min_height": null,
            "min_width": null,
            "object_fit": null,
            "object_position": null,
            "order": null,
            "overflow": null,
            "overflow_x": null,
            "overflow_y": null,
            "padding": null,
            "right": null,
            "top": null,
            "visibility": null,
            "width": null
          }
        },
        "802f056844034b9b92ef85a26f2d6e0d": {
          "model_module": "@jupyter-widgets/controls",
          "model_name": "DescriptionStyleModel",
          "model_module_version": "1.5.0",
          "state": {
            "_model_module": "@jupyter-widgets/controls",
            "_model_module_version": "1.5.0",
            "_model_name": "DescriptionStyleModel",
            "_view_count": null,
            "_view_module": "@jupyter-widgets/base",
            "_view_module_version": "1.2.0",
            "_view_name": "StyleView",
            "description_width": ""
          }
        },
        "6cce65f13fd547caae7bc87acf1fcec6": {
          "model_module": "@jupyter-widgets/base",
          "model_name": "LayoutModel",
          "model_module_version": "1.2.0",
          "state": {
            "_model_module": "@jupyter-widgets/base",
            "_model_module_version": "1.2.0",
            "_model_name": "LayoutModel",
            "_view_count": null,
            "_view_module": "@jupyter-widgets/base",
            "_view_module_version": "1.2.0",
            "_view_name": "LayoutView",
            "align_content": null,
            "align_items": null,
            "align_self": null,
            "border": null,
            "bottom": null,
            "display": null,
            "flex": null,
            "flex_flow": null,
            "grid_area": null,
            "grid_auto_columns": null,
            "grid_auto_flow": null,
            "grid_auto_rows": null,
            "grid_column": null,
            "grid_gap": null,
            "grid_row": null,
            "grid_template_areas": null,
            "grid_template_columns": null,
            "grid_template_rows": null,
            "height": null,
            "justify_content": null,
            "justify_items": null,
            "left": null,
            "margin": null,
            "max_height": null,
            "max_width": null,
            "min_height": null,
            "min_width": null,
            "object_fit": null,
            "object_position": null,
            "order": null,
            "overflow": null,
            "overflow_x": null,
            "overflow_y": null,
            "padding": null,
            "right": null,
            "top": null,
            "visibility": null,
            "width": null
          }
        },
        "da3a93f0b7c34929a657ba43ff31a229": {
          "model_module": "@jupyter-widgets/controls",
          "model_name": "ProgressStyleModel",
          "model_module_version": "1.5.0",
          "state": {
            "_model_module": "@jupyter-widgets/controls",
            "_model_module_version": "1.5.0",
            "_model_name": "ProgressStyleModel",
            "_view_count": null,
            "_view_module": "@jupyter-widgets/base",
            "_view_module_version": "1.2.0",
            "_view_name": "StyleView",
            "bar_color": null,
            "description_width": ""
          }
        },
        "39adb94a01794ea38e2f7554d16046a1": {
          "model_module": "@jupyter-widgets/base",
          "model_name": "LayoutModel",
          "model_module_version": "1.2.0",
          "state": {
            "_model_module": "@jupyter-widgets/base",
            "_model_module_version": "1.2.0",
            "_model_name": "LayoutModel",
            "_view_count": null,
            "_view_module": "@jupyter-widgets/base",
            "_view_module_version": "1.2.0",
            "_view_name": "LayoutView",
            "align_content": null,
            "align_items": null,
            "align_self": null,
            "border": null,
            "bottom": null,
            "display": null,
            "flex": null,
            "flex_flow": null,
            "grid_area": null,
            "grid_auto_columns": null,
            "grid_auto_flow": null,
            "grid_auto_rows": null,
            "grid_column": null,
            "grid_gap": null,
            "grid_row": null,
            "grid_template_areas": null,
            "grid_template_columns": null,
            "grid_template_rows": null,
            "height": null,
            "justify_content": null,
            "justify_items": null,
            "left": null,
            "margin": null,
            "max_height": null,
            "max_width": null,
            "min_height": null,
            "min_width": null,
            "object_fit": null,
            "object_position": null,
            "order": null,
            "overflow": null,
            "overflow_x": null,
            "overflow_y": null,
            "padding": null,
            "right": null,
            "top": null,
            "visibility": null,
            "width": null
          }
        },
        "8b95bb1c4f134042812ed36269a7e78e": {
          "model_module": "@jupyter-widgets/controls",
          "model_name": "DescriptionStyleModel",
          "model_module_version": "1.5.0",
          "state": {
            "_model_module": "@jupyter-widgets/controls",
            "_model_module_version": "1.5.0",
            "_model_name": "DescriptionStyleModel",
            "_view_count": null,
            "_view_module": "@jupyter-widgets/base",
            "_view_module_version": "1.2.0",
            "_view_name": "StyleView",
            "description_width": ""
          }
        },
        "5ae742c95f8d42dcbd9f2d9b7a3775ad": {
          "model_module": "@jupyter-widgets/controls",
          "model_name": "HBoxModel",
          "model_module_version": "1.5.0",
          "state": {
            "_dom_classes": [],
            "_model_module": "@jupyter-widgets/controls",
            "_model_module_version": "1.5.0",
            "_model_name": "HBoxModel",
            "_view_count": null,
            "_view_module": "@jupyter-widgets/controls",
            "_view_module_version": "1.5.0",
            "_view_name": "HBoxView",
            "box_style": "",
            "children": [
              "IPY_MODEL_f4c952a928ad431792623dc279590672",
              "IPY_MODEL_a60dc46b646c449bb5a836f578cdb578",
              "IPY_MODEL_4dfce8d688d54807959a7f34ab17d955"
            ],
            "layout": "IPY_MODEL_d5316578347247059c32da9dcc8b9397"
          }
        },
        "f4c952a928ad431792623dc279590672": {
          "model_module": "@jupyter-widgets/controls",
          "model_name": "HTMLModel",
          "model_module_version": "1.5.0",
          "state": {
            "_dom_classes": [],
            "_model_module": "@jupyter-widgets/controls",
            "_model_module_version": "1.5.0",
            "_model_name": "HTMLModel",
            "_view_count": null,
            "_view_module": "@jupyter-widgets/controls",
            "_view_module_version": "1.5.0",
            "_view_name": "HTMLView",
            "description": "",
            "description_tooltip": null,
            "layout": "IPY_MODEL_88c6a7dea57545d8ba35c8f833072090",
            "placeholder": "​",
            "style": "IPY_MODEL_0feaa12aeb9d4604ad7de5c305871d01",
            "value": "model.safetensors: 100%"
          }
        },
        "a60dc46b646c449bb5a836f578cdb578": {
          "model_module": "@jupyter-widgets/controls",
          "model_name": "FloatProgressModel",
          "model_module_version": "1.5.0",
          "state": {
            "_dom_classes": [],
            "_model_module": "@jupyter-widgets/controls",
            "_model_module_version": "1.5.0",
            "_model_name": "FloatProgressModel",
            "_view_count": null,
            "_view_module": "@jupyter-widgets/controls",
            "_view_module_version": "1.5.0",
            "_view_name": "ProgressView",
            "bar_style": "success",
            "description": "",
            "description_tooltip": null,
            "layout": "IPY_MODEL_1c21584f240442d7b743edfd4ff2205a",
            "max": 1421700479,
            "min": 0,
            "orientation": "horizontal",
            "style": "IPY_MODEL_171ba5817dcd4dc19ec5b200f7da9e0e",
            "value": 1421700479
          }
        },
        "4dfce8d688d54807959a7f34ab17d955": {
          "model_module": "@jupyter-widgets/controls",
          "model_name": "HTMLModel",
          "model_module_version": "1.5.0",
          "state": {
            "_dom_classes": [],
            "_model_module": "@jupyter-widgets/controls",
            "_model_module_version": "1.5.0",
            "_model_name": "HTMLModel",
            "_view_count": null,
            "_view_module": "@jupyter-widgets/controls",
            "_view_module_version": "1.5.0",
            "_view_name": "HTMLView",
            "description": "",
            "description_tooltip": null,
            "layout": "IPY_MODEL_7f1ee6cee6dc4228819cb0cd26082461",
            "placeholder": "​",
            "style": "IPY_MODEL_2982f4eec83e469992fc57b79e7c23c3",
            "value": " 1.42G/1.42G [00:09&lt;00:00, 236MB/s]"
          }
        },
        "d5316578347247059c32da9dcc8b9397": {
          "model_module": "@jupyter-widgets/base",
          "model_name": "LayoutModel",
          "model_module_version": "1.2.0",
          "state": {
            "_model_module": "@jupyter-widgets/base",
            "_model_module_version": "1.2.0",
            "_model_name": "LayoutModel",
            "_view_count": null,
            "_view_module": "@jupyter-widgets/base",
            "_view_module_version": "1.2.0",
            "_view_name": "LayoutView",
            "align_content": null,
            "align_items": null,
            "align_self": null,
            "border": null,
            "bottom": null,
            "display": null,
            "flex": null,
            "flex_flow": null,
            "grid_area": null,
            "grid_auto_columns": null,
            "grid_auto_flow": null,
            "grid_auto_rows": null,
            "grid_column": null,
            "grid_gap": null,
            "grid_row": null,
            "grid_template_areas": null,
            "grid_template_columns": null,
            "grid_template_rows": null,
            "height": null,
            "justify_content": null,
            "justify_items": null,
            "left": null,
            "margin": null,
            "max_height": null,
            "max_width": null,
            "min_height": null,
            "min_width": null,
            "object_fit": null,
            "object_position": null,
            "order": null,
            "overflow": null,
            "overflow_x": null,
            "overflow_y": null,
            "padding": null,
            "right": null,
            "top": null,
            "visibility": null,
            "width": null
          }
        },
        "88c6a7dea57545d8ba35c8f833072090": {
          "model_module": "@jupyter-widgets/base",
          "model_name": "LayoutModel",
          "model_module_version": "1.2.0",
          "state": {
            "_model_module": "@jupyter-widgets/base",
            "_model_module_version": "1.2.0",
            "_model_name": "LayoutModel",
            "_view_count": null,
            "_view_module": "@jupyter-widgets/base",
            "_view_module_version": "1.2.0",
            "_view_name": "LayoutView",
            "align_content": null,
            "align_items": null,
            "align_self": null,
            "border": null,
            "bottom": null,
            "display": null,
            "flex": null,
            "flex_flow": null,
            "grid_area": null,
            "grid_auto_columns": null,
            "grid_auto_flow": null,
            "grid_auto_rows": null,
            "grid_column": null,
            "grid_gap": null,
            "grid_row": null,
            "grid_template_areas": null,
            "grid_template_columns": null,
            "grid_template_rows": null,
            "height": null,
            "justify_content": null,
            "justify_items": null,
            "left": null,
            "margin": null,
            "max_height": null,
            "max_width": null,
            "min_height": null,
            "min_width": null,
            "object_fit": null,
            "object_position": null,
            "order": null,
            "overflow": null,
            "overflow_x": null,
            "overflow_y": null,
            "padding": null,
            "right": null,
            "top": null,
            "visibility": null,
            "width": null
          }
        },
        "0feaa12aeb9d4604ad7de5c305871d01": {
          "model_module": "@jupyter-widgets/controls",
          "model_name": "DescriptionStyleModel",
          "model_module_version": "1.5.0",
          "state": {
            "_model_module": "@jupyter-widgets/controls",
            "_model_module_version": "1.5.0",
            "_model_name": "DescriptionStyleModel",
            "_view_count": null,
            "_view_module": "@jupyter-widgets/base",
            "_view_module_version": "1.2.0",
            "_view_name": "StyleView",
            "description_width": ""
          }
        },
        "1c21584f240442d7b743edfd4ff2205a": {
          "model_module": "@jupyter-widgets/base",
          "model_name": "LayoutModel",
          "model_module_version": "1.2.0",
          "state": {
            "_model_module": "@jupyter-widgets/base",
            "_model_module_version": "1.2.0",
            "_model_name": "LayoutModel",
            "_view_count": null,
            "_view_module": "@jupyter-widgets/base",
            "_view_module_version": "1.2.0",
            "_view_name": "LayoutView",
            "align_content": null,
            "align_items": null,
            "align_self": null,
            "border": null,
            "bottom": null,
            "display": null,
            "flex": null,
            "flex_flow": null,
            "grid_area": null,
            "grid_auto_columns": null,
            "grid_auto_flow": null,
            "grid_auto_rows": null,
            "grid_column": null,
            "grid_gap": null,
            "grid_row": null,
            "grid_template_areas": null,
            "grid_template_columns": null,
            "grid_template_rows": null,
            "height": null,
            "justify_content": null,
            "justify_items": null,
            "left": null,
            "margin": null,
            "max_height": null,
            "max_width": null,
            "min_height": null,
            "min_width": null,
            "object_fit": null,
            "object_position": null,
            "order": null,
            "overflow": null,
            "overflow_x": null,
            "overflow_y": null,
            "padding": null,
            "right": null,
            "top": null,
            "visibility": null,
            "width": null
          }
        },
        "171ba5817dcd4dc19ec5b200f7da9e0e": {
          "model_module": "@jupyter-widgets/controls",
          "model_name": "ProgressStyleModel",
          "model_module_version": "1.5.0",
          "state": {
            "_model_module": "@jupyter-widgets/controls",
            "_model_module_version": "1.5.0",
            "_model_name": "ProgressStyleModel",
            "_view_count": null,
            "_view_module": "@jupyter-widgets/base",
            "_view_module_version": "1.2.0",
            "_view_name": "StyleView",
            "bar_color": null,
            "description_width": ""
          }
        },
        "7f1ee6cee6dc4228819cb0cd26082461": {
          "model_module": "@jupyter-widgets/base",
          "model_name": "LayoutModel",
          "model_module_version": "1.2.0",
          "state": {
            "_model_module": "@jupyter-widgets/base",
            "_model_module_version": "1.2.0",
            "_model_name": "LayoutModel",
            "_view_count": null,
            "_view_module": "@jupyter-widgets/base",
            "_view_module_version": "1.2.0",
            "_view_name": "LayoutView",
            "align_content": null,
            "align_items": null,
            "align_self": null,
            "border": null,
            "bottom": null,
            "display": null,
            "flex": null,
            "flex_flow": null,
            "grid_area": null,
            "grid_auto_columns": null,
            "grid_auto_flow": null,
            "grid_auto_rows": null,
            "grid_column": null,
            "grid_gap": null,
            "grid_row": null,
            "grid_template_areas": null,
            "grid_template_columns": null,
            "grid_template_rows": null,
            "height": null,
            "justify_content": null,
            "justify_items": null,
            "left": null,
            "margin": null,
            "max_height": null,
            "max_width": null,
            "min_height": null,
            "min_width": null,
            "object_fit": null,
            "object_position": null,
            "order": null,
            "overflow": null,
            "overflow_x": null,
            "overflow_y": null,
            "padding": null,
            "right": null,
            "top": null,
            "visibility": null,
            "width": null
          }
        },
        "2982f4eec83e469992fc57b79e7c23c3": {
          "model_module": "@jupyter-widgets/controls",
          "model_name": "DescriptionStyleModel",
          "model_module_version": "1.5.0",
          "state": {
            "_model_module": "@jupyter-widgets/controls",
            "_model_module_version": "1.5.0",
            "_model_name": "DescriptionStyleModel",
            "_view_count": null,
            "_view_module": "@jupyter-widgets/base",
            "_view_module_version": "1.2.0",
            "_view_name": "StyleView",
            "description_width": ""
          }
        },
        "b57ae3353c7c40b18027981dd8c557f5": {
          "model_module": "@jupyter-widgets/controls",
          "model_name": "HBoxModel",
          "model_module_version": "1.5.0",
          "state": {
            "_dom_classes": [],
            "_model_module": "@jupyter-widgets/controls",
            "_model_module_version": "1.5.0",
            "_model_name": "HBoxModel",
            "_view_count": null,
            "_view_module": "@jupyter-widgets/controls",
            "_view_module_version": "1.5.0",
            "_view_name": "HBoxView",
            "box_style": "",
            "children": [
              "IPY_MODEL_a27ac128c8bc475ba21f48ce1912316d",
              "IPY_MODEL_ac835c2c17dd42bab808cde5cb5fec8b",
              "IPY_MODEL_1f6fde93f1494300885973dddd6163f3"
            ],
            "layout": "IPY_MODEL_96eb7098fa504cb49636aedaf078cd95"
          }
        },
        "a27ac128c8bc475ba21f48ce1912316d": {
          "model_module": "@jupyter-widgets/controls",
          "model_name": "HTMLModel",
          "model_module_version": "1.5.0",
          "state": {
            "_dom_classes": [],
            "_model_module": "@jupyter-widgets/controls",
            "_model_module_version": "1.5.0",
            "_model_name": "HTMLModel",
            "_view_count": null,
            "_view_module": "@jupyter-widgets/controls",
            "_view_module_version": "1.5.0",
            "_view_name": "HTMLView",
            "description": "",
            "description_tooltip": null,
            "layout": "IPY_MODEL_36f49f58f74647f49a65caa02c3354a5",
            "placeholder": "​",
            "style": "IPY_MODEL_6a994b5dd2eb4237aeb3bd7502fd59f2",
            "value": "100%"
          }
        },
        "ac835c2c17dd42bab808cde5cb5fec8b": {
          "model_module": "@jupyter-widgets/controls",
          "model_name": "FloatProgressModel",
          "model_module_version": "1.5.0",
          "state": {
            "_dom_classes": [],
            "_model_module": "@jupyter-widgets/controls",
            "_model_module_version": "1.5.0",
            "_model_name": "FloatProgressModel",
            "_view_count": null,
            "_view_module": "@jupyter-widgets/controls",
            "_view_module_version": "1.5.0",
            "_view_name": "ProgressView",
            "bar_style": "success",
            "description": "",
            "description_tooltip": null,
            "layout": "IPY_MODEL_be5b64666b6a4740bac42f00cb29c394",
            "max": 7,
            "min": 0,
            "orientation": "horizontal",
            "style": "IPY_MODEL_d36220a6b80c4c4589a74c37a50b79bb",
            "value": 7
          }
        },
        "1f6fde93f1494300885973dddd6163f3": {
          "model_module": "@jupyter-widgets/controls",
          "model_name": "HTMLModel",
          "model_module_version": "1.5.0",
          "state": {
            "_dom_classes": [],
            "_model_module": "@jupyter-widgets/controls",
            "_model_module_version": "1.5.0",
            "_model_name": "HTMLModel",
            "_view_count": null,
            "_view_module": "@jupyter-widgets/controls",
            "_view_module_version": "1.5.0",
            "_view_name": "HTMLView",
            "description": "",
            "description_tooltip": null,
            "layout": "IPY_MODEL_93a8d63d0d4844cc8f6c418c67a7c7cd",
            "placeholder": "​",
            "style": "IPY_MODEL_08df996d30804d1a81142e0aa535b0d3",
            "value": " 7/7 [00:01&lt;00:00,  5.09it/s]"
          }
        },
        "96eb7098fa504cb49636aedaf078cd95": {
          "model_module": "@jupyter-widgets/base",
          "model_name": "LayoutModel",
          "model_module_version": "1.2.0",
          "state": {
            "_model_module": "@jupyter-widgets/base",
            "_model_module_version": "1.2.0",
            "_model_name": "LayoutModel",
            "_view_count": null,
            "_view_module": "@jupyter-widgets/base",
            "_view_module_version": "1.2.0",
            "_view_name": "LayoutView",
            "align_content": null,
            "align_items": null,
            "align_self": null,
            "border": null,
            "bottom": null,
            "display": null,
            "flex": null,
            "flex_flow": null,
            "grid_area": null,
            "grid_auto_columns": null,
            "grid_auto_flow": null,
            "grid_auto_rows": null,
            "grid_column": null,
            "grid_gap": null,
            "grid_row": null,
            "grid_template_areas": null,
            "grid_template_columns": null,
            "grid_template_rows": null,
            "height": null,
            "justify_content": null,
            "justify_items": null,
            "left": null,
            "margin": null,
            "max_height": null,
            "max_width": null,
            "min_height": null,
            "min_width": null,
            "object_fit": null,
            "object_position": null,
            "order": null,
            "overflow": null,
            "overflow_x": null,
            "overflow_y": null,
            "padding": null,
            "right": null,
            "top": null,
            "visibility": null,
            "width": null
          }
        },
        "36f49f58f74647f49a65caa02c3354a5": {
          "model_module": "@jupyter-widgets/base",
          "model_name": "LayoutModel",
          "model_module_version": "1.2.0",
          "state": {
            "_model_module": "@jupyter-widgets/base",
            "_model_module_version": "1.2.0",
            "_model_name": "LayoutModel",
            "_view_count": null,
            "_view_module": "@jupyter-widgets/base",
            "_view_module_version": "1.2.0",
            "_view_name": "LayoutView",
            "align_content": null,
            "align_items": null,
            "align_self": null,
            "border": null,
            "bottom": null,
            "display": null,
            "flex": null,
            "flex_flow": null,
            "grid_area": null,
            "grid_auto_columns": null,
            "grid_auto_flow": null,
            "grid_auto_rows": null,
            "grid_column": null,
            "grid_gap": null,
            "grid_row": null,
            "grid_template_areas": null,
            "grid_template_columns": null,
            "grid_template_rows": null,
            "height": null,
            "justify_content": null,
            "justify_items": null,
            "left": null,
            "margin": null,
            "max_height": null,
            "max_width": null,
            "min_height": null,
            "min_width": null,
            "object_fit": null,
            "object_position": null,
            "order": null,
            "overflow": null,
            "overflow_x": null,
            "overflow_y": null,
            "padding": null,
            "right": null,
            "top": null,
            "visibility": null,
            "width": null
          }
        },
        "6a994b5dd2eb4237aeb3bd7502fd59f2": {
          "model_module": "@jupyter-widgets/controls",
          "model_name": "DescriptionStyleModel",
          "model_module_version": "1.5.0",
          "state": {
            "_model_module": "@jupyter-widgets/controls",
            "_model_module_version": "1.5.0",
            "_model_name": "DescriptionStyleModel",
            "_view_count": null,
            "_view_module": "@jupyter-widgets/base",
            "_view_module_version": "1.2.0",
            "_view_name": "StyleView",
            "description_width": ""
          }
        },
        "be5b64666b6a4740bac42f00cb29c394": {
          "model_module": "@jupyter-widgets/base",
          "model_name": "LayoutModel",
          "model_module_version": "1.2.0",
          "state": {
            "_model_module": "@jupyter-widgets/base",
            "_model_module_version": "1.2.0",
            "_model_name": "LayoutModel",
            "_view_count": null,
            "_view_module": "@jupyter-widgets/base",
            "_view_module_version": "1.2.0",
            "_view_name": "LayoutView",
            "align_content": null,
            "align_items": null,
            "align_self": null,
            "border": null,
            "bottom": null,
            "display": null,
            "flex": null,
            "flex_flow": null,
            "grid_area": null,
            "grid_auto_columns": null,
            "grid_auto_flow": null,
            "grid_auto_rows": null,
            "grid_column": null,
            "grid_gap": null,
            "grid_row": null,
            "grid_template_areas": null,
            "grid_template_columns": null,
            "grid_template_rows": null,
            "height": null,
            "justify_content": null,
            "justify_items": null,
            "left": null,
            "margin": null,
            "max_height": null,
            "max_width": null,
            "min_height": null,
            "min_width": null,
            "object_fit": null,
            "object_position": null,
            "order": null,
            "overflow": null,
            "overflow_x": null,
            "overflow_y": null,
            "padding": null,
            "right": null,
            "top": null,
            "visibility": null,
            "width": null
          }
        },
        "d36220a6b80c4c4589a74c37a50b79bb": {
          "model_module": "@jupyter-widgets/controls",
          "model_name": "ProgressStyleModel",
          "model_module_version": "1.5.0",
          "state": {
            "_model_module": "@jupyter-widgets/controls",
            "_model_module_version": "1.5.0",
            "_model_name": "ProgressStyleModel",
            "_view_count": null,
            "_view_module": "@jupyter-widgets/base",
            "_view_module_version": "1.2.0",
            "_view_name": "StyleView",
            "bar_color": null,
            "description_width": ""
          }
        },
        "93a8d63d0d4844cc8f6c418c67a7c7cd": {
          "model_module": "@jupyter-widgets/base",
          "model_name": "LayoutModel",
          "model_module_version": "1.2.0",
          "state": {
            "_model_module": "@jupyter-widgets/base",
            "_model_module_version": "1.2.0",
            "_model_name": "LayoutModel",
            "_view_count": null,
            "_view_module": "@jupyter-widgets/base",
            "_view_module_version": "1.2.0",
            "_view_name": "LayoutView",
            "align_content": null,
            "align_items": null,
            "align_self": null,
            "border": null,
            "bottom": null,
            "display": null,
            "flex": null,
            "flex_flow": null,
            "grid_area": null,
            "grid_auto_columns": null,
            "grid_auto_flow": null,
            "grid_auto_rows": null,
            "grid_column": null,
            "grid_gap": null,
            "grid_row": null,
            "grid_template_areas": null,
            "grid_template_columns": null,
            "grid_template_rows": null,
            "height": null,
            "justify_content": null,
            "justify_items": null,
            "left": null,
            "margin": null,
            "max_height": null,
            "max_width": null,
            "min_height": null,
            "min_width": null,
            "object_fit": null,
            "object_position": null,
            "order": null,
            "overflow": null,
            "overflow_x": null,
            "overflow_y": null,
            "padding": null,
            "right": null,
            "top": null,
            "visibility": null,
            "width": null
          }
        },
        "08df996d30804d1a81142e0aa535b0d3": {
          "model_module": "@jupyter-widgets/controls",
          "model_name": "DescriptionStyleModel",
          "model_module_version": "1.5.0",
          "state": {
            "_model_module": "@jupyter-widgets/controls",
            "_model_module_version": "1.5.0",
            "_model_name": "DescriptionStyleModel",
            "_view_count": null,
            "_view_module": "@jupyter-widgets/base",
            "_view_module_version": "1.2.0",
            "_view_name": "StyleView",
            "description_width": ""
          }
        },
        "1a8a4c44ae174adf9e1a24542fa8cd73": {
          "model_module": "@jupyter-widgets/controls",
          "model_name": "HBoxModel",
          "model_module_version": "1.5.0",
          "state": {
            "_dom_classes": [],
            "_model_module": "@jupyter-widgets/controls",
            "_model_module_version": "1.5.0",
            "_model_name": "HBoxModel",
            "_view_count": null,
            "_view_module": "@jupyter-widgets/controls",
            "_view_module_version": "1.5.0",
            "_view_name": "HBoxView",
            "box_style": "",
            "children": [
              "IPY_MODEL_5e100dc4471c4295aa13a636be04afc6",
              "IPY_MODEL_97aa4438037a481da00cab5695573d33",
              "IPY_MODEL_a5967c81e51d499eb0b80410ad995ec6"
            ],
            "layout": "IPY_MODEL_baffc0726a13422c9172707fcaf1b247"
          }
        },
        "5e100dc4471c4295aa13a636be04afc6": {
          "model_module": "@jupyter-widgets/controls",
          "model_name": "HTMLModel",
          "model_module_version": "1.5.0",
          "state": {
            "_dom_classes": [],
            "_model_module": "@jupyter-widgets/controls",
            "_model_module_version": "1.5.0",
            "_model_name": "HTMLModel",
            "_view_count": null,
            "_view_module": "@jupyter-widgets/controls",
            "_view_module_version": "1.5.0",
            "_view_name": "HTMLView",
            "description": "",
            "description_tooltip": null,
            "layout": "IPY_MODEL_0de8be2eaf45449c81f759e7f5e41c92",
            "placeholder": "​",
            "style": "IPY_MODEL_5f61d56f49e642ebabc1c7268b50956c",
            "value": "100%"
          }
        },
        "97aa4438037a481da00cab5695573d33": {
          "model_module": "@jupyter-widgets/controls",
          "model_name": "FloatProgressModel",
          "model_module_version": "1.5.0",
          "state": {
            "_dom_classes": [],
            "_model_module": "@jupyter-widgets/controls",
            "_model_module_version": "1.5.0",
            "_model_name": "FloatProgressModel",
            "_view_count": null,
            "_view_module": "@jupyter-widgets/controls",
            "_view_module_version": "1.5.0",
            "_view_name": "ProgressView",
            "bar_style": "success",
            "description": "",
            "description_tooltip": null,
            "layout": "IPY_MODEL_86262f5370764b6c9472ede58e5c32e6",
            "max": 4,
            "min": 0,
            "orientation": "horizontal",
            "style": "IPY_MODEL_9c6237a4514f4c858a3479e14a364342",
            "value": 4
          }
        },
        "a5967c81e51d499eb0b80410ad995ec6": {
          "model_module": "@jupyter-widgets/controls",
          "model_name": "HTMLModel",
          "model_module_version": "1.5.0",
          "state": {
            "_dom_classes": [],
            "_model_module": "@jupyter-widgets/controls",
            "_model_module_version": "1.5.0",
            "_model_name": "HTMLModel",
            "_view_count": null,
            "_view_module": "@jupyter-widgets/controls",
            "_view_module_version": "1.5.0",
            "_view_name": "HTMLView",
            "description": "",
            "description_tooltip": null,
            "layout": "IPY_MODEL_758a076cf74e4845aa6365dfe360a0ed",
            "placeholder": "​",
            "style": "IPY_MODEL_c44dcbcd45f34e8cbb72d3bab20c39b2",
            "value": " 4/4 [00:00&lt;00:00,  7.20it/s]"
          }
        },
        "baffc0726a13422c9172707fcaf1b247": {
          "model_module": "@jupyter-widgets/base",
          "model_name": "LayoutModel",
          "model_module_version": "1.2.0",
          "state": {
            "_model_module": "@jupyter-widgets/base",
            "_model_module_version": "1.2.0",
            "_model_name": "LayoutModel",
            "_view_count": null,
            "_view_module": "@jupyter-widgets/base",
            "_view_module_version": "1.2.0",
            "_view_name": "LayoutView",
            "align_content": null,
            "align_items": null,
            "align_self": null,
            "border": null,
            "bottom": null,
            "display": null,
            "flex": null,
            "flex_flow": null,
            "grid_area": null,
            "grid_auto_columns": null,
            "grid_auto_flow": null,
            "grid_auto_rows": null,
            "grid_column": null,
            "grid_gap": null,
            "grid_row": null,
            "grid_template_areas": null,
            "grid_template_columns": null,
            "grid_template_rows": null,
            "height": null,
            "justify_content": null,
            "justify_items": null,
            "left": null,
            "margin": null,
            "max_height": null,
            "max_width": null,
            "min_height": null,
            "min_width": null,
            "object_fit": null,
            "object_position": null,
            "order": null,
            "overflow": null,
            "overflow_x": null,
            "overflow_y": null,
            "padding": null,
            "right": null,
            "top": null,
            "visibility": null,
            "width": null
          }
        },
        "0de8be2eaf45449c81f759e7f5e41c92": {
          "model_module": "@jupyter-widgets/base",
          "model_name": "LayoutModel",
          "model_module_version": "1.2.0",
          "state": {
            "_model_module": "@jupyter-widgets/base",
            "_model_module_version": "1.2.0",
            "_model_name": "LayoutModel",
            "_view_count": null,
            "_view_module": "@jupyter-widgets/base",
            "_view_module_version": "1.2.0",
            "_view_name": "LayoutView",
            "align_content": null,
            "align_items": null,
            "align_self": null,
            "border": null,
            "bottom": null,
            "display": null,
            "flex": null,
            "flex_flow": null,
            "grid_area": null,
            "grid_auto_columns": null,
            "grid_auto_flow": null,
            "grid_auto_rows": null,
            "grid_column": null,
            "grid_gap": null,
            "grid_row": null,
            "grid_template_areas": null,
            "grid_template_columns": null,
            "grid_template_rows": null,
            "height": null,
            "justify_content": null,
            "justify_items": null,
            "left": null,
            "margin": null,
            "max_height": null,
            "max_width": null,
            "min_height": null,
            "min_width": null,
            "object_fit": null,
            "object_position": null,
            "order": null,
            "overflow": null,
            "overflow_x": null,
            "overflow_y": null,
            "padding": null,
            "right": null,
            "top": null,
            "visibility": null,
            "width": null
          }
        },
        "5f61d56f49e642ebabc1c7268b50956c": {
          "model_module": "@jupyter-widgets/controls",
          "model_name": "DescriptionStyleModel",
          "model_module_version": "1.5.0",
          "state": {
            "_model_module": "@jupyter-widgets/controls",
            "_model_module_version": "1.5.0",
            "_model_name": "DescriptionStyleModel",
            "_view_count": null,
            "_view_module": "@jupyter-widgets/base",
            "_view_module_version": "1.2.0",
            "_view_name": "StyleView",
            "description_width": ""
          }
        },
        "86262f5370764b6c9472ede58e5c32e6": {
          "model_module": "@jupyter-widgets/base",
          "model_name": "LayoutModel",
          "model_module_version": "1.2.0",
          "state": {
            "_model_module": "@jupyter-widgets/base",
            "_model_module_version": "1.2.0",
            "_model_name": "LayoutModel",
            "_view_count": null,
            "_view_module": "@jupyter-widgets/base",
            "_view_module_version": "1.2.0",
            "_view_name": "LayoutView",
            "align_content": null,
            "align_items": null,
            "align_self": null,
            "border": null,
            "bottom": null,
            "display": null,
            "flex": null,
            "flex_flow": null,
            "grid_area": null,
            "grid_auto_columns": null,
            "grid_auto_flow": null,
            "grid_auto_rows": null,
            "grid_column": null,
            "grid_gap": null,
            "grid_row": null,
            "grid_template_areas": null,
            "grid_template_columns": null,
            "grid_template_rows": null,
            "height": null,
            "justify_content": null,
            "justify_items": null,
            "left": null,
            "margin": null,
            "max_height": null,
            "max_width": null,
            "min_height": null,
            "min_width": null,
            "object_fit": null,
            "object_position": null,
            "order": null,
            "overflow": null,
            "overflow_x": null,
            "overflow_y": null,
            "padding": null,
            "right": null,
            "top": null,
            "visibility": null,
            "width": null
          }
        },
        "9c6237a4514f4c858a3479e14a364342": {
          "model_module": "@jupyter-widgets/controls",
          "model_name": "ProgressStyleModel",
          "model_module_version": "1.5.0",
          "state": {
            "_model_module": "@jupyter-widgets/controls",
            "_model_module_version": "1.5.0",
            "_model_name": "ProgressStyleModel",
            "_view_count": null,
            "_view_module": "@jupyter-widgets/base",
            "_view_module_version": "1.2.0",
            "_view_name": "StyleView",
            "bar_color": null,
            "description_width": ""
          }
        },
        "758a076cf74e4845aa6365dfe360a0ed": {
          "model_module": "@jupyter-widgets/base",
          "model_name": "LayoutModel",
          "model_module_version": "1.2.0",
          "state": {
            "_model_module": "@jupyter-widgets/base",
            "_model_module_version": "1.2.0",
            "_model_name": "LayoutModel",
            "_view_count": null,
            "_view_module": "@jupyter-widgets/base",
            "_view_module_version": "1.2.0",
            "_view_name": "LayoutView",
            "align_content": null,
            "align_items": null,
            "align_self": null,
            "border": null,
            "bottom": null,
            "display": null,
            "flex": null,
            "flex_flow": null,
            "grid_area": null,
            "grid_auto_columns": null,
            "grid_auto_flow": null,
            "grid_auto_rows": null,
            "grid_column": null,
            "grid_gap": null,
            "grid_row": null,
            "grid_template_areas": null,
            "grid_template_columns": null,
            "grid_template_rows": null,
            "height": null,
            "justify_content": null,
            "justify_items": null,
            "left": null,
            "margin": null,
            "max_height": null,
            "max_width": null,
            "min_height": null,
            "min_width": null,
            "object_fit": null,
            "object_position": null,
            "order": null,
            "overflow": null,
            "overflow_x": null,
            "overflow_y": null,
            "padding": null,
            "right": null,
            "top": null,
            "visibility": null,
            "width": null
          }
        },
        "c44dcbcd45f34e8cbb72d3bab20c39b2": {
          "model_module": "@jupyter-widgets/controls",
          "model_name": "DescriptionStyleModel",
          "model_module_version": "1.5.0",
          "state": {
            "_model_module": "@jupyter-widgets/controls",
            "_model_module_version": "1.5.0",
            "_model_name": "DescriptionStyleModel",
            "_view_count": null,
            "_view_module": "@jupyter-widgets/base",
            "_view_module_version": "1.2.0",
            "_view_name": "StyleView",
            "description_width": ""
          }
        },
        "b6f7c4270d484a0f9f0ea23c88095b67": {
          "model_module": "@jupyter-widgets/controls",
          "model_name": "HBoxModel",
          "model_module_version": "1.5.0",
          "state": {
            "_dom_classes": [],
            "_model_module": "@jupyter-widgets/controls",
            "_model_module_version": "1.5.0",
            "_model_name": "HBoxModel",
            "_view_count": null,
            "_view_module": "@jupyter-widgets/controls",
            "_view_module_version": "1.5.0",
            "_view_name": "HBoxView",
            "box_style": "",
            "children": [
              "IPY_MODEL_ce5a927af1794fd0932293dae070015b",
              "IPY_MODEL_ca4f7fd455dd4e94803ced91c7769b76",
              "IPY_MODEL_81899db11d09474cb38fa69934fa9247"
            ],
            "layout": "IPY_MODEL_9fa5e6ef685f41f99a6f1b171dc8c0cf"
          }
        },
        "ce5a927af1794fd0932293dae070015b": {
          "model_module": "@jupyter-widgets/controls",
          "model_name": "HTMLModel",
          "model_module_version": "1.5.0",
          "state": {
            "_dom_classes": [],
            "_model_module": "@jupyter-widgets/controls",
            "_model_module_version": "1.5.0",
            "_model_name": "HTMLModel",
            "_view_count": null,
            "_view_module": "@jupyter-widgets/controls",
            "_view_module_version": "1.5.0",
            "_view_name": "HTMLView",
            "description": "",
            "description_tooltip": null,
            "layout": "IPY_MODEL_5957155674744485852271ae0ff27ca0",
            "placeholder": "​",
            "style": "IPY_MODEL_7b5a127fe20745aeb178c5e280476f91",
            "value": "100%"
          }
        },
        "ca4f7fd455dd4e94803ced91c7769b76": {
          "model_module": "@jupyter-widgets/controls",
          "model_name": "FloatProgressModel",
          "model_module_version": "1.5.0",
          "state": {
            "_dom_classes": [],
            "_model_module": "@jupyter-widgets/controls",
            "_model_module_version": "1.5.0",
            "_model_name": "FloatProgressModel",
            "_view_count": null,
            "_view_module": "@jupyter-widgets/controls",
            "_view_module_version": "1.5.0",
            "_view_name": "ProgressView",
            "bar_style": "success",
            "description": "",
            "description_tooltip": null,
            "layout": "IPY_MODEL_3b545e86a40147b0ad11d61869b35744",
            "max": 7,
            "min": 0,
            "orientation": "horizontal",
            "style": "IPY_MODEL_2a3c3044edcd43e7b91139faf1ce8981",
            "value": 7
          }
        },
        "81899db11d09474cb38fa69934fa9247": {
          "model_module": "@jupyter-widgets/controls",
          "model_name": "HTMLModel",
          "model_module_version": "1.5.0",
          "state": {
            "_dom_classes": [],
            "_model_module": "@jupyter-widgets/controls",
            "_model_module_version": "1.5.0",
            "_model_name": "HTMLModel",
            "_view_count": null,
            "_view_module": "@jupyter-widgets/controls",
            "_view_module_version": "1.5.0",
            "_view_name": "HTMLView",
            "description": "",
            "description_tooltip": null,
            "layout": "IPY_MODEL_70ae4b252ad44d0d9af42b0eb159ac4c",
            "placeholder": "​",
            "style": "IPY_MODEL_88e880a98b7541b7bc8d1a0537c35bb2",
            "value": " 7/7 [00:01&lt;00:00,  5.33it/s]"
          }
        },
        "9fa5e6ef685f41f99a6f1b171dc8c0cf": {
          "model_module": "@jupyter-widgets/base",
          "model_name": "LayoutModel",
          "model_module_version": "1.2.0",
          "state": {
            "_model_module": "@jupyter-widgets/base",
            "_model_module_version": "1.2.0",
            "_model_name": "LayoutModel",
            "_view_count": null,
            "_view_module": "@jupyter-widgets/base",
            "_view_module_version": "1.2.0",
            "_view_name": "LayoutView",
            "align_content": null,
            "align_items": null,
            "align_self": null,
            "border": null,
            "bottom": null,
            "display": null,
            "flex": null,
            "flex_flow": null,
            "grid_area": null,
            "grid_auto_columns": null,
            "grid_auto_flow": null,
            "grid_auto_rows": null,
            "grid_column": null,
            "grid_gap": null,
            "grid_row": null,
            "grid_template_areas": null,
            "grid_template_columns": null,
            "grid_template_rows": null,
            "height": null,
            "justify_content": null,
            "justify_items": null,
            "left": null,
            "margin": null,
            "max_height": null,
            "max_width": null,
            "min_height": null,
            "min_width": null,
            "object_fit": null,
            "object_position": null,
            "order": null,
            "overflow": null,
            "overflow_x": null,
            "overflow_y": null,
            "padding": null,
            "right": null,
            "top": null,
            "visibility": null,
            "width": null
          }
        },
        "5957155674744485852271ae0ff27ca0": {
          "model_module": "@jupyter-widgets/base",
          "model_name": "LayoutModel",
          "model_module_version": "1.2.0",
          "state": {
            "_model_module": "@jupyter-widgets/base",
            "_model_module_version": "1.2.0",
            "_model_name": "LayoutModel",
            "_view_count": null,
            "_view_module": "@jupyter-widgets/base",
            "_view_module_version": "1.2.0",
            "_view_name": "LayoutView",
            "align_content": null,
            "align_items": null,
            "align_self": null,
            "border": null,
            "bottom": null,
            "display": null,
            "flex": null,
            "flex_flow": null,
            "grid_area": null,
            "grid_auto_columns": null,
            "grid_auto_flow": null,
            "grid_auto_rows": null,
            "grid_column": null,
            "grid_gap": null,
            "grid_row": null,
            "grid_template_areas": null,
            "grid_template_columns": null,
            "grid_template_rows": null,
            "height": null,
            "justify_content": null,
            "justify_items": null,
            "left": null,
            "margin": null,
            "max_height": null,
            "max_width": null,
            "min_height": null,
            "min_width": null,
            "object_fit": null,
            "object_position": null,
            "order": null,
            "overflow": null,
            "overflow_x": null,
            "overflow_y": null,
            "padding": null,
            "right": null,
            "top": null,
            "visibility": null,
            "width": null
          }
        },
        "7b5a127fe20745aeb178c5e280476f91": {
          "model_module": "@jupyter-widgets/controls",
          "model_name": "DescriptionStyleModel",
          "model_module_version": "1.5.0",
          "state": {
            "_model_module": "@jupyter-widgets/controls",
            "_model_module_version": "1.5.0",
            "_model_name": "DescriptionStyleModel",
            "_view_count": null,
            "_view_module": "@jupyter-widgets/base",
            "_view_module_version": "1.2.0",
            "_view_name": "StyleView",
            "description_width": ""
          }
        },
        "3b545e86a40147b0ad11d61869b35744": {
          "model_module": "@jupyter-widgets/base",
          "model_name": "LayoutModel",
          "model_module_version": "1.2.0",
          "state": {
            "_model_module": "@jupyter-widgets/base",
            "_model_module_version": "1.2.0",
            "_model_name": "LayoutModel",
            "_view_count": null,
            "_view_module": "@jupyter-widgets/base",
            "_view_module_version": "1.2.0",
            "_view_name": "LayoutView",
            "align_content": null,
            "align_items": null,
            "align_self": null,
            "border": null,
            "bottom": null,
            "display": null,
            "flex": null,
            "flex_flow": null,
            "grid_area": null,
            "grid_auto_columns": null,
            "grid_auto_flow": null,
            "grid_auto_rows": null,
            "grid_column": null,
            "grid_gap": null,
            "grid_row": null,
            "grid_template_areas": null,
            "grid_template_columns": null,
            "grid_template_rows": null,
            "height": null,
            "justify_content": null,
            "justify_items": null,
            "left": null,
            "margin": null,
            "max_height": null,
            "max_width": null,
            "min_height": null,
            "min_width": null,
            "object_fit": null,
            "object_position": null,
            "order": null,
            "overflow": null,
            "overflow_x": null,
            "overflow_y": null,
            "padding": null,
            "right": null,
            "top": null,
            "visibility": null,
            "width": null
          }
        },
        "2a3c3044edcd43e7b91139faf1ce8981": {
          "model_module": "@jupyter-widgets/controls",
          "model_name": "ProgressStyleModel",
          "model_module_version": "1.5.0",
          "state": {
            "_model_module": "@jupyter-widgets/controls",
            "_model_module_version": "1.5.0",
            "_model_name": "ProgressStyleModel",
            "_view_count": null,
            "_view_module": "@jupyter-widgets/base",
            "_view_module_version": "1.2.0",
            "_view_name": "StyleView",
            "bar_color": null,
            "description_width": ""
          }
        },
        "70ae4b252ad44d0d9af42b0eb159ac4c": {
          "model_module": "@jupyter-widgets/base",
          "model_name": "LayoutModel",
          "model_module_version": "1.2.0",
          "state": {
            "_model_module": "@jupyter-widgets/base",
            "_model_module_version": "1.2.0",
            "_model_name": "LayoutModel",
            "_view_count": null,
            "_view_module": "@jupyter-widgets/base",
            "_view_module_version": "1.2.0",
            "_view_name": "LayoutView",
            "align_content": null,
            "align_items": null,
            "align_self": null,
            "border": null,
            "bottom": null,
            "display": null,
            "flex": null,
            "flex_flow": null,
            "grid_area": null,
            "grid_auto_columns": null,
            "grid_auto_flow": null,
            "grid_auto_rows": null,
            "grid_column": null,
            "grid_gap": null,
            "grid_row": null,
            "grid_template_areas": null,
            "grid_template_columns": null,
            "grid_template_rows": null,
            "height": null,
            "justify_content": null,
            "justify_items": null,
            "left": null,
            "margin": null,
            "max_height": null,
            "max_width": null,
            "min_height": null,
            "min_width": null,
            "object_fit": null,
            "object_position": null,
            "order": null,
            "overflow": null,
            "overflow_x": null,
            "overflow_y": null,
            "padding": null,
            "right": null,
            "top": null,
            "visibility": null,
            "width": null
          }
        },
        "88e880a98b7541b7bc8d1a0537c35bb2": {
          "model_module": "@jupyter-widgets/controls",
          "model_name": "DescriptionStyleModel",
          "model_module_version": "1.5.0",
          "state": {
            "_model_module": "@jupyter-widgets/controls",
            "_model_module_version": "1.5.0",
            "_model_name": "DescriptionStyleModel",
            "_view_count": null,
            "_view_module": "@jupyter-widgets/base",
            "_view_module_version": "1.2.0",
            "_view_name": "StyleView",
            "description_width": ""
          }
        },
        "591845fe90934abdbc9fea2f7a5d43fb": {
          "model_module": "@jupyter-widgets/controls",
          "model_name": "HBoxModel",
          "model_module_version": "1.5.0",
          "state": {
            "_dom_classes": [],
            "_model_module": "@jupyter-widgets/controls",
            "_model_module_version": "1.5.0",
            "_model_name": "HBoxModel",
            "_view_count": null,
            "_view_module": "@jupyter-widgets/controls",
            "_view_module_version": "1.5.0",
            "_view_name": "HBoxView",
            "box_style": "",
            "children": [
              "IPY_MODEL_a175fb2930424b75a6f68a5da01087f1",
              "IPY_MODEL_3119da05aeca46269d524e87aad48afa",
              "IPY_MODEL_8ea7292a46714e169e88d100f77efec2"
            ],
            "layout": "IPY_MODEL_1cdb00d9f19f4536aca314052bc1b73a"
          }
        },
        "a175fb2930424b75a6f68a5da01087f1": {
          "model_module": "@jupyter-widgets/controls",
          "model_name": "HTMLModel",
          "model_module_version": "1.5.0",
          "state": {
            "_dom_classes": [],
            "_model_module": "@jupyter-widgets/controls",
            "_model_module_version": "1.5.0",
            "_model_name": "HTMLModel",
            "_view_count": null,
            "_view_module": "@jupyter-widgets/controls",
            "_view_module_version": "1.5.0",
            "_view_name": "HTMLView",
            "description": "",
            "description_tooltip": null,
            "layout": "IPY_MODEL_5bcbc6c240ad4fe782fe023b87a9a08d",
            "placeholder": "​",
            "style": "IPY_MODEL_1523f652e07045deba23a7cab3a0dbc7",
            "value": "100%"
          }
        },
        "3119da05aeca46269d524e87aad48afa": {
          "model_module": "@jupyter-widgets/controls",
          "model_name": "FloatProgressModel",
          "model_module_version": "1.5.0",
          "state": {
            "_dom_classes": [],
            "_model_module": "@jupyter-widgets/controls",
            "_model_module_version": "1.5.0",
            "_model_name": "FloatProgressModel",
            "_view_count": null,
            "_view_module": "@jupyter-widgets/controls",
            "_view_module_version": "1.5.0",
            "_view_name": "ProgressView",
            "bar_style": "success",
            "description": "",
            "description_tooltip": null,
            "layout": "IPY_MODEL_dd568980cd454750b2de3bf6b9204b6e",
            "max": 4,
            "min": 0,
            "orientation": "horizontal",
            "style": "IPY_MODEL_a42fa2543ccf4ae2939766d307057cff",
            "value": 4
          }
        },
        "8ea7292a46714e169e88d100f77efec2": {
          "model_module": "@jupyter-widgets/controls",
          "model_name": "HTMLModel",
          "model_module_version": "1.5.0",
          "state": {
            "_dom_classes": [],
            "_model_module": "@jupyter-widgets/controls",
            "_model_module_version": "1.5.0",
            "_model_name": "HTMLModel",
            "_view_count": null,
            "_view_module": "@jupyter-widgets/controls",
            "_view_module_version": "1.5.0",
            "_view_name": "HTMLView",
            "description": "",
            "description_tooltip": null,
            "layout": "IPY_MODEL_2acdfbe471c14eed8484ffaf7fbe0fb1",
            "placeholder": "​",
            "style": "IPY_MODEL_6c2c4c4eb1ea4ce494f5f2bdd37a84d6",
            "value": " 4/4 [00:00&lt;00:00, 54.81it/s]"
          }
        },
        "1cdb00d9f19f4536aca314052bc1b73a": {
          "model_module": "@jupyter-widgets/base",
          "model_name": "LayoutModel",
          "model_module_version": "1.2.0",
          "state": {
            "_model_module": "@jupyter-widgets/base",
            "_model_module_version": "1.2.0",
            "_model_name": "LayoutModel",
            "_view_count": null,
            "_view_module": "@jupyter-widgets/base",
            "_view_module_version": "1.2.0",
            "_view_name": "LayoutView",
            "align_content": null,
            "align_items": null,
            "align_self": null,
            "border": null,
            "bottom": null,
            "display": null,
            "flex": null,
            "flex_flow": null,
            "grid_area": null,
            "grid_auto_columns": null,
            "grid_auto_flow": null,
            "grid_auto_rows": null,
            "grid_column": null,
            "grid_gap": null,
            "grid_row": null,
            "grid_template_areas": null,
            "grid_template_columns": null,
            "grid_template_rows": null,
            "height": null,
            "justify_content": null,
            "justify_items": null,
            "left": null,
            "margin": null,
            "max_height": null,
            "max_width": null,
            "min_height": null,
            "min_width": null,
            "object_fit": null,
            "object_position": null,
            "order": null,
            "overflow": null,
            "overflow_x": null,
            "overflow_y": null,
            "padding": null,
            "right": null,
            "top": null,
            "visibility": null,
            "width": null
          }
        },
        "5bcbc6c240ad4fe782fe023b87a9a08d": {
          "model_module": "@jupyter-widgets/base",
          "model_name": "LayoutModel",
          "model_module_version": "1.2.0",
          "state": {
            "_model_module": "@jupyter-widgets/base",
            "_model_module_version": "1.2.0",
            "_model_name": "LayoutModel",
            "_view_count": null,
            "_view_module": "@jupyter-widgets/base",
            "_view_module_version": "1.2.0",
            "_view_name": "LayoutView",
            "align_content": null,
            "align_items": null,
            "align_self": null,
            "border": null,
            "bottom": null,
            "display": null,
            "flex": null,
            "flex_flow": null,
            "grid_area": null,
            "grid_auto_columns": null,
            "grid_auto_flow": null,
            "grid_auto_rows": null,
            "grid_column": null,
            "grid_gap": null,
            "grid_row": null,
            "grid_template_areas": null,
            "grid_template_columns": null,
            "grid_template_rows": null,
            "height": null,
            "justify_content": null,
            "justify_items": null,
            "left": null,
            "margin": null,
            "max_height": null,
            "max_width": null,
            "min_height": null,
            "min_width": null,
            "object_fit": null,
            "object_position": null,
            "order": null,
            "overflow": null,
            "overflow_x": null,
            "overflow_y": null,
            "padding": null,
            "right": null,
            "top": null,
            "visibility": null,
            "width": null
          }
        },
        "1523f652e07045deba23a7cab3a0dbc7": {
          "model_module": "@jupyter-widgets/controls",
          "model_name": "DescriptionStyleModel",
          "model_module_version": "1.5.0",
          "state": {
            "_model_module": "@jupyter-widgets/controls",
            "_model_module_version": "1.5.0",
            "_model_name": "DescriptionStyleModel",
            "_view_count": null,
            "_view_module": "@jupyter-widgets/base",
            "_view_module_version": "1.2.0",
            "_view_name": "StyleView",
            "description_width": ""
          }
        },
        "dd568980cd454750b2de3bf6b9204b6e": {
          "model_module": "@jupyter-widgets/base",
          "model_name": "LayoutModel",
          "model_module_version": "1.2.0",
          "state": {
            "_model_module": "@jupyter-widgets/base",
            "_model_module_version": "1.2.0",
            "_model_name": "LayoutModel",
            "_view_count": null,
            "_view_module": "@jupyter-widgets/base",
            "_view_module_version": "1.2.0",
            "_view_name": "LayoutView",
            "align_content": null,
            "align_items": null,
            "align_self": null,
            "border": null,
            "bottom": null,
            "display": null,
            "flex": null,
            "flex_flow": null,
            "grid_area": null,
            "grid_auto_columns": null,
            "grid_auto_flow": null,
            "grid_auto_rows": null,
            "grid_column": null,
            "grid_gap": null,
            "grid_row": null,
            "grid_template_areas": null,
            "grid_template_columns": null,
            "grid_template_rows": null,
            "height": null,
            "justify_content": null,
            "justify_items": null,
            "left": null,
            "margin": null,
            "max_height": null,
            "max_width": null,
            "min_height": null,
            "min_width": null,
            "object_fit": null,
            "object_position": null,
            "order": null,
            "overflow": null,
            "overflow_x": null,
            "overflow_y": null,
            "padding": null,
            "right": null,
            "top": null,
            "visibility": null,
            "width": null
          }
        },
        "a42fa2543ccf4ae2939766d307057cff": {
          "model_module": "@jupyter-widgets/controls",
          "model_name": "ProgressStyleModel",
          "model_module_version": "1.5.0",
          "state": {
            "_model_module": "@jupyter-widgets/controls",
            "_model_module_version": "1.5.0",
            "_model_name": "ProgressStyleModel",
            "_view_count": null,
            "_view_module": "@jupyter-widgets/base",
            "_view_module_version": "1.2.0",
            "_view_name": "StyleView",
            "bar_color": null,
            "description_width": ""
          }
        },
        "2acdfbe471c14eed8484ffaf7fbe0fb1": {
          "model_module": "@jupyter-widgets/base",
          "model_name": "LayoutModel",
          "model_module_version": "1.2.0",
          "state": {
            "_model_module": "@jupyter-widgets/base",
            "_model_module_version": "1.2.0",
            "_model_name": "LayoutModel",
            "_view_count": null,
            "_view_module": "@jupyter-widgets/base",
            "_view_module_version": "1.2.0",
            "_view_name": "LayoutView",
            "align_content": null,
            "align_items": null,
            "align_self": null,
            "border": null,
            "bottom": null,
            "display": null,
            "flex": null,
            "flex_flow": null,
            "grid_area": null,
            "grid_auto_columns": null,
            "grid_auto_flow": null,
            "grid_auto_rows": null,
            "grid_column": null,
            "grid_gap": null,
            "grid_row": null,
            "grid_template_areas": null,
            "grid_template_columns": null,
            "grid_template_rows": null,
            "height": null,
            "justify_content": null,
            "justify_items": null,
            "left": null,
            "margin": null,
            "max_height": null,
            "max_width": null,
            "min_height": null,
            "min_width": null,
            "object_fit": null,
            "object_position": null,
            "order": null,
            "overflow": null,
            "overflow_x": null,
            "overflow_y": null,
            "padding": null,
            "right": null,
            "top": null,
            "visibility": null,
            "width": null
          }
        },
        "6c2c4c4eb1ea4ce494f5f2bdd37a84d6": {
          "model_module": "@jupyter-widgets/controls",
          "model_name": "DescriptionStyleModel",
          "model_module_version": "1.5.0",
          "state": {
            "_model_module": "@jupyter-widgets/controls",
            "_model_module_version": "1.5.0",
            "_model_name": "DescriptionStyleModel",
            "_view_count": null,
            "_view_module": "@jupyter-widgets/base",
            "_view_module_version": "1.2.0",
            "_view_name": "StyleView",
            "description_width": ""
          }
        }
      }
    }
  },
  "nbformat": 4,
  "nbformat_minor": 0
}