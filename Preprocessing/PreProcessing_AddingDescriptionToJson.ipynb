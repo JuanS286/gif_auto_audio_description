{
  "nbformat": 4,
  "nbformat_minor": 0,
  "metadata": {
    "colab": {
      "provenance": []
    },
    "kernelspec": {
      "name": "python3",
      "display_name": "Python 3"
    },
    "language_info": {
      "name": "python"
    }
  },
  "cells": [
    {
      "cell_type": "markdown",
      "source": [
        "# **Pre-Processing: Adding description to json Files and updating gif_id**"
      ],
      "metadata": {
        "id": "7bhF6VCbDQJO"
      }
    },
    {
      "cell_type": "code",
      "execution_count": 2,
      "metadata": {
        "colab": {
          "base_uri": "https://localhost:8080/"
        },
        "id": "irncR7cyC7ij",
        "outputId": "8fdc623e-de95-4ca9-d77d-8068be50c77d"
      },
      "outputs": [
        {
          "output_type": "stream",
          "name": "stdout",
          "text": [
            "Updated train_data.json in GCS\n",
            "Updated test_data.json in GCS\n",
            "Updated val_data.json in GCS\n"
          ]
        }
      ],
      "source": [
        "import json\n",
        "import os\n",
        "from google.cloud import storage\n",
        "from google.colab import auth\n",
        "\n",
        "auth.authenticate_user()\n",
        "\n",
        "# Set up Google Cloud Storage client\n",
        "storage_client = storage.Client()\n",
        "bucket_name = 'gif-bucket-1000'\n",
        "bucket = storage_client.bucket(bucket_name)\n",
        "\n",
        "def update_json_file(json_file_name, description_file_name):\n",
        "    \"\"\"Updates the JSON file with new gif_id and gif_description.\"\"\"\n",
        "    try:\n",
        "        # Download the JSON file from GCS\n",
        "        json_blob = bucket.blob(json_file_name)\n",
        "        json_data = json.loads(json_blob.download_as_string())\n",
        "\n",
        "        # Download the description file from GCS\n",
        "        description_blob = bucket.blob(description_file_name)\n",
        "        description_content = description_blob.download_as_string().decode('utf-8')\n",
        "\n",
        "        # Create a dictionary mapping gif_id to gif_description\n",
        "        descriptions = {}\n",
        "        for line in description_content.splitlines():\n",
        "            gif_id, description = line.split(': ')\n",
        "            descriptions[gif_id] = description\n",
        "\n",
        "        # Update the JSON data\n",
        "        for gif_item in json_data:\n",
        "            gif_file = gif_item['gif_file']\n",
        "            gif_id = gif_file.split('.')[0]  # Extract ID from filename\n",
        "            gif_item['gif_id'] = gif_id\n",
        "            gif_item['gif_description'] = descriptions.get(gif_id, '')  # Add description\n",
        "\n",
        "        # Upload the updated JSON file to GCS\n",
        "        json_blob.upload_from_string(json.dumps(json_data, indent=4), content_type='application/json')\n",
        "        print(f\"Updated {json_file_name} in GCS\")\n",
        "\n",
        "    except Exception as e:\n",
        "        print(f\"Error updating {json_file_name}: {e}\")\n",
        "\n",
        "# Update the JSON files\n",
        "update_json_file('train_data.json', 'train_with_description.txt')\n",
        "update_json_file('test_data.json', 'test_with_description.txt')\n",
        "update_json_file('val_data.json', 'val_with_description.txt')"
      ]
    }
  ]
}