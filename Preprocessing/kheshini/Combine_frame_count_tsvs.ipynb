{
  "nbformat": 4,
  "nbformat_minor": 0,
  "metadata": {
    "colab": {
      "provenance": []
    },
    "kernelspec": {
      "name": "python3",
      "display_name": "Python 3"
    },
    "language_info": {
      "name": "python"
    }
  },
  "cells": [
    {
      "cell_type": "markdown",
      "source": [
        "Kheshini Budhna (C0909662)"
      ],
      "metadata": {
        "id": "yDF8ZuLcJg7A"
      }
    },
    {
      "cell_type": "code",
      "source": [
        "from google.colab import drive\n",
        "import pandas as pd\n",
        "import os\n",
        "\n",
        "# Mount Google Drive\n",
        "drive.mount('/content/drive')\n",
        "\n",
        "# Set the folder path where your TSV files are located\n",
        "folder_path = '/content/drive/My Drive/Colab_Notebooks/frame_tsv'  # Adjust this path accordingly\n",
        "\n",
        "# List to hold the DataFrames\n",
        "dataframes = []\n",
        "\n",
        "# Loop through all files in the specified folder\n",
        "for file in os.listdir(folder_path):\n",
        "    if file.endswith('.tsv') and file.startswith('updated_csv_'):\n",
        "        # Read the TSV file\n",
        "        file_path = os.path.join(folder_path, file)\n",
        "        df = pd.read_csv(file_path, sep='\\t')\n",
        "        dataframes.append(df)\n",
        "\n",
        "# Combine all DataFrames into one\n",
        "combined_df = pd.concat(dataframes, ignore_index=True)\n",
        "\n",
        "# Save the combined DataFrame to a TSV file with the specified name\n",
        "combined_file_path = '/content/drive/My Drive/Colab_Notebooks/count_frames_total.tsv'  # Specify the new filename\n",
        "combined_df.to_csv(combined_file_path, sep='\\t', index=False)\n",
        "\n",
        "print(f\"Combined file saved as: {combined_file_path}\")\n"
      ],
      "metadata": {
        "colab": {
          "base_uri": "https://localhost:8080/"
        },
        "id": "oxasq5WWbp_z",
        "outputId": "d43511b8-8902-436d-f026-cd906ee7d731"
      },
      "execution_count": 41,
      "outputs": [
        {
          "output_type": "stream",
          "name": "stdout",
          "text": [
            "Drive already mounted at /content/drive; to attempt to forcibly remount, call drive.mount(\"/content/drive\", force_remount=True).\n",
            "Combined file saved as: /content/drive/My Drive/Colab_Notebooks/count_frames_total.tsv\n"
          ]
        }
      ]
    },
    {
      "cell_type": "code",
      "source": [
        "# Path to the combined TSV file\n",
        "combined_file_path = '/content/drive/My Drive/Colab_Notebooks/count_frames_total.tsv'\n",
        "\n",
        "# Open the combined TSV file\n",
        "df = pd.read_csv(combined_file_path, sep='\\t')\n",
        "\n",
        "# Show the first few rows of the DataFrame\n",
        "print(\"Initial DataFrame:\")\n",
        "print(df.head())\n",
        "\n",
        "# Sort the DataFrame by the 'ID' column\n",
        "sorted_df = df.sort_values(by='ID')\n",
        "\n",
        "# Show the sorted DataFrame\n",
        "print(\"\\nSorted DataFrame:\")\n",
        "print(sorted_df.head())\n",
        "\n",
        "df = sorted_df.copy()\n"
      ],
      "metadata": {
        "colab": {
          "base_uri": "https://localhost:8080/"
        },
        "id": "-CKFogYmeh30",
        "outputId": "c1b3ebb0-896c-45e0-9378-9ee90327c4b6"
      },
      "execution_count": 42,
      "outputs": [
        {
          "output_type": "stream",
          "name": "stdout",
          "text": [
            "Initial DataFrame:\n",
            "   ID                                              links  \\\n",
            "0   1  https://38.media.tumblr.com/9f6c25cc350f12aa74...   \n",
            "1   2  https://38.media.tumblr.com/9ead028ef62004ef6a...   \n",
            "2   3  https://38.media.tumblr.com/9f43dc410be85b1159...   \n",
            "3   4  https://38.media.tumblr.com/9f659499c8754e40cf...   \n",
            "4   5  https://38.media.tumblr.com/9ed1c99afa7d714118...   \n",
            "\n",
            "                                         description Frame Count  \n",
            "0  a man is glaring, and someone with sunglasses ...        18.0  \n",
            "1           a cat tries to catch a mouse on a tablet        53.0  \n",
            "2                   a man dressed in red is dancing.        22.0  \n",
            "3     an animal comes close to another in the jungle       100.0  \n",
            "4  a man in a hat adjusts his tie and makes a wei...        16.0  \n",
            "\n",
            "Sorted DataFrame:\n",
            "   ID                                              links  \\\n",
            "0   1  https://38.media.tumblr.com/9f6c25cc350f12aa74...   \n",
            "1   2  https://38.media.tumblr.com/9ead028ef62004ef6a...   \n",
            "2   3  https://38.media.tumblr.com/9f43dc410be85b1159...   \n",
            "3   4  https://38.media.tumblr.com/9f659499c8754e40cf...   \n",
            "4   5  https://38.media.tumblr.com/9ed1c99afa7d714118...   \n",
            "\n",
            "                                         description Frame Count  \n",
            "0  a man is glaring, and someone with sunglasses ...        18.0  \n",
            "1           a cat tries to catch a mouse on a tablet        53.0  \n",
            "2                   a man dressed in red is dancing.        22.0  \n",
            "3     an animal comes close to another in the jungle       100.0  \n",
            "4  a man in a hat adjusts his tie and makes a wei...        16.0  \n"
          ]
        }
      ]
    },
    {
      "cell_type": "code",
      "source": [
        "# Filter rows where the frame count is \"Unreachable\"\n",
        "unreachable_df = df[df['Frame Count'] == 'Unreachable']  # Replace 'frame_count' with the actual column name\n",
        "\n",
        "# Print out the filtered DataFrame\n",
        "print(\"\\nRows with frame count 'Unreachable':\")\n",
        "print(unreachable_df)\n",
        "\n",
        "new_df = unreachable_df.copy()"
      ],
      "metadata": {
        "colab": {
          "base_uri": "https://localhost:8080/"
        },
        "id": "0-Pzjbu2emqw",
        "outputId": "1e75275b-52ff-43a1-eb61-104249c7465f"
      },
      "execution_count": 43,
      "outputs": [
        {
          "output_type": "stream",
          "name": "stdout",
          "text": [
            "\n",
            "Rows with frame count 'Unreachable':\n",
            "           ID                                              links  \\\n",
            "108766  29032  https://33.media.tumblr.com/cf3d907da94bc417fc...   \n",
            "119557  39823  https://33.media.tumblr.com/34f3484910558595cd...   \n",
            "140188  60454  https://38.media.tumblr.com/b169f4e3b96603031d...   \n",
            "145623  65889  https://33.media.tumblr.com/4add60f0e4d5123b5b...   \n",
            "165748  86014  https://38.media.tumblr.com/b82ad15ed8404591ae...   \n",
            "\n",
            "                                           description  Frame Count  \n",
            "108766  two soccer teams are playing a game of soccer.  Unreachable  \n",
            "119557          two hands are reaching for each other.  Unreachable  \n",
            "140188           a policeman put his cap on and leaved  Unreachable  \n",
            "145623               two men are fighting in the cage.  Unreachable  \n",
            "165748           the woman in black is blowing a kiss.  Unreachable  \n"
          ]
        }
      ]
    },
    {
      "cell_type": "code",
      "source": [
        "import pandas as pd\n",
        "import imageio\n",
        "\n",
        "def get_frame_count(gif_link):\n",
        "    \"\"\"Function to return the number of frames in a GIF given its URL.\"\"\"\n",
        "    try:\n",
        "        # First, attempt to use the count_frames() method\n",
        "        gif = imageio.get_reader(gif_link)\n",
        "\n",
        "        # Check if the gif has the count_frames method\n",
        "        if hasattr(gif, 'count_frames'):\n",
        "            return gif.count_frames()\n",
        "        else:\n",
        "            raise AttributeError(\"'LegacyReader' object has no attribute 'count_frames'\")\n",
        "\n",
        "    except AttributeError:\n",
        "        # If we encounter the LegacyReader issue, fallback to manual frame counting\n",
        "        print(f\"LegacyReader issue detected for {gif_link}. Falling back to manual frame counting.\")\n",
        "        return count_frames_manually(gif_link)\n",
        "\n",
        "    except Exception as e:\n",
        "        print(f\"Error reading {gif_link}: {e}\")\n",
        "        return None\n",
        "\n",
        "def count_frames_manually(gif_link):\n",
        "    \"\"\"Fallback function to manually count frames by iterating through the GIF.\"\"\"\n",
        "    try:\n",
        "        gif = imageio.get_reader(gif_link)\n",
        "        frame_count = 0\n",
        "        for _ in gif:\n",
        "            frame_count += 1\n",
        "        return frame_count\n",
        "    except Exception as e:\n",
        "        print(f\"Manual frame count failed for {gif_link}: {e}\")\n",
        "        return None\n",
        "\n",
        "def update_frame_counts(original_df):\n",
        "    \"\"\"Function to update frame counts for GIF links in the DataFrame.\"\"\"\n",
        "    # Iterate through the DataFrame to update frame counts\n",
        "    for index, row in original_df.iterrows():\n",
        "        if row['Frame Count'] == 'Unreachable':\n",
        "            gif_link = row['links']  # Use the 'links' column\n",
        "            frame_count = get_frame_count(gif_link)  # Get frame count\n",
        "            original_df.at[index, 'Frame Count'] = frame_count  # Update the count in DataFrame\n",
        "\n",
        "# Update the DataFrame in place without changing IDs\n",
        "update_frame_counts(new_df)\n",
        "\n",
        "# View the updated df to check that the IDs remain the same\n",
        "print(new_df.head())\n"
      ],
      "metadata": {
        "colab": {
          "base_uri": "https://localhost:8080/"
        },
        "id": "ug8OXDWbhxxt",
        "outputId": "a7130039-ba77-4f19-b2b9-e10cdbd53b64"
      },
      "execution_count": 44,
      "outputs": [
        {
          "output_type": "stream",
          "name": "stdout",
          "text": [
            "LegacyReader issue detected for https://33.media.tumblr.com/cf3d907da94bc417fc1234d71d3c9260/tumblr_np5v6oemH61sbwmk4o1_400.gif. Falling back to manual frame counting.\n",
            "LegacyReader issue detected for https://33.media.tumblr.com/34f3484910558595cd64b072fc1ae128/tumblr_nex5arpyUG1u2473po1_250.gif. Falling back to manual frame counting.\n",
            "LegacyReader issue detected for https://38.media.tumblr.com/b169f4e3b96603031d808beda4be86a6/tumblr_nkuohvy4ff1qadfw9o1_400.gif. Falling back to manual frame counting.\n",
            "LegacyReader issue detected for https://33.media.tumblr.com/4add60f0e4d5123b5b490f61592ea27a/tumblr_ndwjaaRuOU1s8r7lxo1_400.gif. Falling back to manual frame counting.\n",
            "LegacyReader issue detected for https://38.media.tumblr.com/b82ad15ed8404591aecd16d2ff0c51cf/tumblr_nbkigaAxRs1qej93ko1_500.gif. Falling back to manual frame counting.\n",
            "           ID                                              links  \\\n",
            "108766  29032  https://33.media.tumblr.com/cf3d907da94bc417fc...   \n",
            "119557  39823  https://33.media.tumblr.com/34f3484910558595cd...   \n",
            "140188  60454  https://38.media.tumblr.com/b169f4e3b96603031d...   \n",
            "145623  65889  https://33.media.tumblr.com/4add60f0e4d5123b5b...   \n",
            "165748  86014  https://38.media.tumblr.com/b82ad15ed8404591ae...   \n",
            "\n",
            "                                           description Frame Count  \n",
            "108766  two soccer teams are playing a game of soccer.         100  \n",
            "119557          two hands are reaching for each other.         112  \n",
            "140188           a policeman put his cap on and leaved          35  \n",
            "145623               two men are fighting in the cage.          48  \n",
            "165748           the woman in black is blowing a kiss.          50  \n"
          ]
        }
      ]
    },
    {
      "cell_type": "code",
      "source": [
        "# Update the 'Frame Count' in df using the values from new_df based on matching IDs\n",
        "for index, row in new_df.iterrows():\n",
        "    df.loc[df['ID'] == row['ID'], 'Frame Count'] = row['Frame Count']\n",
        "\n",
        "# View the updated df\n",
        "print(df.head())"
      ],
      "metadata": {
        "colab": {
          "base_uri": "https://localhost:8080/"
        },
        "id": "oLlavBthqZ_b",
        "outputId": "5618c00f-e5f3-442e-9af5-356d528437ec"
      },
      "execution_count": 45,
      "outputs": [
        {
          "output_type": "stream",
          "name": "stdout",
          "text": [
            "   ID                                              links  \\\n",
            "0   1  https://38.media.tumblr.com/9f6c25cc350f12aa74...   \n",
            "1   2  https://38.media.tumblr.com/9ead028ef62004ef6a...   \n",
            "2   3  https://38.media.tumblr.com/9f43dc410be85b1159...   \n",
            "3   4  https://38.media.tumblr.com/9f659499c8754e40cf...   \n",
            "4   5  https://38.media.tumblr.com/9ed1c99afa7d714118...   \n",
            "\n",
            "                                         description Frame Count  \n",
            "0  a man is glaring, and someone with sunglasses ...        18.0  \n",
            "1           a cat tries to catch a mouse on a tablet        53.0  \n",
            "2                   a man dressed in red is dancing.        22.0  \n",
            "3     an animal comes close to another in the jungle       100.0  \n",
            "4  a man in a hat adjusts his tie and makes a wei...        16.0  \n"
          ]
        }
      ]
    },
    {
      "cell_type": "code",
      "source": [
        "df = df.drop_duplicates(subset=['ID'], keep='first')  # Keep the first occurrence\n",
        "\n",
        "# List of IDs to check\n",
        "ids_to_check = [29032, 39823, 60454, 65889, 86014]\n",
        "\n",
        "# Filter the DataFrame for the specified IDs\n",
        "filtered_df = df[df['ID'].isin(ids_to_check)]\n",
        "\n",
        "# Display the filtered DataFrame with relevant information\n",
        "print(filtered_df[['ID', 'Frame Count']])"
      ],
      "metadata": {
        "colab": {
          "base_uri": "https://localhost:8080/"
        },
        "id": "CJ4NtDJzqoKJ",
        "outputId": "1c8cbb9a-5908-4850-f0b3-be5105c6447d"
      },
      "execution_count": 49,
      "outputs": [
        {
          "output_type": "stream",
          "name": "stdout",
          "text": [
            "           ID Frame Count\n",
            "29031   29032         100\n",
            "119557  39823         112\n",
            "60453   60454          35\n",
            "145623  65889          48\n",
            "165748  86014          50\n"
          ]
        }
      ]
    },
    {
      "cell_type": "code",
      "source": [
        "# Get the maximum ID in the DataFrame\n",
        "max_id = df['ID'].max()\n",
        "\n",
        "# Get the total number of items (rows) in the DataFrame\n",
        "total_items = len(df)\n",
        "\n",
        "# Check if the total items match the maximum ID\n",
        "if total_items == max_id:\n",
        "    print(f\"The DataFrame contains {total_items} items, which matches the maximum ID of {max_id}.\")\n",
        "else:\n",
        "    print(f\"The DataFrame contains {total_items} items, which does not match the maximum ID of {max_id}.\")\n"
      ],
      "metadata": {
        "colab": {
          "base_uri": "https://localhost:8080/"
        },
        "id": "8Kal8HuXrnJT",
        "outputId": "f2a0d9fe-85af-41a3-e801-1c97aa423325"
      },
      "execution_count": 50,
      "outputs": [
        {
          "output_type": "stream",
          "name": "stdout",
          "text": [
            "The DataFrame contains 89735 items, which matches the maximum ID of 89735.\n"
          ]
        }
      ]
    },
    {
      "cell_type": "code",
      "source": [
        "# Specify the path where you want to save the new TSV file\n",
        "output_file_path = '/content/drive/My Drive/Colab_Notebooks/all_frame_counts.tsv'  # Change the name as needed\n",
        "\n",
        "# Save the DataFrame to a TSV file\n",
        "df.to_csv(output_file_path, sep='\\t', index=False)\n",
        "\n",
        "print(f\"DataFrame has been saved to: {output_file_path}\")"
      ],
      "metadata": {
        "colab": {
          "base_uri": "https://localhost:8080/"
        },
        "id": "F7TJtWFosDAL",
        "outputId": "2e80d22a-217f-42e2-85e3-1e25dcb5352e"
      },
      "execution_count": 51,
      "outputs": [
        {
          "output_type": "stream",
          "name": "stdout",
          "text": [
            "DataFrame has been saved to: /content/drive/My Drive/Colab_Notebooks/all_frame_counts.tsv\n"
          ]
        }
      ]
    }
  ]
}