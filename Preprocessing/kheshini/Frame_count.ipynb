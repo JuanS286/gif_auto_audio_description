{
  "nbformat": 4,
  "nbformat_minor": 0,
  "metadata": {
    "colab": {
      "provenance": [],
      "gpuType": "V28"
    },
    "kernelspec": {
      "name": "python3",
      "display_name": "Python 3"
    },
    "language_info": {
      "name": "python"
    },
    "accelerator": "TPU"
  },
  "cells": [
    {
      "cell_type": "code",
      "source": [
        "import pandas as pd\n",
        "import requests\n",
        "from PIL import Image\n",
        "from io import BytesIO\n",
        "import concurrent.futures\n",
        "from google.colab import drive  # Import for Google Colab\n",
        "\n",
        "# Step 1: Mount Google Drive (for Google Colab)\n",
        "drive.mount('/content/drive', force_remount=True)\n",
        "\n",
        "# Step 2: Define a function to get the frame count for each GIF with error handling\n",
        "def get_frame_count(gif_url):\n",
        "    try:\n",
        "        # Send a request to get the GIF\n",
        "        response = requests.get(gif_url, timeout=10)  # Set timeout to avoid long waits\n",
        "        response.raise_for_status()  # Raise an error if the request fails (e.g., 404 or 500)\n",
        "\n",
        "        gif = Image.open(BytesIO(response.content))  # Open the GIF from the response\n",
        "        frames = 0\n",
        "\n",
        "        # Count frames in the GIF\n",
        "        while True:\n",
        "            try:\n",
        "                gif.seek(frames)\n",
        "                frames += 1\n",
        "            except EOFError:  # Reached the end of the GIF\n",
        "                break\n",
        "\n",
        "        return frames\n",
        "\n",
        "    except requests.exceptions.RequestException as e:  # Network-related exceptions\n",
        "        print(f\"Network error for {gif_url}: {e}\")\n",
        "        return 'Unreachable'  # Return custom value for unreachable links\n",
        "\n",
        "    except Exception as e:  # Handle other exceptions, e.g., malformed GIF\n",
        "        print(f\"Error processing {gif_url}: {e}\")\n",
        "        return 'Error'  # Return custom value for processing errors\n",
        "\n",
        "\n",
        "# Step 3: Define the main function to process GIFs from a given starting ID\n",
        "def process_gifs_from_id(starting_index):\n",
        "    # Step 4: Set the range to process 10,000 GIFs in total (from starting_index to starting_index + 9999)\n",
        "    last_id = starting_index + 9999\n",
        "\n",
        "    # Step 5: Load the main TSV file containing the GIF URLs into a DataFrame\n",
        "    file_path = '/content/drive/My Drive/Colab_Notebooks/tgif-v2.0.tsv'  # Correct file path\n",
        "    df = pd.read_csv(file_path, sep='\\t')  # Load the TSV\n",
        "\n",
        "    # Step 6: Filter the DataFrame for the range [starting_index, starting_index + 9999]\n",
        "    df_filtered = df[(df['ID'] >= starting_index) & (df['ID'] <= last_id)]\n",
        "\n",
        "    # Step 7: Extract URLs corresponding to the filtered DataFrame\n",
        "    urls = df_filtered['links'].tolist()\n",
        "\n",
        "    # Step 8: Use parallel processing to speed up retrieval of frame counts for the selected URLs\n",
        "    with concurrent.futures.ThreadPoolExecutor(max_workers=10) as executor:\n",
        "        frame_counts = list(executor.map(get_frame_count, urls))\n",
        "\n",
        "    # Step 9: Create a new DataFrame for the results with IDs, links, descriptions, and Frame Counts\n",
        "    results_df = pd.DataFrame({\n",
        "        'ID': df_filtered['ID'],\n",
        "        'links': df_filtered['links'],\n",
        "        'description': df_filtered['description'],\n",
        "        'Frame Count': frame_counts\n",
        "    })\n",
        "\n",
        "    # Step 10: Create a dynamic filename based on the last processed ID (e.g., `updated_csv_10000.tsv`)\n",
        "    output_file_name = f'updated_csv_{last_id}.tsv'\n",
        "\n",
        "    # Step 11: Save the results DataFrame to the dynamically generated TSV file\n",
        "    results_df.to_csv(output_file_name, sep='\\t', index=False)\n",
        "\n",
        "    # Print the results DataFrame to verify and confirm where it's saved\n",
        "    print(results_df)  # Show only the results DataFrame\n",
        "    print(f\"Data saved to {output_file_name}\")\n"
      ],
      "metadata": {
        "id": "epSmJ_MwwReD",
        "outputId": "0634a27e-3b47-4ee0-cf14-eaa49c04f447",
        "colab": {
          "base_uri": "https://localhost:8080/"
        }
      },
      "execution_count": 12,
      "outputs": [
        {
          "output_type": "stream",
          "name": "stdout",
          "text": [
            "Mounted at /content/drive\n"
          ]
        }
      ]
    },
    {
      "cell_type": "markdown",
      "source": [
        "Kheshini Budhna (C0909662)"
      ],
      "metadata": {
        "id": "yDF8ZuLcJg7A"
      }
    },
    {
      "cell_type": "code",
      "source": [
        "# Example of how to call the function\n",
        "starting_id = 1  # Starting from ID 1\n",
        "process_gifs_from_id(starting_id)"
      ],
      "metadata": {
        "colab": {
          "base_uri": "https://localhost:8080/"
        },
        "id": "OBMDQ_sJrhz2",
        "outputId": "f6dced6c-8410-49e1-e380-4721170a7193"
      },
      "execution_count": 6,
      "outputs": [
        {
          "output_type": "stream",
          "name": "stderr",
          "text": [
            "<ipython-input-5-668e7f04da4e>:60: SettingWithCopyWarning: \n",
            "A value is trying to be set on a copy of a slice from a DataFrame.\n",
            "Try using .loc[row_indexer,col_indexer] = value instead\n",
            "\n",
            "See the caveats in the documentation: https://pandas.pydata.org/pandas-docs/stable/user_guide/indexing.html#returning-a-view-versus-a-copy\n",
            "  df_filtered['Frame Count'] = frame_counts\n"
          ]
        },
        {
          "output_type": "stream",
          "name": "stdout",
          "text": [
            "         ID                                              links  \\\n",
            "0         1  https://38.media.tumblr.com/9f6c25cc350f12aa74...   \n",
            "1         2  https://38.media.tumblr.com/9ead028ef62004ef6a...   \n",
            "2         3  https://38.media.tumblr.com/9f43dc410be85b1159...   \n",
            "3         4  https://38.media.tumblr.com/9f659499c8754e40cf...   \n",
            "4         5  https://38.media.tumblr.com/9ed1c99afa7d714118...   \n",
            "...     ...                                                ...   \n",
            "9995   9996  https://38.media.tumblr.com/23a7ac98bd14b8acb2...   \n",
            "9996   9997  https://38.media.tumblr.com/tumblr_lxt32ho3Nv1...   \n",
            "9997   9998  https://33.media.tumblr.com/fe80a7ea4ed469b2fc...   \n",
            "9998   9999  https://38.media.tumblr.com/459647e0ba2030d7cb...   \n",
            "9999  10000  https://38.media.tumblr.com/de81f2bb86b7f336bb...   \n",
            "\n",
            "                                            description  Frame Count  \n",
            "0     a man is glaring, and someone with sunglasses ...           18  \n",
            "1              a cat tries to catch a mouse on a tablet           53  \n",
            "2                      a man dressed in red is dancing.           22  \n",
            "3        an animal comes close to another in the jungle          100  \n",
            "4     a man in a hat adjusts his tie and makes a wei...           16  \n",
            "...                                                 ...          ...  \n",
            "9995      a small human skeleton is standing and waving           34  \n",
            "9996      a woman grabs a paper from a woman in a mask.           21  \n",
            "9997  a middle aged white man in a herring bone patt...           53  \n",
            "9998          a baby cat is trying to touch another cat           23  \n",
            "9999  this is a young man sitting on a table messing...           19  \n",
            "\n",
            "[10000 rows x 4 columns]\n",
            "Data saved to updated_csv_10000.tsv\n"
          ]
        }
      ]
    },
    {
      "cell_type": "code",
      "source": [
        "# Process the next batch from 10,001 to 20,000\n",
        "process_gifs_from_id(10001)"
      ],
      "metadata": {
        "colab": {
          "base_uri": "https://localhost:8080/"
        },
        "id": "3ncKPR0EkO08",
        "outputId": "a1751e48-6131-4b87-b0e4-4cf915d7e944"
      },
      "execution_count": 13,
      "outputs": [
        {
          "output_type": "stream",
          "name": "stdout",
          "text": [
            "          ID                                              links  \\\n",
            "10000  10001  https://38.media.tumblr.com/3764bb37b840729250...   \n",
            "10001  10002  https://33.media.tumblr.com/d668444afb13a19dc8...   \n",
            "10002  10003  https://33.media.tumblr.com/22d840ef1e7a39fc81...   \n",
            "10003  10004  https://38.media.tumblr.com/b83f90c529d1889148...   \n",
            "10004  10005  https://33.media.tumblr.com/027e2ed1ffa4e45d14...   \n",
            "...      ...                                                ...   \n",
            "19995  19996  https://38.media.tumblr.com/0bc2fa11f3769b41fd...   \n",
            "19996  19997  https://38.media.tumblr.com/0ee04a29d221935179...   \n",
            "19997  19998  https://38.media.tumblr.com/b1367133d4f7b7daf5...   \n",
            "19998  19999  https://38.media.tumblr.com/0c04c65cf9bdad8e35...   \n",
            "19999  20000  https://38.media.tumblr.com/a80203f94abbc08409...   \n",
            "\n",
            "                                             description  Frame Count  \n",
            "10000             a woman is walking down a dark hallway           58  \n",
            "10001  a man is in a pen with various animals while m...           47  \n",
            "10002  a woman is feeding a man as he drives along a ...           32  \n",
            "10003  a girl with black dress is singing and the man...           34  \n",
            "10004         a car smokes as it drives past spectators.           35  \n",
            "...                                                  ...          ...  \n",
            "19995  a man appears to be giving an interview while ...           19  \n",
            "19996         a car goes through an obstacle repeatedly.           27  \n",
            "19997  a door has a notepaper on it with the number t...           67  \n",
            "19998  a black man are taking his hand off his chin a...           43  \n",
            "19999            a leopard is chasing a car in the road.            1  \n",
            "\n",
            "[10000 rows x 4 columns]\n",
            "Data saved to updated_csv_20000.tsv\n"
          ]
        }
      ]
    },
    {
      "cell_type": "code",
      "source": [
        "# Process the next batch from 10,001 to 20,000\n",
        "process_gifs_from_id(20001)"
      ],
      "metadata": {
        "colab": {
          "base_uri": "https://localhost:8080/"
        },
        "id": "3JVNuptWoFDl",
        "outputId": "fe8339a7-8c1b-41ac-fdde-48afbc8c85be"
      },
      "execution_count": 14,
      "outputs": [
        {
          "output_type": "stream",
          "name": "stdout",
          "text": [
            "Network error for https://33.media.tumblr.com/cf3d907da94bc417fc1234d71d3c9260/tumblr_np5v6oemH61sbwmk4o1_400.gif: 502 Server Error: Bad Gateway for url: https://64.media.tumblr.com/cf3d907da94bc417fc1234d71d3c9260/tumblr_np5v6oemH61sbwmk4o1_400.gif\n",
            "          ID                                              links  \\\n",
            "20000  20001  https://38.media.tumblr.com/25ed9eeeefdb778511...   \n",
            "20001  20002  https://38.media.tumblr.com/55357fd5a336c67dd8...   \n",
            "20002  20003  https://38.media.tumblr.com/8b6e6b111f39205471...   \n",
            "20003  20004  https://38.media.tumblr.com/a52904b90b8741b9d8...   \n",
            "20004  20005  https://33.media.tumblr.com/tumblr_mc9ud7zJZp1...   \n",
            "...      ...                                                ...   \n",
            "29995  29996  https://38.media.tumblr.com/41dd93ef71f6e50272...   \n",
            "29996  29997  https://33.media.tumblr.com/6318a5ee2f6c474c6d...   \n",
            "29997  29998  https://38.media.tumblr.com/a54dabf5505c3232ca...   \n",
            "29998  29999  https://33.media.tumblr.com/f16551af0ef9580fb5...   \n",
            "29999  30000  https://38.media.tumblr.com/83a4fbff4f747a010a...   \n",
            "\n",
            "                                             description Frame Count  \n",
            "20000                       a boy is playing with a toy.          18  \n",
            "20001             a man has his tie clipped to his nose.          16  \n",
            "20002    a handsome man is turning and staring intently.          27  \n",
            "20003  a room full of people are enjoying the same th...          34  \n",
            "20004  a shirtless man on a basketball court is frust...          26  \n",
            "...                                                  ...         ...  \n",
            "29995  a van is driving away on a dirt road and expel...          39  \n",
            "29996  a person with a big chicken and get on its hea...          21  \n",
            "29997  a girl is smiling and her hair is blowing in t...          18  \n",
            "29998  a person holds a cat's front legs up and puts ...           1  \n",
            "29999              a man stares at a woman wearing white          24  \n",
            "\n",
            "[10000 rows x 4 columns]\n",
            "Data saved to updated_csv_30000.tsv\n"
          ]
        }
      ]
    },
    {
      "cell_type": "code",
      "source": [
        "# Process the next batch from 10,001 to 20,000\n",
        "process_gifs_from_id(30001)"
      ],
      "metadata": {
        "colab": {
          "base_uri": "https://localhost:8080/"
        },
        "id": "WKwVix0GoHo7",
        "outputId": "4dc65ac6-01ca-43dd-b864-83b3bb7ef2a1"
      },
      "execution_count": 15,
      "outputs": [
        {
          "output_type": "stream",
          "name": "stdout",
          "text": [
            "Network error for https://33.media.tumblr.com/34f3484910558595cd64b072fc1ae128/tumblr_nex5arpyUG1u2473po1_250.gif: 500 Server Error: Internal Server Error for url: https://64.media.tumblr.com/34f3484910558595cd64b072fc1ae128/tumblr_nex5arpyUG1u2473po1_250.gif\n",
            "          ID                                              links  \\\n",
            "30000  30001  https://38.media.tumblr.com/7da8f8cf155f910797...   \n",
            "30001  30002  https://38.media.tumblr.com/196c58d479e32cd845...   \n",
            "30002  30003  https://38.media.tumblr.com/fedb011aa632b9559f...   \n",
            "30003  30004  https://38.media.tumblr.com/0d83a8b8d34bcee39f...   \n",
            "30004  30005  https://33.media.tumblr.com/a4b1422b8b014b8c1c...   \n",
            "...      ...                                                ...   \n",
            "39995  39996  https://38.media.tumblr.com/3846f15265f6f3423a...   \n",
            "39996  39997  https://38.media.tumblr.com/556ec0de5e04c3b598...   \n",
            "39997  39998  https://38.media.tumblr.com/49998397e0c72c5ff0...   \n",
            "39998  39999  https://38.media.tumblr.com/bebf7e03b2b586f3f2...   \n",
            "39999  40000  https://33.media.tumblr.com/356340d67219761b02...   \n",
            "\n",
            "                                             description Frame Count  \n",
            "30000  a man jumps up in the air and catches a footba...          62  \n",
            "30001  a person is writing a letter on the back of a ...          21  \n",
            "30002     a person is looking at something with emotion.          23  \n",
            "30003  two men are moving around and bopping their he...          30  \n",
            "30004  a guy is belching out a lyric from a trio of guys          31  \n",
            "...                                                  ...         ...  \n",
            "39995   a man is walking around with a koala on his leg.          23  \n",
            "39996  a sea creature is emerging in the bottom of th...          30  \n",
            "39997  this is a man turning his hand around while da...          27  \n",
            "39998  there is a man holding his hands to his ears a...          62  \n",
            "39999  a young woman with long black hair and black d...          36  \n",
            "\n",
            "[10000 rows x 4 columns]\n",
            "Data saved to updated_csv_40000.tsv\n"
          ]
        }
      ]
    },
    {
      "cell_type": "code",
      "source": [
        "# Process the next batch from 10,001 to 20,000\n",
        "process_gifs_from_id(40001)"
      ],
      "metadata": {
        "id": "MRpjVUH31lAi",
        "outputId": "785489fa-0d1f-463f-912e-028df3db73a8",
        "colab": {
          "base_uri": "https://localhost:8080/"
        }
      },
      "execution_count": 16,
      "outputs": [
        {
          "output_type": "stream",
          "name": "stdout",
          "text": [
            "          ID                                              links  \\\n",
            "40000  40001  https://37.media.tumblr.com/6548f98d405d031732...   \n",
            "40001  40002  https://33.media.tumblr.com/731741f3712650e78c...   \n",
            "40002  40003  https://38.media.tumblr.com/2025279d45fe89209d...   \n",
            "40003  40004  https://33.media.tumblr.com/61406fb0e62e9b82f4...   \n",
            "40004  40005  https://33.media.tumblr.com/4cf042d3dd77c9f0fe...   \n",
            "...      ...                                                ...   \n",
            "49995  49996  https://33.media.tumblr.com/6b616537e19696cabf...   \n",
            "49996  49997  https://31.media.tumblr.com/625bb406ee01c285b8...   \n",
            "49997  49998  https://31.media.tumblr.com/75c7676c81ad45ba8b...   \n",
            "49998  49999  https://31.media.tumblr.com/984bd3c51ae95cf65a...   \n",
            "49999  50000  https://31.media.tumblr.com/c83723f73113f06a09...   \n",
            "\n",
            "                                             description  Frame Count  \n",
            "40000             a woman gives a man and a child a kiss           17  \n",
            "40001      this is a woman closing her eyes and smiling.           23  \n",
            "40002           a lady is lying down and lifting a ball.           60  \n",
            "40003        a woman is jumping up and lands in a split.           24  \n",
            "40004  a man lifts his hand as he rolls his tongue in...           44  \n",
            "...                                                  ...          ...  \n",
            "49995  a guy has his mouth open and his hand up as it...           26  \n",
            "49996  a man is rubbing two plastic dinosaurs' heads ...           40  \n",
            "49997  two white women wearing dresses are talking to...           28  \n",
            "49998  a woman is holding a megaphone upwards while c...           33  \n",
            "49999            a woman is helping a boy put a coat on.           30  \n",
            "\n",
            "[10000 rows x 4 columns]\n",
            "Data saved to updated_csv_50000.tsv\n"
          ]
        }
      ]
    },
    {
      "cell_type": "code",
      "source": [
        "# Process the next batch from 10,001 to 20,000\n",
        "process_gifs_from_id(50001)"
      ],
      "metadata": {
        "id": "bCkzklV01mto",
        "outputId": "28b9a45f-c8ac-4cd3-982d-fc37316a2a37",
        "colab": {
          "base_uri": "https://localhost:8080/"
        }
      },
      "execution_count": 17,
      "outputs": [
        {
          "output_type": "stream",
          "name": "stdout",
          "text": [
            "Error processing https://33.media.tumblr.com/55b6b551c2326f4969cc200e8b2992e2/tumblr_nd6ypj326X1tk7w4eo1_500.gif: image has no palette\n",
            "          ID                                              links  \\\n",
            "50000  50001  https://33.media.tumblr.com/0ad9c307b0d60255ab...   \n",
            "50001  50002  https://33.media.tumblr.com/08ae973525b7adeeeb...   \n",
            "50002  50003  https://33.media.tumblr.com/0a3fa3435d0aacd9a9...   \n",
            "50003  50004  https://31.media.tumblr.com/aef378fcd7b1950cc5...   \n",
            "50004  50005  https://33.media.tumblr.com/2b1a535a85a62d7346...   \n",
            "...      ...                                                ...   \n",
            "59995  59996  https://33.media.tumblr.com/3dcb43494b710b09d6...   \n",
            "59996  59997  https://31.media.tumblr.com/73e3ec7683eaab3f79...   \n",
            "59997  59998  https://38.media.tumblr.com/b697d43240e913f4e0...   \n",
            "59998  59999  https://31.media.tumblr.com/bd87825dd7180e6cb4...   \n",
            "59999  60000  https://33.media.tumblr.com/1fd14a23357223ddf1...   \n",
            "\n",
            "                                             description Frame Count  \n",
            "50000  a soccer player wearing yellow is walking in t...          31  \n",
            "50001  a man is pushing away the man standing next to...          37  \n",
            "50002     a skateboarder is doing tricks in slow motion.          48  \n",
            "50003            an asian boy is punching with his hands          22  \n",
            "50004    a young girl puts on a white jacket and dances.          40  \n",
            "...                                                  ...         ...  \n",
            "59995  four girls are practicing a dance routine in a...          47  \n",
            "59996  the man stops his truck in the middle of the r...          78  \n",
            "59997  a woman wearing cat ears covers her face with ...          67  \n",
            "59998  a cat is jumping out of a box and attacking so...          40  \n",
            "59999               a young lady is smoking a cigarette.          22  \n",
            "\n",
            "[10000 rows x 4 columns]\n",
            "Data saved to updated_csv_60000.tsv\n"
          ]
        }
      ]
    },
    {
      "cell_type": "code",
      "source": [
        "# Process the next batch from 10,001 to 20,000\n",
        "process_gifs_from_id(60001)"
      ],
      "metadata": {
        "id": "BX3voU_333ba",
        "outputId": "46abb1b8-f191-4690-8149-60b71c8f25d9",
        "colab": {
          "base_uri": "https://localhost:8080/"
        }
      },
      "execution_count": 18,
      "outputs": [
        {
          "output_type": "stream",
          "name": "stdout",
          "text": [
            "Network error for https://38.media.tumblr.com/b169f4e3b96603031d808beda4be86a6/tumblr_nkuohvy4ff1qadfw9o1_400.gif: 502 Server Error: Bad Gateway for url: https://64.media.tumblr.com/b169f4e3b96603031d808beda4be86a6/tumblr_nkuohvy4ff1qadfw9o1_400.gif\n",
            "Network error for https://33.media.tumblr.com/4add60f0e4d5123b5b490f61592ea27a/tumblr_ndwjaaRuOU1s8r7lxo1_400.gif: 502 Server Error: Bad Gateway for url: https://64.media.tumblr.com/4add60f0e4d5123b5b490f61592ea27a/tumblr_ndwjaaRuOU1s8r7lxo1_400.gif\n",
            "          ID                                              links  \\\n",
            "60000  60001  https://33.media.tumblr.com/50b7e47d47ab0ba9e1...   \n",
            "60001  60002  https://33.media.tumblr.com/63df0f12cd4a921785...   \n",
            "60002  60003  https://38.media.tumblr.com/9fc04b54a0c1c34695...   \n",
            "60003  60004  https://38.media.tumblr.com/8ddb70cccdf949fcfb...   \n",
            "60004  60005  https://33.media.tumblr.com/2194f80ed464739bf0...   \n",
            "...      ...                                                ...   \n",
            "69995  69996  https://33.media.tumblr.com/906267b6578c33b41b...   \n",
            "69996  69997  https://38.media.tumblr.com/b2f10667c2ace15006...   \n",
            "69997  69998  https://38.media.tumblr.com/91bdb5b97cf0e1d649...   \n",
            "69998  69999  https://38.media.tumblr.com/141e5121293886c28b...   \n",
            "69999  70000  https://38.media.tumblr.com/a217388dd336eead12...   \n",
            "\n",
            "                                             description Frame Count  \n",
            "60000      a man laughs while a lady is pointing at him.          58  \n",
            "60001  a truck is driven through a mud puddle, next t...          50  \n",
            "60002  an older man has his arms raised and he is dan...          17  \n",
            "60003                  a cat jumps and climbs up a wall.          18  \n",
            "60004            a woman is on the floor doing stretches          33  \n",
            "...                                                  ...         ...  \n",
            "69995       a man is wearing a black jacket and talking.          80  \n",
            "69996  a woman in a shiny black catsuit is laying on ...          19  \n",
            "69997  a man looks down and slowly moves his head fro...          25  \n",
            "69998  a man is singing into a microphone and pointin...          49  \n",
            "69999         a dark haired woman looks down and smiles.          18  \n",
            "\n",
            "[10000 rows x 4 columns]\n",
            "Data saved to updated_csv_70000.tsv\n"
          ]
        }
      ]
    },
    {
      "cell_type": "code",
      "source": [
        "# Process the next batch from 10,001 to 20,000\n",
        "process_gifs_from_id(70001)"
      ],
      "metadata": {
        "id": "CyPIFiCv35F6",
        "outputId": "4dfbdaca-3848-40fb-a61f-91271d572f09",
        "colab": {
          "base_uri": "https://localhost:8080/"
        }
      },
      "execution_count": 19,
      "outputs": [
        {
          "output_type": "stream",
          "name": "stdout",
          "text": [
            "          ID                                              links  \\\n",
            "70000  70001  https://33.media.tumblr.com/c0987ba964de2b567f...   \n",
            "70001  70002  https://38.media.tumblr.com/75782a991fe7f37d39...   \n",
            "70002  70003  https://38.media.tumblr.com/96d3cc45c2b4213500...   \n",
            "70003  70004  https://33.media.tumblr.com/a963ead503037a67f8...   \n",
            "70004  70005  https://31.media.tumblr.com/259b1117c7a0e07b64...   \n",
            "...      ...                                                ...   \n",
            "79995  79996  https://38.media.tumblr.com/712403c0fcb2fa55bd...   \n",
            "79996  79997  https://38.media.tumblr.com/d901e76a8ae61ea443...   \n",
            "79997  79998  https://38.media.tumblr.com/d0e9a3907d8acc261f...   \n",
            "79998  79999  https://38.media.tumblr.com/01a11627847ffc664d...   \n",
            "79999  80000  https://33.media.tumblr.com/9f9c7fcaa5b256d94c...   \n",
            "\n",
            "                                             description  Frame Count  \n",
            "70000             a boy rubs his neck with headphone on.           24  \n",
            "70001            a young woman is looking at a snowflake          120  \n",
            "70002                    a man frowns and bites his lip.           55  \n",
            "70003              cat licking its feet whilst sat down.           78  \n",
            "70004            a woman with blond curly hair is crying           20  \n",
            "...                                                  ...          ...  \n",
            "79995  a man with a crooked eye takes a cigarette fro...           35  \n",
            "79996  two monkeys are sitting on a rock and eat bana...           89  \n",
            "79997      a person is singing while wearing a necklace.           29  \n",
            "79998          two women are talking and one is laughing           50  \n",
            "79999  a man is speaking to another man sitting and n...           53  \n",
            "\n",
            "[10000 rows x 4 columns]\n",
            "Data saved to updated_csv_80000.tsv\n"
          ]
        }
      ]
    },
    {
      "cell_type": "code",
      "source": [
        "# Process the next batch from 10,001 to 20,000\n",
        "process_gifs_from_id(80001)"
      ],
      "metadata": {
        "id": "l5eY8i7v-zJO",
        "outputId": "1edb35a0-1ebd-458b-facd-ebffd0beaef3",
        "colab": {
          "base_uri": "https://localhost:8080/"
        }
      },
      "execution_count": 20,
      "outputs": [
        {
          "output_type": "stream",
          "name": "stdout",
          "text": [
            "Network error for https://38.media.tumblr.com/b82ad15ed8404591aecd16d2ff0c51cf/tumblr_nbkigaAxRs1qej93ko1_500.gif: 502 Server Error: Bad Gateway for url: https://64.media.tumblr.com/b82ad15ed8404591aecd16d2ff0c51cf/tumblr_nbkigaAxRs1qej93ko1_500.gif\n",
            "          ID                                              links  \\\n",
            "80000  80001  https://38.media.tumblr.com/e2f9d28a4a195282d1...   \n",
            "80001  80002  https://38.media.tumblr.com/91960f513cf16bc4d3...   \n",
            "80002  80003  https://33.media.tumblr.com/8f7dab12832a5b430e...   \n",
            "80003  80004  https://38.media.tumblr.com/c57eb4430867086bf6...   \n",
            "80004  80005  https://38.media.tumblr.com/b221bcda6ecf17ccd7...   \n",
            "...      ...                                                ...   \n",
            "89730  89731  https://38.media.tumblr.com/62493b85c2e2a38b04...   \n",
            "89731  89732  https://31.media.tumblr.com/1213c26056c39e2e6a...   \n",
            "89732  89733  https://33.media.tumblr.com/0c4ca6f63e2065d6e4...   \n",
            "89733  89734  https://33.media.tumblr.com/d94f412610a6f58e59...   \n",
            "89734  89735  https://38.media.tumblr.com/3ad376c0605028a612...   \n",
            "\n",
            "                                             description Frame Count  \n",
            "80000  a man wearing a gray top sighs and rests his f...          40  \n",
            "80001            a guy bites his lip, smiles, and winks.          41  \n",
            "80002  a pair of woman are speaking while standing ne...          26  \n",
            "80003  a person is holding a fork and taking a piece ...          24  \n",
            "80004          a guy is sitting and falls out in outdoor          23  \n",
            "...                                                  ...         ...  \n",
            "89730  a man with long hair is playing his guitar on ...          27  \n",
            "89731  a weird person is hanging two spoons on her cheek          23  \n",
            "89732       a load of cats are going in and out of doors           1  \n",
            "89733  a man is having something white poured all ove...          28  \n",
            "89734  a man on stage at a concert holds his son and ...          20  \n",
            "\n",
            "[9735 rows x 4 columns]\n",
            "Data saved to updated_csv_90000.tsv\n"
          ]
        }
      ]
    }
  ]
}